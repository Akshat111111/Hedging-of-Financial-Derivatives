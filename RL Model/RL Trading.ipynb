{
 "cells": [
  {
   "cell_type": "markdown",
   "metadata": {},
   "source": [
    "# 0. Install and Import dependencies"
   ]
  },
  {
   "cell_type": "code",
   "execution_count": 1,
   "metadata": {
    "collapsed": true
   },
   "outputs": [
    {
     "name": "stdout",
     "output_type": "stream",
     "text": [
      "Requirement already satisfied: tensorflow-gpu==1.15.0 in c:\\users\\user\\appdata\\roaming\\python\\python37\\site-packages (1.15.0)\n",
      "Requirement already satisfied: tensorflow==1.15.0 in c:\\users\\user\\appdata\\roaming\\python\\python37\\site-packages (1.15.0)\n",
      "Requirement already satisfied: stable-baselines in c:\\programdata\\anaconda3\\lib\\site-packages (2.10.1)\n",
      "Requirement already satisfied: gym-anytrading in c:\\users\\user\\appdata\\roaming\\python\\python37\\site-packages (1.2.0)\n",
      "Requirement already satisfied: gym in c:\\programdata\\anaconda3\\lib\\site-packages (0.18.0)\n",
      "Requirement already satisfied: wrapt>=1.11.1 in c:\\users\\user\\appdata\\roaming\\python\\python37\\site-packages (from tensorflow-gpu==1.15.0) (1.12.1)\n",
      "Requirement already satisfied: protobuf>=3.6.1 in c:\\users\\user\\appdata\\roaming\\python\\python37\\site-packages (from tensorflow-gpu==1.15.0) (3.14.0)\n",
      "Requirement already satisfied: wheel>=0.26 in c:\\users\\user\\appdata\\roaming\\python\\python37\\site-packages (from tensorflow-gpu==1.15.0) (0.36.2)\n",
      "Requirement already satisfied: absl-py>=0.7.0 in c:\\users\\user\\appdata\\roaming\\python\\python37\\site-packages (from tensorflow-gpu==1.15.0) (0.11.0)\n",
      "Requirement already satisfied: grpcio>=1.8.6 in c:\\users\\user\\appdata\\roaming\\python\\python37\\site-packages (from tensorflow-gpu==1.15.0) (1.32.0)\n",
      "Requirement already satisfied: six>=1.10.0 in c:\\users\\user\\appdata\\roaming\\python\\python37\\site-packages (from tensorflow-gpu==1.15.0) (1.15.0)\n",
      "Requirement already satisfied: numpy<2.0,>=1.16.0 in c:\\users\\user\\appdata\\roaming\\python\\python37\\site-packages (from tensorflow-gpu==1.15.0) (1.18.5)\n",
      "Requirement already satisfied: keras-preprocessing>=1.0.5 in c:\\users\\user\\appdata\\roaming\\python\\python37\\site-packages (from tensorflow-gpu==1.15.0) (1.1.2)\n",
      "Requirement already satisfied: tensorflow-estimator==1.15.1 in c:\\users\\user\\appdata\\roaming\\python\\python37\\site-packages (from tensorflow-gpu==1.15.0) (1.15.1)\n",
      "Requirement already satisfied: termcolor>=1.1.0 in c:\\users\\user\\appdata\\roaming\\python\\python37\\site-packages (from tensorflow-gpu==1.15.0) (1.1.0)\n",
      "Requirement already satisfied: opt-einsum>=2.3.2 in c:\\users\\user\\appdata\\roaming\\python\\python37\\site-packages (from tensorflow-gpu==1.15.0) (3.3.0)\n",
      "Requirement already satisfied: gast==0.2.2 in c:\\users\\user\\appdata\\roaming\\python\\python37\\site-packages (from tensorflow-gpu==1.15.0) (0.2.2)\n",
      "Requirement already satisfied: google-pasta>=0.1.6 in c:\\users\\user\\appdata\\roaming\\python\\python37\\site-packages (from tensorflow-gpu==1.15.0) (0.2.0)\n",
      "Requirement already satisfied: astor>=0.6.0 in c:\\programdata\\anaconda3\\lib\\site-packages (from tensorflow-gpu==1.15.0) (0.8.1)\n",
      "Requirement already satisfied: keras-applications>=1.0.8 in c:\\programdata\\anaconda3\\lib\\site-packages (from tensorflow-gpu==1.15.0) (1.0.8)\n",
      "Requirement already satisfied: tensorboard<1.16.0,>=1.15.0 in c:\\users\\user\\appdata\\roaming\\python\\python37\\site-packages (from tensorflow-gpu==1.15.0) (1.15.0)\n",
      "Requirement already satisfied: scipy in c:\\programdata\\anaconda3\\lib\\site-packages (from stable-baselines) (1.2.1)\n",
      "Requirement already satisfied: cloudpickle>=0.5.5 in c:\\programdata\\anaconda3\\lib\\site-packages (from stable-baselines) (1.2.1)\n",
      "Requirement already satisfied: pandas in c:\\programdata\\anaconda3\\lib\\site-packages (from stable-baselines) (0.24.2)\n",
      "Requirement already satisfied: opencv-python in c:\\programdata\\anaconda3\\lib\\site-packages (from stable-baselines) (4.5.1.48)\n",
      "Requirement already satisfied: joblib in c:\\programdata\\anaconda3\\lib\\site-packages (from stable-baselines) (0.13.2)\n",
      "Requirement already satisfied: matplotlib in c:\\users\\user\\appdata\\roaming\\python\\python37\\site-packages (from stable-baselines) (3.2.2)\n",
      "Requirement already satisfied: pyglet<=1.5.0,>=1.4.0 in c:\\programdata\\anaconda3\\lib\\site-packages (from gym) (1.5.0)\n",
      "Requirement already satisfied: Pillow<=7.2.0 in c:\\users\\user\\appdata\\roaming\\python\\python37\\site-packages (from gym) (7.2.0)\n",
      "Requirement already satisfied: h5py in c:\\users\\user\\appdata\\roaming\\python\\python37\\site-packages (from keras-applications>=1.0.8->tensorflow-gpu==1.15.0) (2.10.0)\n",
      "Requirement already satisfied: werkzeug>=0.11.15 in c:\\programdata\\anaconda3\\lib\\site-packages (from tensorboard<1.16.0,>=1.15.0->tensorflow-gpu==1.15.0) (0.15.4)\n",
      "Requirement already satisfied: setuptools>=41.0.0 in c:\\programdata\\anaconda3\\lib\\site-packages (from tensorboard<1.16.0,>=1.15.0->tensorflow-gpu==1.15.0) (41.0.1)\n",
      "Requirement already satisfied: markdown>=2.6.8 in c:\\users\\user\\appdata\\roaming\\python\\python37\\site-packages (from tensorboard<1.16.0,>=1.15.0->tensorflow-gpu==1.15.0) (3.3.3)\n",
      "Requirement already satisfied: python-dateutil>=2.5.0 in c:\\programdata\\anaconda3\\lib\\site-packages (from pandas->stable-baselines) (2.8.0)\n",
      "Requirement already satisfied: pytz>=2011k in c:\\programdata\\anaconda3\\lib\\site-packages (from pandas->stable-baselines) (2019.1)\n",
      "Requirement already satisfied: cycler>=0.10 in c:\\programdata\\anaconda3\\lib\\site-packages (from matplotlib->stable-baselines) (0.10.0)\n",
      "Requirement already satisfied: kiwisolver>=1.0.1 in c:\\programdata\\anaconda3\\lib\\site-packages (from matplotlib->stable-baselines) (1.1.0)\n",
      "Requirement already satisfied: pyparsing!=2.0.4,!=2.1.2,!=2.1.6,>=2.0.1 in c:\\programdata\\anaconda3\\lib\\site-packages (from matplotlib->stable-baselines) (2.4.0)\n",
      "Requirement already satisfied: future in c:\\users\\user\\appdata\\roaming\\python\\python37\\site-packages (from pyglet<=1.5.0,>=1.4.0->gym) (0.18.2)\n",
      "Requirement already satisfied: importlib-metadata; python_version < \"3.8\" in c:\\programdata\\anaconda3\\lib\\site-packages (from markdown>=2.6.8->tensorboard<1.16.0,>=1.15.0->tensorflow-gpu==1.15.0) (0.17)\n",
      "Requirement already satisfied: zipp>=0.5 in c:\\programdata\\anaconda3\\lib\\site-packages (from importlib-metadata; python_version < \"3.8\"->markdown>=2.6.8->tensorboard<1.16.0,>=1.15.0->tensorflow-gpu==1.15.0) (0.5.1)\n"
     ]
    }
   ],
   "source": [
    "!pip install tensorflow-gpu==1.15.0 tensorflow==1.15.0 stable-baselines gym-anytrading gym"
   ]
  },
  {
   "cell_type": "code",
   "execution_count": 2,
   "metadata": {},
   "outputs": [
    {
     "name": "stdout",
     "output_type": "stream",
     "text": [
      "WARNING:tensorflow:\n",
      "The TensorFlow contrib module will not be included in TensorFlow 2.0.\n",
      "For more information, please see:\n",
      "  * https://github.com/tensorflow/community/blob/master/rfcs/20180907-contrib-sunset.md\n",
      "  * https://github.com/tensorflow/addons\n",
      "  * https://github.com/tensorflow/io (for I/O related ops)\n",
      "If you depend on functionality not listed there, please file an issue.\n",
      "\n"
     ]
    }
   ],
   "source": [
    "# Gym stuff\n",
    "import gym\n",
    "import gym_anytrading\n",
    "\n",
    "# Stable baselines - rl stuff\n",
    "from stable_baselines.common.vec_env import DummyVecEnv\n",
    "from stable_baselines import A2C\n",
    "\n",
    "# Processing libraries\n",
    "import numpy as np\n",
    "import pandas as pd\n",
    "from matplotlib import pyplot as plt"
   ]
  },
  {
   "cell_type": "markdown",
   "metadata": {},
   "source": [
    "# 1. Bring in Marketwatch GME Data \n",
    "https://www.marketwatch.com/investing/stock/gme/download-data?startDate=11/1/2019&endDate=03/12/2021"
   ]
  },
  {
   "cell_type": "code",
   "execution_count": 5,
   "metadata": {},
   "outputs": [],
   "source": [
    "df = pd.read_csv('data/gmedata.csv')"
   ]
  },
  {
   "cell_type": "code",
   "execution_count": 6,
   "metadata": {},
   "outputs": [
    {
     "data": {
      "text/html": [
       "<div>\n",
       "<style scoped>\n",
       "    .dataframe tbody tr th:only-of-type {\n",
       "        vertical-align: middle;\n",
       "    }\n",
       "\n",
       "    .dataframe tbody tr th {\n",
       "        vertical-align: top;\n",
       "    }\n",
       "\n",
       "    .dataframe thead th {\n",
       "        text-align: right;\n",
       "    }\n",
       "</style>\n",
       "<table border=\"1\" class=\"dataframe\">\n",
       "  <thead>\n",
       "    <tr style=\"text-align: right;\">\n",
       "      <th></th>\n",
       "      <th>Date</th>\n",
       "      <th>Open</th>\n",
       "      <th>High</th>\n",
       "      <th>Low</th>\n",
       "      <th>Close</th>\n",
       "      <th>Volume</th>\n",
       "    </tr>\n",
       "  </thead>\n",
       "  <tbody>\n",
       "    <tr>\n",
       "      <th>0</th>\n",
       "      <td>03/12/2021</td>\n",
       "      <td>275.00</td>\n",
       "      <td>295.50</td>\n",
       "      <td>262.27</td>\n",
       "      <td>264.5</td>\n",
       "      <td>25,845,900</td>\n",
       "    </tr>\n",
       "    <tr>\n",
       "      <th>1</th>\n",
       "      <td>03/11/2021</td>\n",
       "      <td>241.64</td>\n",
       "      <td>281.50</td>\n",
       "      <td>232.60</td>\n",
       "      <td>260.0</td>\n",
       "      <td>28,312,490</td>\n",
       "    </tr>\n",
       "    <tr>\n",
       "      <th>2</th>\n",
       "      <td>03/10/2021</td>\n",
       "      <td>269.43</td>\n",
       "      <td>348.50</td>\n",
       "      <td>172.00</td>\n",
       "      <td>265.0</td>\n",
       "      <td>71,570,570</td>\n",
       "    </tr>\n",
       "    <tr>\n",
       "      <th>3</th>\n",
       "      <td>03/09/2021</td>\n",
       "      <td>217.71</td>\n",
       "      <td>249.85</td>\n",
       "      <td>208.51</td>\n",
       "      <td>246.9</td>\n",
       "      <td>39,099,328</td>\n",
       "    </tr>\n",
       "    <tr>\n",
       "      <th>4</th>\n",
       "      <td>03/08/2021</td>\n",
       "      <td>154.89</td>\n",
       "      <td>210.87</td>\n",
       "      <td>146.10</td>\n",
       "      <td>194.5</td>\n",
       "      <td>63,565,621</td>\n",
       "    </tr>\n",
       "  </tbody>\n",
       "</table>\n",
       "</div>"
      ],
      "text/plain": [
       "         Date    Open    High     Low  Close      Volume\n",
       "0  03/12/2021  275.00  295.50  262.27  264.5  25,845,900\n",
       "1  03/11/2021  241.64  281.50  232.60  260.0  28,312,490\n",
       "2  03/10/2021  269.43  348.50  172.00  265.0  71,570,570\n",
       "3  03/09/2021  217.71  249.85  208.51  246.9  39,099,328\n",
       "4  03/08/2021  154.89  210.87  146.10  194.5  63,565,621"
      ]
     },
     "execution_count": 6,
     "metadata": {},
     "output_type": "execute_result"
    }
   ],
   "source": [
    "df.head()"
   ]
  },
  {
   "cell_type": "code",
   "execution_count": 8,
   "metadata": {},
   "outputs": [
    {
     "data": {
      "text/plain": [
       "Date      datetime64[ns]\n",
       "Open             float64\n",
       "High             float64\n",
       "Low              float64\n",
       "Close            float64\n",
       "Volume            object\n",
       "dtype: object"
      ]
     },
     "execution_count": 8,
     "metadata": {},
     "output_type": "execute_result"
    }
   ],
   "source": [
    "df['Date'] = pd.to_datetime(df['Date'])\n",
    "df.dtypes"
   ]
  },
  {
   "cell_type": "code",
   "execution_count": 9,
   "metadata": {},
   "outputs": [
    {
     "data": {
      "text/html": [
       "<div>\n",
       "<style scoped>\n",
       "    .dataframe tbody tr th:only-of-type {\n",
       "        vertical-align: middle;\n",
       "    }\n",
       "\n",
       "    .dataframe tbody tr th {\n",
       "        vertical-align: top;\n",
       "    }\n",
       "\n",
       "    .dataframe thead th {\n",
       "        text-align: right;\n",
       "    }\n",
       "</style>\n",
       "<table border=\"1\" class=\"dataframe\">\n",
       "  <thead>\n",
       "    <tr style=\"text-align: right;\">\n",
       "      <th></th>\n",
       "      <th>Open</th>\n",
       "      <th>High</th>\n",
       "      <th>Low</th>\n",
       "      <th>Close</th>\n",
       "      <th>Volume</th>\n",
       "    </tr>\n",
       "    <tr>\n",
       "      <th>Date</th>\n",
       "      <th></th>\n",
       "      <th></th>\n",
       "      <th></th>\n",
       "      <th></th>\n",
       "      <th></th>\n",
       "    </tr>\n",
       "  </thead>\n",
       "  <tbody>\n",
       "    <tr>\n",
       "      <th>2021-03-12</th>\n",
       "      <td>275.00</td>\n",
       "      <td>295.50</td>\n",
       "      <td>262.27</td>\n",
       "      <td>264.5</td>\n",
       "      <td>25,845,900</td>\n",
       "    </tr>\n",
       "    <tr>\n",
       "      <th>2021-03-11</th>\n",
       "      <td>241.64</td>\n",
       "      <td>281.50</td>\n",
       "      <td>232.60</td>\n",
       "      <td>260.0</td>\n",
       "      <td>28,312,490</td>\n",
       "    </tr>\n",
       "    <tr>\n",
       "      <th>2021-03-10</th>\n",
       "      <td>269.43</td>\n",
       "      <td>348.50</td>\n",
       "      <td>172.00</td>\n",
       "      <td>265.0</td>\n",
       "      <td>71,570,570</td>\n",
       "    </tr>\n",
       "    <tr>\n",
       "      <th>2021-03-09</th>\n",
       "      <td>217.71</td>\n",
       "      <td>249.85</td>\n",
       "      <td>208.51</td>\n",
       "      <td>246.9</td>\n",
       "      <td>39,099,328</td>\n",
       "    </tr>\n",
       "    <tr>\n",
       "      <th>2021-03-08</th>\n",
       "      <td>154.89</td>\n",
       "      <td>210.87</td>\n",
       "      <td>146.10</td>\n",
       "      <td>194.5</td>\n",
       "      <td>63,565,621</td>\n",
       "    </tr>\n",
       "  </tbody>\n",
       "</table>\n",
       "</div>"
      ],
      "text/plain": [
       "              Open    High     Low  Close      Volume\n",
       "Date                                                 \n",
       "2021-03-12  275.00  295.50  262.27  264.5  25,845,900\n",
       "2021-03-11  241.64  281.50  232.60  260.0  28,312,490\n",
       "2021-03-10  269.43  348.50  172.00  265.0  71,570,570\n",
       "2021-03-09  217.71  249.85  208.51  246.9  39,099,328\n",
       "2021-03-08  154.89  210.87  146.10  194.5  63,565,621"
      ]
     },
     "execution_count": 9,
     "metadata": {},
     "output_type": "execute_result"
    }
   ],
   "source": [
    "df.set_index('Date', inplace=True)\n",
    "df.head()"
   ]
  },
  {
   "cell_type": "code",
   "execution_count": 13,
   "metadata": {},
   "outputs": [],
   "source": [
    "env = gym.make('stocks-v0', df=df, frame_bound=(5,100), window_size=5)"
   ]
  },
  {
   "cell_type": "code",
   "execution_count": 15,
   "metadata": {
    "scrolled": true
   },
   "outputs": [
    {
     "data": {
      "text/plain": [
       "array([[ 2.6450e+02,  0.0000e+00],\n",
       "       [ 2.6000e+02, -4.5000e+00],\n",
       "       [ 2.6500e+02,  5.0000e+00],\n",
       "       [ 2.4690e+02, -1.8100e+01],\n",
       "       [ 1.9450e+02, -5.2400e+01],\n",
       "       [ 1.3774e+02, -5.6760e+01],\n",
       "       [ 1.3235e+02, -5.3900e+00],\n",
       "       [ 1.2418e+02, -8.1700e+00],\n",
       "       [ 1.1818e+02, -6.0000e+00],\n",
       "       [ 1.2040e+02,  2.2200e+00],\n",
       "       [ 1.0174e+02, -1.8660e+01],\n",
       "       [ 1.0873e+02,  6.9900e+00],\n",
       "       [ 9.1710e+01, -1.7020e+01],\n",
       "       [ 4.4970e+01, -4.6740e+01],\n",
       "       [ 4.6000e+01,  1.0300e+00],\n",
       "       [ 4.0590e+01, -5.4100e+00],\n",
       "       [ 4.0690e+01,  1.0000e-01],\n",
       "       [ 4.5940e+01,  5.2500e+00],\n",
       "       [ 4.9510e+01,  3.5700e+00],\n",
       "       [ 5.2400e+01,  2.8900e+00],\n",
       "       [ 5.1100e+01, -1.3000e+00],\n",
       "       [ 5.1200e+01,  1.0000e-01],\n",
       "       [ 5.0310e+01, -8.9000e-01],\n",
       "       [ 6.0000e+01,  9.6900e+00],\n",
       "       [ 6.3770e+01,  3.7700e+00],\n",
       "       [ 5.3500e+01, -1.0270e+01],\n",
       "       [ 9.2410e+01,  3.8910e+01],\n",
       "       [ 9.0000e+01, -2.4100e+00],\n",
       "       [ 2.2500e+02,  1.3500e+02],\n",
       "       [ 3.2500e+02,  1.0000e+02],\n",
       "       [ 1.9360e+02, -1.3140e+02],\n",
       "       [ 3.4751e+02,  1.5391e+02],\n",
       "       [ 1.4798e+02, -1.9953e+02],\n",
       "       [ 7.6790e+01, -7.1190e+01],\n",
       "       [ 6.5010e+01, -1.1780e+01],\n",
       "       [ 4.3030e+01, -2.1980e+01],\n",
       "       [ 3.9120e+01, -3.9100e+00],\n",
       "       [ 3.9360e+01,  2.4000e-01],\n",
       "       [ 3.5500e+01, -3.8600e+00],\n",
       "       [ 3.9910e+01,  4.4100e+00],\n",
       "       [ 3.1400e+01, -8.5100e+00],\n",
       "       [ 1.9950e+01, -1.1450e+01],\n",
       "       [ 1.9940e+01, -1.0000e-02],\n",
       "       [ 1.7690e+01, -2.2500e+00],\n",
       "       [ 1.8080e+01,  3.9000e-01],\n",
       "       [ 1.8360e+01,  2.8000e-01],\n",
       "       [ 1.7370e+01, -9.9000e-01],\n",
       "       [ 1.7250e+01, -1.2000e-01],\n",
       "       [ 1.8840e+01,  1.5900e+00],\n",
       "       [ 1.9260e+01,  4.2000e-01],\n",
       "       [ 1.9380e+01,  1.2000e-01],\n",
       "       [ 2.0990e+01,  1.6100e+00],\n",
       "       [ 2.0150e+01, -8.4000e-01],\n",
       "       [ 2.0570e+01,  4.2000e-01],\n",
       "       [ 1.9460e+01, -1.1100e+00],\n",
       "       [ 1.5530e+01, -3.9300e+00],\n",
       "       [ 1.5630e+01,  1.0000e-01],\n",
       "       [ 1.4830e+01, -8.0000e-01],\n",
       "       [ 1.3850e+01, -9.8000e-01],\n",
       "       [ 1.3850e+01,  0.0000e+00],\n",
       "       [ 1.2720e+01, -1.1300e+00],\n",
       "       [ 1.3310e+01,  5.9000e-01],\n",
       "       [ 1.4120e+01,  8.1000e-01],\n",
       "       [ 1.3660e+01, -4.6000e-01],\n",
       "       [ 1.6940e+01,  3.2800e+00],\n",
       "       [ 1.6350e+01, -5.9000e-01],\n",
       "       [ 1.6900e+01,  5.5000e-01],\n",
       "       [ 1.6120e+01, -7.8000e-01],\n",
       "       [ 1.6580e+01,  4.6000e-01],\n",
       "       [ 1.5800e+01, -7.8000e-01],\n",
       "       [ 1.6560e+01,  7.6000e-01],\n",
       "       [ 1.6080e+01, -4.8000e-01],\n",
       "       [ 1.4750e+01, -1.3300e+00],\n",
       "       [ 1.3670e+01, -1.0800e+00],\n",
       "       [ 1.3900e+01,  2.3000e-01],\n",
       "       [ 1.2710e+01, -1.1900e+00],\n",
       "       [ 1.2460e+01, -2.5000e-01],\n",
       "       [ 1.1570e+01, -8.9000e-01],\n",
       "       [ 1.1630e+01,  6.0000e-02],\n",
       "       [ 1.2060e+01,  4.3000e-01],\n",
       "       [ 1.1010e+01, -1.0500e+00],\n",
       "       [ 1.1130e+01,  1.2000e-01],\n",
       "       [ 1.1750e+01,  6.2000e-01],\n",
       "       [ 1.1100e+01, -6.5000e-01],\n",
       "       [ 1.1490e+01,  3.9000e-01],\n",
       "       [ 1.1860e+01,  3.7000e-01],\n",
       "       [ 1.1450e+01, -4.1000e-01],\n",
       "       [ 1.0910e+01, -5.4000e-01],\n",
       "       [ 1.1570e+01,  6.6000e-01],\n",
       "       [ 1.0750e+01, -8.2000e-01],\n",
       "       [ 1.0470e+01, -2.8000e-01],\n",
       "       [ 1.1730e+01,  1.2600e+00],\n",
       "       [ 1.1820e+01,  9.0000e-02],\n",
       "       [ 1.2690e+01,  8.7000e-01],\n",
       "       [ 1.3450e+01,  7.6000e-01],\n",
       "       [ 1.5000e+01,  1.5500e+00],\n",
       "       [ 1.4910e+01, -9.0000e-02],\n",
       "       [ 1.4100e+01, -8.1000e-01],\n",
       "       [ 1.3860e+01, -2.4000e-01],\n",
       "       [ 1.3910e+01,  5.0000e-02]])"
      ]
     },
     "execution_count": 15,
     "metadata": {},
     "output_type": "execute_result"
    }
   ],
   "source": [
    "env.signal_features"
   ]
  },
  {
   "cell_type": "markdown",
   "metadata": {},
   "source": [
    "# 2. Build Environment"
   ]
  },
  {
   "cell_type": "code",
   "execution_count": 17,
   "metadata": {},
   "outputs": [
    {
     "data": {
      "text/plain": [
       "Discrete(2)"
      ]
     },
     "execution_count": 17,
     "metadata": {},
     "output_type": "execute_result"
    }
   ],
   "source": [
    "env.action_space"
   ]
  },
  {
   "cell_type": "code",
   "execution_count": 16,
   "metadata": {},
   "outputs": [
    {
     "name": "stdout",
     "output_type": "stream",
     "text": [
      "info {'total_reward': 64.09000000000002, 'total_profit': 0.7841440186360266, 'position': 1}\n"
     ]
    },
    {
     "data": {
      "image/png": "[encoded data removed]",
      "text/plain": [
       "<Figure size 1080x432 with 1 Axes>"
      ]
     },
     "metadata": {
      "needs_background": "light"
     },
     "output_type": "display_data"
    }
   ],
   "source": [
    "state = env.reset()\n",
    "while True: \n",
    "    action = env.action_space.sample()\n",
    "    n_state, reward, done, info = env.step(action)\n",
    "    if done: \n",
    "        print(\"info\", info)\n",
    "        break\n",
    "        \n",
    "plt.figure(figsize=(15,6))\n",
    "plt.cla()\n",
    "env.render_all()\n",
    "plt.show()"
   ]
  },
  {
   "cell_type": "markdown",
   "metadata": {},
   "source": [
    "# 3. Build Environment and Train"
   ]
  },
  {
   "cell_type": "code",
   "execution_count": 18,
   "metadata": {},
   "outputs": [],
   "source": [
    "env_maker = lambda: gym.make('stocks-v0', df=df, frame_bound=(5,100), window_size=5)\n",
    "env = DummyVecEnv([env_maker])"
   ]
  },
  {
   "cell_type": "code",
   "execution_count": 34,
   "metadata": {
    "scrolled": true
   },
   "outputs": [
    {
     "name": "stdout",
     "output_type": "stream",
     "text": [
      "Wrapping the env in a DummyVecEnv.\n",
      "---------------------------------\n",
      "| explained_variance | 0.112    |\n",
      "| fps                | 27       |\n",
      "| nupdates           | 1        |\n",
      "| policy_entropy     | 0.692    |\n",
      "| total_timesteps    | 5        |\n",
      "| value_loss         | 2.28     |\n",
      "---------------------------------\n",
      "---------------------------------\n",
      "| explained_variance | 0.0877   |\n",
      "| fps                | 454      |\n",
      "| nupdates           | 100      |\n",
      "| policy_entropy     | 0.692    |\n",
      "| total_timesteps    | 500      |\n",
      "| value_loss         | 0.00127  |\n",
      "---------------------------------\n",
      "---------------------------------\n",
      "| explained_variance | 0.056    |\n",
      "| fps                | 490      |\n",
      "| nupdates           | 200      |\n",
      "| policy_entropy     | 0.693    |\n",
      "| total_timesteps    | 1000     |\n",
      "| value_loss         | 0.162    |\n",
      "---------------------------------\n",
      "---------------------------------\n",
      "| explained_variance | -26.8    |\n",
      "| fps                | 502      |\n",
      "| nupdates           | 300      |\n",
      "| policy_entropy     | 0.693    |\n",
      "| total_timesteps    | 1500     |\n",
      "| value_loss         | 0.000155 |\n",
      "---------------------------------\n",
      "---------------------------------\n",
      "| explained_variance | -1.07    |\n",
      "| fps                | 509      |\n",
      "| nupdates           | 400      |\n",
      "| policy_entropy     | 0.693    |\n",
      "| total_timesteps    | 2000     |\n",
      "| value_loss         | 9.54     |\n",
      "---------------------------------\n",
      "---------------------------------\n",
      "| explained_variance | -4.53    |\n",
      "| fps                | 514      |\n",
      "| nupdates           | 500      |\n",
      "| policy_entropy     | 0.693    |\n",
      "| total_timesteps    | 2500     |\n",
      "| value_loss         | 0.000328 |\n",
      "---------------------------------\n",
      "---------------------------------\n",
      "| explained_variance | -0.0447  |\n",
      "| fps                | 518      |\n",
      "| nupdates           | 600      |\n",
      "| policy_entropy     | 0.688    |\n",
      "| total_timesteps    | 3000     |\n",
      "| value_loss         | 0.0261   |\n",
      "---------------------------------\n",
      "---------------------------------\n",
      "| explained_variance | -0.537   |\n",
      "| fps                | 520      |\n",
      "| nupdates           | 700      |\n",
      "| policy_entropy     | 0.693    |\n",
      "| total_timesteps    | 3500     |\n",
      "| value_loss         | 0.0308   |\n",
      "---------------------------------\n",
      "---------------------------------\n",
      "| explained_variance | 0.152    |\n",
      "| fps                | 523      |\n",
      "| nupdates           | 800      |\n",
      "| policy_entropy     | 0.69     |\n",
      "| total_timesteps    | 4000     |\n",
      "| value_loss         | 0.0947   |\n",
      "---------------------------------\n",
      "---------------------------------\n",
      "| explained_variance | -0.168   |\n",
      "| fps                | 524      |\n",
      "| nupdates           | 900      |\n",
      "| policy_entropy     | 0.617    |\n",
      "| total_timesteps    | 4500     |\n",
      "| value_loss         | 0.0563   |\n",
      "---------------------------------\n",
      "---------------------------------\n",
      "| explained_variance | -0.801   |\n",
      "| fps                | 525      |\n",
      "| nupdates           | 1000     |\n",
      "| policy_entropy     | 0.636    |\n",
      "| total_timesteps    | 5000     |\n",
      "| value_loss         | 0.115    |\n",
      "---------------------------------\n",
      "---------------------------------\n",
      "| explained_variance | -0.172   |\n",
      "| fps                | 527      |\n",
      "| nupdates           | 1100     |\n",
      "| policy_entropy     | 0.627    |\n",
      "| total_timesteps    | 5500     |\n",
      "| value_loss         | 0.504    |\n",
      "---------------------------------\n",
      "---------------------------------\n",
      "| explained_variance | 0.217    |\n",
      "| fps                | 527      |\n",
      "| nupdates           | 1200     |\n",
      "| policy_entropy     | 0.691    |\n",
      "| total_timesteps    | 6000     |\n",
      "| value_loss         | 0.629    |\n",
      "---------------------------------\n",
      "---------------------------------\n",
      "| explained_variance | -0.011   |\n",
      "| fps                | 528      |\n",
      "| nupdates           | 1300     |\n",
      "| policy_entropy     | 0.556    |\n",
      "| total_timesteps    | 6500     |\n",
      "| value_loss         | 3.48     |\n",
      "---------------------------------\n",
      "---------------------------------\n",
      "| explained_variance | 0.204    |\n",
      "| fps                | 529      |\n",
      "| nupdates           | 1400     |\n",
      "| policy_entropy     | 0.679    |\n",
      "| total_timesteps    | 7000     |\n",
      "| value_loss         | 0.892    |\n",
      "---------------------------------\n",
      "---------------------------------\n",
      "| explained_variance | -1.2e+03 |\n",
      "| fps                | 529      |\n",
      "| nupdates           | 1500     |\n",
      "| policy_entropy     | 0.556    |\n",
      "| total_timesteps    | 7500     |\n",
      "| value_loss         | 0.0178   |\n",
      "---------------------------------\n",
      "---------------------------------\n",
      "| explained_variance | -5.12    |\n",
      "| fps                | 530      |\n",
      "| nupdates           | 1600     |\n",
      "| policy_entropy     | 0.384    |\n",
      "| total_timesteps    | 8000     |\n",
      "| value_loss         | 0.0238   |\n",
      "---------------------------------\n",
      "---------------------------------\n",
      "| explained_variance | 0.0393   |\n",
      "| fps                | 530      |\n",
      "| nupdates           | 1700     |\n",
      "| policy_entropy     | 0.638    |\n",
      "| total_timesteps    | 8500     |\n",
      "| value_loss         | 0.725    |\n",
      "---------------------------------\n",
      "---------------------------------\n",
      "| explained_variance | 0.169    |\n",
      "| fps                | 530      |\n",
      "| nupdates           | 1800     |\n",
      "| policy_entropy     | 0.494    |\n",
      "| total_timesteps    | 9000     |\n",
      "| value_loss         | 1.59     |\n",
      "---------------------------------\n",
      "---------------------------------\n",
      "| explained_variance | -0.0176  |\n",
      "| fps                | 531      |\n",
      "| nupdates           | 1900     |\n",
      "| policy_entropy     | 0.609    |\n",
      "| total_timesteps    | 9500     |\n",
      "| value_loss         | 0.881    |\n",
      "---------------------------------\n",
      "---------------------------------\n",
      "| explained_variance | 0.205    |\n",
      "| fps                | 531      |\n",
      "| nupdates           | 2000     |\n",
      "| policy_entropy     | 0.599    |\n",
      "| total_timesteps    | 10000    |\n",
      "| value_loss         | 0.194    |\n",
      "---------------------------------\n",
      "---------------------------------\n",
      "| explained_variance | -84      |\n",
      "| fps                | 531      |\n",
      "| nupdates           | 2100     |\n",
      "| policy_entropy     | 0.447    |\n",
      "| total_timesteps    | 10500    |\n",
      "| value_loss         | 0.000616 |\n",
      "---------------------------------\n",
      "---------------------------------\n",
      "| explained_variance | 0.0155   |\n",
      "| fps                | 531      |\n",
      "| nupdates           | 2200     |\n",
      "| policy_entropy     | 0.593    |\n",
      "| total_timesteps    | 11000    |\n",
      "| value_loss         | 0.812    |\n",
      "---------------------------------\n",
      "---------------------------------\n",
      "| explained_variance | 0.208    |\n",
      "| fps                | 532      |\n",
      "| nupdates           | 2300     |\n",
      "| policy_entropy     | 0.489    |\n",
      "| total_timesteps    | 11500    |\n",
      "| value_loss         | 0.298    |\n",
      "---------------------------------\n",
      "---------------------------------\n",
      "| explained_variance | 0.0635   |\n",
      "| fps                | 532      |\n",
      "| nupdates           | 2400     |\n",
      "| policy_entropy     | 0.41     |\n",
      "| total_timesteps    | 12000    |\n",
      "| value_loss         | 0.68     |\n",
      "---------------------------------\n",
      "---------------------------------\n",
      "| explained_variance | -96.8    |\n",
      "| fps                | 532      |\n",
      "| nupdates           | 2500     |\n",
      "| policy_entropy     | 0.314    |\n",
      "| total_timesteps    | 12500    |\n",
      "| value_loss         | 0.00619  |\n",
      "---------------------------------\n",
      "---------------------------------\n",
      "| explained_variance | -0.121   |\n",
      "| fps                | 532      |\n",
      "| nupdates           | 2600     |\n",
      "| policy_entropy     | 0.444    |\n",
      "| total_timesteps    | 13000    |\n",
      "| value_loss         | 1.23     |\n",
      "---------------------------------\n",
      "---------------------------------\n",
      "| explained_variance | -2.41    |\n",
      "| fps                | 532      |\n",
      "| nupdates           | 2700     |\n",
      "| policy_entropy     | 0.0403   |\n",
      "| total_timesteps    | 13500    |\n",
      "| value_loss         | 0.00241  |\n",
      "---------------------------------\n",
      "---------------------------------\n",
      "| explained_variance | 0.215    |\n",
      "| fps                | 532      |\n",
      "| nupdates           | 2800     |\n",
      "| policy_entropy     | 0.499    |\n",
      "| total_timesteps    | 14000    |\n",
      "| value_loss         | 0.287    |\n",
      "---------------------------------\n",
      "---------------------------------\n",
      "| explained_variance | 0.00763  |\n",
      "| fps                | 533      |\n",
      "| nupdates           | 2900     |\n",
      "| policy_entropy     | 0.31     |\n",
      "| total_timesteps    | 14500    |\n",
      "| value_loss         | 6.79     |\n",
      "---------------------------------\n"
     ]
    },
    {
     "name": "stdout",
     "output_type": "stream",
     "text": [
      "---------------------------------\n",
      "| explained_variance | 0.16     |\n",
      "| fps                | 533      |\n",
      "| nupdates           | 3000     |\n",
      "| policy_entropy     | 0.219    |\n",
      "| total_timesteps    | 15000    |\n",
      "| value_loss         | 0.534    |\n",
      "---------------------------------\n",
      "---------------------------------\n",
      "| explained_variance | -41.6    |\n",
      "| fps                | 533      |\n",
      "| nupdates           | 3100     |\n",
      "| policy_entropy     | 0.169    |\n",
      "| total_timesteps    | 15500    |\n",
      "| value_loss         | 0.0158   |\n",
      "---------------------------------\n",
      "---------------------------------\n",
      "| explained_variance | 0.903    |\n",
      "| fps                | 533      |\n",
      "| nupdates           | 3200     |\n",
      "| policy_entropy     | 0.179    |\n",
      "| total_timesteps    | 16000    |\n",
      "| value_loss         | 0.0276   |\n",
      "---------------------------------\n",
      "----------------------------------\n",
      "| explained_variance | -3.44e+03 |\n",
      "| fps                | 533       |\n",
      "| nupdates           | 3300      |\n",
      "| policy_entropy     | 0.063     |\n",
      "| total_timesteps    | 16500     |\n",
      "| value_loss         | 0.0168    |\n",
      "----------------------------------\n",
      "---------------------------------\n",
      "| explained_variance | 0.129    |\n",
      "| fps                | 533      |\n",
      "| nupdates           | 3400     |\n",
      "| policy_entropy     | 0.204    |\n",
      "| total_timesteps    | 17000    |\n",
      "| value_loss         | 0.0669   |\n",
      "---------------------------------\n"
     ]
    },
    {
     "ename": "KeyboardInterrupt",
     "evalue": "",
     "output_type": "error",
     "traceback": [
      "\u001b[1;31m---------------------------------------------------------------------------\u001b[0m",
      "\u001b[1;31mKeyboardInterrupt\u001b[0m                         Traceback (most recent call last)",
      "\u001b[1;32m<ipython-input-34-8f5a92d8b50b>\u001b[0m in \u001b[0;36m<module>\u001b[1;34m\u001b[0m\n\u001b[0;32m      1\u001b[0m \u001b[0mmodel\u001b[0m \u001b[1;33m=\u001b[0m \u001b[0mA2C\u001b[0m\u001b[1;33m(\u001b[0m\u001b[1;34m'MlpLstmPolicy'\u001b[0m\u001b[1;33m,\u001b[0m \u001b[0menv\u001b[0m\u001b[1;33m,\u001b[0m \u001b[0mverbose\u001b[0m\u001b[1;33m=\u001b[0m\u001b[1;36m1\u001b[0m\u001b[1;33m)\u001b[0m\u001b[1;33m\u001b[0m\u001b[1;33m\u001b[0m\u001b[0m\n\u001b[1;32m----> 2\u001b[1;33m \u001b[0mmodel\u001b[0m\u001b[1;33m.\u001b[0m\u001b[0mlearn\u001b[0m\u001b[1;33m(\u001b[0m\u001b[0mtotal_timesteps\u001b[0m\u001b[1;33m=\u001b[0m\u001b[1;36m1000000\u001b[0m\u001b[1;33m)\u001b[0m\u001b[1;33m\u001b[0m\u001b[1;33m\u001b[0m\u001b[0m\n\u001b[0m",
      "\u001b[1;32mC:\\ProgramData\\Anaconda3\\lib\\site-packages\\stable_baselines\\a2c\\a2c.py\u001b[0m in \u001b[0;36mlearn\u001b[1;34m(self, total_timesteps, callback, log_interval, tb_log_name, reset_num_timesteps)\u001b[0m\n\u001b[0;32m    261\u001b[0m                 \u001b[0mcallback\u001b[0m\u001b[1;33m.\u001b[0m\u001b[0mon_rollout_start\u001b[0m\u001b[1;33m(\u001b[0m\u001b[1;33m)\u001b[0m\u001b[1;33m\u001b[0m\u001b[1;33m\u001b[0m\u001b[0m\n\u001b[0;32m    262\u001b[0m                 \u001b[1;31m# true_reward is the reward without discount\u001b[0m\u001b[1;33m\u001b[0m\u001b[1;33m\u001b[0m\u001b[1;33m\u001b[0m\u001b[0m\n\u001b[1;32m--> 263\u001b[1;33m                 \u001b[0mrollout\u001b[0m \u001b[1;33m=\u001b[0m \u001b[0mself\u001b[0m\u001b[1;33m.\u001b[0m\u001b[0mrunner\u001b[0m\u001b[1;33m.\u001b[0m\u001b[0mrun\u001b[0m\u001b[1;33m(\u001b[0m\u001b[0mcallback\u001b[0m\u001b[1;33m)\u001b[0m\u001b[1;33m\u001b[0m\u001b[1;33m\u001b[0m\u001b[0m\n\u001b[0m\u001b[0;32m    264\u001b[0m                 \u001b[1;31m# unpack\u001b[0m\u001b[1;33m\u001b[0m\u001b[1;33m\u001b[0m\u001b[1;33m\u001b[0m\u001b[0m\n\u001b[0;32m    265\u001b[0m                 \u001b[0mobs\u001b[0m\u001b[1;33m,\u001b[0m \u001b[0mstates\u001b[0m\u001b[1;33m,\u001b[0m \u001b[0mrewards\u001b[0m\u001b[1;33m,\u001b[0m \u001b[0mmasks\u001b[0m\u001b[1;33m,\u001b[0m \u001b[0mactions\u001b[0m\u001b[1;33m,\u001b[0m \u001b[0mvalues\u001b[0m\u001b[1;33m,\u001b[0m \u001b[0mep_infos\u001b[0m\u001b[1;33m,\u001b[0m \u001b[0mtrue_reward\u001b[0m \u001b[1;33m=\u001b[0m \u001b[0mrollout\u001b[0m\u001b[1;33m\u001b[0m\u001b[1;33m\u001b[0m\u001b[0m\n",
      "\u001b[1;32mC:\\ProgramData\\Anaconda3\\lib\\site-packages\\stable_baselines\\common\\runners.py\u001b[0m in \u001b[0;36mrun\u001b[1;34m(self, callback)\u001b[0m\n\u001b[0;32m     46\u001b[0m         \u001b[0mself\u001b[0m\u001b[1;33m.\u001b[0m\u001b[0mcallback\u001b[0m \u001b[1;33m=\u001b[0m \u001b[0mcallback\u001b[0m\u001b[1;33m\u001b[0m\u001b[1;33m\u001b[0m\u001b[0m\n\u001b[0;32m     47\u001b[0m         \u001b[0mself\u001b[0m\u001b[1;33m.\u001b[0m\u001b[0mcontinue_training\u001b[0m \u001b[1;33m=\u001b[0m \u001b[1;32mTrue\u001b[0m\u001b[1;33m\u001b[0m\u001b[1;33m\u001b[0m\u001b[0m\n\u001b[1;32m---> 48\u001b[1;33m         \u001b[1;32mreturn\u001b[0m \u001b[0mself\u001b[0m\u001b[1;33m.\u001b[0m\u001b[0m_run\u001b[0m\u001b[1;33m(\u001b[0m\u001b[1;33m)\u001b[0m\u001b[1;33m\u001b[0m\u001b[1;33m\u001b[0m\u001b[0m\n\u001b[0m\u001b[0;32m     49\u001b[0m \u001b[1;33m\u001b[0m\u001b[0m\n\u001b[0;32m     50\u001b[0m     \u001b[1;33m@\u001b[0m\u001b[0mabstractmethod\u001b[0m\u001b[1;33m\u001b[0m\u001b[1;33m\u001b[0m\u001b[0m\n",
      "\u001b[1;32mC:\\ProgramData\\Anaconda3\\lib\\site-packages\\stable_baselines\\a2c\\a2c.py\u001b[0m in \u001b[0;36m_run\u001b[1;34m(self)\u001b[0m\n\u001b[0;32m    350\u001b[0m         \u001b[0mep_infos\u001b[0m \u001b[1;33m=\u001b[0m \u001b[1;33m[\u001b[0m\u001b[1;33m]\u001b[0m\u001b[1;33m\u001b[0m\u001b[1;33m\u001b[0m\u001b[0m\n\u001b[0;32m    351\u001b[0m         \u001b[1;32mfor\u001b[0m \u001b[0m_\u001b[0m \u001b[1;32min\u001b[0m \u001b[0mrange\u001b[0m\u001b[1;33m(\u001b[0m\u001b[0mself\u001b[0m\u001b[1;33m.\u001b[0m\u001b[0mn_steps\u001b[0m\u001b[1;33m)\u001b[0m\u001b[1;33m:\u001b[0m\u001b[1;33m\u001b[0m\u001b[1;33m\u001b[0m\u001b[0m\n\u001b[1;32m--> 352\u001b[1;33m             \u001b[0mactions\u001b[0m\u001b[1;33m,\u001b[0m \u001b[0mvalues\u001b[0m\u001b[1;33m,\u001b[0m \u001b[0mstates\u001b[0m\u001b[1;33m,\u001b[0m \u001b[0m_\u001b[0m \u001b[1;33m=\u001b[0m \u001b[0mself\u001b[0m\u001b[1;33m.\u001b[0m\u001b[0mmodel\u001b[0m\u001b[1;33m.\u001b[0m\u001b[0mstep\u001b[0m\u001b[1;33m(\u001b[0m\u001b[0mself\u001b[0m\u001b[1;33m.\u001b[0m\u001b[0mobs\u001b[0m\u001b[1;33m,\u001b[0m \u001b[0mself\u001b[0m\u001b[1;33m.\u001b[0m\u001b[0mstates\u001b[0m\u001b[1;33m,\u001b[0m \u001b[0mself\u001b[0m\u001b[1;33m.\u001b[0m\u001b[0mdones\u001b[0m\u001b[1;33m)\u001b[0m\u001b[1;33m\u001b[0m\u001b[1;33m\u001b[0m\u001b[0m\n\u001b[0m\u001b[0;32m    353\u001b[0m             \u001b[0mmb_obs\u001b[0m\u001b[1;33m.\u001b[0m\u001b[0mappend\u001b[0m\u001b[1;33m(\u001b[0m\u001b[0mnp\u001b[0m\u001b[1;33m.\u001b[0m\u001b[0mcopy\u001b[0m\u001b[1;33m(\u001b[0m\u001b[0mself\u001b[0m\u001b[1;33m.\u001b[0m\u001b[0mobs\u001b[0m\u001b[1;33m)\u001b[0m\u001b[1;33m)\u001b[0m\u001b[1;33m\u001b[0m\u001b[1;33m\u001b[0m\u001b[0m\n\u001b[0;32m    354\u001b[0m             \u001b[0mmb_actions\u001b[0m\u001b[1;33m.\u001b[0m\u001b[0mappend\u001b[0m\u001b[1;33m(\u001b[0m\u001b[0mactions\u001b[0m\u001b[1;33m)\u001b[0m\u001b[1;33m\u001b[0m\u001b[1;33m\u001b[0m\u001b[0m\n",
      "\u001b[1;32mC:\\ProgramData\\Anaconda3\\lib\\site-packages\\stable_baselines\\common\\policies.py\u001b[0m in \u001b[0;36mstep\u001b[1;34m(self, obs, state, mask, deterministic)\u001b[0m\n\u001b[0;32m    506\u001b[0m         \u001b[1;32melse\u001b[0m\u001b[1;33m:\u001b[0m\u001b[1;33m\u001b[0m\u001b[1;33m\u001b[0m\u001b[0m\n\u001b[0;32m    507\u001b[0m             return self.sess.run([self.action, self.value_flat, self.snew, self.neglogp],\n\u001b[1;32m--> 508\u001b[1;33m                                  {self.obs_ph: obs, self.states_ph: state, self.dones_ph: mask})\n\u001b[0m\u001b[0;32m    509\u001b[0m \u001b[1;33m\u001b[0m\u001b[0m\n\u001b[0;32m    510\u001b[0m     \u001b[1;32mdef\u001b[0m \u001b[0mproba_step\u001b[0m\u001b[1;33m(\u001b[0m\u001b[0mself\u001b[0m\u001b[1;33m,\u001b[0m \u001b[0mobs\u001b[0m\u001b[1;33m,\u001b[0m \u001b[0mstate\u001b[0m\u001b[1;33m=\u001b[0m\u001b[1;32mNone\u001b[0m\u001b[1;33m,\u001b[0m \u001b[0mmask\u001b[0m\u001b[1;33m=\u001b[0m\u001b[1;32mNone\u001b[0m\u001b[1;33m)\u001b[0m\u001b[1;33m:\u001b[0m\u001b[1;33m\u001b[0m\u001b[1;33m\u001b[0m\u001b[0m\n",
      "\u001b[1;32m~\\AppData\\Roaming\\Python\\Python37\\site-packages\\tensorflow_core\\python\\client\\session.py\u001b[0m in \u001b[0;36mrun\u001b[1;34m(self, fetches, feed_dict, options, run_metadata)\u001b[0m\n\u001b[0;32m    954\u001b[0m     \u001b[1;32mtry\u001b[0m\u001b[1;33m:\u001b[0m\u001b[1;33m\u001b[0m\u001b[1;33m\u001b[0m\u001b[0m\n\u001b[0;32m    955\u001b[0m       result = self._run(None, fetches, feed_dict, options_ptr,\n\u001b[1;32m--> 956\u001b[1;33m                          run_metadata_ptr)\n\u001b[0m\u001b[0;32m    957\u001b[0m       \u001b[1;32mif\u001b[0m \u001b[0mrun_metadata\u001b[0m\u001b[1;33m:\u001b[0m\u001b[1;33m\u001b[0m\u001b[1;33m\u001b[0m\u001b[0m\n\u001b[0;32m    958\u001b[0m         \u001b[0mproto_data\u001b[0m \u001b[1;33m=\u001b[0m \u001b[0mtf_session\u001b[0m\u001b[1;33m.\u001b[0m\u001b[0mTF_GetBuffer\u001b[0m\u001b[1;33m(\u001b[0m\u001b[0mrun_metadata_ptr\u001b[0m\u001b[1;33m)\u001b[0m\u001b[1;33m\u001b[0m\u001b[1;33m\u001b[0m\u001b[0m\n",
      "\u001b[1;32m~\\AppData\\Roaming\\Python\\Python37\\site-packages\\tensorflow_core\\python\\client\\session.py\u001b[0m in \u001b[0;36m_run\u001b[1;34m(self, handle, fetches, feed_dict, options, run_metadata)\u001b[0m\n\u001b[0;32m   1178\u001b[0m     \u001b[1;32mif\u001b[0m \u001b[0mfinal_fetches\u001b[0m \u001b[1;32mor\u001b[0m \u001b[0mfinal_targets\u001b[0m \u001b[1;32mor\u001b[0m \u001b[1;33m(\u001b[0m\u001b[0mhandle\u001b[0m \u001b[1;32mand\u001b[0m \u001b[0mfeed_dict_tensor\u001b[0m\u001b[1;33m)\u001b[0m\u001b[1;33m:\u001b[0m\u001b[1;33m\u001b[0m\u001b[1;33m\u001b[0m\u001b[0m\n\u001b[0;32m   1179\u001b[0m       results = self._do_run(handle, final_targets, final_fetches,\n\u001b[1;32m-> 1180\u001b[1;33m                              feed_dict_tensor, options, run_metadata)\n\u001b[0m\u001b[0;32m   1181\u001b[0m     \u001b[1;32melse\u001b[0m\u001b[1;33m:\u001b[0m\u001b[1;33m\u001b[0m\u001b[1;33m\u001b[0m\u001b[0m\n\u001b[0;32m   1182\u001b[0m       \u001b[0mresults\u001b[0m \u001b[1;33m=\u001b[0m \u001b[1;33m[\u001b[0m\u001b[1;33m]\u001b[0m\u001b[1;33m\u001b[0m\u001b[1;33m\u001b[0m\u001b[0m\n",
      "\u001b[1;32m~\\AppData\\Roaming\\Python\\Python37\\site-packages\\tensorflow_core\\python\\client\\session.py\u001b[0m in \u001b[0;36m_do_run\u001b[1;34m(self, handle, target_list, fetch_list, feed_dict, options, run_metadata)\u001b[0m\n\u001b[0;32m   1357\u001b[0m     \u001b[1;32mif\u001b[0m \u001b[0mhandle\u001b[0m \u001b[1;32mis\u001b[0m \u001b[1;32mNone\u001b[0m\u001b[1;33m:\u001b[0m\u001b[1;33m\u001b[0m\u001b[1;33m\u001b[0m\u001b[0m\n\u001b[0;32m   1358\u001b[0m       return self._do_call(_run_fn, feeds, fetches, targets, options,\n\u001b[1;32m-> 1359\u001b[1;33m                            run_metadata)\n\u001b[0m\u001b[0;32m   1360\u001b[0m     \u001b[1;32melse\u001b[0m\u001b[1;33m:\u001b[0m\u001b[1;33m\u001b[0m\u001b[1;33m\u001b[0m\u001b[0m\n\u001b[0;32m   1361\u001b[0m       \u001b[1;32mreturn\u001b[0m \u001b[0mself\u001b[0m\u001b[1;33m.\u001b[0m\u001b[0m_do_call\u001b[0m\u001b[1;33m(\u001b[0m\u001b[0m_prun_fn\u001b[0m\u001b[1;33m,\u001b[0m \u001b[0mhandle\u001b[0m\u001b[1;33m,\u001b[0m \u001b[0mfeeds\u001b[0m\u001b[1;33m,\u001b[0m \u001b[0mfetches\u001b[0m\u001b[1;33m)\u001b[0m\u001b[1;33m\u001b[0m\u001b[1;33m\u001b[0m\u001b[0m\n",
      "\u001b[1;32m~\\AppData\\Roaming\\Python\\Python37\\site-packages\\tensorflow_core\\python\\client\\session.py\u001b[0m in \u001b[0;36m_do_call\u001b[1;34m(self, fn, *args)\u001b[0m\n\u001b[0;32m   1363\u001b[0m   \u001b[1;32mdef\u001b[0m \u001b[0m_do_call\u001b[0m\u001b[1;33m(\u001b[0m\u001b[0mself\u001b[0m\u001b[1;33m,\u001b[0m \u001b[0mfn\u001b[0m\u001b[1;33m,\u001b[0m \u001b[1;33m*\u001b[0m\u001b[0margs\u001b[0m\u001b[1;33m)\u001b[0m\u001b[1;33m:\u001b[0m\u001b[1;33m\u001b[0m\u001b[1;33m\u001b[0m\u001b[0m\n\u001b[0;32m   1364\u001b[0m     \u001b[1;32mtry\u001b[0m\u001b[1;33m:\u001b[0m\u001b[1;33m\u001b[0m\u001b[1;33m\u001b[0m\u001b[0m\n\u001b[1;32m-> 1365\u001b[1;33m       \u001b[1;32mreturn\u001b[0m \u001b[0mfn\u001b[0m\u001b[1;33m(\u001b[0m\u001b[1;33m*\u001b[0m\u001b[0margs\u001b[0m\u001b[1;33m)\u001b[0m\u001b[1;33m\u001b[0m\u001b[1;33m\u001b[0m\u001b[0m\n\u001b[0m\u001b[0;32m   1366\u001b[0m     \u001b[1;32mexcept\u001b[0m \u001b[0merrors\u001b[0m\u001b[1;33m.\u001b[0m\u001b[0mOpError\u001b[0m \u001b[1;32mas\u001b[0m \u001b[0me\u001b[0m\u001b[1;33m:\u001b[0m\u001b[1;33m\u001b[0m\u001b[1;33m\u001b[0m\u001b[0m\n\u001b[0;32m   1367\u001b[0m       \u001b[0mmessage\u001b[0m \u001b[1;33m=\u001b[0m \u001b[0mcompat\u001b[0m\u001b[1;33m.\u001b[0m\u001b[0mas_text\u001b[0m\u001b[1;33m(\u001b[0m\u001b[0me\u001b[0m\u001b[1;33m.\u001b[0m\u001b[0mmessage\u001b[0m\u001b[1;33m)\u001b[0m\u001b[1;33m\u001b[0m\u001b[1;33m\u001b[0m\u001b[0m\n",
      "\u001b[1;32m~\\AppData\\Roaming\\Python\\Python37\\site-packages\\tensorflow_core\\python\\client\\session.py\u001b[0m in \u001b[0;36m_run_fn\u001b[1;34m(feed_dict, fetch_list, target_list, options, run_metadata)\u001b[0m\n\u001b[0;32m   1348\u001b[0m       \u001b[0mself\u001b[0m\u001b[1;33m.\u001b[0m\u001b[0m_extend_graph\u001b[0m\u001b[1;33m(\u001b[0m\u001b[1;33m)\u001b[0m\u001b[1;33m\u001b[0m\u001b[1;33m\u001b[0m\u001b[0m\n\u001b[0;32m   1349\u001b[0m       return self._call_tf_sessionrun(options, feed_dict, fetch_list,\n\u001b[1;32m-> 1350\u001b[1;33m                                       target_list, run_metadata)\n\u001b[0m\u001b[0;32m   1351\u001b[0m \u001b[1;33m\u001b[0m\u001b[0m\n\u001b[0;32m   1352\u001b[0m     \u001b[1;32mdef\u001b[0m \u001b[0m_prun_fn\u001b[0m\u001b[1;33m(\u001b[0m\u001b[0mhandle\u001b[0m\u001b[1;33m,\u001b[0m \u001b[0mfeed_dict\u001b[0m\u001b[1;33m,\u001b[0m \u001b[0mfetch_list\u001b[0m\u001b[1;33m)\u001b[0m\u001b[1;33m:\u001b[0m\u001b[1;33m\u001b[0m\u001b[1;33m\u001b[0m\u001b[0m\n",
      "\u001b[1;32m~\\AppData\\Roaming\\Python\\Python37\\site-packages\\tensorflow_core\\python\\client\\session.py\u001b[0m in \u001b[0;36m_call_tf_sessionrun\u001b[1;34m(self, options, feed_dict, fetch_list, target_list, run_metadata)\u001b[0m\n\u001b[0;32m   1441\u001b[0m     return tf_session.TF_SessionRun_wrapper(self._session, options, feed_dict,\n\u001b[0;32m   1442\u001b[0m                                             \u001b[0mfetch_list\u001b[0m\u001b[1;33m,\u001b[0m \u001b[0mtarget_list\u001b[0m\u001b[1;33m,\u001b[0m\u001b[1;33m\u001b[0m\u001b[1;33m\u001b[0m\u001b[0m\n\u001b[1;32m-> 1443\u001b[1;33m                                             run_metadata)\n\u001b[0m\u001b[0;32m   1444\u001b[0m \u001b[1;33m\u001b[0m\u001b[0m\n\u001b[0;32m   1445\u001b[0m   \u001b[1;32mdef\u001b[0m \u001b[0m_call_tf_sessionprun\u001b[0m\u001b[1;33m(\u001b[0m\u001b[0mself\u001b[0m\u001b[1;33m,\u001b[0m \u001b[0mhandle\u001b[0m\u001b[1;33m,\u001b[0m \u001b[0mfeed_dict\u001b[0m\u001b[1;33m,\u001b[0m \u001b[0mfetch_list\u001b[0m\u001b[1;33m)\u001b[0m\u001b[1;33m:\u001b[0m\u001b[1;33m\u001b[0m\u001b[1;33m\u001b[0m\u001b[0m\n",
      "\u001b[1;31mKeyboardInterrupt\u001b[0m: "
     ]
    }
   ],
   "source": [
    "model = A2C('MlpLstmPolicy', env, verbose=1) \n",
    "model.learn(total_timesteps=1000000)"
   ]
  },
  {
   "cell_type": "markdown",
   "metadata": {},
   "source": [
    "# 4. Evaluation"
   ]
  },
  {
   "cell_type": "code",
   "execution_count": 42,
   "metadata": {},
   "outputs": [
    {
     "name": "stdout",
     "output_type": "stream",
     "text": [
      "info {'total_reward': 1.8100000000000023, 'total_profit': 1.0550400909748883, 'position': 1}\n"
     ]
    }
   ],
   "source": [
    "env = gym.make('stocks-v0', df=df, frame_bound=(90,110), window_size=5)\n",
    "obs = env.reset()\n",
    "while True: \n",
    "    obs = obs[np.newaxis, ...]\n",
    "    action, _states = model.predict(obs)\n",
    "    obs, rewards, done, info = env.step(action)\n",
    "    if done:\n",
    "        print(\"info\", info)\n",
    "        break"
   ]
  },
  {
   "cell_type": "code",
   "execution_count": 43,
   "metadata": {},
   "outputs": [
    {
     "data": {
      "image/png": "[encoded data removed]",
      "text/plain": [
       "<Figure size 1080x432 with 1 Axes>"
      ]
     },
     "metadata": {
      "needs_background": "light"
     },
     "output_type": "display_data"
    }
   ],
   "source": [
    "plt.figure(figsize=(15,6))\n",
    "plt.cla()\n",
    "env.render_all()\n",
    "plt.show()"
   ]
  },
  {
   "cell_type": "code",
   "execution_count": null,
   "metadata": {},
   "outputs": [],
   "source": []
  }
 ],
 "metadata": {
  "kernelspec": {
   "display_name": "Python 3",
   "language": "python",
   "name": "python3"
  },
  "language_info": {
   "codemirror_mode": {
    "name": "ipython",
    "version": 3
   },
   "file_extension": ".py",
   "mimetype": "text/x-python",
   "name": "python",
   "nbconvert_exporter": "python",
   "pygments_lexer": "ipython3",
   "version": "3.7.3"
  }
 },
 "nbformat": 4,
 "nbformat_minor": 2
}
