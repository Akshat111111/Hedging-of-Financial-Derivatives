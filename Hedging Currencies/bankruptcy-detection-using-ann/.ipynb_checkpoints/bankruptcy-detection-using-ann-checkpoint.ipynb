{
 "cells": [
  {
   "cell_type": "code",
   "execution_count": 1,
   "id": "c6dfa36d",
   "metadata": {
    "_cell_guid": "b1076dfc-b9ad-4769-8c92-a6c4dae69d19",
    "_uuid": "8f2839f25d086af736a60e9eeb907d3b93b6e0e5",
    "execution": {
     "iopub.execute_input": "2024-03-21T08:03:12.541436Z",
     "iopub.status.busy": "2024-03-21T08:03:12.541118Z",
     "iopub.status.idle": "2024-03-21T08:03:15.040994Z",
     "shell.execute_reply": "2024-03-21T08:03:15.040150Z"
    },
    "papermill": {
     "duration": 2.512459,
     "end_time": "2024-03-21T08:03:15.043571",
     "exception": false,
     "start_time": "2024-03-21T08:03:12.531112",
     "status": "completed"
    },
    "tags": []
   },
   "outputs": [],
   "source": [
    "import pandas as pd\n",
    "from sklearn.model_selection import train_test_split\n",
    "from sklearn.preprocessing import StandardScaler\n",
    "import numpy as np\n",
    "import matplotlib.pyplot as plt"
   ]
  },
  {
   "cell_type": "code",
   "execution_count": 2,
   "id": "a152971a",
   "metadata": {
    "execution": {
     "iopub.execute_input": "2024-03-21T08:03:15.080106Z",
     "iopub.status.busy": "2024-03-21T08:03:15.079425Z",
     "iopub.status.idle": "2024-03-21T08:03:15.499561Z",
     "shell.execute_reply": "2024-03-21T08:03:15.498471Z"
    },
    "papermill": {
     "duration": 0.43373,
     "end_time": "2024-03-21T08:03:15.502657",
     "exception": false,
     "start_time": "2024-03-21T08:03:15.068927",
     "status": "completed"
    },
    "tags": []
   },
   "outputs": [
    {
     "data": {
      "text/html": [
       "<div>\n",
       "<style scoped>\n",
       "    .dataframe tbody tr th:only-of-type {\n",
       "        vertical-align: middle;\n",
       "    }\n",
       "\n",
       "    .dataframe tbody tr th {\n",
       "        vertical-align: top;\n",
       "    }\n",
       "\n",
       "    .dataframe thead th {\n",
       "        text-align: right;\n",
       "    }\n",
       "</style>\n",
       "<table border=\"1\" class=\"dataframe\">\n",
       "  <thead>\n",
       "    <tr style=\"text-align: right;\">\n",
       "      <th></th>\n",
       "      <th>Bankrupt?</th>\n",
       "      <th>ROA(C) before interest and depreciation before interest</th>\n",
       "      <th>ROA(A) before interest and % after tax</th>\n",
       "      <th>ROA(B) before interest and depreciation after tax</th>\n",
       "      <th>Operating Gross Margin</th>\n",
       "      <th>Realized Sales Gross Margin</th>\n",
       "      <th>Operating Profit Rate</th>\n",
       "      <th>Pre-tax net Interest Rate</th>\n",
       "      <th>After-tax net Interest Rate</th>\n",
       "      <th>Non-industry income and expenditure/revenue</th>\n",
       "      <th>...</th>\n",
       "      <th>Net Income to Total Assets</th>\n",
       "      <th>Total assets to GNP price</th>\n",
       "      <th>No-credit Interval</th>\n",
       "      <th>Gross Profit to Sales</th>\n",
       "      <th>Net Income to Stockholder's Equity</th>\n",
       "      <th>Liability to Equity</th>\n",
       "      <th>Degree of Financial Leverage (DFL)</th>\n",
       "      <th>Interest Coverage Ratio (Interest expense to EBIT)</th>\n",
       "      <th>Net Income Flag</th>\n",
       "      <th>Equity to Liability</th>\n",
       "    </tr>\n",
       "  </thead>\n",
       "  <tbody>\n",
       "    <tr>\n",
       "      <th>4919</th>\n",
       "      <td>0</td>\n",
       "      <td>0.476527</td>\n",
       "      <td>0.512593</td>\n",
       "      <td>0.525028</td>\n",
       "      <td>0.601796</td>\n",
       "      <td>0.601796</td>\n",
       "      <td>0.998877</td>\n",
       "      <td>0.797240</td>\n",
       "      <td>0.809205</td>\n",
       "      <td>0.303455</td>\n",
       "      <td>...</td>\n",
       "      <td>0.776521</td>\n",
       "      <td>0.001301</td>\n",
       "      <td>0.623726</td>\n",
       "      <td>0.601791</td>\n",
       "      <td>0.835530</td>\n",
       "      <td>0.301531</td>\n",
       "      <td>0.026345</td>\n",
       "      <td>0.561474</td>\n",
       "      <td>1</td>\n",
       "      <td>0.013837</td>\n",
       "    </tr>\n",
       "    <tr>\n",
       "      <th>6534</th>\n",
       "      <td>0</td>\n",
       "      <td>0.539317</td>\n",
       "      <td>0.608537</td>\n",
       "      <td>0.616093</td>\n",
       "      <td>0.626277</td>\n",
       "      <td>0.626277</td>\n",
       "      <td>0.999161</td>\n",
       "      <td>0.797553</td>\n",
       "      <td>0.809517</td>\n",
       "      <td>0.303409</td>\n",
       "      <td>...</td>\n",
       "      <td>0.840218</td>\n",
       "      <td>0.003018</td>\n",
       "      <td>0.623973</td>\n",
       "      <td>0.626277</td>\n",
       "      <td>0.842805</td>\n",
       "      <td>0.277066</td>\n",
       "      <td>0.026819</td>\n",
       "      <td>0.565287</td>\n",
       "      <td>1</td>\n",
       "      <td>0.050817</td>\n",
       "    </tr>\n",
       "    <tr>\n",
       "      <th>5412</th>\n",
       "      <td>0</td>\n",
       "      <td>0.499976</td>\n",
       "      <td>0.562527</td>\n",
       "      <td>0.546764</td>\n",
       "      <td>0.597825</td>\n",
       "      <td>0.597825</td>\n",
       "      <td>0.999004</td>\n",
       "      <td>0.797411</td>\n",
       "      <td>0.809329</td>\n",
       "      <td>0.303490</td>\n",
       "      <td>...</td>\n",
       "      <td>0.810082</td>\n",
       "      <td>0.000998</td>\n",
       "      <td>0.623986</td>\n",
       "      <td>0.597824</td>\n",
       "      <td>0.841885</td>\n",
       "      <td>0.286871</td>\n",
       "      <td>0.026951</td>\n",
       "      <td>0.565820</td>\n",
       "      <td>1</td>\n",
       "      <td>0.018173</td>\n",
       "    </tr>\n",
       "    <tr>\n",
       "      <th>3126</th>\n",
       "      <td>0</td>\n",
       "      <td>0.495686</td>\n",
       "      <td>0.541648</td>\n",
       "      <td>0.543070</td>\n",
       "      <td>0.616029</td>\n",
       "      <td>0.615878</td>\n",
       "      <td>0.998996</td>\n",
       "      <td>0.797416</td>\n",
       "      <td>0.809337</td>\n",
       "      <td>0.303515</td>\n",
       "      <td>...</td>\n",
       "      <td>0.797926</td>\n",
       "      <td>0.001930</td>\n",
       "      <td>0.622852</td>\n",
       "      <td>0.616026</td>\n",
       "      <td>0.840316</td>\n",
       "      <td>0.288099</td>\n",
       "      <td>0.029488</td>\n",
       "      <td>0.568779</td>\n",
       "      <td>1</td>\n",
       "      <td>0.017446</td>\n",
       "    </tr>\n",
       "    <tr>\n",
       "      <th>6748</th>\n",
       "      <td>0</td>\n",
       "      <td>0.481353</td>\n",
       "      <td>0.549226</td>\n",
       "      <td>0.531720</td>\n",
       "      <td>0.609471</td>\n",
       "      <td>0.609471</td>\n",
       "      <td>0.999124</td>\n",
       "      <td>0.797522</td>\n",
       "      <td>0.809418</td>\n",
       "      <td>0.303431</td>\n",
       "      <td>...</td>\n",
       "      <td>0.807109</td>\n",
       "      <td>0.004311</td>\n",
       "      <td>0.622392</td>\n",
       "      <td>0.609469</td>\n",
       "      <td>0.841296</td>\n",
       "      <td>0.284282</td>\n",
       "      <td>0.026819</td>\n",
       "      <td>0.565286</td>\n",
       "      <td>1</td>\n",
       "      <td>0.020315</td>\n",
       "    </tr>\n",
       "    <tr>\n",
       "      <th>1514</th>\n",
       "      <td>0</td>\n",
       "      <td>0.485058</td>\n",
       "      <td>0.546010</td>\n",
       "      <td>0.532737</td>\n",
       "      <td>0.608909</td>\n",
       "      <td>0.608909</td>\n",
       "      <td>0.998975</td>\n",
       "      <td>0.797396</td>\n",
       "      <td>0.809318</td>\n",
       "      <td>0.303524</td>\n",
       "      <td>...</td>\n",
       "      <td>0.803121</td>\n",
       "      <td>0.000572</td>\n",
       "      <td>0.623765</td>\n",
       "      <td>0.608907</td>\n",
       "      <td>0.840812</td>\n",
       "      <td>0.283573</td>\n",
       "      <td>0.026852</td>\n",
       "      <td>0.565431</td>\n",
       "      <td>1</td>\n",
       "      <td>0.021119</td>\n",
       "    </tr>\n",
       "    <tr>\n",
       "      <th>1736</th>\n",
       "      <td>0</td>\n",
       "      <td>0.422659</td>\n",
       "      <td>0.451483</td>\n",
       "      <td>0.479737</td>\n",
       "      <td>0.604412</td>\n",
       "      <td>0.604412</td>\n",
       "      <td>0.998654</td>\n",
       "      <td>0.796686</td>\n",
       "      <td>0.808744</td>\n",
       "      <td>0.302955</td>\n",
       "      <td>...</td>\n",
       "      <td>0.750507</td>\n",
       "      <td>0.000512</td>\n",
       "      <td>0.623656</td>\n",
       "      <td>0.604413</td>\n",
       "      <td>0.836094</td>\n",
       "      <td>0.280583</td>\n",
       "      <td>0.026753</td>\n",
       "      <td>0.564970</td>\n",
       "      <td>1</td>\n",
       "      <td>0.026634</td>\n",
       "    </tr>\n",
       "    <tr>\n",
       "      <th>5253</th>\n",
       "      <td>0</td>\n",
       "      <td>0.460830</td>\n",
       "      <td>0.495857</td>\n",
       "      <td>0.493121</td>\n",
       "      <td>0.609932</td>\n",
       "      <td>0.609932</td>\n",
       "      <td>0.998915</td>\n",
       "      <td>0.797335</td>\n",
       "      <td>0.809231</td>\n",
       "      <td>0.303542</td>\n",
       "      <td>...</td>\n",
       "      <td>0.773351</td>\n",
       "      <td>0.000127</td>\n",
       "      <td>0.623777</td>\n",
       "      <td>0.609929</td>\n",
       "      <td>0.838357</td>\n",
       "      <td>0.278801</td>\n",
       "      <td>0.026791</td>\n",
       "      <td>0.565158</td>\n",
       "      <td>1</td>\n",
       "      <td>0.033731</td>\n",
       "    </tr>\n",
       "    <tr>\n",
       "      <th>3569</th>\n",
       "      <td>0</td>\n",
       "      <td>0.580851</td>\n",
       "      <td>0.607501</td>\n",
       "      <td>0.621018</td>\n",
       "      <td>0.609248</td>\n",
       "      <td>0.609248</td>\n",
       "      <td>0.999102</td>\n",
       "      <td>0.797600</td>\n",
       "      <td>0.809480</td>\n",
       "      <td>0.303613</td>\n",
       "      <td>...</td>\n",
       "      <td>0.837630</td>\n",
       "      <td>0.001906</td>\n",
       "      <td>0.623761</td>\n",
       "      <td>0.609247</td>\n",
       "      <td>0.842853</td>\n",
       "      <td>0.277791</td>\n",
       "      <td>0.026806</td>\n",
       "      <td>0.565230</td>\n",
       "      <td>1</td>\n",
       "      <td>0.041364</td>\n",
       "    </tr>\n",
       "    <tr>\n",
       "      <th>1764</th>\n",
       "      <td>0</td>\n",
       "      <td>0.444401</td>\n",
       "      <td>0.504579</td>\n",
       "      <td>0.494298</td>\n",
       "      <td>0.600946</td>\n",
       "      <td>0.601075</td>\n",
       "      <td>0.998986</td>\n",
       "      <td>0.797145</td>\n",
       "      <td>0.809100</td>\n",
       "      <td>0.303062</td>\n",
       "      <td>...</td>\n",
       "      <td>0.778286</td>\n",
       "      <td>0.006121</td>\n",
       "      <td>0.624362</td>\n",
       "      <td>0.600946</td>\n",
       "      <td>0.838986</td>\n",
       "      <td>0.276670</td>\n",
       "      <td>0.026669</td>\n",
       "      <td>0.564499</td>\n",
       "      <td>1</td>\n",
       "      <td>0.058896</td>\n",
       "    </tr>\n",
       "  </tbody>\n",
       "</table>\n",
       "<p>10 rows × 96 columns</p>\n",
       "</div>"
      ],
      "text/plain": [
       "      Bankrupt?   ROA(C) before interest and depreciation before interest  \\\n",
       "4919          0                                           0.476527          \n",
       "6534          0                                           0.539317          \n",
       "5412          0                                           0.499976          \n",
       "3126          0                                           0.495686          \n",
       "6748          0                                           0.481353          \n",
       "1514          0                                           0.485058          \n",
       "1736          0                                           0.422659          \n",
       "5253          0                                           0.460830          \n",
       "3569          0                                           0.580851          \n",
       "1764          0                                           0.444401          \n",
       "\n",
       "       ROA(A) before interest and % after tax  \\\n",
       "4919                                 0.512593   \n",
       "6534                                 0.608537   \n",
       "5412                                 0.562527   \n",
       "3126                                 0.541648   \n",
       "6748                                 0.549226   \n",
       "1514                                 0.546010   \n",
       "1736                                 0.451483   \n",
       "5253                                 0.495857   \n",
       "3569                                 0.607501   \n",
       "1764                                 0.504579   \n",
       "\n",
       "       ROA(B) before interest and depreciation after tax  \\\n",
       "4919                                           0.525028    \n",
       "6534                                           0.616093    \n",
       "5412                                           0.546764    \n",
       "3126                                           0.543070    \n",
       "6748                                           0.531720    \n",
       "1514                                           0.532737    \n",
       "1736                                           0.479737    \n",
       "5253                                           0.493121    \n",
       "3569                                           0.621018    \n",
       "1764                                           0.494298    \n",
       "\n",
       "       Operating Gross Margin   Realized Sales Gross Margin  \\\n",
       "4919                 0.601796                      0.601796   \n",
       "6534                 0.626277                      0.626277   \n",
       "5412                 0.597825                      0.597825   \n",
       "3126                 0.616029                      0.615878   \n",
       "6748                 0.609471                      0.609471   \n",
       "1514                 0.608909                      0.608909   \n",
       "1736                 0.604412                      0.604412   \n",
       "5253                 0.609932                      0.609932   \n",
       "3569                 0.609248                      0.609248   \n",
       "1764                 0.600946                      0.601075   \n",
       "\n",
       "       Operating Profit Rate   Pre-tax net Interest Rate  \\\n",
       "4919                0.998877                    0.797240   \n",
       "6534                0.999161                    0.797553   \n",
       "5412                0.999004                    0.797411   \n",
       "3126                0.998996                    0.797416   \n",
       "6748                0.999124                    0.797522   \n",
       "1514                0.998975                    0.797396   \n",
       "1736                0.998654                    0.796686   \n",
       "5253                0.998915                    0.797335   \n",
       "3569                0.999102                    0.797600   \n",
       "1764                0.998986                    0.797145   \n",
       "\n",
       "       After-tax net Interest Rate  \\\n",
       "4919                      0.809205   \n",
       "6534                      0.809517   \n",
       "5412                      0.809329   \n",
       "3126                      0.809337   \n",
       "6748                      0.809418   \n",
       "1514                      0.809318   \n",
       "1736                      0.808744   \n",
       "5253                      0.809231   \n",
       "3569                      0.809480   \n",
       "1764                      0.809100   \n",
       "\n",
       "       Non-industry income and expenditure/revenue  ...  \\\n",
       "4919                                      0.303455  ...   \n",
       "6534                                      0.303409  ...   \n",
       "5412                                      0.303490  ...   \n",
       "3126                                      0.303515  ...   \n",
       "6748                                      0.303431  ...   \n",
       "1514                                      0.303524  ...   \n",
       "1736                                      0.302955  ...   \n",
       "5253                                      0.303542  ...   \n",
       "3569                                      0.303613  ...   \n",
       "1764                                      0.303062  ...   \n",
       "\n",
       "       Net Income to Total Assets   Total assets to GNP price  \\\n",
       "4919                     0.776521                    0.001301   \n",
       "6534                     0.840218                    0.003018   \n",
       "5412                     0.810082                    0.000998   \n",
       "3126                     0.797926                    0.001930   \n",
       "6748                     0.807109                    0.004311   \n",
       "1514                     0.803121                    0.000572   \n",
       "1736                     0.750507                    0.000512   \n",
       "5253                     0.773351                    0.000127   \n",
       "3569                     0.837630                    0.001906   \n",
       "1764                     0.778286                    0.006121   \n",
       "\n",
       "       No-credit Interval   Gross Profit to Sales  \\\n",
       "4919             0.623726                0.601791   \n",
       "6534             0.623973                0.626277   \n",
       "5412             0.623986                0.597824   \n",
       "3126             0.622852                0.616026   \n",
       "6748             0.622392                0.609469   \n",
       "1514             0.623765                0.608907   \n",
       "1736             0.623656                0.604413   \n",
       "5253             0.623777                0.609929   \n",
       "3569             0.623761                0.609247   \n",
       "1764             0.624362                0.600946   \n",
       "\n",
       "       Net Income to Stockholder's Equity   Liability to Equity  \\\n",
       "4919                             0.835530              0.301531   \n",
       "6534                             0.842805              0.277066   \n",
       "5412                             0.841885              0.286871   \n",
       "3126                             0.840316              0.288099   \n",
       "6748                             0.841296              0.284282   \n",
       "1514                             0.840812              0.283573   \n",
       "1736                             0.836094              0.280583   \n",
       "5253                             0.838357              0.278801   \n",
       "3569                             0.842853              0.277791   \n",
       "1764                             0.838986              0.276670   \n",
       "\n",
       "       Degree of Financial Leverage (DFL)  \\\n",
       "4919                             0.026345   \n",
       "6534                             0.026819   \n",
       "5412                             0.026951   \n",
       "3126                             0.029488   \n",
       "6748                             0.026819   \n",
       "1514                             0.026852   \n",
       "1736                             0.026753   \n",
       "5253                             0.026791   \n",
       "3569                             0.026806   \n",
       "1764                             0.026669   \n",
       "\n",
       "       Interest Coverage Ratio (Interest expense to EBIT)   Net Income Flag  \\\n",
       "4919                                           0.561474                   1   \n",
       "6534                                           0.565287                   1   \n",
       "5412                                           0.565820                   1   \n",
       "3126                                           0.568779                   1   \n",
       "6748                                           0.565286                   1   \n",
       "1514                                           0.565431                   1   \n",
       "1736                                           0.564970                   1   \n",
       "5253                                           0.565158                   1   \n",
       "3569                                           0.565230                   1   \n",
       "1764                                           0.564499                   1   \n",
       "\n",
       "       Equity to Liability  \n",
       "4919              0.013837  \n",
       "6534              0.050817  \n",
       "5412              0.018173  \n",
       "3126              0.017446  \n",
       "6748              0.020315  \n",
       "1514              0.021119  \n",
       "1736              0.026634  \n",
       "5253              0.033731  \n",
       "3569              0.041364  \n",
       "1764              0.058896  \n",
       "\n",
       "[10 rows x 96 columns]"
      ]
     },
     "execution_count": 2,
     "metadata": {},
     "output_type": "execute_result"
    }
   ],
   "source": [
    "csv=pd.read_csv('data.csv')\n",
    "csv.sample(10)"
   ]
  },
  {
   "cell_type": "code",
   "execution_count": 3,
   "id": "be7781a4",
   "metadata": {
    "execution": {
     "iopub.execute_input": "2024-03-21T08:03:15.525030Z",
     "iopub.status.busy": "2024-03-21T08:03:15.524704Z",
     "iopub.status.idle": "2024-03-21T08:03:15.530629Z",
     "shell.execute_reply": "2024-03-21T08:03:15.529674Z"
    },
    "papermill": {
     "duration": 0.01877,
     "end_time": "2024-03-21T08:03:15.532644",
     "exception": false,
     "start_time": "2024-03-21T08:03:15.513874",
     "status": "completed"
    },
    "tags": []
   },
   "outputs": [
    {
     "data": {
      "text/plain": [
       "(6819, 96)"
      ]
     },
     "execution_count": 3,
     "metadata": {},
     "output_type": "execute_result"
    }
   ],
   "source": [
    "csv.shape"
   ]
  },
  {
   "cell_type": "code",
   "execution_count": 4,
   "id": "9bd50f4b",
   "metadata": {
    "execution": {
     "iopub.execute_input": "2024-03-21T08:03:15.551369Z",
     "iopub.status.busy": "2024-03-21T08:03:15.551111Z",
     "iopub.status.idle": "2024-03-21T08:03:15.558118Z",
     "shell.execute_reply": "2024-03-21T08:03:15.557313Z"
    },
    "papermill": {
     "duration": 0.018457,
     "end_time": "2024-03-21T08:03:15.559974",
     "exception": false,
     "start_time": "2024-03-21T08:03:15.541517",
     "status": "completed"
    },
    "tags": []
   },
   "outputs": [
    {
     "data": {
      "text/plain": [
       "Bankrupt?                                                     int64\n",
       " ROA(C) before interest and depreciation before interest    float64\n",
       " ROA(A) before interest and % after tax                     float64\n",
       " ROA(B) before interest and depreciation after tax          float64\n",
       " Operating Gross Margin                                     float64\n",
       "                                                             ...   \n",
       " Liability to Equity                                        float64\n",
       " Degree of Financial Leverage (DFL)                         float64\n",
       " Interest Coverage Ratio (Interest expense to EBIT)         float64\n",
       " Net Income Flag                                              int64\n",
       " Equity to Liability                                        float64\n",
       "Length: 96, dtype: object"
      ]
     },
     "execution_count": 4,
     "metadata": {},
     "output_type": "execute_result"
    }
   ],
   "source": [
    "csv.dtypes"
   ]
  },
  {
   "cell_type": "code",
   "execution_count": 5,
   "id": "533186be",
   "metadata": {
    "execution": {
     "iopub.execute_input": "2024-03-21T08:03:15.579407Z",
     "iopub.status.busy": "2024-03-21T08:03:15.579141Z",
     "iopub.status.idle": "2024-03-21T08:03:15.585376Z",
     "shell.execute_reply": "2024-03-21T08:03:15.584714Z"
    },
    "papermill": {
     "duration": 0.01865,
     "end_time": "2024-03-21T08:03:15.587191",
     "exception": false,
     "start_time": "2024-03-21T08:03:15.568541",
     "status": "completed"
    },
    "tags": []
   },
   "outputs": [],
   "source": [
    "X = csv.drop(columns=['Bankrupt?'])\n",
    "y = csv['Bankrupt?']"
   ]
  },
  {
   "cell_type": "code",
   "execution_count": 6,
   "id": "fe5a5758",
   "metadata": {
    "execution": {
     "iopub.execute_input": "2024-03-21T08:03:15.605682Z",
     "iopub.status.busy": "2024-03-21T08:03:15.605428Z",
     "iopub.status.idle": "2024-03-21T08:03:15.609679Z",
     "shell.execute_reply": "2024-03-21T08:03:15.608922Z"
    },
    "papermill": {
     "duration": 0.015874,
     "end_time": "2024-03-21T08:03:15.611679",
     "exception": false,
     "start_time": "2024-03-21T08:03:15.595805",
     "status": "completed"
    },
    "tags": []
   },
   "outputs": [],
   "source": [
    "X.fillna(0, inplace=True)  # Filling missing values with zeros; you can choose a different strategy if needed"
   ]
  },
  {
   "cell_type": "code",
   "execution_count": 7,
   "id": "82d17a15",
   "metadata": {
    "execution": {
     "iopub.execute_input": "2024-03-21T08:03:15.631558Z",
     "iopub.status.busy": "2024-03-21T08:03:15.631301Z",
     "iopub.status.idle": "2024-03-21T08:03:15.654154Z",
     "shell.execute_reply": "2024-03-21T08:03:15.653418Z"
    },
    "papermill": {
     "duration": 0.035155,
     "end_time": "2024-03-21T08:03:15.656182",
     "exception": false,
     "start_time": "2024-03-21T08:03:15.621027",
     "status": "completed"
    },
    "tags": []
   },
   "outputs": [],
   "source": [
    "# Feature Scaling\n",
    "scaler = StandardScaler()\n",
    "X_scaled = scaler.fit_transform(X)"
   ]
  },
  {
   "cell_type": "code",
   "execution_count": 8,
   "id": "5ed46052",
   "metadata": {
    "execution": {
     "iopub.execute_input": "2024-03-21T08:03:15.677330Z",
     "iopub.status.busy": "2024-03-21T08:03:15.676963Z",
     "iopub.status.idle": "2024-03-21T08:03:15.686494Z",
     "shell.execute_reply": "2024-03-21T08:03:15.685587Z"
    },
    "papermill": {
     "duration": 0.022783,
     "end_time": "2024-03-21T08:03:15.688630",
     "exception": false,
     "start_time": "2024-03-21T08:03:15.665847",
     "status": "completed"
    },
    "tags": []
   },
   "outputs": [],
   "source": [
    "# Train-Test Split\n",
    "X_train, X_test, y_train, y_test = train_test_split(X_scaled, y, test_size=0.2, random_state=42)"
   ]
  },
  {
   "cell_type": "code",
   "execution_count": 9,
   "id": "dfbe593c",
   "metadata": {
    "execution": {
     "iopub.execute_input": "2024-03-21T08:03:15.708729Z",
     "iopub.status.busy": "2024-03-21T08:03:15.708452Z",
     "iopub.status.idle": "2024-03-21T08:03:15.713780Z",
     "shell.execute_reply": "2024-03-21T08:03:15.712944Z"
    },
    "papermill": {
     "duration": 0.017502,
     "end_time": "2024-03-21T08:03:15.715713",
     "exception": false,
     "start_time": "2024-03-21T08:03:15.698211",
     "status": "completed"
    },
    "tags": []
   },
   "outputs": [
    {
     "data": {
      "text/plain": [
       "(5455, 95)"
      ]
     },
     "execution_count": 9,
     "metadata": {},
     "output_type": "execute_result"
    }
   ],
   "source": [
    "X_train.shape"
   ]
  },
  {
   "cell_type": "code",
   "execution_count": 10,
   "id": "282cac90",
   "metadata": {
    "execution": {
     "iopub.execute_input": "2024-03-21T08:03:15.752175Z",
     "iopub.status.busy": "2024-03-21T08:03:15.751913Z",
     "iopub.status.idle": "2024-03-21T08:03:29.080236Z",
     "shell.execute_reply": "2024-03-21T08:03:29.079263Z"
    },
    "papermill": {
     "duration": 13.340644,
     "end_time": "2024-03-21T08:03:29.082694",
     "exception": false,
     "start_time": "2024-03-21T08:03:15.742050",
     "status": "completed"
    },
    "tags": []
   },
   "outputs": [],
   "source": [
    "import tensorflow as tf\n",
    "from tensorflow.keras.models import Sequential\n",
    "from tensorflow.keras.layers import Dense"
   ]
  },
  {
   "cell_type": "code",
   "execution_count": 11,
   "id": "a8389738",
   "metadata": {
    "execution": {
     "iopub.execute_input": "2024-03-21T08:03:29.103179Z",
     "iopub.status.busy": "2024-03-21T08:03:29.102658Z",
     "iopub.status.idle": "2024-03-21T08:03:30.036663Z",
     "shell.execute_reply": "2024-03-21T08:03:30.035870Z"
    },
    "papermill": {
     "duration": 0.946407,
     "end_time": "2024-03-21T08:03:30.038775",
     "exception": false,
     "start_time": "2024-03-21T08:03:29.092368",
     "status": "completed"
    },
    "tags": []
   },
   "outputs": [],
   "source": [
    "model = Sequential([\n",
    "    Dense(95, activation='relu', input_shape=(X_train.shape[1],)),\n",
    "    Dense(95, activation='relu'),\n",
    "    Dense(120, activation='relu'),\n",
    "    Dense(120, activation='relu'),\n",
    "    Dense(95, activation='relu'),\n",
    "    Dense(1, activation='sigmoid')\n",
    "])"
   ]
  },
  {
   "cell_type": "code",
   "execution_count": 12,
   "id": "2eb49e14",
   "metadata": {
    "execution": {
     "iopub.execute_input": "2024-03-21T08:03:30.058978Z",
     "iopub.status.busy": "2024-03-21T08:03:30.058647Z",
     "iopub.status.idle": "2024-03-21T08:03:30.070426Z",
     "shell.execute_reply": "2024-03-21T08:03:30.069730Z"
    },
    "papermill": {
     "duration": 0.024083,
     "end_time": "2024-03-21T08:03:30.072289",
     "exception": false,
     "start_time": "2024-03-21T08:03:30.048206",
     "status": "completed"
    },
    "tags": []
   },
   "outputs": [],
   "source": [
    "# Compile the model\n",
    "model.compile(optimizer='adam', loss='binary_crossentropy', metrics=['accuracy'])"
   ]
  },
  {
   "cell_type": "code",
   "execution_count": 13,
   "id": "1c6d18de",
   "metadata": {
    "execution": {
     "iopub.execute_input": "2024-03-21T08:03:30.091756Z",
     "iopub.status.busy": "2024-03-21T08:03:30.091468Z",
     "iopub.status.idle": "2024-03-21T08:03:39.545331Z",
     "shell.execute_reply": "2024-03-21T08:03:39.544542Z"
    },
    "papermill": {
     "duration": 9.465999,
     "end_time": "2024-03-21T08:03:39.547314",
     "exception": false,
     "start_time": "2024-03-21T08:03:30.081315",
     "status": "completed"
    },
    "scrolled": false,
    "tags": []
   },
   "outputs": [
    {
     "name": "stdout",
     "output_type": "stream",
     "text": [
      "Epoch 1/100\n",
      "10/10 [==============================] - 0s 2ms/step - loss: 0.3758 - accuracy: 0.9533\n",
      "Epoch 2/100\n",
      "10/10 [==============================] - 0s 2ms/step - loss: 0.1866 - accuracy: 0.9690\n",
      "Epoch 3/100\n",
      "10/10 [==============================] - 0s 2ms/step - loss: 0.1323 - accuracy: 0.9690\n",
      "Epoch 4/100\n",
      "10/10 [==============================] - 0s 2ms/step - loss: 0.1068 - accuracy: 0.9690\n",
      "Epoch 5/100\n",
      "10/10 [==============================] - 0s 2ms/step - loss: 0.0909 - accuracy: 0.9690\n",
      "Epoch 6/100\n",
      "10/10 [==============================] - 0s 2ms/step - loss: 0.0821 - accuracy: 0.9703\n",
      "Epoch 7/100\n",
      "10/10 [==============================] - 0s 2ms/step - loss: 0.0763 - accuracy: 0.9709\n",
      "Epoch 8/100\n",
      "10/10 [==============================] - 0s 2ms/step - loss: 0.0723 - accuracy: 0.9714\n",
      "Epoch 9/100\n",
      "10/10 [==============================] - 0s 2ms/step - loss: 0.0682 - accuracy: 0.9727\n",
      "Epoch 10/100\n",
      "10/10 [==============================] - 0s 2ms/step - loss: 0.0657 - accuracy: 0.9731\n",
      "Epoch 11/100\n",
      "10/10 [==============================] - 0s 2ms/step - loss: 0.0620 - accuracy: 0.9753\n",
      "Epoch 12/100\n",
      "10/10 [==============================] - 0s 2ms/step - loss: 0.0593 - accuracy: 0.9751\n",
      "Epoch 13/100\n",
      "10/10 [==============================] - 0s 2ms/step - loss: 0.0557 - accuracy: 0.9764\n",
      "Epoch 14/100\n",
      "10/10 [==============================] - 0s 2ms/step - loss: 0.0517 - accuracy: 0.9802\n",
      "Epoch 15/100\n",
      "10/10 [==============================] - 0s 2ms/step - loss: 0.0518 - accuracy: 0.9791\n",
      "Epoch 16/100\n",
      "10/10 [==============================] - 0s 2ms/step - loss: 0.0505 - accuracy: 0.9798\n",
      "Epoch 17/100\n",
      "10/10 [==============================] - 0s 2ms/step - loss: 0.0425 - accuracy: 0.9824\n",
      "Epoch 18/100\n",
      "10/10 [==============================] - 0s 2ms/step - loss: 0.0374 - accuracy: 0.9861\n",
      "Epoch 19/100\n",
      "10/10 [==============================] - 0s 2ms/step - loss: 0.0344 - accuracy: 0.9870\n",
      "Epoch 20/100\n",
      "10/10 [==============================] - 0s 2ms/step - loss: 0.0311 - accuracy: 0.9903\n",
      "Epoch 21/100\n",
      "10/10 [==============================] - 0s 2ms/step - loss: 0.0266 - accuracy: 0.9901\n",
      "Epoch 22/100\n",
      "10/10 [==============================] - 0s 2ms/step - loss: 0.0232 - accuracy: 0.9934\n",
      "Epoch 23/100\n",
      "10/10 [==============================] - 0s 2ms/step - loss: 0.0222 - accuracy: 0.9934\n",
      "Epoch 24/100\n",
      "10/10 [==============================] - 0s 2ms/step - loss: 0.0206 - accuracy: 0.9936\n",
      "Epoch 25/100\n",
      "10/10 [==============================] - 0s 2ms/step - loss: 0.0177 - accuracy: 0.9956\n",
      "Epoch 26/100\n",
      "10/10 [==============================] - 0s 2ms/step - loss: 0.0146 - accuracy: 0.9962\n",
      "Epoch 27/100\n",
      "10/10 [==============================] - 0s 2ms/step - loss: 0.0140 - accuracy: 0.9973\n",
      "Epoch 28/100\n",
      "10/10 [==============================] - 0s 2ms/step - loss: 0.0137 - accuracy: 0.9960\n",
      "Epoch 29/100\n",
      "10/10 [==============================] - 0s 2ms/step - loss: 0.0182 - accuracy: 0.9938\n",
      "Epoch 30/100\n",
      "10/10 [==============================] - 0s 2ms/step - loss: 0.0307 - accuracy: 0.9894\n",
      "Epoch 31/100\n",
      "10/10 [==============================] - 0s 2ms/step - loss: 0.0198 - accuracy: 0.9907\n",
      "Epoch 32/100\n",
      "10/10 [==============================] - 0s 2ms/step - loss: 0.0146 - accuracy: 0.9947\n",
      "Epoch 33/100\n",
      "10/10 [==============================] - 0s 2ms/step - loss: 0.0093 - accuracy: 0.9962\n",
      "Epoch 34/100\n",
      "10/10 [==============================] - 0s 2ms/step - loss: 0.0064 - accuracy: 0.9987\n",
      "Epoch 35/100\n",
      "10/10 [==============================] - 0s 2ms/step - loss: 0.0048 - accuracy: 0.9991\n",
      "Epoch 36/100\n",
      "10/10 [==============================] - 0s 2ms/step - loss: 0.0046 - accuracy: 0.9985\n",
      "Epoch 37/100\n",
      "10/10 [==============================] - 0s 2ms/step - loss: 0.0053 - accuracy: 0.9987\n",
      "Epoch 38/100\n",
      "10/10 [==============================] - 0s 2ms/step - loss: 0.0034 - accuracy: 0.9996\n",
      "Epoch 39/100\n",
      "10/10 [==============================] - 0s 2ms/step - loss: 0.0029 - accuracy: 0.9996\n",
      "Epoch 40/100\n",
      "10/10 [==============================] - 0s 2ms/step - loss: 0.0022 - accuracy: 0.9995\n",
      "Epoch 41/100\n",
      "10/10 [==============================] - 0s 2ms/step - loss: 0.0011 - accuracy: 1.0000\n",
      "Epoch 42/100\n",
      "10/10 [==============================] - 0s 2ms/step - loss: 0.0013 - accuracy: 0.9998\n",
      "Epoch 43/100\n",
      "10/10 [==============================] - 0s 2ms/step - loss: 0.0031 - accuracy: 0.9995\n",
      "Epoch 44/100\n",
      "10/10 [==============================] - 0s 2ms/step - loss: 0.0070 - accuracy: 0.9996\n",
      "Epoch 45/100\n",
      "10/10 [==============================] - 0s 2ms/step - loss: 0.0036 - accuracy: 0.9996\n",
      "Epoch 46/100\n",
      "10/10 [==============================] - 0s 2ms/step - loss: 0.0016 - accuracy: 0.9996\n",
      "Epoch 47/100\n",
      "10/10 [==============================] - 0s 3ms/step - loss: 7.4157e-04 - accuracy: 1.0000\n",
      "Epoch 48/100\n",
      "10/10 [==============================] - 0s 2ms/step - loss: 6.3413e-04 - accuracy: 1.0000\n",
      "Epoch 49/100\n",
      "10/10 [==============================] - 0s 2ms/step - loss: 4.4048e-04 - accuracy: 1.0000\n",
      "Epoch 50/100\n",
      "10/10 [==============================] - 0s 2ms/step - loss: 3.3952e-04 - accuracy: 1.0000\n",
      "Epoch 51/100\n",
      "10/10 [==============================] - 0s 2ms/step - loss: 2.8594e-04 - accuracy: 1.0000\n",
      "Epoch 52/100\n",
      "10/10 [==============================] - 0s 2ms/step - loss: 2.8271e-04 - accuracy: 1.0000\n",
      "Epoch 53/100\n",
      "10/10 [==============================] - 0s 2ms/step - loss: 2.3286e-04 - accuracy: 1.0000\n",
      "Epoch 54/100\n",
      "10/10 [==============================] - 0s 2ms/step - loss: 2.1094e-04 - accuracy: 1.0000\n",
      "Epoch 55/100\n",
      "10/10 [==============================] - 0s 2ms/step - loss: 1.9106e-04 - accuracy: 1.0000\n",
      "Epoch 56/100\n",
      "10/10 [==============================] - 0s 2ms/step - loss: 1.6548e-04 - accuracy: 1.0000\n",
      "Epoch 57/100\n",
      "10/10 [==============================] - 0s 2ms/step - loss: 1.5680e-04 - accuracy: 1.0000\n",
      "Epoch 58/100\n",
      "10/10 [==============================] - 0s 2ms/step - loss: 1.4034e-04 - accuracy: 1.0000\n",
      "Epoch 59/100\n",
      "10/10 [==============================] - 0s 2ms/step - loss: 1.2877e-04 - accuracy: 1.0000\n",
      "Epoch 60/100\n",
      "10/10 [==============================] - 0s 2ms/step - loss: 1.1860e-04 - accuracy: 1.0000\n",
      "Epoch 61/100\n",
      "10/10 [==============================] - 0s 2ms/step - loss: 1.1108e-04 - accuracy: 1.0000\n",
      "Epoch 62/100\n",
      "10/10 [==============================] - 0s 2ms/step - loss: 1.0825e-04 - accuracy: 1.0000\n",
      "Epoch 63/100\n",
      "10/10 [==============================] - 0s 2ms/step - loss: 1.0674e-04 - accuracy: 1.0000\n",
      "Epoch 64/100\n",
      "10/10 [==============================] - 0s 2ms/step - loss: 9.5160e-05 - accuracy: 1.0000\n",
      "Epoch 65/100\n",
      "10/10 [==============================] - 0s 2ms/step - loss: 8.8053e-05 - accuracy: 1.0000\n",
      "Epoch 66/100\n",
      "10/10 [==============================] - 0s 2ms/step - loss: 8.3306e-05 - accuracy: 1.0000\n",
      "Epoch 67/100\n",
      "10/10 [==============================] - 0s 2ms/step - loss: 7.8916e-05 - accuracy: 1.0000\n",
      "Epoch 68/100\n",
      "10/10 [==============================] - 0s 2ms/step - loss: 7.4796e-05 - accuracy: 1.0000\n",
      "Epoch 69/100\n",
      "10/10 [==============================] - 0s 2ms/step - loss: 7.1166e-05 - accuracy: 1.0000\n",
      "Epoch 70/100\n",
      "10/10 [==============================] - 0s 2ms/step - loss: 6.7621e-05 - accuracy: 1.0000\n",
      "Epoch 71/100\n",
      "10/10 [==============================] - 0s 2ms/step - loss: 6.5671e-05 - accuracy: 1.0000\n",
      "Epoch 72/100\n",
      "10/10 [==============================] - 0s 2ms/step - loss: 6.3210e-05 - accuracy: 1.0000\n",
      "Epoch 73/100\n",
      "10/10 [==============================] - 0s 2ms/step - loss: 5.9751e-05 - accuracy: 1.0000\n",
      "Epoch 74/100\n",
      "10/10 [==============================] - 0s 2ms/step - loss: 5.6837e-05 - accuracy: 1.0000\n",
      "Epoch 75/100\n",
      "10/10 [==============================] - 0s 2ms/step - loss: 5.4577e-05 - accuracy: 1.0000\n",
      "Epoch 76/100\n",
      "10/10 [==============================] - 0s 2ms/step - loss: 5.2405e-05 - accuracy: 1.0000\n",
      "Epoch 77/100\n",
      "10/10 [==============================] - 0s 2ms/step - loss: 5.0936e-05 - accuracy: 1.0000\n",
      "Epoch 78/100\n",
      "10/10 [==============================] - 0s 2ms/step - loss: 4.9140e-05 - accuracy: 1.0000\n",
      "Epoch 79/100\n",
      "10/10 [==============================] - 0s 2ms/step - loss: 4.7107e-05 - accuracy: 1.0000\n",
      "Epoch 80/100\n",
      "10/10 [==============================] - 0s 2ms/step - loss: 4.4791e-05 - accuracy: 1.0000\n",
      "Epoch 81/100\n"
     ]
    },
    {
     "name": "stdout",
     "output_type": "stream",
     "text": [
      "10/10 [==============================] - 0s 2ms/step - loss: 4.3381e-05 - accuracy: 1.0000\n",
      "Epoch 82/100\n",
      "10/10 [==============================] - 0s 2ms/step - loss: 4.1963e-05 - accuracy: 1.0000\n",
      "Epoch 83/100\n",
      "10/10 [==============================] - 0s 2ms/step - loss: 4.0592e-05 - accuracy: 1.0000\n",
      "Epoch 84/100\n",
      "10/10 [==============================] - 0s 2ms/step - loss: 3.8972e-05 - accuracy: 1.0000\n",
      "Epoch 85/100\n",
      "10/10 [==============================] - 0s 2ms/step - loss: 3.7595e-05 - accuracy: 1.0000\n",
      "Epoch 86/100\n",
      "10/10 [==============================] - 0s 2ms/step - loss: 3.6508e-05 - accuracy: 1.0000\n",
      "Epoch 87/100\n",
      "10/10 [==============================] - 0s 2ms/step - loss: 3.5350e-05 - accuracy: 1.0000\n",
      "Epoch 88/100\n",
      "10/10 [==============================] - 0s 2ms/step - loss: 3.4272e-05 - accuracy: 1.0000\n",
      "Epoch 89/100\n",
      "10/10 [==============================] - 0s 2ms/step - loss: 3.3147e-05 - accuracy: 1.0000\n",
      "Epoch 90/100\n",
      "10/10 [==============================] - 0s 2ms/step - loss: 3.2358e-05 - accuracy: 1.0000\n",
      "Epoch 91/100\n",
      "10/10 [==============================] - 0s 2ms/step - loss: 3.1431e-05 - accuracy: 1.0000\n",
      "Epoch 92/100\n",
      "10/10 [==============================] - 0s 2ms/step - loss: 3.0380e-05 - accuracy: 1.0000\n",
      "Epoch 93/100\n",
      "10/10 [==============================] - 0s 2ms/step - loss: 2.9150e-05 - accuracy: 1.0000\n",
      "Epoch 94/100\n",
      "10/10 [==============================] - 0s 2ms/step - loss: 2.8286e-05 - accuracy: 1.0000\n",
      "Epoch 95/100\n",
      "10/10 [==============================] - 0s 2ms/step - loss: 2.7389e-05 - accuracy: 1.0000\n",
      "Epoch 96/100\n",
      "10/10 [==============================] - 0s 2ms/step - loss: 2.6650e-05 - accuracy: 1.0000\n",
      "Epoch 97/100\n",
      "10/10 [==============================] - 0s 2ms/step - loss: 2.5977e-05 - accuracy: 1.0000\n",
      "Epoch 98/100\n",
      "10/10 [==============================] - 0s 2ms/step - loss: 2.5245e-05 - accuracy: 1.0000\n",
      "Epoch 99/100\n",
      "10/10 [==============================] - 0s 2ms/step - loss: 2.4901e-05 - accuracy: 1.0000\n",
      "Epoch 100/100\n",
      "10/10 [==============================] - 0s 2ms/step - loss: 2.4036e-05 - accuracy: 1.0000\n"
     ]
    }
   ],
   "source": [
    "# Train the model\n",
    "history=model.fit(X_train, y_train, epochs=100, batch_size=600)"
   ]
  },
  {
   "cell_type": "code",
   "execution_count": 14,
   "id": "6c9bf975",
   "metadata": {
    "execution": {
     "iopub.execute_input": "2024-03-21T08:03:39.617613Z",
     "iopub.status.busy": "2024-03-21T08:03:39.617249Z",
     "iopub.status.idle": "2024-03-21T08:03:39.919495Z",
     "shell.execute_reply": "2024-03-21T08:03:39.918506Z"
    },
    "papermill": {
     "duration": 0.34039,
     "end_time": "2024-03-21T08:03:39.921569",
     "exception": false,
     "start_time": "2024-03-21T08:03:39.581179",
     "status": "completed"
    },
    "tags": []
   },
   "outputs": [
    {
     "data": {
      "image/png": "[encoded data removed]",
      "text/plain": [
       "<Figure size 800x500 with 1 Axes>"
      ]
     },
     "metadata": {},
     "output_type": "display_data"
    }
   ],
   "source": [
    "# Plot loss\n",
    "plt.figure(figsize=(8, 5))\n",
    "plt.plot(history.history['loss'], label='Training Loss')\n",
    "plt.title('Training Loss')\n",
    "plt.xlabel('Epochs')\n",
    "plt.ylabel('Loss')\n",
    "plt.legend()\n",
    "plt.show()"
   ]
  },
  {
   "cell_type": "code",
   "execution_count": 15,
   "id": "001b0e49",
   "metadata": {
    "execution": {
     "iopub.execute_input": "2024-03-21T08:03:39.990488Z",
     "iopub.status.busy": "2024-03-21T08:03:39.990178Z",
     "iopub.status.idle": "2024-03-21T08:03:40.281125Z",
     "shell.execute_reply": "2024-03-21T08:03:40.280200Z"
    },
    "papermill": {
     "duration": 0.327998,
     "end_time": "2024-03-21T08:03:40.283185",
     "exception": false,
     "start_time": "2024-03-21T08:03:39.955187",
     "status": "completed"
    },
    "tags": []
   },
   "outputs": [
    {
     "data": {
      "image/png": "[encoded data removed]",
      "text/plain": [
       "<Figure size 800x500 with 1 Axes>"
      ]
     },
     "metadata": {},
     "output_type": "display_data"
    }
   ],
   "source": [
    "# Plot accuracy\n",
    "plt.figure(figsize=(8, 5))\n",
    "plt.plot(history.history['accuracy'], label='Training Accuracy')\n",
    "plt.title('Training Accuracy')\n",
    "plt.xlabel('Epochs')\n",
    "plt.ylabel('Accuracy')\n",
    "plt.legend()\n",
    "plt.show()"
   ]
  },
  {
   "cell_type": "code",
   "execution_count": 16,
   "id": "cbb67c4a",
   "metadata": {
    "execution": {
     "iopub.execute_input": "2024-03-21T08:03:40.350715Z",
     "iopub.status.busy": "2024-03-21T08:03:40.350438Z",
     "iopub.status.idle": "2024-03-21T08:03:41.202100Z",
     "shell.execute_reply": "2024-03-21T08:03:41.201064Z"
    },
    "papermill": {
     "duration": 0.88811,
     "end_time": "2024-03-21T08:03:41.204447",
     "exception": false,
     "start_time": "2024-03-21T08:03:40.316337",
     "status": "completed"
    },
    "tags": []
   },
   "outputs": [
    {
     "name": "stdout",
     "output_type": "stream",
     "text": [
      "43/43 [==============================] - 0s 386us/step\n",
      "Test Accuracy: 95.67448680351906%\n"
     ]
    }
   ],
   "source": [
    "# Prediction on test data\n",
    "predictions = model.predict(X_test)\n",
    "predicted_classes = np.round(predictions).flatten()\n",
    "\n",
    "# Assuming binary classification (0 or 1)\n",
    "accuracy = np.mean(predicted_classes == y_test)\n",
    "print(f\"Test Accuracy: {accuracy*100}%\")"
   ]
  },
  {
   "cell_type": "markdown",
   "id": "d46acd82",
   "metadata": {
    "papermill": {
     "duration": 0.03377,
     "end_time": "2024-03-21T08:03:41.274498",
     "exception": false,
     "start_time": "2024-03-21T08:03:41.240728",
     "status": "completed"
    },
    "tags": []
   },
   "source": [
    "# Using PyTorch"
   ]
  },
  {
   "cell_type": "code",
   "execution_count": 17,
   "id": "8ab0de56",
   "metadata": {
    "execution": {
     "iopub.execute_input": "2024-03-21T08:03:41.342994Z",
     "iopub.status.busy": "2024-03-21T08:03:41.342645Z",
     "iopub.status.idle": "2024-03-21T08:03:45.639352Z",
     "shell.execute_reply": "2024-03-21T08:03:45.638516Z"
    },
    "papermill": {
     "duration": 4.333345,
     "end_time": "2024-03-21T08:03:45.641749",
     "exception": false,
     "start_time": "2024-03-21T08:03:41.308404",
     "status": "completed"
    },
    "tags": []
   },
   "outputs": [],
   "source": [
    "import torch\n",
    "import torch.nn as nn\n",
    "import torch.optim as optim\n",
    "from torch.utils.data import DataLoader, TensorDataset"
   ]
  },
  {
   "cell_type": "code",
   "execution_count": 18,
   "id": "d5b6b521",
   "metadata": {
    "execution": {
     "iopub.execute_input": "2024-03-21T08:03:45.711438Z",
     "iopub.status.busy": "2024-03-21T08:03:45.710624Z",
     "iopub.status.idle": "2024-03-21T08:03:45.753826Z",
     "shell.execute_reply": "2024-03-21T08:03:45.753024Z"
    },
    "papermill": {
     "duration": 0.079973,
     "end_time": "2024-03-21T08:03:45.756096",
     "exception": false,
     "start_time": "2024-03-21T08:03:45.676123",
     "status": "completed"
    },
    "tags": []
   },
   "outputs": [],
   "source": [
    "# Convert data to PyTorch tensors\n",
    "X_train_tensor = torch.tensor(X_train, dtype=torch.float32)\n",
    "y_train_tensor = torch.tensor(y_train.values, dtype=torch.float32)\n",
    "X_test_tensor = torch.tensor(X_test, dtype=torch.float32)\n",
    "y_test_tensor = torch.tensor(y_test.values, dtype=torch.float32)"
   ]
  },
  {
   "cell_type": "code",
   "execution_count": 19,
   "id": "bdbc1820",
   "metadata": {
    "execution": {
     "iopub.execute_input": "2024-03-21T08:03:45.829252Z",
     "iopub.status.busy": "2024-03-21T08:03:45.828612Z",
     "iopub.status.idle": "2024-03-21T08:03:45.835352Z",
     "shell.execute_reply": "2024-03-21T08:03:45.834439Z"
    },
    "papermill": {
     "duration": 0.044787,
     "end_time": "2024-03-21T08:03:45.837324",
     "exception": false,
     "start_time": "2024-03-21T08:03:45.792537",
     "status": "completed"
    },
    "tags": []
   },
   "outputs": [],
   "source": [
    "# Create DataLoader\n",
    "train_data = TensorDataset(X_train_tensor, y_train_tensor)\n",
    "train_loader = DataLoader(train_data, batch_size=32, shuffle=True)"
   ]
  },
  {
   "cell_type": "code",
   "execution_count": 20,
   "id": "9344c61a",
   "metadata": {
    "execution": {
     "iopub.execute_input": "2024-03-21T08:03:45.954024Z",
     "iopub.status.busy": "2024-03-21T08:03:45.953642Z",
     "iopub.status.idle": "2024-03-21T08:03:45.961984Z",
     "shell.execute_reply": "2024-03-21T08:03:45.961081Z"
    },
    "papermill": {
     "duration": 0.090685,
     "end_time": "2024-03-21T08:03:45.963825",
     "exception": false,
     "start_time": "2024-03-21T08:03:45.873140",
     "status": "completed"
    },
    "tags": []
   },
   "outputs": [],
   "source": [
    "class ANN(nn.Module):\n",
    "    def __init__(self, input_size):\n",
    "        super(ANN, self).__init__()\n",
    "        self.fc1 = nn.Linear(input_size, 95)\n",
    "        self.fc2 = nn.Linear(95, 95)\n",
    "        self.fc3 = nn.Linear(95, 120)\n",
    "        self.fc4 = nn.Linear(120, 120)\n",
    "        self.fc5 = nn.Linear(120, 95)\n",
    "        self.fc6 = nn.Linear(95, 1)\n",
    "        self.relu = nn.ReLU()\n",
    "        self.sigmoid = nn.Sigmoid()\n",
    "\n",
    "    def forward(self, x):\n",
    "        x = self.relu(self.fc1(x))\n",
    "        x = self.relu(self.fc2(x))\n",
    "        x = self.relu(self.fc3(x))\n",
    "        x = self.relu(self.fc4(x))\n",
    "        x = self.relu(self.fc5(x))\n",
    "        x = self.sigmoid(self.fc6(x))\n",
    "        return x\n"
   ]
  },
  {
   "cell_type": "code",
   "execution_count": 21,
   "id": "f18d58d7",
   "metadata": {
    "execution": {
     "iopub.execute_input": "2024-03-21T08:03:46.032932Z",
     "iopub.status.busy": "2024-03-21T08:03:46.032118Z",
     "iopub.status.idle": "2024-03-21T08:03:46.052192Z",
     "shell.execute_reply": "2024-03-21T08:03:46.051189Z"
    },
    "papermill": {
     "duration": 0.056613,
     "end_time": "2024-03-21T08:03:46.054161",
     "exception": false,
     "start_time": "2024-03-21T08:03:45.997548",
     "status": "completed"
    },
    "tags": []
   },
   "outputs": [],
   "source": [
    "# Instantiate the model\n",
    "model = ANN(X_train.shape[1])"
   ]
  },
  {
   "cell_type": "code",
   "execution_count": 22,
   "id": "f47934bd",
   "metadata": {
    "execution": {
     "iopub.execute_input": "2024-03-21T08:03:46.125756Z",
     "iopub.status.busy": "2024-03-21T08:03:46.125050Z",
     "iopub.status.idle": "2024-03-21T08:03:47.472150Z",
     "shell.execute_reply": "2024-03-21T08:03:47.471153Z"
    },
    "papermill": {
     "duration": 1.385725,
     "end_time": "2024-03-21T08:03:47.474530",
     "exception": false,
     "start_time": "2024-03-21T08:03:46.088805",
     "status": "completed"
    },
    "tags": []
   },
   "outputs": [],
   "source": [
    "# Define loss function and optimizer\n",
    "criterion = nn.BCELoss()\n",
    "optimizer = optim.Adam(model.parameters(), lr=0.001)"
   ]
  },
  {
   "cell_type": "code",
   "execution_count": 23,
   "id": "0beb445c",
   "metadata": {
    "execution": {
     "iopub.execute_input": "2024-03-21T08:03:47.544086Z",
     "iopub.status.busy": "2024-03-21T08:03:47.543731Z",
     "iopub.status.idle": "2024-03-21T08:03:47.547923Z",
     "shell.execute_reply": "2024-03-21T08:03:47.547021Z"
    },
    "papermill": {
     "duration": 0.040905,
     "end_time": "2024-03-21T08:03:47.549870",
     "exception": false,
     "start_time": "2024-03-21T08:03:47.508965",
     "status": "completed"
    },
    "tags": []
   },
   "outputs": [],
   "source": [
    "# Lists to store loss and accuracy for plotting\n",
    "losses = []\n",
    "accuracies = []"
   ]
  },
  {
   "cell_type": "code",
   "execution_count": 24,
   "id": "c42a3288",
   "metadata": {
    "execution": {
     "iopub.execute_input": "2024-03-21T08:03:47.617162Z",
     "iopub.status.busy": "2024-03-21T08:03:47.616896Z",
     "iopub.status.idle": "2024-03-21T08:04:51.747065Z",
     "shell.execute_reply": "2024-03-21T08:04:51.746166Z"
    },
    "papermill": {
     "duration": 64.16668,
     "end_time": "2024-03-21T08:04:51.749702",
     "exception": false,
     "start_time": "2024-03-21T08:03:47.583022",
     "status": "completed"
    },
    "tags": []
   },
   "outputs": [],
   "source": [
    "for epoch in range(100):\n",
    "    for inputs, targets in train_loader:\n",
    "        optimizer.zero_grad()\n",
    "        outputs = model(inputs)\n",
    "        loss = criterion(outputs.squeeze(), targets)\n",
    "        loss.backward()\n",
    "        optimizer.step()\n",
    "        \n",
    "        # Track loss and accuracy\n",
    "        losses.append(loss.item())\n",
    "        with torch.no_grad():\n",
    "            predicted_classes = (outputs.squeeze() > 0.5).float()\n",
    "            accuracy = (predicted_classes == targets).float().mean().item()\n",
    "            accuracies.append(accuracy)"
   ]
  },
  {
   "cell_type": "code",
   "execution_count": 25,
   "id": "d6d292fb",
   "metadata": {
    "execution": {
     "iopub.execute_input": "2024-03-21T08:04:51.822409Z",
     "iopub.status.busy": "2024-03-21T08:04:51.821439Z",
     "iopub.status.idle": "2024-03-21T08:04:52.120611Z",
     "shell.execute_reply": "2024-03-21T08:04:52.119669Z"
    },
    "papermill": {
     "duration": 0.33603,
     "end_time": "2024-03-21T08:04:52.122625",
     "exception": false,
     "start_time": "2024-03-21T08:04:51.786595",
     "status": "completed"
    },
    "tags": []
   },
   "outputs": [
    {
     "data": {
      "image/png": "[encoded data removed]",
      "text/plain": [
       "<Figure size 800x500 with 1 Axes>"
      ]
     },
     "metadata": {},
     "output_type": "display_data"
    }
   ],
   "source": [
    "# Plot loss\n",
    "plt.figure(figsize=(8, 5))\n",
    "plt.plot(losses)\n",
    "plt.title('Training Loss')\n",
    "plt.xlabel('Iterations')\n",
    "plt.ylabel('Loss')\n",
    "plt.show()"
   ]
  },
  {
   "cell_type": "code",
   "execution_count": 26,
   "id": "b5b51e49",
   "metadata": {
    "execution": {
     "iopub.execute_input": "2024-03-21T08:04:52.195902Z",
     "iopub.status.busy": "2024-03-21T08:04:52.194993Z",
     "iopub.status.idle": "2024-03-21T08:04:52.462903Z",
     "shell.execute_reply": "2024-03-21T08:04:52.461916Z"
    },
    "papermill": {
     "duration": 0.308085,
     "end_time": "2024-03-21T08:04:52.465209",
     "exception": false,
     "start_time": "2024-03-21T08:04:52.157124",
     "status": "completed"
    },
    "tags": []
   },
   "outputs": [
    {
     "data": {
      "image/png": "[encoded data removed]",
      "text/plain": [
       "<Figure size 800x500 with 1 Axes>"
      ]
     },
     "metadata": {},
     "output_type": "display_data"
    }
   ],
   "source": [
    "# Plot accuracy\n",
    "plt.figure(figsize=(8, 5))\n",
    "plt.plot(accuracies)\n",
    "plt.title('Training Accuracy')\n",
    "plt.xlabel('Iterations')\n",
    "plt.ylabel('Accuracy')\n",
    "plt.show()"
   ]
  },
  {
   "cell_type": "code",
   "execution_count": 27,
   "id": "bb5621a9",
   "metadata": {
    "execution": {
     "iopub.execute_input": "2024-03-21T08:04:52.536971Z",
     "iopub.status.busy": "2024-03-21T08:04:52.536069Z",
     "iopub.status.idle": "2024-03-21T08:04:52.549190Z",
     "shell.execute_reply": "2024-03-21T08:04:52.548024Z"
    },
    "papermill": {
     "duration": 0.051118,
     "end_time": "2024-03-21T08:04:52.551218",
     "exception": false,
     "start_time": "2024-03-21T08:04:52.500100",
     "status": "completed"
    },
    "tags": []
   },
   "outputs": [
    {
     "name": "stdout",
     "output_type": "stream",
     "text": [
      "Test Accuracy: 95.82111239433289%\n"
     ]
    }
   ],
   "source": [
    "# Prediction on test data\n",
    "with torch.no_grad():\n",
    "    outputs = model(X_test_tensor)\n",
    "    predicted_classes = (outputs.squeeze() > 0.5).float()\n",
    "    accuracy = (predicted_classes == y_test_tensor).float().mean().item()\n",
    "    print(f\"Test Accuracy: {accuracy*100}%\")"
   ]
  }
 ],
 "metadata": {
  "kaggle": {
   "accelerator": "nvidiaTeslaT4",
   "dataSources": [
    {
     "datasetId": 1111894,
     "sourceId": 1938459,
     "sourceType": "datasetVersion"
    }
   ],
   "isGpuEnabled": true,
   "isInternetEnabled": false,
   "language": "python",
   "sourceType": "notebook"
  },
  "kernelspec": {
   "display_name": "Python 3 (ipykernel)",
   "language": "python",
   "name": "python3"
  },
  "language_info": {
   "codemirror_mode": {
    "name": "ipython",
    "version": 3
   },
   "file_extension": ".py",
   "mimetype": "text/x-python",
   "name": "python",
   "nbconvert_exporter": "python",
   "pygments_lexer": "ipython3",
   "version": "3.11.5"
  },
  "papermill": {
   "default_parameters": {},
   "duration": 106.468485,
   "end_time": "2024-03-21T08:04:55.828517",
   "environment_variables": {},
   "exception": null,
   "input_path": "__notebook__.ipynb",
   "output_path": "__notebook__.ipynb",
   "parameters": {},
   "start_time": "2024-03-21T08:03:09.360032",
   "version": "2.5.0"
  }
 },
 "nbformat": 4,
 "nbformat_minor": 5
}
