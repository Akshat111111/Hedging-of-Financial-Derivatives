{
  "nbformat": 4,
  "nbformat_minor": 0,
  "metadata": {
    "colab": {
      "provenance": []
    },
    "kernelspec": {
      "name": "python3",
      "display_name": "Python 3"
    },
    "language_info": {
      "name": "python"
    }
  },
  "cells": [
    {
      "cell_type": "code",
      "execution_count": 14,
      "metadata": {
        "id": "RPX9t2t2ICPH"
      },
      "outputs": [],
      "source": []
    },
    {
      "cell_type": "code",
      "source": [],
      "metadata": {
        "id": "e4somouYIajN"
      },
      "execution_count": 14,
      "outputs": []
    },
    {
      "cell_type": "code",
      "source": [
        "from google.colab import drive\n",
        "drive.mount('/content/drive')"
      ],
      "metadata": {
        "colab": {
          "base_uri": "https://localhost:8080/"
        },
        "id": "QGpWvPjRIc4i",
        "outputId": "133d28c4-e96b-42ab-9025-78de24b7b121"
      },
      "execution_count": 15,
      "outputs": [
        {
          "output_type": "stream",
          "name": "stdout",
          "text": [
            "Drive already mounted at /content/drive; to attempt to forcibly remount, call drive.mount(\"/content/drive\", force_remount=True).\n"
          ]
        }
      ]
    },
    {
      "cell_type": "markdown",
      "source": [
        "Data Preparation\n"
      ],
      "metadata": {
        "id": "ToziI1fJIZZ5"
      }
    },
    {
      "cell_type": "code",
      "source": [
        "import pandas as pd\n",
        "import numpy as np\n",
        "import networkx as nx\n",
        "import matplotlib.pyplot as plt\n",
        "\n",
        "# Load historical market data and set the date column as the index\n",
        "data = pd.read_csv('/content/drive/MyDrive/GirlsScriptOpenSource/Hedging-of-Financial-Derivatives/Graph Neural Networks for Network-Based Hedging/synthetic_market_data (1).csv', index_col=0, parse_dates=True)\n",
        "\n",
        "# Calculate correlation matrix\n",
        "correlation_matrix = data.corr()\n",
        "\n",
        "# Create a graph\n",
        "G = nx.Graph()\n",
        "\n",
        "# Add nodes (financial instruments)\n",
        "for column in data.columns:\n",
        "    G.add_node(column)\n",
        "\n",
        "# Add edges (relationships based on correlation)\n",
        "threshold = 0.5  # Define a correlation threshold to create edges\n",
        "for i in range(len(correlation_matrix.columns)):\n",
        "    for j in range(i+1, len(correlation_matrix.columns)):\n",
        "        if abs(correlation_matrix.iloc[i, j]) > threshold:\n",
        "            G.add_edge(correlation_matrix.columns[i], correlation_matrix.columns[j], weight=correlation_matrix.iloc[i, j])\n",
        "\n",
        "# Visualize the graph\n",
        "pos = nx.spring_layout(G)\n",
        "nx.draw(G, pos, with_labels=True, node_size=500, node_color='skyblue', edge_color='gray', font_size=10)\n",
        "plt.show()\n"
      ],
      "metadata": {
        "colab": {
          "base_uri": "https://localhost:8080/",
          "height": 516
        },
        "id": "K1FUlcjfIfTk",
        "outputId": "944fad58-c4d6-43c1-dab3-433260d96f99"
      },
      "execution_count": 16,
      "outputs": [
        {
          "output_type": "display_data",
          "data": {
            "text/plain": [
              "<Figure size 640x480 with 1 Axes>"
            ],
            "image/png": "[encoded data removed]"
          },
          "metadata": {}
        }
      ]
    },
    {
      "cell_type": "markdown",
      "source": [
        "2. Graph Neural Network Model Development"
      ],
      "metadata": {
        "id": "kUjAHrjOIgft"
      }
    },
    {
      "cell_type": "code",
      "source": [
        "!pip install torch-geometric"
      ],
      "metadata": {
        "colab": {
          "base_uri": "https://localhost:8080/"
        },
        "id": "uUoRitB9JgTn",
        "outputId": "ea94d7b5-b8e1-4b08-8260-083a281dfcc0"
      },
      "execution_count": 17,
      "outputs": [
        {
          "output_type": "stream",
          "name": "stdout",
          "text": [
            "Requirement already satisfied: torch-geometric in /usr/local/lib/python3.10/dist-packages (2.5.3)\n",
            "Requirement already satisfied: tqdm in /usr/local/lib/python3.10/dist-packages (from torch-geometric) (4.66.4)\n",
            "Requirement already satisfied: numpy in /usr/local/lib/python3.10/dist-packages (from torch-geometric) (1.25.2)\n",
            "Requirement already satisfied: scipy in /usr/local/lib/python3.10/dist-packages (from torch-geometric) (1.11.4)\n",
            "Requirement already satisfied: fsspec in /usr/local/lib/python3.10/dist-packages (from torch-geometric) (2023.6.0)\n",
            "Requirement already satisfied: jinja2 in /usr/local/lib/python3.10/dist-packages (from torch-geometric) (3.1.4)\n",
            "Requirement already satisfied: aiohttp in /usr/local/lib/python3.10/dist-packages (from torch-geometric) (3.9.5)\n",
            "Requirement already satisfied: requests in /usr/local/lib/python3.10/dist-packages (from torch-geometric) (2.31.0)\n",
            "Requirement already satisfied: pyparsing in /usr/local/lib/python3.10/dist-packages (from torch-geometric) (3.1.2)\n",
            "Requirement already satisfied: scikit-learn in /usr/local/lib/python3.10/dist-packages (from torch-geometric) (1.2.2)\n",
            "Requirement already satisfied: psutil>=5.8.0 in /usr/local/lib/python3.10/dist-packages (from torch-geometric) (5.9.5)\n",
            "Requirement already satisfied: aiosignal>=1.1.2 in /usr/local/lib/python3.10/dist-packages (from aiohttp->torch-geometric) (1.3.1)\n",
            "Requirement already satisfied: attrs>=17.3.0 in /usr/local/lib/python3.10/dist-packages (from aiohttp->torch-geometric) (23.2.0)\n",
            "Requirement already satisfied: frozenlist>=1.1.1 in /usr/local/lib/python3.10/dist-packages (from aiohttp->torch-geometric) (1.4.1)\n",
            "Requirement already satisfied: multidict<7.0,>=4.5 in /usr/local/lib/python3.10/dist-packages (from aiohttp->torch-geometric) (6.0.5)\n",
            "Requirement already satisfied: yarl<2.0,>=1.0 in /usr/local/lib/python3.10/dist-packages (from aiohttp->torch-geometric) (1.9.4)\n",
            "Requirement already satisfied: async-timeout<5.0,>=4.0 in /usr/local/lib/python3.10/dist-packages (from aiohttp->torch-geometric) (4.0.3)\n",
            "Requirement already satisfied: MarkupSafe>=2.0 in /usr/local/lib/python3.10/dist-packages (from jinja2->torch-geometric) (2.1.5)\n",
            "Requirement already satisfied: charset-normalizer<4,>=2 in /usr/local/lib/python3.10/dist-packages (from requests->torch-geometric) (3.3.2)\n",
            "Requirement already satisfied: idna<4,>=2.5 in /usr/local/lib/python3.10/dist-packages (from requests->torch-geometric) (3.7)\n",
            "Requirement already satisfied: urllib3<3,>=1.21.1 in /usr/local/lib/python3.10/dist-packages (from requests->torch-geometric) (2.0.7)\n",
            "Requirement already satisfied: certifi>=2017.4.17 in /usr/local/lib/python3.10/dist-packages (from requests->torch-geometric) (2024.7.4)\n",
            "Requirement already satisfied: joblib>=1.1.1 in /usr/local/lib/python3.10/dist-packages (from scikit-learn->torch-geometric) (1.4.2)\n",
            "Requirement already satisfied: threadpoolctl>=2.0.0 in /usr/local/lib/python3.10/dist-packages (from scikit-learn->torch-geometric) (3.5.0)\n"
          ]
        }
      ]
    },
    {
      "cell_type": "code",
      "source": [
        "import torch\n",
        "import torch.nn.functional as F\n",
        "from torch_geometric.nn import GCNConv\n",
        "from torch_geometric.data import Data\n",
        "from torch_geometric.utils import from_networkx\n",
        "\n",
        "# Convert NetworkX graph to PyTorch Geometric data format\n",
        "data_pg = from_networkx(G)\n",
        "\n",
        "# Assume the features are the log returns of the prices\n",
        "log_returns = np.log(data / data.shift(1)).dropna()\n",
        "data_pg.x = torch.tensor(log_returns.values, dtype=torch.float)\n",
        "\n",
        "# Generate synthetic target labels (e.g., next day's returns)\n",
        "data_pg.y = torch.tensor(log_returns.shift(-1).dropna().values.mean(axis=1), dtype=torch.float)\n",
        "\n",
        "# Define a GNN model\n",
        "class GCN(torch.nn.Module):\n",
        "    def __init__(self):\n",
        "        super(GCN, self).__init__()\n",
        "        self.conv1 = GCNConv(data_pg.num_node_features, 16)\n",
        "        self.conv2 = GCNConv(16, 16)\n",
        "        self.fc = torch.nn.Linear(16, 1)  # Output layer (e.g., predict risk metric)\n",
        "\n",
        "    def forward(self, data):\n",
        "        x, edge_index = data.x, data.edge_index\n",
        "        x = self.conv1(x, edge_index)\n",
        "        x = F.relu(x)\n",
        "        x = self.conv2(x, edge_index)\n",
        "        x = F.relu(x)\n",
        "        x = torch.mean(x, dim=0)  # Aggregate node features\n",
        "        x = self.fc(x)\n",
        "        return x\n",
        "\n",
        "# Initialize the model, optimizer, and loss function\n",
        "model = GCN()\n",
        "optimizer = torch.optim.Adam(model.parameters(), lr=0.01)\n",
        "criterion = torch.nn.MSELoss()  # Assume we're predicting a continuous variable\n",
        "\n",
        "# Training loop\n",
        "def train():\n",
        "    model.train()\n",
        "    optimizer.zero_grad()\n",
        "    out = model(data_pg)\n",
        "    loss = criterion(out, data_pg.y)\n",
        "    loss.backward()\n",
        "    optimizer.step()\n",
        "    return loss.item()\n",
        "\n",
        "# Train the model\n",
        "for epoch in range(200):\n",
        "    loss = train()\n",
        "    if epoch % 10 == 0:\n",
        "        print(f'Epoch {epoch}, Loss: {loss}')\n"
      ],
      "metadata": {
        "colab": {
          "base_uri": "https://localhost:8080/"
        },
        "id": "2akLWuZHInjV",
        "outputId": "c865f8c5-a7b8-41e5-a024-74547da45a7c"
      },
      "execution_count": 18,
      "outputs": [
        {
          "output_type": "stream",
          "name": "stderr",
          "text": [
            "/usr/local/lib/python3.10/dist-packages/torch/nn/modules/loss.py:535: UserWarning: Using a target size (torch.Size([250])) that is different to the input size (torch.Size([1])). This will likely lead to incorrect results due to broadcasting. Please ensure they have the same size.\n",
            "  return F.mse_loss(input, target, reduction=self.reduction)\n"
          ]
        },
        {
          "output_type": "stream",
          "name": "stdout",
          "text": [
            "Epoch 0, Loss: 0.03008471243083477\n",
            "Epoch 10, Loss: 0.003490667324513197\n",
            "Epoch 20, Loss: 0.00020153068180661649\n",
            "Epoch 30, Loss: 0.00016223936108872294\n",
            "Epoch 40, Loss: 0.0001478358608437702\n",
            "Epoch 50, Loss: 3.3796044590417296e-05\n",
            "Epoch 60, Loss: 1.892329783004243e-05\n",
            "Epoch 70, Loss: 2.2029700630810112e-05\n",
            "Epoch 80, Loss: 2.0268300431780517e-05\n",
            "Epoch 90, Loss: 1.862957469711546e-05\n",
            "Epoch 100, Loss: 1.812954906199593e-05\n",
            "Epoch 110, Loss: 1.8053289750241674e-05\n",
            "Epoch 120, Loss: 1.805208194127772e-05\n",
            "Epoch 130, Loss: 1.805333340598736e-05\n",
            "Epoch 140, Loss: 1.8052629457088187e-05\n",
            "Epoch 150, Loss: 1.805178908398375e-05\n",
            "Epoch 160, Loss: 1.805130705179181e-05\n",
            "Epoch 170, Loss: 1.805109241104219e-05\n",
            "Epoch 180, Loss: 1.805100509955082e-05\n",
            "Epoch 190, Loss: 1.8050975995720364e-05\n"
          ]
        }
      ]
    },
    {
      "cell_type": "markdown",
      "source": [
        "3. Evaluation and Hedging Strategy Implementation"
      ],
      "metadata": {
        "id": "izp8Gy6cIo0P"
      }
    },
    {
      "cell_type": "code",
      "source": [
        "# Extract features using the trained GNN model\n",
        "model.eval()\n",
        "with torch.no_grad():\n",
        "    features = model(data_pg).view(-1, 1)  # Ensure features have the correct shape\n",
        "\n",
        "# Implement a simple hedging strategy based on extracted features\n",
        "# Here, we'll assume a simple threshold-based strategy for illustration\n",
        "hedge_threshold = 0.1\n",
        "\n",
        "# Simulated backtesting\n",
        "def backtest(features, market_data):\n",
        "    portfolio_value = 100000  # Initial portfolio value\n",
        "    hedge_positions = []\n",
        "\n",
        "    for i in range(len(features)):\n",
        "        signal = features[i].item()  # Example feature signal\n",
        "        if signal > hedge_threshold:\n",
        "            hedge_positions.append('Hedge')  # Take a hedge position\n",
        "        else:\n",
        "            hedge_positions.append('No Hedge')  # No hedge\n",
        "\n",
        "    return hedge_positions\n",
        "\n",
        "# Backtest the strategy\n",
        "market_data = data_pg.x.numpy()  # Use the log returns as market data\n",
        "hedge_positions = backtest(features.numpy(), market_data)\n",
        "\n",
        "# Evaluate the performance\n",
        "print(\"Hedge Positions:\", hedge_positions)\n"
      ],
      "metadata": {
        "colab": {
          "base_uri": "https://localhost:8080/"
        },
        "id": "tx1LTajwIsF3",
        "outputId": "ce174a1e-ecdc-4f10-a6bc-59bc68d77fe1"
      },
      "execution_count": 19,
      "outputs": [
        {
          "output_type": "stream",
          "name": "stdout",
          "text": [
            "Hedge Positions: ['No Hedge']\n"
          ]
        }
      ]
    },
    {
      "cell_type": "markdown",
      "source": [
        " Plot Hedging Positions Over Time"
      ],
      "metadata": {
        "id": "g9J2-bPExdrD"
      }
    },
    {
      "cell_type": "code",
      "source": [
        "def plot_hedging_positions(hedge_positions):\n",
        "    hedge_indicator = [1 if pos == 'Hedge' else 0 for pos in hedge_positions]\n",
        "    plt.figure(figsize=(12, 6))\n",
        "    plt.plot(hedge_indicator, marker='o', linestyle='-', color='b')\n",
        "    plt.xlabel('Time (Days)')\n",
        "    plt.ylabel('Hedging Position')\n",
        "    plt.title('Hedging Positions Over Time')\n",
        "    plt.show()\n",
        "\n",
        "plot_hedging_positions(hedge_positions)\n"
      ],
      "metadata": {
        "colab": {
          "base_uri": "https://localhost:8080/",
          "height": 564
        },
        "id": "gmiSZsqZxe_L",
        "outputId": "e77a85f1-8506-4aa7-fa62-7cbde06bbcd9"
      },
      "execution_count": 20,
      "outputs": [
        {
          "output_type": "display_data",
          "data": {
            "text/plain": [
              "<Figure size 1200x600 with 1 Axes>"
            ],
            "image/png": "[encoded data removed]"
          },
          "metadata": {}
        }
      ]
    }
  ]
}