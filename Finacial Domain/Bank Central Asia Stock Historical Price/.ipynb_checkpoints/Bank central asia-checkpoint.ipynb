{
 "cells": [
  {
   "cell_type": "code",
   "execution_count": 1,
   "id": "0cf23fc2",
   "metadata": {
    "_cell_guid": "b1076dfc-b9ad-4769-8c92-a6c4dae69d19",
    "_uuid": "8f2839f25d086af736a60e9eeb907d3b93b6e0e5",
    "execution": {
     "iopub.execute_input": "2024-02-14T21:12:57.916467Z",
     "iopub.status.busy": "2024-02-14T21:12:57.915737Z",
     "iopub.status.idle": "2024-02-14T21:13:00.984688Z",
     "shell.execute_reply": "2024-02-14T21:13:00.983357Z"
    },
    "papermill": {
     "duration": 3.093379,
     "end_time": "2024-02-14T21:13:00.987867",
     "exception": false,
     "start_time": "2024-02-14T21:12:57.894488",
     "status": "completed"
    },
    "tags": []
   },
   "outputs": [],
   "source": [
    "import pandas as pd\n",
    "import matplotlib.pyplot as plt\n",
    "%matplotlib inline\n",
    "import numpy as np\n",
    "import seaborn as sns\n",
    "import statistics  \n",
    "from scipy.stats import zscore\n",
    "from sklearn.model_selection import train_test_split\n",
    "from sklearn.naive_bayes import GaussianNB\n",
    "from sklearn.metrics import accuracy_score\n",
    "from scipy.stats import norm\n",
    "import scipy.stats as stats\n"
   ]
  },
  {
   "cell_type": "code",
   "execution_count": 2,
   "id": "287580fc",
   "metadata": {
    "execution": {
     "iopub.execute_input": "2024-02-14T21:13:01.027274Z",
     "iopub.status.busy": "2024-02-14T21:13:01.026614Z",
     "iopub.status.idle": "2024-02-14T21:13:01.088487Z",
     "shell.execute_reply": "2024-02-14T21:13:01.087074Z"
    },
    "papermill": {
     "duration": 0.085614,
     "end_time": "2024-02-14T21:13:01.091763",
     "exception": false,
     "start_time": "2024-02-14T21:13:01.006149",
     "status": "completed"
    },
    "tags": []
   },
   "outputs": [
    {
     "data": {
      "text/html": [
       "<div>\n",
       "<style scoped>\n",
       "    .dataframe tbody tr th:only-of-type {\n",
       "        vertical-align: middle;\n",
       "    }\n",
       "\n",
       "    .dataframe tbody tr th {\n",
       "        vertical-align: top;\n",
       "    }\n",
       "\n",
       "    .dataframe thead th {\n",
       "        text-align: right;\n",
       "    }\n",
       "</style>\n",
       "<table border=\"1\" class=\"dataframe\">\n",
       "  <thead>\n",
       "    <tr style=\"text-align: right;\">\n",
       "      <th></th>\n",
       "      <th>Date</th>\n",
       "      <th>Open</th>\n",
       "      <th>High</th>\n",
       "      <th>Low</th>\n",
       "      <th>Close</th>\n",
       "      <th>Adj Close</th>\n",
       "      <th>Volume</th>\n",
       "    </tr>\n",
       "  </thead>\n",
       "  <tbody>\n",
       "    <tr>\n",
       "      <th>0</th>\n",
       "      <td>2019-01-01</td>\n",
       "      <td>5200.0</td>\n",
       "      <td>5200.0</td>\n",
       "      <td>5200.0</td>\n",
       "      <td>5200.0</td>\n",
       "      <td>4736.543457</td>\n",
       "      <td>0</td>\n",
       "    </tr>\n",
       "    <tr>\n",
       "      <th>1</th>\n",
       "      <td>2019-01-02</td>\n",
       "      <td>5200.0</td>\n",
       "      <td>5245.0</td>\n",
       "      <td>5200.0</td>\n",
       "      <td>5240.0</td>\n",
       "      <td>4772.978516</td>\n",
       "      <td>35956000</td>\n",
       "    </tr>\n",
       "    <tr>\n",
       "      <th>2</th>\n",
       "      <td>2019-01-03</td>\n",
       "      <td>5200.0</td>\n",
       "      <td>5220.0</td>\n",
       "      <td>5115.0</td>\n",
       "      <td>5180.0</td>\n",
       "      <td>4718.325684</td>\n",
       "      <td>72358000</td>\n",
       "    </tr>\n",
       "    <tr>\n",
       "      <th>3</th>\n",
       "      <td>2019-01-04</td>\n",
       "      <td>5175.0</td>\n",
       "      <td>5205.0</td>\n",
       "      <td>5125.0</td>\n",
       "      <td>5205.0</td>\n",
       "      <td>4741.097656</td>\n",
       "      <td>51465000</td>\n",
       "    </tr>\n",
       "    <tr>\n",
       "      <th>4</th>\n",
       "      <td>2019-01-07</td>\n",
       "      <td>5265.0</td>\n",
       "      <td>5325.0</td>\n",
       "      <td>5245.0</td>\n",
       "      <td>5245.0</td>\n",
       "      <td>4777.533203</td>\n",
       "      <td>73438000</td>\n",
       "    </tr>\n",
       "    <tr>\n",
       "      <th>...</th>\n",
       "      <td>...</td>\n",
       "      <td>...</td>\n",
       "      <td>...</td>\n",
       "      <td>...</td>\n",
       "      <td>...</td>\n",
       "      <td>...</td>\n",
       "      <td>...</td>\n",
       "    </tr>\n",
       "    <tr>\n",
       "      <th>1256</th>\n",
       "      <td>2024-02-05</td>\n",
       "      <td>9675.0</td>\n",
       "      <td>9675.0</td>\n",
       "      <td>9525.0</td>\n",
       "      <td>9575.0</td>\n",
       "      <td>9575.000000</td>\n",
       "      <td>57983300</td>\n",
       "    </tr>\n",
       "    <tr>\n",
       "      <th>1257</th>\n",
       "      <td>2024-02-06</td>\n",
       "      <td>9750.0</td>\n",
       "      <td>9750.0</td>\n",
       "      <td>9625.0</td>\n",
       "      <td>9625.0</td>\n",
       "      <td>9625.000000</td>\n",
       "      <td>87651000</td>\n",
       "    </tr>\n",
       "    <tr>\n",
       "      <th>1258</th>\n",
       "      <td>2024-02-07</td>\n",
       "      <td>9700.0</td>\n",
       "      <td>9725.0</td>\n",
       "      <td>9650.0</td>\n",
       "      <td>9700.0</td>\n",
       "      <td>9700.000000</td>\n",
       "      <td>92953500</td>\n",
       "    </tr>\n",
       "    <tr>\n",
       "      <th>1259</th>\n",
       "      <td>2024-02-12</td>\n",
       "      <td>9750.0</td>\n",
       "      <td>9800.0</td>\n",
       "      <td>9700.0</td>\n",
       "      <td>9800.0</td>\n",
       "      <td>9800.000000</td>\n",
       "      <td>87949400</td>\n",
       "    </tr>\n",
       "    <tr>\n",
       "      <th>1260</th>\n",
       "      <td>2024-02-13</td>\n",
       "      <td>9750.0</td>\n",
       "      <td>9800.0</td>\n",
       "      <td>9700.0</td>\n",
       "      <td>9725.0</td>\n",
       "      <td>9725.000000</td>\n",
       "      <td>66072400</td>\n",
       "    </tr>\n",
       "  </tbody>\n",
       "</table>\n",
       "<p>1261 rows × 7 columns</p>\n",
       "</div>"
      ],
      "text/plain": [
       "            Date    Open    High     Low   Close    Adj Close    Volume\n",
       "0     2019-01-01  5200.0  5200.0  5200.0  5200.0  4736.543457         0\n",
       "1     2019-01-02  5200.0  5245.0  5200.0  5240.0  4772.978516  35956000\n",
       "2     2019-01-03  5200.0  5220.0  5115.0  5180.0  4718.325684  72358000\n",
       "3     2019-01-04  5175.0  5205.0  5125.0  5205.0  4741.097656  51465000\n",
       "4     2019-01-07  5265.0  5325.0  5245.0  5245.0  4777.533203  73438000\n",
       "...          ...     ...     ...     ...     ...          ...       ...\n",
       "1256  2024-02-05  9675.0  9675.0  9525.0  9575.0  9575.000000  57983300\n",
       "1257  2024-02-06  9750.0  9750.0  9625.0  9625.0  9625.000000  87651000\n",
       "1258  2024-02-07  9700.0  9725.0  9650.0  9700.0  9700.000000  92953500\n",
       "1259  2024-02-12  9750.0  9800.0  9700.0  9800.0  9800.000000  87949400\n",
       "1260  2024-02-13  9750.0  9800.0  9700.0  9725.0  9725.000000  66072400\n",
       "\n",
       "[1261 rows x 7 columns]"
      ]
     },
     "execution_count": 2,
     "metadata": {},
     "output_type": "execute_result"
    }
   ],
   "source": [
    "d1=pd.read_csv(\"/kaggle/input/bank-central-asia-stock-historical-price/BBCA.JK.csv\")\n",
    "d1"
   ]
  },
  {
   "cell_type": "code",
   "execution_count": 3,
   "id": "170baf29",
   "metadata": {
    "execution": {
     "iopub.execute_input": "2024-02-14T21:13:01.131905Z",
     "iopub.status.busy": "2024-02-14T21:13:01.131122Z",
     "iopub.status.idle": "2024-02-14T21:13:01.153365Z",
     "shell.execute_reply": "2024-02-14T21:13:01.152094Z"
    },
    "papermill": {
     "duration": 0.045482,
     "end_time": "2024-02-14T21:13:01.156477",
     "exception": false,
     "start_time": "2024-02-14T21:13:01.110995",
     "status": "completed"
    },
    "tags": []
   },
   "outputs": [
    {
     "data": {
      "text/html": [
       "<div>\n",
       "<style scoped>\n",
       "    .dataframe tbody tr th:only-of-type {\n",
       "        vertical-align: middle;\n",
       "    }\n",
       "\n",
       "    .dataframe tbody tr th {\n",
       "        vertical-align: top;\n",
       "    }\n",
       "\n",
       "    .dataframe thead th {\n",
       "        text-align: right;\n",
       "    }\n",
       "</style>\n",
       "<table border=\"1\" class=\"dataframe\">\n",
       "  <thead>\n",
       "    <tr style=\"text-align: right;\">\n",
       "      <th></th>\n",
       "      <th>Date</th>\n",
       "      <th>Open</th>\n",
       "      <th>High</th>\n",
       "      <th>Low</th>\n",
       "      <th>Close</th>\n",
       "      <th>Adj Close</th>\n",
       "      <th>Volume</th>\n",
       "    </tr>\n",
       "  </thead>\n",
       "  <tbody>\n",
       "    <tr>\n",
       "      <th>0</th>\n",
       "      <td>2018-12-31</td>\n",
       "      <td>5200.0</td>\n",
       "      <td>5640.0</td>\n",
       "      <td>5115.0</td>\n",
       "      <td>5635.0</td>\n",
       "      <td>5132.773438</td>\n",
       "      <td>1859122000</td>\n",
       "    </tr>\n",
       "    <tr>\n",
       "      <th>1</th>\n",
       "      <td>2019-01-31</td>\n",
       "      <td>5680.0</td>\n",
       "      <td>5750.0</td>\n",
       "      <td>5335.0</td>\n",
       "      <td>5515.0</td>\n",
       "      <td>5023.469238</td>\n",
       "      <td>1493339500</td>\n",
       "    </tr>\n",
       "    <tr>\n",
       "      <th>2</th>\n",
       "      <td>2019-02-28</td>\n",
       "      <td>5565.0</td>\n",
       "      <td>5600.0</td>\n",
       "      <td>5425.0</td>\n",
       "      <td>5510.0</td>\n",
       "      <td>5018.914551</td>\n",
       "      <td>790477000</td>\n",
       "    </tr>\n",
       "    <tr>\n",
       "      <th>3</th>\n",
       "      <td>2019-03-31</td>\n",
       "      <td>5550.0</td>\n",
       "      <td>5805.0</td>\n",
       "      <td>5450.0</td>\n",
       "      <td>5750.0</td>\n",
       "      <td>5237.523926</td>\n",
       "      <td>989206000</td>\n",
       "    </tr>\n",
       "    <tr>\n",
       "      <th>4</th>\n",
       "      <td>2019-04-30</td>\n",
       "      <td>5750.0</td>\n",
       "      <td>5895.0</td>\n",
       "      <td>5140.0</td>\n",
       "      <td>5820.0</td>\n",
       "      <td>5349.746094</td>\n",
       "      <td>1700900500</td>\n",
       "    </tr>\n",
       "  </tbody>\n",
       "</table>\n",
       "</div>"
      ],
      "text/plain": [
       "         Date    Open    High     Low   Close    Adj Close      Volume\n",
       "0  2018-12-31  5200.0  5640.0  5115.0  5635.0  5132.773438  1859122000\n",
       "1  2019-01-31  5680.0  5750.0  5335.0  5515.0  5023.469238  1493339500\n",
       "2  2019-02-28  5565.0  5600.0  5425.0  5510.0  5018.914551   790477000\n",
       "3  2019-03-31  5550.0  5805.0  5450.0  5750.0  5237.523926   989206000\n",
       "4  2019-04-30  5750.0  5895.0  5140.0  5820.0  5349.746094  1700900500"
      ]
     },
     "execution_count": 3,
     "metadata": {},
     "output_type": "execute_result"
    }
   ],
   "source": [
    "d2=pd.read_csv(\"/kaggle/input/bank-central-asia-stock-historical-price/BBCA.JK_monthly.csv\")\n",
    "d2.head()"
   ]
  },
  {
   "cell_type": "code",
   "execution_count": 4,
   "id": "42dafa51",
   "metadata": {
    "execution": {
     "iopub.execute_input": "2024-02-14T21:13:01.198738Z",
     "iopub.status.busy": "2024-02-14T21:13:01.198326Z",
     "iopub.status.idle": "2024-02-14T21:13:01.221074Z",
     "shell.execute_reply": "2024-02-14T21:13:01.219648Z"
    },
    "papermill": {
     "duration": 0.047224,
     "end_time": "2024-02-14T21:13:01.224307",
     "exception": false,
     "start_time": "2024-02-14T21:13:01.177083",
     "status": "completed"
    },
    "tags": []
   },
   "outputs": [
    {
     "data": {
      "text/html": [
       "<div>\n",
       "<style scoped>\n",
       "    .dataframe tbody tr th:only-of-type {\n",
       "        vertical-align: middle;\n",
       "    }\n",
       "\n",
       "    .dataframe tbody tr th {\n",
       "        vertical-align: top;\n",
       "    }\n",
       "\n",
       "    .dataframe thead th {\n",
       "        text-align: right;\n",
       "    }\n",
       "</style>\n",
       "<table border=\"1\" class=\"dataframe\">\n",
       "  <thead>\n",
       "    <tr style=\"text-align: right;\">\n",
       "      <th></th>\n",
       "      <th>Date</th>\n",
       "      <th>Open</th>\n",
       "      <th>High</th>\n",
       "      <th>Low</th>\n",
       "      <th>Close</th>\n",
       "      <th>Adj Close</th>\n",
       "      <th>Volume</th>\n",
       "    </tr>\n",
       "  </thead>\n",
       "  <tbody>\n",
       "    <tr>\n",
       "      <th>0</th>\n",
       "      <td>2018-12-31</td>\n",
       "      <td>5200.0</td>\n",
       "      <td>5325.0</td>\n",
       "      <td>5115.0</td>\n",
       "      <td>5245.0</td>\n",
       "      <td>4777.532227</td>\n",
       "      <td>233217000</td>\n",
       "    </tr>\n",
       "    <tr>\n",
       "      <th>1</th>\n",
       "      <td>2019-01-07</td>\n",
       "      <td>5230.0</td>\n",
       "      <td>5320.0</td>\n",
       "      <td>5150.0</td>\n",
       "      <td>5200.0</td>\n",
       "      <td>4736.542969</td>\n",
       "      <td>437807000</td>\n",
       "    </tr>\n",
       "    <tr>\n",
       "      <th>2</th>\n",
       "      <td>2019-01-14</td>\n",
       "      <td>5230.0</td>\n",
       "      <td>5600.0</td>\n",
       "      <td>5190.0</td>\n",
       "      <td>5545.0</td>\n",
       "      <td>5050.795410</td>\n",
       "      <td>462381000</td>\n",
       "    </tr>\n",
       "    <tr>\n",
       "      <th>3</th>\n",
       "      <td>2019-01-21</td>\n",
       "      <td>5600.0</td>\n",
       "      <td>5620.0</td>\n",
       "      <td>5355.0</td>\n",
       "      <td>5495.0</td>\n",
       "      <td>5005.251953</td>\n",
       "      <td>435848500</td>\n",
       "    </tr>\n",
       "    <tr>\n",
       "      <th>4</th>\n",
       "      <td>2019-01-28</td>\n",
       "      <td>5445.0</td>\n",
       "      <td>5750.0</td>\n",
       "      <td>5440.0</td>\n",
       "      <td>5500.0</td>\n",
       "      <td>5009.805664</td>\n",
       "      <td>461434500</td>\n",
       "    </tr>\n",
       "  </tbody>\n",
       "</table>\n",
       "</div>"
      ],
      "text/plain": [
       "         Date    Open    High     Low   Close    Adj Close     Volume\n",
       "0  2018-12-31  5200.0  5325.0  5115.0  5245.0  4777.532227  233217000\n",
       "1  2019-01-07  5230.0  5320.0  5150.0  5200.0  4736.542969  437807000\n",
       "2  2019-01-14  5230.0  5600.0  5190.0  5545.0  5050.795410  462381000\n",
       "3  2019-01-21  5600.0  5620.0  5355.0  5495.0  5005.251953  435848500\n",
       "4  2019-01-28  5445.0  5750.0  5440.0  5500.0  5009.805664  461434500"
      ]
     },
     "execution_count": 4,
     "metadata": {},
     "output_type": "execute_result"
    }
   ],
   "source": [
    "d3=pd.read_csv(\"/kaggle/input/bank-central-asia-stock-historical-price/BBCA.JK_weekly.csv\")\n",
    "d3.head()"
   ]
  },
  {
   "cell_type": "markdown",
   "id": "79fc6614",
   "metadata": {
    "papermill": {
     "duration": 0.018824,
     "end_time": "2024-02-14T21:13:01.263329",
     "exception": false,
     "start_time": "2024-02-14T21:13:01.244505",
     "status": "completed"
    },
    "tags": []
   },
   "source": [
    "#  we have 2 types of variables categorlical  and  numeric\n",
    "\n",
    " numerica data divide into 2 types\n",
    "\n",
    " 1. discret\n",
    " 2. continuous \n",
    "\n",
    " discret is data we can count but countinous is measure data like hight\n",
    " * our data is continuous data  "
   ]
  },
  {
   "cell_type": "code",
   "execution_count": 5,
   "id": "f8d43dc3",
   "metadata": {
    "execution": {
     "iopub.execute_input": "2024-02-14T21:13:01.304307Z",
     "iopub.status.busy": "2024-02-14T21:13:01.303879Z",
     "iopub.status.idle": "2024-02-14T21:13:01.331552Z",
     "shell.execute_reply": "2024-02-14T21:13:01.330388Z"
    },
    "papermill": {
     "duration": 0.051174,
     "end_time": "2024-02-14T21:13:01.334185",
     "exception": false,
     "start_time": "2024-02-14T21:13:01.283011",
     "status": "completed"
    },
    "tags": []
   },
   "outputs": [
    {
     "name": "stdout",
     "output_type": "stream",
     "text": [
      "<class 'pandas.core.frame.DataFrame'>\n",
      "RangeIndex: 1261 entries, 0 to 1260\n",
      "Data columns (total 7 columns):\n",
      " #   Column     Non-Null Count  Dtype  \n",
      "---  ------     --------------  -----  \n",
      " 0   Date       1261 non-null   object \n",
      " 1   Open       1261 non-null   float64\n",
      " 2   High       1261 non-null   float64\n",
      " 3   Low        1261 non-null   float64\n",
      " 4   Close      1261 non-null   float64\n",
      " 5   Adj Close  1261 non-null   float64\n",
      " 6   Volume     1261 non-null   int64  \n",
      "dtypes: float64(5), int64(1), object(1)\n",
      "memory usage: 69.1+ KB\n"
     ]
    }
   ],
   "source": [
    "d1.info()"
   ]
  },
  {
   "cell_type": "code",
   "execution_count": 6,
   "id": "8850cefa",
   "metadata": {
    "execution": {
     "iopub.execute_input": "2024-02-14T21:13:01.375417Z",
     "iopub.status.busy": "2024-02-14T21:13:01.374291Z",
     "iopub.status.idle": "2024-02-14T21:13:01.387380Z",
     "shell.execute_reply": "2024-02-14T21:13:01.385837Z"
    },
    "papermill": {
     "duration": 0.036489,
     "end_time": "2024-02-14T21:13:01.390035",
     "exception": false,
     "start_time": "2024-02-14T21:13:01.353546",
     "status": "completed"
    },
    "tags": []
   },
   "outputs": [
    {
     "name": "stdout",
     "output_type": "stream",
     "text": [
      "<class 'pandas.core.frame.DataFrame'>\n",
      "RangeIndex: 63 entries, 0 to 62\n",
      "Data columns (total 7 columns):\n",
      " #   Column     Non-Null Count  Dtype  \n",
      "---  ------     --------------  -----  \n",
      " 0   Date       63 non-null     object \n",
      " 1   Open       63 non-null     float64\n",
      " 2   High       63 non-null     float64\n",
      " 3   Low        63 non-null     float64\n",
      " 4   Close      63 non-null     float64\n",
      " 5   Adj Close  63 non-null     float64\n",
      " 6   Volume     63 non-null     int64  \n",
      "dtypes: float64(5), int64(1), object(1)\n",
      "memory usage: 3.6+ KB\n"
     ]
    }
   ],
   "source": [
    "d2.info()"
   ]
  },
  {
   "cell_type": "code",
   "execution_count": 7,
   "id": "e12bfd58",
   "metadata": {
    "execution": {
     "iopub.execute_input": "2024-02-14T21:13:01.431978Z",
     "iopub.status.busy": "2024-02-14T21:13:01.431506Z",
     "iopub.status.idle": "2024-02-14T21:13:01.444521Z",
     "shell.execute_reply": "2024-02-14T21:13:01.443350Z"
    },
    "papermill": {
     "duration": 0.037019,
     "end_time": "2024-02-14T21:13:01.446924",
     "exception": false,
     "start_time": "2024-02-14T21:13:01.409905",
     "status": "completed"
    },
    "tags": []
   },
   "outputs": [
    {
     "name": "stdout",
     "output_type": "stream",
     "text": [
      "<class 'pandas.core.frame.DataFrame'>\n",
      "RangeIndex: 269 entries, 0 to 268\n",
      "Data columns (total 7 columns):\n",
      " #   Column     Non-Null Count  Dtype  \n",
      "---  ------     --------------  -----  \n",
      " 0   Date       269 non-null    object \n",
      " 1   Open       269 non-null    float64\n",
      " 2   High       269 non-null    float64\n",
      " 3   Low        269 non-null    float64\n",
      " 4   Close      269 non-null    float64\n",
      " 5   Adj Close  269 non-null    float64\n",
      " 6   Volume     269 non-null    int64  \n",
      "dtypes: float64(5), int64(1), object(1)\n",
      "memory usage: 14.8+ KB\n"
     ]
    }
   ],
   "source": [
    "d3.info()"
   ]
  },
  {
   "cell_type": "markdown",
   "id": "9fa06943",
   "metadata": {
    "papermill": {
     "duration": 0.01918,
     "end_time": "2024-02-14T21:13:01.485754",
     "exception": false,
     "start_time": "2024-02-14T21:13:01.466574",
     "status": "completed"
    },
    "tags": []
   },
   "source": [
    "# Measures of central Tendency\n",
    "1. Mode \n",
    "2. Mean\n",
    "3. Median\n"
   ]
  },
  {
   "cell_type": "code",
   "execution_count": 8,
   "id": "85b22596",
   "metadata": {
    "execution": {
     "iopub.execute_input": "2024-02-14T21:13:01.526548Z",
     "iopub.status.busy": "2024-02-14T21:13:01.526122Z",
     "iopub.status.idle": "2024-02-14T21:13:01.532618Z",
     "shell.execute_reply": "2024-02-14T21:13:01.531371Z"
    },
    "papermill": {
     "duration": 0.030113,
     "end_time": "2024-02-14T21:13:01.535489",
     "exception": false,
     "start_time": "2024-02-14T21:13:01.505376",
     "status": "completed"
    },
    "tags": []
   },
   "outputs": [],
   "source": [
    "x=d1[\"Date\"]\n",
    "y=d1.drop(\"Date\",axis=1)"
   ]
  },
  {
   "cell_type": "markdown",
   "id": "e95e931e",
   "metadata": {
    "papermill": {
     "duration": 0.018995,
     "end_time": "2024-02-14T21:13:01.573923",
     "exception": false,
     "start_time": "2024-02-14T21:13:01.554928",
     "status": "completed"
    },
    "tags": []
   },
   "source": [
    "**Mode** \n",
    "we are used it with categorical data \n",
    "it's more repeated observation\n",
    "ex 1,2,2,2,3,3,3,3,5,7,8,8\n",
    "mode=3"
   ]
  },
  {
   "cell_type": "code",
   "execution_count": 9,
   "id": "92dc55ce",
   "metadata": {
    "execution": {
     "iopub.execute_input": "2024-02-14T21:13:01.616205Z",
     "iopub.status.busy": "2024-02-14T21:13:01.615296Z",
     "iopub.status.idle": "2024-02-14T21:13:01.640849Z",
     "shell.execute_reply": "2024-02-14T21:13:01.639781Z"
    },
    "papermill": {
     "duration": 0.049201,
     "end_time": "2024-02-14T21:13:01.643187",
     "exception": false,
     "start_time": "2024-02-14T21:13:01.593986",
     "status": "completed"
    },
    "tags": []
   },
   "outputs": [
    {
     "data": {
      "text/html": [
       "<div>\n",
       "<style scoped>\n",
       "    .dataframe tbody tr th:only-of-type {\n",
       "        vertical-align: middle;\n",
       "    }\n",
       "\n",
       "    .dataframe tbody tr th {\n",
       "        vertical-align: top;\n",
       "    }\n",
       "\n",
       "    .dataframe thead th {\n",
       "        text-align: right;\n",
       "    }\n",
       "</style>\n",
       "<table border=\"1\" class=\"dataframe\">\n",
       "  <thead>\n",
       "    <tr style=\"text-align: right;\">\n",
       "      <th></th>\n",
       "      <th>Open</th>\n",
       "      <th>High</th>\n",
       "      <th>Low</th>\n",
       "      <th>Close</th>\n",
       "      <th>Adj Close</th>\n",
       "      <th>Volume</th>\n",
       "    </tr>\n",
       "  </thead>\n",
       "  <tbody>\n",
       "    <tr>\n",
       "      <th>0</th>\n",
       "      <td>6000.0</td>\n",
       "      <td>7400.0</td>\n",
       "      <td>8725.0</td>\n",
       "      <td>9050.0</td>\n",
       "      <td>9007.025391</td>\n",
       "      <td>0.0</td>\n",
       "    </tr>\n",
       "    <tr>\n",
       "      <th>1</th>\n",
       "      <td>9200.0</td>\n",
       "      <td>7475.0</td>\n",
       "      <td>NaN</td>\n",
       "      <td>NaN</td>\n",
       "      <td>NaN</td>\n",
       "      <td>NaN</td>\n",
       "    </tr>\n",
       "    <tr>\n",
       "      <th>2</th>\n",
       "      <td>NaN</td>\n",
       "      <td>8900.0</td>\n",
       "      <td>NaN</td>\n",
       "      <td>NaN</td>\n",
       "      <td>NaN</td>\n",
       "      <td>NaN</td>\n",
       "    </tr>\n",
       "  </tbody>\n",
       "</table>\n",
       "</div>"
      ],
      "text/plain": [
       "     Open    High     Low   Close    Adj Close  Volume\n",
       "0  6000.0  7400.0  8725.0  9050.0  9007.025391     0.0\n",
       "1  9200.0  7475.0     NaN     NaN          NaN     NaN\n",
       "2     NaN  8900.0     NaN     NaN          NaN     NaN"
      ]
     },
     "execution_count": 9,
     "metadata": {},
     "output_type": "execute_result"
    }
   ],
   "source": [
    "#we can get it by two ways first and easy way with pandas\n",
    "y.mode()"
   ]
  },
  {
   "cell_type": "code",
   "execution_count": 10,
   "id": "61577124",
   "metadata": {
    "execution": {
     "iopub.execute_input": "2024-02-14T21:13:01.685582Z",
     "iopub.status.busy": "2024-02-14T21:13:01.684616Z",
     "iopub.status.idle": "2024-02-14T21:13:01.699662Z",
     "shell.execute_reply": "2024-02-14T21:13:01.698830Z"
    },
    "papermill": {
     "duration": 0.039122,
     "end_time": "2024-02-14T21:13:01.702219",
     "exception": false,
     "start_time": "2024-02-14T21:13:01.663097",
     "status": "completed"
    },
    "tags": []
   },
   "outputs": [
    {
     "name": "stdout",
     "output_type": "stream",
     "text": [
      "Mode is / are: 7475.0, 7400.0, 8900.0\n"
     ]
    }
   ],
   "source": [
    "#second way\n",
    "from collections import Counter \n",
    " \n",
    "\n",
    "n = len(y[\"High\"]) \n",
    " \n",
    "data = Counter(y[\"High\"]) \n",
    "get_mode = dict(data) \n",
    "mode = [k for k, v in get_mode.items() if v == max(list(data.values()))] \n",
    " \n",
    "if len(mode) == n: \n",
    "    get_mode = \"No mode found\"\n",
    "else: \n",
    "    get_mode = \"Mode is / are: \" + ', '.join(map(str, mode)) \n",
    "     \n",
    "print(get_mode) "
   ]
  },
  {
   "cell_type": "markdown",
   "id": "38587c0f",
   "metadata": {
    "papermill": {
     "duration": 0.019785,
     "end_time": "2024-02-14T21:13:01.741742",
     "exception": false,
     "start_time": "2024-02-14T21:13:01.721957",
     "status": "completed"
    },
    "tags": []
   },
   "source": [
    "**Mean** sum of all oservations and divide on size\n",
    "ex:1,2,3,4,5,6,7,8\n",
    "1+2+3+4+5+6+7+8=36\n",
    "36/8=4.5\n",
    "mean=4.5"
   ]
  },
  {
   "cell_type": "code",
   "execution_count": 11,
   "id": "81355b90",
   "metadata": {
    "execution": {
     "iopub.execute_input": "2024-02-14T21:13:01.784521Z",
     "iopub.status.busy": "2024-02-14T21:13:01.784093Z",
     "iopub.status.idle": "2024-02-14T21:13:01.794721Z",
     "shell.execute_reply": "2024-02-14T21:13:01.793377Z"
    },
    "papermill": {
     "duration": 0.034561,
     "end_time": "2024-02-14T21:13:01.797190",
     "exception": false,
     "start_time": "2024-02-14T21:13:01.762629",
     "status": "completed"
    },
    "tags": []
   },
   "outputs": [
    {
     "data": {
      "text/plain": [
       "Open         7.146527e+03\n",
       "High         7.208751e+03\n",
       "Low          7.081649e+03\n",
       "Close        7.145063e+03\n",
       "Adj Close    6.839946e+03\n",
       "Volume       8.337213e+07\n",
       "dtype: float64"
      ]
     },
     "execution_count": 11,
     "metadata": {},
     "output_type": "execute_result"
    }
   ],
   "source": [
    "#we can get it by two ways first and easy way with pandas\n",
    "mm=y.mean()\n",
    "mm"
   ]
  },
  {
   "cell_type": "code",
   "execution_count": 12,
   "id": "f368e404",
   "metadata": {
    "execution": {
     "iopub.execute_input": "2024-02-14T21:13:01.839950Z",
     "iopub.status.busy": "2024-02-14T21:13:01.839495Z",
     "iopub.status.idle": "2024-02-14T21:13:01.847085Z",
     "shell.execute_reply": "2024-02-14T21:13:01.845594Z"
    },
    "papermill": {
     "duration": 0.03189,
     "end_time": "2024-02-14T21:13:01.849704",
     "exception": false,
     "start_time": "2024-02-14T21:13:01.817814",
     "status": "completed"
    },
    "tags": []
   },
   "outputs": [
    {
     "name": "stdout",
     "output_type": "stream",
     "text": [
      "mean = 7208.750991276765\n"
     ]
    }
   ],
   "source": [
    "#second way\n",
    "n=len(y[\"High\"])\n",
    "get_sum=sum(y[\"High\"])\n",
    "mean=get_sum/n\n",
    "print(\"mean =\",mean)"
   ]
  },
  {
   "cell_type": "markdown",
   "id": "b8022766",
   "metadata": {
    "papermill": {
     "duration": 0.02016,
     "end_time": "2024-02-14T21:13:01.889718",
     "exception": false,
     "start_time": "2024-02-14T21:13:01.869558",
     "status": "completed"
    },
    "tags": []
   },
   "source": [
    "the last one is called **median**\n",
    "we are used it to get median of obsevations\n",
    " if we have odd number of observations we can get the middle nubmer\n",
    "ex:1,2,3,4,5,6,7\n",
    "median=4\n",
    "but if we have even number we get the mean of two middle oservations\n",
    "ex: 1,2,3,4,5,6,7,8\n",
    "mean=4+5/2=4.5\n",
    "median=4.5"
   ]
  },
  {
   "cell_type": "code",
   "execution_count": 13,
   "id": "8e44c7bc",
   "metadata": {
    "execution": {
     "iopub.execute_input": "2024-02-14T21:13:01.932833Z",
     "iopub.status.busy": "2024-02-14T21:13:01.932401Z",
     "iopub.status.idle": "2024-02-14T21:13:01.942256Z",
     "shell.execute_reply": "2024-02-14T21:13:01.941142Z"
    },
    "papermill": {
     "duration": 0.034776,
     "end_time": "2024-02-14T21:13:01.944857",
     "exception": false,
     "start_time": "2024-02-14T21:13:01.910081",
     "status": "completed"
    },
    "tags": []
   },
   "outputs": [
    {
     "data": {
      "text/plain": [
       "71990000.0"
      ]
     },
     "execution_count": 13,
     "metadata": {},
     "output_type": "execute_result"
    }
   ],
   "source": [
    "#we can get it by two ways first and easy way with pandas\n",
    "y[\"Volume\"].median()"
   ]
  },
  {
   "cell_type": "code",
   "execution_count": 14,
   "id": "48cb099a",
   "metadata": {
    "execution": {
     "iopub.execute_input": "2024-02-14T21:13:01.987166Z",
     "iopub.status.busy": "2024-02-14T21:13:01.986706Z",
     "iopub.status.idle": "2024-02-14T21:13:01.994312Z",
     "shell.execute_reply": "2024-02-14T21:13:01.993056Z"
    },
    "papermill": {
     "duration": 0.031838,
     "end_time": "2024-02-14T21:13:01.996992",
     "exception": false,
     "start_time": "2024-02-14T21:13:01.965154",
     "status": "completed"
    },
    "tags": []
   },
   "outputs": [
    {
     "name": "stdout",
     "output_type": "stream",
     "text": [
      "Median is: 49724000\n"
     ]
    }
   ],
   "source": [
    "#second way\n",
    "n_num =y[\"Volume\"]\n",
    "n=len(n_num)\n",
    "\n",
    "if n%2==0:\n",
    "    median1=n_num[n//2]\n",
    "    median2=n_num[n//2-1]\n",
    "    median=(median1+median2)/2\n",
    "else:\n",
    "    median=n_num[n//2]\n",
    "print(\"Median is: \" + str(median)) \n",
    "\n",
    "        "
   ]
  },
  {
   "cell_type": "code",
   "execution_count": 15,
   "id": "29f28713",
   "metadata": {
    "execution": {
     "iopub.execute_input": "2024-02-14T21:13:02.039305Z",
     "iopub.status.busy": "2024-02-14T21:13:02.038834Z",
     "iopub.status.idle": "2024-02-14T21:13:02.045533Z",
     "shell.execute_reply": "2024-02-14T21:13:02.044250Z"
    },
    "papermill": {
     "duration": 0.031203,
     "end_time": "2024-02-14T21:13:02.048283",
     "exception": false,
     "start_time": "2024-02-14T21:13:02.017080",
     "status": "completed"
    },
    "tags": []
   },
   "outputs": [
    {
     "name": "stdout",
     "output_type": "stream",
     "text": [
      "49724000\n"
     ]
    }
   ],
   "source": [
    "n_num =y[\"Volume\"]\n",
    "print(n_num[n//2])"
   ]
  },
  {
   "cell_type": "markdown",
   "id": "7e5a4d20",
   "metadata": {
    "papermill": {
     "duration": 0.021595,
     "end_time": "2024-02-14T21:13:02.090694",
     "exception": false,
     "start_time": "2024-02-14T21:13:02.069099",
     "status": "completed"
    },
    "tags": []
   },
   "source": [
    "# Measure of Dispersion\n",
    "1. Range\n",
    "2. IQR\n",
    "3. Variance\n",
    "4. Standard division"
   ]
  },
  {
   "cell_type": "code",
   "execution_count": 16,
   "id": "02399e40",
   "metadata": {
    "execution": {
     "iopub.execute_input": "2024-02-14T21:13:02.219638Z",
     "iopub.status.busy": "2024-02-14T21:13:02.219228Z",
     "iopub.status.idle": "2024-02-14T21:13:02.229438Z",
     "shell.execute_reply": "2024-02-14T21:13:02.228146Z"
    },
    "papermill": {
     "duration": 0.120345,
     "end_time": "2024-02-14T21:13:02.231950",
     "exception": false,
     "start_time": "2024-02-14T21:13:02.111605",
     "status": "completed"
    },
    "tags": []
   },
   "outputs": [
    {
     "name": "stdout",
     "output_type": "stream",
     "text": [
      "min of y Open         4450.000000\n",
      "High         4800.000000\n",
      "Low          4325.000000\n",
      "Close        4430.000000\n",
      "Adj Close    4084.944336\n",
      "Volume          0.000000\n",
      "dtype: float64\n",
      "max of y Open              9775.0\n",
      "High              9800.0\n",
      "Low               9700.0\n",
      "Close             9800.0\n",
      "Adj Close         9800.0\n",
      "Volume       722827900.0\n",
      "dtype: float64\n"
     ]
    }
   ],
   "source": [
    "#range min,max\n",
    "print(\"min of y\",y.min())\n",
    "print(\"max of y\",y.max())\n"
   ]
  },
  {
   "cell_type": "markdown",
   "id": "3f3589a6",
   "metadata": {
    "papermill": {
     "duration": 0.020176,
     "end_time": "2024-02-14T21:13:02.272987",
     "exception": false,
     "start_time": "2024-02-14T21:13:02.252811",
     "status": "completed"
    },
    "tags": []
   },
   "source": [
    "**IQR inter quantile range**\n",
    "data divide into 4 quantilies q1,q2,q3,q4\n",
    "q1=25% \n",
    "q2=50%\n",
    "q3=75%\n",
    "q4=100%\n",
    "\n",
    "IQR=q3-q1"
   ]
  },
  {
   "cell_type": "code",
   "execution_count": 17,
   "id": "cce60c45",
   "metadata": {
    "execution": {
     "iopub.execute_input": "2024-02-14T21:13:02.317042Z",
     "iopub.status.busy": "2024-02-14T21:13:02.316606Z",
     "iopub.status.idle": "2024-02-14T21:13:02.328451Z",
     "shell.execute_reply": "2024-02-14T21:13:02.326871Z"
    },
    "papermill": {
     "duration": 0.037342,
     "end_time": "2024-02-14T21:13:02.330918",
     "exception": false,
     "start_time": "2024-02-14T21:13:02.293576",
     "status": "completed"
    },
    "tags": []
   },
   "outputs": [
    {
     "name": "stdout",
     "output_type": "stream",
     "text": [
      "first quantile \n",
      " Open         6.070000e+03\n",
      "High         6.115000e+03\n",
      "Low          6.010000e+03\n",
      "Close        6.065000e+03\n",
      "Adj Close    5.689851e+03\n",
      "Volume       5.369250e+07\n",
      "Name: 0.25, dtype: float64\n",
      "second quantile \n",
      " Open         8.375000e+03\n",
      "High         8.475000e+03\n",
      "Low          8.325000e+03\n",
      "Close        8.400000e+03\n",
      "Adj Close    8.188708e+03\n",
      "Volume       9.829660e+07\n",
      "Name: 0.75, dtype: float64\n"
     ]
    }
   ],
   "source": [
    "q1=y.quantile(0.25)\n",
    "q3=y.quantile(0.75)\n",
    "print(\"first quantile\",\"\\n\",q1)\n",
    "print(\"second quantile\",\"\\n\",q3)"
   ]
  },
  {
   "cell_type": "markdown",
   "id": "d59c4133",
   "metadata": {
    "papermill": {
     "duration": 0.020116,
     "end_time": "2024-02-14T21:13:02.371709",
     "exception": false,
     "start_time": "2024-02-14T21:13:02.351593",
     "status": "completed"
    },
    "tags": []
   },
   "source": []
  },
  {
   "cell_type": "code",
   "execution_count": 18,
   "id": "b211156f",
   "metadata": {
    "execution": {
     "iopub.execute_input": "2024-02-14T21:13:02.415136Z",
     "iopub.status.busy": "2024-02-14T21:13:02.414690Z",
     "iopub.status.idle": "2024-02-14T21:13:02.422162Z",
     "shell.execute_reply": "2024-02-14T21:13:02.420850Z"
    },
    "papermill": {
     "duration": 0.032913,
     "end_time": "2024-02-14T21:13:02.425042",
     "exception": false,
     "start_time": "2024-02-14T21:13:02.392129",
     "status": "completed"
    },
    "tags": []
   },
   "outputs": [
    {
     "name": "stdout",
     "output_type": "stream",
     "text": [
      "Open         2.305000e+03\n",
      "High         2.360000e+03\n",
      "Low          2.315000e+03\n",
      "Close        2.335000e+03\n",
      "Adj Close    2.498857e+03\n",
      "Volume       4.460410e+07\n",
      "dtype: float64\n"
     ]
    }
   ],
   "source": [
    "IQR=q3-q1\n",
    "print(IQR)"
   ]
  },
  {
   "cell_type": "code",
   "execution_count": 19,
   "id": "0040954d",
   "metadata": {
    "execution": {
     "iopub.execute_input": "2024-02-14T21:13:02.468783Z",
     "iopub.status.busy": "2024-02-14T21:13:02.468288Z",
     "iopub.status.idle": "2024-02-14T21:13:02.474055Z",
     "shell.execute_reply": "2024-02-14T21:13:02.472863Z"
    },
    "papermill": {
     "duration": 0.030537,
     "end_time": "2024-02-14T21:13:02.476474",
     "exception": false,
     "start_time": "2024-02-14T21:13:02.445937",
     "status": "completed"
    },
    "tags": []
   },
   "outputs": [],
   "source": [
    "def blackbox(x):\n",
    "    plt.boxplot(x)\n",
    "    fig = plt.figure(figsize =(10, 7))\n",
    "\n",
    "    plt.show()\n"
   ]
  },
  {
   "cell_type": "code",
   "execution_count": 20,
   "id": "f2cf0c10",
   "metadata": {
    "execution": {
     "iopub.execute_input": "2024-02-14T21:13:02.521452Z",
     "iopub.status.busy": "2024-02-14T21:13:02.521053Z",
     "iopub.status.idle": "2024-02-14T21:13:02.698843Z",
     "shell.execute_reply": "2024-02-14T21:13:02.697960Z"
    },
    "papermill": {
     "duration": 0.203982,
     "end_time": "2024-02-14T21:13:02.701738",
     "exception": false,
     "start_time": "2024-02-14T21:13:02.497756",
     "status": "completed"
    },
    "tags": []
   },
   "outputs": [
    {
     "data": {
      "image/png": "[encoded data removed]",
      "text/plain": [
       "<Figure size 640x480 with 1 Axes>"
      ]
     },
     "metadata": {},
     "output_type": "display_data"
    },
    {
     "data": {
      "text/plain": [
       "<Figure size 1000x700 with 0 Axes>"
      ]
     },
     "metadata": {},
     "output_type": "display_data"
    }
   ],
   "source": [
    "blackbox(y[\"Open\"])"
   ]
  },
  {
   "cell_type": "code",
   "execution_count": 21,
   "id": "f3f39aec",
   "metadata": {
    "execution": {
     "iopub.execute_input": "2024-02-14T21:13:02.746894Z",
     "iopub.status.busy": "2024-02-14T21:13:02.746440Z",
     "iopub.status.idle": "2024-02-14T21:13:02.889229Z",
     "shell.execute_reply": "2024-02-14T21:13:02.887941Z"
    },
    "papermill": {
     "duration": 0.168308,
     "end_time": "2024-02-14T21:13:02.892121",
     "exception": false,
     "start_time": "2024-02-14T21:13:02.723813",
     "status": "completed"
    },
    "tags": []
   },
   "outputs": [
    {
     "data": {
      "image/png": "[encoded data removed]",
      "text/plain": [
       "<Figure size 640x480 with 1 Axes>"
      ]
     },
     "metadata": {},
     "output_type": "display_data"
    },
    {
     "data": {
      "text/plain": [
       "<Figure size 1000x700 with 0 Axes>"
      ]
     },
     "metadata": {},
     "output_type": "display_data"
    }
   ],
   "source": [
    "blackbox(y[\"High\"])"
   ]
  },
  {
   "cell_type": "code",
   "execution_count": 22,
   "id": "aee002bf",
   "metadata": {
    "execution": {
     "iopub.execute_input": "2024-02-14T21:13:02.939993Z",
     "iopub.status.busy": "2024-02-14T21:13:02.939569Z",
     "iopub.status.idle": "2024-02-14T21:13:03.098501Z",
     "shell.execute_reply": "2024-02-14T21:13:03.097173Z"
    },
    "papermill": {
     "duration": 0.186898,
     "end_time": "2024-02-14T21:13:03.101137",
     "exception": false,
     "start_time": "2024-02-14T21:13:02.914239",
     "status": "completed"
    },
    "tags": []
   },
   "outputs": [
    {
     "data": {
      "image/png": "[encoded data removed]",
      "text/plain": [
       "<Figure size 640x480 with 1 Axes>"
      ]
     },
     "metadata": {},
     "output_type": "display_data"
    },
    {
     "data": {
      "text/plain": [
       "<Figure size 1000x700 with 0 Axes>"
      ]
     },
     "metadata": {},
     "output_type": "display_data"
    }
   ],
   "source": [
    "blackbox(y[\"Volume\"])"
   ]
  },
  {
   "cell_type": "markdown",
   "id": "0e774eef",
   "metadata": {
    "papermill": {
     "duration": 0.022194,
     "end_time": "2024-02-14T21:13:03.145840",
     "exception": false,
     "start_time": "2024-02-14T21:13:03.123646",
     "status": "completed"
    },
    "tags": []
   },
   "source": [
    "# Variance and Std\n",
    "**variance  is a measure of how data points differ from the mean\n",
    "**\n",
    "\n",
    "**Std is a measure of how dispersed the data is in relation to the mean\n",
    "**\n",
    "\n",
    "\n",
    "**variance (S)^2=(x-mean)^2/n-1\n",
    "**\n",
    "\n",
    "**Std (S)=square root of variance \n",
    "**\n",
    "\n",
    "**Note\n",
    "**\n",
    "\n",
    "**if you work with sample the symple of mean is xbar and std is S**\n",
    "\n",
    "\n",
    "**But if you work with population the symple of mean \\mu and std is σ**"
   ]
  },
  {
   "cell_type": "code",
   "execution_count": 23,
   "id": "9cb56d59",
   "metadata": {
    "execution": {
     "iopub.execute_input": "2024-02-14T21:13:03.192969Z",
     "iopub.status.busy": "2024-02-14T21:13:03.192494Z",
     "iopub.status.idle": "2024-02-14T21:13:03.200996Z",
     "shell.execute_reply": "2024-02-14T21:13:03.199555Z"
    },
    "papermill": {
     "duration": 0.035554,
     "end_time": "2024-02-14T21:13:03.203683",
     "exception": false,
     "start_time": "2024-02-14T21:13:03.168129",
     "status": "completed"
    },
    "tags": []
   },
   "outputs": [
    {
     "name": "stdout",
     "output_type": "stream",
     "text": [
      "1692493.498262905\n"
     ]
    }
   ],
   "source": [
    "length= int(len(y))\n",
    "mean = sum(y[\"High\"]) / length \n",
    "variance = sum((i - mean) ** 2 for i in y[\"High\"]) / (length-1)\n",
    "print(variance)"
   ]
  },
  {
   "cell_type": "code",
   "execution_count": 24,
   "id": "f97ba770",
   "metadata": {
    "execution": {
     "iopub.execute_input": "2024-02-14T21:13:03.252585Z",
     "iopub.status.busy": "2024-02-14T21:13:03.252138Z",
     "iopub.status.idle": "2024-02-14T21:13:03.262265Z",
     "shell.execute_reply": "2024-02-14T21:13:03.261110Z"
    },
    "papermill": {
     "duration": 0.037869,
     "end_time": "2024-02-14T21:13:03.265280",
     "exception": false,
     "start_time": "2024-02-14T21:13:03.227411",
     "status": "completed"
    },
    "tags": []
   },
   "outputs": [
    {
     "data": {
      "text/plain": [
       "1692493.4982629055"
      ]
     },
     "execution_count": 24,
     "metadata": {},
     "output_type": "execute_result"
    }
   ],
   "source": [
    "statistics.variance(y[\"High\"])"
   ]
  },
  {
   "cell_type": "markdown",
   "id": "e6fe3984",
   "metadata": {
    "papermill": {
     "duration": 0.02258,
     "end_time": "2024-02-14T21:13:03.310458",
     "exception": false,
     "start_time": "2024-02-14T21:13:03.287878",
     "status": "completed"
    },
    "tags": []
   },
   "source": [
    "# STD"
   ]
  },
  {
   "cell_type": "code",
   "execution_count": 25,
   "id": "649b61b9",
   "metadata": {
    "execution": {
     "iopub.execute_input": "2024-02-14T21:13:03.357690Z",
     "iopub.status.busy": "2024-02-14T21:13:03.357266Z",
     "iopub.status.idle": "2024-02-14T21:13:03.365734Z",
     "shell.execute_reply": "2024-02-14T21:13:03.364590Z"
    },
    "papermill": {
     "duration": 0.035098,
     "end_time": "2024-02-14T21:13:03.368233",
     "exception": false,
     "start_time": "2024-02-14T21:13:03.333135",
     "status": "completed"
    },
    "tags": []
   },
   "outputs": [
    {
     "name": "stdout",
     "output_type": "stream",
     "text": [
      "1300.9586843028126\n"
     ]
    }
   ],
   "source": [
    "length=int(len(y[\"High\"]))\n",
    "mean=sum(y[\"High\"])/length\n",
    "variance==sum((i-mean)**2 for i in y[\"High\"])/(length-1)\n",
    "std=np.sqrt(variance)\n",
    "print(std)"
   ]
  },
  {
   "cell_type": "code",
   "execution_count": 26,
   "id": "420dc392",
   "metadata": {
    "execution": {
     "iopub.execute_input": "2024-02-14T21:13:03.415362Z",
     "iopub.status.busy": "2024-02-14T21:13:03.414921Z",
     "iopub.status.idle": "2024-02-14T21:13:03.427650Z",
     "shell.execute_reply": "2024-02-14T21:13:03.426112Z"
    },
    "papermill": {
     "duration": 0.039264,
     "end_time": "2024-02-14T21:13:03.430292",
     "exception": false,
     "start_time": "2024-02-14T21:13:03.391028",
     "status": "completed"
    },
    "tags": []
   },
   "outputs": [
    {
     "name": "stdout",
     "output_type": "stream",
     "text": [
      "Open         1.297085e+03\n",
      "High         1.300443e+03\n",
      "Low          1.299444e+03\n",
      "Close        1.301443e+03\n",
      "Adj Close    1.432817e+03\n",
      "Volume       5.387264e+07\n",
      "dtype: float64\n"
     ]
    },
    {
     "name": "stderr",
     "output_type": "stream",
     "text": [
      "/opt/conda/lib/python3.10/site-packages/numpy/core/fromnumeric.py:3643: FutureWarning: The behavior of DataFrame.std with axis=None is deprecated, in a future version this will reduce over both axes and return a scalar. To retain the old behavior, pass axis=0 (or do not pass axis)\n",
      "  return std(axis=axis, dtype=dtype, out=out, ddof=ddof, **kwargs)\n"
     ]
    }
   ],
   "source": [
    "std=np.std(y)\n",
    "print(std)"
   ]
  },
  {
   "cell_type": "markdown",
   "id": "34098eeb",
   "metadata": {
    "papermill": {
     "duration": 0.0227,
     "end_time": "2024-02-14T21:13:03.475668",
     "exception": false,
     "start_time": "2024-02-14T21:13:03.452968",
     "status": "completed"
    },
    "tags": []
   },
   "source": [
    "# Z-Score\n",
    "**is the number of standard deviations from the mean value of the reference population**\n",
    "\n",
    "**z=(x-mean)/std**"
   ]
  },
  {
   "cell_type": "code",
   "execution_count": 27,
   "id": "2e40766a",
   "metadata": {
    "execution": {
     "iopub.execute_input": "2024-02-14T21:13:03.524000Z",
     "iopub.status.busy": "2024-02-14T21:13:03.522485Z",
     "iopub.status.idle": "2024-02-14T21:13:03.535229Z",
     "shell.execute_reply": "2024-02-14T21:13:03.533831Z"
    },
    "papermill": {
     "duration": 0.039681,
     "end_time": "2024-02-14T21:13:03.537975",
     "exception": false,
     "start_time": "2024-02-14T21:13:03.498294",
     "status": "completed"
    },
    "tags": []
   },
   "outputs": [
    {
     "name": "stdout",
     "output_type": "stream",
     "text": [
      "[-1.5440544081177028, -1.509464531788067, -1.5286811297489757, -1.540211088525521, -1.447971418313159, -1.4518147379053405, -1.4518147379053405, -1.4671880162740676, -1.4671880162740676, -1.5171511709724304, -1.4979345730115217, -1.478717975050613, -1.444128098720977, -1.3711050264695237, -1.2365888407431622, -1.2212155623744352, -1.2365888407431622, -1.3249851913633426, -1.2980819542180704, -1.301925273810252, -1.2750220366649798, -1.2673353974806163, -1.2058422840057081, -1.1212892529777096, -1.20968560359789, -1.3134552325867974, -1.2827086758493433, -1.286551995441525, -1.286551995441525, -1.2903953150337069, -1.2903953150337069, -1.321141871771161, -1.3864783048382507, -1.382634985246069, -1.3134552325867974, -1.3288285109555245, -1.240432160335344, -1.2673353974806163, -1.2942386346258885, -1.3134552325867974, -1.271178717072798, -1.2596487582962528, -1.2519621191118893, -1.2365888407431622, -1.2827086758493433, -1.3096119129946155, -1.271178717072798, -1.321141871771161, -1.2596487582962528, -1.2903953150337069, -1.2827086758493433, -1.3096119129946155, -1.317298552178979, -1.2788653562571615, -1.2673353974806163, -1.2788653562571615, -1.271178717072798, -1.2980819542180704, -1.3134552325867974, -1.3134552325867974, -1.305768593402434, -1.305768593402434, -1.3249851913633426, -1.2903953150337069, -1.2750220366649798, -1.2596487582962528, -1.3134552325867974, -1.2673353974806163, -1.2673353974806163, -1.2827086758493433, -1.2750220366649798, -1.271178717072798, -1.2673353974806163, -1.305768593402434, -1.2596487582962528, -1.3096119129946155, -1.317298552178979, -1.0790127374637102, -1.2173722427822535, -1.175095727268254, -1.1520358097151635, -1.2058422840057081, -1.2212155623744352, -1.2019989644135265, -1.163565768491709, -1.1136026137933461, -1.1212892529777096, -1.0751694178715285, -1.1212892529777096, -1.190469005636981, -1.1520358097151635, -1.159722448899527, -1.159722448899527, -1.175095727268254, -1.163565768491709, -1.2135289231900717, -1.271178717072798, -1.3288285109555245, -1.459501377089704, -1.398008263614796, -1.317298552178979, -1.2903953150337069, -1.2327455211509806, -1.2135289231900717, -1.159722448899527, -1.1059159746089826, -1.0098329848044385, -1.1289758921620732, -1.0290495827653474, -1.067482778687165, -1.067482778687165, -1.067482778687165, -1.067482778687165, -1.067482778687165, -0.783077128865715, -0.9598698301060757, -1.0059896652122569, -1.017519623988802, -1.048266180726256, -1.052109500318438, -1.0059896652122569, -0.9598698301060757, -0.9752431084748028, -0.9790864280669845, -1.0059896652122569, -0.9598698301060757, -0.9752431084748028, -0.9790864280669845, -0.9329665929608035, -0.909906675407713, -0.9291232733686218, -0.9291232733686218, -0.9214366341842583, -0.9137499949998947, -0.9598698301060757, -0.9291232733686218, -0.8983767166311677, -0.909906675407713, -0.9060633558155312, -0.8407269227484413, -0.8484135619328048, -0.8138236856031691, -0.798450407234442, -0.767703850496988, -0.7062107370220798, -0.7062107370220798, -0.7254273349829886, -0.7177406957986251, -0.7369572937595339, -0.7523305721282609, -0.7369572937595339, -0.7446439329438974, -0.7215840153908069, -0.7715471700891697, -0.7638605309048062, -0.9637131496982575, -0.8906900774468042, -0.8676301598937136, -0.8368836031562595, -0.8676301598937136, -0.8983767166311677, -0.8830034382624407, -0.9291232733686218, -0.8983767166311677, -0.9060633558155312, -0.9022200362233495, -0.92527995377644, -0.9291232733686218, -0.9329665929608035, -0.9291232733686218, -0.8983767166311677, -0.9137499949998947, -0.909906675407713, -0.8522568815249866, -0.8522568815249866, -0.8868467578546224, -0.8830034382624407, -0.8637868403015319, -0.8830034382624407, -0.8868467578546224, -0.8868467578546224, -0.8522568815249866, -0.8484135619328048, -0.8599435207093501, -0.9175933145920765, -0.9022200362233495, -0.8983767166311677, -0.8945333970389859, -0.8906900774468042, -0.9060633558155312, -0.9291232733686218, -0.9790864280669845, -0.8830034382624407, -0.8714734794858954, -0.8753167990780771, -0.8791601186702589, -0.8753167990780771, -0.8945333970389859, -0.8791601186702589, -0.8676301598937136, -0.8522568815249866, -0.8522568815249866, -0.8445702423406231, -0.8099803660109873, -0.7753904896813515, -0.783077128865715, -0.7638605309048062, -0.767703850496988, -0.798450407234442, -0.7331139741673521, -0.6985240978377163, -0.6946807782455345, -0.6831508194689894, -0.6793074998768076, -0.7369572937595339, -0.7446439329438974, -0.7100540566142616, -0.6985240978377163, -0.6793074998768076, -0.6370309843628083, -0.6524042627315353, -0.6370309843628083, -0.6716208606924441, -0.6869941390611711, -0.6677775411002623, -0.7138973762064433, -0.7100540566142616, -0.7138973762064433, -0.7062107370220798, -0.7100540566142616, -0.6600909019158988, -0.6600909019158988, -0.6600909019158988, -0.6908374586533529, -0.6716208606924441, -0.6754641802846258, -0.6985240978377163, -0.702367417429898, -0.702367417429898, -0.6024411080331724, -0.6062844276253542, -0.6216577059940812, -0.6331876647706265, -0.625501025586263, -0.625501025586263, -0.6216577059940812, -0.6331876647706265, -0.6178143864018995, -0.6062844276253542, -0.625501025586263, -0.5447913141504461, -0.3141921386195407, -0.3756852520944488, -0.36031197372572177, -0.3679986129100853, -0.37184193250226705, -0.39105853046317585, -0.3756852520944488, -0.32956541698826775, -0.3141921386195407, -0.35262533454135825, -0.33725205617263126, -0.35646865413354, -0.3487820149491765, -0.2949755406586319, -0.34493869535699473, -0.24885570555245085, -0.11433951982608936, -0.24501238596026909, -0.24501238596026909, -0.17967595289317922, -0.24116906636808733, -0.24116906636808733, -0.24116906636808733, -0.2526990251446326, -0.20657919003845152, -0.2796022622899049, -0.2796022622899049, -0.2796022622899049, -0.31034881902735895, -0.4794548810833562, -0.45255164393808395, -0.32956541698826775, -0.32956541698826775, -0.32956541698826775, -0.325722097396086, -0.325722097396086, -0.3141921386195407, -0.29881886025081367, -0.31803545821172247, -0.35262533454135825, -0.3756852520944488, -0.34493869535699473, -0.3949018500553576, -0.42180508720062987, -0.467924922306811, -0.498671479044265, -0.5178880770051738, -0.5640079121113549, -0.7062107370220798, -0.7062107370220798, -0.6600909019158988, -0.5447913141504461, -0.514044757412992, -0.6600909019158988, -0.8983767166311677, -0.9214366341842583, -0.9444965517373488, -1.2058422840057081, -1.2673353974806163, -1.2673353974806163, -1.3096119129946155, -1.4056949027991594, -1.7016305113971548, -1.4018515832069778, -1.697787191804973, -1.7016305113971548, -1.3941649440226143, -1.0098329848044385, -1.271178717072798, -1.1520358097151635, -1.1212892529777096, -1.336515150139888, -1.2903953150337069, -1.1289758921620732, -0.8522568815249866, -1.190469005636981, -1.163565768491709, -1.225058881966617, -1.2442754799275257, -1.2135289231900717, -1.2980819542180704, -1.3557317481007967, -1.3134552325867974, -1.4249115007600683, -1.5171511709724304, -1.509464531788067, -1.590174243223884, -1.682413913436246, -1.7170037897658819, -1.8130867795704257, -1.5056212121958852, -1.4671880162740676, -1.4364414595366135, -1.413381541983523, -1.3903216244304324, -1.447971418313159, -1.4364414595366135, -1.5671143256707933, -1.6132341607769745, -1.7016305113971548, -1.8169300991626074, -1.728533748542427, -1.8515199754922433, -1.697787191804973, -1.697787191804973, -1.4518147379053405, -1.4710313358662495, -1.3134552325867974, -1.098229335424619, -0.9368099125529853, -1.0405795415418926, -0.9867730672513481, -0.9329665929608035, -1.032892902357529, -1.0751694178715285, -1.175095727268254, -1.1520358097151635, -1.0866993766480737, -1.082856057055892, -1.1289758921620732, -1.1981556448213446, -1.190469005636981, -1.190469005636981, -1.1136026137933461, -1.1251325725698913, -1.1136026137933461, -1.163565768491709, -1.1289758921620732, -1.082856057055892, -1.0290495827653474, -1.0021463456200752, -0.9790864280669845, -0.9329665929608035, -0.7254273349829886, -0.7446439329438974, -0.7446439329438974, -0.7446439329438974, -0.7753904896813515, -0.7446439329438974, -0.7753904896813515, -0.7907637680500785, -0.8061370464188056, -0.7484872525360792, -0.7369572937595339, -0.7638605309048062, -0.7753904896813515, -0.8215103247875325, -0.7753904896813515, -0.7869204484578968, -0.7446439329438974, -0.7484872525360792, -0.7600172113126245, -0.7600172113126245, -0.702367417429898, -0.7100540566142616, -0.7753904896813515, -0.7753904896813515, -0.7292706545751704, -0.6985240978377163, -0.6178143864018995, -0.6024411080331724, -0.6139710668097177, -0.6370309843628083, -0.6370309843628083, -0.6293443451784447, -0.467924922306811, -0.467924922306811, -0.514044757412992, -0.5294180357817191, -0.498671479044265, -0.5447913141504461, -0.5832245100722636, -0.6524042627315353, -0.6524042627315353, -0.6831508194689894, -0.7600172113126245, -0.9483398713295305, -0.8407269227484413, -0.8522568815249866, -1.0290495827653474, -1.0405795415418926, -1.1328192117542548, -1.1328192117542548, -1.2634920778884344, -1.2481187995197076, -1.286551995441525, -1.2173722427822535, -1.163565768491709, -1.20968560359789, -1.2634920778884344, -1.2596487582962528, -1.2634920778884344, -1.2673353974806163, -1.1481924901229819, -1.1174459333855278, -1.082856057055892, -1.1020726550168007, -1.0252062631731655, -1.036736221949711, -1.0059896652122569, -1.021362943580984, -1.0905426962402556, -1.0059896652122569, -1.021362943580984, -1.032892902357529, -1.082856057055892, -1.052109500318438, -1.0559528199106196, -1.0597961395028015, -1.0636394590949831, -1.0098329848044385, -0.9752431084748028, -0.7907637680500785, -0.6985240978377163, -0.6216577059940812, -0.467924922306811, -0.49482815945208325, -0.5486346337426279, -0.5832245100722636, -0.5563212729269914, -0.49482815945208325, -0.48714152026771973, -0.4371783655693569, -0.4294917263849934, -0.46023828312244747, -0.467924922306811, -0.4794548810833562, -0.5524779533348096, -0.5524779533348096, -0.6216577059940812, -0.5947544688488089, -0.5563212729269914, -0.5255747161895373, -0.5716945512957183, -0.48329820067553797, -0.5294180357817191, -0.467924922306811, -0.32956541698826775, -0.29113222106645015, -0.23732574677590557, -0.19889255085408802, -0.16045935493227045, -0.21042250963063328, -0.24501238596026909, -0.29881886025081367, -0.2334824271837238, -0.29881886025081367, -0.3065054994351772, -0.3141921386195407, -0.2719156231055414, -0.09127960227299883, -0.1028095610495441, -0.12202615901045288, -0.09896624145736234, 0.11625965570481601, 0.13163293407354304, 0.050923222637726154, -0.09127960227299883, -0.08359296308863531, -0.06437636512772654, -0.06821968471990829, 0.06629650100645318, 0.07013982059863494, -0.037473127982454245, -0.006726571245000191, -0.16045935493227045, -0.21426582922281504, -0.2181091488149968, -0.16045935493227045, -0.22195246840717855, -0.17583263330099747, -0.16045935493227045, -0.16045935493227045, -0.19889255085408802, -0.11818283941827112, -0.1373994373791799, -0.12202615901045288, -0.1719893137088157, -0.24501238596026909, -0.20273587044626976, -0.1912059116697245, -0.23732574677590557, -0.27575894269772316, -0.20657919003845152, -0.2796022622899049, -0.2872889014742684, -0.33725205617263126, -0.3065054994351772, -0.12586947860263464, -0.037473127982454245, -0.09512292186518059, -0.16045935493227045, -0.2181091488149968, -0.19889255085408802, -0.37952857168663057, -0.3756852520944488, -0.2526990251446326, -0.29881886025081367, -0.3833718912788123, -0.4179617676084481, -0.3756852520944488, -0.33725205617263126, -0.4064318088319029, -0.3756852520944488, -0.5063581182286285, -0.5909111492566271, -0.5870678296644454, -0.5332613553739008, -0.5793811904800819, -0.625501025586263, -0.7215840153908069, -0.7062107370220798, -0.798450407234442, -0.7177406957986251, -0.7638605309048062, -0.6831508194689894, -0.702367417429898, -0.8830034382624407, -0.6946807782455345, -0.6908374586533529, -0.6447176235471718, -0.7138973762064433, -0.7369572937595339, -0.7561738917204427, -0.7177406957986251, -0.625501025586263, -0.6216577059940812, -0.5947544688488089, -0.6178143864018995, -0.5755378708879001, -0.5832245100722636, -0.5601645925191732, -0.5985977884409907, -0.5985977884409907, -0.5832245100722636, -0.5755378708879001, -0.6062844276253542, -0.5601645925191732, -0.5447913141504461, -0.5793811904800819, -0.6216577059940812, -0.5947544688488089, -0.5832245100722636, -0.6370309843628083, -0.5909111492566271, -0.5601645925191732, -0.6447176235471718, -0.6293443451784447, -0.5332613553739008, -0.467924922306811, -0.45255164393808395, -0.4909848398599015, -0.48714152026771973, -0.5178880770051738, -0.45255164393808395, -0.48329820067553797, -0.5294180357817191, -0.5678512317035366, -0.5947544688488089, -0.6293443451784447, -0.6639342215080806, -0.6985240978377163, -0.6293443451784447, -0.6677775411002623, -0.6908374586533529, -0.7292706545751704, -0.8138236856031691, -0.8599435207093501, -0.8753167990780771, -0.8714734794858954, -0.8215103247875325, -0.829196963971896, -0.8445702423406231, -0.7907637680500785, -0.8983767166311677, -0.9137499949998947, -0.7907637680500785, -0.7946070876422603, -0.9060633558155312, -0.8407269227484413, -0.798450407234442, -0.8445702423406231, -0.8368836031562595, -0.8099803660109873, -0.783077128865715, -0.8830034382624407, -0.8830034382624407, -0.9214366341842583, -0.8637868403015319, -0.8522568815249866, -0.8791601186702589, -0.7907637680500785, -0.8138236856031691, -0.6908374586533529, -0.6524042627315353, -0.7753904896813515, -0.6985240978377163, -0.6831508194689894, -0.5947544688488089, -0.6062844276253542, -0.34493869535699473, -0.467924922306811, -0.467924922306811, -0.47561156149117445, -0.467924922306811, -0.4640816027146292, -0.48329820067553797, -0.5217313965973556, -0.48329820067553797, -0.4909848398599015, -0.467924922306811, -0.48714152026771973, -0.467924922306811, -0.4640816027146292, -0.4640816027146292, -0.4717682418989927, -0.4909848398599015, -0.49482815945208325, -0.498671479044265, -0.4717682418989927, -0.5063581182286285, -0.48329820067553797, -0.5178880770051738, -0.47561156149117445, -0.5178880770051738, -0.48329820067553797, -0.47561156149117445, -0.4794548810833562, -0.4717682418989927, -0.498671479044265, -0.48329820067553797, -0.16045935493227045, -0.23732574677590557, -0.1912059116697245, -0.20273587044626976, -0.022099849613727216, -0.025943169205908972, 0.07013982059863494, 0.062453181414271426, 0.08551309896736196, 0.8003705431131687, 0.5313381716604457, 0.5121215736995369, 0.35838879001226664, 0.24308920224681396, 0.26230580020772276, 0.26230580020772276, 0.24308920224681396, 0.3007389961295403, 0.28152239816863156, 0.16622281040317885, 0.20465600632499642, 0.26230580020772276, 0.16622281040317885, 0.14700621244227008, 0.20465600632499642, 0.20465600632499642, 0.3007389961295403, 0.35838879001226664, 0.35838879001226664, 0.41603858389499304, 0.41603858389499304, 0.3199555940904491, 0.20465600632499642, 0.28152239816863156, 0.2238726042859052, 0.18543940836408762, 0.24308920224681396, 0.2238726042859052, 0.28152239816863156, 0.24308920224681396, 0.18543940836408762, 0.16622281040317885, 0.16622281040317885, 0.18543940836408762, 0.2238726042859052, 0.24308920224681396, 0.20465600632499642, 0.20465600632499642, 0.20465600632499642, 0.18543940836408762, 0.12778961448136128, 0.14700621244227008, 0.12778961448136128, 0.12778961448136128, 0.14700621244227008, 0.2238726042859052, 0.14700621244227008, 0.14700621244227008, 0.16622281040317885, 0.1085730165204525, 0.1085730165204525, 0.1085730165204525, 0.14700621244227008, 0.12778961448136128, 0.1085730165204525, 0.14700621244227008, 0.18543940836408762, 0.24308920224681396, 0.24308920224681396, 0.37760538797317544, 0.3391721920513579, 0.37760538797317544, 0.37760538797317544, 0.41603858389499304, 0.4929049757386281, 0.5313381716604457, 0.4352551818559018, 0.39682198593408424, 0.4352551818559018, 0.5697713675822633, 0.4929049757386281, 0.4352551818559018, 0.41603858389499304, 0.4544717798168106, 0.4736883777777194, 0.4352551818559018, 0.4544717798168106, 0.4736883777777194, 0.4544717798168106, 0.4544717798168106, 0.4929049757386281, 0.5697713675822633, 0.5697713675822633, 0.4736883777777194, 0.4352551818559018, 0.5121215736995369, 0.588987965543172, 0.5505547696213545, 0.5697713675822633, 0.588987965543172, 0.5697713675822633, 0.685070955347716, 0.7235041512695335, 0.7427207492304423, 0.7427207492304423, 0.7811539451522599, 0.6274211614649896, 0.4929049757386281, 0.4929049757386281, 0.5697713675822633, 0.588987965543172, 0.5697713675822633, 0.685070955347716, 0.7619373471913511, 0.8195871410740775, 0.8388037390349862, 0.685070955347716, 0.5697713675822633, 0.5697713675822633, 0.5697713675822633, 0.5697713675822633, 0.5697713675822633, 0.5313381716604457, 0.5313381716604457, 0.5313381716604457, 0.6082045635040808, 0.6658543573868072, 0.5505547696213545, 0.5313381716604457, 0.4929049757386281, 0.4736883777777194, 0.5121215736995369, 0.5121215736995369, 0.4544717798168106, 0.4929049757386281, 0.4544717798168106, 0.39682198593408424, 0.37760538797317544, 0.39682198593408424, 0.5505547696213545, 0.5505547696213545, 0.6082045635040808, 0.7042875533086247, 0.7619373471913511, 0.8003705431131687, 0.5313381716604457, 0.3007389961295403, 0.37760538797317544, 0.26230580020772276, 0.20465600632499642, 0.20465600632499642, 0.28152239816863156, 0.20465600632499642, 0.20465600632499642, 0.20465600632499642, 0.20465600632499642, 0.18543940836408762, 0.28152239816863156, 0.3007389961295403, 0.41603858389499304, 0.35838879001226664, 0.35838879001226664, 0.28152239816863156, 0.20465600632499642, 0.3007389961295403, 0.28152239816863156, 0.18543940836408762, 0.14700621244227008, 0.14700621244227008, 0.12778961448136128, 0.3007389961295403, 0.26230580020772276, 0.3391721920513579, 0.3391721920513579, 0.3391721920513579, 0.28152239816863156, 0.3007389961295403, 0.2238726042859052, 0.14700621244227008, 0.14700621244227008, 0.14700621244227008, 0.08935641855954372, 0.050923222637726154, 0.08935641855954372, 0.08935641855954372, 0.031706624676817376, -0.025943169205908972, -0.006726571245000191, 0.031706624676817376, -0.06437636512772654, -0.08359296308863531, -0.08359296308863531, -0.04515976716681776, -0.025943169205908972, 0.14700621244227008, 0.14700621244227008, 0.14700621244227008, 0.12778961448136128, 0.12778961448136128, 0.1085730165204525, 0.18543940836408762, 0.20465600632499642, 0.2238726042859052, 0.3199555940904491, 0.3199555940904491, 0.4544717798168106, 0.5121215736995369, 0.5505547696213545, 0.588987965543172, 0.5313381716604457, 0.5697713675822633, 0.588987965543172, 0.588987965543172, 0.588987965543172, 0.6274211614649896, 0.6466377594258984, 0.6082045635040808, 0.6082045635040808, 0.6274211614649896, 0.685070955347716, 0.7042875533086247, 0.7235041512695335, 0.8195871410740775, 0.7811539451522599, 0.8003705431131687, 0.7811539451522599, 0.8388037390349862, 0.8772369349568038, 0.8964535329177126, 0.9925365227222565, 0.9925365227222565, 0.9348867288395302, 1.0501863166049827, 1.1078361104877092, 1.280785492135888, 1.1654859043704355, 1.1847025023313442, 1.1078361104877092, 1.0694029145658916, 1.0117531206831654, 0.9733199247613477, 0.9925365227222565, 0.954103326800439, 0.9348867288395302, 0.954103326800439, 1.0501863166049827, 1.0117531206831654, 1.0886195125268003, 1.030969718644074, 0.9925365227222565, 0.8964535329177126, 0.8964535329177126, 0.8388037390349862, 0.858020336995895, 0.8964535329177126, 0.8772369349568038, 0.8388037390349862, 0.9733199247613477, 0.8772369349568038, 0.9925365227222565, 1.1654859043704355, 1.300002090096797, 1.280785492135888, 1.1078361104877092, 1.1462693064095266, 1.1847025023313442, 1.2615688941749794, 1.3768684819404322, 1.2423522962140707, 1.2423522962140707, 1.2231356982531618, 1.2615688941749794, 1.280785492135888, 1.280785492135888, 1.2231356982531618, 1.3192186880577057, 1.300002090096797, 1.2615688941749794, 1.127052708448618, 1.2423522962140707, 1.300002090096797, 1.300002090096797, 1.3384352860186146, 1.3576518839795233, 1.3768684819404322, 1.3768684819404322, 1.4537348737840672, 1.4345182758231585, 1.6843340493149725, 1.6459008533931552, 1.3576518839795233, 1.300002090096797, 1.1847025023313442, 1.0501863166049827, 1.0501863166049827, 1.0694029145658916, 1.1462693064095266, 1.1462693064095266, 1.1462693064095266, 1.0694029145658916, 1.1078361104877092, 1.1462693064095266, 1.1078361104877092, 1.1462693064095266, 1.127052708448618, 1.0501863166049827, 1.0886195125268003, 1.1078361104877092, 1.1078361104877092, 1.0694029145658916, 1.1078361104877092, 1.0694029145658916, 1.0694029145658916, 1.0501863166049827, 0.8964535329177126, 0.858020336995895, 0.954103326800439, 0.9348867288395302, 0.7235041512695335, 0.8195871410740775, 0.7427207492304423, 0.7619373471913511, 0.8964535329177126, 0.858020336995895, 0.8772369349568038, 0.858020336995895, 0.8772369349568038, 0.8388037390349862, 0.9733199247613477, 1.2615688941749794, 1.2039191002922531, 1.127052708448618, 1.0501863166049827, 1.0117531206831654, 1.1462693064095266, 1.1847025023313442, 1.2615688941749794, 1.2615688941749794, 1.300002090096797, 1.300002090096797, 1.300002090096797, 1.3384352860186146, 1.300002090096797, 1.2615688941749794, 1.2615688941749794, 1.2423522962140707, 1.2231356982531618, 1.1847025023313442, 1.1847025023313442, 1.2615688941749794, 1.2039191002922531, 1.2039191002922531, 1.1847025023313442, 1.1462693064095266, 1.127052708448618, 1.030969718644074, 0.9733199247613477, 1.0501863166049827, 1.1078361104877092, 1.030969718644074, 1.0886195125268003, 0.9733199247613477, 0.9733199247613477, 0.8772369349568038, 0.954103326800439, 0.9733199247613477, 0.9925365227222565, 1.2423522962140707, 1.2423522962140707, 1.2231356982531618, 1.2231356982531618, 1.300002090096797, 1.2615688941749794, 1.2423522962140707, 1.2423522962140707, 1.2231356982531618, 1.2039191002922531, 1.2231356982531618, 1.2423522962140707, 1.300002090096797, 1.3384352860186146, 1.3768684819404322, 1.4153016778622496, 1.5113846676667937, 1.5306012656277024, 1.5113846676667937, 1.472951471744976, 1.4537348737840672, 1.4153016778622496, 1.396085079901341, 1.4153016778622496, 1.4345182758231585, 1.3576518839795233, 1.3384352860186146, 1.300002090096797, 1.280785492135888, 1.280785492135888, 1.2423522962140707, 1.2615688941749794, 1.3768684819404322, 1.4345182758231585, 1.4921680697058848, 1.5306012656277024, 1.4921680697058848, 1.5306012656277024, 1.56903446154952, 1.6266842554322463, 1.6266842554322463, 1.6266842554322463, 1.5306012656277024, 1.5113846676667937, 1.472951471744976, 1.5113846676667937, 1.4921680697058848, 1.5113846676667937, 1.472951471744976, 1.4537348737840672, 1.4537348737840672, 1.4153016778622496, 1.4153016778622496, 1.472951471744976, 1.4921680697058848, 1.4921680697058848, 1.472951471744976, 1.4921680697058848, 1.4345182758231585, 1.4921680697058848, 1.4345182758231585, 1.4537348737840672, 1.4537348737840672, 1.4537348737840672, 1.4537348737840672, 1.5113846676667937, 1.549817863588611, 1.5306012656277024, 1.56903446154952, 1.56903446154952, 1.549817863588611, 1.5113846676667937, 1.5306012656277024, 1.6074676574713376, 1.6459008533931552, 1.6843340493149725, 1.549817863588611, 1.5306012656277024, 1.5113846676667937, 1.5306012656277024, 1.6074676574713376, 1.5882510595104287, 1.5882510595104287, 1.6074676574713376, 1.6843340493149725, 1.7035506472758815, 1.7227672452367901, 1.6459008533931552, 1.6651174513540639, 1.6266842554322463, 1.6459008533931552, 1.56903446154952, 1.6266842554322463, 1.6266842554322463, 1.6266842554322463, 1.5882510595104287, 1.56903446154952, 1.6074676574713376, 1.6074676574713376, 1.549817863588611, 1.5882510595104287, 1.5882510595104287, 1.56903446154952, 1.56903446154952, 1.5113846676667937, 1.4921680697058848, 1.472951471744976, 1.472951471744976, 1.4345182758231585, 1.472951471744976, 1.4537348737840672, 1.4345182758231585, 1.4345182758231585, 1.5113846676667937, 1.4921680697058848, 1.4921680697058848, 1.4345182758231585, 1.396085079901341, 1.3768684819404322, 1.300002090096797, 1.4537348737840672, 1.5306012656277024, 1.56903446154952, 1.5306012656277024, 1.4537348737840672, 1.472951471744976, 1.3768684819404322, 1.396085079901341, 1.4537348737840672, 1.472951471744976, 1.472951471744976, 1.4345182758231585, 1.3384352860186146, 1.2615688941749794, 1.396085079901341, 1.3192186880577057, 1.280785492135888, 1.3192186880577057, 1.3384352860186146, 1.2231356982531618, 1.2615688941749794, 1.2423522962140707, 1.2039191002922531, 1.300002090096797, 1.3384352860186146, 1.4153016778622496, 1.396085079901341, 1.3768684819404322, 1.4153016778622496, 1.3768684819404322, 1.3192186880577057, 1.3384352860186146, 1.4153016778622496, 1.4345182758231585, 1.4345182758231585, 1.396085079901341, 1.300002090096797, 1.280785492135888, 1.3576518839795233, 1.3576518839795233, 1.3384352860186146, 1.3384352860186146, 1.3384352860186146, 1.3576518839795233, 1.3576518839795233, 1.396085079901341, 1.3384352860186146, 1.3384352860186146, 1.2423522962140707, 1.2615688941749794, 1.2039191002922531, 1.1847025023313442, 1.1847025023313442, 1.4153016778622496, 1.549817863588611, 1.549817863588611, 1.56903446154952, 1.6074676574713376, 1.6266842554322463, 1.6459008533931552, 1.6843340493149725, 1.7035506472758815, 1.7227672452367901, 1.7035506472758815, 1.7035506472758815, 1.741983843197699, 1.838066833002243, 1.8572834309631516, 1.8572834309631516, 1.8765000289240605, 1.8765000289240605, 1.914933224845878, 1.9533664207676955, 1.9533664207676955, 1.9533664207676955, 1.9533664207676955, 1.9725830187286044, 1.8765000289240605, 1.838066833002243, 1.838066833002243, 1.818850235041334, 1.7227672452367901, 1.7996336370804253, 1.8765000289240605, 1.914933224845878, 1.9341498228067868, 1.991799616689513, 1.8957166268849692, 1.9533664207676955, 1.9341498228067868, 1.991799616689513, 1.991799616689513]\n"
     ]
    }
   ],
   "source": [
    "length=int(len(y[\"High\"]))\n",
    "mean=sum(y[\"High\"])/length\n",
    "variance==sum((i-mean)**2 for i in y[\"High\"])/(length-1)\n",
    "std=np.sqrt(variance)\n",
    "z=[(i-mean)/std for i in y[\"High\"]]\n",
    "print(z)"
   ]
  },
  {
   "cell_type": "code",
   "execution_count": 28,
   "id": "6fe4f1d7",
   "metadata": {
    "execution": {
     "iopub.execute_input": "2024-02-14T21:13:03.587283Z",
     "iopub.status.busy": "2024-02-14T21:13:03.585742Z",
     "iopub.status.idle": "2024-02-14T21:13:03.611597Z",
     "shell.execute_reply": "2024-02-14T21:13:03.610558Z"
    },
    "papermill": {
     "duration": 0.052918,
     "end_time": "2024-02-14T21:13:03.614009",
     "exception": false,
     "start_time": "2024-02-14T21:13:03.561091",
     "status": "completed"
    },
    "tags": []
   },
   "outputs": [
    {
     "data": {
      "text/html": [
       "<div>\n",
       "<style scoped>\n",
       "    .dataframe tbody tr th:only-of-type {\n",
       "        vertical-align: middle;\n",
       "    }\n",
       "\n",
       "    .dataframe tbody tr th {\n",
       "        vertical-align: top;\n",
       "    }\n",
       "\n",
       "    .dataframe thead th {\n",
       "        text-align: right;\n",
       "    }\n",
       "</style>\n",
       "<table border=\"1\" class=\"dataframe\">\n",
       "  <thead>\n",
       "    <tr style=\"text-align: right;\">\n",
       "      <th></th>\n",
       "      <th>Open</th>\n",
       "      <th>High</th>\n",
       "      <th>Low</th>\n",
       "      <th>Close</th>\n",
       "      <th>Adj Close</th>\n",
       "      <th>Volume</th>\n",
       "    </tr>\n",
       "  </thead>\n",
       "  <tbody>\n",
       "    <tr>\n",
       "      <th>0</th>\n",
       "      <td>-1.500694</td>\n",
       "      <td>-1.544667</td>\n",
       "      <td>-1.448042</td>\n",
       "      <td>-1.494544</td>\n",
       "      <td>-1.468019</td>\n",
       "      <td>-1.547579</td>\n",
       "    </tr>\n",
       "    <tr>\n",
       "      <th>1</th>\n",
       "      <td>-1.500694</td>\n",
       "      <td>-1.510063</td>\n",
       "      <td>-1.448042</td>\n",
       "      <td>-1.463809</td>\n",
       "      <td>-1.442590</td>\n",
       "      <td>-0.880152</td>\n",
       "    </tr>\n",
       "    <tr>\n",
       "      <th>2</th>\n",
       "      <td>-1.500694</td>\n",
       "      <td>-1.529288</td>\n",
       "      <td>-1.513454</td>\n",
       "      <td>-1.509912</td>\n",
       "      <td>-1.480734</td>\n",
       "      <td>-0.204448</td>\n",
       "    </tr>\n",
       "    <tr>\n",
       "      <th>3</th>\n",
       "      <td>-1.519968</td>\n",
       "      <td>-1.540822</td>\n",
       "      <td>-1.505759</td>\n",
       "      <td>-1.490702</td>\n",
       "      <td>-1.464840</td>\n",
       "      <td>-0.592270</td>\n",
       "    </tr>\n",
       "    <tr>\n",
       "      <th>4</th>\n",
       "      <td>-1.450581</td>\n",
       "      <td>-1.448546</td>\n",
       "      <td>-1.413412</td>\n",
       "      <td>-1.459967</td>\n",
       "      <td>-1.439411</td>\n",
       "      <td>-0.184400</td>\n",
       "    </tr>\n",
       "    <tr>\n",
       "      <th>...</th>\n",
       "      <td>...</td>\n",
       "      <td>...</td>\n",
       "      <td>...</td>\n",
       "      <td>...</td>\n",
       "      <td>...</td>\n",
       "      <td>...</td>\n",
       "    </tr>\n",
       "    <tr>\n",
       "      <th>1256</th>\n",
       "      <td>1.949351</td>\n",
       "      <td>1.896469</td>\n",
       "      <td>1.880304</td>\n",
       "      <td>1.867110</td>\n",
       "      <td>1.908865</td>\n",
       "      <td>-0.471275</td>\n",
       "    </tr>\n",
       "    <tr>\n",
       "      <th>1257</th>\n",
       "      <td>2.007173</td>\n",
       "      <td>1.954141</td>\n",
       "      <td>1.957260</td>\n",
       "      <td>1.905529</td>\n",
       "      <td>1.943761</td>\n",
       "      <td>0.079426</td>\n",
       "    </tr>\n",
       "    <tr>\n",
       "      <th>1258</th>\n",
       "      <td>1.968625</td>\n",
       "      <td>1.934917</td>\n",
       "      <td>1.976499</td>\n",
       "      <td>1.963157</td>\n",
       "      <td>1.996105</td>\n",
       "      <td>0.177852</td>\n",
       "    </tr>\n",
       "    <tr>\n",
       "      <th>1259</th>\n",
       "      <td>2.007173</td>\n",
       "      <td>1.992590</td>\n",
       "      <td>2.014977</td>\n",
       "      <td>2.039995</td>\n",
       "      <td>2.065898</td>\n",
       "      <td>0.084965</td>\n",
       "    </tr>\n",
       "    <tr>\n",
       "      <th>1260</th>\n",
       "      <td>2.007173</td>\n",
       "      <td>1.992590</td>\n",
       "      <td>2.014977</td>\n",
       "      <td>1.982367</td>\n",
       "      <td>2.013554</td>\n",
       "      <td>-0.321123</td>\n",
       "    </tr>\n",
       "  </tbody>\n",
       "</table>\n",
       "<p>1261 rows × 6 columns</p>\n",
       "</div>"
      ],
      "text/plain": [
       "          Open      High       Low     Close  Adj Close    Volume\n",
       "0    -1.500694 -1.544667 -1.448042 -1.494544  -1.468019 -1.547579\n",
       "1    -1.500694 -1.510063 -1.448042 -1.463809  -1.442590 -0.880152\n",
       "2    -1.500694 -1.529288 -1.513454 -1.509912  -1.480734 -0.204448\n",
       "3    -1.519968 -1.540822 -1.505759 -1.490702  -1.464840 -0.592270\n",
       "4    -1.450581 -1.448546 -1.413412 -1.459967  -1.439411 -0.184400\n",
       "...        ...       ...       ...       ...        ...       ...\n",
       "1256  1.949351  1.896469  1.880304  1.867110   1.908865 -0.471275\n",
       "1257  2.007173  1.954141  1.957260  1.905529   1.943761  0.079426\n",
       "1258  1.968625  1.934917  1.976499  1.963157   1.996105  0.177852\n",
       "1259  2.007173  1.992590  2.014977  2.039995   2.065898  0.084965\n",
       "1260  2.007173  1.992590  2.014977  1.982367   2.013554 -0.321123\n",
       "\n",
       "[1261 rows x 6 columns]"
      ]
     },
     "execution_count": 28,
     "metadata": {},
     "output_type": "execute_result"
    }
   ],
   "source": [
    "y.apply(zscore)"
   ]
  },
  {
   "cell_type": "markdown",
   "id": "edecc9e1",
   "metadata": {
    "papermill": {
     "duration": 0.023076,
     "end_time": "2024-02-14T21:13:03.660969",
     "exception": false,
     "start_time": "2024-02-14T21:13:03.637893",
     "status": "completed"
    },
    "tags": []
   },
   "source": [
    "# Corrolation\n",
    "we use it to get the correlation between multiple columns \n",
    "but what i use with numeric not I use with categorical "
   ]
  },
  {
   "cell_type": "code",
   "execution_count": 29,
   "id": "e68f66a2",
   "metadata": {
    "execution": {
     "iopub.execute_input": "2024-02-14T21:13:03.710249Z",
     "iopub.status.busy": "2024-02-14T21:13:03.709357Z",
     "iopub.status.idle": "2024-02-14T21:13:03.717189Z",
     "shell.execute_reply": "2024-02-14T21:13:03.715950Z"
    },
    "papermill": {
     "duration": 0.035606,
     "end_time": "2024-02-14T21:13:03.719859",
     "exception": false,
     "start_time": "2024-02-14T21:13:03.684253",
     "status": "completed"
    },
    "tags": []
   },
   "outputs": [
    {
     "name": "stdout",
     "output_type": "stream",
     "text": [
      "[[ 1.         -0.01157788]\n",
      " [-0.01157788  1.        ]]\n"
     ]
    }
   ],
   "source": [
    "c = np.corrcoef(y['High'],y['Volume'])\n",
    "print(c)"
   ]
  },
  {
   "cell_type": "code",
   "execution_count": 30,
   "id": "3737a401",
   "metadata": {
    "execution": {
     "iopub.execute_input": "2024-02-14T21:13:03.771960Z",
     "iopub.status.busy": "2024-02-14T21:13:03.771484Z",
     "iopub.status.idle": "2024-02-14T21:13:03.791190Z",
     "shell.execute_reply": "2024-02-14T21:13:03.789831Z"
    },
    "papermill": {
     "duration": 0.049209,
     "end_time": "2024-02-14T21:13:03.793874",
     "exception": false,
     "start_time": "2024-02-14T21:13:03.744665",
     "status": "completed"
    },
    "tags": []
   },
   "outputs": [
    {
     "data": {
      "text/html": [
       "<div>\n",
       "<style scoped>\n",
       "    .dataframe tbody tr th:only-of-type {\n",
       "        vertical-align: middle;\n",
       "    }\n",
       "\n",
       "    .dataframe tbody tr th {\n",
       "        vertical-align: top;\n",
       "    }\n",
       "\n",
       "    .dataframe thead th {\n",
       "        text-align: right;\n",
       "    }\n",
       "</style>\n",
       "<table border=\"1\" class=\"dataframe\">\n",
       "  <thead>\n",
       "    <tr style=\"text-align: right;\">\n",
       "      <th></th>\n",
       "      <th>Open</th>\n",
       "      <th>High</th>\n",
       "      <th>Low</th>\n",
       "      <th>Close</th>\n",
       "      <th>Adj Close</th>\n",
       "      <th>Volume</th>\n",
       "    </tr>\n",
       "  </thead>\n",
       "  <tbody>\n",
       "    <tr>\n",
       "      <th>Open</th>\n",
       "      <td>1.000000</td>\n",
       "      <td>0.998325</td>\n",
       "      <td>0.998838</td>\n",
       "      <td>0.997453</td>\n",
       "      <td>0.995958</td>\n",
       "      <td>-0.034540</td>\n",
       "    </tr>\n",
       "    <tr>\n",
       "      <th>High</th>\n",
       "      <td>0.998325</td>\n",
       "      <td>1.000000</td>\n",
       "      <td>0.997979</td>\n",
       "      <td>0.998562</td>\n",
       "      <td>0.997135</td>\n",
       "      <td>-0.011578</td>\n",
       "    </tr>\n",
       "    <tr>\n",
       "      <th>Low</th>\n",
       "      <td>0.998838</td>\n",
       "      <td>0.997979</td>\n",
       "      <td>1.000000</td>\n",
       "      <td>0.998701</td>\n",
       "      <td>0.996953</td>\n",
       "      <td>-0.048656</td>\n",
       "    </tr>\n",
       "    <tr>\n",
       "      <th>Close</th>\n",
       "      <td>0.997453</td>\n",
       "      <td>0.998562</td>\n",
       "      <td>0.998701</td>\n",
       "      <td>1.000000</td>\n",
       "      <td>0.998218</td>\n",
       "      <td>-0.032126</td>\n",
       "    </tr>\n",
       "    <tr>\n",
       "      <th>Adj Close</th>\n",
       "      <td>0.995958</td>\n",
       "      <td>0.997135</td>\n",
       "      <td>0.996953</td>\n",
       "      <td>0.998218</td>\n",
       "      <td>1.000000</td>\n",
       "      <td>-0.025737</td>\n",
       "    </tr>\n",
       "    <tr>\n",
       "      <th>Volume</th>\n",
       "      <td>-0.034540</td>\n",
       "      <td>-0.011578</td>\n",
       "      <td>-0.048656</td>\n",
       "      <td>-0.032126</td>\n",
       "      <td>-0.025737</td>\n",
       "      <td>1.000000</td>\n",
       "    </tr>\n",
       "  </tbody>\n",
       "</table>\n",
       "</div>"
      ],
      "text/plain": [
       "               Open      High       Low     Close  Adj Close    Volume\n",
       "Open       1.000000  0.998325  0.998838  0.997453   0.995958 -0.034540\n",
       "High       0.998325  1.000000  0.997979  0.998562   0.997135 -0.011578\n",
       "Low        0.998838  0.997979  1.000000  0.998701   0.996953 -0.048656\n",
       "Close      0.997453  0.998562  0.998701  1.000000   0.998218 -0.032126\n",
       "Adj Close  0.995958  0.997135  0.996953  0.998218   1.000000 -0.025737\n",
       "Volume    -0.034540 -0.011578 -0.048656 -0.032126  -0.025737  1.000000"
      ]
     },
     "execution_count": 30,
     "metadata": {},
     "output_type": "execute_result"
    }
   ],
   "source": [
    "corr = y.corr(method = 'pearson')\n",
    "corr"
   ]
  },
  {
   "cell_type": "code",
   "execution_count": 31,
   "id": "ace86258",
   "metadata": {
    "execution": {
     "iopub.execute_input": "2024-02-14T21:13:03.844505Z",
     "iopub.status.busy": "2024-02-14T21:13:03.844075Z",
     "iopub.status.idle": "2024-02-14T21:13:05.343504Z",
     "shell.execute_reply": "2024-02-14T21:13:05.341993Z"
    },
    "papermill": {
     "duration": 1.530893,
     "end_time": "2024-02-14T21:13:05.348927",
     "exception": false,
     "start_time": "2024-02-14T21:13:03.818034",
     "status": "completed"
    },
    "tags": []
   },
   "outputs": [
    {
     "data": {
      "image/png": "[encoded data removed]",
      "text/plain": [
       "<Figure size 5000x4000 with 2 Axes>"
      ]
     },
     "metadata": {},
     "output_type": "display_data"
    }
   ],
   "source": [
    "\n",
    "plt.figure(figsize=(10,8), dpi =500)\n",
    "sns.heatmap(corr,annot=True,fmt=\".2f\", linewidth=.5)\n",
    "plt.show()"
   ]
  },
  {
   "cell_type": "markdown",
   "id": "098e43e0",
   "metadata": {
    "papermill": {
     "duration": 0.027447,
     "end_time": "2024-02-14T21:13:05.404175",
     "exception": false,
     "start_time": "2024-02-14T21:13:05.376728",
     "status": "completed"
    },
    "tags": []
   },
   "source": [
    "# Contingency Table\n",
    "\n",
    "corolation between two cateogrical data"
   ]
  },
  {
   "cell_type": "code",
   "execution_count": 32,
   "id": "e6edaa3d",
   "metadata": {
    "execution": {
     "iopub.execute_input": "2024-02-14T21:13:05.461629Z",
     "iopub.status.busy": "2024-02-14T21:13:05.461237Z",
     "iopub.status.idle": "2024-02-14T21:13:05.490258Z",
     "shell.execute_reply": "2024-02-14T21:13:05.489223Z"
    },
    "papermill": {
     "duration": 0.060751,
     "end_time": "2024-02-14T21:13:05.492984",
     "exception": false,
     "start_time": "2024-02-14T21:13:05.432233",
     "status": "completed"
    },
    "tags": []
   },
   "outputs": [],
   "source": [
    "import pandas as pd\n",
    "dataimdb=pd.read_csv(\"/kaggle/input/imdb-dataset-of-top-1000-movies-and-tv-shows/imdb_top_1000.csv\")"
   ]
  },
  {
   "cell_type": "code",
   "execution_count": 33,
   "id": "1d97956d",
   "metadata": {
    "execution": {
     "iopub.execute_input": "2024-02-14T21:13:05.550811Z",
     "iopub.status.busy": "2024-02-14T21:13:05.550017Z",
     "iopub.status.idle": "2024-02-14T21:13:05.577120Z",
     "shell.execute_reply": "2024-02-14T21:13:05.575869Z"
    },
    "papermill": {
     "duration": 0.058816,
     "end_time": "2024-02-14T21:13:05.579730",
     "exception": false,
     "start_time": "2024-02-14T21:13:05.520914",
     "status": "completed"
    },
    "tags": []
   },
   "outputs": [
    {
     "data": {
      "text/html": [
       "<div>\n",
       "<style scoped>\n",
       "    .dataframe tbody tr th:only-of-type {\n",
       "        vertical-align: middle;\n",
       "    }\n",
       "\n",
       "    .dataframe tbody tr th {\n",
       "        vertical-align: top;\n",
       "    }\n",
       "\n",
       "    .dataframe thead th {\n",
       "        text-align: right;\n",
       "    }\n",
       "</style>\n",
       "<table border=\"1\" class=\"dataframe\">\n",
       "  <thead>\n",
       "    <tr style=\"text-align: right;\">\n",
       "      <th></th>\n",
       "      <th>Poster_Link</th>\n",
       "      <th>Series_Title</th>\n",
       "      <th>Released_Year</th>\n",
       "      <th>Certificate</th>\n",
       "      <th>Runtime</th>\n",
       "      <th>Genre</th>\n",
       "      <th>IMDB_Rating</th>\n",
       "      <th>Overview</th>\n",
       "      <th>Meta_score</th>\n",
       "      <th>Director</th>\n",
       "      <th>Star1</th>\n",
       "      <th>Star2</th>\n",
       "      <th>Star3</th>\n",
       "      <th>Star4</th>\n",
       "      <th>No_of_Votes</th>\n",
       "      <th>Gross</th>\n",
       "    </tr>\n",
       "  </thead>\n",
       "  <tbody>\n",
       "    <tr>\n",
       "      <th>0</th>\n",
       "      <td>https://m.media-amazon.com/images/M/MV5BMDFkYT...</td>\n",
       "      <td>The Shawshank Redemption</td>\n",
       "      <td>1994</td>\n",
       "      <td>A</td>\n",
       "      <td>142 min</td>\n",
       "      <td>Drama</td>\n",
       "      <td>9.3</td>\n",
       "      <td>Two imprisoned men bond over a number of years...</td>\n",
       "      <td>80.0</td>\n",
       "      <td>Frank Darabont</td>\n",
       "      <td>Tim Robbins</td>\n",
       "      <td>Morgan Freeman</td>\n",
       "      <td>Bob Gunton</td>\n",
       "      <td>William Sadler</td>\n",
       "      <td>2343110</td>\n",
       "      <td>28,341,469</td>\n",
       "    </tr>\n",
       "    <tr>\n",
       "      <th>1</th>\n",
       "      <td>https://m.media-amazon.com/images/M/MV5BM2MyNj...</td>\n",
       "      <td>The Godfather</td>\n",
       "      <td>1972</td>\n",
       "      <td>A</td>\n",
       "      <td>175 min</td>\n",
       "      <td>Crime, Drama</td>\n",
       "      <td>9.2</td>\n",
       "      <td>An organized crime dynasty's aging patriarch t...</td>\n",
       "      <td>100.0</td>\n",
       "      <td>Francis Ford Coppola</td>\n",
       "      <td>Marlon Brando</td>\n",
       "      <td>Al Pacino</td>\n",
       "      <td>James Caan</td>\n",
       "      <td>Diane Keaton</td>\n",
       "      <td>1620367</td>\n",
       "      <td>134,966,411</td>\n",
       "    </tr>\n",
       "    <tr>\n",
       "      <th>2</th>\n",
       "      <td>https://m.media-amazon.com/images/M/MV5BMTMxNT...</td>\n",
       "      <td>The Dark Knight</td>\n",
       "      <td>2008</td>\n",
       "      <td>UA</td>\n",
       "      <td>152 min</td>\n",
       "      <td>Action, Crime, Drama</td>\n",
       "      <td>9.0</td>\n",
       "      <td>When the menace known as the Joker wreaks havo...</td>\n",
       "      <td>84.0</td>\n",
       "      <td>Christopher Nolan</td>\n",
       "      <td>Christian Bale</td>\n",
       "      <td>Heath Ledger</td>\n",
       "      <td>Aaron Eckhart</td>\n",
       "      <td>Michael Caine</td>\n",
       "      <td>2303232</td>\n",
       "      <td>534,858,444</td>\n",
       "    </tr>\n",
       "    <tr>\n",
       "      <th>3</th>\n",
       "      <td>https://m.media-amazon.com/images/M/MV5BMWMwMG...</td>\n",
       "      <td>The Godfather: Part II</td>\n",
       "      <td>1974</td>\n",
       "      <td>A</td>\n",
       "      <td>202 min</td>\n",
       "      <td>Crime, Drama</td>\n",
       "      <td>9.0</td>\n",
       "      <td>The early life and career of Vito Corleone in ...</td>\n",
       "      <td>90.0</td>\n",
       "      <td>Francis Ford Coppola</td>\n",
       "      <td>Al Pacino</td>\n",
       "      <td>Robert De Niro</td>\n",
       "      <td>Robert Duvall</td>\n",
       "      <td>Diane Keaton</td>\n",
       "      <td>1129952</td>\n",
       "      <td>57,300,000</td>\n",
       "    </tr>\n",
       "    <tr>\n",
       "      <th>4</th>\n",
       "      <td>https://m.media-amazon.com/images/M/MV5BMWU4N2...</td>\n",
       "      <td>12 Angry Men</td>\n",
       "      <td>1957</td>\n",
       "      <td>U</td>\n",
       "      <td>96 min</td>\n",
       "      <td>Crime, Drama</td>\n",
       "      <td>9.0</td>\n",
       "      <td>A jury holdout attempts to prevent a miscarria...</td>\n",
       "      <td>96.0</td>\n",
       "      <td>Sidney Lumet</td>\n",
       "      <td>Henry Fonda</td>\n",
       "      <td>Lee J. Cobb</td>\n",
       "      <td>Martin Balsam</td>\n",
       "      <td>John Fiedler</td>\n",
       "      <td>689845</td>\n",
       "      <td>4,360,000</td>\n",
       "    </tr>\n",
       "    <tr>\n",
       "      <th>...</th>\n",
       "      <td>...</td>\n",
       "      <td>...</td>\n",
       "      <td>...</td>\n",
       "      <td>...</td>\n",
       "      <td>...</td>\n",
       "      <td>...</td>\n",
       "      <td>...</td>\n",
       "      <td>...</td>\n",
       "      <td>...</td>\n",
       "      <td>...</td>\n",
       "      <td>...</td>\n",
       "      <td>...</td>\n",
       "      <td>...</td>\n",
       "      <td>...</td>\n",
       "      <td>...</td>\n",
       "      <td>...</td>\n",
       "    </tr>\n",
       "    <tr>\n",
       "      <th>995</th>\n",
       "      <td>https://m.media-amazon.com/images/M/MV5BNGEwMT...</td>\n",
       "      <td>Breakfast at Tiffany's</td>\n",
       "      <td>1961</td>\n",
       "      <td>A</td>\n",
       "      <td>115 min</td>\n",
       "      <td>Comedy, Drama, Romance</td>\n",
       "      <td>7.6</td>\n",
       "      <td>A young New York socialite becomes interested ...</td>\n",
       "      <td>76.0</td>\n",
       "      <td>Blake Edwards</td>\n",
       "      <td>Audrey Hepburn</td>\n",
       "      <td>George Peppard</td>\n",
       "      <td>Patricia Neal</td>\n",
       "      <td>Buddy Ebsen</td>\n",
       "      <td>166544</td>\n",
       "      <td>NaN</td>\n",
       "    </tr>\n",
       "    <tr>\n",
       "      <th>996</th>\n",
       "      <td>https://m.media-amazon.com/images/M/MV5BODk3Yj...</td>\n",
       "      <td>Giant</td>\n",
       "      <td>1956</td>\n",
       "      <td>G</td>\n",
       "      <td>201 min</td>\n",
       "      <td>Drama, Western</td>\n",
       "      <td>7.6</td>\n",
       "      <td>Sprawling epic covering the life of a Texas ca...</td>\n",
       "      <td>84.0</td>\n",
       "      <td>George Stevens</td>\n",
       "      <td>Elizabeth Taylor</td>\n",
       "      <td>Rock Hudson</td>\n",
       "      <td>James Dean</td>\n",
       "      <td>Carroll Baker</td>\n",
       "      <td>34075</td>\n",
       "      <td>NaN</td>\n",
       "    </tr>\n",
       "    <tr>\n",
       "      <th>997</th>\n",
       "      <td>https://m.media-amazon.com/images/M/MV5BM2U3Yz...</td>\n",
       "      <td>From Here to Eternity</td>\n",
       "      <td>1953</td>\n",
       "      <td>Passed</td>\n",
       "      <td>118 min</td>\n",
       "      <td>Drama, Romance, War</td>\n",
       "      <td>7.6</td>\n",
       "      <td>In Hawaii in 1941, a private is cruelly punish...</td>\n",
       "      <td>85.0</td>\n",
       "      <td>Fred Zinnemann</td>\n",
       "      <td>Burt Lancaster</td>\n",
       "      <td>Montgomery Clift</td>\n",
       "      <td>Deborah Kerr</td>\n",
       "      <td>Donna Reed</td>\n",
       "      <td>43374</td>\n",
       "      <td>30,500,000</td>\n",
       "    </tr>\n",
       "    <tr>\n",
       "      <th>998</th>\n",
       "      <td>https://m.media-amazon.com/images/M/MV5BZTBmMj...</td>\n",
       "      <td>Lifeboat</td>\n",
       "      <td>1944</td>\n",
       "      <td>NaN</td>\n",
       "      <td>97 min</td>\n",
       "      <td>Drama, War</td>\n",
       "      <td>7.6</td>\n",
       "      <td>Several survivors of a torpedoed merchant ship...</td>\n",
       "      <td>78.0</td>\n",
       "      <td>Alfred Hitchcock</td>\n",
       "      <td>Tallulah Bankhead</td>\n",
       "      <td>John Hodiak</td>\n",
       "      <td>Walter Slezak</td>\n",
       "      <td>William Bendix</td>\n",
       "      <td>26471</td>\n",
       "      <td>NaN</td>\n",
       "    </tr>\n",
       "    <tr>\n",
       "      <th>999</th>\n",
       "      <td>https://m.media-amazon.com/images/M/MV5BMTY5OD...</td>\n",
       "      <td>The 39 Steps</td>\n",
       "      <td>1935</td>\n",
       "      <td>NaN</td>\n",
       "      <td>86 min</td>\n",
       "      <td>Crime, Mystery, Thriller</td>\n",
       "      <td>7.6</td>\n",
       "      <td>A man in London tries to help a counter-espion...</td>\n",
       "      <td>93.0</td>\n",
       "      <td>Alfred Hitchcock</td>\n",
       "      <td>Robert Donat</td>\n",
       "      <td>Madeleine Carroll</td>\n",
       "      <td>Lucie Mannheim</td>\n",
       "      <td>Godfrey Tearle</td>\n",
       "      <td>51853</td>\n",
       "      <td>NaN</td>\n",
       "    </tr>\n",
       "  </tbody>\n",
       "</table>\n",
       "<p>1000 rows × 16 columns</p>\n",
       "</div>"
      ],
      "text/plain": [
       "                                           Poster_Link  \\\n",
       "0    https://m.media-amazon.com/images/M/MV5BMDFkYT...   \n",
       "1    https://m.media-amazon.com/images/M/MV5BM2MyNj...   \n",
       "2    https://m.media-amazon.com/images/M/MV5BMTMxNT...   \n",
       "3    https://m.media-amazon.com/images/M/MV5BMWMwMG...   \n",
       "4    https://m.media-amazon.com/images/M/MV5BMWU4N2...   \n",
       "..                                                 ...   \n",
       "995  https://m.media-amazon.com/images/M/MV5BNGEwMT...   \n",
       "996  https://m.media-amazon.com/images/M/MV5BODk3Yj...   \n",
       "997  https://m.media-amazon.com/images/M/MV5BM2U3Yz...   \n",
       "998  https://m.media-amazon.com/images/M/MV5BZTBmMj...   \n",
       "999  https://m.media-amazon.com/images/M/MV5BMTY5OD...   \n",
       "\n",
       "                 Series_Title Released_Year Certificate  Runtime  \\\n",
       "0    The Shawshank Redemption          1994           A  142 min   \n",
       "1               The Godfather          1972           A  175 min   \n",
       "2             The Dark Knight          2008          UA  152 min   \n",
       "3      The Godfather: Part II          1974           A  202 min   \n",
       "4                12 Angry Men          1957           U   96 min   \n",
       "..                        ...           ...         ...      ...   \n",
       "995    Breakfast at Tiffany's          1961           A  115 min   \n",
       "996                     Giant          1956           G  201 min   \n",
       "997     From Here to Eternity          1953      Passed  118 min   \n",
       "998                  Lifeboat          1944         NaN   97 min   \n",
       "999              The 39 Steps          1935         NaN   86 min   \n",
       "\n",
       "                        Genre  IMDB_Rating  \\\n",
       "0                       Drama          9.3   \n",
       "1                Crime, Drama          9.2   \n",
       "2        Action, Crime, Drama          9.0   \n",
       "3                Crime, Drama          9.0   \n",
       "4                Crime, Drama          9.0   \n",
       "..                        ...          ...   \n",
       "995    Comedy, Drama, Romance          7.6   \n",
       "996            Drama, Western          7.6   \n",
       "997       Drama, Romance, War          7.6   \n",
       "998                Drama, War          7.6   \n",
       "999  Crime, Mystery, Thriller          7.6   \n",
       "\n",
       "                                              Overview  Meta_score  \\\n",
       "0    Two imprisoned men bond over a number of years...        80.0   \n",
       "1    An organized crime dynasty's aging patriarch t...       100.0   \n",
       "2    When the menace known as the Joker wreaks havo...        84.0   \n",
       "3    The early life and career of Vito Corleone in ...        90.0   \n",
       "4    A jury holdout attempts to prevent a miscarria...        96.0   \n",
       "..                                                 ...         ...   \n",
       "995  A young New York socialite becomes interested ...        76.0   \n",
       "996  Sprawling epic covering the life of a Texas ca...        84.0   \n",
       "997  In Hawaii in 1941, a private is cruelly punish...        85.0   \n",
       "998  Several survivors of a torpedoed merchant ship...        78.0   \n",
       "999  A man in London tries to help a counter-espion...        93.0   \n",
       "\n",
       "                 Director              Star1              Star2  \\\n",
       "0          Frank Darabont        Tim Robbins     Morgan Freeman   \n",
       "1    Francis Ford Coppola      Marlon Brando          Al Pacino   \n",
       "2       Christopher Nolan     Christian Bale       Heath Ledger   \n",
       "3    Francis Ford Coppola          Al Pacino     Robert De Niro   \n",
       "4            Sidney Lumet        Henry Fonda        Lee J. Cobb   \n",
       "..                    ...                ...                ...   \n",
       "995         Blake Edwards     Audrey Hepburn     George Peppard   \n",
       "996        George Stevens   Elizabeth Taylor        Rock Hudson   \n",
       "997        Fred Zinnemann     Burt Lancaster   Montgomery Clift   \n",
       "998      Alfred Hitchcock  Tallulah Bankhead        John Hodiak   \n",
       "999      Alfred Hitchcock       Robert Donat  Madeleine Carroll   \n",
       "\n",
       "              Star3           Star4  No_of_Votes        Gross  \n",
       "0        Bob Gunton  William Sadler      2343110   28,341,469  \n",
       "1        James Caan    Diane Keaton      1620367  134,966,411  \n",
       "2     Aaron Eckhart   Michael Caine      2303232  534,858,444  \n",
       "3     Robert Duvall    Diane Keaton      1129952   57,300,000  \n",
       "4     Martin Balsam    John Fiedler       689845    4,360,000  \n",
       "..              ...             ...          ...          ...  \n",
       "995   Patricia Neal     Buddy Ebsen       166544          NaN  \n",
       "996      James Dean   Carroll Baker        34075          NaN  \n",
       "997    Deborah Kerr      Donna Reed        43374   30,500,000  \n",
       "998   Walter Slezak  William Bendix        26471          NaN  \n",
       "999  Lucie Mannheim  Godfrey Tearle        51853          NaN  \n",
       "\n",
       "[1000 rows x 16 columns]"
      ]
     },
     "execution_count": 33,
     "metadata": {},
     "output_type": "execute_result"
    }
   ],
   "source": [
    "dataimdb"
   ]
  },
  {
   "cell_type": "code",
   "execution_count": 34,
   "id": "562b49e1",
   "metadata": {
    "execution": {
     "iopub.execute_input": "2024-02-14T21:13:05.638453Z",
     "iopub.status.busy": "2024-02-14T21:13:05.637965Z",
     "iopub.status.idle": "2024-02-14T21:13:05.680052Z",
     "shell.execute_reply": "2024-02-14T21:13:05.678848Z"
    },
    "papermill": {
     "duration": 0.075971,
     "end_time": "2024-02-14T21:13:05.684058",
     "exception": false,
     "start_time": "2024-02-14T21:13:05.608087",
     "status": "completed"
    },
    "tags": []
   },
   "outputs": [
    {
     "name": "stdout",
     "output_type": "stream",
     "text": [
      "Genre        Action, Adventure  Action, Adventure, Comedy  \\\n",
      "Certificate                                                 \n",
      "16                           0                          0   \n",
      "A                            2                          1   \n",
      "Approved                     0                          0   \n",
      "G                            0                          0   \n",
      "GP                           0                          0   \n",
      "PG                           0                          0   \n",
      "PG-13                        0                          0   \n",
      "Passed                       0                          1   \n",
      "R                            0                          2   \n",
      "TV-14                        0                          0   \n",
      "TV-MA                        0                          0   \n",
      "TV-PG                        0                          0   \n",
      "U                            1                          2   \n",
      "U/A                          0                          0   \n",
      "UA                           2                          4   \n",
      "Unrated                      0                          0   \n",
      "\n",
      "Genre        Action, Adventure, Drama  Action, Adventure, Family  \\\n",
      "Certificate                                                        \n",
      "16                                  0                          0   \n",
      "A                                   2                          0   \n",
      "Approved                            0                          0   \n",
      "G                                   0                          0   \n",
      "GP                                  0                          0   \n",
      "PG                                  0                          0   \n",
      "PG-13                               1                          0   \n",
      "Passed                              1                          0   \n",
      "R                                   0                          0   \n",
      "TV-14                               0                          0   \n",
      "TV-MA                               0                          0   \n",
      "TV-PG                               0                          0   \n",
      "U                                   3                          0   \n",
      "U/A                                 0                          0   \n",
      "UA                                  6                          1   \n",
      "Unrated                             0                          0   \n",
      "\n",
      "Genre        Action, Adventure, Fantasy  Action, Adventure, History  \\\n",
      "Certificate                                                           \n",
      "16                                    0                           0   \n",
      "A                                     0                           0   \n",
      "Approved                              0                           0   \n",
      "G                                     0                           0   \n",
      "GP                                    0                           0   \n",
      "PG                                    0                           0   \n",
      "PG-13                                 0                           1   \n",
      "Passed                                0                           0   \n",
      "R                                     0                           0   \n",
      "TV-14                                 0                           0   \n",
      "TV-MA                                 0                           0   \n",
      "TV-PG                                 0                           0   \n",
      "U                                     1                           0   \n",
      "U/A                                   0                           0   \n",
      "UA                                    5                           0   \n",
      "Unrated                               0                           0   \n",
      "\n",
      "Genre        Action, Adventure, Horror  Action, Adventure, Mystery  \\\n",
      "Certificate                                                          \n",
      "16                                   0                           0   \n",
      "A                                    1                           0   \n",
      "Approved                             0                           0   \n",
      "G                                    0                           0   \n",
      "GP                                   0                           0   \n",
      "PG                                   0                           0   \n",
      "PG-13                                0                           1   \n",
      "Passed                               0                           0   \n",
      "R                                    0                           0   \n",
      "TV-14                                0                           0   \n",
      "TV-MA                                0                           0   \n",
      "TV-PG                                0                           0   \n",
      "U                                    0                           0   \n",
      "U/A                                  0                           0   \n",
      "UA                                   0                           0   \n",
      "Unrated                              0                           0   \n",
      "\n",
      "Genre        Action, Adventure, Romance  Action, Adventure, Sci-Fi  ...  \\\n",
      "Certificate                                                         ...   \n",
      "16                                    0                          0  ...   \n",
      "A                                     0                          2  ...   \n",
      "Approved                              0                          0  ...   \n",
      "G                                     0                          0  ...   \n",
      "GP                                    0                          0  ...   \n",
      "PG                                    1                          0  ...   \n",
      "PG-13                                 0                          1  ...   \n",
      "Passed                                0                          0  ...   \n",
      "R                                     0                          0  ...   \n",
      "TV-14                                 0                          0  ...   \n",
      "TV-MA                                 0                          0  ...   \n",
      "TV-PG                                 0                          0  ...   \n",
      "U                                     0                          3  ...   \n",
      "U/A                                   0                          0  ...   \n",
      "UA                                    0                         15  ...   \n",
      "Unrated                               0                          0  ...   \n",
      "\n",
      "Genre        Film-Noir, Thriller  Horror  Horror, Mystery, Sci-Fi  \\\n",
      "Certificate                                                         \n",
      "16                             0       0                        0   \n",
      "A                              0       2                        1   \n",
      "Approved                       0       0                        0   \n",
      "G                              0       0                        0   \n",
      "GP                             0       0                        0   \n",
      "PG                             1       0                        0   \n",
      "PG-13                          0       0                        0   \n",
      "Passed                         0       0                        0   \n",
      "R                              0       0                        0   \n",
      "TV-14                          0       0                        0   \n",
      "TV-MA                          0       0                        0   \n",
      "TV-PG                          0       0                        0   \n",
      "U                              0       0                        0   \n",
      "U/A                            0       0                        0   \n",
      "UA                             0       0                        0   \n",
      "Unrated                        0       0                        0   \n",
      "\n",
      "Genre        Horror, Mystery, Thriller  Horror, Sci-Fi  Horror, Thriller  \\\n",
      "Certificate                                                                \n",
      "16                                   0               0                 0   \n",
      "A                                    1               0                 1   \n",
      "Approved                             0               0                 0   \n",
      "G                                    0               0                 0   \n",
      "GP                                   0               0                 0   \n",
      "PG                                   0               0                 0   \n",
      "PG-13                                1               0                 0   \n",
      "Passed                               0               0                 0   \n",
      "R                                    1               1                 0   \n",
      "TV-14                                0               0                 0   \n",
      "TV-MA                                0               0                 0   \n",
      "TV-PG                                0               1                 0   \n",
      "U                                    0               0                 0   \n",
      "U/A                                  0               0                 0   \n",
      "UA                                   1               0                 0   \n",
      "Unrated                              0               0                 0   \n",
      "\n",
      "Genre        Mystery, Romance, Thriller  Mystery, Sci-Fi, Thriller  \\\n",
      "Certificate                                                          \n",
      "16                                    0                          0   \n",
      "A                                     1                          2   \n",
      "Approved                              0                          0   \n",
      "G                                     0                          0   \n",
      "GP                                    0                          0   \n",
      "PG                                    0                          0   \n",
      "PG-13                                 0                          0   \n",
      "Passed                                0                          0   \n",
      "R                                     0                          0   \n",
      "TV-14                                 0                          0   \n",
      "TV-MA                                 0                          0   \n",
      "TV-PG                                 0                          0   \n",
      "U                                     0                          0   \n",
      "U/A                                   0                          0   \n",
      "UA                                    0                          0   \n",
      "Unrated                               0                          0   \n",
      "\n",
      "Genre        Mystery, Thriller  Western  \n",
      "Certificate                              \n",
      "16                           0        0  \n",
      "A                            2        2  \n",
      "Approved                     0        0  \n",
      "G                            0        0  \n",
      "GP                           0        0  \n",
      "PG                           1        0  \n",
      "PG-13                        0        0  \n",
      "Passed                       0        0  \n",
      "R                            0        0  \n",
      "TV-14                        0        0  \n",
      "TV-MA                        0        0  \n",
      "TV-PG                        0        0  \n",
      "U                            1        2  \n",
      "U/A                          0        0  \n",
      "UA                           2        0  \n",
      "Unrated                      0        0  \n",
      "\n",
      "[16 rows x 191 columns]\n"
     ]
    }
   ],
   "source": [
    "data_crosstab = pd.crosstab(dataimdb['Certificate'], \n",
    "                            dataimdb['Genre'],  \n",
    "                               margins = False) \n",
    "print(data_crosstab) "
   ]
  },
  {
   "cell_type": "markdown",
   "id": "b37d76e1",
   "metadata": {
    "papermill": {
     "duration": 0.02786,
     "end_time": "2024-02-14T21:13:05.741124",
     "exception": false,
     "start_time": "2024-02-14T21:13:05.713264",
     "status": "completed"
    },
    "tags": []
   },
   "source": [
    "# Probabilities \n",
    "\n",
    " sample and population\n",
    " \n",
    " sample is a random variables from population"
   ]
  },
  {
   "cell_type": "code",
   "execution_count": 35,
   "id": "96f9e20e",
   "metadata": {
    "execution": {
     "iopub.execute_input": "2024-02-14T21:13:05.800188Z",
     "iopub.status.busy": "2024-02-14T21:13:05.799354Z",
     "iopub.status.idle": "2024-02-14T21:13:05.818915Z",
     "shell.execute_reply": "2024-02-14T21:13:05.817741Z"
    },
    "papermill": {
     "duration": 0.051983,
     "end_time": "2024-02-14T21:13:05.821414",
     "exception": false,
     "start_time": "2024-02-14T21:13:05.769431",
     "status": "completed"
    },
    "tags": []
   },
   "outputs": [
    {
     "data": {
      "text/html": [
       "<div>\n",
       "<style scoped>\n",
       "    .dataframe tbody tr th:only-of-type {\n",
       "        vertical-align: middle;\n",
       "    }\n",
       "\n",
       "    .dataframe tbody tr th {\n",
       "        vertical-align: top;\n",
       "    }\n",
       "\n",
       "    .dataframe thead th {\n",
       "        text-align: right;\n",
       "    }\n",
       "</style>\n",
       "<table border=\"1\" class=\"dataframe\">\n",
       "  <thead>\n",
       "    <tr style=\"text-align: right;\">\n",
       "      <th></th>\n",
       "      <th>Open</th>\n",
       "      <th>High</th>\n",
       "      <th>Low</th>\n",
       "      <th>Close</th>\n",
       "      <th>Adj Close</th>\n",
       "      <th>Volume</th>\n",
       "    </tr>\n",
       "  </thead>\n",
       "  <tbody>\n",
       "    <tr>\n",
       "      <th>646</th>\n",
       "      <td>6135.0</td>\n",
       "      <td>6200.0</td>\n",
       "      <td>6105.0</td>\n",
       "      <td>6200.0</td>\n",
       "      <td>5915.300781</td>\n",
       "      <td>52858500</td>\n",
       "    </tr>\n",
       "    <tr>\n",
       "      <th>431</th>\n",
       "      <td>5750.0</td>\n",
       "      <td>5855.0</td>\n",
       "      <td>5665.0</td>\n",
       "      <td>5755.0</td>\n",
       "      <td>5398.478027</td>\n",
       "      <td>138796000</td>\n",
       "    </tr>\n",
       "    <tr>\n",
       "      <th>25</th>\n",
       "      <td>5500.0</td>\n",
       "      <td>5500.0</td>\n",
       "      <td>5500.0</td>\n",
       "      <td>5500.0</td>\n",
       "      <td>5009.805664</td>\n",
       "      <td>0</td>\n",
       "    </tr>\n",
       "    <tr>\n",
       "      <th>1045</th>\n",
       "      <td>8300.0</td>\n",
       "      <td>8350.0</td>\n",
       "      <td>8250.0</td>\n",
       "      <td>8300.0</td>\n",
       "      <td>8098.708008</td>\n",
       "      <td>105894000</td>\n",
       "    </tr>\n",
       "    <tr>\n",
       "      <th>803</th>\n",
       "      <td>7900.0</td>\n",
       "      <td>7950.0</td>\n",
       "      <td>7900.0</td>\n",
       "      <td>7950.0</td>\n",
       "      <td>7610.395020</td>\n",
       "      <td>85101200</td>\n",
       "    </tr>\n",
       "    <tr>\n",
       "      <th>...</th>\n",
       "      <td>...</td>\n",
       "      <td>...</td>\n",
       "      <td>...</td>\n",
       "      <td>...</td>\n",
       "      <td>...</td>\n",
       "      <td>...</td>\n",
       "    </tr>\n",
       "    <tr>\n",
       "      <th>112</th>\n",
       "      <td>5820.0</td>\n",
       "      <td>5820.0</td>\n",
       "      <td>5820.0</td>\n",
       "      <td>5820.0</td>\n",
       "      <td>5349.746094</td>\n",
       "      <td>0</td>\n",
       "    </tr>\n",
       "    <tr>\n",
       "      <th>238</th>\n",
       "      <td>6230.0</td>\n",
       "      <td>6295.0</td>\n",
       "      <td>6225.0</td>\n",
       "      <td>6280.0</td>\n",
       "      <td>5772.578613</td>\n",
       "      <td>52954500</td>\n",
       "    </tr>\n",
       "    <tr>\n",
       "      <th>69</th>\n",
       "      <td>5505.0</td>\n",
       "      <td>5540.0</td>\n",
       "      <td>5450.0</td>\n",
       "      <td>5480.0</td>\n",
       "      <td>4991.587891</td>\n",
       "      <td>39910000</td>\n",
       "    </tr>\n",
       "    <tr>\n",
       "      <th>710</th>\n",
       "      <td>7675.0</td>\n",
       "      <td>7675.0</td>\n",
       "      <td>7575.0</td>\n",
       "      <td>7650.0</td>\n",
       "      <td>7298.717285</td>\n",
       "      <td>47503900</td>\n",
       "    </tr>\n",
       "    <tr>\n",
       "      <th>118</th>\n",
       "      <td>5845.0</td>\n",
       "      <td>5845.0</td>\n",
       "      <td>5790.0</td>\n",
       "      <td>5800.0</td>\n",
       "      <td>5331.363281</td>\n",
       "      <td>57220500</td>\n",
       "    </tr>\n",
       "  </tbody>\n",
       "</table>\n",
       "<p>100 rows × 6 columns</p>\n",
       "</div>"
      ],
      "text/plain": [
       "        Open    High     Low   Close    Adj Close     Volume\n",
       "646   6135.0  6200.0  6105.0  6200.0  5915.300781   52858500\n",
       "431   5750.0  5855.0  5665.0  5755.0  5398.478027  138796000\n",
       "25    5500.0  5500.0  5500.0  5500.0  5009.805664          0\n",
       "1045  8300.0  8350.0  8250.0  8300.0  8098.708008  105894000\n",
       "803   7900.0  7950.0  7900.0  7950.0  7610.395020   85101200\n",
       "...      ...     ...     ...     ...          ...        ...\n",
       "112   5820.0  5820.0  5820.0  5820.0  5349.746094          0\n",
       "238   6230.0  6295.0  6225.0  6280.0  5772.578613   52954500\n",
       "69    5505.0  5540.0  5450.0  5480.0  4991.587891   39910000\n",
       "710   7675.0  7675.0  7575.0  7650.0  7298.717285   47503900\n",
       "118   5845.0  5845.0  5790.0  5800.0  5331.363281   57220500\n",
       "\n",
       "[100 rows x 6 columns]"
      ]
     },
     "execution_count": 35,
     "metadata": {},
     "output_type": "execute_result"
    }
   ],
   "source": [
    "sample=y.sample(100)\n",
    "sample"
   ]
  },
  {
   "cell_type": "markdown",
   "id": "cfc3e09e",
   "metadata": {
    "papermill": {
     "duration": 0.028129,
     "end_time": "2024-02-14T21:13:05.878018",
     "exception": false,
     "start_time": "2024-02-14T21:13:05.849889",
     "status": "completed"
    },
    "tags": []
   },
   "source": [
    "# Conditional Probabilites\n",
    "\n",
    "event A not happen until if event B happen\n",
    "\n",
    "**(A|B)=(B|A)*P(B)/P(A)**\n",
    "\n",
    "**p(A|B)=P(A intersaction B)/P(A)**\n",
    "\n",
    "\n",
    "![](https://www.google.com/url?sa=i&url=https%3A%2F%2Fwww.pinterest.com%2Fpin%2Fconditional-probability--402931497926778936%2F&psig=AOvVaw39h5KOskWNt9QPDZDYRgHO&ust=1707042419897000&source=images&cd=vfe&opi=89978449&ved=0CBMQjRxqFwoTCPjblpX7joQDFQAAAAAdAAAAABAV)"
   ]
  },
  {
   "cell_type": "code",
   "execution_count": 36,
   "id": "cc53e379",
   "metadata": {
    "execution": {
     "iopub.execute_input": "2024-02-14T21:13:05.938920Z",
     "iopub.status.busy": "2024-02-14T21:13:05.938490Z",
     "iopub.status.idle": "2024-02-14T21:13:05.961433Z",
     "shell.execute_reply": "2024-02-14T21:13:05.960213Z"
    },
    "papermill": {
     "duration": 0.055697,
     "end_time": "2024-02-14T21:13:05.963981",
     "exception": false,
     "start_time": "2024-02-14T21:13:05.908284",
     "status": "completed"
    },
    "tags": []
   },
   "outputs": [
    {
     "data": {
      "text/html": [
       "<div>\n",
       "<style scoped>\n",
       "    .dataframe tbody tr th:only-of-type {\n",
       "        vertical-align: middle;\n",
       "    }\n",
       "\n",
       "    .dataframe tbody tr th {\n",
       "        vertical-align: top;\n",
       "    }\n",
       "\n",
       "    .dataframe thead th {\n",
       "        text-align: right;\n",
       "    }\n",
       "</style>\n",
       "<table border=\"1\" class=\"dataframe\">\n",
       "  <thead>\n",
       "    <tr style=\"text-align: right;\">\n",
       "      <th></th>\n",
       "      <th>High</th>\n",
       "      <th>Open</th>\n",
       "      <th>cpt</th>\n",
       "    </tr>\n",
       "  </thead>\n",
       "  <tbody>\n",
       "    <tr>\n",
       "      <th>0</th>\n",
       "      <td>5310.0</td>\n",
       "      <td>5280.0</td>\n",
       "      <td>1.0</td>\n",
       "    </tr>\n",
       "    <tr>\n",
       "      <th>1</th>\n",
       "      <td>5500.0</td>\n",
       "      <td>5500.0</td>\n",
       "      <td>1.0</td>\n",
       "    </tr>\n",
       "    <tr>\n",
       "      <th>2</th>\n",
       "      <td>5520.0</td>\n",
       "      <td>5490.0</td>\n",
       "      <td>1.0</td>\n",
       "    </tr>\n",
       "    <tr>\n",
       "      <th>3</th>\n",
       "      <td>5530.0</td>\n",
       "      <td>5530.0</td>\n",
       "      <td>1.0</td>\n",
       "    </tr>\n",
       "    <tr>\n",
       "      <th>4</th>\n",
       "      <td>5540.0</td>\n",
       "      <td>5505.0</td>\n",
       "      <td>1.0</td>\n",
       "    </tr>\n",
       "    <tr>\n",
       "      <th>...</th>\n",
       "      <td>...</td>\n",
       "      <td>...</td>\n",
       "      <td>...</td>\n",
       "    </tr>\n",
       "    <tr>\n",
       "      <th>93</th>\n",
       "      <td>9175.0</td>\n",
       "      <td>9075.0</td>\n",
       "      <td>1.0</td>\n",
       "    </tr>\n",
       "    <tr>\n",
       "      <th>94</th>\n",
       "      <td>9200.0</td>\n",
       "      <td>9200.0</td>\n",
       "      <td>1.0</td>\n",
       "    </tr>\n",
       "    <tr>\n",
       "      <th>95</th>\n",
       "      <td>9300.0</td>\n",
       "      <td>9300.0</td>\n",
       "      <td>1.0</td>\n",
       "    </tr>\n",
       "    <tr>\n",
       "      <th>96</th>\n",
       "      <td>9325.0</td>\n",
       "      <td>9275.0</td>\n",
       "      <td>1.0</td>\n",
       "    </tr>\n",
       "    <tr>\n",
       "      <th>97</th>\n",
       "      <td>9650.0</td>\n",
       "      <td>9625.0</td>\n",
       "      <td>1.0</td>\n",
       "    </tr>\n",
       "  </tbody>\n",
       "</table>\n",
       "<p>98 rows × 3 columns</p>\n",
       "</div>"
      ],
      "text/plain": [
       "      High    Open  cpt\n",
       "0   5310.0  5280.0  1.0\n",
       "1   5500.0  5500.0  1.0\n",
       "2   5520.0  5490.0  1.0\n",
       "3   5530.0  5530.0  1.0\n",
       "4   5540.0  5505.0  1.0\n",
       "..     ...     ...  ...\n",
       "93  9175.0  9075.0  1.0\n",
       "94  9200.0  9200.0  1.0\n",
       "95  9300.0  9300.0  1.0\n",
       "96  9325.0  9275.0  1.0\n",
       "97  9650.0  9625.0  1.0\n",
       "\n",
       "[98 rows x 3 columns]"
      ]
     },
     "execution_count": 36,
     "metadata": {},
     "output_type": "execute_result"
    }
   ],
   "source": [
    "df_s = sample.groupby('High')['Open'].value_counts() / sample.groupby('High')['Open'].count()\n",
    "df_f = df_s.reset_index(name='cpt')\n",
    "df_f"
   ]
  },
  {
   "cell_type": "markdown",
   "id": "c3fa5907",
   "metadata": {
    "papermill": {
     "duration": 0.029621,
     "end_time": "2024-02-14T21:13:06.024633",
     "exception": false,
     "start_time": "2024-02-14T21:13:05.995012",
     "status": "completed"
    },
    "tags": []
   },
   "source": [
    "# GaussianNB \n",
    "\n",
    "a supervised algoritm based on conditional probabilities "
   ]
  },
  {
   "cell_type": "code",
   "execution_count": 37,
   "id": "02b02a27",
   "metadata": {
    "execution": {
     "iopub.execute_input": "2024-02-14T21:13:06.085978Z",
     "iopub.status.busy": "2024-02-14T21:13:06.085530Z",
     "iopub.status.idle": "2024-02-14T21:13:06.091564Z",
     "shell.execute_reply": "2024-02-14T21:13:06.090358Z"
    },
    "papermill": {
     "duration": 0.040426,
     "end_time": "2024-02-14T21:13:06.094594",
     "exception": false,
     "start_time": "2024-02-14T21:13:06.054168",
     "status": "completed"
    },
    "tags": []
   },
   "outputs": [],
   "source": [
    "m=sample[\"High\"]\n",
    "n=sample[\"Open\"]\n",
    "m=np.array(m).reshape(-1,1)\n",
    "n=np.array(n).reshape(-1,1)"
   ]
  },
  {
   "cell_type": "code",
   "execution_count": 38,
   "id": "c63ce4d3",
   "metadata": {
    "execution": {
     "iopub.execute_input": "2024-02-14T21:13:06.157052Z",
     "iopub.status.busy": "2024-02-14T21:13:06.156594Z",
     "iopub.status.idle": "2024-02-14T21:13:06.163100Z",
     "shell.execute_reply": "2024-02-14T21:13:06.162215Z"
    },
    "papermill": {
     "duration": 0.04012,
     "end_time": "2024-02-14T21:13:06.165411",
     "exception": false,
     "start_time": "2024-02-14T21:13:06.125291",
     "status": "completed"
    },
    "tags": []
   },
   "outputs": [],
   "source": [
    "x_train, x_val, y_train, y_val = train_test_split(m, n, test_size=0.50, random_state = 44,shuffle=True)\n"
   ]
  },
  {
   "cell_type": "code",
   "execution_count": 39,
   "id": "b2654052",
   "metadata": {
    "execution": {
     "iopub.execute_input": "2024-02-14T21:13:06.227087Z",
     "iopub.status.busy": "2024-02-14T21:13:06.226249Z",
     "iopub.status.idle": "2024-02-14T21:13:06.247034Z",
     "shell.execute_reply": "2024-02-14T21:13:06.245837Z"
    },
    "papermill": {
     "duration": 0.054875,
     "end_time": "2024-02-14T21:13:06.249914",
     "exception": false,
     "start_time": "2024-02-14T21:13:06.195039",
     "status": "completed"
    },
    "tags": []
   },
   "outputs": [
    {
     "name": "stderr",
     "output_type": "stream",
     "text": [
      "/opt/conda/lib/python3.10/site-packages/sklearn/utils/validation.py:1143: DataConversionWarning: A column-vector y was passed when a 1d array was expected. Please change the shape of y to (n_samples, ), for example using ravel().\n",
      "  y = column_or_1d(y, warn=True)\n"
     ]
    }
   ],
   "source": [
    "gaus=GaussianNB()\n",
    "gaus.fit(x_train,y_train)\n",
    "score=gaus.score(x_train,y_train)\n",
    "y_pred=gaus.predict(x_val)\n",
    "accuracy = accuracy_score(y_val, y_pred)\n"
   ]
  },
  {
   "cell_type": "code",
   "execution_count": 40,
   "id": "4a89805b",
   "metadata": {
    "execution": {
     "iopub.execute_input": "2024-02-14T21:13:06.310624Z",
     "iopub.status.busy": "2024-02-14T21:13:06.310213Z",
     "iopub.status.idle": "2024-02-14T21:13:06.318556Z",
     "shell.execute_reply": "2024-02-14T21:13:06.317006Z"
    },
    "papermill": {
     "duration": 0.04182,
     "end_time": "2024-02-14T21:13:06.321148",
     "exception": false,
     "start_time": "2024-02-14T21:13:06.279328",
     "status": "completed"
    },
    "tags": []
   },
   "outputs": [
    {
     "name": "stdout",
     "output_type": "stream",
     "text": [
      "score 0.96\n",
      "y_pred [8000. 8000. 8375. 8375. 8375. 8375. 8375. 8000. 8000. 8375. 8375. 8375.\n",
      " 8375. 8375. 8375. 8375. 8375. 8375. 8375. 8000. 6805. 8375. 8000. 8775.\n",
      " 5840. 8375. 8375. 8375. 8000. 8000. 8375. 8000. 8375. 8375. 8375. 8000.\n",
      " 8375. 8000. 8375. 8375. 8375. 8375. 8000. 8375. 8000. 8375. 8000. 8000.\n",
      " 8000. 8000.]\n",
      "accuracy 0.0\n"
     ]
    }
   ],
   "source": [
    "print(\"score\",score)\n",
    "print(\"y_pred\",y_pred)\n",
    "print(\"accuracy\",accuracy)"
   ]
  },
  {
   "cell_type": "markdown",
   "id": "f2daec90",
   "metadata": {
    "papermill": {
     "duration": 0.029162,
     "end_time": "2024-02-14T21:13:06.379687",
     "exception": false,
     "start_time": "2024-02-14T21:13:06.350525",
     "status": "completed"
    },
    "tags": []
   },
   "source": [
    "**We have many types of distributions**\n",
    "\n",
    "1. normal\n",
    "2. sampling\n",
    "3. binomial"
   ]
  },
  {
   "cell_type": "markdown",
   "id": "9a65ac5b",
   "metadata": {
    "papermill": {
     "duration": 0.029296,
     "end_time": "2024-02-14T21:13:06.438796",
     "exception": false,
     "start_time": "2024-02-14T21:13:06.409500",
     "status": "completed"
    },
    "tags": []
   },
   "source": [
    "# Normal Distribution \n",
    "\n",
    "\n",
    "The normal distribution is a continuous probability distribution function also known as Gaussian distribution which is symmetric about its mean and has a bell-shaped curve. It is one of the most used probability distributions. Two parameters characterize it\n",
    "\n",
    "Mean(μ)- It represents the center of the distribution \n",
    "Standard Deviation(σ) – It represents the spread in the curve \n",
    "\n",
    "If mean increase Standard Deviation decrease \n",
    "\n",
    "**The equation**\n",
    "![](https://media.geeksforgeeks.org/wp-content/uploads/20230501153459/normaldistributionformula.png)\n",
    "\n",
    "![Normal Distribution](https://media.geeksforgeeks.org/wp-content/uploads/20230504133011/image-(1).webp)"
   ]
  },
  {
   "cell_type": "code",
   "execution_count": 41,
   "id": "addf93e8",
   "metadata": {
    "execution": {
     "iopub.execute_input": "2024-02-14T21:13:06.500184Z",
     "iopub.status.busy": "2024-02-14T21:13:06.499739Z",
     "iopub.status.idle": "2024-02-14T21:13:06.508117Z",
     "shell.execute_reply": "2024-02-14T21:13:06.506630Z"
    },
    "papermill": {
     "duration": 0.042784,
     "end_time": "2024-02-14T21:13:06.511303",
     "exception": false,
     "start_time": "2024-02-14T21:13:06.468519",
     "status": "completed"
    },
    "tags": []
   },
   "outputs": [
    {
     "name": "stdout",
     "output_type": "stream",
     "text": [
      "mean 7208.750991276765\n",
      "std 1300.9586843028128\n"
     ]
    }
   ],
   "source": [
    "#calc mean and std\n",
    "mean=y[\"High\"].mean()\n",
    "std=y[\"High\"].std()\n",
    "s = np.random.normal(mean, std, 100) \n",
    "print(\"mean\",mean)\n",
    "print(\"std\",std)"
   ]
  },
  {
   "cell_type": "code",
   "execution_count": 42,
   "id": "d0509e3a",
   "metadata": {
    "execution": {
     "iopub.execute_input": "2024-02-14T21:13:06.573974Z",
     "iopub.status.busy": "2024-02-14T21:13:06.573529Z",
     "iopub.status.idle": "2024-02-14T21:13:06.947830Z",
     "shell.execute_reply": "2024-02-14T21:13:06.946560Z"
    },
    "papermill": {
     "duration": 0.409219,
     "end_time": "2024-02-14T21:13:06.950817",
     "exception": false,
     "start_time": "2024-02-14T21:13:06.541598",
     "status": "completed"
    },
    "tags": []
   },
   "outputs": [
    {
     "data": {
      "image/png": "[encoded data removed]",
      "text/plain": [
       "<Figure size 640x480 with 1 Axes>"
      ]
     },
     "metadata": {},
     "output_type": "display_data"
    }
   ],
   "source": [
    "count, bins, ignored = plt.hist(s, 100, density=True)\n",
    "plt.plot(bins, 1/(std * np.sqrt(2 * np.pi)) *\n",
    "                       np.exp( - (bins - mean)**2 / (2 * std**2) ),\n",
    "                 linewidth=5, color='r')\n",
    "\n",
    "plt.show()"
   ]
  },
  {
   "cell_type": "markdown",
   "id": "532408ba",
   "metadata": {
    "papermill": {
     "duration": 0.031606,
     "end_time": "2024-02-14T21:13:07.013970",
     "exception": false,
     "start_time": "2024-02-14T21:13:06.982364",
     "status": "completed"
    },
    "tags": []
   },
   "source": [
    "**get less than 8950.0**"
   ]
  },
  {
   "cell_type": "code",
   "execution_count": 43,
   "id": "245aa401",
   "metadata": {
    "execution": {
     "iopub.execute_input": "2024-02-14T21:13:07.078107Z",
     "iopub.status.busy": "2024-02-14T21:13:07.077613Z",
     "iopub.status.idle": "2024-02-14T21:13:07.087006Z",
     "shell.execute_reply": "2024-02-14T21:13:07.085822Z"
    },
    "papermill": {
     "duration": 0.044572,
     "end_time": "2024-02-14T21:13:07.089807",
     "exception": false,
     "start_time": "2024-02-14T21:13:07.045235",
     "status": "completed"
    },
    "tags": []
   },
   "outputs": [
    {
     "name": "stdout",
     "output_type": "stream",
     "text": [
      "1.3384352860186144 0.9096227086331585 90.96227086331585\n"
     ]
    }
   ],
   "source": [
    "z=(8950.0-mean)/std\n",
    "prob = norm.cdf(z)\n",
    "percent = prob * 100\n",
    "print(z,prob,percent)"
   ]
  },
  {
   "cell_type": "code",
   "execution_count": 44,
   "id": "62fa5eca",
   "metadata": {
    "execution": {
     "iopub.execute_input": "2024-02-14T21:13:07.154554Z",
     "iopub.status.busy": "2024-02-14T21:13:07.153804Z",
     "iopub.status.idle": "2024-02-14T21:13:07.161120Z",
     "shell.execute_reply": "2024-02-14T21:13:07.159853Z"
    },
    "papermill": {
     "duration": 0.041906,
     "end_time": "2024-02-14T21:13:07.163397",
     "exception": false,
     "start_time": "2024-02-14T21:13:07.121491",
     "status": "completed"
    },
    "tags": []
   },
   "outputs": [
    {
     "name": "stdout",
     "output_type": "stream",
     "text": [
      "1.3384352860186144 0.9096227086331585 9.037729136684147\n"
     ]
    }
   ],
   "source": [
    "z=(8950.0-mean)/std\n",
    "prob = norm.cdf(z)\n",
    "percent = (1-prob) * 100\n",
    "print(z,prob,percent)"
   ]
  },
  {
   "cell_type": "markdown",
   "id": "c72c8c96",
   "metadata": {
    "papermill": {
     "duration": 0.030958,
     "end_time": "2024-02-14T21:13:07.224113",
     "exception": false,
     "start_time": "2024-02-14T21:13:07.193155",
     "status": "completed"
    },
    "tags": []
   },
   "source": [
    "# Sampling distribution\n",
    "\n",
    "the mean of sample = the mean of population it's happining when we use infinity number of sample.\n",
    "\n",
    "# (Central Limit Theorem)\n",
    "\n",
    "There is also a special case of the sampling distribution which is known as the Central Limit Theorem which says that if we take some samples from a distribution of data(no matter how it is distributed) then if we draw a distribution curve of the mean of those samples then it will be a normal distribution.\n",
    "\n",
    "\n"
   ]
  }
 ],
 "metadata": {
  "kaggle": {
   "accelerator": "none",
   "dataSources": [
    {
     "databundleVersionId": 7721741,
     "datasetId": 4259980,
     "sourceId": 7625803,
     "sourceType": "datasetVersion"
    },
    {
     "databundleVersionId": 1937036,
     "datasetId": 1131493,
     "sourceId": 1898721,
     "sourceType": "datasetVersion"
    }
   ],
   "isGpuEnabled": false,
   "isInternetEnabled": true,
   "language": "python",
   "sourceType": "notebook"
  },
  "kernelspec": {
   "display_name": "Python 3",
   "language": "python",
   "name": "python3"
  },
  "language_info": {
   "codemirror_mode": {
    "name": "ipython",
    "version": 3
   },
   "file_extension": ".py",
   "mimetype": "text/x-python",
   "name": "python",
   "nbconvert_exporter": "python",
   "pygments_lexer": "ipython3",
   "version": "3.10.13"
  },
  "papermill": {
   "default_parameters": {},
   "duration": 13.289992,
   "end_time": "2024-02-14T21:13:07.976671",
   "environment_variables": {},
   "exception": null,
   "input_path": "__notebook__.ipynb",
   "output_path": "__notebook__.ipynb",
   "parameters": {},
   "start_time": "2024-02-14T21:12:54.686679",
   "version": "2.5.0"
  }
 },
 "nbformat": 4,
 "nbformat_minor": 5
}
