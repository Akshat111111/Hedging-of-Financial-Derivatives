{
 "cells": [
  {
   "cell_type": "code",
   "execution_count": 1,
   "id": "0cf23fc2",
   "metadata": {
    "_cell_guid": "b1076dfc-b9ad-4769-8c92-a6c4dae69d19",
    "_uuid": "8f2839f25d086af736a60e9eeb907d3b93b6e0e5",
    "papermill": {
     "duration": 3.093379,
     "end_time": "2024-02-14T21:13:00.987867",
     "exception": false,
     "start_time": "2024-02-14T21:12:57.894488",
     "status": "completed"
    },
    "tags": []
   },
   "outputs": [],
   "source": [
    "import pandas as pd\n",
    "import matplotlib.pyplot as plt\n",
    "%matplotlib inline\n",
    "import numpy as np\n",
    "import seaborn as sns\n",
    "import statistics  \n",
    "from scipy.stats import zscore\n",
    "from sklearn.model_selection import train_test_split\n",
    "from sklearn.naive_bayes import GaussianNB\n",
    "from sklearn.metrics import accuracy_score\n",
    "from scipy.stats import norm\n",
    "import scipy.stats as stats\n"
   ]
  },
  {
   "cell_type": "code",
   "execution_count": 2,
   "id": "287580fc",
   "metadata": {
    "papermill": {
     "duration": 0.085614,
     "end_time": "2024-02-14T21:13:01.091763",
     "exception": false,
     "start_time": "2024-02-14T21:13:01.006149",
     "status": "completed"
    },
    "tags": []
   },
   "outputs": [
    {
     "data": {
      "text/html": [
       "<div>\n",
       "<style scoped>\n",
       "    .dataframe tbody tr th:only-of-type {\n",
       "        vertical-align: middle;\n",
       "    }\n",
       "\n",
       "    .dataframe tbody tr th {\n",
       "        vertical-align: top;\n",
       "    }\n",
       "\n",
       "    .dataframe thead th {\n",
       "        text-align: right;\n",
       "    }\n",
       "</style>\n",
       "<table border=\"1\" class=\"dataframe\">\n",
       "  <thead>\n",
       "    <tr style=\"text-align: right;\">\n",
       "      <th></th>\n",
       "      <th>Date</th>\n",
       "      <th>Open</th>\n",
       "      <th>High</th>\n",
       "      <th>Low</th>\n",
       "      <th>Close</th>\n",
       "      <th>Adj Close</th>\n",
       "      <th>Volume</th>\n",
       "    </tr>\n",
       "  </thead>\n",
       "  <tbody>\n",
       "    <tr>\n",
       "      <th>0</th>\n",
       "      <td>2019-01-01</td>\n",
       "      <td>5200.0</td>\n",
       "      <td>5200.0</td>\n",
       "      <td>5200.0</td>\n",
       "      <td>5200.0</td>\n",
       "      <td>4629.854492</td>\n",
       "      <td>0</td>\n",
       "    </tr>\n",
       "    <tr>\n",
       "      <th>1</th>\n",
       "      <td>2019-01-02</td>\n",
       "      <td>5200.0</td>\n",
       "      <td>5245.0</td>\n",
       "      <td>5200.0</td>\n",
       "      <td>5240.0</td>\n",
       "      <td>4665.467773</td>\n",
       "      <td>35956000</td>\n",
       "    </tr>\n",
       "    <tr>\n",
       "      <th>2</th>\n",
       "      <td>2019-01-03</td>\n",
       "      <td>5200.0</td>\n",
       "      <td>5220.0</td>\n",
       "      <td>5115.0</td>\n",
       "      <td>5180.0</td>\n",
       "      <td>4612.047363</td>\n",
       "      <td>72358000</td>\n",
       "    </tr>\n",
       "    <tr>\n",
       "      <th>3</th>\n",
       "      <td>2019-01-04</td>\n",
       "      <td>5175.0</td>\n",
       "      <td>5205.0</td>\n",
       "      <td>5125.0</td>\n",
       "      <td>5205.0</td>\n",
       "      <td>4634.305664</td>\n",
       "      <td>51465000</td>\n",
       "    </tr>\n",
       "    <tr>\n",
       "      <th>4</th>\n",
       "      <td>2019-01-07</td>\n",
       "      <td>5265.0</td>\n",
       "      <td>5325.0</td>\n",
       "      <td>5245.0</td>\n",
       "      <td>5245.0</td>\n",
       "      <td>4669.919922</td>\n",
       "      <td>73438000</td>\n",
       "    </tr>\n",
       "    <tr>\n",
       "      <th>...</th>\n",
       "      <td>...</td>\n",
       "      <td>...</td>\n",
       "      <td>...</td>\n",
       "      <td>...</td>\n",
       "      <td>...</td>\n",
       "      <td>...</td>\n",
       "      <td>...</td>\n",
       "    </tr>\n",
       "    <tr>\n",
       "      <th>1359</th>\n",
       "      <td>2024-07-24</td>\n",
       "      <td>10125.0</td>\n",
       "      <td>10175.0</td>\n",
       "      <td>10075.0</td>\n",
       "      <td>10075.0</td>\n",
       "      <td>10075.000000</td>\n",
       "      <td>24658000</td>\n",
       "    </tr>\n",
       "    <tr>\n",
       "      <th>1360</th>\n",
       "      <td>2024-07-25</td>\n",
       "      <td>10225.0</td>\n",
       "      <td>10300.0</td>\n",
       "      <td>10200.0</td>\n",
       "      <td>10300.0</td>\n",
       "      <td>10300.000000</td>\n",
       "      <td>98088100</td>\n",
       "    </tr>\n",
       "    <tr>\n",
       "      <th>1361</th>\n",
       "      <td>2024-07-26</td>\n",
       "      <td>10375.0</td>\n",
       "      <td>10400.0</td>\n",
       "      <td>10300.0</td>\n",
       "      <td>10325.0</td>\n",
       "      <td>10325.000000</td>\n",
       "      <td>75565800</td>\n",
       "    </tr>\n",
       "    <tr>\n",
       "      <th>1362</th>\n",
       "      <td>2024-07-29</td>\n",
       "      <td>10400.0</td>\n",
       "      <td>10425.0</td>\n",
       "      <td>10175.0</td>\n",
       "      <td>10250.0</td>\n",
       "      <td>10250.000000</td>\n",
       "      <td>69092500</td>\n",
       "    </tr>\n",
       "    <tr>\n",
       "      <th>1363</th>\n",
       "      <td>2024-07-30</td>\n",
       "      <td>10300.0</td>\n",
       "      <td>10300.0</td>\n",
       "      <td>10175.0</td>\n",
       "      <td>10175.0</td>\n",
       "      <td>10175.000000</td>\n",
       "      <td>32122900</td>\n",
       "    </tr>\n",
       "  </tbody>\n",
       "</table>\n",
       "<p>1364 rows × 7 columns</p>\n",
       "</div>"
      ],
      "text/plain": [
       "            Date     Open     High      Low    Close     Adj Close    Volume\n",
       "0     2019-01-01   5200.0   5200.0   5200.0   5200.0   4629.854492         0\n",
       "1     2019-01-02   5200.0   5245.0   5200.0   5240.0   4665.467773  35956000\n",
       "2     2019-01-03   5200.0   5220.0   5115.0   5180.0   4612.047363  72358000\n",
       "3     2019-01-04   5175.0   5205.0   5125.0   5205.0   4634.305664  51465000\n",
       "4     2019-01-07   5265.0   5325.0   5245.0   5245.0   4669.919922  73438000\n",
       "...          ...      ...      ...      ...      ...           ...       ...\n",
       "1359  2024-07-24  10125.0  10175.0  10075.0  10075.0  10075.000000  24658000\n",
       "1360  2024-07-25  10225.0  10300.0  10200.0  10300.0  10300.000000  98088100\n",
       "1361  2024-07-26  10375.0  10400.0  10300.0  10325.0  10325.000000  75565800\n",
       "1362  2024-07-29  10400.0  10425.0  10175.0  10250.0  10250.000000  69092500\n",
       "1363  2024-07-30  10300.0  10300.0  10175.0  10175.0  10175.000000  32122900\n",
       "\n",
       "[1364 rows x 7 columns]"
      ]
     },
     "execution_count": 2,
     "metadata": {},
     "output_type": "execute_result"
    }
   ],
   "source": [
    "d1=pd.read_csv(\"BBCA.JK.csv\")\n",
    "d1"
   ]
  },
  {
   "cell_type": "code",
   "execution_count": 3,
   "id": "170baf29",
   "metadata": {
    "papermill": {
     "duration": 0.045482,
     "end_time": "2024-02-14T21:13:01.156477",
     "exception": false,
     "start_time": "2024-02-14T21:13:01.110995",
     "status": "completed"
    },
    "tags": []
   },
   "outputs": [
    {
     "data": {
      "text/html": [
       "<div>\n",
       "<style scoped>\n",
       "    .dataframe tbody tr th:only-of-type {\n",
       "        vertical-align: middle;\n",
       "    }\n",
       "\n",
       "    .dataframe tbody tr th {\n",
       "        vertical-align: top;\n",
       "    }\n",
       "\n",
       "    .dataframe thead th {\n",
       "        text-align: right;\n",
       "    }\n",
       "</style>\n",
       "<table border=\"1\" class=\"dataframe\">\n",
       "  <thead>\n",
       "    <tr style=\"text-align: right;\">\n",
       "      <th></th>\n",
       "      <th>Date</th>\n",
       "      <th>Open</th>\n",
       "      <th>High</th>\n",
       "      <th>Low</th>\n",
       "      <th>Close</th>\n",
       "      <th>Adj Close</th>\n",
       "      <th>Volume</th>\n",
       "    </tr>\n",
       "  </thead>\n",
       "  <tbody>\n",
       "    <tr>\n",
       "      <th>0</th>\n",
       "      <td>2018-12-31</td>\n",
       "      <td>5200.0</td>\n",
       "      <td>5640.0</td>\n",
       "      <td>5115.0</td>\n",
       "      <td>5635.0</td>\n",
       "      <td>5017.159180</td>\n",
       "      <td>1859122000</td>\n",
       "    </tr>\n",
       "    <tr>\n",
       "      <th>1</th>\n",
       "      <td>2019-01-31</td>\n",
       "      <td>5680.0</td>\n",
       "      <td>5750.0</td>\n",
       "      <td>5335.0</td>\n",
       "      <td>5515.0</td>\n",
       "      <td>4910.316895</td>\n",
       "      <td>1493339500</td>\n",
       "    </tr>\n",
       "    <tr>\n",
       "      <th>2</th>\n",
       "      <td>2019-02-28</td>\n",
       "      <td>5565.0</td>\n",
       "      <td>5600.0</td>\n",
       "      <td>5425.0</td>\n",
       "      <td>5510.0</td>\n",
       "      <td>4905.864746</td>\n",
       "      <td>790477000</td>\n",
       "    </tr>\n",
       "    <tr>\n",
       "      <th>3</th>\n",
       "      <td>2019-03-31</td>\n",
       "      <td>5550.0</td>\n",
       "      <td>5805.0</td>\n",
       "      <td>5450.0</td>\n",
       "      <td>5750.0</td>\n",
       "      <td>5119.550293</td>\n",
       "      <td>989206000</td>\n",
       "    </tr>\n",
       "    <tr>\n",
       "      <th>4</th>\n",
       "      <td>2019-04-30</td>\n",
       "      <td>5750.0</td>\n",
       "      <td>5895.0</td>\n",
       "      <td>5140.0</td>\n",
       "      <td>5820.0</td>\n",
       "      <td>5229.244141</td>\n",
       "      <td>1700900500</td>\n",
       "    </tr>\n",
       "  </tbody>\n",
       "</table>\n",
       "</div>"
      ],
      "text/plain": [
       "         Date    Open    High     Low   Close    Adj Close      Volume\n",
       "0  2018-12-31  5200.0  5640.0  5115.0  5635.0  5017.159180  1859122000\n",
       "1  2019-01-31  5680.0  5750.0  5335.0  5515.0  4910.316895  1493339500\n",
       "2  2019-02-28  5565.0  5600.0  5425.0  5510.0  4905.864746   790477000\n",
       "3  2019-03-31  5550.0  5805.0  5450.0  5750.0  5119.550293   989206000\n",
       "4  2019-04-30  5750.0  5895.0  5140.0  5820.0  5229.244141  1700900500"
      ]
     },
     "execution_count": 3,
     "metadata": {},
     "output_type": "execute_result"
    }
   ],
   "source": [
    "d2=pd.read_csv(\"BBCA.JK_monthly.csv\")\n",
    "d2.head()"
   ]
  },
  {
   "cell_type": "code",
   "execution_count": 4,
   "id": "42dafa51",
   "metadata": {
    "papermill": {
     "duration": 0.047224,
     "end_time": "2024-02-14T21:13:01.224307",
     "exception": false,
     "start_time": "2024-02-14T21:13:01.177083",
     "status": "completed"
    },
    "tags": []
   },
   "outputs": [
    {
     "data": {
      "text/html": [
       "<div>\n",
       "<style scoped>\n",
       "    .dataframe tbody tr th:only-of-type {\n",
       "        vertical-align: middle;\n",
       "    }\n",
       "\n",
       "    .dataframe tbody tr th {\n",
       "        vertical-align: top;\n",
       "    }\n",
       "\n",
       "    .dataframe thead th {\n",
       "        text-align: right;\n",
       "    }\n",
       "</style>\n",
       "<table border=\"1\" class=\"dataframe\">\n",
       "  <thead>\n",
       "    <tr style=\"text-align: right;\">\n",
       "      <th></th>\n",
       "      <th>Date</th>\n",
       "      <th>Open</th>\n",
       "      <th>High</th>\n",
       "      <th>Low</th>\n",
       "      <th>Close</th>\n",
       "      <th>Adj Close</th>\n",
       "      <th>Volume</th>\n",
       "    </tr>\n",
       "  </thead>\n",
       "  <tbody>\n",
       "    <tr>\n",
       "      <th>0</th>\n",
       "      <td>2018-12-31</td>\n",
       "      <td>5200.0</td>\n",
       "      <td>5325.0</td>\n",
       "      <td>5115.0</td>\n",
       "      <td>5245.0</td>\n",
       "      <td>4669.919434</td>\n",
       "      <td>233217000</td>\n",
       "    </tr>\n",
       "    <tr>\n",
       "      <th>1</th>\n",
       "      <td>2019-01-07</td>\n",
       "      <td>5230.0</td>\n",
       "      <td>5320.0</td>\n",
       "      <td>5150.0</td>\n",
       "      <td>5200.0</td>\n",
       "      <td>4629.854492</td>\n",
       "      <td>437807000</td>\n",
       "    </tr>\n",
       "    <tr>\n",
       "      <th>2</th>\n",
       "      <td>2019-01-14</td>\n",
       "      <td>5230.0</td>\n",
       "      <td>5600.0</td>\n",
       "      <td>5190.0</td>\n",
       "      <td>5545.0</td>\n",
       "      <td>4937.026855</td>\n",
       "      <td>462381000</td>\n",
       "    </tr>\n",
       "    <tr>\n",
       "      <th>3</th>\n",
       "      <td>2019-01-21</td>\n",
       "      <td>5600.0</td>\n",
       "      <td>5620.0</td>\n",
       "      <td>5355.0</td>\n",
       "      <td>5495.0</td>\n",
       "      <td>4892.508789</td>\n",
       "      <td>435848500</td>\n",
       "    </tr>\n",
       "    <tr>\n",
       "      <th>4</th>\n",
       "      <td>2019-01-28</td>\n",
       "      <td>5445.0</td>\n",
       "      <td>5750.0</td>\n",
       "      <td>5440.0</td>\n",
       "      <td>5500.0</td>\n",
       "      <td>4896.961426</td>\n",
       "      <td>461434500</td>\n",
       "    </tr>\n",
       "  </tbody>\n",
       "</table>\n",
       "</div>"
      ],
      "text/plain": [
       "         Date    Open    High     Low   Close    Adj Close     Volume\n",
       "0  2018-12-31  5200.0  5325.0  5115.0  5245.0  4669.919434  233217000\n",
       "1  2019-01-07  5230.0  5320.0  5150.0  5200.0  4629.854492  437807000\n",
       "2  2019-01-14  5230.0  5600.0  5190.0  5545.0  4937.026855  462381000\n",
       "3  2019-01-21  5600.0  5620.0  5355.0  5495.0  4892.508789  435848500\n",
       "4  2019-01-28  5445.0  5750.0  5440.0  5500.0  4896.961426  461434500"
      ]
     },
     "execution_count": 4,
     "metadata": {},
     "output_type": "execute_result"
    }
   ],
   "source": [
    "d3=pd.read_csv(\"BBCA.JK_weekly.csv\")\n",
    "d3.head()"
   ]
  },
  {
   "cell_type": "code",
   "execution_count": 5,
   "id": "f8d43dc3",
   "metadata": {
    "papermill": {
     "duration": 0.051174,
     "end_time": "2024-02-14T21:13:01.334185",
     "exception": false,
     "start_time": "2024-02-14T21:13:01.283011",
     "status": "completed"
    },
    "tags": []
   },
   "outputs": [
    {
     "name": "stdout",
     "output_type": "stream",
     "text": [
      "<class 'pandas.core.frame.DataFrame'>\n",
      "RangeIndex: 1364 entries, 0 to 1363\n",
      "Data columns (total 7 columns):\n",
      " #   Column     Non-Null Count  Dtype  \n",
      "---  ------     --------------  -----  \n",
      " 0   Date       1364 non-null   object \n",
      " 1   Open       1364 non-null   float64\n",
      " 2   High       1364 non-null   float64\n",
      " 3   Low        1364 non-null   float64\n",
      " 4   Close      1364 non-null   float64\n",
      " 5   Adj Close  1364 non-null   float64\n",
      " 6   Volume     1364 non-null   int64  \n",
      "dtypes: float64(5), int64(1), object(1)\n",
      "memory usage: 74.7+ KB\n"
     ]
    }
   ],
   "source": [
    "d1.info()"
   ]
  },
  {
   "cell_type": "code",
   "execution_count": 6,
   "id": "8850cefa",
   "metadata": {
    "papermill": {
     "duration": 0.036489,
     "end_time": "2024-02-14T21:13:01.390035",
     "exception": false,
     "start_time": "2024-02-14T21:13:01.353546",
     "status": "completed"
    },
    "tags": []
   },
   "outputs": [
    {
     "name": "stdout",
     "output_type": "stream",
     "text": [
      "<class 'pandas.core.frame.DataFrame'>\n",
      "RangeIndex: 67 entries, 0 to 66\n",
      "Data columns (total 7 columns):\n",
      " #   Column     Non-Null Count  Dtype  \n",
      "---  ------     --------------  -----  \n",
      " 0   Date       67 non-null     object \n",
      " 1   Open       67 non-null     float64\n",
      " 2   High       67 non-null     float64\n",
      " 3   Low        67 non-null     float64\n",
      " 4   Close      67 non-null     float64\n",
      " 5   Adj Close  67 non-null     float64\n",
      " 6   Volume     67 non-null     int64  \n",
      "dtypes: float64(5), int64(1), object(1)\n",
      "memory usage: 3.8+ KB\n"
     ]
    }
   ],
   "source": [
    "d2.info()"
   ]
  },
  {
   "cell_type": "code",
   "execution_count": 7,
   "id": "e12bfd58",
   "metadata": {
    "papermill": {
     "duration": 0.037019,
     "end_time": "2024-02-14T21:13:01.446924",
     "exception": false,
     "start_time": "2024-02-14T21:13:01.409905",
     "status": "completed"
    },
    "tags": []
   },
   "outputs": [
    {
     "name": "stdout",
     "output_type": "stream",
     "text": [
      "<class 'pandas.core.frame.DataFrame'>\n",
      "RangeIndex: 292 entries, 0 to 291\n",
      "Data columns (total 7 columns):\n",
      " #   Column     Non-Null Count  Dtype  \n",
      "---  ------     --------------  -----  \n",
      " 0   Date       292 non-null    object \n",
      " 1   Open       292 non-null    float64\n",
      " 2   High       292 non-null    float64\n",
      " 3   Low        292 non-null    float64\n",
      " 4   Close      292 non-null    float64\n",
      " 5   Adj Close  292 non-null    float64\n",
      " 6   Volume     292 non-null    int64  \n",
      "dtypes: float64(5), int64(1), object(1)\n",
      "memory usage: 16.1+ KB\n"
     ]
    }
   ],
   "source": [
    "d3.info()"
   ]
  },
  {
   "cell_type": "code",
   "execution_count": 8,
   "id": "85b22596",
   "metadata": {
    "papermill": {
     "duration": 0.030113,
     "end_time": "2024-02-14T21:13:01.535489",
     "exception": false,
     "start_time": "2024-02-14T21:13:01.505376",
     "status": "completed"
    },
    "tags": []
   },
   "outputs": [],
   "source": [
    "x=d1[\"Date\"]\n",
    "y=d1.drop(\"Date\",axis=1)"
   ]
  },
  {
   "cell_type": "markdown",
   "id": "e95e931e",
   "metadata": {
    "papermill": {
     "duration": 0.018995,
     "end_time": "2024-02-14T21:13:01.573923",
     "exception": false,
     "start_time": "2024-02-14T21:13:01.554928",
     "status": "completed"
    },
    "tags": []
   },
   "source": [
    "**Mode** \n",
    "we are used it with categorical data \n",
    "it's more repeated observation\n",
    "ex 1,2,2,2,3,3,3,3,5,7,8,8\n",
    "mode=3"
   ]
  },
  {
   "cell_type": "code",
   "execution_count": 9,
   "id": "92dc55ce",
   "metadata": {
    "papermill": {
     "duration": 0.049201,
     "end_time": "2024-02-14T21:13:01.643187",
     "exception": false,
     "start_time": "2024-02-14T21:13:01.593986",
     "status": "completed"
    },
    "tags": []
   },
   "outputs": [
    {
     "data": {
      "text/html": [
       "<div>\n",
       "<style scoped>\n",
       "    .dataframe tbody tr th:only-of-type {\n",
       "        vertical-align: middle;\n",
       "    }\n",
       "\n",
       "    .dataframe tbody tr th {\n",
       "        vertical-align: top;\n",
       "    }\n",
       "\n",
       "    .dataframe thead th {\n",
       "        text-align: right;\n",
       "    }\n",
       "</style>\n",
       "<table border=\"1\" class=\"dataframe\">\n",
       "  <thead>\n",
       "    <tr style=\"text-align: right;\">\n",
       "      <th></th>\n",
       "      <th>Open</th>\n",
       "      <th>High</th>\n",
       "      <th>Low</th>\n",
       "      <th>Close</th>\n",
       "      <th>Adj Close</th>\n",
       "      <th>Volume</th>\n",
       "    </tr>\n",
       "  </thead>\n",
       "  <tbody>\n",
       "    <tr>\n",
       "      <th>0</th>\n",
       "      <td>9200.0</td>\n",
       "      <td>7400.0</td>\n",
       "      <td>8725.0</td>\n",
       "      <td>9050.0</td>\n",
       "      <td>8804.143555</td>\n",
       "      <td>0.0</td>\n",
       "    </tr>\n",
       "    <tr>\n",
       "      <th>1</th>\n",
       "      <td>NaN</td>\n",
       "      <td>7475.0</td>\n",
       "      <td>NaN</td>\n",
       "      <td>NaN</td>\n",
       "      <td>NaN</td>\n",
       "      <td>NaN</td>\n",
       "    </tr>\n",
       "    <tr>\n",
       "      <th>2</th>\n",
       "      <td>NaN</td>\n",
       "      <td>8900.0</td>\n",
       "      <td>NaN</td>\n",
       "      <td>NaN</td>\n",
       "      <td>NaN</td>\n",
       "      <td>NaN</td>\n",
       "    </tr>\n",
       "  </tbody>\n",
       "</table>\n",
       "</div>"
      ],
      "text/plain": [
       "     Open    High     Low   Close    Adj Close  Volume\n",
       "0  9200.0  7400.0  8725.0  9050.0  8804.143555     0.0\n",
       "1     NaN  7475.0     NaN     NaN          NaN     NaN\n",
       "2     NaN  8900.0     NaN     NaN          NaN     NaN"
      ]
     },
     "execution_count": 9,
     "metadata": {},
     "output_type": "execute_result"
    }
   ],
   "source": [
    "#we can get it by two ways first and easy way with pandas\n",
    "y.mode()"
   ]
  },
  {
   "cell_type": "code",
   "execution_count": 10,
   "id": "61577124",
   "metadata": {
    "papermill": {
     "duration": 0.039122,
     "end_time": "2024-02-14T21:13:01.702219",
     "exception": false,
     "start_time": "2024-02-14T21:13:01.663097",
     "status": "completed"
    },
    "tags": []
   },
   "outputs": [
    {
     "name": "stdout",
     "output_type": "stream",
     "text": [
      "Mode is / are: 7475.0, 7400.0, 8900.0\n"
     ]
    }
   ],
   "source": [
    "#second way\n",
    "from collections import Counter \n",
    " \n",
    "\n",
    "n = len(y[\"High\"]) \n",
    " \n",
    "data = Counter(y[\"High\"]) \n",
    "get_mode = dict(data) \n",
    "mode = [k for k, v in get_mode.items() if v == max(list(data.values()))] \n",
    " \n",
    "if len(mode) == n: \n",
    "    get_mode = \"No mode found\"\n",
    "else: \n",
    "    get_mode = \"Mode is / are: \" + ', '.join(map(str, mode)) \n",
    "     \n",
    "print(get_mode) "
   ]
  },
  {
   "cell_type": "code",
   "execution_count": 11,
   "id": "81355b90",
   "metadata": {
    "papermill": {
     "duration": 0.034561,
     "end_time": "2024-02-14T21:13:01.797190",
     "exception": false,
     "start_time": "2024-02-14T21:13:01.762629",
     "status": "completed"
    },
    "tags": []
   },
   "outputs": [
    {
     "data": {
      "text/plain": [
       "Open         7.345891e+03\n",
       "High         7.409465e+03\n",
       "Low          7.278655e+03\n",
       "Close        7.343420e+03\n",
       "Adj Close    6.914786e+03\n",
       "Volume       8.405591e+07\n",
       "dtype: float64"
      ]
     },
     "execution_count": 11,
     "metadata": {},
     "output_type": "execute_result"
    }
   ],
   "source": [
    "#we can get it by two ways first and easy way with pandas\n",
    "mm=y.mean()\n",
    "mm"
   ]
  },
  {
   "cell_type": "code",
   "execution_count": 12,
   "id": "f368e404",
   "metadata": {
    "papermill": {
     "duration": 0.03189,
     "end_time": "2024-02-14T21:13:01.849704",
     "exception": false,
     "start_time": "2024-02-14T21:13:01.817814",
     "status": "completed"
    },
    "tags": []
   },
   "outputs": [
    {
     "name": "stdout",
     "output_type": "stream",
     "text": [
      "mean = 7409.464809384164\n"
     ]
    }
   ],
   "source": [
    "#second way\n",
    "n=len(y[\"High\"])\n",
    "get_sum=sum(y[\"High\"])\n",
    "mean=get_sum/n\n",
    "print(\"mean =\",mean)"
   ]
  },
  {
   "cell_type": "code",
   "execution_count": 13,
   "id": "8e44c7bc",
   "metadata": {
    "papermill": {
     "duration": 0.034776,
     "end_time": "2024-02-14T21:13:01.944857",
     "exception": false,
     "start_time": "2024-02-14T21:13:01.910081",
     "status": "completed"
    },
    "tags": []
   },
   "outputs": [
    {
     "data": {
      "text/plain": [
       "72485600.0"
      ]
     },
     "execution_count": 13,
     "metadata": {},
     "output_type": "execute_result"
    }
   ],
   "source": [
    "#we can get it by two ways first and easy way with pandas\n",
    "y[\"Volume\"].median()"
   ]
  },
  {
   "cell_type": "code",
   "execution_count": 14,
   "id": "48cb099a",
   "metadata": {
    "papermill": {
     "duration": 0.031838,
     "end_time": "2024-02-14T21:13:01.996992",
     "exception": false,
     "start_time": "2024-02-14T21:13:01.965154",
     "status": "completed"
    },
    "tags": []
   },
   "outputs": [
    {
     "name": "stdout",
     "output_type": "stream",
     "text": [
      "Median is: 115463500.0\n"
     ]
    }
   ],
   "source": [
    "#second way\n",
    "n_num =y[\"Volume\"]\n",
    "n=len(n_num)\n",
    "\n",
    "if n%2==0:\n",
    "    median1=n_num[n//2]\n",
    "    median2=n_num[n//2-1]\n",
    "    median=(median1+median2)/2\n",
    "else:\n",
    "    median=n_num[n//2]\n",
    "print(\"Median is: \" + str(median)) \n",
    "\n",
    "        "
   ]
  },
  {
   "cell_type": "code",
   "execution_count": 15,
   "id": "29f28713",
   "metadata": {
    "papermill": {
     "duration": 0.031203,
     "end_time": "2024-02-14T21:13:02.048283",
     "exception": false,
     "start_time": "2024-02-14T21:13:02.017080",
     "status": "completed"
    },
    "tags": []
   },
   "outputs": [
    {
     "name": "stdout",
     "output_type": "stream",
     "text": [
      "156848000\n"
     ]
    }
   ],
   "source": [
    "n_num =y[\"Volume\"]\n",
    "print(n_num[n//2])"
   ]
  },
  {
   "cell_type": "code",
   "execution_count": 16,
   "id": "02399e40",
   "metadata": {
    "papermill": {
     "duration": 0.120345,
     "end_time": "2024-02-14T21:13:02.231950",
     "exception": false,
     "start_time": "2024-02-14T21:13:02.111605",
     "status": "completed"
    },
    "tags": []
   },
   "outputs": [
    {
     "name": "stdout",
     "output_type": "stream",
     "text": [
      "min of y Open         4450.000000\n",
      "High         4800.000000\n",
      "Low          4325.000000\n",
      "Close        4430.000000\n",
      "Adj Close    3992.931396\n",
      "Volume          0.000000\n",
      "dtype: float64\n",
      "max of y Open             10400.0\n",
      "High             10425.0\n",
      "Low              10300.0\n",
      "Close            10325.0\n",
      "Adj Close        10325.0\n",
      "Volume       756431600.0\n",
      "dtype: float64\n"
     ]
    }
   ],
   "source": [
    "#range min,max\n",
    "print(\"min of y\",y.min())\n",
    "print(\"max of y\",y.max())\n"
   ]
  },
  {
   "cell_type": "code",
   "execution_count": 17,
   "id": "cce60c45",
   "metadata": {
    "papermill": {
     "duration": 0.037342,
     "end_time": "2024-02-14T21:13:02.330918",
     "exception": false,
     "start_time": "2024-02-14T21:13:02.293576",
     "status": "completed"
    },
    "tags": []
   },
   "outputs": [
    {
     "name": "stdout",
     "output_type": "stream",
     "text": [
      "first quantile \n",
      " Open         6.135000e+03\n",
      "High         6.190000e+03\n",
      "Low          6.055000e+03\n",
      "Close        6.133750e+03\n",
      "Adj Close    5.611048e+03\n",
      "Volume       5.419305e+07\n",
      "Name: 0.25, dtype: float64\n",
      "second quantile \n",
      " Open         8.725000e+03\n",
      "High         8.825000e+03\n",
      "Low          8.700000e+03\n",
      "Close        8.750000e+03\n",
      "Adj Close    8.349245e+03\n",
      "Volume       9.846262e+07\n",
      "Name: 0.75, dtype: float64\n"
     ]
    }
   ],
   "source": [
    "q1=y.quantile(0.25)\n",
    "q3=y.quantile(0.75)\n",
    "print(\"first quantile\",\"\\n\",q1)\n",
    "print(\"second quantile\",\"\\n\",q3)"
   ]
  },
  {
   "cell_type": "markdown",
   "id": "d59c4133",
   "metadata": {
    "papermill": {
     "duration": 0.020116,
     "end_time": "2024-02-14T21:13:02.371709",
     "exception": false,
     "start_time": "2024-02-14T21:13:02.351593",
     "status": "completed"
    },
    "tags": []
   },
   "source": []
  },
  {
   "cell_type": "code",
   "execution_count": 18,
   "id": "b211156f",
   "metadata": {
    "papermill": {
     "duration": 0.032913,
     "end_time": "2024-02-14T21:13:02.425042",
     "exception": false,
     "start_time": "2024-02-14T21:13:02.392129",
     "status": "completed"
    },
    "tags": []
   },
   "outputs": [
    {
     "name": "stdout",
     "output_type": "stream",
     "text": [
      "Open         2.590000e+03\n",
      "High         2.635000e+03\n",
      "Low          2.645000e+03\n",
      "Close        2.616250e+03\n",
      "Adj Close    2.738196e+03\n",
      "Volume       4.426958e+07\n",
      "dtype: float64\n"
     ]
    }
   ],
   "source": [
    "IQR=q3-q1\n",
    "print(IQR)"
   ]
  },
  {
   "cell_type": "code",
   "execution_count": 19,
   "id": "0040954d",
   "metadata": {
    "papermill": {
     "duration": 0.030537,
     "end_time": "2024-02-14T21:13:02.476474",
     "exception": false,
     "start_time": "2024-02-14T21:13:02.445937",
     "status": "completed"
    },
    "tags": []
   },
   "outputs": [],
   "source": [
    "def blackbox(x):\n",
    "    plt.boxplot(x)\n",
    "    fig = plt.figure(figsize =(10, 7))\n",
    "\n",
    "    plt.show()\n"
   ]
  },
  {
   "cell_type": "code",
   "execution_count": 20,
   "id": "f2cf0c10",
   "metadata": {
    "papermill": {
     "duration": 0.203982,
     "end_time": "2024-02-14T21:13:02.701738",
     "exception": false,
     "start_time": "2024-02-14T21:13:02.497756",
     "status": "completed"
    },
    "tags": []
   },
   "outputs": [
    {
     "data": {
      "image/png": "[encoded data removed]",
      "text/plain": [
       "<Figure size 640x480 with 1 Axes>"
      ]
     },
     "metadata": {},
     "output_type": "display_data"
    },
    {
     "data": {
      "text/plain": [
       "<Figure size 1000x700 with 0 Axes>"
      ]
     },
     "metadata": {},
     "output_type": "display_data"
    }
   ],
   "source": [
    "blackbox(y[\"Open\"])"
   ]
  },
  {
   "cell_type": "code",
   "execution_count": 21,
   "id": "f3f39aec",
   "metadata": {
    "papermill": {
     "duration": 0.168308,
     "end_time": "2024-02-14T21:13:02.892121",
     "exception": false,
     "start_time": "2024-02-14T21:13:02.723813",
     "status": "completed"
    },
    "tags": []
   },
   "outputs": [
    {
     "data": {
      "image/png": "[encoded data removed]",
      "text/plain": [
       "<Figure size 640x480 with 1 Axes>"
      ]
     },
     "metadata": {},
     "output_type": "display_data"
    },
    {
     "data": {
      "text/plain": [
       "<Figure size 1000x700 with 0 Axes>"
      ]
     },
     "metadata": {},
     "output_type": "display_data"
    }
   ],
   "source": [
    "blackbox(y[\"High\"])"
   ]
  },
  {
   "cell_type": "code",
   "execution_count": 22,
   "id": "aee002bf",
   "metadata": {
    "papermill": {
     "duration": 0.186898,
     "end_time": "2024-02-14T21:13:03.101137",
     "exception": false,
     "start_time": "2024-02-14T21:13:02.914239",
     "status": "completed"
    },
    "tags": []
   },
   "outputs": [
    {
     "data": {
      "image/png": "[encoded data removed]",
      "text/plain": [
       "<Figure size 640x480 with 1 Axes>"
      ]
     },
     "metadata": {},
     "output_type": "display_data"
    },
    {
     "data": {
      "text/plain": [
       "<Figure size 1000x700 with 0 Axes>"
      ]
     },
     "metadata": {},
     "output_type": "display_data"
    }
   ],
   "source": [
    "blackbox(y[\"Volume\"])"
   ]
  },
  {
   "cell_type": "code",
   "execution_count": 23,
   "id": "9cb56d59",
   "metadata": {
    "papermill": {
     "duration": 0.035554,
     "end_time": "2024-02-14T21:13:03.203683",
     "exception": false,
     "start_time": "2024-02-14T21:13:03.168129",
     "status": "completed"
    },
    "tags": []
   },
   "outputs": [
    {
     "name": "stdout",
     "output_type": "stream",
     "text": [
      "2064789.2951657043\n"
     ]
    }
   ],
   "source": [
    "length= int(len(y))\n",
    "mean = sum(y[\"High\"]) / length \n",
    "variance = sum((i - mean) ** 2 for i in y[\"High\"]) / (length-1)\n",
    "print(variance)"
   ]
  },
  {
   "cell_type": "code",
   "execution_count": 24,
   "id": "f97ba770",
   "metadata": {
    "papermill": {
     "duration": 0.037869,
     "end_time": "2024-02-14T21:13:03.265280",
     "exception": false,
     "start_time": "2024-02-14T21:13:03.227411",
     "status": "completed"
    },
    "tags": []
   },
   "outputs": [
    {
     "data": {
      "text/plain": [
       "2064789.295165701"
      ]
     },
     "execution_count": 24,
     "metadata": {},
     "output_type": "execute_result"
    }
   ],
   "source": [
    "statistics.variance(y[\"High\"])"
   ]
  },
  {
   "cell_type": "code",
   "execution_count": 25,
   "id": "649b61b9",
   "metadata": {
    "papermill": {
     "duration": 0.035098,
     "end_time": "2024-02-14T21:13:03.368233",
     "exception": false,
     "start_time": "2024-02-14T21:13:03.333135",
     "status": "completed"
    },
    "tags": []
   },
   "outputs": [
    {
     "name": "stdout",
     "output_type": "stream",
     "text": [
      "1436.9374708614514\n"
     ]
    }
   ],
   "source": [
    "length=int(len(y[\"High\"]))\n",
    "mean=sum(y[\"High\"])/length\n",
    "variance==sum((i-mean)**2 for i in y[\"High\"])/(length-1)\n",
    "std=np.sqrt(variance)\n",
    "print(std)"
   ]
  },
  {
   "cell_type": "code",
   "execution_count": 26,
   "id": "420dc392",
   "metadata": {
    "papermill": {
     "duration": 0.039264,
     "end_time": "2024-02-14T21:13:03.430292",
     "exception": false,
     "start_time": "2024-02-14T21:13:03.391028",
     "status": "completed"
    },
    "tags": []
   },
   "outputs": [
    {
     "name": "stdout",
     "output_type": "stream",
     "text": [
      "Open         1.431651e+03\n",
      "High         1.436411e+03\n",
      "Low          1.429689e+03\n",
      "Close        1.433567e+03\n",
      "Adj Close    1.568880e+03\n",
      "Volume       5.608266e+07\n",
      "dtype: float64\n"
     ]
    }
   ],
   "source": [
    "std=np.std(y)\n",
    "print(std)"
   ]
  },
  {
   "cell_type": "code",
   "execution_count": 27,
   "id": "2e40766a",
   "metadata": {
    "papermill": {
     "duration": 0.039681,
     "end_time": "2024-02-14T21:13:03.537975",
     "exception": false,
     "start_time": "2024-02-14T21:13:03.498294",
     "status": "completed"
    },
    "tags": []
   },
   "outputs": [
    {
     "name": "stdout",
     "output_type": "stream",
     "text": [
      "[-1.5376207066683136, -1.5063041038846015, -1.5237022165422194, -1.5341410841367902, -1.4506301433802244, -1.454109765911748, -1.454109765911748, -1.4680282560378421, -1.4680282560378421, -1.5132633489476486, -1.4958652362900309, -1.478467123632413, -1.4471505208487008, -1.381037692749753, -1.259250904146428, -1.2453324140203337, -1.259250904146428, -1.3392822223714702, -1.3149248646508052, -1.3184044871823286, -1.2940471294616638, -1.2870878843986167, -1.2314139238942394, -1.1548622282007208, -1.234893546425763, -1.3288433547768994, -1.301006374524711, -1.3044859970562344, -1.3044859970562344, -1.307965619587758, -1.307965619587758, -1.3358025998399465, -1.3949561828758472, -1.3914765603443238, -1.3288433547768994, -1.3427618449029937, -1.2627305266779516, -1.2870878843986167, -1.3114452421192815, -1.3288433547768994, -1.29056750693014, -1.2801286393355695, -1.2731693942725224, -1.259250904146428, -1.301006374524711, -1.325363732245376, -1.29056750693014, -1.3358025998399465, -1.2801286393355695, -1.307965619587758, -1.301006374524711, -1.325363732245376, -1.332322977308423, -1.2975267519931872, -1.2870878843986167, -1.2975267519931872, -1.29056750693014, -1.3149248646508052, -1.3288433547768994, -1.3288433547768994, -1.3218841097138523, -1.3218841097138523, -1.3392822223714702, -1.307965619587758, -1.2940471294616638, -1.2801286393355695, -1.3288433547768994, -1.2870878843986167, -1.2870878843986167, -1.301006374524711, -1.2940471294616638, -1.29056750693014, -1.2870878843986167, -1.3218841097138523, -1.2801286393355695, -1.325363732245376, -1.332322977308423, -1.1165863803539617, -1.2418527914888102, -1.203576943642051, -1.1826992084529095, -1.2314139238942394, -1.2453324140203337, -1.227934301362716, -1.1931380760474801, -1.1479029831376737, -1.1548622282007208, -1.113106757822438, -1.1548622282007208, -1.2174954337681452, -1.1826992084529095, -1.1896584535159567, -1.1896584535159567, -1.203576943642051, -1.1931380760474801, -1.2383731689572866, -1.29056750693014, -1.3427618449029937, -1.461069010974795, -1.405395050470418, -1.332322977308423, -1.307965619587758, -1.2557712816149045, -1.2383731689572866, -1.1896584535159567, -1.1409437380746266, -1.0539531747865374, -1.1618214732637682, -1.0713512874441553, -1.106147512759391, -1.106147512759391, -1.106147512759391, -1.106147512759391, -1.106147512759391, -0.8486554454266467, -1.008718081876731, -1.0504735522550137, -1.0609124198495845, -1.088749400101773, -1.0922290226332967, -1.0504735522550137, -1.008718081876731, -1.0226365720028252, -1.0261161945343489, -1.0504735522550137, -1.008718081876731, -1.0226365720028252, -1.0261161945343489, -0.984360724156066, -0.9634829889669245, -0.9808811016245425, -0.9808811016245425, -0.9739218565614952, -0.9669626114984481, -1.008718081876731, -0.9808811016245425, -0.9530441213723538, -0.9634829889669245, -0.960003366435401, -0.9008497833995003, -0.9078090284625474, -0.8764924256788353, -0.862573935552741, -0.8347369553005525, -0.7790629947961754, -0.7790629947961754, -0.7964611074537932, -0.789501862390746, -0.8068999750483639, -0.8208184651744582, -0.8068999750483639, -0.813859220111411, -0.7929814849222696, -0.838216577832076, -0.8312573327690289, -1.0121977044082546, -0.9460848763093067, -0.9252071411201653, -0.8973701608679767, -0.9252071411201653, -0.9530441213723538, -0.9391256312462596, -0.9808811016245425, -0.9530441213723538, -0.960003366435401, -0.9565237439038774, -0.9774014790930189, -0.9808811016245425, -0.984360724156066, -0.9808811016245425, -0.9530441213723538, -0.9669626114984481, -0.9634829889669245, -0.911288650994071, -0.911288650994071, -0.9426052537777831, -0.9391256312462596, -0.9217275185886417, -0.9391256312462596, -0.9426052537777831, -0.9426052537777831, -0.911288650994071, -0.9078090284625474, -0.9182478960571181, -0.9704422340299717, -0.9565237439038774, -0.9530441213723538, -0.9495644988408303, -0.9460848763093067, -0.960003366435401, -0.9808811016245425, -1.0261161945343489, -0.9391256312462596, -0.9286867636516889, -0.9321663861832125, -0.935646008714736, -0.9321663861832125, -0.9495644988408303, -0.935646008714736, -0.9252071411201653, -0.911288650994071, -0.911288650994071, -0.9043294059310238, -0.8730128031473118, -0.8416962003635996, -0.8486554454266467, -0.8312573327690289, -0.8347369553005525, -0.862573935552741, -0.8034203525168403, -0.7721037497331282, -0.7686241272016047, -0.7581852596070339, -0.7547056370755103, -0.8068999750483639, -0.813859220111411, -0.7825426173276989, -0.7721037497331282, -0.7547056370755103, -0.7164297892287511, -0.7303482793548454, -0.7164297892287511, -0.7477463920124632, -0.7616648821385574, -0.7442667694809396, -0.7860222398592225, -0.7825426173276989, -0.7860222398592225, -0.7790629947961754, -0.7825426173276989, -0.7373075244178925, -0.7373075244178925, -0.7373075244178925, -0.7651445046700811, -0.7477463920124632, -0.7512260145439867, -0.7721037497331282, -0.7755833722646518, -0.7755833722646518, -0.6851131864450389, -0.6885928089765625, -0.7025112991026567, -0.7129501666972275, -0.7059909216341803, -0.7059909216341803, -0.7025112991026567, -0.7129501666972275, -0.6990316765711332, -0.6885928089765625, -0.7059909216341803, -0.6329188484721854, -0.42414149658077116, -0.4798154570851483, -0.465896966959054, -0.47285621202210115, -0.4763358345536247, -0.4937339472112426, -0.4798154570851483, -0.43805998670686547, -0.42414149658077116, -0.45893772189600684, -0.4450192317699126, -0.46241734442753046, -0.4554580993644833, -0.4067433839231533, -0.4519784768329597, -0.3649879135448705, -0.2432011249415455, -0.3615082910133469, -0.3615082910133469, -0.3023547079774462, -0.35802866848182335, -0.35802866848182335, -0.35802866848182335, -0.36846753607639404, -0.3267120656981112, -0.39282489379705904, -0.39282489379705904, -0.39282489379705904, -0.4206618740492476, -0.5737652654362847, -0.5494079077156196, -0.43805998670686547, -0.43805998670686547, -0.43805998670686547, -0.43458036417534185, -0.43458036417534185, -0.42414149658077116, -0.4102230064546769, -0.4276211191122947, -0.45893772189600684, -0.4798154570851483, -0.4519784768329597, -0.49721356974276615, -0.5215709274634311, -0.563326397841714, -0.5911633780939025, -0.6085614907515204, -0.6503169611298032, -0.7790629947961754, -0.7790629947961754, -0.7373075244178925, -0.6329188484721854, -0.6050818682199968, -0.7373075244178925, -0.9530441213723538, -0.9739218565614952, -0.9947995917506367, -1.2314139238942394, -1.2870878843986167, -1.2870878843986167, -1.325363732245376, -1.4123542955334651, -1.68028523046078, -1.4088746730019415, -1.6768056079292564, -1.68028523046078, -1.4019154279388943, -1.0539531747865374, -1.29056750693014, -1.1826992084529095, -1.1548622282007208, -1.3497210899660408, -1.307965619587758, -1.1618214732637682, -0.911288650994071, -1.2174954337681452, -1.1931380760474801, -1.2488120365518574, -1.2662101492094753, -1.2383731689572866, -1.3149248646508052, -1.3671192026236587, -1.3288433547768994, -1.429752408191083, -1.5132633489476486, -1.5063041038846015, -1.5793761770465964, -1.6628871178031621, -1.6942037205868743, -1.7811942838749635, -1.502824481353078, -1.4680282560378421, -1.4401912757856536, -1.4193135405965123, -1.398435805407371, -1.4506301433802244, -1.4401912757856536, -1.558498441857455, -1.600253912235738, -1.68028523046078, -1.7846739064064872, -1.704642588181445, -1.8159905091901993, -1.6768056079292564, -1.6768056079292564, -1.454109765911748, -1.4715078785693658, -1.3288433547768994, -1.1339844930115794, -0.9878403466875896, -1.0817901550387259, -1.033075439597396, -0.984360724156066, -1.0748309099756788, -1.113106757822438, -1.203576943642051, -1.1826992084529095, -1.1235456254170089, -1.1200660028854852, -1.1618214732637682, -1.2244546788311923, -1.2174954337681452, -1.2174954337681452, -1.1479029831376737, -1.1583418507322445, -1.1479029831376737, -1.1931380760474801, -1.1618214732637682, -1.1200660028854852, -1.0713512874441553, -1.0469939297234903, -1.0261161945343489, -0.984360724156066, -0.7964611074537932, -0.813859220111411, -0.813859220111411, -0.813859220111411, -0.8416962003635996, -0.813859220111411, -0.8416962003635996, -0.8556146904896939, -0.8695331806157881, -0.8173388426429345, -0.8068999750483639, -0.8312573327690289, -0.8416962003635996, -0.8834516707418825, -0.8416962003635996, -0.8521350679581703, -0.813859220111411, -0.8173388426429345, -0.8277777102375053, -0.8277777102375053, -0.7755833722646518, -0.7825426173276989, -0.8416962003635996, -0.8416962003635996, -0.7999407299853167, -0.7721037497331282, -0.6990316765711332, -0.6851131864450389, -0.6955520540396096, -0.7164297892287511, -0.7164297892287511, -0.7094705441657039, -0.563326397841714, -0.563326397841714, -0.6050818682199968, -0.6190003583460911, -0.5911633780939025, -0.6329188484721854, -0.6677150737874211, -0.7303482793548454, -0.7303482793548454, -0.7581852596070339, -0.8277777102375053, -0.9982792142821603, -0.9008497833995003, -0.911288650994071, -1.0713512874441553, -1.0817901550387259, -1.1653010957952916, -1.1653010957952916, -1.283608261867093, -1.2696897717409987, -1.3044859970562344, -1.2418527914888102, -1.1931380760474801, -1.234893546425763, -1.283608261867093, -1.2801286393355695, -1.283608261867093, -1.2870878843986167, -1.1792195859213859, -1.1513826056691974, -1.1200660028854852, -1.1374641155431031, -1.0678716649126316, -1.0783105325072024, -1.0504735522550137, -1.0643920423811082, -1.1270252479485323, -1.0504735522550137, -1.0643920423811082, -1.0748309099756788, -1.1200660028854852, -1.0922290226332967, -1.0957086451648201, -1.0991882676963438, -1.1026678902278673, -1.0539531747865374, -1.0226365720028252, -0.8556146904896939, -0.7721037497331282, -0.7025112991026567, -0.563326397841714, -0.587683755562379, -0.6363984710037089, -0.6677150737874211, -0.6433577160667561, -0.587683755562379, -0.5807245104993318, -0.5354894175895254, -0.5285301725264783, -0.5563671527786669, -0.563326397841714, -0.5737652654362847, -0.6398780935352325, -0.6398780935352325, -0.7025112991026567, -0.6781539413819918, -0.6433577160667561, -0.6155207358145676, -0.6572762061928503, -0.5772448879678083, -0.6190003583460911, -0.563326397841714, -0.43805998670686547, -0.4032637613916297, -0.35454904595029973, -0.31975282063506405, -0.28495659531982837, -0.3301916882296348, -0.3615082910133469, -0.4102230064546769, -0.35106942341877617, -0.4102230064546769, -0.41718225151772403, -0.42414149658077116, -0.3858656487340119, -0.2223233897524041, -0.2327622573469748, -0.2501603700045926, -0.22928263481545122, -0.03442377305013129, -0.020505282924037013, -0.09357735608603199, -0.2223233897524041, -0.21536414468935694, -0.1979660320317391, -0.20144565456326266, -0.07965886595993771, -0.07617924342841415, -0.1736086743110741, -0.14577169405888554, -0.28495659531982837, -0.33367131076115836, -0.3371509332926819, -0.28495659531982837, -0.3406305558242055, -0.2988750854459226, -0.28495659531982837, -0.28495659531982837, -0.31975282063506405, -0.2466807474730691, -0.26407886013068693, -0.2501603700045926, -0.29539546291439905, -0.3615082910133469, -0.3232324431665876, -0.3127935755720169, -0.35454904595029973, -0.3893452712655355, -0.3267120656981112, -0.39282489379705904, -0.39978413886010616, -0.4450192317699126, -0.41718225151772403, -0.25363999253611624, -0.1736086743110741, -0.22580301228392766, -0.28495659531982837, -0.3371509332926819, -0.31975282063506405, -0.48329507961667184, -0.4798154570851483, -0.36846753607639404, -0.4102230064546769, -0.4867747021481954, -0.5180913049319076, -0.4798154570851483, -0.4450192317699126, -0.5076524373373369, -0.4798154570851483, -0.5981226231569496, -0.6746743188504682, -0.6711946963189447, -0.6224799808776147, -0.6642354512558976, -0.7059909216341803, -0.7929814849222696, -0.7790629947961754, -0.862573935552741, -0.789501862390746, -0.8312573327690289, -0.7581852596070339, -0.7755833722646518, -0.9391256312462596, -0.7686241272016047, -0.7651445046700811, -0.7233890342917982, -0.7860222398592225, -0.8068999750483639, -0.8242980877059818, -0.789501862390746, -0.7059909216341803, -0.7025112991026567, -0.6781539413819918, -0.6990316765711332, -0.660755828724374, -0.6677150737874211, -0.6468373385982796, -0.6816335639135154, -0.6816335639135154, -0.6677150737874211, -0.660755828724374, -0.6885928089765625, -0.6468373385982796, -0.6329188484721854, -0.6642354512558976, -0.7025112991026567, -0.6781539413819918, -0.6677150737874211, -0.7164297892287511, -0.6746743188504682, -0.6468373385982796, -0.7233890342917982, -0.7094705441657039, -0.6224799808776147, -0.563326397841714, -0.5494079077156196, -0.5842041330308554, -0.5807245104993318, -0.6085614907515204, -0.5494079077156196, -0.5772448879678083, -0.6190003583460911, -0.6537965836613268, -0.6781539413819918, -0.7094705441657039, -0.740787146949416, -0.7721037497331282, -0.7094705441657039, -0.7442667694809396, -0.7651445046700811, -0.7999407299853167, -0.8764924256788353, -0.9182478960571181, -0.9321663861832125, -0.9286867636516889, -0.8834516707418825, -0.8904109158049296, -0.9043294059310238, -0.8556146904896939, -0.9530441213723538, -0.9669626114984481, -0.8556146904896939, -0.8590943130212174, -0.960003366435401, -0.9008497833995003, -0.862573935552741, -0.9043294059310238, -0.8973701608679767, -0.8730128031473118, -0.8486554454266467, -0.9391256312462596, -0.9391256312462596, -0.9739218565614952, -0.9217275185886417, -0.911288650994071, -0.935646008714736, -0.8556146904896939, -0.8764924256788353, -0.7651445046700811, -0.7303482793548454, -0.8416962003635996, -0.7721037497331282, -0.7581852596070339, -0.6781539413819918, -0.6885928089765625, -0.4519784768329597, -0.563326397841714, -0.563326397841714, -0.5702856429047611, -0.563326397841714, -0.5598467753101904, -0.5772448879678083, -0.612041113283044, -0.5772448879678083, -0.5842041330308554, -0.563326397841714, -0.5807245104993318, -0.563326397841714, -0.5598467753101904, -0.5598467753101904, -0.5668060203732376, -0.5842041330308554, -0.587683755562379, -0.5911633780939025, -0.5668060203732376, -0.5981226231569496, -0.5772448879678083, -0.6085614907515204, -0.5702856429047611, -0.6085614907515204, -0.5772448879678083, -0.5702856429047611, -0.5737652654362847, -0.5668060203732376, -0.5911633780939025, -0.5772448879678083, -0.28495659531982837, -0.35454904595029973, -0.3127935755720169, -0.3232324431665876, -0.15969018418497982, -0.16316980671650338, -0.07617924342841415, -0.08313848849146128, -0.06226075330231986, 0.5849490375610642, 0.3413754603544143, 0.3239773476967964, 0.18479244643585363, 0.08040377049014652, 0.09780188314776438, 0.09780188314776438, 0.08040377049014652, 0.13259810846300008, 0.11519999580538222, 0.010811319859675117, 0.04560754517491082, 0.09780188314776438, 0.010811319859675117, -0.006586792797942734, 0.04560754517491082, 0.04560754517491082, 0.13259810846300008, 0.18479244643585363, 0.18479244643585363, 0.23698678440870719, 0.23698678440870719, 0.14999622112061792, 0.04560754517491082, 0.11519999580538222, 0.06300565783252868, 0.02820943251729297, 0.08040377049014652, 0.06300565783252868, 0.11519999580538222, 0.08040377049014652, 0.02820943251729297, 0.010811319859675117, 0.010811319859675117, 0.02820943251729297, 0.06300565783252868, 0.08040377049014652, 0.04560754517491082, 0.04560754517491082, 0.04560754517491082, 0.02820943251729297, -0.023984905455560587, -0.006586792797942734, -0.023984905455560587, -0.023984905455560587, -0.006586792797942734, 0.06300565783252868, -0.006586792797942734, -0.006586792797942734, 0.010811319859675117, -0.04138301811317844, -0.04138301811317844, -0.04138301811317844, -0.006586792797942734, -0.023984905455560587, -0.04138301811317844, -0.006586792797942734, 0.02820943251729297, 0.08040377049014652, 0.08040377049014652, 0.20219055909347147, 0.1673943337782358, 0.20219055909347147, 0.20219055909347147, 0.23698678440870719, 0.3065792350391786, 0.3413754603544143, 0.25438489706632506, 0.21958867175108934, 0.25438489706632506, 0.37617168566965, 0.3065792350391786, 0.25438489706632506, 0.23698678440870719, 0.27178300972394287, 0.28918112238156074, 0.25438489706632506, 0.27178300972394287, 0.28918112238156074, 0.27178300972394287, 0.27178300972394287, 0.3065792350391786, 0.37617168566965, 0.37617168566965, 0.28918112238156074, 0.25438489706632506, 0.3239773476967964, 0.39356979832726785, 0.35877357301203217, 0.37617168566965, 0.39356979832726785, 0.37617168566965, 0.4805603616153571, 0.5153565869305928, 0.5327546995882106, 0.5327546995882106, 0.5675509249034464, 0.42836602364250354, 0.3065792350391786, 0.3065792350391786, 0.37617168566965, 0.39356979832726785, 0.37617168566965, 0.4805603616153571, 0.5501528122458285, 0.602347150218682, 0.6197452628762999, 0.4805603616153571, 0.37617168566965, 0.37617168566965, 0.37617168566965, 0.37617168566965, 0.37617168566965, 0.3413754603544143, 0.3413754603544143, 0.3413754603544143, 0.4109679109848857, 0.4631622489577393, 0.35877357301203217, 0.3413754603544143, 0.3065792350391786, 0.28918112238156074, 0.3239773476967964, 0.3239773476967964, 0.27178300972394287, 0.3065792350391786, 0.27178300972394287, 0.21958867175108934, 0.20219055909347147, 0.21958867175108934, 0.35877357301203217, 0.35877357301203217, 0.4109679109848857, 0.49795847427297496, 0.5501528122458285, 0.5849490375610642, 0.3413754603544143, 0.13259810846300008, 0.20219055909347147, 0.09780188314776438, 0.04560754517491082, 0.04560754517491082, 0.11519999580538222, 0.04560754517491082, 0.04560754517491082, 0.04560754517491082, 0.04560754517491082, 0.02820943251729297, 0.11519999580538222, 0.13259810846300008, 0.23698678440870719, 0.18479244643585363, 0.18479244643585363, 0.11519999580538222, 0.04560754517491082, 0.13259810846300008, 0.11519999580538222, 0.02820943251729297, -0.006586792797942734, -0.006586792797942734, -0.023984905455560587, 0.13259810846300008, 0.09780188314776438, 0.1673943337782358, 0.1673943337782358, 0.1673943337782358, 0.11519999580538222, 0.13259810846300008, 0.06300565783252868, -0.006586792797942734, -0.006586792797942734, -0.006586792797942734, -0.05878113077079629, -0.09357735608603199, -0.05878113077079629, -0.05878113077079629, -0.11097546874364984, -0.16316980671650338, -0.14577169405888554, -0.11097546874364984, -0.1979660320317391, -0.21536414468935694, -0.21536414468935694, -0.18056791937412126, -0.16316980671650338, -0.006586792797942734, -0.006586792797942734, -0.006586792797942734, -0.023984905455560587, -0.023984905455560587, -0.04138301811317844, 0.02820943251729297, 0.04560754517491082, 0.06300565783252868, 0.14999622112061792, 0.14999622112061792, 0.27178300972394287, 0.3239773476967964, 0.35877357301203217, 0.39356979832726785, 0.3413754603544143, 0.37617168566965, 0.39356979832726785, 0.39356979832726785, 0.39356979832726785, 0.42836602364250354, 0.4457641363001214, 0.4109679109848857, 0.4109679109848857, 0.42836602364250354, 0.4805603616153571, 0.49795847427297496, 0.5153565869305928, 0.602347150218682, 0.5675509249034464, 0.5849490375610642, 0.5675509249034464, 0.6197452628762999, 0.6545414881915356, 0.6719396008491535, 0.7589301641372427, 0.7589301641372427, 0.7067358261643891, 0.8111245021100962, 0.8633188400829498, 1.0199018540015106, 0.9155131780558033, 0.9329112907134213, 0.8633188400829498, 0.8285226147677142, 0.7763282767948606, 0.7415320514796249, 0.7589301641372427, 0.724133938822007, 0.7067358261643891, 0.724133938822007, 0.8111245021100962, 0.7763282767948606, 0.845920727425332, 0.7937263894524784, 0.7589301641372427, 0.6719396008491535, 0.6719396008491535, 0.6197452628762999, 0.6371433755339178, 0.6719396008491535, 0.6545414881915356, 0.6197452628762999, 0.7415320514796249, 0.6545414881915356, 0.7589301641372427, 0.9155131780558033, 1.0372999666591283, 1.0199018540015106, 0.8633188400829498, 0.8981150653981855, 0.9329112907134213, 1.0025037413438926, 1.1068924172895998, 0.9851056286862748, 0.9851056286862748, 0.9677075160286569, 1.0025037413438926, 1.0199018540015106, 1.0199018540015106, 0.9677075160286569, 1.0546980793167462, 1.0372999666591283, 1.0025037413438926, 0.8807169527405677, 0.9851056286862748, 1.0372999666591283, 1.0372999666591283, 1.0720961919743641, 1.0894943046319818, 1.1068924172895998, 1.1068924172895998, 1.1764848679200712, 1.1590867552624533, 1.3852622198114855, 1.3504659944962496, 1.0894943046319818, 1.0372999666591283, 0.9329112907134213, 0.8111245021100962, 0.8111245021100962, 0.8285226147677142, 0.8981150653981855, 0.8981150653981855, 0.8981150653981855, 0.8285226147677142, 0.8633188400829498, 0.8981150653981855, 0.8633188400829498, 0.8981150653981855, 0.8807169527405677, 0.8111245021100962, 0.845920727425332, 0.8633188400829498, 0.8633188400829498, 0.8285226147677142, 0.8633188400829498, 0.8285226147677142, 0.8285226147677142, 0.8111245021100962, 0.6719396008491535, 0.6371433755339178, 0.724133938822007, 0.7067358261643891, 0.5153565869305928, 0.602347150218682, 0.5327546995882106, 0.5501528122458285, 0.6719396008491535, 0.6371433755339178, 0.6545414881915356, 0.6371433755339178, 0.6545414881915356, 0.6197452628762999, 0.7415320514796249, 1.0025037413438926, 0.9503094033710391, 0.8807169527405677, 0.8111245021100962, 0.7763282767948606, 0.8981150653981855, 0.9329112907134213, 1.0025037413438926, 1.0025037413438926, 1.0372999666591283, 1.0372999666591283, 1.0372999666591283, 1.0720961919743641, 1.0372999666591283, 1.0025037413438926, 1.0025037413438926, 0.9851056286862748, 0.9677075160286569, 0.9329112907134213, 0.9329112907134213, 1.0025037413438926, 0.9503094033710391, 0.9503094033710391, 0.9329112907134213, 0.8981150653981855, 0.8807169527405677, 0.7937263894524784, 0.7415320514796249, 0.8111245021100962, 0.8633188400829498, 0.7937263894524784, 0.845920727425332, 0.7415320514796249, 0.7415320514796249, 0.6545414881915356, 0.724133938822007, 0.7415320514796249, 0.7589301641372427, 0.9851056286862748, 0.9851056286862748, 0.9677075160286569, 0.9677075160286569, 1.0372999666591283, 1.0025037413438926, 0.9851056286862748, 0.9851056286862748, 0.9677075160286569, 0.9503094033710391, 0.9677075160286569, 0.9851056286862748, 1.0372999666591283, 1.0720961919743641, 1.1068924172895998, 1.1416886426048354, 1.2286792058929248, 1.2460773185505425, 1.2286792058929248, 1.193882980577689, 1.1764848679200712, 1.1416886426048354, 1.1242905299472177, 1.1416886426048354, 1.1590867552624533, 1.0894943046319818, 1.0720961919743641, 1.0372999666591283, 1.0199018540015106, 1.0199018540015106, 0.9851056286862748, 1.0025037413438926, 1.1068924172895998, 1.1590867552624533, 1.2112810932353069, 1.2460773185505425, 1.2112810932353069, 1.2460773185505425, 1.2808735438657783, 1.333067881838632, 1.333067881838632, 1.333067881838632, 1.2460773185505425, 1.2286792058929248, 1.193882980577689, 1.2286792058929248, 1.2112810932353069, 1.2286792058929248, 1.193882980577689, 1.1764848679200712, 1.1764848679200712, 1.1416886426048354, 1.1416886426048354, 1.193882980577689, 1.2112810932353069, 1.2112810932353069, 1.193882980577689, 1.2112810932353069, 1.1590867552624533, 1.2112810932353069, 1.1590867552624533, 1.1764848679200712, 1.1764848679200712, 1.1764848679200712, 1.1764848679200712, 1.2286792058929248, 1.2634754312081604, 1.2460773185505425, 1.2808735438657783, 1.2808735438657783, 1.2634754312081604, 1.2286792058929248, 1.2460773185505425, 1.315669769181014, 1.3504659944962496, 1.3852622198114855, 1.2634754312081604, 1.2460773185505425, 1.2286792058929248, 1.2460773185505425, 1.315669769181014, 1.298271656523396, 1.298271656523396, 1.315669769181014, 1.3852622198114855, 1.4026603324691032, 1.420058445126721, 1.3504659944962496, 1.3678641071538675, 1.333067881838632, 1.3504659944962496, 1.2808735438657783, 1.333067881838632, 1.333067881838632, 1.333067881838632, 1.298271656523396, 1.2808735438657783, 1.315669769181014, 1.315669769181014, 1.2634754312081604, 1.298271656523396, 1.298271656523396, 1.2808735438657783, 1.2808735438657783, 1.2286792058929248, 1.2112810932353069, 1.193882980577689, 1.193882980577689, 1.1590867552624533, 1.193882980577689, 1.1764848679200712, 1.1590867552624533, 1.1590867552624533, 1.2286792058929248, 1.2112810932353069, 1.2112810932353069, 1.1590867552624533, 1.1242905299472177, 1.1068924172895998, 1.0372999666591283, 1.1764848679200712, 1.2460773185505425, 1.2808735438657783, 1.2460773185505425, 1.1764848679200712, 1.193882980577689, 1.1068924172895998, 1.1242905299472177, 1.1764848679200712, 1.193882980577689, 1.193882980577689, 1.1590867552624533, 1.0720961919743641, 1.0025037413438926, 1.1242905299472177, 1.0546980793167462, 1.0199018540015106, 1.0546980793167462, 1.0720961919743641, 0.9677075160286569, 1.0025037413438926, 0.9851056286862748, 0.9503094033710391, 1.0372999666591283, 1.0720961919743641, 1.1416886426048354, 1.1242905299472177, 1.1068924172895998, 1.1416886426048354, 1.1068924172895998, 1.0546980793167462, 1.0720961919743641, 1.1416886426048354, 1.1590867552624533, 1.1590867552624533, 1.1242905299472177, 1.0372999666591283, 1.0199018540015106, 1.0894943046319818, 1.0894943046319818, 1.0720961919743641, 1.0720961919743641, 1.0720961919743641, 1.0894943046319818, 1.0894943046319818, 1.1242905299472177, 1.0720961919743641, 1.0720961919743641, 0.9851056286862748, 1.0025037413438926, 0.9503094033710391, 0.9329112907134213, 0.9329112907134213, 1.1416886426048354, 1.2634754312081604, 1.2634754312081604, 1.2808735438657783, 1.315669769181014, 1.333067881838632, 1.3504659944962496, 1.3852622198114855, 1.4026603324691032, 1.420058445126721, 1.4026603324691032, 1.4026603324691032, 1.437456557784339, 1.5244471210724282, 1.5418452337300461, 1.5418452337300461, 1.5592433463876638, 1.5592433463876638, 1.5940395717028997, 1.6288357970181353, 1.6288357970181353, 1.6288357970181353, 1.6288357970181353, 1.6462339096757532, 1.5592433463876638, 1.5244471210724282, 1.5244471210724282, 1.5070490084148103, 1.420058445126721, 1.4896508957571926, 1.5592433463876638, 1.5940395717028997, 1.6114376843605174, 1.663632022333371, 1.5766414590452817, 1.6288357970181353, 1.6114376843605174, 1.663632022333371, 1.663632022333371, 1.785418810936696, 1.802816923594314, 1.785418810936696, 1.8202150362519316, 1.802816923594314, 1.785418810936696, 1.7506225856214603, 1.7158263603062245, 1.7332244729638424, 1.802816923594314, 1.802816923594314, 1.7506225856214603, 1.6810301349909889, 1.7332244729638424, 1.802816923594314, 1.9246037121976387, 2.011594275485728, 2.0811867261161994, 2.028992388143346, 2.011594275485728, 1.9941961628281102, 1.9767980501704923, 1.907205599540021, 1.9593999375128746, 1.889807486882403, 1.8550112615671674, 1.8376131489095495, 1.8550112615671674, 1.8724093742247852, 1.8724093742247852, 1.768020698279078, 1.663632022333371, 1.6984282476486068, 1.768020698279078, 1.5070490084148103, 1.5766414590452817, 1.5070490084148103, 1.4548546704419567, 1.4026603324691032, 1.6462339096757532, 1.768020698279078, 1.802816923594314, 1.6810301349909889, 1.6984282476486068, 1.8376131489095495, 1.7332244729638424, 1.6984282476486068, 1.7158263603062245, 1.6288357970181353, 1.5940395717028997, 1.4722527830995746, 1.5766414590452817, 1.5244471210724282, 1.5766414590452817, 1.6984282476486068, 1.663632022333371, 1.5070490084148103, 1.5070490084148103, 1.3678641071538675, 1.3852622198114855, 1.333067881838632, 1.2808735438657783, 1.2808735438657783, 1.3504659944962496, 1.4722527830995746, 1.4548546704419567, 1.4722527830995746, 1.4548546704419567, 1.4722527830995746, 1.4896508957571926, 1.333067881838632, 1.437456557784339, 1.2808735438657783, 1.2808735438657783, 1.4026603324691032, 1.5766414590452817, 1.6288357970181353, 1.5244471210724282, 1.5592433463876638, 1.6288357970181353, 1.785418810936696, 1.7332244729638424, 1.802816923594314, 1.802816923594314, 1.802816923594314, 1.785418810936696, 1.8376131489095495, 1.907205599540021, 1.9593999375128746, 1.889807486882403, 1.8724093742247852, 1.8550112615671674, 1.8202150362519316, 1.768020698279078, 1.8724093742247852, 1.889807486882403, 1.907205599540021, 1.9420018248552566, 1.9246037121976387, 2.011594275485728, 2.0811867261161994, 2.0985848387738173, 2.011594275485728]\n"
     ]
    }
   ],
   "source": [
    "length=int(len(y[\"High\"]))\n",
    "mean=sum(y[\"High\"])/length\n",
    "variance==sum((i-mean)**2 for i in y[\"High\"])/(length-1)\n",
    "std=np.sqrt(variance)\n",
    "z=[(i-mean)/std for i in y[\"High\"]]\n",
    "print(z)"
   ]
  },
  {
   "cell_type": "code",
   "execution_count": 28,
   "id": "6fe4f1d7",
   "metadata": {
    "papermill": {
     "duration": 0.052918,
     "end_time": "2024-02-14T21:13:03.614009",
     "exception": false,
     "start_time": "2024-02-14T21:13:03.561091",
     "status": "completed"
    },
    "tags": []
   },
   "outputs": [
    {
     "data": {
      "text/html": [
       "<div>\n",
       "<style scoped>\n",
       "    .dataframe tbody tr th:only-of-type {\n",
       "        vertical-align: middle;\n",
       "    }\n",
       "\n",
       "    .dataframe tbody tr th {\n",
       "        vertical-align: top;\n",
       "    }\n",
       "\n",
       "    .dataframe thead th {\n",
       "        text-align: right;\n",
       "    }\n",
       "</style>\n",
       "<table border=\"1\" class=\"dataframe\">\n",
       "  <thead>\n",
       "    <tr style=\"text-align: right;\">\n",
       "      <th></th>\n",
       "      <th>Open</th>\n",
       "      <th>High</th>\n",
       "      <th>Low</th>\n",
       "      <th>Close</th>\n",
       "      <th>Adj Close</th>\n",
       "      <th>Volume</th>\n",
       "    </tr>\n",
       "  </thead>\n",
       "  <tbody>\n",
       "    <tr>\n",
       "      <th>0</th>\n",
       "      <td>-1.498892</td>\n",
       "      <td>-1.538185</td>\n",
       "      <td>-1.453921</td>\n",
       "      <td>-1.495166</td>\n",
       "      <td>-1.456410</td>\n",
       "      <td>-1.498786</td>\n",
       "    </tr>\n",
       "    <tr>\n",
       "      <th>1</th>\n",
       "      <td>-1.498892</td>\n",
       "      <td>-1.506857</td>\n",
       "      <td>-1.453921</td>\n",
       "      <td>-1.467263</td>\n",
       "      <td>-1.433710</td>\n",
       "      <td>-0.857661</td>\n",
       "    </tr>\n",
       "    <tr>\n",
       "      <th>2</th>\n",
       "      <td>-1.498892</td>\n",
       "      <td>-1.524261</td>\n",
       "      <td>-1.513374</td>\n",
       "      <td>-1.509117</td>\n",
       "      <td>-1.467760</td>\n",
       "      <td>-0.208583</td>\n",
       "    </tr>\n",
       "    <tr>\n",
       "      <th>3</th>\n",
       "      <td>-1.516354</td>\n",
       "      <td>-1.534704</td>\n",
       "      <td>-1.506380</td>\n",
       "      <td>-1.491678</td>\n",
       "      <td>-1.453572</td>\n",
       "      <td>-0.581123</td>\n",
       "    </tr>\n",
       "    <tr>\n",
       "      <th>4</th>\n",
       "      <td>-1.453490</td>\n",
       "      <td>-1.451162</td>\n",
       "      <td>-1.422445</td>\n",
       "      <td>-1.463775</td>\n",
       "      <td>-1.430872</td>\n",
       "      <td>-0.189326</td>\n",
       "    </tr>\n",
       "    <tr>\n",
       "      <th>...</th>\n",
       "      <td>...</td>\n",
       "      <td>...</td>\n",
       "      <td>...</td>\n",
       "      <td>...</td>\n",
       "      <td>...</td>\n",
       "      <td>...</td>\n",
       "    </tr>\n",
       "    <tr>\n",
       "      <th>1359</th>\n",
       "      <td>1.941191</td>\n",
       "      <td>1.925310</td>\n",
       "      <td>1.955911</td>\n",
       "      <td>1.905443</td>\n",
       "      <td>2.014313</td>\n",
       "      <td>-1.059114</td>\n",
       "    </tr>\n",
       "    <tr>\n",
       "      <th>1360</th>\n",
       "      <td>2.011041</td>\n",
       "      <td>2.012332</td>\n",
       "      <td>2.043343</td>\n",
       "      <td>2.062394</td>\n",
       "      <td>2.157727</td>\n",
       "      <td>0.250205</td>\n",
       "    </tr>\n",
       "    <tr>\n",
       "      <th>1361</th>\n",
       "      <td>2.115815</td>\n",
       "      <td>2.081950</td>\n",
       "      <td>2.113288</td>\n",
       "      <td>2.079833</td>\n",
       "      <td>2.173662</td>\n",
       "      <td>-0.151386</td>\n",
       "    </tr>\n",
       "    <tr>\n",
       "      <th>1362</th>\n",
       "      <td>2.133277</td>\n",
       "      <td>2.099355</td>\n",
       "      <td>2.025856</td>\n",
       "      <td>2.027516</td>\n",
       "      <td>2.125857</td>\n",
       "      <td>-0.266810</td>\n",
       "    </tr>\n",
       "    <tr>\n",
       "      <th>1363</th>\n",
       "      <td>2.063428</td>\n",
       "      <td>2.012332</td>\n",
       "      <td>2.025856</td>\n",
       "      <td>1.975199</td>\n",
       "      <td>2.078052</td>\n",
       "      <td>-0.926008</td>\n",
       "    </tr>\n",
       "  </tbody>\n",
       "</table>\n",
       "<p>1364 rows × 6 columns</p>\n",
       "</div>"
      ],
      "text/plain": [
       "          Open      High       Low     Close  Adj Close    Volume\n",
       "0    -1.498892 -1.538185 -1.453921 -1.495166  -1.456410 -1.498786\n",
       "1    -1.498892 -1.506857 -1.453921 -1.467263  -1.433710 -0.857661\n",
       "2    -1.498892 -1.524261 -1.513374 -1.509117  -1.467760 -0.208583\n",
       "3    -1.516354 -1.534704 -1.506380 -1.491678  -1.453572 -0.581123\n",
       "4    -1.453490 -1.451162 -1.422445 -1.463775  -1.430872 -0.189326\n",
       "...        ...       ...       ...       ...        ...       ...\n",
       "1359  1.941191  1.925310  1.955911  1.905443   2.014313 -1.059114\n",
       "1360  2.011041  2.012332  2.043343  2.062394   2.157727  0.250205\n",
       "1361  2.115815  2.081950  2.113288  2.079833   2.173662 -0.151386\n",
       "1362  2.133277  2.099355  2.025856  2.027516   2.125857 -0.266810\n",
       "1363  2.063428  2.012332  2.025856  1.975199   2.078052 -0.926008\n",
       "\n",
       "[1364 rows x 6 columns]"
      ]
     },
     "execution_count": 28,
     "metadata": {},
     "output_type": "execute_result"
    }
   ],
   "source": [
    "y.apply(zscore)"
   ]
  },
  {
   "cell_type": "code",
   "execution_count": 29,
   "id": "e68f66a2",
   "metadata": {
    "papermill": {
     "duration": 0.035606,
     "end_time": "2024-02-14T21:13:03.719859",
     "exception": false,
     "start_time": "2024-02-14T21:13:03.684253",
     "status": "completed"
    },
    "tags": []
   },
   "outputs": [
    {
     "name": "stdout",
     "output_type": "stream",
     "text": [
      "[[1.         0.00531055]\n",
      " [0.00531055 1.        ]]\n"
     ]
    }
   ],
   "source": [
    "c = np.corrcoef(y['High'],y['Volume'])\n",
    "print(c)"
   ]
  },
  {
   "cell_type": "code",
   "execution_count": 30,
   "id": "3737a401",
   "metadata": {
    "papermill": {
     "duration": 0.049209,
     "end_time": "2024-02-14T21:13:03.793874",
     "exception": false,
     "start_time": "2024-02-14T21:13:03.744665",
     "status": "completed"
    },
    "tags": []
   },
   "outputs": [
    {
     "data": {
      "text/html": [
       "<div>\n",
       "<style scoped>\n",
       "    .dataframe tbody tr th:only-of-type {\n",
       "        vertical-align: middle;\n",
       "    }\n",
       "\n",
       "    .dataframe tbody tr th {\n",
       "        vertical-align: top;\n",
       "    }\n",
       "\n",
       "    .dataframe thead th {\n",
       "        text-align: right;\n",
       "    }\n",
       "</style>\n",
       "<table border=\"1\" class=\"dataframe\">\n",
       "  <thead>\n",
       "    <tr style=\"text-align: right;\">\n",
       "      <th></th>\n",
       "      <th>Open</th>\n",
       "      <th>High</th>\n",
       "      <th>Low</th>\n",
       "      <th>Close</th>\n",
       "      <th>Adj Close</th>\n",
       "      <th>Volume</th>\n",
       "    </tr>\n",
       "  </thead>\n",
       "  <tbody>\n",
       "    <tr>\n",
       "      <th>Open</th>\n",
       "      <td>1.000000</td>\n",
       "      <td>0.998594</td>\n",
       "      <td>0.998975</td>\n",
       "      <td>0.997714</td>\n",
       "      <td>0.996121</td>\n",
       "      <td>-0.014998</td>\n",
       "    </tr>\n",
       "    <tr>\n",
       "      <th>High</th>\n",
       "      <td>0.998594</td>\n",
       "      <td>1.000000</td>\n",
       "      <td>0.998295</td>\n",
       "      <td>0.998750</td>\n",
       "      <td>0.997269</td>\n",
       "      <td>0.005311</td>\n",
       "    </tr>\n",
       "    <tr>\n",
       "      <th>Low</th>\n",
       "      <td>0.998975</td>\n",
       "      <td>0.998295</td>\n",
       "      <td>1.000000</td>\n",
       "      <td>0.998866</td>\n",
       "      <td>0.996853</td>\n",
       "      <td>-0.027245</td>\n",
       "    </tr>\n",
       "    <tr>\n",
       "      <th>Close</th>\n",
       "      <td>0.997714</td>\n",
       "      <td>0.998750</td>\n",
       "      <td>0.998866</td>\n",
       "      <td>1.000000</td>\n",
       "      <td>0.998021</td>\n",
       "      <td>-0.011806</td>\n",
       "    </tr>\n",
       "    <tr>\n",
       "      <th>Adj Close</th>\n",
       "      <td>0.996121</td>\n",
       "      <td>0.997269</td>\n",
       "      <td>0.996853</td>\n",
       "      <td>0.998021</td>\n",
       "      <td>1.000000</td>\n",
       "      <td>-0.004244</td>\n",
       "    </tr>\n",
       "    <tr>\n",
       "      <th>Volume</th>\n",
       "      <td>-0.014998</td>\n",
       "      <td>0.005311</td>\n",
       "      <td>-0.027245</td>\n",
       "      <td>-0.011806</td>\n",
       "      <td>-0.004244</td>\n",
       "      <td>1.000000</td>\n",
       "    </tr>\n",
       "  </tbody>\n",
       "</table>\n",
       "</div>"
      ],
      "text/plain": [
       "               Open      High       Low     Close  Adj Close    Volume\n",
       "Open       1.000000  0.998594  0.998975  0.997714   0.996121 -0.014998\n",
       "High       0.998594  1.000000  0.998295  0.998750   0.997269  0.005311\n",
       "Low        0.998975  0.998295  1.000000  0.998866   0.996853 -0.027245\n",
       "Close      0.997714  0.998750  0.998866  1.000000   0.998021 -0.011806\n",
       "Adj Close  0.996121  0.997269  0.996853  0.998021   1.000000 -0.004244\n",
       "Volume    -0.014998  0.005311 -0.027245 -0.011806  -0.004244  1.000000"
      ]
     },
     "execution_count": 30,
     "metadata": {},
     "output_type": "execute_result"
    }
   ],
   "source": [
    "corr = y.corr(method = 'pearson')\n",
    "corr"
   ]
  },
  {
   "cell_type": "code",
   "execution_count": 31,
   "id": "ace86258",
   "metadata": {
    "papermill": {
     "duration": 1.530893,
     "end_time": "2024-02-14T21:13:05.348927",
     "exception": false,
     "start_time": "2024-02-14T21:13:03.818034",
     "status": "completed"
    },
    "tags": []
   },
   "outputs": [
    {
     "data": {
      "image/png": "[encoded data removed]",
      "text/plain": [
       "<Figure size 5000x4000 with 2 Axes>"
      ]
     },
     "metadata": {},
     "output_type": "display_data"
    }
   ],
   "source": [
    "\n",
    "plt.figure(figsize=(10,8), dpi =500)\n",
    "sns.heatmap(corr,annot=True,fmt=\".2f\", linewidth=.5)\n",
    "plt.show()"
   ]
  },
  {
   "cell_type": "markdown",
   "id": "098e43e0",
   "metadata": {
    "papermill": {
     "duration": 0.027447,
     "end_time": "2024-02-14T21:13:05.404175",
     "exception": false,
     "start_time": "2024-02-14T21:13:05.376728",
     "status": "completed"
    },
    "tags": []
   },
   "source": [
    "# Contingency Table\n",
    "\n",
    "corolation between two cateogrical data"
   ]
  },
  {
   "cell_type": "code",
   "execution_count": 34,
   "id": "e6edaa3d",
   "metadata": {
    "papermill": {
     "duration": 0.060751,
     "end_time": "2024-02-14T21:13:05.492984",
     "exception": false,
     "start_time": "2024-02-14T21:13:05.432233",
     "status": "completed"
    },
    "tags": []
   },
   "outputs": [],
   "source": [
    "import pandas as pd\n",
    "dataimdb=pd.read_csv(\"BBCA.JK_weekly.csv\")"
   ]
  },
  {
   "cell_type": "code",
   "execution_count": 35,
   "id": "1d97956d",
   "metadata": {
    "papermill": {
     "duration": 0.058816,
     "end_time": "2024-02-14T21:13:05.579730",
     "exception": false,
     "start_time": "2024-02-14T21:13:05.520914",
     "status": "completed"
    },
    "tags": []
   },
   "outputs": [
    {
     "data": {
      "text/html": [
       "<div>\n",
       "<style scoped>\n",
       "    .dataframe tbody tr th:only-of-type {\n",
       "        vertical-align: middle;\n",
       "    }\n",
       "\n",
       "    .dataframe tbody tr th {\n",
       "        vertical-align: top;\n",
       "    }\n",
       "\n",
       "    .dataframe thead th {\n",
       "        text-align: right;\n",
       "    }\n",
       "</style>\n",
       "<table border=\"1\" class=\"dataframe\">\n",
       "  <thead>\n",
       "    <tr style=\"text-align: right;\">\n",
       "      <th></th>\n",
       "      <th>Date</th>\n",
       "      <th>Open</th>\n",
       "      <th>High</th>\n",
       "      <th>Low</th>\n",
       "      <th>Close</th>\n",
       "      <th>Adj Close</th>\n",
       "      <th>Volume</th>\n",
       "    </tr>\n",
       "  </thead>\n",
       "  <tbody>\n",
       "    <tr>\n",
       "      <th>0</th>\n",
       "      <td>2018-12-31</td>\n",
       "      <td>5200.0</td>\n",
       "      <td>5325.0</td>\n",
       "      <td>5115.0</td>\n",
       "      <td>5245.0</td>\n",
       "      <td>4669.919434</td>\n",
       "      <td>233217000</td>\n",
       "    </tr>\n",
       "    <tr>\n",
       "      <th>1</th>\n",
       "      <td>2019-01-07</td>\n",
       "      <td>5230.0</td>\n",
       "      <td>5320.0</td>\n",
       "      <td>5150.0</td>\n",
       "      <td>5200.0</td>\n",
       "      <td>4629.854492</td>\n",
       "      <td>437807000</td>\n",
       "    </tr>\n",
       "    <tr>\n",
       "      <th>2</th>\n",
       "      <td>2019-01-14</td>\n",
       "      <td>5230.0</td>\n",
       "      <td>5600.0</td>\n",
       "      <td>5190.0</td>\n",
       "      <td>5545.0</td>\n",
       "      <td>4937.026855</td>\n",
       "      <td>462381000</td>\n",
       "    </tr>\n",
       "    <tr>\n",
       "      <th>3</th>\n",
       "      <td>2019-01-21</td>\n",
       "      <td>5600.0</td>\n",
       "      <td>5620.0</td>\n",
       "      <td>5355.0</td>\n",
       "      <td>5495.0</td>\n",
       "      <td>4892.508789</td>\n",
       "      <td>435848500</td>\n",
       "    </tr>\n",
       "    <tr>\n",
       "      <th>4</th>\n",
       "      <td>2019-01-28</td>\n",
       "      <td>5445.0</td>\n",
       "      <td>5750.0</td>\n",
       "      <td>5440.0</td>\n",
       "      <td>5500.0</td>\n",
       "      <td>4896.961426</td>\n",
       "      <td>461434500</td>\n",
       "    </tr>\n",
       "    <tr>\n",
       "      <th>...</th>\n",
       "      <td>...</td>\n",
       "      <td>...</td>\n",
       "      <td>...</td>\n",
       "      <td>...</td>\n",
       "      <td>...</td>\n",
       "      <td>...</td>\n",
       "      <td>...</td>\n",
       "    </tr>\n",
       "    <tr>\n",
       "      <th>287</th>\n",
       "      <td>2024-07-01</td>\n",
       "      <td>10000.0</td>\n",
       "      <td>10050.0</td>\n",
       "      <td>9825.0</td>\n",
       "      <td>10050.0</td>\n",
       "      <td>10050.000000</td>\n",
       "      <td>311613200</td>\n",
       "    </tr>\n",
       "    <tr>\n",
       "      <th>288</th>\n",
       "      <td>2024-07-08</td>\n",
       "      <td>10100.0</td>\n",
       "      <td>10225.0</td>\n",
       "      <td>9950.0</td>\n",
       "      <td>10050.0</td>\n",
       "      <td>10050.000000</td>\n",
       "      <td>279416600</td>\n",
       "    </tr>\n",
       "    <tr>\n",
       "      <th>289</th>\n",
       "      <td>2024-07-15</td>\n",
       "      <td>9975.0</td>\n",
       "      <td>10150.0</td>\n",
       "      <td>9800.0</td>\n",
       "      <td>10100.0</td>\n",
       "      <td>10100.000000</td>\n",
       "      <td>278407500</td>\n",
       "    </tr>\n",
       "    <tr>\n",
       "      <th>290</th>\n",
       "      <td>2024-07-22</td>\n",
       "      <td>10200.0</td>\n",
       "      <td>10425.0</td>\n",
       "      <td>10075.0</td>\n",
       "      <td>10250.0</td>\n",
       "      <td>10250.000000</td>\n",
       "      <td>306725500</td>\n",
       "    </tr>\n",
       "    <tr>\n",
       "      <th>291</th>\n",
       "      <td>2024-07-29</td>\n",
       "      <td>10300.0</td>\n",
       "      <td>10300.0</td>\n",
       "      <td>10175.0</td>\n",
       "      <td>10175.0</td>\n",
       "      <td>10175.000000</td>\n",
       "      <td>32122900</td>\n",
       "    </tr>\n",
       "  </tbody>\n",
       "</table>\n",
       "<p>292 rows × 7 columns</p>\n",
       "</div>"
      ],
      "text/plain": [
       "           Date     Open     High      Low    Close     Adj Close     Volume\n",
       "0    2018-12-31   5200.0   5325.0   5115.0   5245.0   4669.919434  233217000\n",
       "1    2019-01-07   5230.0   5320.0   5150.0   5200.0   4629.854492  437807000\n",
       "2    2019-01-14   5230.0   5600.0   5190.0   5545.0   4937.026855  462381000\n",
       "3    2019-01-21   5600.0   5620.0   5355.0   5495.0   4892.508789  435848500\n",
       "4    2019-01-28   5445.0   5750.0   5440.0   5500.0   4896.961426  461434500\n",
       "..          ...      ...      ...      ...      ...           ...        ...\n",
       "287  2024-07-01  10000.0  10050.0   9825.0  10050.0  10050.000000  311613200\n",
       "288  2024-07-08  10100.0  10225.0   9950.0  10050.0  10050.000000  279416600\n",
       "289  2024-07-15   9975.0  10150.0   9800.0  10100.0  10100.000000  278407500\n",
       "290  2024-07-22  10200.0  10425.0  10075.0  10250.0  10250.000000  306725500\n",
       "291  2024-07-29  10300.0  10300.0  10175.0  10175.0  10175.000000   32122900\n",
       "\n",
       "[292 rows x 7 columns]"
      ]
     },
     "execution_count": 35,
     "metadata": {},
     "output_type": "execute_result"
    }
   ],
   "source": [
    "dataimdb"
   ]
  },
  {
   "cell_type": "markdown",
   "id": "b37d76e1",
   "metadata": {
    "papermill": {
     "duration": 0.02786,
     "end_time": "2024-02-14T21:13:05.741124",
     "exception": false,
     "start_time": "2024-02-14T21:13:05.713264",
     "status": "completed"
    },
    "tags": []
   },
   "source": [
    "# Probabilities \n",
    "\n",
    " sample and population\n",
    " \n",
    " sample is a random variables from population"
   ]
  },
  {
   "cell_type": "code",
   "execution_count": 37,
   "id": "96f9e20e",
   "metadata": {
    "papermill": {
     "duration": 0.051983,
     "end_time": "2024-02-14T21:13:05.821414",
     "exception": false,
     "start_time": "2024-02-14T21:13:05.769431",
     "status": "completed"
    },
    "tags": []
   },
   "outputs": [
    {
     "data": {
      "text/html": [
       "<div>\n",
       "<style scoped>\n",
       "    .dataframe tbody tr th:only-of-type {\n",
       "        vertical-align: middle;\n",
       "    }\n",
       "\n",
       "    .dataframe tbody tr th {\n",
       "        vertical-align: top;\n",
       "    }\n",
       "\n",
       "    .dataframe thead th {\n",
       "        text-align: right;\n",
       "    }\n",
       "</style>\n",
       "<table border=\"1\" class=\"dataframe\">\n",
       "  <thead>\n",
       "    <tr style=\"text-align: right;\">\n",
       "      <th></th>\n",
       "      <th>Open</th>\n",
       "      <th>High</th>\n",
       "      <th>Low</th>\n",
       "      <th>Close</th>\n",
       "      <th>Adj Close</th>\n",
       "      <th>Volume</th>\n",
       "    </tr>\n",
       "  </thead>\n",
       "  <tbody>\n",
       "    <tr>\n",
       "      <th>1220</th>\n",
       "      <td>8700.0</td>\n",
       "      <td>8750.0</td>\n",
       "      <td>8700.0</td>\n",
       "      <td>8700.0</td>\n",
       "      <td>8504.034180</td>\n",
       "      <td>87589300</td>\n",
       "    </tr>\n",
       "    <tr>\n",
       "      <th>1092</th>\n",
       "      <td>9125.0</td>\n",
       "      <td>9175.0</td>\n",
       "      <td>9075.0</td>\n",
       "      <td>9100.0</td>\n",
       "      <td>8852.786133</td>\n",
       "      <td>87492200</td>\n",
       "    </tr>\n",
       "    <tr>\n",
       "      <th>1052</th>\n",
       "      <td>8675.0</td>\n",
       "      <td>8800.0</td>\n",
       "      <td>8625.0</td>\n",
       "      <td>8800.0</td>\n",
       "      <td>8560.935547</td>\n",
       "      <td>101068200</td>\n",
       "    </tr>\n",
       "    <tr>\n",
       "      <th>847</th>\n",
       "      <td>7500.0</td>\n",
       "      <td>7575.0</td>\n",
       "      <td>7500.0</td>\n",
       "      <td>7500.0</td>\n",
       "      <td>7125.452148</td>\n",
       "      <td>107828300</td>\n",
       "    </tr>\n",
       "    <tr>\n",
       "      <th>909</th>\n",
       "      <td>8300.0</td>\n",
       "      <td>8350.0</td>\n",
       "      <td>8250.0</td>\n",
       "      <td>8275.0</td>\n",
       "      <td>7861.748535</td>\n",
       "      <td>67079900</td>\n",
       "    </tr>\n",
       "    <tr>\n",
       "      <th>...</th>\n",
       "      <td>...</td>\n",
       "      <td>...</td>\n",
       "      <td>...</td>\n",
       "      <td>...</td>\n",
       "      <td>...</td>\n",
       "      <td>...</td>\n",
       "    </tr>\n",
       "    <tr>\n",
       "      <th>129</th>\n",
       "      <td>5995.0</td>\n",
       "      <td>6025.0</td>\n",
       "      <td>5965.0</td>\n",
       "      <td>5990.0</td>\n",
       "      <td>5381.988770</td>\n",
       "      <td>56612500</td>\n",
       "    </tr>\n",
       "    <tr>\n",
       "      <th>479</th>\n",
       "      <td>6480.0</td>\n",
       "      <td>6490.0</td>\n",
       "      <td>6380.0</td>\n",
       "      <td>6385.0</td>\n",
       "      <td>5854.538086</td>\n",
       "      <td>87361500</td>\n",
       "    </tr>\n",
       "    <tr>\n",
       "      <th>517</th>\n",
       "      <td>6820.0</td>\n",
       "      <td>6930.0</td>\n",
       "      <td>6705.0</td>\n",
       "      <td>6790.0</td>\n",
       "      <td>6244.750977</td>\n",
       "      <td>97920000</td>\n",
       "    </tr>\n",
       "    <tr>\n",
       "      <th>775</th>\n",
       "      <td>7675.0</td>\n",
       "      <td>7825.0</td>\n",
       "      <td>7650.0</td>\n",
       "      <td>7825.0</td>\n",
       "      <td>7322.007324</td>\n",
       "      <td>71968800</td>\n",
       "    </tr>\n",
       "    <tr>\n",
       "      <th>67</th>\n",
       "      <td>5540.0</td>\n",
       "      <td>5560.0</td>\n",
       "      <td>5490.0</td>\n",
       "      <td>5540.0</td>\n",
       "      <td>4932.576172</td>\n",
       "      <td>48112000</td>\n",
       "    </tr>\n",
       "  </tbody>\n",
       "</table>\n",
       "<p>100 rows × 6 columns</p>\n",
       "</div>"
      ],
      "text/plain": [
       "        Open    High     Low   Close    Adj Close     Volume\n",
       "1220  8700.0  8750.0  8700.0  8700.0  8504.034180   87589300\n",
       "1092  9125.0  9175.0  9075.0  9100.0  8852.786133   87492200\n",
       "1052  8675.0  8800.0  8625.0  8800.0  8560.935547  101068200\n",
       "847   7500.0  7575.0  7500.0  7500.0  7125.452148  107828300\n",
       "909   8300.0  8350.0  8250.0  8275.0  7861.748535   67079900\n",
       "...      ...     ...     ...     ...          ...        ...\n",
       "129   5995.0  6025.0  5965.0  5990.0  5381.988770   56612500\n",
       "479   6480.0  6490.0  6380.0  6385.0  5854.538086   87361500\n",
       "517   6820.0  6930.0  6705.0  6790.0  6244.750977   97920000\n",
       "775   7675.0  7825.0  7650.0  7825.0  7322.007324   71968800\n",
       "67    5540.0  5560.0  5490.0  5540.0  4932.576172   48112000\n",
       "\n",
       "[100 rows x 6 columns]"
      ]
     },
     "execution_count": 37,
     "metadata": {},
     "output_type": "execute_result"
    }
   ],
   "source": [
    "sample=y.sample(100)\n",
    "sample"
   ]
  },
  {
   "cell_type": "code",
   "execution_count": 38,
   "id": "cc53e379",
   "metadata": {
    "papermill": {
     "duration": 0.055697,
     "end_time": "2024-02-14T21:13:05.963981",
     "exception": false,
     "start_time": "2024-02-14T21:13:05.908284",
     "status": "completed"
    },
    "tags": []
   },
   "outputs": [
    {
     "data": {
      "text/html": [
       "<div>\n",
       "<style scoped>\n",
       "    .dataframe tbody tr th:only-of-type {\n",
       "        vertical-align: middle;\n",
       "    }\n",
       "\n",
       "    .dataframe tbody tr th {\n",
       "        vertical-align: top;\n",
       "    }\n",
       "\n",
       "    .dataframe thead th {\n",
       "        text-align: right;\n",
       "    }\n",
       "</style>\n",
       "<table border=\"1\" class=\"dataframe\">\n",
       "  <thead>\n",
       "    <tr style=\"text-align: right;\">\n",
       "      <th></th>\n",
       "      <th>High</th>\n",
       "      <th>Open</th>\n",
       "      <th>cpt</th>\n",
       "    </tr>\n",
       "  </thead>\n",
       "  <tbody>\n",
       "    <tr>\n",
       "      <th>0</th>\n",
       "      <td>4995.0</td>\n",
       "      <td>4450.0</td>\n",
       "      <td>1.0</td>\n",
       "    </tr>\n",
       "    <tr>\n",
       "      <th>1</th>\n",
       "      <td>5300.0</td>\n",
       "      <td>5280.0</td>\n",
       "      <td>1.0</td>\n",
       "    </tr>\n",
       "    <tr>\n",
       "      <th>2</th>\n",
       "      <td>5340.0</td>\n",
       "      <td>5340.0</td>\n",
       "      <td>1.0</td>\n",
       "    </tr>\n",
       "    <tr>\n",
       "      <th>3</th>\n",
       "      <td>5505.0</td>\n",
       "      <td>5500.0</td>\n",
       "      <td>1.0</td>\n",
       "    </tr>\n",
       "    <tr>\n",
       "      <th>4</th>\n",
       "      <td>5515.0</td>\n",
       "      <td>5515.0</td>\n",
       "      <td>1.0</td>\n",
       "    </tr>\n",
       "    <tr>\n",
       "      <th>...</th>\n",
       "      <td>...</td>\n",
       "      <td>...</td>\n",
       "      <td>...</td>\n",
       "    </tr>\n",
       "    <tr>\n",
       "      <th>93</th>\n",
       "      <td>9975.0</td>\n",
       "      <td>9950.0</td>\n",
       "      <td>0.5</td>\n",
       "    </tr>\n",
       "    <tr>\n",
       "      <th>94</th>\n",
       "      <td>10075.0</td>\n",
       "      <td>10050.0</td>\n",
       "      <td>1.0</td>\n",
       "    </tr>\n",
       "    <tr>\n",
       "      <th>95</th>\n",
       "      <td>10100.0</td>\n",
       "      <td>10025.0</td>\n",
       "      <td>0.5</td>\n",
       "    </tr>\n",
       "    <tr>\n",
       "      <th>96</th>\n",
       "      <td>10100.0</td>\n",
       "      <td>10050.0</td>\n",
       "      <td>0.5</td>\n",
       "    </tr>\n",
       "    <tr>\n",
       "      <th>97</th>\n",
       "      <td>10125.0</td>\n",
       "      <td>10000.0</td>\n",
       "      <td>1.0</td>\n",
       "    </tr>\n",
       "  </tbody>\n",
       "</table>\n",
       "<p>98 rows × 3 columns</p>\n",
       "</div>"
      ],
      "text/plain": [
       "       High     Open  cpt\n",
       "0    4995.0   4450.0  1.0\n",
       "1    5300.0   5280.0  1.0\n",
       "2    5340.0   5340.0  1.0\n",
       "3    5505.0   5500.0  1.0\n",
       "4    5515.0   5515.0  1.0\n",
       "..      ...      ...  ...\n",
       "93   9975.0   9950.0  0.5\n",
       "94  10075.0  10050.0  1.0\n",
       "95  10100.0  10025.0  0.5\n",
       "96  10100.0  10050.0  0.5\n",
       "97  10125.0  10000.0  1.0\n",
       "\n",
       "[98 rows x 3 columns]"
      ]
     },
     "execution_count": 38,
     "metadata": {},
     "output_type": "execute_result"
    }
   ],
   "source": [
    "df_s = sample.groupby('High')['Open'].value_counts() / sample.groupby('High')['Open'].count()\n",
    "df_f = df_s.reset_index(name='cpt')\n",
    "df_f"
   ]
  },
  {
   "cell_type": "code",
   "execution_count": 39,
   "id": "02b02a27",
   "metadata": {
    "papermill": {
     "duration": 0.040426,
     "end_time": "2024-02-14T21:13:06.094594",
     "exception": false,
     "start_time": "2024-02-14T21:13:06.054168",
     "status": "completed"
    },
    "tags": []
   },
   "outputs": [],
   "source": [
    "m=sample[\"High\"]\n",
    "n=sample[\"Open\"]\n",
    "m=np.array(m).reshape(-1,1)\n",
    "n=np.array(n).reshape(-1,1)"
   ]
  },
  {
   "cell_type": "code",
   "execution_count": 40,
   "id": "c63ce4d3",
   "metadata": {
    "papermill": {
     "duration": 0.04012,
     "end_time": "2024-02-14T21:13:06.165411",
     "exception": false,
     "start_time": "2024-02-14T21:13:06.125291",
     "status": "completed"
    },
    "tags": []
   },
   "outputs": [],
   "source": [
    "x_train, x_val, y_train, y_val = train_test_split(m, n, test_size=0.50, random_state = 44,shuffle=True)\n"
   ]
  },
  {
   "cell_type": "code",
   "execution_count": 41,
   "id": "b2654052",
   "metadata": {
    "papermill": {
     "duration": 0.054875,
     "end_time": "2024-02-14T21:13:06.249914",
     "exception": false,
     "start_time": "2024-02-14T21:13:06.195039",
     "status": "completed"
    },
    "tags": []
   },
   "outputs": [
    {
     "name": "stderr",
     "output_type": "stream",
     "text": [
      "/Users/shikarichacha/anaconda3/lib/python3.11/site-packages/sklearn/utils/validation.py:1300: DataConversionWarning: A column-vector y was passed when a 1d array was expected. Please change the shape of y to (n_samples, ), for example using ravel().\n",
      "  y = column_or_1d(y, warn=True)\n"
     ]
    }
   ],
   "source": [
    "gaus=GaussianNB()\n",
    "gaus.fit(x_train,y_train)\n",
    "score=gaus.score(x_train,y_train)\n",
    "y_pred=gaus.predict(x_val)\n",
    "accuracy = accuracy_score(y_val, y_pred)\n"
   ]
  },
  {
   "cell_type": "code",
   "execution_count": 42,
   "id": "4a89805b",
   "metadata": {
    "papermill": {
     "duration": 0.04182,
     "end_time": "2024-02-14T21:13:06.321148",
     "exception": false,
     "start_time": "2024-02-14T21:13:06.279328",
     "status": "completed"
    },
    "tags": []
   },
   "outputs": [
    {
     "name": "stdout",
     "output_type": "stream",
     "text": [
      "score 0.96\n",
      "y_pred [ 8900.  6000.  6820.  6200.  6820.  6800.  8900.  8900.  8900.  8900.\n",
      "  9600.  6000.  6000.  8900.  6000.  6000.  6800.  8675.  6800.  8900.\n",
      "  9325.  8675.  8900.  8900.  5680.  8675.  6820.  6820.  9150.  6800.\n",
      "  6800.  8900.  6820.  6800.  8675.  6000.  6800.  6800.  9800.  6820.\n",
      "  6000.  5555.  6000.  7800.  6800.  6800.  6000. 10025.  9075.  8900.]\n",
      "accuracy 0.06\n"
     ]
    }
   ],
   "source": [
    "print(\"score\",score)\n",
    "print(\"y_pred\",y_pred)\n",
    "print(\"accuracy\",accuracy)"
   ]
  },
  {
   "cell_type": "code",
   "execution_count": 43,
   "id": "addf93e8",
   "metadata": {
    "papermill": {
     "duration": 0.042784,
     "end_time": "2024-02-14T21:13:06.511303",
     "exception": false,
     "start_time": "2024-02-14T21:13:06.468519",
     "status": "completed"
    },
    "tags": []
   },
   "outputs": [
    {
     "name": "stdout",
     "output_type": "stream",
     "text": [
      "mean 7409.464809384164\n",
      "std 1436.9374708614514\n"
     ]
    }
   ],
   "source": [
    "#calc mean and std\n",
    "mean=y[\"High\"].mean()\n",
    "std=y[\"High\"].std()\n",
    "s = np.random.normal(mean, std, 100) \n",
    "print(\"mean\",mean)\n",
    "print(\"std\",std)"
   ]
  },
  {
   "cell_type": "code",
   "execution_count": 44,
   "id": "d0509e3a",
   "metadata": {
    "papermill": {
     "duration": 0.409219,
     "end_time": "2024-02-14T21:13:06.950817",
     "exception": false,
     "start_time": "2024-02-14T21:13:06.541598",
     "status": "completed"
    },
    "tags": []
   },
   "outputs": [
    {
     "data": {
      "image/png": "[encoded data removed]",
      "text/plain": [
       "<Figure size 640x480 with 1 Axes>"
      ]
     },
     "metadata": {},
     "output_type": "display_data"
    }
   ],
   "source": [
    "count, bins, ignored = plt.hist(s, 100, density=True)\n",
    "plt.plot(bins, 1/(std * np.sqrt(2 * np.pi)) *\n",
    "                       np.exp( - (bins - mean)**2 / (2 * std**2) ),\n",
    "                 linewidth=5, color='r')\n",
    "\n",
    "plt.show()"
   ]
  },
  {
   "cell_type": "code",
   "execution_count": 45,
   "id": "245aa401",
   "metadata": {
    "papermill": {
     "duration": 0.044572,
     "end_time": "2024-02-14T21:13:07.089807",
     "exception": false,
     "start_time": "2024-02-14T21:13:07.045235",
     "status": "completed"
    },
    "tags": []
   },
   "outputs": [
    {
     "name": "stdout",
     "output_type": "stream",
     "text": [
      "1.0720961919743641 0.8581615854534289 85.81615854534289\n"
     ]
    }
   ],
   "source": [
    "z=(8950.0-mean)/std\n",
    "prob = norm.cdf(z)\n",
    "percent = prob * 100\n",
    "print(z,prob,percent)"
   ]
  },
  {
   "cell_type": "code",
   "execution_count": 46,
   "id": "62fa5eca",
   "metadata": {
    "papermill": {
     "duration": 0.041906,
     "end_time": "2024-02-14T21:13:07.163397",
     "exception": false,
     "start_time": "2024-02-14T21:13:07.121491",
     "status": "completed"
    },
    "tags": []
   },
   "outputs": [
    {
     "name": "stdout",
     "output_type": "stream",
     "text": [
      "1.0720961919743641 0.8581615854534289 14.18384145465711\n"
     ]
    }
   ],
   "source": [
    "z=(8950.0-mean)/std\n",
    "prob = norm.cdf(z)\n",
    "percent = (1-prob) * 100\n",
    "print(z,prob,percent)"
   ]
  }
 ],
 "metadata": {
  "kaggle": {
   "accelerator": "none",
   "dataSources": [
    {
     "databundleVersionId": 7721741,
     "datasetId": 4259980,
     "sourceId": 7625803,
     "sourceType": "datasetVersion"
    },
    {
     "databundleVersionId": 1937036,
     "datasetId": 1131493,
     "sourceId": 1898721,
     "sourceType": "datasetVersion"
    }
   ],
   "isGpuEnabled": false,
   "isInternetEnabled": true,
   "language": "python",
   "sourceType": "notebook"
  },
  "kernelspec": {
   "display_name": "Python 3 (ipykernel)",
   "language": "python",
   "name": "python3"
  },
  "language_info": {
   "codemirror_mode": {
    "name": "ipython",
    "version": 3
   },
   "file_extension": ".py",
   "mimetype": "text/x-python",
   "name": "python",
   "nbconvert_exporter": "python",
   "pygments_lexer": "ipython3",
   "version": "3.11.5"
  },
  "papermill": {
   "default_parameters": {},
   "duration": 13.289992,
   "end_time": "2024-02-14T21:13:07.976671",
   "environment_variables": {},
   "exception": null,
   "input_path": "__notebook__.ipynb",
   "output_path": "__notebook__.ipynb",
   "parameters": {},
   "start_time": "2024-02-14T21:12:54.686679",
   "version": "2.5.0"
  }
 },
 "nbformat": 4,
 "nbformat_minor": 5
}
