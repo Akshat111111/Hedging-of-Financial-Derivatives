{
  "nbformat": 4,
  "nbformat_minor": 0,
  "metadata": {
    "colab": {
      "provenance": []
    },
    "kernelspec": {
      "name": "python3",
      "display_name": "Python 3"
    },
    "language_info": {
      "name": "python"
    }
  },
  "cells": [
    {
      "cell_type": "code",
      "execution_count": 11,
      "metadata": {
        "id": "jzwNP1uLRWZM"
      },
      "outputs": [],
      "source": []
    },
    {
      "cell_type": "markdown",
      "source": [
        "**Data Preparation**"
      ],
      "metadata": {
        "id": "CGc_jXF3R_Br"
      }
    },
    {
      "cell_type": "code",
      "source": [
        "import pandas as pd\n",
        "import numpy as np\n",
        "import torch\n",
        "from torch import nn, optim\n",
        "from torch.utils.data import DataLoader, Dataset\n",
        "\n",
        "# Assuming historical_data is a DataFrame containing the historical market data\n",
        "historical_data = pd.read_csv('/content/drive/MyDrive/GirlsScriptOpenSource/Hedging-of-Financial-Derivatives/Portfolio Hedging using Generative Adversarial Networks (GANs)/marketdata.csv')\n",
        "\n",
        "# Exclude the 'Date' column\n",
        "historical_data_values = historical_data.drop(columns=['Date']).values\n",
        "\n",
        "class MarketDataset(Dataset):\n",
        "    def __init__(self, data):\n",
        "        self.data = data\n",
        "\n",
        "    def __len__(self):\n",
        "        return len(self.data)\n",
        "\n",
        "    def __getitem__(self, idx):\n",
        "        return torch.tensor(self.data[idx], dtype=torch.float32)\n",
        "\n",
        "market_dataset = MarketDataset(historical_data_values)\n",
        "data_loader = DataLoader(market_dataset, batch_size=32, shuffle=True)\n"
      ],
      "metadata": {
        "id": "tDRXUiRySBh6"
      },
      "execution_count": 12,
      "outputs": []
    },
    {
      "source": [],
      "cell_type": "code",
      "metadata": {
        "id": "Dlhgacw3Sr8T"
      },
      "execution_count": 12,
      "outputs": []
    },
    {
      "cell_type": "markdown",
      "source": [
        "**Define GAN Components**"
      ],
      "metadata": {
        "id": "C3xILB0CSOku"
      }
    },
    {
      "cell_type": "code",
      "source": [
        "class Generator(nn.Module):\n",
        "    def __init__(self, input_dim, output_dim):\n",
        "        super(Generator, self).__init__()\n",
        "        self.model = nn.Sequential(\n",
        "            nn.Linear(input_dim, 128),\n",
        "            nn.ReLU(),\n",
        "            nn.Linear(128, 256),\n",
        "            nn.ReLU(),\n",
        "            nn.Linear(256, output_dim),\n",
        "            nn.Tanh()\n",
        "        )\n",
        "\n",
        "    def forward(self, x):\n",
        "        return self.model(x)\n",
        "\n",
        "class Discriminator(nn.Module):\n",
        "    def __init__(self, input_dim):\n",
        "        super(Discriminator, self).__init__()\n",
        "        self.model = nn.Sequential(\n",
        "            nn.Linear(input_dim, 256),\n",
        "            nn.LeakyReLU(0.2),\n",
        "            nn.Linear(256, 128),\n",
        "            nn.LeakyReLU(0.2),\n",
        "            nn.Linear(128, 1),\n",
        "            nn.Sigmoid()\n",
        "        )\n",
        "\n",
        "    def forward(self, x):\n",
        "        return self.model(x)\n"
      ],
      "metadata": {
        "id": "YJTMomTmSLdB"
      },
      "execution_count": 13,
      "outputs": []
    },
    {
      "cell_type": "markdown",
      "source": [
        "**Train the GAN**"
      ],
      "metadata": {
        "id": "CN0qSu-0ST9U"
      }
    },
    {
      "cell_type": "code",
      "source": [
        "def train_gan(generator, discriminator, data_loader, num_epochs=1000, latent_dim=100, lr=0.0002):\n",
        "    criterion = nn.BCELoss()\n",
        "    optimizer_g = optim.Adam(generator.parameters(), lr=lr)\n",
        "    optimizer_d = optim.Adam(discriminator.parameters(), lr=lr)\n",
        "\n",
        "    for epoch in range(num_epochs):\n",
        "        for real_data in data_loader:\n",
        "            batch_size = real_data.size(0)\n",
        "\n",
        "            # Train Discriminator\n",
        "            real_labels = torch.ones(batch_size, 1)\n",
        "            fake_labels = torch.zeros(batch_size, 1)\n",
        "\n",
        "            optimizer_d.zero_grad()\n",
        "            outputs = discriminator(real_data)\n",
        "            d_loss_real = criterion(outputs, real_labels)\n",
        "\n",
        "            z = torch.randn(batch_size, latent_dim)\n",
        "            fake_data = generator(z)\n",
        "            outputs = discriminator(fake_data.detach())\n",
        "            d_loss_fake = criterion(outputs, fake_labels)\n",
        "\n",
        "            d_loss = d_loss_real + d_loss_fake\n",
        "            d_loss.backward()\n",
        "            optimizer_d.step()\n",
        "\n",
        "            # Train Generator\n",
        "            optimizer_g.zero_grad()\n",
        "            z = torch.randn(batch_size, latent_dim)\n",
        "            fake_data = generator(z)\n",
        "            outputs = discriminator(fake_data)\n",
        "            g_loss = criterion(outputs, real_labels)\n",
        "\n",
        "            g_loss.backward()\n",
        "            optimizer_g.step()\n",
        "\n",
        "        if epoch % 100 == 0:\n",
        "            print(f\"Epoch [{epoch}/{num_epochs}], d_loss: {d_loss.item()}, g_loss: {g_loss.item()}\")\n",
        "\n",
        "latent_dim = 100\n",
        "input_dim = historical_data_values.shape[1]\n",
        "generator = Generator(latent_dim, input_dim)\n",
        "discriminator = Discriminator(input_dim)\n",
        "\n",
        "train_gan(generator, discriminator, data_loader, num_epochs=1000, latent_dim=latent_dim)\n"
      ],
      "metadata": {
        "colab": {
          "base_uri": "https://localhost:8080/"
        },
        "id": "aSp1AT20SV7g",
        "outputId": "25dc60c8-85ce-4234-aa6e-f0b48d29b887"
      },
      "execution_count": 14,
      "outputs": [
        {
          "output_type": "stream",
          "name": "stdout",
          "text": [
            "Epoch [0/1000], d_loss: 0.507274866104126, g_loss: 0.9341040849685669\n",
            "Epoch [100/1000], d_loss: 2.2271255147643387e-05, g_loss: 10.715970993041992\n",
            "Epoch [200/1000], d_loss: 1.2087551795048057e-06, g_loss: 13.630061149597168\n",
            "Epoch [300/1000], d_loss: 8.635486636876522e-08, g_loss: 16.265533447265625\n",
            "Epoch [400/1000], d_loss: 6.595872292791682e-09, g_loss: 18.837549209594727\n",
            "Epoch [500/1000], d_loss: 6.861831658433459e-10, g_loss: 21.10048484802246\n",
            "Epoch [600/1000], d_loss: 9.804777822974842e-11, g_loss: 23.04599380493164\n",
            "Epoch [700/1000], d_loss: 2.500348018907861e-11, g_loss: 24.412275314331055\n",
            "Epoch [800/1000], d_loss: 9.998950452339006e-12, g_loss: 25.328685760498047\n",
            "Epoch [900/1000], d_loss: 6.012485214562657e-12, g_loss: 25.83725929260254\n"
          ]
        }
      ]
    },
    {
      "cell_type": "markdown",
      "source": [
        "**Develop Hedging Strategies**"
      ],
      "metadata": {
        "id": "aVpSfcyjWv2i"
      }
    },
    {
      "cell_type": "markdown",
      "source": [
        "Generate New Market Scenarios"
      ],
      "metadata": {
        "id": "IpZlmNBvW42n"
      }
    },
    {
      "cell_type": "code",
      "source": [
        "def generate_market_scenarios(generator, num_scenarios, latent_dim=100):\n",
        "    z = torch.randn(num_scenarios, latent_dim)\n",
        "    generated_data = generator(z).detach().numpy()\n",
        "    return generated_data\n",
        "\n",
        "num_scenarios = 1000\n",
        "generated_scenarios = generate_market_scenarios(generator, num_scenarios, latent_dim)\n"
      ],
      "metadata": {
        "id": "yz5YaK92Wy1U"
      },
      "execution_count": 15,
      "outputs": []
    },
    {
      "cell_type": "markdown",
      "source": [
        "Develop Hedging Strategies"
      ],
      "metadata": {
        "id": "iqxmBsVzW6KY"
      }
    },
    {
      "cell_type": "code",
      "source": [
        "def hedge_strategy(scenarios):\n",
        "    # Example strategy: simple delta hedging based on generated scenarios\n",
        "    deltas = scenarios[:, 0]  # Assuming first column is the delta\n",
        "    hedge_positions = -deltas * num_option_contracts\n",
        "    return hedge_positions\n",
        "\n",
        "num_option_contracts = 10\n",
        "hedge_positions = hedge_strategy(generated_scenarios)\n"
      ],
      "metadata": {
        "id": "GXW5rd1MW9MM"
      },
      "execution_count": 16,
      "outputs": []
    },
    {
      "cell_type": "markdown",
      "source": [
        "**Evaluate Robustness of Strategies**"
      ],
      "metadata": {
        "id": "bXW27I8WXEKS"
      }
    },
    {
      "cell_type": "markdown",
      "source": [
        "Out-of-Sample Testing"
      ],
      "metadata": {
        "id": "d719AExLXJ6x"
      }
    },
    {
      "cell_type": "code",
      "source": [
        "out_of_sample_market_data= pd.read_csv('/content/drive/MyDrive/GirlsScriptOpenSource/Hedging-of-Financial-Derivatives/Portfolio Hedging using Generative Adversarial Networks (GANs)/outofsamplemarketdata.csv')\n",
        "\n",
        "out_of_sample_data = out_of_sample_market_data.drop(columns=['Date']).values\n",
        "out_of_sample_dataset = MarketDataset(out_of_sample_data)\n",
        "out_of_sample_loader = DataLoader(out_of_sample_dataset, batch_size=1, shuffle=False)\n",
        "\n",
        "def evaluate_strategy(generator, hedge_positions, out_of_sample_loader):\n",
        "    portfolio_values = []\n",
        "    initial_portfolio_value = 1000000  # Example initial portfolio value\n",
        "\n",
        "    for i, real_data in enumerate(out_of_sample_loader):\n",
        "        if i >= len(hedge_positions):\n",
        "            break\n",
        "\n",
        "        hedge_position = hedge_positions[i]\n",
        "        market_change = real_data[0, 0].item() - 100  # Example market change calculation\n",
        "        portfolio_value = initial_portfolio_value + hedge_position * market_change\n",
        "        portfolio_values.append(portfolio_value)\n",
        "\n",
        "    return portfolio_values\n",
        "\n",
        "portfolio_values = evaluate_strategy(generator, hedge_positions, out_of_sample_loader)\n",
        "\n",
        "# Visualization\n",
        "import matplotlib.pyplot as plt\n",
        "\n",
        "plt.plot(portfolio_values)\n",
        "plt.xlabel('Time')\n",
        "plt.ylabel('Portfolio Value')\n",
        "plt.title('Portfolio Value Over Time')\n",
        "plt.show()\n"
      ],
      "metadata": {
        "colab": {
          "base_uri": "https://localhost:8080/",
          "height": 472
        },
        "id": "TcNrIwj8bF1I",
        "outputId": "30500319-6b5c-437e-ff76-0320476988aa"
      },
      "execution_count": 20,
      "outputs": [
        {
          "output_type": "display_data",
          "data": {
            "text/plain": [
              "<Figure size 640x480 with 1 Axes>"
            ],
            "image/png": "[encoded data removed]"
          },
          "metadata": {}
        }
      ]
    },
    {
      "cell_type": "code",
      "source": [],
      "metadata": {
        "id": "o1b-h5xQXv4P"
      },
      "execution_count": null,
      "outputs": []
    }
  ]
}