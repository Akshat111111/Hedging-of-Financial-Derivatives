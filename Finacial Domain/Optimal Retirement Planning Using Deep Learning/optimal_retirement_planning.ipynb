{
  "nbformat": 4,
  "nbformat_minor": 0,
  "metadata": {
    "colab": {
      "provenance": []
    },
    "kernelspec": {
      "name": "python3",
      "display_name": "Python 3"
    },
    "language_info": {
      "name": "python"
    }
  },
  "cells": [
    {
      "cell_type": "code",
      "source": [
        "import numpy as np\n",
        "import pandas as pd\n",
        "import matplotlib.pyplot as plt\n",
        "import seaborn as sns\n",
        "from sklearn.preprocessing import MinMaxScaler\n",
        "from sklearn.model_selection import train_test_split\n",
        "from tensorflow.keras.models import Sequential\n",
        "from tensorflow.keras.layers import Dense, LSTM, GRU\n",
        "from tensorflow.keras.optimizers import Adam\n",
        "\n",
        "# Load dataset\n",
        "data = pd.read_csv('retirement_planning_data.csv')"
      ],
      "metadata": {
        "id": "6uZzpBJkRSCk"
      },
      "execution_count": 2,
      "outputs": []
    },
    {
      "cell_type": "code",
      "source": [
        "# EDA\n",
        "sns.pairplot(data)\n",
        "plt.savefig('eda_pairplot.png')\n",
        "plt.close()"
      ],
      "metadata": {
        "id": "bYe8B2dPRVCD"
      },
      "execution_count": 5,
      "outputs": []
    },
    {
      "cell_type": "code",
      "source": [
        "plt.figure(figsize=(12, 6))\n",
        "sns.heatmap(data.corr(), annot=True, cmap='coolwarm')\n",
        "plt.savefig('images/eda_correlation.png')\n",
        "plt.close()"
      ],
      "metadata": {
        "id": "5XdUouUZRWf8"
      },
      "execution_count": null,
      "outputs": []
    },
    {
      "cell_type": "code",
      "source": [
        "# Scale data\n",
        "scaler = MinMaxScaler()\n",
        "data_scaled = scaler.fit_transform(data)\n",
        "\n",
        "# Prepare data for training\n",
        "X = data_scaled[:, :-1]\n",
        "y = data_scaled[:, -1]\n",
        "\n",
        "# Split data into training and test sets\n",
        "X_train, X_test, y_train, y_test = train_test_split(X, y, test_size=0.2, random_state=42)\n"
      ],
      "metadata": {
        "id": "6Y-eI9qfRbh3"
      },
      "execution_count": 4,
      "outputs": []
    },
    {
      "cell_type": "code",
      "source": [
        "\n",
        "# Define and train models\n",
        "\n",
        "# LSTM\n",
        "model_lstm = Sequential([\n",
        "    LSTM(50, return_sequences=True, input_shape=(X_train.shape[1], 1)),\n",
        "    LSTM(50),\n",
        "    Dense(1)\n",
        "])\n",
        "model_lstm.compile(optimizer=Adam(learning_rate=0.001), loss='mse', metrics=['mae'])\n",
        "model_lstm.fit(X_train.reshape(-1, X_train.shape[1], 1), y_train, epochs=50, batch_size=32, validation_split=0.2)\n"
      ],
      "metadata": {
        "colab": {
          "base_uri": "https://localhost:8080/"
        },
        "id": "H-NdikfERlUb",
        "outputId": "48696a79-b971-4ff7-f3d3-1e02e1b13965"
      },
      "execution_count": 6,
      "outputs": [
        {
          "output_type": "stream",
          "name": "stdout",
          "text": [
            "Epoch 1/50\n",
            "20/20 [==============================] - 5s 55ms/step - loss: 0.0782 - mae: 0.2170 - val_loss: 0.0440 - val_mae: 0.1797\n",
            "Epoch 2/50\n",
            "20/20 [==============================] - 0s 9ms/step - loss: 0.0377 - mae: 0.1579 - val_loss: 0.0349 - val_mae: 0.1532\n",
            "Epoch 3/50\n",
            "20/20 [==============================] - 0s 10ms/step - loss: 0.0343 - mae: 0.1523 - val_loss: 0.0336 - val_mae: 0.1525\n",
            "Epoch 4/50\n",
            "20/20 [==============================] - 0s 9ms/step - loss: 0.0331 - mae: 0.1480 - val_loss: 0.0328 - val_mae: 0.1490\n",
            "Epoch 5/50\n",
            "20/20 [==============================] - 0s 9ms/step - loss: 0.0325 - mae: 0.1474 - val_loss: 0.0328 - val_mae: 0.1519\n",
            "Epoch 6/50\n",
            "20/20 [==============================] - 0s 8ms/step - loss: 0.0319 - mae: 0.1429 - val_loss: 0.0322 - val_mae: 0.1496\n",
            "Epoch 7/50\n",
            "20/20 [==============================] - 0s 10ms/step - loss: 0.0318 - mae: 0.1442 - val_loss: 0.0319 - val_mae: 0.1435\n",
            "Epoch 8/50\n",
            "20/20 [==============================] - 0s 9ms/step - loss: 0.0311 - mae: 0.1430 - val_loss: 0.0323 - val_mae: 0.1425\n",
            "Epoch 9/50\n",
            "20/20 [==============================] - 0s 9ms/step - loss: 0.0314 - mae: 0.1418 - val_loss: 0.0311 - val_mae: 0.1446\n",
            "Epoch 10/50\n",
            "20/20 [==============================] - 0s 9ms/step - loss: 0.0311 - mae: 0.1423 - val_loss: 0.0309 - val_mae: 0.1437\n",
            "Epoch 11/50\n",
            "20/20 [==============================] - 0s 9ms/step - loss: 0.0307 - mae: 0.1412 - val_loss: 0.0320 - val_mae: 0.1494\n",
            "Epoch 12/50\n",
            "20/20 [==============================] - 0s 9ms/step - loss: 0.0307 - mae: 0.1409 - val_loss: 0.0310 - val_mae: 0.1466\n",
            "Epoch 13/50\n",
            "20/20 [==============================] - 0s 13ms/step - loss: 0.0304 - mae: 0.1404 - val_loss: 0.0299 - val_mae: 0.1409\n",
            "Epoch 14/50\n",
            "20/20 [==============================] - 0s 14ms/step - loss: 0.0297 - mae: 0.1380 - val_loss: 0.0294 - val_mae: 0.1408\n",
            "Epoch 15/50\n",
            "20/20 [==============================] - 0s 12ms/step - loss: 0.0293 - mae: 0.1385 - val_loss: 0.0295 - val_mae: 0.1350\n",
            "Epoch 16/50\n",
            "20/20 [==============================] - 0s 13ms/step - loss: 0.0288 - mae: 0.1375 - val_loss: 0.0288 - val_mae: 0.1322\n",
            "Epoch 17/50\n",
            "20/20 [==============================] - 0s 15ms/step - loss: 0.0279 - mae: 0.1338 - val_loss: 0.0264 - val_mae: 0.1321\n",
            "Epoch 18/50\n",
            "20/20 [==============================] - 0s 13ms/step - loss: 0.0263 - mae: 0.1296 - val_loss: 0.0298 - val_mae: 0.1296\n",
            "Epoch 19/50\n",
            "20/20 [==============================] - 0s 16ms/step - loss: 0.0250 - mae: 0.1253 - val_loss: 0.0228 - val_mae: 0.1214\n",
            "Epoch 20/50\n",
            "20/20 [==============================] - 0s 16ms/step - loss: 0.0224 - mae: 0.1180 - val_loss: 0.0207 - val_mae: 0.1145\n",
            "Epoch 21/50\n",
            "20/20 [==============================] - 0s 16ms/step - loss: 0.0208 - mae: 0.1138 - val_loss: 0.0191 - val_mae: 0.1091\n",
            "Epoch 22/50\n",
            "20/20 [==============================] - 0s 15ms/step - loss: 0.0198 - mae: 0.1114 - val_loss: 0.0185 - val_mae: 0.1093\n",
            "Epoch 23/50\n",
            "20/20 [==============================] - 0s 15ms/step - loss: 0.0181 - mae: 0.1045 - val_loss: 0.0190 - val_mae: 0.1054\n",
            "Epoch 24/50\n",
            "20/20 [==============================] - 0s 14ms/step - loss: 0.0177 - mae: 0.1045 - val_loss: 0.0169 - val_mae: 0.1020\n",
            "Epoch 25/50\n",
            "20/20 [==============================] - 0s 9ms/step - loss: 0.0167 - mae: 0.1019 - val_loss: 0.0167 - val_mae: 0.1009\n",
            "Epoch 26/50\n",
            "20/20 [==============================] - 0s 8ms/step - loss: 0.0165 - mae: 0.1014 - val_loss: 0.0180 - val_mae: 0.1028\n",
            "Epoch 27/50\n",
            "20/20 [==============================] - 0s 9ms/step - loss: 0.0174 - mae: 0.1047 - val_loss: 0.0162 - val_mae: 0.1032\n",
            "Epoch 28/50\n",
            "20/20 [==============================] - 0s 9ms/step - loss: 0.0159 - mae: 0.0988 - val_loss: 0.0157 - val_mae: 0.0998\n",
            "Epoch 29/50\n",
            "20/20 [==============================] - 0s 11ms/step - loss: 0.0158 - mae: 0.0994 - val_loss: 0.0157 - val_mae: 0.0998\n",
            "Epoch 30/50\n",
            "20/20 [==============================] - 0s 9ms/step - loss: 0.0151 - mae: 0.0971 - val_loss: 0.0154 - val_mae: 0.0988\n",
            "Epoch 31/50\n",
            "20/20 [==============================] - 0s 8ms/step - loss: 0.0145 - mae: 0.0955 - val_loss: 0.0156 - val_mae: 0.1024\n",
            "Epoch 32/50\n",
            "20/20 [==============================] - 0s 8ms/step - loss: 0.0141 - mae: 0.0946 - val_loss: 0.0156 - val_mae: 0.1032\n",
            "Epoch 33/50\n",
            "20/20 [==============================] - 0s 8ms/step - loss: 0.0138 - mae: 0.0937 - val_loss: 0.0149 - val_mae: 0.0993\n",
            "Epoch 34/50\n",
            "20/20 [==============================] - 0s 11ms/step - loss: 0.0149 - mae: 0.0967 - val_loss: 0.0150 - val_mae: 0.1008\n",
            "Epoch 35/50\n",
            "20/20 [==============================] - 0s 9ms/step - loss: 0.0138 - mae: 0.0931 - val_loss: 0.0147 - val_mae: 0.0985\n",
            "Epoch 36/50\n",
            "20/20 [==============================] - 0s 9ms/step - loss: 0.0148 - mae: 0.0955 - val_loss: 0.0165 - val_mae: 0.1056\n",
            "Epoch 37/50\n",
            "20/20 [==============================] - 0s 9ms/step - loss: 0.0141 - mae: 0.0950 - val_loss: 0.0147 - val_mae: 0.0997\n",
            "Epoch 38/50\n",
            "20/20 [==============================] - 0s 8ms/step - loss: 0.0137 - mae: 0.0933 - val_loss: 0.0148 - val_mae: 0.1003\n",
            "Epoch 39/50\n",
            "20/20 [==============================] - 0s 10ms/step - loss: 0.0136 - mae: 0.0925 - val_loss: 0.0145 - val_mae: 0.0977\n",
            "Epoch 40/50\n",
            "20/20 [==============================] - 0s 10ms/step - loss: 0.0133 - mae: 0.0924 - val_loss: 0.0165 - val_mae: 0.1055\n",
            "Epoch 41/50\n",
            "20/20 [==============================] - 0s 9ms/step - loss: 0.0136 - mae: 0.0931 - val_loss: 0.0154 - val_mae: 0.1026\n",
            "Epoch 42/50\n",
            "20/20 [==============================] - 0s 9ms/step - loss: 0.0131 - mae: 0.0912 - val_loss: 0.0143 - val_mae: 0.0968\n",
            "Epoch 43/50\n",
            "20/20 [==============================] - 0s 9ms/step - loss: 0.0142 - mae: 0.0937 - val_loss: 0.0173 - val_mae: 0.0999\n",
            "Epoch 44/50\n",
            "20/20 [==============================] - 0s 9ms/step - loss: 0.0130 - mae: 0.0915 - val_loss: 0.0145 - val_mae: 0.0960\n",
            "Epoch 45/50\n",
            "20/20 [==============================] - 0s 10ms/step - loss: 0.0130 - mae: 0.0912 - val_loss: 0.0152 - val_mae: 0.0976\n",
            "Epoch 46/50\n",
            "20/20 [==============================] - 0s 9ms/step - loss: 0.0134 - mae: 0.0920 - val_loss: 0.0143 - val_mae: 0.0961\n",
            "Epoch 47/50\n",
            "20/20 [==============================] - 0s 9ms/step - loss: 0.0135 - mae: 0.0920 - val_loss: 0.0150 - val_mae: 0.1010\n",
            "Epoch 48/50\n",
            "20/20 [==============================] - 0s 9ms/step - loss: 0.0141 - mae: 0.0946 - val_loss: 0.0149 - val_mae: 0.1015\n",
            "Epoch 49/50\n",
            "20/20 [==============================] - 0s 8ms/step - loss: 0.0147 - mae: 0.0973 - val_loss: 0.0144 - val_mae: 0.0965\n",
            "Epoch 50/50\n",
            "20/20 [==============================] - 0s 13ms/step - loss: 0.0127 - mae: 0.0901 - val_loss: 0.0143 - val_mae: 0.0956\n"
          ]
        },
        {
          "output_type": "execute_result",
          "data": {
            "text/plain": [
              "<keras.src.callbacks.History at 0x780375c7d7e0>"
            ]
          },
          "metadata": {},
          "execution_count": 6
        }
      ]
    },
    {
      "cell_type": "code",
      "source": [
        "# GRU\n",
        "model_gru = Sequential([\n",
        "    GRU(50, return_sequences=True, input_shape=(X_train.shape[1], 1)),\n",
        "    GRU(50),\n",
        "    Dense(1)\n",
        "])\n",
        "model_gru.compile(optimizer=Adam(learning_rate=0.001), loss='mse', metrics=['mae'])\n",
        "model_gru.fit(X_train.reshape(-1, X_train.shape[1], 1), y_train, epochs=50, batch_size=32, validation_split=0.2)\n",
        "\n",
        "# Evaluate models\n",
        "mse_lstm, mae_lstm = model_lstm.evaluate(X_test.reshape(-1, X_test.shape[1], 1), y_test)\n",
        "mse_gru, mae_gru = model_gru.evaluate(X_test.reshape(-1, X_test.shape[1], 1), y_test)\n",
        "\n",
        "print(f'LSTM - MSE: {mse_lstm}, MAE: {mae_lstm}')\n",
        "print(f'GRU - MSE: {mse_gru}, MAE: {mae_gru}')\n"
      ],
      "metadata": {
        "colab": {
          "base_uri": "https://localhost:8080/"
        },
        "id": "l9lbZ3moRsel",
        "outputId": "e9092c23-a060-412e-bba6-6c0a69202c54"
      },
      "execution_count": 7,
      "outputs": [
        {
          "output_type": "stream",
          "name": "stdout",
          "text": [
            "Epoch 1/50\n",
            "20/20 [==============================] - 8s 195ms/step - loss: 0.0568 - mae: 0.1909 - val_loss: 0.0394 - val_mae: 0.1551\n",
            "Epoch 2/50\n",
            "20/20 [==============================] - 0s 15ms/step - loss: 0.0392 - mae: 0.1582 - val_loss: 0.0352 - val_mae: 0.1558\n",
            "Epoch 3/50\n",
            "20/20 [==============================] - 0s 22ms/step - loss: 0.0339 - mae: 0.1494 - val_loss: 0.0320 - val_mae: 0.1466\n",
            "Epoch 4/50\n",
            "20/20 [==============================] - 0s 14ms/step - loss: 0.0310 - mae: 0.1422 - val_loss: 0.0305 - val_mae: 0.1457\n",
            "Epoch 5/50\n",
            "20/20 [==============================] - 0s 11ms/step - loss: 0.0290 - mae: 0.1379 - val_loss: 0.0278 - val_mae: 0.1363\n",
            "Epoch 6/50\n",
            "20/20 [==============================] - 0s 8ms/step - loss: 0.0277 - mae: 0.1334 - val_loss: 0.0275 - val_mae: 0.1372\n",
            "Epoch 7/50\n",
            "20/20 [==============================] - 0s 18ms/step - loss: 0.0282 - mae: 0.1350 - val_loss: 0.0270 - val_mae: 0.1356\n",
            "Epoch 8/50\n",
            "20/20 [==============================] - 0s 18ms/step - loss: 0.0269 - mae: 0.1325 - val_loss: 0.0257 - val_mae: 0.1312\n",
            "Epoch 9/50\n",
            "20/20 [==============================] - 0s 18ms/step - loss: 0.0257 - mae: 0.1291 - val_loss: 0.0267 - val_mae: 0.1268\n",
            "Epoch 10/50\n",
            "20/20 [==============================] - 0s 21ms/step - loss: 0.0251 - mae: 0.1261 - val_loss: 0.0237 - val_mae: 0.1218\n",
            "Epoch 11/50\n",
            "20/20 [==============================] - 0s 19ms/step - loss: 0.0236 - mae: 0.1222 - val_loss: 0.0217 - val_mae: 0.1168\n",
            "Epoch 12/50\n",
            "20/20 [==============================] - 0s 19ms/step - loss: 0.0214 - mae: 0.1158 - val_loss: 0.0201 - val_mae: 0.1135\n",
            "Epoch 13/50\n",
            "20/20 [==============================] - 0s 20ms/step - loss: 0.0192 - mae: 0.1098 - val_loss: 0.0181 - val_mae: 0.1066\n",
            "Epoch 14/50\n",
            "20/20 [==============================] - 0s 20ms/step - loss: 0.0170 - mae: 0.1026 - val_loss: 0.0167 - val_mae: 0.1011\n",
            "Epoch 15/50\n",
            "20/20 [==============================] - 0s 18ms/step - loss: 0.0156 - mae: 0.0987 - val_loss: 0.0159 - val_mae: 0.1022\n",
            "Epoch 16/50\n",
            "20/20 [==============================] - 0s 9ms/step - loss: 0.0146 - mae: 0.0967 - val_loss: 0.0153 - val_mae: 0.1012\n",
            "Epoch 17/50\n",
            "20/20 [==============================] - 0s 8ms/step - loss: 0.0140 - mae: 0.0936 - val_loss: 0.0153 - val_mae: 0.0988\n",
            "Epoch 18/50\n",
            "20/20 [==============================] - 0s 8ms/step - loss: 0.0133 - mae: 0.0923 - val_loss: 0.0146 - val_mae: 0.0993\n",
            "Epoch 19/50\n",
            "20/20 [==============================] - 0s 8ms/step - loss: 0.0135 - mae: 0.0921 - val_loss: 0.0145 - val_mae: 0.0972\n",
            "Epoch 20/50\n",
            "20/20 [==============================] - 0s 12ms/step - loss: 0.0139 - mae: 0.0941 - val_loss: 0.0163 - val_mae: 0.0985\n",
            "Epoch 21/50\n",
            "20/20 [==============================] - 0s 8ms/step - loss: 0.0149 - mae: 0.0970 - val_loss: 0.0146 - val_mae: 0.0964\n",
            "Epoch 22/50\n",
            "20/20 [==============================] - 0s 8ms/step - loss: 0.0131 - mae: 0.0913 - val_loss: 0.0155 - val_mae: 0.1022\n",
            "Epoch 23/50\n",
            "20/20 [==============================] - 0s 8ms/step - loss: 0.0126 - mae: 0.0897 - val_loss: 0.0139 - val_mae: 0.0969\n",
            "Epoch 24/50\n",
            "20/20 [==============================] - 0s 8ms/step - loss: 0.0121 - mae: 0.0889 - val_loss: 0.0144 - val_mae: 0.0985\n",
            "Epoch 25/50\n",
            "20/20 [==============================] - 0s 10ms/step - loss: 0.0127 - mae: 0.0900 - val_loss: 0.0137 - val_mae: 0.0952\n",
            "Epoch 26/50\n",
            "20/20 [==============================] - 0s 9ms/step - loss: 0.0121 - mae: 0.0884 - val_loss: 0.0137 - val_mae: 0.0949\n",
            "Epoch 27/50\n",
            "20/20 [==============================] - 0s 9ms/step - loss: 0.0123 - mae: 0.0888 - val_loss: 0.0142 - val_mae: 0.0956\n",
            "Epoch 28/50\n",
            "20/20 [==============================] - 0s 8ms/step - loss: 0.0120 - mae: 0.0879 - val_loss: 0.0136 - val_mae: 0.0943\n",
            "Epoch 29/50\n",
            "20/20 [==============================] - 0s 9ms/step - loss: 0.0120 - mae: 0.0882 - val_loss: 0.0147 - val_mae: 0.0971\n",
            "Epoch 30/50\n",
            "20/20 [==============================] - 0s 11ms/step - loss: 0.0122 - mae: 0.0889 - val_loss: 0.0130 - val_mae: 0.0934\n",
            "Epoch 31/50\n",
            "20/20 [==============================] - 0s 10ms/step - loss: 0.0117 - mae: 0.0866 - val_loss: 0.0139 - val_mae: 0.0955\n",
            "Epoch 32/50\n",
            "20/20 [==============================] - 0s 8ms/step - loss: 0.0120 - mae: 0.0879 - val_loss: 0.0131 - val_mae: 0.0930\n",
            "Epoch 33/50\n",
            "20/20 [==============================] - 0s 9ms/step - loss: 0.0126 - mae: 0.0897 - val_loss: 0.0137 - val_mae: 0.0949\n",
            "Epoch 34/50\n",
            "20/20 [==============================] - 0s 8ms/step - loss: 0.0118 - mae: 0.0868 - val_loss: 0.0129 - val_mae: 0.0925\n",
            "Epoch 35/50\n",
            "20/20 [==============================] - 0s 9ms/step - loss: 0.0114 - mae: 0.0857 - val_loss: 0.0128 - val_mae: 0.0923\n",
            "Epoch 36/50\n",
            "20/20 [==============================] - 0s 11ms/step - loss: 0.0116 - mae: 0.0866 - val_loss: 0.0131 - val_mae: 0.0932\n",
            "Epoch 37/50\n",
            "20/20 [==============================] - 0s 9ms/step - loss: 0.0118 - mae: 0.0870 - val_loss: 0.0129 - val_mae: 0.0927\n",
            "Epoch 38/50\n",
            "20/20 [==============================] - 0s 9ms/step - loss: 0.0120 - mae: 0.0878 - val_loss: 0.0128 - val_mae: 0.0924\n",
            "Epoch 39/50\n",
            "20/20 [==============================] - 0s 8ms/step - loss: 0.0117 - mae: 0.0867 - val_loss: 0.0130 - val_mae: 0.0932\n",
            "Epoch 40/50\n",
            "20/20 [==============================] - 0s 9ms/step - loss: 0.0114 - mae: 0.0854 - val_loss: 0.0127 - val_mae: 0.0923\n",
            "Epoch 41/50\n",
            "20/20 [==============================] - 0s 14ms/step - loss: 0.0115 - mae: 0.0869 - val_loss: 0.0134 - val_mae: 0.0948\n",
            "Epoch 42/50\n",
            "20/20 [==============================] - 0s 14ms/step - loss: 0.0113 - mae: 0.0854 - val_loss: 0.0130 - val_mae: 0.0922\n",
            "Epoch 43/50\n",
            "20/20 [==============================] - 0s 15ms/step - loss: 0.0114 - mae: 0.0862 - val_loss: 0.0127 - val_mae: 0.0922\n",
            "Epoch 44/50\n",
            "20/20 [==============================] - 0s 15ms/step - loss: 0.0112 - mae: 0.0850 - val_loss: 0.0127 - val_mae: 0.0918\n",
            "Epoch 45/50\n",
            "20/20 [==============================] - 0s 15ms/step - loss: 0.0114 - mae: 0.0865 - val_loss: 0.0127 - val_mae: 0.0926\n",
            "Epoch 46/50\n",
            "20/20 [==============================] - 0s 14ms/step - loss: 0.0114 - mae: 0.0853 - val_loss: 0.0129 - val_mae: 0.0916\n",
            "Epoch 47/50\n",
            "20/20 [==============================] - 0s 13ms/step - loss: 0.0117 - mae: 0.0874 - val_loss: 0.0136 - val_mae: 0.0951\n",
            "Epoch 48/50\n",
            "20/20 [==============================] - 0s 14ms/step - loss: 0.0113 - mae: 0.0860 - val_loss: 0.0127 - val_mae: 0.0920\n",
            "Epoch 49/50\n",
            "20/20 [==============================] - 0s 13ms/step - loss: 0.0114 - mae: 0.0854 - val_loss: 0.0127 - val_mae: 0.0924\n",
            "Epoch 50/50\n",
            "20/20 [==============================] - 0s 13ms/step - loss: 0.0112 - mae: 0.0857 - val_loss: 0.0125 - val_mae: 0.0913\n",
            "7/7 [==============================] - 1s 5ms/step - loss: 0.0160 - mae: 0.1001\n",
            "7/7 [==============================] - 1s 4ms/step - loss: 0.0132 - mae: 0.0908\n",
            "LSTM - MSE: 0.015967534855008125, MAE: 0.10005064308643341\n",
            "GRU - MSE: 0.013238863088190556, MAE: 0.09078901261091232\n"
          ]
        }
      ]
    },
    {
      "cell_type": "code",
      "source": [
        "# Predict\n",
        "y_pred_lstm = model_lstm.predict(X_test.reshape(-1, X_test.shape[1], 1))\n",
        "y_pred_gru = model_gru.predict(X_test.reshape(-1, X_test.shape[1], 1))\n"
      ],
      "metadata": {
        "colab": {
          "base_uri": "https://localhost:8080/"
        },
        "id": "RjSy38isRumB",
        "outputId": "fc4a6dce-de94-43ea-c13d-a575f1c31570"
      },
      "execution_count": 8,
      "outputs": [
        {
          "output_type": "stream",
          "name": "stdout",
          "text": [
            "7/7 [==============================] - 1s 4ms/step\n",
            "7/7 [==============================] - 1s 3ms/step\n"
          ]
        }
      ]
    }
  ]
}