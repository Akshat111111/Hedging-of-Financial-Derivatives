{
  "nbformat": 4,
  "nbformat_minor": 0,
  "metadata": {
    "colab": {
      "provenance": []
    },
    "kernelspec": {
      "name": "python3",
      "display_name": "Python 3"
    },
    "language_info": {
      "name": "python"
    }
  },
  "cells": [
    {
      "cell_type": "markdown",
      "source": [
        "##** cross-asset hedging to maximize returns or minimize risks**"
      ],
      "metadata": {
        "id": "1SlLC_Q4DCHW"
      }
    },
    {
      "cell_type": "markdown",
      "source": [
        "Data Loading"
      ],
      "metadata": {
        "id": "uAO7F2rmC_yl"
      }
    },
    {
      "cell_type": "code",
      "source": [
        "import pandas as pd\n",
        "import numpy as np\n",
        "\n",
        "# Load data\n",
        "data_hedging = pd.read_csv('hedging_data.csv')\n",
        "print(data_hedging.head())\n",
        "\n",
        "# Convert to NumPy array (excluding the 'Date' column)\n",
        "data_hedging = data_hedging.drop(columns=['Date']).to_numpy()\n"
      ],
      "metadata": {
        "colab": {
          "base_uri": "https://localhost:8080/"
        },
        "id": "--NUqW0eBHK6",
        "outputId": "396e4a49-6708-4c65-9a7a-f392fdda1822"
      },
      "execution_count": 4,
      "outputs": [
        {
          "output_type": "stream",
          "name": "stdout",
          "text": [
            "         Date      Asset1      Asset2      Asset3  Hedging_Instrument\n",
            "0  2020-01-01  274.908024  230.246595  313.355893          106.601842\n",
            "1  2020-01-02  390.142861  121.318606  186.322794          137.803351\n",
            "2  2020-01-03  346.398788  231.569061  224.188202          105.787368\n",
            "3  2020-01-04  319.731697  299.882745  330.388039          145.979102\n",
            "4  2020-01-05  231.203728  109.642408  311.338704           54.869485\n"
          ]
        }
      ]
    },
    {
      "cell_type": "markdown",
      "source": [
        "Fitness Function"
      ],
      "metadata": {
        "id": "Ht2o63EEC9WB"
      }
    },
    {
      "cell_type": "code",
      "source": [
        "def fitness_function(individual, data):\n",
        "    portfolio_weights = np.array(individual)\n",
        "    initial_capital = 100000  # Starting capital\n",
        "    portfolio_value = initial_capital\n",
        "\n",
        "    for i in range(len(data)):\n",
        "        returns = np.dot(portfolio_weights, data[i])\n",
        "        portfolio_value *= (1 + returns)\n",
        "\n",
        "    return portfolio_value - initial_capital  # Net returns\n"
      ],
      "metadata": {
        "id": "YmdI2jA5Cg5k"
      },
      "execution_count": 5,
      "outputs": []
    },
    {
      "cell_type": "markdown",
      "source": [
        "Intialize Population"
      ],
      "metadata": {
        "id": "OInzWFG6C5-l"
      }
    },
    {
      "cell_type": "code",
      "source": [
        "def initialize_population(pop_size, num_assets):\n",
        "    population = []\n",
        "    for _ in range(pop_size):\n",
        "        individual = np.random.dirichlet(np.ones(num_assets), size=1)[0]  # Random portfolio weights\n",
        "        population.append(individual)\n",
        "    return population\n"
      ],
      "metadata": {
        "id": "gcMh5xPICi_I"
      },
      "execution_count": 6,
      "outputs": []
    },
    {
      "cell_type": "markdown",
      "source": [
        "Selection"
      ],
      "metadata": {
        "id": "LVRo7KgAC4jL"
      }
    },
    {
      "cell_type": "code",
      "source": [
        "def selection(population, fitness_scores, num_parents):\n",
        "    parents = [population[idx] for idx in np.argsort(fitness_scores)[-num_parents:]]\n",
        "    return parents\n"
      ],
      "metadata": {
        "id": "d3SO4oskClCR"
      },
      "execution_count": 7,
      "outputs": []
    },
    {
      "cell_type": "markdown",
      "source": [
        "Crossover"
      ],
      "metadata": {
        "id": "mz367FguC1pf"
      }
    },
    {
      "cell_type": "code",
      "source": [
        "def crossover(parents, offspring_size):\n",
        "    offspring = []\n",
        "    for _ in range(offspring_size):\n",
        "        parent1 = parents[np.random.randint(len(parents))]\n",
        "        parent2 = parents[np.random.randint(len(parents))]\n",
        "        crossover_point = np.random.randint(1, len(parent1))\n",
        "        child = np.concatenate((parent1[:crossover_point], parent2[crossover_point:]))\n",
        "        offspring.append(child)\n",
        "    return offspring\n"
      ],
      "metadata": {
        "id": "VDb88Hr8CmyW"
      },
      "execution_count": 8,
      "outputs": []
    },
    {
      "cell_type": "markdown",
      "source": [
        "Mutation"
      ],
      "metadata": {
        "id": "SMkn3Ls7CzM0"
      }
    },
    {
      "cell_type": "code",
      "source": [
        "def mutation(offspring, mutation_rate):\n",
        "    for individual in offspring:\n",
        "        if np.random.rand() < mutation_rate:\n",
        "            mutation_point = np.random.randint(len(individual))\n",
        "            individual[mutation_point] = np.random.uniform(0, 1)\n",
        "        individual /= np.sum(individual)  # Normalize to ensure sum of weights is 1\n",
        "    return offspring\n"
      ],
      "metadata": {
        "id": "3M9E7IaGCpTQ"
      },
      "execution_count": 9,
      "outputs": []
    },
    {
      "cell_type": "markdown",
      "source": [
        "Run the ALgorithm"
      ],
      "metadata": {
        "id": "OHFfrm9QCwTZ"
      }
    },
    {
      "cell_type": "code",
      "source": [
        "def genetic_algorithm(data, num_generations, pop_size, num_parents, mutation_rate):\n",
        "    num_assets = data.shape[1]\n",
        "    population = initialize_population(pop_size, num_assets)\n",
        "\n",
        "    for generation in range(num_generations):\n",
        "        fitness_scores = [fitness_function(individual, data) for individual in population]\n",
        "        parents = selection(population, fitness_scores, num_parents)\n",
        "        offspring_size = pop_size - len(parents)\n",
        "        offspring = crossover(parents, offspring_size)\n",
        "        offspring = mutation(offspring, mutation_rate)\n",
        "        population = parents + offspring\n",
        "\n",
        "        best_fitness = np.max(fitness_scores)\n",
        "        print(f\"Generation {generation}: Best Fitness = {best_fitness}\")\n",
        "\n",
        "    best_individual = population[np.argmax(fitness_scores)]\n",
        "    return best_individual\n",
        "\n",
        "# Run the genetic algorithm\n",
        "num_generations = 50\n",
        "pop_size = 100\n",
        "num_parents = 20\n",
        "mutation_rate = 0.01\n",
        "\n",
        "best_params = genetic_algorithm(data_hedging, num_generations, pop_size, num_parents, mutation_rate)\n",
        "print(f\"Best Portfolio Weights: {best_params}\")\n"
      ],
      "metadata": {
        "colab": {
          "base_uri": "https://localhost:8080/"
        },
        "id": "f1SY1MR-Cq1m",
        "outputId": "dea8213f-209c-4a07-f1ba-86d3bef0f77c"
      },
      "execution_count": 10,
      "outputs": [
        {
          "output_type": "stream",
          "name": "stderr",
          "text": [
            "<ipython-input-5-8dae17b2ab72>:8: RuntimeWarning: overflow encountered in scalar multiply\n",
            "  portfolio_value *= (1 + returns)\n"
          ]
        },
        {
          "output_type": "stream",
          "name": "stdout",
          "text": [
            "Generation 0: Best Fitness = inf\n",
            "Generation 1: Best Fitness = inf\n",
            "Generation 2: Best Fitness = inf\n",
            "Generation 3: Best Fitness = inf\n",
            "Generation 4: Best Fitness = inf\n",
            "Generation 5: Best Fitness = inf\n",
            "Generation 6: Best Fitness = inf\n",
            "Generation 7: Best Fitness = inf\n",
            "Generation 8: Best Fitness = inf\n",
            "Generation 9: Best Fitness = inf\n",
            "Generation 10: Best Fitness = inf\n",
            "Generation 11: Best Fitness = inf\n",
            "Generation 12: Best Fitness = inf\n",
            "Generation 13: Best Fitness = inf\n",
            "Generation 14: Best Fitness = inf\n",
            "Generation 15: Best Fitness = inf\n",
            "Generation 16: Best Fitness = inf\n",
            "Generation 17: Best Fitness = inf\n",
            "Generation 18: Best Fitness = inf\n",
            "Generation 19: Best Fitness = inf\n",
            "Generation 20: Best Fitness = inf\n",
            "Generation 21: Best Fitness = inf\n",
            "Generation 22: Best Fitness = inf\n",
            "Generation 23: Best Fitness = inf\n",
            "Generation 24: Best Fitness = inf\n",
            "Generation 25: Best Fitness = inf\n",
            "Generation 26: Best Fitness = inf\n",
            "Generation 27: Best Fitness = inf\n",
            "Generation 28: Best Fitness = inf\n",
            "Generation 29: Best Fitness = inf\n",
            "Generation 30: Best Fitness = inf\n",
            "Generation 31: Best Fitness = inf\n",
            "Generation 32: Best Fitness = inf\n",
            "Generation 33: Best Fitness = inf\n",
            "Generation 34: Best Fitness = inf\n",
            "Generation 35: Best Fitness = inf\n",
            "Generation 36: Best Fitness = inf\n",
            "Generation 37: Best Fitness = inf\n",
            "Generation 38: Best Fitness = inf\n",
            "Generation 39: Best Fitness = inf\n",
            "Generation 40: Best Fitness = inf\n",
            "Generation 41: Best Fitness = inf\n",
            "Generation 42: Best Fitness = inf\n",
            "Generation 43: Best Fitness = inf\n",
            "Generation 44: Best Fitness = inf\n",
            "Generation 45: Best Fitness = inf\n",
            "Generation 46: Best Fitness = inf\n",
            "Generation 47: Best Fitness = inf\n",
            "Generation 48: Best Fitness = inf\n",
            "Generation 49: Best Fitness = inf\n",
            "Best Portfolio Weights: [0.27946484 0.00323946 0.49666952 0.22062618]\n"
          ]
        }
      ]
    }
  ]
}