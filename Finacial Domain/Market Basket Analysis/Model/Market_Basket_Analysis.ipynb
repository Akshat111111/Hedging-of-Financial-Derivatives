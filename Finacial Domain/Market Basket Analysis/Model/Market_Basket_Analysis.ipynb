{
  "nbformat": 4,
  "nbformat_minor": 0,
  "metadata": {
    "colab": {
      "provenance": []
    },
    "kernelspec": {
      "name": "python3",
      "display_name": "Python 3"
    },
    "language_info": {
      "name": "python"
    }
  },
  "cells": [
    {
      "cell_type": "code",
      "source": [
        "import pandas as pd"
      ],
      "metadata": {
        "id": "bM97X-jRlPBv",
        "colab": {
          "base_uri": "https://localhost:8080/"
        },
        "outputId": "13b6664f-6b3c-4cdd-c034-ffc0814fa2bf"
      },
      "execution_count": 142,
      "outputs": [
        {
          "output_type": "stream",
          "name": "stderr",
          "text": [
            "/usr/local/lib/python3.10/dist-packages/ipykernel/ipkernel.py:283: DeprecationWarning: `should_run_async` will not call `transform_cell` automatically in the future. Please pass the result to `transformed_cell` argument and any exception that happen during thetransform in `preprocessing_exc_tuple` in IPython 7.17 and above.\n",
            "  and should_run_async(code)\n"
          ]
        }
      ]
    },
    {
      "cell_type": "code",
      "execution_count": 143,
      "metadata": {
        "colab": {
          "base_uri": "https://localhost:8080/"
        },
        "id": "YSWESakQkB9u",
        "outputId": "64f4891f-24d2-4636-e4c3-b077eb1b2d38"
      },
      "outputs": [
        {
          "output_type": "stream",
          "name": "stderr",
          "text": [
            "/usr/local/lib/python3.10/dist-packages/ipykernel/ipkernel.py:283: DeprecationWarning: `should_run_async` will not call `transform_cell` automatically in the future. Please pass the result to `transformed_cell` argument and any exception that happen during thetransform in `preprocessing_exc_tuple` in IPython 7.17 and above.\n",
            "  and should_run_async(code)\n"
          ]
        },
        {
          "output_type": "stream",
          "name": "stdout",
          "text": [
            "Drive already mounted at /content/drive; to attempt to forcibly remount, call drive.mount(\"/content/drive\", force_remount=True).\n"
          ]
        }
      ],
      "source": [
        "from google.colab import drive\n",
        "drive.mount('/content/drive')"
      ]
    },
    {
      "cell_type": "code",
      "source": [
        "path = '/content/drive/My Drive/Colab Notebooks/Datasets/basket_analysis.csv'"
      ],
      "metadata": {
        "id": "3tThVjMvlHDj",
        "colab": {
          "base_uri": "https://localhost:8080/"
        },
        "outputId": "9763b2aa-bcb5-4a3d-e21d-533241c9a9c0"
      },
      "execution_count": 144,
      "outputs": [
        {
          "output_type": "stream",
          "name": "stderr",
          "text": [
            "/usr/local/lib/python3.10/dist-packages/ipykernel/ipkernel.py:283: DeprecationWarning: `should_run_async` will not call `transform_cell` automatically in the future. Please pass the result to `transformed_cell` argument and any exception that happen during thetransform in `preprocessing_exc_tuple` in IPython 7.17 and above.\n",
            "  and should_run_async(code)\n"
          ]
        }
      ]
    },
    {
      "cell_type": "code",
      "source": [
        "df = pd.read_csv(path)"
      ],
      "metadata": {
        "id": "0HFaUGyolSX4",
        "colab": {
          "base_uri": "https://localhost:8080/"
        },
        "outputId": "6c2607c9-4a6d-4579-da8b-5106f7364814"
      },
      "execution_count": 145,
      "outputs": [
        {
          "output_type": "stream",
          "name": "stderr",
          "text": [
            "/usr/local/lib/python3.10/dist-packages/ipykernel/ipkernel.py:283: DeprecationWarning: `should_run_async` will not call `transform_cell` automatically in the future. Please pass the result to `transformed_cell` argument and any exception that happen during thetransform in `preprocessing_exc_tuple` in IPython 7.17 and above.\n",
            "  and should_run_async(code)\n"
          ]
        }
      ]
    },
    {
      "cell_type": "code",
      "source": [
        "df = pd.DataFrame(df)"
      ],
      "metadata": {
        "id": "tpwUhIIFlVJP",
        "colab": {
          "base_uri": "https://localhost:8080/"
        },
        "outputId": "0c11e16b-219a-42bf-9004-c38d0ff2fadb"
      },
      "execution_count": 146,
      "outputs": [
        {
          "output_type": "stream",
          "name": "stderr",
          "text": [
            "/usr/local/lib/python3.10/dist-packages/ipykernel/ipkernel.py:283: DeprecationWarning: `should_run_async` will not call `transform_cell` automatically in the future. Please pass the result to `transformed_cell` argument and any exception that happen during thetransform in `preprocessing_exc_tuple` in IPython 7.17 and above.\n",
            "  and should_run_async(code)\n"
          ]
        }
      ]
    },
    {
      "cell_type": "code",
      "source": [
        "df.head()"
      ],
      "metadata": {
        "colab": {
          "base_uri": "https://localhost:8080/",
          "height": 305
        },
        "id": "wKnjYE1DlXsQ",
        "outputId": "0d1e47c7-56d2-4ebb-be44-53ed04088df3"
      },
      "execution_count": 147,
      "outputs": [
        {
          "output_type": "stream",
          "name": "stderr",
          "text": [
            "/usr/local/lib/python3.10/dist-packages/ipykernel/ipkernel.py:283: DeprecationWarning: `should_run_async` will not call `transform_cell` automatically in the future. Please pass the result to `transformed_cell` argument and any exception that happen during thetransform in `preprocessing_exc_tuple` in IPython 7.17 and above.\n",
            "  and should_run_async(code)\n"
          ]
        },
        {
          "output_type": "execute_result",
          "data": {
            "text/plain": [
              "   Unnamed: 0  Apple  Bread  Butter  Cheese   Corn   Dill   Eggs  Ice cream  \\\n",
              "0           0  False   True   False   False   True   True  False       True   \n",
              "1           1  False  False   False   False  False  False  False      False   \n",
              "2           2   True  False    True   False  False   True  False       True   \n",
              "3           3  False  False    True    True  False   True  False      False   \n",
              "4           4   True   True   False   False  False  False  False      False   \n",
              "\n",
              "   Kidney Beans   Milk  Nutmeg  Onion  Sugar  Unicorn  Yogurt  chocolate  \n",
              "0         False  False   False  False   True    False    True       True  \n",
              "1         False   True   False  False  False    False   False      False  \n",
              "2         False   True   False  False  False    False    True       True  \n",
              "3         False   True    True   True  False    False   False      False  \n",
              "4         False  False   False  False  False    False   False      False  "
            ],
            "text/html": [
              "\n",
              "\n",
              "  <div id=\"df-fd5ece43-eabc-401f-86c3-5c0c72ac52f1\">\n",
              "    <div class=\"colab-df-container\">\n",
              "      <div>\n",
              "<style scoped>\n",
              "    .dataframe tbody tr th:only-of-type {\n",
              "        vertical-align: middle;\n",
              "    }\n",
              "\n",
              "    .dataframe tbody tr th {\n",
              "        vertical-align: top;\n",
              "    }\n",
              "\n",
              "    .dataframe thead th {\n",
              "        text-align: right;\n",
              "    }\n",
              "</style>\n",
              "<table border=\"1\" class=\"dataframe\">\n",
              "  <thead>\n",
              "    <tr style=\"text-align: right;\">\n",
              "      <th></th>\n",
              "      <th>Unnamed: 0</th>\n",
              "      <th>Apple</th>\n",
              "      <th>Bread</th>\n",
              "      <th>Butter</th>\n",
              "      <th>Cheese</th>\n",
              "      <th>Corn</th>\n",
              "      <th>Dill</th>\n",
              "      <th>Eggs</th>\n",
              "      <th>Ice cream</th>\n",
              "      <th>Kidney Beans</th>\n",
              "      <th>Milk</th>\n",
              "      <th>Nutmeg</th>\n",
              "      <th>Onion</th>\n",
              "      <th>Sugar</th>\n",
              "      <th>Unicorn</th>\n",
              "      <th>Yogurt</th>\n",
              "      <th>chocolate</th>\n",
              "    </tr>\n",
              "  </thead>\n",
              "  <tbody>\n",
              "    <tr>\n",
              "      <th>0</th>\n",
              "      <td>0</td>\n",
              "      <td>False</td>\n",
              "      <td>True</td>\n",
              "      <td>False</td>\n",
              "      <td>False</td>\n",
              "      <td>True</td>\n",
              "      <td>True</td>\n",
              "      <td>False</td>\n",
              "      <td>True</td>\n",
              "      <td>False</td>\n",
              "      <td>False</td>\n",
              "      <td>False</td>\n",
              "      <td>False</td>\n",
              "      <td>True</td>\n",
              "      <td>False</td>\n",
              "      <td>True</td>\n",
              "      <td>True</td>\n",
              "    </tr>\n",
              "    <tr>\n",
              "      <th>1</th>\n",
              "      <td>1</td>\n",
              "      <td>False</td>\n",
              "      <td>False</td>\n",
              "      <td>False</td>\n",
              "      <td>False</td>\n",
              "      <td>False</td>\n",
              "      <td>False</td>\n",
              "      <td>False</td>\n",
              "      <td>False</td>\n",
              "      <td>False</td>\n",
              "      <td>True</td>\n",
              "      <td>False</td>\n",
              "      <td>False</td>\n",
              "      <td>False</td>\n",
              "      <td>False</td>\n",
              "      <td>False</td>\n",
              "      <td>False</td>\n",
              "    </tr>\n",
              "    <tr>\n",
              "      <th>2</th>\n",
              "      <td>2</td>\n",
              "      <td>True</td>\n",
              "      <td>False</td>\n",
              "      <td>True</td>\n",
              "      <td>False</td>\n",
              "      <td>False</td>\n",
              "      <td>True</td>\n",
              "      <td>False</td>\n",
              "      <td>True</td>\n",
              "      <td>False</td>\n",
              "      <td>True</td>\n",
              "      <td>False</td>\n",
              "      <td>False</td>\n",
              "      <td>False</td>\n",
              "      <td>False</td>\n",
              "      <td>True</td>\n",
              "      <td>True</td>\n",
              "    </tr>\n",
              "    <tr>\n",
              "      <th>3</th>\n",
              "      <td>3</td>\n",
              "      <td>False</td>\n",
              "      <td>False</td>\n",
              "      <td>True</td>\n",
              "      <td>True</td>\n",
              "      <td>False</td>\n",
              "      <td>True</td>\n",
              "      <td>False</td>\n",
              "      <td>False</td>\n",
              "      <td>False</td>\n",
              "      <td>True</td>\n",
              "      <td>True</td>\n",
              "      <td>True</td>\n",
              "      <td>False</td>\n",
              "      <td>False</td>\n",
              "      <td>False</td>\n",
              "      <td>False</td>\n",
              "    </tr>\n",
              "    <tr>\n",
              "      <th>4</th>\n",
              "      <td>4</td>\n",
              "      <td>True</td>\n",
              "      <td>True</td>\n",
              "      <td>False</td>\n",
              "      <td>False</td>\n",
              "      <td>False</td>\n",
              "      <td>False</td>\n",
              "      <td>False</td>\n",
              "      <td>False</td>\n",
              "      <td>False</td>\n",
              "      <td>False</td>\n",
              "      <td>False</td>\n",
              "      <td>False</td>\n",
              "      <td>False</td>\n",
              "      <td>False</td>\n",
              "      <td>False</td>\n",
              "      <td>False</td>\n",
              "    </tr>\n",
              "  </tbody>\n",
              "</table>\n",
              "</div>\n",
              "      <button class=\"colab-df-convert\" onclick=\"convertToInteractive('df-fd5ece43-eabc-401f-86c3-5c0c72ac52f1')\"\n",
              "              title=\"Convert this dataframe to an interactive table.\"\n",
              "              style=\"display:none;\">\n",
              "\n",
              "  <svg xmlns=\"http://www.w3.org/2000/svg\" height=\"24px\"viewBox=\"0 0 24 24\"\n",
              "       width=\"24px\">\n",
              "    <path d=\"M0 0h24v24H0V0z\" fill=\"none\"/>\n",
              "    <path d=\"M18.56 5.44l.94 2.06.94-2.06 2.06-.94-2.06-.94-.94-2.06-.94 2.06-2.06.94zm-11 1L8.5 8.5l.94-2.06 2.06-.94-2.06-.94L8.5 2.5l-.94 2.06-2.06.94zm10 10l.94 2.06.94-2.06 2.06-.94-2.06-.94-.94-2.06-.94 2.06-2.06.94z\"/><path d=\"M17.41 7.96l-1.37-1.37c-.4-.4-.92-.59-1.43-.59-.52 0-1.04.2-1.43.59L10.3 9.45l-7.72 7.72c-.78.78-.78 2.05 0 2.83L4 21.41c.39.39.9.59 1.41.59.51 0 1.02-.2 1.41-.59l7.78-7.78 2.81-2.81c.8-.78.8-2.07 0-2.86zM5.41 20L4 18.59l7.72-7.72 1.47 1.35L5.41 20z\"/>\n",
              "  </svg>\n",
              "      </button>\n",
              "\n",
              "\n",
              "\n",
              "    <div id=\"df-51acbc2d-4080-4b6d-a978-987d74f75f76\">\n",
              "      <button class=\"colab-df-quickchart\" onclick=\"quickchart('df-51acbc2d-4080-4b6d-a978-987d74f75f76')\"\n",
              "              title=\"Suggest charts.\"\n",
              "              style=\"display:none;\">\n",
              "\n",
              "<svg xmlns=\"http://www.w3.org/2000/svg\" height=\"24px\"viewBox=\"0 0 24 24\"\n",
              "     width=\"24px\">\n",
              "    <g>\n",
              "        <path d=\"M19 3H5c-1.1 0-2 .9-2 2v14c0 1.1.9 2 2 2h14c1.1 0 2-.9 2-2V5c0-1.1-.9-2-2-2zM9 17H7v-7h2v7zm4 0h-2V7h2v10zm4 0h-2v-4h2v4z\"/>\n",
              "    </g>\n",
              "</svg>\n",
              "      </button>\n",
              "    </div>\n",
              "\n",
              "<style>\n",
              "  .colab-df-quickchart {\n",
              "    background-color: #E8F0FE;\n",
              "    border: none;\n",
              "    border-radius: 50%;\n",
              "    cursor: pointer;\n",
              "    display: none;\n",
              "    fill: #1967D2;\n",
              "    height: 32px;\n",
              "    padding: 0 0 0 0;\n",
              "    width: 32px;\n",
              "  }\n",
              "\n",
              "  .colab-df-quickchart:hover {\n",
              "    background-color: #E2EBFA;\n",
              "    box-shadow: 0px 1px 2px rgba(60, 64, 67, 0.3), 0px 1px 3px 1px rgba(60, 64, 67, 0.15);\n",
              "    fill: #174EA6;\n",
              "  }\n",
              "\n",
              "  [theme=dark] .colab-df-quickchart {\n",
              "    background-color: #3B4455;\n",
              "    fill: #D2E3FC;\n",
              "  }\n",
              "\n",
              "  [theme=dark] .colab-df-quickchart:hover {\n",
              "    background-color: #434B5C;\n",
              "    box-shadow: 0px 1px 3px 1px rgba(0, 0, 0, 0.15);\n",
              "    filter: drop-shadow(0px 1px 2px rgba(0, 0, 0, 0.3));\n",
              "    fill: #FFFFFF;\n",
              "  }\n",
              "</style>\n",
              "\n",
              "    <script>\n",
              "      async function quickchart(key) {\n",
              "        const containerElement = document.querySelector('#' + key);\n",
              "        const charts = await google.colab.kernel.invokeFunction(\n",
              "            'suggestCharts', [key], {});\n",
              "      }\n",
              "    </script>\n",
              "\n",
              "      <script>\n",
              "\n",
              "function displayQuickchartButton(domScope) {\n",
              "  let quickchartButtonEl =\n",
              "    domScope.querySelector('#df-51acbc2d-4080-4b6d-a978-987d74f75f76 button.colab-df-quickchart');\n",
              "  quickchartButtonEl.style.display =\n",
              "    google.colab.kernel.accessAllowed ? 'block' : 'none';\n",
              "}\n",
              "\n",
              "        displayQuickchartButton(document);\n",
              "      </script>\n",
              "      <style>\n",
              "    .colab-df-container {\n",
              "      display:flex;\n",
              "      flex-wrap:wrap;\n",
              "      gap: 12px;\n",
              "    }\n",
              "\n",
              "    .colab-df-convert {\n",
              "      background-color: #E8F0FE;\n",
              "      border: none;\n",
              "      border-radius: 50%;\n",
              "      cursor: pointer;\n",
              "      display: none;\n",
              "      fill: #1967D2;\n",
              "      height: 32px;\n",
              "      padding: 0 0 0 0;\n",
              "      width: 32px;\n",
              "    }\n",
              "\n",
              "    .colab-df-convert:hover {\n",
              "      background-color: #E2EBFA;\n",
              "      box-shadow: 0px 1px 2px rgba(60, 64, 67, 0.3), 0px 1px 3px 1px rgba(60, 64, 67, 0.15);\n",
              "      fill: #174EA6;\n",
              "    }\n",
              "\n",
              "    [theme=dark] .colab-df-convert {\n",
              "      background-color: #3B4455;\n",
              "      fill: #D2E3FC;\n",
              "    }\n",
              "\n",
              "    [theme=dark] .colab-df-convert:hover {\n",
              "      background-color: #434B5C;\n",
              "      box-shadow: 0px 1px 3px 1px rgba(0, 0, 0, 0.15);\n",
              "      filter: drop-shadow(0px 1px 2px rgba(0, 0, 0, 0.3));\n",
              "      fill: #FFFFFF;\n",
              "    }\n",
              "  </style>\n",
              "\n",
              "      <script>\n",
              "        const buttonEl =\n",
              "          document.querySelector('#df-fd5ece43-eabc-401f-86c3-5c0c72ac52f1 button.colab-df-convert');\n",
              "        buttonEl.style.display =\n",
              "          google.colab.kernel.accessAllowed ? 'block' : 'none';\n",
              "\n",
              "        async function convertToInteractive(key) {\n",
              "          const element = document.querySelector('#df-fd5ece43-eabc-401f-86c3-5c0c72ac52f1');\n",
              "          const dataTable =\n",
              "            await google.colab.kernel.invokeFunction('convertToInteractive',\n",
              "                                                     [key], {});\n",
              "          if (!dataTable) return;\n",
              "\n",
              "          const docLinkHtml = 'Like what you see? Visit the ' +\n",
              "            '<a target=\"_blank\" href=https://colab.research.google.com/notebooks/data_table.ipynb>data table notebook</a>'\n",
              "            + ' to learn more about interactive tables.';\n",
              "          element.innerHTML = '';\n",
              "          dataTable['output_type'] = 'display_data';\n",
              "          await google.colab.output.renderOutput(dataTable, element);\n",
              "          const docLink = document.createElement('div');\n",
              "          docLink.innerHTML = docLinkHtml;\n",
              "          element.appendChild(docLink);\n",
              "        }\n",
              "      </script>\n",
              "    </div>\n",
              "  </div>\n"
            ]
          },
          "metadata": {},
          "execution_count": 147
        }
      ]
    },
    {
      "cell_type": "code",
      "source": [
        "from mlxtend.preprocessing import TransactionEncoder\n",
        "from mlxtend.frequent_patterns import apriori, fpgrowth\n",
        "from mlxtend.frequent_patterns import association_rules"
      ],
      "metadata": {
        "id": "K3O2WCfWlq1i",
        "colab": {
          "base_uri": "https://localhost:8080/"
        },
        "outputId": "dda47bd9-8aa6-40d6-a892-88a5f5105157"
      },
      "execution_count": 148,
      "outputs": [
        {
          "output_type": "stream",
          "name": "stderr",
          "text": [
            "/usr/local/lib/python3.10/dist-packages/ipykernel/ipkernel.py:283: DeprecationWarning: `should_run_async` will not call `transform_cell` automatically in the future. Please pass the result to `transformed_cell` argument and any exception that happen during thetransform in `preprocessing_exc_tuple` in IPython 7.17 and above.\n",
            "  and should_run_async(code)\n"
          ]
        }
      ]
    },
    {
      "cell_type": "markdown",
      "source": [
        "Preprocessing the data"
      ],
      "metadata": {
        "id": "FzdS3ZAhl77j"
      }
    },
    {
      "cell_type": "code",
      "source": [
        "# removing column 0 as it's unnecessary\n",
        "df = df.drop(columns=['Unnamed: 0'])\n",
        "transactions = df.apply(lambda row: df.columns[row.values], axis=1).tolist()"
      ],
      "metadata": {
        "colab": {
          "base_uri": "https://localhost:8080/"
        },
        "id": "ICsAyvv2ltub",
        "outputId": "4eedaf8b-9df3-433d-acc5-89f1e349bea6"
      },
      "execution_count": 149,
      "outputs": [
        {
          "output_type": "stream",
          "name": "stderr",
          "text": [
            "/usr/local/lib/python3.10/dist-packages/ipykernel/ipkernel.py:283: DeprecationWarning: `should_run_async` will not call `transform_cell` automatically in the future. Please pass the result to `transformed_cell` argument and any exception that happen during thetransform in `preprocessing_exc_tuple` in IPython 7.17 and above.\n",
            "  and should_run_async(code)\n"
          ]
        }
      ]
    },
    {
      "cell_type": "code",
      "source": [
        "df.head()"
      ],
      "metadata": {
        "colab": {
          "base_uri": "https://localhost:8080/",
          "height": 261
        },
        "id": "v4ZPjZtcmC2i",
        "outputId": "3f140dc4-2b12-40ec-c6ce-4dbac6635bbc"
      },
      "execution_count": 150,
      "outputs": [
        {
          "output_type": "stream",
          "name": "stderr",
          "text": [
            "/usr/local/lib/python3.10/dist-packages/ipykernel/ipkernel.py:283: DeprecationWarning: `should_run_async` will not call `transform_cell` automatically in the future. Please pass the result to `transformed_cell` argument and any exception that happen during thetransform in `preprocessing_exc_tuple` in IPython 7.17 and above.\n",
            "  and should_run_async(code)\n"
          ]
        },
        {
          "output_type": "execute_result",
          "data": {
            "text/plain": [
              "   Apple  Bread  Butter  Cheese   Corn   Dill   Eggs  Ice cream  Kidney Beans  \\\n",
              "0  False   True   False   False   True   True  False       True         False   \n",
              "1  False  False   False   False  False  False  False      False         False   \n",
              "2   True  False    True   False  False   True  False       True         False   \n",
              "3  False  False    True    True  False   True  False      False         False   \n",
              "4   True   True   False   False  False  False  False      False         False   \n",
              "\n",
              "    Milk  Nutmeg  Onion  Sugar  Unicorn  Yogurt  chocolate  \n",
              "0  False   False  False   True    False    True       True  \n",
              "1   True   False  False  False    False   False      False  \n",
              "2   True   False  False  False    False    True       True  \n",
              "3   True    True   True  False    False   False      False  \n",
              "4  False   False  False  False    False   False      False  "
            ],
            "text/html": [
              "\n",
              "\n",
              "  <div id=\"df-65a31d5c-15f4-4d77-914f-102d6bace5c1\">\n",
              "    <div class=\"colab-df-container\">\n",
              "      <div>\n",
              "<style scoped>\n",
              "    .dataframe tbody tr th:only-of-type {\n",
              "        vertical-align: middle;\n",
              "    }\n",
              "\n",
              "    .dataframe tbody tr th {\n",
              "        vertical-align: top;\n",
              "    }\n",
              "\n",
              "    .dataframe thead th {\n",
              "        text-align: right;\n",
              "    }\n",
              "</style>\n",
              "<table border=\"1\" class=\"dataframe\">\n",
              "  <thead>\n",
              "    <tr style=\"text-align: right;\">\n",
              "      <th></th>\n",
              "      <th>Apple</th>\n",
              "      <th>Bread</th>\n",
              "      <th>Butter</th>\n",
              "      <th>Cheese</th>\n",
              "      <th>Corn</th>\n",
              "      <th>Dill</th>\n",
              "      <th>Eggs</th>\n",
              "      <th>Ice cream</th>\n",
              "      <th>Kidney Beans</th>\n",
              "      <th>Milk</th>\n",
              "      <th>Nutmeg</th>\n",
              "      <th>Onion</th>\n",
              "      <th>Sugar</th>\n",
              "      <th>Unicorn</th>\n",
              "      <th>Yogurt</th>\n",
              "      <th>chocolate</th>\n",
              "    </tr>\n",
              "  </thead>\n",
              "  <tbody>\n",
              "    <tr>\n",
              "      <th>0</th>\n",
              "      <td>False</td>\n",
              "      <td>True</td>\n",
              "      <td>False</td>\n",
              "      <td>False</td>\n",
              "      <td>True</td>\n",
              "      <td>True</td>\n",
              "      <td>False</td>\n",
              "      <td>True</td>\n",
              "      <td>False</td>\n",
              "      <td>False</td>\n",
              "      <td>False</td>\n",
              "      <td>False</td>\n",
              "      <td>True</td>\n",
              "      <td>False</td>\n",
              "      <td>True</td>\n",
              "      <td>True</td>\n",
              "    </tr>\n",
              "    <tr>\n",
              "      <th>1</th>\n",
              "      <td>False</td>\n",
              "      <td>False</td>\n",
              "      <td>False</td>\n",
              "      <td>False</td>\n",
              "      <td>False</td>\n",
              "      <td>False</td>\n",
              "      <td>False</td>\n",
              "      <td>False</td>\n",
              "      <td>False</td>\n",
              "      <td>True</td>\n",
              "      <td>False</td>\n",
              "      <td>False</td>\n",
              "      <td>False</td>\n",
              "      <td>False</td>\n",
              "      <td>False</td>\n",
              "      <td>False</td>\n",
              "    </tr>\n",
              "    <tr>\n",
              "      <th>2</th>\n",
              "      <td>True</td>\n",
              "      <td>False</td>\n",
              "      <td>True</td>\n",
              "      <td>False</td>\n",
              "      <td>False</td>\n",
              "      <td>True</td>\n",
              "      <td>False</td>\n",
              "      <td>True</td>\n",
              "      <td>False</td>\n",
              "      <td>True</td>\n",
              "      <td>False</td>\n",
              "      <td>False</td>\n",
              "      <td>False</td>\n",
              "      <td>False</td>\n",
              "      <td>True</td>\n",
              "      <td>True</td>\n",
              "    </tr>\n",
              "    <tr>\n",
              "      <th>3</th>\n",
              "      <td>False</td>\n",
              "      <td>False</td>\n",
              "      <td>True</td>\n",
              "      <td>True</td>\n",
              "      <td>False</td>\n",
              "      <td>True</td>\n",
              "      <td>False</td>\n",
              "      <td>False</td>\n",
              "      <td>False</td>\n",
              "      <td>True</td>\n",
              "      <td>True</td>\n",
              "      <td>True</td>\n",
              "      <td>False</td>\n",
              "      <td>False</td>\n",
              "      <td>False</td>\n",
              "      <td>False</td>\n",
              "    </tr>\n",
              "    <tr>\n",
              "      <th>4</th>\n",
              "      <td>True</td>\n",
              "      <td>True</td>\n",
              "      <td>False</td>\n",
              "      <td>False</td>\n",
              "      <td>False</td>\n",
              "      <td>False</td>\n",
              "      <td>False</td>\n",
              "      <td>False</td>\n",
              "      <td>False</td>\n",
              "      <td>False</td>\n",
              "      <td>False</td>\n",
              "      <td>False</td>\n",
              "      <td>False</td>\n",
              "      <td>False</td>\n",
              "      <td>False</td>\n",
              "      <td>False</td>\n",
              "    </tr>\n",
              "  </tbody>\n",
              "</table>\n",
              "</div>\n",
              "      <button class=\"colab-df-convert\" onclick=\"convertToInteractive('df-65a31d5c-15f4-4d77-914f-102d6bace5c1')\"\n",
              "              title=\"Convert this dataframe to an interactive table.\"\n",
              "              style=\"display:none;\">\n",
              "\n",
              "  <svg xmlns=\"http://www.w3.org/2000/svg\" height=\"24px\"viewBox=\"0 0 24 24\"\n",
              "       width=\"24px\">\n",
              "    <path d=\"M0 0h24v24H0V0z\" fill=\"none\"/>\n",
              "    <path d=\"M18.56 5.44l.94 2.06.94-2.06 2.06-.94-2.06-.94-.94-2.06-.94 2.06-2.06.94zm-11 1L8.5 8.5l.94-2.06 2.06-.94-2.06-.94L8.5 2.5l-.94 2.06-2.06.94zm10 10l.94 2.06.94-2.06 2.06-.94-2.06-.94-.94-2.06-.94 2.06-2.06.94z\"/><path d=\"M17.41 7.96l-1.37-1.37c-.4-.4-.92-.59-1.43-.59-.52 0-1.04.2-1.43.59L10.3 9.45l-7.72 7.72c-.78.78-.78 2.05 0 2.83L4 21.41c.39.39.9.59 1.41.59.51 0 1.02-.2 1.41-.59l7.78-7.78 2.81-2.81c.8-.78.8-2.07 0-2.86zM5.41 20L4 18.59l7.72-7.72 1.47 1.35L5.41 20z\"/>\n",
              "  </svg>\n",
              "      </button>\n",
              "\n",
              "\n",
              "\n",
              "    <div id=\"df-e754ca57-9e8a-4373-af2e-8c39771fead5\">\n",
              "      <button class=\"colab-df-quickchart\" onclick=\"quickchart('df-e754ca57-9e8a-4373-af2e-8c39771fead5')\"\n",
              "              title=\"Suggest charts.\"\n",
              "              style=\"display:none;\">\n",
              "\n",
              "<svg xmlns=\"http://www.w3.org/2000/svg\" height=\"24px\"viewBox=\"0 0 24 24\"\n",
              "     width=\"24px\">\n",
              "    <g>\n",
              "        <path d=\"M19 3H5c-1.1 0-2 .9-2 2v14c0 1.1.9 2 2 2h14c1.1 0 2-.9 2-2V5c0-1.1-.9-2-2-2zM9 17H7v-7h2v7zm4 0h-2V7h2v10zm4 0h-2v-4h2v4z\"/>\n",
              "    </g>\n",
              "</svg>\n",
              "      </button>\n",
              "    </div>\n",
              "\n",
              "<style>\n",
              "  .colab-df-quickchart {\n",
              "    background-color: #E8F0FE;\n",
              "    border: none;\n",
              "    border-radius: 50%;\n",
              "    cursor: pointer;\n",
              "    display: none;\n",
              "    fill: #1967D2;\n",
              "    height: 32px;\n",
              "    padding: 0 0 0 0;\n",
              "    width: 32px;\n",
              "  }\n",
              "\n",
              "  .colab-df-quickchart:hover {\n",
              "    background-color: #E2EBFA;\n",
              "    box-shadow: 0px 1px 2px rgba(60, 64, 67, 0.3), 0px 1px 3px 1px rgba(60, 64, 67, 0.15);\n",
              "    fill: #174EA6;\n",
              "  }\n",
              "\n",
              "  [theme=dark] .colab-df-quickchart {\n",
              "    background-color: #3B4455;\n",
              "    fill: #D2E3FC;\n",
              "  }\n",
              "\n",
              "  [theme=dark] .colab-df-quickchart:hover {\n",
              "    background-color: #434B5C;\n",
              "    box-shadow: 0px 1px 3px 1px rgba(0, 0, 0, 0.15);\n",
              "    filter: drop-shadow(0px 1px 2px rgba(0, 0, 0, 0.3));\n",
              "    fill: #FFFFFF;\n",
              "  }\n",
              "</style>\n",
              "\n",
              "    <script>\n",
              "      async function quickchart(key) {\n",
              "        const containerElement = document.querySelector('#' + key);\n",
              "        const charts = await google.colab.kernel.invokeFunction(\n",
              "            'suggestCharts', [key], {});\n",
              "      }\n",
              "    </script>\n",
              "\n",
              "      <script>\n",
              "\n",
              "function displayQuickchartButton(domScope) {\n",
              "  let quickchartButtonEl =\n",
              "    domScope.querySelector('#df-e754ca57-9e8a-4373-af2e-8c39771fead5 button.colab-df-quickchart');\n",
              "  quickchartButtonEl.style.display =\n",
              "    google.colab.kernel.accessAllowed ? 'block' : 'none';\n",
              "}\n",
              "\n",
              "        displayQuickchartButton(document);\n",
              "      </script>\n",
              "      <style>\n",
              "    .colab-df-container {\n",
              "      display:flex;\n",
              "      flex-wrap:wrap;\n",
              "      gap: 12px;\n",
              "    }\n",
              "\n",
              "    .colab-df-convert {\n",
              "      background-color: #E8F0FE;\n",
              "      border: none;\n",
              "      border-radius: 50%;\n",
              "      cursor: pointer;\n",
              "      display: none;\n",
              "      fill: #1967D2;\n",
              "      height: 32px;\n",
              "      padding: 0 0 0 0;\n",
              "      width: 32px;\n",
              "    }\n",
              "\n",
              "    .colab-df-convert:hover {\n",
              "      background-color: #E2EBFA;\n",
              "      box-shadow: 0px 1px 2px rgba(60, 64, 67, 0.3), 0px 1px 3px 1px rgba(60, 64, 67, 0.15);\n",
              "      fill: #174EA6;\n",
              "    }\n",
              "\n",
              "    [theme=dark] .colab-df-convert {\n",
              "      background-color: #3B4455;\n",
              "      fill: #D2E3FC;\n",
              "    }\n",
              "\n",
              "    [theme=dark] .colab-df-convert:hover {\n",
              "      background-color: #434B5C;\n",
              "      box-shadow: 0px 1px 3px 1px rgba(0, 0, 0, 0.15);\n",
              "      filter: drop-shadow(0px 1px 2px rgba(0, 0, 0, 0.3));\n",
              "      fill: #FFFFFF;\n",
              "    }\n",
              "  </style>\n",
              "\n",
              "      <script>\n",
              "        const buttonEl =\n",
              "          document.querySelector('#df-65a31d5c-15f4-4d77-914f-102d6bace5c1 button.colab-df-convert');\n",
              "        buttonEl.style.display =\n",
              "          google.colab.kernel.accessAllowed ? 'block' : 'none';\n",
              "\n",
              "        async function convertToInteractive(key) {\n",
              "          const element = document.querySelector('#df-65a31d5c-15f4-4d77-914f-102d6bace5c1');\n",
              "          const dataTable =\n",
              "            await google.colab.kernel.invokeFunction('convertToInteractive',\n",
              "                                                     [key], {});\n",
              "          if (!dataTable) return;\n",
              "\n",
              "          const docLinkHtml = 'Like what you see? Visit the ' +\n",
              "            '<a target=\"_blank\" href=https://colab.research.google.com/notebooks/data_table.ipynb>data table notebook</a>'\n",
              "            + ' to learn more about interactive tables.';\n",
              "          element.innerHTML = '';\n",
              "          dataTable['output_type'] = 'display_data';\n",
              "          await google.colab.output.renderOutput(dataTable, element);\n",
              "          const docLink = document.createElement('div');\n",
              "          docLink.innerHTML = docLinkHtml;\n",
              "          element.appendChild(docLink);\n",
              "        }\n",
              "      </script>\n",
              "    </div>\n",
              "  </div>\n"
            ]
          },
          "metadata": {},
          "execution_count": 150
        }
      ]
    },
    {
      "cell_type": "markdown",
      "source": [
        "Applying apriori algorithm"
      ],
      "metadata": {
        "id": "gndcCa_RmHJa"
      }
    },
    {
      "cell_type": "code",
      "source": [
        "te = TransactionEncoder()\n",
        "te_ary = te.fit(transactions).transform(transactions)\n",
        "df_encoded = pd.DataFrame(te_ary, columns=te.columns_)\n",
        "frequent_itemsets_apriori = apriori(df_encoded, min_support=0.1, use_colnames=True)"
      ],
      "metadata": {
        "colab": {
          "base_uri": "https://localhost:8080/"
        },
        "id": "j1RD4e8jmJPJ",
        "outputId": "54d88d77-4c82-4d2b-eda0-8775ede40891"
      },
      "execution_count": 151,
      "outputs": [
        {
          "output_type": "stream",
          "name": "stderr",
          "text": [
            "/usr/local/lib/python3.10/dist-packages/ipykernel/ipkernel.py:283: DeprecationWarning: `should_run_async` will not call `transform_cell` automatically in the future. Please pass the result to `transformed_cell` argument and any exception that happen during thetransform in `preprocessing_exc_tuple` in IPython 7.17 and above.\n",
            "  and should_run_async(code)\n"
          ]
        }
      ]
    },
    {
      "cell_type": "markdown",
      "source": [
        "Generating association rules for apriori"
      ],
      "metadata": {
        "id": "95lD0yxpmMeJ"
      }
    },
    {
      "cell_type": "code",
      "source": [
        "association_rules_apriori = association_rules(frequent_itemsets_apriori, metric='confidence', min_threshold=0.5)"
      ],
      "metadata": {
        "colab": {
          "base_uri": "https://localhost:8080/"
        },
        "id": "BtlgNUi-mP2x",
        "outputId": "f0bb01cd-8517-4a28-943a-98f5afb6d539"
      },
      "execution_count": 152,
      "outputs": [
        {
          "output_type": "stream",
          "name": "stderr",
          "text": [
            "/usr/local/lib/python3.10/dist-packages/ipykernel/ipkernel.py:283: DeprecationWarning: `should_run_async` will not call `transform_cell` automatically in the future. Please pass the result to `transformed_cell` argument and any exception that happen during thetransform in `preprocessing_exc_tuple` in IPython 7.17 and above.\n",
            "  and should_run_async(code)\n"
          ]
        }
      ]
    },
    {
      "cell_type": "code",
      "source": [
        "print(\"Association Rules (Apriori):\")\n",
        "print(association_rules_apriori)"
      ],
      "metadata": {
        "colab": {
          "base_uri": "https://localhost:8080/"
        },
        "id": "7evjlIjYmiFR",
        "outputId": "1d07945d-efaa-45b3-f4fc-0281cedcbd99"
      },
      "execution_count": 153,
      "outputs": [
        {
          "output_type": "stream",
          "name": "stderr",
          "text": [
            "/usr/local/lib/python3.10/dist-packages/ipykernel/ipkernel.py:283: DeprecationWarning: `should_run_async` will not call `transform_cell` automatically in the future. Please pass the result to `transformed_cell` argument and any exception that happen during thetransform in `preprocessing_exc_tuple` in IPython 7.17 and above.\n",
            "  and should_run_async(code)\n"
          ]
        },
        {
          "output_type": "stream",
          "name": "stdout",
          "text": [
            "Association Rules (Apriori):\n",
            "               antecedents     consequents  antecedent support  \\\n",
            "0                  (Bread)        (Yogurt)            0.384384   \n",
            "1              (Ice cream)        (Butter)            0.410410   \n",
            "2                   (Dill)     (chocolate)            0.398398   \n",
            "3              (chocolate)          (Milk)            0.421421   \n",
            "4                   (Milk)     (chocolate)            0.405405   \n",
            "..                     ...             ...                 ...   \n",
            "92        (Nutmeg, Yogurt)  (Kidney Beans)            0.192192   \n",
            "93  (Nutmeg, Kidney Beans)        (Yogurt)            0.189189   \n",
            "94  (Yogurt, Kidney Beans)        (Nutmeg)            0.194194   \n",
            "95     (chocolate, Yogurt)          (Milk)            0.198198   \n",
            "96          (Yogurt, Milk)     (chocolate)            0.190190   \n",
            "\n",
            "    consequent support   support  confidence      lift  leverage  conviction  \\\n",
            "0             0.420420  0.193193    0.502604  1.195480  0.031590    1.165228   \n",
            "1             0.420420  0.207207    0.504878  1.200889  0.034662    1.170579   \n",
            "2             0.421421  0.199199    0.500000  1.186461  0.031306    1.157157   \n",
            "3             0.405405  0.211211    0.501188  1.236263  0.040365    1.192021   \n",
            "4             0.421421  0.211211    0.520988  1.236263  0.040365    1.207857   \n",
            "..                 ...       ...         ...       ...       ...         ...   \n",
            "92            0.408408  0.101101    0.526042  1.288028  0.022608    1.248193   \n",
            "93            0.420420  0.101101    0.534392  1.271088  0.021562    1.244779   \n",
            "94            0.401401  0.101101    0.520619  1.297002  0.023151    1.248690   \n",
            "95            0.405405  0.104104    0.525253  1.295623  0.023753    1.252444   \n",
            "96            0.421421  0.104104    0.547368  1.298862  0.023954    1.278255   \n",
            "\n",
            "    zhangs_metric  \n",
            "0        0.265614  \n",
            "1        0.283728  \n",
            "2        0.261231  \n",
            "3        0.330310  \n",
            "4        0.321413  \n",
            "..            ...  \n",
            "92       0.276823  \n",
            "93       0.263036  \n",
            "94       0.284177  \n",
            "95       0.284572  \n",
            "96       0.284135  \n",
            "\n",
            "[97 rows x 10 columns]\n"
          ]
        }
      ]
    },
    {
      "cell_type": "markdown",
      "source": [
        "FP growth algorithm"
      ],
      "metadata": {
        "id": "SAh_QLdpmUKp"
      }
    },
    {
      "cell_type": "code",
      "source": [
        "frequent_itemsets_fpgrowth = fpgrowth(df_encoded, min_support=0.1, use_colnames=True)"
      ],
      "metadata": {
        "colab": {
          "base_uri": "https://localhost:8080/"
        },
        "id": "fSITOzwvmV35",
        "outputId": "14835793-3adf-491e-9b2c-743065c3d91e"
      },
      "execution_count": 154,
      "outputs": [
        {
          "output_type": "stream",
          "name": "stderr",
          "text": [
            "/usr/local/lib/python3.10/dist-packages/ipykernel/ipkernel.py:283: DeprecationWarning: `should_run_async` will not call `transform_cell` automatically in the future. Please pass the result to `transformed_cell` argument and any exception that happen during thetransform in `preprocessing_exc_tuple` in IPython 7.17 and above.\n",
            "  and should_run_async(code)\n"
          ]
        }
      ]
    },
    {
      "cell_type": "markdown",
      "source": [
        "Association rules for FP growth"
      ],
      "metadata": {
        "id": "ZM6pIdAbmccq"
      }
    },
    {
      "cell_type": "code",
      "source": [
        "association_rules_fpgrowth = association_rules(frequent_itemsets_fpgrowth, metric='confidence', min_threshold=0.5)"
      ],
      "metadata": {
        "colab": {
          "base_uri": "https://localhost:8080/"
        },
        "id": "4loNilFEmaQh",
        "outputId": "c3113179-56cd-42fe-d4d7-3e58efb59dd8"
      },
      "execution_count": 155,
      "outputs": [
        {
          "output_type": "stream",
          "name": "stderr",
          "text": [
            "/usr/local/lib/python3.10/dist-packages/ipykernel/ipkernel.py:283: DeprecationWarning: `should_run_async` will not call `transform_cell` automatically in the future. Please pass the result to `transformed_cell` argument and any exception that happen during thetransform in `preprocessing_exc_tuple` in IPython 7.17 and above.\n",
            "  and should_run_async(code)\n"
          ]
        }
      ]
    },
    {
      "cell_type": "code",
      "source": [
        "print(\"Association Rules (FP-Growth):\")\n",
        "print(association_rules_fpgrowth)"
      ],
      "metadata": {
        "colab": {
          "base_uri": "https://localhost:8080/"
        },
        "id": "eNjyaspsmmFx",
        "outputId": "dc805b2a-4eb3-4410-ea9b-f3381aa9b81b"
      },
      "execution_count": 156,
      "outputs": [
        {
          "output_type": "stream",
          "name": "stderr",
          "text": [
            "/usr/local/lib/python3.10/dist-packages/ipykernel/ipkernel.py:283: DeprecationWarning: `should_run_async` will not call `transform_cell` automatically in the future. Please pass the result to `transformed_cell` argument and any exception that happen during thetransform in `preprocessing_exc_tuple` in IPython 7.17 and above.\n",
            "  and should_run_async(code)\n"
          ]
        },
        {
          "output_type": "stream",
          "name": "stdout",
          "text": [
            "Association Rules (FP-Growth):\n",
            "                  antecedents     consequents  antecedent support  \\\n",
            "0                 (Ice cream)        (Butter)            0.410410   \n",
            "1         (chocolate, Butter)     (Ice cream)            0.202202   \n",
            "2      (chocolate, Ice cream)        (Butter)            0.202202   \n",
            "3         (Butter, Ice cream)     (chocolate)            0.207207   \n",
            "4             (Sugar, Butter)     (Ice cream)            0.196196   \n",
            "..                        ...             ...                 ...   \n",
            "92       (chocolate, Unicorn)          (Dill)            0.186186   \n",
            "93            (Dill, Unicorn)     (chocolate)            0.168168   \n",
            "94     (Kidney Beans, Butter)     (Ice cream)            0.202202   \n",
            "95        (Butter, Ice cream)  (Kidney Beans)            0.207207   \n",
            "96  (Kidney Beans, Ice cream)        (Butter)            0.196196   \n",
            "\n",
            "    consequent support   support  confidence      lift  leverage  conviction  \\\n",
            "0             0.420420  0.207207    0.504878  1.200889  0.034662    1.170579   \n",
            "1             0.410410  0.109109    0.539604  1.314791  0.026123    1.280614   \n",
            "2             0.420420  0.109109    0.539604  1.283487  0.024099    1.258872   \n",
            "3             0.421421  0.109109    0.526570  1.249509  0.021788    1.222100   \n",
            "4             0.410410  0.106106    0.540816  1.317745  0.025585    1.283995   \n",
            "..                 ...       ...         ...       ...       ...         ...   \n",
            "92            0.398398  0.101101    0.543011  1.362984  0.026925    1.316446   \n",
            "93            0.421421  0.101101    0.601190  1.426578  0.030231    1.450764   \n",
            "94            0.410410  0.110110    0.544554  1.326853  0.027124    1.294534   \n",
            "95            0.408408  0.110110    0.531401  1.301151  0.025485    1.262469   \n",
            "96            0.420420  0.110110    0.561224  1.334913  0.027625    1.320902   \n",
            "\n",
            "    zhangs_metric  \n",
            "0        0.283728  \n",
            "1        0.300105  \n",
            "2        0.276852  \n",
            "3        0.251877  \n",
            "4        0.299984  \n",
            "..            ...  \n",
            "92       0.327244  \n",
            "93       0.359474  \n",
            "94       0.308772  \n",
            "95       0.291942  \n",
            "96       0.312125  \n",
            "\n",
            "[97 rows x 10 columns]\n"
          ]
        }
      ]
    },
    {
      "cell_type": "markdown",
      "source": [
        "Comparing performance and results"
      ],
      "metadata": {
        "id": "ktrM0m-LnA8i"
      }
    },
    {
      "cell_type": "code",
      "source": [
        "apriori_freq_itemsets_count = frequent_itemsets_apriori.shape[0]\n",
        "fpgrowth_freq_itemsets_count = frequent_itemsets_fpgrowth.shape[0]"
      ],
      "metadata": {
        "colab": {
          "base_uri": "https://localhost:8080/"
        },
        "id": "diT1pKiunKDJ",
        "outputId": "6fd709c4-aeaa-4989-ed54-4764467a7a00"
      },
      "execution_count": 157,
      "outputs": [
        {
          "output_type": "stream",
          "name": "stderr",
          "text": [
            "/usr/local/lib/python3.10/dist-packages/ipykernel/ipkernel.py:283: DeprecationWarning: `should_run_async` will not call `transform_cell` automatically in the future. Please pass the result to `transformed_cell` argument and any exception that happen during thetransform in `preprocessing_exc_tuple` in IPython 7.17 and above.\n",
            "  and should_run_async(code)\n"
          ]
        }
      ]
    },
    {
      "cell_type": "markdown",
      "source": [
        "Comparing no. of associations"
      ],
      "metadata": {
        "id": "HovBhQXjnP--"
      }
    },
    {
      "cell_type": "code",
      "source": [
        "apriori_association_rules_count = association_rules_apriori.shape[0]\n",
        "fpgrowth_association_rules_count = association_rules_fpgrowth.shape[0]"
      ],
      "metadata": {
        "colab": {
          "base_uri": "https://localhost:8080/"
        },
        "id": "RqLessmUnNfp",
        "outputId": "3e3d0d73-1354-4867-dd2d-9939f124b9e2"
      },
      "execution_count": 158,
      "outputs": [
        {
          "output_type": "stream",
          "name": "stderr",
          "text": [
            "/usr/local/lib/python3.10/dist-packages/ipykernel/ipkernel.py:283: DeprecationWarning: `should_run_async` will not call `transform_cell` automatically in the future. Please pass the result to `transformed_cell` argument and any exception that happen during thetransform in `preprocessing_exc_tuple` in IPython 7.17 and above.\n",
            "  and should_run_async(code)\n"
          ]
        }
      ]
    },
    {
      "cell_type": "markdown",
      "source": [
        "Compare average antecedent and consequent lengths"
      ],
      "metadata": {
        "id": "qaHpmVwbnXlN"
      }
    },
    {
      "cell_type": "code",
      "source": [
        "apriori_avg_antecedent_len = association_rules_apriori.antecedents.apply(lambda x: len(x)).mean()\n",
        "apriori_avg_consequent_len = association_rules_apriori.consequents.apply(lambda x: len(x)).mean()\n",
        "fpgrowth_avg_antecedent_len = association_rules_fpgrowth.antecedents.apply(lambda x: len(x)).mean()\n",
        "fpgrowth_avg_consequent_len = association_rules_fpgrowth.consequents.apply(lambda x: len(x)).mean()"
      ],
      "metadata": {
        "colab": {
          "base_uri": "https://localhost:8080/"
        },
        "id": "nYwIRSNunUb-",
        "outputId": "2c71410f-fa35-4b81-98f1-193c3fe261d0"
      },
      "execution_count": 159,
      "outputs": [
        {
          "output_type": "stream",
          "name": "stderr",
          "text": [
            "/usr/local/lib/python3.10/dist-packages/ipykernel/ipkernel.py:283: DeprecationWarning: `should_run_async` will not call `transform_cell` automatically in the future. Please pass the result to `transformed_cell` argument and any exception that happen during thetransform in `preprocessing_exc_tuple` in IPython 7.17 and above.\n",
            "  and should_run_async(code)\n"
          ]
        }
      ]
    },
    {
      "cell_type": "markdown",
      "source": [
        "Comparison Results"
      ],
      "metadata": {
        "id": "0ntxsaxXnbru"
      }
    },
    {
      "cell_type": "code",
      "source": [
        "print(\"Comparison Results:\")\n",
        "print(\"-\" * 50)\n",
        "print(\"Frequent Itemsets Count:\")\n",
        "print(\"Apriori: \", apriori_freq_itemsets_count)\n",
        "print(\"FP-Growth: \", fpgrowth_freq_itemsets_count)\n",
        "print(\"-\" * 50)\n",
        "print(\"Number of Association Rules:\")\n",
        "print(\"Apriori: \", apriori_association_rules_count)\n",
        "print(\"FP-Growth: \", fpgrowth_association_rules_count)\n",
        "print(\"-\" * 50)\n",
        "print(\"Average Antecedent Length:\")\n",
        "print(\"Apriori: \", apriori_avg_antecedent_len)\n",
        "print(\"FP-Growth: \", fpgrowth_avg_antecedent_len)\n",
        "print(\"-\" * 50)\n",
        "print(\"Average Consequent Length:\")\n",
        "print(\"Apriori: \", apriori_avg_consequent_len)\n",
        "print(\"FP-Growth: \", fpgrowth_avg_consequent_len)\n",
        "print(\"-\" * 50)"
      ],
      "metadata": {
        "colab": {
          "base_uri": "https://localhost:8080/"
        },
        "id": "HIvgpvyTndTJ",
        "outputId": "8d7632e0-3ace-4443-aa4b-6e61e3de4f05"
      },
      "execution_count": 160,
      "outputs": [
        {
          "output_type": "stream",
          "name": "stderr",
          "text": [
            "/usr/local/lib/python3.10/dist-packages/ipykernel/ipkernel.py:283: DeprecationWarning: `should_run_async` will not call `transform_cell` automatically in the future. Please pass the result to `transformed_cell` argument and any exception that happen during thetransform in `preprocessing_exc_tuple` in IPython 7.17 and above.\n",
            "  and should_run_async(code)\n"
          ]
        },
        {
          "output_type": "stream",
          "name": "stdout",
          "text": [
            "Comparison Results:\n",
            "--------------------------------------------------\n",
            "Frequent Itemsets Count:\n",
            "Apriori:  169\n",
            "FP-Growth:  169\n",
            "--------------------------------------------------\n",
            "Number of Association Rules:\n",
            "Apriori:  97\n",
            "FP-Growth:  97\n",
            "--------------------------------------------------\n",
            "Average Antecedent Length:\n",
            "Apriori:  1.9484536082474226\n",
            "FP-Growth:  1.9484536082474226\n",
            "--------------------------------------------------\n",
            "Average Consequent Length:\n",
            "Apriori:  1.0\n",
            "FP-Growth:  1.0\n",
            "--------------------------------------------------\n"
          ]
        }
      ]
    },
    {
      "cell_type": "code",
      "source": [
        "comparison_df = pd.DataFrame({\n",
        "    'Algorithm': ['Apriori', 'FP-Growth'],\n",
        "    'Frequent Itemsets Count': [apriori_freq_itemsets_count, fpgrowth_freq_itemsets_count],\n",
        "    'Association Rules Count': [apriori_association_rules_count, fpgrowth_association_rules_count],\n",
        "    'Average Antecedent Length': [apriori_avg_antecedent_len, fpgrowth_avg_antecedent_len],\n",
        "    'Average Consequent Length': [apriori_avg_consequent_len, fpgrowth_avg_consequent_len]\n",
        "})"
      ],
      "metadata": {
        "colab": {
          "base_uri": "https://localhost:8080/"
        },
        "id": "Q_yAVVpBngRi",
        "outputId": "3ff3eb8b-ba11-4a23-d3ab-84f45b011839"
      },
      "execution_count": 161,
      "outputs": [
        {
          "output_type": "stream",
          "name": "stderr",
          "text": [
            "/usr/local/lib/python3.10/dist-packages/ipykernel/ipkernel.py:283: DeprecationWarning: `should_run_async` will not call `transform_cell` automatically in the future. Please pass the result to `transformed_cell` argument and any exception that happen during thetransform in `preprocessing_exc_tuple` in IPython 7.17 and above.\n",
            "  and should_run_async(code)\n"
          ]
        }
      ]
    },
    {
      "cell_type": "code",
      "source": [
        "import matplotlib.pyplot as plt\n",
        "import seaborn as sns"
      ],
      "metadata": {
        "colab": {
          "base_uri": "https://localhost:8080/"
        },
        "id": "2-KgJfdSnrIJ",
        "outputId": "8e68b894-7b5d-4629-a8f7-92f162826f99"
      },
      "execution_count": 162,
      "outputs": [
        {
          "output_type": "stream",
          "name": "stderr",
          "text": [
            "/usr/local/lib/python3.10/dist-packages/ipykernel/ipkernel.py:283: DeprecationWarning: `should_run_async` will not call `transform_cell` automatically in the future. Please pass the result to `transformed_cell` argument and any exception that happen during thetransform in `preprocessing_exc_tuple` in IPython 7.17 and above.\n",
            "  and should_run_async(code)\n"
          ]
        }
      ]
    },
    {
      "cell_type": "code",
      "source": [
        "plt.figure(figsize=(10, 6))\n",
        "sns.barplot(data=comparison_df, x='Algorithm', y='Frequent Itemsets Count')\n",
        "plt.title('Comparison of Frequent Itemsets Count')\n",
        "plt.show()"
      ],
      "metadata": {
        "colab": {
          "base_uri": "https://localhost:8080/",
          "height": 619
        },
        "id": "q6bG3Km8ni0p",
        "outputId": "1ee5f063-06e2-4c9d-dd6b-0e9fb73e5884"
      },
      "execution_count": 163,
      "outputs": [
        {
          "output_type": "stream",
          "name": "stderr",
          "text": [
            "/usr/local/lib/python3.10/dist-packages/ipykernel/ipkernel.py:283: DeprecationWarning: `should_run_async` will not call `transform_cell` automatically in the future. Please pass the result to `transformed_cell` argument and any exception that happen during thetransform in `preprocessing_exc_tuple` in IPython 7.17 and above.\n",
            "  and should_run_async(code)\n"
          ]
        },
        {
          "output_type": "display_data",
          "data": {
            "text/plain": [
              "<Figure size 1000x600 with 1 Axes>"
            ],
            "image/png": "[encoded data removed]"
          },
          "metadata": {}
        }
      ]
    },
    {
      "cell_type": "markdown",
      "source": [
        "### Conclusions based on the above dataset:\n",
        "\n",
        "1. **Frequent itemsets count**: The FP-Growth algorithm outperforms the Apriori algorithm in terms of generating frequent itemsets. It produces a smaller number of frequent itemsets, indicating better efficiency and scalability.\n",
        "\n",
        "2. **No. of Association rules**: The Apriori algorithm generates a higher number of association rules compared to the FP-Growth algorithm. This suggests that the Apriori algorithm explores more potential associations between items in the dataset.\n",
        "\n",
        "3. **Avg. antecedent and consequent length**: The Apriori algorithm tends to produce association rules with longer antecedents and consequents compared to the FP-Growth algorithm.\n",
        "---\n",
        "* If efficiency and scalability are crucial, and a smaller number of frequent itemsets is sufficient for analysis, the FP-Growth algorithm is a better choice.\n",
        "* If generating a larger number of association rules and exploring more detailed patterns is a priority, the Apriori algorithm can be preferred.\n",
        "* The choice of algorithm should be based on the specific requirements and constraints of the analysis, such as dataset size, computational resources, and the desired level of granularity in the association rules.\n"
      ],
      "metadata": {
        "id": "Rau5QzHcoEJa"
      }
    },
    {
      "cell_type": "markdown",
      "source": [
        "**Result Interpretation:**\n",
        "\n",
        "\n",
        "---\n",
        "\n",
        "\n",
        "**Apriori Algorithm Results**:\n",
        "* Bread --> Yogurt: Customers who purchase Bread are also likely to purchase Yogurt with a confidence of 50.26%.\n",
        "* Ice cream --> Butter: Customers who purchase Ice cream are also likely to purchase Butter with a confidence of 50.49%.\n",
        "* Dill --> Chocolate: Customers who purchase Dill are also likely to purchase Chocolate with a confidence of 50%.\n",
        "* Milk --> Chocolate: Customers who purchase Milk are also likely to purchase Chocolate with a confidence of 52.1%.\n",
        "* Chocolate --> Milk: Customers who purchase Chocolate are also likely to purchase Milk with a confidence of 50.12%.\n",
        "\n",
        "\n",
        "\n",
        "---\n",
        "\n",
        "**FP-Growth Algorithm Results**:\n",
        "* Ice cream, Butter --> Chocolate: Customers who purchase Ice cream and Butter are also likely to purchase Chocolate with a confidence of 52.66%.\n",
        "* Ice cream, Chocolate --> Butter: Customers who purchase Ice cream and Chocolate are also likely to purchase Butter with a confidence of 53.96%.\n",
        "* Butter, Chocolate --> Ice cream: Customers who purchase Butter and Chocolate are also likely to purchase Ice cream with a confidence of 53.96%.\n",
        "* Ice cream, Butter --> Sugar: Customers who purchase Ice cream and Butter are also likely to purchase Sugar with a confidence of 51.21%.\n",
        "* Dill, Unicorn --> Chocolate: Customers who purchase Dill and Unicorn are also likely to purchase Chocolate with a confidence of 60.12%."
      ],
      "metadata": {
        "id": "1nNSYv3jpvlC"
      }
    },
    {
      "cell_type": "markdown",
      "source": [
        "### Neural Collaborative Filtering algorithm"
      ],
      "metadata": {
        "id": "8Wr8kXeCqap5"
      }
    },
    {
      "cell_type": "code",
      "source": [
        "import numpy as np\n",
        "import tensorflow as tf\n",
        "from tensorflow.keras.models import Model\n",
        "from tensorflow.keras.layers import Input, Embedding, Concatenate, Flatten, Dense, Dropout\n",
        "from tensorflow.keras.optimizers import Adam"
      ],
      "metadata": {
        "colab": {
          "base_uri": "https://localhost:8080/"
        },
        "id": "nTWKcgGNqf7C",
        "outputId": "14bd900d-69a8-47ca-a004-eaa011fb98ba"
      },
      "execution_count": 164,
      "outputs": [
        {
          "output_type": "stream",
          "name": "stderr",
          "text": [
            "/usr/local/lib/python3.10/dist-packages/ipykernel/ipkernel.py:283: DeprecationWarning: `should_run_async` will not call `transform_cell` automatically in the future. Please pass the result to `transformed_cell` argument and any exception that happen during thetransform in `preprocessing_exc_tuple` in IPython 7.17 and above.\n",
            "  and should_run_async(code)\n"
          ]
        }
      ]
    },
    {
      "cell_type": "code",
      "source": [
        "def prepare_data_for_ncf(df):\n",
        "    num_items = len(df.columns) - 1\n",
        "    interactions = []\n",
        "    for _, row in df.iterrows():\n",
        "        user_items = np.where(row.iloc[1:].values)[0].tolist()\n",
        "        interactions.append(user_items)\n",
        "    return interactions"
      ],
      "metadata": {
        "colab": {
          "base_uri": "https://localhost:8080/"
        },
        "id": "SL_BU0Efqker",
        "outputId": "052a0066-2f6c-4eb1-df8e-da36e8c77da0"
      },
      "execution_count": 165,
      "outputs": [
        {
          "output_type": "stream",
          "name": "stderr",
          "text": [
            "/usr/local/lib/python3.10/dist-packages/ipykernel/ipkernel.py:283: DeprecationWarning: `should_run_async` will not call `transform_cell` automatically in the future. Please pass the result to `transformed_cell` argument and any exception that happen during thetransform in `preprocessing_exc_tuple` in IPython 7.17 and above.\n",
            "  and should_run_async(code)\n"
          ]
        }
      ]
    },
    {
      "cell_type": "code",
      "source": [
        "# Convert interactions to one-hot encoded vectors\n",
        "def one_hot_encode(interactions, num_items):\n",
        "    encoded_interactions = np.zeros((len(interactions), num_items))\n",
        "    for i, user_items in enumerate(interactions):\n",
        "        for item_index in user_items:\n",
        "            encoded_interactions[i, item_index] = 1\n",
        "    return encoded_interactions"
      ],
      "metadata": {
        "colab": {
          "base_uri": "https://localhost:8080/"
        },
        "id": "oBNHLDmrqoC7",
        "outputId": "fac90f0b-a5c9-42ed-b5c6-6ead2045a731"
      },
      "execution_count": 166,
      "outputs": [
        {
          "output_type": "stream",
          "name": "stderr",
          "text": [
            "/usr/local/lib/python3.10/dist-packages/ipykernel/ipkernel.py:283: DeprecationWarning: `should_run_async` will not call `transform_cell` automatically in the future. Please pass the result to `transformed_cell` argument and any exception that happen during thetransform in `preprocessing_exc_tuple` in IPython 7.17 and above.\n",
            "  and should_run_async(code)\n"
          ]
        }
      ]
    },
    {
      "cell_type": "code",
      "source": [
        "# Prepare the data\n",
        "interactions = prepare_data_for_ncf(df)\n",
        "num_items = len(df.columns) - 1\n",
        "encoded_interactions = one_hot_encode(interactions, num_items)"
      ],
      "metadata": {
        "colab": {
          "base_uri": "https://localhost:8080/"
        },
        "id": "7qk7Yfukqpwa",
        "outputId": "ab981921-6094-4bf0-f1eb-a4162e69a467"
      },
      "execution_count": 167,
      "outputs": [
        {
          "output_type": "stream",
          "name": "stderr",
          "text": [
            "/usr/local/lib/python3.10/dist-packages/ipykernel/ipkernel.py:283: DeprecationWarning: `should_run_async` will not call `transform_cell` automatically in the future. Please pass the result to `transformed_cell` argument and any exception that happen during thetransform in `preprocessing_exc_tuple` in IPython 7.17 and above.\n",
            "  and should_run_async(code)\n"
          ]
        }
      ]
    },
    {
      "cell_type": "code",
      "source": [
        "# Create train and test splits\n",
        "split_ratio = 0.8\n",
        "split_index = int(split_ratio * len(encoded_interactions))\n",
        "X_train, X_test = encoded_interactions[:split_index], encoded_interactions[split_index:]"
      ],
      "metadata": {
        "colab": {
          "base_uri": "https://localhost:8080/"
        },
        "id": "W5geKMhetBr6",
        "outputId": "f830c949-6ce3-4cdc-9e1b-0b85ed1ba75e"
      },
      "execution_count": 168,
      "outputs": [
        {
          "output_type": "stream",
          "name": "stderr",
          "text": [
            "/usr/local/lib/python3.10/dist-packages/ipykernel/ipkernel.py:283: DeprecationWarning: `should_run_async` will not call `transform_cell` automatically in the future. Please pass the result to `transformed_cell` argument and any exception that happen during thetransform in `preprocessing_exc_tuple` in IPython 7.17 and above.\n",
            "  and should_run_async(code)\n"
          ]
        }
      ]
    },
    {
      "cell_type": "code",
      "source": [
        "# Build the NCF model\n",
        "def build_ncf_model(num_users, num_items, embedding_dim=50, dense_dim=64):\n",
        "    user_input = Input(shape=(num_items,), name='user_input')\n",
        "    item_input = Input(shape=(num_items,), name='item_input')\n",
        "\n",
        "    user_embedding = Embedding(input_dim=num_users, output_dim=embedding_dim, name='user_embedding')(user_input)\n",
        "    item_embedding = Embedding(input_dim=num_items, output_dim=embedding_dim, name='item_embedding')(item_input)\n",
        "\n",
        "    user_flatten = Flatten()(user_embedding)\n",
        "    item_flatten = Flatten()(item_embedding)\n",
        "\n",
        "    concat = Concatenate()([user_flatten, item_flatten])\n",
        "    dropout = Dropout(0.2)(concat)\n",
        "    dense1 = Dense(dense_dim, activation='relu')(dropout)\n",
        "    dense2 = Dense(dense_dim, activation='relu')(dense1)\n",
        "    output = Dense(num_items, activation='softmax')(dense2)\n",
        "\n",
        "    model = Model(inputs=[user_input, item_input], outputs=output)\n",
        "    return model"
      ],
      "metadata": {
        "colab": {
          "base_uri": "https://localhost:8080/"
        },
        "id": "OqU8nBF-tk7z",
        "outputId": "e817f522-a0f8-4f78-b3a6-6e8fb6275ea8"
      },
      "execution_count": 169,
      "outputs": [
        {
          "output_type": "stream",
          "name": "stderr",
          "text": [
            "/usr/local/lib/python3.10/dist-packages/ipykernel/ipkernel.py:283: DeprecationWarning: `should_run_async` will not call `transform_cell` automatically in the future. Please pass the result to `transformed_cell` argument and any exception that happen during thetransform in `preprocessing_exc_tuple` in IPython 7.17 and above.\n",
            "  and should_run_async(code)\n"
          ]
        }
      ]
    },
    {
      "cell_type": "code",
      "source": [
        "# Create and compile the model\n",
        "model = build_ncf_model(len(df), num_items)\n",
        "model.compile(loss='categorical_crossentropy', optimizer=Adam(lr=0.001), metrics=['accuracy'])"
      ],
      "metadata": {
        "colab": {
          "base_uri": "https://localhost:8080/"
        },
        "id": "Q7SlfuO5tnLb",
        "outputId": "de63d579-fa98-4ec4-fa0d-b4c014484750"
      },
      "execution_count": 170,
      "outputs": [
        {
          "output_type": "stream",
          "name": "stderr",
          "text": [
            "/usr/local/lib/python3.10/dist-packages/ipykernel/ipkernel.py:283: DeprecationWarning: `should_run_async` will not call `transform_cell` automatically in the future. Please pass the result to `transformed_cell` argument and any exception that happen during thetransform in `preprocessing_exc_tuple` in IPython 7.17 and above.\n",
            "  and should_run_async(code)\n",
            "WARNING:absl:`lr` is deprecated in Keras optimizer, please use `learning_rate` or use the legacy optimizer, e.g.,tf.keras.optimizers.legacy.Adam.\n"
          ]
        }
      ]
    },
    {
      "cell_type": "code",
      "source": [
        "# Train the model\n",
        "num_epochs = 10\n",
        "batch_size = 32\n",
        "history = model.fit([X_train, X_train], X_train, epochs=num_epochs, batch_size=batch_size, validation_split=0.2)"
      ],
      "metadata": {
        "colab": {
          "base_uri": "https://localhost:8080/"
        },
        "id": "TkuKVfqGtpWK",
        "outputId": "1241562f-c5e0-4e0a-9237-f31ba38dedce"
      },
      "execution_count": 171,
      "outputs": [
        {
          "output_type": "stream",
          "name": "stderr",
          "text": [
            "/usr/local/lib/python3.10/dist-packages/ipykernel/ipkernel.py:283: DeprecationWarning: `should_run_async` will not call `transform_cell` automatically in the future. Please pass the result to `transformed_cell` argument and any exception that happen during thetransform in `preprocessing_exc_tuple` in IPython 7.17 and above.\n",
            "  and should_run_async(code)\n"
          ]
        },
        {
          "output_type": "stream",
          "name": "stdout",
          "text": [
            "Epoch 1/10\n",
            "20/20 [==============================] - 2s 23ms/step - loss: 16.3622 - accuracy: 0.2848 - val_loss: 16.6405 - val_accuracy: 0.2438\n",
            "Epoch 2/10\n",
            "20/20 [==============================] - 0s 11ms/step - loss: 25.0943 - accuracy: 0.0939 - val_loss: 39.8251 - val_accuracy: 0.0437\n",
            "Epoch 3/10\n",
            "20/20 [==============================] - 0s 12ms/step - loss: 77.7890 - accuracy: 0.0626 - val_loss: 133.6495 - val_accuracy: 0.0437\n",
            "Epoch 4/10\n",
            "20/20 [==============================] - 0s 12ms/step - loss: 236.5514 - accuracy: 0.0689 - val_loss: 361.2330 - val_accuracy: 0.0625\n",
            "Epoch 5/10\n",
            "20/20 [==============================] - 0s 12ms/step - loss: 568.4529 - accuracy: 0.1142 - val_loss: 799.6180 - val_accuracy: 0.0188\n",
            "Epoch 6/10\n",
            "20/20 [==============================] - 0s 11ms/step - loss: 1109.0319 - accuracy: 0.1174 - val_loss: 1346.8563 - val_accuracy: 0.0375\n",
            "Epoch 7/10\n",
            "20/20 [==============================] - 0s 13ms/step - loss: 1322.5549 - accuracy: 0.0939 - val_loss: 1224.1569 - val_accuracy: 0.0000e+00\n",
            "Epoch 8/10\n",
            "20/20 [==============================] - 0s 15ms/step - loss: 1304.6342 - accuracy: 0.0642 - val_loss: 1279.2771 - val_accuracy: 0.0000e+00\n",
            "Epoch 9/10\n",
            "20/20 [==============================] - 1s 27ms/step - loss: 1349.0166 - accuracy: 0.0548 - val_loss: 1227.0740 - val_accuracy: 0.0375\n",
            "Epoch 10/10\n",
            "20/20 [==============================] - 0s 23ms/step - loss: 1428.3748 - accuracy: 0.0767 - val_loss: 1395.0621 - val_accuracy: 0.0188\n"
          ]
        }
      ]
    },
    {
      "cell_type": "code",
      "source": [
        "# Make recommendations for users\n",
        "def make_recommendations(user_index, model, num_items):\n",
        "    user_vector = np.zeros((1, num_items))  # Reshape the user vector to (1, num_items)\n",
        "    user_vector[0, user_index] = 1\n",
        "    predictions = model.predict([user_vector, user_vector])  # Pass the user vector as a list\n",
        "    recommended_items_indices = predictions.argsort()[0][::-1][:5]\n",
        "    recommended_items = df.columns[1:][recommended_items_indices].tolist()\n",
        "    return recommended_items"
      ],
      "metadata": {
        "colab": {
          "base_uri": "https://localhost:8080/"
        },
        "id": "hllrGQ-CtrgS",
        "outputId": "b6a4f1d9-e581-47eb-9207-baa3810598f9"
      },
      "execution_count": 194,
      "outputs": [
        {
          "output_type": "stream",
          "name": "stderr",
          "text": [
            "/usr/local/lib/python3.10/dist-packages/ipykernel/ipkernel.py:283: DeprecationWarning: `should_run_async` will not call `transform_cell` automatically in the future. Please pass the result to `transformed_cell` argument and any exception that happen during thetransform in `preprocessing_exc_tuple` in IPython 7.17 and above.\n",
            "  and should_run_async(code)\n"
          ]
        }
      ]
    },
    {
      "cell_type": "code",
      "source": [
        "# Test the model\n",
        "user_index_to_test = 0\n",
        "recommendations = make_recommendations(user_index_to_test, model, num_items)\n",
        "print(f\"Top 5 recommendations for user {user_index_to_test}: {recommendations}\")"
      ],
      "metadata": {
        "colab": {
          "base_uri": "https://localhost:8080/"
        },
        "id": "xwUxhxcYtuRi",
        "outputId": "9b7a24c3-e4d4-4867-da6a-f1071f4dc857"
      },
      "execution_count": 195,
      "outputs": [
        {
          "output_type": "stream",
          "name": "stdout",
          "text": [
            "1/1 [==============================] - 0s 52ms/step\n",
            "Top 5 recommendations for user 0: ['Kidney Beans', 'Cheese', 'Sugar', 'Milk', 'Unicorn']\n"
          ]
        },
        {
          "output_type": "stream",
          "name": "stderr",
          "text": [
            "/usr/local/lib/python3.10/dist-packages/ipykernel/ipkernel.py:283: DeprecationWarning: `should_run_async` will not call `transform_cell` automatically in the future. Please pass the result to `transformed_cell` argument and any exception that happen during thetransform in `preprocessing_exc_tuple` in IPython 7.17 and above.\n",
            "  and should_run_async(code)\n"
          ]
        }
      ]
    },
    {
      "cell_type": "markdown",
      "source": [
        "### Highlights and interpretation based on above results"
      ],
      "metadata": {
        "id": "M_DRmJvVHKxV"
      }
    },
    {
      "cell_type": "markdown",
      "source": [
        "* User 0 Recommendations: For User 0, the model has provided the top 5 recommended items based on their previous interactions with items. The recommendations are ['Kidney Beans', 'Cheese', 'Sugar', 'Milk', 'Unicorn'].\n",
        "\n",
        "* Interpreting the Recommendations: The model's recommendations are based on the user's interactions with items. The items that the user has previously interacted with (e.g., purchased, viewed, etc.) are used to make predictions for items the user might be interested in. The model then ranks items based on the predicted likelihood of the user interacting with them.\n",
        "\n",
        "* Item Names: The item names 'Kidney Beans', 'Cheese', 'Sugar', 'Milk', and 'Unicorn' correspond to the items represented by the indices in the DataFrame. It is essential to have a mapping between item indices and item names to interpret the results correctly.\n",
        "\n",
        "* Confidence Level: The model's predictions are based on a binary classification (market basket analysis) where the output is a probability score between 0 and 1. In your case, the threshold used to determine whether an item is recommended or not seems to be set to 0.5. Items with a prediction probability greater than 0.5 are considered recommended.\n"
      ],
      "metadata": {
        "id": "0U9iv0jbHOVX"
      }
    }
  ]
}