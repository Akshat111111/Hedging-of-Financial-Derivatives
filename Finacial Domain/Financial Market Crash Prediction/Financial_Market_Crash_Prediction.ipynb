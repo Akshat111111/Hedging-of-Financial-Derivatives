{
  "nbformat": 4,
  "nbformat_minor": 0,
  "metadata": {
    "colab": {
      "provenance": []
    },
    "kernelspec": {
      "name": "python3",
      "display_name": "Python 3"
    },
    "language_info": {
      "name": "python"
    }
  },
  "cells": [
    {
      "cell_type": "code",
      "source": [
        "import numpy as np\n",
        "import pandas as pd\n",
        "import matplotlib.pyplot as plt\n",
        "import seaborn as sns\n",
        "from sklearn.preprocessing import MinMaxScaler\n",
        "from sklearn.model_selection import train_test_split\n",
        "from tensorflow.keras.models import Sequential\n",
        "from tensorflow.keras.layers import Dense, LSTM, GRU\n",
        "from tensorflow.keras.optimizers import Adam\n",
        "\n",
        "# Load dataset\n",
        "data = pd.read_csv('financial_market_crash_data.csv', parse_dates=['Date'])"
      ],
      "metadata": {
        "id": "5cSXjCR0S3Ir"
      },
      "execution_count": 2,
      "outputs": []
    },
    {
      "cell_type": "code",
      "source": [
        "# EDA\n",
        "sns.pairplot(data)\n",
        "plt.savefig('eda_pairplot.png')\n",
        "plt.close()"
      ],
      "metadata": {
        "id": "cxW07g2US3vC"
      },
      "execution_count": 6,
      "outputs": []
    },
    {
      "cell_type": "code",
      "source": [
        "plt.figure(figsize=(12, 6))\n",
        "sns.heatmap(data.corr(), annot=True, cmap='coolwarm')\n",
        "plt.savefig('eda_correlation.png')\n",
        "plt.close()"
      ],
      "metadata": {
        "id": "VXeifg-KS8Sa"
      },
      "execution_count": 7,
      "outputs": []
    },
    {
      "cell_type": "code",
      "source": [
        "# Scale data\n",
        "scaler = MinMaxScaler()\n",
        "data_scaled = scaler.fit_transform(data.drop(['Date', 'Market_Crash'], axis=1))\n",
        "\n",
        "# Prepare data for training\n",
        "X = data_scaled\n",
        "y = data['Market_Crash'].values\n",
        "\n",
        "# Split data into training and test sets\n",
        "X_train, X_test, y_train, y_test = train_test_split(X, y, test_size=0.2, random_state=42)\n"
      ],
      "metadata": {
        "id": "2D76i16bS9wy"
      },
      "execution_count": 3,
      "outputs": []
    },
    {
      "cell_type": "code",
      "source": [
        "# LSTM\n",
        "model_lstm = Sequential([\n",
        "    LSTM(50, return_sequences=True, input_shape=(X_train.shape[1], 1)),\n",
        "    LSTM(50),\n",
        "    Dense(1, activation='sigmoid')\n",
        "])\n",
        "model_lstm.compile(optimizer=Adam(learning_rate=0.001), loss='binary_crossentropy', metrics=['accuracy'])\n",
        "model_lstm.fit(X_train.reshape(-1, X_train.shape[1], 1), y_train, epochs=50, batch_size=32, validation_split=0.2)"
      ],
      "metadata": {
        "colab": {
          "base_uri": "https://localhost:8080/"
        },
        "id": "tAYrXTYTTAhr",
        "outputId": "a9696e79-c540-485c-9ddc-060549cec277"
      },
      "execution_count": 4,
      "outputs": [
        {
          "output_type": "stream",
          "name": "stdout",
          "text": [
            "Epoch 1/50\n",
            "20/20 [==============================] - 5s 65ms/step - loss: 0.6237 - accuracy: 0.7891 - val_loss: 0.4828 - val_accuracy: 0.9000\n",
            "Epoch 2/50\n",
            "20/20 [==============================] - 0s 10ms/step - loss: 0.4415 - accuracy: 0.8469 - val_loss: 0.2915 - val_accuracy: 0.9000\n",
            "Epoch 3/50\n",
            "20/20 [==============================] - 0s 10ms/step - loss: 0.4108 - accuracy: 0.8469 - val_loss: 0.3182 - val_accuracy: 0.9000\n",
            "Epoch 4/50\n",
            "20/20 [==============================] - 0s 15ms/step - loss: 0.4026 - accuracy: 0.8469 - val_loss: 0.2963 - val_accuracy: 0.9000\n",
            "Epoch 5/50\n",
            "20/20 [==============================] - 0s 18ms/step - loss: 0.3978 - accuracy: 0.8469 - val_loss: 0.3012 - val_accuracy: 0.9000\n",
            "Epoch 6/50\n",
            "20/20 [==============================] - 0s 17ms/step - loss: 0.3967 - accuracy: 0.8469 - val_loss: 0.2840 - val_accuracy: 0.9000\n",
            "Epoch 7/50\n",
            "20/20 [==============================] - 0s 19ms/step - loss: 0.3880 - accuracy: 0.8469 - val_loss: 0.2830 - val_accuracy: 0.9000\n",
            "Epoch 8/50\n",
            "20/20 [==============================] - 0s 17ms/step - loss: 0.3841 - accuracy: 0.8469 - val_loss: 0.2669 - val_accuracy: 0.9000\n",
            "Epoch 9/50\n",
            "20/20 [==============================] - 0s 17ms/step - loss: 0.3796 - accuracy: 0.8469 - val_loss: 0.2457 - val_accuracy: 0.9000\n",
            "Epoch 10/50\n",
            "20/20 [==============================] - 0s 17ms/step - loss: 0.3631 - accuracy: 0.8469 - val_loss: 0.2568 - val_accuracy: 0.9000\n",
            "Epoch 11/50\n",
            "20/20 [==============================] - 0s 16ms/step - loss: 0.3495 - accuracy: 0.8500 - val_loss: 0.2437 - val_accuracy: 0.8938\n",
            "Epoch 12/50\n",
            "20/20 [==============================] - 0s 18ms/step - loss: 0.3423 - accuracy: 0.8641 - val_loss: 0.1995 - val_accuracy: 0.9000\n",
            "Epoch 13/50\n",
            "20/20 [==============================] - 0s 20ms/step - loss: 0.3294 - accuracy: 0.8656 - val_loss: 0.1873 - val_accuracy: 0.9125\n",
            "Epoch 14/50\n",
            "20/20 [==============================] - 0s 11ms/step - loss: 0.3165 - accuracy: 0.8766 - val_loss: 0.2010 - val_accuracy: 0.9125\n",
            "Epoch 15/50\n",
            "20/20 [==============================] - 0s 10ms/step - loss: 0.2998 - accuracy: 0.8703 - val_loss: 0.1813 - val_accuracy: 0.9187\n",
            "Epoch 16/50\n",
            "20/20 [==============================] - 0s 10ms/step - loss: 0.2932 - accuracy: 0.8625 - val_loss: 0.1703 - val_accuracy: 0.9187\n",
            "Epoch 17/50\n",
            "20/20 [==============================] - 0s 12ms/step - loss: 0.2830 - accuracy: 0.8844 - val_loss: 0.1816 - val_accuracy: 0.9125\n",
            "Epoch 18/50\n",
            "20/20 [==============================] - 0s 10ms/step - loss: 0.2711 - accuracy: 0.8797 - val_loss: 0.2010 - val_accuracy: 0.9000\n",
            "Epoch 19/50\n",
            "20/20 [==============================] - 0s 10ms/step - loss: 0.2525 - accuracy: 0.8797 - val_loss: 0.1513 - val_accuracy: 0.9312\n",
            "Epoch 20/50\n",
            "20/20 [==============================] - 0s 10ms/step - loss: 0.2530 - accuracy: 0.8875 - val_loss: 0.1348 - val_accuracy: 0.9250\n",
            "Epoch 21/50\n",
            "20/20 [==============================] - 0s 10ms/step - loss: 0.2402 - accuracy: 0.8797 - val_loss: 0.1397 - val_accuracy: 0.9438\n",
            "Epoch 22/50\n",
            "20/20 [==============================] - 0s 13ms/step - loss: 0.2334 - accuracy: 0.8984 - val_loss: 0.2059 - val_accuracy: 0.9062\n",
            "Epoch 23/50\n",
            "20/20 [==============================] - 0s 10ms/step - loss: 0.2363 - accuracy: 0.9016 - val_loss: 0.2347 - val_accuracy: 0.8750\n",
            "Epoch 24/50\n",
            "20/20 [==============================] - 0s 10ms/step - loss: 0.2251 - accuracy: 0.8938 - val_loss: 0.1306 - val_accuracy: 0.9500\n",
            "Epoch 25/50\n",
            "20/20 [==============================] - 0s 10ms/step - loss: 0.1949 - accuracy: 0.9031 - val_loss: 0.1271 - val_accuracy: 0.9500\n",
            "Epoch 26/50\n",
            "20/20 [==============================] - 0s 12ms/step - loss: 0.1721 - accuracy: 0.9187 - val_loss: 0.1921 - val_accuracy: 0.9000\n",
            "Epoch 27/50\n",
            "20/20 [==============================] - 0s 10ms/step - loss: 0.1736 - accuracy: 0.9156 - val_loss: 0.1470 - val_accuracy: 0.9125\n",
            "Epoch 28/50\n",
            "20/20 [==============================] - 0s 9ms/step - loss: 0.1698 - accuracy: 0.9234 - val_loss: 0.1313 - val_accuracy: 0.9438\n",
            "Epoch 29/50\n",
            "20/20 [==============================] - 0s 10ms/step - loss: 0.1490 - accuracy: 0.9375 - val_loss: 0.1148 - val_accuracy: 0.9438\n",
            "Epoch 30/50\n",
            "20/20 [==============================] - 0s 9ms/step - loss: 0.1211 - accuracy: 0.9453 - val_loss: 0.1089 - val_accuracy: 0.9563\n",
            "Epoch 31/50\n",
            "20/20 [==============================] - 0s 11ms/step - loss: 0.0999 - accuracy: 0.9578 - val_loss: 0.0600 - val_accuracy: 0.9688\n",
            "Epoch 32/50\n",
            "20/20 [==============================] - 0s 11ms/step - loss: 0.0972 - accuracy: 0.9547 - val_loss: 0.0615 - val_accuracy: 0.9750\n",
            "Epoch 33/50\n",
            "20/20 [==============================] - 0s 10ms/step - loss: 0.0884 - accuracy: 0.9672 - val_loss: 0.0542 - val_accuracy: 0.9812\n",
            "Epoch 34/50\n",
            "20/20 [==============================] - 0s 10ms/step - loss: 0.0851 - accuracy: 0.9641 - val_loss: 0.0425 - val_accuracy: 0.9812\n",
            "Epoch 35/50\n",
            "20/20 [==============================] - 0s 9ms/step - loss: 0.0831 - accuracy: 0.9625 - val_loss: 0.0353 - val_accuracy: 0.9812\n",
            "Epoch 36/50\n",
            "20/20 [==============================] - 0s 12ms/step - loss: 0.0759 - accuracy: 0.9656 - val_loss: 0.0345 - val_accuracy: 0.9812\n",
            "Epoch 37/50\n",
            "20/20 [==============================] - 0s 10ms/step - loss: 0.0642 - accuracy: 0.9703 - val_loss: 0.0335 - val_accuracy: 0.9812\n",
            "Epoch 38/50\n",
            "20/20 [==============================] - 0s 9ms/step - loss: 0.0801 - accuracy: 0.9656 - val_loss: 0.0288 - val_accuracy: 1.0000\n",
            "Epoch 39/50\n",
            "20/20 [==============================] - 0s 11ms/step - loss: 0.0794 - accuracy: 0.9641 - val_loss: 0.0680 - val_accuracy: 0.9750\n",
            "Epoch 40/50\n",
            "20/20 [==============================] - 0s 10ms/step - loss: 0.2460 - accuracy: 0.9156 - val_loss: 0.2584 - val_accuracy: 0.8938\n",
            "Epoch 41/50\n",
            "20/20 [==============================] - 0s 12ms/step - loss: 0.1265 - accuracy: 0.9422 - val_loss: 0.1261 - val_accuracy: 0.9375\n",
            "Epoch 42/50\n",
            "20/20 [==============================] - 0s 10ms/step - loss: 0.0823 - accuracy: 0.9641 - val_loss: 0.0384 - val_accuracy: 1.0000\n",
            "Epoch 43/50\n",
            "20/20 [==============================] - 0s 16ms/step - loss: 0.0637 - accuracy: 0.9734 - val_loss: 0.0752 - val_accuracy: 0.9625\n",
            "Epoch 44/50\n",
            "20/20 [==============================] - 0s 19ms/step - loss: 0.0748 - accuracy: 0.9734 - val_loss: 0.0303 - val_accuracy: 0.9937\n",
            "Epoch 45/50\n",
            "20/20 [==============================] - 0s 10ms/step - loss: 0.0658 - accuracy: 0.9688 - val_loss: 0.0602 - val_accuracy: 0.9688\n",
            "Epoch 46/50\n",
            "20/20 [==============================] - 0s 11ms/step - loss: 0.0852 - accuracy: 0.9625 - val_loss: 0.0287 - val_accuracy: 0.9812\n",
            "Epoch 47/50\n",
            "20/20 [==============================] - 0s 18ms/step - loss: 0.1177 - accuracy: 0.9469 - val_loss: 0.0277 - val_accuracy: 0.9937\n",
            "Epoch 48/50\n",
            "20/20 [==============================] - 1s 26ms/step - loss: 0.0578 - accuracy: 0.9781 - val_loss: 0.0501 - val_accuracy: 0.9812\n",
            "Epoch 49/50\n",
            "20/20 [==============================] - 0s 22ms/step - loss: 0.0561 - accuracy: 0.9750 - val_loss: 0.0334 - val_accuracy: 0.9812\n",
            "Epoch 50/50\n",
            "20/20 [==============================] - 1s 26ms/step - loss: 0.0745 - accuracy: 0.9703 - val_loss: 0.0967 - val_accuracy: 0.9500\n"
          ]
        },
        {
          "output_type": "execute_result",
          "data": {
            "text/plain": [
              "<keras.src.callbacks.History at 0x7c3421e66bf0>"
            ]
          },
          "metadata": {},
          "execution_count": 4
        }
      ]
    },
    {
      "cell_type": "code",
      "source": [],
      "metadata": {
        "id": "GFjVOQPvTAeR"
      },
      "execution_count": null,
      "outputs": []
    },
    {
      "cell_type": "code",
      "source": [
        "# GRU\n",
        "model_gru = Sequential([\n",
        "    GRU(50, return_sequences=True, input_shape=(X_train.shape[1], 1)),\n",
        "    GRU(50),\n",
        "    Dense(1, activation='sigmoid')\n",
        "])\n",
        "model_gru.compile(optimizer=Adam(learning_rate=0.001), loss='binary_crossentropy', metrics=['accuracy'])\n",
        "model_gru.fit(X_train.reshape(-1, X_train.shape[1], 1), y_train, epochs=50, batch_size=32, validation_split=0.2)\n",
        "\n",
        "# Evaluate models\n",
        "loss_lstm, accuracy_lstm = model_lstm.evaluate(X_test.reshape(-1, X_test.shape[1], 1), y_test)\n",
        "loss_gru, accuracy_gru = model_gru.evaluate(X_test.reshape(-1, X_test.shape[1], 1), y_test)\n",
        "\n",
        "print(f'LSTM - Loss: {loss_lstm}, Accuracy: {accuracy_lstm}')\n",
        "print(f'GRU - Loss: {loss_gru}, Accuracy: {accuracy_gru}')"
      ],
      "metadata": {
        "colab": {
          "base_uri": "https://localhost:8080/"
        },
        "id": "zk_RawDmTJRp",
        "outputId": "ed694669-aee0-44e4-b3ba-58ba46ae3000"
      },
      "execution_count": 5,
      "outputs": [
        {
          "output_type": "stream",
          "name": "stdout",
          "text": [
            "Epoch 1/50\n",
            "20/20 [==============================] - 6s 63ms/step - loss: 0.5564 - accuracy: 0.8094 - val_loss: 0.3503 - val_accuracy: 0.9000\n",
            "Epoch 2/50\n",
            "20/20 [==============================] - 0s 10ms/step - loss: 0.4234 - accuracy: 0.8469 - val_loss: 0.3223 - val_accuracy: 0.9000\n",
            "Epoch 3/50\n",
            "20/20 [==============================] - 0s 9ms/step - loss: 0.4165 - accuracy: 0.8469 - val_loss: 0.3207 - val_accuracy: 0.9000\n",
            "Epoch 4/50\n",
            "20/20 [==============================] - 0s 9ms/step - loss: 0.4139 - accuracy: 0.8469 - val_loss: 0.3183 - val_accuracy: 0.9000\n",
            "Epoch 5/50\n",
            "20/20 [==============================] - 0s 10ms/step - loss: 0.4101 - accuracy: 0.8469 - val_loss: 0.3210 - val_accuracy: 0.9000\n",
            "Epoch 6/50\n",
            "20/20 [==============================] - 0s 10ms/step - loss: 0.4097 - accuracy: 0.8469 - val_loss: 0.2990 - val_accuracy: 0.9000\n",
            "Epoch 7/50\n",
            "20/20 [==============================] - 0s 12ms/step - loss: 0.4061 - accuracy: 0.8469 - val_loss: 0.3274 - val_accuracy: 0.9000\n",
            "Epoch 8/50\n",
            "20/20 [==============================] - 0s 9ms/step - loss: 0.4022 - accuracy: 0.8469 - val_loss: 0.3001 - val_accuracy: 0.9000\n",
            "Epoch 9/50\n",
            "20/20 [==============================] - 0s 10ms/step - loss: 0.3895 - accuracy: 0.8469 - val_loss: 0.2795 - val_accuracy: 0.9000\n",
            "Epoch 10/50\n",
            "20/20 [==============================] - 0s 9ms/step - loss: 0.3821 - accuracy: 0.8500 - val_loss: 0.3143 - val_accuracy: 0.8687\n",
            "Epoch 11/50\n",
            "20/20 [==============================] - 0s 11ms/step - loss: 0.3607 - accuracy: 0.8531 - val_loss: 0.2266 - val_accuracy: 0.8875\n",
            "Epoch 12/50\n",
            "20/20 [==============================] - 0s 10ms/step - loss: 0.3449 - accuracy: 0.8641 - val_loss: 0.2330 - val_accuracy: 0.9000\n",
            "Epoch 13/50\n",
            "20/20 [==============================] - 0s 9ms/step - loss: 0.3288 - accuracy: 0.8578 - val_loss: 0.2310 - val_accuracy: 0.8938\n",
            "Epoch 14/50\n",
            "20/20 [==============================] - 0s 9ms/step - loss: 0.3078 - accuracy: 0.8719 - val_loss: 0.2231 - val_accuracy: 0.8875\n",
            "Epoch 15/50\n",
            "20/20 [==============================] - 0s 9ms/step - loss: 0.2895 - accuracy: 0.8750 - val_loss: 0.1657 - val_accuracy: 0.9250\n",
            "Epoch 16/50\n",
            "20/20 [==============================] - 0s 9ms/step - loss: 0.2708 - accuracy: 0.8813 - val_loss: 0.2044 - val_accuracy: 0.9000\n",
            "Epoch 17/50\n",
            "20/20 [==============================] - 0s 11ms/step - loss: 0.2566 - accuracy: 0.8828 - val_loss: 0.1789 - val_accuracy: 0.9000\n",
            "Epoch 18/50\n",
            "20/20 [==============================] - 0s 9ms/step - loss: 0.2481 - accuracy: 0.8859 - val_loss: 0.1924 - val_accuracy: 0.9000\n",
            "Epoch 19/50\n",
            "20/20 [==============================] - 0s 9ms/step - loss: 0.2135 - accuracy: 0.8969 - val_loss: 0.1708 - val_accuracy: 0.9125\n",
            "Epoch 20/50\n",
            "20/20 [==============================] - 0s 10ms/step - loss: 0.2096 - accuracy: 0.9062 - val_loss: 0.1104 - val_accuracy: 0.9563\n",
            "Epoch 21/50\n",
            "20/20 [==============================] - 0s 10ms/step - loss: 0.1844 - accuracy: 0.9078 - val_loss: 0.1352 - val_accuracy: 0.9125\n",
            "Epoch 22/50\n",
            "20/20 [==============================] - 0s 11ms/step - loss: 0.1691 - accuracy: 0.9141 - val_loss: 0.1495 - val_accuracy: 0.9000\n",
            "Epoch 23/50\n",
            "20/20 [==============================] - 0s 9ms/step - loss: 0.1417 - accuracy: 0.9438 - val_loss: 0.0724 - val_accuracy: 0.9812\n",
            "Epoch 24/50\n",
            "20/20 [==============================] - 0s 9ms/step - loss: 0.1358 - accuracy: 0.9516 - val_loss: 0.0767 - val_accuracy: 0.9750\n",
            "Epoch 25/50\n",
            "20/20 [==============================] - 0s 9ms/step - loss: 0.1359 - accuracy: 0.9469 - val_loss: 0.0597 - val_accuracy: 0.9812\n",
            "Epoch 26/50\n",
            "20/20 [==============================] - 0s 9ms/step - loss: 0.1961 - accuracy: 0.9078 - val_loss: 0.1335 - val_accuracy: 0.9125\n",
            "Epoch 27/50\n",
            "20/20 [==============================] - 0s 12ms/step - loss: 0.1435 - accuracy: 0.9344 - val_loss: 0.0604 - val_accuracy: 0.9812\n",
            "Epoch 28/50\n",
            "20/20 [==============================] - 0s 8ms/step - loss: 0.1100 - accuracy: 0.9531 - val_loss: 0.0595 - val_accuracy: 0.9812\n",
            "Epoch 29/50\n",
            "20/20 [==============================] - 0s 9ms/step - loss: 0.1166 - accuracy: 0.9547 - val_loss: 0.0637 - val_accuracy: 0.9875\n",
            "Epoch 30/50\n",
            "20/20 [==============================] - 0s 9ms/step - loss: 0.1048 - accuracy: 0.9547 - val_loss: 0.0836 - val_accuracy: 0.9625\n",
            "Epoch 31/50\n",
            "20/20 [==============================] - 0s 9ms/step - loss: 0.0848 - accuracy: 0.9656 - val_loss: 0.0811 - val_accuracy: 0.9625\n",
            "Epoch 32/50\n",
            "20/20 [==============================] - 0s 11ms/step - loss: 0.0763 - accuracy: 0.9750 - val_loss: 0.0554 - val_accuracy: 0.9875\n",
            "Epoch 33/50\n",
            "20/20 [==============================] - 0s 9ms/step - loss: 0.0689 - accuracy: 0.9719 - val_loss: 0.0856 - val_accuracy: 0.9500\n",
            "Epoch 34/50\n",
            "20/20 [==============================] - 0s 9ms/step - loss: 0.1759 - accuracy: 0.9344 - val_loss: 0.0701 - val_accuracy: 0.9625\n",
            "Epoch 35/50\n",
            "20/20 [==============================] - 0s 9ms/step - loss: 0.1175 - accuracy: 0.9500 - val_loss: 0.0429 - val_accuracy: 0.9812\n",
            "Epoch 36/50\n",
            "20/20 [==============================] - 0s 9ms/step - loss: 0.0813 - accuracy: 0.9719 - val_loss: 0.0522 - val_accuracy: 0.9875\n",
            "Epoch 37/50\n",
            "20/20 [==============================] - 0s 12ms/step - loss: 0.0758 - accuracy: 0.9641 - val_loss: 0.0412 - val_accuracy: 0.9812\n",
            "Epoch 38/50\n",
            "20/20 [==============================] - 0s 9ms/step - loss: 0.0752 - accuracy: 0.9656 - val_loss: 0.1008 - val_accuracy: 0.9500\n",
            "Epoch 39/50\n",
            "20/20 [==============================] - 0s 9ms/step - loss: 0.1031 - accuracy: 0.9563 - val_loss: 0.0346 - val_accuracy: 0.9812\n",
            "Epoch 40/50\n",
            "20/20 [==============================] - 0s 8ms/step - loss: 0.0908 - accuracy: 0.9594 - val_loss: 0.1106 - val_accuracy: 0.9375\n",
            "Epoch 41/50\n",
            "20/20 [==============================] - 0s 9ms/step - loss: 0.0848 - accuracy: 0.9625 - val_loss: 0.0458 - val_accuracy: 0.9937\n",
            "Epoch 42/50\n",
            "20/20 [==============================] - 0s 13ms/step - loss: 0.0691 - accuracy: 0.9688 - val_loss: 0.0394 - val_accuracy: 0.9812\n",
            "Epoch 43/50\n",
            "20/20 [==============================] - 0s 9ms/step - loss: 0.0599 - accuracy: 0.9797 - val_loss: 0.0345 - val_accuracy: 0.9812\n",
            "Epoch 44/50\n",
            "20/20 [==============================] - 0s 9ms/step - loss: 0.0676 - accuracy: 0.9688 - val_loss: 0.0361 - val_accuracy: 0.9937\n",
            "Epoch 45/50\n",
            "20/20 [==============================] - 0s 9ms/step - loss: 0.0511 - accuracy: 0.9781 - val_loss: 0.0590 - val_accuracy: 0.9750\n",
            "Epoch 46/50\n",
            "20/20 [==============================] - 0s 9ms/step - loss: 0.0470 - accuracy: 0.9766 - val_loss: 0.0374 - val_accuracy: 0.9750\n",
            "Epoch 47/50\n",
            "20/20 [==============================] - 0s 14ms/step - loss: 0.0846 - accuracy: 0.9625 - val_loss: 0.0497 - val_accuracy: 0.9812\n",
            "Epoch 48/50\n",
            "20/20 [==============================] - 0s 22ms/step - loss: 0.0668 - accuracy: 0.9719 - val_loss: 0.0339 - val_accuracy: 0.9937\n",
            "Epoch 49/50\n",
            "20/20 [==============================] - 0s 21ms/step - loss: 0.0540 - accuracy: 0.9703 - val_loss: 0.0366 - val_accuracy: 0.9937\n",
            "Epoch 50/50\n",
            "20/20 [==============================] - 0s 24ms/step - loss: 0.0779 - accuracy: 0.9625 - val_loss: 0.0437 - val_accuracy: 0.9750\n",
            "7/7 [==============================] - 1s 4ms/step - loss: 0.0796 - accuracy: 0.9600\n",
            "7/7 [==============================] - 1s 4ms/step - loss: 0.0899 - accuracy: 0.9600\n",
            "LSTM - Loss: 0.07955894619226456, Accuracy: 0.9599999785423279\n",
            "GRU - Loss: 0.08994139730930328, Accuracy: 0.9599999785423279\n"
          ]
        }
      ]
    }
  ]
}