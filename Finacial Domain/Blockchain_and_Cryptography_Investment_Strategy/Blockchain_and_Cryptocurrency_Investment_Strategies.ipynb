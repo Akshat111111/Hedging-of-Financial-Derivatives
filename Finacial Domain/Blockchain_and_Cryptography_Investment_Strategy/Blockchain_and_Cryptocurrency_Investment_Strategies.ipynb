{
  "nbformat": 4,
  "nbformat_minor": 0,
  "metadata": {
    "colab": {
      "provenance": []
    },
    "kernelspec": {
      "name": "python3",
      "display_name": "Python 3"
    },
    "language_info": {
      "name": "python"
    }
  },
  "cells": [
    {
      "cell_type": "code",
      "source": [
        "import pandas as pd\n",
        "\n",
        "# Load the dataset\n",
        "data = pd.read_csv('crypto_investment_data.csv')\n",
        "data['Date'] = pd.to_datetime(data['Date'])\n",
        "\n",
        "# Display the first few rows of the dataset\n",
        "data.head()\n"
      ],
      "metadata": {
        "colab": {
          "base_uri": "https://localhost:8080/",
          "height": 313
        },
        "id": "ru8FIoG7S0P7",
        "outputId": "db3bf1f2-1c4e-4ec8-d6e9-68a7f14245b6"
      },
      "execution_count": 11,
      "outputs": [
        {
          "output_type": "execute_result",
          "data": {
            "text/plain": [
              "        Date          Open          High           Low         Close  \\\n",
              "0 2021-01-01  33745.401188  34671.065833  32436.872770  34436.213165   \n",
              "1 2021-01-02  39507.143064  42216.647801  38272.249069  40693.868653   \n",
              "2 2021-01-03  37319.939418  41684.668597  32788.666516  36321.811013   \n",
              "3 2021-01-04  35986.584842  39647.709274  34738.853843  36486.081240   \n",
              "4 2021-01-05  31560.186404  35592.992144  30200.437774  31847.170337   \n",
              "\n",
              "        Volume    Market_Cap  Sentiment_Score  \n",
              "0  6147.962905  2.117126e+08        -0.212729  \n",
              "1  8248.890964  3.356793e+08        -0.053129  \n",
              "2  7841.448368  2.848156e+08         0.709095  \n",
              "3  2385.099142  8.702292e+07        -0.319991  \n",
              "4  2343.245228  7.462573e+07         0.739299  "
            ],
            "text/html": [
              "\n",
              "  <div id=\"df-9a2c7f51-9dfc-4fb5-9bae-024ccc5702b5\" class=\"colab-df-container\">\n",
              "    <div>\n",
              "<style scoped>\n",
              "    .dataframe tbody tr th:only-of-type {\n",
              "        vertical-align: middle;\n",
              "    }\n",
              "\n",
              "    .dataframe tbody tr th {\n",
              "        vertical-align: top;\n",
              "    }\n",
              "\n",
              "    .dataframe thead th {\n",
              "        text-align: right;\n",
              "    }\n",
              "</style>\n",
              "<table border=\"1\" class=\"dataframe\">\n",
              "  <thead>\n",
              "    <tr style=\"text-align: right;\">\n",
              "      <th></th>\n",
              "      <th>Date</th>\n",
              "      <th>Open</th>\n",
              "      <th>High</th>\n",
              "      <th>Low</th>\n",
              "      <th>Close</th>\n",
              "      <th>Volume</th>\n",
              "      <th>Market_Cap</th>\n",
              "      <th>Sentiment_Score</th>\n",
              "    </tr>\n",
              "  </thead>\n",
              "  <tbody>\n",
              "    <tr>\n",
              "      <th>0</th>\n",
              "      <td>2021-01-01</td>\n",
              "      <td>33745.401188</td>\n",
              "      <td>34671.065833</td>\n",
              "      <td>32436.872770</td>\n",
              "      <td>34436.213165</td>\n",
              "      <td>6147.962905</td>\n",
              "      <td>2.117126e+08</td>\n",
              "      <td>-0.212729</td>\n",
              "    </tr>\n",
              "    <tr>\n",
              "      <th>1</th>\n",
              "      <td>2021-01-02</td>\n",
              "      <td>39507.143064</td>\n",
              "      <td>42216.647801</td>\n",
              "      <td>38272.249069</td>\n",
              "      <td>40693.868653</td>\n",
              "      <td>8248.890964</td>\n",
              "      <td>3.356793e+08</td>\n",
              "      <td>-0.053129</td>\n",
              "    </tr>\n",
              "    <tr>\n",
              "      <th>2</th>\n",
              "      <td>2021-01-03</td>\n",
              "      <td>37319.939418</td>\n",
              "      <td>41684.668597</td>\n",
              "      <td>32788.666516</td>\n",
              "      <td>36321.811013</td>\n",
              "      <td>7841.448368</td>\n",
              "      <td>2.848156e+08</td>\n",
              "      <td>0.709095</td>\n",
              "    </tr>\n",
              "    <tr>\n",
              "      <th>3</th>\n",
              "      <td>2021-01-04</td>\n",
              "      <td>35986.584842</td>\n",
              "      <td>39647.709274</td>\n",
              "      <td>34738.853843</td>\n",
              "      <td>36486.081240</td>\n",
              "      <td>2385.099142</td>\n",
              "      <td>8.702292e+07</td>\n",
              "      <td>-0.319991</td>\n",
              "    </tr>\n",
              "    <tr>\n",
              "      <th>4</th>\n",
              "      <td>2021-01-05</td>\n",
              "      <td>31560.186404</td>\n",
              "      <td>35592.992144</td>\n",
              "      <td>30200.437774</td>\n",
              "      <td>31847.170337</td>\n",
              "      <td>2343.245228</td>\n",
              "      <td>7.462573e+07</td>\n",
              "      <td>0.739299</td>\n",
              "    </tr>\n",
              "  </tbody>\n",
              "</table>\n",
              "</div>\n",
              "    <div class=\"colab-df-buttons\">\n",
              "\n",
              "  <div class=\"colab-df-container\">\n",
              "    <button class=\"colab-df-convert\" onclick=\"convertToInteractive('df-9a2c7f51-9dfc-4fb5-9bae-024ccc5702b5')\"\n",
              "            title=\"Convert this dataframe to an interactive table.\"\n",
              "            style=\"display:none;\">\n",
              "\n",
              "  <svg xmlns=\"http://www.w3.org/2000/svg\" height=\"24px\" viewBox=\"0 -960 960 960\">\n",
              "    <path d=\"M120-120v-720h720v720H120Zm60-500h600v-160H180v160Zm220 220h160v-160H400v160Zm0 220h160v-160H400v160ZM180-400h160v-160H180v160Zm440 0h160v-160H620v160ZM180-180h160v-160H180v160Zm440 0h160v-160H620v160Z\"/>\n",
              "  </svg>\n",
              "    </button>\n",
              "\n",
              "  <style>\n",
              "    .colab-df-container {\n",
              "      display:flex;\n",
              "      gap: 12px;\n",
              "    }\n",
              "\n",
              "    .colab-df-convert {\n",
              "      background-color: #E8F0FE;\n",
              "      border: none;\n",
              "      border-radius: 50%;\n",
              "      cursor: pointer;\n",
              "      display: none;\n",
              "      fill: #1967D2;\n",
              "      height: 32px;\n",
              "      padding: 0 0 0 0;\n",
              "      width: 32px;\n",
              "    }\n",
              "\n",
              "    .colab-df-convert:hover {\n",
              "      background-color: #E2EBFA;\n",
              "      box-shadow: 0px 1px 2px rgba(60, 64, 67, 0.3), 0px 1px 3px 1px rgba(60, 64, 67, 0.15);\n",
              "      fill: #174EA6;\n",
              "    }\n",
              "\n",
              "    .colab-df-buttons div {\n",
              "      margin-bottom: 4px;\n",
              "    }\n",
              "\n",
              "    [theme=dark] .colab-df-convert {\n",
              "      background-color: #3B4455;\n",
              "      fill: #D2E3FC;\n",
              "    }\n",
              "\n",
              "    [theme=dark] .colab-df-convert:hover {\n",
              "      background-color: #434B5C;\n",
              "      box-shadow: 0px 1px 3px 1px rgba(0, 0, 0, 0.15);\n",
              "      filter: drop-shadow(0px 1px 2px rgba(0, 0, 0, 0.3));\n",
              "      fill: #FFFFFF;\n",
              "    }\n",
              "  </style>\n",
              "\n",
              "    <script>\n",
              "      const buttonEl =\n",
              "        document.querySelector('#df-9a2c7f51-9dfc-4fb5-9bae-024ccc5702b5 button.colab-df-convert');\n",
              "      buttonEl.style.display =\n",
              "        google.colab.kernel.accessAllowed ? 'block' : 'none';\n",
              "\n",
              "      async function convertToInteractive(key) {\n",
              "        const element = document.querySelector('#df-9a2c7f51-9dfc-4fb5-9bae-024ccc5702b5');\n",
              "        const dataTable =\n",
              "          await google.colab.kernel.invokeFunction('convertToInteractive',\n",
              "                                                    [key], {});\n",
              "        if (!dataTable) return;\n",
              "\n",
              "        const docLinkHtml = 'Like what you see? Visit the ' +\n",
              "          '<a target=\"_blank\" href=https://colab.research.google.com/notebooks/data_table.ipynb>data table notebook</a>'\n",
              "          + ' to learn more about interactive tables.';\n",
              "        element.innerHTML = '';\n",
              "        dataTable['output_type'] = 'display_data';\n",
              "        await google.colab.output.renderOutput(dataTable, element);\n",
              "        const docLink = document.createElement('div');\n",
              "        docLink.innerHTML = docLinkHtml;\n",
              "        element.appendChild(docLink);\n",
              "      }\n",
              "    </script>\n",
              "  </div>\n",
              "\n",
              "\n",
              "<div id=\"df-19e33b9b-0bd2-4296-a2f1-2c9a917c3e7d\">\n",
              "  <button class=\"colab-df-quickchart\" onclick=\"quickchart('df-19e33b9b-0bd2-4296-a2f1-2c9a917c3e7d')\"\n",
              "            title=\"Suggest charts\"\n",
              "            style=\"display:none;\">\n",
              "\n",
              "<svg xmlns=\"http://www.w3.org/2000/svg\" height=\"24px\"viewBox=\"0 0 24 24\"\n",
              "     width=\"24px\">\n",
              "    <g>\n",
              "        <path d=\"M19 3H5c-1.1 0-2 .9-2 2v14c0 1.1.9 2 2 2h14c1.1 0 2-.9 2-2V5c0-1.1-.9-2-2-2zM9 17H7v-7h2v7zm4 0h-2V7h2v10zm4 0h-2v-4h2v4z\"/>\n",
              "    </g>\n",
              "</svg>\n",
              "  </button>\n",
              "\n",
              "<style>\n",
              "  .colab-df-quickchart {\n",
              "      --bg-color: #E8F0FE;\n",
              "      --fill-color: #1967D2;\n",
              "      --hover-bg-color: #E2EBFA;\n",
              "      --hover-fill-color: #174EA6;\n",
              "      --disabled-fill-color: #AAA;\n",
              "      --disabled-bg-color: #DDD;\n",
              "  }\n",
              "\n",
              "  [theme=dark] .colab-df-quickchart {\n",
              "      --bg-color: #3B4455;\n",
              "      --fill-color: #D2E3FC;\n",
              "      --hover-bg-color: #434B5C;\n",
              "      --hover-fill-color: #FFFFFF;\n",
              "      --disabled-bg-color: #3B4455;\n",
              "      --disabled-fill-color: #666;\n",
              "  }\n",
              "\n",
              "  .colab-df-quickchart {\n",
              "    background-color: var(--bg-color);\n",
              "    border: none;\n",
              "    border-radius: 50%;\n",
              "    cursor: pointer;\n",
              "    display: none;\n",
              "    fill: var(--fill-color);\n",
              "    height: 32px;\n",
              "    padding: 0;\n",
              "    width: 32px;\n",
              "  }\n",
              "\n",
              "  .colab-df-quickchart:hover {\n",
              "    background-color: var(--hover-bg-color);\n",
              "    box-shadow: 0 1px 2px rgba(60, 64, 67, 0.3), 0 1px 3px 1px rgba(60, 64, 67, 0.15);\n",
              "    fill: var(--button-hover-fill-color);\n",
              "  }\n",
              "\n",
              "  .colab-df-quickchart-complete:disabled,\n",
              "  .colab-df-quickchart-complete:disabled:hover {\n",
              "    background-color: var(--disabled-bg-color);\n",
              "    fill: var(--disabled-fill-color);\n",
              "    box-shadow: none;\n",
              "  }\n",
              "\n",
              "  .colab-df-spinner {\n",
              "    border: 2px solid var(--fill-color);\n",
              "    border-color: transparent;\n",
              "    border-bottom-color: var(--fill-color);\n",
              "    animation:\n",
              "      spin 1s steps(1) infinite;\n",
              "  }\n",
              "\n",
              "  @keyframes spin {\n",
              "    0% {\n",
              "      border-color: transparent;\n",
              "      border-bottom-color: var(--fill-color);\n",
              "      border-left-color: var(--fill-color);\n",
              "    }\n",
              "    20% {\n",
              "      border-color: transparent;\n",
              "      border-left-color: var(--fill-color);\n",
              "      border-top-color: var(--fill-color);\n",
              "    }\n",
              "    30% {\n",
              "      border-color: transparent;\n",
              "      border-left-color: var(--fill-color);\n",
              "      border-top-color: var(--fill-color);\n",
              "      border-right-color: var(--fill-color);\n",
              "    }\n",
              "    40% {\n",
              "      border-color: transparent;\n",
              "      border-right-color: var(--fill-color);\n",
              "      border-top-color: var(--fill-color);\n",
              "    }\n",
              "    60% {\n",
              "      border-color: transparent;\n",
              "      border-right-color: var(--fill-color);\n",
              "    }\n",
              "    80% {\n",
              "      border-color: transparent;\n",
              "      border-right-color: var(--fill-color);\n",
              "      border-bottom-color: var(--fill-color);\n",
              "    }\n",
              "    90% {\n",
              "      border-color: transparent;\n",
              "      border-bottom-color: var(--fill-color);\n",
              "    }\n",
              "  }\n",
              "</style>\n",
              "\n",
              "  <script>\n",
              "    async function quickchart(key) {\n",
              "      const quickchartButtonEl =\n",
              "        document.querySelector('#' + key + ' button');\n",
              "      quickchartButtonEl.disabled = true;  // To prevent multiple clicks.\n",
              "      quickchartButtonEl.classList.add('colab-df-spinner');\n",
              "      try {\n",
              "        const charts = await google.colab.kernel.invokeFunction(\n",
              "            'suggestCharts', [key], {});\n",
              "      } catch (error) {\n",
              "        console.error('Error during call to suggestCharts:', error);\n",
              "      }\n",
              "      quickchartButtonEl.classList.remove('colab-df-spinner');\n",
              "      quickchartButtonEl.classList.add('colab-df-quickchart-complete');\n",
              "    }\n",
              "    (() => {\n",
              "      let quickchartButtonEl =\n",
              "        document.querySelector('#df-19e33b9b-0bd2-4296-a2f1-2c9a917c3e7d button');\n",
              "      quickchartButtonEl.style.display =\n",
              "        google.colab.kernel.accessAllowed ? 'block' : 'none';\n",
              "    })();\n",
              "  </script>\n",
              "</div>\n",
              "\n",
              "    </div>\n",
              "  </div>\n"
            ],
            "application/vnd.google.colaboratory.intrinsic+json": {
              "type": "dataframe",
              "variable_name": "data",
              "summary": "{\n  \"name\": \"data\",\n  \"rows\": 1000,\n  \"fields\": [\n    {\n      \"column\": \"Date\",\n      \"properties\": {\n        \"dtype\": \"date\",\n        \"min\": \"2021-01-01 00:00:00\",\n        \"max\": \"2023-09-27 00:00:00\",\n        \"num_unique_values\": 1000,\n        \"samples\": [\n          \"2022-06-06 00:00:00\",\n          \"2023-01-08 00:00:00\",\n          \"2023-01-11 00:00:00\"\n        ],\n        \"semantic_type\": \"\",\n        \"description\": \"\"\n      }\n    },\n    {\n      \"column\": \"Open\",\n      \"properties\": {\n        \"dtype\": \"number\",\n        \"std\": 2921.3736194748603,\n        \"min\": 30046.32023004603,\n        \"max\": 39997.176732861306,\n        \"num_unique_values\": 1000,\n        \"samples\": [\n          33808.908566310216,\n          38165.99439471577,\n          34626.79785669607\n        ],\n        \"semantic_type\": \"\",\n        \"description\": \"\"\n      }\n    },\n    {\n      \"column\": \"High\",\n      \"properties\": {\n        \"dtype\": \"number\",\n        \"std\": 3304.3884541656066,\n        \"min\": 30265.68711941783,\n        \"max\": 44637.43856160318,\n        \"num_unique_values\": 1000,\n        \"samples\": [\n          38481.08870033779,\n          39139.1069538196,\n          38764.48733453044\n        ],\n        \"semantic_type\": \"\",\n        \"description\": \"\"\n      }\n    },\n    {\n      \"column\": \"Low\",\n      \"properties\": {\n        \"dtype\": \"number\",\n        \"std\": 3243.983836410401,\n        \"min\": 25501.58775517054,\n        \"max\": 39451.7427254499,\n        \"num_unique_values\": 1000,\n        \"samples\": [\n          33136.732919269605,\n          35443.58273071446,\n          32798.39411538921\n        ],\n        \"semantic_type\": \"\",\n        \"description\": \"\"\n      }\n    },\n    {\n      \"column\": \"Close\",\n      \"properties\": {\n        \"dtype\": \"number\",\n        \"std\": 3106.5468786187566,\n        \"min\": 28176.3282091152,\n        \"max\": 41439.02279468347,\n        \"num_unique_values\": 1000,\n        \"samples\": [\n          33685.33741050053,\n          39170.70294253194,\n          36244.23695667149\n        ],\n        \"semantic_type\": \"\",\n        \"description\": \"\"\n      }\n    },\n    {\n      \"column\": \"Volume\",\n      \"properties\": {\n        \"dtype\": \"number\",\n        \"std\": 2581.2894898608392,\n        \"min\": 1000.2764696084416,\n        \"max\": 9979.744501091804,\n        \"num_unique_values\": 1000,\n        \"samples\": [\n          6194.053741491159,\n          4139.487167127671,\n          7468.463019359821\n        ],\n        \"semantic_type\": \"\",\n        \"description\": \"\"\n      }\n    },\n    {\n      \"column\": \"Market_Cap\",\n      \"properties\": {\n        \"dtype\": \"number\",\n        \"std\": 91892772.08648586,\n        \"min\": 31397831.48857624,\n        \"max\": 405041663.1998673,\n        \"num_unique_values\": 1000,\n        \"samples\": [\n          208648790.2209029,\n          162146622.15798107,\n          270688743.3758156\n        ],\n        \"semantic_type\": \"\",\n        \"description\": \"\"\n      }\n    },\n    {\n      \"column\": \"Sentiment_Score\",\n      \"properties\": {\n        \"dtype\": \"number\",\n        \"std\": 0.5783896131424128,\n        \"min\": -0.9876323547182068,\n        \"max\": 0.9987006009444004,\n        \"num_unique_values\": 1000,\n        \"samples\": [\n          0.1547068024393354,\n          -0.4677972629253828,\n          0.7819477693814076\n        ],\n        \"semantic_type\": \"\",\n        \"description\": \"\"\n      }\n    }\n  ]\n}"
            }
          },
          "metadata": {},
          "execution_count": 11
        }
      ]
    },
    {
      "cell_type": "code",
      "source": [
        "# Create features and labels\n",
        "data['Future_Close'] = data['Close'].shift(-1)  # Predicting the next day's closing price\n",
        "data = data.dropna()  # Drop the last row with NaN value\n",
        "\n",
        "features = data[['Open', 'High', 'Low', 'Close', 'Volume', 'Market_Cap', 'Sentiment_Score']]\n",
        "labels = data['Future_Close']\n",
        "\n",
        "# Split the data into training and testing sets\n",
        "train_size = int(0.8 * len(data))\n",
        "X_train, X_test = features[:train_size], features[train_size:]\n",
        "y_train, y_test = labels[:train_size], labels[train_size:]\n",
        "\n",
        "print(f'Training samples: {len(X_train)}, Testing samples: {len(X_test)}')\n"
      ],
      "metadata": {
        "colab": {
          "base_uri": "https://localhost:8080/"
        },
        "id": "1qwEyU96S2N5",
        "outputId": "bdeb3e9a-e70d-4c0a-95ed-c4a7442986b7"
      },
      "execution_count": 12,
      "outputs": [
        {
          "output_type": "stream",
          "name": "stdout",
          "text": [
            "Training samples: 799, Testing samples: 200\n"
          ]
        }
      ]
    },
    {
      "cell_type": "markdown",
      "source": [
        "Define Genetic Algorithm\n"
      ],
      "metadata": {
        "id": "odujTdOSS6tu"
      }
    },
    {
      "cell_type": "code",
      "source": [
        "from sklearn.metrics import mean_squared_error\n",
        "from sklearn.linear_model import LinearRegression\n",
        "\n",
        "def evaluate_model(params, X_train, y_train, X_test, y_test):\n",
        "    # Create and train the model\n",
        "    model = LinearRegression()\n",
        "    model.fit(X_train, y_train)\n",
        "\n",
        "    # Make predictions\n",
        "    predictions = model.predict(X_test)\n",
        "\n",
        "    # Calculate mean squared error\n",
        "    mse = mean_squared_error(y_test, predictions)\n",
        "\n",
        "    return -mse  # We want to minimize MSE, so we return its negative value\n"
      ],
      "metadata": {
        "id": "TD0bhp8uS5Ra"
      },
      "execution_count": 13,
      "outputs": []
    },
    {
      "cell_type": "markdown",
      "source": [
        "Population initialization"
      ],
      "metadata": {
        "id": "nYYJ4RioTAUZ"
      }
    },
    {
      "cell_type": "code",
      "source": [],
      "metadata": {
        "id": "XnJHRBqcUgPY"
      },
      "execution_count": null,
      "outputs": []
    },
    {
      "cell_type": "code",
      "source": [
        "import numpy as np\n",
        "\n",
        "def initialize_population(pop_size, param_bounds):\n",
        "    return [np.random.uniform(low, high, size=(len(param_bounds),)) for low, high in param_bounds]\n"
      ],
      "metadata": {
        "id": "AYAt1gw5S_ti"
      },
      "execution_count": 14,
      "outputs": []
    },
    {
      "cell_type": "markdown",
      "source": [
        "Selection function"
      ],
      "metadata": {
        "id": "AhM_SItDTFIo"
      }
    },
    {
      "cell_type": "code",
      "source": [
        "def selection(population, fitness_scores, num_parents):\n",
        "    parents = [population[idx] for idx in np.argsort(fitness_scores)[-num_parents:]]\n",
        "    return parents\n"
      ],
      "metadata": {
        "id": "0oOEqSPFTHGQ"
      },
      "execution_count": 15,
      "outputs": []
    },
    {
      "cell_type": "code",
      "source": [],
      "metadata": {
        "id": "bzsxFyavTKab"
      },
      "execution_count": 6,
      "outputs": []
    },
    {
      "cell_type": "markdown",
      "source": [
        "Crossover"
      ],
      "metadata": {
        "id": "4uZiD_SyTI7I"
      }
    },
    {
      "cell_type": "code",
      "source": [
        "def crossover(parents, offspring_size):\n",
        "    offspring = []\n",
        "    for _ in range(offspring_size):\n",
        "        parent1, parent2 = np.random.choice(len(parents), size=2, replace=False)\n",
        "        crossover_point = np.random.randint(1, len(parents[0]) - 1)\n",
        "        child = np.concatenate((parents[parent1][:crossover_point], parents[parent2][crossover_point:]))\n",
        "        offspring.append(child)\n",
        "    return offspring\n"
      ],
      "metadata": {
        "id": "S2amvxhSTL_Q"
      },
      "execution_count": 16,
      "outputs": []
    },
    {
      "cell_type": "markdown",
      "source": [
        "Mutation"
      ],
      "metadata": {
        "id": "HzBIxb3cTOAr"
      }
    },
    {
      "cell_type": "code",
      "source": [
        "def mutation(offspring, mutation_rate=0.01):\n",
        "    for individual in offspring:\n",
        "        if np.random.rand() < mutation_rate:\n",
        "            mutation_idx = np.random.randint(len(individual))\n",
        "            individual[mutation_idx] += np.random.uniform(-0.1, 0.1)\n",
        "    return offspring\n"
      ],
      "metadata": {
        "id": "ktjOme19TPcF"
      },
      "execution_count": 17,
      "outputs": []
    },
    {
      "cell_type": "markdown",
      "source": [
        "Imeplement Genetics ALgorithm"
      ],
      "metadata": {
        "id": "W4uozlQnTRpC"
      }
    },
    {
      "cell_type": "code",
      "source": [
        "def genetic_algorithm(X_train, y_train, X_test, y_test, num_generations, pop_size, num_parents, mutation_rate):\n",
        "    param_bounds = [(0, 1) for _ in range(X_train.shape[1])]  # Example bounds for feature weights\n",
        "    population = initialize_population(pop_size, param_bounds)\n",
        "\n",
        "    for generation in range(num_generations):\n",
        "        fitness_scores = [evaluate_model(individual, X_train, y_train, X_test, y_test) for individual in population]\n",
        "        parents = selection(population, fitness_scores, num_parents)\n",
        "        offspring_size = pop_size - len(parents)\n",
        "        offspring = crossover(parents, offspring_size)\n",
        "        offspring = mutation(offspring, mutation_rate)\n",
        "        population = parents + offspring\n",
        "\n",
        "        best_fitness = np.max(fitness_scores)\n",
        "        print(f\"Generation {generation}: Best Fitness = {best_fitness}\")\n",
        "\n",
        "    best_params = population[np.argmax(fitness_scores)]\n",
        "    return best_params\n",
        "\n",
        "# Run the genetic algorithm\n",
        "num_generations = 50\n",
        "pop_size = 100\n",
        "num_parents = 20\n",
        "mutation_rate = 0.01\n",
        "\n",
        "best_params = genetic_algorithm(X_train, y_train, X_test, y_test, num_generations, pop_size, num_parents, mutation_rate)\n",
        "print(f\"Best Parameters: {best_params}\")\n"
      ],
      "metadata": {
        "colab": {
          "base_uri": "https://localhost:8080/"
        },
        "id": "NH4a09mZTUrv",
        "outputId": "26f972ee-4724-4781-c3ac-4776b5a2f77d"
      },
      "execution_count": 18,
      "outputs": [
        {
          "output_type": "stream",
          "name": "stdout",
          "text": [
            "Generation 0: Best Fitness = -9990491.192329021\n",
            "Generation 1: Best Fitness = -9990491.192329021\n",
            "Generation 2: Best Fitness = -9990491.192329021\n",
            "Generation 3: Best Fitness = -9990491.192329021\n",
            "Generation 4: Best Fitness = -9990491.192329021\n",
            "Generation 5: Best Fitness = -9990491.192329021\n",
            "Generation 6: Best Fitness = -9990491.192329021\n",
            "Generation 7: Best Fitness = -9990491.192329021\n",
            "Generation 8: Best Fitness = -9990491.192329021\n",
            "Generation 9: Best Fitness = -9990491.192329021\n",
            "Generation 10: Best Fitness = -9990491.192329021\n",
            "Generation 11: Best Fitness = -9990491.192329021\n",
            "Generation 12: Best Fitness = -9990491.192329021\n",
            "Generation 13: Best Fitness = -9990491.192329021\n",
            "Generation 14: Best Fitness = -9990491.192329021\n",
            "Generation 15: Best Fitness = -9990491.192329021\n",
            "Generation 16: Best Fitness = -9990491.192329021\n",
            "Generation 17: Best Fitness = -9990491.192329021\n",
            "Generation 18: Best Fitness = -9990491.192329021\n",
            "Generation 19: Best Fitness = -9990491.192329021\n",
            "Generation 20: Best Fitness = -9990491.192329021\n",
            "Generation 21: Best Fitness = -9990491.192329021\n",
            "Generation 22: Best Fitness = -9990491.192329021\n",
            "Generation 23: Best Fitness = -9990491.192329021\n",
            "Generation 24: Best Fitness = -9990491.192329021\n",
            "Generation 25: Best Fitness = -9990491.192329021\n",
            "Generation 26: Best Fitness = -9990491.192329021\n",
            "Generation 27: Best Fitness = -9990491.192329021\n",
            "Generation 28: Best Fitness = -9990491.192329021\n",
            "Generation 29: Best Fitness = -9990491.192329021\n",
            "Generation 30: Best Fitness = -9990491.192329021\n",
            "Generation 31: Best Fitness = -9990491.192329021\n",
            "Generation 32: Best Fitness = -9990491.192329021\n",
            "Generation 33: Best Fitness = -9990491.192329021\n",
            "Generation 34: Best Fitness = -9990491.192329021\n",
            "Generation 35: Best Fitness = -9990491.192329021\n",
            "Generation 36: Best Fitness = -9990491.192329021\n",
            "Generation 37: Best Fitness = -9990491.192329021\n",
            "Generation 38: Best Fitness = -9990491.192329021\n",
            "Generation 39: Best Fitness = -9990491.192329021\n",
            "Generation 40: Best Fitness = -9990491.192329021\n",
            "Generation 41: Best Fitness = -9990491.192329021\n",
            "Generation 42: Best Fitness = -9990491.192329021\n",
            "Generation 43: Best Fitness = -9990491.192329021\n",
            "Generation 44: Best Fitness = -9990491.192329021\n",
            "Generation 45: Best Fitness = -9990491.192329021\n",
            "Generation 46: Best Fitness = -9990491.192329021\n",
            "Generation 47: Best Fitness = -9990491.192329021\n",
            "Generation 48: Best Fitness = -9990491.192329021\n",
            "Generation 49: Best Fitness = -9990491.192329021\n",
            "Best Parameters: [0.07748363 0.87439803 0.26974247 0.28467474 0.99946068 0.8022737\n",
            " 0.78672301]\n"
          ]
        }
      ]
    }
  ]
}