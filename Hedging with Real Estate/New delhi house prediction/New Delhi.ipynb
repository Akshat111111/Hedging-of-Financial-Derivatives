{
 "cells": [
  {
   "cell_type": "code",
   "execution_count": 1,
   "id": "12989860",
   "metadata": {
    "execution": {
     "iopub.execute_input": "2023-07-20T16:18:45.249807Z",
     "iopub.status.busy": "2023-07-20T16:18:45.249429Z",
     "iopub.status.idle": "2023-07-20T16:18:46.767356Z",
     "shell.execute_reply": "2023-07-20T16:18:46.766369Z"
    },
    "papermill": {
     "duration": 1.546422,
     "end_time": "2023-07-20T16:18:46.770141",
     "exception": false,
     "start_time": "2023-07-20T16:18:45.223719",
     "status": "completed"
    },
    "tags": []
   },
   "outputs": [
    {
     "name": "stderr",
     "output_type": "stream",
     "text": [
      "/opt/conda/lib/python3.10/site-packages/scipy/__init__.py:146: UserWarning: A NumPy version >=1.16.5 and <1.23.0 is required for this version of SciPy (detected version 1.23.5\n",
      "  warnings.warn(f\"A NumPy version >={np_minversion} and <{np_maxversion}\"\n"
     ]
    }
   ],
   "source": [
    "import numpy as np\n",
    "import pandas as pd\n",
    "import matplotlib.pyplot as plt\n",
    "import seaborn as sns"
   ]
  },
  {
   "cell_type": "code",
   "execution_count": 2,
   "id": "28617090",
   "metadata": {
    "execution": {
     "iopub.execute_input": "2023-07-20T16:18:46.819227Z",
     "iopub.status.busy": "2023-07-20T16:18:46.818389Z",
     "iopub.status.idle": "2023-07-20T16:18:46.947333Z",
     "shell.execute_reply": "2023-07-20T16:18:46.946111Z"
    },
    "papermill": {
     "duration": 0.156088,
     "end_time": "2023-07-20T16:18:46.950349",
     "exception": false,
     "start_time": "2023-07-20T16:18:46.794261",
     "status": "completed"
    },
    "tags": []
   },
   "outputs": [],
   "source": [
    "df = pd.read_csv(\"/kaggle/input/new-delhi-rental-listings/June_8_data_metro_closest_stations.csv\")"
   ]
  },
  {
   "cell_type": "code",
   "execution_count": 3,
   "id": "1489df46",
   "metadata": {
    "execution": {
     "iopub.execute_input": "2023-07-20T16:18:46.997727Z",
     "iopub.status.busy": "2023-07-20T16:18:46.997288Z",
     "iopub.status.idle": "2023-07-20T16:18:47.027397Z",
     "shell.execute_reply": "2023-07-20T16:18:47.026176Z"
    },
    "papermill": {
     "duration": 0.057087,
     "end_time": "2023-07-20T16:18:47.030049",
     "exception": false,
     "start_time": "2023-07-20T16:18:46.972962",
     "status": "completed"
    },
    "tags": []
   },
   "outputs": [
    {
     "data": {
      "text/html": [
       "<div>\n",
       "<style scoped>\n",
       "    .dataframe tbody tr th:only-of-type {\n",
       "        vertical-align: middle;\n",
       "    }\n",
       "\n",
       "    .dataframe tbody tr th {\n",
       "        vertical-align: top;\n",
       "    }\n",
       "\n",
       "    .dataframe thead th {\n",
       "        text-align: right;\n",
       "    }\n",
       "</style>\n",
       "<table border=\"1\" class=\"dataframe\">\n",
       "  <thead>\n",
       "    <tr style=\"text-align: right;\">\n",
       "      <th></th>\n",
       "      <th>Unnamed: 0</th>\n",
       "      <th>size_sq_ft</th>\n",
       "      <th>propertyType</th>\n",
       "      <th>bedrooms</th>\n",
       "      <th>latitude</th>\n",
       "      <th>longitude</th>\n",
       "      <th>localityName</th>\n",
       "      <th>suburbName</th>\n",
       "      <th>cityName</th>\n",
       "      <th>price</th>\n",
       "      <th>companyName</th>\n",
       "      <th>closest_mtero_station_km</th>\n",
       "      <th>AP_dist_km</th>\n",
       "      <th>Aiims_dist_km</th>\n",
       "      <th>NDRLW_dist_km</th>\n",
       "    </tr>\n",
       "  </thead>\n",
       "  <tbody>\n",
       "    <tr>\n",
       "      <th>0</th>\n",
       "      <td>0</td>\n",
       "      <td>400</td>\n",
       "      <td>Independent Floor</td>\n",
       "      <td>1</td>\n",
       "      <td>28.641010</td>\n",
       "      <td>77.284386</td>\n",
       "      <td>Swasthya Vihar</td>\n",
       "      <td>Delhi East</td>\n",
       "      <td>Delhi</td>\n",
       "      <td>9000</td>\n",
       "      <td>Dream Homez</td>\n",
       "      <td>0.577495</td>\n",
       "      <td>21.741188</td>\n",
       "      <td>11.119239</td>\n",
       "      <td>6.227231</td>\n",
       "    </tr>\n",
       "    <tr>\n",
       "      <th>1</th>\n",
       "      <td>1</td>\n",
       "      <td>1050</td>\n",
       "      <td>Apartment</td>\n",
       "      <td>2</td>\n",
       "      <td>28.594969</td>\n",
       "      <td>77.298668</td>\n",
       "      <td>mayur vihar phase 1</td>\n",
       "      <td>Delhi East</td>\n",
       "      <td>Delhi</td>\n",
       "      <td>20000</td>\n",
       "      <td>Rupak Properties Stock</td>\n",
       "      <td>0.417142</td>\n",
       "      <td>21.401856</td>\n",
       "      <td>9.419061</td>\n",
       "      <td>9.217502</td>\n",
       "    </tr>\n",
       "    <tr>\n",
       "      <th>2</th>\n",
       "      <td>2</td>\n",
       "      <td>2250</td>\n",
       "      <td>Independent Floor</td>\n",
       "      <td>2</td>\n",
       "      <td>28.641806</td>\n",
       "      <td>77.293922</td>\n",
       "      <td>Swasthya Vihar</td>\n",
       "      <td>Delhi East</td>\n",
       "      <td>Delhi</td>\n",
       "      <td>28000</td>\n",
       "      <td>Aashiyana Real Estate</td>\n",
       "      <td>0.125136</td>\n",
       "      <td>22.620365</td>\n",
       "      <td>11.829486</td>\n",
       "      <td>7.159184</td>\n",
       "    </tr>\n",
       "    <tr>\n",
       "      <th>3</th>\n",
       "      <td>3</td>\n",
       "      <td>1350</td>\n",
       "      <td>Independent Floor</td>\n",
       "      <td>2</td>\n",
       "      <td>28.644363</td>\n",
       "      <td>77.293228</td>\n",
       "      <td>Krishna Nagar</td>\n",
       "      <td>Delhi East</td>\n",
       "      <td>Delhi</td>\n",
       "      <td>28000</td>\n",
       "      <td>Shivam Real Estate</td>\n",
       "      <td>0.371709</td>\n",
       "      <td>22.681201</td>\n",
       "      <td>11.982708</td>\n",
       "      <td>7.097348</td>\n",
       "    </tr>\n",
       "    <tr>\n",
       "      <th>4</th>\n",
       "      <td>4</td>\n",
       "      <td>450</td>\n",
       "      <td>Apartment</td>\n",
       "      <td>2</td>\n",
       "      <td>28.594736</td>\n",
       "      <td>77.311150</td>\n",
       "      <td>New Ashok Nagar</td>\n",
       "      <td>Delhi East</td>\n",
       "      <td>Delhi</td>\n",
       "      <td>12500</td>\n",
       "      <td>Shree Properties</td>\n",
       "      <td>1.087760</td>\n",
       "      <td>22.592810</td>\n",
       "      <td>10.571573</td>\n",
       "      <td>10.263271</td>\n",
       "    </tr>\n",
       "  </tbody>\n",
       "</table>\n",
       "</div>"
      ],
      "text/plain": [
       "   Unnamed: 0  size_sq_ft       propertyType  bedrooms   latitude  longitude  \\\n",
       "0           0         400  Independent Floor         1  28.641010  77.284386   \n",
       "1           1        1050          Apartment         2  28.594969  77.298668   \n",
       "2           2        2250  Independent Floor         2  28.641806  77.293922   \n",
       "3           3        1350  Independent Floor         2  28.644363  77.293228   \n",
       "4           4         450          Apartment         2  28.594736  77.311150   \n",
       "\n",
       "          localityName  suburbName cityName  price             companyName  \\\n",
       "0       Swasthya Vihar  Delhi East    Delhi   9000             Dream Homez   \n",
       "1  mayur vihar phase 1  Delhi East    Delhi  20000  Rupak Properties Stock   \n",
       "2       Swasthya Vihar  Delhi East    Delhi  28000   Aashiyana Real Estate   \n",
       "3        Krishna Nagar  Delhi East    Delhi  28000      Shivam Real Estate   \n",
       "4      New Ashok Nagar  Delhi East    Delhi  12500        Shree Properties   \n",
       "\n",
       "   closest_mtero_station_km  AP_dist_km  Aiims_dist_km  NDRLW_dist_km  \n",
       "0                  0.577495   21.741188      11.119239       6.227231  \n",
       "1                  0.417142   21.401856       9.419061       9.217502  \n",
       "2                  0.125136   22.620365      11.829486       7.159184  \n",
       "3                  0.371709   22.681201      11.982708       7.097348  \n",
       "4                  1.087760   22.592810      10.571573      10.263271  "
      ]
     },
     "execution_count": 3,
     "metadata": {},
     "output_type": "execute_result"
    }
   ],
   "source": [
    "df.head()"
   ]
  },
  {
   "cell_type": "code",
   "execution_count": 4,
   "id": "5137436a",
   "metadata": {
    "execution": {
     "iopub.execute_input": "2023-07-20T16:18:47.078320Z",
     "iopub.status.busy": "2023-07-20T16:18:47.077890Z",
     "iopub.status.idle": "2023-07-20T16:18:47.135194Z",
     "shell.execute_reply": "2023-07-20T16:18:47.133951Z"
    },
    "papermill": {
     "duration": 0.084143,
     "end_time": "2023-07-20T16:18:47.137697",
     "exception": false,
     "start_time": "2023-07-20T16:18:47.053554",
     "status": "completed"
    },
    "tags": []
   },
   "outputs": [
    {
     "name": "stdout",
     "output_type": "stream",
     "text": [
      "<class 'pandas.core.frame.DataFrame'>\n",
      "RangeIndex: 17890 entries, 0 to 17889\n",
      "Data columns (total 15 columns):\n",
      " #   Column                    Non-Null Count  Dtype  \n",
      "---  ------                    --------------  -----  \n",
      " 0   Unnamed: 0                17890 non-null  int64  \n",
      " 1   size_sq_ft                17890 non-null  int64  \n",
      " 2   propertyType              17890 non-null  object \n",
      " 3   bedrooms                  17890 non-null  int64  \n",
      " 4   latitude                  17890 non-null  float64\n",
      " 5   longitude                 17890 non-null  float64\n",
      " 6   localityName              17890 non-null  object \n",
      " 7   suburbName                17890 non-null  object \n",
      " 8   cityName                  17890 non-null  object \n",
      " 9   price                     17890 non-null  int64  \n",
      " 10  companyName               17890 non-null  object \n",
      " 11  closest_mtero_station_km  17890 non-null  float64\n",
      " 12  AP_dist_km                17890 non-null  float64\n",
      " 13  Aiims_dist_km             17890 non-null  float64\n",
      " 14  NDRLW_dist_km             17890 non-null  float64\n",
      "dtypes: float64(6), int64(4), object(5)\n",
      "memory usage: 2.0+ MB\n"
     ]
    }
   ],
   "source": [
    "df.info()"
   ]
  },
  {
   "cell_type": "code",
   "execution_count": 5,
   "id": "b7cd911e",
   "metadata": {
    "execution": {
     "iopub.execute_input": "2023-07-20T16:18:47.186095Z",
     "iopub.status.busy": "2023-07-20T16:18:47.185350Z",
     "iopub.status.idle": "2023-07-20T16:18:47.223924Z",
     "shell.execute_reply": "2023-07-20T16:18:47.222699Z"
    },
    "papermill": {
     "duration": 0.065788,
     "end_time": "2023-07-20T16:18:47.226664",
     "exception": false,
     "start_time": "2023-07-20T16:18:47.160876",
     "status": "completed"
    },
    "tags": []
   },
   "outputs": [
    {
     "data": {
      "text/plain": [
       "Unnamed: 0                  0\n",
       "size_sq_ft                  0\n",
       "propertyType                0\n",
       "bedrooms                    0\n",
       "latitude                    0\n",
       "longitude                   0\n",
       "localityName                0\n",
       "suburbName                  0\n",
       "cityName                    0\n",
       "price                       0\n",
       "companyName                 0\n",
       "closest_mtero_station_km    0\n",
       "AP_dist_km                  0\n",
       "Aiims_dist_km               0\n",
       "NDRLW_dist_km               0\n",
       "dtype: int64"
      ]
     },
     "execution_count": 5,
     "metadata": {},
     "output_type": "execute_result"
    }
   ],
   "source": [
    "df.isna().sum()"
   ]
  },
  {
   "cell_type": "code",
   "execution_count": 6,
   "id": "4ae1e9e5",
   "metadata": {
    "execution": {
     "iopub.execute_input": "2023-07-20T16:18:47.274820Z",
     "iopub.status.busy": "2023-07-20T16:18:47.274364Z",
     "iopub.status.idle": "2023-07-20T16:18:47.296314Z",
     "shell.execute_reply": "2023-07-20T16:18:47.295321Z"
    },
    "papermill": {
     "duration": 0.048882,
     "end_time": "2023-07-20T16:18:47.298802",
     "exception": false,
     "start_time": "2023-07-20T16:18:47.249920",
     "status": "completed"
    },
    "tags": []
   },
   "outputs": [
    {
     "data": {
      "text/html": [
       "<div>\n",
       "<style scoped>\n",
       "    .dataframe tbody tr th:only-of-type {\n",
       "        vertical-align: middle;\n",
       "    }\n",
       "\n",
       "    .dataframe tbody tr th {\n",
       "        vertical-align: top;\n",
       "    }\n",
       "\n",
       "    .dataframe thead th {\n",
       "        text-align: right;\n",
       "    }\n",
       "</style>\n",
       "<table border=\"1\" class=\"dataframe\">\n",
       "  <thead>\n",
       "    <tr style=\"text-align: right;\">\n",
       "      <th></th>\n",
       "      <th>Unnamed: 0</th>\n",
       "      <th>size_sq_ft</th>\n",
       "      <th>propertyType</th>\n",
       "      <th>bedrooms</th>\n",
       "      <th>latitude</th>\n",
       "      <th>longitude</th>\n",
       "      <th>localityName</th>\n",
       "      <th>suburbName</th>\n",
       "      <th>cityName</th>\n",
       "      <th>price</th>\n",
       "      <th>companyName</th>\n",
       "      <th>closest_mtero_station_km</th>\n",
       "      <th>AP_dist_km</th>\n",
       "      <th>Aiims_dist_km</th>\n",
       "      <th>NDRLW_dist_km</th>\n",
       "    </tr>\n",
       "  </thead>\n",
       "  <tbody>\n",
       "    <tr>\n",
       "      <th>632</th>\n",
       "      <td>632</td>\n",
       "      <td>1800</td>\n",
       "      <td>Independent Floor</td>\n",
       "      <td>3</td>\n",
       "      <td>28.608419</td>\n",
       "      <td>77.290459</td>\n",
       "      <td>mayur vihar phase 1</td>\n",
       "      <td>Delhi East</td>\n",
       "      <td>Delhi</td>\n",
       "      <td>25000</td>\n",
       "      <td>Rana Associates</td>\n",
       "      <td>0.422196</td>\n",
       "      <td>20.987294</td>\n",
       "      <td>9.305267</td>\n",
       "      <td>7.754932</td>\n",
       "    </tr>\n",
       "    <tr>\n",
       "      <th>1778</th>\n",
       "      <td>1778</td>\n",
       "      <td>270</td>\n",
       "      <td>Apartment</td>\n",
       "      <td>1</td>\n",
       "      <td>28.590996</td>\n",
       "      <td>77.308144</td>\n",
       "      <td>New Ashok Nagar</td>\n",
       "      <td>Delhi East</td>\n",
       "      <td>Delhi</td>\n",
       "      <td>7500</td>\n",
       "      <td>Welcome Properties</td>\n",
       "      <td>0.675241</td>\n",
       "      <td>22.226500</td>\n",
       "      <td>10.174100</td>\n",
       "      <td>10.232803</td>\n",
       "    </tr>\n",
       "    <tr>\n",
       "      <th>4911</th>\n",
       "      <td>4911</td>\n",
       "      <td>2700</td>\n",
       "      <td>Independent Floor</td>\n",
       "      <td>3</td>\n",
       "      <td>28.524649</td>\n",
       "      <td>77.209366</td>\n",
       "      <td>Saket</td>\n",
       "      <td>Delhi South</td>\n",
       "      <td>Delhi</td>\n",
       "      <td>100000</td>\n",
       "      <td>Sachin Propetry</td>\n",
       "      <td>0.744104</td>\n",
       "      <td>12.655310</td>\n",
       "      <td>4.680723</td>\n",
       "      <td>13.019971</td>\n",
       "    </tr>\n",
       "    <tr>\n",
       "      <th>8821</th>\n",
       "      <td>8821</td>\n",
       "      <td>700</td>\n",
       "      <td>Apartment</td>\n",
       "      <td>1</td>\n",
       "      <td>28.698547</td>\n",
       "      <td>77.138077</td>\n",
       "      <td>Pitampura</td>\n",
       "      <td>North Delhi</td>\n",
       "      <td>Delhi</td>\n",
       "      <td>12000</td>\n",
       "      <td>Jagdamba Associates</td>\n",
       "      <td>0.276180</td>\n",
       "      <td>16.755226</td>\n",
       "      <td>16.108926</td>\n",
       "      <td>10.243012</td>\n",
       "    </tr>\n",
       "    <tr>\n",
       "      <th>16993</th>\n",
       "      <td>16993</td>\n",
       "      <td>3500</td>\n",
       "      <td>Villa</td>\n",
       "      <td>5</td>\n",
       "      <td>28.576052</td>\n",
       "      <td>77.308029</td>\n",
       "      <td>Sector 15A</td>\n",
       "      <td>Other</td>\n",
       "      <td>Delhi</td>\n",
       "      <td>80000</td>\n",
       "      <td>Jain Builders Properties</td>\n",
       "      <td>0.962700</td>\n",
       "      <td>21.979219</td>\n",
       "      <td>9.858434</td>\n",
       "      <td>11.219933</td>\n",
       "    </tr>\n",
       "  </tbody>\n",
       "</table>\n",
       "</div>"
      ],
      "text/plain": [
       "       Unnamed: 0  size_sq_ft       propertyType  bedrooms   latitude  \\\n",
       "632           632        1800  Independent Floor         3  28.608419   \n",
       "1778         1778         270          Apartment         1  28.590996   \n",
       "4911         4911        2700  Independent Floor         3  28.524649   \n",
       "8821         8821         700          Apartment         1  28.698547   \n",
       "16993       16993        3500              Villa         5  28.576052   \n",
       "\n",
       "       longitude         localityName   suburbName cityName   price  \\\n",
       "632    77.290459  mayur vihar phase 1   Delhi East    Delhi   25000   \n",
       "1778   77.308144      New Ashok Nagar   Delhi East    Delhi    7500   \n",
       "4911   77.209366                Saket  Delhi South    Delhi  100000   \n",
       "8821   77.138077            Pitampura  North Delhi    Delhi   12000   \n",
       "16993  77.308029           Sector 15A        Other    Delhi   80000   \n",
       "\n",
       "                    companyName  closest_mtero_station_km  AP_dist_km  \\\n",
       "632             Rana Associates                  0.422196   20.987294   \n",
       "1778         Welcome Properties                  0.675241   22.226500   \n",
       "4911            Sachin Propetry                  0.744104   12.655310   \n",
       "8821        Jagdamba Associates                  0.276180   16.755226   \n",
       "16993  Jain Builders Properties                  0.962700   21.979219   \n",
       "\n",
       "       Aiims_dist_km  NDRLW_dist_km  \n",
       "632         9.305267       7.754932  \n",
       "1778       10.174100      10.232803  \n",
       "4911        4.680723      13.019971  \n",
       "8821       16.108926      10.243012  \n",
       "16993       9.858434      11.219933  "
      ]
     },
     "execution_count": 6,
     "metadata": {},
     "output_type": "execute_result"
    }
   ],
   "source": [
    "df.sample(5)"
   ]
  },
  {
   "cell_type": "code",
   "execution_count": 7,
   "id": "3f8e182f",
   "metadata": {
    "execution": {
     "iopub.execute_input": "2023-07-20T16:18:47.348525Z",
     "iopub.status.busy": "2023-07-20T16:18:47.348075Z",
     "iopub.status.idle": "2023-07-20T16:18:47.355597Z",
     "shell.execute_reply": "2023-07-20T16:18:47.354426Z"
    },
    "papermill": {
     "duration": 0.035181,
     "end_time": "2023-07-20T16:18:47.358171",
     "exception": false,
     "start_time": "2023-07-20T16:18:47.322990",
     "status": "completed"
    },
    "tags": []
   },
   "outputs": [],
   "source": [
    "df.drop(columns=['Unnamed: 0','latitude','longitude','cityName','companyName','closest_mtero_station_km','AP_dist_km','Aiims_dist_km','NDRLW_dist_km'],inplace=True)"
   ]
  },
  {
   "cell_type": "code",
   "execution_count": 8,
   "id": "023143bb",
   "metadata": {
    "execution": {
     "iopub.execute_input": "2023-07-20T16:18:47.407736Z",
     "iopub.status.busy": "2023-07-20T16:18:47.407293Z",
     "iopub.status.idle": "2023-07-20T16:18:47.414577Z",
     "shell.execute_reply": "2023-07-20T16:18:47.413390Z"
    },
    "papermill": {
     "duration": 0.034639,
     "end_time": "2023-07-20T16:18:47.416931",
     "exception": false,
     "start_time": "2023-07-20T16:18:47.382292",
     "status": "completed"
    },
    "tags": []
   },
   "outputs": [],
   "source": [
    "df.drop(columns=['suburbName'],inplace=True)"
   ]
  },
  {
   "cell_type": "code",
   "execution_count": 9,
   "id": "21d85402",
   "metadata": {
    "execution": {
     "iopub.execute_input": "2023-07-20T16:18:47.465692Z",
     "iopub.status.busy": "2023-07-20T16:18:47.465258Z",
     "iopub.status.idle": "2023-07-20T16:18:47.479856Z",
     "shell.execute_reply": "2023-07-20T16:18:47.478769Z"
    },
    "papermill": {
     "duration": 0.041835,
     "end_time": "2023-07-20T16:18:47.482281",
     "exception": false,
     "start_time": "2023-07-20T16:18:47.440446",
     "status": "completed"
    },
    "tags": []
   },
   "outputs": [
    {
     "data": {
      "text/html": [
       "<div>\n",
       "<style scoped>\n",
       "    .dataframe tbody tr th:only-of-type {\n",
       "        vertical-align: middle;\n",
       "    }\n",
       "\n",
       "    .dataframe tbody tr th {\n",
       "        vertical-align: top;\n",
       "    }\n",
       "\n",
       "    .dataframe thead th {\n",
       "        text-align: right;\n",
       "    }\n",
       "</style>\n",
       "<table border=\"1\" class=\"dataframe\">\n",
       "  <thead>\n",
       "    <tr style=\"text-align: right;\">\n",
       "      <th></th>\n",
       "      <th>size_sq_ft</th>\n",
       "      <th>propertyType</th>\n",
       "      <th>bedrooms</th>\n",
       "      <th>localityName</th>\n",
       "      <th>price</th>\n",
       "    </tr>\n",
       "  </thead>\n",
       "  <tbody>\n",
       "    <tr>\n",
       "      <th>2466</th>\n",
       "      <td>403</td>\n",
       "      <td>Independent Floor</td>\n",
       "      <td>1</td>\n",
       "      <td>Lajpat Nagar IV</td>\n",
       "      <td>14000</td>\n",
       "    </tr>\n",
       "    <tr>\n",
       "      <th>5227</th>\n",
       "      <td>1100</td>\n",
       "      <td>Independent House</td>\n",
       "      <td>2</td>\n",
       "      <td>Chattarpur</td>\n",
       "      <td>15000</td>\n",
       "    </tr>\n",
       "    <tr>\n",
       "      <th>5884</th>\n",
       "      <td>500</td>\n",
       "      <td>Independent Floor</td>\n",
       "      <td>1</td>\n",
       "      <td>Chattarpur</td>\n",
       "      <td>8000</td>\n",
       "    </tr>\n",
       "    <tr>\n",
       "      <th>1494</th>\n",
       "      <td>390</td>\n",
       "      <td>Independent Floor</td>\n",
       "      <td>1</td>\n",
       "      <td>mayur vihar phase 1</td>\n",
       "      <td>8000</td>\n",
       "    </tr>\n",
       "    <tr>\n",
       "      <th>560</th>\n",
       "      <td>590</td>\n",
       "      <td>Independent Floor</td>\n",
       "      <td>1</td>\n",
       "      <td>New Ashok Nagar</td>\n",
       "      <td>10500</td>\n",
       "    </tr>\n",
       "    <tr>\n",
       "      <th>2242</th>\n",
       "      <td>900</td>\n",
       "      <td>Independent Floor</td>\n",
       "      <td>1</td>\n",
       "      <td>Sainik Farms</td>\n",
       "      <td>12000</td>\n",
       "    </tr>\n",
       "    <tr>\n",
       "      <th>9630</th>\n",
       "      <td>1750</td>\n",
       "      <td>Apartment</td>\n",
       "      <td>3</td>\n",
       "      <td>Sector 6 Dwarka</td>\n",
       "      <td>32000</td>\n",
       "    </tr>\n",
       "    <tr>\n",
       "      <th>1584</th>\n",
       "      <td>1710</td>\n",
       "      <td>Independent Floor</td>\n",
       "      <td>3</td>\n",
       "      <td>Preet Vihar</td>\n",
       "      <td>43000</td>\n",
       "    </tr>\n",
       "    <tr>\n",
       "      <th>8873</th>\n",
       "      <td>1850</td>\n",
       "      <td>Independent Floor</td>\n",
       "      <td>3</td>\n",
       "      <td>Pitampura</td>\n",
       "      <td>40000</td>\n",
       "    </tr>\n",
       "    <tr>\n",
       "      <th>1319</th>\n",
       "      <td>450</td>\n",
       "      <td>Apartment</td>\n",
       "      <td>1</td>\n",
       "      <td>Delhi</td>\n",
       "      <td>14000</td>\n",
       "    </tr>\n",
       "  </tbody>\n",
       "</table>\n",
       "</div>"
      ],
      "text/plain": [
       "      size_sq_ft       propertyType  bedrooms         localityName  price\n",
       "2466         403  Independent Floor         1      Lajpat Nagar IV  14000\n",
       "5227        1100  Independent House         2           Chattarpur  15000\n",
       "5884         500  Independent Floor         1           Chattarpur   8000\n",
       "1494         390  Independent Floor         1  mayur vihar phase 1   8000\n",
       "560          590  Independent Floor         1      New Ashok Nagar  10500\n",
       "2242         900  Independent Floor         1         Sainik Farms  12000\n",
       "9630        1750          Apartment         3      Sector 6 Dwarka  32000\n",
       "1584        1710  Independent Floor         3          Preet Vihar  43000\n",
       "8873        1850  Independent Floor         3            Pitampura  40000\n",
       "1319         450          Apartment         1                Delhi  14000"
      ]
     },
     "execution_count": 9,
     "metadata": {},
     "output_type": "execute_result"
    }
   ],
   "source": [
    "df.sample(10)"
   ]
  },
  {
   "cell_type": "code",
   "execution_count": 10,
   "id": "847f23e1",
   "metadata": {
    "execution": {
     "iopub.execute_input": "2023-07-20T16:18:47.531806Z",
     "iopub.status.busy": "2023-07-20T16:18:47.531385Z",
     "iopub.status.idle": "2023-07-20T16:18:47.557613Z",
     "shell.execute_reply": "2023-07-20T16:18:47.556149Z"
    },
    "papermill": {
     "duration": 0.054073,
     "end_time": "2023-07-20T16:18:47.560072",
     "exception": false,
     "start_time": "2023-07-20T16:18:47.505999",
     "status": "completed"
    },
    "tags": []
   },
   "outputs": [
    {
     "name": "stdout",
     "output_type": "stream",
     "text": [
      "<class 'pandas.core.frame.DataFrame'>\n",
      "RangeIndex: 17890 entries, 0 to 17889\n",
      "Data columns (total 5 columns):\n",
      " #   Column        Non-Null Count  Dtype \n",
      "---  ------        --------------  ----- \n",
      " 0   size_sq_ft    17890 non-null  int64 \n",
      " 1   propertyType  17890 non-null  object\n",
      " 2   bedrooms      17890 non-null  int64 \n",
      " 3   localityName  17890 non-null  object\n",
      " 4   price         17890 non-null  int64 \n",
      "dtypes: int64(3), object(2)\n",
      "memory usage: 699.0+ KB\n"
     ]
    }
   ],
   "source": [
    "df.info()\n",
    "# Hence, Correct datatypes are present!"
   ]
  },
  {
   "cell_type": "code",
   "execution_count": 11,
   "id": "d6c02c63",
   "metadata": {
    "execution": {
     "iopub.execute_input": "2023-07-20T16:18:47.610599Z",
     "iopub.status.busy": "2023-07-20T16:18:47.609896Z",
     "iopub.status.idle": "2023-07-20T16:18:47.634060Z",
     "shell.execute_reply": "2023-07-20T16:18:47.633273Z"
    },
    "papermill": {
     "duration": 0.051825,
     "end_time": "2023-07-20T16:18:47.636352",
     "exception": false,
     "start_time": "2023-07-20T16:18:47.584527",
     "status": "completed"
    },
    "tags": []
   },
   "outputs": [
    {
     "data": {
      "text/html": [
       "<div>\n",
       "<style scoped>\n",
       "    .dataframe tbody tr th:only-of-type {\n",
       "        vertical-align: middle;\n",
       "    }\n",
       "\n",
       "    .dataframe tbody tr th {\n",
       "        vertical-align: top;\n",
       "    }\n",
       "\n",
       "    .dataframe thead th {\n",
       "        text-align: right;\n",
       "    }\n",
       "</style>\n",
       "<table border=\"1\" class=\"dataframe\">\n",
       "  <thead>\n",
       "    <tr style=\"text-align: right;\">\n",
       "      <th></th>\n",
       "      <th>size_sq_ft</th>\n",
       "      <th>bedrooms</th>\n",
       "      <th>price</th>\n",
       "    </tr>\n",
       "  </thead>\n",
       "  <tbody>\n",
       "    <tr>\n",
       "      <th>count</th>\n",
       "      <td>17890.000000</td>\n",
       "      <td>17890.000000</td>\n",
       "      <td>1.789000e+04</td>\n",
       "    </tr>\n",
       "    <tr>\n",
       "      <th>mean</th>\n",
       "      <td>1176.342091</td>\n",
       "      <td>2.168865</td>\n",
       "      <td>3.345196e+04</td>\n",
       "    </tr>\n",
       "    <tr>\n",
       "      <th>std</th>\n",
       "      <td>873.751044</td>\n",
       "      <td>0.971414</td>\n",
       "      <td>8.802054e+04</td>\n",
       "    </tr>\n",
       "    <tr>\n",
       "      <th>min</th>\n",
       "      <td>100.000000</td>\n",
       "      <td>1.000000</td>\n",
       "      <td>1.200000e+03</td>\n",
       "    </tr>\n",
       "    <tr>\n",
       "      <th>25%</th>\n",
       "      <td>620.000000</td>\n",
       "      <td>1.000000</td>\n",
       "      <td>1.350000e+04</td>\n",
       "    </tr>\n",
       "    <tr>\n",
       "      <th>50%</th>\n",
       "      <td>900.000000</td>\n",
       "      <td>2.000000</td>\n",
       "      <td>2.200000e+04</td>\n",
       "    </tr>\n",
       "    <tr>\n",
       "      <th>75%</th>\n",
       "      <td>1600.000000</td>\n",
       "      <td>3.000000</td>\n",
       "      <td>3.500000e+04</td>\n",
       "    </tr>\n",
       "    <tr>\n",
       "      <th>max</th>\n",
       "      <td>16521.000000</td>\n",
       "      <td>15.000000</td>\n",
       "      <td>5.885646e+06</td>\n",
       "    </tr>\n",
       "  </tbody>\n",
       "</table>\n",
       "</div>"
      ],
      "text/plain": [
       "         size_sq_ft      bedrooms         price\n",
       "count  17890.000000  17890.000000  1.789000e+04\n",
       "mean    1176.342091      2.168865  3.345196e+04\n",
       "std      873.751044      0.971414  8.802054e+04\n",
       "min      100.000000      1.000000  1.200000e+03\n",
       "25%      620.000000      1.000000  1.350000e+04\n",
       "50%      900.000000      2.000000  2.200000e+04\n",
       "75%     1600.000000      3.000000  3.500000e+04\n",
       "max    16521.000000     15.000000  5.885646e+06"
      ]
     },
     "execution_count": 11,
     "metadata": {},
     "output_type": "execute_result"
    }
   ],
   "source": [
    "df.describe()"
   ]
  },
  {
   "cell_type": "code",
   "execution_count": 12,
   "id": "a01accac",
   "metadata": {
    "execution": {
     "iopub.execute_input": "2023-07-20T16:18:47.687207Z",
     "iopub.status.busy": "2023-07-20T16:18:47.686434Z",
     "iopub.status.idle": "2023-07-20T16:18:47.695899Z",
     "shell.execute_reply": "2023-07-20T16:18:47.694770Z"
    },
    "papermill": {
     "duration": 0.038001,
     "end_time": "2023-07-20T16:18:47.698372",
     "exception": false,
     "start_time": "2023-07-20T16:18:47.660371",
     "status": "completed"
    },
    "tags": []
   },
   "outputs": [
    {
     "data": {
      "text/plain": [
       "2     5902\n",
       "3     5532\n",
       "1     5214\n",
       "4     1127\n",
       "5       79\n",
       "6       17\n",
       "10      10\n",
       "7        3\n",
       "8        2\n",
       "9        2\n",
       "15       1\n",
       "12       1\n",
       "Name: bedrooms, dtype: int64"
      ]
     },
     "execution_count": 12,
     "metadata": {},
     "output_type": "execute_result"
    }
   ],
   "source": [
    "df['bedrooms'].value_counts()"
   ]
  },
  {
   "cell_type": "code",
   "execution_count": 13,
   "id": "173abc9e",
   "metadata": {
    "execution": {
     "iopub.execute_input": "2023-07-20T16:18:47.749370Z",
     "iopub.status.busy": "2023-07-20T16:18:47.748937Z",
     "iopub.status.idle": "2023-07-20T16:18:47.763632Z",
     "shell.execute_reply": "2023-07-20T16:18:47.762194Z"
    },
    "papermill": {
     "duration": 0.042969,
     "end_time": "2023-07-20T16:18:47.765906",
     "exception": false,
     "start_time": "2023-07-20T16:18:47.722937",
     "status": "completed"
    },
    "tags": []
   },
   "outputs": [
    {
     "data": {
      "text/html": [
       "<div>\n",
       "<style scoped>\n",
       "    .dataframe tbody tr th:only-of-type {\n",
       "        vertical-align: middle;\n",
       "    }\n",
       "\n",
       "    .dataframe tbody tr th {\n",
       "        vertical-align: top;\n",
       "    }\n",
       "\n",
       "    .dataframe thead th {\n",
       "        text-align: right;\n",
       "    }\n",
       "</style>\n",
       "<table border=\"1\" class=\"dataframe\">\n",
       "  <thead>\n",
       "    <tr style=\"text-align: right;\">\n",
       "      <th></th>\n",
       "      <th>size_sq_ft</th>\n",
       "      <th>propertyType</th>\n",
       "      <th>bedrooms</th>\n",
       "      <th>localityName</th>\n",
       "      <th>price</th>\n",
       "    </tr>\n",
       "  </thead>\n",
       "  <tbody>\n",
       "    <tr>\n",
       "      <th>3352</th>\n",
       "      <td>4500</td>\n",
       "      <td>Independent House</td>\n",
       "      <td>10</td>\n",
       "      <td>New Friends Colony</td>\n",
       "      <td>400000</td>\n",
       "    </tr>\n",
       "    <tr>\n",
       "      <th>3525</th>\n",
       "      <td>4050</td>\n",
       "      <td>Independent House</td>\n",
       "      <td>10</td>\n",
       "      <td>Vasant Kunj</td>\n",
       "      <td>330000</td>\n",
       "    </tr>\n",
       "    <tr>\n",
       "      <th>4340</th>\n",
       "      <td>4500</td>\n",
       "      <td>Independent House</td>\n",
       "      <td>10</td>\n",
       "      <td>New Friends Colony</td>\n",
       "      <td>350000</td>\n",
       "    </tr>\n",
       "    <tr>\n",
       "      <th>4393</th>\n",
       "      <td>9000</td>\n",
       "      <td>Independent House</td>\n",
       "      <td>10</td>\n",
       "      <td>East of Kailash</td>\n",
       "      <td>350000</td>\n",
       "    </tr>\n",
       "    <tr>\n",
       "      <th>4394</th>\n",
       "      <td>4500</td>\n",
       "      <td>Independent House</td>\n",
       "      <td>10</td>\n",
       "      <td>Green Park</td>\n",
       "      <td>400000</td>\n",
       "    </tr>\n",
       "    <tr>\n",
       "      <th>4789</th>\n",
       "      <td>9000</td>\n",
       "      <td>Villa</td>\n",
       "      <td>10</td>\n",
       "      <td>Maharani Bagh</td>\n",
       "      <td>500000</td>\n",
       "    </tr>\n",
       "    <tr>\n",
       "      <th>9143</th>\n",
       "      <td>12000</td>\n",
       "      <td>Apartment</td>\n",
       "      <td>10</td>\n",
       "      <td>Pitampura</td>\n",
       "      <td>450000</td>\n",
       "    </tr>\n",
       "    <tr>\n",
       "      <th>13867</th>\n",
       "      <td>15515</td>\n",
       "      <td>Villa</td>\n",
       "      <td>15</td>\n",
       "      <td>India Gate</td>\n",
       "      <td>4011010</td>\n",
       "    </tr>\n",
       "    <tr>\n",
       "      <th>13868</th>\n",
       "      <td>16521</td>\n",
       "      <td>Independent House</td>\n",
       "      <td>10</td>\n",
       "      <td>Tilak Marg</td>\n",
       "      <td>3746419</td>\n",
       "    </tr>\n",
       "    <tr>\n",
       "      <th>13972</th>\n",
       "      <td>15562</td>\n",
       "      <td>Independent House</td>\n",
       "      <td>12</td>\n",
       "      <td>Aurungzeb Road</td>\n",
       "      <td>5885646</td>\n",
       "    </tr>\n",
       "    <tr>\n",
       "      <th>14000</th>\n",
       "      <td>11010</td>\n",
       "      <td>Villa</td>\n",
       "      <td>8</td>\n",
       "      <td>Tilak Marg</td>\n",
       "      <td>4010101</td>\n",
       "    </tr>\n",
       "    <tr>\n",
       "      <th>14620</th>\n",
       "      <td>10000</td>\n",
       "      <td>Independent Floor</td>\n",
       "      <td>10</td>\n",
       "      <td>Sector-8 Dwarka</td>\n",
       "      <td>180000</td>\n",
       "    </tr>\n",
       "    <tr>\n",
       "      <th>14650</th>\n",
       "      <td>10800</td>\n",
       "      <td>Independent House</td>\n",
       "      <td>9</td>\n",
       "      <td>Chittaranjan Park</td>\n",
       "      <td>500000</td>\n",
       "    </tr>\n",
       "    <tr>\n",
       "      <th>14915</th>\n",
       "      <td>10000</td>\n",
       "      <td>Independent House</td>\n",
       "      <td>10</td>\n",
       "      <td>Sector-8 Dwarka</td>\n",
       "      <td>150000</td>\n",
       "    </tr>\n",
       "    <tr>\n",
       "      <th>16512</th>\n",
       "      <td>3000</td>\n",
       "      <td>Independent Floor</td>\n",
       "      <td>8</td>\n",
       "      <td>New Rajendra Nagar</td>\n",
       "      <td>12000</td>\n",
       "    </tr>\n",
       "    <tr>\n",
       "      <th>17087</th>\n",
       "      <td>7803</td>\n",
       "      <td>Independent House</td>\n",
       "      <td>9</td>\n",
       "      <td>Sundar Nagar</td>\n",
       "      <td>1400000</td>\n",
       "    </tr>\n",
       "  </tbody>\n",
       "</table>\n",
       "</div>"
      ],
      "text/plain": [
       "       size_sq_ft       propertyType  bedrooms        localityName    price\n",
       "3352         4500  Independent House        10  New Friends Colony   400000\n",
       "3525         4050  Independent House        10         Vasant Kunj   330000\n",
       "4340         4500  Independent House        10  New Friends Colony   350000\n",
       "4393         9000  Independent House        10     East of Kailash   350000\n",
       "4394         4500  Independent House        10          Green Park   400000\n",
       "4789         9000              Villa        10       Maharani Bagh   500000\n",
       "9143        12000          Apartment        10           Pitampura   450000\n",
       "13867       15515              Villa        15          India Gate  4011010\n",
       "13868       16521  Independent House        10          Tilak Marg  3746419\n",
       "13972       15562  Independent House        12      Aurungzeb Road  5885646\n",
       "14000       11010              Villa         8          Tilak Marg  4010101\n",
       "14620       10000  Independent Floor        10     Sector-8 Dwarka   180000\n",
       "14650       10800  Independent House         9   Chittaranjan Park   500000\n",
       "14915       10000  Independent House        10     Sector-8 Dwarka   150000\n",
       "16512        3000  Independent Floor         8  New Rajendra Nagar    12000\n",
       "17087        7803  Independent House         9        Sundar Nagar  1400000"
      ]
     },
     "execution_count": 13,
     "metadata": {},
     "output_type": "execute_result"
    }
   ],
   "source": [
    "df[df['bedrooms'] > 7]"
   ]
  },
  {
   "cell_type": "code",
   "execution_count": 14,
   "id": "55ac4651",
   "metadata": {
    "execution": {
     "iopub.execute_input": "2023-07-20T16:18:47.817239Z",
     "iopub.status.busy": "2023-07-20T16:18:47.816785Z",
     "iopub.status.idle": "2023-07-20T16:18:47.831286Z",
     "shell.execute_reply": "2023-07-20T16:18:47.830143Z"
    },
    "papermill": {
     "duration": 0.04307,
     "end_time": "2023-07-20T16:18:47.833666",
     "exception": false,
     "start_time": "2023-07-20T16:18:47.790596",
     "status": "completed"
    },
    "tags": []
   },
   "outputs": [
    {
     "data": {
      "text/plain": [
       "3629"
      ]
     },
     "execution_count": 14,
     "metadata": {},
     "output_type": "execute_result"
    }
   ],
   "source": [
    "df.duplicated().sum()"
   ]
  },
  {
   "cell_type": "code",
   "execution_count": 15,
   "id": "e75a2b56",
   "metadata": {
    "execution": {
     "iopub.execute_input": "2023-07-20T16:18:47.884713Z",
     "iopub.status.busy": "2023-07-20T16:18:47.884262Z",
     "iopub.status.idle": "2023-07-20T16:18:47.897710Z",
     "shell.execute_reply": "2023-07-20T16:18:47.896496Z"
    },
    "papermill": {
     "duration": 0.042058,
     "end_time": "2023-07-20T16:18:47.900268",
     "exception": false,
     "start_time": "2023-07-20T16:18:47.858210",
     "status": "completed"
    },
    "tags": []
   },
   "outputs": [
    {
     "data": {
      "text/plain": [
       "Patel Nagar              1448\n",
       "Paschim Vihar             949\n",
       "Chattarpur                826\n",
       "Pitampura                 609\n",
       "mayur vihar phase 1       523\n",
       "                         ... \n",
       "Sector-D Vasant Kunj        1\n",
       "Pocket 7 Sector D           1\n",
       "Shanti Kunj Main Road       1\n",
       "Pocket 9 Sector B           1\n",
       "Jhandewalan                 1\n",
       "Name: localityName, Length: 781, dtype: int64"
      ]
     },
     "execution_count": 15,
     "metadata": {},
     "output_type": "execute_result"
    }
   ],
   "source": [
    "df['localityName'].value_counts()"
   ]
  },
  {
   "cell_type": "code",
   "execution_count": 16,
   "id": "f8685d01",
   "metadata": {
    "execution": {
     "iopub.execute_input": "2023-07-20T16:18:47.953589Z",
     "iopub.status.busy": "2023-07-20T16:18:47.952474Z",
     "iopub.status.idle": "2023-07-20T16:18:47.968056Z",
     "shell.execute_reply": "2023-07-20T16:18:47.967065Z"
    },
    "papermill": {
     "duration": 0.044683,
     "end_time": "2023-07-20T16:18:47.970597",
     "exception": false,
     "start_time": "2023-07-20T16:18:47.925914",
     "status": "completed"
    },
    "tags": []
   },
   "outputs": [],
   "source": [
    "df['localityName'] = df['localityName'].apply(lambda x: x.strip())\n",
    "location_count = df['localityName'].value_counts()"
   ]
  },
  {
   "cell_type": "code",
   "execution_count": 17,
   "id": "c412549b",
   "metadata": {
    "execution": {
     "iopub.execute_input": "2023-07-20T16:18:48.023442Z",
     "iopub.status.busy": "2023-07-20T16:18:48.022776Z",
     "iopub.status.idle": "2023-07-20T16:18:48.032066Z",
     "shell.execute_reply": "2023-07-20T16:18:48.030889Z"
    },
    "papermill": {
     "duration": 0.038465,
     "end_time": "2023-07-20T16:18:48.034628",
     "exception": false,
     "start_time": "2023-07-20T16:18:47.996163",
     "status": "completed"
    },
    "tags": []
   },
   "outputs": [
    {
     "data": {
      "text/plain": [
       "Connaught Place          10\n",
       "Shakarpur Khas           10\n",
       "Okhla Phase I            10\n",
       "Surajmal Vihar           10\n",
       "East Patel Nagar         10\n",
       "                         ..\n",
       "Sector-D Vasant Kunj      1\n",
       "Pocket 7 Sector D         1\n",
       "Shanti Kunj Main Road     1\n",
       "Pocket 9 Sector B         1\n",
       "Jhandewalan               1\n",
       "Name: localityName, Length: 599, dtype: int64"
      ]
     },
     "execution_count": 17,
     "metadata": {},
     "output_type": "execute_result"
    }
   ],
   "source": [
    "location_count_less_than_10 = location_count[location_count <=10]\n",
    "location_count_less_than_10"
   ]
  },
  {
   "cell_type": "code",
   "execution_count": 18,
   "id": "49f8c7db",
   "metadata": {
    "execution": {
     "iopub.execute_input": "2023-07-20T16:18:48.087482Z",
     "iopub.status.busy": "2023-07-20T16:18:48.087061Z",
     "iopub.status.idle": "2023-07-20T16:18:48.154713Z",
     "shell.execute_reply": "2023-07-20T16:18:48.153325Z"
    },
    "papermill": {
     "duration": 0.097699,
     "end_time": "2023-07-20T16:18:48.157797",
     "exception": false,
     "start_time": "2023-07-20T16:18:48.060098",
     "status": "completed"
    },
    "tags": []
   },
   "outputs": [],
   "source": [
    "df['localityName'] = df['localityName'].apply(lambda x: 'other' if x in location_count_less_than_10 else x)"
   ]
  },
  {
   "cell_type": "code",
   "execution_count": 19,
   "id": "73f21983",
   "metadata": {
    "execution": {
     "iopub.execute_input": "2023-07-20T16:18:48.210592Z",
     "iopub.status.busy": "2023-07-20T16:18:48.209873Z",
     "iopub.status.idle": "2023-07-20T16:18:48.222131Z",
     "shell.execute_reply": "2023-07-20T16:18:48.220745Z"
    },
    "papermill": {
     "duration": 0.041767,
     "end_time": "2023-07-20T16:18:48.224727",
     "exception": false,
     "start_time": "2023-07-20T16:18:48.182960",
     "status": "completed"
    },
    "tags": []
   },
   "outputs": [
    {
     "data": {
      "text/plain": [
       "other                1567\n",
       "Patel Nagar          1448\n",
       "Paschim Vihar         949\n",
       "Chattarpur            826\n",
       "Pitampura             609\n",
       "                     ... \n",
       "Aya Nagar              11\n",
       "Sector 23 Rohini       11\n",
       "Sukhdev Vihar          11\n",
       "Mayur Vihar I          11\n",
       "Sarvodaya Enclave      11\n",
       "Name: localityName, Length: 183, dtype: int64"
      ]
     },
     "execution_count": 19,
     "metadata": {},
     "output_type": "execute_result"
    }
   ],
   "source": [
    "df['localityName'].value_counts()\n",
    "# value counts reduced to 260 from 781"
   ]
  },
  {
   "cell_type": "markdown",
   "id": "8984c830",
   "metadata": {
    "papermill": {
     "duration": 0.024962,
     "end_time": "2023-07-20T16:18:48.275202",
     "exception": false,
     "start_time": "2023-07-20T16:18:48.250240",
     "status": "completed"
    },
    "tags": []
   },
   "source": [
    "#### Outlier Detection"
   ]
  },
  {
   "cell_type": "code",
   "execution_count": 20,
   "id": "9ccaf819",
   "metadata": {
    "execution": {
     "iopub.execute_input": "2023-07-20T16:18:48.328134Z",
     "iopub.status.busy": "2023-07-20T16:18:48.327707Z",
     "iopub.status.idle": "2023-07-20T16:18:48.349597Z",
     "shell.execute_reply": "2023-07-20T16:18:48.348471Z"
    },
    "papermill": {
     "duration": 0.051285,
     "end_time": "2023-07-20T16:18:48.351767",
     "exception": false,
     "start_time": "2023-07-20T16:18:48.300482",
     "status": "completed"
    },
    "tags": []
   },
   "outputs": [
    {
     "data": {
      "text/html": [
       "<div>\n",
       "<style scoped>\n",
       "    .dataframe tbody tr th:only-of-type {\n",
       "        vertical-align: middle;\n",
       "    }\n",
       "\n",
       "    .dataframe tbody tr th {\n",
       "        vertical-align: top;\n",
       "    }\n",
       "\n",
       "    .dataframe thead th {\n",
       "        text-align: right;\n",
       "    }\n",
       "</style>\n",
       "<table border=\"1\" class=\"dataframe\">\n",
       "  <thead>\n",
       "    <tr style=\"text-align: right;\">\n",
       "      <th></th>\n",
       "      <th>size_sq_ft</th>\n",
       "      <th>bedrooms</th>\n",
       "      <th>price</th>\n",
       "    </tr>\n",
       "  </thead>\n",
       "  <tbody>\n",
       "    <tr>\n",
       "      <th>count</th>\n",
       "      <td>17890.000000</td>\n",
       "      <td>17890.000000</td>\n",
       "      <td>1.789000e+04</td>\n",
       "    </tr>\n",
       "    <tr>\n",
       "      <th>mean</th>\n",
       "      <td>1176.342091</td>\n",
       "      <td>2.168865</td>\n",
       "      <td>3.345196e+04</td>\n",
       "    </tr>\n",
       "    <tr>\n",
       "      <th>std</th>\n",
       "      <td>873.751044</td>\n",
       "      <td>0.971414</td>\n",
       "      <td>8.802054e+04</td>\n",
       "    </tr>\n",
       "    <tr>\n",
       "      <th>min</th>\n",
       "      <td>100.000000</td>\n",
       "      <td>1.000000</td>\n",
       "      <td>1.200000e+03</td>\n",
       "    </tr>\n",
       "    <tr>\n",
       "      <th>25%</th>\n",
       "      <td>620.000000</td>\n",
       "      <td>1.000000</td>\n",
       "      <td>1.350000e+04</td>\n",
       "    </tr>\n",
       "    <tr>\n",
       "      <th>50%</th>\n",
       "      <td>900.000000</td>\n",
       "      <td>2.000000</td>\n",
       "      <td>2.200000e+04</td>\n",
       "    </tr>\n",
       "    <tr>\n",
       "      <th>75%</th>\n",
       "      <td>1600.000000</td>\n",
       "      <td>3.000000</td>\n",
       "      <td>3.500000e+04</td>\n",
       "    </tr>\n",
       "    <tr>\n",
       "      <th>max</th>\n",
       "      <td>16521.000000</td>\n",
       "      <td>15.000000</td>\n",
       "      <td>5.885646e+06</td>\n",
       "    </tr>\n",
       "  </tbody>\n",
       "</table>\n",
       "</div>"
      ],
      "text/plain": [
       "         size_sq_ft      bedrooms         price\n",
       "count  17890.000000  17890.000000  1.789000e+04\n",
       "mean    1176.342091      2.168865  3.345196e+04\n",
       "std      873.751044      0.971414  8.802054e+04\n",
       "min      100.000000      1.000000  1.200000e+03\n",
       "25%      620.000000      1.000000  1.350000e+04\n",
       "50%      900.000000      2.000000  2.200000e+04\n",
       "75%     1600.000000      3.000000  3.500000e+04\n",
       "max    16521.000000     15.000000  5.885646e+06"
      ]
     },
     "execution_count": 20,
     "metadata": {},
     "output_type": "execute_result"
    }
   ],
   "source": [
    "df.describe()"
   ]
  },
  {
   "cell_type": "code",
   "execution_count": 21,
   "id": "dafade26",
   "metadata": {
    "execution": {
     "iopub.execute_input": "2023-07-20T16:18:48.405088Z",
     "iopub.status.busy": "2023-07-20T16:18:48.404127Z",
     "iopub.status.idle": "2023-07-20T16:18:48.418085Z",
     "shell.execute_reply": "2023-07-20T16:18:48.416929Z"
    },
    "papermill": {
     "duration": 0.043184,
     "end_time": "2023-07-20T16:18:48.420453",
     "exception": false,
     "start_time": "2023-07-20T16:18:48.377269",
     "status": "completed"
    },
    "tags": []
   },
   "outputs": [
    {
     "data": {
      "text/html": [
       "<div>\n",
       "<style scoped>\n",
       "    .dataframe tbody tr th:only-of-type {\n",
       "        vertical-align: middle;\n",
       "    }\n",
       "\n",
       "    .dataframe tbody tr th {\n",
       "        vertical-align: top;\n",
       "    }\n",
       "\n",
       "    .dataframe thead th {\n",
       "        text-align: right;\n",
       "    }\n",
       "</style>\n",
       "<table border=\"1\" class=\"dataframe\">\n",
       "  <thead>\n",
       "    <tr style=\"text-align: right;\">\n",
       "      <th></th>\n",
       "      <th>size_sq_ft</th>\n",
       "      <th>propertyType</th>\n",
       "      <th>bedrooms</th>\n",
       "      <th>localityName</th>\n",
       "      <th>price</th>\n",
       "    </tr>\n",
       "  </thead>\n",
       "  <tbody>\n",
       "    <tr>\n",
       "      <th>8917</th>\n",
       "      <td>220</td>\n",
       "      <td>Independent Floor</td>\n",
       "      <td>1</td>\n",
       "      <td>Dr Mukherji Nagar</td>\n",
       "      <td>1200</td>\n",
       "    </tr>\n",
       "  </tbody>\n",
       "</table>\n",
       "</div>"
      ],
      "text/plain": [
       "      size_sq_ft       propertyType  bedrooms       localityName  price\n",
       "8917         220  Independent Floor         1  Dr Mukherji Nagar   1200"
      ]
     },
     "execution_count": 21,
     "metadata": {},
     "output_type": "execute_result"
    }
   ],
   "source": [
    "df[df['price']<1300]"
   ]
  },
  {
   "cell_type": "code",
   "execution_count": 22,
   "id": "b7f2b167",
   "metadata": {
    "execution": {
     "iopub.execute_input": "2023-07-20T16:18:48.473849Z",
     "iopub.status.busy": "2023-07-20T16:18:48.473467Z",
     "iopub.status.idle": "2023-07-20T16:18:48.482889Z",
     "shell.execute_reply": "2023-07-20T16:18:48.481913Z"
    },
    "papermill": {
     "duration": 0.038838,
     "end_time": "2023-07-20T16:18:48.485167",
     "exception": false,
     "start_time": "2023-07-20T16:18:48.446329",
     "status": "completed"
    },
    "tags": []
   },
   "outputs": [
    {
     "data": {
      "text/plain": [
       "8.0"
      ]
     },
     "execution_count": 22,
     "metadata": {},
     "output_type": "execute_result"
    }
   ],
   "source": [
    "upper_limit = df['bedrooms'].quantile(0.9992)\n",
    "upper_limit"
   ]
  },
  {
   "cell_type": "code",
   "execution_count": 23,
   "id": "34fc4c3e",
   "metadata": {
    "execution": {
     "iopub.execute_input": "2023-07-20T16:18:48.551650Z",
     "iopub.status.busy": "2023-07-20T16:18:48.550693Z",
     "iopub.status.idle": "2023-07-20T16:18:48.559803Z",
     "shell.execute_reply": "2023-07-20T16:18:48.558838Z"
    },
    "papermill": {
     "duration": 0.04654,
     "end_time": "2023-07-20T16:18:48.562587",
     "exception": false,
     "start_time": "2023-07-20T16:18:48.516047",
     "status": "completed"
    },
    "tags": []
   },
   "outputs": [
    {
     "data": {
      "text/plain": [
       "1.0"
      ]
     },
     "execution_count": 23,
     "metadata": {},
     "output_type": "execute_result"
    }
   ],
   "source": [
    "lower_limit = df['bedrooms'].quantile(0.0008)\n",
    "lower_limit"
   ]
  },
  {
   "cell_type": "code",
   "execution_count": 24,
   "id": "65b2fdc3",
   "metadata": {
    "execution": {
     "iopub.execute_input": "2023-07-20T16:18:48.624589Z",
     "iopub.status.busy": "2023-07-20T16:18:48.624207Z",
     "iopub.status.idle": "2023-07-20T16:18:48.632116Z",
     "shell.execute_reply": "2023-07-20T16:18:48.631274Z"
    },
    "papermill": {
     "duration": 0.037882,
     "end_time": "2023-07-20T16:18:48.634456",
     "exception": false,
     "start_time": "2023-07-20T16:18:48.596574",
     "status": "completed"
    },
    "tags": []
   },
   "outputs": [],
   "source": [
    "new_df = df[(df['bedrooms'] < 8) & (df['bedrooms'] > 1)]"
   ]
  },
  {
   "cell_type": "code",
   "execution_count": 25,
   "id": "67f193ab",
   "metadata": {
    "execution": {
     "iopub.execute_input": "2023-07-20T16:18:48.690433Z",
     "iopub.status.busy": "2023-07-20T16:18:48.689624Z",
     "iopub.status.idle": "2023-07-20T16:18:48.716265Z",
     "shell.execute_reply": "2023-07-20T16:18:48.715024Z"
    },
    "papermill": {
     "duration": 0.057377,
     "end_time": "2023-07-20T16:18:48.718806",
     "exception": false,
     "start_time": "2023-07-20T16:18:48.661429",
     "status": "completed"
    },
    "tags": []
   },
   "outputs": [
    {
     "data": {
      "text/html": [
       "<div>\n",
       "<style scoped>\n",
       "    .dataframe tbody tr th:only-of-type {\n",
       "        vertical-align: middle;\n",
       "    }\n",
       "\n",
       "    .dataframe tbody tr th {\n",
       "        vertical-align: top;\n",
       "    }\n",
       "\n",
       "    .dataframe thead th {\n",
       "        text-align: right;\n",
       "    }\n",
       "</style>\n",
       "<table border=\"1\" class=\"dataframe\">\n",
       "  <thead>\n",
       "    <tr style=\"text-align: right;\">\n",
       "      <th></th>\n",
       "      <th>size_sq_ft</th>\n",
       "      <th>bedrooms</th>\n",
       "      <th>price</th>\n",
       "    </tr>\n",
       "  </thead>\n",
       "  <tbody>\n",
       "    <tr>\n",
       "      <th>count</th>\n",
       "      <td>12660.000000</td>\n",
       "      <td>12660.000000</td>\n",
       "      <td>1.266000e+04</td>\n",
       "    </tr>\n",
       "    <tr>\n",
       "      <th>mean</th>\n",
       "      <td>1422.927804</td>\n",
       "      <td>2.640284</td>\n",
       "      <td>3.988085e+04</td>\n",
       "    </tr>\n",
       "    <tr>\n",
       "      <th>std</th>\n",
       "      <td>854.778176</td>\n",
       "      <td>0.683149</td>\n",
       "      <td>6.462826e+04</td>\n",
       "    </tr>\n",
       "    <tr>\n",
       "      <th>min</th>\n",
       "      <td>200.000000</td>\n",
       "      <td>2.000000</td>\n",
       "      <td>3.000000e+03</td>\n",
       "    </tr>\n",
       "    <tr>\n",
       "      <th>25%</th>\n",
       "      <td>900.000000</td>\n",
       "      <td>2.000000</td>\n",
       "      <td>1.900000e+04</td>\n",
       "    </tr>\n",
       "    <tr>\n",
       "      <th>50%</th>\n",
       "      <td>1200.000000</td>\n",
       "      <td>3.000000</td>\n",
       "      <td>2.750000e+04</td>\n",
       "    </tr>\n",
       "    <tr>\n",
       "      <th>75%</th>\n",
       "      <td>1800.000000</td>\n",
       "      <td>3.000000</td>\n",
       "      <td>4.000000e+04</td>\n",
       "    </tr>\n",
       "    <tr>\n",
       "      <th>max</th>\n",
       "      <td>16000.000000</td>\n",
       "      <td>7.000000</td>\n",
       "      <td>2.546461e+06</td>\n",
       "    </tr>\n",
       "  </tbody>\n",
       "</table>\n",
       "</div>"
      ],
      "text/plain": [
       "         size_sq_ft      bedrooms         price\n",
       "count  12660.000000  12660.000000  1.266000e+04\n",
       "mean    1422.927804      2.640284  3.988085e+04\n",
       "std      854.778176      0.683149  6.462826e+04\n",
       "min      200.000000      2.000000  3.000000e+03\n",
       "25%      900.000000      2.000000  1.900000e+04\n",
       "50%     1200.000000      3.000000  2.750000e+04\n",
       "75%     1800.000000      3.000000  4.000000e+04\n",
       "max    16000.000000      7.000000  2.546461e+06"
      ]
     },
     "execution_count": 25,
     "metadata": {},
     "output_type": "execute_result"
    }
   ],
   "source": [
    "new_df.describe()"
   ]
  },
  {
   "cell_type": "markdown",
   "id": "b0ea068d",
   "metadata": {
    "papermill": {
     "duration": 0.026406,
     "end_time": "2023-07-20T16:18:48.772032",
     "exception": false,
     "start_time": "2023-07-20T16:18:48.745626",
     "status": "completed"
    },
    "tags": []
   },
   "source": [
    "Price per sqft"
   ]
  },
  {
   "cell_type": "code",
   "execution_count": 26,
   "id": "9250270a",
   "metadata": {
    "execution": {
     "iopub.execute_input": "2023-07-20T16:18:48.828196Z",
     "iopub.status.busy": "2023-07-20T16:18:48.827369Z",
     "iopub.status.idle": "2023-07-20T16:18:48.839510Z",
     "shell.execute_reply": "2023-07-20T16:18:48.838416Z"
    },
    "papermill": {
     "duration": 0.043159,
     "end_time": "2023-07-20T16:18:48.841953",
     "exception": false,
     "start_time": "2023-07-20T16:18:48.798794",
     "status": "completed"
    },
    "tags": []
   },
   "outputs": [
    {
     "data": {
      "text/html": [
       "<div>\n",
       "<style scoped>\n",
       "    .dataframe tbody tr th:only-of-type {\n",
       "        vertical-align: middle;\n",
       "    }\n",
       "\n",
       "    .dataframe tbody tr th {\n",
       "        vertical-align: top;\n",
       "    }\n",
       "\n",
       "    .dataframe thead th {\n",
       "        text-align: right;\n",
       "    }\n",
       "</style>\n",
       "<table border=\"1\" class=\"dataframe\">\n",
       "  <thead>\n",
       "    <tr style=\"text-align: right;\">\n",
       "      <th></th>\n",
       "      <th>size_sq_ft</th>\n",
       "      <th>propertyType</th>\n",
       "      <th>bedrooms</th>\n",
       "      <th>localityName</th>\n",
       "      <th>price</th>\n",
       "    </tr>\n",
       "  </thead>\n",
       "  <tbody>\n",
       "    <tr>\n",
       "      <th>1</th>\n",
       "      <td>1050</td>\n",
       "      <td>Apartment</td>\n",
       "      <td>2</td>\n",
       "      <td>mayur vihar phase 1</td>\n",
       "      <td>20000</td>\n",
       "    </tr>\n",
       "    <tr>\n",
       "      <th>2</th>\n",
       "      <td>2250</td>\n",
       "      <td>Independent Floor</td>\n",
       "      <td>2</td>\n",
       "      <td>Swasthya Vihar</td>\n",
       "      <td>28000</td>\n",
       "    </tr>\n",
       "    <tr>\n",
       "      <th>3</th>\n",
       "      <td>1350</td>\n",
       "      <td>Independent Floor</td>\n",
       "      <td>2</td>\n",
       "      <td>Krishna Nagar</td>\n",
       "      <td>28000</td>\n",
       "    </tr>\n",
       "    <tr>\n",
       "      <th>4</th>\n",
       "      <td>450</td>\n",
       "      <td>Apartment</td>\n",
       "      <td>2</td>\n",
       "      <td>New Ashok Nagar</td>\n",
       "      <td>12500</td>\n",
       "    </tr>\n",
       "    <tr>\n",
       "      <th>5</th>\n",
       "      <td>600</td>\n",
       "      <td>Independent House</td>\n",
       "      <td>2</td>\n",
       "      <td>New Ashok Nagar</td>\n",
       "      <td>10000</td>\n",
       "    </tr>\n",
       "  </tbody>\n",
       "</table>\n",
       "</div>"
      ],
      "text/plain": [
       "   size_sq_ft       propertyType  bedrooms         localityName  price\n",
       "1        1050          Apartment         2  mayur vihar phase 1  20000\n",
       "2        2250  Independent Floor         2       Swasthya Vihar  28000\n",
       "3        1350  Independent Floor         2        Krishna Nagar  28000\n",
       "4         450          Apartment         2      New Ashok Nagar  12500\n",
       "5         600  Independent House         2      New Ashok Nagar  10000"
      ]
     },
     "execution_count": 26,
     "metadata": {},
     "output_type": "execute_result"
    }
   ],
   "source": [
    "new_df.head()"
   ]
  },
  {
   "cell_type": "code",
   "execution_count": 27,
   "id": "34181080",
   "metadata": {
    "execution": {
     "iopub.execute_input": "2023-07-20T16:18:48.909240Z",
     "iopub.status.busy": "2023-07-20T16:18:48.908383Z",
     "iopub.status.idle": "2023-07-20T16:18:48.917228Z",
     "shell.execute_reply": "2023-07-20T16:18:48.916182Z"
    },
    "papermill": {
     "duration": 0.043082,
     "end_time": "2023-07-20T16:18:48.919659",
     "exception": false,
     "start_time": "2023-07-20T16:18:48.876577",
     "status": "completed"
    },
    "tags": []
   },
   "outputs": [
    {
     "name": "stderr",
     "output_type": "stream",
     "text": [
      "/tmp/ipykernel_21/3952207113.py:1: SettingWithCopyWarning: \n",
      "A value is trying to be set on a copy of a slice from a DataFrame.\n",
      "Try using .loc[row_indexer,col_indexer] = value instead\n",
      "\n",
      "See the caveats in the documentation: https://pandas.pydata.org/pandas-docs/stable/user_guide/indexing.html#returning-a-view-versus-a-copy\n",
      "  new_df['price_per_sqft'] = new_df['price']/new_df['size_sq_ft']\n"
     ]
    }
   ],
   "source": [
    "new_df['price_per_sqft'] = new_df['price']/new_df['size_sq_ft']"
   ]
  },
  {
   "cell_type": "code",
   "execution_count": 28,
   "id": "1f2a99ee",
   "metadata": {
    "execution": {
     "iopub.execute_input": "2023-07-20T16:18:48.979692Z",
     "iopub.status.busy": "2023-07-20T16:18:48.979307Z",
     "iopub.status.idle": "2023-07-20T16:18:48.997430Z",
     "shell.execute_reply": "2023-07-20T16:18:48.995997Z"
    },
    "papermill": {
     "duration": 0.048776,
     "end_time": "2023-07-20T16:18:49.000083",
     "exception": false,
     "start_time": "2023-07-20T16:18:48.951307",
     "status": "completed"
    },
    "tags": []
   },
   "outputs": [
    {
     "data": {
      "text/html": [
       "<div>\n",
       "<style scoped>\n",
       "    .dataframe tbody tr th:only-of-type {\n",
       "        vertical-align: middle;\n",
       "    }\n",
       "\n",
       "    .dataframe tbody tr th {\n",
       "        vertical-align: top;\n",
       "    }\n",
       "\n",
       "    .dataframe thead th {\n",
       "        text-align: right;\n",
       "    }\n",
       "</style>\n",
       "<table border=\"1\" class=\"dataframe\">\n",
       "  <thead>\n",
       "    <tr style=\"text-align: right;\">\n",
       "      <th></th>\n",
       "      <th>size_sq_ft</th>\n",
       "      <th>propertyType</th>\n",
       "      <th>bedrooms</th>\n",
       "      <th>localityName</th>\n",
       "      <th>price</th>\n",
       "      <th>price_per_sqft</th>\n",
       "    </tr>\n",
       "  </thead>\n",
       "  <tbody>\n",
       "    <tr>\n",
       "      <th>1</th>\n",
       "      <td>1050</td>\n",
       "      <td>Apartment</td>\n",
       "      <td>2</td>\n",
       "      <td>mayur vihar phase 1</td>\n",
       "      <td>20000</td>\n",
       "      <td>19.047619</td>\n",
       "    </tr>\n",
       "    <tr>\n",
       "      <th>2</th>\n",
       "      <td>2250</td>\n",
       "      <td>Independent Floor</td>\n",
       "      <td>2</td>\n",
       "      <td>Swasthya Vihar</td>\n",
       "      <td>28000</td>\n",
       "      <td>12.444444</td>\n",
       "    </tr>\n",
       "    <tr>\n",
       "      <th>3</th>\n",
       "      <td>1350</td>\n",
       "      <td>Independent Floor</td>\n",
       "      <td>2</td>\n",
       "      <td>Krishna Nagar</td>\n",
       "      <td>28000</td>\n",
       "      <td>20.740741</td>\n",
       "    </tr>\n",
       "    <tr>\n",
       "      <th>4</th>\n",
       "      <td>450</td>\n",
       "      <td>Apartment</td>\n",
       "      <td>2</td>\n",
       "      <td>New Ashok Nagar</td>\n",
       "      <td>12500</td>\n",
       "      <td>27.777778</td>\n",
       "    </tr>\n",
       "    <tr>\n",
       "      <th>5</th>\n",
       "      <td>600</td>\n",
       "      <td>Independent House</td>\n",
       "      <td>2</td>\n",
       "      <td>New Ashok Nagar</td>\n",
       "      <td>10000</td>\n",
       "      <td>16.666667</td>\n",
       "    </tr>\n",
       "    <tr>\n",
       "      <th>...</th>\n",
       "      <td>...</td>\n",
       "      <td>...</td>\n",
       "      <td>...</td>\n",
       "      <td>...</td>\n",
       "      <td>...</td>\n",
       "      <td>...</td>\n",
       "    </tr>\n",
       "    <tr>\n",
       "      <th>17880</th>\n",
       "      <td>600</td>\n",
       "      <td>Independent Floor</td>\n",
       "      <td>2</td>\n",
       "      <td>Rajinder Nagar</td>\n",
       "      <td>25000</td>\n",
       "      <td>41.666667</td>\n",
       "    </tr>\n",
       "    <tr>\n",
       "      <th>17882</th>\n",
       "      <td>1800</td>\n",
       "      <td>Apartment</td>\n",
       "      <td>3</td>\n",
       "      <td>Rajinder Nagar</td>\n",
       "      <td>55000</td>\n",
       "      <td>30.555556</td>\n",
       "    </tr>\n",
       "    <tr>\n",
       "      <th>17884</th>\n",
       "      <td>1100</td>\n",
       "      <td>Independent Floor</td>\n",
       "      <td>2</td>\n",
       "      <td>Rajinder Nagar</td>\n",
       "      <td>45000</td>\n",
       "      <td>40.909091</td>\n",
       "    </tr>\n",
       "    <tr>\n",
       "      <th>17886</th>\n",
       "      <td>1000</td>\n",
       "      <td>Independent Floor</td>\n",
       "      <td>3</td>\n",
       "      <td>Rajinder Nagar</td>\n",
       "      <td>38000</td>\n",
       "      <td>38.000000</td>\n",
       "    </tr>\n",
       "    <tr>\n",
       "      <th>17889</th>\n",
       "      <td>1000</td>\n",
       "      <td>Independent Floor</td>\n",
       "      <td>3</td>\n",
       "      <td>Rajinder Nagar</td>\n",
       "      <td>38000</td>\n",
       "      <td>38.000000</td>\n",
       "    </tr>\n",
       "  </tbody>\n",
       "</table>\n",
       "<p>12660 rows × 6 columns</p>\n",
       "</div>"
      ],
      "text/plain": [
       "       size_sq_ft       propertyType  bedrooms         localityName  price  \\\n",
       "1            1050          Apartment         2  mayur vihar phase 1  20000   \n",
       "2            2250  Independent Floor         2       Swasthya Vihar  28000   \n",
       "3            1350  Independent Floor         2        Krishna Nagar  28000   \n",
       "4             450          Apartment         2      New Ashok Nagar  12500   \n",
       "5             600  Independent House         2      New Ashok Nagar  10000   \n",
       "...           ...                ...       ...                  ...    ...   \n",
       "17880         600  Independent Floor         2       Rajinder Nagar  25000   \n",
       "17882        1800          Apartment         3       Rajinder Nagar  55000   \n",
       "17884        1100  Independent Floor         2       Rajinder Nagar  45000   \n",
       "17886        1000  Independent Floor         3       Rajinder Nagar  38000   \n",
       "17889        1000  Independent Floor         3       Rajinder Nagar  38000   \n",
       "\n",
       "       price_per_sqft  \n",
       "1           19.047619  \n",
       "2           12.444444  \n",
       "3           20.740741  \n",
       "4           27.777778  \n",
       "5           16.666667  \n",
       "...               ...  \n",
       "17880       41.666667  \n",
       "17882       30.555556  \n",
       "17884       40.909091  \n",
       "17886       38.000000  \n",
       "17889       38.000000  \n",
       "\n",
       "[12660 rows x 6 columns]"
      ]
     },
     "execution_count": 28,
     "metadata": {},
     "output_type": "execute_result"
    }
   ],
   "source": [
    "new_df"
   ]
  },
  {
   "cell_type": "code",
   "execution_count": null,
   "id": "81d96e66",
   "metadata": {
    "papermill": {
     "duration": 0.027374,
     "end_time": "2023-07-20T16:18:49.055917",
     "exception": false,
     "start_time": "2023-07-20T16:18:49.028543",
     "status": "completed"
    },
    "tags": []
   },
   "outputs": [],
   "source": []
  },
  {
   "cell_type": "markdown",
   "id": "d8f36e94",
   "metadata": {
    "papermill": {
     "duration": 0.02792,
     "end_time": "2023-07-20T16:18:49.111637",
     "exception": false,
     "start_time": "2023-07-20T16:18:49.083717",
     "status": "completed"
    },
    "tags": []
   },
   "source": [
    "### Model Training"
   ]
  },
  {
   "cell_type": "code",
   "execution_count": 29,
   "id": "11b84325",
   "metadata": {
    "execution": {
     "iopub.execute_input": "2023-07-20T16:18:49.169447Z",
     "iopub.status.busy": "2023-07-20T16:18:49.168583Z",
     "iopub.status.idle": "2023-07-20T16:18:49.574442Z",
     "shell.execute_reply": "2023-07-20T16:18:49.573422Z"
    },
    "papermill": {
     "duration": 0.43802,
     "end_time": "2023-07-20T16:18:49.577414",
     "exception": false,
     "start_time": "2023-07-20T16:18:49.139394",
     "status": "completed"
    },
    "tags": []
   },
   "outputs": [],
   "source": [
    "from sklearn.model_selection import train_test_split\n",
    "from sklearn.preprocessing import OneHotEncoder,StandardScaler\n",
    "from sklearn.linear_model import LinearRegression,Lasso,Ridge\n",
    "from sklearn.compose import make_column_transformer\n",
    "from sklearn.pipeline import make_pipeline\n",
    "from sklearn.metrics import r2_score"
   ]
  },
  {
   "cell_type": "code",
   "execution_count": 30,
   "id": "19e70be9",
   "metadata": {
    "execution": {
     "iopub.execute_input": "2023-07-20T16:18:49.634325Z",
     "iopub.status.busy": "2023-07-20T16:18:49.633944Z",
     "iopub.status.idle": "2023-07-20T16:18:49.640855Z",
     "shell.execute_reply": "2023-07-20T16:18:49.639642Z"
    },
    "papermill": {
     "duration": 0.03789,
     "end_time": "2023-07-20T16:18:49.643104",
     "exception": false,
     "start_time": "2023-07-20T16:18:49.605214",
     "status": "completed"
    },
    "tags": []
   },
   "outputs": [],
   "source": [
    "X = new_df.drop(columns=['price','propertyType'])\n",
    "y = new_df['price']"
   ]
  },
  {
   "cell_type": "code",
   "execution_count": 31,
   "id": "fb072b35",
   "metadata": {
    "execution": {
     "iopub.execute_input": "2023-07-20T16:18:49.700520Z",
     "iopub.status.busy": "2023-07-20T16:18:49.699852Z",
     "iopub.status.idle": "2023-07-20T16:18:49.713870Z",
     "shell.execute_reply": "2023-07-20T16:18:49.712957Z"
    },
    "papermill": {
     "duration": 0.045012,
     "end_time": "2023-07-20T16:18:49.716182",
     "exception": false,
     "start_time": "2023-07-20T16:18:49.671170",
     "status": "completed"
    },
    "tags": []
   },
   "outputs": [
    {
     "data": {
      "text/html": [
       "<div>\n",
       "<style scoped>\n",
       "    .dataframe tbody tr th:only-of-type {\n",
       "        vertical-align: middle;\n",
       "    }\n",
       "\n",
       "    .dataframe tbody tr th {\n",
       "        vertical-align: top;\n",
       "    }\n",
       "\n",
       "    .dataframe thead th {\n",
       "        text-align: right;\n",
       "    }\n",
       "</style>\n",
       "<table border=\"1\" class=\"dataframe\">\n",
       "  <thead>\n",
       "    <tr style=\"text-align: right;\">\n",
       "      <th></th>\n",
       "      <th>size_sq_ft</th>\n",
       "      <th>bedrooms</th>\n",
       "      <th>localityName</th>\n",
       "      <th>price_per_sqft</th>\n",
       "    </tr>\n",
       "  </thead>\n",
       "  <tbody>\n",
       "    <tr>\n",
       "      <th>1</th>\n",
       "      <td>1050</td>\n",
       "      <td>2</td>\n",
       "      <td>mayur vihar phase 1</td>\n",
       "      <td>19.047619</td>\n",
       "    </tr>\n",
       "    <tr>\n",
       "      <th>2</th>\n",
       "      <td>2250</td>\n",
       "      <td>2</td>\n",
       "      <td>Swasthya Vihar</td>\n",
       "      <td>12.444444</td>\n",
       "    </tr>\n",
       "    <tr>\n",
       "      <th>3</th>\n",
       "      <td>1350</td>\n",
       "      <td>2</td>\n",
       "      <td>Krishna Nagar</td>\n",
       "      <td>20.740741</td>\n",
       "    </tr>\n",
       "    <tr>\n",
       "      <th>4</th>\n",
       "      <td>450</td>\n",
       "      <td>2</td>\n",
       "      <td>New Ashok Nagar</td>\n",
       "      <td>27.777778</td>\n",
       "    </tr>\n",
       "    <tr>\n",
       "      <th>5</th>\n",
       "      <td>600</td>\n",
       "      <td>2</td>\n",
       "      <td>New Ashok Nagar</td>\n",
       "      <td>16.666667</td>\n",
       "    </tr>\n",
       "    <tr>\n",
       "      <th>...</th>\n",
       "      <td>...</td>\n",
       "      <td>...</td>\n",
       "      <td>...</td>\n",
       "      <td>...</td>\n",
       "    </tr>\n",
       "    <tr>\n",
       "      <th>17880</th>\n",
       "      <td>600</td>\n",
       "      <td>2</td>\n",
       "      <td>Rajinder Nagar</td>\n",
       "      <td>41.666667</td>\n",
       "    </tr>\n",
       "    <tr>\n",
       "      <th>17882</th>\n",
       "      <td>1800</td>\n",
       "      <td>3</td>\n",
       "      <td>Rajinder Nagar</td>\n",
       "      <td>30.555556</td>\n",
       "    </tr>\n",
       "    <tr>\n",
       "      <th>17884</th>\n",
       "      <td>1100</td>\n",
       "      <td>2</td>\n",
       "      <td>Rajinder Nagar</td>\n",
       "      <td>40.909091</td>\n",
       "    </tr>\n",
       "    <tr>\n",
       "      <th>17886</th>\n",
       "      <td>1000</td>\n",
       "      <td>3</td>\n",
       "      <td>Rajinder Nagar</td>\n",
       "      <td>38.000000</td>\n",
       "    </tr>\n",
       "    <tr>\n",
       "      <th>17889</th>\n",
       "      <td>1000</td>\n",
       "      <td>3</td>\n",
       "      <td>Rajinder Nagar</td>\n",
       "      <td>38.000000</td>\n",
       "    </tr>\n",
       "  </tbody>\n",
       "</table>\n",
       "<p>12660 rows × 4 columns</p>\n",
       "</div>"
      ],
      "text/plain": [
       "       size_sq_ft  bedrooms         localityName  price_per_sqft\n",
       "1            1050         2  mayur vihar phase 1       19.047619\n",
       "2            2250         2       Swasthya Vihar       12.444444\n",
       "3            1350         2        Krishna Nagar       20.740741\n",
       "4             450         2      New Ashok Nagar       27.777778\n",
       "5             600         2      New Ashok Nagar       16.666667\n",
       "...           ...       ...                  ...             ...\n",
       "17880         600         2       Rajinder Nagar       41.666667\n",
       "17882        1800         3       Rajinder Nagar       30.555556\n",
       "17884        1100         2       Rajinder Nagar       40.909091\n",
       "17886        1000         3       Rajinder Nagar       38.000000\n",
       "17889        1000         3       Rajinder Nagar       38.000000\n",
       "\n",
       "[12660 rows x 4 columns]"
      ]
     },
     "execution_count": 31,
     "metadata": {},
     "output_type": "execute_result"
    }
   ],
   "source": [
    "X"
   ]
  },
  {
   "cell_type": "code",
   "execution_count": 32,
   "id": "3e54ee33",
   "metadata": {
    "execution": {
     "iopub.execute_input": "2023-07-20T16:18:49.774014Z",
     "iopub.status.busy": "2023-07-20T16:18:49.773333Z",
     "iopub.status.idle": "2023-07-20T16:18:49.780612Z",
     "shell.execute_reply": "2023-07-20T16:18:49.779836Z"
    },
    "papermill": {
     "duration": 0.039093,
     "end_time": "2023-07-20T16:18:49.782771",
     "exception": false,
     "start_time": "2023-07-20T16:18:49.743678",
     "status": "completed"
    },
    "tags": []
   },
   "outputs": [],
   "source": [
    "X_train, X_test, y_train, y_test = train_test_split(X, y, test_size=0.2, random_state=3)\n"
   ]
  },
  {
   "cell_type": "code",
   "execution_count": 33,
   "id": "2c46ea29",
   "metadata": {
    "execution": {
     "iopub.execute_input": "2023-07-20T16:18:49.840436Z",
     "iopub.status.busy": "2023-07-20T16:18:49.839987Z",
     "iopub.status.idle": "2023-07-20T16:18:49.846310Z",
     "shell.execute_reply": "2023-07-20T16:18:49.845087Z"
    },
    "papermill": {
     "duration": 0.038107,
     "end_time": "2023-07-20T16:18:49.849079",
     "exception": false,
     "start_time": "2023-07-20T16:18:49.810972",
     "status": "completed"
    },
    "tags": []
   },
   "outputs": [
    {
     "name": "stdout",
     "output_type": "stream",
     "text": [
      "(10128, 4)\n",
      "(2532, 4)\n"
     ]
    }
   ],
   "source": [
    "print(X_train.shape)\n",
    "print(X_test.shape)"
   ]
  },
  {
   "cell_type": "markdown",
   "id": "58933486",
   "metadata": {
    "papermill": {
     "duration": 0.027477,
     "end_time": "2023-07-20T16:18:49.904210",
     "exception": false,
     "start_time": "2023-07-20T16:18:49.876733",
     "status": "completed"
    },
    "tags": []
   },
   "source": [
    "#### Applying Linear Regresssion"
   ]
  },
  {
   "cell_type": "code",
   "execution_count": 34,
   "id": "be4fd9b0",
   "metadata": {
    "execution": {
     "iopub.execute_input": "2023-07-20T16:18:49.961292Z",
     "iopub.status.busy": "2023-07-20T16:18:49.960918Z",
     "iopub.status.idle": "2023-07-20T16:18:49.965954Z",
     "shell.execute_reply": "2023-07-20T16:18:49.964657Z"
    },
    "papermill": {
     "duration": 0.036102,
     "end_time": "2023-07-20T16:18:49.968217",
     "exception": false,
     "start_time": "2023-07-20T16:18:49.932115",
     "status": "completed"
    },
    "tags": []
   },
   "outputs": [],
   "source": [
    "column_trans = make_column_transformer((OneHotEncoder(sparse=False),[2]), remainder='passthrough')"
   ]
  },
  {
   "cell_type": "code",
   "execution_count": 35,
   "id": "adc21c43",
   "metadata": {
    "execution": {
     "iopub.execute_input": "2023-07-20T16:18:50.026248Z",
     "iopub.status.busy": "2023-07-20T16:18:50.025510Z",
     "iopub.status.idle": "2023-07-20T16:18:50.030662Z",
     "shell.execute_reply": "2023-07-20T16:18:50.029779Z"
    },
    "papermill": {
     "duration": 0.036749,
     "end_time": "2023-07-20T16:18:50.032877",
     "exception": false,
     "start_time": "2023-07-20T16:18:49.996128",
     "status": "completed"
    },
    "tags": []
   },
   "outputs": [],
   "source": [
    "scaler = StandardScaler()"
   ]
  },
  {
   "cell_type": "code",
   "execution_count": 36,
   "id": "46e00613",
   "metadata": {
    "execution": {
     "iopub.execute_input": "2023-07-20T16:18:50.089908Z",
     "iopub.status.busy": "2023-07-20T16:18:50.089480Z",
     "iopub.status.idle": "2023-07-20T16:18:50.094236Z",
     "shell.execute_reply": "2023-07-20T16:18:50.092982Z"
    },
    "papermill": {
     "duration": 0.036196,
     "end_time": "2023-07-20T16:18:50.096590",
     "exception": false,
     "start_time": "2023-07-20T16:18:50.060394",
     "status": "completed"
    },
    "tags": []
   },
   "outputs": [],
   "source": [
    "lr = LinearRegression()"
   ]
  },
  {
   "cell_type": "code",
   "execution_count": 37,
   "id": "7b3650fe",
   "metadata": {
    "execution": {
     "iopub.execute_input": "2023-07-20T16:18:50.154647Z",
     "iopub.status.busy": "2023-07-20T16:18:50.154246Z",
     "iopub.status.idle": "2023-07-20T16:18:50.159054Z",
     "shell.execute_reply": "2023-07-20T16:18:50.158000Z"
    },
    "papermill": {
     "duration": 0.036472,
     "end_time": "2023-07-20T16:18:50.161462",
     "exception": false,
     "start_time": "2023-07-20T16:18:50.124990",
     "status": "completed"
    },
    "tags": []
   },
   "outputs": [],
   "source": [
    "pipe = make_pipeline(column_trans,scaler,lr)"
   ]
  },
  {
   "cell_type": "code",
   "execution_count": 38,
   "id": "342736fb",
   "metadata": {
    "execution": {
     "iopub.execute_input": "2023-07-20T16:18:50.218678Z",
     "iopub.status.busy": "2023-07-20T16:18:50.218260Z",
     "iopub.status.idle": "2023-07-20T16:18:50.491554Z",
     "shell.execute_reply": "2023-07-20T16:18:50.490013Z"
    },
    "papermill": {
     "duration": 0.306458,
     "end_time": "2023-07-20T16:18:50.495661",
     "exception": false,
     "start_time": "2023-07-20T16:18:50.189203",
     "status": "completed"
    },
    "tags": []
   },
   "outputs": [
    {
     "name": "stderr",
     "output_type": "stream",
     "text": [
      "/opt/conda/lib/python3.10/site-packages/sklearn/preprocessing/_encoders.py:868: FutureWarning: `sparse` was renamed to `sparse_output` in version 1.2 and will be removed in 1.4. `sparse_output` is ignored unless you leave `sparse` to its default value.\n",
      "  warnings.warn(\n"
     ]
    },
    {
     "data": {
      "text/html": [
       "<style>#sk-container-id-1 {color: black;background-color: white;}#sk-container-id-1 pre{padding: 0;}#sk-container-id-1 div.sk-toggleable {background-color: white;}#sk-container-id-1 label.sk-toggleable__label {cursor: pointer;display: block;width: 100%;margin-bottom: 0;padding: 0.3em;box-sizing: border-box;text-align: center;}#sk-container-id-1 label.sk-toggleable__label-arrow:before {content: \"▸\";float: left;margin-right: 0.25em;color: #696969;}#sk-container-id-1 label.sk-toggleable__label-arrow:hover:before {color: black;}#sk-container-id-1 div.sk-estimator:hover label.sk-toggleable__label-arrow:before {color: black;}#sk-container-id-1 div.sk-toggleable__content {max-height: 0;max-width: 0;overflow: hidden;text-align: left;background-color: #f0f8ff;}#sk-container-id-1 div.sk-toggleable__content pre {margin: 0.2em;color: black;border-radius: 0.25em;background-color: #f0f8ff;}#sk-container-id-1 input.sk-toggleable__control:checked~div.sk-toggleable__content {max-height: 200px;max-width: 100%;overflow: auto;}#sk-container-id-1 input.sk-toggleable__control:checked~label.sk-toggleable__label-arrow:before {content: \"▾\";}#sk-container-id-1 div.sk-estimator input.sk-toggleable__control:checked~label.sk-toggleable__label {background-color: #d4ebff;}#sk-container-id-1 div.sk-label input.sk-toggleable__control:checked~label.sk-toggleable__label {background-color: #d4ebff;}#sk-container-id-1 input.sk-hidden--visually {border: 0;clip: rect(1px 1px 1px 1px);clip: rect(1px, 1px, 1px, 1px);height: 1px;margin: -1px;overflow: hidden;padding: 0;position: absolute;width: 1px;}#sk-container-id-1 div.sk-estimator {font-family: monospace;background-color: #f0f8ff;border: 1px dotted black;border-radius: 0.25em;box-sizing: border-box;margin-bottom: 0.5em;}#sk-container-id-1 div.sk-estimator:hover {background-color: #d4ebff;}#sk-container-id-1 div.sk-parallel-item::after {content: \"\";width: 100%;border-bottom: 1px solid gray;flex-grow: 1;}#sk-container-id-1 div.sk-label:hover label.sk-toggleable__label {background-color: #d4ebff;}#sk-container-id-1 div.sk-serial::before {content: \"\";position: absolute;border-left: 1px solid gray;box-sizing: border-box;top: 0;bottom: 0;left: 50%;z-index: 0;}#sk-container-id-1 div.sk-serial {display: flex;flex-direction: column;align-items: center;background-color: white;padding-right: 0.2em;padding-left: 0.2em;position: relative;}#sk-container-id-1 div.sk-item {position: relative;z-index: 1;}#sk-container-id-1 div.sk-parallel {display: flex;align-items: stretch;justify-content: center;background-color: white;position: relative;}#sk-container-id-1 div.sk-item::before, #sk-container-id-1 div.sk-parallel-item::before {content: \"\";position: absolute;border-left: 1px solid gray;box-sizing: border-box;top: 0;bottom: 0;left: 50%;z-index: -1;}#sk-container-id-1 div.sk-parallel-item {display: flex;flex-direction: column;z-index: 1;position: relative;background-color: white;}#sk-container-id-1 div.sk-parallel-item:first-child::after {align-self: flex-end;width: 50%;}#sk-container-id-1 div.sk-parallel-item:last-child::after {align-self: flex-start;width: 50%;}#sk-container-id-1 div.sk-parallel-item:only-child::after {width: 0;}#sk-container-id-1 div.sk-dashed-wrapped {border: 1px dashed gray;margin: 0 0.4em 0.5em 0.4em;box-sizing: border-box;padding-bottom: 0.4em;background-color: white;}#sk-container-id-1 div.sk-label label {font-family: monospace;font-weight: bold;display: inline-block;line-height: 1.2em;}#sk-container-id-1 div.sk-label-container {text-align: center;}#sk-container-id-1 div.sk-container {/* jupyter's `normalize.less` sets `[hidden] { display: none; }` but bootstrap.min.css set `[hidden] { display: none !important; }` so we also need the `!important` here to be able to override the default hidden behavior on the sphinx rendered scikit-learn.org. See: https://github.com/scikit-learn/scikit-learn/issues/21755 */display: inline-block !important;position: relative;}#sk-container-id-1 div.sk-text-repr-fallback {display: none;}</style><div id=\"sk-container-id-1\" class=\"sk-top-container\"><div class=\"sk-text-repr-fallback\"><pre>Pipeline(steps=[(&#x27;columntransformer&#x27;,\n",
       "                 ColumnTransformer(remainder=&#x27;passthrough&#x27;,\n",
       "                                   transformers=[(&#x27;onehotencoder&#x27;,\n",
       "                                                  OneHotEncoder(sparse=False),\n",
       "                                                  [2])])),\n",
       "                (&#x27;standardscaler&#x27;, StandardScaler()),\n",
       "                (&#x27;linearregression&#x27;, LinearRegression())])</pre><b>In a Jupyter environment, please rerun this cell to show the HTML representation or trust the notebook. <br />On GitHub, the HTML representation is unable to render, please try loading this page with nbviewer.org.</b></div><div class=\"sk-container\" hidden><div class=\"sk-item sk-dashed-wrapped\"><div class=\"sk-label-container\"><div class=\"sk-label sk-toggleable\"><input class=\"sk-toggleable__control sk-hidden--visually\" id=\"sk-estimator-id-1\" type=\"checkbox\" ><label for=\"sk-estimator-id-1\" class=\"sk-toggleable__label sk-toggleable__label-arrow\">Pipeline</label><div class=\"sk-toggleable__content\"><pre>Pipeline(steps=[(&#x27;columntransformer&#x27;,\n",
       "                 ColumnTransformer(remainder=&#x27;passthrough&#x27;,\n",
       "                                   transformers=[(&#x27;onehotencoder&#x27;,\n",
       "                                                  OneHotEncoder(sparse=False),\n",
       "                                                  [2])])),\n",
       "                (&#x27;standardscaler&#x27;, StandardScaler()),\n",
       "                (&#x27;linearregression&#x27;, LinearRegression())])</pre></div></div></div><div class=\"sk-serial\"><div class=\"sk-item sk-dashed-wrapped\"><div class=\"sk-label-container\"><div class=\"sk-label sk-toggleable\"><input class=\"sk-toggleable__control sk-hidden--visually\" id=\"sk-estimator-id-2\" type=\"checkbox\" ><label for=\"sk-estimator-id-2\" class=\"sk-toggleable__label sk-toggleable__label-arrow\">columntransformer: ColumnTransformer</label><div class=\"sk-toggleable__content\"><pre>ColumnTransformer(remainder=&#x27;passthrough&#x27;,\n",
       "                  transformers=[(&#x27;onehotencoder&#x27;, OneHotEncoder(sparse=False),\n",
       "                                 [2])])</pre></div></div></div><div class=\"sk-parallel\"><div class=\"sk-parallel-item\"><div class=\"sk-item\"><div class=\"sk-label-container\"><div class=\"sk-label sk-toggleable\"><input class=\"sk-toggleable__control sk-hidden--visually\" id=\"sk-estimator-id-3\" type=\"checkbox\" ><label for=\"sk-estimator-id-3\" class=\"sk-toggleable__label sk-toggleable__label-arrow\">onehotencoder</label><div class=\"sk-toggleable__content\"><pre>[2]</pre></div></div></div><div class=\"sk-serial\"><div class=\"sk-item\"><div class=\"sk-estimator sk-toggleable\"><input class=\"sk-toggleable__control sk-hidden--visually\" id=\"sk-estimator-id-4\" type=\"checkbox\" ><label for=\"sk-estimator-id-4\" class=\"sk-toggleable__label sk-toggleable__label-arrow\">OneHotEncoder</label><div class=\"sk-toggleable__content\"><pre>OneHotEncoder(sparse=False)</pre></div></div></div></div></div></div><div class=\"sk-parallel-item\"><div class=\"sk-item\"><div class=\"sk-label-container\"><div class=\"sk-label sk-toggleable\"><input class=\"sk-toggleable__control sk-hidden--visually\" id=\"sk-estimator-id-5\" type=\"checkbox\" ><label for=\"sk-estimator-id-5\" class=\"sk-toggleable__label sk-toggleable__label-arrow\">remainder</label><div class=\"sk-toggleable__content\"><pre>[&#x27;size_sq_ft&#x27;, &#x27;bedrooms&#x27;, &#x27;price_per_sqft&#x27;]</pre></div></div></div><div class=\"sk-serial\"><div class=\"sk-item\"><div class=\"sk-estimator sk-toggleable\"><input class=\"sk-toggleable__control sk-hidden--visually\" id=\"sk-estimator-id-6\" type=\"checkbox\" ><label for=\"sk-estimator-id-6\" class=\"sk-toggleable__label sk-toggleable__label-arrow\">passthrough</label><div class=\"sk-toggleable__content\"><pre>passthrough</pre></div></div></div></div></div></div></div></div><div class=\"sk-item\"><div class=\"sk-estimator sk-toggleable\"><input class=\"sk-toggleable__control sk-hidden--visually\" id=\"sk-estimator-id-7\" type=\"checkbox\" ><label for=\"sk-estimator-id-7\" class=\"sk-toggleable__label sk-toggleable__label-arrow\">StandardScaler</label><div class=\"sk-toggleable__content\"><pre>StandardScaler()</pre></div></div></div><div class=\"sk-item\"><div class=\"sk-estimator sk-toggleable\"><input class=\"sk-toggleable__control sk-hidden--visually\" id=\"sk-estimator-id-8\" type=\"checkbox\" ><label for=\"sk-estimator-id-8\" class=\"sk-toggleable__label sk-toggleable__label-arrow\">LinearRegression</label><div class=\"sk-toggleable__content\"><pre>LinearRegression()</pre></div></div></div></div></div></div></div>"
      ],
      "text/plain": [
       "Pipeline(steps=[('columntransformer',\n",
       "                 ColumnTransformer(remainder='passthrough',\n",
       "                                   transformers=[('onehotencoder',\n",
       "                                                  OneHotEncoder(sparse=False),\n",
       "                                                  [2])])),\n",
       "                ('standardscaler', StandardScaler()),\n",
       "                ('linearregression', LinearRegression())])"
      ]
     },
     "execution_count": 38,
     "metadata": {},
     "output_type": "execute_result"
    }
   ],
   "source": [
    "pipe.fit(X_train,y_train)"
   ]
  },
  {
   "cell_type": "code",
   "execution_count": 39,
   "id": "854ad753",
   "metadata": {
    "execution": {
     "iopub.execute_input": "2023-07-20T16:18:50.591134Z",
     "iopub.status.busy": "2023-07-20T16:18:50.590044Z",
     "iopub.status.idle": "2023-07-20T16:18:50.615741Z",
     "shell.execute_reply": "2023-07-20T16:18:50.614106Z"
    },
    "papermill": {
     "duration": 0.064393,
     "end_time": "2023-07-20T16:18:50.620290",
     "exception": false,
     "start_time": "2023-07-20T16:18:50.555897",
     "status": "completed"
    },
    "tags": []
   },
   "outputs": [],
   "source": [
    "yp_lr = pipe.predict(X_test)"
   ]
  },
  {
   "cell_type": "code",
   "execution_count": 40,
   "id": "fe5d2b9e",
   "metadata": {
    "execution": {
     "iopub.execute_input": "2023-07-20T16:18:50.734223Z",
     "iopub.status.busy": "2023-07-20T16:18:50.733779Z",
     "iopub.status.idle": "2023-07-20T16:18:50.741527Z",
     "shell.execute_reply": "2023-07-20T16:18:50.740699Z"
    },
    "papermill": {
     "duration": 0.063561,
     "end_time": "2023-07-20T16:18:50.743616",
     "exception": false,
     "start_time": "2023-07-20T16:18:50.680055",
     "status": "completed"
    },
    "tags": []
   },
   "outputs": [
    {
     "data": {
      "text/plain": [
       "0.729371585363202"
      ]
     },
     "execution_count": 40,
     "metadata": {},
     "output_type": "execute_result"
    }
   ],
   "source": [
    "r2_score(y_test,yp_lr)"
   ]
  },
  {
   "cell_type": "markdown",
   "id": "6f9ca329",
   "metadata": {
    "papermill": {
     "duration": 0.02779,
     "end_time": "2023-07-20T16:18:50.799669",
     "exception": false,
     "start_time": "2023-07-20T16:18:50.771879",
     "status": "completed"
    },
    "tags": []
   },
   "source": [
    "#### Applying Lasso"
   ]
  },
  {
   "cell_type": "code",
   "execution_count": 41,
   "id": "104f3f7b",
   "metadata": {
    "execution": {
     "iopub.execute_input": "2023-07-20T16:18:50.857674Z",
     "iopub.status.busy": "2023-07-20T16:18:50.856966Z",
     "iopub.status.idle": "2023-07-20T16:18:50.861160Z",
     "shell.execute_reply": "2023-07-20T16:18:50.860291Z"
    },
    "papermill": {
     "duration": 0.035494,
     "end_time": "2023-07-20T16:18:50.863190",
     "exception": false,
     "start_time": "2023-07-20T16:18:50.827696",
     "status": "completed"
    },
    "tags": []
   },
   "outputs": [],
   "source": [
    "lasso = Lasso()"
   ]
  },
  {
   "cell_type": "code",
   "execution_count": 42,
   "id": "eef959d3",
   "metadata": {
    "execution": {
     "iopub.execute_input": "2023-07-20T16:18:50.921301Z",
     "iopub.status.busy": "2023-07-20T16:18:50.920497Z",
     "iopub.status.idle": "2023-07-20T16:18:50.926152Z",
     "shell.execute_reply": "2023-07-20T16:18:50.925033Z"
    },
    "papermill": {
     "duration": 0.03713,
     "end_time": "2023-07-20T16:18:50.928317",
     "exception": false,
     "start_time": "2023-07-20T16:18:50.891187",
     "status": "completed"
    },
    "tags": []
   },
   "outputs": [],
   "source": [
    "pipe = make_pipeline(column_trans,scaler,lasso)"
   ]
  },
  {
   "cell_type": "code",
   "execution_count": 43,
   "id": "4b654ebc",
   "metadata": {
    "execution": {
     "iopub.execute_input": "2023-07-20T16:18:50.986076Z",
     "iopub.status.busy": "2023-07-20T16:18:50.985663Z",
     "iopub.status.idle": "2023-07-20T16:18:54.610797Z",
     "shell.execute_reply": "2023-07-20T16:18:54.609381Z"
    },
    "papermill": {
     "duration": 3.660052,
     "end_time": "2023-07-20T16:18:54.616271",
     "exception": false,
     "start_time": "2023-07-20T16:18:50.956219",
     "status": "completed"
    },
    "tags": []
   },
   "outputs": [
    {
     "name": "stderr",
     "output_type": "stream",
     "text": [
      "/opt/conda/lib/python3.10/site-packages/sklearn/preprocessing/_encoders.py:868: FutureWarning: `sparse` was renamed to `sparse_output` in version 1.2 and will be removed in 1.4. `sparse_output` is ignored unless you leave `sparse` to its default value.\n",
      "  warnings.warn(\n",
      "/opt/conda/lib/python3.10/site-packages/sklearn/linear_model/_coordinate_descent.py:631: ConvergenceWarning: Objective did not converge. You might want to increase the number of iterations, check the scale of the features or consider increasing regularisation. Duality gap: 1.083e+11, tolerance: 4.593e+09\n",
      "  model = cd_fast.enet_coordinate_descent(\n"
     ]
    },
    {
     "data": {
      "text/html": [
       "<style>#sk-container-id-2 {color: black;background-color: white;}#sk-container-id-2 pre{padding: 0;}#sk-container-id-2 div.sk-toggleable {background-color: white;}#sk-container-id-2 label.sk-toggleable__label {cursor: pointer;display: block;width: 100%;margin-bottom: 0;padding: 0.3em;box-sizing: border-box;text-align: center;}#sk-container-id-2 label.sk-toggleable__label-arrow:before {content: \"▸\";float: left;margin-right: 0.25em;color: #696969;}#sk-container-id-2 label.sk-toggleable__label-arrow:hover:before {color: black;}#sk-container-id-2 div.sk-estimator:hover label.sk-toggleable__label-arrow:before {color: black;}#sk-container-id-2 div.sk-toggleable__content {max-height: 0;max-width: 0;overflow: hidden;text-align: left;background-color: #f0f8ff;}#sk-container-id-2 div.sk-toggleable__content pre {margin: 0.2em;color: black;border-radius: 0.25em;background-color: #f0f8ff;}#sk-container-id-2 input.sk-toggleable__control:checked~div.sk-toggleable__content {max-height: 200px;max-width: 100%;overflow: auto;}#sk-container-id-2 input.sk-toggleable__control:checked~label.sk-toggleable__label-arrow:before {content: \"▾\";}#sk-container-id-2 div.sk-estimator input.sk-toggleable__control:checked~label.sk-toggleable__label {background-color: #d4ebff;}#sk-container-id-2 div.sk-label input.sk-toggleable__control:checked~label.sk-toggleable__label {background-color: #d4ebff;}#sk-container-id-2 input.sk-hidden--visually {border: 0;clip: rect(1px 1px 1px 1px);clip: rect(1px, 1px, 1px, 1px);height: 1px;margin: -1px;overflow: hidden;padding: 0;position: absolute;width: 1px;}#sk-container-id-2 div.sk-estimator {font-family: monospace;background-color: #f0f8ff;border: 1px dotted black;border-radius: 0.25em;box-sizing: border-box;margin-bottom: 0.5em;}#sk-container-id-2 div.sk-estimator:hover {background-color: #d4ebff;}#sk-container-id-2 div.sk-parallel-item::after {content: \"\";width: 100%;border-bottom: 1px solid gray;flex-grow: 1;}#sk-container-id-2 div.sk-label:hover label.sk-toggleable__label {background-color: #d4ebff;}#sk-container-id-2 div.sk-serial::before {content: \"\";position: absolute;border-left: 1px solid gray;box-sizing: border-box;top: 0;bottom: 0;left: 50%;z-index: 0;}#sk-container-id-2 div.sk-serial {display: flex;flex-direction: column;align-items: center;background-color: white;padding-right: 0.2em;padding-left: 0.2em;position: relative;}#sk-container-id-2 div.sk-item {position: relative;z-index: 1;}#sk-container-id-2 div.sk-parallel {display: flex;align-items: stretch;justify-content: center;background-color: white;position: relative;}#sk-container-id-2 div.sk-item::before, #sk-container-id-2 div.sk-parallel-item::before {content: \"\";position: absolute;border-left: 1px solid gray;box-sizing: border-box;top: 0;bottom: 0;left: 50%;z-index: -1;}#sk-container-id-2 div.sk-parallel-item {display: flex;flex-direction: column;z-index: 1;position: relative;background-color: white;}#sk-container-id-2 div.sk-parallel-item:first-child::after {align-self: flex-end;width: 50%;}#sk-container-id-2 div.sk-parallel-item:last-child::after {align-self: flex-start;width: 50%;}#sk-container-id-2 div.sk-parallel-item:only-child::after {width: 0;}#sk-container-id-2 div.sk-dashed-wrapped {border: 1px dashed gray;margin: 0 0.4em 0.5em 0.4em;box-sizing: border-box;padding-bottom: 0.4em;background-color: white;}#sk-container-id-2 div.sk-label label {font-family: monospace;font-weight: bold;display: inline-block;line-height: 1.2em;}#sk-container-id-2 div.sk-label-container {text-align: center;}#sk-container-id-2 div.sk-container {/* jupyter's `normalize.less` sets `[hidden] { display: none; }` but bootstrap.min.css set `[hidden] { display: none !important; }` so we also need the `!important` here to be able to override the default hidden behavior on the sphinx rendered scikit-learn.org. See: https://github.com/scikit-learn/scikit-learn/issues/21755 */display: inline-block !important;position: relative;}#sk-container-id-2 div.sk-text-repr-fallback {display: none;}</style><div id=\"sk-container-id-2\" class=\"sk-top-container\"><div class=\"sk-text-repr-fallback\"><pre>Pipeline(steps=[(&#x27;columntransformer&#x27;,\n",
       "                 ColumnTransformer(remainder=&#x27;passthrough&#x27;,\n",
       "                                   transformers=[(&#x27;onehotencoder&#x27;,\n",
       "                                                  OneHotEncoder(sparse=False),\n",
       "                                                  [2])])),\n",
       "                (&#x27;standardscaler&#x27;, StandardScaler()), (&#x27;lasso&#x27;, Lasso())])</pre><b>In a Jupyter environment, please rerun this cell to show the HTML representation or trust the notebook. <br />On GitHub, the HTML representation is unable to render, please try loading this page with nbviewer.org.</b></div><div class=\"sk-container\" hidden><div class=\"sk-item sk-dashed-wrapped\"><div class=\"sk-label-container\"><div class=\"sk-label sk-toggleable\"><input class=\"sk-toggleable__control sk-hidden--visually\" id=\"sk-estimator-id-9\" type=\"checkbox\" ><label for=\"sk-estimator-id-9\" class=\"sk-toggleable__label sk-toggleable__label-arrow\">Pipeline</label><div class=\"sk-toggleable__content\"><pre>Pipeline(steps=[(&#x27;columntransformer&#x27;,\n",
       "                 ColumnTransformer(remainder=&#x27;passthrough&#x27;,\n",
       "                                   transformers=[(&#x27;onehotencoder&#x27;,\n",
       "                                                  OneHotEncoder(sparse=False),\n",
       "                                                  [2])])),\n",
       "                (&#x27;standardscaler&#x27;, StandardScaler()), (&#x27;lasso&#x27;, Lasso())])</pre></div></div></div><div class=\"sk-serial\"><div class=\"sk-item sk-dashed-wrapped\"><div class=\"sk-label-container\"><div class=\"sk-label sk-toggleable\"><input class=\"sk-toggleable__control sk-hidden--visually\" id=\"sk-estimator-id-10\" type=\"checkbox\" ><label for=\"sk-estimator-id-10\" class=\"sk-toggleable__label sk-toggleable__label-arrow\">columntransformer: ColumnTransformer</label><div class=\"sk-toggleable__content\"><pre>ColumnTransformer(remainder=&#x27;passthrough&#x27;,\n",
       "                  transformers=[(&#x27;onehotencoder&#x27;, OneHotEncoder(sparse=False),\n",
       "                                 [2])])</pre></div></div></div><div class=\"sk-parallel\"><div class=\"sk-parallel-item\"><div class=\"sk-item\"><div class=\"sk-label-container\"><div class=\"sk-label sk-toggleable\"><input class=\"sk-toggleable__control sk-hidden--visually\" id=\"sk-estimator-id-11\" type=\"checkbox\" ><label for=\"sk-estimator-id-11\" class=\"sk-toggleable__label sk-toggleable__label-arrow\">onehotencoder</label><div class=\"sk-toggleable__content\"><pre>[2]</pre></div></div></div><div class=\"sk-serial\"><div class=\"sk-item\"><div class=\"sk-estimator sk-toggleable\"><input class=\"sk-toggleable__control sk-hidden--visually\" id=\"sk-estimator-id-12\" type=\"checkbox\" ><label for=\"sk-estimator-id-12\" class=\"sk-toggleable__label sk-toggleable__label-arrow\">OneHotEncoder</label><div class=\"sk-toggleable__content\"><pre>OneHotEncoder(sparse=False)</pre></div></div></div></div></div></div><div class=\"sk-parallel-item\"><div class=\"sk-item\"><div class=\"sk-label-container\"><div class=\"sk-label sk-toggleable\"><input class=\"sk-toggleable__control sk-hidden--visually\" id=\"sk-estimator-id-13\" type=\"checkbox\" ><label for=\"sk-estimator-id-13\" class=\"sk-toggleable__label sk-toggleable__label-arrow\">remainder</label><div class=\"sk-toggleable__content\"><pre>[&#x27;size_sq_ft&#x27;, &#x27;bedrooms&#x27;, &#x27;price_per_sqft&#x27;]</pre></div></div></div><div class=\"sk-serial\"><div class=\"sk-item\"><div class=\"sk-estimator sk-toggleable\"><input class=\"sk-toggleable__control sk-hidden--visually\" id=\"sk-estimator-id-14\" type=\"checkbox\" ><label for=\"sk-estimator-id-14\" class=\"sk-toggleable__label sk-toggleable__label-arrow\">passthrough</label><div class=\"sk-toggleable__content\"><pre>passthrough</pre></div></div></div></div></div></div></div></div><div class=\"sk-item\"><div class=\"sk-estimator sk-toggleable\"><input class=\"sk-toggleable__control sk-hidden--visually\" id=\"sk-estimator-id-15\" type=\"checkbox\" ><label for=\"sk-estimator-id-15\" class=\"sk-toggleable__label sk-toggleable__label-arrow\">StandardScaler</label><div class=\"sk-toggleable__content\"><pre>StandardScaler()</pre></div></div></div><div class=\"sk-item\"><div class=\"sk-estimator sk-toggleable\"><input class=\"sk-toggleable__control sk-hidden--visually\" id=\"sk-estimator-id-16\" type=\"checkbox\" ><label for=\"sk-estimator-id-16\" class=\"sk-toggleable__label sk-toggleable__label-arrow\">Lasso</label><div class=\"sk-toggleable__content\"><pre>Lasso()</pre></div></div></div></div></div></div></div>"
      ],
      "text/plain": [
       "Pipeline(steps=[('columntransformer',\n",
       "                 ColumnTransformer(remainder='passthrough',\n",
       "                                   transformers=[('onehotencoder',\n",
       "                                                  OneHotEncoder(sparse=False),\n",
       "                                                  [2])])),\n",
       "                ('standardscaler', StandardScaler()), ('lasso', Lasso())])"
      ]
     },
     "execution_count": 43,
     "metadata": {},
     "output_type": "execute_result"
    }
   ],
   "source": [
    "pipe.fit(X_train,y_train)"
   ]
  },
  {
   "cell_type": "code",
   "execution_count": 44,
   "id": "476d17e5",
   "metadata": {
    "execution": {
     "iopub.execute_input": "2023-07-20T16:18:54.708068Z",
     "iopub.status.busy": "2023-07-20T16:18:54.707699Z",
     "iopub.status.idle": "2023-07-20T16:18:54.736570Z",
     "shell.execute_reply": "2023-07-20T16:18:54.734998Z"
    },
    "papermill": {
     "duration": 0.063199,
     "end_time": "2023-07-20T16:18:54.740769",
     "exception": false,
     "start_time": "2023-07-20T16:18:54.677570",
     "status": "completed"
    },
    "tags": []
   },
   "outputs": [],
   "source": [
    "yp_lasso = pipe.predict(X_test)"
   ]
  },
  {
   "cell_type": "code",
   "execution_count": 45,
   "id": "1616e169",
   "metadata": {
    "execution": {
     "iopub.execute_input": "2023-07-20T16:18:54.858711Z",
     "iopub.status.busy": "2023-07-20T16:18:54.857965Z",
     "iopub.status.idle": "2023-07-20T16:18:54.866055Z",
     "shell.execute_reply": "2023-07-20T16:18:54.864889Z"
    },
    "papermill": {
     "duration": 0.066041,
     "end_time": "2023-07-20T16:18:54.868298",
     "exception": false,
     "start_time": "2023-07-20T16:18:54.802257",
     "status": "completed"
    },
    "tags": []
   },
   "outputs": [
    {
     "data": {
      "text/plain": [
       "0.729410685902173"
      ]
     },
     "execution_count": 45,
     "metadata": {},
     "output_type": "execute_result"
    }
   ],
   "source": [
    "r2_score(y_test,yp_lasso)"
   ]
  },
  {
   "cell_type": "markdown",
   "id": "968da88e",
   "metadata": {
    "papermill": {
     "duration": 0.028395,
     "end_time": "2023-07-20T16:18:54.925618",
     "exception": false,
     "start_time": "2023-07-20T16:18:54.897223",
     "status": "completed"
    },
    "tags": []
   },
   "source": [
    "#### Applying Ridge"
   ]
  },
  {
   "cell_type": "code",
   "execution_count": 46,
   "id": "a41a1b71",
   "metadata": {
    "execution": {
     "iopub.execute_input": "2023-07-20T16:18:54.985214Z",
     "iopub.status.busy": "2023-07-20T16:18:54.984814Z",
     "iopub.status.idle": "2023-07-20T16:18:54.989772Z",
     "shell.execute_reply": "2023-07-20T16:18:54.988515Z"
    },
    "papermill": {
     "duration": 0.037379,
     "end_time": "2023-07-20T16:18:54.991923",
     "exception": false,
     "start_time": "2023-07-20T16:18:54.954544",
     "status": "completed"
    },
    "tags": []
   },
   "outputs": [],
   "source": [
    "ridge = Ridge()"
   ]
  },
  {
   "cell_type": "code",
   "execution_count": 47,
   "id": "225066e8",
   "metadata": {
    "execution": {
     "iopub.execute_input": "2023-07-20T16:18:55.051858Z",
     "iopub.status.busy": "2023-07-20T16:18:55.051013Z",
     "iopub.status.idle": "2023-07-20T16:18:55.055241Z",
     "shell.execute_reply": "2023-07-20T16:18:55.054487Z"
    },
    "papermill": {
     "duration": 0.03625,
     "end_time": "2023-07-20T16:18:55.057339",
     "exception": false,
     "start_time": "2023-07-20T16:18:55.021089",
     "status": "completed"
    },
    "tags": []
   },
   "outputs": [],
   "source": [
    "pipe = make_pipeline(column_trans,scaler,ridge)"
   ]
  },
  {
   "cell_type": "code",
   "execution_count": 48,
   "id": "23084e32",
   "metadata": {
    "execution": {
     "iopub.execute_input": "2023-07-20T16:18:55.118940Z",
     "iopub.status.busy": "2023-07-20T16:18:55.118506Z",
     "iopub.status.idle": "2023-07-20T16:18:55.287946Z",
     "shell.execute_reply": "2023-07-20T16:18:55.286198Z"
    },
    "papermill": {
     "duration": 0.205223,
     "end_time": "2023-07-20T16:18:55.292811",
     "exception": false,
     "start_time": "2023-07-20T16:18:55.087588",
     "status": "completed"
    },
    "tags": []
   },
   "outputs": [
    {
     "name": "stderr",
     "output_type": "stream",
     "text": [
      "/opt/conda/lib/python3.10/site-packages/sklearn/preprocessing/_encoders.py:868: FutureWarning: `sparse` was renamed to `sparse_output` in version 1.2 and will be removed in 1.4. `sparse_output` is ignored unless you leave `sparse` to its default value.\n",
      "  warnings.warn(\n"
     ]
    },
    {
     "data": {
      "text/html": [
       "<style>#sk-container-id-3 {color: black;background-color: white;}#sk-container-id-3 pre{padding: 0;}#sk-container-id-3 div.sk-toggleable {background-color: white;}#sk-container-id-3 label.sk-toggleable__label {cursor: pointer;display: block;width: 100%;margin-bottom: 0;padding: 0.3em;box-sizing: border-box;text-align: center;}#sk-container-id-3 label.sk-toggleable__label-arrow:before {content: \"▸\";float: left;margin-right: 0.25em;color: #696969;}#sk-container-id-3 label.sk-toggleable__label-arrow:hover:before {color: black;}#sk-container-id-3 div.sk-estimator:hover label.sk-toggleable__label-arrow:before {color: black;}#sk-container-id-3 div.sk-toggleable__content {max-height: 0;max-width: 0;overflow: hidden;text-align: left;background-color: #f0f8ff;}#sk-container-id-3 div.sk-toggleable__content pre {margin: 0.2em;color: black;border-radius: 0.25em;background-color: #f0f8ff;}#sk-container-id-3 input.sk-toggleable__control:checked~div.sk-toggleable__content {max-height: 200px;max-width: 100%;overflow: auto;}#sk-container-id-3 input.sk-toggleable__control:checked~label.sk-toggleable__label-arrow:before {content: \"▾\";}#sk-container-id-3 div.sk-estimator input.sk-toggleable__control:checked~label.sk-toggleable__label {background-color: #d4ebff;}#sk-container-id-3 div.sk-label input.sk-toggleable__control:checked~label.sk-toggleable__label {background-color: #d4ebff;}#sk-container-id-3 input.sk-hidden--visually {border: 0;clip: rect(1px 1px 1px 1px);clip: rect(1px, 1px, 1px, 1px);height: 1px;margin: -1px;overflow: hidden;padding: 0;position: absolute;width: 1px;}#sk-container-id-3 div.sk-estimator {font-family: monospace;background-color: #f0f8ff;border: 1px dotted black;border-radius: 0.25em;box-sizing: border-box;margin-bottom: 0.5em;}#sk-container-id-3 div.sk-estimator:hover {background-color: #d4ebff;}#sk-container-id-3 div.sk-parallel-item::after {content: \"\";width: 100%;border-bottom: 1px solid gray;flex-grow: 1;}#sk-container-id-3 div.sk-label:hover label.sk-toggleable__label {background-color: #d4ebff;}#sk-container-id-3 div.sk-serial::before {content: \"\";position: absolute;border-left: 1px solid gray;box-sizing: border-box;top: 0;bottom: 0;left: 50%;z-index: 0;}#sk-container-id-3 div.sk-serial {display: flex;flex-direction: column;align-items: center;background-color: white;padding-right: 0.2em;padding-left: 0.2em;position: relative;}#sk-container-id-3 div.sk-item {position: relative;z-index: 1;}#sk-container-id-3 div.sk-parallel {display: flex;align-items: stretch;justify-content: center;background-color: white;position: relative;}#sk-container-id-3 div.sk-item::before, #sk-container-id-3 div.sk-parallel-item::before {content: \"\";position: absolute;border-left: 1px solid gray;box-sizing: border-box;top: 0;bottom: 0;left: 50%;z-index: -1;}#sk-container-id-3 div.sk-parallel-item {display: flex;flex-direction: column;z-index: 1;position: relative;background-color: white;}#sk-container-id-3 div.sk-parallel-item:first-child::after {align-self: flex-end;width: 50%;}#sk-container-id-3 div.sk-parallel-item:last-child::after {align-self: flex-start;width: 50%;}#sk-container-id-3 div.sk-parallel-item:only-child::after {width: 0;}#sk-container-id-3 div.sk-dashed-wrapped {border: 1px dashed gray;margin: 0 0.4em 0.5em 0.4em;box-sizing: border-box;padding-bottom: 0.4em;background-color: white;}#sk-container-id-3 div.sk-label label {font-family: monospace;font-weight: bold;display: inline-block;line-height: 1.2em;}#sk-container-id-3 div.sk-label-container {text-align: center;}#sk-container-id-3 div.sk-container {/* jupyter's `normalize.less` sets `[hidden] { display: none; }` but bootstrap.min.css set `[hidden] { display: none !important; }` so we also need the `!important` here to be able to override the default hidden behavior on the sphinx rendered scikit-learn.org. See: https://github.com/scikit-learn/scikit-learn/issues/21755 */display: inline-block !important;position: relative;}#sk-container-id-3 div.sk-text-repr-fallback {display: none;}</style><div id=\"sk-container-id-3\" class=\"sk-top-container\"><div class=\"sk-text-repr-fallback\"><pre>Pipeline(steps=[(&#x27;columntransformer&#x27;,\n",
       "                 ColumnTransformer(remainder=&#x27;passthrough&#x27;,\n",
       "                                   transformers=[(&#x27;onehotencoder&#x27;,\n",
       "                                                  OneHotEncoder(sparse=False),\n",
       "                                                  [2])])),\n",
       "                (&#x27;standardscaler&#x27;, StandardScaler()), (&#x27;ridge&#x27;, Ridge())])</pre><b>In a Jupyter environment, please rerun this cell to show the HTML representation or trust the notebook. <br />On GitHub, the HTML representation is unable to render, please try loading this page with nbviewer.org.</b></div><div class=\"sk-container\" hidden><div class=\"sk-item sk-dashed-wrapped\"><div class=\"sk-label-container\"><div class=\"sk-label sk-toggleable\"><input class=\"sk-toggleable__control sk-hidden--visually\" id=\"sk-estimator-id-17\" type=\"checkbox\" ><label for=\"sk-estimator-id-17\" class=\"sk-toggleable__label sk-toggleable__label-arrow\">Pipeline</label><div class=\"sk-toggleable__content\"><pre>Pipeline(steps=[(&#x27;columntransformer&#x27;,\n",
       "                 ColumnTransformer(remainder=&#x27;passthrough&#x27;,\n",
       "                                   transformers=[(&#x27;onehotencoder&#x27;,\n",
       "                                                  OneHotEncoder(sparse=False),\n",
       "                                                  [2])])),\n",
       "                (&#x27;standardscaler&#x27;, StandardScaler()), (&#x27;ridge&#x27;, Ridge())])</pre></div></div></div><div class=\"sk-serial\"><div class=\"sk-item sk-dashed-wrapped\"><div class=\"sk-label-container\"><div class=\"sk-label sk-toggleable\"><input class=\"sk-toggleable__control sk-hidden--visually\" id=\"sk-estimator-id-18\" type=\"checkbox\" ><label for=\"sk-estimator-id-18\" class=\"sk-toggleable__label sk-toggleable__label-arrow\">columntransformer: ColumnTransformer</label><div class=\"sk-toggleable__content\"><pre>ColumnTransformer(remainder=&#x27;passthrough&#x27;,\n",
       "                  transformers=[(&#x27;onehotencoder&#x27;, OneHotEncoder(sparse=False),\n",
       "                                 [2])])</pre></div></div></div><div class=\"sk-parallel\"><div class=\"sk-parallel-item\"><div class=\"sk-item\"><div class=\"sk-label-container\"><div class=\"sk-label sk-toggleable\"><input class=\"sk-toggleable__control sk-hidden--visually\" id=\"sk-estimator-id-19\" type=\"checkbox\" ><label for=\"sk-estimator-id-19\" class=\"sk-toggleable__label sk-toggleable__label-arrow\">onehotencoder</label><div class=\"sk-toggleable__content\"><pre>[2]</pre></div></div></div><div class=\"sk-serial\"><div class=\"sk-item\"><div class=\"sk-estimator sk-toggleable\"><input class=\"sk-toggleable__control sk-hidden--visually\" id=\"sk-estimator-id-20\" type=\"checkbox\" ><label for=\"sk-estimator-id-20\" class=\"sk-toggleable__label sk-toggleable__label-arrow\">OneHotEncoder</label><div class=\"sk-toggleable__content\"><pre>OneHotEncoder(sparse=False)</pre></div></div></div></div></div></div><div class=\"sk-parallel-item\"><div class=\"sk-item\"><div class=\"sk-label-container\"><div class=\"sk-label sk-toggleable\"><input class=\"sk-toggleable__control sk-hidden--visually\" id=\"sk-estimator-id-21\" type=\"checkbox\" ><label for=\"sk-estimator-id-21\" class=\"sk-toggleable__label sk-toggleable__label-arrow\">remainder</label><div class=\"sk-toggleable__content\"><pre>[&#x27;size_sq_ft&#x27;, &#x27;bedrooms&#x27;, &#x27;price_per_sqft&#x27;]</pre></div></div></div><div class=\"sk-serial\"><div class=\"sk-item\"><div class=\"sk-estimator sk-toggleable\"><input class=\"sk-toggleable__control sk-hidden--visually\" id=\"sk-estimator-id-22\" type=\"checkbox\" ><label for=\"sk-estimator-id-22\" class=\"sk-toggleable__label sk-toggleable__label-arrow\">passthrough</label><div class=\"sk-toggleable__content\"><pre>passthrough</pre></div></div></div></div></div></div></div></div><div class=\"sk-item\"><div class=\"sk-estimator sk-toggleable\"><input class=\"sk-toggleable__control sk-hidden--visually\" id=\"sk-estimator-id-23\" type=\"checkbox\" ><label for=\"sk-estimator-id-23\" class=\"sk-toggleable__label sk-toggleable__label-arrow\">StandardScaler</label><div class=\"sk-toggleable__content\"><pre>StandardScaler()</pre></div></div></div><div class=\"sk-item\"><div class=\"sk-estimator sk-toggleable\"><input class=\"sk-toggleable__control sk-hidden--visually\" id=\"sk-estimator-id-24\" type=\"checkbox\" ><label for=\"sk-estimator-id-24\" class=\"sk-toggleable__label sk-toggleable__label-arrow\">Ridge</label><div class=\"sk-toggleable__content\"><pre>Ridge()</pre></div></div></div></div></div></div></div>"
      ],
      "text/plain": [
       "Pipeline(steps=[('columntransformer',\n",
       "                 ColumnTransformer(remainder='passthrough',\n",
       "                                   transformers=[('onehotencoder',\n",
       "                                                  OneHotEncoder(sparse=False),\n",
       "                                                  [2])])),\n",
       "                ('standardscaler', StandardScaler()), ('ridge', Ridge())])"
      ]
     },
     "execution_count": 48,
     "metadata": {},
     "output_type": "execute_result"
    }
   ],
   "source": [
    "pipe.fit(X_train,y_train)"
   ]
  },
  {
   "cell_type": "code",
   "execution_count": 49,
   "id": "09e6139f",
   "metadata": {
    "execution": {
     "iopub.execute_input": "2023-07-20T16:18:55.378903Z",
     "iopub.status.busy": "2023-07-20T16:18:55.378513Z",
     "iopub.status.idle": "2023-07-20T16:18:55.407597Z",
     "shell.execute_reply": "2023-07-20T16:18:55.405816Z"
    },
    "papermill": {
     "duration": 0.064252,
     "end_time": "2023-07-20T16:18:55.412191",
     "exception": false,
     "start_time": "2023-07-20T16:18:55.347939",
     "status": "completed"
    },
    "tags": []
   },
   "outputs": [],
   "source": [
    "yp_ridge = pipe.predict(X_test)"
   ]
  },
  {
   "cell_type": "code",
   "execution_count": 50,
   "id": "ce981026",
   "metadata": {
    "execution": {
     "iopub.execute_input": "2023-07-20T16:18:55.531994Z",
     "iopub.status.busy": "2023-07-20T16:18:55.531609Z",
     "iopub.status.idle": "2023-07-20T16:18:55.538544Z",
     "shell.execute_reply": "2023-07-20T16:18:55.537724Z"
    },
    "papermill": {
     "duration": 0.06353,
     "end_time": "2023-07-20T16:18:55.540908",
     "exception": false,
     "start_time": "2023-07-20T16:18:55.477378",
     "status": "completed"
    },
    "tags": []
   },
   "outputs": [
    {
     "data": {
      "text/plain": [
       "0.7294212362748809"
      ]
     },
     "execution_count": 50,
     "metadata": {},
     "output_type": "execute_result"
    }
   ],
   "source": [
    "r2_score(y_test,yp_ridge)"
   ]
  },
  {
   "cell_type": "markdown",
   "id": "d40da648",
   "metadata": {
    "papermill": {
     "duration": 0.032313,
     "end_time": "2023-07-20T16:18:55.603477",
     "exception": false,
     "start_time": "2023-07-20T16:18:55.571164",
     "status": "completed"
    },
    "tags": []
   },
   "source": [
    "### Other Models\n"
   ]
  },
  {
   "cell_type": "markdown",
   "id": "6aae00f1",
   "metadata": {
    "papermill": {
     "duration": 0.029189,
     "end_time": "2023-07-20T16:18:55.662030",
     "exception": false,
     "start_time": "2023-07-20T16:18:55.632841",
     "status": "completed"
    },
    "tags": []
   },
   "source": [
    "KNN Regression"
   ]
  },
  {
   "cell_type": "code",
   "execution_count": 51,
   "id": "20e1b3e1",
   "metadata": {
    "execution": {
     "iopub.execute_input": "2023-07-20T16:18:55.723329Z",
     "iopub.status.busy": "2023-07-20T16:18:55.722609Z",
     "iopub.status.idle": "2023-07-20T16:18:55.846001Z",
     "shell.execute_reply": "2023-07-20T16:18:55.844797Z"
    },
    "papermill": {
     "duration": 0.157362,
     "end_time": "2023-07-20T16:18:55.848711",
     "exception": false,
     "start_time": "2023-07-20T16:18:55.691349",
     "status": "completed"
    },
    "tags": []
   },
   "outputs": [],
   "source": [
    "from sklearn.neighbors import KNeighborsRegressor\n"
   ]
  },
  {
   "cell_type": "code",
   "execution_count": 52,
   "id": "4acedf52",
   "metadata": {
    "execution": {
     "iopub.execute_input": "2023-07-20T16:18:55.909048Z",
     "iopub.status.busy": "2023-07-20T16:18:55.908638Z",
     "iopub.status.idle": "2023-07-20T16:18:55.913995Z",
     "shell.execute_reply": "2023-07-20T16:18:55.912601Z"
    },
    "papermill": {
     "duration": 0.038169,
     "end_time": "2023-07-20T16:18:55.916242",
     "exception": false,
     "start_time": "2023-07-20T16:18:55.878073",
     "status": "completed"
    },
    "tags": []
   },
   "outputs": [],
   "source": [
    "knn = KNeighborsRegressor()"
   ]
  },
  {
   "cell_type": "code",
   "execution_count": 53,
   "id": "b1ac509a",
   "metadata": {
    "execution": {
     "iopub.execute_input": "2023-07-20T16:18:55.976731Z",
     "iopub.status.busy": "2023-07-20T16:18:55.976294Z",
     "iopub.status.idle": "2023-07-20T16:18:55.981728Z",
     "shell.execute_reply": "2023-07-20T16:18:55.980481Z"
    },
    "papermill": {
     "duration": 0.038636,
     "end_time": "2023-07-20T16:18:55.984367",
     "exception": false,
     "start_time": "2023-07-20T16:18:55.945731",
     "status": "completed"
    },
    "tags": []
   },
   "outputs": [],
   "source": [
    "pipe = make_pipeline(column_trans,scaler,knn)"
   ]
  },
  {
   "cell_type": "code",
   "execution_count": 54,
   "id": "de045927",
   "metadata": {
    "execution": {
     "iopub.execute_input": "2023-07-20T16:18:56.045897Z",
     "iopub.status.busy": "2023-07-20T16:18:56.045479Z",
     "iopub.status.idle": "2023-07-20T16:18:56.125932Z",
     "shell.execute_reply": "2023-07-20T16:18:56.124577Z"
    },
    "papermill": {
     "duration": 0.113734,
     "end_time": "2023-07-20T16:18:56.128259",
     "exception": false,
     "start_time": "2023-07-20T16:18:56.014525",
     "status": "completed"
    },
    "tags": []
   },
   "outputs": [
    {
     "name": "stderr",
     "output_type": "stream",
     "text": [
      "/opt/conda/lib/python3.10/site-packages/sklearn/preprocessing/_encoders.py:868: FutureWarning: `sparse` was renamed to `sparse_output` in version 1.2 and will be removed in 1.4. `sparse_output` is ignored unless you leave `sparse` to its default value.\n",
      "  warnings.warn(\n"
     ]
    },
    {
     "data": {
      "text/html": [
       "<style>#sk-container-id-4 {color: black;background-color: white;}#sk-container-id-4 pre{padding: 0;}#sk-container-id-4 div.sk-toggleable {background-color: white;}#sk-container-id-4 label.sk-toggleable__label {cursor: pointer;display: block;width: 100%;margin-bottom: 0;padding: 0.3em;box-sizing: border-box;text-align: center;}#sk-container-id-4 label.sk-toggleable__label-arrow:before {content: \"▸\";float: left;margin-right: 0.25em;color: #696969;}#sk-container-id-4 label.sk-toggleable__label-arrow:hover:before {color: black;}#sk-container-id-4 div.sk-estimator:hover label.sk-toggleable__label-arrow:before {color: black;}#sk-container-id-4 div.sk-toggleable__content {max-height: 0;max-width: 0;overflow: hidden;text-align: left;background-color: #f0f8ff;}#sk-container-id-4 div.sk-toggleable__content pre {margin: 0.2em;color: black;border-radius: 0.25em;background-color: #f0f8ff;}#sk-container-id-4 input.sk-toggleable__control:checked~div.sk-toggleable__content {max-height: 200px;max-width: 100%;overflow: auto;}#sk-container-id-4 input.sk-toggleable__control:checked~label.sk-toggleable__label-arrow:before {content: \"▾\";}#sk-container-id-4 div.sk-estimator input.sk-toggleable__control:checked~label.sk-toggleable__label {background-color: #d4ebff;}#sk-container-id-4 div.sk-label input.sk-toggleable__control:checked~label.sk-toggleable__label {background-color: #d4ebff;}#sk-container-id-4 input.sk-hidden--visually {border: 0;clip: rect(1px 1px 1px 1px);clip: rect(1px, 1px, 1px, 1px);height: 1px;margin: -1px;overflow: hidden;padding: 0;position: absolute;width: 1px;}#sk-container-id-4 div.sk-estimator {font-family: monospace;background-color: #f0f8ff;border: 1px dotted black;border-radius: 0.25em;box-sizing: border-box;margin-bottom: 0.5em;}#sk-container-id-4 div.sk-estimator:hover {background-color: #d4ebff;}#sk-container-id-4 div.sk-parallel-item::after {content: \"\";width: 100%;border-bottom: 1px solid gray;flex-grow: 1;}#sk-container-id-4 div.sk-label:hover label.sk-toggleable__label {background-color: #d4ebff;}#sk-container-id-4 div.sk-serial::before {content: \"\";position: absolute;border-left: 1px solid gray;box-sizing: border-box;top: 0;bottom: 0;left: 50%;z-index: 0;}#sk-container-id-4 div.sk-serial {display: flex;flex-direction: column;align-items: center;background-color: white;padding-right: 0.2em;padding-left: 0.2em;position: relative;}#sk-container-id-4 div.sk-item {position: relative;z-index: 1;}#sk-container-id-4 div.sk-parallel {display: flex;align-items: stretch;justify-content: center;background-color: white;position: relative;}#sk-container-id-4 div.sk-item::before, #sk-container-id-4 div.sk-parallel-item::before {content: \"\";position: absolute;border-left: 1px solid gray;box-sizing: border-box;top: 0;bottom: 0;left: 50%;z-index: -1;}#sk-container-id-4 div.sk-parallel-item {display: flex;flex-direction: column;z-index: 1;position: relative;background-color: white;}#sk-container-id-4 div.sk-parallel-item:first-child::after {align-self: flex-end;width: 50%;}#sk-container-id-4 div.sk-parallel-item:last-child::after {align-self: flex-start;width: 50%;}#sk-container-id-4 div.sk-parallel-item:only-child::after {width: 0;}#sk-container-id-4 div.sk-dashed-wrapped {border: 1px dashed gray;margin: 0 0.4em 0.5em 0.4em;box-sizing: border-box;padding-bottom: 0.4em;background-color: white;}#sk-container-id-4 div.sk-label label {font-family: monospace;font-weight: bold;display: inline-block;line-height: 1.2em;}#sk-container-id-4 div.sk-label-container {text-align: center;}#sk-container-id-4 div.sk-container {/* jupyter's `normalize.less` sets `[hidden] { display: none; }` but bootstrap.min.css set `[hidden] { display: none !important; }` so we also need the `!important` here to be able to override the default hidden behavior on the sphinx rendered scikit-learn.org. See: https://github.com/scikit-learn/scikit-learn/issues/21755 */display: inline-block !important;position: relative;}#sk-container-id-4 div.sk-text-repr-fallback {display: none;}</style><div id=\"sk-container-id-4\" class=\"sk-top-container\"><div class=\"sk-text-repr-fallback\"><pre>Pipeline(steps=[(&#x27;columntransformer&#x27;,\n",
       "                 ColumnTransformer(remainder=&#x27;passthrough&#x27;,\n",
       "                                   transformers=[(&#x27;onehotencoder&#x27;,\n",
       "                                                  OneHotEncoder(sparse=False),\n",
       "                                                  [2])])),\n",
       "                (&#x27;standardscaler&#x27;, StandardScaler()),\n",
       "                (&#x27;kneighborsregressor&#x27;, KNeighborsRegressor())])</pre><b>In a Jupyter environment, please rerun this cell to show the HTML representation or trust the notebook. <br />On GitHub, the HTML representation is unable to render, please try loading this page with nbviewer.org.</b></div><div class=\"sk-container\" hidden><div class=\"sk-item sk-dashed-wrapped\"><div class=\"sk-label-container\"><div class=\"sk-label sk-toggleable\"><input class=\"sk-toggleable__control sk-hidden--visually\" id=\"sk-estimator-id-25\" type=\"checkbox\" ><label for=\"sk-estimator-id-25\" class=\"sk-toggleable__label sk-toggleable__label-arrow\">Pipeline</label><div class=\"sk-toggleable__content\"><pre>Pipeline(steps=[(&#x27;columntransformer&#x27;,\n",
       "                 ColumnTransformer(remainder=&#x27;passthrough&#x27;,\n",
       "                                   transformers=[(&#x27;onehotencoder&#x27;,\n",
       "                                                  OneHotEncoder(sparse=False),\n",
       "                                                  [2])])),\n",
       "                (&#x27;standardscaler&#x27;, StandardScaler()),\n",
       "                (&#x27;kneighborsregressor&#x27;, KNeighborsRegressor())])</pre></div></div></div><div class=\"sk-serial\"><div class=\"sk-item sk-dashed-wrapped\"><div class=\"sk-label-container\"><div class=\"sk-label sk-toggleable\"><input class=\"sk-toggleable__control sk-hidden--visually\" id=\"sk-estimator-id-26\" type=\"checkbox\" ><label for=\"sk-estimator-id-26\" class=\"sk-toggleable__label sk-toggleable__label-arrow\">columntransformer: ColumnTransformer</label><div class=\"sk-toggleable__content\"><pre>ColumnTransformer(remainder=&#x27;passthrough&#x27;,\n",
       "                  transformers=[(&#x27;onehotencoder&#x27;, OneHotEncoder(sparse=False),\n",
       "                                 [2])])</pre></div></div></div><div class=\"sk-parallel\"><div class=\"sk-parallel-item\"><div class=\"sk-item\"><div class=\"sk-label-container\"><div class=\"sk-label sk-toggleable\"><input class=\"sk-toggleable__control sk-hidden--visually\" id=\"sk-estimator-id-27\" type=\"checkbox\" ><label for=\"sk-estimator-id-27\" class=\"sk-toggleable__label sk-toggleable__label-arrow\">onehotencoder</label><div class=\"sk-toggleable__content\"><pre>[2]</pre></div></div></div><div class=\"sk-serial\"><div class=\"sk-item\"><div class=\"sk-estimator sk-toggleable\"><input class=\"sk-toggleable__control sk-hidden--visually\" id=\"sk-estimator-id-28\" type=\"checkbox\" ><label for=\"sk-estimator-id-28\" class=\"sk-toggleable__label sk-toggleable__label-arrow\">OneHotEncoder</label><div class=\"sk-toggleable__content\"><pre>OneHotEncoder(sparse=False)</pre></div></div></div></div></div></div><div class=\"sk-parallel-item\"><div class=\"sk-item\"><div class=\"sk-label-container\"><div class=\"sk-label sk-toggleable\"><input class=\"sk-toggleable__control sk-hidden--visually\" id=\"sk-estimator-id-29\" type=\"checkbox\" ><label for=\"sk-estimator-id-29\" class=\"sk-toggleable__label sk-toggleable__label-arrow\">remainder</label><div class=\"sk-toggleable__content\"><pre>[&#x27;size_sq_ft&#x27;, &#x27;bedrooms&#x27;, &#x27;price_per_sqft&#x27;]</pre></div></div></div><div class=\"sk-serial\"><div class=\"sk-item\"><div class=\"sk-estimator sk-toggleable\"><input class=\"sk-toggleable__control sk-hidden--visually\" id=\"sk-estimator-id-30\" type=\"checkbox\" ><label for=\"sk-estimator-id-30\" class=\"sk-toggleable__label sk-toggleable__label-arrow\">passthrough</label><div class=\"sk-toggleable__content\"><pre>passthrough</pre></div></div></div></div></div></div></div></div><div class=\"sk-item\"><div class=\"sk-estimator sk-toggleable\"><input class=\"sk-toggleable__control sk-hidden--visually\" id=\"sk-estimator-id-31\" type=\"checkbox\" ><label for=\"sk-estimator-id-31\" class=\"sk-toggleable__label sk-toggleable__label-arrow\">StandardScaler</label><div class=\"sk-toggleable__content\"><pre>StandardScaler()</pre></div></div></div><div class=\"sk-item\"><div class=\"sk-estimator sk-toggleable\"><input class=\"sk-toggleable__control sk-hidden--visually\" id=\"sk-estimator-id-32\" type=\"checkbox\" ><label for=\"sk-estimator-id-32\" class=\"sk-toggleable__label sk-toggleable__label-arrow\">KNeighborsRegressor</label><div class=\"sk-toggleable__content\"><pre>KNeighborsRegressor()</pre></div></div></div></div></div></div></div>"
      ],
      "text/plain": [
       "Pipeline(steps=[('columntransformer',\n",
       "                 ColumnTransformer(remainder='passthrough',\n",
       "                                   transformers=[('onehotencoder',\n",
       "                                                  OneHotEncoder(sparse=False),\n",
       "                                                  [2])])),\n",
       "                ('standardscaler', StandardScaler()),\n",
       "                ('kneighborsregressor', KNeighborsRegressor())])"
      ]
     },
     "execution_count": 54,
     "metadata": {},
     "output_type": "execute_result"
    }
   ],
   "source": [
    "pipe.fit(X_train,y_train)"
   ]
  },
  {
   "cell_type": "code",
   "execution_count": 55,
   "id": "2b7dbb30",
   "metadata": {
    "execution": {
     "iopub.execute_input": "2023-07-20T16:18:56.189817Z",
     "iopub.status.busy": "2023-07-20T16:18:56.189362Z",
     "iopub.status.idle": "2023-07-20T16:18:56.456156Z",
     "shell.execute_reply": "2023-07-20T16:18:56.455173Z"
    },
    "papermill": {
     "duration": 0.300633,
     "end_time": "2023-07-20T16:18:56.458779",
     "exception": false,
     "start_time": "2023-07-20T16:18:56.158146",
     "status": "completed"
    },
    "tags": []
   },
   "outputs": [],
   "source": [
    "yp_knn = pipe.predict(X_test)"
   ]
  },
  {
   "cell_type": "code",
   "execution_count": 56,
   "id": "c5e7a9a6",
   "metadata": {
    "execution": {
     "iopub.execute_input": "2023-07-20T16:18:56.521170Z",
     "iopub.status.busy": "2023-07-20T16:18:56.520766Z",
     "iopub.status.idle": "2023-07-20T16:18:56.529174Z",
     "shell.execute_reply": "2023-07-20T16:18:56.528303Z"
    },
    "papermill": {
     "duration": 0.041436,
     "end_time": "2023-07-20T16:18:56.531326",
     "exception": false,
     "start_time": "2023-07-20T16:18:56.489890",
     "status": "completed"
    },
    "tags": []
   },
   "outputs": [
    {
     "data": {
      "text/plain": [
       "0.8393268079437552"
      ]
     },
     "execution_count": 56,
     "metadata": {},
     "output_type": "execute_result"
    }
   ],
   "source": [
    "r2_score(y_test,yp_knn)"
   ]
  },
  {
   "cell_type": "markdown",
   "id": "66acc1f8",
   "metadata": {
    "papermill": {
     "duration": 0.031043,
     "end_time": "2023-07-20T16:18:56.592734",
     "exception": false,
     "start_time": "2023-07-20T16:18:56.561691",
     "status": "completed"
    },
    "tags": []
   },
   "source": [
    "Decision Tree"
   ]
  },
  {
   "cell_type": "code",
   "execution_count": 57,
   "id": "f70fd063",
   "metadata": {
    "execution": {
     "iopub.execute_input": "2023-07-20T16:18:56.655277Z",
     "iopub.status.busy": "2023-07-20T16:18:56.654064Z",
     "iopub.status.idle": "2023-07-20T16:18:56.704858Z",
     "shell.execute_reply": "2023-07-20T16:18:56.703923Z"
    },
    "papermill": {
     "duration": 0.084547,
     "end_time": "2023-07-20T16:18:56.707495",
     "exception": false,
     "start_time": "2023-07-20T16:18:56.622948",
     "status": "completed"
    },
    "tags": []
   },
   "outputs": [],
   "source": [
    "from sklearn.tree import DecisionTreeRegressor\n",
    "from sklearn.model_selection import cross_val_score\n",
    "DT = DecisionTreeRegressor()"
   ]
  },
  {
   "cell_type": "code",
   "execution_count": 58,
   "id": "df9cf25d",
   "metadata": {
    "execution": {
     "iopub.execute_input": "2023-07-20T16:18:56.770478Z",
     "iopub.status.busy": "2023-07-20T16:18:56.769344Z",
     "iopub.status.idle": "2023-07-20T16:18:56.774763Z",
     "shell.execute_reply": "2023-07-20T16:18:56.773590Z"
    },
    "papermill": {
     "duration": 0.039018,
     "end_time": "2023-07-20T16:18:56.777048",
     "exception": false,
     "start_time": "2023-07-20T16:18:56.738030",
     "status": "completed"
    },
    "tags": []
   },
   "outputs": [],
   "source": [
    "pipe = make_pipeline(column_trans,scaler,DT)"
   ]
  },
  {
   "cell_type": "code",
   "execution_count": 59,
   "id": "8e94e1cc",
   "metadata": {
    "execution": {
     "iopub.execute_input": "2023-07-20T16:18:56.838917Z",
     "iopub.status.busy": "2023-07-20T16:18:56.838138Z",
     "iopub.status.idle": "2023-07-20T16:18:57.010917Z",
     "shell.execute_reply": "2023-07-20T16:18:57.009627Z"
    },
    "papermill": {
     "duration": 0.206435,
     "end_time": "2023-07-20T16:18:57.013365",
     "exception": false,
     "start_time": "2023-07-20T16:18:56.806930",
     "status": "completed"
    },
    "tags": []
   },
   "outputs": [
    {
     "name": "stderr",
     "output_type": "stream",
     "text": [
      "/opt/conda/lib/python3.10/site-packages/sklearn/preprocessing/_encoders.py:868: FutureWarning: `sparse` was renamed to `sparse_output` in version 1.2 and will be removed in 1.4. `sparse_output` is ignored unless you leave `sparse` to its default value.\n",
      "  warnings.warn(\n"
     ]
    },
    {
     "data": {
      "text/html": [
       "<style>#sk-container-id-5 {color: black;background-color: white;}#sk-container-id-5 pre{padding: 0;}#sk-container-id-5 div.sk-toggleable {background-color: white;}#sk-container-id-5 label.sk-toggleable__label {cursor: pointer;display: block;width: 100%;margin-bottom: 0;padding: 0.3em;box-sizing: border-box;text-align: center;}#sk-container-id-5 label.sk-toggleable__label-arrow:before {content: \"▸\";float: left;margin-right: 0.25em;color: #696969;}#sk-container-id-5 label.sk-toggleable__label-arrow:hover:before {color: black;}#sk-container-id-5 div.sk-estimator:hover label.sk-toggleable__label-arrow:before {color: black;}#sk-container-id-5 div.sk-toggleable__content {max-height: 0;max-width: 0;overflow: hidden;text-align: left;background-color: #f0f8ff;}#sk-container-id-5 div.sk-toggleable__content pre {margin: 0.2em;color: black;border-radius: 0.25em;background-color: #f0f8ff;}#sk-container-id-5 input.sk-toggleable__control:checked~div.sk-toggleable__content {max-height: 200px;max-width: 100%;overflow: auto;}#sk-container-id-5 input.sk-toggleable__control:checked~label.sk-toggleable__label-arrow:before {content: \"▾\";}#sk-container-id-5 div.sk-estimator input.sk-toggleable__control:checked~label.sk-toggleable__label {background-color: #d4ebff;}#sk-container-id-5 div.sk-label input.sk-toggleable__control:checked~label.sk-toggleable__label {background-color: #d4ebff;}#sk-container-id-5 input.sk-hidden--visually {border: 0;clip: rect(1px 1px 1px 1px);clip: rect(1px, 1px, 1px, 1px);height: 1px;margin: -1px;overflow: hidden;padding: 0;position: absolute;width: 1px;}#sk-container-id-5 div.sk-estimator {font-family: monospace;background-color: #f0f8ff;border: 1px dotted black;border-radius: 0.25em;box-sizing: border-box;margin-bottom: 0.5em;}#sk-container-id-5 div.sk-estimator:hover {background-color: #d4ebff;}#sk-container-id-5 div.sk-parallel-item::after {content: \"\";width: 100%;border-bottom: 1px solid gray;flex-grow: 1;}#sk-container-id-5 div.sk-label:hover label.sk-toggleable__label {background-color: #d4ebff;}#sk-container-id-5 div.sk-serial::before {content: \"\";position: absolute;border-left: 1px solid gray;box-sizing: border-box;top: 0;bottom: 0;left: 50%;z-index: 0;}#sk-container-id-5 div.sk-serial {display: flex;flex-direction: column;align-items: center;background-color: white;padding-right: 0.2em;padding-left: 0.2em;position: relative;}#sk-container-id-5 div.sk-item {position: relative;z-index: 1;}#sk-container-id-5 div.sk-parallel {display: flex;align-items: stretch;justify-content: center;background-color: white;position: relative;}#sk-container-id-5 div.sk-item::before, #sk-container-id-5 div.sk-parallel-item::before {content: \"\";position: absolute;border-left: 1px solid gray;box-sizing: border-box;top: 0;bottom: 0;left: 50%;z-index: -1;}#sk-container-id-5 div.sk-parallel-item {display: flex;flex-direction: column;z-index: 1;position: relative;background-color: white;}#sk-container-id-5 div.sk-parallel-item:first-child::after {align-self: flex-end;width: 50%;}#sk-container-id-5 div.sk-parallel-item:last-child::after {align-self: flex-start;width: 50%;}#sk-container-id-5 div.sk-parallel-item:only-child::after {width: 0;}#sk-container-id-5 div.sk-dashed-wrapped {border: 1px dashed gray;margin: 0 0.4em 0.5em 0.4em;box-sizing: border-box;padding-bottom: 0.4em;background-color: white;}#sk-container-id-5 div.sk-label label {font-family: monospace;font-weight: bold;display: inline-block;line-height: 1.2em;}#sk-container-id-5 div.sk-label-container {text-align: center;}#sk-container-id-5 div.sk-container {/* jupyter's `normalize.less` sets `[hidden] { display: none; }` but bootstrap.min.css set `[hidden] { display: none !important; }` so we also need the `!important` here to be able to override the default hidden behavior on the sphinx rendered scikit-learn.org. See: https://github.com/scikit-learn/scikit-learn/issues/21755 */display: inline-block !important;position: relative;}#sk-container-id-5 div.sk-text-repr-fallback {display: none;}</style><div id=\"sk-container-id-5\" class=\"sk-top-container\"><div class=\"sk-text-repr-fallback\"><pre>Pipeline(steps=[(&#x27;columntransformer&#x27;,\n",
       "                 ColumnTransformer(remainder=&#x27;passthrough&#x27;,\n",
       "                                   transformers=[(&#x27;onehotencoder&#x27;,\n",
       "                                                  OneHotEncoder(sparse=False),\n",
       "                                                  [2])])),\n",
       "                (&#x27;standardscaler&#x27;, StandardScaler()),\n",
       "                (&#x27;decisiontreeregressor&#x27;, DecisionTreeRegressor())])</pre><b>In a Jupyter environment, please rerun this cell to show the HTML representation or trust the notebook. <br />On GitHub, the HTML representation is unable to render, please try loading this page with nbviewer.org.</b></div><div class=\"sk-container\" hidden><div class=\"sk-item sk-dashed-wrapped\"><div class=\"sk-label-container\"><div class=\"sk-label sk-toggleable\"><input class=\"sk-toggleable__control sk-hidden--visually\" id=\"sk-estimator-id-33\" type=\"checkbox\" ><label for=\"sk-estimator-id-33\" class=\"sk-toggleable__label sk-toggleable__label-arrow\">Pipeline</label><div class=\"sk-toggleable__content\"><pre>Pipeline(steps=[(&#x27;columntransformer&#x27;,\n",
       "                 ColumnTransformer(remainder=&#x27;passthrough&#x27;,\n",
       "                                   transformers=[(&#x27;onehotencoder&#x27;,\n",
       "                                                  OneHotEncoder(sparse=False),\n",
       "                                                  [2])])),\n",
       "                (&#x27;standardscaler&#x27;, StandardScaler()),\n",
       "                (&#x27;decisiontreeregressor&#x27;, DecisionTreeRegressor())])</pre></div></div></div><div class=\"sk-serial\"><div class=\"sk-item sk-dashed-wrapped\"><div class=\"sk-label-container\"><div class=\"sk-label sk-toggleable\"><input class=\"sk-toggleable__control sk-hidden--visually\" id=\"sk-estimator-id-34\" type=\"checkbox\" ><label for=\"sk-estimator-id-34\" class=\"sk-toggleable__label sk-toggleable__label-arrow\">columntransformer: ColumnTransformer</label><div class=\"sk-toggleable__content\"><pre>ColumnTransformer(remainder=&#x27;passthrough&#x27;,\n",
       "                  transformers=[(&#x27;onehotencoder&#x27;, OneHotEncoder(sparse=False),\n",
       "                                 [2])])</pre></div></div></div><div class=\"sk-parallel\"><div class=\"sk-parallel-item\"><div class=\"sk-item\"><div class=\"sk-label-container\"><div class=\"sk-label sk-toggleable\"><input class=\"sk-toggleable__control sk-hidden--visually\" id=\"sk-estimator-id-35\" type=\"checkbox\" ><label for=\"sk-estimator-id-35\" class=\"sk-toggleable__label sk-toggleable__label-arrow\">onehotencoder</label><div class=\"sk-toggleable__content\"><pre>[2]</pre></div></div></div><div class=\"sk-serial\"><div class=\"sk-item\"><div class=\"sk-estimator sk-toggleable\"><input class=\"sk-toggleable__control sk-hidden--visually\" id=\"sk-estimator-id-36\" type=\"checkbox\" ><label for=\"sk-estimator-id-36\" class=\"sk-toggleable__label sk-toggleable__label-arrow\">OneHotEncoder</label><div class=\"sk-toggleable__content\"><pre>OneHotEncoder(sparse=False)</pre></div></div></div></div></div></div><div class=\"sk-parallel-item\"><div class=\"sk-item\"><div class=\"sk-label-container\"><div class=\"sk-label sk-toggleable\"><input class=\"sk-toggleable__control sk-hidden--visually\" id=\"sk-estimator-id-37\" type=\"checkbox\" ><label for=\"sk-estimator-id-37\" class=\"sk-toggleable__label sk-toggleable__label-arrow\">remainder</label><div class=\"sk-toggleable__content\"><pre>[&#x27;size_sq_ft&#x27;, &#x27;bedrooms&#x27;, &#x27;price_per_sqft&#x27;]</pre></div></div></div><div class=\"sk-serial\"><div class=\"sk-item\"><div class=\"sk-estimator sk-toggleable\"><input class=\"sk-toggleable__control sk-hidden--visually\" id=\"sk-estimator-id-38\" type=\"checkbox\" ><label for=\"sk-estimator-id-38\" class=\"sk-toggleable__label sk-toggleable__label-arrow\">passthrough</label><div class=\"sk-toggleable__content\"><pre>passthrough</pre></div></div></div></div></div></div></div></div><div class=\"sk-item\"><div class=\"sk-estimator sk-toggleable\"><input class=\"sk-toggleable__control sk-hidden--visually\" id=\"sk-estimator-id-39\" type=\"checkbox\" ><label for=\"sk-estimator-id-39\" class=\"sk-toggleable__label sk-toggleable__label-arrow\">StandardScaler</label><div class=\"sk-toggleable__content\"><pre>StandardScaler()</pre></div></div></div><div class=\"sk-item\"><div class=\"sk-estimator sk-toggleable\"><input class=\"sk-toggleable__control sk-hidden--visually\" id=\"sk-estimator-id-40\" type=\"checkbox\" ><label for=\"sk-estimator-id-40\" class=\"sk-toggleable__label sk-toggleable__label-arrow\">DecisionTreeRegressor</label><div class=\"sk-toggleable__content\"><pre>DecisionTreeRegressor()</pre></div></div></div></div></div></div></div>"
      ],
      "text/plain": [
       "Pipeline(steps=[('columntransformer',\n",
       "                 ColumnTransformer(remainder='passthrough',\n",
       "                                   transformers=[('onehotencoder',\n",
       "                                                  OneHotEncoder(sparse=False),\n",
       "                                                  [2])])),\n",
       "                ('standardscaler', StandardScaler()),\n",
       "                ('decisiontreeregressor', DecisionTreeRegressor())])"
      ]
     },
     "execution_count": 59,
     "metadata": {},
     "output_type": "execute_result"
    }
   ],
   "source": [
    "pipe.fit(X_train,y_train)"
   ]
  },
  {
   "cell_type": "code",
   "execution_count": 60,
   "id": "34d08116",
   "metadata": {
    "execution": {
     "iopub.execute_input": "2023-07-20T16:18:57.077014Z",
     "iopub.status.busy": "2023-07-20T16:18:57.076634Z",
     "iopub.status.idle": "2023-07-20T16:18:57.091342Z",
     "shell.execute_reply": "2023-07-20T16:18:57.090329Z"
    },
    "papermill": {
     "duration": 0.049442,
     "end_time": "2023-07-20T16:18:57.094097",
     "exception": false,
     "start_time": "2023-07-20T16:18:57.044655",
     "status": "completed"
    },
    "tags": []
   },
   "outputs": [],
   "source": [
    "yp_DT = pipe.predict(X_test)"
   ]
  },
  {
   "cell_type": "code",
   "execution_count": 61,
   "id": "f60f483b",
   "metadata": {
    "execution": {
     "iopub.execute_input": "2023-07-20T16:18:57.156703Z",
     "iopub.status.busy": "2023-07-20T16:18:57.156267Z",
     "iopub.status.idle": "2023-07-20T16:18:57.164310Z",
     "shell.execute_reply": "2023-07-20T16:18:57.163167Z"
    },
    "papermill": {
     "duration": 0.042195,
     "end_time": "2023-07-20T16:18:57.166538",
     "exception": false,
     "start_time": "2023-07-20T16:18:57.124343",
     "status": "completed"
    },
    "tags": []
   },
   "outputs": [
    {
     "data": {
      "text/plain": [
       "0.9338577641302259"
      ]
     },
     "execution_count": 61,
     "metadata": {},
     "output_type": "execute_result"
    }
   ],
   "source": [
    "r2_score(y_test,yp_DT)"
   ]
  },
  {
   "cell_type": "markdown",
   "id": "2f44946e",
   "metadata": {
    "papermill": {
     "duration": 0.030177,
     "end_time": "2023-07-20T16:18:57.227178",
     "exception": false,
     "start_time": "2023-07-20T16:18:57.197001",
     "status": "completed"
    },
    "tags": []
   },
   "source": [
    "Random Forest"
   ]
  },
  {
   "cell_type": "code",
   "execution_count": 62,
   "id": "a5f4fa9b",
   "metadata": {
    "execution": {
     "iopub.execute_input": "2023-07-20T16:18:57.291048Z",
     "iopub.status.busy": "2023-07-20T16:18:57.290638Z",
     "iopub.status.idle": "2023-07-20T16:18:57.427260Z",
     "shell.execute_reply": "2023-07-20T16:18:57.426071Z"
    },
    "papermill": {
     "duration": 0.172933,
     "end_time": "2023-07-20T16:18:57.430774",
     "exception": false,
     "start_time": "2023-07-20T16:18:57.257841",
     "status": "completed"
    },
    "tags": []
   },
   "outputs": [],
   "source": [
    "from sklearn.ensemble import RandomForestRegressor\n",
    "RF = RandomForestRegressor()"
   ]
  },
  {
   "cell_type": "code",
   "execution_count": 63,
   "id": "7d72a042",
   "metadata": {
    "execution": {
     "iopub.execute_input": "2023-07-20T16:18:57.493472Z",
     "iopub.status.busy": "2023-07-20T16:18:57.493013Z",
     "iopub.status.idle": "2023-07-20T16:19:03.952806Z",
     "shell.execute_reply": "2023-07-20T16:19:03.951999Z"
    },
    "papermill": {
     "duration": 6.493528,
     "end_time": "2023-07-20T16:19:03.954869",
     "exception": false,
     "start_time": "2023-07-20T16:18:57.461341",
     "status": "completed"
    },
    "tags": []
   },
   "outputs": [
    {
     "name": "stderr",
     "output_type": "stream",
     "text": [
      "/opt/conda/lib/python3.10/site-packages/sklearn/preprocessing/_encoders.py:868: FutureWarning: `sparse` was renamed to `sparse_output` in version 1.2 and will be removed in 1.4. `sparse_output` is ignored unless you leave `sparse` to its default value.\n",
      "  warnings.warn(\n"
     ]
    },
    {
     "data": {
      "text/plain": [
       "0.9563004803719459"
      ]
     },
     "execution_count": 63,
     "metadata": {},
     "output_type": "execute_result"
    }
   ],
   "source": [
    "pipe = make_pipeline(column_trans,scaler,RF)\n",
    "pipe.fit(X_train,y_train)\n",
    "yp_RF = pipe.predict(X_test)\n",
    "r2_score(y_test,yp_RF)"
   ]
  },
  {
   "cell_type": "markdown",
   "id": "8ddc20cc",
   "metadata": {
    "papermill": {
     "duration": 0.0305,
     "end_time": "2023-07-20T16:19:04.017176",
     "exception": false,
     "start_time": "2023-07-20T16:19:03.986676",
     "status": "completed"
    },
    "tags": []
   },
   "source": [
    "XGBoost Regression"
   ]
  },
  {
   "cell_type": "code",
   "execution_count": 64,
   "id": "1451c3d8",
   "metadata": {
    "execution": {
     "iopub.execute_input": "2023-07-20T16:19:04.082374Z",
     "iopub.status.busy": "2023-07-20T16:19:04.081619Z",
     "iopub.status.idle": "2023-07-20T16:19:04.280058Z",
     "shell.execute_reply": "2023-07-20T16:19:04.278892Z"
    },
    "papermill": {
     "duration": 0.235111,
     "end_time": "2023-07-20T16:19:04.283045",
     "exception": false,
     "start_time": "2023-07-20T16:19:04.047934",
     "status": "completed"
    },
    "tags": []
   },
   "outputs": [],
   "source": [
    "from xgboost import XGBRegressor\n",
    "XG = XGBRegressor()"
   ]
  },
  {
   "cell_type": "code",
   "execution_count": 65,
   "id": "ac1aa68d",
   "metadata": {
    "execution": {
     "iopub.execute_input": "2023-07-20T16:19:04.347814Z",
     "iopub.status.busy": "2023-07-20T16:19:04.347382Z",
     "iopub.status.idle": "2023-07-20T16:19:08.014819Z",
     "shell.execute_reply": "2023-07-20T16:19:08.013867Z"
    },
    "papermill": {
     "duration": 3.703195,
     "end_time": "2023-07-20T16:19:08.017674",
     "exception": false,
     "start_time": "2023-07-20T16:19:04.314479",
     "status": "completed"
    },
    "tags": []
   },
   "outputs": [
    {
     "name": "stderr",
     "output_type": "stream",
     "text": [
      "/opt/conda/lib/python3.10/site-packages/sklearn/preprocessing/_encoders.py:868: FutureWarning: `sparse` was renamed to `sparse_output` in version 1.2 and will be removed in 1.4. `sparse_output` is ignored unless you leave `sparse` to its default value.\n",
      "  warnings.warn(\n"
     ]
    },
    {
     "data": {
      "text/plain": [
       "0.9535711350091121"
      ]
     },
     "execution_count": 65,
     "metadata": {},
     "output_type": "execute_result"
    }
   ],
   "source": [
    "pipe = make_pipeline(column_trans,scaler,XG)\n",
    "pipe.fit(X_train,y_train)\n",
    "yp_XG = pipe.predict(X_test)\n",
    "r2_score(y_test,yp_XG)"
   ]
  },
  {
   "cell_type": "markdown",
   "id": "8c8a9eae",
   "metadata": {
    "papermill": {
     "duration": 0.031717,
     "end_time": "2023-07-20T16:19:08.082332",
     "exception": false,
     "start_time": "2023-07-20T16:19:08.050615",
     "status": "completed"
    },
    "tags": []
   },
   "source": [
    "Gradient Boosting"
   ]
  },
  {
   "cell_type": "code",
   "execution_count": 66,
   "id": "a14bff33",
   "metadata": {
    "execution": {
     "iopub.execute_input": "2023-07-20T16:19:08.147849Z",
     "iopub.status.busy": "2023-07-20T16:19:08.147460Z",
     "iopub.status.idle": "2023-07-20T16:19:08.152431Z",
     "shell.execute_reply": "2023-07-20T16:19:08.151175Z"
    },
    "papermill": {
     "duration": 0.039961,
     "end_time": "2023-07-20T16:19:08.154721",
     "exception": false,
     "start_time": "2023-07-20T16:19:08.114760",
     "status": "completed"
    },
    "tags": []
   },
   "outputs": [],
   "source": [
    "from sklearn.ensemble import GradientBoostingRegressor\n",
    "GB = GradientBoostingRegressor()"
   ]
  },
  {
   "cell_type": "code",
   "execution_count": 67,
   "id": "e0e56e3d",
   "metadata": {
    "execution": {
     "iopub.execute_input": "2023-07-20T16:19:08.218689Z",
     "iopub.status.busy": "2023-07-20T16:19:08.218273Z",
     "iopub.status.idle": "2023-07-20T16:19:11.503830Z",
     "shell.execute_reply": "2023-07-20T16:19:11.502720Z"
    },
    "papermill": {
     "duration": 3.32079,
     "end_time": "2023-07-20T16:19:11.506320",
     "exception": false,
     "start_time": "2023-07-20T16:19:08.185530",
     "status": "completed"
    },
    "tags": []
   },
   "outputs": [
    {
     "name": "stderr",
     "output_type": "stream",
     "text": [
      "/opt/conda/lib/python3.10/site-packages/sklearn/preprocessing/_encoders.py:868: FutureWarning: `sparse` was renamed to `sparse_output` in version 1.2 and will be removed in 1.4. `sparse_output` is ignored unless you leave `sparse` to its default value.\n",
      "  warnings.warn(\n"
     ]
    },
    {
     "data": {
      "text/plain": [
       "0.9701977337439618"
      ]
     },
     "execution_count": 67,
     "metadata": {},
     "output_type": "execute_result"
    }
   ],
   "source": [
    "pipe_best = make_pipeline(column_trans,scaler,GB)\n",
    "pipe_best.fit(X_train,y_train)\n",
    "yp_GB = pipe_best.predict(X_test)\n",
    "r2_score(y_test,yp_GB)"
   ]
  }
 ],
 "metadata": {
  "kernelspec": {
   "display_name": "Python 3",
   "language": "python",
   "name": "python3"
  },
  "language_info": {
   "codemirror_mode": {
    "name": "ipython",
    "version": 3
   },
   "file_extension": ".py",
   "mimetype": "text/x-python",
   "name": "python",
   "nbconvert_exporter": "python",
   "pygments_lexer": "ipython3",
   "version": "3.10.12"
  },
  "papermill": {
   "default_parameters": {},
   "duration": 38.833678,
   "end_time": "2023-07-20T16:19:12.560548",
   "environment_variables": {},
   "exception": null,
   "input_path": "__notebook__.ipynb",
   "output_path": "__notebook__.ipynb",
   "parameters": {},
   "start_time": "2023-07-20T16:18:33.726870",
   "version": "2.4.0"
  }
 },
 "nbformat": 4,
 "nbformat_minor": 5
}
