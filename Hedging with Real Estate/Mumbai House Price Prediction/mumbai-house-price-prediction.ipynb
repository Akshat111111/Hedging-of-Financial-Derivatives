{
 "cells": [
  {
   "cell_type": "code",
   "execution_count": 1,
   "id": "68feb8fd",
   "metadata": {
    "execution": {
     "iopub.execute_input": "2024-07-16T04:42:43.819524Z",
     "iopub.status.busy": "2024-07-16T04:42:43.819116Z",
     "iopub.status.idle": "2024-07-16T04:42:45.079446Z",
     "shell.execute_reply": "2024-07-16T04:42:45.078277Z"
    },
    "papermill": {
     "duration": 1.273529,
     "end_time": "2024-07-16T04:42:45.082687",
     "exception": false,
     "start_time": "2024-07-16T04:42:43.809158",
     "status": "completed"
    },
    "tags": []
   },
   "outputs": [],
   "source": [
    "# Importing necessary libraries\n",
    "import pandas as pd\n",
    "import numpy as np"
   ]
  },
  {
   "cell_type": "code",
   "execution_count": 2,
   "id": "b0c46898",
   "metadata": {
    "execution": {
     "iopub.execute_input": "2024-07-16T04:42:45.099719Z",
     "iopub.status.busy": "2024-07-16T04:42:45.099149Z",
     "iopub.status.idle": "2024-07-16T04:42:45.359721Z",
     "shell.execute_reply": "2024-07-16T04:42:45.358369Z"
    },
    "papermill": {
     "duration": 0.272346,
     "end_time": "2024-07-16T04:42:45.362646",
     "exception": false,
     "start_time": "2024-07-16T04:42:45.090300",
     "status": "completed"
    },
    "tags": []
   },
   "outputs": [],
   "source": [
    "# Reading the dataset\n",
    "df = pd.read_csv('/kaggle/input/mumbai-house-prices/Mumbai House Prices.csv')"
   ]
  },
  {
   "cell_type": "code",
   "execution_count": 3,
   "id": "a58ccfbc",
   "metadata": {
    "execution": {
     "iopub.execute_input": "2024-07-16T04:42:45.379947Z",
     "iopub.status.busy": "2024-07-16T04:42:45.379510Z",
     "iopub.status.idle": "2024-07-16T04:42:45.411095Z",
     "shell.execute_reply": "2024-07-16T04:42:45.409763Z"
    },
    "papermill": {
     "duration": 0.04361,
     "end_time": "2024-07-16T04:42:45.413828",
     "exception": false,
     "start_time": "2024-07-16T04:42:45.370218",
     "status": "completed"
    },
    "tags": []
   },
   "outputs": [
    {
     "data": {
      "text/html": [
       "<div>\n",
       "<style scoped>\n",
       "    .dataframe tbody tr th:only-of-type {\n",
       "        vertical-align: middle;\n",
       "    }\n",
       "\n",
       "    .dataframe tbody tr th {\n",
       "        vertical-align: top;\n",
       "    }\n",
       "\n",
       "    .dataframe thead th {\n",
       "        text-align: right;\n",
       "    }\n",
       "</style>\n",
       "<table border=\"1\" class=\"dataframe\">\n",
       "  <thead>\n",
       "    <tr style=\"text-align: right;\">\n",
       "      <th></th>\n",
       "      <th>bhk</th>\n",
       "      <th>type</th>\n",
       "      <th>locality</th>\n",
       "      <th>area</th>\n",
       "      <th>price</th>\n",
       "      <th>price_unit</th>\n",
       "      <th>region</th>\n",
       "      <th>status</th>\n",
       "      <th>age</th>\n",
       "    </tr>\n",
       "  </thead>\n",
       "  <tbody>\n",
       "    <tr>\n",
       "      <th>0</th>\n",
       "      <td>3</td>\n",
       "      <td>Apartment</td>\n",
       "      <td>Lak And Hanware The Residency Tower</td>\n",
       "      <td>685</td>\n",
       "      <td>2.50</td>\n",
       "      <td>Cr</td>\n",
       "      <td>Andheri West</td>\n",
       "      <td>Ready to move</td>\n",
       "      <td>New</td>\n",
       "    </tr>\n",
       "    <tr>\n",
       "      <th>1</th>\n",
       "      <td>2</td>\n",
       "      <td>Apartment</td>\n",
       "      <td>Radheya Sai Enclave Building No 2</td>\n",
       "      <td>640</td>\n",
       "      <td>52.51</td>\n",
       "      <td>L</td>\n",
       "      <td>Naigaon East</td>\n",
       "      <td>Under Construction</td>\n",
       "      <td>New</td>\n",
       "    </tr>\n",
       "    <tr>\n",
       "      <th>2</th>\n",
       "      <td>2</td>\n",
       "      <td>Apartment</td>\n",
       "      <td>Romell Serene</td>\n",
       "      <td>610</td>\n",
       "      <td>1.73</td>\n",
       "      <td>Cr</td>\n",
       "      <td>Borivali West</td>\n",
       "      <td>Under Construction</td>\n",
       "      <td>New</td>\n",
       "    </tr>\n",
       "    <tr>\n",
       "      <th>3</th>\n",
       "      <td>2</td>\n",
       "      <td>Apartment</td>\n",
       "      <td>Soundlines Codename Urban Rainforest</td>\n",
       "      <td>876</td>\n",
       "      <td>59.98</td>\n",
       "      <td>L</td>\n",
       "      <td>Panvel</td>\n",
       "      <td>Under Construction</td>\n",
       "      <td>New</td>\n",
       "    </tr>\n",
       "    <tr>\n",
       "      <th>4</th>\n",
       "      <td>2</td>\n",
       "      <td>Apartment</td>\n",
       "      <td>Origin Oriana</td>\n",
       "      <td>659</td>\n",
       "      <td>94.11</td>\n",
       "      <td>L</td>\n",
       "      <td>Mira Road East</td>\n",
       "      <td>Under Construction</td>\n",
       "      <td>New</td>\n",
       "    </tr>\n",
       "  </tbody>\n",
       "</table>\n",
       "</div>"
      ],
      "text/plain": [
       "   bhk       type                              locality  area  price  \\\n",
       "0    3  Apartment   Lak And Hanware The Residency Tower   685   2.50   \n",
       "1    2  Apartment     Radheya Sai Enclave Building No 2   640  52.51   \n",
       "2    2  Apartment                         Romell Serene   610   1.73   \n",
       "3    2  Apartment  Soundlines Codename Urban Rainforest   876  59.98   \n",
       "4    2  Apartment                         Origin Oriana   659  94.11   \n",
       "\n",
       "  price_unit          region              status  age  \n",
       "0         Cr    Andheri West       Ready to move  New  \n",
       "1          L    Naigaon East  Under Construction  New  \n",
       "2         Cr   Borivali West  Under Construction  New  \n",
       "3          L          Panvel  Under Construction  New  \n",
       "4          L  Mira Road East  Under Construction  New  "
      ]
     },
     "execution_count": 3,
     "metadata": {},
     "output_type": "execute_result"
    }
   ],
   "source": [
    "# Displaying the first few rows of the dataframe\n",
    "df.head()"
   ]
  },
  {
   "cell_type": "code",
   "execution_count": 4,
   "id": "163a1091",
   "metadata": {
    "execution": {
     "iopub.execute_input": "2024-07-16T04:42:45.431413Z",
     "iopub.status.busy": "2024-07-16T04:42:45.430652Z",
     "iopub.status.idle": "2024-07-16T04:42:45.437407Z",
     "shell.execute_reply": "2024-07-16T04:42:45.436096Z"
    },
    "papermill": {
     "duration": 0.018537,
     "end_time": "2024-07-16T04:42:45.440096",
     "exception": false,
     "start_time": "2024-07-16T04:42:45.421559",
     "status": "completed"
    },
    "tags": []
   },
   "outputs": [],
   "source": [
    "# Converting all prices to INR\n",
    "def convert_price_to_inr(price, unit):\n",
    "    if unit == 'L':\n",
    "        return price * 1e5  # 1 Lakh = 100,000\n",
    "    elif unit == 'Cr':\n",
    "        return price * 1e7  # 1 Crore = 10,000,000\n",
    "    else:\n",
    "        return np.nan"
   ]
  },
  {
   "cell_type": "code",
   "execution_count": 5,
   "id": "5f7a9aa7",
   "metadata": {
    "execution": {
     "iopub.execute_input": "2024-07-16T04:42:45.457800Z",
     "iopub.status.busy": "2024-07-16T04:42:45.457397Z",
     "iopub.status.idle": "2024-07-16T04:42:46.834563Z",
     "shell.execute_reply": "2024-07-16T04:42:46.833380Z"
    },
    "papermill": {
     "duration": 1.389585,
     "end_time": "2024-07-16T04:42:46.837362",
     "exception": false,
     "start_time": "2024-07-16T04:42:45.447777",
     "status": "completed"
    },
    "tags": []
   },
   "outputs": [],
   "source": [
    "# Apply the conversion function to the dataframe\n",
    "df['price_in_inr'] = df.apply(lambda x: convert_price_to_inr(x['price'], x['price_unit']), axis=1)"
   ]
  },
  {
   "cell_type": "code",
   "execution_count": 6,
   "id": "6d8e9873",
   "metadata": {
    "execution": {
     "iopub.execute_input": "2024-07-16T04:42:46.855296Z",
     "iopub.status.busy": "2024-07-16T04:42:46.854789Z",
     "iopub.status.idle": "2024-07-16T04:42:46.871637Z",
     "shell.execute_reply": "2024-07-16T04:42:46.870462Z"
    },
    "papermill": {
     "duration": 0.029214,
     "end_time": "2024-07-16T04:42:46.874415",
     "exception": false,
     "start_time": "2024-07-16T04:42:46.845201",
     "status": "completed"
    },
    "tags": []
   },
   "outputs": [],
   "source": [
    "# Drop the original price and price_unit columns\n",
    "df.drop(columns=['price', 'price_unit'], inplace=True)\n",
    "\n",
    "# Rename the new column to 'price'\n",
    "df.rename(columns={'price_in_inr': 'price'}, inplace=True)"
   ]
  },
  {
   "cell_type": "code",
   "execution_count": 7,
   "id": "1fd92ff8",
   "metadata": {
    "execution": {
     "iopub.execute_input": "2024-07-16T04:42:46.891521Z",
     "iopub.status.busy": "2024-07-16T04:42:46.891138Z",
     "iopub.status.idle": "2024-07-16T04:42:46.908185Z",
     "shell.execute_reply": "2024-07-16T04:42:46.906945Z"
    },
    "papermill": {
     "duration": 0.028512,
     "end_time": "2024-07-16T04:42:46.910664",
     "exception": false,
     "start_time": "2024-07-16T04:42:46.882152",
     "status": "completed"
    },
    "tags": []
   },
   "outputs": [
    {
     "data": {
      "text/html": [
       "<div>\n",
       "<style scoped>\n",
       "    .dataframe tbody tr th:only-of-type {\n",
       "        vertical-align: middle;\n",
       "    }\n",
       "\n",
       "    .dataframe tbody tr th {\n",
       "        vertical-align: top;\n",
       "    }\n",
       "\n",
       "    .dataframe thead th {\n",
       "        text-align: right;\n",
       "    }\n",
       "</style>\n",
       "<table border=\"1\" class=\"dataframe\">\n",
       "  <thead>\n",
       "    <tr style=\"text-align: right;\">\n",
       "      <th></th>\n",
       "      <th>bhk</th>\n",
       "      <th>type</th>\n",
       "      <th>locality</th>\n",
       "      <th>area</th>\n",
       "      <th>region</th>\n",
       "      <th>status</th>\n",
       "      <th>age</th>\n",
       "      <th>price</th>\n",
       "    </tr>\n",
       "  </thead>\n",
       "  <tbody>\n",
       "    <tr>\n",
       "      <th>0</th>\n",
       "      <td>3</td>\n",
       "      <td>Apartment</td>\n",
       "      <td>Lak And Hanware The Residency Tower</td>\n",
       "      <td>685</td>\n",
       "      <td>Andheri West</td>\n",
       "      <td>Ready to move</td>\n",
       "      <td>New</td>\n",
       "      <td>25000000.0</td>\n",
       "    </tr>\n",
       "    <tr>\n",
       "      <th>1</th>\n",
       "      <td>2</td>\n",
       "      <td>Apartment</td>\n",
       "      <td>Radheya Sai Enclave Building No 2</td>\n",
       "      <td>640</td>\n",
       "      <td>Naigaon East</td>\n",
       "      <td>Under Construction</td>\n",
       "      <td>New</td>\n",
       "      <td>5251000.0</td>\n",
       "    </tr>\n",
       "    <tr>\n",
       "      <th>2</th>\n",
       "      <td>2</td>\n",
       "      <td>Apartment</td>\n",
       "      <td>Romell Serene</td>\n",
       "      <td>610</td>\n",
       "      <td>Borivali West</td>\n",
       "      <td>Under Construction</td>\n",
       "      <td>New</td>\n",
       "      <td>17300000.0</td>\n",
       "    </tr>\n",
       "    <tr>\n",
       "      <th>3</th>\n",
       "      <td>2</td>\n",
       "      <td>Apartment</td>\n",
       "      <td>Soundlines Codename Urban Rainforest</td>\n",
       "      <td>876</td>\n",
       "      <td>Panvel</td>\n",
       "      <td>Under Construction</td>\n",
       "      <td>New</td>\n",
       "      <td>5998000.0</td>\n",
       "    </tr>\n",
       "    <tr>\n",
       "      <th>4</th>\n",
       "      <td>2</td>\n",
       "      <td>Apartment</td>\n",
       "      <td>Origin Oriana</td>\n",
       "      <td>659</td>\n",
       "      <td>Mira Road East</td>\n",
       "      <td>Under Construction</td>\n",
       "      <td>New</td>\n",
       "      <td>9411000.0</td>\n",
       "    </tr>\n",
       "  </tbody>\n",
       "</table>\n",
       "</div>"
      ],
      "text/plain": [
       "   bhk       type                              locality  area          region  \\\n",
       "0    3  Apartment   Lak And Hanware The Residency Tower   685    Andheri West   \n",
       "1    2  Apartment     Radheya Sai Enclave Building No 2   640    Naigaon East   \n",
       "2    2  Apartment                         Romell Serene   610   Borivali West   \n",
       "3    2  Apartment  Soundlines Codename Urban Rainforest   876          Panvel   \n",
       "4    2  Apartment                         Origin Oriana   659  Mira Road East   \n",
       "\n",
       "               status  age       price  \n",
       "0       Ready to move  New  25000000.0  \n",
       "1  Under Construction  New   5251000.0  \n",
       "2  Under Construction  New  17300000.0  \n",
       "3  Under Construction  New   5998000.0  \n",
       "4  Under Construction  New   9411000.0  "
      ]
     },
     "execution_count": 7,
     "metadata": {},
     "output_type": "execute_result"
    }
   ],
   "source": [
    "df.head()"
   ]
  },
  {
   "cell_type": "code",
   "execution_count": 8,
   "id": "869aaf34",
   "metadata": {
    "execution": {
     "iopub.execute_input": "2024-07-16T04:42:46.929797Z",
     "iopub.status.busy": "2024-07-16T04:42:46.928702Z",
     "iopub.status.idle": "2024-07-16T04:42:46.937492Z",
     "shell.execute_reply": "2024-07-16T04:42:46.936091Z"
    },
    "papermill": {
     "duration": 0.021668,
     "end_time": "2024-07-16T04:42:46.940372",
     "exception": false,
     "start_time": "2024-07-16T04:42:46.918704",
     "status": "completed"
    },
    "tags": []
   },
   "outputs": [
    {
     "data": {
      "text/plain": [
       "(76038, 8)"
      ]
     },
     "execution_count": 8,
     "metadata": {},
     "output_type": "execute_result"
    }
   ],
   "source": [
    "df.shape"
   ]
  },
  {
   "cell_type": "code",
   "execution_count": 9,
   "id": "9d918be4",
   "metadata": {
    "execution": {
     "iopub.execute_input": "2024-07-16T04:42:46.959644Z",
     "iopub.status.busy": "2024-07-16T04:42:46.959261Z",
     "iopub.status.idle": "2024-07-16T04:42:47.031548Z",
     "shell.execute_reply": "2024-07-16T04:42:47.030069Z"
    },
    "papermill": {
     "duration": 0.085771,
     "end_time": "2024-07-16T04:42:47.034988",
     "exception": false,
     "start_time": "2024-07-16T04:42:46.949217",
     "status": "completed"
    },
    "tags": []
   },
   "outputs": [
    {
     "name": "stdout",
     "output_type": "stream",
     "text": [
      "<class 'pandas.core.frame.DataFrame'>\n",
      "RangeIndex: 76038 entries, 0 to 76037\n",
      "Data columns (total 8 columns):\n",
      " #   Column    Non-Null Count  Dtype  \n",
      "---  ------    --------------  -----  \n",
      " 0   bhk       76038 non-null  int64  \n",
      " 1   type      76038 non-null  object \n",
      " 2   locality  76038 non-null  object \n",
      " 3   area      76038 non-null  int64  \n",
      " 4   region    76038 non-null  object \n",
      " 5   status    76038 non-null  object \n",
      " 6   age       76038 non-null  object \n",
      " 7   price     76038 non-null  float64\n",
      "dtypes: float64(1), int64(2), object(5)\n",
      "memory usage: 4.6+ MB\n"
     ]
    }
   ],
   "source": [
    "df.info()"
   ]
  },
  {
   "cell_type": "code",
   "execution_count": 10,
   "id": "220a59e3",
   "metadata": {
    "execution": {
     "iopub.execute_input": "2024-07-16T04:42:47.055365Z",
     "iopub.status.busy": "2024-07-16T04:42:47.053941Z",
     "iopub.status.idle": "2024-07-16T04:42:49.547463Z",
     "shell.execute_reply": "2024-07-16T04:42:49.546122Z"
    },
    "papermill": {
     "duration": 2.507657,
     "end_time": "2024-07-16T04:42:49.551245",
     "exception": false,
     "start_time": "2024-07-16T04:42:47.043588",
     "status": "completed"
    },
    "tags": []
   },
   "outputs": [
    {
     "data": {
      "image/png": "[encoded data removed]",
      "text/plain": [
       "<Figure size 1000x600 with 1 Axes>"
      ]
     },
     "metadata": {},
     "output_type": "display_data"
    },
    {
     "data": {
      "image/png": "[encoded data removed]",
      "text/plain": [
       "<Figure size 1000x600 with 1 Axes>"
      ]
     },
     "metadata": {},
     "output_type": "display_data"
    }
   ],
   "source": [
    "import matplotlib.pyplot as plt\n",
    "import seaborn as sns\n",
    "\n",
    "# Visualizing the 'area' column\n",
    "plt.figure(figsize=(10, 6))\n",
    "sns.boxplot(x=df['area'])\n",
    "plt.title('Box plot of Area')\n",
    "plt.show()\n",
    "\n",
    "# Visualizing the 'price' column\n",
    "plt.figure(figsize=(10, 6))\n",
    "sns.boxplot(x=df['price'])\n",
    "plt.title('Box plot of Price')\n",
    "plt.show()"
   ]
  },
  {
   "cell_type": "code",
   "execution_count": 11,
   "id": "c7e9a67c",
   "metadata": {
    "execution": {
     "iopub.execute_input": "2024-07-16T04:42:49.585195Z",
     "iopub.status.busy": "2024-07-16T04:42:49.583964Z",
     "iopub.status.idle": "2024-07-16T04:42:49.641252Z",
     "shell.execute_reply": "2024-07-16T04:42:49.639524Z"
    },
    "papermill": {
     "duration": 0.075581,
     "end_time": "2024-07-16T04:42:49.644354",
     "exception": false,
     "start_time": "2024-07-16T04:42:49.568773",
     "status": "completed"
    },
    "tags": []
   },
   "outputs": [
    {
     "name": "stdout",
     "output_type": "stream",
     "text": [
      "(67640, 8)\n"
     ]
    },
    {
     "data": {
      "text/html": [
       "<div>\n",
       "<style scoped>\n",
       "    .dataframe tbody tr th:only-of-type {\n",
       "        vertical-align: middle;\n",
       "    }\n",
       "\n",
       "    .dataframe tbody tr th {\n",
       "        vertical-align: top;\n",
       "    }\n",
       "\n",
       "    .dataframe thead th {\n",
       "        text-align: right;\n",
       "    }\n",
       "</style>\n",
       "<table border=\"1\" class=\"dataframe\">\n",
       "  <thead>\n",
       "    <tr style=\"text-align: right;\">\n",
       "      <th></th>\n",
       "      <th>bhk</th>\n",
       "      <th>type</th>\n",
       "      <th>locality</th>\n",
       "      <th>area</th>\n",
       "      <th>region</th>\n",
       "      <th>status</th>\n",
       "      <th>age</th>\n",
       "      <th>price</th>\n",
       "    </tr>\n",
       "  </thead>\n",
       "  <tbody>\n",
       "    <tr>\n",
       "      <th>0</th>\n",
       "      <td>3</td>\n",
       "      <td>Apartment</td>\n",
       "      <td>Lak And Hanware The Residency Tower</td>\n",
       "      <td>685</td>\n",
       "      <td>Andheri West</td>\n",
       "      <td>Ready to move</td>\n",
       "      <td>New</td>\n",
       "      <td>25000000.0</td>\n",
       "    </tr>\n",
       "    <tr>\n",
       "      <th>1</th>\n",
       "      <td>2</td>\n",
       "      <td>Apartment</td>\n",
       "      <td>Radheya Sai Enclave Building No 2</td>\n",
       "      <td>640</td>\n",
       "      <td>Naigaon East</td>\n",
       "      <td>Under Construction</td>\n",
       "      <td>New</td>\n",
       "      <td>5251000.0</td>\n",
       "    </tr>\n",
       "    <tr>\n",
       "      <th>2</th>\n",
       "      <td>2</td>\n",
       "      <td>Apartment</td>\n",
       "      <td>Romell Serene</td>\n",
       "      <td>610</td>\n",
       "      <td>Borivali West</td>\n",
       "      <td>Under Construction</td>\n",
       "      <td>New</td>\n",
       "      <td>17300000.0</td>\n",
       "    </tr>\n",
       "    <tr>\n",
       "      <th>3</th>\n",
       "      <td>2</td>\n",
       "      <td>Apartment</td>\n",
       "      <td>Soundlines Codename Urban Rainforest</td>\n",
       "      <td>876</td>\n",
       "      <td>Panvel</td>\n",
       "      <td>Under Construction</td>\n",
       "      <td>New</td>\n",
       "      <td>5998000.0</td>\n",
       "    </tr>\n",
       "    <tr>\n",
       "      <th>4</th>\n",
       "      <td>2</td>\n",
       "      <td>Apartment</td>\n",
       "      <td>Origin Oriana</td>\n",
       "      <td>659</td>\n",
       "      <td>Mira Road East</td>\n",
       "      <td>Under Construction</td>\n",
       "      <td>New</td>\n",
       "      <td>9411000.0</td>\n",
       "    </tr>\n",
       "  </tbody>\n",
       "</table>\n",
       "</div>"
      ],
      "text/plain": [
       "   bhk       type                              locality  area          region  \\\n",
       "0    3  Apartment   Lak And Hanware The Residency Tower   685    Andheri West   \n",
       "1    2  Apartment     Radheya Sai Enclave Building No 2   640    Naigaon East   \n",
       "2    2  Apartment                         Romell Serene   610   Borivali West   \n",
       "3    2  Apartment  Soundlines Codename Urban Rainforest   876          Panvel   \n",
       "4    2  Apartment                         Origin Oriana   659  Mira Road East   \n",
       "\n",
       "               status  age       price  \n",
       "0       Ready to move  New  25000000.0  \n",
       "1  Under Construction  New   5251000.0  \n",
       "2  Under Construction  New  17300000.0  \n",
       "3  Under Construction  New   5998000.0  \n",
       "4  Under Construction  New   9411000.0  "
      ]
     },
     "execution_count": 11,
     "metadata": {},
     "output_type": "execute_result"
    }
   ],
   "source": [
    "# Function to remove outliers using IQR method\n",
    "def remove_outliers(df, column):\n",
    "    Q1 = df[column].quantile(0.25)\n",
    "    Q3 = df[column].quantile(0.75)\n",
    "    IQR = Q3 - Q1\n",
    "    lower_bound = Q1 - 1.5 * IQR\n",
    "    upper_bound = Q3 + 1.5 * IQR\n",
    "    return df[(df[column] >= lower_bound) & (df[column] <= upper_bound)]\n",
    "\n",
    "# Removing outliers from 'area' and 'price' columns\n",
    "df_cleaned = remove_outliers(df, 'area')\n",
    "df_cleaned = remove_outliers(df_cleaned, 'price')\n",
    "\n",
    "# Displaying the shape of the dataframe after removing outliers\n",
    "print(df_cleaned.shape)\n",
    "\n",
    "# Displaying the first few rows of the cleaned dataframe\n",
    "df_cleaned.head()"
   ]
  },
  {
   "cell_type": "code",
   "execution_count": 12,
   "id": "c4fa590d",
   "metadata": {
    "execution": {
     "iopub.execute_input": "2024-07-16T04:42:49.676703Z",
     "iopub.status.busy": "2024-07-16T04:42:49.675574Z",
     "iopub.status.idle": "2024-07-16T04:42:49.714887Z",
     "shell.execute_reply": "2024-07-16T04:42:49.713627Z"
    },
    "papermill": {
     "duration": 0.059271,
     "end_time": "2024-07-16T04:42:49.718372",
     "exception": false,
     "start_time": "2024-07-16T04:42:49.659101",
     "status": "completed"
    },
    "tags": []
   },
   "outputs": [],
   "source": [
    "from scipy import stats\n",
    "\n",
    "# Calculate Z-score for 'area' and 'price'\n",
    "df_cleaned['area_zscore'] = np.abs(stats.zscore(df_cleaned['area']))\n",
    "df_cleaned['price_zscore'] = np.abs(stats.zscore(df_cleaned['price']))\n",
    "\n",
    "# Define threshold for Z-score (commonly 3)\n",
    "threshold = 3\n",
    "\n",
    "# Filter rows based on Z-score and create a copy of the filtered DataFrame\n",
    "df2 = df_cleaned[(df_cleaned['area_zscore'] < threshold) & (df_cleaned['price_zscore'] < threshold)].copy()\n",
    "\n",
    "# Drop the Z-score columns from the copied DataFrame\n",
    "df2.drop(columns=['area_zscore', 'price_zscore'], inplace=True)\n",
    "\n",
    "# Resetting index after dropping rows\n",
    "df2.reset_index(drop=True, inplace=True)"
   ]
  },
  {
   "cell_type": "code",
   "execution_count": 13,
   "id": "e8838f6b",
   "metadata": {
    "execution": {
     "iopub.execute_input": "2024-07-16T04:42:49.745071Z",
     "iopub.status.busy": "2024-07-16T04:42:49.744560Z",
     "iopub.status.idle": "2024-07-16T04:42:49.766269Z",
     "shell.execute_reply": "2024-07-16T04:42:49.764925Z"
    },
    "papermill": {
     "duration": 0.036441,
     "end_time": "2024-07-16T04:42:49.768894",
     "exception": false,
     "start_time": "2024-07-16T04:42:49.732453",
     "status": "completed"
    },
    "tags": []
   },
   "outputs": [
    {
     "name": "stdout",
     "output_type": "stream",
     "text": [
      "Shape of df2 after Z-score cleaning: (67142, 8)\n"
     ]
    },
    {
     "data": {
      "text/html": [
       "<div>\n",
       "<style scoped>\n",
       "    .dataframe tbody tr th:only-of-type {\n",
       "        vertical-align: middle;\n",
       "    }\n",
       "\n",
       "    .dataframe tbody tr th {\n",
       "        vertical-align: top;\n",
       "    }\n",
       "\n",
       "    .dataframe thead th {\n",
       "        text-align: right;\n",
       "    }\n",
       "</style>\n",
       "<table border=\"1\" class=\"dataframe\">\n",
       "  <thead>\n",
       "    <tr style=\"text-align: right;\">\n",
       "      <th></th>\n",
       "      <th>bhk</th>\n",
       "      <th>type</th>\n",
       "      <th>locality</th>\n",
       "      <th>area</th>\n",
       "      <th>region</th>\n",
       "      <th>status</th>\n",
       "      <th>age</th>\n",
       "      <th>price</th>\n",
       "    </tr>\n",
       "  </thead>\n",
       "  <tbody>\n",
       "    <tr>\n",
       "      <th>0</th>\n",
       "      <td>3</td>\n",
       "      <td>Apartment</td>\n",
       "      <td>Lak And Hanware The Residency Tower</td>\n",
       "      <td>685</td>\n",
       "      <td>Andheri West</td>\n",
       "      <td>Ready to move</td>\n",
       "      <td>New</td>\n",
       "      <td>25000000.0</td>\n",
       "    </tr>\n",
       "    <tr>\n",
       "      <th>1</th>\n",
       "      <td>2</td>\n",
       "      <td>Apartment</td>\n",
       "      <td>Radheya Sai Enclave Building No 2</td>\n",
       "      <td>640</td>\n",
       "      <td>Naigaon East</td>\n",
       "      <td>Under Construction</td>\n",
       "      <td>New</td>\n",
       "      <td>5251000.0</td>\n",
       "    </tr>\n",
       "    <tr>\n",
       "      <th>2</th>\n",
       "      <td>2</td>\n",
       "      <td>Apartment</td>\n",
       "      <td>Romell Serene</td>\n",
       "      <td>610</td>\n",
       "      <td>Borivali West</td>\n",
       "      <td>Under Construction</td>\n",
       "      <td>New</td>\n",
       "      <td>17300000.0</td>\n",
       "    </tr>\n",
       "    <tr>\n",
       "      <th>3</th>\n",
       "      <td>2</td>\n",
       "      <td>Apartment</td>\n",
       "      <td>Soundlines Codename Urban Rainforest</td>\n",
       "      <td>876</td>\n",
       "      <td>Panvel</td>\n",
       "      <td>Under Construction</td>\n",
       "      <td>New</td>\n",
       "      <td>5998000.0</td>\n",
       "    </tr>\n",
       "    <tr>\n",
       "      <th>4</th>\n",
       "      <td>2</td>\n",
       "      <td>Apartment</td>\n",
       "      <td>Origin Oriana</td>\n",
       "      <td>659</td>\n",
       "      <td>Mira Road East</td>\n",
       "      <td>Under Construction</td>\n",
       "      <td>New</td>\n",
       "      <td>9411000.0</td>\n",
       "    </tr>\n",
       "  </tbody>\n",
       "</table>\n",
       "</div>"
      ],
      "text/plain": [
       "   bhk       type                              locality  area          region  \\\n",
       "0    3  Apartment   Lak And Hanware The Residency Tower   685    Andheri West   \n",
       "1    2  Apartment     Radheya Sai Enclave Building No 2   640    Naigaon East   \n",
       "2    2  Apartment                         Romell Serene   610   Borivali West   \n",
       "3    2  Apartment  Soundlines Codename Urban Rainforest   876          Panvel   \n",
       "4    2  Apartment                         Origin Oriana   659  Mira Road East   \n",
       "\n",
       "               status  age       price  \n",
       "0       Ready to move  New  25000000.0  \n",
       "1  Under Construction  New   5251000.0  \n",
       "2  Under Construction  New  17300000.0  \n",
       "3  Under Construction  New   5998000.0  \n",
       "4  Under Construction  New   9411000.0  "
      ]
     },
     "execution_count": 13,
     "metadata": {},
     "output_type": "execute_result"
    }
   ],
   "source": [
    "# Displaying the shape of df2\n",
    "print(\"Shape of df2 after Z-score cleaning:\", df2.shape)\n",
    "\n",
    "# Displaying the first few rows of df2\n",
    "df2.head()"
   ]
  },
  {
   "cell_type": "code",
   "execution_count": 14,
   "id": "4a96c0ba",
   "metadata": {
    "execution": {
     "iopub.execute_input": "2024-07-16T04:42:49.793061Z",
     "iopub.status.busy": "2024-07-16T04:42:49.792546Z",
     "iopub.status.idle": "2024-07-16T04:42:49.827043Z",
     "shell.execute_reply": "2024-07-16T04:42:49.825740Z"
    },
    "papermill": {
     "duration": 0.049255,
     "end_time": "2024-07-16T04:42:49.829821",
     "exception": false,
     "start_time": "2024-07-16T04:42:49.780566",
     "status": "completed"
    },
    "tags": []
   },
   "outputs": [
    {
     "data": {
      "text/html": [
       "<div>\n",
       "<style scoped>\n",
       "    .dataframe tbody tr th:only-of-type {\n",
       "        vertical-align: middle;\n",
       "    }\n",
       "\n",
       "    .dataframe tbody tr th {\n",
       "        vertical-align: top;\n",
       "    }\n",
       "\n",
       "    .dataframe thead th {\n",
       "        text-align: right;\n",
       "    }\n",
       "</style>\n",
       "<table border=\"1\" class=\"dataframe\">\n",
       "  <thead>\n",
       "    <tr style=\"text-align: right;\">\n",
       "      <th></th>\n",
       "      <th>bhk</th>\n",
       "      <th>area</th>\n",
       "      <th>price</th>\n",
       "    </tr>\n",
       "  </thead>\n",
       "  <tbody>\n",
       "    <tr>\n",
       "      <th>count</th>\n",
       "      <td>67142.000000</td>\n",
       "      <td>67142.000000</td>\n",
       "      <td>6.714200e+04</td>\n",
       "    </tr>\n",
       "    <tr>\n",
       "      <th>mean</th>\n",
       "      <td>1.814364</td>\n",
       "      <td>860.989768</td>\n",
       "      <td>1.158956e+07</td>\n",
       "    </tr>\n",
       "    <tr>\n",
       "      <th>std</th>\n",
       "      <td>0.724314</td>\n",
       "      <td>334.912686</td>\n",
       "      <td>7.248340e+06</td>\n",
       "    </tr>\n",
       "    <tr>\n",
       "      <th>min</th>\n",
       "      <td>1.000000</td>\n",
       "      <td>127.000000</td>\n",
       "      <td>4.490000e+05</td>\n",
       "    </tr>\n",
       "    <tr>\n",
       "      <th>25%</th>\n",
       "      <td>1.000000</td>\n",
       "      <td>617.000000</td>\n",
       "      <td>6.000000e+06</td>\n",
       "    </tr>\n",
       "    <tr>\n",
       "      <th>50%</th>\n",
       "      <td>2.000000</td>\n",
       "      <td>782.000000</td>\n",
       "      <td>9.600000e+06</td>\n",
       "    </tr>\n",
       "    <tr>\n",
       "      <th>75%</th>\n",
       "      <td>2.000000</td>\n",
       "      <td>1065.000000</td>\n",
       "      <td>1.600000e+07</td>\n",
       "    </tr>\n",
       "    <tr>\n",
       "      <th>max</th>\n",
       "      <td>5.000000</td>\n",
       "      <td>1896.000000</td>\n",
       "      <td>3.380000e+07</td>\n",
       "    </tr>\n",
       "  </tbody>\n",
       "</table>\n",
       "</div>"
      ],
      "text/plain": [
       "                bhk          area         price\n",
       "count  67142.000000  67142.000000  6.714200e+04\n",
       "mean       1.814364    860.989768  1.158956e+07\n",
       "std        0.724314    334.912686  7.248340e+06\n",
       "min        1.000000    127.000000  4.490000e+05\n",
       "25%        1.000000    617.000000  6.000000e+06\n",
       "50%        2.000000    782.000000  9.600000e+06\n",
       "75%        2.000000   1065.000000  1.600000e+07\n",
       "max        5.000000   1896.000000  3.380000e+07"
      ]
     },
     "execution_count": 14,
     "metadata": {},
     "output_type": "execute_result"
    }
   ],
   "source": [
    "df2.describe()"
   ]
  },
  {
   "cell_type": "code",
   "execution_count": 15,
   "id": "b86ef07a",
   "metadata": {
    "execution": {
     "iopub.execute_input": "2024-07-16T04:42:49.853504Z",
     "iopub.status.busy": "2024-07-16T04:42:49.853007Z",
     "iopub.status.idle": "2024-07-16T04:42:49.917671Z",
     "shell.execute_reply": "2024-07-16T04:42:49.915010Z"
    },
    "papermill": {
     "duration": 0.081722,
     "end_time": "2024-07-16T04:42:49.922360",
     "exception": false,
     "start_time": "2024-07-16T04:42:49.840638",
     "status": "completed"
    },
    "tags": []
   },
   "outputs": [
    {
     "name": "stdout",
     "output_type": "stream",
     "text": [
      "Unique values and counts for locality:\n",
      "locality\n",
      "Hiranandani Meadows                    545\n",
      "Runwal Gardens                         389\n",
      "JP North Barcelona                     360\n",
      "Cosmos Horizon                         334\n",
      "ACME Ozone Phase 2                     312\n",
      "                                      ... \n",
      "Reputed Builder Shivam Apartments        1\n",
      "Suma Sam CHSL Suma Sam CHSL              1\n",
      "Reputed Builder Eden Garden              1\n",
      "Reputed Builder Bethania Apartments      1\n",
      "Ravi Gaurav Residency Villa              1\n",
      "Name: count, Length: 8993, dtype: int64\n",
      "\n",
      "Unique values and counts for region:\n",
      "region\n",
      "Thane West             11776\n",
      "Mira Road East          9866\n",
      "Dombivali               3010\n",
      "Kandivali East          2406\n",
      "Kharghar                2199\n",
      "                       ...  \n",
      "Pestom Sagar Colony        1\n",
      "Sector 8 New panvel        1\n",
      "Khanda Colony              1\n",
      "vile parle west            1\n",
      "Sector-3 Ulwe              1\n",
      "Name: count, Length: 214, dtype: int64\n",
      "\n",
      "Unique values and counts for status:\n",
      "status\n",
      "Ready to move         38375\n",
      "Under Construction    28767\n",
      "Name: count, dtype: int64\n",
      "\n",
      "Unique values and counts for age:\n",
      "age\n",
      "New        35213\n",
      "Resale     20972\n",
      "Unknown    10957\n",
      "Name: count, dtype: int64\n",
      "\n"
     ]
    }
   ],
   "source": [
    "# List of categorical variables\n",
    "categorical_vars = ['locality', 'region', 'status', 'age']\n",
    "\n",
    "# Print unique values and their counts\n",
    "for var in categorical_vars:\n",
    "    print(f\"Unique values and counts for {var}:\")\n",
    "    print(df2[var].value_counts())\n",
    "    print()"
   ]
  },
  {
   "cell_type": "code",
   "execution_count": 16,
   "id": "f11b827a",
   "metadata": {
    "execution": {
     "iopub.execute_input": "2024-07-16T04:42:49.956569Z",
     "iopub.status.busy": "2024-07-16T04:42:49.956081Z",
     "iopub.status.idle": "2024-07-16T04:42:50.041396Z",
     "shell.execute_reply": "2024-07-16T04:42:50.039762Z"
    },
    "papermill": {
     "duration": 0.106004,
     "end_time": "2024-07-16T04:42:50.044533",
     "exception": false,
     "start_time": "2024-07-16T04:42:49.938529",
     "status": "completed"
    },
    "tags": []
   },
   "outputs": [
    {
     "name": "stdout",
     "output_type": "stream",
     "text": [
      "Updated unique values and counts for locality after grouping:\n",
      "locality\n",
      "Other                                      44583\n",
      "Hiranandani Meadows                          545\n",
      "Runwal Gardens                               389\n",
      "JP North Barcelona                           360\n",
      "Cosmos Horizon                               334\n",
      "                                           ...  \n",
      "Godrej Emerald                                50\n",
      "Chaitanya The Greens Radhakunj                50\n",
      "Bachraj Landmark                              50\n",
      "Lodha Amara Tower 45                          50\n",
      "Hubtown The Premiere Residences Beverly       50\n",
      "Name: count, Length: 217, dtype: int64\n",
      "\n",
      "Updated unique values and counts for region after grouping:\n",
      "region\n",
      "Thane West        11776\n",
      "Mira Road East     9866\n",
      "Dombivali          3010\n",
      "Kandivali East     2406\n",
      "Kharghar           2199\n",
      "                  ...  \n",
      "Bandra East         133\n",
      "Nerul               124\n",
      "Bhandup East        116\n",
      "Titwala             112\n",
      "Bhayandar West      105\n",
      "Name: count, Length: 66, dtype: int64\n"
     ]
    }
   ],
   "source": [
    "# Define a function to group less frequent values into 'Other'\n",
    "def group_low_count_categories(series, threshold):\n",
    "    counts = series.value_counts()\n",
    "    mask = series.isin(counts[counts >= threshold].index)\n",
    "    series = series.mask(~mask, 'Other')  # Use mask() to assign 'Other' to less frequent values\n",
    "    return series\n",
    "\n",
    "# Group less frequent localities and regions into 'Other'\n",
    "df2['locality'] = group_low_count_categories(df2['locality'], threshold=50)  # Adjust threshold as needed\n",
    "df2['region'] = group_low_count_categories(df2['region'], threshold=100)    # Adjust threshold as needed\n",
    "\n",
    "# Print updated unique values and counts for locality and region\n",
    "print(\"Updated unique values and counts for locality after grouping:\")\n",
    "print(df2['locality'].value_counts())\n",
    "print()\n",
    "\n",
    "print(\"Updated unique values and counts for region after grouping:\")\n",
    "print(df2['region'].value_counts())"
   ]
  },
  {
   "cell_type": "code",
   "execution_count": 17,
   "id": "31b517f9",
   "metadata": {
    "execution": {
     "iopub.execute_input": "2024-07-16T04:42:50.070516Z",
     "iopub.status.busy": "2024-07-16T04:42:50.070045Z",
     "iopub.status.idle": "2024-07-16T04:42:50.134006Z",
     "shell.execute_reply": "2024-07-16T04:42:50.132104Z"
    },
    "papermill": {
     "duration": 0.080664,
     "end_time": "2024-07-16T04:42:50.137933",
     "exception": false,
     "start_time": "2024-07-16T04:42:50.057269",
     "status": "completed"
    },
    "tags": []
   },
   "outputs": [
    {
     "name": "stdout",
     "output_type": "stream",
     "text": [
      "JSON files saved successfully.\n"
     ]
    }
   ],
   "source": [
    "import json\n",
    "# Function to save DataFrame columns as JSON\n",
    "def save_columns_as_json(df, columns, filename):\n",
    "    for col in columns:\n",
    "        unique_values = df[col].unique().tolist()\n",
    "        with open(f'{filename}_{col}.json', 'w') as f:\n",
    "            json.dump(unique_values, f)\n",
    "\n",
    "# Example usage: Save 'type', 'status', 'age', 'locality', 'region' columns as JSON\n",
    "save_columns_as_json(df, ['type', 'status', 'age', 'locality', 'region'], 'unique_values')\n",
    "\n",
    "print(\"JSON files saved successfully.\")"
   ]
  },
  {
   "cell_type": "code",
   "execution_count": 18,
   "id": "7b131065",
   "metadata": {
    "execution": {
     "iopub.execute_input": "2024-07-16T04:42:50.163437Z",
     "iopub.status.busy": "2024-07-16T04:42:50.163031Z",
     "iopub.status.idle": "2024-07-16T04:42:50.210399Z",
     "shell.execute_reply": "2024-07-16T04:42:50.209175Z"
    },
    "papermill": {
     "duration": 0.0628,
     "end_time": "2024-07-16T04:42:50.212967",
     "exception": false,
     "start_time": "2024-07-16T04:42:50.150167",
     "status": "completed"
    },
    "tags": []
   },
   "outputs": [
    {
     "data": {
      "text/html": [
       "<div>\n",
       "<style scoped>\n",
       "    .dataframe tbody tr th:only-of-type {\n",
       "        vertical-align: middle;\n",
       "    }\n",
       "\n",
       "    .dataframe tbody tr th {\n",
       "        vertical-align: top;\n",
       "    }\n",
       "\n",
       "    .dataframe thead th {\n",
       "        text-align: right;\n",
       "    }\n",
       "</style>\n",
       "<table border=\"1\" class=\"dataframe\">\n",
       "  <thead>\n",
       "    <tr style=\"text-align: right;\">\n",
       "      <th></th>\n",
       "      <th>locality_target_encoded</th>\n",
       "      <th>region_target_encoded</th>\n",
       "    </tr>\n",
       "  </thead>\n",
       "  <tbody>\n",
       "    <tr>\n",
       "      <th>0</th>\n",
       "      <td>1.165268e+07</td>\n",
       "      <td>1.690715e+07</td>\n",
       "    </tr>\n",
       "    <tr>\n",
       "      <th>1</th>\n",
       "      <td>1.165268e+07</td>\n",
       "      <td>3.839120e+06</td>\n",
       "    </tr>\n",
       "    <tr>\n",
       "      <th>2</th>\n",
       "      <td>1.165268e+07</td>\n",
       "      <td>1.802550e+07</td>\n",
       "    </tr>\n",
       "    <tr>\n",
       "      <th>3</th>\n",
       "      <td>1.165268e+07</td>\n",
       "      <td>8.034569e+06</td>\n",
       "    </tr>\n",
       "    <tr>\n",
       "      <th>4</th>\n",
       "      <td>1.165268e+07</td>\n",
       "      <td>8.083087e+06</td>\n",
       "    </tr>\n",
       "  </tbody>\n",
       "</table>\n",
       "</div>"
      ],
      "text/plain": [
       "   locality_target_encoded  region_target_encoded\n",
       "0             1.165268e+07           1.690715e+07\n",
       "1             1.165268e+07           3.839120e+06\n",
       "2             1.165268e+07           1.802550e+07\n",
       "3             1.165268e+07           8.034569e+06\n",
       "4             1.165268e+07           8.083087e+06"
      ]
     },
     "execution_count": 18,
     "metadata": {},
     "output_type": "execute_result"
    }
   ],
   "source": [
    "# Compute mean price for each locality and region\n",
    "locality_means = df2.groupby('locality')['price'].mean()\n",
    "region_means = df2.groupby('region')['price'].mean()\n",
    "\n",
    "# Map mean prices back to the dataframe\n",
    "df2['locality_target_encoded'] = df2['locality'].map(locality_means)\n",
    "df2['region_target_encoded'] = df2['region'].map(region_means)\n",
    "\n",
    "# Print head to verify\n",
    "df2[['locality_target_encoded', 'region_target_encoded']].head()"
   ]
  },
  {
   "cell_type": "code",
   "execution_count": 19,
   "id": "2354b239",
   "metadata": {
    "execution": {
     "iopub.execute_input": "2024-07-16T04:42:50.238966Z",
     "iopub.status.busy": "2024-07-16T04:42:50.238537Z",
     "iopub.status.idle": "2024-07-16T04:42:50.376421Z",
     "shell.execute_reply": "2024-07-16T04:42:50.375132Z"
    },
    "papermill": {
     "duration": 0.154883,
     "end_time": "2024-07-16T04:42:50.379432",
     "exception": false,
     "start_time": "2024-07-16T04:42:50.224549",
     "status": "completed"
    },
    "tags": []
   },
   "outputs": [],
   "source": [
    "import joblib\n",
    "import pickle\n",
    "\n",
    "# Extract unique values and their encoded values into dictionaries\n",
    "locality_encoding_map = dict(zip(df2['locality'], df2['locality_target_encoded']))\n",
    "region_encoding_map = dict(zip(df2['region'], df2['region_target_encoded']))\n",
    "# Save locality encoding map to file\n",
    "with open('locality_encoding_map.pkl', 'wb') as f:\n",
    "    pickle.dump(locality_encoding_map, f)\n",
    "\n",
    "# Save region encoding map to file\n",
    "with open('region_encoding_map.pkl', 'wb') as f:\n",
    "    pickle.dump(region_encoding_map, f)"
   ]
  },
  {
   "cell_type": "code",
   "execution_count": 20,
   "id": "009c5e8c",
   "metadata": {
    "execution": {
     "iopub.execute_input": "2024-07-16T04:42:50.406148Z",
     "iopub.status.busy": "2024-07-16T04:42:50.404806Z",
     "iopub.status.idle": "2024-07-16T04:42:50.418446Z",
     "shell.execute_reply": "2024-07-16T04:42:50.417088Z"
    },
    "papermill": {
     "duration": 0.029612,
     "end_time": "2024-07-16T04:42:50.421330",
     "exception": false,
     "start_time": "2024-07-16T04:42:50.391718",
     "status": "completed"
    },
    "tags": []
   },
   "outputs": [],
   "source": [
    "# Drop original locality and region columns if desired\n",
    "df2.drop(['locality', 'region'], axis=1, inplace=True)"
   ]
  },
  {
   "cell_type": "code",
   "execution_count": 21,
   "id": "393c1e2a",
   "metadata": {
    "execution": {
     "iopub.execute_input": "2024-07-16T04:42:50.447578Z",
     "iopub.status.busy": "2024-07-16T04:42:50.447157Z",
     "iopub.status.idle": "2024-07-16T04:42:50.513333Z",
     "shell.execute_reply": "2024-07-16T04:42:50.512155Z"
    },
    "papermill": {
     "duration": 0.082988,
     "end_time": "2024-07-16T04:42:50.516373",
     "exception": false,
     "start_time": "2024-07-16T04:42:50.433385",
     "status": "completed"
    },
    "tags": []
   },
   "outputs": [
    {
     "data": {
      "text/html": [
       "<div>\n",
       "<style scoped>\n",
       "    .dataframe tbody tr th:only-of-type {\n",
       "        vertical-align: middle;\n",
       "    }\n",
       "\n",
       "    .dataframe tbody tr th {\n",
       "        vertical-align: top;\n",
       "    }\n",
       "\n",
       "    .dataframe thead th {\n",
       "        text-align: right;\n",
       "    }\n",
       "</style>\n",
       "<table border=\"1\" class=\"dataframe\">\n",
       "  <thead>\n",
       "    <tr style=\"text-align: right;\">\n",
       "      <th></th>\n",
       "      <th>bhk</th>\n",
       "      <th>area</th>\n",
       "      <th>price</th>\n",
       "      <th>locality_target_encoded</th>\n",
       "      <th>region_target_encoded</th>\n",
       "      <th>type_Independent House</th>\n",
       "      <th>type_Penthouse</th>\n",
       "      <th>type_Studio Apartment</th>\n",
       "      <th>type_Villa</th>\n",
       "      <th>status_Under Construction</th>\n",
       "      <th>age_Resale</th>\n",
       "      <th>age_Unknown</th>\n",
       "    </tr>\n",
       "  </thead>\n",
       "  <tbody>\n",
       "    <tr>\n",
       "      <th>0</th>\n",
       "      <td>3</td>\n",
       "      <td>685</td>\n",
       "      <td>25000000.0</td>\n",
       "      <td>1.165268e+07</td>\n",
       "      <td>1.690715e+07</td>\n",
       "      <td>0</td>\n",
       "      <td>0</td>\n",
       "      <td>0</td>\n",
       "      <td>0</td>\n",
       "      <td>0</td>\n",
       "      <td>0</td>\n",
       "      <td>0</td>\n",
       "    </tr>\n",
       "    <tr>\n",
       "      <th>1</th>\n",
       "      <td>2</td>\n",
       "      <td>640</td>\n",
       "      <td>5251000.0</td>\n",
       "      <td>1.165268e+07</td>\n",
       "      <td>3.839120e+06</td>\n",
       "      <td>0</td>\n",
       "      <td>0</td>\n",
       "      <td>0</td>\n",
       "      <td>0</td>\n",
       "      <td>1</td>\n",
       "      <td>0</td>\n",
       "      <td>0</td>\n",
       "    </tr>\n",
       "    <tr>\n",
       "      <th>2</th>\n",
       "      <td>2</td>\n",
       "      <td>610</td>\n",
       "      <td>17300000.0</td>\n",
       "      <td>1.165268e+07</td>\n",
       "      <td>1.802550e+07</td>\n",
       "      <td>0</td>\n",
       "      <td>0</td>\n",
       "      <td>0</td>\n",
       "      <td>0</td>\n",
       "      <td>1</td>\n",
       "      <td>0</td>\n",
       "      <td>0</td>\n",
       "    </tr>\n",
       "    <tr>\n",
       "      <th>3</th>\n",
       "      <td>2</td>\n",
       "      <td>876</td>\n",
       "      <td>5998000.0</td>\n",
       "      <td>1.165268e+07</td>\n",
       "      <td>8.034569e+06</td>\n",
       "      <td>0</td>\n",
       "      <td>0</td>\n",
       "      <td>0</td>\n",
       "      <td>0</td>\n",
       "      <td>1</td>\n",
       "      <td>0</td>\n",
       "      <td>0</td>\n",
       "    </tr>\n",
       "    <tr>\n",
       "      <th>4</th>\n",
       "      <td>2</td>\n",
       "      <td>659</td>\n",
       "      <td>9411000.0</td>\n",
       "      <td>1.165268e+07</td>\n",
       "      <td>8.083087e+06</td>\n",
       "      <td>0</td>\n",
       "      <td>0</td>\n",
       "      <td>0</td>\n",
       "      <td>0</td>\n",
       "      <td>1</td>\n",
       "      <td>0</td>\n",
       "      <td>0</td>\n",
       "    </tr>\n",
       "  </tbody>\n",
       "</table>\n",
       "</div>"
      ],
      "text/plain": [
       "   bhk  area       price  locality_target_encoded  region_target_encoded  \\\n",
       "0    3   685  25000000.0             1.165268e+07           1.690715e+07   \n",
       "1    2   640   5251000.0             1.165268e+07           3.839120e+06   \n",
       "2    2   610  17300000.0             1.165268e+07           1.802550e+07   \n",
       "3    2   876   5998000.0             1.165268e+07           8.034569e+06   \n",
       "4    2   659   9411000.0             1.165268e+07           8.083087e+06   \n",
       "\n",
       "   type_Independent House  type_Penthouse  type_Studio Apartment  type_Villa  \\\n",
       "0                       0               0                      0           0   \n",
       "1                       0               0                      0           0   \n",
       "2                       0               0                      0           0   \n",
       "3                       0               0                      0           0   \n",
       "4                       0               0                      0           0   \n",
       "\n",
       "   status_Under Construction  age_Resale  age_Unknown  \n",
       "0                          0           0            0  \n",
       "1                          1           0            0  \n",
       "2                          1           0            0  \n",
       "3                          1           0            0  \n",
       "4                          1           0            0  "
      ]
     },
     "execution_count": 21,
     "metadata": {},
     "output_type": "execute_result"
    }
   ],
   "source": [
    "# Perform one-hot encoding for status and age\n",
    "df2 = pd.get_dummies(df2, columns=['type','status', 'age'], drop_first=True, dtype=int)\n",
    "\n",
    "# Print head to verify\n",
    "df2.head()"
   ]
  },
  {
   "cell_type": "code",
   "execution_count": 22,
   "id": "2faabca5",
   "metadata": {
    "execution": {
     "iopub.execute_input": "2024-07-16T04:42:50.543794Z",
     "iopub.status.busy": "2024-07-16T04:42:50.542728Z",
     "iopub.status.idle": "2024-07-16T04:42:50.692539Z",
     "shell.execute_reply": "2024-07-16T04:42:50.691251Z"
    },
    "papermill": {
     "duration": 0.166372,
     "end_time": "2024-07-16T04:42:50.695426",
     "exception": false,
     "start_time": "2024-07-16T04:42:50.529054",
     "status": "completed"
    },
    "tags": []
   },
   "outputs": [
    {
     "data": {
      "text/plain": [
       "['min_max_scaler.pkl']"
      ]
     },
     "execution_count": 22,
     "metadata": {},
     "output_type": "execute_result"
    }
   ],
   "source": [
    "from sklearn.preprocessing import MinMaxScaler\n",
    "\n",
    "# Initialize scaler\n",
    "scaler = MinMaxScaler()\n",
    "\n",
    "# Scale numerical features in df2 (assuming 'bhk', 'area', and possibly 'price' are numerical)\n",
    "df2_scaled = df2.copy()  # Make a copy to preserve original data\n",
    "df2_scaled[['bhk', 'area']] = scaler.fit_transform(df2_scaled[['bhk', 'area']])\n",
    "\n",
    "joblib.dump(scaler, 'min_max_scaler.pkl')"
   ]
  },
  {
   "cell_type": "code",
   "execution_count": 23,
   "id": "18e89b20",
   "metadata": {
    "execution": {
     "iopub.execute_input": "2024-07-16T04:42:50.721908Z",
     "iopub.status.busy": "2024-07-16T04:42:50.721466Z",
     "iopub.status.idle": "2024-07-16T04:42:50.886355Z",
     "shell.execute_reply": "2024-07-16T04:42:50.885027Z"
    },
    "papermill": {
     "duration": 0.181365,
     "end_time": "2024-07-16T04:42:50.889122",
     "exception": false,
     "start_time": "2024-07-16T04:42:50.707757",
     "status": "completed"
    },
    "tags": []
   },
   "outputs": [],
   "source": [
    "from sklearn.model_selection import train_test_split\n",
    "\n",
    "# Define features (X) and target variable (y)\n",
    "X = df2_scaled.drop('price', axis=1)\n",
    "y = df2_scaled['price']\n",
    "\n",
    "# Split data into training and testing sets (adjust test_size and random_state as needed)\n",
    "X_train, X_test, y_train, y_test = train_test_split(X, y, test_size=0.2, random_state=42)"
   ]
  },
  {
   "cell_type": "code",
   "execution_count": 24,
   "id": "5b59f596",
   "metadata": {
    "execution": {
     "iopub.execute_input": "2024-07-16T04:42:50.916321Z",
     "iopub.status.busy": "2024-07-16T04:42:50.915928Z",
     "iopub.status.idle": "2024-07-16T04:43:04.990059Z",
     "shell.execute_reply": "2024-07-16T04:43:04.988527Z"
    },
    "papermill": {
     "duration": 14.09075,
     "end_time": "2024-07-16T04:43:04.992749",
     "exception": false,
     "start_time": "2024-07-16T04:42:50.901999",
     "status": "completed"
    },
    "tags": []
   },
   "outputs": [
    {
     "name": "stdout",
     "output_type": "stream",
     "text": [
      "Fitting 3 folds for each of 4 candidates, totalling 12 fits\n",
      "Best parameters for Linear Regression: {'copy_X': True, 'fit_intercept': True}\n",
      "Best cross-validation score for Linear Regression: 0.7595\n",
      "\n",
      "Test set score (R^2) for Linear Regression: 0.7581\n",
      "\n",
      "Fitting 3 folds for each of 25 candidates, totalling 75 fits\n"
     ]
    },
    {
     "name": "stderr",
     "output_type": "stream",
     "text": [
      "/opt/conda/lib/python3.10/site-packages/sklearn/linear_model/_ridge.py:216: LinAlgWarning: Ill-conditioned matrix (rcond=9.01585e-21): result may not be accurate.\n",
      "  return linalg.solve(A, Xy, assume_a=\"pos\", overwrite_a=True).T\n",
      "/opt/conda/lib/python3.10/site-packages/sklearn/linear_model/_ridge.py:216: LinAlgWarning: Ill-conditioned matrix (rcond=9.02773e-21): result may not be accurate.\n",
      "  return linalg.solve(A, Xy, assume_a=\"pos\", overwrite_a=True).T\n",
      "/opt/conda/lib/python3.10/site-packages/sklearn/linear_model/_ridge.py:216: LinAlgWarning: Ill-conditioned matrix (rcond=8.95415e-21): result may not be accurate.\n",
      "  return linalg.solve(A, Xy, assume_a=\"pos\", overwrite_a=True).T\n",
      "/opt/conda/lib/python3.10/site-packages/sklearn/linear_model/_ridge.py:216: LinAlgWarning: Ill-conditioned matrix (rcond=9.01585e-21): result may not be accurate.\n",
      "  return linalg.solve(A, Xy, assume_a=\"pos\", overwrite_a=True).T\n",
      "/opt/conda/lib/python3.10/site-packages/sklearn/linear_model/_ridge.py:216: LinAlgWarning: Ill-conditioned matrix (rcond=9.02773e-21): result may not be accurate.\n",
      "  return linalg.solve(A, Xy, assume_a=\"pos\", overwrite_a=True).T\n",
      "/opt/conda/lib/python3.10/site-packages/sklearn/linear_model/_ridge.py:216: LinAlgWarning: Ill-conditioned matrix (rcond=8.95415e-21): result may not be accurate.\n",
      "  return linalg.solve(A, Xy, assume_a=\"pos\", overwrite_a=True).T\n",
      "/opt/conda/lib/python3.10/site-packages/sklearn/linear_model/_ridge.py:216: LinAlgWarning: Ill-conditioned matrix (rcond=9.02773e-20): result may not be accurate.\n",
      "  return linalg.solve(A, Xy, assume_a=\"pos\", overwrite_a=True).T\n",
      "/opt/conda/lib/python3.10/site-packages/sklearn/linear_model/_ridge.py:216: LinAlgWarning: Ill-conditioned matrix (rcond=9.01585e-20): result may not be accurate.\n",
      "  return linalg.solve(A, Xy, assume_a=\"pos\", overwrite_a=True).T\n",
      "/opt/conda/lib/python3.10/site-packages/sklearn/linear_model/_ridge.py:216: LinAlgWarning: Ill-conditioned matrix (rcond=8.95415e-20): result may not be accurate.\n",
      "  return linalg.solve(A, Xy, assume_a=\"pos\", overwrite_a=True).T\n",
      "/opt/conda/lib/python3.10/site-packages/sklearn/linear_model/_ridge.py:216: LinAlgWarning: Ill-conditioned matrix (rcond=9.02773e-20): result may not be accurate.\n",
      "  return linalg.solve(A, Xy, assume_a=\"pos\", overwrite_a=True).T\n",
      "/opt/conda/lib/python3.10/site-packages/sklearn/linear_model/_ridge.py:216: LinAlgWarning: Ill-conditioned matrix (rcond=8.95415e-20): result may not be accurate.\n",
      "  return linalg.solve(A, Xy, assume_a=\"pos\", overwrite_a=True).T\n",
      "/opt/conda/lib/python3.10/site-packages/sklearn/linear_model/_ridge.py:216: LinAlgWarning: Ill-conditioned matrix (rcond=9.01585e-20): result may not be accurate.\n",
      "  return linalg.solve(A, Xy, assume_a=\"pos\", overwrite_a=True).T\n",
      "/opt/conda/lib/python3.10/site-packages/sklearn/linear_model/_ridge.py:216: LinAlgWarning: Ill-conditioned matrix (rcond=8.95415e-19): result may not be accurate.\n",
      "  return linalg.solve(A, Xy, assume_a=\"pos\", overwrite_a=True).T\n",
      "/opt/conda/lib/python3.10/site-packages/sklearn/linear_model/_ridge.py:216: LinAlgWarning: Ill-conditioned matrix (rcond=9.01585e-19): result may not be accurate.\n",
      "  return linalg.solve(A, Xy, assume_a=\"pos\", overwrite_a=True).T\n",
      "/opt/conda/lib/python3.10/site-packages/sklearn/linear_model/_ridge.py:216: LinAlgWarning: Ill-conditioned matrix (rcond=9.01585e-19): result may not be accurate.\n",
      "  return linalg.solve(A, Xy, assume_a=\"pos\", overwrite_a=True).T\n",
      "/opt/conda/lib/python3.10/site-packages/sklearn/linear_model/_ridge.py:216: LinAlgWarning: Ill-conditioned matrix (rcond=9.02773e-19): result may not be accurate.\n",
      "  return linalg.solve(A, Xy, assume_a=\"pos\", overwrite_a=True).T\n",
      "/opt/conda/lib/python3.10/site-packages/sklearn/linear_model/_ridge.py:216: LinAlgWarning: Ill-conditioned matrix (rcond=9.02773e-19): result may not be accurate.\n",
      "  return linalg.solve(A, Xy, assume_a=\"pos\", overwrite_a=True).T\n",
      "/opt/conda/lib/python3.10/site-packages/sklearn/linear_model/_ridge.py:216: LinAlgWarning: Ill-conditioned matrix (rcond=8.95415e-19): result may not be accurate.\n",
      "  return linalg.solve(A, Xy, assume_a=\"pos\", overwrite_a=True).T\n",
      "/opt/conda/lib/python3.10/site-packages/sklearn/linear_model/_ridge.py:216: LinAlgWarning: Ill-conditioned matrix (rcond=9.01585e-18): result may not be accurate.\n",
      "  return linalg.solve(A, Xy, assume_a=\"pos\", overwrite_a=True).T\n",
      "/opt/conda/lib/python3.10/site-packages/sklearn/linear_model/_ridge.py:216: LinAlgWarning: Ill-conditioned matrix (rcond=9.02773e-18): result may not be accurate.\n",
      "  return linalg.solve(A, Xy, assume_a=\"pos\", overwrite_a=True).T\n",
      "/opt/conda/lib/python3.10/site-packages/sklearn/linear_model/_ridge.py:216: LinAlgWarning: Ill-conditioned matrix (rcond=8.95415e-18): result may not be accurate.\n",
      "  return linalg.solve(A, Xy, assume_a=\"pos\", overwrite_a=True).T\n",
      "/opt/conda/lib/python3.10/site-packages/sklearn/linear_model/_ridge.py:216: LinAlgWarning: Ill-conditioned matrix (rcond=9.02773e-18): result may not be accurate.\n",
      "  return linalg.solve(A, Xy, assume_a=\"pos\", overwrite_a=True).T\n",
      "/opt/conda/lib/python3.10/site-packages/sklearn/linear_model/_ridge.py:216: LinAlgWarning: Ill-conditioned matrix (rcond=8.95415e-18): result may not be accurate.\n",
      "  return linalg.solve(A, Xy, assume_a=\"pos\", overwrite_a=True).T\n",
      "/opt/conda/lib/python3.10/site-packages/sklearn/linear_model/_ridge.py:216: LinAlgWarning: Ill-conditioned matrix (rcond=9.01585e-17): result may not be accurate.\n",
      "  return linalg.solve(A, Xy, assume_a=\"pos\", overwrite_a=True).T\n",
      "/opt/conda/lib/python3.10/site-packages/sklearn/linear_model/_ridge.py:216: LinAlgWarning: Ill-conditioned matrix (rcond=9.01585e-18): result may not be accurate.\n",
      "  return linalg.solve(A, Xy, assume_a=\"pos\", overwrite_a=True).T\n",
      "/opt/conda/lib/python3.10/site-packages/sklearn/linear_model/_ridge.py:216: LinAlgWarning: Ill-conditioned matrix (rcond=9.02773e-17): result may not be accurate.\n",
      "  return linalg.solve(A, Xy, assume_a=\"pos\", overwrite_a=True).T\n",
      "/opt/conda/lib/python3.10/site-packages/sklearn/linear_model/_ridge.py:216: LinAlgWarning: Ill-conditioned matrix (rcond=8.95415e-17): result may not be accurate.\n",
      "  return linalg.solve(A, Xy, assume_a=\"pos\", overwrite_a=True).T\n",
      "/opt/conda/lib/python3.10/site-packages/sklearn/linear_model/_ridge.py:216: LinAlgWarning: Ill-conditioned matrix (rcond=8.95415e-17): result may not be accurate.\n",
      "  return linalg.solve(A, Xy, assume_a=\"pos\", overwrite_a=True).T\n",
      "/opt/conda/lib/python3.10/site-packages/sklearn/linear_model/_ridge.py:216: LinAlgWarning: Ill-conditioned matrix (rcond=9.01585e-17): result may not be accurate.\n",
      "  return linalg.solve(A, Xy, assume_a=\"pos\", overwrite_a=True).T\n",
      "/opt/conda/lib/python3.10/site-packages/sklearn/linear_model/_ridge.py:216: LinAlgWarning: Ill-conditioned matrix (rcond=9.02773e-17): result may not be accurate.\n",
      "  return linalg.solve(A, Xy, assume_a=\"pos\", overwrite_a=True).T\n",
      "/opt/conda/lib/python3.10/site-packages/sklearn/linear_model/_ridge.py:216: LinAlgWarning: Ill-conditioned matrix (rcond=5.99935e-19): result may not be accurate.\n",
      "  return linalg.solve(A, Xy, assume_a=\"pos\", overwrite_a=True).T\n"
     ]
    },
    {
     "name": "stdout",
     "output_type": "stream",
     "text": [
      "Best parameters for Ridge Regression: {'alpha': 1.0, 'solver': 'auto'}\n",
      "Best cross-validation score for Ridge Regression: 0.7595\n",
      "\n",
      "Test set score (R^2) for Ridge Regression: 0.7581\n",
      "\n",
      "Fitting 3 folds for each of 15 candidates, totalling 45 fits\n",
      "Best parameters for Lasso Regression: {'alpha': 100.0, 'max_iter': 1000}\n",
      "Best cross-validation score for Lasso Regression: 0.7595\n",
      "\n",
      "Test set score (R^2) for Lasso Regression: 0.7581\n",
      "\n",
      "Fitting 3 folds for each of 60 candidates, totalling 180 fits\n",
      "Best parameters for DecisionTree Regressor: {'max_depth': 20, 'min_samples_leaf': 10, 'min_samples_split': 5}\n",
      "Best cross-validation score for DecisionTree Regressor: 0.8565\n",
      "\n",
      "Test set score (R^2) for DecisionTree Regressor: 0.8611\n",
      "\n"
     ]
    }
   ],
   "source": [
    "from sklearn.model_selection import GridSearchCV\n",
    "from sklearn.linear_model import Ridge, Lasso, LinearRegression\n",
    "from sklearn.tree import DecisionTreeRegressor\n",
    "from sklearn.datasets import make_regression\n",
    "\n",
    "\n",
    "# Define models and their parameter grids\n",
    "models = {\n",
    "    'Linear Regression': (LinearRegression(), {\n",
    "        'fit_intercept': [True, False],\n",
    "        'copy_X': [True, False]\n",
    "    }),\n",
    "    'Ridge Regression': (Ridge(), {\n",
    "        'alpha': [0.01, 0.1, 1.0, 10.0, 100.0],\n",
    "        'solver': ['auto', 'svd', 'cholesky', 'lsqr', 'sparse_cg']\n",
    "    }),\n",
    "    'Lasso Regression': (Lasso(), {\n",
    "        'alpha': [0.01, 0.1, 1.0, 10.0, 100.0],\n",
    "        'max_iter': [1000, 5000, 10000]\n",
    "    }),\n",
    "    'DecisionTree Regressor': (DecisionTreeRegressor(), {\n",
    "        'max_depth': [None, 10, 20, 30, 50],\n",
    "        'min_samples_split': [2, 5, 10],\n",
    "        'min_samples_leaf': [1, 2, 5, 10]\n",
    "    })\n",
    "}\n",
    "\n",
    "# Track the best model and its score\n",
    "best_model = None\n",
    "best_score = -float('inf')\n",
    "best_model_name = None\n",
    "\n",
    "# Perform GridSearchCV for each model\n",
    "for name, (model, param_grid) in models.items():\n",
    "    grid_search = GridSearchCV(model, param_grid, scoring='r2', cv=3, verbose=1, n_jobs=-1)\n",
    "    grid_search.fit(X_train, y_train)\n",
    "    \n",
    "    print(f\"Best parameters for {name}: {grid_search.best_params_}\")\n",
    "    print(f\"Best cross-validation score for {name}: {grid_search.best_score_:.4f}\")\n",
    "    print()\n",
    "\n",
    "    # Evaluate on test set using the R^2 score\n",
    "    test_score = grid_search.best_estimator_.score(X_test, y_test)\n",
    "    print(f\"Test set score (R^2) for {name}: {test_score:.4f}\")\n",
    "    print()\n",
    "\n",
    "    # Check if this model is the best so far\n",
    "    if grid_search.best_score_ > best_score:\n",
    "        best_score = grid_search.best_score_\n",
    "        best_model = grid_search.best_estimator_\n",
    "        best_model_name = name\n",
    "        \n"
   ]
  },
  {
   "cell_type": "code",
   "execution_count": 25,
   "id": "8dbbcf1d",
   "metadata": {
    "execution": {
     "iopub.execute_input": "2024-07-16T04:43:05.022684Z",
     "iopub.status.busy": "2024-07-16T04:43:05.022188Z",
     "iopub.status.idle": "2024-07-16T04:43:05.033328Z",
     "shell.execute_reply": "2024-07-16T04:43:05.032024Z"
    },
    "papermill": {
     "duration": 0.029537,
     "end_time": "2024-07-16T04:43:05.036261",
     "exception": false,
     "start_time": "2024-07-16T04:43:05.006724",
     "status": "completed"
    },
    "tags": []
   },
   "outputs": [
    {
     "name": "stdout",
     "output_type": "stream",
     "text": [
      "Saved DecisionTree Regressor model as decisiontree_regressor_regression_model.pkl\n"
     ]
    }
   ],
   "source": [
    "# Save the best model using joblib\n",
    "if best_model is not None:\n",
    "    filename = f\"{best_model_name.lower().replace(' ', '_')}_regression_model.pkl\"\n",
    "    joblib.dump(best_model, filename)\n",
    "    print(f\"Saved {best_model_name} model as {filename}\")\n",
    "else:\n",
    "    print(\"No best model found.\")"
   ]
  }
 ],
 "metadata": {
  "kaggle": {
   "accelerator": "none",
   "dataSources": [
    {
     "datasetId": 2794383,
     "sourceId": 4823919,
     "sourceType": "datasetVersion"
    }
   ],
   "isGpuEnabled": false,
   "isInternetEnabled": true,
   "language": "python",
   "sourceType": "notebook"
  },
  "kernelspec": {
   "display_name": "Python 3 (ipykernel)",
   "language": "python",
   "name": "python3"
  },
  "language_info": {
   "codemirror_mode": {
    "name": "ipython",
    "version": 3
   },
   "file_extension": ".py",
   "mimetype": "text/x-python",
   "name": "python",
   "nbconvert_exporter": "python",
   "pygments_lexer": "ipython3",
   "version": "3.10.13"
  },
  "papermill": {
   "default_parameters": {},
   "duration": 27.245064,
   "end_time": "2024-07-16T04:43:07.672653",
   "environment_variables": {},
   "exception": null,
   "input_path": "__notebook__.ipynb",
   "output_path": "__notebook__.ipynb",
   "parameters": {},
   "start_time": "2024-07-16T04:42:40.427589",
   "version": "2.5.0"
  }
 },
 "nbformat": 4,
 "nbformat_minor": 5
}
