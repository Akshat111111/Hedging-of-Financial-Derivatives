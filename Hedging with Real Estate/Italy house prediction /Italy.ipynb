{
 "cells": [
  {
   "cell_type": "markdown",
   "id": "5452f8df",
   "metadata": {
    "papermill": {
     "duration": 0.019337,
     "end_time": "2023-06-07T08:28:19.761246",
     "exception": false,
     "start_time": "2023-06-07T08:28:19.741909",
     "status": "completed"
    },
    "tags": []
   },
   "source": [
    "# IMPORTS"
   ]
  },
  {
   "cell_type": "code",
   "execution_count": 1,
   "id": "866a1130",
   "metadata": {
    "execution": {
     "iopub.execute_input": "2023-06-07T08:28:19.792184Z",
     "iopub.status.busy": "2023-06-07T08:28:19.791711Z",
     "iopub.status.idle": "2023-06-07T08:28:51.245775Z",
     "shell.execute_reply": "2023-06-07T08:28:51.243594Z"
    },
    "papermill": {
     "duration": 31.472659,
     "end_time": "2023-06-07T08:28:51.248884",
     "exception": false,
     "start_time": "2023-06-07T08:28:19.776225",
     "status": "completed"
    },
    "tags": []
   },
   "outputs": [
    {
     "name": "stdout",
     "output_type": "stream",
     "text": [
      "Requirement already satisfied: pandas-geojson in /Users/shikarichacha/anaconda3/lib/python3.11/site-packages (2.2.1)\n",
      "Requirement already satisfied: deep-translator in /Users/shikarichacha/anaconda3/lib/python3.11/site-packages (1.11.4)\n",
      "Requirement already satisfied: beautifulsoup4<5.0.0,>=4.9.1 in /Users/shikarichacha/anaconda3/lib/python3.11/site-packages (from deep-translator) (4.12.2)\n",
      "Requirement already satisfied: requests<3.0.0,>=2.23.0 in /Users/shikarichacha/anaconda3/lib/python3.11/site-packages (from deep-translator) (2.31.0)\n",
      "Requirement already satisfied: soupsieve>1.2 in /Users/shikarichacha/anaconda3/lib/python3.11/site-packages (from beautifulsoup4<5.0.0,>=4.9.1->deep-translator) (2.4)\n",
      "Requirement already satisfied: charset-normalizer<4,>=2 in /Users/shikarichacha/anaconda3/lib/python3.11/site-packages (from requests<3.0.0,>=2.23.0->deep-translator) (2.0.4)\n",
      "Requirement already satisfied: idna<4,>=2.5 in /Users/shikarichacha/anaconda3/lib/python3.11/site-packages (from requests<3.0.0,>=2.23.0->deep-translator) (3.4)\n",
      "Requirement already satisfied: urllib3<3,>=1.21.1 in /Users/shikarichacha/anaconda3/lib/python3.11/site-packages (from requests<3.0.0,>=2.23.0->deep-translator) (2.2.1)\n",
      "Requirement already satisfied: certifi>=2017.4.17 in /Users/shikarichacha/anaconda3/lib/python3.11/site-packages (from requests<3.0.0,>=2.23.0->deep-translator) (2023.11.17)\n"
     ]
    }
   ],
   "source": [
    "!pip install pandas-geojson\n",
    "!pip install deep-translator"
   ]
  },
  {
   "cell_type": "code",
   "execution_count": 2,
   "id": "0f613afb",
   "metadata": {
    "_cell_guid": "b1076dfc-b9ad-4769-8c92-a6c4dae69d19",
    "_uuid": "8f2839f25d086af736a60e9eeb907d3b93b6e0e5",
    "execution": {
     "iopub.execute_input": "2023-06-07T08:28:51.277343Z",
     "iopub.status.busy": "2023-06-07T08:28:51.276849Z",
     "iopub.status.idle": "2023-06-07T08:28:54.290352Z",
     "shell.execute_reply": "2023-06-07T08:28:54.288966Z"
    },
    "papermill": {
     "duration": 3.032023,
     "end_time": "2023-06-07T08:28:54.294014",
     "exception": false,
     "start_time": "2023-06-07T08:28:51.261991",
     "status": "completed"
    },
    "tags": []
   },
   "outputs": [],
   "source": [
    "import pandas as pd\n",
    "import numpy as np\n",
    "from deep_translator import GoogleTranslator\n",
    "import json\n",
    "import matplotlib.pyplot as plt\n",
    "import seaborn as sns\n",
    "import plotly.express as px\n",
    "import geopandas as gpd\n",
    "from pandas_geojson import read_geojson\n",
    "\n",
    "%matplotlib inline\n",
    "\n",
    "import warnings\n",
    "warnings.filterwarnings('ignore')"
   ]
  },
  {
   "cell_type": "markdown",
   "id": "ac6aecc8",
   "metadata": {
    "papermill": {
     "duration": 0.013933,
     "end_time": "2023-06-07T08:28:54.380821",
     "exception": false,
     "start_time": "2023-06-07T08:28:54.366888",
     "status": "completed"
    },
    "tags": []
   },
   "source": [
    "# DATA CLEANING"
   ]
  },
  {
   "cell_type": "code",
   "execution_count": 3,
   "id": "9c81dc58",
   "metadata": {
    "execution": {
     "iopub.execute_input": "2023-06-07T08:28:54.409964Z",
     "iopub.status.busy": "2023-06-07T08:28:54.409535Z",
     "iopub.status.idle": "2023-06-07T08:28:54.965764Z",
     "shell.execute_reply": "2023-06-07T08:28:54.963872Z"
    },
    "papermill": {
     "duration": 0.574355,
     "end_time": "2023-06-07T08:28:54.969035",
     "exception": false,
     "start_time": "2023-06-07T08:28:54.394680",
     "status": "completed"
    },
    "tags": []
   },
   "outputs": [
    {
     "data": {
      "text/html": [
       "<div>\n",
       "<style scoped>\n",
       "    .dataframe tbody tr th:only-of-type {\n",
       "        vertical-align: middle;\n",
       "    }\n",
       "\n",
       "    .dataframe tbody tr th {\n",
       "        vertical-align: top;\n",
       "    }\n",
       "\n",
       "    .dataframe thead th {\n",
       "        text-align: right;\n",
       "    }\n",
       "</style>\n",
       "<table border=\"1\" class=\"dataframe\">\n",
       "  <thead>\n",
       "    <tr style=\"text-align: right;\">\n",
       "      <th></th>\n",
       "      <th>regione</th>\n",
       "      <th>citta</th>\n",
       "      <th>quartiere</th>\n",
       "      <th>prezzo</th>\n",
       "      <th>datetime</th>\n",
       "      <th>posti auto</th>\n",
       "      <th>bagni per stanza</th>\n",
       "      <th>bagni</th>\n",
       "      <th>stanze</th>\n",
       "      <th>ultimo piano</th>\n",
       "      <th>...</th>\n",
       "      <th>giardino privato</th>\n",
       "      <th>impianto allarme</th>\n",
       "      <th>portiere</th>\n",
       "      <th>piscina</th>\n",
       "      <th>villa</th>\n",
       "      <th>intera proprieta</th>\n",
       "      <th>appartamento</th>\n",
       "      <th>attico</th>\n",
       "      <th>loft</th>\n",
       "      <th>mansarda</th>\n",
       "    </tr>\n",
       "  </thead>\n",
       "  <tbody>\n",
       "    <tr>\n",
       "      <th>0</th>\n",
       "      <td>NaN</td>\n",
       "      <td>Milano</td>\n",
       "      <td>Centrale</td>\n",
       "      <td>1800.0</td>\n",
       "      <td>2023-07-03</td>\n",
       "      <td>1</td>\n",
       "      <td>0.333333</td>\n",
       "      <td>1.0</td>\n",
       "      <td>3.0</td>\n",
       "      <td>0</td>\n",
       "      <td>...</td>\n",
       "      <td>0</td>\n",
       "      <td>0</td>\n",
       "      <td>0</td>\n",
       "      <td>0</td>\n",
       "      <td>0</td>\n",
       "      <td>0</td>\n",
       "      <td>1</td>\n",
       "      <td>0</td>\n",
       "      <td>0</td>\n",
       "      <td>0</td>\n",
       "    </tr>\n",
       "    <tr>\n",
       "      <th>1</th>\n",
       "      <td>NaN</td>\n",
       "      <td>Torino</td>\n",
       "      <td>Santa Rita</td>\n",
       "      <td>450.0</td>\n",
       "      <td>2023-07-03</td>\n",
       "      <td>0</td>\n",
       "      <td>0.500000</td>\n",
       "      <td>1.0</td>\n",
       "      <td>2.0</td>\n",
       "      <td>1</td>\n",
       "      <td>...</td>\n",
       "      <td>0</td>\n",
       "      <td>0</td>\n",
       "      <td>0</td>\n",
       "      <td>0</td>\n",
       "      <td>0</td>\n",
       "      <td>0</td>\n",
       "      <td>1</td>\n",
       "      <td>0</td>\n",
       "      <td>0</td>\n",
       "      <td>0</td>\n",
       "    </tr>\n",
       "    <tr>\n",
       "      <th>2</th>\n",
       "      <td>NaN</td>\n",
       "      <td>Padova</td>\n",
       "      <td>Prato della Valle - Pontecorvo</td>\n",
       "      <td>3200.0</td>\n",
       "      <td>2023-07-03</td>\n",
       "      <td>1</td>\n",
       "      <td>NaN</td>\n",
       "      <td>3.0</td>\n",
       "      <td>NaN</td>\n",
       "      <td>0</td>\n",
       "      <td>...</td>\n",
       "      <td>0</td>\n",
       "      <td>0</td>\n",
       "      <td>0</td>\n",
       "      <td>0</td>\n",
       "      <td>0</td>\n",
       "      <td>0</td>\n",
       "      <td>1</td>\n",
       "      <td>0</td>\n",
       "      <td>0</td>\n",
       "      <td>0</td>\n",
       "    </tr>\n",
       "  </tbody>\n",
       "</table>\n",
       "<p>3 rows × 33 columns</p>\n",
       "</div>"
      ],
      "text/plain": [
       "  regione   citta                       quartiere  prezzo    datetime  \\\n",
       "0     NaN  Milano                        Centrale  1800.0  2023-07-03   \n",
       "1     NaN  Torino                      Santa Rita   450.0  2023-07-03   \n",
       "2     NaN  Padova  Prato della Valle - Pontecorvo  3200.0  2023-07-03   \n",
       "\n",
       "   posti auto  bagni per stanza  bagni  stanze  ultimo piano  ...  \\\n",
       "0           1          0.333333    1.0     3.0             0  ...   \n",
       "1           0          0.500000    1.0     2.0             1  ...   \n",
       "2           1               NaN    3.0     NaN             0  ...   \n",
       "\n",
       "  giardino privato impianto allarme  portiere  piscina  villa  \\\n",
       "0                0                0         0        0      0   \n",
       "1                0                0         0        0      0   \n",
       "2                0                0         0        0      0   \n",
       "\n",
       "   intera proprieta  appartamento  attico  loft  mansarda  \n",
       "0                 0             1       0     0         0  \n",
       "1                 0             1       0     0         0  \n",
       "2                 0             1       0     0         0  \n",
       "\n",
       "[3 rows x 33 columns]"
      ]
     },
     "execution_count": 3,
     "metadata": {},
     "output_type": "execute_result"
    }
   ],
   "source": [
    "PATH = \"rents_clean.csv\"\n",
    "df = pd.read_csv(PATH)\n",
    "df.head(3)"
   ]
  },
  {
   "cell_type": "code",
   "execution_count": 4,
   "id": "dd154e14",
   "metadata": {
    "execution": {
     "iopub.execute_input": "2023-06-07T08:28:54.998651Z",
     "iopub.status.busy": "2023-06-07T08:28:54.998223Z",
     "iopub.status.idle": "2023-06-07T08:29:01.585301Z",
     "shell.execute_reply": "2023-06-07T08:29:01.583956Z"
    },
    "papermill": {
     "duration": 6.607192,
     "end_time": "2023-06-07T08:29:01.589900",
     "exception": false,
     "start_time": "2023-06-07T08:28:54.982708",
     "status": "completed"
    },
    "tags": []
   },
   "outputs": [
    {
     "data": {
      "text/html": [
       "<div>\n",
       "<style scoped>\n",
       "    .dataframe tbody tr th:only-of-type {\n",
       "        vertical-align: middle;\n",
       "    }\n",
       "\n",
       "    .dataframe tbody tr th {\n",
       "        vertical-align: top;\n",
       "    }\n",
       "\n",
       "    .dataframe thead th {\n",
       "        text-align: right;\n",
       "    }\n",
       "</style>\n",
       "<table border=\"1\" class=\"dataframe\">\n",
       "  <thead>\n",
       "    <tr style=\"text-align: right;\">\n",
       "      <th></th>\n",
       "      <th>region</th>\n",
       "      <th>city</th>\n",
       "      <th>quarter</th>\n",
       "      <th>price</th>\n",
       "      <th>datetime</th>\n",
       "      <th>parking_spaces</th>\n",
       "      <th>bathrooms_per_room</th>\n",
       "      <th>bathrooms</th>\n",
       "      <th>rooms</th>\n",
       "      <th>top_floor</th>\n",
       "      <th>...</th>\n",
       "      <th>private_garden</th>\n",
       "      <th>alarm_system</th>\n",
       "      <th>doorman</th>\n",
       "      <th>pool</th>\n",
       "      <th>villa</th>\n",
       "      <th>entire_property</th>\n",
       "      <th>apartment</th>\n",
       "      <th>attic</th>\n",
       "      <th>loft</th>\n",
       "      <th>mansard</th>\n",
       "    </tr>\n",
       "  </thead>\n",
       "  <tbody>\n",
       "    <tr>\n",
       "      <th>0</th>\n",
       "      <td>NaN</td>\n",
       "      <td>Milano</td>\n",
       "      <td>Centrale</td>\n",
       "      <td>1800.0</td>\n",
       "      <td>2023-07-03</td>\n",
       "      <td>1</td>\n",
       "      <td>0.333333</td>\n",
       "      <td>1.0</td>\n",
       "      <td>3.0</td>\n",
       "      <td>0</td>\n",
       "      <td>...</td>\n",
       "      <td>0</td>\n",
       "      <td>0</td>\n",
       "      <td>0</td>\n",
       "      <td>0</td>\n",
       "      <td>0</td>\n",
       "      <td>0</td>\n",
       "      <td>1</td>\n",
       "      <td>0</td>\n",
       "      <td>0</td>\n",
       "      <td>0</td>\n",
       "    </tr>\n",
       "    <tr>\n",
       "      <th>1</th>\n",
       "      <td>NaN</td>\n",
       "      <td>Torino</td>\n",
       "      <td>Santa Rita</td>\n",
       "      <td>450.0</td>\n",
       "      <td>2023-07-03</td>\n",
       "      <td>0</td>\n",
       "      <td>0.500000</td>\n",
       "      <td>1.0</td>\n",
       "      <td>2.0</td>\n",
       "      <td>1</td>\n",
       "      <td>...</td>\n",
       "      <td>0</td>\n",
       "      <td>0</td>\n",
       "      <td>0</td>\n",
       "      <td>0</td>\n",
       "      <td>0</td>\n",
       "      <td>0</td>\n",
       "      <td>1</td>\n",
       "      <td>0</td>\n",
       "      <td>0</td>\n",
       "      <td>0</td>\n",
       "    </tr>\n",
       "    <tr>\n",
       "      <th>2</th>\n",
       "      <td>NaN</td>\n",
       "      <td>Padova</td>\n",
       "      <td>Prato della Valle - Pontecorvo</td>\n",
       "      <td>3200.0</td>\n",
       "      <td>2023-07-03</td>\n",
       "      <td>1</td>\n",
       "      <td>NaN</td>\n",
       "      <td>3.0</td>\n",
       "      <td>NaN</td>\n",
       "      <td>0</td>\n",
       "      <td>...</td>\n",
       "      <td>0</td>\n",
       "      <td>0</td>\n",
       "      <td>0</td>\n",
       "      <td>0</td>\n",
       "      <td>0</td>\n",
       "      <td>0</td>\n",
       "      <td>1</td>\n",
       "      <td>0</td>\n",
       "      <td>0</td>\n",
       "      <td>0</td>\n",
       "    </tr>\n",
       "  </tbody>\n",
       "</table>\n",
       "<p>3 rows × 33 columns</p>\n",
       "</div>"
      ],
      "text/plain": [
       "  region    city                         quarter   price    datetime  \\\n",
       "0    NaN  Milano                        Centrale  1800.0  2023-07-03   \n",
       "1    NaN  Torino                      Santa Rita   450.0  2023-07-03   \n",
       "2    NaN  Padova  Prato della Valle - Pontecorvo  3200.0  2023-07-03   \n",
       "\n",
       "   parking_spaces  bathrooms_per_room  bathrooms  rooms  top_floor  ...  \\\n",
       "0               1            0.333333        1.0    3.0          0  ...   \n",
       "1               0            0.500000        1.0    2.0          1  ...   \n",
       "2               1                 NaN        3.0    NaN          0  ...   \n",
       "\n",
       "  private_garden alarm_system  doorman  pool  villa  entire_property  \\\n",
       "0              0            0        0     0      0                0   \n",
       "1              0            0        0     0      0                0   \n",
       "2              0            0        0     0      0                0   \n",
       "\n",
       "   apartment  attic  loft  mansard  \n",
       "0          1      0     0        0  \n",
       "1          1      0     0        0  \n",
       "2          1      0     0        0  \n",
       "\n",
       "[3 rows x 33 columns]"
      ]
     },
     "execution_count": 4,
     "metadata": {},
     "output_type": "execute_result"
    }
   ],
   "source": [
    "## translate columns in english\n",
    "def Translate(italian_input):\n",
    "    return GoogleTranslator(source='it', target='en').translate(italian_input)\n",
    "\n",
    "columns_translated = [Translate(c) for c in df.columns]\n",
    "columns_translated[12], columns_translated[-1] = \"sea_view\", \"mansard\"\n",
    "\n",
    "columns_translated = [c.replace(\" \", \"_\") for c in columns_translated]\n",
    "df.columns = columns_translated\n",
    "df.head(3)"
   ]
  },
  {
   "cell_type": "markdown",
   "id": "d49ee203",
   "metadata": {
    "papermill": {
     "duration": 0.014517,
     "end_time": "2023-06-07T08:29:01.619584",
     "exception": false,
     "start_time": "2023-06-07T08:29:01.605067",
     "status": "completed"
    },
    "tags": []
   },
   "source": [
    "#### drop outliers"
   ]
  },
  {
   "cell_type": "code",
   "execution_count": 5,
   "id": "4e2d2758",
   "metadata": {
    "execution": {
     "iopub.execute_input": "2023-06-07T08:29:01.652432Z",
     "iopub.status.busy": "2023-06-07T08:29:01.652025Z",
     "iopub.status.idle": "2023-06-07T08:29:02.099124Z",
     "shell.execute_reply": "2023-06-07T08:29:02.098012Z"
    },
    "papermill": {
     "duration": 0.465948,
     "end_time": "2023-06-07T08:29:02.101506",
     "exception": false,
     "start_time": "2023-06-07T08:29:01.635558",
     "status": "completed"
    },
    "tags": []
   },
   "outputs": [
    {
     "name": "stdout",
     "output_type": "stream",
     "text": [
      "12500000.0\n"
     ]
    },
    {
     "data": {
      "text/plain": [
       "(array([  428.,   305.,  2651.,  9720., 15593., 13774., 11825.,  9563.,\n",
       "         6844.,  6593.,  3491.,  4807.,  3589.,  2665.,  3765.,  1998.,\n",
       "         1785.,  2288.,  1048.,  2251.,   686.,  1024.,   783.,   530.,\n",
       "          128.,  1730.,   399.,   473.,   585.,   246.,  1152.,   245.,\n",
       "          350.,   329.,   112.,   782.,   149.,   245.,   186.,   153.,\n",
       "          643.,    56.,    93.,    93.,    68.,   387.,    51.,    27.,\n",
       "           72.,    53.]),\n",
       " array([1.00000e+00, 1.00960e+02, 2.00920e+02, 3.00880e+02, 4.00840e+02,\n",
       "        5.00800e+02, 6.00760e+02, 7.00720e+02, 8.00680e+02, 9.00640e+02,\n",
       "        1.00060e+03, 1.10056e+03, 1.20052e+03, 1.30048e+03, 1.40044e+03,\n",
       "        1.50040e+03, 1.60036e+03, 1.70032e+03, 1.80028e+03, 1.90024e+03,\n",
       "        2.00020e+03, 2.10016e+03, 2.20012e+03, 2.30008e+03, 2.40004e+03,\n",
       "        2.50000e+03, 2.59996e+03, 2.69992e+03, 2.79988e+03, 2.89984e+03,\n",
       "        2.99980e+03, 3.09976e+03, 3.19972e+03, 3.29968e+03, 3.39964e+03,\n",
       "        3.49960e+03, 3.59956e+03, 3.69952e+03, 3.79948e+03, 3.89944e+03,\n",
       "        3.99940e+03, 4.09936e+03, 4.19932e+03, 4.29928e+03, 4.39924e+03,\n",
       "        4.49920e+03, 4.59916e+03, 4.69912e+03, 4.79908e+03, 4.89904e+03,\n",
       "        4.99900e+03]),\n",
       " <BarContainer object of 50 artists>)"
      ]
     },
     "execution_count": 5,
     "metadata": {},
     "output_type": "execute_result"
    },
    {
     "data": {
      "image/png": "[encoded data removed]",
      "text/plain": [
       "<Figure size 640x480 with 1 Axes>"
      ]
     },
     "metadata": {},
     "output_type": "display_data"
    }
   ],
   "source": [
    "print(df['price'].max())\n",
    "df = df.loc[df['price'] < 5000]\n",
    "plt.hist(df['price'], bins=50)"
   ]
  },
  {
   "cell_type": "code",
   "execution_count": 6,
   "id": "cb12d48d",
   "metadata": {
    "execution": {
     "iopub.execute_input": "2023-06-07T08:29:02.134670Z",
     "iopub.status.busy": "2023-06-07T08:29:02.133506Z",
     "iopub.status.idle": "2023-06-07T08:29:02.215895Z",
     "shell.execute_reply": "2023-06-07T08:29:02.214409Z"
    },
    "papermill": {
     "duration": 0.102324,
     "end_time": "2023-06-07T08:29:02.218826",
     "exception": false,
     "start_time": "2023-06-07T08:29:02.116502",
     "status": "completed"
    },
    "tags": []
   },
   "outputs": [],
   "source": [
    "# clean datetime\n",
    "import datetime\n",
    "from datetime import date\n",
    "TODAY = np.datetime64(date.today())\n",
    "FULL_CALENDAR = pd.DataFrame(pd.date_range(start=\"2023-01-01\", end=TODAY), columns=['datetime'])\n",
    "\n",
    "df['datetime'] = pd.to_datetime(df['datetime'])\n",
    "df = df.loc[(df['datetime']>\"01-01-2023\") & (df['datetime']<TODAY)]\n",
    "df['month'] = df['datetime'].dt.to_period('M').dt.start_time\n",
    "df['week'] = df['datetime'].dt.to_period('W').dt.start_time"
   ]
  },
  {
   "cell_type": "markdown",
   "id": "4bdc2b67",
   "metadata": {
    "papermill": {
     "duration": 0.014785,
     "end_time": "2023-06-07T08:29:02.249310",
     "exception": false,
     "start_time": "2023-06-07T08:29:02.234525",
     "status": "completed"
    },
    "tags": []
   },
   "source": [
    "# DATA EXPLORATION"
   ]
  },
  {
   "cell_type": "code",
   "execution_count": 7,
   "id": "7adacd9a",
   "metadata": {
    "execution": {
     "iopub.execute_input": "2023-06-07T08:29:02.283315Z",
     "iopub.status.busy": "2023-06-07T08:29:02.282832Z",
     "iopub.status.idle": "2023-06-07T08:29:02.305815Z",
     "shell.execute_reply": "2023-06-07T08:29:02.304458Z"
    },
    "papermill": {
     "duration": 0.042797,
     "end_time": "2023-06-07T08:29:02.309017",
     "exception": false,
     "start_time": "2023-06-07T08:29:02.266220",
     "status": "completed"
    },
    "tags": []
   },
   "outputs": [
    {
     "data": {
      "text/plain": [
       "lombardia                23516\n",
       "lazio                    18265\n",
       "piemonte                 14967\n",
       "emilia-romagna           12347\n",
       "veneto                    7363\n",
       "toscana                   7058\n",
       "campania                  6381\n",
       "liguria                   5569\n",
       "sicilia                   5185\n",
       "marche                    2380\n",
       "puglia                    2372\n",
       "umbria                    2368\n",
       "abruzzo                   1617\n",
       "trentino-alto-adige       1243\n",
       "sardegna                   784\n",
       "calabria                   675\n",
       "basilicata                 250\n",
       "friuli-venezia-giulia      248\n",
       "valle-d-aosta              243\n",
       "molise                     240\n",
       "emilia-Romagna              66\n",
       "trieste                     25\n",
       "catanzaro                   21\n",
       "genova                       7\n",
       "palermo                      5\n",
       "bari                         4\n",
       "napoli                       3\n",
       "l-aquila                     3\n",
       "Liguria                      2\n",
       "torino                       2\n",
       "ancona                       2\n",
       "venezia                      2\n",
       "milano                       2\n",
       "Name: region, dtype: int64"
      ]
     },
     "execution_count": 7,
     "metadata": {},
     "output_type": "execute_result"
    }
   ],
   "source": [
    "df.region.value_counts().sort_values(ascending=False)"
   ]
  },
  {
   "cell_type": "code",
   "execution_count": 8,
   "id": "df6f0177",
   "metadata": {
    "execution": {
     "iopub.execute_input": "2023-06-07T08:29:02.340667Z",
     "iopub.status.busy": "2023-06-07T08:29:02.340185Z",
     "iopub.status.idle": "2023-06-07T08:29:02.772130Z",
     "shell.execute_reply": "2023-06-07T08:29:02.770954Z"
    },
    "papermill": {
     "duration": 0.451295,
     "end_time": "2023-06-07T08:29:02.774817",
     "exception": false,
     "start_time": "2023-06-07T08:29:02.323522",
     "status": "completed"
    },
    "tags": []
   },
   "outputs": [
    {
     "data": {
      "text/plain": [
       "Text(0.5, 1.0, 'Squared meters')"
      ]
     },
     "execution_count": 8,
     "metadata": {},
     "output_type": "execute_result"
    },
    {
     "data": {
      "image/png": "[encoded data removed]",
      "text/plain": [
       "<Figure size 640x480 with 1 Axes>"
      ]
     },
     "metadata": {},
     "output_type": "display_data"
    }
   ],
   "source": [
    "# sq. meters\n",
    "plt.hist(df['surface'], bins=50)\n",
    "plt.title(\"Squared meters\")"
   ]
  },
  {
   "cell_type": "code",
   "execution_count": 9,
   "id": "81d372f0",
   "metadata": {
    "execution": {
     "iopub.execute_input": "2023-06-07T08:29:02.808161Z",
     "iopub.status.busy": "2023-06-07T08:29:02.807178Z",
     "iopub.status.idle": "2023-06-07T08:29:02.818044Z",
     "shell.execute_reply": "2023-06-07T08:29:02.817187Z"
    },
    "papermill": {
     "duration": 0.030204,
     "end_time": "2023-06-07T08:29:02.820329",
     "exception": false,
     "start_time": "2023-06-07T08:29:02.790125",
     "status": "completed"
    },
    "tags": []
   },
   "outputs": [
    {
     "data": {
      "text/plain": [
       "1    82092\n",
       "0    31134\n",
       "Name: furnished, dtype: int64"
      ]
     },
     "execution_count": 9,
     "metadata": {},
     "output_type": "execute_result"
    }
   ],
   "source": [
    "# furnished\n",
    "df['furnished'].value_counts()"
   ]
  },
  {
   "cell_type": "code",
   "execution_count": 10,
   "id": "88a7809d",
   "metadata": {
    "execution": {
     "iopub.execute_input": "2023-06-07T08:29:02.854129Z",
     "iopub.status.busy": "2023-06-07T08:29:02.852654Z",
     "iopub.status.idle": "2023-06-07T08:29:03.158600Z",
     "shell.execute_reply": "2023-06-07T08:29:03.157534Z"
    },
    "papermill": {
     "duration": 0.326039,
     "end_time": "2023-06-07T08:29:03.161690",
     "exception": false,
     "start_time": "2023-06-07T08:29:02.835651",
     "status": "completed"
    },
    "tags": []
   },
   "outputs": [
    {
     "ename": "KeyError",
     "evalue": "'lofts'",
     "output_type": "error",
     "traceback": [
      "\u001b[0;31m---------------------------------------------------------------------------\u001b[0m",
      "\u001b[0;31mKeyError\u001b[0m                                  Traceback (most recent call last)",
      "File \u001b[0;32m~/anaconda3/lib/python3.11/site-packages/pandas/core/indexes/base.py:3802\u001b[0m, in \u001b[0;36mIndex.get_loc\u001b[0;34m(self, key, method, tolerance)\u001b[0m\n\u001b[1;32m   3801\u001b[0m \u001b[38;5;28;01mtry\u001b[39;00m:\n\u001b[0;32m-> 3802\u001b[0m     \u001b[38;5;28;01mreturn\u001b[39;00m \u001b[38;5;28mself\u001b[39m\u001b[38;5;241m.\u001b[39m_engine\u001b[38;5;241m.\u001b[39mget_loc(casted_key)\n\u001b[1;32m   3803\u001b[0m \u001b[38;5;28;01mexcept\u001b[39;00m \u001b[38;5;167;01mKeyError\u001b[39;00m \u001b[38;5;28;01mas\u001b[39;00m err:\n",
      "File \u001b[0;32m~/anaconda3/lib/python3.11/site-packages/pandas/_libs/index.pyx:138\u001b[0m, in \u001b[0;36mpandas._libs.index.IndexEngine.get_loc\u001b[0;34m()\u001b[0m\n",
      "File \u001b[0;32m~/anaconda3/lib/python3.11/site-packages/pandas/_libs/index.pyx:165\u001b[0m, in \u001b[0;36mpandas._libs.index.IndexEngine.get_loc\u001b[0;34m()\u001b[0m\n",
      "File \u001b[0;32mpandas/_libs/hashtable_class_helper.pxi:5745\u001b[0m, in \u001b[0;36mpandas._libs.hashtable.PyObjectHashTable.get_item\u001b[0;34m()\u001b[0m\n",
      "File \u001b[0;32mpandas/_libs/hashtable_class_helper.pxi:5753\u001b[0m, in \u001b[0;36mpandas._libs.hashtable.PyObjectHashTable.get_item\u001b[0;34m()\u001b[0m\n",
      "\u001b[0;31mKeyError\u001b[0m: 'lofts'",
      "\nThe above exception was the direct cause of the following exception:\n",
      "\u001b[0;31mKeyError\u001b[0m                                  Traceback (most recent call last)",
      "Cell \u001b[0;32mIn[10], line 6\u001b[0m\n\u001b[1;32m      1\u001b[0m \u001b[38;5;66;03m# type of building \u001b[39;00m\n\u001b[1;32m      2\u001b[0m types \u001b[38;5;241m=\u001b[39m {\n\u001b[1;32m      3\u001b[0m     \u001b[38;5;124m\"\u001b[39m\u001b[38;5;124mApartaments\u001b[39m\u001b[38;5;124m\"\u001b[39m: \u001b[38;5;28mlen\u001b[39m(df\u001b[38;5;241m.\u001b[39mloc[df[\u001b[38;5;124m'\u001b[39m\u001b[38;5;124mapartment\u001b[39m\u001b[38;5;124m'\u001b[39m]\u001b[38;5;241m==\u001b[39m\u001b[38;5;241m1\u001b[39m]), \n\u001b[1;32m      4\u001b[0m     \u001b[38;5;124m\"\u001b[39m\u001b[38;5;124mVilla\u001b[39m\u001b[38;5;124m\"\u001b[39m: \u001b[38;5;28mlen\u001b[39m(df\u001b[38;5;241m.\u001b[39mloc[df[\u001b[38;5;124m'\u001b[39m\u001b[38;5;124mvilla\u001b[39m\u001b[38;5;124m'\u001b[39m]\u001b[38;5;241m==\u001b[39m\u001b[38;5;241m1\u001b[39m]),\n\u001b[1;32m      5\u001b[0m     \u001b[38;5;124m\"\u001b[39m\u001b[38;5;124mAttic\u001b[39m\u001b[38;5;124m\"\u001b[39m: \u001b[38;5;28mlen\u001b[39m(df\u001b[38;5;241m.\u001b[39mloc[df[\u001b[38;5;124m'\u001b[39m\u001b[38;5;124mattic\u001b[39m\u001b[38;5;124m'\u001b[39m]\u001b[38;5;241m==\u001b[39m\u001b[38;5;241m1\u001b[39m]) \u001b[38;5;241m+\u001b[39m \u001b[38;5;28mlen\u001b[39m(df\u001b[38;5;241m.\u001b[39mloc[df[\u001b[38;5;124m'\u001b[39m\u001b[38;5;124mmansard\u001b[39m\u001b[38;5;124m'\u001b[39m]\u001b[38;5;241m==\u001b[39m\u001b[38;5;241m1\u001b[39m]),\n\u001b[0;32m----> 6\u001b[0m     \u001b[38;5;124m\"\u001b[39m\u001b[38;5;124mLoft\u001b[39m\u001b[38;5;124m\"\u001b[39m: \u001b[38;5;28mlen\u001b[39m(df\u001b[38;5;241m.\u001b[39mloc[df[\u001b[38;5;124m'\u001b[39m\u001b[38;5;124mlofts\u001b[39m\u001b[38;5;124m'\u001b[39m]\u001b[38;5;241m==\u001b[39m\u001b[38;5;241m1\u001b[39m]),\n\u001b[1;32m      7\u001b[0m }\n\u001b[1;32m      9\u001b[0m plt\u001b[38;5;241m.\u001b[39mbar(types\u001b[38;5;241m.\u001b[39mkeys(), types\u001b[38;5;241m.\u001b[39mvalues())\n\u001b[1;32m     10\u001b[0m plt\u001b[38;5;241m.\u001b[39mtitle(\u001b[38;5;124m\"\u001b[39m\u001b[38;5;124mFlat type\u001b[39m\u001b[38;5;124m\"\u001b[39m)\n",
      "File \u001b[0;32m~/anaconda3/lib/python3.11/site-packages/pandas/core/frame.py:3807\u001b[0m, in \u001b[0;36mDataFrame.__getitem__\u001b[0;34m(self, key)\u001b[0m\n\u001b[1;32m   3805\u001b[0m \u001b[38;5;28;01mif\u001b[39;00m \u001b[38;5;28mself\u001b[39m\u001b[38;5;241m.\u001b[39mcolumns\u001b[38;5;241m.\u001b[39mnlevels \u001b[38;5;241m>\u001b[39m \u001b[38;5;241m1\u001b[39m:\n\u001b[1;32m   3806\u001b[0m     \u001b[38;5;28;01mreturn\u001b[39;00m \u001b[38;5;28mself\u001b[39m\u001b[38;5;241m.\u001b[39m_getitem_multilevel(key)\n\u001b[0;32m-> 3807\u001b[0m indexer \u001b[38;5;241m=\u001b[39m \u001b[38;5;28mself\u001b[39m\u001b[38;5;241m.\u001b[39mcolumns\u001b[38;5;241m.\u001b[39mget_loc(key)\n\u001b[1;32m   3808\u001b[0m \u001b[38;5;28;01mif\u001b[39;00m is_integer(indexer):\n\u001b[1;32m   3809\u001b[0m     indexer \u001b[38;5;241m=\u001b[39m [indexer]\n",
      "File \u001b[0;32m~/anaconda3/lib/python3.11/site-packages/pandas/core/indexes/base.py:3804\u001b[0m, in \u001b[0;36mIndex.get_loc\u001b[0;34m(self, key, method, tolerance)\u001b[0m\n\u001b[1;32m   3802\u001b[0m     \u001b[38;5;28;01mreturn\u001b[39;00m \u001b[38;5;28mself\u001b[39m\u001b[38;5;241m.\u001b[39m_engine\u001b[38;5;241m.\u001b[39mget_loc(casted_key)\n\u001b[1;32m   3803\u001b[0m \u001b[38;5;28;01mexcept\u001b[39;00m \u001b[38;5;167;01mKeyError\u001b[39;00m \u001b[38;5;28;01mas\u001b[39;00m err:\n\u001b[0;32m-> 3804\u001b[0m     \u001b[38;5;28;01mraise\u001b[39;00m \u001b[38;5;167;01mKeyError\u001b[39;00m(key) \u001b[38;5;28;01mfrom\u001b[39;00m \u001b[38;5;21;01merr\u001b[39;00m\n\u001b[1;32m   3805\u001b[0m \u001b[38;5;28;01mexcept\u001b[39;00m \u001b[38;5;167;01mTypeError\u001b[39;00m:\n\u001b[1;32m   3806\u001b[0m     \u001b[38;5;66;03m# If we have a listlike key, _check_indexing_error will raise\u001b[39;00m\n\u001b[1;32m   3807\u001b[0m     \u001b[38;5;66;03m#  InvalidIndexError. Otherwise we fall through and re-raise\u001b[39;00m\n\u001b[1;32m   3808\u001b[0m     \u001b[38;5;66;03m#  the TypeError.\u001b[39;00m\n\u001b[1;32m   3809\u001b[0m     \u001b[38;5;28mself\u001b[39m\u001b[38;5;241m.\u001b[39m_check_indexing_error(key)\n",
      "\u001b[0;31mKeyError\u001b[0m: 'lofts'"
     ]
    }
   ],
   "source": [
    "# type of building \n",
    "types = {\n",
    "    \"Apartaments\": len(df.loc[df['apartment']==1]), \n",
    "    \"Villa\": len(df.loc[df['villa']==1]),\n",
    "    \"Attic\": len(df.loc[df['attic']==1]) + len(df.loc[df['mansard']==1]),\n",
    "    \"Loft\": len(df.loc[df['lofts']==1]),\n",
    "}\n",
    "\n",
    "plt.bar(types.keys(), types.values())\n",
    "plt.title(\"Flat type\")"
   ]
  },
  {
   "cell_type": "markdown",
   "id": "53d5cf1d",
   "metadata": {
    "papermill": {
     "duration": 0.01536,
     "end_time": "2023-06-07T08:29:03.192844",
     "exception": false,
     "start_time": "2023-06-07T08:29:03.177484",
     "status": "completed"
    },
    "tags": []
   },
   "source": [
    "# GEOGRAPHICAL ANALYSIS"
   ]
  },
  {
   "cell_type": "code",
   "execution_count": null,
   "id": "2c71f6bd",
   "metadata": {
    "execution": {
     "iopub.execute_input": "2023-06-07T08:29:03.226032Z",
     "iopub.status.busy": "2023-06-07T08:29:03.225599Z",
     "iopub.status.idle": "2023-06-07T08:29:03.997751Z",
     "shell.execute_reply": "2023-06-07T08:29:03.996482Z"
    },
    "papermill": {
     "duration": 0.791872,
     "end_time": "2023-06-07T08:29:04.000375",
     "exception": false,
     "start_time": "2023-06-07T08:29:03.208503",
     "status": "completed"
    },
    "tags": []
   },
   "outputs": [],
   "source": [
    "## price by region  \n",
    "price_by_regione = df['price'].groupby(df[\"region\"]).mean().sort_values(ascending=True)\n",
    "fig1, ax = plt.subplots()\n",
    "ax.barh(price_by_regione.index, price_by_regione, )\n",
    "ax.set_title(f\"ITALIAN RENTS:\\n Price by Region\")\n",
    "ax.set_xlabel(\"Euros\")\n",
    "ax.set_ylabel(\"Region\")    "
   ]
  },
  {
   "cell_type": "code",
   "execution_count": null,
   "id": "3222afbc",
   "metadata": {
    "execution": {
     "iopub.execute_input": "2023-06-07T08:29:04.037867Z",
     "iopub.status.busy": "2023-06-07T08:29:04.036635Z",
     "iopub.status.idle": "2023-06-07T08:29:04.044376Z",
     "shell.execute_reply": "2023-06-07T08:29:04.043135Z"
    },
    "papermill": {
     "duration": 0.02917,
     "end_time": "2023-06-07T08:29:04.047140",
     "exception": false,
     "start_time": "2023-06-07T08:29:04.017970",
     "status": "completed"
    },
    "tags": []
   },
   "outputs": [],
   "source": [
    "# get centroids coordinates from geojsons\n",
    "def get_area_centroids(geo_file):\n",
    "    coords = gpd.read_file(geo_file)\n",
    "    centroids = [c for c in coords['geometry'].centroid]\n",
    "    lon = [l.coords[0][0] for l in centroids]\n",
    "    lat = [l.coords[0][1] for l in centroids]\n",
    "    coords['lat'], coords['lon'] = lat, lon\n",
    "    return coords"
   ]
  },
  {
   "cell_type": "code",
   "execution_count": null,
   "id": "3cef8b71",
   "metadata": {
    "execution": {
     "iopub.execute_input": "2023-06-07T08:29:04.083898Z",
     "iopub.status.busy": "2023-06-07T08:29:04.083510Z",
     "iopub.status.idle": "2023-06-07T08:29:12.120667Z",
     "shell.execute_reply": "2023-06-07T08:29:12.118999Z"
    },
    "papermill": {
     "duration": 8.059152,
     "end_time": "2023-06-07T08:29:12.123716",
     "exception": false,
     "start_time": "2023-06-07T08:29:04.064564",
     "status": "completed"
    },
    "tags": []
   },
   "outputs": [],
   "source": [
    "region_json = \"/kaggle/input/italy-house-prices/limits_IT_regions.geojson\"\n",
    "prov_json = \"/kaggle/input/italy-house-prices/limits_IT_provinces.geojson\"\n",
    "municipalities_json = \"/kaggle/input/italy-house-prices/limits_IT_municipalities.geojson\"\n",
    "\n",
    "region_coords = get_area_centroids(region_json)\n",
    "provinces_coords = get_area_centroids(prov_json)\n",
    "municipalities_coords = get_area_centroids(municipalities_json)"
   ]
  },
  {
   "cell_type": "code",
   "execution_count": null,
   "id": "f898eba8",
   "metadata": {
    "execution": {
     "iopub.execute_input": "2023-06-07T08:29:12.161815Z",
     "iopub.status.busy": "2023-06-07T08:29:12.161329Z",
     "iopub.status.idle": "2023-06-07T08:29:14.421424Z",
     "shell.execute_reply": "2023-06-07T08:29:14.420407Z"
    },
    "papermill": {
     "duration": 2.283929,
     "end_time": "2023-06-07T08:29:14.424320",
     "exception": false,
     "start_time": "2023-06-07T08:29:12.140391",
     "status": "completed"
    },
    "tags": []
   },
   "outputs": [],
   "source": [
    "# group by municipality\n",
    "prices_by_province = df.merge(provinces_coords, left_on='city', right_on='prov_name', how='left')\n",
    "prices_by_province = prices_by_province.groupby([\"city\", \"lat\", \"lon\"]).agg({'price': 'mean'}).reset_index().sort_values(by=['price'], ascending=True)\n",
    "prices_by_province = prices_by_province[['city', 'lat', 'lon', 'price']]\n",
    "prices_by_province = prices_by_province.dropna(subset=['lat', 'lon'])\n",
    "\n",
    "# plot\n",
    "fig = px.scatter_mapbox(\n",
    "    prices_by_province, lat=\"lat\", lon=\"lon\",\n",
    "    hover_name=\"city\",\n",
    "    hover_data=[\"price\"],\n",
    "    color=\"price\",\n",
    "    color_continuous_scale=\"turbo\",\n",
    "    range_color=(0, 2000),\n",
    "    size=\"price\",\n",
    "    zoom=5,\n",
    "    center=dict(lat=41.8719, lon=12.5674),\n",
    "    opacity=0.5,\n",
    "    labels={'price': 'Price in €'},\n",
    "    height=700, width=700\n",
    "                        )\n",
    "fig.update_layout(mapbox_style=\"open-street-map\")\n",
    "fig.update_layout(margin={\"r\":5,\"t\":0,\"l\":0,\"b\":0})\n",
    "fig.show()"
   ]
  },
  {
   "cell_type": "code",
   "execution_count": null,
   "id": "ad3befb6",
   "metadata": {
    "execution": {
     "iopub.execute_input": "2023-06-07T08:29:14.463259Z",
     "iopub.status.busy": "2023-06-07T08:29:14.462552Z",
     "iopub.status.idle": "2023-06-07T08:29:14.739861Z",
     "shell.execute_reply": "2023-06-07T08:29:14.738578Z"
    },
    "papermill": {
     "duration": 0.304961,
     "end_time": "2023-06-07T08:29:14.747062",
     "exception": false,
     "start_time": "2023-06-07T08:29:14.442101",
     "status": "completed"
    },
    "tags": []
   },
   "outputs": [],
   "source": [
    "# group by municipality\n",
    "prices_by_municipalities = df.merge(municipalities_coords, left_on='city', right_on='name', how='left')\n",
    "prices_by_municipalities = prices_by_municipalities.groupby([\"city\", \"lat\", \"lon\"]).agg({'price': 'mean'}).reset_index().sort_values(by=['price'], ascending=True)\n",
    "prices_by_municipalities = prices_by_municipalities[['city', 'lat', 'lon', 'price']]\n",
    "prices_by_municipalities = prices_by_municipalities.dropna(subset=['lat', 'lon'])\n",
    "\n",
    "# plot\n",
    "fig = px.scatter_mapbox(\n",
    "    prices_by_municipalities, lat=\"lat\", lon=\"lon\",\n",
    "    hover_name=\"city\",\n",
    "    hover_data=[\"price\"],\n",
    "    color=\"price\",\n",
    "    color_continuous_scale=\"turbo\",\n",
    "    range_color=(0, 2000),\n",
    "    size=\"price\",\n",
    "    zoom=5,\n",
    "    center=dict(lat=41.8719, lon=12.5674),\n",
    "    opacity=0.5,\n",
    "    labels={'price': 'Price in €'},\n",
    "    height=700, width=700\n",
    "                        )\n",
    "fig.update_layout(mapbox_style=\"open-street-map\")\n",
    "fig.update_layout(margin={\"r\":5,\"t\":0,\"l\":0,\"b\":0})\n",
    "fig.show()"
   ]
  },
  {
   "cell_type": "markdown",
   "id": "1c2df34b",
   "metadata": {
    "papermill": {
     "duration": 0.020359,
     "end_time": "2023-06-07T08:29:14.788335",
     "exception": false,
     "start_time": "2023-06-07T08:29:14.767976",
     "status": "completed"
    },
    "tags": []
   },
   "source": [
    "# TIME SERIES"
   ]
  },
  {
   "cell_type": "code",
   "execution_count": null,
   "id": "302fb853",
   "metadata": {
    "execution": {
     "iopub.execute_input": "2023-06-07T08:29:14.831693Z",
     "iopub.status.busy": "2023-06-07T08:29:14.831286Z",
     "iopub.status.idle": "2023-06-07T08:29:15.224980Z",
     "shell.execute_reply": "2023-06-07T08:29:15.223495Z"
    },
    "papermill": {
     "duration": 0.418647,
     "end_time": "2023-06-07T08:29:15.227708",
     "exception": false,
     "start_time": "2023-06-07T08:29:14.809061",
     "status": "completed"
    },
    "tags": []
   },
   "outputs": [],
   "source": [
    "# MEAN PRICE IN ITALY\n",
    "mean_price_italy = df.groupby([\"week\"])['price'].mean().reset_index()\n",
    "sns.lineplot(data=mean_price_italy, x=\"week\", y=\"price\")"
   ]
  },
  {
   "cell_type": "code",
   "execution_count": null,
   "id": "b1eb536c",
   "metadata": {
    "execution": {
     "iopub.execute_input": "2023-06-07T08:29:15.276020Z",
     "iopub.status.busy": "2023-06-07T08:29:15.275200Z",
     "iopub.status.idle": "2023-06-07T08:29:15.761860Z",
     "shell.execute_reply": "2023-06-07T08:29:15.760220Z"
    },
    "papermill": {
     "duration": 0.514548,
     "end_time": "2023-06-07T08:29:15.765195",
     "exception": false,
     "start_time": "2023-06-07T08:29:15.250647",
     "status": "completed"
    },
    "tags": []
   },
   "outputs": [],
   "source": [
    "REGIONS = ['liguria', 'lombardia', 'piemonte']\n",
    "df_regions = df.loc[df['region'].isin(REGIONS)]\n",
    "mean_price_region = df_regions.groupby([\"week\", \"region\"])['price'].mean().reset_index()\n",
    "sns.lineplot(data=mean_price_region, x=\"week\", y=\"price\", hue=\"region\")"
   ]
  },
  {
   "cell_type": "markdown",
   "id": "ea1e3417",
   "metadata": {
    "papermill": {
     "duration": 0.022746,
     "end_time": "2023-06-07T08:29:15.810888",
     "exception": false,
     "start_time": "2023-06-07T08:29:15.788142",
     "status": "completed"
    },
    "tags": []
   },
   "source": [
    "# LINEAER REGRESSION"
   ]
  },
  {
   "cell_type": "code",
   "execution_count": null,
   "id": "d3b8d6b8",
   "metadata": {
    "execution": {
     "iopub.execute_input": "2023-06-07T08:29:15.860128Z",
     "iopub.status.busy": "2023-06-07T08:29:15.859615Z",
     "iopub.status.idle": "2023-06-07T08:29:18.180759Z",
     "shell.execute_reply": "2023-06-07T08:29:18.179252Z"
    },
    "papermill": {
     "duration": 2.348782,
     "end_time": "2023-06-07T08:29:18.184333",
     "exception": false,
     "start_time": "2023-06-07T08:29:15.835551",
     "status": "completed"
    },
    "tags": []
   },
   "outputs": [],
   "source": [
    "import statsmodels.api as sm"
   ]
  },
  {
   "cell_type": "code",
   "execution_count": null,
   "id": "2616bcfd",
   "metadata": {
    "execution": {
     "iopub.execute_input": "2023-06-07T08:29:18.234119Z",
     "iopub.status.busy": "2023-06-07T08:29:18.232739Z",
     "iopub.status.idle": "2023-06-07T08:29:18.752825Z",
     "shell.execute_reply": "2023-06-07T08:29:18.751292Z"
    },
    "papermill": {
     "duration": 0.549031,
     "end_time": "2023-06-07T08:29:18.756276",
     "exception": false,
     "start_time": "2023-06-07T08:29:18.207245",
     "status": "completed"
    },
    "tags": []
   },
   "outputs": [],
   "source": [
    "plt.scatter(df['price'], df['surface'])"
   ]
  },
  {
   "cell_type": "code",
   "execution_count": null,
   "id": "adfafbb9",
   "metadata": {
    "execution": {
     "iopub.execute_input": "2023-06-07T08:29:18.809009Z",
     "iopub.status.busy": "2023-06-07T08:29:18.808521Z",
     "iopub.status.idle": "2023-06-07T08:29:19.302904Z",
     "shell.execute_reply": "2023-06-07T08:29:19.301222Z"
    },
    "papermill": {
     "duration": 0.525327,
     "end_time": "2023-06-07T08:29:19.307213",
     "exception": false,
     "start_time": "2023-06-07T08:29:18.781886",
     "status": "completed"
    },
    "tags": []
   },
   "outputs": [],
   "source": [
    "plt.scatter(df['price'], df['bathrooms_per_room'])"
   ]
  },
  {
   "cell_type": "code",
   "execution_count": null,
   "id": "fd345815",
   "metadata": {
    "execution": {
     "iopub.execute_input": "2023-06-07T08:29:19.362975Z",
     "iopub.status.busy": "2023-06-07T08:29:19.362501Z",
     "iopub.status.idle": "2023-06-07T08:29:19.387995Z",
     "shell.execute_reply": "2023-06-07T08:29:19.386348Z"
    },
    "papermill": {
     "duration": 0.055733,
     "end_time": "2023-06-07T08:29:19.390996",
     "exception": false,
     "start_time": "2023-06-07T08:29:19.335263",
     "status": "completed"
    },
    "tags": []
   },
   "outputs": [],
   "source": [
    "## define functions\n",
    "def LinearRegression(y, x):\n",
    "    x = sm.add_constant(x)\n",
    "    ols = sm.OLS(y, x).fit()\n",
    "    ols_table = ols.summary()\n",
    "    return ols_table\n",
    "\n",
    "def TableResults(ols_table, labels):\n",
    "    \"\"\"Create a table with the results of the OLS regression\n",
    "    ols_table: the output of the LinearRegression function\n",
    "    labels: the labels of the variables\n",
    "    \"\"\"\n",
    "    ## format the ols table\n",
    "    table = pd.DataFrame(ols_table.tables[1])\n",
    "    list_col = ['ind_var', 'coef', 'std_err', 't_val', 'p_val', 'low_ci', 'high_ci']\n",
    "    for num in range(0,len(table.columns)):\n",
    "        table.rename(columns={table.columns[num]: f\"{list_col[num]}\" }, inplace = True)\n",
    "    table = table.iloc[2:,:]\n",
    "    #ols = sm.OLS(y, x).fit()\n",
    "    #table['obs'] = ols.nobs\n",
    "    table.rename(columns={\"P>|t|\": \"p_val\", \"[0.025\": \"low_ci\", \"0.975]\": \"high_ci\"}, inplace=True)\n",
    "    table = table.set_index(table.columns[0])\n",
    "    table = round(table, 3)\n",
    "    table_results = table.applymap(str).applymap(float)\n",
    "    table_results.index = labels\n",
    "    return table_results\n",
    "\n",
    "import matplotlib.pyplot as plt\n",
    "\n",
    "def Plot_ols_coefficients_and_CI(table):\n",
    "    \"\"\"Plot the OLS results with the 95% confidence intervals\"\"\"\n",
    "    ## prepare the data\n",
    "    n_coeff = len(table.index)\n",
    "    print(table.index)\n",
    "    table = table.iloc[0:n_coeff, :]\n",
    "    lower = table['low_ci']\n",
    "    upper = table['high_ci']\n",
    "    table['variables'] = table.index.values\n",
    "    n = len(table)\n",
    "    l = range(0, n)\n",
    "    labels = [0] * n\n",
    "    names = table['variables']\n",
    "\n",
    "    ##plot\n",
    "    fig, ax = plt.subplots(figsize=(10, 10))\n",
    "    plt.plot((lower,upper), (l, l), 'ro-', color='blue', linewidth=2, markersize=2)\n",
    "    plt.scatter(x=table.coef, y=range(0,len(table)))\n",
    "    ax.tick_params(axis='both', which='both')\n",
    "    plt.yticks(range(0, n), names)\n",
    "    plt.plot(labels, l, '--', color='red', linewidth=2, markersize=2)\n",
    "    ax.set_ylabel('Coefficients', fontsize=10)\n",
    "    plt.scatter(lower-.002, l, marker='|', color='blue')\n",
    "    plt.scatter(upper+.002, l, marker='|', color='blue')\n",
    "    ax.set_facecolor('white')\n",
    "    plt.title('PRICE PREDICTORS \\nOLS coefficients - 95% Confidence Intervals', fontsize=15)\n",
    "\n",
    "def plot_coefficient_bars(table_results):\n",
    "    bars = table_results['coef']\n",
    "    bars = pd.DataFrame(bars)\n",
    "    bars['value'] = np.where(bars['coef']>0, 1, 0)\n",
    "    bars['coef'] = abs(bars['coef'])\n",
    "    bars = bars.sort_values(by=\"coef\")\n",
    "    bars['colors'] = np.where(bars['value']==0, \"green\", \"red\")\n",
    "\n",
    "    fig = plt.figure(figsize = (10, 10))\n",
    "    plt.barh(bars.index, bars['coef'], color=bars['colors'])\n",
    "    plt.xlabel(\"Value\")\n",
    "    # y-axis label\n",
    "    plt.ylabel(\"Coefficients\")\n",
    "    # Title of the figure\n",
    "    plt.title(\"Ols coefficients: Predictors of Price\")\n",
    "    plt.legend(['Negative predictors', 'Positive predicgors'], loc='lower right')\n",
    "    plt.show()\n",
    "    plt.savefig(\"bar_plots.jpeg\", bbox_inches='tight')\n"
   ]
  },
  {
   "cell_type": "code",
   "execution_count": null,
   "id": "0cefb195",
   "metadata": {
    "execution": {
     "iopub.execute_input": "2023-06-07T08:29:19.442951Z",
     "iopub.status.busy": "2023-06-07T08:29:19.442474Z",
     "iopub.status.idle": "2023-06-07T08:29:19.481645Z",
     "shell.execute_reply": "2023-06-07T08:29:19.479968Z"
    },
    "papermill": {
     "duration": 0.068404,
     "end_time": "2023-06-07T08:29:19.484651",
     "exception": false,
     "start_time": "2023-06-07T08:29:19.416247",
     "status": "completed"
    },
    "tags": []
   },
   "outputs": [],
   "source": [
    "df['energy_rating'].value_counts()\n",
    "df = df.loc[df['energy_rating']!=\",\"]"
   ]
  },
  {
   "cell_type": "code",
   "execution_count": null,
   "id": "5b8b058d",
   "metadata": {
    "execution": {
     "iopub.execute_input": "2023-06-07T08:29:19.537073Z",
     "iopub.status.busy": "2023-06-07T08:29:19.536524Z",
     "iopub.status.idle": "2023-06-07T08:29:19.549661Z",
     "shell.execute_reply": "2023-06-07T08:29:19.548279Z"
    },
    "papermill": {
     "duration": 0.04287,
     "end_time": "2023-06-07T08:29:19.552264",
     "exception": false,
     "start_time": "2023-06-07T08:29:19.509394",
     "status": "completed"
    },
    "tags": []
   },
   "outputs": [],
   "source": [
    "columns = ['price', 'month', 'parking_spaces', 'bathrooms_per_room', 'bathrooms', 'rooms', \n",
    "          'top_floor', 'state', 'energy_rating', 'sea_view', 'centralized_warming', 'surface', 'furnished', \n",
    "          'balcony', 'cellar', 'common_garden', 'private_garden', 'pool', 'furnished', 'apartment']\n",
    "\n",
    "df = df[columns]"
   ]
  },
  {
   "cell_type": "code",
   "execution_count": null,
   "id": "4f75f1f6",
   "metadata": {
    "execution": {
     "iopub.execute_input": "2023-06-07T08:29:19.606700Z",
     "iopub.status.busy": "2023-06-07T08:29:19.606230Z",
     "iopub.status.idle": "2023-06-07T08:29:19.615591Z",
     "shell.execute_reply": "2023-06-07T08:29:19.614111Z"
    },
    "papermill": {
     "duration": 0.040482,
     "end_time": "2023-06-07T08:29:19.618015",
     "exception": false,
     "start_time": "2023-06-07T08:29:19.577533",
     "status": "completed"
    },
    "tags": []
   },
   "outputs": [],
   "source": [
    "df.columns"
   ]
  },
  {
   "cell_type": "code",
   "execution_count": null,
   "id": "05cd0162",
   "metadata": {
    "execution": {
     "iopub.execute_input": "2023-06-07T08:29:19.670292Z",
     "iopub.status.busy": "2023-06-07T08:29:19.669859Z",
     "iopub.status.idle": "2023-06-07T08:29:19.742765Z",
     "shell.execute_reply": "2023-06-07T08:29:19.741458Z"
    },
    "papermill": {
     "duration": 0.102802,
     "end_time": "2023-06-07T08:29:19.745708",
     "exception": false,
     "start_time": "2023-06-07T08:29:19.642906",
     "status": "completed"
    },
    "tags": []
   },
   "outputs": [],
   "source": [
    "col_dummies = ['region', 'month', 'energy_rating']\n",
    "\n",
    "#df = pd.get_dummies(df, columns=['region'])\n",
    "df = pd.get_dummies(df, columns=['month'])\n",
    "df = pd.get_dummies(df, columns=['energy_rating'])\n",
    "df = pd.get_dummies(df, columns=['state'])"
   ]
  },
  {
   "cell_type": "code",
   "execution_count": null,
   "id": "4fcd7b81",
   "metadata": {
    "execution": {
     "iopub.execute_input": "2023-06-07T08:29:19.798743Z",
     "iopub.status.busy": "2023-06-07T08:29:19.798218Z",
     "iopub.status.idle": "2023-06-07T08:29:19.831392Z",
     "shell.execute_reply": "2023-06-07T08:29:19.830429Z"
    },
    "papermill": {
     "duration": 0.063161,
     "end_time": "2023-06-07T08:29:19.834320",
     "exception": false,
     "start_time": "2023-06-07T08:29:19.771159",
     "status": "completed"
    },
    "tags": []
   },
   "outputs": [],
   "source": [
    "df = df.dropna()\n",
    "y = np.array(df['price'])\n",
    "X = df.drop(['price'], axis = 1)\n",
    "col_names = X.columns\n",
    "X = np.array(X)"
   ]
  },
  {
   "cell_type": "code",
   "execution_count": null,
   "id": "98edbef9",
   "metadata": {
    "execution": {
     "iopub.execute_input": "2023-06-07T08:29:19.886614Z",
     "iopub.status.busy": "2023-06-07T08:29:19.886175Z",
     "iopub.status.idle": "2023-06-07T08:29:20.139121Z",
     "shell.execute_reply": "2023-06-07T08:29:20.137399Z"
    },
    "papermill": {
     "duration": 0.285258,
     "end_time": "2023-06-07T08:29:20.144375",
     "exception": false,
     "start_time": "2023-06-07T08:29:19.859117",
     "status": "completed"
    },
    "tags": []
   },
   "outputs": [],
   "source": [
    "## apply ols regression\n",
    "X = sm.add_constant(X)\n",
    "ols = sm.OLS(y, X).fit()\n",
    "ols_table = ols.summary()\n",
    "ols_table"
   ]
  },
  {
   "cell_type": "code",
   "execution_count": null,
   "id": "1212e773",
   "metadata": {
    "execution": {
     "iopub.execute_input": "2023-06-07T08:29:20.219944Z",
     "iopub.status.busy": "2023-06-07T08:29:20.219535Z",
     "iopub.status.idle": "2023-06-07T08:29:20.495911Z",
     "shell.execute_reply": "2023-06-07T08:29:20.494687Z"
    },
    "papermill": {
     "duration": 0.313037,
     "end_time": "2023-06-07T08:29:20.499560",
     "exception": false,
     "start_time": "2023-06-07T08:29:20.186523",
     "status": "completed"
    },
    "tags": []
   },
   "outputs": [],
   "source": [
    "ols_table = LinearRegression(y, X)\n",
    "table_results = TableResults(ols_table, col_names)\n",
    "table_results"
   ]
  },
  {
   "cell_type": "code",
   "execution_count": null,
   "id": "8051e49a",
   "metadata": {
    "execution": {
     "iopub.execute_input": "2023-06-07T08:29:20.576160Z",
     "iopub.status.busy": "2023-06-07T08:29:20.575633Z",
     "iopub.status.idle": "2023-06-07T08:29:21.288010Z",
     "shell.execute_reply": "2023-06-07T08:29:21.286640Z"
    },
    "papermill": {
     "duration": 0.744808,
     "end_time": "2023-06-07T08:29:21.291111",
     "exception": false,
     "start_time": "2023-06-07T08:29:20.546303",
     "status": "completed"
    },
    "tags": []
   },
   "outputs": [],
   "source": [
    "Plot_ols_coefficients_and_CI(table_results)"
   ]
  },
  {
   "cell_type": "code",
   "execution_count": null,
   "id": "4eca7683",
   "metadata": {
    "execution": {
     "iopub.execute_input": "2023-06-07T08:29:21.351739Z",
     "iopub.status.busy": "2023-06-07T08:29:21.351242Z",
     "iopub.status.idle": "2023-06-07T08:29:22.035149Z",
     "shell.execute_reply": "2023-06-07T08:29:22.034163Z"
    },
    "papermill": {
     "duration": 0.717122,
     "end_time": "2023-06-07T08:29:22.037479",
     "exception": false,
     "start_time": "2023-06-07T08:29:21.320357",
     "status": "completed"
    },
    "tags": []
   },
   "outputs": [],
   "source": [
    "plot_coefficient_bars(table_results)"
   ]
  },
  {
   "cell_type": "code",
   "execution_count": null,
   "id": "1828f7b8",
   "metadata": {
    "papermill": {
     "duration": 0.031788,
     "end_time": "2023-06-07T08:29:22.099617",
     "exception": false,
     "start_time": "2023-06-07T08:29:22.067829",
     "status": "completed"
    },
    "tags": []
   },
   "outputs": [],
   "source": []
  }
 ],
 "metadata": {
  "kernelspec": {
   "display_name": "Python 3 (ipykernel)",
   "language": "python",
   "name": "python3"
  },
  "language_info": {
   "codemirror_mode": {
    "name": "ipython",
    "version": 3
   },
   "file_extension": ".py",
   "mimetype": "text/x-python",
   "name": "python",
   "nbconvert_exporter": "python",
   "pygments_lexer": "ipython3",
   "version": "3.11.5"
  },
  "papermill": {
   "default_parameters": {},
   "duration": 81.040394,
   "end_time": "2023-06-07T08:29:24.169017",
   "environment_variables": {},
   "exception": null,
   "input_path": "__notebook__.ipynb",
   "output_path": "__notebook__.ipynb",
   "parameters": {},
   "start_time": "2023-06-07T08:28:03.128623",
   "version": "2.4.0"
  }
 },
 "nbformat": 4,
 "nbformat_minor": 5
}
