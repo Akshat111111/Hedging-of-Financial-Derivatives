{
 "cells": [
  {
   "cell_type": "code",
   "execution_count": 1,
   "id": "130bda69",
   "metadata": {
    "_kg_hide-output": true,
    "execution": {
     "iopub.execute_input": "2024-03-03T17:10:50.752649Z",
     "iopub.status.busy": "2024-03-03T17:10:50.752280Z",
     "iopub.status.idle": "2024-03-03T17:11:06.640846Z",
     "shell.execute_reply": "2024-03-03T17:11:06.639203Z"
    },
    "papermill": {
     "duration": 15.909584,
     "end_time": "2024-03-03T17:11:06.644146",
     "exception": false,
     "start_time": "2024-03-03T17:10:50.734562",
     "status": "completed"
    },
    "tags": []
   },
   "outputs": [],
   "source": [
    "import pandas as pd\n",
    "import numpy as np \n",
    "import matplotlib.pyplot as plt\n",
    "import seaborn as sb\n",
    "import tensorflow as tf\n",
    "from sklearn.preprocessing import OrdinalEncoder\n",
    "from sklearn.cluster import KMeans\n",
    "from sklearn.model_selection import train_test_split\n",
    "from sklearn.preprocessing import scale,StandardScaler\n",
    "from sklearn.compose import ColumnTransformer\n",
    "import warnings\n",
    "warnings.filterwarnings('ignore')\n",
    "from sklearn.linear_model import LinearRegression\n",
    "from sklearn.svm import SVR\n",
    "import xgboost as xgb\n",
    "from sklearn.neighbors import KNeighborsRegressor\n",
    "from sklearn.tree import DecisionTreeRegressor\n",
    "from sklearn.ensemble import BaggingRegressor,RandomForestRegressor,AdaBoostRegressor"
   ]
  },
  {
   "cell_type": "code",
   "execution_count": 2,
   "id": "c7d0c6f8",
   "metadata": {
    "execution": {
     "iopub.execute_input": "2024-03-03T17:11:06.726658Z",
     "iopub.status.busy": "2024-03-03T17:11:06.725311Z",
     "iopub.status.idle": "2024-03-03T17:11:07.807525Z",
     "shell.execute_reply": "2024-03-03T17:11:07.806196Z"
    },
    "papermill": {
     "duration": 1.106748,
     "end_time": "2024-03-03T17:11:07.810203",
     "exception": false,
     "start_time": "2024-03-03T17:11:06.703455",
     "status": "completed"
    },
    "tags": []
   },
   "outputs": [],
   "source": [
    "data=pd.read_csv('RealEstate_California.csv')"
   ]
  },
  {
   "cell_type": "code",
   "execution_count": 3,
   "id": "d3691224",
   "metadata": {
    "_kg_hide-output": true,
    "execution": {
     "iopub.execute_input": "2024-03-03T17:11:07.872634Z",
     "iopub.status.busy": "2024-03-03T17:11:07.872271Z",
     "iopub.status.idle": "2024-03-03T17:11:07.930780Z",
     "shell.execute_reply": "2024-03-03T17:11:07.929866Z"
    },
    "papermill": {
     "duration": 0.076905,
     "end_time": "2024-03-03T17:11:07.932957",
     "exception": false,
     "start_time": "2024-03-03T17:11:07.856052",
     "status": "completed"
    },
    "tags": []
   },
   "outputs": [
    {
     "name": "stdout",
     "output_type": "stream",
     "text": [
      "<class 'pandas.core.frame.DataFrame'>\n",
      "RangeIndex: 35389 entries, 0 to 35388\n",
      "Data columns (total 39 columns):\n",
      " #   Column              Non-Null Count  Dtype  \n",
      "---  ------              --------------  -----  \n",
      " 0   Unnamed: 0          35389 non-null  int64  \n",
      " 1   id                  35389 non-null  object \n",
      " 2   stateId             35389 non-null  int64  \n",
      " 3   countyId            35389 non-null  int64  \n",
      " 4   cityId              35389 non-null  int64  \n",
      " 5   country             35389 non-null  object \n",
      " 6   datePostedString    35386 non-null  object \n",
      " 7   is_bankOwned        35389 non-null  int64  \n",
      " 8   is_forAuction       35389 non-null  int64  \n",
      " 9   event               35389 non-null  object \n",
      " 10  time                35100 non-null  float64\n",
      " 11  price               35389 non-null  float64\n",
      " 12  pricePerSquareFoot  35389 non-null  float64\n",
      " 13  city                35389 non-null  object \n",
      " 14  state               35389 non-null  object \n",
      " 15  yearBuilt           35389 non-null  int64  \n",
      " 16  streetAddress       35389 non-null  object \n",
      " 17  zipcode             35364 non-null  float64\n",
      " 18  longitude           35389 non-null  float64\n",
      " 19  latitude            35389 non-null  float64\n",
      " 20  hasBadGeocode       35389 non-null  int64  \n",
      " 21  description         35110 non-null  object \n",
      " 22  currency            35389 non-null  object \n",
      " 23  livingArea          35389 non-null  float64\n",
      " 24  livingAreaValue     35389 non-null  float64\n",
      " 25  lotAreaUnits        35389 non-null  object \n",
      " 26  bathrooms           35389 non-null  float64\n",
      " 27  bedrooms            35389 non-null  float64\n",
      " 28  buildingArea        35389 non-null  float64\n",
      " 29  parking             35389 non-null  int64  \n",
      " 30  garageSpaces        35389 non-null  float64\n",
      " 31  hasGarage           35389 non-null  int64  \n",
      " 32  levels              35389 non-null  object \n",
      " 33  pool                35389 non-null  int64  \n",
      " 34  spa                 35389 non-null  int64  \n",
      " 35  isNewConstruction   35389 non-null  int64  \n",
      " 36  hasPetsAllowed      35389 non-null  int64  \n",
      " 37  homeType            35389 non-null  object \n",
      " 38  county              35389 non-null  object \n",
      "dtypes: float64(12), int64(14), object(13)\n",
      "memory usage: 10.5+ MB\n"
     ]
    }
   ],
   "source": [
    "data.info()"
   ]
  },
  {
   "cell_type": "code",
   "execution_count": 4,
   "id": "b7de4442",
   "metadata": {
    "execution": {
     "iopub.execute_input": "2024-03-03T17:11:07.966107Z",
     "iopub.status.busy": "2024-03-03T17:11:07.965193Z",
     "iopub.status.idle": "2024-03-03T17:11:08.003640Z",
     "shell.execute_reply": "2024-03-03T17:11:08.002624Z"
    },
    "papermill": {
     "duration": 0.057189,
     "end_time": "2024-03-03T17:11:08.006097",
     "exception": false,
     "start_time": "2024-03-03T17:11:07.948908",
     "status": "completed"
    },
    "tags": []
   },
   "outputs": [],
   "source": [
    "data=data[['stateId',\t'countyId',\t'cityId',\t'datePostedString',\t'is_bankOwned'\t,'is_forAuction',\t'event',\t'time',\t'price',\t'pricePerSquareFoot',\t'yearBuilt',\t'zipcode'\t,'longitude',\t'latitude',\t'hasBadGeocode',\t'currency',\t'livingArea',\t'livingAreaValue',\t'lotAreaUnits'\t,'bathrooms',\t'bedrooms',\t'buildingArea',\t'parking',\t'garageSpaces',\t'hasGarage',\t'levels',\t'pool',\t'spa',\t'isNewConstruction',\t'hasPetsAllowed',\t'homeType']]\n",
    "data=data.groupby('event').get_group('Listed for sale')\n",
    "data=data.groupby('lotAreaUnits').get_group('sqft').drop(['lotAreaUnits'],axis=1)"
   ]
  },
  {
   "cell_type": "code",
   "execution_count": 5,
   "id": "bad3fe5d",
   "metadata": {
    "execution": {
     "iopub.execute_input": "2024-03-03T17:11:08.068492Z",
     "iopub.status.busy": "2024-03-03T17:11:08.068121Z",
     "iopub.status.idle": "2024-03-03T17:11:11.780852Z",
     "shell.execute_reply": "2024-03-03T17:11:11.779810Z"
    },
    "papermill": {
     "duration": 3.731584,
     "end_time": "2024-03-03T17:11:11.783160",
     "exception": false,
     "start_time": "2024-03-03T17:11:08.051576",
     "status": "completed"
    },
    "tags": []
   },
   "outputs": [
    {
     "data": {
      "text/plain": [
       "<Axes: xlabel='time', ylabel='price'>"
      ]
     },
     "execution_count": 5,
     "metadata": {},
     "output_type": "execute_result"
    },
    {
     "data": {
      "image/png": "[encoded data removed]",
      "text/plain": [
       "<Figure size 640x480 with 1 Axes>"
      ]
     },
     "metadata": {},
     "output_type": "display_data"
    }
   ],
   "source": [
    "sb.lineplot(data=data,x='time',y='price',color='g')"
   ]
  },
  {
   "cell_type": "code",
   "execution_count": 6,
   "id": "fabbe282",
   "metadata": {
    "execution": {
     "iopub.execute_input": "2024-03-03T17:11:11.850570Z",
     "iopub.status.busy": "2024-03-03T17:11:11.850153Z",
     "iopub.status.idle": "2024-03-03T17:11:11.862851Z",
     "shell.execute_reply": "2024-03-03T17:11:11.861943Z"
    },
    "papermill": {
     "duration": 0.032556,
     "end_time": "2024-03-03T17:11:11.865147",
     "exception": false,
     "start_time": "2024-03-03T17:11:11.832591",
     "status": "completed"
    },
    "tags": []
   },
   "outputs": [],
   "source": [
    "data['datePostedString']=pd.to_datetime(data['datePostedString'],format='%Y-%m-%d')"
   ]
  },
  {
   "cell_type": "code",
   "execution_count": 7,
   "id": "0637c4c1",
   "metadata": {
    "execution": {
     "iopub.execute_input": "2024-03-03T17:11:11.899318Z",
     "iopub.status.busy": "2024-03-03T17:11:11.898349Z",
     "iopub.status.idle": "2024-03-03T17:11:11.928218Z",
     "shell.execute_reply": "2024-03-03T17:11:11.927076Z"
    },
    "papermill": {
     "duration": 0.049478,
     "end_time": "2024-03-03T17:11:11.930603",
     "exception": false,
     "start_time": "2024-03-03T17:11:11.881125",
     "status": "completed"
    },
    "tags": []
   },
   "outputs": [
    {
     "data": {
      "text/plain": [
       "array([2021, 2020, 2019, 2016])"
      ]
     },
     "execution_count": 7,
     "metadata": {},
     "output_type": "execute_result"
    }
   ],
   "source": [
    "data['datePostedString'].apply(lambda x : x.year).unique()"
   ]
  },
  {
   "cell_type": "code",
   "execution_count": 8,
   "id": "8a235bdd",
   "metadata": {
    "execution": {
     "iopub.execute_input": "2024-03-03T17:11:11.965851Z",
     "iopub.status.busy": "2024-03-03T17:11:11.965436Z",
     "iopub.status.idle": "2024-03-03T17:11:12.014155Z",
     "shell.execute_reply": "2024-03-03T17:11:12.012901Z"
    },
    "papermill": {
     "duration": 0.069287,
     "end_time": "2024-03-03T17:11:12.016674",
     "exception": false,
     "start_time": "2024-03-03T17:11:11.947387",
     "status": "completed"
    },
    "tags": []
   },
   "outputs": [],
   "source": [
    "data['month']=data['datePostedString'].apply(lambda x : x.month)\n",
    "data['year']=data['datePostedString'].apply(lambda x : x.year)\n"
   ]
  },
  {
   "cell_type": "code",
   "execution_count": 9,
   "id": "c44cf78f",
   "metadata": {
    "execution": {
     "iopub.execute_input": "2024-03-03T17:11:12.052455Z",
     "iopub.status.busy": "2024-03-03T17:11:12.052049Z",
     "iopub.status.idle": "2024-03-03T17:11:12.059407Z",
     "shell.execute_reply": "2024-03-03T17:11:12.058533Z"
    },
    "papermill": {
     "duration": 0.027819,
     "end_time": "2024-03-03T17:11:12.061536",
     "exception": false,
     "start_time": "2024-03-03T17:11:12.033717",
     "status": "completed"
    },
    "tags": []
   },
   "outputs": [],
   "source": [
    "data.drop(['datePostedString','event'],axis=1,inplace=True)"
   ]
  },
  {
   "cell_type": "code",
   "execution_count": 10,
   "id": "438076fb",
   "metadata": {
    "execution": {
     "iopub.execute_input": "2024-03-03T17:11:12.129172Z",
     "iopub.status.busy": "2024-03-03T17:11:12.127951Z",
     "iopub.status.idle": "2024-03-03T17:11:12.136929Z",
     "shell.execute_reply": "2024-03-03T17:11:12.135898Z"
    },
    "papermill": {
     "duration": 0.028673,
     "end_time": "2024-03-03T17:11:12.139227",
     "exception": false,
     "start_time": "2024-03-03T17:11:12.110554",
     "status": "completed"
    },
    "tags": []
   },
   "outputs": [],
   "source": [
    "df1=data[['pricePerSquareFoot','livingArea','livingAreaValue','buildingArea']].replace({0:np.nan})\n",
    "for i in df1.columns:\n",
    "    data[i]=df1[i]"
   ]
  },
  {
   "cell_type": "code",
   "execution_count": 11,
   "id": "7e08db3b",
   "metadata": {
    "_kg_hide-output": true,
    "execution": {
     "iopub.execute_input": "2024-03-03T17:11:12.174106Z",
     "iopub.status.busy": "2024-03-03T17:11:12.173412Z",
     "iopub.status.idle": "2024-03-03T17:11:12.183128Z",
     "shell.execute_reply": "2024-03-03T17:11:12.182080Z"
    },
    "papermill": {
     "duration": 0.030013,
     "end_time": "2024-03-03T17:11:12.185364",
     "exception": false,
     "start_time": "2024-03-03T17:11:12.155351",
     "status": "completed"
    },
    "tags": []
   },
   "outputs": [
    {
     "data": {
      "text/plain": [
       "0                                      6511\n",
       "One                                    4561\n",
       "Two                                    3010\n",
       "One Story                               496\n",
       "Two Story                               407\n",
       "Three Or More                           336\n",
       "Multi/Split                             195\n",
       "One Story-One                            85\n",
       "Three or More Stories                    70\n",
       "Two Story-Two                            53\n",
       "One-Two                                  36\n",
       "Tri-Level                                29\n",
       "Three or More Stories-Three Or More      24\n",
       "Two-Multi/Split                          18\n",
       "2                                        14\n",
       "Four                                     12\n",
       "Two Story-One                             8\n",
       "Other                                     6\n",
       "Three                                     6\n",
       "Two Story-Three Or More                   5\n",
       "Two-Three Or More                         5\n",
       "Three Or More-Multi/Split                 5\n",
       "Three or More Stories-Two                 4\n",
       "Tri-Level-Three Or More                   4\n",
       "One-Multi/Split                           4\n",
       "Other-One                                 4\n",
       "One Story-Three Or More                   3\n",
       "Three or More Stories-One                 3\n",
       "Multi/Split-Two                           3\n",
       "One-Two-Multi/Split                       2\n",
       "Five or More                              2\n",
       "3                                         1\n",
       "Three or More Stories-One-Two             1\n",
       "One Story-Two                             1\n",
       "Tri-Level-Two                             1\n",
       "1                                         1\n",
       "One-Three Or More                         1\n",
       "Split Level                               1\n",
       "Multi/Split-Tri-Level                     1\n",
       "Multi/Split-Three Or More                 1\n",
       "Two-Three Or More-Multi/Split             1\n",
       "Name: levels, dtype: int64"
      ]
     },
     "execution_count": 11,
     "metadata": {},
     "output_type": "execute_result"
    }
   ],
   "source": [
    "data.levels.value_counts()"
   ]
  },
  {
   "cell_type": "code",
   "execution_count": 12,
   "id": "ee5d2e9e",
   "metadata": {
    "execution": {
     "iopub.execute_input": "2024-03-03T17:11:12.221071Z",
     "iopub.status.busy": "2024-03-03T17:11:12.220270Z",
     "iopub.status.idle": "2024-03-03T17:11:12.243835Z",
     "shell.execute_reply": "2024-03-03T17:11:12.242936Z"
    },
    "papermill": {
     "duration": 0.04371,
     "end_time": "2024-03-03T17:11:12.246120",
     "exception": false,
     "start_time": "2024-03-03T17:11:12.202410",
     "status": "completed"
    },
    "tags": []
   },
   "outputs": [],
   "source": [
    "value=data.levels.replace({'One':1,'0':0,'Two':2,'Two Story':2,\"One Story\":1,'Three Or More':3})\n",
    "data.levels=value\n",
    "selected_index=value[value.astype(str).str.isnumeric()].index\n",
    "data=data.loc[selected_index,:]\n",
    "data['levels']=data['levels'].astype('int')"
   ]
  },
  {
   "cell_type": "code",
   "execution_count": 13,
   "id": "75c11c5c",
   "metadata": {
    "execution": {
     "iopub.execute_input": "2024-03-03T17:11:12.372367Z",
     "iopub.status.busy": "2024-03-03T17:11:12.371658Z",
     "iopub.status.idle": "2024-03-03T17:11:12.379201Z",
     "shell.execute_reply": "2024-03-03T17:11:12.378029Z"
    },
    "papermill": {
     "duration": 0.027714,
     "end_time": "2024-03-03T17:11:12.381696",
     "exception": false,
     "start_time": "2024-03-03T17:11:12.353982",
     "status": "completed"
    },
    "tags": []
   },
   "outputs": [],
   "source": [
    "data.drop(['buildingArea','livingAreaValue'],axis=1,inplace=True)"
   ]
  },
  {
   "cell_type": "code",
   "execution_count": 14,
   "id": "7d4b4557",
   "metadata": {
    "execution": {
     "iopub.execute_input": "2024-03-03T17:11:12.416120Z",
     "iopub.status.busy": "2024-03-03T17:11:12.415700Z",
     "iopub.status.idle": "2024-03-03T17:11:12.423122Z",
     "shell.execute_reply": "2024-03-03T17:11:12.421981Z"
    },
    "papermill": {
     "duration": 0.027456,
     "end_time": "2024-03-03T17:11:12.425565",
     "exception": false,
     "start_time": "2024-03-03T17:11:12.398109",
     "status": "completed"
    },
    "tags": []
   },
   "outputs": [],
   "source": [
    "data.livingArea=data.livingArea.fillna(data.livingArea.mean())\n",
    "data.pricePerSquareFoot=data.pricePerSquareFoot.fillna(data.pricePerSquareFoot.mean())"
   ]
  },
  {
   "cell_type": "code",
   "execution_count": 15,
   "id": "4f268d3f",
   "metadata": {
    "execution": {
     "iopub.execute_input": "2024-03-03T17:11:12.494308Z",
     "iopub.status.busy": "2024-03-03T17:11:12.493914Z",
     "iopub.status.idle": "2024-03-03T17:11:12.869921Z",
     "shell.execute_reply": "2024-03-03T17:11:12.868826Z"
    },
    "papermill": {
     "duration": 0.395884,
     "end_time": "2024-03-03T17:11:12.872272",
     "exception": false,
     "start_time": "2024-03-03T17:11:12.476388",
     "status": "completed"
    },
    "tags": []
   },
   "outputs": [
    {
     "ename": "ValueError",
     "evalue": "Could not interpret input 'price'",
     "output_type": "error",
     "traceback": [
      "\u001b[0;31m---------------------------------------------------------------------------\u001b[0m",
      "\u001b[0;31mValueError\u001b[0m                                Traceback (most recent call last)",
      "Cell \u001b[0;32mIn[15], line 1\u001b[0m\n\u001b[0;32m----> 1\u001b[0m sb\u001b[38;5;241m.\u001b[39mbarplot(data[[\u001b[38;5;124m'\u001b[39m\u001b[38;5;124myear\u001b[39m\u001b[38;5;124m'\u001b[39m,\u001b[38;5;124m'\u001b[39m\u001b[38;5;124mprice\u001b[39m\u001b[38;5;124m'\u001b[39m]],x\u001b[38;5;241m=\u001b[39m\u001b[38;5;124m'\u001b[39m\u001b[38;5;124myear\u001b[39m\u001b[38;5;124m'\u001b[39m,y\u001b[38;5;241m=\u001b[39m\u001b[38;5;124m'\u001b[39m\u001b[38;5;124mprice\u001b[39m\u001b[38;5;124m'\u001b[39m)\n",
      "File \u001b[0;32m~/anaconda3/lib/python3.11/site-packages/seaborn/_decorators.py:46\u001b[0m, in \u001b[0;36m_deprecate_positional_args.<locals>.inner_f\u001b[0;34m(*args, **kwargs)\u001b[0m\n\u001b[1;32m     36\u001b[0m     warnings\u001b[38;5;241m.\u001b[39mwarn(\n\u001b[1;32m     37\u001b[0m         \u001b[38;5;124m\"\u001b[39m\u001b[38;5;124mPass the following variable\u001b[39m\u001b[38;5;132;01m{}\u001b[39;00m\u001b[38;5;124m as \u001b[39m\u001b[38;5;132;01m{}\u001b[39;00m\u001b[38;5;124mkeyword arg\u001b[39m\u001b[38;5;132;01m{}\u001b[39;00m\u001b[38;5;124m: \u001b[39m\u001b[38;5;132;01m{}\u001b[39;00m\u001b[38;5;124m. \u001b[39m\u001b[38;5;124m\"\u001b[39m\n\u001b[1;32m     38\u001b[0m         \u001b[38;5;124m\"\u001b[39m\u001b[38;5;124mFrom version 0.12, the only valid positional argument \u001b[39m\u001b[38;5;124m\"\u001b[39m\n\u001b[0;32m   (...)\u001b[0m\n\u001b[1;32m     43\u001b[0m         \u001b[38;5;167;01mFutureWarning\u001b[39;00m\n\u001b[1;32m     44\u001b[0m     )\n\u001b[1;32m     45\u001b[0m kwargs\u001b[38;5;241m.\u001b[39mupdate({k: arg \u001b[38;5;28;01mfor\u001b[39;00m k, arg \u001b[38;5;129;01min\u001b[39;00m \u001b[38;5;28mzip\u001b[39m(sig\u001b[38;5;241m.\u001b[39mparameters, args)})\n\u001b[0;32m---> 46\u001b[0m \u001b[38;5;28;01mreturn\u001b[39;00m f(\u001b[38;5;241m*\u001b[39m\u001b[38;5;241m*\u001b[39mkwargs)\n",
      "File \u001b[0;32m~/anaconda3/lib/python3.11/site-packages/seaborn/categorical.py:3169\u001b[0m, in \u001b[0;36mbarplot\u001b[0;34m(x, y, hue, data, order, hue_order, estimator, ci, n_boot, units, seed, orient, color, palette, saturation, errcolor, errwidth, capsize, dodge, ax, **kwargs)\u001b[0m\n\u001b[1;32m   3156\u001b[0m \u001b[38;5;129m@_deprecate_positional_args\u001b[39m\n\u001b[1;32m   3157\u001b[0m \u001b[38;5;28;01mdef\u001b[39;00m \u001b[38;5;21mbarplot\u001b[39m(\n\u001b[1;32m   3158\u001b[0m     \u001b[38;5;241m*\u001b[39m,\n\u001b[0;32m   (...)\u001b[0m\n\u001b[1;32m   3166\u001b[0m     \u001b[38;5;241m*\u001b[39m\u001b[38;5;241m*\u001b[39mkwargs,\n\u001b[1;32m   3167\u001b[0m ):\n\u001b[0;32m-> 3169\u001b[0m     plotter \u001b[38;5;241m=\u001b[39m _BarPlotter(x, y, hue, data, order, hue_order,\n\u001b[1;32m   3170\u001b[0m                           estimator, ci, n_boot, units, seed,\n\u001b[1;32m   3171\u001b[0m                           orient, color, palette, saturation,\n\u001b[1;32m   3172\u001b[0m                           errcolor, errwidth, capsize, dodge)\n\u001b[1;32m   3174\u001b[0m     \u001b[38;5;28;01mif\u001b[39;00m ax \u001b[38;5;129;01mis\u001b[39;00m \u001b[38;5;28;01mNone\u001b[39;00m:\n\u001b[1;32m   3175\u001b[0m         ax \u001b[38;5;241m=\u001b[39m plt\u001b[38;5;241m.\u001b[39mgca()\n",
      "File \u001b[0;32m~/anaconda3/lib/python3.11/site-packages/seaborn/categorical.py:1584\u001b[0m, in \u001b[0;36m_BarPlotter.__init__\u001b[0;34m(self, x, y, hue, data, order, hue_order, estimator, ci, n_boot, units, seed, orient, color, palette, saturation, errcolor, errwidth, capsize, dodge)\u001b[0m\n\u001b[1;32m   1579\u001b[0m \u001b[38;5;28;01mdef\u001b[39;00m \u001b[38;5;21m__init__\u001b[39m(\u001b[38;5;28mself\u001b[39m, x, y, hue, data, order, hue_order,\n\u001b[1;32m   1580\u001b[0m              estimator, ci, n_boot, units, seed,\n\u001b[1;32m   1581\u001b[0m              orient, color, palette, saturation, errcolor,\n\u001b[1;32m   1582\u001b[0m              errwidth, capsize, dodge):\n\u001b[1;32m   1583\u001b[0m \u001b[38;5;250m    \u001b[39m\u001b[38;5;124;03m\"\"\"Initialize the plotter.\"\"\"\u001b[39;00m\n\u001b[0;32m-> 1584\u001b[0m     \u001b[38;5;28mself\u001b[39m\u001b[38;5;241m.\u001b[39mestablish_variables(x, y, hue, data, orient,\n\u001b[1;32m   1585\u001b[0m                              order, hue_order, units)\n\u001b[1;32m   1586\u001b[0m     \u001b[38;5;28mself\u001b[39m\u001b[38;5;241m.\u001b[39mestablish_colors(color, palette, saturation)\n\u001b[1;32m   1587\u001b[0m     \u001b[38;5;28mself\u001b[39m\u001b[38;5;241m.\u001b[39mestimate_statistic(estimator, ci, n_boot, seed)\n",
      "File \u001b[0;32m~/anaconda3/lib/python3.11/site-packages/seaborn/categorical.py:153\u001b[0m, in \u001b[0;36m_CategoricalPlotter.establish_variables\u001b[0;34m(self, x, y, hue, data, orient, order, hue_order, units)\u001b[0m\n\u001b[1;32m    151\u001b[0m     \u001b[38;5;28;01mif\u001b[39;00m \u001b[38;5;28misinstance\u001b[39m(var, \u001b[38;5;28mstr\u001b[39m):\n\u001b[1;32m    152\u001b[0m         err \u001b[38;5;241m=\u001b[39m \u001b[38;5;124m\"\u001b[39m\u001b[38;5;124mCould not interpret input \u001b[39m\u001b[38;5;124m'\u001b[39m\u001b[38;5;132;01m{}\u001b[39;00m\u001b[38;5;124m'\u001b[39m\u001b[38;5;124m\"\u001b[39m\u001b[38;5;241m.\u001b[39mformat(var)\n\u001b[0;32m--> 153\u001b[0m         \u001b[38;5;28;01mraise\u001b[39;00m \u001b[38;5;167;01mValueError\u001b[39;00m(err)\n\u001b[1;32m    155\u001b[0m \u001b[38;5;66;03m# Figure out the plotting orientation\u001b[39;00m\n\u001b[1;32m    156\u001b[0m orient \u001b[38;5;241m=\u001b[39m infer_orient(\n\u001b[1;32m    157\u001b[0m     x, y, orient, require_numeric\u001b[38;5;241m=\u001b[39m\u001b[38;5;28mself\u001b[39m\u001b[38;5;241m.\u001b[39mrequire_numeric\n\u001b[1;32m    158\u001b[0m )\n",
      "\u001b[0;31mValueError\u001b[0m: Could not interpret input 'price'"
     ]
    }
   ],
   "source": [
    "sb.barplot(data[['year','price']],x='year',y='price')"
   ]
  },
  {
   "cell_type": "code",
   "execution_count": null,
   "id": "98b14d4f",
   "metadata": {
    "execution": {
     "iopub.execute_input": "2024-03-03T17:11:12.941308Z",
     "iopub.status.busy": "2024-03-03T17:11:12.940905Z",
     "iopub.status.idle": "2024-03-03T17:11:14.198487Z",
     "shell.execute_reply": "2024-03-03T17:11:14.197370Z"
    },
    "papermill": {
     "duration": 1.277983,
     "end_time": "2024-03-03T17:11:14.201028",
     "exception": false,
     "start_time": "2024-03-03T17:11:12.923045",
     "status": "completed"
    },
    "tags": []
   },
   "outputs": [],
   "source": [
    "for i in [(2019,'g'),(2020,'y'),(2021,'r')]:\n",
    "    df2=data.groupby('year').get_group(i[0])\n",
    "    sb.lineplot(data=df2,x='month',y='price',color=i[1])\n",
    "    plt.title(f'{i[0]} Year')\n",
    "    plt.show()"
   ]
  },
  {
   "cell_type": "markdown",
   "id": "07d9db55",
   "metadata": {
    "papermill": {
     "duration": 0.018566,
     "end_time": "2024-03-03T17:11:14.238196",
     "exception": false,
     "start_time": "2024-03-03T17:11:14.219630",
     "status": "completed"
    },
    "tags": []
   },
   "source": [
    "* It Show the prices are increasing over time\n",
    "* For this case we have the 'time' feature in our dataset so we can drop month and year from our dataset"
   ]
  },
  {
   "cell_type": "code",
   "execution_count": null,
   "id": "b7f0243d",
   "metadata": {
    "execution": {
     "iopub.execute_input": "2024-03-03T17:11:14.276837Z",
     "iopub.status.busy": "2024-03-03T17:11:14.276464Z",
     "iopub.status.idle": "2024-03-03T17:11:14.283994Z",
     "shell.execute_reply": "2024-03-03T17:11:14.283192Z"
    },
    "papermill": {
     "duration": 0.029638,
     "end_time": "2024-03-03T17:11:14.286013",
     "exception": false,
     "start_time": "2024-03-03T17:11:14.256375",
     "status": "completed"
    },
    "tags": []
   },
   "outputs": [],
   "source": [
    "data.drop(['month','year'],axis=1,inplace=True)"
   ]
  },
  {
   "cell_type": "code",
   "execution_count": null,
   "id": "68d7a54c",
   "metadata": {
    "execution": {
     "iopub.execute_input": "2024-03-03T17:11:14.363938Z",
     "iopub.status.busy": "2024-03-03T17:11:14.363319Z",
     "iopub.status.idle": "2024-03-03T17:11:14.811024Z",
     "shell.execute_reply": "2024-03-03T17:11:14.809752Z"
    },
    "papermill": {
     "duration": 0.470277,
     "end_time": "2024-03-03T17:11:14.813241",
     "exception": false,
     "start_time": "2024-03-03T17:11:14.342964",
     "status": "completed"
    },
    "tags": []
   },
   "outputs": [],
   "source": [
    "sb.barplot(data[['homeType','price']],x='homeType',y='price')"
   ]
  },
  {
   "cell_type": "markdown",
   "id": "45a52d66",
   "metadata": {
    "papermill": {
     "duration": 0.019497,
     "end_time": "2024-03-03T17:11:14.852271",
     "exception": false,
     "start_time": "2024-03-03T17:11:14.832774",
     "status": "completed"
    },
    "tags": []
   },
   "source": [
    "* so the order can be found out is Multi_Family > Single_family > Town_house > Condo > lot"
   ]
  },
  {
   "cell_type": "code",
   "execution_count": null,
   "id": "919b7c7b",
   "metadata": {
    "execution": {
     "iopub.execute_input": "2024-03-03T17:11:14.893111Z",
     "iopub.status.busy": "2024-03-03T17:11:14.892490Z",
     "iopub.status.idle": "2024-03-03T17:11:14.900123Z",
     "shell.execute_reply": "2024-03-03T17:11:14.898814Z"
    },
    "papermill": {
     "duration": 0.030848,
     "end_time": "2024-03-03T17:11:14.902485",
     "exception": false,
     "start_time": "2024-03-03T17:11:14.871637",
     "status": "completed"
    },
    "tags": []
   },
   "outputs": [],
   "source": [
    "data.homeType.unique()"
   ]
  },
  {
   "cell_type": "code",
   "execution_count": null,
   "id": "f052b6b8",
   "metadata": {
    "execution": {
     "iopub.execute_input": "2024-03-03T17:11:14.942853Z",
     "iopub.status.busy": "2024-03-03T17:11:14.942430Z",
     "iopub.status.idle": "2024-03-03T17:11:14.947844Z",
     "shell.execute_reply": "2024-03-03T17:11:14.946704Z"
    },
    "papermill": {
     "duration": 0.028355,
     "end_time": "2024-03-03T17:11:14.949968",
     "exception": false,
     "start_time": "2024-03-03T17:11:14.921613",
     "status": "completed"
    },
    "tags": []
   },
   "outputs": [],
   "source": [
    "encoder=OrdinalEncoder(categories=[['MULTI_FAMILY','SINGLE_FAMILY','TOWNHOUSE','CONDO','LOT']])\n"
   ]
  },
  {
   "cell_type": "code",
   "execution_count": null,
   "id": "3817e3e0",
   "metadata": {
    "execution": {
     "iopub.execute_input": "2024-03-03T17:11:14.990114Z",
     "iopub.status.busy": "2024-03-03T17:11:14.989355Z",
     "iopub.status.idle": "2024-03-03T17:11:15.001138Z",
     "shell.execute_reply": "2024-03-03T17:11:14.999937Z"
    },
    "papermill": {
     "duration": 0.034159,
     "end_time": "2024-03-03T17:11:15.003198",
     "exception": false,
     "start_time": "2024-03-03T17:11:14.969039",
     "status": "completed"
    },
    "tags": []
   },
   "outputs": [],
   "source": [
    "data['homeType']=encoder.fit_transform(data[['homeType']])"
   ]
  },
  {
   "cell_type": "code",
   "execution_count": null,
   "id": "e5a0d65f",
   "metadata": {
    "execution": {
     "iopub.execute_input": "2024-03-03T17:11:15.082847Z",
     "iopub.status.busy": "2024-03-03T17:11:15.082092Z",
     "iopub.status.idle": "2024-03-03T17:11:15.407859Z",
     "shell.execute_reply": "2024-03-03T17:11:15.406942Z"
    },
    "papermill": {
     "duration": 0.349054,
     "end_time": "2024-03-03T17:11:15.410268",
     "exception": false,
     "start_time": "2024-03-03T17:11:15.061214",
     "status": "completed"
    },
    "tags": []
   },
   "outputs": [],
   "source": [
    "sb.scatterplot(data=data[['longitude','latitude']],x='longitude',y='latitude')"
   ]
  },
  {
   "cell_type": "code",
   "execution_count": null,
   "id": "38d24355",
   "metadata": {
    "execution": {
     "iopub.execute_input": "2024-03-03T17:11:15.491795Z",
     "iopub.status.busy": "2024-03-03T17:11:15.491431Z",
     "iopub.status.idle": "2024-03-03T17:11:15.497072Z",
     "shell.execute_reply": "2024-03-03T17:11:15.495955Z"
    },
    "papermill": {
     "duration": 0.028675,
     "end_time": "2024-03-03T17:11:15.499104",
     "exception": false,
     "start_time": "2024-03-03T17:11:15.470429",
     "status": "completed"
    },
    "tags": []
   },
   "outputs": [],
   "source": [
    "df3=data[['latitude','longitude']]"
   ]
  },
  {
   "cell_type": "code",
   "execution_count": null,
   "id": "126b2b29",
   "metadata": {
    "execution": {
     "iopub.execute_input": "2024-03-03T17:11:15.541185Z",
     "iopub.status.busy": "2024-03-03T17:11:15.540776Z",
     "iopub.status.idle": "2024-03-03T17:11:25.069794Z",
     "shell.execute_reply": "2024-03-03T17:11:25.068857Z"
    },
    "papermill": {
     "duration": 9.552949,
     "end_time": "2024-03-03T17:11:25.072303",
     "exception": false,
     "start_time": "2024-03-03T17:11:15.519354",
     "status": "completed"
    },
    "tags": []
   },
   "outputs": [],
   "source": [
    "list1=[]\n",
    "for i in range(1,10):\n",
    "    km=KMeans(i)\n",
    "    km.fit(df3)\n",
    "    list1.append(km.inertia_)"
   ]
  },
  {
   "cell_type": "code",
   "execution_count": null,
   "id": "bb517cbf",
   "metadata": {
    "execution": {
     "iopub.execute_input": "2024-03-03T17:11:25.116582Z",
     "iopub.status.busy": "2024-03-03T17:11:25.115730Z",
     "iopub.status.idle": "2024-03-03T17:11:25.385013Z",
     "shell.execute_reply": "2024-03-03T17:11:25.383721Z"
    },
    "papermill": {
     "duration": 0.294271,
     "end_time": "2024-03-03T17:11:25.387573",
     "exception": false,
     "start_time": "2024-03-03T17:11:25.093302",
     "status": "completed"
    },
    "tags": []
   },
   "outputs": [],
   "source": [
    "sb.lineplot(x=range(1,10),y=list1)"
   ]
  },
  {
   "cell_type": "code",
   "execution_count": null,
   "id": "a6aea208",
   "metadata": {
    "execution": {
     "iopub.execute_input": "2024-03-03T17:11:25.431680Z",
     "iopub.status.busy": "2024-03-03T17:11:25.431279Z",
     "iopub.status.idle": "2024-03-03T17:11:25.436179Z",
     "shell.execute_reply": "2024-03-03T17:11:25.434930Z"
    },
    "papermill": {
     "duration": 0.029851,
     "end_time": "2024-03-03T17:11:25.438361",
     "exception": false,
     "start_time": "2024-03-03T17:11:25.408510",
     "status": "completed"
    },
    "tags": []
   },
   "outputs": [],
   "source": [
    "km=KMeans(2)"
   ]
  },
  {
   "cell_type": "code",
   "execution_count": null,
   "id": "65f283ea",
   "metadata": {
    "execution": {
     "iopub.execute_input": "2024-03-03T17:11:25.481688Z",
     "iopub.status.busy": "2024-03-03T17:11:25.481284Z",
     "iopub.status.idle": "2024-03-03T17:11:26.686260Z",
     "shell.execute_reply": "2024-03-03T17:11:26.684802Z"
    },
    "papermill": {
     "duration": 1.234352,
     "end_time": "2024-03-03T17:11:26.693332",
     "exception": false,
     "start_time": "2024-03-03T17:11:25.458980",
     "status": "completed"
    },
    "tags": []
   },
   "outputs": [],
   "source": [
    "df3['region']=data['region']=km.fit_predict(df3)\n",
    "data.drop(['longitude','latitude'],axis=1,inplace=True)"
   ]
  },
  {
   "cell_type": "code",
   "execution_count": null,
   "id": "040e0136",
   "metadata": {
    "execution": {
     "iopub.execute_input": "2024-03-03T17:11:26.750591Z",
     "iopub.status.busy": "2024-03-03T17:11:26.750175Z",
     "iopub.status.idle": "2024-03-03T17:11:27.812710Z",
     "shell.execute_reply": "2024-03-03T17:11:27.811516Z"
    },
    "papermill": {
     "duration": 1.093184,
     "end_time": "2024-03-03T17:11:27.815500",
     "exception": false,
     "start_time": "2024-03-03T17:11:26.722316",
     "status": "completed"
    },
    "tags": []
   },
   "outputs": [],
   "source": [
    "sb.scatterplot(data=df3,x='longitude',y='latitude',hue='region')"
   ]
  },
  {
   "cell_type": "code",
   "execution_count": null,
   "id": "c374f262",
   "metadata": {
    "execution": {
     "iopub.execute_input": "2024-03-03T17:11:27.907467Z",
     "iopub.status.busy": "2024-03-03T17:11:27.906289Z",
     "iopub.status.idle": "2024-03-03T17:11:28.895041Z",
     "shell.execute_reply": "2024-03-03T17:11:28.893951Z"
    },
    "papermill": {
     "duration": 1.014632,
     "end_time": "2024-03-03T17:11:28.897557",
     "exception": false,
     "start_time": "2024-03-03T17:11:27.882925",
     "status": "completed"
    },
    "tags": []
   },
   "outputs": [],
   "source": [
    "sb.histplot(data['cityId'])"
   ]
  },
  {
   "cell_type": "code",
   "execution_count": null,
   "id": "4d6e1771",
   "metadata": {
    "execution": {
     "iopub.execute_input": "2024-03-03T17:11:28.946308Z",
     "iopub.status.busy": "2024-03-03T17:11:28.945865Z",
     "iopub.status.idle": "2024-03-03T17:11:28.961777Z",
     "shell.execute_reply": "2024-03-03T17:11:28.960949Z"
    },
    "papermill": {
     "duration": 0.043444,
     "end_time": "2024-03-03T17:11:28.964062",
     "exception": false,
     "start_time": "2024-03-03T17:11:28.920618",
     "status": "completed"
    },
    "tags": []
   },
   "outputs": [],
   "source": [
    "index=np.where(data['cityId']<100000)\n",
    "data=data.query('cityId<100000')"
   ]
  },
  {
   "cell_type": "code",
   "execution_count": null,
   "id": "3247f09e",
   "metadata": {
    "execution": {
     "iopub.execute_input": "2024-03-03T17:11:29.012957Z",
     "iopub.status.busy": "2024-03-03T17:11:29.011786Z",
     "iopub.status.idle": "2024-03-03T17:11:29.279372Z",
     "shell.execute_reply": "2024-03-03T17:11:29.277965Z"
    },
    "papermill": {
     "duration": 0.294672,
     "end_time": "2024-03-03T17:11:29.281767",
     "exception": false,
     "start_time": "2024-03-03T17:11:28.987095",
     "status": "completed"
    },
    "tags": []
   },
   "outputs": [],
   "source": [
    "sb.histplot(data['cityId'])"
   ]
  },
  {
   "cell_type": "code",
   "execution_count": null,
   "id": "59211c7b",
   "metadata": {
    "execution": {
     "iopub.execute_input": "2024-03-03T17:11:29.332950Z",
     "iopub.status.busy": "2024-03-03T17:11:29.331741Z",
     "iopub.status.idle": "2024-03-03T17:11:29.399969Z",
     "shell.execute_reply": "2024-03-03T17:11:29.398666Z"
    },
    "papermill": {
     "duration": 0.096904,
     "end_time": "2024-03-03T17:11:29.402457",
     "exception": false,
     "start_time": "2024-03-03T17:11:29.305553",
     "status": "completed"
    },
    "tags": []
   },
   "outputs": [],
   "source": [
    "bins=[x for x in range(0,60001,10000)]\n",
    "data['cityId']=pd.cut(data['cityId'],bins=bins)\n",
    "city_data=pd.get_dummies(data['cityId'],prefix='cityId').replace({False:0,True:1})\n",
    "data=data.join(city_data).drop('cityId',axis=1)\n",
    "data.countyId.nunique()"
   ]
  },
  {
   "cell_type": "code",
   "execution_count": null,
   "id": "556c73ef",
   "metadata": {
    "execution": {
     "iopub.execute_input": "2024-03-03T17:11:29.500318Z",
     "iopub.status.busy": "2024-03-03T17:11:29.499607Z",
     "iopub.status.idle": "2024-03-03T17:11:29.808186Z",
     "shell.execute_reply": "2024-03-03T17:11:29.806813Z"
    },
    "papermill": {
     "duration": 0.335757,
     "end_time": "2024-03-03T17:11:29.811006",
     "exception": false,
     "start_time": "2024-03-03T17:11:29.475249",
     "status": "completed"
    },
    "tags": []
   },
   "outputs": [],
   "source": [
    "sb.histplot(data['countyId'])"
   ]
  },
  {
   "cell_type": "code",
   "execution_count": null,
   "id": "7645df40",
   "metadata": {
    "execution": {
     "iopub.execute_input": "2024-03-03T17:11:29.861136Z",
     "iopub.status.busy": "2024-03-03T17:11:29.860715Z",
     "iopub.status.idle": "2024-03-03T17:11:30.095654Z",
     "shell.execute_reply": "2024-03-03T17:11:30.093886Z"
    },
    "papermill": {
     "duration": 0.263225,
     "end_time": "2024-03-03T17:11:30.098621",
     "exception": false,
     "start_time": "2024-03-03T17:11:29.835396",
     "status": "completed"
    },
    "tags": []
   },
   "outputs": [],
   "source": [
    "bins=[x for x in range(0,300001,10000)]\n",
    "data['countyId']=pd.cut(data['countyId'],bins=bins)\n",
    "county_data=pd.get_dummies(data['countyId'],prefix='countyId').replace({False:0,True:1})\n",
    "data=data.join(county_data).drop('countyId',axis=1)"
   ]
  },
  {
   "cell_type": "code",
   "execution_count": null,
   "id": "ed93dcca",
   "metadata": {
    "execution": {
     "iopub.execute_input": "2024-03-03T17:11:30.157846Z",
     "iopub.status.busy": "2024-03-03T17:11:30.156754Z",
     "iopub.status.idle": "2024-03-03T17:11:30.170500Z",
     "shell.execute_reply": "2024-03-03T17:11:30.169550Z"
    },
    "papermill": {
     "duration": 0.047563,
     "end_time": "2024-03-03T17:11:30.172984",
     "exception": false,
     "start_time": "2024-03-03T17:11:30.125421",
     "status": "completed"
    },
    "tags": []
   },
   "outputs": [],
   "source": [
    "data.drop('stateId',axis=1,inplace=True)\n",
    "data.drop('zipcode',axis=1,inplace=True)\n",
    "data.drop('currency',axis=1,inplace=True)"
   ]
  },
  {
   "cell_type": "code",
   "execution_count": null,
   "id": "b967d177",
   "metadata": {
    "execution": {
     "iopub.execute_input": "2024-03-03T17:11:30.222499Z",
     "iopub.status.busy": "2024-03-03T17:11:30.221400Z",
     "iopub.status.idle": "2024-03-03T17:11:30.230398Z",
     "shell.execute_reply": "2024-03-03T17:11:30.229282Z"
    },
    "papermill": {
     "duration": 0.036789,
     "end_time": "2024-03-03T17:11:30.233043",
     "exception": false,
     "start_time": "2024-03-03T17:11:30.196254",
     "status": "completed"
    },
    "tags": []
   },
   "outputs": [],
   "source": [
    "data=data.loc[np.sqrt(data['price'])<4000]"
   ]
  },
  {
   "cell_type": "code",
   "execution_count": null,
   "id": "5d441ca4",
   "metadata": {
    "execution": {
     "iopub.execute_input": "2024-03-03T17:11:30.335393Z",
     "iopub.status.busy": "2024-03-03T17:11:30.334770Z",
     "iopub.status.idle": "2024-03-03T17:11:30.342180Z",
     "shell.execute_reply": "2024-03-03T17:11:30.341239Z"
    },
    "papermill": {
     "duration": 0.035222,
     "end_time": "2024-03-03T17:11:30.344350",
     "exception": false,
     "start_time": "2024-03-03T17:11:30.309128",
     "status": "completed"
    },
    "tags": []
   },
   "outputs": [],
   "source": [
    "ydata=np.sqrt(data.price)\n",
    "xdata=data.drop('price',axis=1)"
   ]
  },
  {
   "cell_type": "code",
   "execution_count": null,
   "id": "40933a75",
   "metadata": {
    "execution": {
     "iopub.execute_input": "2024-03-03T17:11:30.440015Z",
     "iopub.status.busy": "2024-03-03T17:11:30.439384Z",
     "iopub.status.idle": "2024-03-03T17:11:30.444181Z",
     "shell.execute_reply": "2024-03-03T17:11:30.443371Z"
    },
    "papermill": {
     "duration": 0.031833,
     "end_time": "2024-03-03T17:11:30.446557",
     "exception": false,
     "start_time": "2024-03-03T17:11:30.414724",
     "status": "completed"
    },
    "tags": []
   },
   "outputs": [],
   "source": [
    "scaler=('scale',StandardScaler(),['time','pricePerSquareFoot','livingArea'])\n",
    "col=ColumnTransformer([scaler])"
   ]
  },
  {
   "cell_type": "code",
   "execution_count": null,
   "id": "6136d10a",
   "metadata": {
    "execution": {
     "iopub.execute_input": "2024-03-03T17:11:30.499710Z",
     "iopub.status.busy": "2024-03-03T17:11:30.499088Z",
     "iopub.status.idle": "2024-03-03T17:11:30.524244Z",
     "shell.execute_reply": "2024-03-03T17:11:30.523184Z"
    },
    "papermill": {
     "duration": 0.05566,
     "end_time": "2024-03-03T17:11:30.526630",
     "exception": false,
     "start_time": "2024-03-03T17:11:30.470970",
     "status": "completed"
    },
    "tags": []
   },
   "outputs": [],
   "source": [
    "newdata=col.fit_transform(xdata)\n",
    "xdata.reset_index(drop=True,inplace=True)\n",
    "xdata.drop(['time','pricePerSquareFoot','livingArea'],axis=1,inplace=True)\n",
    "df=pd.DataFrame(newdata,columns=['time','pricePerSquareFoot','livingArea'])\n",
    "xdata=xdata.join(df)"
   ]
  },
  {
   "cell_type": "code",
   "execution_count": null,
   "id": "8cf4f2ca",
   "metadata": {
    "execution": {
     "iopub.execute_input": "2024-03-03T17:11:30.624478Z",
     "iopub.status.busy": "2024-03-03T17:11:30.623796Z",
     "iopub.status.idle": "2024-03-03T17:11:30.634943Z",
     "shell.execute_reply": "2024-03-03T17:11:30.633983Z"
    },
    "papermill": {
     "duration": 0.04058,
     "end_time": "2024-03-03T17:11:30.637424",
     "exception": false,
     "start_time": "2024-03-03T17:11:30.596844",
     "status": "completed"
    },
    "tags": []
   },
   "outputs": [],
   "source": [
    "xtra,xtest,ytra,ytest=train_test_split(xdata,ydata,test_size=0.2)"
   ]
  },
  {
   "cell_type": "code",
   "execution_count": null,
   "id": "505d7c4d",
   "metadata": {
    "execution": {
     "iopub.execute_input": "2024-03-03T17:11:30.784463Z",
     "iopub.status.busy": "2024-03-03T17:11:30.784025Z",
     "iopub.status.idle": "2024-03-03T17:11:30.791808Z",
     "shell.execute_reply": "2024-03-03T17:11:30.790828Z"
    },
    "papermill": {
     "duration": 0.036215,
     "end_time": "2024-03-03T17:11:30.794071",
     "exception": false,
     "start_time": "2024-03-03T17:11:30.757856",
     "status": "completed"
    },
    "tags": []
   },
   "outputs": [],
   "source": [
    "model=tf.keras.Sequential()"
   ]
  },
  {
   "cell_type": "code",
   "execution_count": null,
   "id": "9eccacd0",
   "metadata": {
    "execution": {
     "iopub.execute_input": "2024-03-03T17:11:30.844400Z",
     "iopub.status.busy": "2024-03-03T17:11:30.844006Z",
     "iopub.status.idle": "2024-03-03T17:11:30.848911Z",
     "shell.execute_reply": "2024-03-03T17:11:30.847566Z"
    },
    "papermill": {
     "duration": 0.033016,
     "end_time": "2024-03-03T17:11:30.851736",
     "exception": false,
     "start_time": "2024-03-03T17:11:30.818720",
     "status": "completed"
    },
    "tags": []
   },
   "outputs": [],
   "source": [
    "input_size=xtra.shape[1]\n",
    "output_size=1\n"
   ]
  },
  {
   "cell_type": "code",
   "execution_count": null,
   "id": "7df7a300",
   "metadata": {
    "_kg_hide-input": false,
    "_kg_hide-output": true,
    "execution": {
     "iopub.execute_input": "2024-03-03T17:11:30.903291Z",
     "iopub.status.busy": "2024-03-03T17:11:30.902537Z",
     "iopub.status.idle": "2024-03-03T17:12:14.815805Z",
     "shell.execute_reply": "2024-03-03T17:12:14.814601Z"
    },
    "papermill": {
     "duration": 43.94154,
     "end_time": "2024-03-03T17:12:14.818268",
     "exception": false,
     "start_time": "2024-03-03T17:11:30.876728",
     "status": "completed"
    },
    "tags": []
   },
   "outputs": [],
   "source": [
    "model.add(tf.keras.layers.Dense(input_size,activation='relu'))\n",
    "model.add(tf.keras.layers.Dense(128,activation='relu'))\n",
    "model.add(tf.keras.layers.Dense(64,activation='relu'))\n",
    "model.add(tf.keras.layers.Dense(32,activation='relu'))\n",
    "model.add(tf.keras.layers.Dense(1))\n",
    "model.compile(loss='mse',optimizer='adam')\n",
    "#callback=tf.keras.callbacks.EarlyStopping(monitor='val_loss',mode='min',patience=6)\n",
    "model.fit(xtra,ytra,validation_data=(xtest,ytest),epochs=200,batch_size=500)"
   ]
  },
  {
   "cell_type": "code",
   "execution_count": null,
   "id": "e903ff13",
   "metadata": {
    "execution": {
     "iopub.execute_input": "2024-03-03T17:12:14.973776Z",
     "iopub.status.busy": "2024-03-03T17:12:14.973399Z",
     "iopub.status.idle": "2024-03-03T17:12:14.977998Z",
     "shell.execute_reply": "2024-03-03T17:12:14.976772Z"
    },
    "papermill": {
     "duration": 0.084103,
     "end_time": "2024-03-03T17:12:14.980255",
     "exception": false,
     "start_time": "2024-03-03T17:12:14.896152",
     "status": "completed"
    },
    "tags": []
   },
   "outputs": [],
   "source": [
    "losses=model.history.history"
   ]
  },
  {
   "cell_type": "code",
   "execution_count": null,
   "id": "4a96acfe",
   "metadata": {
    "execution": {
     "iopub.execute_input": "2024-03-03T17:12:15.285044Z",
     "iopub.status.busy": "2024-03-03T17:12:15.284609Z",
     "iopub.status.idle": "2024-03-03T17:12:15.529226Z",
     "shell.execute_reply": "2024-03-03T17:12:15.528065Z"
    },
    "papermill": {
     "duration": 0.323637,
     "end_time": "2024-03-03T17:12:15.531739",
     "exception": false,
     "start_time": "2024-03-03T17:12:15.208102",
     "status": "completed"
    },
    "tags": []
   },
   "outputs": [],
   "source": [
    "sb.lineplot(losses['loss'])\n",
    "sb.lineplot(losses['val_loss'])"
   ]
  },
  {
   "cell_type": "code",
   "execution_count": null,
   "id": "3ba228f9",
   "metadata": {
    "_kg_hide-output": true,
    "execution": {
     "iopub.execute_input": "2024-03-03T17:12:15.841999Z",
     "iopub.status.busy": "2024-03-03T17:12:15.841549Z",
     "iopub.status.idle": "2024-03-03T17:13:19.971067Z",
     "shell.execute_reply": "2024-03-03T17:13:19.969834Z"
    },
    "papermill": {
     "duration": 64.209617,
     "end_time": "2024-03-03T17:13:19.973334",
     "exception": false,
     "start_time": "2024-03-03T17:12:15.763717",
     "status": "completed"
    },
    "tags": []
   },
   "outputs": [],
   "source": [
    "model2=tf.keras.Sequential()\n",
    "model2.add(tf.keras.layers.Dense(input_size,activation='relu'))\n",
    "model2.add(tf.keras.layers.Dropout(0.3))\n",
    "model2.add(tf.keras.layers.Dense(128,activation='relu'))\n",
    "model2.add(tf.keras.layers.Dropout(0.2))\n",
    "model2.add(tf.keras.layers.Dense(64,activation='relu'))\n",
    "model2.add(tf.keras.layers.Dropout(0.3))\n",
    "model2.add(tf.keras.layers.Dense(32,activation='relu'))\n",
    "model2.add(tf.keras.layers.Dense(1))\n",
    "model2.compile(loss='mse',optimizer='adam')\n",
    "#callback=tf.keras.callbacks.EarlyStopping(monitor='val_loss',mode='min',patience=6)\n",
    "model2.fit(xtra,ytra,validation_data=(xtest,ytest),batch_size=200,epochs=200)"
   ]
  },
  {
   "cell_type": "code",
   "execution_count": null,
   "id": "b03d63bc",
   "metadata": {
    "execution": {
     "iopub.execute_input": "2024-03-03T17:13:20.290767Z",
     "iopub.status.busy": "2024-03-03T17:13:20.290373Z",
     "iopub.status.idle": "2024-03-03T17:13:20.295201Z",
     "shell.execute_reply": "2024-03-03T17:13:20.294043Z"
    },
    "papermill": {
     "duration": 0.165575,
     "end_time": "2024-03-03T17:13:20.297526",
     "exception": false,
     "start_time": "2024-03-03T17:13:20.131951",
     "status": "completed"
    },
    "tags": []
   },
   "outputs": [],
   "source": [
    "losses=model.history.history"
   ]
  },
  {
   "cell_type": "code",
   "execution_count": null,
   "id": "fc828a6d",
   "metadata": {
    "execution": {
     "iopub.execute_input": "2024-03-03T17:13:20.922263Z",
     "iopub.status.busy": "2024-03-03T17:13:20.921826Z",
     "iopub.status.idle": "2024-03-03T17:13:21.169243Z",
     "shell.execute_reply": "2024-03-03T17:13:21.168136Z"
    },
    "papermill": {
     "duration": 0.408191,
     "end_time": "2024-03-03T17:13:21.171455",
     "exception": false,
     "start_time": "2024-03-03T17:13:20.763264",
     "status": "completed"
    },
    "tags": []
   },
   "outputs": [],
   "source": [
    "sb.lineplot(losses['loss'])\n",
    "sb.lineplot(losses['val_loss'])"
   ]
  },
  {
   "cell_type": "code",
   "execution_count": null,
   "id": "4fef07b1",
   "metadata": {
    "execution": {
     "iopub.execute_input": "2024-03-03T17:13:21.809153Z",
     "iopub.status.busy": "2024-03-03T17:13:21.808104Z",
     "iopub.status.idle": "2024-03-03T17:13:21.825411Z",
     "shell.execute_reply": "2024-03-03T17:13:21.824253Z"
    },
    "papermill": {
     "duration": 0.179941,
     "end_time": "2024-03-03T17:13:21.827792",
     "exception": false,
     "start_time": "2024-03-03T17:13:21.647851",
     "status": "completed"
    },
    "tags": []
   },
   "outputs": [],
   "source": [
    "model1=LinearRegression()\n",
    "model2=SVR()\n",
    "model3=xgb.XGBRegressor()\n",
    "model4=KNeighborsRegressor()\n",
    "model5=DecisionTreeRegressor()\n",
    "model6=BaggingRegressor()\n",
    "model7=RandomForestRegressor()\n",
    "model8=AdaBoostRegressor()"
   ]
  },
  {
   "cell_type": "code",
   "execution_count": null,
   "id": "608edd0c",
   "metadata": {
    "execution": {
     "iopub.execute_input": "2024-03-03T17:13:22.210903Z",
     "iopub.status.busy": "2024-03-03T17:13:22.209719Z",
     "iopub.status.idle": "2024-03-03T17:13:22.219330Z",
     "shell.execute_reply": "2024-03-03T17:13:22.218203Z"
    },
    "papermill": {
     "duration": 0.172757,
     "end_time": "2024-03-03T17:13:22.221842",
     "exception": false,
     "start_time": "2024-03-03T17:13:22.049085",
     "status": "completed"
    },
    "tags": []
   },
   "outputs": [],
   "source": [
    "xtra=xtra.values\n",
    "xtest=xtest.values\n",
    "ytra=ytra.values\n",
    "ytest=ytest.values"
   ]
  },
  {
   "cell_type": "code",
   "execution_count": null,
   "id": "bc084b27",
   "metadata": {
    "execution": {
     "iopub.execute_input": "2024-03-03T17:13:44.079954Z",
     "iopub.status.busy": "2024-03-03T17:13:44.079527Z",
     "iopub.status.idle": "2024-03-03T17:13:47.316311Z",
     "shell.execute_reply": "2024-03-03T17:13:47.315165Z"
    },
    "papermill": {
     "duration": 3.39902,
     "end_time": "2024-03-03T17:13:47.319035",
     "exception": false,
     "start_time": "2024-03-03T17:13:43.920015",
     "status": "completed"
    },
    "tags": []
   },
   "outputs": [],
   "source": [
    "model1_score=model1.score(xtest,ytest)\n",
    "model2_score=model2.score(xtest,ytest)\n",
    "model3_score=model3.score(xtest,ytest)\n",
    "model4_score=model4.score(xtest,ytest)\n",
    "model5_score=model5.score(xtest,ytest)\n",
    "model6_score=model6.score(xtest,ytest)\n",
    "model7_score=model7.score(xtest,ytest)\n",
    "model8_score=model8.score(xtest,ytest)\n"
   ]
  },
  {
   "cell_type": "code",
   "execution_count": null,
   "id": "dff7f892",
   "metadata": {
    "execution": {
     "iopub.execute_input": "2024-03-03T17:13:47.634851Z",
     "iopub.status.busy": "2024-03-03T17:13:47.634463Z",
     "iopub.status.idle": "2024-03-03T17:13:47.639481Z",
     "shell.execute_reply": "2024-03-03T17:13:47.638364Z"
    },
    "papermill": {
     "duration": 0.16543,
     "end_time": "2024-03-03T17:13:47.641498",
     "exception": false,
     "start_time": "2024-03-03T17:13:47.476068",
     "status": "completed"
    },
    "tags": []
   },
   "outputs": [],
   "source": [
    "scores=[model1_score,model2_score,model3_score,model4_score,model5_score,model6_score,model7_score,model8_score]\n",
    "models=['LinearRegression','SVR',\n",
    "'XGBRegressor',\n",
    "'KNeighborsRegressor',\n",
    "'DecisionTreeRegressor',\n",
    "'BaggingRegressor',\n",
    "'RandomForestRegressor',\n",
    "'AdaBoostRegressor']"
   ]
  },
  {
   "cell_type": "code",
   "execution_count": null,
   "id": "7d4351c4",
   "metadata": {
    "execution": {
     "iopub.execute_input": "2024-03-03T17:13:47.959671Z",
     "iopub.status.busy": "2024-03-03T17:13:47.959050Z",
     "iopub.status.idle": "2024-03-03T17:13:47.972794Z",
     "shell.execute_reply": "2024-03-03T17:13:47.971812Z"
    },
    "papermill": {
     "duration": 0.175237,
     "end_time": "2024-03-03T17:13:47.974847",
     "exception": false,
     "start_time": "2024-03-03T17:13:47.799610",
     "status": "completed"
    },
    "tags": []
   },
   "outputs": [],
   "source": [
    "pd.DataFrame(data=dict(models=models,scores=scores))"
   ]
  }
 ],
 "metadata": {
  "kaggle": {
   "accelerator": "none",
   "dataSources": [
    {
     "datasetId": 1905144,
     "sourceId": 3124711,
     "sourceType": "datasetVersion"
    }
   ],
   "dockerImageVersionId": 30664,
   "isGpuEnabled": false,
   "isInternetEnabled": true,
   "language": "python",
   "sourceType": "notebook"
  },
  "kernelspec": {
   "display_name": "Python 3 (ipykernel)",
   "language": "python",
   "name": "python3"
  },
  "language_info": {
   "codemirror_mode": {
    "name": "ipython",
    "version": 3
   },
   "file_extension": ".py",
   "mimetype": "text/x-python",
   "name": "python",
   "nbconvert_exporter": "python",
   "pygments_lexer": "ipython3",
   "version": "3.11.5"
  },
  "papermill": {
   "default_parameters": {},
   "duration": 183.207222,
   "end_time": "2024-03-03T17:13:51.165379",
   "environment_variables": {},
   "exception": null,
   "input_path": "__notebook__.ipynb",
   "output_path": "__notebook__.ipynb",
   "parameters": {},
   "start_time": "2024-03-03T17:10:47.958157",
   "version": "2.5.0"
  }
 },
 "nbformat": 4,
 "nbformat_minor": 5
}
