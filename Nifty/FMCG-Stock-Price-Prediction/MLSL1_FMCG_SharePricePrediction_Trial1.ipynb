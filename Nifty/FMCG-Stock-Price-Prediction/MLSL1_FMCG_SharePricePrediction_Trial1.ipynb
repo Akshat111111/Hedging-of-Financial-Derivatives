{
  "cells": [
    {
      "cell_type": "code",
      "execution_count": 1,
      "metadata": {
        "id": "ZoeEcXqELJq3"
      },
      "outputs": [],
      "source": [
        "import pandas as pd\n",
        "import numpy as np\n",
        "import warnings\n",
        "warnings.filterwarnings('ignore')"
      ]
    },
    {
      "cell_type": "code",
      "execution_count": 2,
      "metadata": {
        "colab": {
          "base_uri": "https://localhost:8080/",
          "height": 476
        },
        "id": "m1cARZHHM4nG",
        "outputId": "faa5663e-cd18-46e8-df9b-8e6469500aa1"
      },
      "outputs": [
        {
          "data": {
            "text/html": [
              "\n",
              "  <div id=\"df-0cb755a1-266f-4b72-be89-6fa024ca8d5a\">\n",
              "    <div class=\"colab-df-container\">\n",
              "      <div>\n",
              "<style scoped>\n",
              "    .dataframe tbody tr th:only-of-type {\n",
              "        vertical-align: middle;\n",
              "    }\n",
              "\n",
              "    .dataframe tbody tr th {\n",
              "        vertical-align: top;\n",
              "    }\n",
              "\n",
              "    .dataframe thead th {\n",
              "        text-align: right;\n",
              "    }\n",
              "</style>\n",
              "<table border=\"1\" class=\"dataframe\">\n",
              "  <thead>\n",
              "    <tr style=\"text-align: right;\">\n",
              "      <th></th>\n",
              "      <th>Quarters</th>\n",
              "      <th>Company</th>\n",
              "      <th>Total Income From Operations</th>\n",
              "      <th>Return on Equity Ratio</th>\n",
              "      <th>Price-Equity Ratio</th>\n",
              "      <th>Gross Margin</th>\n",
              "      <th>Profit Margin</th>\n",
              "      <th>EPS</th>\n",
              "      <th>Time Interest Earned Ratio</th>\n",
              "      <th>EV/Net Operating Revenue</th>\n",
              "      <th>Change in Inventory</th>\n",
              "      <th>CPI</th>\n",
              "      <th>Inflation</th>\n",
              "      <th>Closing Stock Price</th>\n",
              "    </tr>\n",
              "  </thead>\n",
              "  <tbody>\n",
              "    <tr>\n",
              "      <th>0</th>\n",
              "      <td>Mar '20</td>\n",
              "      <td>Procter and Gamble</td>\n",
              "      <td>656.05</td>\n",
              "      <td>20.21</td>\n",
              "      <td>146.39</td>\n",
              "      <td>0.64</td>\n",
              "      <td>0.14</td>\n",
              "      <td>28.07</td>\n",
              "      <td>52.39</td>\n",
              "      <td>52.15</td>\n",
              "      <td>-16.18</td>\n",
              "      <td>148.6</td>\n",
              "      <td>0.058</td>\n",
              "      <td>4109.05</td>\n",
              "    </tr>\n",
              "    <tr>\n",
              "      <th>1</th>\n",
              "      <td>Dec '19</td>\n",
              "      <td>Procter and Gamble</td>\n",
              "      <td>859.27</td>\n",
              "      <td>26.47</td>\n",
              "      <td>103.92</td>\n",
              "      <td>0.65</td>\n",
              "      <td>0.16</td>\n",
              "      <td>41.88</td>\n",
              "      <td>82.25</td>\n",
              "      <td>39.81</td>\n",
              "      <td>21.20</td>\n",
              "      <td>150.4</td>\n",
              "      <td>0.074</td>\n",
              "      <td>4352.30</td>\n",
              "    </tr>\n",
              "    <tr>\n",
              "      <th>2</th>\n",
              "      <td>Sep '19</td>\n",
              "      <td>Procter and Gamble</td>\n",
              "      <td>852.14</td>\n",
              "      <td>26.25</td>\n",
              "      <td>111.13</td>\n",
              "      <td>0.59</td>\n",
              "      <td>0.16</td>\n",
              "      <td>42.16</td>\n",
              "      <td>504.83</td>\n",
              "      <td>40.15</td>\n",
              "      <td>-8.62</td>\n",
              "      <td>145.8</td>\n",
              "      <td>0.040</td>\n",
              "      <td>4685.15</td>\n",
              "    </tr>\n",
              "    <tr>\n",
              "      <th>3</th>\n",
              "      <td>Jun '19</td>\n",
              "      <td>Procter and Gamble</td>\n",
              "      <td>637.29</td>\n",
              "      <td>19.63</td>\n",
              "      <td>219.22</td>\n",
              "      <td>0.55</td>\n",
              "      <td>0.10</td>\n",
              "      <td>18.73</td>\n",
              "      <td>15.27</td>\n",
              "      <td>53.68</td>\n",
              "      <td>-25.40</td>\n",
              "      <td>142.9</td>\n",
              "      <td>0.032</td>\n",
              "      <td>4106.05</td>\n",
              "    </tr>\n",
              "    <tr>\n",
              "      <th>4</th>\n",
              "      <td>Mar '19</td>\n",
              "      <td>Procter and Gamble</td>\n",
              "      <td>699.34</td>\n",
              "      <td>21.54</td>\n",
              "      <td>132.34</td>\n",
              "      <td>0.61</td>\n",
              "      <td>0.13</td>\n",
              "      <td>27.76</td>\n",
              "      <td>258.37</td>\n",
              "      <td>45.39</td>\n",
              "      <td>25.80</td>\n",
              "      <td>140.4</td>\n",
              "      <td>0.029</td>\n",
              "      <td>3673.65</td>\n",
              "    </tr>\n",
              "  </tbody>\n",
              "</table>\n",
              "</div>\n",
              "      <button class=\"colab-df-convert\" onclick=\"convertToInteractive('df-0cb755a1-266f-4b72-be89-6fa024ca8d5a')\"\n",
              "              title=\"Convert this dataframe to an interactive table.\"\n",
              "              style=\"display:none;\">\n",
              "        \n",
              "  <svg xmlns=\"http://www.w3.org/2000/svg\" height=\"24px\"viewBox=\"0 0 24 24\"\n",
              "       width=\"24px\">\n",
              "    <path d=\"M0 0h24v24H0V0z\" fill=\"none\"/>\n",
              "    <path d=\"M18.56 5.44l.94 2.06.94-2.06 2.06-.94-2.06-.94-.94-2.06-.94 2.06-2.06.94zm-11 1L8.5 8.5l.94-2.06 2.06-.94-2.06-.94L8.5 2.5l-.94 2.06-2.06.94zm10 10l.94 2.06.94-2.06 2.06-.94-2.06-.94-.94-2.06-.94 2.06-2.06.94z\"/><path d=\"M17.41 7.96l-1.37-1.37c-.4-.4-.92-.59-1.43-.59-.52 0-1.04.2-1.43.59L10.3 9.45l-7.72 7.72c-.78.78-.78 2.05 0 2.83L4 21.41c.39.39.9.59 1.41.59.51 0 1.02-.2 1.41-.59l7.78-7.78 2.81-2.81c.8-.78.8-2.07 0-2.86zM5.41 20L4 18.59l7.72-7.72 1.47 1.35L5.41 20z\"/>\n",
              "  </svg>\n",
              "      </button>\n",
              "      \n",
              "  <style>\n",
              "    .colab-df-container {\n",
              "      display:flex;\n",
              "      flex-wrap:wrap;\n",
              "      gap: 12px;\n",
              "    }\n",
              "\n",
              "    .colab-df-convert {\n",
              "      background-color: #E8F0FE;\n",
              "      border: none;\n",
              "      border-radius: 50%;\n",
              "      cursor: pointer;\n",
              "      display: none;\n",
              "      fill: #1967D2;\n",
              "      height: 32px;\n",
              "      padding: 0 0 0 0;\n",
              "      width: 32px;\n",
              "    }\n",
              "\n",
              "    .colab-df-convert:hover {\n",
              "      background-color: #E2EBFA;\n",
              "      box-shadow: 0px 1px 2px rgba(60, 64, 67, 0.3), 0px 1px 3px 1px rgba(60, 64, 67, 0.15);\n",
              "      fill: #174EA6;\n",
              "    }\n",
              "\n",
              "    [theme=dark] .colab-df-convert {\n",
              "      background-color: #3B4455;\n",
              "      fill: #D2E3FC;\n",
              "    }\n",
              "\n",
              "    [theme=dark] .colab-df-convert:hover {\n",
              "      background-color: #434B5C;\n",
              "      box-shadow: 0px 1px 3px 1px rgba(0, 0, 0, 0.15);\n",
              "      filter: drop-shadow(0px 1px 2px rgba(0, 0, 0, 0.3));\n",
              "      fill: #FFFFFF;\n",
              "    }\n",
              "  </style>\n",
              "\n",
              "      <script>\n",
              "        const buttonEl =\n",
              "          document.querySelector('#df-0cb755a1-266f-4b72-be89-6fa024ca8d5a button.colab-df-convert');\n",
              "        buttonEl.style.display =\n",
              "          google.colab.kernel.accessAllowed ? 'block' : 'none';\n",
              "\n",
              "        async function convertToInteractive(key) {\n",
              "          const element = document.querySelector('#df-0cb755a1-266f-4b72-be89-6fa024ca8d5a');\n",
              "          const dataTable =\n",
              "            await google.colab.kernel.invokeFunction('convertToInteractive',\n",
              "                                                     [key], {});\n",
              "          if (!dataTable) return;\n",
              "\n",
              "          const docLinkHtml = 'Like what you see? Visit the ' +\n",
              "            '<a target=\"_blank\" href=https://colab.research.google.com/notebooks/data_table.ipynb>data table notebook</a>'\n",
              "            + ' to learn more about interactive tables.';\n",
              "          element.innerHTML = '';\n",
              "          dataTable['output_type'] = 'display_data';\n",
              "          await google.colab.output.renderOutput(dataTable, element);\n",
              "          const docLink = document.createElement('div');\n",
              "          docLink.innerHTML = docLinkHtml;\n",
              "          element.appendChild(docLink);\n",
              "        }\n",
              "      </script>\n",
              "    </div>\n",
              "  </div>\n",
              "  "
            ],
            "text/plain": [
              "  Quarters             Company Total Income From Operations  \\\n",
              "0  Mar '20  Procter and Gamble                       656.05   \n",
              "1  Dec '19  Procter and Gamble                       859.27   \n",
              "2  Sep '19  Procter and Gamble                       852.14   \n",
              "3  Jun '19  Procter and Gamble                       637.29   \n",
              "4  Mar '19  Procter and Gamble                       699.34   \n",
              "\n",
              "   Return on Equity Ratio  Price-Equity Ratio  Gross Margin  Profit Margin  \\\n",
              "0                   20.21              146.39          0.64           0.14   \n",
              "1                   26.47              103.92          0.65           0.16   \n",
              "2                   26.25              111.13          0.59           0.16   \n",
              "3                   19.63              219.22          0.55           0.10   \n",
              "4                   21.54              132.34          0.61           0.13   \n",
              "\n",
              "     EPS Time Interest Earned Ratio  EV/Net Operating Revenue  \\\n",
              "0  28.07                      52.39                     52.15   \n",
              "1  41.88                      82.25                     39.81   \n",
              "2  42.16                     504.83                     40.15   \n",
              "3  18.73                      15.27                     53.68   \n",
              "4  27.76                     258.37                     45.39   \n",
              "\n",
              "   Change in Inventory    CPI  Inflation  Closing Stock Price  \n",
              "0               -16.18  148.6      0.058              4109.05  \n",
              "1                21.20  150.4      0.074              4352.30  \n",
              "2                -8.62  145.8      0.040              4685.15  \n",
              "3               -25.40  142.9      0.032              4106.05  \n",
              "4                25.80  140.4      0.029              3673.65  "
            ]
          },
          "execution_count": 2,
          "metadata": {},
          "output_type": "execute_result"
        }
      ],
      "source": [
        "df = pd.read_csv('FMCG_20companies.csv')\n",
        "df.head()"
      ]
    },
    {
      "cell_type": "code",
      "execution_count": 3,
      "metadata": {
        "colab": {
          "base_uri": "https://localhost:8080/"
        },
        "id": "nHGufFzdM8db",
        "outputId": "77c0ec65-0168-4db8-a8db-747d30eb3cbd"
      },
      "outputs": [
        {
          "data": {
            "text/plain": [
              "(480, 14)"
            ]
          },
          "execution_count": 3,
          "metadata": {},
          "output_type": "execute_result"
        }
      ],
      "source": [
        "df.shape"
      ]
    },
    {
      "cell_type": "code",
      "execution_count": null,
      "metadata": {
        "colab": {
          "base_uri": "https://localhost:8080/"
        },
        "id": "zDxezWkcJRGL",
        "outputId": "e480738a-2fda-44be-f01b-372f46cec046"
      },
      "outputs": [
        {
          "name": "stdout",
          "output_type": "stream",
          "text": [
            "<class 'pandas.core.frame.DataFrame'>\n",
            "RangeIndex: 400 entries, 0 to 399\n",
            "Data columns (total 15 columns):\n",
            " #   Column                      Non-Null Count  Dtype  \n",
            "---  ------                      --------------  -----  \n",
            " 0   Quarters                    400 non-null    object \n",
            " 1   Company                     400 non-null    object \n",
            " 2   Return on Equity Ratio      400 non-null    float64\n",
            " 3   Price-Equity Ratio          400 non-null    float64\n",
            " 4   Gross Margin                400 non-null    float64\n",
            " 5   Profit Margin               400 non-null    float64\n",
            " 6   EPS                         400 non-null    float64\n",
            " 7   Time Interest Earned Ratio  359 non-null    float64\n",
            " 8   EV/Net Operating Revenue    400 non-null    float64\n",
            " 9   Change in Inventory         400 non-null    float64\n",
            " 10  CPI                         400 non-null    float64\n",
            " 11  Inflation                   400 non-null    float64\n",
            " 12  Closing Stock Price         400 non-null    float64\n",
            " 13  Month                       400 non-null    object \n",
            " 14  Year                        400 non-null    int64  \n",
            "dtypes: float64(11), int64(1), object(3)\n",
            "memory usage: 47.0+ KB\n"
          ]
        }
      ],
      "source": [
        "df.info()"
      ]
    },
    {
      "cell_type": "markdown",
      "metadata": {
        "id": "uPu6nSoao8An"
      },
      "source": [
        "## Train Test Split"
      ]
    },
    {
      "cell_type": "code",
      "execution_count": 7,
      "metadata": {
        "colab": {
          "base_uri": "https://localhost:8080/"
        },
        "id": "tjzLSTFmo_Cw",
        "outputId": "00bcda7c-6f60-4a08-c495-d1c4ce02b802"
      },
      "outputs": [
        {
          "data": {
            "text/plain": [
              "((400, 16), (80, 16))"
            ]
          },
          "execution_count": 7,
          "metadata": {},
          "output_type": "execute_result"
        }
      ],
      "source": [
        "df_test = df[df[\"Quarters\"].isin([\"Mar '20\",\"Dec '19\",\"Sep '19\",\"Jun '19\"])]\n",
        "df_train = df[~df['Quarters'].isin(df_test['Quarters'])]\n",
        "\n",
        "df_train.shape, df_test.shape"
      ]
    },
    {
      "cell_type": "code",
      "execution_count": 8,
      "metadata": {
        "colab": {
          "base_uri": "https://localhost:8080/"
        },
        "id": "cAoXwi-DKVFJ",
        "outputId": "4b19ea07-1f52-4ee6-8d67-ef32a375e1ec"
      },
      "outputs": [
        {
          "data": {
            "text/plain": [
              "((400, 15), (400,))"
            ]
          },
          "execution_count": 8,
          "metadata": {},
          "output_type": "execute_result"
        }
      ],
      "source": [
        "y_train = df_train[\"Closing Stock Price\"]\n",
        "X_train = df_train.drop(\"Closing Stock Price\",axis=1)\n",
        "X_train.shape, y_train.shape"
      ]
    },
    {
      "cell_type": "markdown",
      "metadata": {
        "id": "QlfHPVZb0qzL"
      },
      "source": [
        "## Preprocessing Function"
      ]
    },
    {
      "cell_type": "code",
      "execution_count": 9,
      "metadata": {
        "id": "P_JA7jiI0t3v"
      },
      "outputs": [],
      "source": [
        "def preprocessor(df):\n",
        "  df['Month'],df['Year'] = df['Quarters'].str.split().str\n",
        "  df['Year'] = df['Year'].str.replace(\"'\",\"\").astype(int)\n",
        "  print(\"Quarter column split in Month and Year\")\n",
        "  df.drop(\"Quarters\",axis=1,inplace=True)\n",
        "  print(\"Quarter column dropped from dataframe\")"
      ]
    },
    {
      "cell_type": "markdown",
      "metadata": {
        "id": "yypXcp0XMp5f"
      },
      "source": [
        "## Split Categorical and Numerical variables"
      ]
    },
    {
      "cell_type": "code",
      "execution_count": null,
      "metadata": {
        "colab": {
          "base_uri": "https://localhost:8080/"
        },
        "id": "G55VBQztMR1U",
        "outputId": "1035e014-7ece-400b-c64a-81ada1304828"
      },
      "outputs": [
        {
          "data": {
            "text/plain": [
              "['Price-Equity Ratio',\n",
              " 'Return on Equity Ratio',\n",
              " 'CPI',\n",
              " 'Time Interest Earned Ratio',\n",
              " 'Closing Stock Price',\n",
              " 'Change in Inventory',\n",
              " 'Inflation',\n",
              " 'Gross Margin',\n",
              " 'EPS',\n",
              " 'Profit Margin',\n",
              " 'EV/Net Operating Revenue']"
            ]
          },
          "execution_count": 14,
          "metadata": {},
          "output_type": "execute_result"
        }
      ],
      "source": [
        "all_cols = list(X_train.columns)\n",
        "cat_cols = list(X_train.select_dtypes(\"object\").columns)\n",
        "num_cols = list(set(all_cols)- set(cat_cols))\n",
        "num_cols"
      ]
    },
    {
      "cell_type": "markdown",
      "metadata": {
        "id": "vYYcRNcSOA1m"
      },
      "source": [
        "## One Hot Encoding for Categorical Variables"
      ]
    },
    {
      "cell_type": "code",
      "execution_count": null,
      "metadata": {
        "colab": {
          "base_uri": "https://localhost:8080/"
        },
        "id": "LyNPyYUPM0eO",
        "outputId": "c73b5115-59cd-42ea-c1d4-bf1a92a3201b"
      },
      "outputs": [
        {
          "data": {
            "text/plain": [
              "[array(['Britannia', 'CCL Products India Ltd.', 'Colgate Palmolive',\n",
              "        'Dabur India', 'Emami', 'Gillette India', 'Globus Spirits Ltd.',\n",
              "        'Godrej Consumer', 'HUL', 'Hatsun Agro', 'Heritage Foods', 'ITC',\n",
              "        'Jubiliant Foodworks', 'Marico', 'Nestle', 'Procter and Gamble',\n",
              "        'Tasty Bite Eatables', 'Tata Consumer Products',\n",
              "        'United Breweries Ltd.', 'United Spirits Ltd'], dtype=object),\n",
              " array(['Dec', 'Jun', 'Mar', 'Sep'], dtype=object)]"
            ]
          },
          "execution_count": 16,
          "metadata": {},
          "output_type": "execute_result"
        }
      ],
      "source": [
        "from sklearn.preprocessing import OneHotEncoder\n",
        "ohe_encoder = OneHotEncoder(handle_unknown='ignore')\n",
        "ohe_encoder.fit(X_train[cat_cols])\n",
        "ohe_encoder.categories_"
      ]
    },
    {
      "cell_type": "code",
      "execution_count": null,
      "metadata": {
        "colab": {
          "base_uri": "https://localhost:8080/"
        },
        "id": "QNYdqrxSQgDo",
        "outputId": "94931d7c-755b-4fa4-f6ec-561315bf65a9"
      },
      "outputs": [
        {
          "data": {
            "text/plain": [
              "['Company_Britannia',\n",
              " 'Company_CCL Products India Ltd.',\n",
              " 'Company_Colgate Palmolive',\n",
              " 'Company_Dabur India',\n",
              " 'Company_Emami',\n",
              " 'Company_Gillette India',\n",
              " 'Company_Globus Spirits Ltd.',\n",
              " 'Company_Godrej Consumer',\n",
              " 'Company_HUL',\n",
              " 'Company_Hatsun Agro',\n",
              " 'Company_Heritage Foods',\n",
              " 'Company_ITC',\n",
              " 'Company_Jubiliant Foodworks',\n",
              " 'Company_Marico',\n",
              " 'Company_Nestle',\n",
              " 'Company_Procter and Gamble',\n",
              " 'Company_Tasty Bite Eatables',\n",
              " 'Company_Tata Consumer Products',\n",
              " 'Company_United Breweries Ltd.',\n",
              " 'Company_United Spirits Ltd',\n",
              " 'Month_Dec',\n",
              " 'Month_Jun',\n",
              " 'Month_Mar',\n",
              " 'Month_Sep']"
            ]
          },
          "execution_count": 18,
          "metadata": {},
          "output_type": "execute_result"
        }
      ],
      "source": [
        "encoded_cat_names = list(ohe_encoder.get_feature_names(cat_cols))\n",
        "encoded_cat_names"
      ]
    },
    {
      "cell_type": "markdown",
      "metadata": {
        "id": "lkGCYRPAO9A5"
      },
      "source": [
        "## Standard Scaling for Numerical Variables"
      ]
    },
    {
      "cell_type": "code",
      "execution_count": null,
      "metadata": {
        "colab": {
          "base_uri": "https://localhost:8080/"
        },
        "id": "bREc_Jd1OY5h",
        "outputId": "e85f39e2-c63e-4a19-a29c-13c1fa1755e3"
      },
      "outputs": [
        {
          "data": {
            "text/plain": [
              "StandardScaler()"
            ]
          },
          "execution_count": 19,
          "metadata": {},
          "output_type": "execute_result"
        }
      ],
      "source": [
        "from sklearn.preprocessing import StandardScaler\n",
        "sc = StandardScaler()\n",
        "sc.fit(X_train[num_cols])"
      ]
    },
    {
      "cell_type": "code",
      "execution_count": null,
      "metadata": {
        "colab": {
          "base_uri": "https://localhost:8080/"
        },
        "id": "WkdkQOGwPEc8",
        "outputId": "9ae6713e-bf8e-4d31-e281-411b60910181"
      },
      "outputs": [
        {
          "data": {
            "text/plain": [
              "array(['Price-Equity Ratio', 'Return on Equity Ratio', 'CPI',\n",
              "       'Time Interest Earned Ratio', 'Closing Stock Price',\n",
              "       'Change in Inventory', 'Inflation', 'Gross Margin', 'EPS',\n",
              "       'Profit Margin', 'EV/Net Operating Revenue'], dtype=object)"
            ]
          },
          "execution_count": 20,
          "metadata": {},
          "output_type": "execute_result"
        }
      ],
      "source": [
        "sc.feature_names_in_"
      ]
    },
    {
      "cell_type": "markdown",
      "metadata": {
        "id": "MmSodx71RtEg"
      },
      "source": [
        "## Creating Column Transformer"
      ]
    },
    {
      "cell_type": "code",
      "execution_count": null,
      "metadata": {
        "id": "OElmwMf-Rafs"
      },
      "outputs": [],
      "source": [
        "from sklearn.compose import ColumnTransformer\n",
        "preprocessor = ColumnTransformer(transformers=[('',preprocessor,all_cols)\n",
        "    ('cat', ohe_encoder, cat_cols),\n",
        "                                               ('sc', sc, num_cols)],\n",
        "                                 remainder='passthrough')"
      ]
    },
    {
      "cell_type": "markdown",
      "metadata": {
        "id": "GeT1wpndSjBK"
      },
      "source": [
        "## Linear Models"
      ]
    },
    {
      "cell_type": "code",
      "execution_count": null,
      "metadata": {
        "id": "_xz67_3ESgcS"
      },
      "outputs": [],
      "source": [
        "from sklearn.linear_model import LinearRegression\n",
        "linear_reg = LinearRegression()"
      ]
    },
    {
      "cell_type": "markdown",
      "metadata": {
        "id": "zZy9F1geTMPJ"
      },
      "source": [
        "## Creating Pipeline"
      ]
    },
    {
      "cell_type": "code",
      "execution_count": null,
      "metadata": {
        "id": "K--rKSZcTHDN"
      },
      "outputs": [],
      "source": [
        "from sklearn.pipeline import Pipeline\n",
        "lreg_v1 = Pipeline(steps=[('preprocessor', preprocessor),\n",
        "                          ('regressor', linear_reg)],\n",
        "                   verbose=True)"
      ]
    },
    {
      "cell_type": "code",
      "execution_count": null,
      "metadata": {
        "colab": {
          "base_uri": "https://localhost:8080/",
          "height": 322
        },
        "id": "UIv9d2X-TaNg",
        "outputId": "1a96c714-e5fb-415b-8a25-7b4b6f75d28a"
      },
      "outputs": [
        {
          "ename": "ValueError",
          "evalue": "ignored",
          "output_type": "error",
          "traceback": [
            "\u001b[0;31m---------------------------------------------------------------------------\u001b[0m",
            "\u001b[0;31mValueError\u001b[0m                                Traceback (most recent call last)",
            "\u001b[0;32m<ipython-input-24-bbfe39873af4>\u001b[0m in \u001b[0;36m<module>\u001b[0;34m\u001b[0m\n\u001b[0;32m----> 1\u001b[0;31m \u001b[0mlreg_v1\u001b[0m\u001b[0;34m.\u001b[0m\u001b[0mfit\u001b[0m\u001b[0;34m(\u001b[0m\u001b[0mX\u001b[0m\u001b[0;34m,\u001b[0m \u001b[0my\u001b[0m\u001b[0;34m)\u001b[0m\u001b[0;34m\u001b[0m\u001b[0;34m\u001b[0m\u001b[0m\n\u001b[0m",
            "\u001b[0;32m/usr/local/lib/python3.7/dist-packages/sklearn/pipeline.py\u001b[0m in \u001b[0;36mfit\u001b[0;34m(self, X, y, **fit_params)\u001b[0m\n\u001b[1;32m    392\u001b[0m             \u001b[0;32mif\u001b[0m \u001b[0mself\u001b[0m\u001b[0;34m.\u001b[0m\u001b[0m_final_estimator\u001b[0m \u001b[0;34m!=\u001b[0m \u001b[0;34m\"passthrough\"\u001b[0m\u001b[0;34m:\u001b[0m\u001b[0;34m\u001b[0m\u001b[0;34m\u001b[0m\u001b[0m\n\u001b[1;32m    393\u001b[0m                 \u001b[0mfit_params_last_step\u001b[0m \u001b[0;34m=\u001b[0m \u001b[0mfit_params_steps\u001b[0m\u001b[0;34m[\u001b[0m\u001b[0mself\u001b[0m\u001b[0;34m.\u001b[0m\u001b[0msteps\u001b[0m\u001b[0;34m[\u001b[0m\u001b[0;34m-\u001b[0m\u001b[0;36m1\u001b[0m\u001b[0;34m]\u001b[0m\u001b[0;34m[\u001b[0m\u001b[0;36m0\u001b[0m\u001b[0;34m]\u001b[0m\u001b[0;34m]\u001b[0m\u001b[0;34m\u001b[0m\u001b[0;34m\u001b[0m\u001b[0m\n\u001b[0;32m--> 394\u001b[0;31m                 \u001b[0mself\u001b[0m\u001b[0;34m.\u001b[0m\u001b[0m_final_estimator\u001b[0m\u001b[0;34m.\u001b[0m\u001b[0mfit\u001b[0m\u001b[0;34m(\u001b[0m\u001b[0mXt\u001b[0m\u001b[0;34m,\u001b[0m \u001b[0my\u001b[0m\u001b[0;34m,\u001b[0m \u001b[0;34m**\u001b[0m\u001b[0mfit_params_last_step\u001b[0m\u001b[0;34m)\u001b[0m\u001b[0;34m\u001b[0m\u001b[0;34m\u001b[0m\u001b[0m\n\u001b[0m\u001b[1;32m    395\u001b[0m \u001b[0;34m\u001b[0m\u001b[0m\n\u001b[1;32m    396\u001b[0m         \u001b[0;32mreturn\u001b[0m \u001b[0mself\u001b[0m\u001b[0;34m\u001b[0m\u001b[0;34m\u001b[0m\u001b[0m\n",
            "\u001b[0;32m/usr/local/lib/python3.7/dist-packages/sklearn/linear_model/_base.py\u001b[0m in \u001b[0;36mfit\u001b[0;34m(self, X, y, sample_weight)\u001b[0m\n\u001b[1;32m    661\u001b[0m \u001b[0;34m\u001b[0m\u001b[0m\n\u001b[1;32m    662\u001b[0m         X, y = self._validate_data(\n\u001b[0;32m--> 663\u001b[0;31m             \u001b[0mX\u001b[0m\u001b[0;34m,\u001b[0m \u001b[0my\u001b[0m\u001b[0;34m,\u001b[0m \u001b[0maccept_sparse\u001b[0m\u001b[0;34m=\u001b[0m\u001b[0maccept_sparse\u001b[0m\u001b[0;34m,\u001b[0m \u001b[0my_numeric\u001b[0m\u001b[0;34m=\u001b[0m\u001b[0;32mTrue\u001b[0m\u001b[0;34m,\u001b[0m \u001b[0mmulti_output\u001b[0m\u001b[0;34m=\u001b[0m\u001b[0;32mTrue\u001b[0m\u001b[0;34m\u001b[0m\u001b[0;34m\u001b[0m\u001b[0m\n\u001b[0m\u001b[1;32m    664\u001b[0m         )\n\u001b[1;32m    665\u001b[0m \u001b[0;34m\u001b[0m\u001b[0m\n",
            "\u001b[0;32m/usr/local/lib/python3.7/dist-packages/sklearn/base.py\u001b[0m in \u001b[0;36m_validate_data\u001b[0;34m(self, X, y, reset, validate_separately, **check_params)\u001b[0m\n\u001b[1;32m    579\u001b[0m                 \u001b[0my\u001b[0m \u001b[0;34m=\u001b[0m \u001b[0mcheck_array\u001b[0m\u001b[0;34m(\u001b[0m\u001b[0my\u001b[0m\u001b[0;34m,\u001b[0m \u001b[0;34m**\u001b[0m\u001b[0mcheck_y_params\u001b[0m\u001b[0;34m)\u001b[0m\u001b[0;34m\u001b[0m\u001b[0;34m\u001b[0m\u001b[0m\n\u001b[1;32m    580\u001b[0m             \u001b[0;32melse\u001b[0m\u001b[0;34m:\u001b[0m\u001b[0;34m\u001b[0m\u001b[0;34m\u001b[0m\u001b[0m\n\u001b[0;32m--> 581\u001b[0;31m                 \u001b[0mX\u001b[0m\u001b[0;34m,\u001b[0m \u001b[0my\u001b[0m \u001b[0;34m=\u001b[0m \u001b[0mcheck_X_y\u001b[0m\u001b[0;34m(\u001b[0m\u001b[0mX\u001b[0m\u001b[0;34m,\u001b[0m \u001b[0my\u001b[0m\u001b[0;34m,\u001b[0m \u001b[0;34m**\u001b[0m\u001b[0mcheck_params\u001b[0m\u001b[0;34m)\u001b[0m\u001b[0;34m\u001b[0m\u001b[0;34m\u001b[0m\u001b[0m\n\u001b[0m\u001b[1;32m    582\u001b[0m             \u001b[0mout\u001b[0m \u001b[0;34m=\u001b[0m \u001b[0mX\u001b[0m\u001b[0;34m,\u001b[0m \u001b[0my\u001b[0m\u001b[0;34m\u001b[0m\u001b[0;34m\u001b[0m\u001b[0m\n\u001b[1;32m    583\u001b[0m \u001b[0;34m\u001b[0m\u001b[0m\n",
            "\u001b[0;32m/usr/local/lib/python3.7/dist-packages/sklearn/utils/validation.py\u001b[0m in \u001b[0;36mcheck_X_y\u001b[0;34m(X, y, accept_sparse, accept_large_sparse, dtype, order, copy, force_all_finite, ensure_2d, allow_nd, multi_output, ensure_min_samples, ensure_min_features, y_numeric, estimator)\u001b[0m\n\u001b[1;32m    974\u001b[0m         \u001b[0mensure_min_samples\u001b[0m\u001b[0;34m=\u001b[0m\u001b[0mensure_min_samples\u001b[0m\u001b[0;34m,\u001b[0m\u001b[0;34m\u001b[0m\u001b[0;34m\u001b[0m\u001b[0m\n\u001b[1;32m    975\u001b[0m         \u001b[0mensure_min_features\u001b[0m\u001b[0;34m=\u001b[0m\u001b[0mensure_min_features\u001b[0m\u001b[0;34m,\u001b[0m\u001b[0;34m\u001b[0m\u001b[0;34m\u001b[0m\u001b[0m\n\u001b[0;32m--> 976\u001b[0;31m         \u001b[0mestimator\u001b[0m\u001b[0;34m=\u001b[0m\u001b[0mestimator\u001b[0m\u001b[0;34m,\u001b[0m\u001b[0;34m\u001b[0m\u001b[0;34m\u001b[0m\u001b[0m\n\u001b[0m\u001b[1;32m    977\u001b[0m     )\n\u001b[1;32m    978\u001b[0m \u001b[0;34m\u001b[0m\u001b[0m\n",
            "\u001b[0;32m/usr/local/lib/python3.7/dist-packages/sklearn/utils/validation.py\u001b[0m in \u001b[0;36mcheck_array\u001b[0;34m(array, accept_sparse, accept_large_sparse, dtype, order, copy, force_all_finite, ensure_2d, allow_nd, ensure_min_samples, ensure_min_features, estimator)\u001b[0m\n\u001b[1;32m    798\u001b[0m \u001b[0;34m\u001b[0m\u001b[0m\n\u001b[1;32m    799\u001b[0m         \u001b[0;32mif\u001b[0m \u001b[0mforce_all_finite\u001b[0m\u001b[0;34m:\u001b[0m\u001b[0;34m\u001b[0m\u001b[0;34m\u001b[0m\u001b[0m\n\u001b[0;32m--> 800\u001b[0;31m             \u001b[0m_assert_all_finite\u001b[0m\u001b[0;34m(\u001b[0m\u001b[0marray\u001b[0m\u001b[0;34m,\u001b[0m \u001b[0mallow_nan\u001b[0m\u001b[0;34m=\u001b[0m\u001b[0mforce_all_finite\u001b[0m \u001b[0;34m==\u001b[0m \u001b[0;34m\"allow-nan\"\u001b[0m\u001b[0;34m)\u001b[0m\u001b[0;34m\u001b[0m\u001b[0;34m\u001b[0m\u001b[0m\n\u001b[0m\u001b[1;32m    801\u001b[0m \u001b[0;34m\u001b[0m\u001b[0m\n\u001b[1;32m    802\u001b[0m     \u001b[0;32mif\u001b[0m \u001b[0mensure_min_samples\u001b[0m \u001b[0;34m>\u001b[0m \u001b[0;36m0\u001b[0m\u001b[0;34m:\u001b[0m\u001b[0;34m\u001b[0m\u001b[0;34m\u001b[0m\u001b[0m\n",
            "\u001b[0;32m/usr/local/lib/python3.7/dist-packages/sklearn/utils/validation.py\u001b[0m in \u001b[0;36m_assert_all_finite\u001b[0;34m(X, allow_nan, msg_dtype)\u001b[0m\n\u001b[1;32m    114\u001b[0m             raise ValueError(\n\u001b[1;32m    115\u001b[0m                 msg_err.format(\n\u001b[0;32m--> 116\u001b[0;31m                     \u001b[0mtype_err\u001b[0m\u001b[0;34m,\u001b[0m \u001b[0mmsg_dtype\u001b[0m \u001b[0;32mif\u001b[0m \u001b[0mmsg_dtype\u001b[0m \u001b[0;32mis\u001b[0m \u001b[0;32mnot\u001b[0m \u001b[0;32mNone\u001b[0m \u001b[0;32melse\u001b[0m \u001b[0mX\u001b[0m\u001b[0;34m.\u001b[0m\u001b[0mdtype\u001b[0m\u001b[0;34m\u001b[0m\u001b[0;34m\u001b[0m\u001b[0m\n\u001b[0m\u001b[1;32m    117\u001b[0m                 )\n\u001b[1;32m    118\u001b[0m             )\n",
            "\u001b[0;31mValueError\u001b[0m: Input contains NaN, infinity or a value too large for dtype('float64')."
          ]
        }
      ],
      "source": [
        "lreg_v1.fit(X_train, y_train)"
      ]
    },
    {
      "cell_type": "code",
      "execution_count": null,
      "metadata": {
        "id": "Xw9GM4a5Tcqc"
      },
      "outputs": [],
      "source": []
    }
  ],
  "metadata": {
    "colab": {
      "authorship_tag": "ABX9TyMxp6vl32pDB20BEF1+LM5x",
      "include_colab_link": true,
      "mount_file_id": "1cnHoXL2fiaxkLWXAseUOTb_XOcZ6Npot",
      "name": "MLSL1_FMCG_SharePricePrediction_Trial1.ipynb",
      "provenance": []
    },
    "kernelspec": {
      "display_name": "Python 3",
      "name": "python3"
    },
    "language_info": {
      "name": "python"
    }
  },
  "nbformat": 4,
  "nbformat_minor": 0
}
