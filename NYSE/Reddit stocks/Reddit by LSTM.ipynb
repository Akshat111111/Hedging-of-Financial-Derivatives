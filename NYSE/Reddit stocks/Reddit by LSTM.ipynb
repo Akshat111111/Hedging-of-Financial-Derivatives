{
 "cells": [
  {
   "cell_type": "markdown",
   "id": "10aa62ad",
   "metadata": {
    "_kg_hide-output": true,
    "papermill": {
     "duration": 0.007239,
     "end_time": "2024-05-30T15:39:49.831700",
     "exception": false,
     "start_time": "2024-05-30T15:39:49.824461",
     "status": "completed"
    },
    "tags": []
   },
   "source": [
    "# Reddit Stock Prediction - LSTM\n",
    "\n"
   ]
  },
  {
   "cell_type": "code",
   "execution_count": 1,
   "id": "59111c23",
   "metadata": {
    "_cell_guid": "b1076dfc-b9ad-4769-8c92-a6c4dae69d19",
    "_kg_hide-output": true,
    "_uuid": "8f2839f25d086af736a60e9eeb907d3b93b6e0e5",
    "execution": {
     "iopub.execute_input": "2024-05-30T15:39:49.859978Z",
     "iopub.status.busy": "2024-05-30T15:39:49.859234Z",
     "iopub.status.idle": "2024-05-30T15:40:02.511494Z",
     "shell.execute_reply": "2024-05-30T15:40:02.510665Z"
    },
    "papermill": {
     "duration": 12.662365,
     "end_time": "2024-05-30T15:40:02.513835",
     "exception": false,
     "start_time": "2024-05-30T15:39:49.851470",
     "status": "completed"
    },
    "tags": []
   },
   "outputs": [],
   "source": [
    "import os\n",
    "import numpy as np\n",
    "import pandas as pd\n",
    "import matplotlib.pyplot as plt\n",
    "from keras.models import Sequential\n",
    "from keras.layers import Dense\n",
    "from keras.layers import LSTM\n",
    "from keras.layers import Dropout\n",
    "from sklearn.preprocessing import MinMaxScaler"
   ]
  },
  {
   "cell_type": "code",
   "execution_count": 2,
   "id": "fb4999ec",
   "metadata": {
    "_kg_hide-output": true,
    "_uuid": "9de88d689da1a279477470f6cef999c0a45bf98a",
    "execution": {
     "iopub.execute_input": "2024-05-30T15:40:02.543056Z",
     "iopub.status.busy": "2024-05-30T15:40:02.542482Z",
     "iopub.status.idle": "2024-05-30T15:40:02.584817Z",
     "shell.execute_reply": "2024-05-30T15:40:02.583916Z"
    },
    "papermill": {
     "duration": 0.052249,
     "end_time": "2024-05-30T15:40:02.586967",
     "exception": false,
     "start_time": "2024-05-30T15:40:02.534718",
     "status": "completed"
    },
    "tags": []
   },
   "outputs": [
    {
     "data": {
      "text/html": [
       "<div>\n",
       "<style scoped>\n",
       "    .dataframe tbody tr th:only-of-type {\n",
       "        vertical-align: middle;\n",
       "    }\n",
       "\n",
       "    .dataframe tbody tr th {\n",
       "        vertical-align: top;\n",
       "    }\n",
       "\n",
       "    .dataframe thead th {\n",
       "        text-align: right;\n",
       "    }\n",
       "</style>\n",
       "<table border=\"1\" class=\"dataframe\">\n",
       "  <thead>\n",
       "    <tr style=\"text-align: right;\">\n",
       "      <th></th>\n",
       "      <th>title</th>\n",
       "      <th>score</th>\n",
       "      <th>id</th>\n",
       "      <th>url</th>\n",
       "      <th>comms_num</th>\n",
       "      <th>created</th>\n",
       "      <th>body</th>\n",
       "      <th>timestamp</th>\n",
       "    </tr>\n",
       "  </thead>\n",
       "  <tbody>\n",
       "    <tr>\n",
       "      <th>0</th>\n",
       "      <td>Toyota Chief Says ‘Silent Majority’ Has Doubts...</td>\n",
       "      <td>48</td>\n",
       "      <td>zpgxoj</td>\n",
       "      <td>https://www.reddit.com/r/stocks/comments/zpgxo...</td>\n",
       "      <td>21</td>\n",
       "      <td>1.671421e+09</td>\n",
       "      <td>BURIRAM, Thailand—Toyota Motor Corp. TM -0.87%...</td>\n",
       "      <td>2022-12-19 05:41:09</td>\n",
       "    </tr>\n",
       "    <tr>\n",
       "      <th>1</th>\n",
       "      <td>WSJ: Retail/small investors dive into markets ...</td>\n",
       "      <td>5</td>\n",
       "      <td>zpgvhy</td>\n",
       "      <td>https://www.reddit.com/r/stocks/comments/zpgvh...</td>\n",
       "      <td>4</td>\n",
       "      <td>1.671421e+09</td>\n",
       "      <td>During the wildest year for global markets sin...</td>\n",
       "      <td>2022-12-19 05:38:12</td>\n",
       "    </tr>\n",
       "    <tr>\n",
       "      <th>2</th>\n",
       "      <td>Should Elon Musk continue as head of Twitter?</td>\n",
       "      <td>1</td>\n",
       "      <td>zpg589</td>\n",
       "      <td>https://www.reddit.com/r/stocks/comments/zpg58...</td>\n",
       "      <td>50</td>\n",
       "      <td>1.671419e+09</td>\n",
       "      <td>Musk launched a poll on Twitter \"Should I step...</td>\n",
       "      <td>2022-12-19 05:02:22</td>\n",
       "    </tr>\n",
       "    <tr>\n",
       "      <th>3</th>\n",
       "      <td>Net Income vs Net Margin</td>\n",
       "      <td>7</td>\n",
       "      <td>zpfrun</td>\n",
       "      <td>https://www.reddit.com/r/stocks/comments/zpfru...</td>\n",
       "      <td>6</td>\n",
       "      <td>1.671418e+09</td>\n",
       "      <td>I ran across a successful hedge fund manager w...</td>\n",
       "      <td>2022-12-19 04:44:43</td>\n",
       "    </tr>\n",
       "    <tr>\n",
       "      <th>4</th>\n",
       "      <td>Impact of fed funds rate at 5%</td>\n",
       "      <td>54</td>\n",
       "      <td>zpckrj</td>\n",
       "      <td>https://www.reddit.com/r/stocks/comments/zpckr...</td>\n",
       "      <td>30</td>\n",
       "      <td>1.671409e+09</td>\n",
       "      <td>What is the impact of the terminal rate sittin...</td>\n",
       "      <td>2022-12-19 02:11:54</td>\n",
       "    </tr>\n",
       "    <tr>\n",
       "      <th>...</th>\n",
       "      <td>...</td>\n",
       "      <td>...</td>\n",
       "      <td>...</td>\n",
       "      <td>...</td>\n",
       "      <td>...</td>\n",
       "      <td>...</td>\n",
       "      <td>...</td>\n",
       "      <td>...</td>\n",
       "    </tr>\n",
       "    <tr>\n",
       "      <th>1738</th>\n",
       "      <td>Comment</td>\n",
       "      <td>1</td>\n",
       "      <td>j0px81c</td>\n",
       "      <td>NaN</td>\n",
       "      <td>0</td>\n",
       "      <td>1.671377e+09</td>\n",
       "      <td>VOO and VTI produce exactly the same returns ....</td>\n",
       "      <td>2022-12-18 17:30:39</td>\n",
       "    </tr>\n",
       "    <tr>\n",
       "      <th>1739</th>\n",
       "      <td>Comment</td>\n",
       "      <td>2</td>\n",
       "      <td>j0px80v</td>\n",
       "      <td>NaN</td>\n",
       "      <td>0</td>\n",
       "      <td>1.671377e+09</td>\n",
       "      <td>So what keep buying. People who buy when the s...</td>\n",
       "      <td>2022-12-18 17:30:38</td>\n",
       "    </tr>\n",
       "    <tr>\n",
       "      <th>1740</th>\n",
       "      <td>Comment</td>\n",
       "      <td>1</td>\n",
       "      <td>j0px5tb</td>\n",
       "      <td>NaN</td>\n",
       "      <td>0</td>\n",
       "      <td>1.671377e+09</td>\n",
       "      <td>The market always recovers.</td>\n",
       "      <td>2022-12-18 17:30:11</td>\n",
       "    </tr>\n",
       "    <tr>\n",
       "      <th>1741</th>\n",
       "      <td>Comment</td>\n",
       "      <td>1</td>\n",
       "      <td>j0px58t</td>\n",
       "      <td>NaN</td>\n",
       "      <td>0</td>\n",
       "      <td>1.671377e+09</td>\n",
       "      <td>There absolutely is something wrong with indiv...</td>\n",
       "      <td>2022-12-18 17:30:04</td>\n",
       "    </tr>\n",
       "    <tr>\n",
       "      <th>1742</th>\n",
       "      <td>Comment</td>\n",
       "      <td>1</td>\n",
       "      <td>j0px52v</td>\n",
       "      <td>NaN</td>\n",
       "      <td>0</td>\n",
       "      <td>1.671377e+09</td>\n",
       "      <td>Never never never put all of your eggs in one ...</td>\n",
       "      <td>2022-12-18 17:30:02</td>\n",
       "    </tr>\n",
       "  </tbody>\n",
       "</table>\n",
       "<p>1743 rows × 8 columns</p>\n",
       "</div>"
      ],
      "text/plain": [
       "                                                  title  score       id  \\\n",
       "0     Toyota Chief Says ‘Silent Majority’ Has Doubts...     48   zpgxoj   \n",
       "1     WSJ: Retail/small investors dive into markets ...      5   zpgvhy   \n",
       "2         Should Elon Musk continue as head of Twitter?      1   zpg589   \n",
       "3                              Net Income vs Net Margin      7   zpfrun   \n",
       "4                        Impact of fed funds rate at 5%     54   zpckrj   \n",
       "...                                                 ...    ...      ...   \n",
       "1738                                            Comment      1  j0px81c   \n",
       "1739                                            Comment      2  j0px80v   \n",
       "1740                                            Comment      1  j0px5tb   \n",
       "1741                                            Comment      1  j0px58t   \n",
       "1742                                            Comment      1  j0px52v   \n",
       "\n",
       "                                                    url  comms_num  \\\n",
       "0     https://www.reddit.com/r/stocks/comments/zpgxo...         21   \n",
       "1     https://www.reddit.com/r/stocks/comments/zpgvh...          4   \n",
       "2     https://www.reddit.com/r/stocks/comments/zpg58...         50   \n",
       "3     https://www.reddit.com/r/stocks/comments/zpfru...          6   \n",
       "4     https://www.reddit.com/r/stocks/comments/zpckr...         30   \n",
       "...                                                 ...        ...   \n",
       "1738                                                NaN          0   \n",
       "1739                                                NaN          0   \n",
       "1740                                                NaN          0   \n",
       "1741                                                NaN          0   \n",
       "1742                                                NaN          0   \n",
       "\n",
       "           created                                               body  \\\n",
       "0     1.671421e+09  BURIRAM, Thailand—Toyota Motor Corp. TM -0.87%...   \n",
       "1     1.671421e+09  During the wildest year for global markets sin...   \n",
       "2     1.671419e+09  Musk launched a poll on Twitter \"Should I step...   \n",
       "3     1.671418e+09  I ran across a successful hedge fund manager w...   \n",
       "4     1.671409e+09  What is the impact of the terminal rate sittin...   \n",
       "...            ...                                                ...   \n",
       "1738  1.671377e+09  VOO and VTI produce exactly the same returns ....   \n",
       "1739  1.671377e+09  So what keep buying. People who buy when the s...   \n",
       "1740  1.671377e+09                        The market always recovers.   \n",
       "1741  1.671377e+09  There absolutely is something wrong with indiv...   \n",
       "1742  1.671377e+09  Never never never put all of your eggs in one ...   \n",
       "\n",
       "                timestamp  \n",
       "0     2022-12-19 05:41:09  \n",
       "1     2022-12-19 05:38:12  \n",
       "2     2022-12-19 05:02:22  \n",
       "3     2022-12-19 04:44:43  \n",
       "4     2022-12-19 02:11:54  \n",
       "...                   ...  \n",
       "1738  2022-12-18 17:30:39  \n",
       "1739  2022-12-18 17:30:38  \n",
       "1740  2022-12-18 17:30:11  \n",
       "1741  2022-12-18 17:30:04  \n",
       "1742  2022-12-18 17:30:02  \n",
       "\n",
       "[1743 rows x 8 columns]"
      ]
     },
     "metadata": {},
     "output_type": "display_data"
    }
   ],
   "source": [
    "dataset=pd.read_csv(\"Stocks.csv\")\n",
    "display(dataset)"
   ]
  },
  {
   "cell_type": "code",
   "execution_count": 5,
   "id": "b904b654",
   "metadata": {
    "execution": {
     "iopub.execute_input": "2024-05-30T15:40:02.602979Z",
     "iopub.status.busy": "2024-05-30T15:40:02.602733Z",
     "iopub.status.idle": "2024-05-30T15:40:02.624846Z",
     "shell.execute_reply": "2024-05-30T15:40:02.624057Z"
    },
    "papermill": {
     "duration": 0.032102,
     "end_time": "2024-05-30T15:40:02.626758",
     "exception": false,
     "start_time": "2024-05-30T15:40:02.594656",
     "status": "completed"
    },
    "tags": []
   },
   "outputs": [
    {
     "data": {
      "text/html": [
       "<div>\n",
       "<style scoped>\n",
       "    .dataframe tbody tr th:only-of-type {\n",
       "        vertical-align: middle;\n",
       "    }\n",
       "\n",
       "    .dataframe tbody tr th {\n",
       "        vertical-align: top;\n",
       "    }\n",
       "\n",
       "    .dataframe thead th {\n",
       "        text-align: right;\n",
       "    }\n",
       "</style>\n",
       "<table border=\"1\" class=\"dataframe\">\n",
       "  <thead>\n",
       "    <tr style=\"text-align: right;\">\n",
       "      <th></th>\n",
       "      <th>title</th>\n",
       "      <th>score</th>\n",
       "      <th>id</th>\n",
       "      <th>url</th>\n",
       "      <th>comms_num</th>\n",
       "      <th>created</th>\n",
       "      <th>body</th>\n",
       "      <th>timestamp</th>\n",
       "    </tr>\n",
       "  </thead>\n",
       "  <tbody>\n",
       "    <tr>\n",
       "      <th>0</th>\n",
       "      <td>Are there any stock screeners that show stocks...</td>\n",
       "      <td>16</td>\n",
       "      <td>yosroh</td>\n",
       "      <td>https://www.reddit.com/r/stocks/comments/yosro...</td>\n",
       "      <td>7</td>\n",
       "      <td>1970-01-01 00:00:01.667839790</td>\n",
       "      <td>Hi everyone, is there any stock screener that ...</td>\n",
       "      <td>2022-11-07 18:49:50</td>\n",
       "    </tr>\n",
       "    <tr>\n",
       "      <th>1</th>\n",
       "      <td>US Mid Term Elections - What are your plays on...</td>\n",
       "      <td>29</td>\n",
       "      <td>yovpcz</td>\n",
       "      <td>https://www.reddit.com/r/stocks/comments/yovpc...</td>\n",
       "      <td>103</td>\n",
       "      <td>1970-01-01 00:00:01.667845713</td>\n",
       "      <td>Hi there \\n\\n&amp;#x200B;\\n\\ni would like to know ...</td>\n",
       "      <td>2022-11-07 20:28:33</td>\n",
       "    </tr>\n",
       "    <tr>\n",
       "      <th>2</th>\n",
       "      <td>Cathie Wood's Latest Take on Future of EV Cars...</td>\n",
       "      <td>190</td>\n",
       "      <td>yoxs3o</td>\n",
       "      <td>https://www.reddit.com/r/stocks/comments/yoxs3...</td>\n",
       "      <td>140</td>\n",
       "      <td>1970-01-01 00:00:01.667849817</td>\n",
       "      <td>From ARK Invest's latest newsletter:  \\n\\n*Du...</td>\n",
       "      <td>2022-11-07 21:36:57</td>\n",
       "    </tr>\n",
       "    <tr>\n",
       "      <th>3</th>\n",
       "      <td>Besides the cost is there any reason I shouldn...</td>\n",
       "      <td>70</td>\n",
       "      <td>yp2ikf</td>\n",
       "      <td>https://www.reddit.com/r/stocks/comments/yp2ik...</td>\n",
       "      <td>177</td>\n",
       "      <td>1970-01-01 00:00:01.667859503</td>\n",
       "      <td>Basically my idiot alcoholic father got me to ...</td>\n",
       "      <td>2022-11-08 00:18:23</td>\n",
       "    </tr>\n",
       "    <tr>\n",
       "      <th>4</th>\n",
       "      <td>How to look at historical information on a stock?</td>\n",
       "      <td>11</td>\n",
       "      <td>yp4hxb</td>\n",
       "      <td>https://www.reddit.com/r/stocks/comments/yp4hx...</td>\n",
       "      <td>4</td>\n",
       "      <td>1970-01-01 00:00:01.667863547</td>\n",
       "      <td>I need to put the past 30 quarters of revenue ...</td>\n",
       "      <td>2022-11-08 01:25:47</td>\n",
       "    </tr>\n",
       "    <tr>\n",
       "      <th>...</th>\n",
       "      <td>...</td>\n",
       "      <td>...</td>\n",
       "      <td>...</td>\n",
       "      <td>...</td>\n",
       "      <td>...</td>\n",
       "      <td>...</td>\n",
       "      <td>...</td>\n",
       "      <td>...</td>\n",
       "    </tr>\n",
       "    <tr>\n",
       "      <th>1738</th>\n",
       "      <td>Comment</td>\n",
       "      <td>1</td>\n",
       "      <td>j0t09eg</td>\n",
       "      <td>NaN</td>\n",
       "      <td>0</td>\n",
       "      <td>1970-01-01 00:00:01.671424530</td>\n",
       "      <td>Ah I see my previous point mixed up CapEX and ...</td>\n",
       "      <td>2022-12-19 06:35:30</td>\n",
       "    </tr>\n",
       "    <tr>\n",
       "      <th>1739</th>\n",
       "      <td>Comment</td>\n",
       "      <td>1</td>\n",
       "      <td>j0t0c54</td>\n",
       "      <td>NaN</td>\n",
       "      <td>0</td>\n",
       "      <td>1970-01-01 00:00:01.671424569</td>\n",
       "      <td>Within the next 25 years? 100% it would be. It...</td>\n",
       "      <td>2022-12-19 06:36:09</td>\n",
       "    </tr>\n",
       "    <tr>\n",
       "      <th>1740</th>\n",
       "      <td>Comment</td>\n",
       "      <td>1</td>\n",
       "      <td>j0t0j1i</td>\n",
       "      <td>NaN</td>\n",
       "      <td>0</td>\n",
       "      <td>1970-01-01 00:00:01.671424671</td>\n",
       "      <td>We will never have the infrastructure for it</td>\n",
       "      <td>2022-12-19 06:37:51</td>\n",
       "    </tr>\n",
       "    <tr>\n",
       "      <th>1741</th>\n",
       "      <td>Comment</td>\n",
       "      <td>1</td>\n",
       "      <td>j0t0l5j</td>\n",
       "      <td>NaN</td>\n",
       "      <td>0</td>\n",
       "      <td>1970-01-01 00:00:01.671424702</td>\n",
       "      <td>My major issue with ABNB has been their exorbi...</td>\n",
       "      <td>2022-12-19 06:38:22</td>\n",
       "    </tr>\n",
       "    <tr>\n",
       "      <th>1742</th>\n",
       "      <td>Comment</td>\n",
       "      <td>1</td>\n",
       "      <td>j0t0lmt</td>\n",
       "      <td>NaN</td>\n",
       "      <td>0</td>\n",
       "      <td>1970-01-01 00:00:01.671424709</td>\n",
       "      <td>Yes, but what is not is that TINA is dead. Hig...</td>\n",
       "      <td>2022-12-19 06:38:29</td>\n",
       "    </tr>\n",
       "  </tbody>\n",
       "</table>\n",
       "<p>1743 rows × 8 columns</p>\n",
       "</div>"
      ],
      "text/plain": [
       "                                                  title  score       id  \\\n",
       "0     Are there any stock screeners that show stocks...     16   yosroh   \n",
       "1     US Mid Term Elections - What are your plays on...     29   yovpcz   \n",
       "2     Cathie Wood's Latest Take on Future of EV Cars...    190   yoxs3o   \n",
       "3     Besides the cost is there any reason I shouldn...     70   yp2ikf   \n",
       "4     How to look at historical information on a stock?     11   yp4hxb   \n",
       "...                                                 ...    ...      ...   \n",
       "1738                                            Comment      1  j0t09eg   \n",
       "1739                                            Comment      1  j0t0c54   \n",
       "1740                                            Comment      1  j0t0j1i   \n",
       "1741                                            Comment      1  j0t0l5j   \n",
       "1742                                            Comment      1  j0t0lmt   \n",
       "\n",
       "                                                    url  comms_num  \\\n",
       "0     https://www.reddit.com/r/stocks/comments/yosro...          7   \n",
       "1     https://www.reddit.com/r/stocks/comments/yovpc...        103   \n",
       "2     https://www.reddit.com/r/stocks/comments/yoxs3...        140   \n",
       "3     https://www.reddit.com/r/stocks/comments/yp2ik...        177   \n",
       "4     https://www.reddit.com/r/stocks/comments/yp4hx...          4   \n",
       "...                                                 ...        ...   \n",
       "1738                                                NaN          0   \n",
       "1739                                                NaN          0   \n",
       "1740                                                NaN          0   \n",
       "1741                                                NaN          0   \n",
       "1742                                                NaN          0   \n",
       "\n",
       "                           created  \\\n",
       "0    1970-01-01 00:00:01.667839790   \n",
       "1    1970-01-01 00:00:01.667845713   \n",
       "2    1970-01-01 00:00:01.667849817   \n",
       "3    1970-01-01 00:00:01.667859503   \n",
       "4    1970-01-01 00:00:01.667863547   \n",
       "...                            ...   \n",
       "1738 1970-01-01 00:00:01.671424530   \n",
       "1739 1970-01-01 00:00:01.671424569   \n",
       "1740 1970-01-01 00:00:01.671424671   \n",
       "1741 1970-01-01 00:00:01.671424702   \n",
       "1742 1970-01-01 00:00:01.671424709   \n",
       "\n",
       "                                                   body            timestamp  \n",
       "0     Hi everyone, is there any stock screener that ...  2022-11-07 18:49:50  \n",
       "1     Hi there \\n\\n&#x200B;\\n\\ni would like to know ...  2022-11-07 20:28:33  \n",
       "2      From ARK Invest's latest newsletter:  \\n\\n*Du...  2022-11-07 21:36:57  \n",
       "3     Basically my idiot alcoholic father got me to ...  2022-11-08 00:18:23  \n",
       "4     I need to put the past 30 quarters of revenue ...  2022-11-08 01:25:47  \n",
       "...                                                 ...                  ...  \n",
       "1738  Ah I see my previous point mixed up CapEX and ...  2022-12-19 06:35:30  \n",
       "1739  Within the next 25 years? 100% it would be. It...  2022-12-19 06:36:09  \n",
       "1740       We will never have the infrastructure for it  2022-12-19 06:37:51  \n",
       "1741  My major issue with ABNB has been their exorbi...  2022-12-19 06:38:22  \n",
       "1742  Yes, but what is not is that TINA is dead. Hig...  2022-12-19 06:38:29  \n",
       "\n",
       "[1743 rows x 8 columns]"
      ]
     },
     "metadata": {},
     "output_type": "display_data"
    }
   ],
   "source": [
    "dataset['created']=pd.to_datetime(dataset['created'])\n",
    "dataset=dataset.sort_values('created',ascending=True).reset_index(drop=True)\n",
    "#dataset['Date']=dataset['Date'].astype(str)\n",
    "display(dataset)"
   ]
  },
  {
   "cell_type": "code",
   "execution_count": 6,
   "id": "7a1d8576",
   "metadata": {
    "_uuid": "99cca4c05240bd82c4492c6c3c200925c5c096e5",
    "execution": {
     "iopub.execute_input": "2024-05-30T15:40:02.643344Z",
     "iopub.status.busy": "2024-05-30T15:40:02.643075Z",
     "iopub.status.idle": "2024-05-30T15:40:02.648066Z",
     "shell.execute_reply": "2024-05-30T15:40:02.647199Z"
    },
    "papermill": {
     "duration": 0.015127,
     "end_time": "2024-05-30T15:40:02.649865",
     "exception": false,
     "start_time": "2024-05-30T15:40:02.634738",
     "status": "completed"
    },
    "tags": []
   },
   "outputs": [],
   "source": [
    "trainset=dataset.iloc[-1000:-100,1:2].values #Open\n",
    "testset=dataset.iloc[-100:,1:2].values #Open \n",
    "real_stock_price = testset.copy()"
   ]
  },
  {
   "cell_type": "code",
   "execution_count": 7,
   "id": "8beae7ae",
   "metadata": {
    "_uuid": "1abc6fe47fb5c4443767a2e2053cf9999c8a9a5c",
    "execution": {
     "iopub.execute_input": "2024-05-30T15:40:02.682140Z",
     "iopub.status.busy": "2024-05-30T15:40:02.681516Z",
     "iopub.status.idle": "2024-05-30T15:40:02.687744Z",
     "shell.execute_reply": "2024-05-30T15:40:02.686822Z"
    },
    "papermill": {
     "duration": 0.016649,
     "end_time": "2024-05-30T15:40:02.689856",
     "exception": false,
     "start_time": "2024-05-30T15:40:02.673207",
     "status": "completed"
    },
    "tags": []
   },
   "outputs": [
    {
     "name": "stdout",
     "output_type": "stream",
     "text": [
      "[[0.01627907]\n",
      " [0.03197674]\n",
      " [0.0122093 ]\n",
      " [0.11802326]\n",
      " [0.01802326]]\n",
      "900\n"
     ]
    }
   ],
   "source": [
    "sc = MinMaxScaler(feature_range = (0,1))\n",
    "training_scaled = sc.fit_transform(trainset)\n",
    "print(training_scaled[0:5])\n",
    "print(len(training_scaled))"
   ]
  },
  {
   "cell_type": "code",
   "execution_count": 8,
   "id": "e27fae4c",
   "metadata": {
    "_uuid": "d0d549e9a4af9ab516c3304fb44d650a815dcedc",
    "execution": {
     "iopub.execute_input": "2024-05-30T15:40:02.706979Z",
     "iopub.status.busy": "2024-05-30T15:40:02.706741Z",
     "iopub.status.idle": "2024-05-30T15:40:02.710325Z",
     "shell.execute_reply": "2024-05-30T15:40:02.709473Z"
    },
    "papermill": {
     "duration": 0.014132,
     "end_time": "2024-05-30T15:40:02.712229",
     "exception": false,
     "start_time": "2024-05-30T15:40:02.698097",
     "status": "completed"
    },
    "tags": []
   },
   "outputs": [],
   "source": [
    "x_train = []\n",
    "y_train = []"
   ]
  },
  {
   "cell_type": "code",
   "execution_count": 9,
   "id": "d2d3f2f3",
   "metadata": {
    "_uuid": "4c4f8ba0c635e7da0ba1bc52abf0a42068acdc89",
    "execution": {
     "iopub.execute_input": "2024-05-30T15:40:02.744586Z",
     "iopub.status.busy": "2024-05-30T15:40:02.743917Z",
     "iopub.status.idle": "2024-05-30T15:40:02.750575Z",
     "shell.execute_reply": "2024-05-30T15:40:02.749753Z"
    },
    "papermill": {
     "duration": 0.017017,
     "end_time": "2024-05-30T15:40:02.752512",
     "exception": false,
     "start_time": "2024-05-30T15:40:02.735495",
     "status": "completed"
    },
    "tags": []
   },
   "outputs": [
    {
     "name": "stdout",
     "output_type": "stream",
     "text": [
      "(840, 60) (840,)\n"
     ]
    }
   ],
   "source": [
    "for i in range(60,len(training_scaled)):\n",
    "    x_train.append(training_scaled[i-60:i, 0])\n",
    "    y_train.append(training_scaled[i,0])\n",
    "x_train,y_train = np.array(x_train),np.array(y_train)\n",
    "print(x_train.shape,y_train.shape)"
   ]
  },
  {
   "cell_type": "code",
   "execution_count": 10,
   "id": "3fe1f380",
   "metadata": {
    "_uuid": "316c5775b5c0a984b432f138792d2c0e9a484491",
    "execution": {
     "iopub.execute_input": "2024-05-30T15:40:02.784806Z",
     "iopub.status.busy": "2024-05-30T15:40:02.784541Z",
     "iopub.status.idle": "2024-05-30T15:40:02.789019Z",
     "shell.execute_reply": "2024-05-30T15:40:02.788206Z"
    },
    "papermill": {
     "duration": 0.014923,
     "end_time": "2024-05-30T15:40:02.790963",
     "exception": false,
     "start_time": "2024-05-30T15:40:02.776040",
     "status": "completed"
    },
    "tags": []
   },
   "outputs": [
    {
     "name": "stdout",
     "output_type": "stream",
     "text": [
      "(samples, time steps, features) = (840, 60, 1)\n"
     ]
    }
   ],
   "source": [
    "x_train = np.reshape(x_train, (x_train.shape[0],x_train.shape[1],1))\n",
    "print('(samples, time steps, features) =',x_train.shape)"
   ]
  },
  {
   "cell_type": "code",
   "execution_count": 11,
   "id": "2beb16da",
   "metadata": {
    "_uuid": "ed24d733423254641f134c0e84f44a8ce175589f",
    "execution": {
     "iopub.execute_input": "2024-05-30T15:40:02.807891Z",
     "iopub.status.busy": "2024-05-30T15:40:02.807627Z",
     "iopub.status.idle": "2024-05-30T15:40:04.002484Z",
     "shell.execute_reply": "2024-05-30T15:40:04.001714Z"
    },
    "papermill": {
     "duration": 1.205862,
     "end_time": "2024-05-30T15:40:04.004829",
     "exception": false,
     "start_time": "2024-05-30T15:40:02.798967",
     "status": "completed"
    },
    "tags": []
   },
   "outputs": [],
   "source": [
    "regressor = Sequential()\n",
    "regressor.add(LSTM(units = 50,return_sequences = True,input_shape = (x_train.shape[1],1)))\n",
    "regressor.add(Dropout(0.2))\n",
    "regressor.add(LSTM(units = 50,return_sequences = True))\n",
    "regressor.add(Dropout(0.2))\n",
    "regressor.add(LSTM(units = 50,return_sequences = True))\n",
    "regressor.add(Dropout(0.2))\n",
    "regressor.add(LSTM(units = 50))\n",
    "regressor.add(Dropout(0.2))\n",
    "regressor.add(Dense(units = 1))"
   ]
  },
  {
   "cell_type": "code",
   "execution_count": 12,
   "id": "9b2d9863",
   "metadata": {
    "_kg_hide-output": true,
    "_uuid": "6681ff55d9a29b1ad0f37cdc82318fb2c8fbc0bd",
    "execution": {
     "iopub.execute_input": "2024-05-30T15:40:04.023680Z",
     "iopub.status.busy": "2024-05-30T15:40:04.023094Z",
     "iopub.status.idle": "2024-05-30T15:40:12.196836Z",
     "shell.execute_reply": "2024-05-30T15:40:12.195796Z"
    },
    "papermill": {
     "duration": 8.185984,
     "end_time": "2024-05-30T15:40:12.199621",
     "exception": false,
     "start_time": "2024-05-30T15:40:04.013637",
     "status": "completed"
    },
    "tags": []
   },
   "outputs": [
    {
     "name": "stdout",
     "output_type": "stream",
     "text": [
      "Epoch 1/10\n",
      "27/27 [==============================] - 2s 29ms/step - loss: 1.3253e-04\n",
      "Epoch 2/10\n",
      "27/27 [==============================] - 1s 29ms/step - loss: 1.0330e-04\n",
      "Epoch 3/10\n",
      "27/27 [==============================] - 1s 29ms/step - loss: 1.0059e-04\n",
      "Epoch 4/10\n",
      "27/27 [==============================] - 1s 31ms/step - loss: 9.9102e-05\n",
      "Epoch 5/10\n",
      "27/27 [==============================] - 1s 35ms/step - loss: 9.9048e-05\n",
      "Epoch 6/10\n",
      "27/27 [==============================] - 1s 33ms/step - loss: 1.0463e-04\n",
      "Epoch 7/10\n",
      "27/27 [==============================] - 1s 31ms/step - loss: 9.8207e-05\n",
      "Epoch 8/10\n",
      "27/27 [==============================] - 1s 31ms/step - loss: 1.0192e-04\n",
      "Epoch 9/10\n",
      "27/27 [==============================] - 1s 31ms/step - loss: 9.9061e-05\n",
      "Epoch 10/10\n",
      "27/27 [==============================] - 1s 31ms/step - loss: 1.0022e-04\n"
     ]
    },
    {
     "data": {
      "text/plain": [
       "<keras.src.callbacks.History at 0x15eb03550>"
      ]
     },
     "execution_count": 12,
     "metadata": {},
     "output_type": "execute_result"
    }
   ],
   "source": [
    "regressor.compile(optimizer = 'adam',loss = 'mean_squared_error')\n",
    "regressor.fit(x_train,y_train,epochs =10, batch_size = 32)"
   ]
  },
  {
   "cell_type": "code",
   "execution_count": 13,
   "id": "822f38ef",
   "metadata": {
    "_kg_hide-output": true,
    "_uuid": "31aa33ed70b08e71d0e8bfe4c1abae7901ab947d",
    "execution": {
     "iopub.execute_input": "2024-05-30T15:40:12.287242Z",
     "iopub.status.busy": "2024-05-30T15:40:12.286898Z",
     "iopub.status.idle": "2024-05-30T15:40:12.292836Z",
     "shell.execute_reply": "2024-05-30T15:40:12.291964Z"
    },
    "papermill": {
     "duration": 0.023133,
     "end_time": "2024-05-30T15:40:12.294775",
     "exception": false,
     "start_time": "2024-05-30T15:40:12.271642",
     "status": "completed"
    },
    "tags": []
   },
   "outputs": [
    {
     "name": "stdout",
     "output_type": "stream",
     "text": [
      "(1003,)\n",
      "[ 84  35 516   8  35   1 183  11   4  21]\n"
     ]
    }
   ],
   "source": [
    "inputs = dataset.iloc[len(trainset)-len(testset)-60:,1].values\n",
    "print(inputs.shape)\n",
    "print(inputs[0:10])"
   ]
  },
  {
   "cell_type": "markdown",
   "id": "59a8e2dc",
   "metadata": {
    "papermill": {
     "duration": 0.013847,
     "end_time": "2024-05-30T15:40:12.323670",
     "exception": false,
     "start_time": "2024-05-30T15:40:12.309823",
     "status": "completed"
    },
    "tags": []
   },
   "source": [
    "In the context of a LSTM model, this reshaping may be necessary if the input data has only one feature (i.e., one time series) and the LSTM model expects a 3D input shape of (n_samples, n_time_steps, n_features). In this case, since there is only one feature, the shape does not change."
   ]
  },
  {
   "cell_type": "code",
   "execution_count": 14,
   "id": "7aa4e312",
   "metadata": {
    "_kg_hide-output": true,
    "_uuid": "7d74568c439acc8dda77dc4365d4b413095508e1",
    "execution": {
     "iopub.execute_input": "2024-05-30T15:40:12.353568Z",
     "iopub.status.busy": "2024-05-30T15:40:12.353252Z",
     "iopub.status.idle": "2024-05-30T15:40:12.358747Z",
     "shell.execute_reply": "2024-05-30T15:40:12.357855Z"
    },
    "papermill": {
     "duration": 0.022762,
     "end_time": "2024-05-30T15:40:12.360690",
     "exception": false,
     "start_time": "2024-05-30T15:40:12.337928",
     "status": "completed"
    },
    "tags": []
   },
   "outputs": [
    {
     "name": "stdout",
     "output_type": "stream",
     "text": [
      "(1003, 1)\n",
      "(1003, 1)\n"
     ]
    }
   ],
   "source": [
    "inputs = inputs.reshape(-1,1)\n",
    "print(inputs.shape)\n",
    "\n",
    "#sc = MinMaxScaler(feature_range = (0,1))\n",
    "inputs = sc.transform(inputs)\n",
    "print(inputs.shape)"
   ]
  },
  {
   "cell_type": "code",
   "execution_count": 15,
   "id": "3c962cd2",
   "metadata": {
    "_kg_hide-output": true,
    "_uuid": "ef076f0fdbe6ec72d85e7326c3e8aa73fcbad667",
    "execution": {
     "iopub.execute_input": "2024-05-30T15:40:12.390465Z",
     "iopub.status.busy": "2024-05-30T15:40:12.390192Z",
     "iopub.status.idle": "2024-05-30T15:40:12.396836Z",
     "shell.execute_reply": "2024-05-30T15:40:12.395965Z"
    },
    "papermill": {
     "duration": 0.023947,
     "end_time": "2024-05-30T15:40:12.398827",
     "exception": false,
     "start_time": "2024-05-30T15:40:12.374880",
     "status": "completed"
    },
    "tags": []
   },
   "outputs": [
    {
     "name": "stdout",
     "output_type": "stream",
     "text": [
      "(943, 60)\n",
      "(943, 60, 1)\n"
     ]
    }
   ],
   "source": [
    "x_test = []\n",
    "for i in range(60,len(inputs)):\n",
    "    x_test.append(inputs[i-60:i,0])\n",
    "x_test = np.array(x_test)\n",
    "print(x_test.shape)\n",
    "\n",
    "x_test = np.reshape(x_test, (x_test.shape[0],x_test.shape[1],1))\n",
    "print(x_test.shape)"
   ]
  },
  {
   "cell_type": "code",
   "execution_count": null,
   "id": "23808ef3",
   "metadata": {
    "_kg_hide-output": true,
    "_uuid": "24730042bdad3a140e033a78ae9b170304f8cefb",
    "execution": {
     "iopub.execute_input": "2024-05-30T15:40:12.428521Z",
     "iopub.status.busy": "2024-05-30T15:40:12.428246Z",
     "iopub.status.idle": "2024-05-30T15:40:13.116866Z",
     "shell.execute_reply": "2024-05-30T15:40:13.116047Z"
    },
    "papermill": {
     "duration": 0.70562,
     "end_time": "2024-05-30T15:40:13.118807",
     "exception": false,
     "start_time": "2024-05-30T15:40:12.413187",
     "status": "completed"
    },
    "tags": []
   },
   "outputs": [],
   "source": [
    "predicted_price = regressor.predict(x_test)"
   ]
  },
  {
   "cell_type": "code",
   "execution_count": null,
   "id": "8c507e69",
   "metadata": {
    "_kg_hide-output": true,
    "_uuid": "4b06462fa06e7399373d8a552cd159176fbeef33",
    "execution": {
     "iopub.execute_input": "2024-05-30T15:40:13.149441Z",
     "iopub.status.busy": "2024-05-30T15:40:13.149155Z",
     "iopub.status.idle": "2024-05-30T15:40:13.154197Z",
     "shell.execute_reply": "2024-05-30T15:40:13.153273Z"
    },
    "papermill": {
     "duration": 0.022316,
     "end_time": "2024-05-30T15:40:13.156092",
     "exception": false,
     "start_time": "2024-05-30T15:40:13.133776",
     "status": "completed"
    },
    "tags": []
   },
   "outputs": [],
   "source": [
    "predicted_price = sc.inverse_transform(predicted_price)\n",
    "print(predicted_price.shape)"
   ]
  },
  {
   "cell_type": "code",
   "execution_count": null,
   "id": "fee58a4f",
   "metadata": {
    "_kg_hide-output": false,
    "_uuid": "e8b30d578fafb1564da4448efb1f994537f6f588",
    "execution": {
     "iopub.execute_input": "2024-05-30T15:40:13.186273Z",
     "iopub.status.busy": "2024-05-30T15:40:13.185980Z",
     "iopub.status.idle": "2024-05-30T15:40:13.440139Z",
     "shell.execute_reply": "2024-05-30T15:40:13.439281Z"
    },
    "papermill": {
     "duration": 0.271652,
     "end_time": "2024-05-30T15:40:13.442276",
     "exception": false,
     "start_time": "2024-05-30T15:40:13.170624",
     "status": "completed"
    },
    "tags": []
   },
   "outputs": [],
   "source": [
    "plt.plot(real_stock_price[-100:],color = 'red', label = 'Real Price')\n",
    "plt.plot(predicted_price[-100:], color = 'blue', label = 'Predicted Price')\n",
    "plt.title('oracle Stock Price Prediction')\n",
    "plt.xlabel('days')\n",
    "plt.ylabel('Price')\n",
    "plt.xlim(0,100)  \n",
    "plt.legend()\n",
    "plt.show()"
   ]
  },
  {
   "cell_type": "code",
   "execution_count": null,
   "id": "52971fdb",
   "metadata": {
    "execution": {
     "iopub.execute_input": "2024-05-30T15:40:13.474377Z",
     "iopub.status.busy": "2024-05-30T15:40:13.474096Z",
     "iopub.status.idle": "2024-05-30T15:40:13.899104Z",
     "shell.execute_reply": "2024-05-30T15:40:13.898213Z"
    },
    "papermill": {
     "duration": 0.444389,
     "end_time": "2024-05-30T15:40:13.902296",
     "exception": false,
     "start_time": "2024-05-30T15:40:13.457907",
     "status": "completed"
    },
    "tags": []
   },
   "outputs": [],
   "source": [
    "plt.figure(figsize=(18,10))\n",
    "plt.plot(dataset.iloc[-1000:-100,0],trainset,'-o',label='train actual')\n",
    "#plt.plot(dataset.iloc[-1000:-100,0],train_pred,'--',label='Prophet')\n",
    "plt.plot(dataset.iloc[-100:,0],real_stock_price[-100:],'-o',label='test actual')\n",
    "plt.plot(dataset.iloc[-100:,0],predicted_price[-100:],'-o',label='test predicted')\n",
    "plt.title('oracle Stock Price',size=24)\n",
    "plt.xlabel('Date',size=16)\n",
    "plt.ylabel('Price',size=16)\n",
    "plt.legend()\n",
    "plt.show()"
   ]
  },
  {
   "cell_type": "code",
   "execution_count": null,
   "id": "162992af",
   "metadata": {
    "_kg_hide-output": true,
    "execution": {
     "iopub.execute_input": "2024-05-30T15:40:13.973595Z",
     "iopub.status.busy": "2024-05-30T15:40:13.973249Z",
     "iopub.status.idle": "2024-05-30T15:40:19.892150Z",
     "shell.execute_reply": "2024-05-30T15:40:19.891239Z"
    },
    "papermill": {
     "duration": 5.939242,
     "end_time": "2024-05-30T15:40:19.894142",
     "exception": false,
     "start_time": "2024-05-30T15:40:13.954900",
     "status": "completed"
    },
    "tags": []
   },
   "outputs": [],
   "source": [
    "inputs = np.array(trainset[-60:])\n",
    "new_predicted_price=[]\n",
    "for i in range(100):\n",
    "    x = np.reshape(inputs, (1,60,1))\n",
    "    pred = regressor.predict(x)\n",
    "    inputs = np.append(inputs, pred)\n",
    "    inputs = inputs[1:]\n",
    "    new_predicted_price+=[pred.reshape(-1)]"
   ]
  },
  {
   "cell_type": "code",
   "execution_count": null,
   "id": "ab12649e",
   "metadata": {
    "_kg_hide-output": true,
    "execution": {
     "iopub.execute_input": "2024-05-30T15:40:19.961103Z",
     "iopub.status.busy": "2024-05-30T15:40:19.960774Z",
     "iopub.status.idle": "2024-05-30T15:40:19.966508Z",
     "shell.execute_reply": "2024-05-30T15:40:19.965587Z"
    },
    "papermill": {
     "duration": 0.041324,
     "end_time": "2024-05-30T15:40:19.968515",
     "exception": false,
     "start_time": "2024-05-30T15:40:19.927191",
     "status": "completed"
    },
    "tags": []
   },
   "outputs": [],
   "source": [
    "new_predicted_price = sc.inverse_transform(np.array(new_predicted_price))\n",
    "print(new_predicted_price.shape)"
   ]
  },
  {
   "cell_type": "code",
   "execution_count": null,
   "id": "69ff2e6d",
   "metadata": {
    "execution": {
     "iopub.execute_input": "2024-05-30T15:40:20.035126Z",
     "iopub.status.busy": "2024-05-30T15:40:20.034829Z",
     "iopub.status.idle": "2024-05-30T15:40:20.309774Z",
     "shell.execute_reply": "2024-05-30T15:40:20.308818Z"
    },
    "papermill": {
     "duration": 0.310487,
     "end_time": "2024-05-30T15:40:20.311902",
     "exception": false,
     "start_time": "2024-05-30T15:40:20.001415",
     "status": "completed"
    },
    "tags": []
   },
   "outputs": [],
   "source": [
    "plt.plot(real_stock_price,color = 'red', label = 'Real Price')\n",
    "plt.plot(new_predicted_price, color = 'blue', label = 'New Predicted Price')\n",
    "plt.title('oracle Stock Price Prediction')\n",
    "plt.xlabel('days')\n",
    "plt.ylabel('Price')\n",
    "plt.xlim(0,100)  \n",
    "plt.legend()\n",
    "plt.show()"
   ]
  },
  {
   "cell_type": "code",
   "execution_count": null,
   "id": "fe0703c5",
   "metadata": {
    "execution": {
     "iopub.execute_input": "2024-05-30T15:40:20.380186Z",
     "iopub.status.busy": "2024-05-30T15:40:20.379342Z",
     "iopub.status.idle": "2024-05-30T15:40:20.854541Z",
     "shell.execute_reply": "2024-05-30T15:40:20.853544Z"
    },
    "papermill": {
     "duration": 0.511082,
     "end_time": "2024-05-30T15:40:20.856663",
     "exception": false,
     "start_time": "2024-05-30T15:40:20.345581",
     "status": "completed"
    },
    "tags": []
   },
   "outputs": [],
   "source": [
    "plt.figure(figsize=(18,10))\n",
    "plt.plot(dataset.iloc[-1000:-100,0],trainset,'-o',label='train actual')\n",
    "#plt.plot(dataset.iloc[-1000:-100,0],train_pred,'--',label='Prophet')\n",
    "plt.plot(dataset.iloc[-100:,0],real_stock_price[-100:],'-o',label='test actual')\n",
    "plt.plot(dataset.iloc[-100:,0],new_predicted_price[-100:],'-o',label='test predicted')\n",
    "plt.title('oracle',size=24)\n",
    "plt.xlabel('Date',size=16)\n",
    "plt.ylabel('Price',size=16)\n",
    "plt.legend()\n",
    "plt.show()"
   ]
  }
 ],
 "metadata": {
  "kaggle": {
   "accelerator": "gpu",
   "dataSources": [
    {
     "datasetId": 1624347,
     "sourceId": 3358601,
     "sourceType": "datasetVersion"
    }
   ],
   "isGpuEnabled": true,
   "isInternetEnabled": true,
   "language": "python",
   "sourceType": "notebook"
  },
  "kernelspec": {
   "display_name": "Python 3 (ipykernel)",
   "language": "python",
   "name": "python3"
  },
  "language_info": {
   "codemirror_mode": {
    "name": "ipython",
    "version": 3
   },
   "file_extension": ".py",
   "mimetype": "text/x-python",
   "name": "python",
   "nbconvert_exporter": "python",
   "pygments_lexer": "ipython3",
   "version": "3.11.5"
  },
  "papermill": {
   "default_parameters": {},
   "duration": 36.200134,
   "end_time": "2024-05-30T15:40:23.293779",
   "environment_variables": {},
   "exception": null,
   "input_path": "__notebook__.ipynb",
   "output_path": "__notebook__.ipynb",
   "parameters": {},
   "start_time": "2024-05-30T15:39:47.093645",
   "version": "2.5.0"
  }
 },
 "nbformat": 4,
 "nbformat_minor": 5
}
