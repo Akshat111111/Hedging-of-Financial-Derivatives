{
 "cells": [
  {
   "cell_type": "code",
   "execution_count": 5,
   "metadata": {
    "_cell_guid": "b1076dfc-b9ad-4769-8c92-a6c4dae69d19",
    "_uuid": "8f2839f25d086af736a60e9eeb907d3b93b6e0e5",
    "execution": {
     "iopub.execute_input": "2023-12-14T02:29:15.309861Z",
     "iopub.status.busy": "2023-12-14T02:29:15.308614Z",
     "iopub.status.idle": "2023-12-14T02:29:20.880097Z",
     "shell.execute_reply": "2023-12-14T02:29:20.878146Z",
     "shell.execute_reply.started": "2023-12-14T02:29:15.309811Z"
    }
   },
   "outputs": [
    {
     "ename": "AttributeError",
     "evalue": "module 'pandas' has no attribute 'Int64Index'",
     "output_type": "error",
     "traceback": [
      "\u001b[0;31m---------------------------------------------------------------------------\u001b[0m",
      "\u001b[0;31mAttributeError\u001b[0m                            Traceback (most recent call last)",
      "Cell \u001b[0;32mIn[5], line 7\u001b[0m\n\u001b[1;32m      5\u001b[0m get_ipython()\u001b[38;5;241m.\u001b[39mrun_line_magic(\u001b[38;5;124m'\u001b[39m\u001b[38;5;124mmatplotlib\u001b[39m\u001b[38;5;124m'\u001b[39m, \u001b[38;5;124m'\u001b[39m\u001b[38;5;124minline\u001b[39m\u001b[38;5;124m'\u001b[39m)\n\u001b[1;32m      6\u001b[0m \u001b[38;5;28;01mimport\u001b[39;00m \u001b[38;5;21;01msketch\u001b[39;00m \n\u001b[0;32m----> 7\u001b[0m \u001b[38;5;28;01mfrom\u001b[39;00m \u001b[38;5;21;01mdataprep\u001b[39;00m\u001b[38;5;21;01m.\u001b[39;00m\u001b[38;5;21;01meda\u001b[39;00m \u001b[38;5;28;01mimport\u001b[39;00m plot\n\u001b[1;32m      8\u001b[0m \u001b[38;5;28;01mimport\u001b[39;00m \u001b[38;5;21;01mplotly\u001b[39;00m\u001b[38;5;21;01m.\u001b[39;00m\u001b[38;5;21;01mexpress\u001b[39;00m \u001b[38;5;28;01mas\u001b[39;00m \u001b[38;5;21;01mpx\u001b[39;00m \n\u001b[1;32m      9\u001b[0m \u001b[38;5;28;01mimport\u001b[39;00m \u001b[38;5;21;01mplotly\u001b[39;00m\u001b[38;5;21;01m.\u001b[39;00m\u001b[38;5;21;01mgraph_objects\u001b[39;00m \u001b[38;5;28;01mas\u001b[39;00m \u001b[38;5;21;01mgo\u001b[39;00m \n",
      "File \u001b[0;32m~/anaconda3/lib/python3.11/site-packages/dataprep/eda/__init__.py:8\u001b[0m\n\u001b[1;32m      5\u001b[0m \u001b[38;5;28;01mfrom\u001b[39;00m \u001b[38;5;21;01mbokeh\u001b[39;00m\u001b[38;5;21;01m.\u001b[39;00m\u001b[38;5;21;01mio\u001b[39;00m \u001b[38;5;28;01mimport\u001b[39;00m output_notebook\n\u001b[1;32m      7\u001b[0m \u001b[38;5;28;01mfrom\u001b[39;00m \u001b[38;5;21;01m.\u001b[39;00m\u001b[38;5;21;01m.\u001b[39;00m\u001b[38;5;21;01mutils\u001b[39;00m \u001b[38;5;28;01mimport\u001b[39;00m is_notebook\n\u001b[0;32m----> 8\u001b[0m \u001b[38;5;28;01mfrom\u001b[39;00m \u001b[38;5;21;01m.\u001b[39;00m\u001b[38;5;21;01mcorrelation\u001b[39;00m \u001b[38;5;28;01mimport\u001b[39;00m compute_correlation, plot_correlation, render_correlation\n\u001b[1;32m      9\u001b[0m \u001b[38;5;28;01mfrom\u001b[39;00m \u001b[38;5;21;01m.\u001b[39;00m\u001b[38;5;21;01mcreate_report\u001b[39;00m \u001b[38;5;28;01mimport\u001b[39;00m create_report\n\u001b[1;32m     10\u001b[0m \u001b[38;5;28;01mfrom\u001b[39;00m \u001b[38;5;21;01m.\u001b[39;00m\u001b[38;5;21;01mcreate_diff_report\u001b[39;00m \u001b[38;5;28;01mimport\u001b[39;00m create_diff_report\n",
      "File \u001b[0;32m~/anaconda3/lib/python3.11/site-packages/dataprep/eda/correlation/__init__.py:7\u001b[0m\n\u001b[1;32m      1\u001b[0m \u001b[38;5;124;03m\"\"\"\u001b[39;00m\n\u001b[1;32m      2\u001b[0m \u001b[38;5;124;03m    This module implements the plot_correlation(df) function.\u001b[39;00m\n\u001b[1;32m      3\u001b[0m \u001b[38;5;124;03m\"\"\"\u001b[39;00m\n\u001b[1;32m      5\u001b[0m \u001b[38;5;28;01mfrom\u001b[39;00m \u001b[38;5;21;01mtyping\u001b[39;00m \u001b[38;5;28;01mimport\u001b[39;00m Any, Dict, List, Optional, Tuple, Union\n\u001b[0;32m----> 7\u001b[0m \u001b[38;5;28;01mimport\u001b[39;00m \u001b[38;5;21;01mdask\u001b[39;00m\u001b[38;5;21;01m.\u001b[39;00m\u001b[38;5;21;01mdataframe\u001b[39;00m \u001b[38;5;28;01mas\u001b[39;00m \u001b[38;5;21;01mdd\u001b[39;00m\n\u001b[1;32m      8\u001b[0m \u001b[38;5;28;01mimport\u001b[39;00m \u001b[38;5;21;01mpandas\u001b[39;00m \u001b[38;5;28;01mas\u001b[39;00m \u001b[38;5;21;01mpd\u001b[39;00m\n\u001b[1;32m     10\u001b[0m \u001b[38;5;28;01mfrom\u001b[39;00m \u001b[38;5;21;01m.\u001b[39;00m\u001b[38;5;21;01m.\u001b[39;00m\u001b[38;5;21;01mconfigs\u001b[39;00m \u001b[38;5;28;01mimport\u001b[39;00m Config\n",
      "File \u001b[0;32m~/anaconda3/lib/python3.11/site-packages/dask/dataframe/__init__.py:2\u001b[0m\n\u001b[1;32m      1\u001b[0m \u001b[38;5;28;01mtry\u001b[39;00m:\n\u001b[0;32m----> 2\u001b[0m     \u001b[38;5;28;01mfrom\u001b[39;00m \u001b[38;5;21;01m.\u001b[39;00m\u001b[38;5;21;01mcore\u001b[39;00m \u001b[38;5;28;01mimport\u001b[39;00m (\n\u001b[1;32m      3\u001b[0m         DataFrame,\n\u001b[1;32m      4\u001b[0m         Series,\n\u001b[1;32m      5\u001b[0m         Index,\n\u001b[1;32m      6\u001b[0m         _Frame,\n\u001b[1;32m      7\u001b[0m         map_partitions,\n\u001b[1;32m      8\u001b[0m         repartition,\n\u001b[1;32m      9\u001b[0m         to_datetime,\n\u001b[1;32m     10\u001b[0m         to_timedelta,\n\u001b[1;32m     11\u001b[0m     )\n\u001b[1;32m     12\u001b[0m     \u001b[38;5;28;01mfrom\u001b[39;00m \u001b[38;5;21;01m.\u001b[39;00m\u001b[38;5;21;01mgroupby\u001b[39;00m \u001b[38;5;28;01mimport\u001b[39;00m Aggregation\n\u001b[1;32m     13\u001b[0m     \u001b[38;5;28;01mfrom\u001b[39;00m \u001b[38;5;21;01m.\u001b[39;00m\u001b[38;5;21;01mio\u001b[39;00m \u001b[38;5;28;01mimport\u001b[39;00m (\n\u001b[1;32m     14\u001b[0m         from_array,\n\u001b[1;32m     15\u001b[0m         from_pandas,\n\u001b[0;32m   (...)\u001b[0m\n\u001b[1;32m     31\u001b[0m         read_fwf,\n\u001b[1;32m     32\u001b[0m     )\n",
      "File \u001b[0;32m~/anaconda3/lib/python3.11/site-packages/dask/dataframe/core.py:52\u001b[0m\n\u001b[1;32m     49\u001b[0m \u001b[38;5;28;01mfrom\u001b[39;00m \u001b[38;5;21;01m.\u001b[39;00m\u001b[38;5;21;01m.\u001b[39;00m\u001b[38;5;21;01mdelayed\u001b[39;00m \u001b[38;5;28;01mimport\u001b[39;00m delayed, Delayed, unpack_collections\n\u001b[1;32m     50\u001b[0m \u001b[38;5;28;01mfrom\u001b[39;00m \u001b[38;5;21;01m.\u001b[39;00m\u001b[38;5;21;01m.\u001b[39;00m\u001b[38;5;21;01mhighlevelgraph\u001b[39;00m \u001b[38;5;28;01mimport\u001b[39;00m HighLevelGraph\n\u001b[0;32m---> 52\u001b[0m \u001b[38;5;28;01mfrom\u001b[39;00m \u001b[38;5;21;01m.\u001b[39;00m \u001b[38;5;28;01mimport\u001b[39;00m methods\n\u001b[1;32m     53\u001b[0m \u001b[38;5;28;01mfrom\u001b[39;00m \u001b[38;5;21;01m.\u001b[39;00m\u001b[38;5;21;01maccessor\u001b[39;00m \u001b[38;5;28;01mimport\u001b[39;00m DatetimeAccessor, StringAccessor\n\u001b[1;32m     54\u001b[0m \u001b[38;5;28;01mfrom\u001b[39;00m \u001b[38;5;21;01m.\u001b[39;00m\u001b[38;5;21;01mcategorical\u001b[39;00m \u001b[38;5;28;01mimport\u001b[39;00m CategoricalAccessor, categorize\n",
      "File \u001b[0;32m~/anaconda3/lib/python3.11/site-packages/dask/dataframe/methods.py:8\u001b[0m\n\u001b[1;32m      5\u001b[0m \u001b[38;5;28;01mfrom\u001b[39;00m \u001b[38;5;21;01mpandas\u001b[39;00m\u001b[38;5;21;01m.\u001b[39;00m\u001b[38;5;21;01mapi\u001b[39;00m\u001b[38;5;21;01m.\u001b[39;00m\u001b[38;5;21;01mtypes\u001b[39;00m \u001b[38;5;28;01mimport\u001b[39;00m is_categorical_dtype, union_categoricals\n\u001b[1;32m      6\u001b[0m \u001b[38;5;28;01mfrom\u001b[39;00m \u001b[38;5;21;01mtlz\u001b[39;00m \u001b[38;5;28;01mimport\u001b[39;00m partition\n\u001b[0;32m----> 8\u001b[0m \u001b[38;5;28;01mfrom\u001b[39;00m \u001b[38;5;21;01m.\u001b[39;00m\u001b[38;5;21;01mutils\u001b[39;00m \u001b[38;5;28;01mimport\u001b[39;00m (\n\u001b[1;32m      9\u001b[0m     is_series_like,\n\u001b[1;32m     10\u001b[0m     is_index_like,\n\u001b[1;32m     11\u001b[0m     is_dataframe_like,\n\u001b[1;32m     12\u001b[0m     PANDAS_GT_0250,\n\u001b[1;32m     13\u001b[0m     hash_object_dispatch,\n\u001b[1;32m     14\u001b[0m     group_split_dispatch,\n\u001b[1;32m     15\u001b[0m )\n\u001b[1;32m     16\u001b[0m \u001b[38;5;28;01mfrom\u001b[39;00m \u001b[38;5;21;01m.\u001b[39;00m\u001b[38;5;21;01m.\u001b[39;00m\u001b[38;5;21;01mutils\u001b[39;00m \u001b[38;5;28;01mimport\u001b[39;00m Dispatch\n\u001b[1;32m     18\u001b[0m \u001b[38;5;66;03m# ---------------------------------\u001b[39;00m\n\u001b[1;32m     19\u001b[0m \u001b[38;5;66;03m# indexing\u001b[39;00m\n\u001b[1;32m     20\u001b[0m \u001b[38;5;66;03m# ---------------------------------\u001b[39;00m\n",
      "File \u001b[0;32m~/anaconda3/lib/python3.11/site-packages/dask/dataframe/utils.py:367\u001b[0m\n\u001b[1;32m    362\u001b[0m         \u001b[38;5;28;01mreturn\u001b[39;00m _nonempty_scalar(x)\n\u001b[1;32m    364\u001b[0m     \u001b[38;5;28;01mraise\u001b[39;00m \u001b[38;5;167;01mTypeError\u001b[39;00m(\u001b[38;5;124m\"\u001b[39m\u001b[38;5;124mDon\u001b[39m\u001b[38;5;124m'\u001b[39m\u001b[38;5;124mt know how to create metadata from \u001b[39m\u001b[38;5;132;01m{0}\u001b[39;00m\u001b[38;5;124m\"\u001b[39m\u001b[38;5;241m.\u001b[39mformat(x))\n\u001b[0;32m--> 367\u001b[0m _numeric_index_types \u001b[38;5;241m=\u001b[39m (pd\u001b[38;5;241m.\u001b[39mInt64Index, pd\u001b[38;5;241m.\u001b[39mFloat64Index, pd\u001b[38;5;241m.\u001b[39mUInt64Index)\n\u001b[1;32m    369\u001b[0m meta_nonempty \u001b[38;5;241m=\u001b[39m Dispatch(\u001b[38;5;124m\"\u001b[39m\u001b[38;5;124mmeta_nonempty\u001b[39m\u001b[38;5;124m\"\u001b[39m)\n\u001b[1;32m    372\u001b[0m \u001b[38;5;129m@meta_nonempty\u001b[39m\u001b[38;5;241m.\u001b[39mregister(\u001b[38;5;28mobject\u001b[39m)\n\u001b[1;32m    373\u001b[0m \u001b[38;5;28;01mdef\u001b[39;00m \u001b[38;5;21mmeta_nonempty_object\u001b[39m(x):\n",
      "\u001b[0;31mAttributeError\u001b[0m: module 'pandas' has no attribute 'Int64Index'"
     ]
    }
   ],
   "source": [
    "import pandas as pd\n",
    "import numpy as np \n",
    "import matplotlib.pyplot as plt \n",
    "import seaborn as sns \n",
    "%matplotlib inline \n",
    "import sketch \n",
    "from dataprep.eda import plot\n",
    "import plotly.express as px \n",
    "import plotly.graph_objects as go \n",
    "import cufflinks as cf \n",
    "from plotly.offline import download_plotlyjs, init_notebook_mode, iplot\n",
    "init_notebook_mode(connected=True)\n",
    "cf.go_offline()"
   ]
  },
  {
   "cell_type": "code",
   "execution_count": null,
   "metadata": {
    "execution": {
     "iopub.execute_input": "2023-12-14T02:29:20.883182Z",
     "iopub.status.busy": "2023-12-14T02:29:20.882605Z",
     "iopub.status.idle": "2023-12-14T02:29:20.915561Z",
     "shell.execute_reply": "2023-12-14T02:29:20.914035Z",
     "shell.execute_reply.started": "2023-12-14T02:29:20.883128Z"
    }
   },
   "outputs": [],
   "source": [
    "df = pd.read_csv('GRAB.csv', parse_dates=['Date'])"
   ]
  },
  {
   "cell_type": "code",
   "execution_count": null,
   "metadata": {
    "execution": {
     "iopub.execute_input": "2023-12-14T02:29:20.917919Z",
     "iopub.status.busy": "2023-12-14T02:29:20.917454Z",
     "iopub.status.idle": "2023-12-14T02:29:20.940113Z",
     "shell.execute_reply": "2023-12-14T02:29:20.939026Z",
     "shell.execute_reply.started": "2023-12-14T02:29:20.917880Z"
    }
   },
   "outputs": [],
   "source": [
    "df.info()"
   ]
  },
  {
   "cell_type": "code",
   "execution_count": null,
   "metadata": {
    "execution": {
     "iopub.execute_input": "2023-12-14T02:29:20.941792Z",
     "iopub.status.busy": "2023-12-14T02:29:20.941345Z",
     "iopub.status.idle": "2023-12-14T02:29:21.004712Z",
     "shell.execute_reply": "2023-12-14T02:29:21.002047Z",
     "shell.execute_reply.started": "2023-12-14T02:29:20.941754Z"
    }
   },
   "outputs": [],
   "source": [
    "df.describe(datetime_is_numeric=True).T"
   ]
  },
  {
   "cell_type": "code",
   "execution_count": null,
   "metadata": {
    "execution": {
     "iopub.execute_input": "2023-12-14T02:29:21.009244Z",
     "iopub.status.busy": "2023-12-14T02:29:21.008506Z",
     "iopub.status.idle": "2023-12-14T02:29:22.800371Z",
     "shell.execute_reply": "2023-12-14T02:29:22.797197Z",
     "shell.execute_reply.started": "2023-12-14T02:29:21.009166Z"
    }
   },
   "outputs": [],
   "source": [
    "plot(df)"
   ]
  },
  {
   "cell_type": "code",
   "execution_count": null,
   "metadata": {
    "execution": {
     "iopub.execute_input": "2023-12-14T02:29:22.804870Z",
     "iopub.status.busy": "2023-12-14T02:29:22.804351Z",
     "iopub.status.idle": "2023-12-14T02:29:23.345803Z",
     "shell.execute_reply": "2023-12-14T02:29:23.344749Z",
     "shell.execute_reply.started": "2023-12-14T02:29:22.804826Z"
    }
   },
   "outputs": [],
   "source": [
    "plot(df, 'Date', 'Open')"
   ]
  },
  {
   "cell_type": "code",
   "execution_count": null,
   "metadata": {
    "execution": {
     "iopub.execute_input": "2023-12-14T02:29:23.347933Z",
     "iopub.status.busy": "2023-12-14T02:29:23.347272Z",
     "iopub.status.idle": "2023-12-14T02:29:23.651358Z",
     "shell.execute_reply": "2023-12-14T02:29:23.649975Z",
     "shell.execute_reply.started": "2023-12-14T02:29:23.347895Z"
    }
   },
   "outputs": [],
   "source": [
    "fig = go.Figure()\n",
    "fig.add_trace(go.Scatter(x=df.Date, y=df.Open))\n",
    "fig.update_layout(\n",
    "    xaxis=dict(\n",
    "        rangeselector=dict(\n",
    "            buttons=list([\n",
    "                dict(count=10,\n",
    "                    label='10D',\n",
    "                    step='day',\n",
    "                    stepmode='backward'),\n",
    "                dict(count=1,\n",
    "                    label='1M',\n",
    "                    step='month',\n",
    "                    stepmode='backward'),\n",
    "                dict(count=6,\n",
    "                    label='6M',\n",
    "                    step='month',\n",
    "                    stepmode='todate'),\n",
    "                dict(count=1,\n",
    "                    label='YTD',\n",
    "                    step='year',\n",
    "                    stepmode='todate'),\n",
    "                dict(count=1,\n",
    "                    label='1Y',\n",
    "                    step='year',\n",
    "                    stepmode='backward'),\n",
    "                dict(label='All', step='all')\n",
    "            ])\n",
    "        ),\n",
    "        rangeslider=dict(\n",
    "            visible=True\n",
    "        ),\n",
    "        type='date'\n",
    "    ),\n",
    "    title='Open by Date'\n",
    ")\n",
    "fig.update_yaxes(title='Stock Volume (USD)')"
   ]
  },
  {
   "cell_type": "code",
   "execution_count": null,
   "metadata": {
    "execution": {
     "iopub.execute_input": "2023-12-14T02:29:23.653319Z",
     "iopub.status.busy": "2023-12-14T02:29:23.652958Z",
     "iopub.status.idle": "2023-12-14T02:29:24.107542Z",
     "shell.execute_reply": "2023-12-14T02:29:24.103499Z",
     "shell.execute_reply.started": "2023-12-14T02:29:23.653289Z"
    }
   },
   "outputs": [],
   "source": [
    "plot(df, 'Date', 'Close')"
   ]
  },
  {
   "cell_type": "code",
   "execution_count": null,
   "metadata": {
    "execution": {
     "iopub.execute_input": "2023-12-14T02:29:24.110393Z",
     "iopub.status.busy": "2023-12-14T02:29:24.109903Z",
     "iopub.status.idle": "2023-12-14T02:29:24.166724Z",
     "shell.execute_reply": "2023-12-14T02:29:24.165184Z",
     "shell.execute_reply.started": "2023-12-14T02:29:24.110353Z"
    }
   },
   "outputs": [],
   "source": [
    "fig = go.Figure()\n",
    "fig.add_trace(go.Scatter(x=df.Date, y=df.Close))\n",
    "fig.update_layout(\n",
    "    xaxis=dict(\n",
    "        rangeselector=dict(\n",
    "            buttons=list([\n",
    "                dict(count=10,\n",
    "                    label='10D',\n",
    "                    step='day',\n",
    "                    stepmode='backward'),\n",
    "                dict(count=1,\n",
    "                    label='1M',\n",
    "                    step='month',\n",
    "                    stepmode='backward'),\n",
    "                dict(count=6,\n",
    "                    label='6M',\n",
    "                    step='month',\n",
    "                    stepmode='todate'),\n",
    "                dict(count=1,\n",
    "                    label='YTD',\n",
    "                    step='year',\n",
    "                    stepmode='todate'),\n",
    "                dict(count=1,\n",
    "                    label='1Y',\n",
    "                    step='year',\n",
    "                    stepmode='backward'),\n",
    "                dict(label='All', step='all')\n",
    "            ])\n",
    "        ),\n",
    "        rangeslider=dict(\n",
    "            visible=True\n",
    "        ),\n",
    "        type='date'\n",
    "    ),\n",
    "    title='Close by Date'\n",
    ")\n",
    "fig.update_yaxes(title='Stock Volume (USD)')"
   ]
  },
  {
   "cell_type": "code",
   "execution_count": null,
   "metadata": {
    "execution": {
     "iopub.execute_input": "2023-12-14T02:29:24.169849Z",
     "iopub.status.busy": "2023-12-14T02:29:24.169203Z",
     "iopub.status.idle": "2023-12-14T02:29:24.618006Z",
     "shell.execute_reply": "2023-12-14T02:29:24.616704Z",
     "shell.execute_reply.started": "2023-12-14T02:29:24.169802Z"
    }
   },
   "outputs": [],
   "source": [
    "plot(df, 'Date', 'High')"
   ]
  },
  {
   "cell_type": "code",
   "execution_count": null,
   "metadata": {
    "execution": {
     "iopub.execute_input": "2023-12-14T02:29:24.620210Z",
     "iopub.status.busy": "2023-12-14T02:29:24.619743Z",
     "iopub.status.idle": "2023-12-14T02:29:24.670554Z",
     "shell.execute_reply": "2023-12-14T02:29:24.669093Z",
     "shell.execute_reply.started": "2023-12-14T02:29:24.620173Z"
    }
   },
   "outputs": [],
   "source": [
    "fig = go.Figure()\n",
    "fig.add_trace(go.Scatter(x=df.Date, y=df.High))\n",
    "fig.update_layout(\n",
    "    xaxis=dict(\n",
    "        rangeselector=dict(\n",
    "            buttons=list([\n",
    "                dict(count=10,\n",
    "                    label='10D',\n",
    "                    step='day',\n",
    "                    stepmode='backward'),\n",
    "                dict(count=1,\n",
    "                    label='1M',\n",
    "                    step='month',\n",
    "                    stepmode='backward'),\n",
    "                dict(count=6,\n",
    "                    label='6M',\n",
    "                    step='month',\n",
    "                    stepmode='todate'),\n",
    "                dict(count=1,\n",
    "                    label='YTD',\n",
    "                    step='year',\n",
    "                    stepmode='todate'),\n",
    "                dict(count=1,\n",
    "                    label='1Y',\n",
    "                    step='year',\n",
    "                    stepmode='backward'),\n",
    "                dict(label='All', step='all')\n",
    "            ])\n",
    "        ),\n",
    "        rangeslider=dict(\n",
    "            visible=True\n",
    "        ),\n",
    "        type='date'\n",
    "    ),\n",
    "    title='High by Date'\n",
    ")\n",
    "fig.update_yaxes(title='Stock Volume (USD)')"
   ]
  },
  {
   "cell_type": "code",
   "execution_count": null,
   "metadata": {
    "execution": {
     "iopub.execute_input": "2023-12-14T02:29:24.673113Z",
     "iopub.status.busy": "2023-12-14T02:29:24.672652Z",
     "iopub.status.idle": "2023-12-14T02:29:25.154452Z",
     "shell.execute_reply": "2023-12-14T02:29:25.151842Z",
     "shell.execute_reply.started": "2023-12-14T02:29:24.673078Z"
    }
   },
   "outputs": [],
   "source": [
    "plot(df, 'Date', 'Low')"
   ]
  },
  {
   "cell_type": "code",
   "execution_count": null,
   "metadata": {
    "execution": {
     "iopub.execute_input": "2023-12-14T02:29:25.157408Z",
     "iopub.status.busy": "2023-12-14T02:29:25.156929Z",
     "iopub.status.idle": "2023-12-14T02:29:25.209847Z",
     "shell.execute_reply": "2023-12-14T02:29:25.208090Z",
     "shell.execute_reply.started": "2023-12-14T02:29:25.157370Z"
    }
   },
   "outputs": [],
   "source": [
    "fig = go.Figure()\n",
    "fig.add_trace(go.Scatter(x=df.Date, y=df.Low))\n",
    "fig.update_layout(\n",
    "    xaxis=dict(\n",
    "        rangeselector=dict(\n",
    "            buttons=list([\n",
    "                dict(count=10,\n",
    "                    label='10D',\n",
    "                    step='day',\n",
    "                    stepmode='backward'),\n",
    "                dict(count=1,\n",
    "                    label='1M',\n",
    "                    step='month',\n",
    "                    stepmode='backward'),\n",
    "                dict(count=6,\n",
    "                    label='6M',\n",
    "                    step='month',\n",
    "                    stepmode='todate'),\n",
    "                dict(count=1,\n",
    "                    label='YTD',\n",
    "                    step='year',\n",
    "                    stepmode='todate'),\n",
    "                dict(count=1,\n",
    "                    label='1Y',\n",
    "                    step='year',\n",
    "                    stepmode='backward'),\n",
    "                dict(label='All', step='all')\n",
    "            ])\n",
    "        ),\n",
    "        rangeslider=dict(\n",
    "            visible=True\n",
    "        ),\n",
    "        type='date'\n",
    "    ),\n",
    "    title='Low by Date'\n",
    ")\n",
    "fig.update_yaxes(title='Stock Low (USD)')"
   ]
  },
  {
   "cell_type": "code",
   "execution_count": null,
   "metadata": {
    "execution": {
     "iopub.execute_input": "2023-12-14T02:29:25.212363Z",
     "iopub.status.busy": "2023-12-14T02:29:25.211921Z",
     "iopub.status.idle": "2023-12-14T02:29:25.659702Z",
     "shell.execute_reply": "2023-12-14T02:29:25.657125Z",
     "shell.execute_reply.started": "2023-12-14T02:29:25.212329Z"
    }
   },
   "outputs": [],
   "source": [
    "plot(df, 'Date', 'Adj Close')"
   ]
  },
  {
   "cell_type": "code",
   "execution_count": null,
   "metadata": {
    "execution": {
     "iopub.execute_input": "2023-12-14T02:29:25.662722Z",
     "iopub.status.busy": "2023-12-14T02:29:25.662172Z",
     "iopub.status.idle": "2023-12-14T02:29:25.709848Z",
     "shell.execute_reply": "2023-12-14T02:29:25.708714Z",
     "shell.execute_reply.started": "2023-12-14T02:29:25.662673Z"
    }
   },
   "outputs": [],
   "source": [
    "fig = go.Figure()\n",
    "fig.add_trace(go.Scatter(x=df.Date, y=df['Adj Close']))\n",
    "fig.update_layout(\n",
    "    xaxis=dict(\n",
    "        rangeselector=dict(\n",
    "            buttons=list([\n",
    "                dict(count=10,\n",
    "                    label='10D',\n",
    "                    step='day',\n",
    "                    stepmode='backward'),\n",
    "                dict(count=1,\n",
    "                    label='1M',\n",
    "                    step='month',\n",
    "                    stepmode='backward'),\n",
    "                dict(count=6,\n",
    "                    label='6M',\n",
    "                    step='month',\n",
    "                    stepmode='todate'),\n",
    "                dict(count=1,\n",
    "                    label='YTD',\n",
    "                    step='year',\n",
    "                    stepmode='todate'),\n",
    "                dict(count=1,\n",
    "                    label='1Y',\n",
    "                    step='year',\n",
    "                    stepmode='backward'),\n",
    "                dict(label='All', step='all')\n",
    "            ])\n",
    "        ),\n",
    "        rangeslider=dict(\n",
    "            visible=True\n",
    "        ),\n",
    "        type='date'\n",
    "    ),\n",
    "    title='Adj Close by Date'\n",
    ")\n",
    "fig.update_yaxes(title='Stock Adj Close (USD)')"
   ]
  },
  {
   "cell_type": "code",
   "execution_count": null,
   "metadata": {
    "execution": {
     "iopub.execute_input": "2023-12-14T02:29:25.712295Z",
     "iopub.status.busy": "2023-12-14T02:29:25.711848Z",
     "iopub.status.idle": "2023-12-14T02:29:26.165216Z",
     "shell.execute_reply": "2023-12-14T02:29:26.163727Z",
     "shell.execute_reply.started": "2023-12-14T02:29:25.712257Z"
    }
   },
   "outputs": [],
   "source": [
    "plot(df, 'Date', 'Volume')"
   ]
  },
  {
   "cell_type": "code",
   "execution_count": null,
   "metadata": {
    "execution": {
     "iopub.execute_input": "2023-12-14T02:29:26.173693Z",
     "iopub.status.busy": "2023-12-14T02:29:26.173154Z",
     "iopub.status.idle": "2023-12-14T02:29:26.222231Z",
     "shell.execute_reply": "2023-12-14T02:29:26.220874Z",
     "shell.execute_reply.started": "2023-12-14T02:29:26.173651Z"
    }
   },
   "outputs": [],
   "source": [
    "fig = go.Figure()\n",
    "fig.add_trace(go.Scatter(x=df.Date, y=df.Volume))\n",
    "fig.update_layout(\n",
    "    xaxis=dict(\n",
    "        rangeselector=dict(\n",
    "            buttons=list([\n",
    "                dict(count=10,\n",
    "                    label='10D',\n",
    "                    step='day',\n",
    "                    stepmode='backward'),\n",
    "                dict(count=1,\n",
    "                    label='1M',\n",
    "                    step='month',\n",
    "                    stepmode='backward'),\n",
    "                dict(count=6,\n",
    "                    label='6M',\n",
    "                    step='month',\n",
    "                    stepmode='todate'),\n",
    "                dict(count=1,\n",
    "                    label='YTD',\n",
    "                    step='year',\n",
    "                    stepmode='todate'),\n",
    "                dict(count=1,\n",
    "                    label='1Y',\n",
    "                    step='year',\n",
    "                    stepmode='backward'),\n",
    "                dict(label='All', step='all')\n",
    "            ])\n",
    "        ),\n",
    "        rangeslider=dict(\n",
    "            visible=True\n",
    "        ),\n",
    "        type='date'\n",
    "    ),\n",
    "    title='Volume by Date'\n",
    ")\n",
    "fig.update_yaxes(title='Stock Volume (USD)')"
   ]
  },
  {
   "cell_type": "code",
   "execution_count": null,
   "metadata": {
    "execution": {
     "iopub.execute_input": "2023-12-14T02:29:26.224531Z",
     "iopub.status.busy": "2023-12-14T02:29:26.224094Z",
     "iopub.status.idle": "2023-12-14T02:29:26.284735Z",
     "shell.execute_reply": "2023-12-14T02:29:26.283161Z",
     "shell.execute_reply.started": "2023-12-14T02:29:26.224496Z"
    }
   },
   "outputs": [],
   "source": [
    "fig = go.Figure()\n",
    "fig.add_trace(go.Candlestick(x=df.Date, open=df.Open, high=df.High, low=df.Low, close=df.Close))\n",
    "fig.update_layout(\n",
    "    xaxis=dict(\n",
    "        rangeselector=dict(\n",
    "            buttons=list([\n",
    "                dict(count=10,\n",
    "                    label='10D',\n",
    "                    step='day',\n",
    "                    stepmode='backward'),\n",
    "                dict(count=1,\n",
    "                    label='1M',\n",
    "                    step='month',\n",
    "                    stepmode='backward'),\n",
    "                dict(count=6,\n",
    "                    label='6M',\n",
    "                    step='month',\n",
    "                    stepmode='todate'),\n",
    "                dict(count=1,\n",
    "                    label='YTD',\n",
    "                    step='year',\n",
    "                    stepmode='todate'),\n",
    "                dict(count=1,\n",
    "                    label='1Y',\n",
    "                    step='year',\n",
    "                    stepmode='backward'),\n",
    "                dict(label='All', step='all')\n",
    "            ])\n",
    "        ),\n",
    "        rangeslider=dict(\n",
    "            visible=True\n",
    "        ),\n",
    "        type='date'\n",
    "    )\n",
    ")\n",
    "fig.update_layout(xaxis_title='Dates', yaxis_title='Stock Price',\n",
    "                 title='Grab Candlestick Chart')\n",
    "fig.show()"
   ]
  },
  {
   "cell_type": "markdown",
   "metadata": {},
   "source": [
    "# Forecasting using Pycaret"
   ]
  },
  {
   "cell_type": "code",
   "execution_count": null,
   "metadata": {
    "execution": {
     "iopub.execute_input": "2023-12-14T02:29:26.287712Z",
     "iopub.status.busy": "2023-12-14T02:29:26.287185Z",
     "iopub.status.idle": "2023-12-14T02:29:26.315673Z",
     "shell.execute_reply": "2023-12-14T02:29:26.313835Z",
     "shell.execute_reply.started": "2023-12-14T02:29:26.287652Z"
    }
   },
   "outputs": [],
   "source": [
    "open_series = df.resample('M', on='Date')['Open'].mean()\n",
    "close_series = df.resample('M', on='Date')['Close'].mean()\n",
    "high_series = df.resample('M', on='Date')['High'].mean()\n",
    "low_series = df.resample('M', on='Date')['Low'].mean()\n",
    "volume_series = df.resample('M', on='Date')['Volume'].mean()"
   ]
  },
  {
   "cell_type": "markdown",
   "metadata": {},
   "source": [
    "### Forecasting open"
   ]
  },
  {
   "cell_type": "code",
   "execution_count": null,
   "metadata": {
    "execution": {
     "iopub.execute_input": "2023-12-14T02:29:26.318276Z",
     "iopub.status.busy": "2023-12-14T02:29:26.317732Z",
     "iopub.status.idle": "2023-12-14T02:29:30.367102Z",
     "shell.execute_reply": "2023-12-14T02:29:30.365609Z",
     "shell.execute_reply.started": "2023-12-14T02:29:26.318225Z"
    }
   },
   "outputs": [],
   "source": [
    "from pycaret.time_series import *\n",
    "\n",
    "setup_open = setup(open_series, fh=3, fold=5, session_id=12)"
   ]
  },
  {
   "cell_type": "code",
   "execution_count": null,
   "metadata": {
    "execution": {
     "iopub.execute_input": "2023-12-14T02:29:30.370129Z",
     "iopub.status.busy": "2023-12-14T02:29:30.369537Z",
     "iopub.status.idle": "2023-12-14T02:30:12.580065Z",
     "shell.execute_reply": "2023-12-14T02:30:12.578603Z",
     "shell.execute_reply.started": "2023-12-14T02:29:30.370077Z"
    }
   },
   "outputs": [],
   "source": [
    "best_open_model = compare_models()"
   ]
  },
  {
   "cell_type": "code",
   "execution_count": null,
   "metadata": {
    "execution": {
     "iopub.execute_input": "2023-12-14T02:30:12.582484Z",
     "iopub.status.busy": "2023-12-14T02:30:12.582050Z",
     "iopub.status.idle": "2023-12-14T02:30:13.455359Z",
     "shell.execute_reply": "2023-12-14T02:30:13.454019Z",
     "shell.execute_reply.started": "2023-12-14T02:30:12.582439Z"
    }
   },
   "outputs": [],
   "source": [
    "plot_model(best_open_model, plot='forecast', data_kwargs={'fh':24})"
   ]
  },
  {
   "cell_type": "code",
   "execution_count": null,
   "metadata": {
    "execution": {
     "iopub.execute_input": "2023-12-14T02:30:13.457573Z",
     "iopub.status.busy": "2023-12-14T02:30:13.457137Z",
     "iopub.status.idle": "2023-12-14T02:30:14.062698Z",
     "shell.execute_reply": "2023-12-14T02:30:14.061077Z",
     "shell.execute_reply.started": "2023-12-14T02:30:13.457534Z"
    }
   },
   "outputs": [],
   "source": [
    "plot_model(best_open_model, plot='insample')"
   ]
  },
  {
   "cell_type": "code",
   "execution_count": null,
   "metadata": {
    "execution": {
     "iopub.execute_input": "2023-12-14T02:30:14.065302Z",
     "iopub.status.busy": "2023-12-14T02:30:14.064848Z",
     "iopub.status.idle": "2023-12-14T02:30:14.885846Z",
     "shell.execute_reply": "2023-12-14T02:30:14.884069Z",
     "shell.execute_reply.started": "2023-12-14T02:30:14.065264Z"
    }
   },
   "outputs": [],
   "source": [
    "plot_model(best_open_model, plot='diagnostics')"
   ]
  },
  {
   "cell_type": "markdown",
   "metadata": {},
   "source": [
    "### Forecasting close"
   ]
  },
  {
   "cell_type": "code",
   "execution_count": null,
   "metadata": {
    "execution": {
     "iopub.execute_input": "2023-12-14T02:30:14.888572Z",
     "iopub.status.busy": "2023-12-14T02:30:14.888076Z",
     "iopub.status.idle": "2023-12-14T02:30:16.313387Z",
     "shell.execute_reply": "2023-12-14T02:30:16.312151Z",
     "shell.execute_reply.started": "2023-12-14T02:30:14.888533Z"
    }
   },
   "outputs": [],
   "source": [
    "setup_close = setup(close_series, fh=3, fold=5)"
   ]
  },
  {
   "cell_type": "code",
   "execution_count": null,
   "metadata": {
    "execution": {
     "iopub.execute_input": "2023-12-14T02:30:16.316852Z",
     "iopub.status.busy": "2023-12-14T02:30:16.315923Z",
     "iopub.status.idle": "2023-12-14T02:31:03.442108Z",
     "shell.execute_reply": "2023-12-14T02:31:03.440687Z",
     "shell.execute_reply.started": "2023-12-14T02:30:16.316808Z"
    }
   },
   "outputs": [],
   "source": [
    "best_close_model = compare_models()"
   ]
  },
  {
   "cell_type": "code",
   "execution_count": null,
   "metadata": {
    "execution": {
     "iopub.execute_input": "2023-12-14T02:31:03.443942Z",
     "iopub.status.busy": "2023-12-14T02:31:03.443569Z",
     "iopub.status.idle": "2023-12-14T02:31:03.930110Z",
     "shell.execute_reply": "2023-12-14T02:31:03.929099Z",
     "shell.execute_reply.started": "2023-12-14T02:31:03.443911Z"
    }
   },
   "outputs": [],
   "source": [
    "plot_model(best_close_model, plot='forecast', data_kwargs={'fh':24})"
   ]
  },
  {
   "cell_type": "code",
   "execution_count": null,
   "metadata": {
    "execution": {
     "iopub.execute_input": "2023-12-14T02:31:03.932642Z",
     "iopub.status.busy": "2023-12-14T02:31:03.931733Z",
     "iopub.status.idle": "2023-12-14T02:31:04.450565Z",
     "shell.execute_reply": "2023-12-14T02:31:04.449236Z",
     "shell.execute_reply.started": "2023-12-14T02:31:03.932583Z"
    }
   },
   "outputs": [],
   "source": [
    "plot_model(best_close_model, plot='insample')"
   ]
  },
  {
   "cell_type": "code",
   "execution_count": null,
   "metadata": {
    "execution": {
     "iopub.execute_input": "2023-12-14T02:31:04.452441Z",
     "iopub.status.busy": "2023-12-14T02:31:04.452099Z",
     "iopub.status.idle": "2023-12-14T02:31:05.224314Z",
     "shell.execute_reply": "2023-12-14T02:31:05.222950Z",
     "shell.execute_reply.started": "2023-12-14T02:31:04.452413Z"
    }
   },
   "outputs": [],
   "source": [
    "plot_model(best_close_model, plot='diagnostics')"
   ]
  },
  {
   "cell_type": "markdown",
   "metadata": {},
   "source": [
    "### Forecasting high"
   ]
  },
  {
   "cell_type": "code",
   "execution_count": null,
   "metadata": {
    "execution": {
     "iopub.execute_input": "2023-12-14T02:31:05.226223Z",
     "iopub.status.busy": "2023-12-14T02:31:05.225871Z",
     "iopub.status.idle": "2023-12-14T02:31:06.511890Z",
     "shell.execute_reply": "2023-12-14T02:31:06.510235Z",
     "shell.execute_reply.started": "2023-12-14T02:31:05.226193Z"
    }
   },
   "outputs": [],
   "source": [
    "setup_high = setup(high_series, fh=3, fold=5)"
   ]
  },
  {
   "cell_type": "code",
   "execution_count": null,
   "metadata": {
    "execution": {
     "iopub.execute_input": "2023-12-14T02:31:06.515353Z",
     "iopub.status.busy": "2023-12-14T02:31:06.514070Z",
     "iopub.status.idle": "2023-12-14T02:31:54.675799Z",
     "shell.execute_reply": "2023-12-14T02:31:54.674033Z",
     "shell.execute_reply.started": "2023-12-14T02:31:06.515285Z"
    }
   },
   "outputs": [],
   "source": [
    "best_high_model = compare_models()"
   ]
  },
  {
   "cell_type": "code",
   "execution_count": null,
   "metadata": {
    "execution": {
     "iopub.execute_input": "2023-12-14T02:31:54.679412Z",
     "iopub.status.busy": "2023-12-14T02:31:54.678279Z",
     "iopub.status.idle": "2023-12-14T02:31:55.205999Z",
     "shell.execute_reply": "2023-12-14T02:31:55.204285Z",
     "shell.execute_reply.started": "2023-12-14T02:31:54.679353Z"
    }
   },
   "outputs": [],
   "source": [
    "plot_model(best_high_model, plot='forecast', data_kwargs={'fh':24})"
   ]
  },
  {
   "cell_type": "code",
   "execution_count": null,
   "metadata": {
    "execution": {
     "iopub.execute_input": "2023-12-14T02:31:55.208802Z",
     "iopub.status.busy": "2023-12-14T02:31:55.208223Z",
     "iopub.status.idle": "2023-12-14T02:31:55.899278Z",
     "shell.execute_reply": "2023-12-14T02:31:55.897432Z",
     "shell.execute_reply.started": "2023-12-14T02:31:55.208755Z"
    }
   },
   "outputs": [],
   "source": [
    "plot_model(best_high_model, plot='insample')"
   ]
  },
  {
   "cell_type": "code",
   "execution_count": null,
   "metadata": {
    "execution": {
     "iopub.execute_input": "2023-12-14T02:31:55.901595Z",
     "iopub.status.busy": "2023-12-14T02:31:55.901129Z",
     "iopub.status.idle": "2023-12-14T02:31:56.772521Z",
     "shell.execute_reply": "2023-12-14T02:31:56.771240Z",
     "shell.execute_reply.started": "2023-12-14T02:31:55.901549Z"
    }
   },
   "outputs": [],
   "source": [
    "plot_model(best_high_model, plot='diagnostics')"
   ]
  },
  {
   "cell_type": "markdown",
   "metadata": {},
   "source": [
    "### Forecasting low"
   ]
  },
  {
   "cell_type": "code",
   "execution_count": null,
   "metadata": {
    "execution": {
     "iopub.execute_input": "2023-12-14T02:31:56.775963Z",
     "iopub.status.busy": "2023-12-14T02:31:56.774396Z",
     "iopub.status.idle": "2023-12-14T02:31:58.184248Z",
     "shell.execute_reply": "2023-12-14T02:31:58.183044Z",
     "shell.execute_reply.started": "2023-12-14T02:31:56.775899Z"
    }
   },
   "outputs": [],
   "source": [
    "setup_low = setup(low_series, fh=3, fold=5)"
   ]
  },
  {
   "cell_type": "code",
   "execution_count": null,
   "metadata": {
    "execution": {
     "iopub.execute_input": "2023-12-14T02:31:58.187430Z",
     "iopub.status.busy": "2023-12-14T02:31:58.185939Z",
     "iopub.status.idle": "2023-12-14T02:32:45.468708Z",
     "shell.execute_reply": "2023-12-14T02:32:45.467447Z",
     "shell.execute_reply.started": "2023-12-14T02:31:58.187378Z"
    }
   },
   "outputs": [],
   "source": [
    "best_low_model = compare_models()"
   ]
  },
  {
   "cell_type": "code",
   "execution_count": null,
   "metadata": {
    "execution": {
     "iopub.execute_input": "2023-12-14T02:32:45.470695Z",
     "iopub.status.busy": "2023-12-14T02:32:45.470298Z",
     "iopub.status.idle": "2023-12-14T02:32:46.099011Z",
     "shell.execute_reply": "2023-12-14T02:32:46.097577Z",
     "shell.execute_reply.started": "2023-12-14T02:32:45.470651Z"
    }
   },
   "outputs": [],
   "source": [
    "plot_model(best_low_model, plot='forecast', data_kwargs={'fh':24})"
   ]
  },
  {
   "cell_type": "code",
   "execution_count": null,
   "metadata": {
    "execution": {
     "iopub.execute_input": "2023-12-14T02:32:46.101281Z",
     "iopub.status.busy": "2023-12-14T02:32:46.100751Z",
     "iopub.status.idle": "2023-12-14T02:32:46.775480Z",
     "shell.execute_reply": "2023-12-14T02:32:46.773576Z",
     "shell.execute_reply.started": "2023-12-14T02:32:46.101245Z"
    }
   },
   "outputs": [],
   "source": [
    "plot_model(best_low_model, plot='insample')"
   ]
  },
  {
   "cell_type": "code",
   "execution_count": null,
   "metadata": {
    "execution": {
     "iopub.execute_input": "2023-12-14T02:32:46.778574Z",
     "iopub.status.busy": "2023-12-14T02:32:46.777961Z",
     "iopub.status.idle": "2023-12-14T02:32:47.753599Z",
     "shell.execute_reply": "2023-12-14T02:32:47.752240Z",
     "shell.execute_reply.started": "2023-12-14T02:32:46.778517Z"
    }
   },
   "outputs": [],
   "source": [
    "plot_model(best_low_model, plot='diagnostics')"
   ]
  },
  {
   "cell_type": "markdown",
   "metadata": {},
   "source": [
    "### Forecasting volume"
   ]
  },
  {
   "cell_type": "code",
   "execution_count": null,
   "metadata": {
    "execution": {
     "iopub.execute_input": "2023-12-14T02:32:47.756064Z",
     "iopub.status.busy": "2023-12-14T02:32:47.755610Z",
     "iopub.status.idle": "2023-12-14T02:32:49.164550Z",
     "shell.execute_reply": "2023-12-14T02:32:49.163033Z",
     "shell.execute_reply.started": "2023-12-14T02:32:47.756019Z"
    }
   },
   "outputs": [],
   "source": [
    "setup_volume = setup(volume_series, fh=3, fold=5)"
   ]
  },
  {
   "cell_type": "code",
   "execution_count": null,
   "metadata": {
    "execution": {
     "iopub.execute_input": "2023-12-14T02:32:49.168007Z",
     "iopub.status.busy": "2023-12-14T02:32:49.167002Z",
     "iopub.status.idle": "2023-12-14T02:33:32.935592Z",
     "shell.execute_reply": "2023-12-14T02:33:32.934041Z",
     "shell.execute_reply.started": "2023-12-14T02:32:49.167952Z"
    }
   },
   "outputs": [],
   "source": [
    "best_volume_model = compare_models()"
   ]
  },
  {
   "cell_type": "code",
   "execution_count": null,
   "metadata": {
    "execution": {
     "iopub.execute_input": "2023-12-14T02:33:32.938203Z",
     "iopub.status.busy": "2023-12-14T02:33:32.937810Z",
     "iopub.status.idle": "2023-12-14T02:33:33.358423Z",
     "shell.execute_reply": "2023-12-14T02:33:33.357525Z",
     "shell.execute_reply.started": "2023-12-14T02:33:32.938170Z"
    }
   },
   "outputs": [],
   "source": [
    "plot_model(best_volume_model, plot='forecast', data_kwargs={'fh':24})"
   ]
  },
  {
   "cell_type": "code",
   "execution_count": null,
   "metadata": {
    "execution": {
     "iopub.execute_input": "2023-12-14T02:33:33.360432Z",
     "iopub.status.busy": "2023-12-14T02:33:33.359867Z",
     "iopub.status.idle": "2023-12-14T02:33:33.769773Z",
     "shell.execute_reply": "2023-12-14T02:33:33.768718Z",
     "shell.execute_reply.started": "2023-12-14T02:33:33.360396Z"
    }
   },
   "outputs": [],
   "source": [
    "plot_model(best_volume_model, plot='insample')"
   ]
  },
  {
   "cell_type": "code",
   "execution_count": null,
   "metadata": {
    "execution": {
     "iopub.execute_input": "2023-12-14T02:33:33.772338Z",
     "iopub.status.busy": "2023-12-14T02:33:33.771173Z",
     "iopub.status.idle": "2023-12-14T02:33:34.462789Z",
     "shell.execute_reply": "2023-12-14T02:33:34.461144Z",
     "shell.execute_reply.started": "2023-12-14T02:33:33.772300Z"
    }
   },
   "outputs": [],
   "source": [
    "plot_model(best_volume_model, plot='diagnostics')"
   ]
  }
 ],
 "metadata": {
  "kaggle": {
   "accelerator": "none",
   "dataSources": [
    {
     "datasetId": 4124662,
     "sourceId": 7145418,
     "sourceType": "datasetVersion"
    }
   ],
   "dockerImageVersionId": 30626,
   "isGpuEnabled": false,
   "isInternetEnabled": true,
   "language": "python",
   "sourceType": "notebook"
  },
  "kernelspec": {
   "display_name": "Python 3 (ipykernel)",
   "language": "python",
   "name": "python3"
  },
  "language_info": {
   "codemirror_mode": {
    "name": "ipython",
    "version": 3
   },
   "file_extension": ".py",
   "mimetype": "text/x-python",
   "name": "python",
   "nbconvert_exporter": "python",
   "pygments_lexer": "ipython3",
   "version": "3.11.5"
  }
 },
 "nbformat": 4,
 "nbformat_minor": 4
}
