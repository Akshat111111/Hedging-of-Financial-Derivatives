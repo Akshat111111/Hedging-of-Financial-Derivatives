{
 "cells": [
  {
   "cell_type": "code",
   "execution_count": 1,
   "id": "04f1ff57",
   "metadata": {
    "execution": {
     "iopub.execute_input": "2022-02-03T04:43:11.112636Z",
     "iopub.status.busy": "2022-02-03T04:43:11.111750Z",
     "iopub.status.idle": "2022-02-03T04:43:12.287764Z",
     "shell.execute_reply": "2022-02-03T04:43:12.288527Z",
     "shell.execute_reply.started": "2022-02-03T03:38:46.308600Z"
    },
    "papermill": {
     "duration": 1.217698,
     "end_time": "2022-02-03T04:43:12.288735",
     "exception": false,
     "start_time": "2022-02-03T04:43:11.071037",
     "status": "completed"
    },
    "tags": []
   },
   "outputs": [],
   "source": [
    "import numpy as np\n",
    "import pandas as pd\n",
    "import os\n",
    "import matplotlib.pyplot as plt\n",
    "import seaborn as sns\n",
    "sns.set_style('whitegrid')\n",
    "plt.style.use(\"fivethirtyeight\")\n",
    "%matplotlib inline\n",
    "\n",
    "# For reading stock data from yahoo\n",
    "from pandas_datareader.data import DataReader\n",
    "\n",
    "# For time stamps\n",
    "from datetime import datetime\n",
    "# Set up End and Start times for data grab\n",
    "end = datetime.now()\n",
    "start = datetime(end.year - 1, end.month, end.day)"
   ]
  },
  {
   "cell_type": "code",
   "execution_count": 2,
   "id": "ccca2269",
   "metadata": {
    "execution": {
     "iopub.execute_input": "2022-02-03T04:43:12.358423Z",
     "iopub.status.busy": "2022-02-03T04:43:12.357651Z",
     "iopub.status.idle": "2022-02-03T04:43:12.444164Z",
     "shell.execute_reply": "2022-02-03T04:43:12.444684Z",
     "shell.execute_reply.started": "2022-02-03T03:50:18.442785Z"
    },
    "papermill": {
     "duration": 0.124866,
     "end_time": "2022-02-03T04:43:12.444881",
     "exception": false,
     "start_time": "2022-02-03T04:43:12.320015",
     "status": "completed"
    },
    "tags": []
   },
   "outputs": [
    {
     "data": {
      "text/plain": [
       "(8233, 7)"
      ]
     },
     "execution_count": 2,
     "metadata": {},
     "output_type": "execute_result"
    }
   ],
   "source": [
    "df= pd.read_csv(\"EA.csv\")\n",
    "df['Date'] = pd.to_datetime(df['Date'])\n",
    "df.shape"
   ]
  },
  {
   "cell_type": "code",
   "execution_count": 3,
   "id": "4ce51d62",
   "metadata": {
    "execution": {
     "iopub.execute_input": "2022-02-03T04:43:12.523939Z",
     "iopub.status.busy": "2022-02-03T04:43:12.520844Z",
     "iopub.status.idle": "2022-02-03T04:43:18.189256Z",
     "shell.execute_reply": "2022-02-03T04:43:18.188706Z",
     "shell.execute_reply.started": "2022-02-03T03:48:39.925534Z"
    },
    "papermill": {
     "duration": 5.711501,
     "end_time": "2022-02-03T04:43:18.189407",
     "exception": false,
     "start_time": "2022-02-03T04:43:12.477906",
     "status": "completed"
    },
    "tags": []
   },
   "outputs": [
    {
     "name": "stderr",
     "output_type": "stream",
     "text": [
      "/var/folders/qh/215l544s06x3_jp987f9gdgh0000gn/T/ipykernel_12608/2363375889.py:4: MatplotlibDeprecationWarning: The seaborn styles shipped by Matplotlib are deprecated since 3.6, as they no longer correspond to the styles shipped by seaborn. However, they will remain available as 'seaborn-v0_8-<style>'. Alternatively, directly use the seaborn API instead.\n",
      "  plt.style.use('seaborn')\n"
     ]
    }
   ],
   "source": [
    "import matplotlib.pyplot as plt\n",
    "import pandas_datareader as web\n",
    "from matplotlib import pyplot as plt\n",
    "plt.style.use('seaborn')\n",
    "\n",
    "from tensorflow import keras\n",
    "from sklearn.preprocessing import MinMaxScaler\n",
    "from sklearn.model_selection import train_test_split\n",
    "from sklearn.metrics import mean_squared_error, r2_score, mean_absolute_error\n",
    "%matplotlib inline\n",
    "from sklearn.preprocessing import MinMaxScaler\n",
    "from sklearn.model_selection import cross_val_score\n",
    "from sklearn.tree import DecisionTreeClassifier\n",
    "from keras.models import Sequential\n",
    "from keras.layers import Dense, LSTM\n",
    "import math\n",
    "from keras.models import Sequential # Create Model\n",
    "from keras.layers import Dense # Neurons\n",
    "from keras.layers import LSTM # Long Short Term Memory\n",
    "from sklearn.preprocessing import MinMaxScaler # Normalize\n",
    "from sklearn.metrics import mean_squared_error # Loss Function\n",
    "from sklearn.model_selection import train_test_split"
   ]
  },
  {
   "cell_type": "code",
   "execution_count": 4,
   "id": "9ff8d2d9",
   "metadata": {
    "execution": {
     "iopub.execute_input": "2022-02-03T04:43:18.267876Z",
     "iopub.status.busy": "2022-02-03T04:43:18.266798Z",
     "iopub.status.idle": "2022-02-03T04:43:18.283910Z",
     "shell.execute_reply": "2022-02-03T04:43:18.284442Z",
     "shell.execute_reply.started": "2022-02-03T03:50:47.594156Z"
    },
    "papermill": {
     "duration": 0.060661,
     "end_time": "2022-02-03T04:43:18.284649",
     "exception": false,
     "start_time": "2022-02-03T04:43:18.223988",
     "status": "completed"
    },
    "tags": []
   },
   "outputs": [
    {
     "data": {
      "text/html": [
       "<div>\n",
       "<style scoped>\n",
       "    .dataframe tbody tr th:only-of-type {\n",
       "        vertical-align: middle;\n",
       "    }\n",
       "\n",
       "    .dataframe tbody tr th {\n",
       "        vertical-align: top;\n",
       "    }\n",
       "\n",
       "    .dataframe thead th {\n",
       "        text-align: right;\n",
       "    }\n",
       "</style>\n",
       "<table border=\"1\" class=\"dataframe\">\n",
       "  <thead>\n",
       "    <tr style=\"text-align: right;\">\n",
       "      <th></th>\n",
       "      <th>Open</th>\n",
       "      <th>High</th>\n",
       "      <th>Low</th>\n",
       "      <th>Close</th>\n",
       "      <th>Adj Close</th>\n",
       "      <th>Volume</th>\n",
       "    </tr>\n",
       "    <tr>\n",
       "      <th>Date</th>\n",
       "      <th></th>\n",
       "      <th></th>\n",
       "      <th></th>\n",
       "      <th></th>\n",
       "      <th></th>\n",
       "      <th></th>\n",
       "    </tr>\n",
       "  </thead>\n",
       "  <tbody>\n",
       "    <tr>\n",
       "      <th>1989-09-20</th>\n",
       "      <td>0.0</td>\n",
       "      <td>0.531250</td>\n",
       "      <td>0.515625</td>\n",
       "      <td>0.515625</td>\n",
       "      <td>0.511700</td>\n",
       "      <td>15396800</td>\n",
       "    </tr>\n",
       "    <tr>\n",
       "      <th>1989-09-21</th>\n",
       "      <td>0.0</td>\n",
       "      <td>0.507813</td>\n",
       "      <td>0.500000</td>\n",
       "      <td>0.500000</td>\n",
       "      <td>0.496193</td>\n",
       "      <td>6224000</td>\n",
       "    </tr>\n",
       "    <tr>\n",
       "      <th>1989-09-22</th>\n",
       "      <td>0.0</td>\n",
       "      <td>0.507813</td>\n",
       "      <td>0.500000</td>\n",
       "      <td>0.500000</td>\n",
       "      <td>0.496193</td>\n",
       "      <td>2041600</td>\n",
       "    </tr>\n",
       "    <tr>\n",
       "      <th>1989-09-25</th>\n",
       "      <td>0.0</td>\n",
       "      <td>0.476563</td>\n",
       "      <td>0.468750</td>\n",
       "      <td>0.468750</td>\n",
       "      <td>0.465181</td>\n",
       "      <td>3072000</td>\n",
       "    </tr>\n",
       "    <tr>\n",
       "      <th>1989-09-26</th>\n",
       "      <td>0.0</td>\n",
       "      <td>0.476563</td>\n",
       "      <td>0.468750</td>\n",
       "      <td>0.468750</td>\n",
       "      <td>0.465181</td>\n",
       "      <td>888000</td>\n",
       "    </tr>\n",
       "  </tbody>\n",
       "</table>\n",
       "</div>"
      ],
      "text/plain": [
       "            Open      High       Low     Close  Adj Close    Volume\n",
       "Date                                                               \n",
       "1989-09-20   0.0  0.531250  0.515625  0.515625   0.511700  15396800\n",
       "1989-09-21   0.0  0.507813  0.500000  0.500000   0.496193   6224000\n",
       "1989-09-22   0.0  0.507813  0.500000  0.500000   0.496193   2041600\n",
       "1989-09-25   0.0  0.476563  0.468750  0.468750   0.465181   3072000\n",
       "1989-09-26   0.0  0.476563  0.468750  0.468750   0.465181    888000"
      ]
     },
     "execution_count": 4,
     "metadata": {},
     "output_type": "execute_result"
    }
   ],
   "source": [
    "df.set_index('Date',inplace=True)\n",
    "df.head()"
   ]
  },
  {
   "cell_type": "code",
   "execution_count": 5,
   "id": "892f750c",
   "metadata": {
    "execution": {
     "iopub.execute_input": "2022-02-03T04:43:18.362667Z",
     "iopub.status.busy": "2022-02-03T04:43:18.361482Z",
     "iopub.status.idle": "2022-02-03T04:43:18.370637Z",
     "shell.execute_reply": "2022-02-03T04:43:18.369963Z",
     "shell.execute_reply.started": "2022-02-03T03:51:42.809736Z"
    },
    "papermill": {
     "duration": 0.051383,
     "end_time": "2022-02-03T04:43:18.370773",
     "exception": false,
     "start_time": "2022-02-03T04:43:18.319390",
     "status": "completed"
    },
    "tags": []
   },
   "outputs": [],
   "source": [
    "scale = MinMaxScaler()\n",
    "scalled = scale.fit_transform(df)\n",
    "i = 0\n",
    "for col in df.columns:\n",
    "    df[col] = scalled[:,i]\n",
    "    i += 1"
   ]
  },
  {
   "cell_type": "code",
   "execution_count": 6,
   "id": "0fa80e83",
   "metadata": {
    "execution": {
     "iopub.execute_input": "2022-02-03T04:43:18.446413Z",
     "iopub.status.busy": "2022-02-03T04:43:18.445680Z",
     "iopub.status.idle": "2022-02-03T04:43:18.480281Z",
     "shell.execute_reply": "2022-02-03T04:43:18.480936Z",
     "shell.execute_reply.started": "2022-02-03T03:52:06.454599Z"
    },
    "papermill": {
     "duration": 0.077194,
     "end_time": "2022-02-03T04:43:18.481150",
     "exception": false,
     "start_time": "2022-02-03T04:43:18.403956",
     "status": "completed"
    },
    "tags": []
   },
   "outputs": [
    {
     "data": {
      "text/html": [
       "<div>\n",
       "<style scoped>\n",
       "    .dataframe tbody tr th:only-of-type {\n",
       "        vertical-align: middle;\n",
       "    }\n",
       "\n",
       "    .dataframe tbody tr th {\n",
       "        vertical-align: top;\n",
       "    }\n",
       "\n",
       "    .dataframe thead th {\n",
       "        text-align: right;\n",
       "    }\n",
       "</style>\n",
       "<table border=\"1\" class=\"dataframe\">\n",
       "  <thead>\n",
       "    <tr style=\"text-align: right;\">\n",
       "      <th></th>\n",
       "      <th>Open</th>\n",
       "      <th>High</th>\n",
       "      <th>Low</th>\n",
       "      <th>Close</th>\n",
       "      <th>Adj Close</th>\n",
       "      <th>Volume</th>\n",
       "    </tr>\n",
       "  </thead>\n",
       "  <tbody>\n",
       "    <tr>\n",
       "      <th>count</th>\n",
       "      <td>8233.000000</td>\n",
       "      <td>8233.000000</td>\n",
       "      <td>8233.000000</td>\n",
       "      <td>8233.000000</td>\n",
       "      <td>8233.000000</td>\n",
       "      <td>8233.000000</td>\n",
       "    </tr>\n",
       "    <tr>\n",
       "      <th>mean</th>\n",
       "      <td>0.272784</td>\n",
       "      <td>0.270615</td>\n",
       "      <td>0.269323</td>\n",
       "      <td>0.271074</td>\n",
       "      <td>0.270890</td>\n",
       "      <td>0.093445</td>\n",
       "    </tr>\n",
       "    <tr>\n",
       "      <th>std</th>\n",
       "      <td>0.265756</td>\n",
       "      <td>0.265460</td>\n",
       "      <td>0.265633</td>\n",
       "      <td>0.266467</td>\n",
       "      <td>0.266530</td>\n",
       "      <td>0.071466</td>\n",
       "    </tr>\n",
       "    <tr>\n",
       "      <th>min</th>\n",
       "      <td>0.000000</td>\n",
       "      <td>0.000000</td>\n",
       "      <td>0.000000</td>\n",
       "      <td>0.000000</td>\n",
       "      <td>0.000000</td>\n",
       "      <td>0.000000</td>\n",
       "    </tr>\n",
       "    <tr>\n",
       "      <th>25%</th>\n",
       "      <td>0.063104</td>\n",
       "      <td>0.061026</td>\n",
       "      <td>0.059763</td>\n",
       "      <td>0.060840</td>\n",
       "      <td>0.060759</td>\n",
       "      <td>0.051511</td>\n",
       "    </tr>\n",
       "    <tr>\n",
       "      <th>50%</th>\n",
       "      <td>0.166846</td>\n",
       "      <td>0.166649</td>\n",
       "      <td>0.162001</td>\n",
       "      <td>0.164813</td>\n",
       "      <td>0.164593</td>\n",
       "      <td>0.076396</td>\n",
       "    </tr>\n",
       "    <tr>\n",
       "      <th>75%</th>\n",
       "      <td>0.379377</td>\n",
       "      <td>0.377349</td>\n",
       "      <td>0.376286</td>\n",
       "      <td>0.378347</td>\n",
       "      <td>0.377842</td>\n",
       "      <td>0.114643</td>\n",
       "    </tr>\n",
       "    <tr>\n",
       "      <th>max</th>\n",
       "      <td>1.000000</td>\n",
       "      <td>1.000000</td>\n",
       "      <td>1.000000</td>\n",
       "      <td>1.000000</td>\n",
       "      <td>1.000000</td>\n",
       "      <td>1.000000</td>\n",
       "    </tr>\n",
       "  </tbody>\n",
       "</table>\n",
       "</div>"
      ],
      "text/plain": [
       "              Open         High          Low        Close    Adj Close  \\\n",
       "count  8233.000000  8233.000000  8233.000000  8233.000000  8233.000000   \n",
       "mean      0.272784     0.270615     0.269323     0.271074     0.270890   \n",
       "std       0.265756     0.265460     0.265633     0.266467     0.266530   \n",
       "min       0.000000     0.000000     0.000000     0.000000     0.000000   \n",
       "25%       0.063104     0.061026     0.059763     0.060840     0.060759   \n",
       "50%       0.166846     0.166649     0.162001     0.164813     0.164593   \n",
       "75%       0.379377     0.377349     0.376286     0.378347     0.377842   \n",
       "max       1.000000     1.000000     1.000000     1.000000     1.000000   \n",
       "\n",
       "            Volume  \n",
       "count  8233.000000  \n",
       "mean      0.093445  \n",
       "std       0.071466  \n",
       "min       0.000000  \n",
       "25%       0.051511  \n",
       "50%       0.076396  \n",
       "75%       0.114643  \n",
       "max       1.000000  "
      ]
     },
     "execution_count": 6,
     "metadata": {},
     "output_type": "execute_result"
    }
   ],
   "source": [
    "df.describe()"
   ]
  },
  {
   "cell_type": "code",
   "execution_count": 7,
   "id": "1fc0a4cd",
   "metadata": {
    "execution": {
     "iopub.execute_input": "2022-02-03T04:43:18.556224Z",
     "iopub.status.busy": "2022-02-03T04:43:18.555361Z",
     "iopub.status.idle": "2022-02-03T04:43:18.559396Z",
     "shell.execute_reply": "2022-02-03T04:43:18.558714Z",
     "shell.execute_reply.started": "2022-02-03T03:54:09.784474Z"
    },
    "papermill": {
     "duration": 0.043568,
     "end_time": "2022-02-03T04:43:18.559556",
     "exception": false,
     "start_time": "2022-02-03T04:43:18.515988",
     "status": "completed"
    },
    "tags": []
   },
   "outputs": [],
   "source": [
    "x, y = df.drop('Volume', axis=1), df['Close']"
   ]
  },
  {
   "cell_type": "code",
   "execution_count": 8,
   "id": "1c09cd84",
   "metadata": {
    "execution": {
     "iopub.execute_input": "2022-02-03T04:43:18.634742Z",
     "iopub.status.busy": "2022-02-03T04:43:18.633748Z",
     "iopub.status.idle": "2022-02-03T04:43:18.637265Z",
     "shell.execute_reply": "2022-02-03T04:43:18.637868Z",
     "shell.execute_reply.started": "2022-02-03T04:02:08.054571Z"
    },
    "papermill": {
     "duration": 0.045085,
     "end_time": "2022-02-03T04:43:18.638019",
     "exception": false,
     "start_time": "2022-02-03T04:43:18.592934",
     "status": "completed"
    },
    "tags": []
   },
   "outputs": [
    {
     "data": {
      "text/plain": [
       "6587"
      ]
     },
     "execution_count": 8,
     "metadata": {},
     "output_type": "execute_result"
    }
   ],
   "source": [
    "data = df.filter(['Close'])\n",
    "dataset = data.values #convert the data frame to a numpy array\n",
    "training_data_len = math.ceil(len(dataset)*.8)  # number of rows to train the model on\n",
    "training_data_len"
   ]
  },
  {
   "cell_type": "code",
   "execution_count": 9,
   "id": "4baef6e6",
   "metadata": {
    "execution": {
     "iopub.execute_input": "2022-02-03T04:43:18.710915Z",
     "iopub.status.busy": "2022-02-03T04:43:18.709854Z",
     "iopub.status.idle": "2022-02-03T04:43:18.733967Z",
     "shell.execute_reply": "2022-02-03T04:43:18.734886Z",
     "shell.execute_reply.started": "2022-02-03T04:02:13.283549Z"
    },
    "papermill": {
     "duration": 0.062418,
     "end_time": "2022-02-03T04:43:18.735120",
     "exception": false,
     "start_time": "2022-02-03T04:43:18.672702",
     "status": "completed"
    },
    "tags": []
   },
   "outputs": [
    {
     "name": "stdout",
     "output_type": "stream",
     "text": [
      "[array([0.00078876, 0.00068359, 0.00068359, 0.00047325, 0.00047325,\n",
      "       0.00047325, 0.00036809, 0.00036809, 0.00047325, 0.00068359,\n",
      "       0.00073618, 0.00073618, 0.00073618, 0.00073618, 0.00063101,\n",
      "       0.00052584, 0.00068359, 0.00052584, 0.00042067, 0.0003155 ,\n",
      "       0.00026292, 0.00052584, 0.00042067, 0.00042067, 0.00036809,\n",
      "       0.00036809, 0.00047325, 0.00063101, 0.00063101, 0.00047325,\n",
      "       0.00057842, 0.00047325, 0.00047325, 0.00047325, 0.00057842,\n",
      "       0.00057842, 0.00057842, 0.00073618, 0.00099909, 0.00094651,\n",
      "       0.00099909, 0.00099909, 0.00089393, 0.00089393, 0.00089393,\n",
      "       0.00094651, 0.00089393, 0.00099909, 0.00078876, 0.00068359,\n",
      "       0.00084135, 0.00089393, 0.00073618, 0.00089393, 0.00105168,\n",
      "       0.00084135, 0.00084135, 0.00084135, 0.00099909, 0.00089393])]\n",
      "[0.0008413453925903702]\n",
      "\n"
     ]
    }
   ],
   "source": [
    "#scale the data\n",
    "scaler = MinMaxScaler(feature_range=(0,1))\n",
    "scaled_data = scaler.fit_transform(dataset)\n",
    "scaled_data\n",
    "\n",
    "train_data = scaled_data[0:training_data_len, :]\n",
    "#Split the data into x_train, y_train datasets\n",
    "x_train = []\n",
    "y_train = []\n",
    "for i in range(60,len(train_data)):\n",
    "    x_train.append(train_data[i-60:i, 0])\n",
    "    y_train.append(train_data[i,0])\n",
    "    if i<=60:\n",
    "        print(x_train)\n",
    "        print(y_train)\n",
    "        print()"
   ]
  },
  {
   "cell_type": "code",
   "execution_count": 10,
   "id": "7e1ad838",
   "metadata": {
    "execution": {
     "iopub.execute_input": "2022-02-03T04:43:18.813291Z",
     "iopub.status.busy": "2022-02-03T04:43:18.812294Z",
     "iopub.status.idle": "2022-02-03T04:43:18.828586Z",
     "shell.execute_reply": "2022-02-03T04:43:18.829167Z",
     "shell.execute_reply.started": "2022-02-03T04:02:49.424306Z"
    },
    "papermill": {
     "duration": 0.058997,
     "end_time": "2022-02-03T04:43:18.829350",
     "exception": false,
     "start_time": "2022-02-03T04:43:18.770353",
     "status": "completed"
    },
    "tags": []
   },
   "outputs": [
    {
     "data": {
      "text/plain": [
       "(6527, 60, 1)"
      ]
     },
     "execution_count": 10,
     "metadata": {},
     "output_type": "execute_result"
    }
   ],
   "source": [
    "#convert the x_train and y_train  to numppy array\n",
    "x_train,y_train = np.array(x_train), np.array(y_train)\n",
    "#reshape the data\n",
    "x_train = np.reshape(x_train,(x_train.shape[0],x_train.shape[1],1))\n",
    "x_train.shape"
   ]
  },
  {
   "cell_type": "markdown",
   "id": "1be16db1",
   "metadata": {
    "papermill": {
     "duration": 0.035057,
     "end_time": "2022-02-03T04:43:18.901035",
     "exception": false,
     "start_time": "2022-02-03T04:43:18.865978",
     "status": "completed"
    },
    "tags": []
   },
   "source": [
    "**Long Short Term Memory**"
   ]
  },
  {
   "cell_type": "code",
   "execution_count": 11,
   "id": "04c29cd2",
   "metadata": {
    "execution": {
     "iopub.execute_input": "2022-02-03T04:43:18.979366Z",
     "iopub.status.busy": "2022-02-03T04:43:18.978631Z",
     "iopub.status.idle": "2022-02-03T04:43:22.804920Z",
     "shell.execute_reply": "2022-02-03T04:43:22.801993Z",
     "shell.execute_reply.started": "2022-02-03T04:03:00.246434Z"
    },
    "papermill": {
     "duration": 3.868494,
     "end_time": "2022-02-03T04:43:22.805151",
     "exception": false,
     "start_time": "2022-02-03T04:43:18.936657",
     "status": "completed"
    },
    "tags": []
   },
   "outputs": [],
   "source": [
    "#Buil the LSTM model\n",
    "model =Sequential()\n",
    "model.add(LSTM(64,return_sequences=True, input_shape=(x_train.shape[1],1)))\n",
    "model.add(LSTM(64, return_sequences= False))\n",
    "model.add(Dense(32))\n",
    "model.add(Dense(1))\n",
    "#Complie the model\n",
    "model.compile(optimizer='adam', loss='mean_squared_error')"
   ]
  },
  {
   "cell_type": "code",
   "execution_count": 12,
   "id": "bb57f282",
   "metadata": {
    "execution": {
     "iopub.execute_input": "2022-02-03T04:43:23.067356Z",
     "iopub.status.busy": "2022-02-03T04:43:23.066392Z",
     "iopub.status.idle": "2022-02-03T05:00:48.747243Z",
     "shell.execute_reply": "2022-02-03T05:00:48.728787Z",
     "shell.execute_reply.started": "2022-02-03T04:03:04.187543Z"
    },
    "papermill": {
     "duration": 1045.834693,
     "end_time": "2022-02-03T05:00:48.747526",
     "exception": false,
     "start_time": "2022-02-03T04:43:22.912833",
     "status": "completed"
    },
    "tags": []
   },
   "outputs": [
    {
     "name": "stdout",
     "output_type": "stream",
     "text": [
      "Epoch 1/10\n",
      "6527/6527 [==============================] - 42s 6ms/step - loss: 2.2490e-04\n",
      "Epoch 2/10\n",
      "6527/6527 [==============================] - 40s 6ms/step - loss: 1.0035e-04\n",
      "Epoch 3/10\n",
      "6527/6527 [==============================] - 41s 6ms/step - loss: 7.6337e-05\n",
      "Epoch 4/10\n",
      "6527/6527 [==============================] - 40s 6ms/step - loss: 6.2148e-05\n",
      "Epoch 5/10\n",
      "6527/6527 [==============================] - 40s 6ms/step - loss: 6.1620e-05\n",
      "Epoch 6/10\n",
      "6527/6527 [==============================] - 40s 6ms/step - loss: 5.4835e-05\n",
      "Epoch 7/10\n",
      "6527/6527 [==============================] - 40s 6ms/step - loss: 5.2135e-05\n",
      "Epoch 8/10\n",
      "6527/6527 [==============================] - 40s 6ms/step - loss: 5.0467e-05\n",
      "Epoch 9/10\n",
      "6527/6527 [==============================] - 40s 6ms/step - loss: 4.8734e-05\n",
      "Epoch 10/10\n",
      "6527/6527 [==============================] - 40s 6ms/step - loss: 4.8956e-05\n"
     ]
    },
    {
     "data": {
      "text/plain": [
       "<keras.src.callbacks.History at 0x15bbab150>"
      ]
     },
     "execution_count": 12,
     "metadata": {},
     "output_type": "execute_result"
    }
   ],
   "source": [
    "#Train the model\n",
    "model.fit(x_train,y_train, batch_size=1, epochs=10)"
   ]
  },
  {
   "cell_type": "code",
   "execution_count": 13,
   "id": "baeae16f",
   "metadata": {
    "execution": {
     "iopub.execute_input": "2022-02-03T05:01:02.647282Z",
     "iopub.status.busy": "2022-02-03T05:01:02.646437Z",
     "iopub.status.idle": "2022-02-03T05:01:02.649336Z",
     "shell.execute_reply": "2022-02-03T05:01:02.649882Z",
     "shell.execute_reply.started": "2022-02-03T04:21:00.325817Z"
    },
    "papermill": {
     "duration": 7.550989,
     "end_time": "2022-02-03T05:01:02.650036",
     "exception": false,
     "start_time": "2022-02-03T05:00:55.099047",
     "status": "completed"
    },
    "tags": []
   },
   "outputs": [],
   "source": [
    "test_data= scaled_data[training_data_len-60:, :]\n",
    "#create the data sets x_test and y_test\n",
    "x_test = []\n",
    "y_test = dataset[training_data_len:,:]\n",
    "for i in range(60,len(test_data)):\n",
    "    x_test.append(test_data[i-60:i,0])"
   ]
  },
  {
   "cell_type": "code",
   "execution_count": 14,
   "id": "e606085a",
   "metadata": {
    "execution": {
     "iopub.execute_input": "2022-02-03T05:01:15.793471Z",
     "iopub.status.busy": "2022-02-03T05:01:15.792477Z",
     "iopub.status.idle": "2022-02-03T05:01:15.801857Z",
     "shell.execute_reply": "2022-02-03T05:01:15.802486Z",
     "shell.execute_reply.started": "2022-02-03T04:21:24.156510Z"
    },
    "papermill": {
     "duration": 6.760594,
     "end_time": "2022-02-03T05:01:15.802641",
     "exception": false,
     "start_time": "2022-02-03T05:01:09.042047",
     "status": "completed"
    },
    "tags": []
   },
   "outputs": [
    {
     "data": {
      "text/plain": [
       "(1646, 60, 1)"
      ]
     },
     "execution_count": 14,
     "metadata": {},
     "output_type": "execute_result"
    }
   ],
   "source": [
    "x_test = np.array(x_test)\n",
    "x_test = np.reshape(x_test, (x_test.shape[0], x_test.shape[1],1))\n",
    "x_test.shape"
   ]
  },
  {
   "cell_type": "code",
   "execution_count": 15,
   "id": "caca1633",
   "metadata": {
    "execution": {
     "iopub.execute_input": "2022-02-03T05:01:28.998918Z",
     "iopub.status.busy": "2022-02-03T05:01:28.997840Z",
     "iopub.status.idle": "2022-02-03T05:01:30.071744Z",
     "shell.execute_reply": "2022-02-03T05:01:30.072318Z",
     "shell.execute_reply.started": "2022-02-03T04:21:46.767575Z"
    },
    "papermill": {
     "duration": 7.497807,
     "end_time": "2022-02-03T05:01:30.072530",
     "exception": false,
     "start_time": "2022-02-03T05:01:22.574723",
     "status": "completed"
    },
    "tags": []
   },
   "outputs": [
    {
     "name": "stdout",
     "output_type": "stream",
     "text": [
      "52/52 [==============================] - 1s 5ms/step\n"
     ]
    }
   ],
   "source": [
    "#predicting the data\n",
    "predictions = model.predict(x_test)\n",
    "predictions = scaler.inverse_transform(predictions)"
   ]
  },
  {
   "cell_type": "code",
   "execution_count": 16,
   "id": "4210bd86",
   "metadata": {
    "execution": {
     "iopub.execute_input": "2022-02-03T05:01:44.259797Z",
     "iopub.status.busy": "2022-02-03T05:01:44.258842Z",
     "iopub.status.idle": "2022-02-03T05:01:44.891460Z",
     "shell.execute_reply": "2022-02-03T05:01:44.892035Z",
     "shell.execute_reply.started": "2022-02-03T04:25:51.912804Z"
    },
    "papermill": {
     "duration": 7.44514,
     "end_time": "2022-02-03T05:01:44.892209",
     "exception": false,
     "start_time": "2022-02-03T05:01:37.447069",
     "status": "completed"
    },
    "tags": []
   },
   "outputs": [
    {
     "data": {
      "text/plain": [
       "<matplotlib.legend.Legend at 0x15e074110>"
      ]
     },
     "execution_count": 16,
     "metadata": {},
     "output_type": "execute_result"
    },
    {
     "data": {
      "image/png": "[encoded data removed]",
      "text/plain": [
       "<Figure size 1600x800 with 1 Axes>"
      ]
     },
     "metadata": {},
     "output_type": "display_data"
    }
   ],
   "source": [
    "pd.options.mode.chained_assignment = None  # default='warn'\n",
    "#plot the data\n",
    "train = data[:training_data_len]\n",
    "valid = data[training_data_len:]\n",
    "valid['Predictions'] = predictions\n",
    "#Visialization the data\n",
    "plt.figure(figsize=(16,8))\n",
    "plt.title('Model')\n",
    "plt.xlabel('Date', fontsize=18)\n",
    "plt.ylabel('Close Price' ,fontsize=18)\n",
    "plt.plot(train['Close'],linewidth=3.5)\n",
    "plt.plot(valid[['Close','Predictions']],linewidth=3.5)\n",
    "plt.legend(['Train','Valid','Predictions'])"
   ]
  },
  {
   "cell_type": "code",
   "execution_count": 17,
   "id": "2c9ebb3b",
   "metadata": {
    "execution": {
     "iopub.execute_input": "2022-02-03T05:01:58.149135Z",
     "iopub.status.busy": "2022-02-03T05:01:58.148184Z",
     "iopub.status.idle": "2022-02-03T05:01:58.152217Z",
     "shell.execute_reply": "2022-02-03T05:01:58.152795Z",
     "shell.execute_reply.started": "2022-02-03T04:26:12.213713Z"
    },
    "papermill": {
     "duration": 6.803894,
     "end_time": "2022-02-03T05:01:58.152972",
     "exception": false,
     "start_time": "2022-02-03T05:01:51.349078",
     "status": "completed"
    },
    "tags": []
   },
   "outputs": [
    {
     "data": {
      "text/html": [
       "<div>\n",
       "<style scoped>\n",
       "    .dataframe tbody tr th:only-of-type {\n",
       "        vertical-align: middle;\n",
       "    }\n",
       "\n",
       "    .dataframe tbody tr th {\n",
       "        vertical-align: top;\n",
       "    }\n",
       "\n",
       "    .dataframe thead th {\n",
       "        text-align: right;\n",
       "    }\n",
       "</style>\n",
       "<table border=\"1\" class=\"dataframe\">\n",
       "  <thead>\n",
       "    <tr style=\"text-align: right;\">\n",
       "      <th></th>\n",
       "      <th>Close</th>\n",
       "      <th>Predictions</th>\n",
       "    </tr>\n",
       "    <tr>\n",
       "      <th>Date</th>\n",
       "      <th></th>\n",
       "      <th></th>\n",
       "    </tr>\n",
       "  </thead>\n",
       "  <tbody>\n",
       "    <tr>\n",
       "      <th>2015-11-09</th>\n",
       "      <td>0.474799</td>\n",
       "      <td>0.488014</td>\n",
       "    </tr>\n",
       "    <tr>\n",
       "      <th>2015-11-10</th>\n",
       "      <td>0.474058</td>\n",
       "      <td>0.479559</td>\n",
       "    </tr>\n",
       "    <tr>\n",
       "      <th>2015-11-11</th>\n",
       "      <td>0.477222</td>\n",
       "      <td>0.478990</td>\n",
       "    </tr>\n",
       "    <tr>\n",
       "      <th>2015-11-12</th>\n",
       "      <td>0.479645</td>\n",
       "      <td>0.481520</td>\n",
       "    </tr>\n",
       "    <tr>\n",
       "      <th>2015-11-13</th>\n",
       "      <td>0.467731</td>\n",
       "      <td>0.483327</td>\n",
       "    </tr>\n",
       "    <tr>\n",
       "      <th>...</th>\n",
       "      <td>...</td>\n",
       "      <td>...</td>\n",
       "    </tr>\n",
       "    <tr>\n",
       "      <th>2022-05-17</th>\n",
       "      <td>0.862019</td>\n",
       "      <td>0.802319</td>\n",
       "    </tr>\n",
       "    <tr>\n",
       "      <th>2022-05-18</th>\n",
       "      <td>0.865385</td>\n",
       "      <td>0.807636</td>\n",
       "    </tr>\n",
       "    <tr>\n",
       "      <th>2022-05-19</th>\n",
       "      <td>0.872452</td>\n",
       "      <td>0.811048</td>\n",
       "    </tr>\n",
       "    <tr>\n",
       "      <th>2022-05-20</th>\n",
       "      <td>0.877433</td>\n",
       "      <td>0.817362</td>\n",
       "    </tr>\n",
       "    <tr>\n",
       "      <th>2022-05-23</th>\n",
       "      <td>0.897692</td>\n",
       "      <td>0.821432</td>\n",
       "    </tr>\n",
       "  </tbody>\n",
       "</table>\n",
       "<p>1646 rows × 2 columns</p>\n",
       "</div>"
      ],
      "text/plain": [
       "               Close  Predictions\n",
       "Date                             \n",
       "2015-11-09  0.474799     0.488014\n",
       "2015-11-10  0.474058     0.479559\n",
       "2015-11-11  0.477222     0.478990\n",
       "2015-11-12  0.479645     0.481520\n",
       "2015-11-13  0.467731     0.483327\n",
       "...              ...          ...\n",
       "2022-05-17  0.862019     0.802319\n",
       "2022-05-18  0.865385     0.807636\n",
       "2022-05-19  0.872452     0.811048\n",
       "2022-05-20  0.877433     0.817362\n",
       "2022-05-23  0.897692     0.821432\n",
       "\n",
       "[1646 rows x 2 columns]"
      ]
     },
     "execution_count": 17,
     "metadata": {},
     "output_type": "execute_result"
    }
   ],
   "source": [
    "valid"
   ]
  },
  {
   "cell_type": "code",
   "execution_count": 19,
   "id": "b35183f7",
   "metadata": {
    "execution": {
     "iopub.execute_input": "2022-02-03T05:02:12.070447Z",
     "iopub.status.busy": "2022-02-03T05:02:12.069725Z",
     "iopub.status.idle": "2022-02-03T05:02:12.154781Z",
     "shell.execute_reply": "2022-02-03T05:02:12.154022Z",
     "shell.execute_reply.started": "2022-02-03T04:28:06.520834Z"
    },
    "papermill": {
     "duration": 6.726821,
     "end_time": "2022-02-03T05:02:12.154939",
     "exception": false,
     "start_time": "2022-02-03T05:02:05.428118",
     "status": "completed"
    },
    "tags": []
   },
   "outputs": [
    {
     "name": "stdout",
     "output_type": "stream",
     "text": [
      "1/1 [==============================] - 0s 12ms/step\n"
     ]
    },
    {
     "data": {
      "text/plain": [
       "array([[1.9968089]], dtype=float32)"
      ]
     },
     "execution_count": 19,
     "metadata": {},
     "output_type": "execute_result"
    }
   ],
   "source": [
    "#get the quote\n",
    "coca_quote = pd.read_csv('EA.csv')\n",
    "#Create new data frame\n",
    "new_df = coca_quote.filter(['Close'])\n",
    "#get the last 60 days closing price values and convert the dataframe to an array\n",
    "last_60_days = new_df[-60:].values\n",
    "#scaled the data to be values between 0 and 1\n",
    "last_60_days_scaled = scaler.transform(last_60_days)\n",
    "#create an empty list\n",
    "X_test = []\n",
    "#append the past 60 days \n",
    "X_test.append(last_60_days_scaled)\n",
    "#convert the X_test data set to a numpy array\n",
    "X_test = np.array(X_test)\n",
    "#Reshape the data\n",
    "X_test = np.reshape(X_test,(X_test.shape[0], X_test.shape[1],1))\n",
    "#get the predicted scaled price\n",
    "pred_price= model.predict(X_test)\n",
    "#undo the scalling\n",
    "pred_price = scaler.inverse_transform(pred_price)\n",
    "pred_price"
   ]
  },
  {
   "cell_type": "code",
   "execution_count": 20,
   "id": "00f98ded",
   "metadata": {
    "execution": {
     "iopub.execute_input": "2022-02-03T05:02:25.392053Z",
     "iopub.status.busy": "2022-02-03T05:02:25.391116Z",
     "iopub.status.idle": "2022-02-03T05:02:28.800159Z",
     "shell.execute_reply": "2022-02-03T05:02:28.799130Z",
     "shell.execute_reply.started": "2022-02-03T04:31:56.384534Z"
    },
    "papermill": {
     "duration": 9.844241,
     "end_time": "2022-02-03T05:02:28.800362",
     "exception": false,
     "start_time": "2022-02-03T05:02:18.956121",
     "status": "completed"
    },
    "tags": []
   },
   "outputs": [],
   "source": [
    "#importing packages for the prediction of time-series data\n",
    "from statsmodels.tsa.arima_model import ARIMA\n",
    "import statsmodels.api as sm\n",
    "import statsmodels.tsa.api as smt\n",
    "import statsmodels.formula.api as smf\n",
    "import plotly.graph_objects as go\n",
    "import plotly.express as px\n",
    "from plotly.subplots import make_subplots\n",
    "\n",
    "from sklearn.metrics import mean_squared_error\n",
    "\n",
    "%matplotlib inline"
   ]
  },
  {
   "cell_type": "code",
   "execution_count": 21,
   "id": "d42ec7ba",
   "metadata": {
    "execution": {
     "iopub.execute_input": "2022-02-03T05:02:42.582280Z",
     "iopub.status.busy": "2022-02-03T05:02:42.581348Z",
     "iopub.status.idle": "2022-02-03T05:02:42.690736Z",
     "shell.execute_reply": "2022-02-03T05:02:42.690060Z",
     "shell.execute_reply.started": "2022-02-03T04:32:29.513207Z"
    },
    "papermill": {
     "duration": 7.472852,
     "end_time": "2022-02-03T05:02:42.690906",
     "exception": false,
     "start_time": "2022-02-03T05:02:35.218054",
     "status": "completed"
    },
    "tags": []
   },
   "outputs": [
    {
     "data": {
      "text/html": [
       "        <script type=\"text/javascript\">\n",
       "        window.PlotlyConfig = {MathJaxConfig: 'local'};\n",
       "        if (window.MathJax && window.MathJax.Hub && window.MathJax.Hub.Config) {window.MathJax.Hub.Config({SVG: {font: \"STIX-Web\"}});}\n",
       "        if (typeof require !== 'undefined') {\n",
       "        require.undef(\"plotly\");\n",
       "        requirejs.config({\n",
       "            paths: {\n",
       "                'plotly': ['https://cdn.plot.ly/plotly-2.12.1.min']\n",
       "            }\n",
       "        });\n",
       "        require(['plotly'], function(Plotly) {\n",
       "            window._Plotly = Plotly;\n",
       "        });\n",
       "        }\n",
       "        </script>\n",
       "        "
      ]
     },
     "metadata": {},
     "output_type": "display_data"
    }
   ],
   "source": [
    "import pandas as pd\n",
    "import numpy as np\n",
    "import math\n",
    "import datetime as dt\n",
    "\n",
    "import matplotlib.pyplot as plt\n",
    "from itertools import cycle\n",
    "import plotly.graph_objects as go\n",
    "import plotly.express as px\n",
    "from plotly.subplots import make_subplots\n",
    "import seaborn as sns\n",
    "\n",
    "from xgboost import XGBRegressor\n",
    "from sklearn.metrics import mean_squared_error, mean_absolute_error, explained_variance_score, r2_score \n",
    "from sklearn.metrics import mean_poisson_deviance, mean_gamma_deviance, accuracy_score\n",
    "from sklearn.preprocessing import MinMaxScaler\n",
    "\n",
    "from plotly.offline import plot, iplot, init_notebook_mode\n",
    "init_notebook_mode(connected=True)"
   ]
  },
  {
   "cell_type": "code",
   "execution_count": 22,
   "id": "b355ddcf",
   "metadata": {
    "execution": {
     "iopub.execute_input": "2022-02-03T05:02:55.903919Z",
     "iopub.status.busy": "2022-02-03T05:02:55.903201Z",
     "iopub.status.idle": "2022-02-03T05:02:55.946941Z",
     "shell.execute_reply": "2022-02-03T05:02:55.947454Z",
     "shell.execute_reply.started": "2022-02-03T04:34:15.694528Z"
    },
    "papermill": {
     "duration": 6.463276,
     "end_time": "2022-02-03T05:02:55.947719",
     "exception": false,
     "start_time": "2022-02-03T05:02:49.484443",
     "status": "completed"
    },
    "tags": []
   },
   "outputs": [
    {
     "data": {
      "text/html": [
       "<div>\n",
       "<style scoped>\n",
       "    .dataframe tbody tr th:only-of-type {\n",
       "        vertical-align: middle;\n",
       "    }\n",
       "\n",
       "    .dataframe tbody tr th {\n",
       "        vertical-align: top;\n",
       "    }\n",
       "\n",
       "    .dataframe thead th {\n",
       "        text-align: right;\n",
       "    }\n",
       "</style>\n",
       "<table border=\"1\" class=\"dataframe\">\n",
       "  <thead>\n",
       "    <tr style=\"text-align: right;\">\n",
       "      <th></th>\n",
       "      <th>Date</th>\n",
       "      <th>Close</th>\n",
       "    </tr>\n",
       "  </thead>\n",
       "  <tbody>\n",
       "    <tr>\n",
       "      <th>0</th>\n",
       "      <td>1989-09-20</td>\n",
       "      <td>0.515625</td>\n",
       "    </tr>\n",
       "    <tr>\n",
       "      <th>1</th>\n",
       "      <td>1989-09-21</td>\n",
       "      <td>0.500000</td>\n",
       "    </tr>\n",
       "    <tr>\n",
       "      <th>2</th>\n",
       "      <td>1989-09-22</td>\n",
       "      <td>0.500000</td>\n",
       "    </tr>\n",
       "  </tbody>\n",
       "</table>\n",
       "</div>"
      ],
      "text/plain": [
       "        Date     Close\n",
       "0 1989-09-20  0.515625\n",
       "1 1989-09-21  0.500000\n",
       "2 1989-09-22  0.500000"
      ]
     },
     "execution_count": 22,
     "metadata": {},
     "output_type": "execute_result"
    }
   ],
   "source": [
    "df = pd.read_csv('EA.csv', parse_dates=['Date'])\n",
    "df1 = df[['Date','Close']]\n",
    "df1.head(3)"
   ]
  },
  {
   "cell_type": "code",
   "execution_count": 23,
   "id": "43c6049f",
   "metadata": {
    "execution": {
     "iopub.execute_input": "2022-02-03T05:03:09.164281Z",
     "iopub.status.busy": "2022-02-03T05:03:09.163052Z",
     "iopub.status.idle": "2022-02-03T05:03:09.180141Z",
     "shell.execute_reply": "2022-02-03T05:03:09.181008Z",
     "shell.execute_reply.started": "2022-02-03T04:34:41.556584Z"
    },
    "papermill": {
     "duration": 6.43026,
     "end_time": "2022-02-03T05:03:09.181310",
     "exception": false,
     "start_time": "2022-02-03T05:03:02.751050",
     "status": "completed"
    },
    "tags": []
   },
   "outputs": [
    {
     "name": "stdout",
     "output_type": "stream",
     "text": [
      "<class 'pandas.core.frame.DataFrame'>\n",
      "               Close\n",
      "Date                \n",
      "1989-09-20  0.515625\n",
      "1989-09-21  0.500000\n",
      "1989-09-22  0.500000\n",
      "========================\n",
      "                 Close\n",
      "Date                  \n",
      "2022-05-19  130.020004\n",
      "2022-05-20  130.759995\n",
      "2022-05-23  133.770004\n"
     ]
    }
   ],
   "source": [
    "# Setting the Date as Index\n",
    "df_ts = df1.set_index('Date')\n",
    "df_ts.sort_index(inplace=True)\n",
    "print (type(df_ts))\n",
    "print (df_ts.head(3))\n",
    "print (\"========================\")\n",
    "print (df_ts.tail(3))"
   ]
  },
  {
   "cell_type": "code",
   "execution_count": null,
   "id": "7510e7d0",
   "metadata": {
    "execution": {
     "iopub.execute_input": "2022-02-03T05:03:23.414174Z",
     "iopub.status.busy": "2022-02-03T05:03:23.395046Z",
     "iopub.status.idle": "2022-02-03T05:03:24.012966Z",
     "shell.execute_reply": "2022-02-03T05:03:24.013509Z",
     "shell.execute_reply.started": "2022-02-03T04:35:11.568078Z"
    },
    "papermill": {
     "duration": 7.362603,
     "end_time": "2022-02-03T05:03:24.013728",
     "exception": false,
     "start_time": "2022-02-03T05:03:16.651125",
     "status": "completed"
    },
    "tags": []
   },
   "outputs": [],
   "source": [
    "# Basic plot \n",
    "df_ts.plot()"
   ]
  },
  {
   "cell_type": "code",
   "execution_count": null,
   "id": "817aaf32",
   "metadata": {
    "execution": {
     "iopub.execute_input": "2022-02-03T05:03:37.154115Z",
     "iopub.status.busy": "2022-02-03T05:03:37.151759Z",
     "iopub.status.idle": "2022-02-03T05:03:37.154906Z",
     "shell.execute_reply": "2022-02-03T05:03:37.155402Z",
     "shell.execute_reply.started": "2022-02-03T04:35:40.006404Z"
    },
    "papermill": {
     "duration": 6.731658,
     "end_time": "2022-02-03T05:03:37.155573",
     "exception": false,
     "start_time": "2022-02-03T05:03:30.423915",
     "status": "completed"
    },
    "tags": []
   },
   "outputs": [],
   "source": [
    "# Dickey Fuller Test Function\n",
    "def test_stationarity(timeseries):\n",
    "    # Perform Dickey-Fuller test:\n",
    "    from statsmodels.tsa.stattools import adfuller\n",
    "    print('Results of Dickey-Fuller Test:')\n",
    "    print (\"==============================================\")\n",
    "    \n",
    "    dftest = adfuller(timeseries, autolag='AIC')\n",
    "    \n",
    "    dfoutput = pd.Series(dftest[0:4], index=['Test Statistic', 'p-value', '#lags Used', 'Number of Observations Used'])\n",
    "    \n",
    "    for key, value in dftest[4].items():\n",
    "        dfoutput['Critical Value (%s)'%key] = value\n",
    "    \n",
    "    print(dfoutput)\n",
    "    "
   ]
  },
  {
   "cell_type": "code",
   "execution_count": null,
   "id": "52991bd1",
   "metadata": {
    "execution": {
     "iopub.execute_input": "2022-02-03T05:03:51.061053Z",
     "iopub.status.busy": "2022-02-03T05:03:51.060048Z",
     "iopub.status.idle": "2022-02-03T05:03:51.062413Z",
     "shell.execute_reply": "2022-02-03T05:03:51.063045Z",
     "shell.execute_reply.started": "2022-02-03T04:36:03.795918Z"
    },
    "papermill": {
     "duration": 6.6041,
     "end_time": "2022-02-03T05:03:51.063190",
     "exception": false,
     "start_time": "2022-02-03T05:03:44.459090",
     "status": "completed"
    },
    "tags": []
   },
   "outputs": [],
   "source": [
    "# Convert the DF to series first\n",
    "ts = df_ts['Close']"
   ]
  },
  {
   "cell_type": "code",
   "execution_count": null,
   "id": "76f55928",
   "metadata": {
    "execution": {
     "iopub.execute_input": "2022-02-03T05:04:04.245316Z",
     "iopub.status.busy": "2022-02-03T05:04:04.243256Z",
     "iopub.status.idle": "2022-02-03T05:04:04.728801Z",
     "shell.execute_reply": "2022-02-03T05:04:04.729401Z",
     "shell.execute_reply.started": "2022-02-03T04:36:18.214791Z"
    },
    "papermill": {
     "duration": 6.981142,
     "end_time": "2022-02-03T05:04:04.729615",
     "exception": false,
     "start_time": "2022-02-03T05:03:57.748473",
     "status": "completed"
    },
    "tags": []
   },
   "outputs": [],
   "source": [
    "# Rolling Statistics\n",
    "rolmean = ts.rolling(window=12).mean()\n",
    "rolvar = ts.rolling(window=12).std()\n",
    "\n",
    "plt.plot(ts, label='Original')\n",
    "plt.plot(rolmean, label='Rolling Mean')\n",
    "plt.plot(rolvar, label='Rolling Standard Variance')\n",
    "plt.legend(loc='best')\n",
    "plt.title('Rolling Mean & Standard Deviation')\n",
    "plt.show(block=False)"
   ]
  },
  {
   "cell_type": "code",
   "execution_count": null,
   "id": "cba9d5ed",
   "metadata": {
    "execution": {
     "iopub.execute_input": "2022-02-03T05:04:19.012111Z",
     "iopub.status.busy": "2022-02-03T05:04:19.010848Z",
     "iopub.status.idle": "2022-02-03T05:04:20.653341Z",
     "shell.execute_reply": "2022-02-03T05:04:20.654477Z",
     "shell.execute_reply.started": "2022-02-03T04:36:40.818350Z"
    },
    "papermill": {
     "duration": 9.164948,
     "end_time": "2022-02-03T05:04:20.654912",
     "exception": false,
     "start_time": "2022-02-03T05:04:11.489964",
     "status": "completed"
    },
    "tags": []
   },
   "outputs": [],
   "source": [
    "test_stationarity(ts)"
   ]
  },
  {
   "cell_type": "code",
   "execution_count": null,
   "id": "af5155df",
   "metadata": {
    "execution": {
     "iopub.execute_input": "2022-02-03T05:04:33.876276Z",
     "iopub.status.busy": "2022-02-03T05:04:33.875542Z",
     "iopub.status.idle": "2022-02-03T05:04:33.909134Z",
     "shell.execute_reply": "2022-02-03T05:04:33.908261Z",
     "shell.execute_reply.started": "2022-02-03T04:37:10.691738Z"
    },
    "papermill": {
     "duration": 6.757876,
     "end_time": "2022-02-03T05:04:33.909371",
     "exception": false,
     "start_time": "2022-02-03T05:04:27.151495",
     "status": "completed"
    },
    "tags": []
   },
   "outputs": [],
   "source": [
    "# Lets Resample the data by Month and analyze again\n",
    "df_ts_m = df_ts.resample('M').mean()\n",
    "print (type(df_ts_m))\n",
    "print (df_ts_m.head(3))"
   ]
  },
  {
   "cell_type": "code",
   "execution_count": null,
   "id": "01cce52d",
   "metadata": {
    "execution": {
     "iopub.execute_input": "2022-02-03T05:04:47.198564Z",
     "iopub.status.busy": "2022-02-03T05:04:47.197712Z",
     "iopub.status.idle": "2022-02-03T05:04:47.201645Z",
     "shell.execute_reply": "2022-02-03T05:04:47.202154Z",
     "shell.execute_reply.started": "2022-02-03T04:37:24.597682Z"
    },
    "papermill": {
     "duration": 6.473487,
     "end_time": "2022-02-03T05:04:47.202366",
     "exception": false,
     "start_time": "2022-02-03T05:04:40.728879",
     "status": "completed"
    },
    "tags": []
   },
   "outputs": [],
   "source": [
    "tsm = df_ts_m['Close']\n",
    "print (type(tsm))"
   ]
  },
  {
   "cell_type": "code",
   "execution_count": null,
   "id": "9229f24d",
   "metadata": {
    "execution": {
     "iopub.execute_input": "2022-02-03T05:05:01.407320Z",
     "iopub.status.busy": "2022-02-03T05:05:01.406248Z",
     "iopub.status.idle": "2022-02-03T05:05:02.940410Z",
     "shell.execute_reply": "2022-02-03T05:05:02.940955Z",
     "shell.execute_reply.started": "2022-02-03T04:37:48.699643Z"
    },
    "papermill": {
     "duration": 8.328501,
     "end_time": "2022-02-03T05:05:02.941145",
     "exception": false,
     "start_time": "2022-02-03T05:04:54.612644",
     "status": "completed"
    },
    "tags": []
   },
   "outputs": [],
   "source": [
    "# Lets do a quick vanila decomposition to see any trend seasonality etc in the ts\n",
    "decomposition = sm.tsa.seasonal_decompose(tsm, model='multiplicative')\n",
    "\n",
    "fig = decomposition.plot()\n",
    "fig.set_figwidth(12)\n",
    "fig.set_figheight(8)\n",
    "fig.suptitle('Decomposition of multiplicative time series')\n",
    "plt.show()"
   ]
  },
  {
   "cell_type": "code",
   "execution_count": null,
   "id": "8fbbfd5b",
   "metadata": {
    "execution": {
     "iopub.execute_input": "2022-02-03T05:05:16.063667Z",
     "iopub.status.busy": "2022-02-03T05:05:16.062522Z",
     "iopub.status.idle": "2022-02-03T05:05:16.106234Z",
     "shell.execute_reply": "2022-02-03T05:05:16.107363Z",
     "shell.execute_reply.started": "2022-02-03T04:38:09.056786Z"
    },
    "papermill": {
     "duration": 6.798354,
     "end_time": "2022-02-03T05:05:16.107728",
     "exception": false,
     "start_time": "2022-02-03T05:05:09.309374",
     "status": "completed"
    },
    "tags": []
   },
   "outputs": [],
   "source": [
    "# lets try to make the \"tsm\" Stationary\n",
    "\n",
    "tsmlog = np.log10(tsm)\n",
    "tsmlog.dropna(inplace=True)\n",
    "\n",
    "tsmlogdiff = tsmlog.diff(periods=1)\n",
    "tsmlogdiff.dropna(inplace=True)\n",
    "# Stationarity Check\n",
    "test_stationarity(tsmlogdiff)"
   ]
  },
  {
   "cell_type": "code",
   "execution_count": null,
   "id": "12f566c4",
   "metadata": {
    "execution": {
     "iopub.execute_input": "2022-02-03T05:05:30.174771Z",
     "iopub.status.busy": "2022-02-03T05:05:30.152468Z",
     "iopub.status.idle": "2022-02-03T05:05:30.854987Z",
     "shell.execute_reply": "2022-02-03T05:05:30.854385Z",
     "shell.execute_reply.started": "2022-02-03T04:38:31.908565Z"
    },
    "papermill": {
     "duration": 7.293776,
     "end_time": "2022-02-03T05:05:30.855131",
     "exception": false,
     "start_time": "2022-02-03T05:05:23.561355",
     "status": "completed"
    },
    "tags": []
   },
   "outputs": [],
   "source": [
    "# Let's plot ACF & PACF graphs to visualize AR & MA components\n",
    "\n",
    "fig, axes = plt.subplots(1, 2)\n",
    "fig.set_figwidth(12)\n",
    "fig.set_figheight(4)\n",
    "smt.graphics.plot_acf(tsmlogdiff, lags=30, ax=axes[0], alpha=0.5)\n",
    "smt.graphics.plot_pacf(tsmlogdiff, lags=30, ax=axes[1], alpha=0.5)\n",
    "plt.tight_layout()"
   ]
  },
  {
   "cell_type": "code",
   "execution_count": null,
   "id": "657a37f9",
   "metadata": {
    "execution": {
     "iopub.execute_input": "2022-02-03T05:05:44.126750Z",
     "iopub.status.busy": "2022-02-03T05:05:44.117988Z",
     "iopub.status.idle": "2022-02-03T05:05:44.139177Z",
     "shell.execute_reply": "2022-02-03T05:05:44.139741Z",
     "shell.execute_reply.started": "2022-02-03T04:39:38.805875Z"
    },
    "papermill": {
     "duration": 6.504091,
     "end_time": "2022-02-03T05:05:44.139933",
     "exception": false,
     "start_time": "2022-02-03T05:05:37.635842",
     "status": "completed"
    },
    "tags": []
   },
   "outputs": [],
   "source": [
    "y_2019 = df.loc[(df['Date'] >= '2019-01-01')\n",
    "                     & (df['Date'] < '2020-01-01')]\n",
    "monthvise= y_2019.groupby(y_2019['Date'].dt.strftime('%B'))[['Open','Close']].mean()\n",
    "new_order = ['January', 'February', 'March', 'April', 'May', 'June', 'July', 'August', \n",
    "             'September', 'October', 'November', 'December']\n",
    "monthvise = monthvise.reindex(new_order, axis=0)\n",
    "monthvise\n"
   ]
  },
  {
   "cell_type": "code",
   "execution_count": null,
   "id": "6ab4b083",
   "metadata": {
    "execution": {
     "iopub.execute_input": "2022-02-03T05:05:58.267846Z",
     "iopub.status.busy": "2022-02-03T05:05:58.266640Z",
     "iopub.status.idle": "2022-02-03T05:05:58.471508Z",
     "shell.execute_reply": "2022-02-03T05:05:58.470961Z",
     "shell.execute_reply.started": "2022-02-03T04:40:20.909606Z"
    },
    "papermill": {
     "duration": 7.645462,
     "end_time": "2022-02-03T05:05:58.471692",
     "exception": false,
     "start_time": "2022-02-03T05:05:50.826230",
     "status": "completed"
    },
    "tags": []
   },
   "outputs": [],
   "source": [
    "y_2019.groupby(y_2019['Date'].dt.strftime('%B'))['Low'].min()\n",
    "monthvise_high = y_2019.groupby(df['Date'].dt.strftime('%B'))['High'].max()\n",
    "monthvise_high = monthvise_high.reindex(new_order, axis=0)\n",
    "\n",
    "monthvise_low = y_2019.groupby(y_2019['Date'].dt.strftime('%B'))['Low'].min()\n",
    "monthvise_low = monthvise_low.reindex(new_order, axis=0)\n",
    "\n",
    "fig = go.Figure()\n",
    "fig.add_trace(go.Bar(\n",
    "    x=monthvise_high.index,\n",
    "    y=monthvise_high,\n",
    "    name='Stock high Price',\n",
    "    marker_color='rgb(0, 153, 204)'\n",
    "))\n",
    "fig.add_trace(go.Bar(\n",
    "    x=monthvise_low.index,\n",
    "    y=monthvise_low,\n",
    "    name='Stock low Price',\n",
    "    marker_color='rgb(255, 128, 0)'\n",
    "))\n",
    "\n",
    "fig.update_layout(barmode='group', \n",
    "                  title=' Monthwise High and Low stock price')\n",
    "fig.show()"
   ]
  },
  {
   "cell_type": "code",
   "execution_count": null,
   "id": "8cbcf2bb",
   "metadata": {
    "execution": {
     "iopub.execute_input": "2022-02-03T05:06:11.724601Z",
     "iopub.status.busy": "2022-02-03T05:06:11.723692Z",
     "iopub.status.idle": "2022-02-03T05:06:12.696717Z",
     "shell.execute_reply": "2022-02-03T05:06:12.697219Z",
     "shell.execute_reply.started": "2022-02-03T04:41:02.624074Z"
    },
    "papermill": {
     "duration": 7.765779,
     "end_time": "2022-02-03T05:06:12.697395",
     "exception": false,
     "start_time": "2022-02-03T05:06:04.931616",
     "status": "completed"
    },
    "tags": []
   },
   "outputs": [],
   "source": [
    "names = cycle(['Stock Open Price','Stock Close Price','Stock High Price','Stock Low Price'])\n",
    "\n",
    "fig = px.line(y_2019, x=y_2019.Date, y=[y_2019['Open'], y_2019['Close'], \n",
    "                                          y_2019['High'], y_2019['Low']],\n",
    "             labels={'Date': 'Date','value':'Stock value'})\n",
    "fig.update_layout(title_text='Stock analysis chart', font_size=15, font_color='black',legend_title_text='Stock Parameters')\n",
    "fig.for_each_trace(lambda t:  t.update(name = next(names)))\n",
    "fig.update_xaxes(showgrid=False)\n",
    "fig.update_yaxes(showgrid=False)\n",
    "\n",
    "fig.show()"
   ]
  }
 ],
 "metadata": {
  "kernelspec": {
   "display_name": "Python 3 (ipykernel)",
   "language": "python",
   "name": "python3"
  },
  "language_info": {
   "codemirror_mode": {
    "name": "ipython",
    "version": 3
   },
   "file_extension": ".py",
   "mimetype": "text/x-python",
   "name": "python",
   "nbconvert_exporter": "python",
   "pygments_lexer": "ipython3",
   "version": "3.11.5"
  },
  "papermill": {
   "default_parameters": {},
   "duration": 1401.854695,
   "end_time": "2022-02-03T05:06:22.802082",
   "environment_variables": {},
   "exception": null,
   "input_path": "__notebook__.ipynb",
   "output_path": "__notebook__.ipynb",
   "parameters": {},
   "start_time": "2022-02-03T04:43:00.947387",
   "version": "2.3.3"
  }
 },
 "nbformat": 4,
 "nbformat_minor": 5
}
