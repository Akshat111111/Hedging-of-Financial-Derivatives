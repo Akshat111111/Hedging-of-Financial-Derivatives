{
 "cells": [
  {
   "cell_type": "code",
   "execution_count": 1,
   "id": "0716dcc9",
   "metadata": {
    "execution": {
     "iopub.execute_input": "2023-07-17T07:33:08.838984Z",
     "iopub.status.busy": "2023-07-17T07:33:08.838455Z",
     "iopub.status.idle": "2023-07-17T07:33:21.323080Z",
     "shell.execute_reply": "2023-07-17T07:33:21.322029Z"
    },
    "papermill": {
     "duration": 12.501222,
     "end_time": "2023-07-17T07:33:21.326001",
     "exception": false,
     "start_time": "2023-07-17T07:33:08.824779",
     "status": "completed"
    },
    "tags": []
   },
   "outputs": [],
   "source": [
    "\n",
    "import tensorflow as tf\n",
    "from tensorflow.keras.layers import LSTMCell\n",
    "tf.compat.v1.disable_eager_execution()\n",
    "import numpy as np\n",
    "import matplotlib.pyplot as plt\n",
    "import seaborn as sns\n",
    "import pandas as pd\n",
    "from sklearn.preprocessing import MinMaxScaler\n",
    "from datetime import datetime\n",
    "from datetime import timedelta\n",
    "from tqdm import tqdm\n",
    "sns.set()\n",
    "tf.compat.v1.random.set_random_seed(1234)"
   ]
  },
  {
   "cell_type": "code",
   "execution_count": 2,
   "id": "39a0fb82",
   "metadata": {
    "execution": {
     "iopub.execute_input": "2023-07-17T07:33:21.353092Z",
     "iopub.status.busy": "2023-07-17T07:33:21.352296Z",
     "iopub.status.idle": "2023-07-17T07:33:21.397655Z",
     "shell.execute_reply": "2023-07-17T07:33:21.396315Z"
    },
    "papermill": {
     "duration": 0.062096,
     "end_time": "2023-07-17T07:33:21.400747",
     "exception": false,
     "start_time": "2023-07-17T07:33:21.338651",
     "status": "completed"
    },
    "tags": []
   },
   "outputs": [
    {
     "data": {
      "text/html": [
       "<div>\n",
       "<style scoped>\n",
       "    .dataframe tbody tr th:only-of-type {\n",
       "        vertical-align: middle;\n",
       "    }\n",
       "\n",
       "    .dataframe tbody tr th {\n",
       "        vertical-align: top;\n",
       "    }\n",
       "\n",
       "    .dataframe thead th {\n",
       "        text-align: right;\n",
       "    }\n",
       "</style>\n",
       "<table border=\"1\" class=\"dataframe\">\n",
       "  <thead>\n",
       "    <tr style=\"text-align: right;\">\n",
       "      <th></th>\n",
       "      <th>ticker</th>\n",
       "      <th>date</th>\n",
       "      <th>open</th>\n",
       "      <th>high</th>\n",
       "      <th>low</th>\n",
       "      <th>close</th>\n",
       "    </tr>\n",
       "  </thead>\n",
       "  <tbody>\n",
       "    <tr>\n",
       "      <th>0</th>\n",
       "      <td>IKNA</td>\n",
       "      <td>2021-03-26</td>\n",
       "      <td>22.40</td>\n",
       "      <td>37.61</td>\n",
       "      <td>19.0101</td>\n",
       "      <td>32.00</td>\n",
       "    </tr>\n",
       "    <tr>\n",
       "      <th>1</th>\n",
       "      <td>IKNA</td>\n",
       "      <td>2021-03-29</td>\n",
       "      <td>28.25</td>\n",
       "      <td>33.69</td>\n",
       "      <td>24.5200</td>\n",
       "      <td>28.30</td>\n",
       "    </tr>\n",
       "    <tr>\n",
       "      <th>2</th>\n",
       "      <td>IKNA</td>\n",
       "      <td>2021-03-30</td>\n",
       "      <td>28.80</td>\n",
       "      <td>30.24</td>\n",
       "      <td>23.8100</td>\n",
       "      <td>25.60</td>\n",
       "    </tr>\n",
       "    <tr>\n",
       "      <th>3</th>\n",
       "      <td>IKNA</td>\n",
       "      <td>2021-03-31</td>\n",
       "      <td>25.01</td>\n",
       "      <td>28.68</td>\n",
       "      <td>24.3801</td>\n",
       "      <td>28.25</td>\n",
       "    </tr>\n",
       "    <tr>\n",
       "      <th>4</th>\n",
       "      <td>IKNA</td>\n",
       "      <td>2021-04-01</td>\n",
       "      <td>27.01</td>\n",
       "      <td>27.01</td>\n",
       "      <td>23.1800</td>\n",
       "      <td>26.00</td>\n",
       "    </tr>\n",
       "  </tbody>\n",
       "</table>\n",
       "</div>"
      ],
      "text/plain": [
       "  ticker        date   open   high      low  close\n",
       "0   IKNA  2021-03-26  22.40  37.61  19.0101  32.00\n",
       "1   IKNA  2021-03-29  28.25  33.69  24.5200  28.30\n",
       "2   IKNA  2021-03-30  28.80  30.24  23.8100  25.60\n",
       "3   IKNA  2021-03-31  25.01  28.68  24.3801  28.25\n",
       "4   IKNA  2021-04-01  27.01  27.01  23.1800  26.00"
      ]
     },
     "execution_count": 2,
     "metadata": {},
     "output_type": "execute_result"
    }
   ],
   "source": [
    "data = pd.read_csv('IKNA.csv')\n",
    "data.head()"
   ]
  },
  {
   "cell_type": "code",
   "execution_count": 3,
   "id": "2452fee2",
   "metadata": {
    "execution": {
     "iopub.execute_input": "2023-07-17T07:33:21.434739Z",
     "iopub.status.busy": "2023-07-17T07:33:21.434235Z",
     "iopub.status.idle": "2023-07-17T07:33:21.443728Z",
     "shell.execute_reply": "2023-07-17T07:33:21.442579Z"
    },
    "papermill": {
     "duration": 0.02911,
     "end_time": "2023-07-17T07:33:21.447249",
     "exception": false,
     "start_time": "2023-07-17T07:33:21.418139",
     "status": "completed"
    },
    "tags": []
   },
   "outputs": [],
   "source": [
    "df=data.copy()"
   ]
  },
  {
   "cell_type": "code",
   "execution_count": 4,
   "id": "904f7f89",
   "metadata": {
    "execution": {
     "iopub.execute_input": "2023-07-17T07:33:21.484397Z",
     "iopub.status.busy": "2023-07-17T07:33:21.482392Z",
     "iopub.status.idle": "2023-07-17T07:33:21.519060Z",
     "shell.execute_reply": "2023-07-17T07:33:21.517677Z"
    },
    "papermill": {
     "duration": 0.055749,
     "end_time": "2023-07-17T07:33:21.521677",
     "exception": false,
     "start_time": "2023-07-17T07:33:21.465928",
     "status": "completed"
    },
    "tags": []
   },
   "outputs": [
    {
     "data": {
      "text/html": [
       "<div>\n",
       "<style scoped>\n",
       "    .dataframe tbody tr th:only-of-type {\n",
       "        vertical-align: middle;\n",
       "    }\n",
       "\n",
       "    .dataframe tbody tr th {\n",
       "        vertical-align: top;\n",
       "    }\n",
       "\n",
       "    .dataframe thead th {\n",
       "        text-align: right;\n",
       "    }\n",
       "</style>\n",
       "<table border=\"1\" class=\"dataframe\">\n",
       "  <thead>\n",
       "    <tr style=\"text-align: right;\">\n",
       "      <th></th>\n",
       "      <th>date</th>\n",
       "      <th>open</th>\n",
       "      <th>high</th>\n",
       "      <th>low</th>\n",
       "      <th>close</th>\n",
       "    </tr>\n",
       "  </thead>\n",
       "  <tbody>\n",
       "    <tr>\n",
       "      <th>0</th>\n",
       "      <td>2021-03-26</td>\n",
       "      <td>22.40</td>\n",
       "      <td>37.6100</td>\n",
       "      <td>19.0101</td>\n",
       "      <td>32.000</td>\n",
       "    </tr>\n",
       "    <tr>\n",
       "      <th>1</th>\n",
       "      <td>2021-03-29</td>\n",
       "      <td>28.25</td>\n",
       "      <td>33.6900</td>\n",
       "      <td>24.5200</td>\n",
       "      <td>28.300</td>\n",
       "    </tr>\n",
       "    <tr>\n",
       "      <th>2</th>\n",
       "      <td>2021-03-30</td>\n",
       "      <td>28.80</td>\n",
       "      <td>30.2400</td>\n",
       "      <td>23.8100</td>\n",
       "      <td>25.600</td>\n",
       "    </tr>\n",
       "    <tr>\n",
       "      <th>3</th>\n",
       "      <td>2021-03-31</td>\n",
       "      <td>25.01</td>\n",
       "      <td>28.6800</td>\n",
       "      <td>24.3801</td>\n",
       "      <td>28.250</td>\n",
       "    </tr>\n",
       "    <tr>\n",
       "      <th>4</th>\n",
       "      <td>2021-04-01</td>\n",
       "      <td>27.01</td>\n",
       "      <td>27.0100</td>\n",
       "      <td>23.1800</td>\n",
       "      <td>26.000</td>\n",
       "    </tr>\n",
       "    <tr>\n",
       "      <th>...</th>\n",
       "      <td>...</td>\n",
       "      <td>...</td>\n",
       "      <td>...</td>\n",
       "      <td>...</td>\n",
       "      <td>...</td>\n",
       "    </tr>\n",
       "    <tr>\n",
       "      <th>829</th>\n",
       "      <td>2024-07-15</td>\n",
       "      <td>1.74</td>\n",
       "      <td>1.7794</td>\n",
       "      <td>1.6900</td>\n",
       "      <td>1.700</td>\n",
       "    </tr>\n",
       "    <tr>\n",
       "      <th>830</th>\n",
       "      <td>2024-07-16</td>\n",
       "      <td>1.73</td>\n",
       "      <td>1.7700</td>\n",
       "      <td>1.7250</td>\n",
       "      <td>1.725</td>\n",
       "    </tr>\n",
       "    <tr>\n",
       "      <th>831</th>\n",
       "      <td>2024-07-17</td>\n",
       "      <td>1.68</td>\n",
       "      <td>1.7100</td>\n",
       "      <td>1.6800</td>\n",
       "      <td>1.710</td>\n",
       "    </tr>\n",
       "    <tr>\n",
       "      <th>832</th>\n",
       "      <td>2024-07-18</td>\n",
       "      <td>1.69</td>\n",
       "      <td>1.7200</td>\n",
       "      <td>1.6800</td>\n",
       "      <td>1.690</td>\n",
       "    </tr>\n",
       "    <tr>\n",
       "      <th>833</th>\n",
       "      <td>2024-07-19</td>\n",
       "      <td>1.70</td>\n",
       "      <td>1.7000</td>\n",
       "      <td>1.6300</td>\n",
       "      <td>1.650</td>\n",
       "    </tr>\n",
       "  </tbody>\n",
       "</table>\n",
       "<p>834 rows × 5 columns</p>\n",
       "</div>"
      ],
      "text/plain": [
       "           date   open     high      low   close\n",
       "0    2021-03-26  22.40  37.6100  19.0101  32.000\n",
       "1    2021-03-29  28.25  33.6900  24.5200  28.300\n",
       "2    2021-03-30  28.80  30.2400  23.8100  25.600\n",
       "3    2021-03-31  25.01  28.6800  24.3801  28.250\n",
       "4    2021-04-01  27.01  27.0100  23.1800  26.000\n",
       "..          ...    ...      ...      ...     ...\n",
       "829  2024-07-15   1.74   1.7794   1.6900   1.700\n",
       "830  2024-07-16   1.73   1.7700   1.7250   1.725\n",
       "831  2024-07-17   1.68   1.7100   1.6800   1.710\n",
       "832  2024-07-18   1.69   1.7200   1.6800   1.690\n",
       "833  2024-07-19   1.70   1.7000   1.6300   1.650\n",
       "\n",
       "[834 rows x 5 columns]"
      ]
     },
     "execution_count": 4,
     "metadata": {},
     "output_type": "execute_result"
    }
   ],
   "source": [
    "df.drop(['ticker'],axis=1)"
   ]
  },
  {
   "cell_type": "code",
   "execution_count": 5,
   "id": "e291b875",
   "metadata": {
    "execution": {
     "iopub.execute_input": "2023-07-17T07:33:21.550204Z",
     "iopub.status.busy": "2023-07-17T07:33:21.549722Z",
     "iopub.status.idle": "2023-07-17T07:33:21.570651Z",
     "shell.execute_reply": "2023-07-17T07:33:21.569445Z"
    },
    "papermill": {
     "duration": 0.038763,
     "end_time": "2023-07-17T07:33:21.573335",
     "exception": false,
     "start_time": "2023-07-17T07:33:21.534572",
     "status": "completed"
    },
    "tags": []
   },
   "outputs": [
    {
     "data": {
      "text/html": [
       "<div>\n",
       "<style scoped>\n",
       "    .dataframe tbody tr th:only-of-type {\n",
       "        vertical-align: middle;\n",
       "    }\n",
       "\n",
       "    .dataframe tbody tr th {\n",
       "        vertical-align: top;\n",
       "    }\n",
       "\n",
       "    .dataframe thead th {\n",
       "        text-align: right;\n",
       "    }\n",
       "</style>\n",
       "<table border=\"1\" class=\"dataframe\">\n",
       "  <thead>\n",
       "    <tr style=\"text-align: right;\">\n",
       "      <th></th>\n",
       "      <th>0</th>\n",
       "    </tr>\n",
       "  </thead>\n",
       "  <tbody>\n",
       "    <tr>\n",
       "      <th>0</th>\n",
       "      <td>0.765536</td>\n",
       "    </tr>\n",
       "    <tr>\n",
       "      <th>1</th>\n",
       "      <td>1.000000</td>\n",
       "    </tr>\n",
       "    <tr>\n",
       "      <th>2</th>\n",
       "      <td>0.969787</td>\n",
       "    </tr>\n",
       "    <tr>\n",
       "      <th>3</th>\n",
       "      <td>0.994047</td>\n",
       "    </tr>\n",
       "    <tr>\n",
       "      <th>4</th>\n",
       "      <td>0.942979</td>\n",
       "    </tr>\n",
       "  </tbody>\n",
       "</table>\n",
       "</div>"
      ],
      "text/plain": [
       "          0\n",
       "0  0.765536\n",
       "1  1.000000\n",
       "2  0.969787\n",
       "3  0.994047\n",
       "4  0.942979"
      ]
     },
     "execution_count": 5,
     "metadata": {},
     "output_type": "execute_result"
    }
   ],
   "source": [
    "minmax = MinMaxScaler().fit(df.iloc[:, 4:5].astype('float32')) # Close index\n",
    "df_log = minmax.transform(df.iloc[:, 4:5].astype('float32')) # Close index\n",
    "df_log = pd.DataFrame(df_log)\n",
    "df_log.head()"
   ]
  },
  {
   "cell_type": "code",
   "execution_count": 6,
   "id": "b49d4efe",
   "metadata": {
    "execution": {
     "iopub.execute_input": "2023-07-17T07:33:21.602656Z",
     "iopub.status.busy": "2023-07-17T07:33:21.601994Z",
     "iopub.status.idle": "2023-07-17T07:33:21.609129Z",
     "shell.execute_reply": "2023-07-17T07:33:21.608347Z"
    },
    "papermill": {
     "duration": 0.024575,
     "end_time": "2023-07-17T07:33:21.611393",
     "exception": false,
     "start_time": "2023-07-17T07:33:21.586818",
     "status": "completed"
    },
    "tags": []
   },
   "outputs": [
    {
     "data": {
      "text/plain": [
       "((834, 6), (804, 1), (30, 1))"
      ]
     },
     "execution_count": 6,
     "metadata": {},
     "output_type": "execute_result"
    }
   ],
   "source": [
    "test_size = 30\n",
    "simulation_size = 10\n",
    "\n",
    "df_train = df_log.iloc[:-test_size]\n",
    "df_test = df_log.iloc[-test_size:]\n",
    "df.shape, df_train.shape, df_test.shape"
   ]
  },
  {
   "cell_type": "code",
   "execution_count": 7,
   "id": "f912c802",
   "metadata": {
    "execution": {
     "iopub.execute_input": "2023-07-17T07:33:21.641371Z",
     "iopub.status.busy": "2023-07-17T07:33:21.640736Z",
     "iopub.status.idle": "2023-07-17T07:33:21.645798Z",
     "shell.execute_reply": "2023-07-17T07:33:21.644698Z"
    },
    "papermill": {
     "duration": 0.023097,
     "end_time": "2023-07-17T07:33:21.648197",
     "exception": false,
     "start_time": "2023-07-17T07:33:21.625100",
     "status": "completed"
    },
    "tags": []
   },
   "outputs": [],
   "source": [
    "import tensorflow as tf\n",
    "from tensorflow import keras\n",
    "tf.compat.v1.disable_eager_execution()"
   ]
  },
  {
   "cell_type": "code",
   "execution_count": 8,
   "id": "a0066f16",
   "metadata": {
    "execution": {
     "iopub.execute_input": "2023-07-17T07:33:21.679349Z",
     "iopub.status.busy": "2023-07-17T07:33:21.678710Z",
     "iopub.status.idle": "2023-07-17T07:33:21.692078Z",
     "shell.execute_reply": "2023-07-17T07:33:21.690937Z"
    },
    "papermill": {
     "duration": 0.031585,
     "end_time": "2023-07-17T07:33:21.695031",
     "exception": false,
     "start_time": "2023-07-17T07:33:21.663446",
     "status": "completed"
    },
    "tags": []
   },
   "outputs": [],
   "source": [
    "class Model:\n",
    "    def __init__(\n",
    "        self,\n",
    "        learning_rate,\n",
    "        num_layers,\n",
    "        size,\n",
    "        size_layer,\n",
    "        output_size,\n",
    "        forget_bias = 0.1,\n",
    "    ):\n",
    "        def lstm_cell(size_layer):\n",
    "            return tf.compat.v1.nn.rnn_cell.LSTMCell(size_layer, state_is_tuple = False)\n",
    "\n",
    "        rnn_cells = tf.compat.v1.nn.rnn_cell.MultiRNNCell(\n",
    "            [lstm_cell(size_layer) for _ in range(num_layers)],\n",
    "            state_is_tuple = False,\n",
    "        )\n",
    "        self.X = tf.compat.v1.placeholder(tf.float32, (None, None, size))\n",
    "        self.Y = tf.compat.v1.placeholder(tf.float32, (None, output_size))\n",
    "        drop = tf.compat.v1.nn.rnn_cell.DropoutWrapper(\n",
    "            rnn_cells, output_keep_prob = forget_bias\n",
    "        )\n",
    "        self.hidden_layer = tf.compat.v1.placeholder(\n",
    "            tf.float32, (None, num_layers * 2 * size_layer)\n",
    "        )\n",
    "        self.outputs, self.last_state = tf.compat.v1.nn.dynamic_rnn(\n",
    "            drop, self.X, initial_state = self.hidden_layer, dtype = tf.float32\n",
    "        )\n",
    "        self.logits =  tf.compat.v1.layers.dense(self.outputs[-1], output_size)\n",
    "        self.cost = tf.reduce_mean(tf.square(self.Y - self.logits))\n",
    "        self.optimizer = tf.compat.v1.train.AdamOptimizer(learning_rate).minimize(\n",
    "            self.cost\n",
    "        )\n",
    "        \n",
    "def calculate_accuracy(real, predict):\n",
    "    mse = np.mean(np.square(real - predict))\n",
    "    return mse\n",
    "\n",
    "def anchor(signal, weight):\n",
    "    buffer = []\n",
    "    last = signal[0]\n",
    "    for i in signal:\n",
    "        smoothed_val = last * weight + (1 - weight) * i\n",
    "        buffer.append(smoothed_val)\n",
    "        last = smoothed_val\n",
    "    return buffer"
   ]
  },
  {
   "cell_type": "code",
   "execution_count": 9,
   "id": "0c043f17",
   "metadata": {
    "execution": {
     "iopub.execute_input": "2023-07-17T07:33:21.724448Z",
     "iopub.status.busy": "2023-07-17T07:33:21.724006Z",
     "iopub.status.idle": "2023-07-17T07:33:21.730244Z",
     "shell.execute_reply": "2023-07-17T07:33:21.728618Z"
    },
    "papermill": {
     "duration": 0.024716,
     "end_time": "2023-07-17T07:33:21.733256",
     "exception": false,
     "start_time": "2023-07-17T07:33:21.708540",
     "status": "completed"
    },
    "tags": []
   },
   "outputs": [],
   "source": [
    "num_layers = 1\n",
    "size_layer = 128\n",
    "timestamp = 5\n",
    "epoch = 300\n",
    "dropout_rate = 0.8\n",
    "future_day = test_size\n",
    "learning_rate = 0.01"
   ]
  },
  {
   "cell_type": "code",
   "execution_count": 10,
   "id": "0cc20f1c",
   "metadata": {
    "execution": {
     "iopub.execute_input": "2023-07-17T07:33:21.763299Z",
     "iopub.status.busy": "2023-07-17T07:33:21.762839Z",
     "iopub.status.idle": "2023-07-17T07:33:22.174412Z",
     "shell.execute_reply": "2023-07-17T07:33:22.172887Z"
    },
    "papermill": {
     "duration": 0.432044,
     "end_time": "2023-07-17T07:33:22.178981",
     "exception": false,
     "start_time": "2023-07-17T07:33:21.746937",
     "status": "completed"
    },
    "tags": []
   },
   "outputs": [],
   "source": [
    "def forecast():\n",
    "    tf.compat.v1.reset_default_graph()\n",
    "    modelnn = Model(\n",
    "        learning_rate, num_layers, df_log.shape[1], size_layer, df_log.shape[1], dropout_rate\n",
    "    )\n",
    "    sess = tf.compat.v1.InteractiveSession()\n",
    "    sess.run(tf.compat.v1.global_variables_initializer())\n",
    "    date_ori = pd.to_datetime(df.iloc[:, 1]).tolist()\n",
    "\n",
    "    pbar = tqdm(range(epoch), desc = 'train loop')\n",
    "    for i in pbar:\n",
    "        init_value = np.zeros((1, num_layers * 2 * size_layer))\n",
    "        total_loss, total_acc = [], []\n",
    "        for k in range(0, df_train.shape[0] - 1, timestamp):\n",
    "            index = min(k + timestamp, df_train.shape[0] - 1)\n",
    "            batch_x = np.expand_dims(\n",
    "                df_train.iloc[k : index, :].values, axis = 0\n",
    "            )\n",
    "            batch_y = df_train.iloc[k + 1 : index + 1, :].values\n",
    "            logits, last_state, _, loss = sess.run(\n",
    "                [modelnn.logits, modelnn.last_state, modelnn.optimizer, modelnn.cost],\n",
    "                feed_dict = {\n",
    "                    modelnn.X: batch_x,\n",
    "                    modelnn.Y: batch_y,\n",
    "                    modelnn.hidden_layer: init_value,\n",
    "                },\n",
    "            )        \n",
    "            init_value = last_state\n",
    "            total_loss.append(loss)\n",
    "            total_acc.append(calculate_accuracy(batch_y[:, 0], logits[:, 0]))\n",
    "        pbar.set_postfix(cost = np.mean(total_loss), acc = np.mean(total_acc))\n",
    "    \n",
    "    future_day = test_size\n",
    "\n",
    "    output_predict = np.zeros((df_train.shape[0] + future_day, df_train.shape[1]))\n",
    "    output_predict[0] = df_train.iloc[0]\n",
    "    upper_b = (df_train.shape[0] // timestamp) * timestamp\n",
    "    init_value = np.zeros((1, num_layers * 2 * size_layer))\n",
    "\n",
    "    for k in range(0, (df_train.shape[0] // timestamp) * timestamp, timestamp):\n",
    "        out_logits, last_state = sess.run(\n",
    "            [modelnn.logits, modelnn.last_state],\n",
    "            feed_dict = {\n",
    "                modelnn.X: np.expand_dims(\n",
    "                    df_train.iloc[k : k + timestamp], axis = 0\n",
    "                ),\n",
    "                modelnn.hidden_layer: init_value,\n",
    "            },\n",
    "        )\n",
    "        init_value = last_state\n",
    "        output_predict[k + 1 : k + timestamp + 1] = out_logits\n",
    "\n",
    "    if upper_b != df_train.shape[0]:\n",
    "        out_logits, last_state = sess.run(\n",
    "            [modelnn.logits, modelnn.last_state],\n",
    "            feed_dict = {\n",
    "                modelnn.X: np.expand_dims(df_train.iloc[upper_b:], axis = 0),\n",
    "                modelnn.hidden_layer: init_value,\n",
    "            },\n",
    "        )\n",
    "        output_predict[upper_b + 1 : df_train.shape[0] + 1] = out_logits\n",
    "        future_day -= 1\n",
    "        date_ori.append(date_ori[-1] + timedelta(days = 1))\n",
    "\n",
    "    init_value = last_state\n",
    "    \n",
    "    for i in range(future_day):\n",
    "        o = output_predict[-future_day - timestamp + i:-future_day + i]\n",
    "        out_logits, last_state = sess.run(\n",
    "            [modelnn.logits, modelnn.last_state],\n",
    "            feed_dict = {\n",
    "                modelnn.X: np.expand_dims(o, axis = 0),\n",
    "                modelnn.hidden_layer: init_value,\n",
    "            },\n",
    "        )\n",
    "        init_value = last_state\n",
    "        output_predict[-future_day + i] = out_logits[-1]\n",
    "        date_ori.append(date_ori[-1] + timedelta(days = 1))\n",
    "    \n",
    "    output_predict = minmax.inverse_transform(output_predict)\n",
    "    deep_future = anchor(output_predict[:, 0], 0.3)\n",
    "    \n",
    "    return deep_future[-test_size:]"
   ]
  },
  {
   "cell_type": "code",
   "execution_count": null,
   "id": "92325e52",
   "metadata": {
    "execution": {
     "iopub.execute_input": "2023-07-17T07:33:22.209078Z",
     "iopub.status.busy": "2023-07-17T07:33:22.207586Z",
     "iopub.status.idle": "2023-07-17T08:10:25.385123Z",
     "shell.execute_reply": "2023-07-17T08:10:25.384092Z"
    },
    "papermill": {
     "duration": 2223.195532,
     "end_time": "2023-07-17T08:10:25.388252",
     "exception": false,
     "start_time": "2023-07-17T07:33:22.192720",
     "status": "completed"
    },
    "tags": []
   },
   "outputs": [
    {
     "name": "stdout",
     "output_type": "stream",
     "text": [
      "simulation 1\n",
      "WARNING:tensorflow:<keras.src.layers.rnn.legacy_cells.LSTMCell object at 0x16345acd0>: Using a concatenated state is slower and will soon be deprecated.  Use state_is_tuple=True.\n",
      "WARNING:tensorflow:`tf.nn.rnn_cell.MultiRNNCell` is deprecated. This class is equivalent as `tf.keras.layers.StackedRNNCells`, and will be replaced by that in Tensorflow 2.0.\n",
      "WARNING:tensorflow:From /var/folders/qh/215l544s06x3_jp987f9gdgh0000gn/T/ipykernel_13667/3070950353.py:26: dynamic_rnn (from tensorflow.python.ops.rnn) is deprecated and will be removed in a future version.\n",
      "Instructions for updating:\n",
      "Please use `keras.layers.RNN(cell)`, which is equivalent to this API\n",
      "WARNING:tensorflow:From /Users/shikarichacha/anaconda3/lib/python3.11/site-packages/keras/src/layers/rnn/legacy_cells.py:1043: calling Zeros.__init__ (from tensorflow.python.ops.init_ops) with dtype is deprecated and will be removed in a future version.\n",
      "Instructions for updating:\n",
      "Call initializer instance with the dtype argument instead of passing it to the constructor\n"
     ]
    },
    {
     "name": "stderr",
     "output_type": "stream",
     "text": [
      "/var/folders/qh/215l544s06x3_jp987f9gdgh0000gn/T/ipykernel_13667/3070950353.py:12: UserWarning: `tf.nn.rnn_cell.LSTMCell` is deprecated and will be removed in a future version. This class is equivalent as `tf.keras.layers.LSTMCell`, and will be replaced by that in Tensorflow 2.0.\n",
      "  return tf.compat.v1.nn.rnn_cell.LSTMCell(size_layer, state_is_tuple = False)\n",
      "/var/folders/qh/215l544s06x3_jp987f9gdgh0000gn/T/ipykernel_13667/3070950353.py:29: UserWarning: `tf.layers.dense` is deprecated and will be removed in a future version. Please use `tf.keras.layers.Dense` instead.\n",
      "  self.logits =  tf.compat.v1.layers.dense(self.outputs[-1], output_size)\n",
      "2024-07-21 00:00:52.670346: I tensorflow/compiler/mlir/mlir_graph_optimization_pass.cc:388] MLIR V1 optimization pass is not enabled\n",
      "train loop: 100%|█| 300/300 [01:02<00:00,  4.79it/s, acc=0.000826, cost=0.000826"
     ]
    },
    {
     "name": "stdout",
     "output_type": "stream",
     "text": [
      "simulation 2\n",
      "WARNING:tensorflow:<keras.src.layers.rnn.legacy_cells.LSTMCell object at 0x1639a41d0>: Using a concatenated state is slower and will soon be deprecated.  Use state_is_tuple=True.\n",
      "WARNING:tensorflow:`tf.nn.rnn_cell.MultiRNNCell` is deprecated. This class is equivalent as `tf.keras.layers.StackedRNNCells`, and will be replaced by that in Tensorflow 2.0.\n"
     ]
    },
    {
     "name": "stderr",
     "output_type": "stream",
     "text": [
      "\n",
      "/var/folders/qh/215l544s06x3_jp987f9gdgh0000gn/T/ipykernel_13667/3070950353.py:12: UserWarning: `tf.nn.rnn_cell.LSTMCell` is deprecated and will be removed in a future version. This class is equivalent as `tf.keras.layers.LSTMCell`, and will be replaced by that in Tensorflow 2.0.\n",
      "  return tf.compat.v1.nn.rnn_cell.LSTMCell(size_layer, state_is_tuple = False)\n",
      "/var/folders/qh/215l544s06x3_jp987f9gdgh0000gn/T/ipykernel_13667/3070950353.py:29: UserWarning: `tf.layers.dense` is deprecated and will be removed in a future version. Please use `tf.keras.layers.Dense` instead.\n",
      "  self.logits =  tf.compat.v1.layers.dense(self.outputs[-1], output_size)\n",
      "/Users/shikarichacha/anaconda3/lib/python3.11/site-packages/tensorflow/python/client/session.py:1793: UserWarning: An interactive session is already active. This can cause out-of-memory errors in some cases. You must explicitly call `InteractiveSession.close()` to release resources held by the other session(s).\n",
      "  warnings.warn('An interactive session is already active. This can '\n",
      "train loop:  60%|▌| 179/300 [00:37<00:24,  4.84it/s, acc=0.000771, cost=0.000771"
     ]
    }
   ],
   "source": [
    "results = []\n",
    "for i in range(simulation_size):\n",
    "    print('simulation %d'%(i + 1))\n",
    "    results.append(forecast())"
   ]
  },
  {
   "cell_type": "code",
   "execution_count": null,
   "id": "d71f1bb4",
   "metadata": {
    "execution": {
     "iopub.execute_input": "2023-07-17T08:10:26.529873Z",
     "iopub.status.busy": "2023-07-17T08:10:26.529400Z",
     "iopub.status.idle": "2023-07-17T08:10:26.543166Z",
     "shell.execute_reply": "2023-07-17T08:10:26.541525Z"
    },
    "papermill": {
     "duration": 0.591327,
     "end_time": "2023-07-17T08:10:26.546303",
     "exception": false,
     "start_time": "2023-07-17T08:10:25.954976",
     "status": "completed"
    },
    "tags": []
   },
   "outputs": [],
   "source": [
    "df = data.copy()\n",
    "df.drop(['ticker'], axis=1, inplace=True)\n",
    "\n",
    "# Calculate returns instead of prices\n",
    "df_returns = df['close'].pct_change().fillna(0)\n"
   ]
  },
  {
   "cell_type": "code",
   "execution_count": null,
   "id": "9223d91d",
   "metadata": {
    "execution": {
     "iopub.execute_input": "2023-07-17T08:10:27.684858Z",
     "iopub.status.busy": "2023-07-17T08:10:27.683924Z",
     "iopub.status.idle": "2023-07-17T08:10:28.321260Z",
     "shell.execute_reply": "2023-07-17T08:10:28.319649Z"
    },
    "papermill": {
     "duration": 1.214362,
     "end_time": "2023-07-17T08:10:28.324979",
     "exception": false,
     "start_time": "2023-07-17T08:10:27.110617",
     "status": "completed"
    },
    "tags": []
   },
   "outputs": [],
   "source": [
    "mse_scores = [calculate_accuracy(df_returns.iloc[-test_size:].values, r) for r in results]\n",
    "\n",
    "plt.figure(figsize=(15, 5))\n",
    "for no, r in enumerate(results[:]):\n",
    "    plt.plot(r, label='forecast %d' % (no + 1))\n",
    "plt.plot(df_returns.iloc[-test_size:].values, label='true trend', c='black')\n",
    "plt.legend()\n",
    "plt.title('average MSE: %.4f' % (np.mean(mse_scores)))\n",
    "plt.show()"
   ]
  },
  {
   "cell_type": "code",
   "execution_count": null,
   "id": "8ec1a5d4",
   "metadata": {
    "execution": {
     "iopub.execute_input": "2023-07-17T08:10:29.589925Z",
     "iopub.status.busy": "2023-07-17T08:10:29.588847Z",
     "iopub.status.idle": "2023-07-17T08:10:30.063053Z",
     "shell.execute_reply": "2023-07-17T08:10:30.061777Z"
    },
    "papermill": {
     "duration": 1.053548,
     "end_time": "2023-07-17T08:10:30.065694",
     "exception": false,
     "start_time": "2023-07-17T08:10:29.012146",
     "status": "completed"
    },
    "tags": []
   },
   "outputs": [],
   "source": [
    "mse_scores = [calculate_accuracy(df_returns.iloc[-test_size:].values, r) for r in results]\n",
    "\n",
    "plt.figure(figsize=(15, 5))\n",
    "for no, r in enumerate(results[:2]):\n",
    "    plt.plot(r, label='forecast %d' % (no + 1))\n",
    "plt.plot(df_returns.iloc[-test_size:].values, label='true trend', c='black')\n",
    "plt.legend()\n",
    "plt.title('average MSE: %.4f' % (np.mean(mse_scores)))\n",
    "plt.show()\n"
   ]
  },
  {
   "cell_type": "code",
   "execution_count": null,
   "id": "1732288f",
   "metadata": {
    "execution": {
     "iopub.execute_input": "2023-07-17T08:10:31.224605Z",
     "iopub.status.busy": "2023-07-17T08:10:31.223861Z",
     "iopub.status.idle": "2023-07-17T08:10:31.716316Z",
     "shell.execute_reply": "2023-07-17T08:10:31.714969Z"
    },
    "papermill": {
     "duration": 1.079892,
     "end_time": "2023-07-17T08:10:31.719313",
     "exception": false,
     "start_time": "2023-07-17T08:10:30.639421",
     "status": "completed"
    },
    "tags": []
   },
   "outputs": [],
   "source": [
    "mse_scores = [calculate_accuracy(df_returns.iloc[-test_size:].values, r) for r in results]\n",
    "\n",
    "plt.figure(figsize=(15, 5))\n",
    "for no, r in enumerate(results[2:3]):\n",
    "    plt.plot(r, label='forecast %d' % (no + 1))\n",
    "plt.plot(df_returns.iloc[-test_size:].values, label='true trend', c='black')\n",
    "plt.legend()\n",
    "plt.title('average MSE: %.4f' % (np.mean(mse_scores)))\n",
    "plt.show()\n"
   ]
  },
  {
   "cell_type": "code",
   "execution_count": null,
   "id": "a3b29d1a",
   "metadata": {
    "execution": {
     "iopub.execute_input": "2023-07-17T08:10:32.986304Z",
     "iopub.status.busy": "2023-07-17T08:10:32.985889Z",
     "iopub.status.idle": "2023-07-17T08:10:33.474685Z",
     "shell.execute_reply": "2023-07-17T08:10:33.472894Z"
    },
    "papermill": {
     "duration": 1.181438,
     "end_time": "2023-07-17T08:10:33.478241",
     "exception": false,
     "start_time": "2023-07-17T08:10:32.296803",
     "status": "completed"
    },
    "tags": []
   },
   "outputs": [],
   "source": [
    "mse_scores = [calculate_accuracy(df_returns.iloc[-test_size:].values, r) for r in results]\n",
    "\n",
    "plt.figure(figsize=(15, 5))\n",
    "for no, r in enumerate(results[3:7]):\n",
    "    plt.plot(r, label='forecast %d' % (no + 1))\n",
    "plt.plot(df_returns.iloc[-test_size:].values, label='true trend', c='black')\n",
    "plt.legend()\n",
    "plt.title('average MSE: %.4f' % (np.mean(mse_scores)))\n",
    "plt.show()\n",
    "\n"
   ]
  },
  {
   "cell_type": "code",
   "execution_count": null,
   "id": "6ff79c11",
   "metadata": {
    "execution": {
     "iopub.execute_input": "2023-07-17T08:10:34.632323Z",
     "iopub.status.busy": "2023-07-17T08:10:34.631260Z",
     "iopub.status.idle": "2023-07-17T08:10:35.094137Z",
     "shell.execute_reply": "2023-07-17T08:10:35.092593Z"
    },
    "papermill": {
     "duration": 1.05015,
     "end_time": "2023-07-17T08:10:35.097176",
     "exception": false,
     "start_time": "2023-07-17T08:10:34.047026",
     "status": "completed"
    },
    "tags": []
   },
   "outputs": [],
   "source": [
    "mse_scores = [calculate_accuracy(df_returns.iloc[-test_size:].values, r) for r in results]\n",
    "\n",
    "plt.figure(figsize=(15, 5))\n",
    "for no, r in enumerate(results[7:9]):\n",
    "    plt.plot(r, label='forecast %d' % (no + 1))\n",
    "plt.plot(df_returns.iloc[-test_size:].values, label='true trend', c='black')\n",
    "plt.legend()\n",
    "plt.title('average MSE: %.4f' % (np.mean(mse_scores)))\n",
    "plt.show()"
   ]
  },
  {
   "cell_type": "code",
   "execution_count": null,
   "id": "f729578f",
   "metadata": {
    "execution": {
     "iopub.execute_input": "2023-07-17T08:10:36.238467Z",
     "iopub.status.busy": "2023-07-17T08:10:36.238044Z",
     "iopub.status.idle": "2023-07-17T08:10:36.703857Z",
     "shell.execute_reply": "2023-07-17T08:10:36.702907Z"
    },
    "papermill": {
     "duration": 1.038518,
     "end_time": "2023-07-17T08:10:36.706306",
     "exception": false,
     "start_time": "2023-07-17T08:10:35.667788",
     "status": "completed"
    },
    "tags": []
   },
   "outputs": [],
   "source": [
    "mse_scores = [calculate_accuracy(df_returns.iloc[-test_size:].values, r) for r in results]\n",
    "\n",
    "plt.figure(figsize=(15, 5))\n",
    "for no, r in enumerate(results[9:]):\n",
    "    plt.plot(r, label='forecast %d' % (no + 1))\n",
    "plt.plot(df_returns.iloc[-test_size:].values, label='true trend', c='black')\n",
    "plt.legend()\n",
    "plt.title('average MSE: %.4f' % (np.mean(mse_scores)))\n",
    "plt.show()"
   ]
  }
 ],
 "metadata": {
  "kernelspec": {
   "display_name": "Python 3 (ipykernel)",
   "language": "python",
   "name": "python3"
  },
  "language_info": {
   "codemirror_mode": {
    "name": "ipython",
    "version": 3
   },
   "file_extension": ".py",
   "mimetype": "text/x-python",
   "name": "python",
   "nbconvert_exporter": "python",
   "pygments_lexer": "ipython3",
   "version": "3.11.5"
  },
  "papermill": {
   "default_parameters": {},
   "duration": 2267.614901,
   "end_time": "2023-07-17T08:10:40.316291",
   "environment_variables": {},
   "exception": null,
   "input_path": "__notebook__.ipynb",
   "output_path": "__notebook__.ipynb",
   "parameters": {},
   "start_time": "2023-07-17T07:32:52.701390",
   "version": "2.4.0"
  }
 },
 "nbformat": 4,
 "nbformat_minor": 5
}
