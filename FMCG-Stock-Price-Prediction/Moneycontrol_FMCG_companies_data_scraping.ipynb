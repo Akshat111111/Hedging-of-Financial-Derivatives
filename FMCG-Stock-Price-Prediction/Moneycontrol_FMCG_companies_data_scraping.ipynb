{
  "cells": [
    {
      "cell_type": "code",
      "execution_count": null,
      "metadata": {
        "id": "JRw-u9HsFrJq"
      },
      "outputs": [],
      "source": [
        "# Import required packages.\n",
        "import time\n",
        "import pandas as pd\n",
        "import requests\n",
        "from bs4 import BeautifulSoup\n",
        "from tqdm.notebook import tqdm_notebook"
      ]
    },
    {
      "cell_type": "code",
      "execution_count": null,
      "metadata": {
        "id": "2hvDsQ6iFrJ5"
      },
      "outputs": [],
      "source": [
        "seed_url = 'https://www.moneycontrol.com/financials/hindustanunilever/results/quarterly-results/'\n",
        "table_view_start = 2\n",
        "table_view_end   = 8\n",
        "company_performance_dict = {} # Create empty dictionary"
      ]
    },
    {
      "cell_type": "markdown",
      "metadata": {
        "id": "dmFPBNbyFrJ7"
      },
      "source": [
        "Define a method 'process_row' that takes a row as an argument. It creates a key from first column and then for remaining columns it creates a list of values. Finally it adds key value pair to the global dictionary.\n",
        "\n",
        "It also checks for the existance of key, if it id present then it extend list of values otherwise it creates new key, value pair."
      ]
    },
    {
      "cell_type": "code",
      "execution_count": null,
      "metadata": {
        "id": "6nO91oR7FrKB"
      },
      "outputs": [],
      "source": [
        "def process_row(row):\n",
        "    columns = row.find_all('td')\n",
        "    key_column = columns[0].text\n",
        "    q1_column = columns[1].text\n",
        "    q2_column = columns[2].text\n",
        "    q3_column = columns[3].text\n",
        "    q4_column = columns[4].text\n",
        "    q5_column = columns[5].text\n",
        "    \n",
        "    value_list = []\n",
        "    value_list.append(q1_column)\n",
        "    value_list.append(q2_column)\n",
        "    value_list.append(q3_column)\n",
        "    value_list.append(q4_column)\n",
        "    value_list.append(q5_column)\n",
        "    if key_column in company_performance_dict.keys():\n",
        "        existing_list = company_performance_dict[key_column]\n",
        "        existing_list.extend(value_list)\n",
        "    else:\n",
        "        # Add key, value pair to dictionary.\n",
        "        company_performance_dict[key_column] = value_list"
      ]
    },
    {
      "cell_type": "markdown",
      "metadata": {
        "id": "ojhLDlBBFrKE"
      },
      "source": [
        "Define a method 'write_dictionary_to_file' which takes a file name as a parameter and write content of the global dictionary into csv file on the mounted drive."
      ]
    },
    {
      "cell_type": "code",
      "execution_count": null,
      "metadata": {
        "id": "s3-8SopoFrKG",
        "outputId": "996df785-2c4f-4efd-bb6f-97b155e4dbc9"
      },
      "outputs": [
        {
          "data": {
            "text/plain": [
              "20"
            ]
          },
          "execution_count": 4,
          "metadata": {},
          "output_type": "execute_result"
        }
      ],
      "source": [
        "company_codes = ['CPI','BI','CC10','DI','E06','GI22','GS','GCP','HAP','HFI',\n",
        "                 'HU','ITC','JF04','M13','NI','PGH','TBE','TT','UB02','US']\n",
        "len(company_codes)"
      ]
    },
    {
      "cell_type": "code",
      "execution_count": null,
      "metadata": {
        "id": "PD7PhnyrFrKK",
        "outputId": "da54f1be-83e2-4bd2-d65c-cc36be0b30a5"
      },
      "outputs": [
        {
          "data": {
            "text/plain": [
              "['E06', 'GI22', 'GS']"
            ]
          },
          "execution_count": 9,
          "metadata": {},
          "output_type": "execute_result"
        }
      ],
      "source": [
        "company_codes[4:7]"
      ]
    },
    {
      "cell_type": "code",
      "execution_count": null,
      "metadata": {
        "colab": {
          "referenced_widgets": [
            "d349779d6eb84d6098f1deb55327df90"
          ]
        },
        "id": "MqTPIvxbFrKN",
        "outputId": "d237006b-1aee-45d8-8176-e03e4090709c"
      },
      "outputs": [
        {
          "data": {
            "application/vnd.jupyter.widget-view+json": {
              "model_id": "d349779d6eb84d6098f1deb55327df90",
              "version_major": 2,
              "version_minor": 0
            },
            "text/plain": [
              "HBox(children=(HTML(value=''), FloatProgress(value=0.0, max=20.0), HTML(value='')))"
            ]
          },
          "metadata": {},
          "output_type": "display_data"
        },
        {
          "name": "stdout",
          "output_type": "stream",
          "text": [
            "Extracting data for company:  CPI\n",
            "Extracting data for company:  BI\n",
            "Extracting data for company:  CC10\n",
            "Extracting data for company:  DI\n",
            "Extracting data for company:  E06\n",
            "Extracting data for company:  GI22\n",
            "Extracting data for company:  GS\n",
            "Extracting data for company:  GCP\n",
            "Extracting data for company:  HAP\n",
            "Extracting data for company:  HFI\n",
            "Extracting data for company:  HU\n",
            "Extracting data for company:  ITC\n",
            "Extracting data for company:  JF04\n",
            "Extracting data for company:  M13\n",
            "Extracting data for company:  NI\n",
            "Extracting data for company:  PGH\n",
            "Extracting data for company:  TBE\n",
            "Extracting data for company:  TT\n",
            "Extracting data for company:  UB02\n",
            "Extracting data for company:  US\n",
            "\n"
          ]
        }
      ],
      "source": [
        "# Iterate through list of companies.\n",
        "df = pd.DataFrame()\n",
        "\n",
        "for company_code in tqdm_notebook(company_codes):\n",
        "    print(\"Extracting data for company: \",company_code)\n",
        "    time.sleep(5)\n",
        "    company_performance_dict = {}\n",
        "    # Iterate through each page\n",
        "    \n",
        "    for table_view in range (table_view_start, table_view_end):\n",
        "        \n",
        "        # Customize URL to make it company specific\n",
        "        full_url   = seed_url + company_code + \"/\" + str(table_view) + \"#\" + company_code\n",
        "\n",
        "        # Make request to fetch content from full_url & store page content into local object\n",
        "        response = requests.get(full_url)\n",
        "        page = BeautifulSoup(response.content, \"html.parser\")\n",
        "\n",
        "        # Meaningfull content we are interested in are available in table, hence we will find\n",
        "        # table from the page and work through it to scrape necessary data\n",
        "        table = page.find(\"table\", attrs={\"class\", \"mctable1\"})\n",
        "\n",
        "        # Once we have table, we will select all rows within it\n",
        "        #table_body = table.find('tbody')\n",
        "        rows = table.find_all('tr')\n",
        "        for row in rows:\n",
        "          # Call function for each row\n",
        "            try:\n",
        "                process_row(row)\n",
        "            except Exception:\n",
        "                pass\n",
        "          \n",
        "            \n",
        "    company_df = pd.DataFrame.from_dict(company_performance_dict)\n",
        "    company_df.insert(1, \"Ticker\", company_code)\n",
        "    company_df.rename(columns={ company_df.columns[0]: \"Quarters\" }, inplace=True)\n",
        "    \n",
        "    df = pd.concat([df,company_df],axis=0)\n",
        "    "
      ]
    },
    {
      "cell_type": "code",
      "execution_count": null,
      "metadata": {
        "id": "dGLy6OS5FrKT",
        "outputId": "fd4d5a2a-4bf6-47a5-e92e-59d856e6bae2"
      },
      "outputs": [
        {
          "data": {
            "text/html": [
              "<div>\n",
              "<style scoped>\n",
              "    .dataframe tbody tr th:only-of-type {\n",
              "        vertical-align: middle;\n",
              "    }\n",
              "\n",
              "    .dataframe tbody tr th {\n",
              "        vertical-align: top;\n",
              "    }\n",
              "\n",
              "    .dataframe thead th {\n",
              "        text-align: right;\n",
              "    }\n",
              "</style>\n",
              "<table border=\"1\" class=\"dataframe\">\n",
              "  <thead>\n",
              "    <tr style=\"text-align: right;\">\n",
              "      <th></th>\n",
              "      <th>Quarters</th>\n",
              "      <th>Ticker</th>\n",
              "      <th>Net Sales/Income from operations</th>\n",
              "      <th>Other Operating Income</th>\n",
              "      <th>Total Income From Operations</th>\n",
              "      <th>EXPENDITURE</th>\n",
              "      <th>Consumption of Raw Materials</th>\n",
              "      <th>Purchase of Traded Goods</th>\n",
              "      <th>Increase/Decrease in Stocks</th>\n",
              "      <th>Power &amp; Fuel</th>\n",
              "      <th>...</th>\n",
              "      <th>Share Holding (%)</th>\n",
              "      <th>Promoters and Promoter Group Shareholding</th>\n",
              "      <th>a) Pledged/Encumbered</th>\n",
              "      <th>- Number of shares (Crores)</th>\n",
              "      <th>- Per. of shares (as a % of the total sh. of prom. and promoter group)</th>\n",
              "      <th>- Per. of shares (as a % of the total Share Cap. of the company)</th>\n",
              "      <th>b) Non-encumbered</th>\n",
              "      <th>- Number of shares (Crores).</th>\n",
              "      <th>- Per. of shares (as a % of the total sh. of prom. and promoter group).</th>\n",
              "      <th>- Per. of shares (as a % of the total Share Cap. of the company).</th>\n",
              "    </tr>\n",
              "  </thead>\n",
              "  <tbody>\n",
              "    <tr>\n",
              "      <th>0</th>\n",
              "      <td>Mar '21</td>\n",
              "      <td>CPI</td>\n",
              "      <td>1,275.01</td>\n",
              "      <td>8.18</td>\n",
              "      <td>1,283.19</td>\n",
              "      <td></td>\n",
              "      <td>324.31</td>\n",
              "      <td>72.28</td>\n",
              "      <td>18.26</td>\n",
              "      <td>--</td>\n",
              "      <td>...</td>\n",
              "      <td>--</td>\n",
              "      <td></td>\n",
              "      <td></td>\n",
              "      <td>--</td>\n",
              "      <td>--</td>\n",
              "      <td>--</td>\n",
              "      <td></td>\n",
              "      <td>--</td>\n",
              "      <td>--</td>\n",
              "      <td>--</td>\n",
              "    </tr>\n",
              "    <tr>\n",
              "      <th>1</th>\n",
              "      <td>Dec '20</td>\n",
              "      <td>CPI</td>\n",
              "      <td>1,224.21</td>\n",
              "      <td>7.72</td>\n",
              "      <td>1,231.93</td>\n",
              "      <td></td>\n",
              "      <td>317.31</td>\n",
              "      <td>64.82</td>\n",
              "      <td>-9.60</td>\n",
              "      <td>--</td>\n",
              "      <td>...</td>\n",
              "      <td>--</td>\n",
              "      <td></td>\n",
              "      <td></td>\n",
              "      <td>--</td>\n",
              "      <td>--</td>\n",
              "      <td>--</td>\n",
              "      <td></td>\n",
              "      <td>--</td>\n",
              "      <td>--</td>\n",
              "      <td>--</td>\n",
              "    </tr>\n",
              "    <tr>\n",
              "      <th>2</th>\n",
              "      <td>Sep '20</td>\n",
              "      <td>CPI</td>\n",
              "      <td>1,277.66</td>\n",
              "      <td>7.82</td>\n",
              "      <td>1,285.48</td>\n",
              "      <td></td>\n",
              "      <td>365.71</td>\n",
              "      <td>103.83</td>\n",
              "      <td>-59.91</td>\n",
              "      <td>--</td>\n",
              "      <td>...</td>\n",
              "      <td>--</td>\n",
              "      <td></td>\n",
              "      <td></td>\n",
              "      <td>--</td>\n",
              "      <td>--</td>\n",
              "      <td>--</td>\n",
              "      <td></td>\n",
              "      <td>--</td>\n",
              "      <td>--</td>\n",
              "      <td>--</td>\n",
              "    </tr>\n",
              "    <tr>\n",
              "      <th>3</th>\n",
              "      <td>Jun '20</td>\n",
              "      <td>CPI</td>\n",
              "      <td>1,033.60</td>\n",
              "      <td>7.02</td>\n",
              "      <td>1,040.62</td>\n",
              "      <td></td>\n",
              "      <td>242.25</td>\n",
              "      <td>82.66</td>\n",
              "      <td>27.45</td>\n",
              "      <td>--</td>\n",
              "      <td>...</td>\n",
              "      <td>--</td>\n",
              "      <td></td>\n",
              "      <td></td>\n",
              "      <td>--</td>\n",
              "      <td>--</td>\n",
              "      <td>--</td>\n",
              "      <td></td>\n",
              "      <td>--</td>\n",
              "      <td>--</td>\n",
              "      <td>--</td>\n",
              "    </tr>\n",
              "    <tr>\n",
              "      <th>4</th>\n",
              "      <td>Mar '20</td>\n",
              "      <td>CPI</td>\n",
              "      <td>1,062.35</td>\n",
              "      <td>8.91</td>\n",
              "      <td>1,071.26</td>\n",
              "      <td></td>\n",
              "      <td>321.12</td>\n",
              "      <td>58.84</td>\n",
              "      <td>-1.34</td>\n",
              "      <td>--</td>\n",
              "      <td>...</td>\n",
              "      <td>--</td>\n",
              "      <td></td>\n",
              "      <td></td>\n",
              "      <td>--</td>\n",
              "      <td>--</td>\n",
              "      <td>--</td>\n",
              "      <td></td>\n",
              "      <td>--</td>\n",
              "      <td>--</td>\n",
              "      <td>--</td>\n",
              "    </tr>\n",
              "  </tbody>\n",
              "</table>\n",
              "<p>5 rows × 51 columns</p>\n",
              "</div>"
            ],
            "text/plain": [
              "  Quarters Ticker Net Sales/Income from operations Other Operating Income  \\\n",
              "0  Mar '21    CPI                         1,275.01                   8.18   \n",
              "1  Dec '20    CPI                         1,224.21                   7.72   \n",
              "2  Sep '20    CPI                         1,277.66                   7.82   \n",
              "3  Jun '20    CPI                         1,033.60                   7.02   \n",
              "4  Mar '20    CPI                         1,062.35                   8.91   \n",
              "\n",
              "  Total Income From Operations EXPENDITURE Consumption of Raw Materials  \\\n",
              "0                     1,283.19                                   324.31   \n",
              "1                     1,231.93                                   317.31   \n",
              "2                     1,285.48                                   365.71   \n",
              "3                     1,040.62                                   242.25   \n",
              "4                     1,071.26                                   321.12   \n",
              "\n",
              "  Purchase of Traded Goods Increase/Decrease in Stocks Power & Fuel  ...  \\\n",
              "0                    72.28                       18.26           --  ...   \n",
              "1                    64.82                       -9.60           --  ...   \n",
              "2                   103.83                      -59.91           --  ...   \n",
              "3                    82.66                       27.45           --  ...   \n",
              "4                    58.84                       -1.34           --  ...   \n",
              "\n",
              "  Share Holding (%) Promoters and Promoter Group Shareholding  \\\n",
              "0                --                                             \n",
              "1                --                                             \n",
              "2                --                                             \n",
              "3                --                                             \n",
              "4                --                                             \n",
              "\n",
              "  a) Pledged/Encumbered - Number of shares (Crores)  \\\n",
              "0                                                --   \n",
              "1                                                --   \n",
              "2                                                --   \n",
              "3                                                --   \n",
              "4                                                --   \n",
              "\n",
              "  - Per. of shares (as a % of the total sh. of prom. and promoter group)  \\\n",
              "0                                                 --                       \n",
              "1                                                 --                       \n",
              "2                                                 --                       \n",
              "3                                                 --                       \n",
              "4                                                 --                       \n",
              "\n",
              "  - Per. of shares (as a % of the total Share Cap. of the company)  \\\n",
              "0                                                 --                 \n",
              "1                                                 --                 \n",
              "2                                                 --                 \n",
              "3                                                 --                 \n",
              "4                                                 --                 \n",
              "\n",
              "  b) Non-encumbered - Number of shares (Crores).  \\\n",
              "0                                             --   \n",
              "1                                             --   \n",
              "2                                             --   \n",
              "3                                             --   \n",
              "4                                             --   \n",
              "\n",
              "  - Per. of shares (as a % of the total sh. of prom. and promoter group).  \\\n",
              "0                                                 --                        \n",
              "1                                                 --                        \n",
              "2                                                 --                        \n",
              "3                                                 --                        \n",
              "4                                                 --                        \n",
              "\n",
              "  - Per. of shares (as a % of the total Share Cap. of the company).  \n",
              "0                                                 --                 \n",
              "1                                                 --                 \n",
              "2                                                 --                 \n",
              "3                                                 --                 \n",
              "4                                                 --                 \n",
              "\n",
              "[5 rows x 51 columns]"
            ]
          },
          "execution_count": 18,
          "metadata": {},
          "output_type": "execute_result"
        }
      ],
      "source": [
        "df.head()"
      ]
    },
    {
      "cell_type": "code",
      "execution_count": null,
      "metadata": {
        "id": "HrePXdKFFrKW",
        "outputId": "f253afcb-a292-41aa-b6d1-87d584f978d9"
      },
      "outputs": [
        {
          "data": {
            "text/plain": [
              "(600, 51)"
            ]
          },
          "execution_count": 19,
          "metadata": {},
          "output_type": "execute_result"
        }
      ],
      "source": [
        "df.shape"
      ]
    },
    {
      "cell_type": "code",
      "execution_count": null,
      "metadata": {
        "id": "NNy2JiyfFrKY",
        "outputId": "e6ab729e-df30-4ff0-b18c-a2f12696f079"
      },
      "outputs": [
        {
          "data": {
            "text/plain": [
              "UB02    30\n",
              "CC10    30\n",
              "HFI     30\n",
              "BI      30\n",
              "TBE     30\n",
              "GCP     30\n",
              "GS      30\n",
              "US      30\n",
              "NI      30\n",
              "E06     30\n",
              "ITC     30\n",
              "PGH     30\n",
              "GI22    30\n",
              "TT      30\n",
              "HAP     30\n",
              "HU      30\n",
              "M13     30\n",
              "DI      30\n",
              "CPI     30\n",
              "JF04    30\n",
              "Name: Ticker, dtype: int64"
            ]
          },
          "execution_count": 20,
          "metadata": {},
          "output_type": "execute_result"
        }
      ],
      "source": [
        "df.Ticker.value_counts()"
      ]
    },
    {
      "cell_type": "code",
      "execution_count": null,
      "metadata": {
        "id": "IzLs26QOFrKZ",
        "outputId": "5aa57b06-8f35-479d-fbf7-260f3bf206ee"
      },
      "outputs": [
        {
          "data": {
            "text/plain": [
              "Jun '17    22\n",
              "Jun '14    21\n",
              "Jun '18    21\n",
              "Jun '16    20\n",
              "Mar '20    20\n",
              "Sep '16    20\n",
              "Dec '20    20\n",
              "Mar '16    20\n",
              "Jun '15    20\n",
              "Mar '18    20\n",
              "Dec '15    20\n",
              "Sep '18    20\n",
              "Sep '19    20\n",
              "Sep '17    20\n",
              "Mar '19    20\n",
              "Dec '18    20\n",
              "Dec '16    20\n",
              "Dec '17    20\n",
              "Jun '20    20\n",
              "Sep '20    20\n",
              "Mar '17    20\n",
              "Jun '19    20\n",
              "Dec '14    20\n",
              "Sep '14    20\n",
              "Dec '19    20\n",
              "Mar '15    20\n",
              "Mar '21    20\n",
              "Sep '15    20\n",
              "Mar '14    18\n",
              "Dec '13    17\n",
              "Sep '13     1\n",
              "Name: Quarters, dtype: int64"
            ]
          },
          "execution_count": 21,
          "metadata": {},
          "output_type": "execute_result"
        }
      ],
      "source": [
        "df.Quarters.value_counts()"
      ]
    },
    {
      "cell_type": "code",
      "execution_count": null,
      "metadata": {
        "id": "l9DQObISFrKb"
      },
      "outputs": [],
      "source": [
        "df.to_csv(r'G:\\ISB AMPBA\\15. Supervised Learning 1\\FMCG_combined_company_data.csv',index=False)"
      ]
    },
    {
      "cell_type": "markdown",
      "metadata": {
        "id": "7ha0gDKFFrKd"
      },
      "source": [
        "This raw data captured will be cleaned and processed for use in the ML Algorithm \n",
        "## END"
      ]
    }
  ],
  "metadata": {
    "colab": {
      "include_colab_link": true,
      "provenance": []
    },
    "kernelspec": {
      "display_name": "Python 3",
      "language": "python",
      "name": "python3"
    },
    "language_info": {
      "codemirror_mode": {
        "name": "ipython",
        "version": 3
      },
      "file_extension": ".py",
      "mimetype": "text/x-python",
      "name": "python",
      "nbconvert_exporter": "python",
      "pygments_lexer": "ipython3",
      "version": "3.8.5"
    }
  },
  "nbformat": 4,
  "nbformat_minor": 0
}
