{
  "nbformat": 4,
  "nbformat_minor": 0,
  "metadata": {
    "colab": {
      "provenance": []
    },
    "kernelspec": {
      "name": "python3",
      "display_name": "Python 3"
    },
    "language_info": {
      "name": "python"
    }
  },
  "cells": [
    {
      "cell_type": "code",
      "execution_count": 1,
      "metadata": {
        "id": "L6oe6nR_ipWM"
      },
      "outputs": [],
      "source": [
        "import pandas as pd\n",
        "import numpy as np\n",
        "from sklearn.model_selection import train_test_split\n",
        "from sklearn.feature_extraction.text import TfidfVectorizer\n",
        "from sklearn.preprocessing import StandardScaler"
      ]
    },
    {
      "cell_type": "code",
      "source": [
        "# Load datasets\n",
        "combined_news = pd.read_csv('/content/drive/MyDrive/GoogleGirlsScript/286Dailynews/Combined_News_DJIA.csv')\n",
        "reddit_news = pd.read_csv('/content/drive/MyDrive/GoogleGirlsScript/286Dailynews/RedditNews.csv')\n",
        "djia_data = pd.read_csv('/content/drive/MyDrive/GoogleGirlsScript/286Dailynews/upload_DJIA_table.csv')\n"
      ],
      "metadata": {
        "id": "4q8YpenoirLF"
      },
      "execution_count": 2,
      "outputs": []
    },
    {
      "cell_type": "code",
      "source": [
        "# Combine top news headlines into a single column\n",
        "combined_news['Combined_News'] = combined_news.iloc[:, 2:].apply(lambda row: ' '.join(row.values.astype(str)), axis=1)\n",
        "combined_news = combined_news[['Date', 'Label', 'Combined_News']]"
      ],
      "metadata": {
        "id": "u_cEIG5sirU1"
      },
      "execution_count": 3,
      "outputs": []
    },
    {
      "cell_type": "code",
      "source": [
        "# Merge with DJIA data\n",
        "djia_data['Date'] = pd.to_datetime(djia_data['Date'])\n",
        "combined_news['Date'] = pd.to_datetime(combined_news['Date'])"
      ],
      "metadata": {
        "colab": {
          "base_uri": "https://localhost:8080/"
        },
        "id": "0BOALyEsirao",
        "outputId": "40245ef4-35ba-4609-e1ff-8bd000cf5509"
      },
      "execution_count": 4,
      "outputs": [
        {
          "output_type": "stream",
          "name": "stderr",
          "text": [
            "<ipython-input-4-005cb4616053>:3: SettingWithCopyWarning: \n",
            "A value is trying to be set on a copy of a slice from a DataFrame.\n",
            "Try using .loc[row_indexer,col_indexer] = value instead\n",
            "\n",
            "See the caveats in the documentation: https://pandas.pydata.org/pandas-docs/stable/user_guide/indexing.html#returning-a-view-versus-a-copy\n",
            "  combined_news['Date'] = pd.to_datetime(combined_news['Date'])\n"
          ]
        }
      ]
    },
    {
      "cell_type": "code",
      "source": [
        "data = pd.merge(combined_news, djia_data, on='Date')"
      ],
      "metadata": {
        "id": "YhEg5qsUire1"
      },
      "execution_count": 5,
      "outputs": []
    },
    {
      "cell_type": "code",
      "source": [
        "# Feature extraction from text data\n",
        "vectorizer = TfidfVectorizer(max_features=5000)\n",
        "news_tfidf = vectorizer.fit_transform(data['Combined_News']).toarray()"
      ],
      "metadata": {
        "id": "k22JpJWwiriF"
      },
      "execution_count": 6,
      "outputs": []
    },
    {
      "cell_type": "code",
      "source": [
        "# Combine with stock data\n",
        "stock_features = data[['Open', 'High', 'Low', 'Close', 'Volume', 'Adj Close']].values\n",
        "scaler = StandardScaler()\n",
        "stock_features_scaled = scaler.fit_transform(stock_features)"
      ],
      "metadata": {
        "id": "3j_voN3Y6p0n"
      },
      "execution_count": 7,
      "outputs": []
    },
    {
      "cell_type": "code",
      "source": [
        "X = np.hstack((news_tfidf, stock_features_scaled))\n",
        "y = data['Label'].values"
      ],
      "metadata": {
        "id": "fuD-Um9n6p9J"
      },
      "execution_count": 8,
      "outputs": []
    },
    {
      "cell_type": "code",
      "source": [
        "# Split the data\n",
        "X_train, X_test, y_train, y_test = train_test_split(X, y, test_size=0.2, random_state=42)"
      ],
      "metadata": {
        "id": "LK5MPbLM6qAl"
      },
      "execution_count": 9,
      "outputs": []
    },
    {
      "cell_type": "code",
      "source": [],
      "metadata": {
        "id": "9DGoY3Bc6qD_"
      },
      "execution_count": 9,
      "outputs": []
    },
    {
      "cell_type": "code",
      "source": [
        "from tensorflow.keras.models import Sequential\n",
        "from tensorflow.keras.layers import Dense, Dropout\n",
        "from tensorflow.keras.regularizers import l2\n",
        "\n"
      ],
      "metadata": {
        "id": "HBvV7DIxjdvo"
      },
      "execution_count": 10,
      "outputs": []
    },
    {
      "cell_type": "code",
      "source": [
        "# Define the model with regularization and dropout\n",
        "model = Sequential()\n",
        "model.add(Dense(512, input_dim=X_train.shape[1], activation='relu', kernel_regularizer=l2(0.01)))\n",
        "model.add(Dropout(0.5))\n",
        "model.add(Dense(256, activation='relu', kernel_regularizer=l2(0.01)))\n",
        "model.add(Dropout(0.5))\n",
        "model.add(Dense(1, activation='sigmoid'))"
      ],
      "metadata": {
        "id": "A82273VW6zVl"
      },
      "execution_count": 11,
      "outputs": []
    },
    {
      "cell_type": "code",
      "source": [
        "model.compile(loss='binary_crossentropy', optimizer='adam', metrics=['accuracy'])"
      ],
      "metadata": {
        "id": "BTWkenyg6zZC"
      },
      "execution_count": 12,
      "outputs": []
    },
    {
      "cell_type": "code",
      "source": [
        "# Train the model with early stopping\n",
        "from tensorflow.keras.callbacks import EarlyStopping"
      ],
      "metadata": {
        "id": "oMxVVJxh6zc1"
      },
      "execution_count": 13,
      "outputs": []
    },
    {
      "cell_type": "code",
      "source": [
        "early_stopping = EarlyStopping(monitor='val_loss', patience=5, restore_best_weights=True)"
      ],
      "metadata": {
        "id": "HKo-VHXU66Xc"
      },
      "execution_count": 14,
      "outputs": []
    },
    {
      "cell_type": "code",
      "source": [
        "history = model.fit(X_train, y_train, epochs=100, batch_size=64, validation_data=(X_test, y_test), callbacks=[early_stopping])"
      ],
      "metadata": {
        "colab": {
          "base_uri": "https://localhost:8080/"
        },
        "id": "rCraphks66bO",
        "outputId": "dba4a61e-68cd-4588-a2df-19f980419e8c"
      },
      "execution_count": 15,
      "outputs": [
        {
          "output_type": "stream",
          "name": "stdout",
          "text": [
            "Epoch 1/100\n",
            "25/25 [==============================] - 3s 85ms/step - loss: 6.4215 - accuracy: 0.5110 - val_loss: 2.4116 - val_accuracy: 0.5729\n",
            "Epoch 2/100\n",
            "25/25 [==============================] - 2s 81ms/step - loss: 1.6591 - accuracy: 0.5236 - val_loss: 1.1852 - val_accuracy: 0.5678\n",
            "Epoch 3/100\n",
            "25/25 [==============================] - 2s 79ms/step - loss: 0.9891 - accuracy: 0.5223 - val_loss: 0.8330 - val_accuracy: 0.5578\n",
            "Epoch 4/100\n",
            "25/25 [==============================] - 1s 56ms/step - loss: 0.7762 - accuracy: 0.5261 - val_loss: 0.7279 - val_accuracy: 0.5704\n",
            "Epoch 5/100\n",
            "25/25 [==============================] - 1s 46ms/step - loss: 0.7152 - accuracy: 0.5374 - val_loss: 0.7002 - val_accuracy: 0.5553\n",
            "Epoch 6/100\n",
            "25/25 [==============================] - 1s 49ms/step - loss: 0.6994 - accuracy: 0.5286 - val_loss: 0.6927 - val_accuracy: 0.5603\n",
            "Epoch 7/100\n",
            "25/25 [==============================] - 1s 58ms/step - loss: 0.6954 - accuracy: 0.5349 - val_loss: 0.6904 - val_accuracy: 0.5653\n",
            "Epoch 8/100\n",
            "25/25 [==============================] - 1s 54ms/step - loss: 0.6942 - accuracy: 0.5261 - val_loss: 0.6889 - val_accuracy: 0.5704\n",
            "Epoch 9/100\n",
            "25/25 [==============================] - 1s 60ms/step - loss: 0.6933 - accuracy: 0.5286 - val_loss: 0.6887 - val_accuracy: 0.5704\n",
            "Epoch 10/100\n",
            "25/25 [==============================] - 1s 49ms/step - loss: 0.6937 - accuracy: 0.5280 - val_loss: 0.6894 - val_accuracy: 0.5678\n",
            "Epoch 11/100\n",
            "25/25 [==============================] - 2s 69ms/step - loss: 0.6932 - accuracy: 0.5292 - val_loss: 0.6883 - val_accuracy: 0.5729\n",
            "Epoch 12/100\n",
            "25/25 [==============================] - 2s 76ms/step - loss: 0.6928 - accuracy: 0.5261 - val_loss: 0.6885 - val_accuracy: 0.5704\n",
            "Epoch 13/100\n",
            "25/25 [==============================] - 2s 71ms/step - loss: 0.6931 - accuracy: 0.5273 - val_loss: 0.6888 - val_accuracy: 0.5704\n",
            "Epoch 14/100\n",
            "25/25 [==============================] - 2s 68ms/step - loss: 0.6930 - accuracy: 0.5261 - val_loss: 0.6890 - val_accuracy: 0.5704\n",
            "Epoch 15/100\n",
            "25/25 [==============================] - 1s 54ms/step - loss: 0.6930 - accuracy: 0.5267 - val_loss: 0.6886 - val_accuracy: 0.5704\n",
            "Epoch 16/100\n",
            "25/25 [==============================] - 2s 61ms/step - loss: 0.6937 - accuracy: 0.5229 - val_loss: 0.6890 - val_accuracy: 0.5704\n"
          ]
        }
      ]
    },
    {
      "cell_type": "code",
      "source": [
        "# Evaluate the model\n",
        "loss, accuracy = model.evaluate(X_test, y_test)\n",
        "print(f'Test Accuracy: {accuracy*100:.2f}%')"
      ],
      "metadata": {
        "colab": {
          "base_uri": "https://localhost:8080/"
        },
        "id": "kd9jYBITjd4q",
        "outputId": "9872757e-86ec-4cb0-a6c8-a4de48902e43"
      },
      "execution_count": 16,
      "outputs": [
        {
          "output_type": "stream",
          "name": "stdout",
          "text": [
            "13/13 [==============================] - 0s 7ms/step - loss: 0.6883 - accuracy: 0.5729\n",
            "Test Accuracy: 57.29%\n"
          ]
        }
      ]
    },
    {
      "cell_type": "code",
      "source": [
        "# Predict and calculate additional metrics if necessary\n",
        "from sklearn.metrics import classification_report\n",
        "y_pred = (model.predict(X_test) > 0.5).astype(\"int32\")\n",
        "print(classification_report(y_test, y_pred))"
      ],
      "metadata": {
        "colab": {
          "base_uri": "https://localhost:8080/"
        },
        "id": "l9uz_XrE7IGB",
        "outputId": "eda9cce6-e8b1-40a3-f73b-b11e108d0246"
      },
      "execution_count": 17,
      "outputs": [
        {
          "output_type": "stream",
          "name": "stdout",
          "text": [
            "13/13 [==============================] - 0s 7ms/step\n",
            "              precision    recall  f1-score   support\n",
            "\n",
            "           0       1.00      0.01      0.01       171\n",
            "           1       0.57      1.00      0.73       227\n",
            "\n",
            "    accuracy                           0.57       398\n",
            "   macro avg       0.79      0.50      0.37       398\n",
            "weighted avg       0.76      0.57      0.42       398\n",
            "\n"
          ]
        }
      ]
    },
    {
      "cell_type": "code",
      "source": [
        "model.save('stock_prediction_model.h5')\n"
      ],
      "metadata": {
        "id": "De-L1xKpjd8H"
      },
      "execution_count": 19,
      "outputs": []
    }
  ]
}