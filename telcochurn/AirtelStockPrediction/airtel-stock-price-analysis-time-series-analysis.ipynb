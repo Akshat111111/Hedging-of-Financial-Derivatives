{
 "cells": [
  {
   "cell_type": "markdown",
   "id": "178168f7",
   "metadata": {
    "_cell_guid": "b1076dfc-b9ad-4769-8c92-a6c4dae69d19",
    "_uuid": "8f2839f25d086af736a60e9eeb907d3b93b6e0e5",
    "papermill": {
     "duration": 0.032747,
     "end_time": "2022-03-02T16:45:33.877580",
     "exception": false,
     "start_time": "2022-03-02T16:45:33.844833",
     "status": "completed"
    },
    "tags": []
   },
   "source": [
    "<h1 style=\"color:Tomato;\" align ='center'>Airtel Stock Price Analysis (Time Series Analysis)</h1>"
   ]
  },
  {
   "cell_type": "markdown",
   "id": "979155c6",
   "metadata": {
    "papermill": {
     "duration": 0.032766,
     "end_time": "2022-03-02T16:45:33.942816",
     "exception": false,
     "start_time": "2022-03-02T16:45:33.910050",
     "status": "completed"
    },
    "tags": []
   },
   "source": [
    "**<p style='color:DodgerBlue; text-align:center'> Bharti Airtel the only Company which sustained itself in the stream of JIO. In this notebook I am going to discuss in detail about the stock performance of Airtel between 2017 to 2022. We will try to discuss how stock performed during various market crash during this period we will also try to analyze the impact of decisions taken by Airtel.</p>**"
   ]
  },
  {
   "cell_type": "markdown",
   "id": "bf80357e",
   "metadata": {
    "papermill": {
     "duration": 0.031174,
     "end_time": "2022-03-02T16:45:34.008588",
     "exception": false,
     "start_time": "2022-03-02T16:45:33.977414",
     "status": "completed"
    },
    "tags": []
   },
   "source": [
    "<h3 style=\"color:Tomato;\"> In this Notebook We will be Discussing Following Market Crash:</h3>\n",
    "\n",
    "\n",
    "1. <h5 style='color:DodgerBlue;'>Stock market crash 2018</h5>  2 and 5 February 2018\n",
    "1. <h5 style='color:DodgerBlue;'>Stock market crash 2020</h5>  1 February 2020 (Budget) and 28 February 2020 (Covid)\n",
    "\n",
    "<h4 style=\"color:Tomato;\"> And will also Discuss few business decisions which impacted stock price.</h4>"
   ]
  },
  {
   "cell_type": "markdown",
   "id": "6a7ef471",
   "metadata": {
    "papermill": {
     "duration": 0.032127,
     "end_time": "2022-03-02T16:45:34.072520",
     "exception": false,
     "start_time": "2022-03-02T16:45:34.040393",
     "status": "completed"
    },
    "tags": []
   },
   "source": [
    "<h3 style=\"color:Tomato;\"> Importing Libraries</h3>"
   ]
  },
  {
   "cell_type": "code",
   "execution_count": 1,
   "id": "b8239b29",
   "metadata": {
    "execution": {
     "iopub.execute_input": "2022-03-02T16:45:34.157714Z",
     "iopub.status.busy": "2022-03-02T16:45:34.155989Z",
     "iopub.status.idle": "2022-03-02T16:45:35.231316Z",
     "shell.execute_reply": "2022-03-02T16:45:35.230096Z",
     "shell.execute_reply.started": "2022-03-02T16:05:07.694170Z"
    },
    "papermill": {
     "duration": 1.115496,
     "end_time": "2022-03-02T16:45:35.231494",
     "exception": false,
     "start_time": "2022-03-02T16:45:34.115998",
     "status": "completed"
    },
    "tags": []
   },
   "outputs": [],
   "source": [
    "import pandas as pd\n",
    "import numpy as np\n",
    "import seaborn as sns\n",
    "import datetime as datetime\n",
    "import matplotlib.pyplot as plt\n",
    "%matplotlib inline"
   ]
  },
  {
   "cell_type": "markdown",
   "id": "04d2595f",
   "metadata": {
    "papermill": {
     "duration": 0.031421,
     "end_time": "2022-03-02T16:45:35.295219",
     "exception": false,
     "start_time": "2022-03-02T16:45:35.263798",
     "status": "completed"
    },
    "tags": []
   },
   "source": [
    "<h3 style=\"color:Tomato;\"> Reading Data</h3>"
   ]
  },
  {
   "cell_type": "code",
   "execution_count": 2,
   "id": "3ed6baaf",
   "metadata": {
    "execution": {
     "iopub.execute_input": "2022-03-02T16:45:35.363224Z",
     "iopub.status.busy": "2022-03-02T16:45:35.362470Z",
     "iopub.status.idle": "2022-03-02T16:45:35.377551Z",
     "shell.execute_reply": "2022-03-02T16:45:35.378104Z",
     "shell.execute_reply.started": "2022-03-02T16:05:07.704695Z"
    },
    "papermill": {
     "duration": 0.051576,
     "end_time": "2022-03-02T16:45:35.378278",
     "exception": false,
     "start_time": "2022-03-02T16:45:35.326702",
     "status": "completed"
    },
    "tags": []
   },
   "outputs": [],
   "source": [
    "df = pd.read_csv('../input/bharti-airtel-stock-proce/BHARTIARTL.NS.csv')"
   ]
  },
  {
   "cell_type": "markdown",
   "id": "730f70c3",
   "metadata": {
    "papermill": {
     "duration": 0.031916,
     "end_time": "2022-03-02T16:45:35.442662",
     "exception": false,
     "start_time": "2022-03-02T16:45:35.410746",
     "status": "completed"
    },
    "tags": []
   },
   "source": [
    "<h5 style='color:DodgerBlue;'>Data is from 28th Feb 2017 to 25th Feb 2022</h5> "
   ]
  },
  {
   "cell_type": "markdown",
   "id": "eaa682df",
   "metadata": {
    "papermill": {
     "duration": 0.031666,
     "end_time": "2022-03-02T16:45:35.506036",
     "exception": false,
     "start_time": "2022-03-02T16:45:35.474370",
     "status": "completed"
    },
    "tags": []
   },
   "source": [
    "<h3 style=\"color:Tomato;\"> Basic EDA</h3>\n",
    "\n"
   ]
  },
  {
   "cell_type": "markdown",
   "id": "2fb9f4af",
   "metadata": {
    "papermill": {
     "duration": 0.032888,
     "end_time": "2022-03-02T16:45:35.570485",
     "exception": false,
     "start_time": "2022-03-02T16:45:35.537597",
     "status": "completed"
    },
    "tags": []
   },
   "source": [
    "<p style='color:DodgerBlue;'> Here our aim is to ask some basic question to data which we ask while EDA.</p>"
   ]
  },
  {
   "cell_type": "markdown",
   "id": "ad684f5e",
   "metadata": {
    "papermill": {
     "duration": 0.039118,
     "end_time": "2022-03-02T16:45:35.645344",
     "exception": false,
     "start_time": "2022-03-02T16:45:35.606226",
     "status": "completed"
    },
    "tags": []
   },
   "source": [
    "**1. Shape of Data**"
   ]
  },
  {
   "cell_type": "code",
   "execution_count": 3,
   "id": "2e0ed4d1",
   "metadata": {
    "execution": {
     "iopub.execute_input": "2022-03-02T16:45:35.732684Z",
     "iopub.status.busy": "2022-03-02T16:45:35.731582Z",
     "iopub.status.idle": "2022-03-02T16:45:35.738798Z",
     "shell.execute_reply": "2022-03-02T16:45:35.739285Z",
     "shell.execute_reply.started": "2022-03-02T16:05:07.738825Z"
    },
    "papermill": {
     "duration": 0.047424,
     "end_time": "2022-03-02T16:45:35.739449",
     "exception": false,
     "start_time": "2022-03-02T16:45:35.692025",
     "status": "completed"
    },
    "tags": []
   },
   "outputs": [
    {
     "data": {
      "text/plain": [
       "(1236, 7)"
      ]
     },
     "execution_count": 3,
     "metadata": {},
     "output_type": "execute_result"
    }
   ],
   "source": [
    "df.shape"
   ]
  },
  {
   "cell_type": "markdown",
   "id": "b628e376",
   "metadata": {
    "papermill": {
     "duration": 0.032223,
     "end_time": "2022-03-02T16:45:35.805482",
     "exception": false,
     "start_time": "2022-03-02T16:45:35.773259",
     "status": "completed"
    },
    "tags": []
   },
   "source": [
    "**Which are the 7 Different Columns**"
   ]
  },
  {
   "cell_type": "code",
   "execution_count": 4,
   "id": "102cec30",
   "metadata": {
    "execution": {
     "iopub.execute_input": "2022-03-02T16:45:35.875420Z",
     "iopub.status.busy": "2022-03-02T16:45:35.874803Z",
     "iopub.status.idle": "2022-03-02T16:45:35.878288Z",
     "shell.execute_reply": "2022-03-02T16:45:35.878767Z",
     "shell.execute_reply.started": "2022-03-02T16:05:07.794622Z"
    },
    "papermill": {
     "duration": 0.041414,
     "end_time": "2022-03-02T16:45:35.878937",
     "exception": false,
     "start_time": "2022-03-02T16:45:35.837523",
     "status": "completed"
    },
    "tags": []
   },
   "outputs": [
    {
     "data": {
      "text/plain": [
       "Index(['Date', 'Open', 'High', 'Low', 'Close', 'Adj Close', 'Volume'], dtype='object')"
      ]
     },
     "execution_count": 4,
     "metadata": {},
     "output_type": "execute_result"
    }
   ],
   "source": [
    "df.columns"
   ]
  },
  {
   "cell_type": "markdown",
   "id": "a24c5d5a",
   "metadata": {
    "papermill": {
     "duration": 0.033695,
     "end_time": "2022-03-02T16:45:35.945606",
     "exception": false,
     "start_time": "2022-03-02T16:45:35.911911",
     "status": "completed"
    },
    "tags": []
   },
   "source": [
    "**How our data looks**"
   ]
  },
  {
   "cell_type": "code",
   "execution_count": 5,
   "id": "455940b5",
   "metadata": {
    "execution": {
     "iopub.execute_input": "2022-03-02T16:45:36.013466Z",
     "iopub.status.busy": "2022-03-02T16:45:36.012856Z",
     "iopub.status.idle": "2022-03-02T16:45:36.031219Z",
     "shell.execute_reply": "2022-03-02T16:45:36.030561Z",
     "shell.execute_reply.started": "2022-03-02T16:05:07.805994Z"
    },
    "papermill": {
     "duration": 0.05331,
     "end_time": "2022-03-02T16:45:36.031360",
     "exception": false,
     "start_time": "2022-03-02T16:45:35.978050",
     "status": "completed"
    },
    "tags": []
   },
   "outputs": [
    {
     "data": {
      "text/html": [
       "<div>\n",
       "<style scoped>\n",
       "    .dataframe tbody tr th:only-of-type {\n",
       "        vertical-align: middle;\n",
       "    }\n",
       "\n",
       "    .dataframe tbody tr th {\n",
       "        vertical-align: top;\n",
       "    }\n",
       "\n",
       "    .dataframe thead th {\n",
       "        text-align: right;\n",
       "    }\n",
       "</style>\n",
       "<table border=\"1\" class=\"dataframe\">\n",
       "  <thead>\n",
       "    <tr style=\"text-align: right;\">\n",
       "      <th></th>\n",
       "      <th>Date</th>\n",
       "      <th>Open</th>\n",
       "      <th>High</th>\n",
       "      <th>Low</th>\n",
       "      <th>Close</th>\n",
       "      <th>Adj Close</th>\n",
       "      <th>Volume</th>\n",
       "    </tr>\n",
       "  </thead>\n",
       "  <tbody>\n",
       "    <tr>\n",
       "      <th>0</th>\n",
       "      <td>2017-02-28</td>\n",
       "      <td>327.789673</td>\n",
       "      <td>342.572357</td>\n",
       "      <td>327.23877</td>\n",
       "      <td>335.272827</td>\n",
       "      <td>326.374084</td>\n",
       "      <td>13239646</td>\n",
       "    </tr>\n",
       "    <tr>\n",
       "      <th>1</th>\n",
       "      <td>2017-03-01</td>\n",
       "      <td>338.394623</td>\n",
       "      <td>338.670105</td>\n",
       "      <td>331.87558</td>\n",
       "      <td>333.069214</td>\n",
       "      <td>324.228943</td>\n",
       "      <td>3755896</td>\n",
       "    </tr>\n",
       "  </tbody>\n",
       "</table>\n",
       "</div>"
      ],
      "text/plain": [
       "         Date        Open        High        Low       Close   Adj Close  \\\n",
       "0  2017-02-28  327.789673  342.572357  327.23877  335.272827  326.374084   \n",
       "1  2017-03-01  338.394623  338.670105  331.87558  333.069214  324.228943   \n",
       "\n",
       "     Volume  \n",
       "0  13239646  \n",
       "1   3755896  "
      ]
     },
     "execution_count": 5,
     "metadata": {},
     "output_type": "execute_result"
    }
   ],
   "source": [
    "df.head(2)"
   ]
  },
  {
   "cell_type": "code",
   "execution_count": 6,
   "id": "5b9fc068",
   "metadata": {
    "execution": {
     "iopub.execute_input": "2022-03-02T16:45:36.107921Z",
     "iopub.status.busy": "2022-03-02T16:45:36.107294Z",
     "iopub.status.idle": "2022-03-02T16:45:36.117582Z",
     "shell.execute_reply": "2022-03-02T16:45:36.118061Z",
     "shell.execute_reply.started": "2022-03-02T16:05:07.830043Z"
    },
    "papermill": {
     "duration": 0.052478,
     "end_time": "2022-03-02T16:45:36.118229",
     "exception": false,
     "start_time": "2022-03-02T16:45:36.065751",
     "status": "completed"
    },
    "tags": []
   },
   "outputs": [
    {
     "data": {
      "text/html": [
       "<div>\n",
       "<style scoped>\n",
       "    .dataframe tbody tr th:only-of-type {\n",
       "        vertical-align: middle;\n",
       "    }\n",
       "\n",
       "    .dataframe tbody tr th {\n",
       "        vertical-align: top;\n",
       "    }\n",
       "\n",
       "    .dataframe thead th {\n",
       "        text-align: right;\n",
       "    }\n",
       "</style>\n",
       "<table border=\"1\" class=\"dataframe\">\n",
       "  <thead>\n",
       "    <tr style=\"text-align: right;\">\n",
       "      <th></th>\n",
       "      <th>Date</th>\n",
       "      <th>Open</th>\n",
       "      <th>High</th>\n",
       "      <th>Low</th>\n",
       "      <th>Close</th>\n",
       "      <th>Adj Close</th>\n",
       "      <th>Volume</th>\n",
       "    </tr>\n",
       "  </thead>\n",
       "  <tbody>\n",
       "    <tr>\n",
       "      <th>363</th>\n",
       "      <td>2018-08-13</td>\n",
       "      <td>338.716003</td>\n",
       "      <td>345.005524</td>\n",
       "      <td>333.298737</td>\n",
       "      <td>339.863708</td>\n",
       "      <td>335.918610</td>\n",
       "      <td>4157716</td>\n",
       "    </tr>\n",
       "    <tr>\n",
       "      <th>855</th>\n",
       "      <td>2020-08-19</td>\n",
       "      <td>529.000000</td>\n",
       "      <td>539.900024</td>\n",
       "      <td>527.099976</td>\n",
       "      <td>535.849976</td>\n",
       "      <td>535.849976</td>\n",
       "      <td>17074711</td>\n",
       "    </tr>\n",
       "    <tr>\n",
       "      <th>535</th>\n",
       "      <td>2019-05-03</td>\n",
       "      <td>324.450012</td>\n",
       "      <td>333.850006</td>\n",
       "      <td>324.450012</td>\n",
       "      <td>331.450012</td>\n",
       "      <td>330.285889</td>\n",
       "      <td>9718936</td>\n",
       "    </tr>\n",
       "    <tr>\n",
       "      <th>871</th>\n",
       "      <td>2020-09-10</td>\n",
       "      <td>508.000000</td>\n",
       "      <td>508.000000</td>\n",
       "      <td>491.200012</td>\n",
       "      <td>497.350006</td>\n",
       "      <td>497.350006</td>\n",
       "      <td>21005683</td>\n",
       "    </tr>\n",
       "    <tr>\n",
       "      <th>1006</th>\n",
       "      <td>2021-03-25</td>\n",
       "      <td>523.400024</td>\n",
       "      <td>523.650024</td>\n",
       "      <td>499.549988</td>\n",
       "      <td>507.750000</td>\n",
       "      <td>507.750000</td>\n",
       "      <td>17248482</td>\n",
       "    </tr>\n",
       "  </tbody>\n",
       "</table>\n",
       "</div>"
      ],
      "text/plain": [
       "            Date        Open        High         Low       Close   Adj Close  \\\n",
       "363   2018-08-13  338.716003  345.005524  333.298737  339.863708  335.918610   \n",
       "855   2020-08-19  529.000000  539.900024  527.099976  535.849976  535.849976   \n",
       "535   2019-05-03  324.450012  333.850006  324.450012  331.450012  330.285889   \n",
       "871   2020-09-10  508.000000  508.000000  491.200012  497.350006  497.350006   \n",
       "1006  2021-03-25  523.400024  523.650024  499.549988  507.750000  507.750000   \n",
       "\n",
       "        Volume  \n",
       "363    4157716  \n",
       "855   17074711  \n",
       "535    9718936  \n",
       "871   21005683  \n",
       "1006  17248482  "
      ]
     },
     "execution_count": 6,
     "metadata": {},
     "output_type": "execute_result"
    }
   ],
   "source": [
    "df.sample(5)"
   ]
  },
  {
   "cell_type": "code",
   "execution_count": 7,
   "id": "724f87e5",
   "metadata": {
    "execution": {
     "iopub.execute_input": "2022-03-02T16:45:36.190285Z",
     "iopub.status.busy": "2022-03-02T16:45:36.187460Z",
     "iopub.status.idle": "2022-03-02T16:45:36.200991Z",
     "shell.execute_reply": "2022-03-02T16:45:36.201472Z",
     "shell.execute_reply.started": "2022-03-02T16:05:07.859395Z"
    },
    "papermill": {
     "duration": 0.050236,
     "end_time": "2022-03-02T16:45:36.201644",
     "exception": false,
     "start_time": "2022-03-02T16:45:36.151408",
     "status": "completed"
    },
    "tags": []
   },
   "outputs": [
    {
     "data": {
      "text/html": [
       "<div>\n",
       "<style scoped>\n",
       "    .dataframe tbody tr th:only-of-type {\n",
       "        vertical-align: middle;\n",
       "    }\n",
       "\n",
       "    .dataframe tbody tr th {\n",
       "        vertical-align: top;\n",
       "    }\n",
       "\n",
       "    .dataframe thead th {\n",
       "        text-align: right;\n",
       "    }\n",
       "</style>\n",
       "<table border=\"1\" class=\"dataframe\">\n",
       "  <thead>\n",
       "    <tr style=\"text-align: right;\">\n",
       "      <th></th>\n",
       "      <th>Date</th>\n",
       "      <th>Open</th>\n",
       "      <th>High</th>\n",
       "      <th>Low</th>\n",
       "      <th>Close</th>\n",
       "      <th>Adj Close</th>\n",
       "      <th>Volume</th>\n",
       "    </tr>\n",
       "  </thead>\n",
       "  <tbody>\n",
       "    <tr>\n",
       "      <th>1234</th>\n",
       "      <td>2022-02-24</td>\n",
       "      <td>682.0</td>\n",
       "      <td>688.549988</td>\n",
       "      <td>645.450012</td>\n",
       "      <td>670.900024</td>\n",
       "      <td>670.900024</td>\n",
       "      <td>14139461</td>\n",
       "    </tr>\n",
       "    <tr>\n",
       "      <th>1235</th>\n",
       "      <td>2022-02-25</td>\n",
       "      <td>677.5</td>\n",
       "      <td>695.150024</td>\n",
       "      <td>677.500000</td>\n",
       "      <td>688.650024</td>\n",
       "      <td>688.650024</td>\n",
       "      <td>6452099</td>\n",
       "    </tr>\n",
       "  </tbody>\n",
       "</table>\n",
       "</div>"
      ],
      "text/plain": [
       "            Date   Open        High         Low       Close   Adj Close  \\\n",
       "1234  2022-02-24  682.0  688.549988  645.450012  670.900024  670.900024   \n",
       "1235  2022-02-25  677.5  695.150024  677.500000  688.650024  688.650024   \n",
       "\n",
       "        Volume  \n",
       "1234  14139461  \n",
       "1235   6452099  "
      ]
     },
     "execution_count": 7,
     "metadata": {},
     "output_type": "execute_result"
    }
   ],
   "source": [
    "df.tail(2)"
   ]
  },
  {
   "cell_type": "markdown",
   "id": "3572a7ff",
   "metadata": {
    "papermill": {
     "duration": 0.034059,
     "end_time": "2022-03-02T16:45:36.270291",
     "exception": false,
     "start_time": "2022-03-02T16:45:36.236232",
     "status": "completed"
    },
    "tags": []
   },
   "source": [
    "**Checking Datatypes of data**"
   ]
  },
  {
   "cell_type": "code",
   "execution_count": 8,
   "id": "cfaf6f06",
   "metadata": {
    "execution": {
     "iopub.execute_input": "2022-03-02T16:45:36.340400Z",
     "iopub.status.busy": "2022-03-02T16:45:36.339485Z",
     "iopub.status.idle": "2022-03-02T16:45:36.360521Z",
     "shell.execute_reply": "2022-03-02T16:45:36.361082Z",
     "shell.execute_reply.started": "2022-03-02T16:05:07.876429Z"
    },
    "papermill": {
     "duration": 0.05788,
     "end_time": "2022-03-02T16:45:36.361261",
     "exception": false,
     "start_time": "2022-03-02T16:45:36.303381",
     "status": "completed"
    },
    "tags": []
   },
   "outputs": [
    {
     "name": "stdout",
     "output_type": "stream",
     "text": [
      "<class 'pandas.core.frame.DataFrame'>\n",
      "RangeIndex: 1236 entries, 0 to 1235\n",
      "Data columns (total 7 columns):\n",
      " #   Column     Non-Null Count  Dtype  \n",
      "---  ------     --------------  -----  \n",
      " 0   Date       1236 non-null   object \n",
      " 1   Open       1236 non-null   float64\n",
      " 2   High       1236 non-null   float64\n",
      " 3   Low        1236 non-null   float64\n",
      " 4   Close      1236 non-null   float64\n",
      " 5   Adj Close  1236 non-null   float64\n",
      " 6   Volume     1236 non-null   int64  \n",
      "dtypes: float64(5), int64(1), object(1)\n",
      "memory usage: 67.7+ KB\n"
     ]
    }
   ],
   "source": [
    "df.info()"
   ]
  },
  {
   "cell_type": "markdown",
   "id": "5537a6e9",
   "metadata": {
    "papermill": {
     "duration": 0.033352,
     "end_time": "2022-03-02T16:45:36.428555",
     "exception": false,
     "start_time": "2022-03-02T16:45:36.395203",
     "status": "completed"
    },
    "tags": []
   },
   "source": [
    "**<p style='color:DodgerBlue;'> Date Columns should be in Datetime format to perform Time Series Analysis.</p>**"
   ]
  },
  {
   "cell_type": "code",
   "execution_count": 9,
   "id": "7227f9b0",
   "metadata": {
    "execution": {
     "iopub.execute_input": "2022-03-02T16:45:36.503619Z",
     "iopub.status.busy": "2022-03-02T16:45:36.503018Z",
     "iopub.status.idle": "2022-03-02T16:45:36.505446Z",
     "shell.execute_reply": "2022-03-02T16:45:36.505865Z",
     "shell.execute_reply.started": "2022-03-02T16:05:07.898116Z"
    },
    "papermill": {
     "duration": 0.04315,
     "end_time": "2022-03-02T16:45:36.506048",
     "exception": false,
     "start_time": "2022-03-02T16:45:36.462898",
     "status": "completed"
    },
    "tags": []
   },
   "outputs": [],
   "source": [
    "df['Date'] = pd.to_datetime(df['Date'])"
   ]
  },
  {
   "cell_type": "code",
   "execution_count": 10,
   "id": "0a06cd7a",
   "metadata": {
    "execution": {
     "iopub.execute_input": "2022-03-02T16:45:36.577442Z",
     "iopub.status.busy": "2022-03-02T16:45:36.576838Z",
     "iopub.status.idle": "2022-03-02T16:45:36.587189Z",
     "shell.execute_reply": "2022-03-02T16:45:36.587892Z",
     "shell.execute_reply.started": "2022-03-02T16:05:07.914781Z"
    },
    "papermill": {
     "duration": 0.048087,
     "end_time": "2022-03-02T16:45:36.588120",
     "exception": false,
     "start_time": "2022-03-02T16:45:36.540033",
     "status": "completed"
    },
    "tags": []
   },
   "outputs": [
    {
     "name": "stdout",
     "output_type": "stream",
     "text": [
      "<class 'pandas.core.frame.DataFrame'>\n",
      "RangeIndex: 1236 entries, 0 to 1235\n",
      "Data columns (total 7 columns):\n",
      " #   Column     Non-Null Count  Dtype         \n",
      "---  ------     --------------  -----         \n",
      " 0   Date       1236 non-null   datetime64[ns]\n",
      " 1   Open       1236 non-null   float64       \n",
      " 2   High       1236 non-null   float64       \n",
      " 3   Low        1236 non-null   float64       \n",
      " 4   Close      1236 non-null   float64       \n",
      " 5   Adj Close  1236 non-null   float64       \n",
      " 6   Volume     1236 non-null   int64         \n",
      "dtypes: datetime64[ns](1), float64(5), int64(1)\n",
      "memory usage: 67.7 KB\n"
     ]
    }
   ],
   "source": [
    "df.info()"
   ]
  },
  {
   "cell_type": "markdown",
   "id": "50d56e25",
   "metadata": {
    "papermill": {
     "duration": 0.033955,
     "end_time": "2022-03-02T16:45:36.657420",
     "exception": false,
     "start_time": "2022-03-02T16:45:36.623465",
     "status": "completed"
    },
    "tags": []
   },
   "source": [
    "*We are going to set Date as the index for the further Visualizations*"
   ]
  },
  {
   "cell_type": "code",
   "execution_count": 11,
   "id": "f51c1c91",
   "metadata": {
    "execution": {
     "iopub.execute_input": "2022-03-02T16:45:36.732636Z",
     "iopub.status.busy": "2022-03-02T16:45:36.731695Z",
     "iopub.status.idle": "2022-03-02T16:45:36.734428Z",
     "shell.execute_reply": "2022-03-02T16:45:36.733972Z",
     "shell.execute_reply.started": "2022-03-02T16:05:07.942139Z"
    },
    "papermill": {
     "duration": 0.043044,
     "end_time": "2022-03-02T16:45:36.734566",
     "exception": false,
     "start_time": "2022-03-02T16:45:36.691522",
     "status": "completed"
    },
    "tags": []
   },
   "outputs": [],
   "source": [
    "df_1 = df.set_index('Date')"
   ]
  },
  {
   "cell_type": "code",
   "execution_count": 12,
   "id": "a6bc6ac9",
   "metadata": {
    "execution": {
     "iopub.execute_input": "2022-03-02T16:45:36.815673Z",
     "iopub.status.busy": "2022-03-02T16:45:36.815047Z",
     "iopub.status.idle": "2022-03-02T16:45:36.817641Z",
     "shell.execute_reply": "2022-03-02T16:45:36.818112Z",
     "shell.execute_reply.started": "2022-03-02T16:05:07.958513Z"
    },
    "papermill": {
     "duration": 0.049172,
     "end_time": "2022-03-02T16:45:36.818278",
     "exception": false,
     "start_time": "2022-03-02T16:45:36.769106",
     "status": "completed"
    },
    "tags": []
   },
   "outputs": [
    {
     "data": {
      "text/html": [
       "<div>\n",
       "<style scoped>\n",
       "    .dataframe tbody tr th:only-of-type {\n",
       "        vertical-align: middle;\n",
       "    }\n",
       "\n",
       "    .dataframe tbody tr th {\n",
       "        vertical-align: top;\n",
       "    }\n",
       "\n",
       "    .dataframe thead th {\n",
       "        text-align: right;\n",
       "    }\n",
       "</style>\n",
       "<table border=\"1\" class=\"dataframe\">\n",
       "  <thead>\n",
       "    <tr style=\"text-align: right;\">\n",
       "      <th></th>\n",
       "      <th>Open</th>\n",
       "      <th>High</th>\n",
       "      <th>Low</th>\n",
       "      <th>Close</th>\n",
       "      <th>Adj Close</th>\n",
       "      <th>Volume</th>\n",
       "    </tr>\n",
       "    <tr>\n",
       "      <th>Date</th>\n",
       "      <th></th>\n",
       "      <th></th>\n",
       "      <th></th>\n",
       "      <th></th>\n",
       "      <th></th>\n",
       "      <th></th>\n",
       "    </tr>\n",
       "  </thead>\n",
       "  <tbody>\n",
       "    <tr>\n",
       "      <th>2017-06-21</th>\n",
       "      <td>336.420563</td>\n",
       "      <td>338.073273</td>\n",
       "      <td>334.676025</td>\n",
       "      <td>337.246918</td>\n",
       "      <td>328.295807</td>\n",
       "      <td>2891476</td>\n",
       "    </tr>\n",
       "    <tr>\n",
       "      <th>2018-11-21</th>\n",
       "      <td>303.917053</td>\n",
       "      <td>311.675659</td>\n",
       "      <td>303.136597</td>\n",
       "      <td>305.477936</td>\n",
       "      <td>304.405029</td>\n",
       "      <td>9233430</td>\n",
       "    </tr>\n",
       "    <tr>\n",
       "      <th>2019-06-06</th>\n",
       "      <td>352.799988</td>\n",
       "      <td>355.950012</td>\n",
       "      <td>348.500000</td>\n",
       "      <td>353.799988</td>\n",
       "      <td>352.557373</td>\n",
       "      <td>10317108</td>\n",
       "    </tr>\n",
       "    <tr>\n",
       "      <th>2020-03-13</th>\n",
       "      <td>453.799988</td>\n",
       "      <td>509.049988</td>\n",
       "      <td>420.000000</td>\n",
       "      <td>491.850006</td>\n",
       "      <td>490.122528</td>\n",
       "      <td>23807314</td>\n",
       "    </tr>\n",
       "    <tr>\n",
       "      <th>2017-06-28</th>\n",
       "      <td>344.225067</td>\n",
       "      <td>350.422760</td>\n",
       "      <td>337.430542</td>\n",
       "      <td>346.336884</td>\n",
       "      <td>337.144470</td>\n",
       "      <td>4132340</td>\n",
       "    </tr>\n",
       "  </tbody>\n",
       "</table>\n",
       "</div>"
      ],
      "text/plain": [
       "                  Open        High         Low       Close   Adj Close  \\\n",
       "Date                                                                     \n",
       "2017-06-21  336.420563  338.073273  334.676025  337.246918  328.295807   \n",
       "2018-11-21  303.917053  311.675659  303.136597  305.477936  304.405029   \n",
       "2019-06-06  352.799988  355.950012  348.500000  353.799988  352.557373   \n",
       "2020-03-13  453.799988  509.049988  420.000000  491.850006  490.122528   \n",
       "2017-06-28  344.225067  350.422760  337.430542  346.336884  337.144470   \n",
       "\n",
       "              Volume  \n",
       "Date                  \n",
       "2017-06-21   2891476  \n",
       "2018-11-21   9233430  \n",
       "2019-06-06  10317108  \n",
       "2020-03-13  23807314  \n",
       "2017-06-28   4132340  "
      ]
     },
     "execution_count": 12,
     "metadata": {},
     "output_type": "execute_result"
    }
   ],
   "source": [
    "df_1.sample(5)"
   ]
  },
  {
   "cell_type": "markdown",
   "id": "07bf1446",
   "metadata": {
    "papermill": {
     "duration": 0.03495,
     "end_time": "2022-03-02T16:45:36.888365",
     "exception": false,
     "start_time": "2022-03-02T16:45:36.853415",
     "status": "completed"
    },
    "tags": []
   },
   "source": [
    "**Let's Plot the first Plot on this data and see what we get**"
   ]
  },
  {
   "cell_type": "code",
   "execution_count": 13,
   "id": "cec4b403",
   "metadata": {
    "execution": {
     "iopub.execute_input": "2022-03-02T16:45:36.962413Z",
     "iopub.status.busy": "2022-03-02T16:45:36.961780Z",
     "iopub.status.idle": "2022-03-02T16:45:37.327505Z",
     "shell.execute_reply": "2022-03-02T16:45:37.327040Z",
     "shell.execute_reply.started": "2022-03-02T16:05:07.987138Z"
    },
    "papermill": {
     "duration": 0.404407,
     "end_time": "2022-03-02T16:45:37.327645",
     "exception": false,
     "start_time": "2022-03-02T16:45:36.923238",
     "status": "completed"
    },
    "tags": []
   },
   "outputs": [
    {
     "data": {
      "text/plain": [
       "<AxesSubplot:xlabel='Date'>"
      ]
     },
     "execution_count": 13,
     "metadata": {},
     "output_type": "execute_result"
    },
    {
     "data": {
      "image/png": "[encoded data removed]",
      "text/plain": [
       "<Figure size 432x288 with 1 Axes>"
      ]
     },
     "metadata": {
      "needs_background": "light"
     },
     "output_type": "display_data"
    }
   ],
   "source": [
    "df_1.plot()"
   ]
  },
  {
   "cell_type": "markdown",
   "id": "95dbbc69",
   "metadata": {
    "papermill": {
     "duration": 0.035819,
     "end_time": "2022-03-02T16:45:37.399826",
     "exception": false,
     "start_time": "2022-03-02T16:45:37.364007",
     "status": "completed"
    },
    "tags": []
   },
   "source": [
    "> **oops ! not that good.**"
   ]
  },
  {
   "cell_type": "markdown",
   "id": "215c9a44",
   "metadata": {
    "papermill": {
     "duration": 0.035809,
     "end_time": "2022-03-02T16:45:37.471887",
     "exception": false,
     "start_time": "2022-03-02T16:45:37.436078",
     "status": "completed"
    },
    "tags": []
   },
   "source": [
    "Will try to plot one by one."
   ]
  },
  {
   "cell_type": "markdown",
   "id": "74ee9b8e",
   "metadata": {
    "papermill": {
     "duration": 0.035593,
     "end_time": "2022-03-02T16:45:37.543102",
     "exception": false,
     "start_time": "2022-03-02T16:45:37.507509",
     "status": "completed"
    },
    "tags": []
   },
   "source": [
    "<h3 style=\"color:Tomato;\"> Overall Performance of Airtel over the span of 5 Years</h3>"
   ]
  },
  {
   "cell_type": "code",
   "execution_count": 14,
   "id": "3f115fc1",
   "metadata": {
    "execution": {
     "iopub.execute_input": "2022-03-02T16:45:37.632811Z",
     "iopub.status.busy": "2022-03-02T16:45:37.618527Z",
     "iopub.status.idle": "2022-03-02T16:45:37.883823Z",
     "shell.execute_reply": "2022-03-02T16:45:37.884289Z",
     "shell.execute_reply.started": "2022-03-02T16:05:08.346498Z"
    },
    "papermill": {
     "duration": 0.305079,
     "end_time": "2022-03-02T16:45:37.884450",
     "exception": false,
     "start_time": "2022-03-02T16:45:37.579371",
     "status": "completed"
    },
    "tags": []
   },
   "outputs": [
    {
     "data": {
      "text/plain": [
       "Text(0.5, 1.0, 'AIRTEL Stock Price - 5Y')"
      ]
     },
     "execution_count": 14,
     "metadata": {},
     "output_type": "execute_result"
    },
    {
     "data": {
      "image/png": "[encoded data removed]",
      "text/plain": [
       "<Figure size 1440x360 with 1 Axes>"
      ]
     },
     "metadata": {
      "needs_background": "light"
     },
     "output_type": "display_data"
    }
   ],
   "source": [
    "df_1['Close'].plot(figsize=(20,5), color = 'g')\n",
    "plt.title('AIRTEL Stock Price - 5Y', fontsize = 20)"
   ]
  },
  {
   "cell_type": "code",
   "execution_count": 15,
   "id": "d6b6d09d",
   "metadata": {
    "execution": {
     "iopub.execute_input": "2022-03-02T16:45:37.965117Z",
     "iopub.status.busy": "2022-03-02T16:45:37.964461Z",
     "iopub.status.idle": "2022-03-02T16:45:37.975138Z",
     "shell.execute_reply": "2022-03-02T16:45:37.974612Z",
     "shell.execute_reply.started": "2022-03-02T16:05:08.606529Z"
    },
    "papermill": {
     "duration": 0.052302,
     "end_time": "2022-03-02T16:45:37.975288",
     "exception": false,
     "start_time": "2022-03-02T16:45:37.922986",
     "status": "completed"
    },
    "tags": []
   },
   "outputs": [],
   "source": [
    "df_1['Rolling 7: 7Days Rolling']= df_1.High.rolling(7).mean()\n",
    "df_1['Rolling 30: 30Days Rolling']= df_1.High.rolling(30).mean()"
   ]
  },
  {
   "cell_type": "code",
   "execution_count": 16,
   "id": "97af898f",
   "metadata": {
    "execution": {
     "iopub.execute_input": "2022-03-02T16:45:38.057916Z",
     "iopub.status.busy": "2022-03-02T16:45:38.057189Z",
     "iopub.status.idle": "2022-03-02T16:45:38.407774Z",
     "shell.execute_reply": "2022-03-02T16:45:38.408267Z",
     "shell.execute_reply.started": "2022-03-02T16:05:08.619148Z"
    },
    "papermill": {
     "duration": 0.394933,
     "end_time": "2022-03-02T16:45:38.408433",
     "exception": false,
     "start_time": "2022-03-02T16:45:38.013500",
     "status": "completed"
    },
    "tags": []
   },
   "outputs": [
    {
     "data": {
      "text/plain": [
       "[]"
      ]
     },
     "execution_count": 16,
     "metadata": {},
     "output_type": "execute_result"
    },
    {
     "data": {
      "image/png": "[encoded data removed]",
      "text/plain": [
       "<Figure size 1440x648 with 1 Axes>"
      ]
     },
     "metadata": {
      "needs_background": "light"
     },
     "output_type": "display_data"
    }
   ],
   "source": [
    "df_1[['Close','Rolling 30: 30Days Rolling','Rolling 7: 7Days Rolling']].plot(figsize=(20,9), color = ['green','blue','orange'])\n",
    "plt.title('AIRTEL Stock Price - 5Y (7 Days and 30 days rolling)', fontsize = 18)\n",
    "plt.plot()"
   ]
  },
  {
   "cell_type": "markdown",
   "id": "a1817dd2",
   "metadata": {
    "papermill": {
     "duration": 0.042212,
     "end_time": "2022-03-02T16:45:38.492272",
     "exception": false,
     "start_time": "2022-03-02T16:45:38.450060",
     "status": "completed"
    },
    "tags": []
   },
   "source": [
    "<p style='color:DodgerBlue; text-align:center'> The above plot is having 3 Lines Yellow line is showing the 7 days rolling average of closing price and blue line is showing 30 days rolling average of Closing Price</p>\n",
    "\n",
    "**<p style='color:DodgerBlue; text-align:center'> Overall Conclusion we can draw is that Airtel had shown good growth from 2017 to 2018 but in 2018 it had taken a sharp dip which healed gradually over 2019 and BHARTI AIRTEL was at their all time high in the Q3 of 2021.</p>**"
   ]
  },
  {
   "cell_type": "markdown",
   "id": "013aec1b",
   "metadata": {
    "papermill": {
     "duration": 0.042053,
     "end_time": "2022-03-02T16:45:38.578264",
     "exception": false,
     "start_time": "2022-03-02T16:45:38.536211",
     "status": "completed"
    },
    "tags": []
   },
   "source": [
    "<h3 style=\"color:Tomato;\"> Airtel Stock Prizes in Last 20 days</h3>"
   ]
  },
  {
   "cell_type": "code",
   "execution_count": 17,
   "id": "b4ec601c",
   "metadata": {
    "execution": {
     "iopub.execute_input": "2022-03-02T16:45:38.688397Z",
     "iopub.status.busy": "2022-03-02T16:45:38.683801Z",
     "iopub.status.idle": "2022-03-02T16:45:38.940159Z",
     "shell.execute_reply": "2022-03-02T16:45:38.939657Z",
     "shell.execute_reply.started": "2022-03-02T16:05:08.997108Z"
    },
    "papermill": {
     "duration": 0.319724,
     "end_time": "2022-03-02T16:45:38.940302",
     "exception": false,
     "start_time": "2022-03-02T16:45:38.620578",
     "status": "completed"
    },
    "tags": []
   },
   "outputs": [
    {
     "data": {
      "text/plain": [
       "Text(0.5, 1.0, 'Airtel Stock Price in last 20 Days')"
      ]
     },
     "execution_count": 17,
     "metadata": {},
     "output_type": "execute_result"
    },
    {
     "data": {
      "image/png": "[encoded data removed]",
      "text/plain": [
       "<Figure size 864x360 with 1 Axes>"
      ]
     },
     "metadata": {
      "needs_background": "light"
     },
     "output_type": "display_data"
    }
   ],
   "source": [
    "df_1['Close'].plot(xlim=['2022-02-05','2022-02-25'],figsize=(12,5),color='g')\n",
    "plt.title('Airtel Stock Price in last 20 Days', fontsize = 17)"
   ]
  },
  {
   "cell_type": "markdown",
   "id": "dd622a98",
   "metadata": {
    "papermill": {
     "duration": 0.044004,
     "end_time": "2022-03-02T16:45:39.028122",
     "exception": false,
     "start_time": "2022-03-02T16:45:38.984118",
     "status": "completed"
    },
    "tags": []
   },
   "source": [
    "**In Last 20 Days we can say the price is quite stable.**"
   ]
  },
  {
   "cell_type": "markdown",
   "id": "32d4aaa6",
   "metadata": {
    "papermill": {
     "duration": 0.047695,
     "end_time": "2022-03-02T16:45:39.119749",
     "exception": false,
     "start_time": "2022-03-02T16:45:39.072054",
     "status": "completed"
    },
    "tags": []
   },
   "source": [
    "<h2 style=\"color:Tomato;\"> Let's Discuss the Market Crashes Now.</h2>"
   ]
  },
  {
   "cell_type": "markdown",
   "id": "812848a9",
   "metadata": {
    "execution": {
     "iopub.execute_input": "2022-03-02T15:59:34.814164Z",
     "iopub.status.busy": "2022-03-02T15:59:34.813738Z",
     "iopub.status.idle": "2022-03-02T15:59:34.827818Z",
     "shell.execute_reply": "2022-03-02T15:59:34.826242Z",
     "shell.execute_reply.started": "2022-03-02T15:59:34.814121Z"
    },
    "papermill": {
     "duration": 0.042781,
     "end_time": "2022-03-02T16:45:39.206341",
     "exception": false,
     "start_time": "2022-03-02T16:45:39.163560",
     "status": "completed"
    },
    "tags": []
   },
   "source": [
    "<h4 style=\"color:Tomato;\"> 1. Stock Market Crash 2018</h4>"
   ]
  },
  {
   "cell_type": "markdown",
   "id": "00d1b1c1",
   "metadata": {
    "papermill": {
     "duration": 0.04407,
     "end_time": "2022-03-02T16:45:39.293942",
     "exception": false,
     "start_time": "2022-03-02T16:45:39.249872",
     "status": "completed"
    },
    "tags": []
   },
   "source": [
    "**2nd April 2007 to 17th December 2007 was the period during which the market was under shock due to ongoing Financial Crisis.**"
   ]
  },
  {
   "cell_type": "code",
   "execution_count": 18,
   "id": "c4072545",
   "metadata": {
    "execution": {
     "iopub.execute_input": "2022-03-02T16:45:39.406368Z",
     "iopub.status.busy": "2022-03-02T16:45:39.396166Z",
     "iopub.status.idle": "2022-03-02T16:45:39.634450Z",
     "shell.execute_reply": "2022-03-02T16:45:39.633969Z",
     "shell.execute_reply.started": "2022-03-02T16:28:18.793909Z"
    },
    "papermill": {
     "duration": 0.297709,
     "end_time": "2022-03-02T16:45:39.634589",
     "exception": false,
     "start_time": "2022-03-02T16:45:39.336880",
     "status": "completed"
    },
    "tags": []
   },
   "outputs": [
    {
     "data": {
      "text/plain": [
       "Text(0.5, 1.0, 'Airtel in 2018 Crash')"
      ]
     },
     "execution_count": 18,
     "metadata": {},
     "output_type": "execute_result"
    },
    {
     "data": {
      "image/png": "[encoded data removed]",
      "text/plain": [
       "<Figure size 1440x360 with 1 Axes>"
      ]
     },
     "metadata": {
      "needs_background": "light"
     },
     "output_type": "display_data"
    }
   ],
   "source": [
    "df_1['Close'].plot(xlim=['2017-12-31','2018-12-31'],figsize=(20,5),color='r')\n",
    "plt.title('Airtel in 2018 Crash', fontsize =18)"
   ]
  },
  {
   "cell_type": "markdown",
   "id": "c65cbd5d",
   "metadata": {
    "papermill": {
     "duration": 0.044029,
     "end_time": "2022-03-02T16:45:39.722778",
     "exception": false,
     "start_time": "2022-03-02T16:45:39.678749",
     "status": "completed"
    },
    "tags": []
   },
   "source": [
    "<p style='color:DodgerBlue; text-align:center'>Finance minister's proposal in the budget speech to introduce a 10% long term capital gains tax (LTCG) on equity shares sold after 12 months. This Statement started the Fall in stock market.</p>\n",
    "\n",
    "**<p style='color:DodgerBlue; text-align:center'>Airtel was not an Exception to this AIRTEL Touched it's low in these five years (17-22) in Fourth week of october We can Say that Airtel was affected by this Crash because the customers of telecom company were opting out.</p>**\n",
    "\n",
    "\n",
    "[Article on this Crash (Specific to Bharti Airtel)](https://www.business-standard.com/article/markets/bharti-airtel-hits-52-week-low-stock-falls-35-in-thus-far-2018-118071600397_1.html)"
   ]
  },
  {
   "cell_type": "markdown",
   "id": "f73d16a7",
   "metadata": {
    "papermill": {
     "duration": 0.049904,
     "end_time": "2022-03-02T16:45:39.818982",
     "exception": false,
     "start_time": "2022-03-02T16:45:39.769078",
     "status": "completed"
    },
    "tags": []
   },
   "source": [
    "**How Stocks behaved after Crash**"
   ]
  },
  {
   "cell_type": "code",
   "execution_count": 19,
   "id": "67d17310",
   "metadata": {
    "execution": {
     "iopub.execute_input": "2022-03-02T16:45:39.930877Z",
     "iopub.status.busy": "2022-03-02T16:45:39.926625Z",
     "iopub.status.idle": "2022-03-02T16:45:40.168942Z",
     "shell.execute_reply": "2022-03-02T16:45:40.169470Z",
     "shell.execute_reply.started": "2022-03-02T16:28:35.933298Z"
    },
    "papermill": {
     "duration": 0.305413,
     "end_time": "2022-03-02T16:45:40.169633",
     "exception": false,
     "start_time": "2022-03-02T16:45:39.864220",
     "status": "completed"
    },
    "tags": []
   },
   "outputs": [
    {
     "data": {
      "text/plain": [
       "Text(0.5, 1.0, 'Airtel After 2018 Crash (for next 1 year)')"
      ]
     },
     "execution_count": 19,
     "metadata": {},
     "output_type": "execute_result"
    },
    {
     "data": {
      "image/png": "[encoded data removed]",
      "text/plain": [
       "<Figure size 1440x360 with 1 Axes>"
      ]
     },
     "metadata": {
      "needs_background": "light"
     },
     "output_type": "display_data"
    }
   ],
   "source": [
    "df_1['Close'].plot(xlim=['2018-12-31','2019-12-31'],figsize=(20,5),color='r', ls='dashed')\n",
    "plt.title('Airtel After 2018 Crash (for next 1 year)', fontsize =18)"
   ]
  },
  {
   "cell_type": "markdown",
   "id": "7b4e8794",
   "metadata": {
    "papermill": {
     "duration": 0.045628,
     "end_time": "2022-03-02T16:45:40.261305",
     "exception": false,
     "start_time": "2022-03-02T16:45:40.215677",
     "status": "completed"
    },
    "tags": []
   },
   "source": [
    "**We can clearly see the Stocks managed to level up even after the crash**"
   ]
  },
  {
   "cell_type": "markdown",
   "id": "402f3508",
   "metadata": {
    "papermill": {
     "duration": 0.046031,
     "end_time": "2022-03-02T16:45:40.353947",
     "exception": false,
     "start_time": "2022-03-02T16:45:40.307916",
     "status": "completed"
    },
    "tags": []
   },
   "source": [
    "<h4 style=\"color:Tomato;\"> 2. Stock Market Crash 2020</h4>"
   ]
  },
  {
   "cell_type": "markdown",
   "id": "386afba2",
   "metadata": {
    "papermill": {
     "duration": 0.045938,
     "end_time": "2022-03-02T16:45:40.445684",
     "exception": false,
     "start_time": "2022-03-02T16:45:40.399746",
     "status": "completed"
    },
    "tags": []
   },
   "source": [
    "#### How Airtel Performed in 2020 Stock Crash ([Read hear about the crash](https://en.wikipedia.org/wiki/2020_stock_market_crash))\n",
    "\n",
    "> On 20 February 2020, stock markets across the world suddenly crashed after growing instability due to the COVID-19 pandemic. It ended on 7 April 2020.\n"
   ]
  },
  {
   "cell_type": "code",
   "execution_count": 20,
   "id": "4a50ef83",
   "metadata": {
    "execution": {
     "iopub.execute_input": "2022-03-02T16:45:40.572877Z",
     "iopub.status.busy": "2022-03-02T16:45:40.552907Z",
     "iopub.status.idle": "2022-03-02T16:45:40.820197Z",
     "shell.execute_reply": "2022-03-02T16:45:40.820966Z",
     "shell.execute_reply.started": "2022-03-02T16:23:48.602864Z"
    },
    "papermill": {
     "duration": 0.329655,
     "end_time": "2022-03-02T16:45:40.821202",
     "exception": false,
     "start_time": "2022-03-02T16:45:40.491547",
     "status": "completed"
    },
    "tags": []
   },
   "outputs": [
    {
     "data": {
      "text/plain": [
       "Text(0.5, 1.0, 'Airtel Stock Price in 2020  Market Crash')"
      ]
     },
     "execution_count": 20,
     "metadata": {},
     "output_type": "execute_result"
    },
    {
     "data": {
      "image/png": "[encoded data removed]",
      "text/plain": [
       "<Figure size 864x360 with 1 Axes>"
      ]
     },
     "metadata": {
      "needs_background": "light"
     },
     "output_type": "display_data"
    }
   ],
   "source": [
    "df_1['Close'].plot(xlim=['2020-02-20','2020-04-07'],figsize=(12,5),color='r')\n",
    "plt.ylabel('Closing Price')\n",
    "plt.title('Airtel Stock Price in 2020  Market Crash', fontsize=15)"
   ]
  },
  {
   "cell_type": "code",
   "execution_count": 21,
   "id": "1ad28104",
   "metadata": {
    "execution": {
     "iopub.execute_input": "2022-03-02T16:45:40.950802Z",
     "iopub.status.busy": "2022-03-02T16:45:40.950120Z",
     "iopub.status.idle": "2022-03-02T16:45:41.184682Z",
     "shell.execute_reply": "2022-03-02T16:45:41.185220Z",
     "shell.execute_reply.started": "2022-03-02T16:24:03.243468Z"
    },
    "papermill": {
     "duration": 0.30352,
     "end_time": "2022-03-02T16:45:41.185388",
     "exception": false,
     "start_time": "2022-03-02T16:45:40.881868",
     "status": "completed"
    },
    "tags": []
   },
   "outputs": [
    {
     "data": {
      "text/plain": [
       "Text(0.5, 1.0, 'Airtel Stock Price in 2020  Market Crash (Weekly)')"
      ]
     },
     "execution_count": 21,
     "metadata": {},
     "output_type": "execute_result"
    },
    {
     "data": {
      "image/png": "[encoded data removed]",
      "text/plain": [
       "<Figure size 864x360 with 1 Axes>"
      ]
     },
     "metadata": {
      "needs_background": "light"
     },
     "output_type": "display_data"
    }
   ],
   "source": [
    "df_1.resample(rule='W').max()['Close'].plot(xlim=['2020-02-20','2020-04-07'],figsize=(12,5),color='Orange',ls='dashed')\n",
    "plt.ylabel('High')\n",
    "plt.title('Airtel Stock Price in 2020  Market Crash (Weekly)', fontsize=15)"
   ]
  },
  {
   "cell_type": "markdown",
   "id": "57d3c3f9",
   "metadata": {
    "papermill": {
     "duration": 0.049066,
     "end_time": "2022-03-02T16:45:41.283750",
     "exception": false,
     "start_time": "2022-03-02T16:45:41.234684",
     "status": "completed"
    },
    "tags": []
   },
   "source": [
    "> **Airtel was not the Exception from the Stocks that were Hampered in 2020 Crash.**\n",
    "\n",
    "> Airtel's Stock prices dropped from over 675 to 500"
   ]
  },
  {
   "cell_type": "markdown",
   "id": "6a2ecd45",
   "metadata": {
    "papermill": {
     "duration": 0.04953,
     "end_time": "2022-03-02T16:45:41.382712",
     "exception": false,
     "start_time": "2022-03-02T16:45:41.333182",
     "status": "completed"
    },
    "tags": []
   },
   "source": [
    "<h2 style=\"color:Tomato;\">Effect of recent price Hike.</h2>"
   ]
  },
  {
   "cell_type": "markdown",
   "id": "6cefd6ca",
   "metadata": {
    "papermill": {
     "duration": 0.048983,
     "end_time": "2022-03-02T16:45:41.481958",
     "exception": false,
     "start_time": "2022-03-02T16:45:41.432975",
     "status": "completed"
    },
    "tags": []
   },
   "source": [
    "<p style='color:DodgerBlue; text-align:center'>On 26th Nov 2021 Airtel and other tecom companies had announced the price hike of 20-25% across there prepaid plans let's discuss how this was reflected on share market.</p>"
   ]
  },
  {
   "cell_type": "code",
   "execution_count": 22,
   "id": "ceaa1771",
   "metadata": {
    "execution": {
     "iopub.execute_input": "2022-03-02T16:45:41.602344Z",
     "iopub.status.busy": "2022-03-02T16:45:41.601704Z",
     "iopub.status.idle": "2022-03-02T16:45:41.839870Z",
     "shell.execute_reply": "2022-03-02T16:45:41.840425Z",
     "shell.execute_reply.started": "2022-03-02T16:42:41.973119Z"
    },
    "papermill": {
     "duration": 0.310253,
     "end_time": "2022-03-02T16:45:41.840595",
     "exception": false,
     "start_time": "2022-03-02T16:45:41.530342",
     "status": "completed"
    },
    "tags": []
   },
   "outputs": [
    {
     "data": {
      "text/plain": [
       "Text(0.5, 1.0, 'Effect During plan Price Hike')"
      ]
     },
     "execution_count": 22,
     "metadata": {},
     "output_type": "execute_result"
    },
    {
     "data": {
      "image/png": "[encoded data removed]",
      "text/plain": [
       "<Figure size 1440x360 with 1 Axes>"
      ]
     },
     "metadata": {
      "needs_background": "light"
     },
     "output_type": "display_data"
    }
   ],
   "source": [
    "df_1['Close'].plot(xlim=['2021-10-01','2021-11-30'],figsize=(20,5),color='r')\n",
    "plt.title('Effect During plan Price Hike', fontsize =18)"
   ]
  },
  {
   "cell_type": "markdown",
   "id": "6e475a00",
   "metadata": {
    "papermill": {
     "duration": 0.049107,
     "end_time": "2022-03-02T16:45:41.939682",
     "exception": false,
     "start_time": "2022-03-02T16:45:41.890575",
     "status": "completed"
    },
    "tags": []
   },
   "source": [
    "**<p style='color:DodgerBlue; text-align:center'>This was all time high !!</p>**"
   ]
  },
  {
   "cell_type": "code",
   "execution_count": 23,
   "id": "129fdb16",
   "metadata": {
    "execution": {
     "iopub.execute_input": "2022-03-02T16:45:42.043790Z",
     "iopub.status.busy": "2022-03-02T16:45:42.043179Z",
     "iopub.status.idle": "2022-03-02T16:45:42.059652Z",
     "shell.execute_reply": "2022-03-02T16:45:42.060227Z",
     "shell.execute_reply.started": "2022-03-02T16:36:29.052600Z"
    },
    "papermill": {
     "duration": 0.07026,
     "end_time": "2022-03-02T16:45:42.060392",
     "exception": false,
     "start_time": "2022-03-02T16:45:41.990132",
     "status": "completed"
    },
    "tags": []
   },
   "outputs": [
    {
     "data": {
      "text/html": [
       "<div>\n",
       "<style scoped>\n",
       "    .dataframe tbody tr th:only-of-type {\n",
       "        vertical-align: middle;\n",
       "    }\n",
       "\n",
       "    .dataframe tbody tr th {\n",
       "        vertical-align: top;\n",
       "    }\n",
       "\n",
       "    .dataframe thead th {\n",
       "        text-align: right;\n",
       "    }\n",
       "</style>\n",
       "<table border=\"1\" class=\"dataframe\">\n",
       "  <thead>\n",
       "    <tr style=\"text-align: right;\">\n",
       "      <th></th>\n",
       "      <th>Open</th>\n",
       "      <th>High</th>\n",
       "      <th>Low</th>\n",
       "      <th>Close</th>\n",
       "      <th>Adj Close</th>\n",
       "      <th>Volume</th>\n",
       "      <th>Rolling 7: 7Days Rolling</th>\n",
       "      <th>Rolling 30: 30Days Rolling</th>\n",
       "    </tr>\n",
       "    <tr>\n",
       "      <th>Date</th>\n",
       "      <th></th>\n",
       "      <th></th>\n",
       "      <th></th>\n",
       "      <th></th>\n",
       "      <th></th>\n",
       "      <th></th>\n",
       "      <th></th>\n",
       "      <th></th>\n",
       "    </tr>\n",
       "  </thead>\n",
       "  <tbody>\n",
       "    <tr>\n",
       "      <th>2021-11-15</th>\n",
       "      <td>740.000000</td>\n",
       "      <td>746.000000</td>\n",
       "      <td>736.200012</td>\n",
       "      <td>737.549988</td>\n",
       "      <td>737.549988</td>\n",
       "      <td>5454742</td>\n",
       "      <td>729.107143</td>\n",
       "      <td>710.738332</td>\n",
       "    </tr>\n",
       "    <tr>\n",
       "      <th>2021-11-16</th>\n",
       "      <td>741.349976</td>\n",
       "      <td>742.049988</td>\n",
       "      <td>727.049988</td>\n",
       "      <td>730.299988</td>\n",
       "      <td>730.299988</td>\n",
       "      <td>4639931</td>\n",
       "      <td>734.428571</td>\n",
       "      <td>712.561666</td>\n",
       "    </tr>\n",
       "    <tr>\n",
       "      <th>2021-11-17</th>\n",
       "      <td>724.549988</td>\n",
       "      <td>732.349976</td>\n",
       "      <td>716.250000</td>\n",
       "      <td>720.049988</td>\n",
       "      <td>720.049988</td>\n",
       "      <td>8002927</td>\n",
       "      <td>736.921422</td>\n",
       "      <td>714.099998</td>\n",
       "    </tr>\n",
       "    <tr>\n",
       "      <th>2021-11-18</th>\n",
       "      <td>720.599976</td>\n",
       "      <td>723.450012</td>\n",
       "      <td>708.000000</td>\n",
       "      <td>714.349976</td>\n",
       "      <td>714.349976</td>\n",
       "      <td>4469597</td>\n",
       "      <td>737.921422</td>\n",
       "      <td>714.766665</td>\n",
       "    </tr>\n",
       "    <tr>\n",
       "      <th>2021-11-22</th>\n",
       "      <td>740.000000</td>\n",
       "      <td>755.950012</td>\n",
       "      <td>733.099976</td>\n",
       "      <td>742.099976</td>\n",
       "      <td>742.099976</td>\n",
       "      <td>36884348</td>\n",
       "      <td>740.485709</td>\n",
       "      <td>716.366665</td>\n",
       "    </tr>\n",
       "    <tr>\n",
       "      <th>2021-11-23</th>\n",
       "      <td>745.000000</td>\n",
       "      <td>761.000000</td>\n",
       "      <td>735.700012</td>\n",
       "      <td>758.900024</td>\n",
       "      <td>758.900024</td>\n",
       "      <td>18240414</td>\n",
       "      <td>743.685713</td>\n",
       "      <td>718.326664</td>\n",
       "    </tr>\n",
       "    <tr>\n",
       "      <th>2021-11-24</th>\n",
       "      <td>764.000000</td>\n",
       "      <td>781.799988</td>\n",
       "      <td>756.250000</td>\n",
       "      <td>758.900024</td>\n",
       "      <td>758.900024</td>\n",
       "      <td>21653712</td>\n",
       "      <td>748.942854</td>\n",
       "      <td>721.068331</td>\n",
       "    </tr>\n",
       "    <tr>\n",
       "      <th>2021-11-25</th>\n",
       "      <td>759.049988</td>\n",
       "      <td>768.500000</td>\n",
       "      <td>752.799988</td>\n",
       "      <td>765.150024</td>\n",
       "      <td>765.150024</td>\n",
       "      <td>8483653</td>\n",
       "      <td>752.157139</td>\n",
       "      <td>723.483331</td>\n",
       "    </tr>\n",
       "    <tr>\n",
       "      <th>2021-11-26</th>\n",
       "      <td>763.000000</td>\n",
       "      <td>763.000000</td>\n",
       "      <td>733.099976</td>\n",
       "      <td>738.750000</td>\n",
       "      <td>738.750000</td>\n",
       "      <td>11142921</td>\n",
       "      <td>755.149998</td>\n",
       "      <td>725.636664</td>\n",
       "    </tr>\n",
       "    <tr>\n",
       "      <th>2021-11-29</th>\n",
       "      <td>752.000000</td>\n",
       "      <td>755.000000</td>\n",
       "      <td>727.099976</td>\n",
       "      <td>739.349976</td>\n",
       "      <td>739.349976</td>\n",
       "      <td>15885643</td>\n",
       "      <td>758.385716</td>\n",
       "      <td>727.576664</td>\n",
       "    </tr>\n",
       "    <tr>\n",
       "      <th>2021-11-30</th>\n",
       "      <td>740.000000</td>\n",
       "      <td>750.200012</td>\n",
       "      <td>722.650024</td>\n",
       "      <td>728.250000</td>\n",
       "      <td>728.250000</td>\n",
       "      <td>14272616</td>\n",
       "      <td>762.207145</td>\n",
       "      <td>729.449998</td>\n",
       "    </tr>\n",
       "  </tbody>\n",
       "</table>\n",
       "</div>"
      ],
      "text/plain": [
       "                  Open        High         Low       Close   Adj Close  \\\n",
       "Date                                                                     \n",
       "2021-11-15  740.000000  746.000000  736.200012  737.549988  737.549988   \n",
       "2021-11-16  741.349976  742.049988  727.049988  730.299988  730.299988   \n",
       "2021-11-17  724.549988  732.349976  716.250000  720.049988  720.049988   \n",
       "2021-11-18  720.599976  723.450012  708.000000  714.349976  714.349976   \n",
       "2021-11-22  740.000000  755.950012  733.099976  742.099976  742.099976   \n",
       "2021-11-23  745.000000  761.000000  735.700012  758.900024  758.900024   \n",
       "2021-11-24  764.000000  781.799988  756.250000  758.900024  758.900024   \n",
       "2021-11-25  759.049988  768.500000  752.799988  765.150024  765.150024   \n",
       "2021-11-26  763.000000  763.000000  733.099976  738.750000  738.750000   \n",
       "2021-11-29  752.000000  755.000000  727.099976  739.349976  739.349976   \n",
       "2021-11-30  740.000000  750.200012  722.650024  728.250000  728.250000   \n",
       "\n",
       "              Volume  Rolling 7: 7Days Rolling  Rolling 30: 30Days Rolling  \n",
       "Date                                                                        \n",
       "2021-11-15   5454742                729.107143                  710.738332  \n",
       "2021-11-16   4639931                734.428571                  712.561666  \n",
       "2021-11-17   8002927                736.921422                  714.099998  \n",
       "2021-11-18   4469597                737.921422                  714.766665  \n",
       "2021-11-22  36884348                740.485709                  716.366665  \n",
       "2021-11-23  18240414                743.685713                  718.326664  \n",
       "2021-11-24  21653712                748.942854                  721.068331  \n",
       "2021-11-25   8483653                752.157139                  723.483331  \n",
       "2021-11-26  11142921                755.149998                  725.636664  \n",
       "2021-11-29  15885643                758.385716                  727.576664  \n",
       "2021-11-30  14272616                762.207145                  729.449998  "
      ]
     },
     "execution_count": 23,
     "metadata": {},
     "output_type": "execute_result"
    }
   ],
   "source": [
    "df_1.loc['2021-11-15':'2021-11-30']"
   ]
  },
  {
   "cell_type": "markdown",
   "id": "428bf394",
   "metadata": {
    "papermill": {
     "duration": 0.04975,
     "end_time": "2022-03-02T16:45:42.160657",
     "exception": false,
     "start_time": "2022-03-02T16:45:42.110907",
     "status": "completed"
    },
    "tags": []
   },
   "source": [
    "**<p style='color:DodgerBlue; text-align:center'>On 25th Nov 2021 one day before the announcement Airtel touched their all time High.</p>**"
   ]
  },
  {
   "cell_type": "markdown",
   "id": "c6d99617",
   "metadata": {
    "papermill": {
     "duration": 0.049582,
     "end_time": "2022-03-02T16:45:42.259818",
     "exception": false,
     "start_time": "2022-03-02T16:45:42.210236",
     "status": "completed"
    },
    "tags": []
   },
   "source": [
    "# Thank You !"
   ]
  }
 ],
 "metadata": {
  "kernelspec": {
   "display_name": "Python 3",
   "language": "python",
   "name": "python3"
  },
  "language_info": {
   "codemirror_mode": {
    "name": "ipython",
    "version": 3
   },
   "file_extension": ".py",
   "mimetype": "text/x-python",
   "name": "python",
   "nbconvert_exporter": "python",
   "pygments_lexer": "ipython3",
   "version": "3.7.12"
  },
  "papermill": {
   "default_parameters": {},
   "duration": 18.018264,
   "end_time": "2022-03-02T16:45:43.019619",
   "environment_variables": {},
   "exception": null,
   "input_path": "__notebook__.ipynb",
   "output_path": "__notebook__.ipynb",
   "parameters": {},
   "start_time": "2022-03-02T16:45:25.001355",
   "version": "2.3.3"
  }
 },
 "nbformat": 4,
 "nbformat_minor": 5
}
