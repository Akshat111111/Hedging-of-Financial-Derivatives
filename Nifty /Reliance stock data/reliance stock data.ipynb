{
 "cells": [
  {
   "cell_type": "code",
   "execution_count": 1,
   "id": "e9d4e8b8",
   "metadata": {
    "_cell_guid": "b1076dfc-b9ad-4769-8c92-a6c4dae69d19",
    "_uuid": "8f2839f25d086af736a60e9eeb907d3b93b6e0e5",
    "execution": {
     "iopub.execute_input": "2023-08-22T07:18:44.691136Z",
     "iopub.status.busy": "2023-08-22T07:18:44.689358Z",
     "iopub.status.idle": "2023-08-22T07:18:44.719413Z",
     "shell.execute_reply": "2023-08-22T07:18:44.717815Z"
    },
    "papermill": {
     "duration": 0.052364,
     "end_time": "2023-08-22T07:18:44.723257",
     "exception": false,
     "start_time": "2023-08-22T07:18:44.670893",
     "status": "completed"
    },
    "tags": []
   },
   "outputs": [
    {
     "name": "stdout",
     "output_type": "stream",
     "text": [
      "/kaggle/input/reliance-stocks-data/RELIANCE.csv\n"
     ]
    }
   ],
   "source": [
    "# This Python 3 environment comes with many helpful analytics libraries installed\n",
    "# It is defined by the kaggle/python Docker image: https://github.com/kaggle/docker-python\n",
    "# For example, here's several helpful packages to load\n",
    "\n",
    "import numpy as np # linear algebra\n",
    "import pandas as pd # data processing, CSV file I/O (e.g. pd.read_csv)\n",
    "\n",
    "# Input data files are available in the read-only \"../input/\" directory\n",
    "# For example, running this (by clicking run or pressing Shift+Enter) will list all files under the input directory\n",
    "\n",
    "import os\n",
    "for dirname, _, filenames in os.walk('/kaggle/input'):\n",
    "    for filename in filenames:\n",
    "        print(os.path.join(dirname, filename))\n",
    "\n",
    "# You can write up to 20GB to the current directory (/kaggle/working/) that gets preserved as output when you create a version using \"Save & Run All\" \n",
    "# You can also write temporary files to /kaggle/temp/, but they won't be saved outside of the current session"
   ]
  },
  {
   "cell_type": "code",
   "execution_count": 2,
   "id": "0735db8e",
   "metadata": {
    "execution": {
     "iopub.execute_input": "2023-08-22T07:18:44.750512Z",
     "iopub.status.busy": "2023-08-22T07:18:44.749131Z",
     "iopub.status.idle": "2023-08-22T07:18:46.190310Z",
     "shell.execute_reply": "2023-08-22T07:18:46.188574Z"
    },
    "papermill": {
     "duration": 1.458463,
     "end_time": "2023-08-22T07:18:46.194083",
     "exception": false,
     "start_time": "2023-08-22T07:18:44.735620",
     "status": "completed"
    },
    "tags": []
   },
   "outputs": [
    {
     "name": "stderr",
     "output_type": "stream",
     "text": [
      "/opt/conda/lib/python3.10/site-packages/scipy/__init__.py:146: UserWarning: A NumPy version >=1.16.5 and <1.23.0 is required for this version of SciPy (detected version 1.23.5\n",
      "  warnings.warn(f\"A NumPy version >={np_minversion} and <{np_maxversion}\"\n"
     ]
    }
   ],
   "source": [
    "import numpy as np\n",
    "import pandas as pd\n",
    "import matplotlib.pyplot as plt\n",
    "import seaborn as sns\n",
    "plt.style.use('ggplot')\n",
    "plt.rcParams['figure.figsize']=[15,6]"
   ]
  },
  {
   "cell_type": "code",
   "execution_count": 3,
   "id": "a541c39a",
   "metadata": {
    "execution": {
     "iopub.execute_input": "2023-08-22T07:18:46.221077Z",
     "iopub.status.busy": "2023-08-22T07:18:46.220677Z",
     "iopub.status.idle": "2023-08-22T07:18:46.284342Z",
     "shell.execute_reply": "2023-08-22T07:18:46.282611Z"
    },
    "papermill": {
     "duration": 0.081042,
     "end_time": "2023-08-22T07:18:46.287236",
     "exception": false,
     "start_time": "2023-08-22T07:18:46.206194",
     "status": "completed"
    },
    "tags": []
   },
   "outputs": [
    {
     "data": {
      "text/html": [
       "<div>\n",
       "<style scoped>\n",
       "    .dataframe tbody tr th:only-of-type {\n",
       "        vertical-align: middle;\n",
       "    }\n",
       "\n",
       "    .dataframe tbody tr th {\n",
       "        vertical-align: top;\n",
       "    }\n",
       "\n",
       "    .dataframe thead th {\n",
       "        text-align: right;\n",
       "    }\n",
       "</style>\n",
       "<table border=\"1\" class=\"dataframe\">\n",
       "  <thead>\n",
       "    <tr style=\"text-align: right;\">\n",
       "      <th></th>\n",
       "      <th>Date</th>\n",
       "      <th>Open</th>\n",
       "      <th>High</th>\n",
       "      <th>Low</th>\n",
       "      <th>Close</th>\n",
       "    </tr>\n",
       "  </thead>\n",
       "  <tbody>\n",
       "    <tr>\n",
       "      <th>0</th>\n",
       "      <td>1996-01-01 00:00:00+05:30</td>\n",
       "      <td>10.403050</td>\n",
       "      <td>10.458871</td>\n",
       "      <td>10.334541</td>\n",
       "      <td>10.441110</td>\n",
       "    </tr>\n",
       "    <tr>\n",
       "      <th>1</th>\n",
       "      <td>1996-01-02 00:00:00+05:30</td>\n",
       "      <td>10.415735</td>\n",
       "      <td>10.466482</td>\n",
       "      <td>10.283794</td>\n",
       "      <td>10.359914</td>\n",
       "    </tr>\n",
       "    <tr>\n",
       "      <th>2</th>\n",
       "      <td>1996-01-03 00:00:00+05:30</td>\n",
       "      <td>10.529916</td>\n",
       "      <td>11.009471</td>\n",
       "      <td>10.415736</td>\n",
       "      <td>10.438572</td>\n",
       "    </tr>\n",
       "    <tr>\n",
       "      <th>3</th>\n",
       "      <td>1996-01-04 00:00:00+05:30</td>\n",
       "      <td>10.339614</td>\n",
       "      <td>10.372600</td>\n",
       "      <td>10.202599</td>\n",
       "      <td>10.342152</td>\n",
       "    </tr>\n",
       "    <tr>\n",
       "      <th>4</th>\n",
       "      <td>1996-01-05 00:00:00+05:30</td>\n",
       "      <td>10.301558</td>\n",
       "      <td>10.301558</td>\n",
       "      <td>10.182303</td>\n",
       "      <td>10.271110</td>\n",
       "    </tr>\n",
       "  </tbody>\n",
       "</table>\n",
       "</div>"
      ],
      "text/plain": [
       "                        Date       Open       High        Low      Close\n",
       "0  1996-01-01 00:00:00+05:30  10.403050  10.458871  10.334541  10.441110\n",
       "1  1996-01-02 00:00:00+05:30  10.415735  10.466482  10.283794  10.359914\n",
       "2  1996-01-03 00:00:00+05:30  10.529916  11.009471  10.415736  10.438572\n",
       "3  1996-01-04 00:00:00+05:30  10.339614  10.372600  10.202599  10.342152\n",
       "4  1996-01-05 00:00:00+05:30  10.301558  10.301558  10.182303  10.271110"
      ]
     },
     "execution_count": 3,
     "metadata": {},
     "output_type": "execute_result"
    }
   ],
   "source": [
    "df=pd.read_csv('/kaggle/input/reliance-stocks-data/RELIANCE.csv')\n",
    "df.head()"
   ]
  },
  {
   "cell_type": "code",
   "execution_count": 4,
   "id": "9d74634a",
   "metadata": {
    "execution": {
     "iopub.execute_input": "2023-08-22T07:18:46.309430Z",
     "iopub.status.busy": "2023-08-22T07:18:46.308786Z",
     "iopub.status.idle": "2023-08-22T07:18:46.316633Z",
     "shell.execute_reply": "2023-08-22T07:18:46.315442Z"
    },
    "papermill": {
     "duration": 0.021417,
     "end_time": "2023-08-22T07:18:46.318888",
     "exception": false,
     "start_time": "2023-08-22T07:18:46.297471",
     "status": "completed"
    },
    "tags": []
   },
   "outputs": [
    {
     "data": {
      "text/plain": [
       "(6948, 5)"
      ]
     },
     "execution_count": 4,
     "metadata": {},
     "output_type": "execute_result"
    }
   ],
   "source": [
    "df.shape"
   ]
  },
  {
   "cell_type": "code",
   "execution_count": 5,
   "id": "1d611d5e",
   "metadata": {
    "execution": {
     "iopub.execute_input": "2023-08-22T07:18:46.342006Z",
     "iopub.status.busy": "2023-08-22T07:18:46.341187Z",
     "iopub.status.idle": "2023-08-22T07:18:46.348272Z",
     "shell.execute_reply": "2023-08-22T07:18:46.346775Z"
    },
    "papermill": {
     "duration": 0.020894,
     "end_time": "2023-08-22T07:18:46.350487",
     "exception": false,
     "start_time": "2023-08-22T07:18:46.329593",
     "status": "completed"
    },
    "tags": []
   },
   "outputs": [
    {
     "data": {
      "text/plain": [
       "2084.4"
      ]
     },
     "execution_count": 5,
     "metadata": {},
     "output_type": "execute_result"
    }
   ],
   "source": [
    "6948*0.3"
   ]
  },
  {
   "cell_type": "code",
   "execution_count": 6,
   "id": "b50b2ced",
   "metadata": {
    "execution": {
     "iopub.execute_input": "2023-08-22T07:18:46.372713Z",
     "iopub.status.busy": "2023-08-22T07:18:46.372190Z",
     "iopub.status.idle": "2023-08-22T07:18:46.380857Z",
     "shell.execute_reply": "2023-08-22T07:18:46.379447Z"
    },
    "papermill": {
     "duration": 0.022785,
     "end_time": "2023-08-22T07:18:46.383275",
     "exception": false,
     "start_time": "2023-08-22T07:18:46.360490",
     "status": "completed"
    },
    "tags": []
   },
   "outputs": [
    {
     "data": {
      "text/plain": [
       "4864"
      ]
     },
     "execution_count": 6,
     "metadata": {},
     "output_type": "execute_result"
    }
   ],
   "source": [
    "6948-2084"
   ]
  },
  {
   "cell_type": "code",
   "execution_count": 7,
   "id": "15059585",
   "metadata": {
    "execution": {
     "iopub.execute_input": "2023-08-22T07:18:46.406768Z",
     "iopub.status.busy": "2023-08-22T07:18:46.405806Z",
     "iopub.status.idle": "2023-08-22T07:18:46.437943Z",
     "shell.execute_reply": "2023-08-22T07:18:46.435726Z"
    },
    "papermill": {
     "duration": 0.047585,
     "end_time": "2023-08-22T07:18:46.441290",
     "exception": false,
     "start_time": "2023-08-22T07:18:46.393705",
     "status": "completed"
    },
    "tags": []
   },
   "outputs": [
    {
     "name": "stdout",
     "output_type": "stream",
     "text": [
      "<class 'pandas.core.frame.DataFrame'>\n",
      "RangeIndex: 6948 entries, 0 to 6947\n",
      "Data columns (total 5 columns):\n",
      " #   Column  Non-Null Count  Dtype  \n",
      "---  ------  --------------  -----  \n",
      " 0   Date    6948 non-null   object \n",
      " 1   Open    6948 non-null   float64\n",
      " 2   High    6948 non-null   float64\n",
      " 3   Low     6948 non-null   float64\n",
      " 4   Close   6948 non-null   float64\n",
      "dtypes: float64(4), object(1)\n",
      "memory usage: 271.5+ KB\n"
     ]
    }
   ],
   "source": [
    "df.info()"
   ]
  },
  {
   "cell_type": "markdown",
   "id": "45e30fbb",
   "metadata": {
    "papermill": {
     "duration": 0.009976,
     "end_time": "2023-08-22T07:18:46.462161",
     "exception": false,
     "start_time": "2023-08-22T07:18:46.452185",
     "status": "completed"
    },
    "tags": []
   },
   "source": [
    "# Visualising the data"
   ]
  },
  {
   "cell_type": "code",
   "execution_count": 8,
   "id": "fe1030c7",
   "metadata": {
    "execution": {
     "iopub.execute_input": "2023-08-22T07:18:46.484941Z",
     "iopub.status.busy": "2023-08-22T07:18:46.484442Z",
     "iopub.status.idle": "2023-08-22T07:18:46.501950Z",
     "shell.execute_reply": "2023-08-22T07:18:46.500574Z"
    },
    "papermill": {
     "duration": 0.031825,
     "end_time": "2023-08-22T07:18:46.504225",
     "exception": false,
     "start_time": "2023-08-22T07:18:46.472400",
     "status": "completed"
    },
    "tags": []
   },
   "outputs": [
    {
     "data": {
      "text/html": [
       "<div>\n",
       "<style scoped>\n",
       "    .dataframe tbody tr th:only-of-type {\n",
       "        vertical-align: middle;\n",
       "    }\n",
       "\n",
       "    .dataframe tbody tr th {\n",
       "        vertical-align: top;\n",
       "    }\n",
       "\n",
       "    .dataframe thead th {\n",
       "        text-align: right;\n",
       "    }\n",
       "</style>\n",
       "<table border=\"1\" class=\"dataframe\">\n",
       "  <thead>\n",
       "    <tr style=\"text-align: right;\">\n",
       "      <th></th>\n",
       "      <th>Date</th>\n",
       "      <th>Open</th>\n",
       "      <th>High</th>\n",
       "      <th>Low</th>\n",
       "      <th>Close</th>\n",
       "    </tr>\n",
       "  </thead>\n",
       "  <tbody>\n",
       "    <tr>\n",
       "      <th>0</th>\n",
       "      <td>1996-01-01 00:00:00+05:30</td>\n",
       "      <td>10.403050</td>\n",
       "      <td>10.458871</td>\n",
       "      <td>10.334541</td>\n",
       "      <td>10.441110</td>\n",
       "    </tr>\n",
       "    <tr>\n",
       "      <th>1</th>\n",
       "      <td>1996-01-02 00:00:00+05:30</td>\n",
       "      <td>10.415735</td>\n",
       "      <td>10.466482</td>\n",
       "      <td>10.283794</td>\n",
       "      <td>10.359914</td>\n",
       "    </tr>\n",
       "    <tr>\n",
       "      <th>2</th>\n",
       "      <td>1996-01-03 00:00:00+05:30</td>\n",
       "      <td>10.529916</td>\n",
       "      <td>11.009471</td>\n",
       "      <td>10.415736</td>\n",
       "      <td>10.438572</td>\n",
       "    </tr>\n",
       "    <tr>\n",
       "      <th>3</th>\n",
       "      <td>1996-01-04 00:00:00+05:30</td>\n",
       "      <td>10.339614</td>\n",
       "      <td>10.372600</td>\n",
       "      <td>10.202599</td>\n",
       "      <td>10.342152</td>\n",
       "    </tr>\n",
       "    <tr>\n",
       "      <th>4</th>\n",
       "      <td>1996-01-05 00:00:00+05:30</td>\n",
       "      <td>10.301558</td>\n",
       "      <td>10.301558</td>\n",
       "      <td>10.182303</td>\n",
       "      <td>10.271110</td>\n",
       "    </tr>\n",
       "  </tbody>\n",
       "</table>\n",
       "</div>"
      ],
      "text/plain": [
       "                        Date       Open       High        Low      Close\n",
       "0  1996-01-01 00:00:00+05:30  10.403050  10.458871  10.334541  10.441110\n",
       "1  1996-01-02 00:00:00+05:30  10.415735  10.466482  10.283794  10.359914\n",
       "2  1996-01-03 00:00:00+05:30  10.529916  11.009471  10.415736  10.438572\n",
       "3  1996-01-04 00:00:00+05:30  10.339614  10.372600  10.202599  10.342152\n",
       "4  1996-01-05 00:00:00+05:30  10.301558  10.301558  10.182303  10.271110"
      ]
     },
     "execution_count": 8,
     "metadata": {},
     "output_type": "execute_result"
    }
   ],
   "source": [
    "df1=df.copy()\n",
    "df1.head()"
   ]
  },
  {
   "cell_type": "code",
   "execution_count": 9,
   "id": "9d5cc6f4",
   "metadata": {
    "execution": {
     "iopub.execute_input": "2023-08-22T07:18:46.527091Z",
     "iopub.status.busy": "2023-08-22T07:18:46.526446Z",
     "iopub.status.idle": "2023-08-22T07:18:46.587387Z",
     "shell.execute_reply": "2023-08-22T07:18:46.586013Z"
    },
    "papermill": {
     "duration": 0.075131,
     "end_time": "2023-08-22T07:18:46.589804",
     "exception": false,
     "start_time": "2023-08-22T07:18:46.514673",
     "status": "completed"
    },
    "tags": []
   },
   "outputs": [
    {
     "name": "stdout",
     "output_type": "stream",
     "text": [
      "<class 'pandas.core.frame.DataFrame'>\n",
      "RangeIndex: 6948 entries, 0 to 6947\n",
      "Data columns (total 5 columns):\n",
      " #   Column  Non-Null Count  Dtype                                \n",
      "---  ------  --------------  -----                                \n",
      " 0   Date    6948 non-null   datetime64[ns, pytz.FixedOffset(330)]\n",
      " 1   Open    6948 non-null   float64                              \n",
      " 2   High    6948 non-null   float64                              \n",
      " 3   Low     6948 non-null   float64                              \n",
      " 4   Close   6948 non-null   float64                              \n",
      "dtypes: datetime64[ns, pytz.FixedOffset(330)](1), float64(4)\n",
      "memory usage: 271.5 KB\n"
     ]
    }
   ],
   "source": [
    "df1['Date'] = pd.to_datetime(df1['Date'])\n",
    "df1.info()"
   ]
  },
  {
   "cell_type": "code",
   "execution_count": 10,
   "id": "1217d079",
   "metadata": {
    "execution": {
     "iopub.execute_input": "2023-08-22T07:18:46.614070Z",
     "iopub.status.busy": "2023-08-22T07:18:46.613692Z",
     "iopub.status.idle": "2023-08-22T07:18:46.620897Z",
     "shell.execute_reply": "2023-08-22T07:18:46.619564Z"
    },
    "papermill": {
     "duration": 0.023291,
     "end_time": "2023-08-22T07:18:46.624145",
     "exception": false,
     "start_time": "2023-08-22T07:18:46.600854",
     "status": "completed"
    },
    "tags": []
   },
   "outputs": [],
   "source": [
    "df1.set_index('Date',inplace=True)"
   ]
  },
  {
   "cell_type": "code",
   "execution_count": 11,
   "id": "6dc4a984",
   "metadata": {
    "execution": {
     "iopub.execute_input": "2023-08-22T07:18:46.651834Z",
     "iopub.status.busy": "2023-08-22T07:18:46.651447Z",
     "iopub.status.idle": "2023-08-22T07:18:46.666998Z",
     "shell.execute_reply": "2023-08-22T07:18:46.665569Z"
    },
    "papermill": {
     "duration": 0.033484,
     "end_time": "2023-08-22T07:18:46.670173",
     "exception": false,
     "start_time": "2023-08-22T07:18:46.636689",
     "status": "completed"
    },
    "tags": []
   },
   "outputs": [
    {
     "data": {
      "text/html": [
       "<div>\n",
       "<style scoped>\n",
       "    .dataframe tbody tr th:only-of-type {\n",
       "        vertical-align: middle;\n",
       "    }\n",
       "\n",
       "    .dataframe tbody tr th {\n",
       "        vertical-align: top;\n",
       "    }\n",
       "\n",
       "    .dataframe thead th {\n",
       "        text-align: right;\n",
       "    }\n",
       "</style>\n",
       "<table border=\"1\" class=\"dataframe\">\n",
       "  <thead>\n",
       "    <tr style=\"text-align: right;\">\n",
       "      <th></th>\n",
       "      <th>Open</th>\n",
       "      <th>High</th>\n",
       "      <th>Low</th>\n",
       "      <th>Close</th>\n",
       "    </tr>\n",
       "    <tr>\n",
       "      <th>Date</th>\n",
       "      <th></th>\n",
       "      <th></th>\n",
       "      <th></th>\n",
       "      <th></th>\n",
       "    </tr>\n",
       "  </thead>\n",
       "  <tbody>\n",
       "    <tr>\n",
       "      <th>1996-01-01 00:00:00+05:30</th>\n",
       "      <td>10.403050</td>\n",
       "      <td>10.458871</td>\n",
       "      <td>10.334541</td>\n",
       "      <td>10.441110</td>\n",
       "    </tr>\n",
       "    <tr>\n",
       "      <th>1996-01-02 00:00:00+05:30</th>\n",
       "      <td>10.415735</td>\n",
       "      <td>10.466482</td>\n",
       "      <td>10.283794</td>\n",
       "      <td>10.359914</td>\n",
       "    </tr>\n",
       "    <tr>\n",
       "      <th>1996-01-03 00:00:00+05:30</th>\n",
       "      <td>10.529916</td>\n",
       "      <td>11.009471</td>\n",
       "      <td>10.415736</td>\n",
       "      <td>10.438572</td>\n",
       "    </tr>\n",
       "    <tr>\n",
       "      <th>1996-01-04 00:00:00+05:30</th>\n",
       "      <td>10.339614</td>\n",
       "      <td>10.372600</td>\n",
       "      <td>10.202599</td>\n",
       "      <td>10.342152</td>\n",
       "    </tr>\n",
       "    <tr>\n",
       "      <th>1996-01-05 00:00:00+05:30</th>\n",
       "      <td>10.301558</td>\n",
       "      <td>10.301558</td>\n",
       "      <td>10.182303</td>\n",
       "      <td>10.271110</td>\n",
       "    </tr>\n",
       "  </tbody>\n",
       "</table>\n",
       "</div>"
      ],
      "text/plain": [
       "                                Open       High        Low      Close\n",
       "Date                                                                 \n",
       "1996-01-01 00:00:00+05:30  10.403050  10.458871  10.334541  10.441110\n",
       "1996-01-02 00:00:00+05:30  10.415735  10.466482  10.283794  10.359914\n",
       "1996-01-03 00:00:00+05:30  10.529916  11.009471  10.415736  10.438572\n",
       "1996-01-04 00:00:00+05:30  10.339614  10.372600  10.202599  10.342152\n",
       "1996-01-05 00:00:00+05:30  10.301558  10.301558  10.182303  10.271110"
      ]
     },
     "execution_count": 11,
     "metadata": {},
     "output_type": "execute_result"
    }
   ],
   "source": [
    "df1.head()"
   ]
  },
  {
   "cell_type": "code",
   "execution_count": 12,
   "id": "54a1b26e",
   "metadata": {
    "execution": {
     "iopub.execute_input": "2023-08-22T07:18:46.697810Z",
     "iopub.status.busy": "2023-08-22T07:18:46.697341Z",
     "iopub.status.idle": "2023-08-22T07:18:48.505555Z",
     "shell.execute_reply": "2023-08-22T07:18:48.504174Z"
    },
    "papermill": {
     "duration": 1.825954,
     "end_time": "2023-08-22T07:18:48.508678",
     "exception": false,
     "start_time": "2023-08-22T07:18:46.682724",
     "status": "completed"
    },
    "tags": []
   },
   "outputs": [
    {
     "data": {
      "image/png": "[encoded data removed]",
      "text/plain": [
       "<Figure size 1500x600 with 4 Axes>"
      ]
     },
     "metadata": {},
     "output_type": "display_data"
    }
   ],
   "source": [
    "plt.subplot(2,2,1)\n",
    "plt.plot(df1['Open'])\n",
    "plt.title('OPEN')\n",
    "plt.grid()\n",
    "\n",
    "plt.subplot(2,2,2)\n",
    "plt.plot(df1['Close'])\n",
    "plt.title('CLOSE')\n",
    "plt.grid()\n",
    "\n",
    "plt.subplot(2,2,3)\n",
    "plt.plot(df1['Low'])\n",
    "plt.title('LOW')\n",
    "plt.grid()\n",
    "\n",
    "plt.subplot(2,2,4)\n",
    "plt.plot(df1['High'])\n",
    "plt.title('HIGH')\n",
    "plt.grid()\n",
    "\n",
    "plt.tight_layout()\n",
    "plt.show()"
   ]
  },
  {
   "cell_type": "markdown",
   "id": "e0c633cf",
   "metadata": {
    "papermill": {
     "duration": 0.014569,
     "end_time": "2023-08-22T07:18:48.538078",
     "exception": false,
     "start_time": "2023-08-22T07:18:48.523509",
     "status": "completed"
    },
    "tags": []
   },
   "source": [
    "# Analysis"
   ]
  },
  {
   "cell_type": "code",
   "execution_count": 13,
   "id": "eaa0952d",
   "metadata": {
    "execution": {
     "iopub.execute_input": "2023-08-22T07:18:48.571545Z",
     "iopub.status.busy": "2023-08-22T07:18:48.570053Z",
     "iopub.status.idle": "2023-08-22T07:18:48.590398Z",
     "shell.execute_reply": "2023-08-22T07:18:48.587760Z"
    },
    "papermill": {
     "duration": 0.041712,
     "end_time": "2023-08-22T07:18:48.594711",
     "exception": false,
     "start_time": "2023-08-22T07:18:48.552999",
     "status": "completed"
    },
    "tags": []
   },
   "outputs": [
    {
     "data": {
      "text/html": [
       "<div>\n",
       "<style scoped>\n",
       "    .dataframe tbody tr th:only-of-type {\n",
       "        vertical-align: middle;\n",
       "    }\n",
       "\n",
       "    .dataframe tbody tr th {\n",
       "        vertical-align: top;\n",
       "    }\n",
       "\n",
       "    .dataframe thead th {\n",
       "        text-align: right;\n",
       "    }\n",
       "</style>\n",
       "<table border=\"1\" class=\"dataframe\">\n",
       "  <thead>\n",
       "    <tr style=\"text-align: right;\">\n",
       "      <th></th>\n",
       "      <th>Date</th>\n",
       "      <th>Open</th>\n",
       "      <th>High</th>\n",
       "      <th>Low</th>\n",
       "      <th>Close</th>\n",
       "    </tr>\n",
       "  </thead>\n",
       "  <tbody>\n",
       "    <tr>\n",
       "      <th>0</th>\n",
       "      <td>1996-01-01 00:00:00+05:30</td>\n",
       "      <td>10.403050</td>\n",
       "      <td>10.458871</td>\n",
       "      <td>10.334541</td>\n",
       "      <td>10.441110</td>\n",
       "    </tr>\n",
       "    <tr>\n",
       "      <th>1</th>\n",
       "      <td>1996-01-02 00:00:00+05:30</td>\n",
       "      <td>10.415735</td>\n",
       "      <td>10.466482</td>\n",
       "      <td>10.283794</td>\n",
       "      <td>10.359914</td>\n",
       "    </tr>\n",
       "    <tr>\n",
       "      <th>2</th>\n",
       "      <td>1996-01-03 00:00:00+05:30</td>\n",
       "      <td>10.529916</td>\n",
       "      <td>11.009471</td>\n",
       "      <td>10.415736</td>\n",
       "      <td>10.438572</td>\n",
       "    </tr>\n",
       "    <tr>\n",
       "      <th>3</th>\n",
       "      <td>1996-01-04 00:00:00+05:30</td>\n",
       "      <td>10.339614</td>\n",
       "      <td>10.372600</td>\n",
       "      <td>10.202599</td>\n",
       "      <td>10.342152</td>\n",
       "    </tr>\n",
       "    <tr>\n",
       "      <th>4</th>\n",
       "      <td>1996-01-05 00:00:00+05:30</td>\n",
       "      <td>10.301558</td>\n",
       "      <td>10.301558</td>\n",
       "      <td>10.182303</td>\n",
       "      <td>10.271110</td>\n",
       "    </tr>\n",
       "  </tbody>\n",
       "</table>\n",
       "</div>"
      ],
      "text/plain": [
       "                        Date       Open       High        Low      Close\n",
       "0  1996-01-01 00:00:00+05:30  10.403050  10.458871  10.334541  10.441110\n",
       "1  1996-01-02 00:00:00+05:30  10.415735  10.466482  10.283794  10.359914\n",
       "2  1996-01-03 00:00:00+05:30  10.529916  11.009471  10.415736  10.438572\n",
       "3  1996-01-04 00:00:00+05:30  10.339614  10.372600  10.202599  10.342152\n",
       "4  1996-01-05 00:00:00+05:30  10.301558  10.301558  10.182303  10.271110"
      ]
     },
     "execution_count": 13,
     "metadata": {},
     "output_type": "execute_result"
    }
   ],
   "source": [
    "df.head()"
   ]
  },
  {
   "cell_type": "code",
   "execution_count": null,
   "id": "6faf19e3",
   "metadata": {
    "papermill": {
     "duration": 0.012546,
     "end_time": "2023-08-22T07:18:48.620733",
     "exception": false,
     "start_time": "2023-08-22T07:18:48.608187",
     "status": "completed"
    },
    "tags": []
   },
   "outputs": [],
   "source": []
  },
  {
   "cell_type": "code",
   "execution_count": 14,
   "id": "6f01f5d3",
   "metadata": {
    "execution": {
     "iopub.execute_input": "2023-08-22T07:18:48.649928Z",
     "iopub.status.busy": "2023-08-22T07:18:48.649467Z",
     "iopub.status.idle": "2023-08-22T07:18:49.148985Z",
     "shell.execute_reply": "2023-08-22T07:18:49.147174Z"
    },
    "papermill": {
     "duration": 0.518657,
     "end_time": "2023-08-22T07:18:49.152475",
     "exception": false,
     "start_time": "2023-08-22T07:18:48.633818",
     "status": "completed"
    },
    "tags": []
   },
   "outputs": [],
   "source": [
    "from sklearn.linear_model import LinearRegression"
   ]
  },
  {
   "cell_type": "code",
   "execution_count": 15,
   "id": "eeba0e7d",
   "metadata": {
    "execution": {
     "iopub.execute_input": "2023-08-22T07:18:49.184962Z",
     "iopub.status.busy": "2023-08-22T07:18:49.183739Z",
     "iopub.status.idle": "2023-08-22T07:18:49.191970Z",
     "shell.execute_reply": "2023-08-22T07:18:49.190487Z"
    },
    "papermill": {
     "duration": 0.02792,
     "end_time": "2023-08-22T07:18:49.195099",
     "exception": false,
     "start_time": "2023-08-22T07:18:49.167179",
     "status": "completed"
    },
    "tags": []
   },
   "outputs": [],
   "source": [
    "train=df.iloc[0:4864,:]\n",
    "test=df.iloc[4864:,:]"
   ]
  },
  {
   "cell_type": "code",
   "execution_count": 16,
   "id": "a3223bec",
   "metadata": {
    "execution": {
     "iopub.execute_input": "2023-08-22T07:18:49.224543Z",
     "iopub.status.busy": "2023-08-22T07:18:49.223929Z",
     "iopub.status.idle": "2023-08-22T07:18:49.232644Z",
     "shell.execute_reply": "2023-08-22T07:18:49.231322Z"
    },
    "papermill": {
     "duration": 0.026259,
     "end_time": "2023-08-22T07:18:49.235018",
     "exception": false,
     "start_time": "2023-08-22T07:18:49.208759",
     "status": "completed"
    },
    "tags": []
   },
   "outputs": [
    {
     "data": {
      "text/plain": [
       "(4864, 5)"
      ]
     },
     "execution_count": 16,
     "metadata": {},
     "output_type": "execute_result"
    }
   ],
   "source": [
    "train.shape"
   ]
  },
  {
   "cell_type": "code",
   "execution_count": 17,
   "id": "9720fc44",
   "metadata": {
    "execution": {
     "iopub.execute_input": "2023-08-22T07:18:49.264104Z",
     "iopub.status.busy": "2023-08-22T07:18:49.262974Z",
     "iopub.status.idle": "2023-08-22T07:18:49.272905Z",
     "shell.execute_reply": "2023-08-22T07:18:49.270528Z"
    },
    "papermill": {
     "duration": 0.027432,
     "end_time": "2023-08-22T07:18:49.275773",
     "exception": false,
     "start_time": "2023-08-22T07:18:49.248341",
     "status": "completed"
    },
    "tags": []
   },
   "outputs": [
    {
     "data": {
      "text/plain": [
       "(2084, 5)"
      ]
     },
     "execution_count": 17,
     "metadata": {},
     "output_type": "execute_result"
    }
   ],
   "source": [
    "test.shape"
   ]
  },
  {
   "cell_type": "code",
   "execution_count": 18,
   "id": "5d87c45d",
   "metadata": {
    "execution": {
     "iopub.execute_input": "2023-08-22T07:18:49.305731Z",
     "iopub.status.busy": "2023-08-22T07:18:49.304388Z",
     "iopub.status.idle": "2023-08-22T07:18:49.354631Z",
     "shell.execute_reply": "2023-08-22T07:18:49.353234Z"
    },
    "papermill": {
     "duration": 0.069515,
     "end_time": "2023-08-22T07:18:49.358037",
     "exception": false,
     "start_time": "2023-08-22T07:18:49.288522",
     "status": "completed"
    },
    "tags": []
   },
   "outputs": [],
   "source": [
    "xtrain=pd.to_datetime(train['Date'])\n",
    "ytrain=train['Close'].values.reshape(-1,1)"
   ]
  },
  {
   "cell_type": "code",
   "execution_count": 19,
   "id": "03b2d3fa",
   "metadata": {
    "execution": {
     "iopub.execute_input": "2023-08-22T07:18:49.400506Z",
     "iopub.status.busy": "2023-08-22T07:18:49.399458Z",
     "iopub.status.idle": "2023-08-22T07:18:49.422897Z",
     "shell.execute_reply": "2023-08-22T07:18:49.421291Z"
    },
    "papermill": {
     "duration": 0.04882,
     "end_time": "2023-08-22T07:18:49.426376",
     "exception": false,
     "start_time": "2023-08-22T07:18:49.377556",
     "status": "completed"
    },
    "tags": []
   },
   "outputs": [],
   "source": [
    "xtest=pd.to_datetime(test['Date'])\n",
    "ytest=test['Close'].values.reshape(-1,1)"
   ]
  },
  {
   "cell_type": "code",
   "execution_count": 20,
   "id": "406dde2b",
   "metadata": {
    "execution": {
     "iopub.execute_input": "2023-08-22T07:18:49.456345Z",
     "iopub.status.busy": "2023-08-22T07:18:49.455814Z",
     "iopub.status.idle": "2023-08-22T07:18:49.492315Z",
     "shell.execute_reply": "2023-08-22T07:18:49.490510Z"
    },
    "papermill": {
     "duration": 0.056917,
     "end_time": "2023-08-22T07:18:49.496556",
     "exception": false,
     "start_time": "2023-08-22T07:18:49.439639",
     "status": "completed"
    },
    "tags": []
   },
   "outputs": [
    {
     "data": {
      "text/html": [
       "<style>#sk-container-id-1 {color: black;background-color: white;}#sk-container-id-1 pre{padding: 0;}#sk-container-id-1 div.sk-toggleable {background-color: white;}#sk-container-id-1 label.sk-toggleable__label {cursor: pointer;display: block;width: 100%;margin-bottom: 0;padding: 0.3em;box-sizing: border-box;text-align: center;}#sk-container-id-1 label.sk-toggleable__label-arrow:before {content: \"▸\";float: left;margin-right: 0.25em;color: #696969;}#sk-container-id-1 label.sk-toggleable__label-arrow:hover:before {color: black;}#sk-container-id-1 div.sk-estimator:hover label.sk-toggleable__label-arrow:before {color: black;}#sk-container-id-1 div.sk-toggleable__content {max-height: 0;max-width: 0;overflow: hidden;text-align: left;background-color: #f0f8ff;}#sk-container-id-1 div.sk-toggleable__content pre {margin: 0.2em;color: black;border-radius: 0.25em;background-color: #f0f8ff;}#sk-container-id-1 input.sk-toggleable__control:checked~div.sk-toggleable__content {max-height: 200px;max-width: 100%;overflow: auto;}#sk-container-id-1 input.sk-toggleable__control:checked~label.sk-toggleable__label-arrow:before {content: \"▾\";}#sk-container-id-1 div.sk-estimator input.sk-toggleable__control:checked~label.sk-toggleable__label {background-color: #d4ebff;}#sk-container-id-1 div.sk-label input.sk-toggleable__control:checked~label.sk-toggleable__label {background-color: #d4ebff;}#sk-container-id-1 input.sk-hidden--visually {border: 0;clip: rect(1px 1px 1px 1px);clip: rect(1px, 1px, 1px, 1px);height: 1px;margin: -1px;overflow: hidden;padding: 0;position: absolute;width: 1px;}#sk-container-id-1 div.sk-estimator {font-family: monospace;background-color: #f0f8ff;border: 1px dotted black;border-radius: 0.25em;box-sizing: border-box;margin-bottom: 0.5em;}#sk-container-id-1 div.sk-estimator:hover {background-color: #d4ebff;}#sk-container-id-1 div.sk-parallel-item::after {content: \"\";width: 100%;border-bottom: 1px solid gray;flex-grow: 1;}#sk-container-id-1 div.sk-label:hover label.sk-toggleable__label {background-color: #d4ebff;}#sk-container-id-1 div.sk-serial::before {content: \"\";position: absolute;border-left: 1px solid gray;box-sizing: border-box;top: 0;bottom: 0;left: 50%;z-index: 0;}#sk-container-id-1 div.sk-serial {display: flex;flex-direction: column;align-items: center;background-color: white;padding-right: 0.2em;padding-left: 0.2em;position: relative;}#sk-container-id-1 div.sk-item {position: relative;z-index: 1;}#sk-container-id-1 div.sk-parallel {display: flex;align-items: stretch;justify-content: center;background-color: white;position: relative;}#sk-container-id-1 div.sk-item::before, #sk-container-id-1 div.sk-parallel-item::before {content: \"\";position: absolute;border-left: 1px solid gray;box-sizing: border-box;top: 0;bottom: 0;left: 50%;z-index: -1;}#sk-container-id-1 div.sk-parallel-item {display: flex;flex-direction: column;z-index: 1;position: relative;background-color: white;}#sk-container-id-1 div.sk-parallel-item:first-child::after {align-self: flex-end;width: 50%;}#sk-container-id-1 div.sk-parallel-item:last-child::after {align-self: flex-start;width: 50%;}#sk-container-id-1 div.sk-parallel-item:only-child::after {width: 0;}#sk-container-id-1 div.sk-dashed-wrapped {border: 1px dashed gray;margin: 0 0.4em 0.5em 0.4em;box-sizing: border-box;padding-bottom: 0.4em;background-color: white;}#sk-container-id-1 div.sk-label label {font-family: monospace;font-weight: bold;display: inline-block;line-height: 1.2em;}#sk-container-id-1 div.sk-label-container {text-align: center;}#sk-container-id-1 div.sk-container {/* jupyter's `normalize.less` sets `[hidden] { display: none; }` but bootstrap.min.css set `[hidden] { display: none !important; }` so we also need the `!important` here to be able to override the default hidden behavior on the sphinx rendered scikit-learn.org. See: https://github.com/scikit-learn/scikit-learn/issues/21755 */display: inline-block !important;position: relative;}#sk-container-id-1 div.sk-text-repr-fallback {display: none;}</style><div id=\"sk-container-id-1\" class=\"sk-top-container\"><div class=\"sk-text-repr-fallback\"><pre>LinearRegression()</pre><b>In a Jupyter environment, please rerun this cell to show the HTML representation or trust the notebook. <br />On GitHub, the HTML representation is unable to render, please try loading this page with nbviewer.org.</b></div><div class=\"sk-container\" hidden><div class=\"sk-item\"><div class=\"sk-estimator sk-toggleable\"><input class=\"sk-toggleable__control sk-hidden--visually\" id=\"sk-estimator-id-1\" type=\"checkbox\" checked><label for=\"sk-estimator-id-1\" class=\"sk-toggleable__label sk-toggleable__label-arrow\">LinearRegression</label><div class=\"sk-toggleable__content\"><pre>LinearRegression()</pre></div></div></div></div></div>"
      ],
      "text/plain": [
       "LinearRegression()"
      ]
     },
     "execution_count": 20,
     "metadata": {},
     "output_type": "execute_result"
    }
   ],
   "source": [
    "lr=LinearRegression()\n",
    "lr_model=lr.fit(xtrain.values.reshape(-1,1),ytrain)\n",
    "lr_model"
   ]
  },
  {
   "cell_type": "code",
   "execution_count": 21,
   "id": "21f37761",
   "metadata": {
    "execution": {
     "iopub.execute_input": "2023-08-22T07:18:49.532310Z",
     "iopub.status.busy": "2023-08-22T07:18:49.531612Z",
     "iopub.status.idle": "2023-08-22T07:18:49.543000Z",
     "shell.execute_reply": "2023-08-22T07:18:49.541323Z"
    },
    "papermill": {
     "duration": 0.030889,
     "end_time": "2023-08-22T07:18:49.546032",
     "exception": false,
     "start_time": "2023-08-22T07:18:49.515143",
     "status": "completed"
    },
    "tags": []
   },
   "outputs": [
    {
     "data": {
      "text/plain": [
       "array([[500.0648559 ],\n",
       "       [500.14750737],\n",
       "       [500.23015883],\n",
       "       ...,\n",
       "       [754.30076489],\n",
       "       [754.54871929],\n",
       "       [754.63137076]])"
      ]
     },
     "execution_count": 21,
     "metadata": {},
     "output_type": "execute_result"
    }
   ],
   "source": [
    "ypred = lr_model.predict(xtest.values.astype('float').reshape(-1,1))\n",
    "ypred"
   ]
  },
  {
   "cell_type": "code",
   "execution_count": 22,
   "id": "13306516",
   "metadata": {
    "execution": {
     "iopub.execute_input": "2023-08-22T07:18:49.577243Z",
     "iopub.status.busy": "2023-08-22T07:18:49.576711Z",
     "iopub.status.idle": "2023-08-22T07:18:50.090565Z",
     "shell.execute_reply": "2023-08-22T07:18:50.089325Z"
    },
    "papermill": {
     "duration": 0.532764,
     "end_time": "2023-08-22T07:18:50.093769",
     "exception": false,
     "start_time": "2023-08-22T07:18:49.561005",
     "status": "completed"
    },
    "tags": []
   },
   "outputs": [
    {
     "data": {
      "image/png": "[encoded data removed]",
      "text/plain": [
       "<Figure size 1500x600 with 1 Axes>"
      ]
     },
     "metadata": {},
     "output_type": "display_data"
    }
   ],
   "source": [
    "plt.plot(xtrain,ytrain)\n",
    "plt.plot(xtest,ytest)\n",
    "plt.plot(xtest,ypred,linewidth=5,linestyle='--')\n",
    "plt.axvline(xtrain.tail().values[1],color='k')\n",
    "plt.grid()\n",
    "plt.show()"
   ]
  },
  {
   "cell_type": "markdown",
   "id": "ac0d5ebf",
   "metadata": {
    "papermill": {
     "duration": 0.015692,
     "end_time": "2023-08-22T07:18:50.123839",
     "exception": false,
     "start_time": "2023-08-22T07:18:50.108147",
     "status": "completed"
    },
    "tags": []
   },
   "source": [
    "# NEW"
   ]
  },
  {
   "cell_type": "code",
   "execution_count": 23,
   "id": "f1687cdf",
   "metadata": {
    "execution": {
     "iopub.execute_input": "2023-08-22T07:18:50.155711Z",
     "iopub.status.busy": "2023-08-22T07:18:50.154095Z",
     "iopub.status.idle": "2023-08-22T07:18:50.188997Z",
     "shell.execute_reply": "2023-08-22T07:18:50.187635Z"
    },
    "papermill": {
     "duration": 0.053334,
     "end_time": "2023-08-22T07:18:50.191937",
     "exception": false,
     "start_time": "2023-08-22T07:18:50.138603",
     "status": "completed"
    },
    "tags": []
   },
   "outputs": [
    {
     "data": {
      "text/html": [
       "<div>\n",
       "<style scoped>\n",
       "    .dataframe tbody tr th:only-of-type {\n",
       "        vertical-align: middle;\n",
       "    }\n",
       "\n",
       "    .dataframe tbody tr th {\n",
       "        vertical-align: top;\n",
       "    }\n",
       "\n",
       "    .dataframe thead th {\n",
       "        text-align: right;\n",
       "    }\n",
       "</style>\n",
       "<table border=\"1\" class=\"dataframe\">\n",
       "  <thead>\n",
       "    <tr style=\"text-align: right;\">\n",
       "      <th></th>\n",
       "      <th>Date</th>\n",
       "      <th>Open</th>\n",
       "      <th>High</th>\n",
       "      <th>Low</th>\n",
       "      <th>Close</th>\n",
       "    </tr>\n",
       "  </thead>\n",
       "  <tbody>\n",
       "    <tr>\n",
       "      <th>0</th>\n",
       "      <td>1996-01-01 00:00:00+05:30</td>\n",
       "      <td>10.403050</td>\n",
       "      <td>10.458871</td>\n",
       "      <td>10.334541</td>\n",
       "      <td>10.441110</td>\n",
       "    </tr>\n",
       "    <tr>\n",
       "      <th>1</th>\n",
       "      <td>1996-01-02 00:00:00+05:30</td>\n",
       "      <td>10.415735</td>\n",
       "      <td>10.466482</td>\n",
       "      <td>10.283794</td>\n",
       "      <td>10.359914</td>\n",
       "    </tr>\n",
       "    <tr>\n",
       "      <th>2</th>\n",
       "      <td>1996-01-03 00:00:00+05:30</td>\n",
       "      <td>10.529916</td>\n",
       "      <td>11.009471</td>\n",
       "      <td>10.415736</td>\n",
       "      <td>10.438572</td>\n",
       "    </tr>\n",
       "    <tr>\n",
       "      <th>3</th>\n",
       "      <td>1996-01-04 00:00:00+05:30</td>\n",
       "      <td>10.339614</td>\n",
       "      <td>10.372600</td>\n",
       "      <td>10.202599</td>\n",
       "      <td>10.342152</td>\n",
       "    </tr>\n",
       "    <tr>\n",
       "      <th>4</th>\n",
       "      <td>1996-01-05 00:00:00+05:30</td>\n",
       "      <td>10.301558</td>\n",
       "      <td>10.301558</td>\n",
       "      <td>10.182303</td>\n",
       "      <td>10.271110</td>\n",
       "    </tr>\n",
       "  </tbody>\n",
       "</table>\n",
       "</div>"
      ],
      "text/plain": [
       "                        Date       Open       High        Low      Close\n",
       "0  1996-01-01 00:00:00+05:30  10.403050  10.458871  10.334541  10.441110\n",
       "1  1996-01-02 00:00:00+05:30  10.415735  10.466482  10.283794  10.359914\n",
       "2  1996-01-03 00:00:00+05:30  10.529916  11.009471  10.415736  10.438572\n",
       "3  1996-01-04 00:00:00+05:30  10.339614  10.372600  10.202599  10.342152\n",
       "4  1996-01-05 00:00:00+05:30  10.301558  10.301558  10.182303  10.271110"
      ]
     },
     "execution_count": 23,
     "metadata": {},
     "output_type": "execute_result"
    }
   ],
   "source": [
    "df=pd.read_csv('/kaggle/input/reliance-stocks-data/RELIANCE.csv')\n",
    "df.head()"
   ]
  },
  {
   "cell_type": "code",
   "execution_count": 24,
   "id": "8ed34fae",
   "metadata": {
    "execution": {
     "iopub.execute_input": "2023-08-22T07:18:50.224177Z",
     "iopub.status.busy": "2023-08-22T07:18:50.222950Z",
     "iopub.status.idle": "2023-08-22T07:18:50.276037Z",
     "shell.execute_reply": "2023-08-22T07:18:50.274775Z"
    },
    "papermill": {
     "duration": 0.072552,
     "end_time": "2023-08-22T07:18:50.278587",
     "exception": false,
     "start_time": "2023-08-22T07:18:50.206035",
     "status": "completed"
    },
    "tags": []
   },
   "outputs": [],
   "source": [
    "df['Date'] = pd.to_datetime(df['Date'])\n",
    "df.set_index('Date', inplace=True)"
   ]
  },
  {
   "cell_type": "code",
   "execution_count": 25,
   "id": "4be57933",
   "metadata": {
    "execution": {
     "iopub.execute_input": "2023-08-22T07:18:50.311119Z",
     "iopub.status.busy": "2023-08-22T07:18:50.310554Z",
     "iopub.status.idle": "2023-08-22T07:18:50.323707Z",
     "shell.execute_reply": "2023-08-22T07:18:50.322474Z"
    },
    "papermill": {
     "duration": 0.033385,
     "end_time": "2023-08-22T07:18:50.326360",
     "exception": false,
     "start_time": "2023-08-22T07:18:50.292975",
     "status": "completed"
    },
    "tags": []
   },
   "outputs": [],
   "source": [
    "for lag in range(1, 6):\n",
    "    df[f'lag_{lag}'] = df['Close'].shift(lag)"
   ]
  },
  {
   "cell_type": "code",
   "execution_count": 26,
   "id": "c1c262d1",
   "metadata": {
    "execution": {
     "iopub.execute_input": "2023-08-22T07:18:50.357645Z",
     "iopub.status.busy": "2023-08-22T07:18:50.357009Z",
     "iopub.status.idle": "2023-08-22T07:18:50.375371Z",
     "shell.execute_reply": "2023-08-22T07:18:50.373810Z"
    },
    "papermill": {
     "duration": 0.037693,
     "end_time": "2023-08-22T07:18:50.378041",
     "exception": false,
     "start_time": "2023-08-22T07:18:50.340348",
     "status": "completed"
    },
    "tags": []
   },
   "outputs": [
    {
     "data": {
      "text/html": [
       "<div>\n",
       "<style scoped>\n",
       "    .dataframe tbody tr th:only-of-type {\n",
       "        vertical-align: middle;\n",
       "    }\n",
       "\n",
       "    .dataframe tbody tr th {\n",
       "        vertical-align: top;\n",
       "    }\n",
       "\n",
       "    .dataframe thead th {\n",
       "        text-align: right;\n",
       "    }\n",
       "</style>\n",
       "<table border=\"1\" class=\"dataframe\">\n",
       "  <thead>\n",
       "    <tr style=\"text-align: right;\">\n",
       "      <th></th>\n",
       "      <th>Open</th>\n",
       "      <th>High</th>\n",
       "      <th>Low</th>\n",
       "      <th>Close</th>\n",
       "      <th>lag_1</th>\n",
       "      <th>lag_2</th>\n",
       "      <th>lag_3</th>\n",
       "      <th>lag_4</th>\n",
       "      <th>lag_5</th>\n",
       "    </tr>\n",
       "    <tr>\n",
       "      <th>Date</th>\n",
       "      <th></th>\n",
       "      <th></th>\n",
       "      <th></th>\n",
       "      <th></th>\n",
       "      <th></th>\n",
       "      <th></th>\n",
       "      <th></th>\n",
       "      <th></th>\n",
       "      <th></th>\n",
       "    </tr>\n",
       "  </thead>\n",
       "  <tbody>\n",
       "    <tr>\n",
       "      <th>1996-01-01 00:00:00+05:30</th>\n",
       "      <td>10.403050</td>\n",
       "      <td>10.458871</td>\n",
       "      <td>10.334541</td>\n",
       "      <td>10.441110</td>\n",
       "      <td>NaN</td>\n",
       "      <td>NaN</td>\n",
       "      <td>NaN</td>\n",
       "      <td>NaN</td>\n",
       "      <td>NaN</td>\n",
       "    </tr>\n",
       "    <tr>\n",
       "      <th>1996-01-02 00:00:00+05:30</th>\n",
       "      <td>10.415735</td>\n",
       "      <td>10.466482</td>\n",
       "      <td>10.283794</td>\n",
       "      <td>10.359914</td>\n",
       "      <td>10.441110</td>\n",
       "      <td>NaN</td>\n",
       "      <td>NaN</td>\n",
       "      <td>NaN</td>\n",
       "      <td>NaN</td>\n",
       "    </tr>\n",
       "    <tr>\n",
       "      <th>1996-01-03 00:00:00+05:30</th>\n",
       "      <td>10.529916</td>\n",
       "      <td>11.009471</td>\n",
       "      <td>10.415736</td>\n",
       "      <td>10.438572</td>\n",
       "      <td>10.359914</td>\n",
       "      <td>10.441110</td>\n",
       "      <td>NaN</td>\n",
       "      <td>NaN</td>\n",
       "      <td>NaN</td>\n",
       "    </tr>\n",
       "    <tr>\n",
       "      <th>1996-01-04 00:00:00+05:30</th>\n",
       "      <td>10.339614</td>\n",
       "      <td>10.372600</td>\n",
       "      <td>10.202599</td>\n",
       "      <td>10.342152</td>\n",
       "      <td>10.438572</td>\n",
       "      <td>10.359914</td>\n",
       "      <td>10.441110</td>\n",
       "      <td>NaN</td>\n",
       "      <td>NaN</td>\n",
       "    </tr>\n",
       "    <tr>\n",
       "      <th>1996-01-05 00:00:00+05:30</th>\n",
       "      <td>10.301558</td>\n",
       "      <td>10.301558</td>\n",
       "      <td>10.182303</td>\n",
       "      <td>10.271110</td>\n",
       "      <td>10.342152</td>\n",
       "      <td>10.438572</td>\n",
       "      <td>10.359914</td>\n",
       "      <td>10.44111</td>\n",
       "      <td>NaN</td>\n",
       "    </tr>\n",
       "  </tbody>\n",
       "</table>\n",
       "</div>"
      ],
      "text/plain": [
       "                                Open       High        Low      Close  \\\n",
       "Date                                                                    \n",
       "1996-01-01 00:00:00+05:30  10.403050  10.458871  10.334541  10.441110   \n",
       "1996-01-02 00:00:00+05:30  10.415735  10.466482  10.283794  10.359914   \n",
       "1996-01-03 00:00:00+05:30  10.529916  11.009471  10.415736  10.438572   \n",
       "1996-01-04 00:00:00+05:30  10.339614  10.372600  10.202599  10.342152   \n",
       "1996-01-05 00:00:00+05:30  10.301558  10.301558  10.182303  10.271110   \n",
       "\n",
       "                               lag_1      lag_2      lag_3     lag_4  lag_5  \n",
       "Date                                                                         \n",
       "1996-01-01 00:00:00+05:30        NaN        NaN        NaN       NaN    NaN  \n",
       "1996-01-02 00:00:00+05:30  10.441110        NaN        NaN       NaN    NaN  \n",
       "1996-01-03 00:00:00+05:30  10.359914  10.441110        NaN       NaN    NaN  \n",
       "1996-01-04 00:00:00+05:30  10.438572  10.359914  10.441110       NaN    NaN  \n",
       "1996-01-05 00:00:00+05:30  10.342152  10.438572  10.359914  10.44111    NaN  "
      ]
     },
     "execution_count": 26,
     "metadata": {},
     "output_type": "execute_result"
    }
   ],
   "source": [
    "df.head()"
   ]
  },
  {
   "cell_type": "code",
   "execution_count": 27,
   "id": "5ca24de3",
   "metadata": {
    "execution": {
     "iopub.execute_input": "2023-08-22T07:18:50.411423Z",
     "iopub.status.busy": "2023-08-22T07:18:50.410232Z",
     "iopub.status.idle": "2023-08-22T07:18:50.420954Z",
     "shell.execute_reply": "2023-08-22T07:18:50.419467Z"
    },
    "papermill": {
     "duration": 0.03023,
     "end_time": "2023-08-22T07:18:50.423784",
     "exception": false,
     "start_time": "2023-08-22T07:18:50.393554",
     "status": "completed"
    },
    "tags": []
   },
   "outputs": [],
   "source": [
    "df.dropna(inplace=True)\n"
   ]
  },
  {
   "cell_type": "code",
   "execution_count": 28,
   "id": "16438e09",
   "metadata": {
    "execution": {
     "iopub.execute_input": "2023-08-22T07:18:50.455442Z",
     "iopub.status.busy": "2023-08-22T07:18:50.454361Z",
     "iopub.status.idle": "2023-08-22T07:18:50.463041Z",
     "shell.execute_reply": "2023-08-22T07:18:50.461405Z"
    },
    "papermill": {
     "duration": 0.02774,
     "end_time": "2023-08-22T07:18:50.465891",
     "exception": false,
     "start_time": "2023-08-22T07:18:50.438151",
     "status": "completed"
    },
    "tags": []
   },
   "outputs": [],
   "source": [
    "x = df[['lag_1', 'lag_2', 'lag_3', 'lag_4', 'lag_5']]\n",
    "y = df['Close']"
   ]
  },
  {
   "cell_type": "code",
   "execution_count": 29,
   "id": "f4671e0b",
   "metadata": {
    "execution": {
     "iopub.execute_input": "2023-08-22T07:18:50.498713Z",
     "iopub.status.busy": "2023-08-22T07:18:50.497049Z",
     "iopub.status.idle": "2023-08-22T07:18:52.227557Z",
     "shell.execute_reply": "2023-08-22T07:18:52.225975Z"
    },
    "papermill": {
     "duration": 1.750005,
     "end_time": "2023-08-22T07:18:52.230155",
     "exception": false,
     "start_time": "2023-08-22T07:18:50.480150",
     "status": "completed"
    },
    "tags": []
   },
   "outputs": [],
   "source": [
    "import statsmodels.api as sm"
   ]
  },
  {
   "cell_type": "code",
   "execution_count": 30,
   "id": "63f5d213",
   "metadata": {
    "execution": {
     "iopub.execute_input": "2023-08-22T07:18:52.262159Z",
     "iopub.status.busy": "2023-08-22T07:18:52.261776Z",
     "iopub.status.idle": "2023-08-22T07:18:52.307504Z",
     "shell.execute_reply": "2023-08-22T07:18:52.305745Z"
    },
    "papermill": {
     "duration": 0.068891,
     "end_time": "2023-08-22T07:18:52.313584",
     "exception": false,
     "start_time": "2023-08-22T07:18:52.244693",
     "status": "completed"
    },
    "tags": []
   },
   "outputs": [
    {
     "name": "stdout",
     "output_type": "stream",
     "text": [
      "                            OLS Regression Results                            \n",
      "==============================================================================\n",
      "Dep. Variable:                  Close   R-squared:                       0.999\n",
      "Model:                            OLS   Adj. R-squared:                  0.999\n",
      "Method:                 Least Squares   F-statistic:                 2.722e+06\n",
      "Date:                Tue, 22 Aug 2023   Prob (F-statistic):               0.00\n",
      "Time:                        07:18:52   Log-Likelihood:                -29154.\n",
      "No. Observations:                6943   AIC:                         5.832e+04\n",
      "Df Residuals:                    6937   BIC:                         5.836e+04\n",
      "Df Model:                           5                                         \n",
      "Covariance Type:            nonrobust                                         \n",
      "==============================================================================\n",
      "                 coef    std err          t      P>|t|      [0.025      0.975]\n",
      "------------------------------------------------------------------------------\n",
      "const          0.2207      0.247      0.894      0.372      -0.263       0.705\n",
      "lag_1          1.0307      0.012     85.900      0.000       1.007       1.054\n",
      "lag_2         -0.0133      0.017     -0.774      0.439      -0.047       0.020\n",
      "lag_3         -0.0763      0.017     -4.431      0.000      -0.110      -0.043\n",
      "lag_4          0.0228      0.017      1.319      0.187      -0.011       0.057\n",
      "lag_5          0.0365      0.012      3.037      0.002       0.013       0.060\n",
      "==============================================================================\n",
      "Omnibus:                     1930.619   Durbin-Watson:                   1.998\n",
      "Prob(Omnibus):                  0.000   Jarque-Bera (JB):           194843.205\n",
      "Skew:                          -0.204   Prob(JB):                         0.00\n",
      "Kurtosis:                      28.949   Cond. No.                     2.59e+03\n",
      "==============================================================================\n",
      "\n",
      "Notes:\n",
      "[1] Standard Errors assume that the covariance matrix of the errors is correctly specified.\n",
      "[2] The condition number is large, 2.59e+03. This might indicate that there are\n",
      "strong multicollinearity or other numerical problems.\n"
     ]
    }
   ],
   "source": [
    "xc=sm.add_constant(x)\n",
    "model=sm.OLS(y,xc).fit()\n",
    "print(model.summary())"
   ]
  },
  {
   "cell_type": "code",
   "execution_count": null,
   "id": "7ab6abe4",
   "metadata": {
    "papermill": {
     "duration": 0.02956,
     "end_time": "2023-08-22T07:18:52.373781",
     "exception": false,
     "start_time": "2023-08-22T07:18:52.344221",
     "status": "completed"
    },
    "tags": []
   },
   "outputs": [],
   "source": []
  },
  {
   "cell_type": "code",
   "execution_count": null,
   "id": "3dadba19",
   "metadata": {
    "papermill": {
     "duration": 0.020136,
     "end_time": "2023-08-22T07:18:52.422149",
     "exception": false,
     "start_time": "2023-08-22T07:18:52.402013",
     "status": "completed"
    },
    "tags": []
   },
   "outputs": [],
   "source": []
  },
  {
   "cell_type": "code",
   "execution_count": 31,
   "id": "959e2b04",
   "metadata": {
    "execution": {
     "iopub.execute_input": "2023-08-22T07:18:52.456231Z",
     "iopub.status.busy": "2023-08-22T07:18:52.455818Z",
     "iopub.status.idle": "2023-08-22T07:18:52.462379Z",
     "shell.execute_reply": "2023-08-22T07:18:52.460568Z"
    },
    "papermill": {
     "duration": 0.027754,
     "end_time": "2023-08-22T07:18:52.465407",
     "exception": false,
     "start_time": "2023-08-22T07:18:52.437653",
     "status": "completed"
    },
    "tags": []
   },
   "outputs": [],
   "source": [
    "from sklearn.model_selection import train_test_split\n"
   ]
  },
  {
   "cell_type": "code",
   "execution_count": null,
   "id": "791e1db9",
   "metadata": {
    "papermill": {
     "duration": 0.016791,
     "end_time": "2023-08-22T07:18:52.498248",
     "exception": false,
     "start_time": "2023-08-22T07:18:52.481457",
     "status": "completed"
    },
    "tags": []
   },
   "outputs": [],
   "source": []
  },
  {
   "cell_type": "code",
   "execution_count": 32,
   "id": "b87b4bd3",
   "metadata": {
    "execution": {
     "iopub.execute_input": "2023-08-22T07:18:52.537515Z",
     "iopub.status.busy": "2023-08-22T07:18:52.536829Z",
     "iopub.status.idle": "2023-08-22T07:18:52.546249Z",
     "shell.execute_reply": "2023-08-22T07:18:52.544636Z"
    },
    "papermill": {
     "duration": 0.033465,
     "end_time": "2023-08-22T07:18:52.549324",
     "exception": false,
     "start_time": "2023-08-22T07:18:52.515859",
     "status": "completed"
    },
    "tags": []
   },
   "outputs": [],
   "source": [
    "xtrain, xtest, ytrain, ytest = train_test_split(x, y, test_size=0.2, shuffle=False)\n"
   ]
  },
  {
   "cell_type": "code",
   "execution_count": null,
   "id": "d64ffbef",
   "metadata": {
    "papermill": {
     "duration": 0.017123,
     "end_time": "2023-08-22T07:18:52.583768",
     "exception": false,
     "start_time": "2023-08-22T07:18:52.566645",
     "status": "completed"
    },
    "tags": []
   },
   "outputs": [],
   "source": []
  },
  {
   "cell_type": "code",
   "execution_count": 33,
   "id": "f72cbc18",
   "metadata": {
    "execution": {
     "iopub.execute_input": "2023-08-22T07:18:52.620459Z",
     "iopub.status.busy": "2023-08-22T07:18:52.619511Z",
     "iopub.status.idle": "2023-08-22T07:18:52.639251Z",
     "shell.execute_reply": "2023-08-22T07:18:52.637966Z"
    },
    "papermill": {
     "duration": 0.03987,
     "end_time": "2023-08-22T07:18:52.641741",
     "exception": false,
     "start_time": "2023-08-22T07:18:52.601871",
     "status": "completed"
    },
    "tags": []
   },
   "outputs": [
    {
     "data": {
      "text/html": [
       "<style>#sk-container-id-2 {color: black;background-color: white;}#sk-container-id-2 pre{padding: 0;}#sk-container-id-2 div.sk-toggleable {background-color: white;}#sk-container-id-2 label.sk-toggleable__label {cursor: pointer;display: block;width: 100%;margin-bottom: 0;padding: 0.3em;box-sizing: border-box;text-align: center;}#sk-container-id-2 label.sk-toggleable__label-arrow:before {content: \"▸\";float: left;margin-right: 0.25em;color: #696969;}#sk-container-id-2 label.sk-toggleable__label-arrow:hover:before {color: black;}#sk-container-id-2 div.sk-estimator:hover label.sk-toggleable__label-arrow:before {color: black;}#sk-container-id-2 div.sk-toggleable__content {max-height: 0;max-width: 0;overflow: hidden;text-align: left;background-color: #f0f8ff;}#sk-container-id-2 div.sk-toggleable__content pre {margin: 0.2em;color: black;border-radius: 0.25em;background-color: #f0f8ff;}#sk-container-id-2 input.sk-toggleable__control:checked~div.sk-toggleable__content {max-height: 200px;max-width: 100%;overflow: auto;}#sk-container-id-2 input.sk-toggleable__control:checked~label.sk-toggleable__label-arrow:before {content: \"▾\";}#sk-container-id-2 div.sk-estimator input.sk-toggleable__control:checked~label.sk-toggleable__label {background-color: #d4ebff;}#sk-container-id-2 div.sk-label input.sk-toggleable__control:checked~label.sk-toggleable__label {background-color: #d4ebff;}#sk-container-id-2 input.sk-hidden--visually {border: 0;clip: rect(1px 1px 1px 1px);clip: rect(1px, 1px, 1px, 1px);height: 1px;margin: -1px;overflow: hidden;padding: 0;position: absolute;width: 1px;}#sk-container-id-2 div.sk-estimator {font-family: monospace;background-color: #f0f8ff;border: 1px dotted black;border-radius: 0.25em;box-sizing: border-box;margin-bottom: 0.5em;}#sk-container-id-2 div.sk-estimator:hover {background-color: #d4ebff;}#sk-container-id-2 div.sk-parallel-item::after {content: \"\";width: 100%;border-bottom: 1px solid gray;flex-grow: 1;}#sk-container-id-2 div.sk-label:hover label.sk-toggleable__label {background-color: #d4ebff;}#sk-container-id-2 div.sk-serial::before {content: \"\";position: absolute;border-left: 1px solid gray;box-sizing: border-box;top: 0;bottom: 0;left: 50%;z-index: 0;}#sk-container-id-2 div.sk-serial {display: flex;flex-direction: column;align-items: center;background-color: white;padding-right: 0.2em;padding-left: 0.2em;position: relative;}#sk-container-id-2 div.sk-item {position: relative;z-index: 1;}#sk-container-id-2 div.sk-parallel {display: flex;align-items: stretch;justify-content: center;background-color: white;position: relative;}#sk-container-id-2 div.sk-item::before, #sk-container-id-2 div.sk-parallel-item::before {content: \"\";position: absolute;border-left: 1px solid gray;box-sizing: border-box;top: 0;bottom: 0;left: 50%;z-index: -1;}#sk-container-id-2 div.sk-parallel-item {display: flex;flex-direction: column;z-index: 1;position: relative;background-color: white;}#sk-container-id-2 div.sk-parallel-item:first-child::after {align-self: flex-end;width: 50%;}#sk-container-id-2 div.sk-parallel-item:last-child::after {align-self: flex-start;width: 50%;}#sk-container-id-2 div.sk-parallel-item:only-child::after {width: 0;}#sk-container-id-2 div.sk-dashed-wrapped {border: 1px dashed gray;margin: 0 0.4em 0.5em 0.4em;box-sizing: border-box;padding-bottom: 0.4em;background-color: white;}#sk-container-id-2 div.sk-label label {font-family: monospace;font-weight: bold;display: inline-block;line-height: 1.2em;}#sk-container-id-2 div.sk-label-container {text-align: center;}#sk-container-id-2 div.sk-container {/* jupyter's `normalize.less` sets `[hidden] { display: none; }` but bootstrap.min.css set `[hidden] { display: none !important; }` so we also need the `!important` here to be able to override the default hidden behavior on the sphinx rendered scikit-learn.org. See: https://github.com/scikit-learn/scikit-learn/issues/21755 */display: inline-block !important;position: relative;}#sk-container-id-2 div.sk-text-repr-fallback {display: none;}</style><div id=\"sk-container-id-2\" class=\"sk-top-container\"><div class=\"sk-text-repr-fallback\"><pre>LinearRegression()</pre><b>In a Jupyter environment, please rerun this cell to show the HTML representation or trust the notebook. <br />On GitHub, the HTML representation is unable to render, please try loading this page with nbviewer.org.</b></div><div class=\"sk-container\" hidden><div class=\"sk-item\"><div class=\"sk-estimator sk-toggleable\"><input class=\"sk-toggleable__control sk-hidden--visually\" id=\"sk-estimator-id-2\" type=\"checkbox\" checked><label for=\"sk-estimator-id-2\" class=\"sk-toggleable__label sk-toggleable__label-arrow\">LinearRegression</label><div class=\"sk-toggleable__content\"><pre>LinearRegression()</pre></div></div></div></div></div>"
      ],
      "text/plain": [
       "LinearRegression()"
      ]
     },
     "execution_count": 33,
     "metadata": {},
     "output_type": "execute_result"
    }
   ],
   "source": [
    "lr = LinearRegression()\n",
    "lr.fit(xtrain,ytrain)"
   ]
  },
  {
   "cell_type": "code",
   "execution_count": 34,
   "id": "d7e77b19",
   "metadata": {
    "execution": {
     "iopub.execute_input": "2023-08-22T07:18:52.674305Z",
     "iopub.status.busy": "2023-08-22T07:18:52.673782Z",
     "iopub.status.idle": "2023-08-22T07:18:52.688002Z",
     "shell.execute_reply": "2023-08-22T07:18:52.686503Z"
    },
    "papermill": {
     "duration": 0.034329,
     "end_time": "2023-08-22T07:18:52.690850",
     "exception": false,
     "start_time": "2023-08-22T07:18:52.656521",
     "status": "completed"
    },
    "tags": []
   },
   "outputs": [
    {
     "data": {
      "text/plain": [
       "array([ 891.96995393,  896.92155296,  909.10094062, ..., 2527.08547834,\n",
       "       2547.90842803, 2523.11192753])"
      ]
     },
     "execution_count": 34,
     "metadata": {},
     "output_type": "execute_result"
    }
   ],
   "source": [
    "ypred = lr.predict(xtest)\n",
    "ypred"
   ]
  },
  {
   "cell_type": "code",
   "execution_count": 35,
   "id": "503471e6",
   "metadata": {
    "execution": {
     "iopub.execute_input": "2023-08-22T07:18:52.725347Z",
     "iopub.status.busy": "2023-08-22T07:18:52.724837Z",
     "iopub.status.idle": "2023-08-22T07:18:52.734270Z",
     "shell.execute_reply": "2023-08-22T07:18:52.733441Z"
    },
    "papermill": {
     "duration": 0.029847,
     "end_time": "2023-08-22T07:18:52.736856",
     "exception": false,
     "start_time": "2023-08-22T07:18:52.707009",
     "status": "completed"
    },
    "tags": []
   },
   "outputs": [
    {
     "name": "stdout",
     "output_type": "stream",
     "text": [
      "R2-Score: 0.996921571251116\n",
      "Root Mean Squared Error: 33.36530046267764\n"
     ]
    }
   ],
   "source": [
    "from sklearn.metrics import mean_squared_error,r2_score\n",
    "score = r2_score(ytest,ypred)\n",
    "print(f'R2-Score: {score}')\n",
    "rmse = np.sqrt(mean_squared_error(ytest, ypred))\n",
    "print(f'Root Mean Squared Error: {rmse}')"
   ]
  },
  {
   "cell_type": "code",
   "execution_count": 36,
   "id": "13b4c767",
   "metadata": {
    "execution": {
     "iopub.execute_input": "2023-08-22T07:18:52.771059Z",
     "iopub.status.busy": "2023-08-22T07:18:52.770668Z",
     "iopub.status.idle": "2023-08-22T07:18:52.777861Z",
     "shell.execute_reply": "2023-08-22T07:18:52.776721Z"
    },
    "papermill": {
     "duration": 0.027557,
     "end_time": "2023-08-22T07:18:52.780125",
     "exception": false,
     "start_time": "2023-08-22T07:18:52.752568",
     "status": "completed"
    },
    "tags": []
   },
   "outputs": [
    {
     "data": {
      "text/plain": [
       "array([ 891.96995393,  896.92155296,  909.10094062, ..., 2527.08547834,\n",
       "       2547.90842803, 2523.11192753])"
      ]
     },
     "execution_count": 36,
     "metadata": {},
     "output_type": "execute_result"
    }
   ],
   "source": [
    "ypred"
   ]
  },
  {
   "cell_type": "code",
   "execution_count": null,
   "id": "285bfdef",
   "metadata": {
    "execution": {
     "iopub.execute_input": "2023-08-22T07:18:17.851527Z",
     "iopub.status.busy": "2023-08-22T07:18:17.851110Z",
     "iopub.status.idle": "2023-08-22T07:18:17.869735Z",
     "shell.execute_reply": "2023-08-22T07:18:17.868470Z",
     "shell.execute_reply.started": "2023-08-22T07:18:17.851497Z"
    },
    "papermill": {
     "duration": 0.014276,
     "end_time": "2023-08-22T07:18:52.809691",
     "exception": false,
     "start_time": "2023-08-22T07:18:52.795415",
     "status": "completed"
    },
    "tags": []
   },
   "outputs": [],
   "source": []
  },
  {
   "cell_type": "code",
   "execution_count": null,
   "id": "d8ec0507",
   "metadata": {
    "papermill": {
     "duration": 0.014217,
     "end_time": "2023-08-22T07:18:52.838646",
     "exception": false,
     "start_time": "2023-08-22T07:18:52.824429",
     "status": "completed"
    },
    "tags": []
   },
   "outputs": [],
   "source": []
  },
  {
   "cell_type": "code",
   "execution_count": null,
   "id": "066a8c11",
   "metadata": {
    "papermill": {
     "duration": 0.014176,
     "end_time": "2023-08-22T07:18:52.867340",
     "exception": false,
     "start_time": "2023-08-22T07:18:52.853164",
     "status": "completed"
    },
    "tags": []
   },
   "outputs": [],
   "source": []
  }
 ],
 "metadata": {
  "kernelspec": {
   "display_name": "Python 3",
   "language": "python",
   "name": "python3"
  },
  "language_info": {
   "codemirror_mode": {
    "name": "ipython",
    "version": 3
   },
   "file_extension": ".py",
   "mimetype": "text/x-python",
   "name": "python",
   "nbconvert_exporter": "python",
   "pygments_lexer": "ipython3",
   "version": "3.10.12"
  },
  "papermill": {
   "default_parameters": {},
   "duration": 20.654825,
   "end_time": "2023-08-22T07:18:55.254723",
   "environment_variables": {},
   "exception": null,
   "input_path": "__notebook__.ipynb",
   "output_path": "__notebook__.ipynb",
   "parameters": {},
   "start_time": "2023-08-22T07:18:34.599898",
   "version": "2.4.0"
  }
 },
 "nbformat": 4,
 "nbformat_minor": 5
}
