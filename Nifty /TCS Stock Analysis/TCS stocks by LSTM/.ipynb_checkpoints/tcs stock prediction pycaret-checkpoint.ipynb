{
 "cells": [
  {
   "cell_type": "code",
   "execution_count": null,
   "id": "498a6e70",
   "metadata": {
    "execution": {
     "iopub.execute_input": "2021-10-06T04:12:52.315362Z",
     "iopub.status.busy": "2021-10-06T04:12:52.314561Z",
     "iopub.status.idle": "2021-10-06T04:13:28.718965Z",
     "shell.execute_reply": "2021-10-06T04:13:28.717881Z",
     "shell.execute_reply.started": "2021-10-06T04:11:05.617981Z"
    },
    "papermill": {
     "duration": 36.430388,
     "end_time": "2021-10-06T04:13:28.719210",
     "exception": false,
     "start_time": "2021-10-06T04:12:52.288822",
     "status": "completed"
    },
    "tags": []
   },
   "outputs": [
    {
     "name": "stdout",
     "output_type": "stream",
     "text": [
      "Collecting pycaret\n",
      "  Obtaining dependency information for pycaret from https://files.pythonhosted.org/packages/3e/6f/b3d59fac3869a7685e68aecdd35c336800bce8c8d3b45687bb82cf9a2848/pycaret-3.3.2-py3-none-any.whl.metadata\n",
      "  Downloading pycaret-3.3.2-py3-none-any.whl.metadata (17 kB)\n",
      "Requirement already satisfied: ipython>=5.5.0 in /Users/shikarichacha/anaconda3/lib/python3.11/site-packages (from pycaret) (8.15.0)\n",
      "Requirement already satisfied: ipywidgets>=7.6.5 in /Users/shikarichacha/anaconda3/lib/python3.11/site-packages (from pycaret) (8.0.4)\n",
      "Requirement already satisfied: tqdm>=4.62.0 in /Users/shikarichacha/anaconda3/lib/python3.11/site-packages (from pycaret) (4.65.0)\n",
      "Requirement already satisfied: numpy<1.27,>=1.21 in /Users/shikarichacha/anaconda3/lib/python3.11/site-packages (from pycaret) (1.24.3)\n",
      "Requirement already satisfied: pandas<2.2.0 in /Users/shikarichacha/anaconda3/lib/python3.11/site-packages (from pycaret) (2.0.3)\n",
      "Requirement already satisfied: jinja2>=3 in /Users/shikarichacha/anaconda3/lib/python3.11/site-packages (from pycaret) (3.1.2)\n",
      "Requirement already satisfied: scipy<=1.11.4,>=1.6.1 in /Users/shikarichacha/anaconda3/lib/python3.11/site-packages (from pycaret) (1.11.1)\n",
      "Requirement already satisfied: joblib<1.4,>=1.2.0 in /Users/shikarichacha/anaconda3/lib/python3.11/site-packages (from pycaret) (1.2.0)\n",
      "Requirement already satisfied: scikit-learn>1.4.0 in /Users/shikarichacha/anaconda3/lib/python3.11/site-packages (from pycaret) (1.5.0)\n",
      "Collecting pyod>=1.1.3 (from pycaret)\n",
      "  Downloading pyod-2.0.1.tar.gz (163 kB)\n",
      "\u001b[2K     \u001b[90m━━━━━━━━━━━━━━━━━━━━━━━━━━━━━━━━━━━━━━━\u001b[0m \u001b[32m163.8/163.8 kB\u001b[0m \u001b[31m2.7 MB/s\u001b[0m eta \u001b[36m0:00:00\u001b[0ma \u001b[36m0:00:01\u001b[0m\n",
      "\u001b[?25h  Preparing metadata (setup.py) ... \u001b[?25ldone\n",
      "\u001b[?25hCollecting imbalanced-learn>=0.12.0 (from pycaret)\n",
      "  Obtaining dependency information for imbalanced-learn>=0.12.0 from https://files.pythonhosted.org/packages/5a/fa/267de06c95210580f4b82b45cec1ce1e9ce1f21a01a684367db89e7da70d/imbalanced_learn-0.12.3-py3-none-any.whl.metadata\n",
      "  Downloading imbalanced_learn-0.12.3-py3-none-any.whl.metadata (8.3 kB)\n",
      "Collecting category-encoders>=2.4.0 (from pycaret)\n",
      "  Obtaining dependency information for category-encoders>=2.4.0 from https://files.pythonhosted.org/packages/7f/e5/79a62e5c9c9ddbfa9ff5222240d408c1eeea4e38741a0dc8343edc7ef1ec/category_encoders-2.6.3-py2.py3-none-any.whl.metadata\n",
      "  Downloading category_encoders-2.6.3-py2.py3-none-any.whl.metadata (8.0 kB)\n",
      "Collecting lightgbm>=3.0.0 (from pycaret)\n",
      "  Obtaining dependency information for lightgbm>=3.0.0 from https://files.pythonhosted.org/packages/4c/35/81076f4c9b0484d07735aa1ec343e5c2a6d8d59c72a142f0b89fa00258a0/lightgbm-4.4.0-py3-none-macosx_14_0_arm64.whl.metadata\n",
      "  Using cached lightgbm-4.4.0-py3-none-macosx_14_0_arm64.whl.metadata (19 kB)\n",
      "Requirement already satisfied: numba>=0.55.0 in /Users/shikarichacha/anaconda3/lib/python3.11/site-packages (from pycaret) (0.57.1)\n",
      "Requirement already satisfied: requests>=2.27.1 in /Users/shikarichacha/anaconda3/lib/python3.11/site-packages (from pycaret) (2.31.0)\n",
      "Requirement already satisfied: psutil>=5.9.0 in /Users/shikarichacha/anaconda3/lib/python3.11/site-packages (from pycaret) (5.9.0)\n",
      "Requirement already satisfied: markupsafe>=2.0.1 in /Users/shikarichacha/anaconda3/lib/python3.11/site-packages (from pycaret) (2.1.1)\n",
      "Requirement already satisfied: importlib-metadata>=4.12.0 in /Users/shikarichacha/anaconda3/lib/python3.11/site-packages (from pycaret) (6.0.0)\n",
      "Requirement already satisfied: nbformat>=4.2.0 in /Users/shikarichacha/anaconda3/lib/python3.11/site-packages (from pycaret) (5.9.2)\n",
      "Requirement already satisfied: cloudpickle in /Users/shikarichacha/anaconda3/lib/python3.11/site-packages (from pycaret) (2.2.1)\n",
      "Collecting deprecation>=2.1.0 (from pycaret)\n",
      "  Obtaining dependency information for deprecation>=2.1.0 from https://files.pythonhosted.org/packages/02/c3/253a89ee03fc9b9682f1541728eb66db7db22148cd94f89ab22528cd1e1b/deprecation-2.1.0-py2.py3-none-any.whl.metadata\n",
      "  Downloading deprecation-2.1.0-py2.py3-none-any.whl.metadata (4.6 kB)\n",
      "Requirement already satisfied: xxhash in /Users/shikarichacha/anaconda3/lib/python3.11/site-packages (from pycaret) (2.0.2)\n",
      "Requirement already satisfied: matplotlib<3.8.0 in /Users/shikarichacha/anaconda3/lib/python3.11/site-packages (from pycaret) (3.7.2)\n",
      "Collecting scikit-plot>=0.3.7 (from pycaret)\n",
      "  Obtaining dependency information for scikit-plot>=0.3.7 from https://files.pythonhosted.org/packages/7c/47/32520e259340c140a4ad27c1b97050dd3254fdc517b1d59974d47037510e/scikit_plot-0.3.7-py3-none-any.whl.metadata\n",
      "  Downloading scikit_plot-0.3.7-py3-none-any.whl.metadata (7.1 kB)\n",
      "Collecting yellowbrick>=1.4 (from pycaret)\n",
      "  Obtaining dependency information for yellowbrick>=1.4 from https://files.pythonhosted.org/packages/06/35/c7d44bb541c06bc41b3239b27af79ea0ecc7dbb156ee1335576f99c58b91/yellowbrick-1.5-py3-none-any.whl.metadata\n",
      "  Using cached yellowbrick-1.5-py3-none-any.whl.metadata (7.7 kB)\n",
      "Collecting plotly>=5.14.0 (from pycaret)\n",
      "  Obtaining dependency information for plotly>=5.14.0 from https://files.pythonhosted.org/packages/0b/f8/b65cdd2be32e442c4efe7b672f73c90b05eab5a7f3f4115efe181d432c60/plotly-5.22.0-py3-none-any.whl.metadata\n",
      "  Downloading plotly-5.22.0-py3-none-any.whl.metadata (7.1 kB)\n",
      "Requirement already satisfied: kaleido>=0.2.1 in /Users/shikarichacha/anaconda3/lib/python3.11/site-packages (from pycaret) (0.2.1)\n",
      "Collecting schemdraw==0.15 (from pycaret)\n",
      "  Obtaining dependency information for schemdraw==0.15 from https://files.pythonhosted.org/packages/8f/28/8b59385b5b4d89ba9a5710bd5d014e8fdc7823d66e15cb6f867bb0c59adc/schemdraw-0.15-py3-none-any.whl.metadata\n",
      "  Downloading schemdraw-0.15-py3-none-any.whl.metadata (2.2 kB)\n",
      "Collecting plotly-resampler>=0.8.3.1 (from pycaret)\n",
      "  Obtaining dependency information for plotly-resampler>=0.8.3.1 from https://files.pythonhosted.org/packages/b5/4a/45150bb460637d05653940bcb8f9a14b6ba2fb4c0a454485a2fa8088b88e/plotly_resampler-0.10.0-py3-none-any.whl.metadata\n",
      "  Downloading plotly_resampler-0.10.0-py3-none-any.whl.metadata (13 kB)\n",
      "Requirement already satisfied: statsmodels>=0.12.1 in /Users/shikarichacha/anaconda3/lib/python3.11/site-packages (from pycaret) (0.14.0)\n",
      "Collecting sktime==0.26.0 (from pycaret)\n",
      "  Obtaining dependency information for sktime==0.26.0 from https://files.pythonhosted.org/packages/90/4c/ef5aa0d46210e974df138cc014955d2d5acb6d36af0ce1ee145d276e4a35/sktime-0.26.0-py3-none-any.whl.metadata\n",
      "  Downloading sktime-0.26.0-py3-none-any.whl.metadata (29 kB)\n",
      "Collecting tbats>=1.1.3 (from pycaret)\n",
      "  Obtaining dependency information for tbats>=1.1.3 from https://files.pythonhosted.org/packages/63/94/1949dc644c3fa05b736b988dc8058122f8c0187778ff9f18070bce2d4ddd/tbats-1.1.3-py3-none-any.whl.metadata\n",
      "  Downloading tbats-1.1.3-py3-none-any.whl.metadata (3.8 kB)\n",
      "Requirement already satisfied: pmdarima>=2.0.4 in /Users/shikarichacha/anaconda3/lib/python3.11/site-packages (from pycaret) (2.0.4)\n",
      "Requirement already satisfied: wurlitzer in /Users/shikarichacha/anaconda3/lib/python3.11/site-packages (from pycaret) (3.0.2)\n",
      "Requirement already satisfied: packaging in /Users/shikarichacha/anaconda3/lib/python3.11/site-packages (from sktime==0.26.0->pycaret) (23.1)\n",
      "Collecting scikit-base<0.8.0 (from sktime==0.26.0->pycaret)\n",
      "  Obtaining dependency information for scikit-base<0.8.0 from https://files.pythonhosted.org/packages/4b/52/d74060accfcb4b3110d93e684416f2632e3dbff18e2429938a7134f1d800/scikit_base-0.7.8-py3-none-any.whl.metadata\n",
      "  Downloading scikit_base-0.7.8-py3-none-any.whl.metadata (8.8 kB)\n",
      "Collecting scikit-learn>1.4.0 (from pycaret)\n",
      "  Obtaining dependency information for scikit-learn>1.4.0 from https://files.pythonhosted.org/packages/f2/30/1299e84d2ba3bc735baf17cebbf5b9d55144243c41b3ec6559ce3cf61e23/scikit_learn-1.4.2-cp311-cp311-macosx_12_0_arm64.whl.metadata\n",
      "  Using cached scikit_learn-1.4.2-cp311-cp311-macosx_12_0_arm64.whl.metadata (11 kB)\n",
      "Requirement already satisfied: patsy>=0.5.1 in /Users/shikarichacha/anaconda3/lib/python3.11/site-packages (from category-encoders>=2.4.0->pycaret) (0.5.3)\n",
      "Requirement already satisfied: threadpoolctl>=2.0.0 in /Users/shikarichacha/anaconda3/lib/python3.11/site-packages (from imbalanced-learn>=0.12.0->pycaret) (3.5.0)\n"
     ]
    },
    {
     "name": "stdout",
     "output_type": "stream",
     "text": [
      "Requirement already satisfied: zipp>=0.5 in /Users/shikarichacha/anaconda3/lib/python3.11/site-packages (from importlib-metadata>=4.12.0->pycaret) (3.11.0)\n",
      "Requirement already satisfied: backcall in /Users/shikarichacha/anaconda3/lib/python3.11/site-packages (from ipython>=5.5.0->pycaret) (0.2.0)\n",
      "Requirement already satisfied: decorator in /Users/shikarichacha/anaconda3/lib/python3.11/site-packages (from ipython>=5.5.0->pycaret) (5.1.1)\n",
      "Requirement already satisfied: jedi>=0.16 in /Users/shikarichacha/anaconda3/lib/python3.11/site-packages (from ipython>=5.5.0->pycaret) (0.18.1)\n",
      "Requirement already satisfied: matplotlib-inline in /Users/shikarichacha/anaconda3/lib/python3.11/site-packages (from ipython>=5.5.0->pycaret) (0.1.6)\n",
      "Requirement already satisfied: pickleshare in /Users/shikarichacha/anaconda3/lib/python3.11/site-packages (from ipython>=5.5.0->pycaret) (0.7.5)\n",
      "Requirement already satisfied: prompt-toolkit!=3.0.37,<3.1.0,>=3.0.30 in /Users/shikarichacha/anaconda3/lib/python3.11/site-packages (from ipython>=5.5.0->pycaret) (3.0.36)\n",
      "Requirement already satisfied: pygments>=2.4.0 in /Users/shikarichacha/anaconda3/lib/python3.11/site-packages (from ipython>=5.5.0->pycaret) (2.15.1)\n",
      "Requirement already satisfied: stack-data in /Users/shikarichacha/anaconda3/lib/python3.11/site-packages (from ipython>=5.5.0->pycaret) (0.2.0)\n",
      "Requirement already satisfied: traitlets>=5 in /Users/shikarichacha/anaconda3/lib/python3.11/site-packages (from ipython>=5.5.0->pycaret) (5.7.1)\n",
      "Requirement already satisfied: pexpect>4.3 in /Users/shikarichacha/anaconda3/lib/python3.11/site-packages (from ipython>=5.5.0->pycaret) (4.8.0)\n",
      "Requirement already satisfied: appnope in /Users/shikarichacha/anaconda3/lib/python3.11/site-packages (from ipython>=5.5.0->pycaret) (0.1.2)\n",
      "Requirement already satisfied: ipykernel>=4.5.1 in /Users/shikarichacha/anaconda3/lib/python3.11/site-packages (from ipywidgets>=7.6.5->pycaret) (6.25.0)\n",
      "Requirement already satisfied: widgetsnbextension~=4.0 in /Users/shikarichacha/anaconda3/lib/python3.11/site-packages (from ipywidgets>=7.6.5->pycaret) (4.0.5)\n",
      "Requirement already satisfied: jupyterlab-widgets~=3.0 in /Users/shikarichacha/anaconda3/lib/python3.11/site-packages (from ipywidgets>=7.6.5->pycaret) (3.0.5)\n",
      "Requirement already satisfied: contourpy>=1.0.1 in /Users/shikarichacha/anaconda3/lib/python3.11/site-packages (from matplotlib<3.8.0->pycaret) (1.0.5)\n",
      "Requirement already satisfied: cycler>=0.10 in /Users/shikarichacha/anaconda3/lib/python3.11/site-packages (from matplotlib<3.8.0->pycaret) (0.11.0)\n",
      "Requirement already satisfied: fonttools>=4.22.0 in /Users/shikarichacha/anaconda3/lib/python3.11/site-packages (from matplotlib<3.8.0->pycaret) (4.25.0)\n",
      "Requirement already satisfied: kiwisolver>=1.0.1 in /Users/shikarichacha/anaconda3/lib/python3.11/site-packages (from matplotlib<3.8.0->pycaret) (1.4.4)\n",
      "Requirement already satisfied: pillow>=6.2.0 in /Users/shikarichacha/anaconda3/lib/python3.11/site-packages (from matplotlib<3.8.0->pycaret) (10.0.1)\n",
      "Requirement already satisfied: pyparsing<3.1,>=2.3.1 in /Users/shikarichacha/anaconda3/lib/python3.11/site-packages (from matplotlib<3.8.0->pycaret) (3.0.9)\n",
      "Requirement already satisfied: python-dateutil>=2.7 in /Users/shikarichacha/anaconda3/lib/python3.11/site-packages (from matplotlib<3.8.0->pycaret) (2.8.2)\n",
      "Requirement already satisfied: fastjsonschema in /Users/shikarichacha/anaconda3/lib/python3.11/site-packages (from nbformat>=4.2.0->pycaret) (2.16.2)\n",
      "Requirement already satisfied: jsonschema>=2.6 in /Users/shikarichacha/anaconda3/lib/python3.11/site-packages (from nbformat>=4.2.0->pycaret) (4.17.3)\n",
      "Requirement already satisfied: jupyter-core in /Users/shikarichacha/anaconda3/lib/python3.11/site-packages (from nbformat>=4.2.0->pycaret) (5.3.0)\n",
      "Requirement already satisfied: llvmlite<0.41,>=0.40.0dev0 in /Users/shikarichacha/anaconda3/lib/python3.11/site-packages (from numba>=0.55.0->pycaret) (0.40.0)\n",
      "Requirement already satisfied: pytz>=2020.1 in /Users/shikarichacha/anaconda3/lib/python3.11/site-packages (from pandas<2.2.0->pycaret) (2023.3.post1)\n",
      "Requirement already satisfied: tzdata>=2022.1 in /Users/shikarichacha/anaconda3/lib/python3.11/site-packages (from pandas<2.2.0->pycaret) (2023.3)\n",
      "Requirement already satisfied: tenacity>=6.2.0 in /Users/shikarichacha/anaconda3/lib/python3.11/site-packages (from plotly>=5.14.0->pycaret) (8.2.2)\n",
      "Collecting dash>=2.9.0 (from plotly-resampler>=0.8.3.1->pycaret)\n",
      "  Obtaining dependency information for dash>=2.9.0 from https://files.pythonhosted.org/packages/27/ad/7047095224013ec2ae37ba8ece5956773e7953c39a3af5aa20d821ed99aa/dash-2.17.1-py3-none-any.whl.metadata\n",
      "  Downloading dash-2.17.1-py3-none-any.whl.metadata (10 kB)\n",
      "Requirement already satisfied: orjson<4.0.0,>=3.8.0 in /Users/shikarichacha/anaconda3/lib/python3.11/site-packages (from plotly-resampler>=0.8.3.1->pycaret) (3.10.1)\n",
      "Collecting tsdownsample>=0.1.3 (from plotly-resampler>=0.8.3.1->pycaret)\n",
      "  Obtaining dependency information for tsdownsample>=0.1.3 from https://files.pythonhosted.org/packages/50/53/20e415e48ebd7fb7f39b369dd25734b82eae7217ff58bbf49b2a0c677743/tsdownsample-0.1.3-cp311-cp311-macosx_11_0_arm64.whl.metadata\n",
      "  Downloading tsdownsample-0.1.3-cp311-cp311-macosx_11_0_arm64.whl.metadata (7.9 kB)\n",
      "Requirement already satisfied: Cython!=0.29.18,!=0.29.31,>=0.29 in /Users/shikarichacha/anaconda3/lib/python3.11/site-packages (from pmdarima>=2.0.4->pycaret) (3.0.10)\n",
      "Requirement already satisfied: urllib3 in /Users/shikarichacha/anaconda3/lib/python3.11/site-packages (from pmdarima>=2.0.4->pycaret) (2.2.1)\n",
      "Requirement already satisfied: setuptools!=50.0.0,>=38.6.0 in /Users/shikarichacha/anaconda3/lib/python3.11/site-packages (from pmdarima>=2.0.4->pycaret) (69.0.3)\n",
      "Requirement already satisfied: charset-normalizer<4,>=2 in /Users/shikarichacha/anaconda3/lib/python3.11/site-packages (from requests>=2.27.1->pycaret) (2.0.4)\n",
      "Requirement already satisfied: idna<4,>=2.5 in /Users/shikarichacha/anaconda3/lib/python3.11/site-packages (from requests>=2.27.1->pycaret) (3.4)\n",
      "Requirement already satisfied: certifi>=2017.4.17 in /Users/shikarichacha/anaconda3/lib/python3.11/site-packages (from requests>=2.27.1->pycaret) (2023.11.17)\n",
      "Requirement already satisfied: Flask<3.1,>=1.0.4 in /Users/shikarichacha/anaconda3/lib/python3.11/site-packages (from dash>=2.9.0->plotly-resampler>=0.8.3.1->pycaret) (2.2.2)\n",
      "Requirement already satisfied: Werkzeug<3.1 in /Users/shikarichacha/anaconda3/lib/python3.11/site-packages (from dash>=2.9.0->plotly-resampler>=0.8.3.1->pycaret) (2.2.3)\n",
      "Collecting dash-html-components==2.0.0 (from dash>=2.9.0->plotly-resampler>=0.8.3.1->pycaret)\n",
      "  Obtaining dependency information for dash-html-components==2.0.0 from https://files.pythonhosted.org/packages/75/65/1b16b853844ef59b2742a7de74a598f376ac0ab581f0dcc34db294e5c90e/dash_html_components-2.0.0-py3-none-any.whl.metadata\n",
      "  Downloading dash_html_components-2.0.0-py3-none-any.whl.metadata (3.8 kB)\n",
      "Collecting dash-core-components==2.0.0 (from dash>=2.9.0->plotly-resampler>=0.8.3.1->pycaret)\n",
      "  Obtaining dependency information for dash-core-components==2.0.0 from https://files.pythonhosted.org/packages/00/9e/a29f726e84e531a36d56cff187e61d8c96d2cc253c5bcef9a7695acb7e6a/dash_core_components-2.0.0-py3-none-any.whl.metadata\n",
      "  Downloading dash_core_components-2.0.0-py3-none-any.whl.metadata (2.9 kB)\n",
      "Collecting dash-table==5.0.0 (from dash>=2.9.0->plotly-resampler>=0.8.3.1->pycaret)\n",
      "  Obtaining dependency information for dash-table==5.0.0 from https://files.pythonhosted.org/packages/da/ce/43f77dc8e7bbad02a9f88d07bf794eaf68359df756a28bb9f2f78e255bb1/dash_table-5.0.0-py3-none-any.whl.metadata\n",
      "  Downloading dash_table-5.0.0-py3-none-any.whl.metadata (2.4 kB)\n",
      "Requirement already satisfied: typing-extensions>=4.1.1 in /Users/shikarichacha/anaconda3/lib/python3.11/site-packages (from dash>=2.9.0->plotly-resampler>=0.8.3.1->pycaret) (4.11.0)\n",
      "Collecting retrying (from dash>=2.9.0->plotly-resampler>=0.8.3.1->pycaret)\n",
      "  Obtaining dependency information for retrying from https://files.pythonhosted.org/packages/8f/04/9e36f28be4c0532c0e9207ff9dc01fb13a2b0eb036476a213b0000837d0e/retrying-1.3.4-py3-none-any.whl.metadata\n",
      "  Downloading retrying-1.3.4-py3-none-any.whl.metadata (6.9 kB)\n",
      "Requirement already satisfied: nest-asyncio in /Users/shikarichacha/anaconda3/lib/python3.11/site-packages (from dash>=2.9.0->plotly-resampler>=0.8.3.1->pycaret) (1.5.6)\n"
     ]
    },
    {
     "name": "stdout",
     "output_type": "stream",
     "text": [
      "Requirement already satisfied: comm>=0.1.1 in /Users/shikarichacha/anaconda3/lib/python3.11/site-packages (from ipykernel>=4.5.1->ipywidgets>=7.6.5->pycaret) (0.1.2)\n",
      "Requirement already satisfied: debugpy>=1.6.5 in /Users/shikarichacha/anaconda3/lib/python3.11/site-packages (from ipykernel>=4.5.1->ipywidgets>=7.6.5->pycaret) (1.6.7)\n",
      "Requirement already satisfied: jupyter-client>=6.1.12 in /Users/shikarichacha/anaconda3/lib/python3.11/site-packages (from ipykernel>=4.5.1->ipywidgets>=7.6.5->pycaret) (7.4.9)\n",
      "Requirement already satisfied: pyzmq>=20 in /Users/shikarichacha/anaconda3/lib/python3.11/site-packages (from ipykernel>=4.5.1->ipywidgets>=7.6.5->pycaret) (23.2.0)\n",
      "Requirement already satisfied: tornado>=6.1 in /Users/shikarichacha/anaconda3/lib/python3.11/site-packages (from ipykernel>=4.5.1->ipywidgets>=7.6.5->pycaret) (6.3.2)\n",
      "Requirement already satisfied: parso<0.9.0,>=0.8.0 in /Users/shikarichacha/anaconda3/lib/python3.11/site-packages (from jedi>=0.16->ipython>=5.5.0->pycaret) (0.8.3)\n",
      "Requirement already satisfied: attrs>=17.4.0 in /Users/shikarichacha/anaconda3/lib/python3.11/site-packages (from jsonschema>=2.6->nbformat>=4.2.0->pycaret) (23.2.0)\n",
      "Requirement already satisfied: pyrsistent!=0.17.0,!=0.17.1,!=0.17.2,>=0.14.0 in /Users/shikarichacha/anaconda3/lib/python3.11/site-packages (from jsonschema>=2.6->nbformat>=4.2.0->pycaret) (0.18.0)\n",
      "Requirement already satisfied: platformdirs>=2.5 in /Users/shikarichacha/anaconda3/lib/python3.11/site-packages (from jupyter-core->nbformat>=4.2.0->pycaret) (3.10.0)\n",
      "Requirement already satisfied: six in /Users/shikarichacha/anaconda3/lib/python3.11/site-packages (from patsy>=0.5.1->category-encoders>=2.4.0->pycaret) (1.16.0)\n",
      "Requirement already satisfied: ptyprocess>=0.5 in /Users/shikarichacha/anaconda3/lib/python3.11/site-packages (from pexpect>4.3->ipython>=5.5.0->pycaret) (0.7.0)\n",
      "Requirement already satisfied: wcwidth in /Users/shikarichacha/anaconda3/lib/python3.11/site-packages (from prompt-toolkit!=3.0.37,<3.1.0,>=3.0.30->ipython>=5.5.0->pycaret) (0.2.5)\n",
      "Requirement already satisfied: executing in /Users/shikarichacha/anaconda3/lib/python3.11/site-packages (from stack-data->ipython>=5.5.0->pycaret) (0.8.3)\n",
      "Requirement already satisfied: asttokens in /Users/shikarichacha/anaconda3/lib/python3.11/site-packages (from stack-data->ipython>=5.5.0->pycaret) (2.0.5)\n",
      "Requirement already satisfied: pure-eval in /Users/shikarichacha/anaconda3/lib/python3.11/site-packages (from stack-data->ipython>=5.5.0->pycaret) (0.2.2)\n",
      "Requirement already satisfied: itsdangerous>=2.0 in /Users/shikarichacha/anaconda3/lib/python3.11/site-packages (from Flask<3.1,>=1.0.4->dash>=2.9.0->plotly-resampler>=0.8.3.1->pycaret) (2.0.1)\n",
      "Requirement already satisfied: click>=8.0 in /Users/shikarichacha/anaconda3/lib/python3.11/site-packages (from Flask<3.1,>=1.0.4->dash>=2.9.0->plotly-resampler>=0.8.3.1->pycaret) (8.0.4)\n",
      "Requirement already satisfied: entrypoints in /Users/shikarichacha/anaconda3/lib/python3.11/site-packages (from jupyter-client>=6.1.12->ipykernel>=4.5.1->ipywidgets>=7.6.5->pycaret) (0.4)\n",
      "Downloading pycaret-3.3.2-py3-none-any.whl (486 kB)\n",
      "\u001b[2K   \u001b[90m━━━━━━━━━━━━━━━━━━━━━━━━━━━━━━━━━━━━━━━━\u001b[0m \u001b[32m486.1/486.1 kB\u001b[0m \u001b[31m9.9 MB/s\u001b[0m eta \u001b[36m0:00:00\u001b[0mta \u001b[36m0:00:01\u001b[0m\n",
      "\u001b[?25hDownloading schemdraw-0.15-py3-none-any.whl (106 kB)\n",
      "\u001b[2K   \u001b[90m━━━━━━━━━━━━━━━━━━━━━━━━━━━━━━━━━━━━━━━━\u001b[0m \u001b[32m106.8/106.8 kB\u001b[0m \u001b[31m9.7 MB/s\u001b[0m eta \u001b[36m0:00:00\u001b[0m\n",
      "\u001b[?25hDownloading sktime-0.26.0-py3-none-any.whl (21.8 MB)\n",
      "\u001b[2K   \u001b[90m━━━━━━━━━━━━━━━━━━━━━━━━━━━━━━━━━━━━━━━━\u001b[0m \u001b[32m21.8/21.8 MB\u001b[0m \u001b[31m17.9 MB/s\u001b[0m eta \u001b[36m0:00:00\u001b[0m00:01\u001b[0m00:01\u001b[0m\n",
      "\u001b[?25hDownloading category_encoders-2.6.3-py2.py3-none-any.whl (81 kB)\n",
      "\u001b[2K   \u001b[90m━━━━━━━━━━━━━━━━━━━━━━━━━━━━━━━━━━━━━━━━\u001b[0m \u001b[32m81.9/81.9 kB\u001b[0m \u001b[31m12.8 MB/s\u001b[0m eta \u001b[36m0:00:00\u001b[0m\n",
      "\u001b[?25hDownloading deprecation-2.1.0-py2.py3-none-any.whl (11 kB)\n",
      "Downloading imbalanced_learn-0.12.3-py3-none-any.whl (258 kB)\n",
      "\u001b[2K   \u001b[90m━━━━━━━━━━━━━━━━━━━━━━━━━━━━━━━━━━━━━━━━\u001b[0m \u001b[32m258.3/258.3 kB\u001b[0m \u001b[31m18.3 MB/s\u001b[0m eta \u001b[36m0:00:00\u001b[0m\n",
      "\u001b[?25hDownloading lightgbm-4.4.0-py3-none-macosx_14_0_arm64.whl (1.6 MB)\n",
      "\u001b[2K   \u001b[90m━━━━━━━━━━━━━━━━━━━━━━━━━━━━━━━━━━━━━━━━\u001b[0m \u001b[32m1.6/1.6 MB\u001b[0m \u001b[31m31.2 MB/s\u001b[0m eta \u001b[36m0:00:00\u001b[0ma \u001b[36m0:00:01\u001b[0m\n",
      "\u001b[?25hDownloading plotly-5.22.0-py3-none-any.whl (16.4 MB)\n",
      "\u001b[2K   \u001b[90m━━━━━━━━━━━━━━━━━━━━━━━━━━━━━━━━━━━━━━━━\u001b[0m \u001b[32m16.4/16.4 MB\u001b[0m \u001b[31m40.7 MB/s\u001b[0m eta \u001b[36m0:00:00\u001b[0m00:01\u001b[0m00:01\u001b[0m\n",
      "\u001b[?25hDownloading plotly_resampler-0.10.0-py3-none-any.whl (80 kB)\n",
      "\u001b[2K   \u001b[90m━━━━━━━━━━━━━━━━━━━━━━━━━━━━━━━━━━━━━━━━\u001b[0m \u001b[32m80.7/80.7 kB\u001b[0m \u001b[31m9.3 MB/s\u001b[0m eta \u001b[36m0:00:00\u001b[0m\n",
      "\u001b[?25hUsing cached scikit_learn-1.4.2-cp311-cp311-macosx_12_0_arm64.whl (10.5 MB)\n",
      "Downloading scikit_plot-0.3.7-py3-none-any.whl (33 kB)\n",
      "Downloading tbats-1.1.3-py3-none-any.whl (44 kB)\n",
      "\u001b[2K   \u001b[90m━━━━━━━━━━━━━━━━━━━━━━━━━━━━━━━━━━━━━━━━\u001b[0m \u001b[32m44.0/44.0 kB\u001b[0m \u001b[31m5.2 MB/s\u001b[0m eta \u001b[36m0:00:00\u001b[0m\n",
      "\u001b[?25hDownloading yellowbrick-1.5-py3-none-any.whl (282 kB)\n",
      "\u001b[2K   \u001b[90m━━━━━━━━━━━━━━━━━━━━━━━━━━━━━━━━━━━━━━━━\u001b[0m \u001b[32m282.6/282.6 kB\u001b[0m \u001b[31m35.7 MB/s\u001b[0m eta \u001b[36m0:00:00\u001b[0m\n",
      "\u001b[?25hDownloading dash-2.17.1-py3-none-any.whl (7.5 MB)\n",
      "\u001b[2K   \u001b[90m━━━━━━━━━━━━━━━━━━━━━━━━━━━━━━━━━━━━━━━━\u001b[0m \u001b[32m7.5/7.5 MB\u001b[0m \u001b[31m32.7 MB/s\u001b[0m eta \u001b[36m0:00:00\u001b[0m00:01\u001b[0m00:01\u001b[0m\n",
      "\u001b[?25hDownloading dash_core_components-2.0.0-py3-none-any.whl (3.8 kB)\n",
      "Downloading dash_html_components-2.0.0-py3-none-any.whl (4.1 kB)\n",
      "Downloading dash_table-5.0.0-py3-none-any.whl (3.9 kB)\n",
      "Downloading scikit_base-0.7.8-py3-none-any.whl (130 kB)\n",
      "\u001b[2K   \u001b[90m━━━━━━━━━━━━━━━━━━━━━━━━━━━━━━━━━━━━━━━━\u001b[0m \u001b[32m130.1/130.1 kB\u001b[0m \u001b[31m13.2 MB/s\u001b[0m eta \u001b[36m0:00:00\u001b[0m\n",
      "\u001b[?25hDownloading tsdownsample-0.1.3-cp311-cp311-macosx_11_0_arm64.whl (1.1 MB)\n",
      "\u001b[2K   \u001b[90m━━━━━━━━━━━━━━━━━━━━━━━━━━━━━━━━━━━━━━━━\u001b[0m \u001b[32m1.1/1.1 MB\u001b[0m \u001b[31m25.6 MB/s\u001b[0m eta \u001b[36m0:00:00\u001b[0m00:01\u001b[0m\n",
      "\u001b[?25hDownloading retrying-1.3.4-py3-none-any.whl (11 kB)\n",
      "Building wheels for collected packages: pyod\n",
      "  Building wheel for pyod (setup.py) ... \u001b[?25ldone\n",
      "\u001b[?25h  Created wheel for pyod: filename=pyod-2.0.1-py3-none-any.whl size=193267 sha256=cebe66403243aa589ea48393a97e0ead6257f96d2099140d2d60567c576bea63\n",
      "  Stored in directory: /Users/shikarichacha/Library/Caches/pip/wheels/60/c9/a5/1c4c4f7da35f31ae2f79002aa0d84cf79ffb9fa17bc2b4ff15\n",
      "Successfully built pyod\n",
      "Installing collected packages: dash-table, dash-html-components, dash-core-components, tsdownsample, scikit-base, schemdraw, retrying, plotly, deprecation, scikit-learn, lightgbm, yellowbrick, sktime, scikit-plot, pyod, imbalanced-learn, dash, plotly-resampler, category-encoders, tbats, pycaret\n",
      "  Attempting uninstall: plotly\n",
      "    Found existing installation: plotly 5.9.0\n",
      "    Uninstalling plotly-5.9.0:\n",
      "      Successfully uninstalled plotly-5.9.0\n"
     ]
    }
   ],
   "source": [
    "!pip install pycaret "
   ]
  },
  {
   "cell_type": "code",
   "execution_count": null,
   "id": "cf4e6014",
   "metadata": {
    "execution": {
     "iopub.execute_input": "2021-10-06T04:13:28.888368Z",
     "iopub.status.busy": "2021-10-06T04:13:28.885583Z",
     "iopub.status.idle": "2021-10-06T04:13:32.563378Z",
     "shell.execute_reply": "2021-10-06T04:13:32.562740Z",
     "shell.execute_reply.started": "2021-10-06T04:11:13.832094Z"
    },
    "papermill": {
     "duration": 3.758694,
     "end_time": "2021-10-06T04:13:32.563516",
     "exception": false,
     "start_time": "2021-10-06T04:13:28.804822",
     "status": "completed"
    },
    "tags": []
   },
   "outputs": [],
   "source": [
    "import pandas as pd\n",
    "import matplotlib.pyplot as plt\n",
    "from pycaret.internal.pycaret_experiment import TimeSeriesExperiment\n",
    "from sktime.utils.plotting import plot_series"
   ]
  },
  {
   "cell_type": "code",
   "execution_count": null,
   "id": "682e4d7e",
   "metadata": {
    "execution": {
     "iopub.execute_input": "2021-10-06T04:13:32.703893Z",
     "iopub.status.busy": "2021-10-06T04:13:32.700703Z",
     "iopub.status.idle": "2021-10-06T04:13:32.757344Z",
     "shell.execute_reply": "2021-10-06T04:13:32.756708Z",
     "shell.execute_reply.started": "2021-10-06T04:11:13.838602Z"
    },
    "papermill": {
     "duration": 0.126406,
     "end_time": "2021-10-06T04:13:32.757500",
     "exception": false,
     "start_time": "2021-10-06T04:13:32.631094",
     "status": "completed"
    },
    "tags": []
   },
   "outputs": [],
   "source": [
    "data0=pd.read_csv('TCS_stock_history.csv')\n",
    "data0.head()"
   ]
  },
  {
   "cell_type": "code",
   "execution_count": null,
   "id": "c2a8b38a",
   "metadata": {
    "execution": {
     "iopub.execute_input": "2021-10-06T04:13:32.898117Z",
     "iopub.status.busy": "2021-10-06T04:13:32.897552Z",
     "iopub.status.idle": "2021-10-06T04:13:32.921339Z",
     "shell.execute_reply": "2021-10-06T04:13:32.920839Z",
     "shell.execute_reply.started": "2021-10-06T04:11:13.880318Z"
    },
    "papermill": {
     "duration": 0.095103,
     "end_time": "2021-10-06T04:13:32.921481",
     "exception": false,
     "start_time": "2021-10-06T04:13:32.826378",
     "status": "completed"
    },
    "tags": []
   },
   "outputs": [],
   "source": [
    "data1=data0[['Date','Close']]\n",
    "data1.info()"
   ]
  },
  {
   "cell_type": "code",
   "execution_count": null,
   "id": "b770f843",
   "metadata": {
    "execution": {
     "iopub.execute_input": "2021-10-06T04:13:33.063951Z",
     "iopub.status.busy": "2021-10-06T04:13:33.063220Z",
     "iopub.status.idle": "2021-10-06T04:13:33.077985Z",
     "shell.execute_reply": "2021-10-06T04:13:33.078447Z",
     "shell.execute_reply.started": "2021-10-06T04:11:13.907696Z"
    },
    "papermill": {
     "duration": 0.089222,
     "end_time": "2021-10-06T04:13:33.078605",
     "exception": false,
     "start_time": "2021-10-06T04:13:32.989383",
     "status": "completed"
    },
    "tags": []
   },
   "outputs": [],
   "source": [
    "data1 = data1.sort_values('Date',ascending=True)\n",
    "data1.index = pd.DatetimeIndex(data1[\"Date\"])\n",
    "data1.drop([\"Date\"],axis=1,inplace=True)\n",
    "data1"
   ]
  },
  {
   "cell_type": "code",
   "execution_count": null,
   "id": "21b43c72",
   "metadata": {
    "execution": {
     "iopub.execute_input": "2021-10-06T04:13:33.226771Z",
     "iopub.status.busy": "2021-10-06T04:13:33.225956Z",
     "iopub.status.idle": "2021-10-06T04:13:33.244230Z",
     "shell.execute_reply": "2021-10-06T04:13:33.244622Z",
     "shell.execute_reply.started": "2021-10-06T04:11:13.936125Z"
    },
    "papermill": {
     "duration": 0.091114,
     "end_time": "2021-10-06T04:13:33.244808",
     "exception": false,
     "start_time": "2021-10-06T04:13:33.153694",
     "status": "completed"
    },
    "tags": []
   },
   "outputs": [],
   "source": [
    "data1 = data1.asfreq('d')\n",
    "data1.info()"
   ]
  },
  {
   "cell_type": "code",
   "execution_count": null,
   "id": "2deb1e59",
   "metadata": {
    "execution": {
     "iopub.execute_input": "2021-10-06T04:13:33.404352Z",
     "iopub.status.busy": "2021-10-06T04:13:33.393197Z",
     "iopub.status.idle": "2021-10-06T04:13:33.407238Z",
     "shell.execute_reply": "2021-10-06T04:13:33.407651Z",
     "shell.execute_reply.started": "2021-10-06T04:11:13.958552Z"
    },
    "papermill": {
     "duration": 0.091398,
     "end_time": "2021-10-06T04:13:33.407842",
     "exception": false,
     "start_time": "2021-10-06T04:13:33.316444",
     "status": "completed"
    },
    "tags": []
   },
   "outputs": [],
   "source": [
    "data2=data1.fillna(method='ffill')\n",
    "data2.info()"
   ]
  },
  {
   "cell_type": "code",
   "execution_count": null,
   "id": "0a1fc27e",
   "metadata": {
    "_kg_hide-output": true,
    "execution": {
     "iopub.execute_input": "2021-10-06T04:13:33.558161Z",
     "iopub.status.busy": "2021-10-06T04:13:33.557035Z",
     "iopub.status.idle": "2021-10-06T04:13:33.563153Z",
     "shell.execute_reply": "2021-10-06T04:13:33.563734Z",
     "shell.execute_reply.started": "2021-10-06T04:11:13.975191Z"
    },
    "papermill": {
     "duration": 0.085245,
     "end_time": "2021-10-06T04:13:33.563898",
     "exception": false,
     "start_time": "2021-10-06T04:13:33.478653",
     "status": "completed"
    },
    "tags": []
   },
   "outputs": [],
   "source": [
    "# data must be univariate\n",
    "data=data2.Close\n",
    "print(type(data))\n",
    "data"
   ]
  },
  {
   "cell_type": "code",
   "execution_count": null,
   "id": "8457014f",
   "metadata": {
    "execution": {
     "iopub.execute_input": "2021-10-06T04:13:33.710956Z",
     "iopub.status.busy": "2021-10-06T04:13:33.710153Z",
     "iopub.status.idle": "2021-10-06T04:13:34.507088Z",
     "shell.execute_reply": "2021-10-06T04:13:34.507549Z",
     "shell.execute_reply.started": "2021-10-06T04:11:13.999678Z"
    },
    "papermill": {
     "duration": 0.872022,
     "end_time": "2021-10-06T04:13:34.507723",
     "exception": false,
     "start_time": "2021-10-06T04:13:33.635701",
     "status": "completed"
    },
    "tags": []
   },
   "outputs": [],
   "source": [
    "# plot_series\n",
    "_ =plot_series(data)\n",
    "plt.xticks(rotation=90)\n",
    "plt.grid()"
   ]
  },
  {
   "cell_type": "code",
   "execution_count": null,
   "id": "12b36ad5",
   "metadata": {
    "execution": {
     "iopub.execute_input": "2021-10-06T04:13:34.671271Z",
     "iopub.status.busy": "2021-10-06T04:13:34.670596Z",
     "iopub.status.idle": "2021-10-06T04:13:35.952813Z",
     "shell.execute_reply": "2021-10-06T04:13:35.952366Z",
     "shell.execute_reply.started": "2021-10-06T04:11:14.770661Z"
    },
    "papermill": {
     "duration": 1.369368,
     "end_time": "2021-10-06T04:13:35.952948",
     "exception": false,
     "start_time": "2021-10-06T04:13:34.583580",
     "status": "completed"
    },
    "tags": []
   },
   "outputs": [],
   "source": [
    "#TimeSeriesExperiment from pycarat\n",
    "exp = TimeSeriesExperiment()\n",
    "exp.setup(data=data,session_id=42,fh=50) # fh:days of prediction"
   ]
  },
  {
   "cell_type": "code",
   "execution_count": null,
   "id": "9270e904",
   "metadata": {
    "execution": {
     "iopub.execute_input": "2021-10-06T04:13:36.105072Z",
     "iopub.status.busy": "2021-10-06T04:13:36.104197Z",
     "iopub.status.idle": "2021-10-06T04:13:42.429993Z",
     "shell.execute_reply": "2021-10-06T04:13:42.430514Z",
     "shell.execute_reply.started": "2021-10-06T04:11:16.377663Z"
    },
    "papermill": {
     "duration": 6.403599,
     "end_time": "2021-10-06T04:13:42.430683",
     "exception": false,
     "start_time": "2021-10-06T04:13:36.027084",
     "status": "completed"
    },
    "tags": []
   },
   "outputs": [],
   "source": [
    "#ARIMA\n",
    "model = exp.create_model(\"arima\")\n",
    "model"
   ]
  },
  {
   "cell_type": "code",
   "execution_count": null,
   "id": "bf473f88",
   "metadata": {
    "execution": {
     "iopub.execute_input": "2021-10-06T04:13:42.582726Z",
     "iopub.status.busy": "2021-10-06T04:13:42.581827Z",
     "iopub.status.idle": "2021-10-06T04:13:42.590984Z",
     "shell.execute_reply": "2021-10-06T04:13:42.590468Z",
     "shell.execute_reply.started": "2021-10-06T04:11:23.415977Z"
    },
    "papermill": {
     "duration": 0.085201,
     "end_time": "2021-10-06T04:13:42.591110",
     "exception": false,
     "start_time": "2021-10-06T04:13:42.505909",
     "status": "completed"
    },
    "tags": []
   },
   "outputs": [],
   "source": [
    "y_train = exp.get_config(\"y_train\")\n",
    "y_train[:5]"
   ]
  },
  {
   "cell_type": "code",
   "execution_count": null,
   "id": "a2c181b0",
   "metadata": {
    "execution": {
     "iopub.execute_input": "2021-10-06T04:13:42.748439Z",
     "iopub.status.busy": "2021-10-06T04:13:42.747777Z",
     "iopub.status.idle": "2021-10-06T04:13:43.996080Z",
     "shell.execute_reply": "2021-10-06T04:13:43.995618Z",
     "shell.execute_reply.started": "2021-10-06T04:11:23.430863Z"
    },
    "papermill": {
     "duration": 1.331752,
     "end_time": "2021-10-06T04:13:43.996267",
     "exception": false,
     "start_time": "2021-10-06T04:13:42.664515",
     "status": "completed"
    },
    "tags": []
   },
   "outputs": [],
   "source": [
    "y_predict = exp.predict_model(model)\n",
    "plot_series(data, y_train, y_predict, labels=['All', 'Train', 'Test Prediction'])\n",
    "plt.grid()"
   ]
  },
  {
   "cell_type": "code",
   "execution_count": null,
   "id": "fe7e4f61",
   "metadata": {
    "execution": {
     "iopub.execute_input": "2021-10-06T04:13:44.207093Z",
     "iopub.status.busy": "2021-10-06T04:13:44.200398Z",
     "iopub.status.idle": "2021-10-06T04:13:44.509627Z",
     "shell.execute_reply": "2021-10-06T04:13:44.510221Z",
     "shell.execute_reply.started": "2021-10-06T04:11:24.636284Z"
    },
    "papermill": {
     "duration": 0.408704,
     "end_time": "2021-10-06T04:13:44.510411",
     "exception": false,
     "start_time": "2021-10-06T04:13:44.101707",
     "status": "completed"
    },
    "tags": []
   },
   "outputs": [],
   "source": [
    "plot_series(data[-100:],  y_predict, labels=['All','Test Prediction'])\n",
    "plt.grid()"
   ]
  },
  {
   "cell_type": "code",
   "execution_count": null,
   "id": "cdfb4733",
   "metadata": {
    "execution": {
     "iopub.execute_input": "2021-10-06T04:13:44.698743Z",
     "iopub.status.busy": "2021-10-06T04:13:44.697765Z",
     "iopub.status.idle": "2021-10-06T04:14:22.825514Z",
     "shell.execute_reply": "2021-10-06T04:14:22.825965Z",
     "shell.execute_reply.started": "2021-10-06T04:11:24.933472Z"
    },
    "papermill": {
     "duration": 38.226906,
     "end_time": "2021-10-06T04:14:22.826217",
     "exception": false,
     "start_time": "2021-10-06T04:13:44.599311",
     "status": "completed"
    },
    "tags": []
   },
   "outputs": [],
   "source": [
    "#SMAPE\n",
    "tuned_model = exp.tune_model(model,optimize = 'SMAPE')\n",
    "tuned_model"
   ]
  },
  {
   "cell_type": "code",
   "execution_count": null,
   "id": "b22f9444",
   "metadata": {
    "execution": {
     "iopub.execute_input": "2021-10-06T04:14:22.983674Z",
     "iopub.status.busy": "2021-10-06T04:14:22.983064Z",
     "iopub.status.idle": "2021-10-06T04:14:23.172881Z",
     "shell.execute_reply": "2021-10-06T04:14:23.173336Z",
     "shell.execute_reply.started": "2021-10-06T04:12:00.857271Z"
    },
    "papermill": {
     "duration": 0.269753,
     "end_time": "2021-10-06T04:14:23.173519",
     "exception": false,
     "start_time": "2021-10-06T04:14:22.903766",
     "status": "completed"
    },
    "tags": []
   },
   "outputs": [],
   "source": [
    "exp.predict_model(tuned_model)"
   ]
  },
  {
   "cell_type": "code",
   "execution_count": null,
   "id": "b194587a",
   "metadata": {
    "execution": {
     "iopub.execute_input": "2021-10-06T04:14:23.332768Z",
     "iopub.status.busy": "2021-10-06T04:14:23.332169Z",
     "iopub.status.idle": "2021-10-06T04:14:31.003633Z",
     "shell.execute_reply": "2021-10-06T04:14:31.004199Z",
     "shell.execute_reply.started": "2021-10-06T04:12:01.137231Z"
    },
    "papermill": {
     "duration": 7.753098,
     "end_time": "2021-10-06T04:14:31.004371",
     "exception": false,
     "start_time": "2021-10-06T04:14:23.251273",
     "status": "completed"
    },
    "tags": []
   },
   "outputs": [],
   "source": [
    "# y_pred_future for Future Prediciton\n",
    "final_model = exp.finalize_model(tuned_model)\n",
    "y_pred_future = exp.predict_model(final_model, verbose=False)\n",
    "\n",
    "_=plot_series(data, y_train,y_predict, y_pred_future, labels=['All', 'Train','Test Prediction', 'Future Prediciton'])\n",
    "plt.grid()"
   ]
  },
  {
   "cell_type": "code",
   "execution_count": null,
   "id": "9c9c03ca",
   "metadata": {
    "execution": {
     "iopub.execute_input": "2021-10-06T04:14:31.170185Z",
     "iopub.status.busy": "2021-10-06T04:14:31.169603Z",
     "iopub.status.idle": "2021-10-06T04:14:31.459994Z",
     "shell.execute_reply": "2021-10-06T04:14:31.459522Z",
     "shell.execute_reply.started": "2021-10-06T04:12:08.446240Z"
    },
    "papermill": {
     "duration": 0.373676,
     "end_time": "2021-10-06T04:14:31.460149",
     "exception": false,
     "start_time": "2021-10-06T04:14:31.086473",
     "status": "completed"
    },
    "tags": []
   },
   "outputs": [],
   "source": [
    "_=plot_series(data[-100:], y_predict, y_pred_future, labels=['All', 'Test Prediction',  'Future Prediciton'])\n",
    "plt.grid()"
   ]
  },
  {
   "cell_type": "code",
   "execution_count": null,
   "id": "57958c54",
   "metadata": {
    "execution": {
     "iopub.execute_input": "2021-10-06T04:14:31.626343Z",
     "iopub.status.busy": "2021-10-06T04:14:31.625756Z",
     "iopub.status.idle": "2021-10-06T04:14:31.634032Z",
     "shell.execute_reply": "2021-10-06T04:14:31.633306Z",
     "shell.execute_reply.started": "2021-10-06T04:12:08.774196Z"
    },
    "papermill": {
     "duration": 0.092014,
     "end_time": "2021-10-06T04:14:31.634248",
     "exception": false,
     "start_time": "2021-10-06T04:14:31.542234",
     "status": "completed"
    },
    "tags": []
   },
   "outputs": [],
   "source": [
    "print(data[-10:])\n",
    "print(y_pred_future[0:10])"
   ]
  },
  {
   "cell_type": "code",
   "execution_count": null,
   "id": "c843a7e2",
   "metadata": {
    "papermill": {
     "duration": 0.081429,
     "end_time": "2021-10-06T04:14:31.798261",
     "exception": false,
     "start_time": "2021-10-06T04:14:31.716832",
     "status": "completed"
    },
    "tags": []
   },
   "outputs": [],
   "source": []
  }
 ],
 "metadata": {
  "kernelspec": {
   "display_name": "Python 3 (ipykernel)",
   "language": "python",
   "name": "python3"
  },
  "language_info": {
   "codemirror_mode": {
    "name": "ipython",
    "version": 3
   },
   "file_extension": ".py",
   "mimetype": "text/x-python",
   "name": "python",
   "nbconvert_exporter": "python",
   "pygments_lexer": "ipython3",
   "version": "3.11.5"
  },
  "papermill": {
   "default_parameters": {},
   "duration": 107.611428,
   "end_time": "2021-10-06T04:14:32.992574",
   "environment_variables": {},
   "exception": null,
   "input_path": "__notebook__.ipynb",
   "output_path": "__notebook__.ipynb",
   "parameters": {},
   "start_time": "2021-10-06T04:12:45.381146",
   "version": "2.3.3"
  },
  "widgets": {
   "application/vnd.jupyter.widget-state+json": {
    "state": {
     "0343d03831054c1b8d73aad15d636118": {
      "model_module": "@jupyter-widgets/controls",
      "model_module_version": "1.5.0",
      "model_name": "ProgressStyleModel",
      "state": {
       "_model_module": "@jupyter-widgets/controls",
       "_model_module_version": "1.5.0",
       "_model_name": "ProgressStyleModel",
       "_view_count": null,
       "_view_module": "@jupyter-widgets/base",
       "_view_module_version": "1.2.0",
       "_view_name": "StyleView",
       "bar_color": null,
       "description_width": ""
      }
     },
     "0c8ce1cba4184352a4005690e495128e": {
      "model_module": "@jupyter-widgets/controls",
      "model_module_version": "1.5.0",
      "model_name": "ProgressStyleModel",
      "state": {
       "_model_module": "@jupyter-widgets/controls",
       "_model_module_version": "1.5.0",
       "_model_name": "ProgressStyleModel",
       "_view_count": null,
       "_view_module": "@jupyter-widgets/base",
       "_view_module_version": "1.2.0",
       "_view_name": "StyleView",
       "bar_color": null,
       "description_width": ""
      }
     },
     "1252fbed0d4742c6a3ac6eb7078685e1": {
      "model_module": "@jupyter-widgets/controls",
      "model_module_version": "1.5.0",
      "model_name": "IntProgressModel",
      "state": {
       "_dom_classes": [],
       "_model_module": "@jupyter-widgets/controls",
       "_model_module_version": "1.5.0",
       "_model_name": "IntProgressModel",
       "_view_count": null,
       "_view_module": "@jupyter-widgets/controls",
       "_view_module_version": "1.5.0",
       "_view_name": "ProgressView",
       "bar_style": "",
       "description": "Processing: ",
       "description_tooltip": null,
       "layout": "IPY_MODEL_e289ac2879a3498f81075b5183b2b8db",
       "max": 3,
       "min": 0,
       "orientation": "horizontal",
       "style": "IPY_MODEL_0c8ce1cba4184352a4005690e495128e",
       "value": 3
      }
     },
     "76ce8c8d17b84662a8a9fc87b4a9cc88": {
      "model_module": "@jupyter-widgets/base",
      "model_module_version": "1.2.0",
      "model_name": "LayoutModel",
      "state": {
       "_model_module": "@jupyter-widgets/base",
       "_model_module_version": "1.2.0",
       "_model_name": "LayoutModel",
       "_view_count": null,
       "_view_module": "@jupyter-widgets/base",
       "_view_module_version": "1.2.0",
       "_view_name": "LayoutView",
       "align_content": null,
       "align_items": null,
       "align_self": null,
       "border": null,
       "bottom": null,
       "display": null,
       "flex": null,
       "flex_flow": null,
       "grid_area": null,
       "grid_auto_columns": null,
       "grid_auto_flow": null,
       "grid_auto_rows": null,
       "grid_column": null,
       "grid_gap": null,
       "grid_row": null,
       "grid_template_areas": null,
       "grid_template_columns": null,
       "grid_template_rows": null,
       "height": null,
       "justify_content": null,
       "justify_items": null,
       "left": null,
       "margin": null,
       "max_height": null,
       "max_width": null,
       "min_height": null,
       "min_width": null,
       "object_fit": null,
       "object_position": null,
       "order": null,
       "overflow": null,
       "overflow_x": null,
       "overflow_y": null,
       "padding": null,
       "right": null,
       "top": null,
       "visibility": null,
       "width": null
      }
     },
     "a9e3973825c44c9ca244be868d1f6aa0": {
      "model_module": "@jupyter-widgets/controls",
      "model_module_version": "1.5.0",
      "model_name": "IntProgressModel",
      "state": {
       "_dom_classes": [],
       "_model_module": "@jupyter-widgets/controls",
       "_model_module_version": "1.5.0",
       "_model_name": "IntProgressModel",
       "_view_count": null,
       "_view_module": "@jupyter-widgets/controls",
       "_view_module_version": "1.5.0",
       "_view_name": "ProgressView",
       "bar_style": "",
       "description": "Processing: ",
       "description_tooltip": null,
       "layout": "IPY_MODEL_76ce8c8d17b84662a8a9fc87b4a9cc88",
       "max": 7,
       "min": 0,
       "orientation": "horizontal",
       "style": "IPY_MODEL_0343d03831054c1b8d73aad15d636118",
       "value": 7
      }
     },
     "cd71a8afed06448fa3f2d70876602fb6": {
      "model_module": "@jupyter-widgets/controls",
      "model_module_version": "1.5.0",
      "model_name": "IntProgressModel",
      "state": {
       "_dom_classes": [],
       "_model_module": "@jupyter-widgets/controls",
       "_model_module_version": "1.5.0",
       "_model_name": "IntProgressModel",
       "_view_count": null,
       "_view_module": "@jupyter-widgets/controls",
       "_view_module_version": "1.5.0",
       "_view_name": "ProgressView",
       "bar_style": "",
       "description": "Processing: ",
       "description_tooltip": null,
       "layout": "IPY_MODEL_dee9c2716445416eaa9f9d8660091cde",
       "max": 4,
       "min": 0,
       "orientation": "horizontal",
       "style": "IPY_MODEL_d647009c8e5f4e1382b1b4e01719c6e0",
       "value": 4
      }
     },
     "d647009c8e5f4e1382b1b4e01719c6e0": {
      "model_module": "@jupyter-widgets/controls",
      "model_module_version": "1.5.0",
      "model_name": "ProgressStyleModel",
      "state": {
       "_model_module": "@jupyter-widgets/controls",
       "_model_module_version": "1.5.0",
       "_model_name": "ProgressStyleModel",
       "_view_count": null,
       "_view_module": "@jupyter-widgets/base",
       "_view_module_version": "1.2.0",
       "_view_name": "StyleView",
       "bar_color": null,
       "description_width": ""
      }
     },
     "dee9c2716445416eaa9f9d8660091cde": {
      "model_module": "@jupyter-widgets/base",
      "model_module_version": "1.2.0",
      "model_name": "LayoutModel",
      "state": {
       "_model_module": "@jupyter-widgets/base",
       "_model_module_version": "1.2.0",
       "_model_name": "LayoutModel",
       "_view_count": null,
       "_view_module": "@jupyter-widgets/base",
       "_view_module_version": "1.2.0",
       "_view_name": "LayoutView",
       "align_content": null,
       "align_items": null,
       "align_self": null,
       "border": null,
       "bottom": null,
       "display": null,
       "flex": null,
       "flex_flow": null,
       "grid_area": null,
       "grid_auto_columns": null,
       "grid_auto_flow": null,
       "grid_auto_rows": null,
       "grid_column": null,
       "grid_gap": null,
       "grid_row": null,
       "grid_template_areas": null,
       "grid_template_columns": null,
       "grid_template_rows": null,
       "height": null,
       "justify_content": null,
       "justify_items": null,
       "left": null,
       "margin": null,
       "max_height": null,
       "max_width": null,
       "min_height": null,
       "min_width": null,
       "object_fit": null,
       "object_position": null,
       "order": null,
       "overflow": null,
       "overflow_x": null,
       "overflow_y": null,
       "padding": null,
       "right": null,
       "top": null,
       "visibility": null,
       "width": null
      }
     },
     "e289ac2879a3498f81075b5183b2b8db": {
      "model_module": "@jupyter-widgets/base",
      "model_module_version": "1.2.0",
      "model_name": "LayoutModel",
      "state": {
       "_model_module": "@jupyter-widgets/base",
       "_model_module_version": "1.2.0",
       "_model_name": "LayoutModel",
       "_view_count": null,
       "_view_module": "@jupyter-widgets/base",
       "_view_module_version": "1.2.0",
       "_view_name": "LayoutView",
       "align_content": null,
       "align_items": null,
       "align_self": null,
       "border": null,
       "bottom": null,
       "display": null,
       "flex": null,
       "flex_flow": null,
       "grid_area": null,
       "grid_auto_columns": null,
       "grid_auto_flow": null,
       "grid_auto_rows": null,
       "grid_column": null,
       "grid_gap": null,
       "grid_row": null,
       "grid_template_areas": null,
       "grid_template_columns": null,
       "grid_template_rows": null,
       "height": null,
       "justify_content": null,
       "justify_items": null,
       "left": null,
       "margin": null,
       "max_height": null,
       "max_width": null,
       "min_height": null,
       "min_width": null,
       "object_fit": null,
       "object_position": null,
       "order": null,
       "overflow": null,
       "overflow_x": null,
       "overflow_y": null,
       "padding": null,
       "right": null,
       "top": null,
       "visibility": null,
       "width": null
      }
     }
    },
    "version_major": 2,
    "version_minor": 0
   }
  }
 },
 "nbformat": 4,
 "nbformat_minor": 5
}
