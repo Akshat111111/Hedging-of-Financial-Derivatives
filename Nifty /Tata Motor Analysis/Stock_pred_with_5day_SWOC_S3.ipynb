{
  "nbformat": 4,
  "nbformat_minor": 0,
  "metadata": {
    "colab": {
      "provenance": []
    },
    "kernelspec": {
      "name": "python3",
      "display_name": "Python 3"
    },
    "language_info": {
      "name": "python"
    }
  },
  "cells": [
    {
      "cell_type": "markdown",
      "source": [
        "Stock prediction model using LSTM.\n",
        "\n",
        "> Made by: Garv Saxena\n",
        "\n",
        "> For SWOC S3"
      ],
      "metadata": {
        "id": "Y-vbMeUkU2Pd"
      }
    },
    {
      "cell_type": "code",
      "source": [
        "#Updating the modules (otherwise error message in fetching dataset from yahoo)\n",
        "!pip install --upgrade pandas"
      ],
      "metadata": {
        "id": "QQKNJkYHrilk"
      },
      "execution_count": null,
      "outputs": []
    },
    {
      "cell_type": "code",
      "source": [
        "pip install yfinance"
      ],
      "metadata": {
        "id": "IIB5Y9IlE-_T"
      },
      "execution_count": 41,
      "outputs": []
    },
    {
      "cell_type": "code",
      "source": [
        "import yfinance as yf\n",
        "import datetime as dt"
      ],
      "metadata": {
        "id": "-PgWZX7iUAvN"
      },
      "execution_count": 42,
      "outputs": []
    },
    {
      "cell_type": "code",
      "execution_count": 18,
      "metadata": {
        "id": "bhm2aepdnwoZ"
      },
      "outputs": [],
      "source": [
        "#Importing libraries\n",
        "import pandas_datareader as dr\n",
        "import numpy as np\n",
        "import pandas as pd\n",
        "from sklearn.preprocessing import MinMaxScaler\n",
        "from keras.models import Sequential\n",
        "from keras.layers import Dense, LSTM, Dropout\n",
        "import matplotlib.pyplot as plt\n",
        "\n",
        "#2138 is training size\n",
        "#549 is testing size"
      ]
    },
    {
      "cell_type": "code",
      "source": [
        "#building dataframe for tata motors stock from yahoo finance\n",
        "df = yf.download('TTM', dt.datetime(2012,1,1) , dt.datetime(2023,1,7))\n",
        "df.head"
      ],
      "metadata": {
        "id": "Xaxlm9sMsX2r",
        "colab": {
          "base_uri": "https://localhost:8080/"
        },
        "outputId": "5b89d991-7031-48bd-ce1f-6e4fc9464216"
      },
      "execution_count": 21,
      "outputs": [
        {
          "output_type": "stream",
          "name": "stdout",
          "text": [
            "\r[*********************100%***********************]  1 of 1 completed\n"
          ]
        },
        {
          "output_type": "execute_result",
          "data": {
            "text/plain": [
              "<bound method NDFrame.head of                                 Open       High        Low      Close  \\\n",
              "Date                                                                    \n",
              "2012-01-03 00:00:00-05:00  17.820000  18.320000  17.820000  18.110001   \n",
              "2012-01-04 00:00:00-05:00  18.440001  19.000000  18.440001  18.790001   \n",
              "2012-01-05 00:00:00-05:00  18.790001  19.180000  18.700001  19.100000   \n",
              "2012-01-06 00:00:00-05:00  19.080000  19.180000  18.889999  19.049999   \n",
              "2012-01-09 00:00:00-05:00  18.820000  19.150000  18.760000  19.129999   \n",
              "...                              ...        ...        ...        ...   \n",
              "2022-12-30 00:00:00-05:00  22.950001  23.330000  22.940001  23.110001   \n",
              "2023-01-03 00:00:00-05:00  23.400000  23.799999  23.389999  23.580000   \n",
              "2023-01-04 00:00:00-05:00  23.200001  23.420000  23.049999  23.160000   \n",
              "2023-01-05 00:00:00-05:00  22.690001  23.150000  22.610001  22.990000   \n",
              "2023-01-06 00:00:00-05:00  22.830000  23.340000  22.830000  23.330000   \n",
              "\n",
              "                           Adj Close   Volume  \n",
              "Date                                           \n",
              "2012-01-03 00:00:00-05:00  17.598068  1919900  \n",
              "2012-01-04 00:00:00-05:00  18.258846  2907600  \n",
              "2012-01-05 00:00:00-05:00  18.560080  1765300  \n",
              "2012-01-06 00:00:00-05:00  18.511492  1877900  \n",
              "2012-01-09 00:00:00-05:00  18.589231  1216100  \n",
              "...                              ...      ...  \n",
              "2022-12-30 00:00:00-05:00  23.110001   708500  \n",
              "2023-01-03 00:00:00-05:00  23.580000  1069500  \n",
              "2023-01-04 00:00:00-05:00  23.160000   897000  \n",
              "2023-01-05 00:00:00-05:00  22.990000  1005100  \n",
              "2023-01-06 00:00:00-05:00  23.330000  1310700  \n",
              "\n",
              "[2772 rows x 6 columns]>"
            ]
          },
          "metadata": {},
          "execution_count": 21
        }
      ]
    },
    {
      "cell_type": "code",
      "source": [
        "#Ploting tata stock price (Just for Fun)\n",
        "plt.figure(figsize=(9,4))\n",
        "plt.title(\"Tata Motors Closing Price History\")\n",
        "plt.plot(df['Close'])\n",
        "plt.xlabel('Date',fontsize=10)\n",
        "plt.ylabel('Close Price in $')\n",
        "plt.show()"
      ],
      "metadata": {
        "colab": {
          "base_uri": "https://localhost:8080/",
          "height": 295
        },
        "id": "rmDjNAMdwTt0",
        "outputId": "0e500a38-1f91-4d2b-c4c0-63e3221fcc4b"
      },
      "execution_count": 22,
      "outputs": [
        {
          "output_type": "display_data",
          "data": {
            "text/plain": [
              "<Figure size 648x288 with 1 Axes>"
            ],
            "image/png": "[encoded data removed]"
          },
          "metadata": {
            "needs_background": "light"
          }
        }
      ]
    },
    {
      "cell_type": "code",
      "source": [
        "#Filtering only required column \"Here we only considering Close stock price\" From DataFrame\n",
        "data = df.filter(['Close'])\n"
      ],
      "metadata": {
        "id": "ngTbJqy1wTzD"
      },
      "execution_count": 24,
      "outputs": []
    },
    {
      "cell_type": "code",
      "source": [
        "#Converting data frame to NumPy array And calculating 80% data length for training data length\n",
        "dataset = data.values\n",
        "train_data_len = round(len(dataset) * 0.8)"
      ],
      "metadata": {
        "id": "eAC-P760mn8L"
      },
      "execution_count": 25,
      "outputs": []
    },
    {
      "cell_type": "code",
      "source": [
        "#Scaling the training data between 0 to 1 for our LSTM model\n",
        "train_data  = dataset[0:train_data_len,:] #Taking 80% of total dataset for training\n",
        "\n",
        "scaler = MinMaxScaler(feature_range=(0,1))\n",
        "scaled_data_train = scaler.fit_transform(train_data) #Scaling training data"
      ],
      "metadata": {
        "id": "3tNpvNAnysRt"
      },
      "execution_count": 26,
      "outputs": []
    },
    {
      "cell_type": "code",
      "source": [
        "#Appending the past 60s days closing values to x_train(Inputs) and appending 61th Closing value to y_train(Output)\n",
        "x_train = [] #inputs past 60 days closing values\n",
        "y_train = [] #output 61th day closing value\n",
        "for i in range(60, train_data_len):\n",
        "  x_train.append(scaled_data_train[i-60:i,0])\n",
        "  y_train.append(scaled_data_train[i,0])"
      ],
      "metadata": {
        "id": "6KJABmKkzUHT"
      },
      "execution_count": 27,
      "outputs": []
    },
    {
      "cell_type": "code",
      "source": [
        "#Converting list to NumPy array\n",
        "x_train = np.array(x_train)\n",
        "y_train = np.array(y_train)\n",
        "x_train = x_train.reshape(len(x_train),60,1)"
      ],
      "metadata": {
        "id": "SxdTA7uSzU-n"
      },
      "execution_count": 28,
      "outputs": []
    },
    {
      "cell_type": "code",
      "source": [
        "#Building LSTM Model and layers\n",
        "model = Sequential()\n",
        "model.add(LSTM(60,return_sequences=True, input_shape = (60, 1)))\n",
        "#model.add(Dropout(0.5))\n",
        "model.add(LSTM(31))\n",
        "model.add(Dense(1))\n",
        "#print(model.summary())"
      ],
      "metadata": {
        "id": "UDPCHPZu2yZP"
      },
      "execution_count": 29,
      "outputs": []
    },
    {
      "cell_type": "code",
      "source": [
        "#Compling and Fit the model\n",
        "model.compile(optimizer=\"Nadam\", loss='mean_squared_error')\n",
        "model.fit(x_train,y_train, batch_size=5, epochs=5)"
      ],
      "metadata": {
        "id": "WmESl_jn5S17"
      },
      "execution_count": null,
      "outputs": []
    },
    {
      "cell_type": "code",
      "source": [
        "#Appending the past 60s days closing values to x_test(Test Inputs)\n",
        "test_data = dataset[train_data_len - 60: , :]\n",
        "test_data = scaler.fit_transform(test_data)\n",
        "x_test = []\n",
        "for i in range(60, len(test_data)):\n",
        "  x_test.append(test_data[i-60:i,0])\n",
        "\n",
        "#Storing Actual Closing values to y_test\n",
        "y_test = dataset[train_data_len:, :]"
      ],
      "metadata": {
        "id": "fF15XLKO5xxM"
      },
      "execution_count": 31,
      "outputs": []
    },
    {
      "cell_type": "code",
      "source": [
        "#Converting x_test to NumPy array and reshape it\n",
        "x_test = np.array(x_test)\n",
        "x_test = x_test.reshape(len(x_test),60,1)"
      ],
      "metadata": {
        "id": "h0I0Yjw-7SXL"
      },
      "execution_count": 32,
      "outputs": []
    },
    {
      "cell_type": "code",
      "source": [
        "#Predicting the closing value till original dataset\n",
        "pred = model.predict(x_test)\n",
        "pred_inverse = scaler.inverse_transform(pred)"
      ],
      "metadata": {
        "id": "lT132FL27c9M"
      },
      "execution_count": null,
      "outputs": []
    },
    {
      "cell_type": "code",
      "source": [
        "#Predicting Future 5 Days Values\n",
        "\n",
        "#Predicting +1 Day from last day of dataset\n",
        "x_test_59_1 = x_test[len(x_test)-1][1:60]\n",
        "x_test_59_1 = np.append(x_test_59_1, [pred[len(pred)-1]], axis=0)\n",
        "x_test_59_1 = x_test_59_1.reshape(1,60,1)\n",
        "predp = model.predict(x_test_59_1)\n",
        "\n",
        "#Predicting +2 Day from last day of dataset\n",
        "x_test_59_2 = x_test_59_1[0][1:60]\n",
        "x_test_59_2 = np.append(x_test_59_2, [predp[len(predp)-1]], axis=0)\n",
        "x_test_59_2 = x_test_59_2.reshape(1,60,1)\n",
        "predpp = model.predict(x_test_59_2)\n",
        "\n",
        "#Predicting +3 Day from last day of dataset\n",
        "x_test_59_3 = x_test_59_2[0][1:60]\n",
        "x_test_59_3 = np.append(x_test_59_3, [predpp[len(predpp)-1]], axis=0)\n",
        "x_test_59_3 = x_test_59_3.reshape(1,60,1)\n",
        "predppp = model.predict(x_test_59_3)\n",
        "\n",
        "#Predicting +4 Day from last day of dataset\n",
        "x_test_59_4 = x_test_59_3[0][1:60]\n",
        "x_test_59_4 = np.append(x_test_59_4, [predppp[len(predppp)-1]], axis=0)\n",
        "x_test_59_4 = x_test_59_4.reshape(1,60,1)\n",
        "predpppp = model.predict(x_test_59_4)\n",
        "\n",
        "#Predicting +5 Day from last day of dataset\n",
        "x_test_59_5 = x_test_59_4[0][1:60]\n",
        "x_test_59_5 = np.append(x_test_59_5, [predpppp[len(predpppp)-1]], axis=0)\n",
        "x_test_59_5 = x_test_59_5.reshape(1,60,1)\n",
        "predppppp = model.predict(x_test_59_5)\n",
        "\n",
        "print('+1')\n",
        "print(scaler.inverse_transform(predp))\n",
        "print('+2')\n",
        "print(scaler.inverse_transform(predpp))\n",
        "print('+3')\n",
        "print(scaler.inverse_transform(predppp)) #Converting back to original value \n",
        "print('+4')\n",
        "print(scaler.inverse_transform(predpppp))\n",
        "print('+5')\n",
        "print(scaler.inverse_transform(predppppp))\n"
      ],
      "metadata": {
        "colab": {
          "base_uri": "https://localhost:8080/"
        },
        "id": "ODKKEK6cx4ba",
        "outputId": "4a4a0628-ea73-4eaa-fcc3-f477336e5e0f"
      },
      "execution_count": 43,
      "outputs": [
        {
          "output_type": "stream",
          "name": "stdout",
          "text": [
            "1/1 [==============================] - 0s 23ms/step\n",
            "1/1 [==============================] - 0s 24ms/step\n",
            "1/1 [==============================] - 0s 22ms/step\n",
            "1/1 [==============================] - 0s 23ms/step\n",
            "1/1 [==============================] - 0s 24ms/step\n",
            "+1\n",
            "[[23.336292]]\n",
            "+2\n",
            "[[23.393831]]\n",
            "+3\n",
            "[[23.458221]]\n",
            "+4\n",
            "[[23.526264]]\n",
            "+5\n",
            "[[23.595837]]\n"
          ]
        }
      ]
    },
    {
      "cell_type": "code",
      "source": [
        "#Calculating Root Mean Square Error \n",
        "rmse=np.sqrt(np.mean(((pred_inverse - y_test)**2)))\n",
        "rmse \n",
        "#Last Best:- 0.9894429065605955"
      ],
      "metadata": {
        "id": "2v9qnvdN8pRk",
        "colab": {
          "base_uri": "https://localhost:8080/"
        },
        "outputId": "bd20fa35-fab9-4990-b0eb-e17917550fb1"
      },
      "execution_count": 35,
      "outputs": [
        {
          "output_type": "execute_result",
          "data": {
            "text/plain": [
              "1.0173116125654293"
            ]
          },
          "metadata": {},
          "execution_count": 35
        }
      ]
    },
    {
      "cell_type": "code",
      "source": [
        "rmspe = np.sqrt(np.mean(np.square(((y_test - pred_inverse) / y_test)), axis=0))\n",
        "rmspe"
      ],
      "metadata": {
        "id": "KO-YDg4yPlNR"
      },
      "execution_count": null,
      "outputs": []
    },
    {
      "cell_type": "code",
      "source": [
        "#Adding Actual and Predicted values of closing price in valid NumPy array\n",
        "train = data[:train_data_len]\n",
        "valid = data[train_data_len:]\n",
        "valid['pred'] = pred_inverse\n",
        "valid"
      ],
      "metadata": {
        "id": "-mIkRArC_4Yy"
      },
      "execution_count": null,
      "outputs": []
    },
    {
      "cell_type": "code",
      "source": [
        "#Ploting the Graph for training data + Predicted data + Actual Data\n",
        "plt.figure(figsize=(10,6))\n",
        "plt.title(\"Tata Motors Stock Price Preditions\")\n",
        "plt.xlabel(\"Date\",fontsize=18)\n",
        "plt.ylabel(\"Close Price in $\",fontsize=18)\n",
        "plt.plot(train['Close'])\n",
        "plt.plot(valid[['Close', 'pred']])\n",
        "plt.legend(['Train','Actual','Predited'])\n",
        "plt.show()"
      ],
      "metadata": {
        "id": "NMbtgJJzBfId",
        "colab": {
          "base_uri": "https://localhost:8080/",
          "height": 412
        },
        "outputId": "edafe918-6ada-4757-b7dc-28c80bdbd443"
      },
      "execution_count": 39,
      "outputs": [
        {
          "output_type": "display_data",
          "data": {
            "text/plain": [
              "<Figure size 720x432 with 1 Axes>"
            ],
            "image/png": "[encoded data removed]"
          },
          "metadata": {
            "needs_background": "light"
          }
        }
      ]
    }
  ]
}