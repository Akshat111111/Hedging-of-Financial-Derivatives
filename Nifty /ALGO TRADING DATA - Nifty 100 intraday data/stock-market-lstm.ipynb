{
 "cells": [
  {
   "cell_type": "code",
   "execution_count": 1,
   "metadata": {
    "_cell_guid": "b1076dfc-b9ad-4769-8c92-a6c4dae69d19",
    "_uuid": "8f2839f25d086af736a60e9eeb907d3b93b6e0e5",
    "execution": {
     "iopub.execute_input": "2023-11-28T13:25:48.208790Z",
     "iopub.status.busy": "2023-11-28T13:25:48.207798Z",
     "iopub.status.idle": "2023-11-28T13:25:48.793426Z",
     "shell.execute_reply": "2023-11-28T13:25:48.792185Z",
     "shell.execute_reply.started": "2023-11-28T13:25:48.208750Z"
    }
   },
   "outputs": [],
   "source": [
    "import numpy as np \n",
    "import pandas as pd \n",
    "import os"
   ]
  },
  {
   "cell_type": "code",
   "execution_count": 2,
   "metadata": {
    "execution": {
     "iopub.execute_input": "2023-11-28T13:25:48.796055Z",
     "iopub.status.busy": "2023-11-28T13:25:48.795539Z",
     "iopub.status.idle": "2023-11-28T13:25:51.624789Z",
     "shell.execute_reply": "2023-11-28T13:25:51.623357Z",
     "shell.execute_reply.started": "2023-11-28T13:25:48.796014Z"
    }
   },
   "outputs": [
    {
     "name": "stderr",
     "output_type": "stream",
     "text": [
      "/var/folders/qh/215l544s06x3_jp987f9gdgh0000gn/T/ipykernel_49423/1777501066.py:2: FutureWarning: The argument 'infer_datetime_format' is deprecated and will be removed in a future version. A strict version of it is now the default, see https://pandas.pydata.org/pdeps/0004-consistent-to-datetime-parsing.html. You can safely remove this argument.\n",
      "  df=pd.read_csv('ACC_10minute_data.csv',na_values=['null'],\n"
     ]
    },
    {
     "data": {
      "text/html": [
       "<div>\n",
       "<style scoped>\n",
       "    .dataframe tbody tr th:only-of-type {\n",
       "        vertical-align: middle;\n",
       "    }\n",
       "\n",
       "    .dataframe tbody tr th {\n",
       "        vertical-align: top;\n",
       "    }\n",
       "\n",
       "    .dataframe thead th {\n",
       "        text-align: right;\n",
       "    }\n",
       "</style>\n",
       "<table border=\"1\" class=\"dataframe\">\n",
       "  <thead>\n",
       "    <tr style=\"text-align: right;\">\n",
       "      <th></th>\n",
       "      <th>Unnamed: 0</th>\n",
       "      <th>close</th>\n",
       "      <th>high</th>\n",
       "      <th>low</th>\n",
       "      <th>open</th>\n",
       "      <th>volume</th>\n",
       "    </tr>\n",
       "    <tr>\n",
       "      <th>date</th>\n",
       "      <th></th>\n",
       "      <th></th>\n",
       "      <th></th>\n",
       "      <th></th>\n",
       "      <th></th>\n",
       "      <th></th>\n",
       "    </tr>\n",
       "  </thead>\n",
       "  <tbody>\n",
       "    <tr>\n",
       "      <th>2015-02-02 09:15:00+05:30</th>\n",
       "      <td>0</td>\n",
       "      <td>1540.15</td>\n",
       "      <td>1556.70</td>\n",
       "      <td>1536.05</td>\n",
       "      <td>1554.90</td>\n",
       "      <td>12181</td>\n",
       "    </tr>\n",
       "    <tr>\n",
       "      <th>2015-02-02 09:25:00+05:30</th>\n",
       "      <td>1</td>\n",
       "      <td>1543.55</td>\n",
       "      <td>1549.90</td>\n",
       "      <td>1536.10</td>\n",
       "      <td>1540.15</td>\n",
       "      <td>8810</td>\n",
       "    </tr>\n",
       "    <tr>\n",
       "      <th>2015-02-02 09:35:00+05:30</th>\n",
       "      <td>2</td>\n",
       "      <td>1542.35</td>\n",
       "      <td>1547.05</td>\n",
       "      <td>1542.00</td>\n",
       "      <td>1543.55</td>\n",
       "      <td>8097</td>\n",
       "    </tr>\n",
       "    <tr>\n",
       "      <th>2015-02-02 09:45:00+05:30</th>\n",
       "      <td>3</td>\n",
       "      <td>1547.40</td>\n",
       "      <td>1548.50</td>\n",
       "      <td>1541.05</td>\n",
       "      <td>1542.35</td>\n",
       "      <td>5346</td>\n",
       "    </tr>\n",
       "    <tr>\n",
       "      <th>2015-02-02 09:55:00+05:30</th>\n",
       "      <td>4</td>\n",
       "      <td>1548.35</td>\n",
       "      <td>1549.95</td>\n",
       "      <td>1543.95</td>\n",
       "      <td>1547.40</td>\n",
       "      <td>4320</td>\n",
       "    </tr>\n",
       "  </tbody>\n",
       "</table>\n",
       "</div>"
      ],
      "text/plain": [
       "                           Unnamed: 0    close     high      low     open  \\\n",
       "date                                                                        \n",
       "2015-02-02 09:15:00+05:30           0  1540.15  1556.70  1536.05  1554.90   \n",
       "2015-02-02 09:25:00+05:30           1  1543.55  1549.90  1536.10  1540.15   \n",
       "2015-02-02 09:35:00+05:30           2  1542.35  1547.05  1542.00  1543.55   \n",
       "2015-02-02 09:45:00+05:30           3  1547.40  1548.50  1541.05  1542.35   \n",
       "2015-02-02 09:55:00+05:30           4  1548.35  1549.95  1543.95  1547.40   \n",
       "\n",
       "                           volume  \n",
       "date                               \n",
       "2015-02-02 09:15:00+05:30   12181  \n",
       "2015-02-02 09:25:00+05:30    8810  \n",
       "2015-02-02 09:35:00+05:30    8097  \n",
       "2015-02-02 09:45:00+05:30    5346  \n",
       "2015-02-02 09:55:00+05:30    4320  "
      ]
     },
     "execution_count": 2,
     "metadata": {},
     "output_type": "execute_result"
    }
   ],
   "source": [
    "import pandas as pd\n",
    "df=pd.read_csv('ACC_10minute_data.csv',na_values=['null'],\n",
    "               index_col='date',parse_dates=True,infer_datetime_format=True)\n",
    "df.head()"
   ]
  },
  {
   "cell_type": "markdown",
   "metadata": {},
   "source": [
    "# **EDA**"
   ]
  },
  {
   "cell_type": "code",
   "execution_count": 3,
   "metadata": {
    "execution": {
     "iopub.execute_input": "2023-11-28T13:25:51.626566Z",
     "iopub.status.busy": "2023-11-28T13:25:51.626257Z",
     "iopub.status.idle": "2023-11-28T13:25:51.641141Z",
     "shell.execute_reply": "2023-11-28T13:25:51.638505Z",
     "shell.execute_reply.started": "2023-11-28T13:25:51.626539Z"
    }
   },
   "outputs": [
    {
     "data": {
      "text/plain": [
       "(65929, 6)"
      ]
     },
     "execution_count": 3,
     "metadata": {},
     "output_type": "execute_result"
    }
   ],
   "source": [
    "df.shape"
   ]
  },
  {
   "cell_type": "code",
   "execution_count": 4,
   "metadata": {
    "execution": {
     "iopub.execute_input": "2023-11-28T13:25:51.644486Z",
     "iopub.status.busy": "2023-11-28T13:25:51.644115Z",
     "iopub.status.idle": "2023-11-28T13:25:51.669491Z",
     "shell.execute_reply": "2023-11-28T13:25:51.668367Z",
     "shell.execute_reply.started": "2023-11-28T13:25:51.644454Z"
    }
   },
   "outputs": [
    {
     "name": "stdout",
     "output_type": "stream",
     "text": [
      "<class 'pandas.core.frame.DataFrame'>\n",
      "DatetimeIndex: 65929 entries, 2015-02-02 09:15:00+05:30 to 2022-10-21 15:25:00+05:30\n",
      "Data columns (total 6 columns):\n",
      " #   Column      Non-Null Count  Dtype  \n",
      "---  ------      --------------  -----  \n",
      " 0   Unnamed: 0  65929 non-null  int64  \n",
      " 1   close       65929 non-null  float64\n",
      " 2   high        65929 non-null  float64\n",
      " 3   low         65929 non-null  float64\n",
      " 4   open        65929 non-null  float64\n",
      " 5   volume      65929 non-null  int64  \n",
      "dtypes: float64(4), int64(2)\n",
      "memory usage: 3.5 MB\n"
     ]
    }
   ],
   "source": [
    "df.info()"
   ]
  },
  {
   "cell_type": "code",
   "execution_count": 5,
   "metadata": {
    "execution": {
     "iopub.execute_input": "2023-11-28T13:25:51.671440Z",
     "iopub.status.busy": "2023-11-28T13:25:51.671088Z",
     "iopub.status.idle": "2023-11-28T13:25:51.682269Z",
     "shell.execute_reply": "2023-11-28T13:25:51.680526Z",
     "shell.execute_reply.started": "2023-11-28T13:25:51.671410Z"
    }
   },
   "outputs": [
    {
     "data": {
      "text/plain": [
       "Unnamed: 0    0\n",
       "close         0\n",
       "high          0\n",
       "low           0\n",
       "open          0\n",
       "volume        0\n",
       "dtype: int64"
      ]
     },
     "execution_count": 5,
     "metadata": {},
     "output_type": "execute_result"
    }
   ],
   "source": [
    "df.isna().sum()"
   ]
  },
  {
   "cell_type": "markdown",
   "metadata": {},
   "source": [
    "# **Data Preprocessing**"
   ]
  },
  {
   "cell_type": "code",
   "execution_count": 6,
   "metadata": {
    "execution": {
     "iopub.execute_input": "2023-11-28T13:54:07.284706Z",
     "iopub.status.busy": "2023-11-28T13:54:07.284250Z",
     "iopub.status.idle": "2023-11-28T13:54:07.310329Z",
     "shell.execute_reply": "2023-11-28T13:54:07.309101Z",
     "shell.execute_reply.started": "2023-11-28T13:54:07.284676Z"
    }
   },
   "outputs": [
    {
     "name": "stdout",
     "output_type": "stream",
     "text": [
      "                           Unnamed: 0    close     high      low     open  \\\n",
      "date                                                                        \n",
      "2015-02-02 09:15:00+05:30           0  1540.15  1556.70  1536.05  1554.90   \n",
      "2015-02-02 09:25:00+05:30           1  1543.55  1549.90  1536.10  1540.15   \n",
      "2015-02-02 09:35:00+05:30           2  1542.35  1547.05  1542.00  1543.55   \n",
      "2015-02-02 09:45:00+05:30           3  1547.40  1548.50  1541.05  1542.35   \n",
      "2015-02-02 09:55:00+05:30           4  1548.35  1549.95  1543.95  1547.40   \n",
      "...                               ...      ...      ...      ...      ...   \n",
      "2022-10-21 14:45:00+05:30       65924  2251.50  2256.00  2247.00  2252.30   \n",
      "2022-10-21 14:55:00+05:30       65925  2259.00  2259.00  2250.05  2251.50   \n",
      "2022-10-21 15:05:00+05:30       65926  2256.60  2260.00  2254.00  2259.00   \n",
      "2022-10-21 15:15:00+05:30       65927  2258.00  2261.30  2254.30  2256.60   \n",
      "2022-10-21 15:25:00+05:30       65928  2257.00  2259.00  2255.00  2258.95   \n",
      "\n",
      "                           volume        price  Cumulative_Price_Volume  \\\n",
      "date                                                                      \n",
      "2015-02-02 09:15:00+05:30   12181  1544.300000             1.881112e+07   \n",
      "2015-02-02 09:25:00+05:30    8810  1543.183333             3.240656e+07   \n",
      "2015-02-02 09:35:00+05:30    8097  1543.800000             4.490671e+07   \n",
      "2015-02-02 09:45:00+05:30    5346  1545.650000             5.316976e+07   \n",
      "2015-02-02 09:55:00+05:30    4320  1547.416667             5.985460e+07   \n",
      "...                           ...          ...                      ...   \n",
      "2022-10-21 14:45:00+05:30    8480  2251.500000             1.813124e+12   \n",
      "2022-10-21 14:55:00+05:30   14778  2256.016667             1.813157e+12   \n",
      "2022-10-21 15:05:00+05:30   11816  2256.866667             1.813184e+12   \n",
      "2022-10-21 15:15:00+05:30   21305  2257.866667             1.813232e+12   \n",
      "2022-10-21 15:25:00+05:30    5523  2257.000000             1.813244e+12   \n",
      "\n",
      "                           Cumulative_Volume         VWAP  \n",
      "date                                                       \n",
      "2015-02-02 09:15:00+05:30              12181  1544.300000  \n",
      "2015-02-02 09:25:00+05:30              20991  1543.831331  \n",
      "2015-02-02 09:35:00+05:30              29088  1543.822610  \n",
      "2015-02-02 09:45:00+05:30              34434  1544.106318  \n",
      "2015-02-02 09:55:00+05:30              38754  1544.475331  \n",
      "...                                      ...          ...  \n",
      "2022-10-21 14:45:00+05:30         1097268673  1652.397264  \n",
      "2022-10-21 14:55:00+05:30         1097283451  1652.405394  \n",
      "2022-10-21 15:05:00+05:30         1097295267  1652.411903  \n",
      "2022-10-21 15:15:00+05:30         1097316572  1652.423658  \n",
      "2022-10-21 15:25:00+05:30         1097322095  1652.426701  \n",
      "\n",
      "[65929 rows x 10 columns]\n"
     ]
    }
   ],
   "source": [
    "df['price'] = ((df['close']+df['high']+df['low'])/3)\n",
    "df['Cumulative_Price_Volume'] = (df['price'] * df['volume']).cumsum()\n",
    "df['Cumulative_Volume'] = df['volume'].cumsum()\n",
    "df['VWAP'] = df['Cumulative_Price_Volume'] / df['Cumulative_Volume']\n",
    "print(df)"
   ]
  },
  {
   "cell_type": "code",
   "execution_count": 7,
   "metadata": {
    "execution": {
     "iopub.execute_input": "2023-11-28T13:54:07.313339Z",
     "iopub.status.busy": "2023-11-28T13:54:07.312415Z",
     "iopub.status.idle": "2023-11-28T13:54:09.747571Z",
     "shell.execute_reply": "2023-11-28T13:54:09.746724Z",
     "shell.execute_reply.started": "2023-11-28T13:54:07.313305Z"
    }
   },
   "outputs": [
    {
     "data": {
      "text/plain": [
       "<Axes: xlabel='date'>"
      ]
     },
     "execution_count": 7,
     "metadata": {},
     "output_type": "execute_result"
    },
    {
     "data": {
      "image/png": "[encoded data removed]",
      "text/plain": [
       "<Figure size 640x480 with 1 Axes>"
      ]
     },
     "metadata": {},
     "output_type": "display_data"
    }
   ],
   "source": [
    "df['VWAP'].plot()"
   ]
  },
  {
   "cell_type": "code",
   "execution_count": 8,
   "metadata": {
    "execution": {
     "iopub.execute_input": "2023-11-28T13:54:09.749711Z",
     "iopub.status.busy": "2023-11-28T13:54:09.749105Z",
     "iopub.status.idle": "2023-11-28T13:54:09.754679Z",
     "shell.execute_reply": "2023-11-28T13:54:09.753838Z",
     "shell.execute_reply.started": "2023-11-28T13:54:09.749677Z"
    }
   },
   "outputs": [],
   "source": [
    "# Set Target Variable\n",
    "output_var = pd.DataFrame(df['VWAP'])\n",
    "#Selecting the Features\n",
    "features = ['open', 'high', 'low', 'volume']"
   ]
  },
  {
   "cell_type": "code",
   "execution_count": 9,
   "metadata": {
    "execution": {
     "iopub.execute_input": "2023-11-28T13:54:09.757083Z",
     "iopub.status.busy": "2023-11-28T13:54:09.756701Z",
     "iopub.status.idle": "2023-11-28T13:54:10.405638Z",
     "shell.execute_reply": "2023-11-28T13:54:10.404374Z",
     "shell.execute_reply.started": "2023-11-28T13:54:09.757053Z"
    }
   },
   "outputs": [
    {
     "data": {
      "text/html": [
       "<div>\n",
       "<style scoped>\n",
       "    .dataframe tbody tr th:only-of-type {\n",
       "        vertical-align: middle;\n",
       "    }\n",
       "\n",
       "    .dataframe tbody tr th {\n",
       "        vertical-align: top;\n",
       "    }\n",
       "\n",
       "    .dataframe thead th {\n",
       "        text-align: right;\n",
       "    }\n",
       "</style>\n",
       "<table border=\"1\" class=\"dataframe\">\n",
       "  <thead>\n",
       "    <tr style=\"text-align: right;\">\n",
       "      <th></th>\n",
       "      <th>open</th>\n",
       "      <th>high</th>\n",
       "      <th>low</th>\n",
       "      <th>volume</th>\n",
       "    </tr>\n",
       "    <tr>\n",
       "      <th>date</th>\n",
       "      <th></th>\n",
       "      <th></th>\n",
       "      <th></th>\n",
       "      <th></th>\n",
       "    </tr>\n",
       "  </thead>\n",
       "  <tbody>\n",
       "    <tr>\n",
       "      <th>2015-02-02 09:15:00+05:30</th>\n",
       "      <td>0.349195</td>\n",
       "      <td>0.346718</td>\n",
       "      <td>0.346461</td>\n",
       "      <td>0.005714</td>\n",
       "    </tr>\n",
       "    <tr>\n",
       "      <th>2015-02-02 09:25:00+05:30</th>\n",
       "      <td>0.341296</td>\n",
       "      <td>0.343102</td>\n",
       "      <td>0.346488</td>\n",
       "      <td>0.004133</td>\n",
       "    </tr>\n",
       "    <tr>\n",
       "      <th>2015-02-02 09:35:00+05:30</th>\n",
       "      <td>0.343117</td>\n",
       "      <td>0.341586</td>\n",
       "      <td>0.349677</td>\n",
       "      <td>0.003798</td>\n",
       "    </tr>\n",
       "    <tr>\n",
       "      <th>2015-02-02 09:45:00+05:30</th>\n",
       "      <td>0.342474</td>\n",
       "      <td>0.342357</td>\n",
       "      <td>0.349163</td>\n",
       "      <td>0.002508</td>\n",
       "    </tr>\n",
       "    <tr>\n",
       "      <th>2015-02-02 09:55:00+05:30</th>\n",
       "      <td>0.345178</td>\n",
       "      <td>0.343128</td>\n",
       "      <td>0.350731</td>\n",
       "      <td>0.002026</td>\n",
       "    </tr>\n",
       "  </tbody>\n",
       "</table>\n",
       "</div>"
      ],
      "text/plain": [
       "                               open      high       low    volume\n",
       "date                                                             \n",
       "2015-02-02 09:15:00+05:30  0.349195  0.346718  0.346461  0.005714\n",
       "2015-02-02 09:25:00+05:30  0.341296  0.343102  0.346488  0.004133\n",
       "2015-02-02 09:35:00+05:30  0.343117  0.341586  0.349677  0.003798\n",
       "2015-02-02 09:45:00+05:30  0.342474  0.342357  0.349163  0.002508\n",
       "2015-02-02 09:55:00+05:30  0.345178  0.343128  0.350731  0.002026"
      ]
     },
     "execution_count": 9,
     "metadata": {},
     "output_type": "execute_result"
    }
   ],
   "source": [
    "from sklearn.preprocessing import MinMaxScaler\n",
    "scaler = MinMaxScaler()\n",
    "feature_transform = scaler.fit_transform(df[features])\n",
    "feature_transform= pd.DataFrame(columns=features, data=feature_transform, index=df.index)\n",
    "feature_transform.head()"
   ]
  },
  {
   "cell_type": "code",
   "execution_count": 10,
   "metadata": {
    "execution": {
     "iopub.execute_input": "2023-11-28T13:54:10.408783Z",
     "iopub.status.busy": "2023-11-28T13:54:10.408392Z",
     "iopub.status.idle": "2023-11-28T13:54:10.534819Z",
     "shell.execute_reply": "2023-11-28T13:54:10.533416Z",
     "shell.execute_reply.started": "2023-11-28T13:54:10.408748Z"
    }
   },
   "outputs": [],
   "source": [
    "from sklearn.model_selection import TimeSeriesSplit\n",
    "# Splitting to Training set and Test set\n",
    "timesplit= TimeSeriesSplit(n_splits=10) # 90-10%\n",
    "for train_index, test_index in timesplit.split(feature_transform):\n",
    "        X_train, X_test = feature_transform[:len(train_index)], feature_transform[len(train_index): (len(train_index)+len(test_index))]\n",
    "        y_train, y_test = output_var[:len(train_index)].values.ravel(), output_var[len(train_index): (len(train_index)+len(test_index))].values.ravel()"
   ]
  },
  {
   "cell_type": "code",
   "execution_count": 11,
   "metadata": {
    "execution": {
     "iopub.execute_input": "2023-11-28T13:54:10.536982Z",
     "iopub.status.busy": "2023-11-28T13:54:10.536324Z",
     "iopub.status.idle": "2023-11-28T13:54:10.543702Z",
     "shell.execute_reply": "2023-11-28T13:54:10.542310Z",
     "shell.execute_reply.started": "2023-11-28T13:54:10.536949Z"
    }
   },
   "outputs": [
    {
     "name": "stdout",
     "output_type": "stream",
     "text": [
      "(59936, 4)\n",
      "(5993, 4)\n"
     ]
    }
   ],
   "source": [
    "print(X_train.shape)\n",
    "print(X_test.shape)"
   ]
  },
  {
   "cell_type": "code",
   "execution_count": 12,
   "metadata": {
    "execution": {
     "iopub.execute_input": "2023-11-28T13:54:10.545611Z",
     "iopub.status.busy": "2023-11-28T13:54:10.545137Z",
     "iopub.status.idle": "2023-11-28T13:54:10.555680Z",
     "shell.execute_reply": "2023-11-28T13:54:10.554151Z",
     "shell.execute_reply.started": "2023-11-28T13:54:10.545490Z"
    }
   },
   "outputs": [
    {
     "name": "stdout",
     "output_type": "stream",
     "text": [
      "(59936, 1, 4)\n",
      "(5993, 1, 4)\n"
     ]
    }
   ],
   "source": [
    "# Process the data for LSTM\n",
    "trainX =np.array(X_train)\n",
    "testX =np.array(X_test)\n",
    "X_train = trainX.reshape(X_train.shape[0], 1, X_train.shape[1])\n",
    "X_test = testX.reshape(X_test.shape[0], 1, X_test.shape[1])\n",
    "print(X_train.shape)\n",
    "print(X_test.shape)"
   ]
  },
  {
   "cell_type": "markdown",
   "metadata": {},
   "source": [
    "# **Applying LSTM Model**"
   ]
  },
  {
   "cell_type": "code",
   "execution_count": 13,
   "metadata": {
    "execution": {
     "iopub.execute_input": "2023-11-28T13:54:10.557750Z",
     "iopub.status.busy": "2023-11-28T13:54:10.557285Z",
     "iopub.status.idle": "2023-11-28T13:54:26.567722Z",
     "shell.execute_reply": "2023-11-28T13:54:26.566491Z",
     "shell.execute_reply.started": "2023-11-28T13:54:10.557709Z"
    }
   },
   "outputs": [
    {
     "name": "stdout",
     "output_type": "stream",
     "text": [
      "You must install pydot (`pip install pydot`) and install graphviz (see instructions at https://graphviz.gitlab.io/download/) for plot_model to work.\n"
     ]
    }
   ],
   "source": [
    "# Building the LSTM Model\n",
    "import tensorflow as tf\n",
    "lstm = tf.keras.Sequential()\n",
    "lstm.add(tf.keras.layers.LSTM(128, input_shape=(1, trainX.shape[1]), activation='relu', return_sequences=True))\n",
    "lstm.add(tf.keras.layers.LSTM(64, input_shape=(1, trainX.shape[1]), activation='relu', return_sequences=True))\n",
    "lstm.add(tf.keras.layers.LSTM(32, input_shape=(1, trainX.shape[1]), activation='relu', return_sequences=False))\n",
    "lstm.add(tf.keras.layers.Dense(25))\n",
    "lstm.add(tf.keras.layers.Dense(1))\n",
    "lstm.compile(loss='mean_squared_error', optimizer='adam')\n",
    "tf.keras.utils.plot_model(lstm, show_shapes=True, show_layer_names=True)"
   ]
  },
  {
   "cell_type": "code",
   "execution_count": 14,
   "metadata": {
    "execution": {
     "iopub.execute_input": "2023-11-28T13:54:26.570537Z",
     "iopub.status.busy": "2023-11-28T13:54:26.569364Z",
     "iopub.status.idle": "2023-11-28T13:57:56.092094Z",
     "shell.execute_reply": "2023-11-28T13:57:56.090654Z",
     "shell.execute_reply.started": "2023-11-28T13:54:26.570488Z"
    }
   },
   "outputs": [
    {
     "name": "stdout",
     "output_type": "stream",
     "text": [
      "Epoch 1/10\n",
      "3746/3746 [==============================] - 4s 1ms/step - loss: 91343.9453\n",
      "Epoch 2/10\n",
      "3746/3746 [==============================] - 4s 1ms/step - loss: 4398.6211\n",
      "Epoch 3/10\n",
      "3746/3746 [==============================] - 4s 1ms/step - loss: 2813.1804\n",
      "Epoch 4/10\n",
      "3746/3746 [==============================] - 4s 1ms/step - loss: 1864.4447\n",
      "Epoch 5/10\n",
      "3746/3746 [==============================] - 4s 1ms/step - loss: 1243.1355\n",
      "Epoch 6/10\n",
      "3746/3746 [==============================] - 4s 1ms/step - loss: 831.6348\n",
      "Epoch 7/10\n",
      "3746/3746 [==============================] - 4s 1ms/step - loss: 573.2858\n",
      "Epoch 8/10\n",
      "3746/3746 [==============================] - 4s 1ms/step - loss: 397.6643\n",
      "Epoch 9/10\n",
      "3746/3746 [==============================] - 4s 1ms/step - loss: 276.0764\n",
      "Epoch 10/10\n",
      "3746/3746 [==============================] - 4s 1ms/step - loss: 195.9845\n"
     ]
    }
   ],
   "source": [
    "# Model Training\n",
    "history=lstm.fit(X_train, y_train, epochs=10, batch_size=16, verbose=1, shuffle=False)"
   ]
  },
  {
   "cell_type": "code",
   "execution_count": 15,
   "metadata": {
    "execution": {
     "iopub.execute_input": "2023-11-28T13:57:56.094307Z",
     "iopub.status.busy": "2023-11-28T13:57:56.093821Z",
     "iopub.status.idle": "2023-11-28T13:57:57.376839Z",
     "shell.execute_reply": "2023-11-28T13:57:57.375282Z",
     "shell.execute_reply.started": "2023-11-28T13:57:56.094261Z"
    }
   },
   "outputs": [
    {
     "name": "stdout",
     "output_type": "stream",
     "text": [
      "188/188 [==============================] - 0s 490us/step\n"
     ]
    }
   ],
   "source": [
    "#LSTM Prediction\n",
    "y_pred= lstm.predict(X_test)"
   ]
  },
  {
   "cell_type": "code",
   "execution_count": 16,
   "metadata": {
    "execution": {
     "iopub.execute_input": "2023-11-28T13:57:57.379907Z",
     "iopub.status.busy": "2023-11-28T13:57:57.379144Z",
     "iopub.status.idle": "2023-11-28T13:57:58.080009Z",
     "shell.execute_reply": "2023-11-28T13:57:58.078024Z",
     "shell.execute_reply.started": "2023-11-28T13:57:57.379860Z"
    }
   },
   "outputs": [
    {
     "name": "stdout",
     "output_type": "stream",
     "text": [
      "188/188 [==============================] - 0s 468us/step\n",
      "Mean Squared Error: 3172.8734243611025\n"
     ]
    }
   ],
   "source": [
    "from sklearn.metrics import mean_squared_error\n",
    "\n",
    "# Make predictions using the trained model\n",
    "predictions = lstm.predict(X_test)\n",
    "\n",
    "# Calculate Mean Squared Error\n",
    "mse = mean_squared_error(y_test, predictions)\n",
    "print(f'Mean Squared Error: {mse}')"
   ]
  },
  {
   "cell_type": "code",
   "execution_count": 17,
   "metadata": {
    "execution": {
     "iopub.execute_input": "2023-11-28T13:57:58.081790Z",
     "iopub.status.busy": "2023-11-28T13:57:58.081345Z",
     "iopub.status.idle": "2023-11-28T13:57:58.427496Z",
     "shell.execute_reply": "2023-11-28T13:57:58.426266Z",
     "shell.execute_reply.started": "2023-11-28T13:57:58.081758Z"
    }
   },
   "outputs": [
    {
     "data": {
      "image/png": "[encoded data removed]",
      "text/plain": [
       "<Figure size 640x480 with 1 Axes>"
      ]
     },
     "metadata": {},
     "output_type": "display_data"
    }
   ],
   "source": [
    "#Predicted vs True Close Value – LSTM\n",
    "import matplotlib.pyplot as plt\n",
    "plt.plot(y_test, label='True Value')\n",
    "plt.plot(y_pred, label='LSTM Value')\n",
    "plt.title('Prediction by LSTM')\n",
    "plt.xlabel('Time Scale')\n",
    "plt.ylabel('Scaled USD')\n",
    "plt.legend()\n",
    "plt.show()"
   ]
  },
  {
   "cell_type": "code",
   "execution_count": null,
   "metadata": {},
   "outputs": [],
   "source": []
  }
 ],
 "metadata": {
  "kaggle": {
   "accelerator": "none",
   "dataSources": [
    {
     "datasetId": 2575525,
     "sourceId": 5846983,
     "sourceType": "datasetVersion"
    }
   ],
   "dockerImageVersionId": 30587,
   "isGpuEnabled": false,
   "isInternetEnabled": true,
   "language": "python",
   "sourceType": "notebook"
  },
  "kernelspec": {
   "display_name": "Python 3 (ipykernel)",
   "language": "python",
   "name": "python3"
  },
  "language_info": {
   "codemirror_mode": {
    "name": "ipython",
    "version": 3
   },
   "file_extension": ".py",
   "mimetype": "text/x-python",
   "name": "python",
   "nbconvert_exporter": "python",
   "pygments_lexer": "ipython3",
   "version": "3.11.5"
  }
 },
 "nbformat": 4,
 "nbformat_minor": 4
}
