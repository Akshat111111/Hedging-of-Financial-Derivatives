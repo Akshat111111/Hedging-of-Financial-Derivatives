{
 "cells": [
  {
   "cell_type": "code",
   "execution_count": 1,
   "id": "72b9a7f1",
   "metadata": {
    "execution": {
     "iopub.execute_input": "2021-07-20T14:55:36.048756Z",
     "iopub.status.busy": "2021-07-20T14:55:36.047934Z",
     "iopub.status.idle": "2021-07-20T14:55:37.204546Z",
     "shell.execute_reply": "2021-07-20T14:55:37.205150Z",
     "shell.execute_reply.started": "2021-07-20T14:34:29.305253Z"
    },
    "papermill": {
     "duration": 1.189704,
     "end_time": "2021-07-20T14:55:37.205393",
     "exception": false,
     "start_time": "2021-07-20T14:55:36.015689",
     "status": "completed"
    },
    "tags": []
   },
   "outputs": [],
   "source": [
    "import matplotlib.pyplot as plt\n",
    "import seaborn as sns\n",
    "import pandas as pd\n",
    "\n",
    "sns.set()"
   ]
  },
  {
   "cell_type": "code",
   "execution_count": 2,
   "id": "fa9c2ac1",
   "metadata": {
    "execution": {
     "iopub.execute_input": "2021-07-20T14:55:37.265665Z",
     "iopub.status.busy": "2021-07-20T14:55:37.264677Z",
     "iopub.status.idle": "2021-07-20T14:55:37.339625Z",
     "shell.execute_reply": "2021-07-20T14:55:37.339038Z",
     "shell.execute_reply.started": "2021-07-20T14:34:29.313128Z"
    },
    "papermill": {
     "duration": 0.107442,
     "end_time": "2021-07-20T14:55:37.339790",
     "exception": false,
     "start_time": "2021-07-20T14:55:37.232348",
     "status": "completed"
    },
    "tags": []
   },
   "outputs": [
    {
     "data": {
      "text/html": [
       "<div>\n",
       "<style scoped>\n",
       "    .dataframe tbody tr th:only-of-type {\n",
       "        vertical-align: middle;\n",
       "    }\n",
       "\n",
       "    .dataframe tbody tr th {\n",
       "        vertical-align: top;\n",
       "    }\n",
       "\n",
       "    .dataframe thead th {\n",
       "        text-align: right;\n",
       "    }\n",
       "</style>\n",
       "<table border=\"1\" class=\"dataframe\">\n",
       "  <thead>\n",
       "    <tr style=\"text-align: right;\">\n",
       "      <th></th>\n",
       "      <th>Date</th>\n",
       "      <th>Symbol</th>\n",
       "      <th>Series</th>\n",
       "      <th>Prev Close</th>\n",
       "      <th>Open</th>\n",
       "      <th>High</th>\n",
       "      <th>Low</th>\n",
       "      <th>Last</th>\n",
       "      <th>Close</th>\n",
       "      <th>VWAP</th>\n",
       "      <th>Volume</th>\n",
       "      <th>Turnover</th>\n",
       "      <th>Trades</th>\n",
       "      <th>Deliverable Volume</th>\n",
       "      <th>%Deliverble</th>\n",
       "    </tr>\n",
       "  </thead>\n",
       "  <tbody>\n",
       "    <tr>\n",
       "      <th>0</th>\n",
       "      <td>2007-11-27</td>\n",
       "      <td>MUNDRAPORT</td>\n",
       "      <td>EQ</td>\n",
       "      <td>440.00</td>\n",
       "      <td>770.00</td>\n",
       "      <td>1050.00</td>\n",
       "      <td>770.0</td>\n",
       "      <td>959.0</td>\n",
       "      <td>962.90</td>\n",
       "      <td>984.72</td>\n",
       "      <td>27294366</td>\n",
       "      <td>2.687719e+15</td>\n",
       "      <td>NaN</td>\n",
       "      <td>9859619</td>\n",
       "      <td>0.3612</td>\n",
       "    </tr>\n",
       "    <tr>\n",
       "      <th>1</th>\n",
       "      <td>2007-11-28</td>\n",
       "      <td>MUNDRAPORT</td>\n",
       "      <td>EQ</td>\n",
       "      <td>962.90</td>\n",
       "      <td>984.00</td>\n",
       "      <td>990.00</td>\n",
       "      <td>874.0</td>\n",
       "      <td>885.0</td>\n",
       "      <td>893.90</td>\n",
       "      <td>941.38</td>\n",
       "      <td>4581338</td>\n",
       "      <td>4.312765e+14</td>\n",
       "      <td>NaN</td>\n",
       "      <td>1453278</td>\n",
       "      <td>0.3172</td>\n",
       "    </tr>\n",
       "    <tr>\n",
       "      <th>2</th>\n",
       "      <td>2007-11-29</td>\n",
       "      <td>MUNDRAPORT</td>\n",
       "      <td>EQ</td>\n",
       "      <td>893.90</td>\n",
       "      <td>909.00</td>\n",
       "      <td>914.75</td>\n",
       "      <td>841.0</td>\n",
       "      <td>887.0</td>\n",
       "      <td>884.20</td>\n",
       "      <td>888.09</td>\n",
       "      <td>5124121</td>\n",
       "      <td>4.550658e+14</td>\n",
       "      <td>NaN</td>\n",
       "      <td>1069678</td>\n",
       "      <td>0.2088</td>\n",
       "    </tr>\n",
       "    <tr>\n",
       "      <th>3</th>\n",
       "      <td>2007-11-30</td>\n",
       "      <td>MUNDRAPORT</td>\n",
       "      <td>EQ</td>\n",
       "      <td>884.20</td>\n",
       "      <td>890.00</td>\n",
       "      <td>958.00</td>\n",
       "      <td>890.0</td>\n",
       "      <td>929.0</td>\n",
       "      <td>921.55</td>\n",
       "      <td>929.17</td>\n",
       "      <td>4609762</td>\n",
       "      <td>4.283257e+14</td>\n",
       "      <td>NaN</td>\n",
       "      <td>1260913</td>\n",
       "      <td>0.2735</td>\n",
       "    </tr>\n",
       "    <tr>\n",
       "      <th>4</th>\n",
       "      <td>2007-12-03</td>\n",
       "      <td>MUNDRAPORT</td>\n",
       "      <td>EQ</td>\n",
       "      <td>921.55</td>\n",
       "      <td>939.75</td>\n",
       "      <td>995.00</td>\n",
       "      <td>922.0</td>\n",
       "      <td>980.0</td>\n",
       "      <td>969.30</td>\n",
       "      <td>965.65</td>\n",
       "      <td>2977470</td>\n",
       "      <td>2.875200e+14</td>\n",
       "      <td>NaN</td>\n",
       "      <td>816123</td>\n",
       "      <td>0.2741</td>\n",
       "    </tr>\n",
       "  </tbody>\n",
       "</table>\n",
       "</div>"
      ],
      "text/plain": [
       "         Date      Symbol Series  Prev Close    Open     High    Low   Last  \\\n",
       "0  2007-11-27  MUNDRAPORT     EQ      440.00  770.00  1050.00  770.0  959.0   \n",
       "1  2007-11-28  MUNDRAPORT     EQ      962.90  984.00   990.00  874.0  885.0   \n",
       "2  2007-11-29  MUNDRAPORT     EQ      893.90  909.00   914.75  841.0  887.0   \n",
       "3  2007-11-30  MUNDRAPORT     EQ      884.20  890.00   958.00  890.0  929.0   \n",
       "4  2007-12-03  MUNDRAPORT     EQ      921.55  939.75   995.00  922.0  980.0   \n",
       "\n",
       "    Close    VWAP    Volume      Turnover  Trades  Deliverable Volume  \\\n",
       "0  962.90  984.72  27294366  2.687719e+15     NaN             9859619   \n",
       "1  893.90  941.38   4581338  4.312765e+14     NaN             1453278   \n",
       "2  884.20  888.09   5124121  4.550658e+14     NaN             1069678   \n",
       "3  921.55  929.17   4609762  4.283257e+14     NaN             1260913   \n",
       "4  969.30  965.65   2977470  2.875200e+14     NaN              816123   \n",
       "\n",
       "   %Deliverble  \n",
       "0       0.3612  \n",
       "1       0.3172  \n",
       "2       0.2088  \n",
       "3       0.2735  \n",
       "4       0.2741  "
      ]
     },
     "execution_count": 2,
     "metadata": {},
     "output_type": "execute_result"
    }
   ],
   "source": [
    "data=pd.read_csv('ADANIPORTS (1).csv')\n",
    "data.head()"
   ]
  },
  {
   "cell_type": "code",
   "execution_count": 3,
   "id": "d755d1b1",
   "metadata": {
    "execution": {
     "iopub.execute_input": "2021-07-20T14:55:37.418157Z",
     "iopub.status.busy": "2021-07-20T14:55:37.408846Z",
     "iopub.status.idle": "2021-07-20T14:55:37.426756Z",
     "shell.execute_reply": "2021-07-20T14:55:37.426198Z",
     "shell.execute_reply.started": "2021-07-20T14:34:29.368586Z"
    },
    "papermill": {
     "duration": 0.059662,
     "end_time": "2021-07-20T14:55:37.426932",
     "exception": false,
     "start_time": "2021-07-20T14:55:37.367270",
     "status": "completed"
    },
    "tags": []
   },
   "outputs": [
    {
     "data": {
      "text/html": [
       "<div>\n",
       "<style scoped>\n",
       "    .dataframe tbody tr th:only-of-type {\n",
       "        vertical-align: middle;\n",
       "    }\n",
       "\n",
       "    .dataframe tbody tr th {\n",
       "        vertical-align: top;\n",
       "    }\n",
       "\n",
       "    .dataframe thead th {\n",
       "        text-align: right;\n",
       "    }\n",
       "</style>\n",
       "<table border=\"1\" class=\"dataframe\">\n",
       "  <thead>\n",
       "    <tr style=\"text-align: right;\">\n",
       "      <th></th>\n",
       "      <th>Date</th>\n",
       "      <th>Symbol</th>\n",
       "      <th>Series</th>\n",
       "      <th>Prev Close</th>\n",
       "      <th>Open</th>\n",
       "      <th>High</th>\n",
       "      <th>Low</th>\n",
       "      <th>Last</th>\n",
       "      <th>Close</th>\n",
       "      <th>VWAP</th>\n",
       "      <th>Volume</th>\n",
       "      <th>Turnover</th>\n",
       "      <th>Trades</th>\n",
       "      <th>Deliverable Volume</th>\n",
       "      <th>%Deliverble</th>\n",
       "    </tr>\n",
       "  </thead>\n",
       "  <tbody>\n",
       "    <tr>\n",
       "      <th>3317</th>\n",
       "      <td>2021-04-26</td>\n",
       "      <td>ADANIPORTS</td>\n",
       "      <td>EQ</td>\n",
       "      <td>725.35</td>\n",
       "      <td>733.0</td>\n",
       "      <td>739.65</td>\n",
       "      <td>728.90</td>\n",
       "      <td>729.2</td>\n",
       "      <td>730.75</td>\n",
       "      <td>733.25</td>\n",
       "      <td>9390549</td>\n",
       "      <td>6.885658e+14</td>\n",
       "      <td>116457.0</td>\n",
       "      <td>838079</td>\n",
       "      <td>0.0892</td>\n",
       "    </tr>\n",
       "    <tr>\n",
       "      <th>3318</th>\n",
       "      <td>2021-04-27</td>\n",
       "      <td>ADANIPORTS</td>\n",
       "      <td>EQ</td>\n",
       "      <td>730.75</td>\n",
       "      <td>735.0</td>\n",
       "      <td>757.50</td>\n",
       "      <td>727.35</td>\n",
       "      <td>748.6</td>\n",
       "      <td>749.15</td>\n",
       "      <td>747.67</td>\n",
       "      <td>20573107</td>\n",
       "      <td>1.538191e+15</td>\n",
       "      <td>236896.0</td>\n",
       "      <td>1779639</td>\n",
       "      <td>0.0865</td>\n",
       "    </tr>\n",
       "    <tr>\n",
       "      <th>3319</th>\n",
       "      <td>2021-04-28</td>\n",
       "      <td>ADANIPORTS</td>\n",
       "      <td>EQ</td>\n",
       "      <td>749.15</td>\n",
       "      <td>755.0</td>\n",
       "      <td>760.00</td>\n",
       "      <td>741.10</td>\n",
       "      <td>743.4</td>\n",
       "      <td>746.25</td>\n",
       "      <td>751.02</td>\n",
       "      <td>11156977</td>\n",
       "      <td>8.379106e+14</td>\n",
       "      <td>130847.0</td>\n",
       "      <td>1342353</td>\n",
       "      <td>0.1203</td>\n",
       "    </tr>\n",
       "    <tr>\n",
       "      <th>3320</th>\n",
       "      <td>2021-04-29</td>\n",
       "      <td>ADANIPORTS</td>\n",
       "      <td>EQ</td>\n",
       "      <td>746.25</td>\n",
       "      <td>753.2</td>\n",
       "      <td>765.85</td>\n",
       "      <td>743.40</td>\n",
       "      <td>746.4</td>\n",
       "      <td>746.75</td>\n",
       "      <td>753.06</td>\n",
       "      <td>13851910</td>\n",
       "      <td>1.043139e+15</td>\n",
       "      <td>153293.0</td>\n",
       "      <td>1304895</td>\n",
       "      <td>0.0942</td>\n",
       "    </tr>\n",
       "    <tr>\n",
       "      <th>3321</th>\n",
       "      <td>2021-04-30</td>\n",
       "      <td>ADANIPORTS</td>\n",
       "      <td>EQ</td>\n",
       "      <td>746.75</td>\n",
       "      <td>739.0</td>\n",
       "      <td>759.45</td>\n",
       "      <td>724.50</td>\n",
       "      <td>726.4</td>\n",
       "      <td>730.05</td>\n",
       "      <td>743.35</td>\n",
       "      <td>12600934</td>\n",
       "      <td>9.366911e+14</td>\n",
       "      <td>132141.0</td>\n",
       "      <td>3514692</td>\n",
       "      <td>0.2789</td>\n",
       "    </tr>\n",
       "  </tbody>\n",
       "</table>\n",
       "</div>"
      ],
      "text/plain": [
       "            Date      Symbol Series  Prev Close   Open    High     Low   Last  \\\n",
       "3317  2021-04-26  ADANIPORTS     EQ      725.35  733.0  739.65  728.90  729.2   \n",
       "3318  2021-04-27  ADANIPORTS     EQ      730.75  735.0  757.50  727.35  748.6   \n",
       "3319  2021-04-28  ADANIPORTS     EQ      749.15  755.0  760.00  741.10  743.4   \n",
       "3320  2021-04-29  ADANIPORTS     EQ      746.25  753.2  765.85  743.40  746.4   \n",
       "3321  2021-04-30  ADANIPORTS     EQ      746.75  739.0  759.45  724.50  726.4   \n",
       "\n",
       "       Close    VWAP    Volume      Turnover    Trades  Deliverable Volume  \\\n",
       "3317  730.75  733.25   9390549  6.885658e+14  116457.0              838079   \n",
       "3318  749.15  747.67  20573107  1.538191e+15  236896.0             1779639   \n",
       "3319  746.25  751.02  11156977  8.379106e+14  130847.0             1342353   \n",
       "3320  746.75  753.06  13851910  1.043139e+15  153293.0             1304895   \n",
       "3321  730.05  743.35  12600934  9.366911e+14  132141.0             3514692   \n",
       "\n",
       "      %Deliverble  \n",
       "3317       0.0892  \n",
       "3318       0.0865  \n",
       "3319       0.1203  \n",
       "3320       0.0942  \n",
       "3321       0.2789  "
      ]
     },
     "execution_count": 3,
     "metadata": {},
     "output_type": "execute_result"
    }
   ],
   "source": [
    "data.tail()"
   ]
  },
  {
   "cell_type": "code",
   "execution_count": 4,
   "id": "e03f466f",
   "metadata": {
    "execution": {
     "iopub.execute_input": "2021-07-20T14:55:37.493325Z",
     "iopub.status.busy": "2021-07-20T14:55:37.490247Z",
     "iopub.status.idle": "2021-07-20T14:55:37.515521Z",
     "shell.execute_reply": "2021-07-20T14:55:37.516074Z",
     "shell.execute_reply.started": "2021-07-20T14:34:29.396302Z"
    },
    "papermill": {
     "duration": 0.061164,
     "end_time": "2021-07-20T14:55:37.516313",
     "exception": false,
     "start_time": "2021-07-20T14:55:37.455149",
     "status": "completed"
    },
    "tags": []
   },
   "outputs": [
    {
     "name": "stdout",
     "output_type": "stream",
     "text": [
      "<class 'pandas.core.frame.DataFrame'>\n",
      "RangeIndex: 3322 entries, 0 to 3321\n",
      "Data columns (total 15 columns):\n",
      " #   Column              Non-Null Count  Dtype  \n",
      "---  ------              --------------  -----  \n",
      " 0   Date                3322 non-null   object \n",
      " 1   Symbol              3322 non-null   object \n",
      " 2   Series              3322 non-null   object \n",
      " 3   Prev Close          3322 non-null   float64\n",
      " 4   Open                3322 non-null   float64\n",
      " 5   High                3322 non-null   float64\n",
      " 6   Low                 3322 non-null   float64\n",
      " 7   Last                3322 non-null   float64\n",
      " 8   Close               3322 non-null   float64\n",
      " 9   VWAP                3322 non-null   float64\n",
      " 10  Volume              3322 non-null   int64  \n",
      " 11  Turnover            3322 non-null   float64\n",
      " 12  Trades              2456 non-null   float64\n",
      " 13  Deliverable Volume  3322 non-null   int64  \n",
      " 14  %Deliverble         3322 non-null   float64\n",
      "dtypes: float64(10), int64(2), object(3)\n",
      "memory usage: 389.4+ KB\n"
     ]
    }
   ],
   "source": [
    "data.info()"
   ]
  },
  {
   "cell_type": "code",
   "execution_count": 5,
   "id": "19ae5cdd",
   "metadata": {
    "execution": {
     "iopub.execute_input": "2021-07-20T14:55:37.579941Z",
     "iopub.status.busy": "2021-07-20T14:55:37.578911Z",
     "iopub.status.idle": "2021-07-20T14:55:37.584263Z",
     "shell.execute_reply": "2021-07-20T14:55:37.583665Z",
     "shell.execute_reply.started": "2021-07-20T14:34:29.421228Z"
    },
    "papermill": {
     "duration": 0.039475,
     "end_time": "2021-07-20T14:55:37.584426",
     "exception": false,
     "start_time": "2021-07-20T14:55:37.544951",
     "status": "completed"
    },
    "tags": []
   },
   "outputs": [
    {
     "data": {
      "text/plain": [
       "(3322, 15)"
      ]
     },
     "execution_count": 5,
     "metadata": {},
     "output_type": "execute_result"
    }
   ],
   "source": [
    "data.shape"
   ]
  },
  {
   "cell_type": "code",
   "execution_count": 6,
   "id": "f3052b26",
   "metadata": {
    "execution": {
     "iopub.execute_input": "2021-07-20T14:55:37.650315Z",
     "iopub.status.busy": "2021-07-20T14:55:37.649517Z",
     "iopub.status.idle": "2021-07-20T14:55:37.660967Z",
     "shell.execute_reply": "2021-07-20T14:55:37.660352Z",
     "shell.execute_reply.started": "2021-07-20T14:34:29.430223Z"
    },
    "papermill": {
     "duration": 0.045453,
     "end_time": "2021-07-20T14:55:37.661120",
     "exception": false,
     "start_time": "2021-07-20T14:55:37.615667",
     "status": "completed"
    },
    "tags": []
   },
   "outputs": [
    {
     "data": {
      "text/plain": [
       "0       962.90\n",
       "1       893.90\n",
       "2       884.20\n",
       "3       921.55\n",
       "4       969.30\n",
       "         ...  \n",
       "3317    730.75\n",
       "3318    749.15\n",
       "3319    746.25\n",
       "3320    746.75\n",
       "3321    730.05\n",
       "Name: Close, Length: 3322, dtype: float64"
      ]
     },
     "execution_count": 6,
     "metadata": {},
     "output_type": "execute_result"
    }
   ],
   "source": [
    "df1=data.reset_index()['Close']\n",
    "df1"
   ]
  },
  {
   "cell_type": "code",
   "execution_count": 7,
   "id": "b519e4b7",
   "metadata": {
    "execution": {
     "iopub.execute_input": "2021-07-20T14:55:37.726902Z",
     "iopub.status.busy": "2021-07-20T14:55:37.726190Z",
     "iopub.status.idle": "2021-07-20T14:55:37.984372Z",
     "shell.execute_reply": "2021-07-20T14:55:37.984925Z",
     "shell.execute_reply.started": "2021-07-20T14:34:29.452133Z"
    },
    "papermill": {
     "duration": 0.295059,
     "end_time": "2021-07-20T14:55:37.985141",
     "exception": false,
     "start_time": "2021-07-20T14:55:37.690082",
     "status": "completed"
    },
    "tags": []
   },
   "outputs": [
    {
     "data": {
      "text/plain": [
       "[<matplotlib.lines.Line2D at 0x15e30ead0>]"
      ]
     },
     "execution_count": 7,
     "metadata": {},
     "output_type": "execute_result"
    },
    {
     "data": {
      "image/png": "[encoded data removed]",
      "text/plain": [
       "<Figure size 640x480 with 1 Axes>"
      ]
     },
     "metadata": {},
     "output_type": "display_data"
    }
   ],
   "source": [
    "plt.plot(df1)"
   ]
  },
  {
   "cell_type": "code",
   "execution_count": 8,
   "id": "c57bb31c",
   "metadata": {
    "execution": {
     "iopub.execute_input": "2021-07-20T14:55:38.054360Z",
     "iopub.status.busy": "2021-07-20T14:55:38.053582Z",
     "iopub.status.idle": "2021-07-20T14:55:38.202957Z",
     "shell.execute_reply": "2021-07-20T14:55:38.203452Z",
     "shell.execute_reply.started": "2021-07-20T14:34:29.674969Z"
    },
    "papermill": {
     "duration": 0.186884,
     "end_time": "2021-07-20T14:55:38.203720",
     "exception": false,
     "start_time": "2021-07-20T14:55:38.016836",
     "status": "completed"
    },
    "tags": []
   },
   "outputs": [],
   "source": [
    "from sklearn.preprocessing import MinMaxScaler\n",
    "import numpy as np\n",
    "scaler=MinMaxScaler(feature_range=(0,1))\n",
    "df1=scaler.fit_transform(np.array(df1).reshape(-1,1))"
   ]
  },
  {
   "cell_type": "code",
   "execution_count": 9,
   "id": "07be34a7",
   "metadata": {
    "execution": {
     "iopub.execute_input": "2021-07-20T14:55:38.268508Z",
     "iopub.status.busy": "2021-07-20T14:55:38.267519Z",
     "iopub.status.idle": "2021-07-20T14:55:38.274655Z",
     "shell.execute_reply": "2021-07-20T14:55:38.273988Z",
     "shell.execute_reply.started": "2021-07-20T14:34:29.682071Z"
    },
    "papermill": {
     "duration": 0.040687,
     "end_time": "2021-07-20T14:55:38.274816",
     "exception": false,
     "start_time": "2021-07-20T14:55:38.234129",
     "status": "completed"
    },
    "tags": []
   },
   "outputs": [
    {
     "data": {
      "text/plain": [
       "(3322, 1)"
      ]
     },
     "execution_count": 9,
     "metadata": {},
     "output_type": "execute_result"
    }
   ],
   "source": [
    "df1.shape"
   ]
  },
  {
   "cell_type": "code",
   "execution_count": 10,
   "id": "95299364",
   "metadata": {
    "execution": {
     "iopub.execute_input": "2021-07-20T14:55:38.342660Z",
     "iopub.status.busy": "2021-07-20T14:55:38.341858Z",
     "iopub.status.idle": "2021-07-20T14:55:38.344655Z",
     "shell.execute_reply": "2021-07-20T14:55:38.345154Z",
     "shell.execute_reply.started": "2021-07-20T14:34:29.697705Z"
    },
    "papermill": {
     "duration": 0.039862,
     "end_time": "2021-07-20T14:55:38.345347",
     "exception": false,
     "start_time": "2021-07-20T14:55:38.305485",
     "status": "completed"
    },
    "tags": []
   },
   "outputs": [],
   "source": [
    "train_size = int(len(df1)*0.65)\n",
    "test_size = len(df1) - train_size\n",
    "train_data,test_data = df1[0:train_size,:], df1[train_size:len(df1),:]"
   ]
  },
  {
   "cell_type": "code",
   "execution_count": 11,
   "id": "cdcd2321",
   "metadata": {
    "execution": {
     "iopub.execute_input": "2021-07-20T14:55:38.412507Z",
     "iopub.status.busy": "2021-07-20T14:55:38.411584Z",
     "iopub.status.idle": "2021-07-20T14:55:38.416300Z",
     "shell.execute_reply": "2021-07-20T14:55:38.415656Z",
     "shell.execute_reply.started": "2021-07-20T14:34:29.710891Z"
    },
    "papermill": {
     "duration": 0.040274,
     "end_time": "2021-07-20T14:55:38.416453",
     "exception": false,
     "start_time": "2021-07-20T14:55:38.376179",
     "status": "completed"
    },
    "tags": []
   },
   "outputs": [
    {
     "data": {
      "text/plain": [
       "2159"
      ]
     },
     "execution_count": 11,
     "metadata": {},
     "output_type": "execute_result"
    }
   ],
   "source": [
    "train_size"
   ]
  },
  {
   "cell_type": "code",
   "execution_count": 12,
   "id": "3764c1ed",
   "metadata": {
    "execution": {
     "iopub.execute_input": "2021-07-20T14:55:38.486779Z",
     "iopub.status.busy": "2021-07-20T14:55:38.486072Z",
     "iopub.status.idle": "2021-07-20T14:55:38.489383Z",
     "shell.execute_reply": "2021-07-20T14:55:38.488830Z",
     "shell.execute_reply.started": "2021-07-20T14:34:29.732359Z"
    },
    "papermill": {
     "duration": 0.040478,
     "end_time": "2021-07-20T14:55:38.489533",
     "exception": false,
     "start_time": "2021-07-20T14:55:38.449055",
     "status": "completed"
    },
    "tags": []
   },
   "outputs": [],
   "source": [
    "def create_dataset(dataset, time_step=1):\n",
    "\tdataX, dataY = [], []\n",
    "\tfor i in range(len(dataset)-time_step-1):\n",
    "\t\ta = dataset[i:(i+time_step), 0]   ###i=0, 0,1,2,3-----99   100 \n",
    "\t\tdataX.append(a)\n",
    "\t\tdataY.append(dataset[i + time_step, 0])\n",
    "\treturn np.array(dataX), np.array(dataY)"
   ]
  },
  {
   "cell_type": "code",
   "execution_count": 13,
   "id": "ac7ecc15",
   "metadata": {
    "execution": {
     "iopub.execute_input": "2021-07-20T14:55:38.560813Z",
     "iopub.status.busy": "2021-07-20T14:55:38.560092Z",
     "iopub.status.idle": "2021-07-20T14:55:38.574860Z",
     "shell.execute_reply": "2021-07-20T14:55:38.574260Z",
     "shell.execute_reply.started": "2021-07-20T14:34:29.743459Z"
    },
    "papermill": {
     "duration": 0.054683,
     "end_time": "2021-07-20T14:55:38.575035",
     "exception": false,
     "start_time": "2021-07-20T14:55:38.520352",
     "status": "completed"
    },
    "tags": []
   },
   "outputs": [],
   "source": [
    "time_step = 100\n",
    "X_train, y_train = create_dataset(train_data,time_step)\n",
    "X_test, y_test = create_dataset(test_data, time_step)"
   ]
  },
  {
   "cell_type": "code",
   "execution_count": 14,
   "id": "4972002f",
   "metadata": {
    "execution": {
     "iopub.execute_input": "2021-07-20T14:55:38.644182Z",
     "iopub.status.busy": "2021-07-20T14:55:38.643330Z",
     "iopub.status.idle": "2021-07-20T14:55:38.649583Z",
     "shell.execute_reply": "2021-07-20T14:55:38.648691Z",
     "shell.execute_reply.started": "2021-07-20T14:34:29.769024Z"
    },
    "papermill": {
     "duration": 0.043469,
     "end_time": "2021-07-20T14:55:38.649823",
     "exception": false,
     "start_time": "2021-07-20T14:55:38.606354",
     "status": "completed"
    },
    "tags": []
   },
   "outputs": [
    {
     "name": "stdout",
     "output_type": "stream",
     "text": [
      "(2058, 100) (2058,)\n"
     ]
    }
   ],
   "source": [
    "print(X_train.shape,y_train.shape)"
   ]
  },
  {
   "cell_type": "code",
   "execution_count": 15,
   "id": "b28eda01",
   "metadata": {
    "execution": {
     "iopub.execute_input": "2021-07-20T14:55:38.718419Z",
     "iopub.status.busy": "2021-07-20T14:55:38.717768Z",
     "iopub.status.idle": "2021-07-20T14:55:38.719505Z",
     "shell.execute_reply": "2021-07-20T14:55:38.720088Z",
     "shell.execute_reply.started": "2021-07-20T14:34:29.777631Z"
    },
    "papermill": {
     "duration": 0.038749,
     "end_time": "2021-07-20T14:55:38.720255",
     "exception": false,
     "start_time": "2021-07-20T14:55:38.681506",
     "status": "completed"
    },
    "tags": []
   },
   "outputs": [],
   "source": [
    "# reshape input to be [samples, time steps, features] which is required for LSTM\n",
    "X_train =X_train.reshape(X_train.shape[0],X_train.shape[1] , 1)\n",
    "X_test = X_test.reshape(X_test.shape[0],X_test.shape[1] , 1)"
   ]
  },
  {
   "cell_type": "code",
   "execution_count": 16,
   "id": "7406d263",
   "metadata": {
    "execution": {
     "iopub.execute_input": "2021-07-20T14:55:38.786570Z",
     "iopub.status.busy": "2021-07-20T14:55:38.785919Z",
     "iopub.status.idle": "2021-07-20T14:55:45.119881Z",
     "shell.execute_reply": "2021-07-20T14:55:45.120422Z",
     "shell.execute_reply.started": "2021-07-20T14:34:29.788681Z"
    },
    "papermill": {
     "duration": 6.368847,
     "end_time": "2021-07-20T14:55:45.120631",
     "exception": false,
     "start_time": "2021-07-20T14:55:38.751784",
     "status": "completed"
    },
    "tags": []
   },
   "outputs": [],
   "source": [
    "from tensorflow.keras.models import Sequential\n",
    "from tensorflow.keras.layers import LSTM,Dense\n",
    "import tensorflow as tf"
   ]
  },
  {
   "cell_type": "code",
   "execution_count": 17,
   "id": "7485870f",
   "metadata": {
    "execution": {
     "iopub.execute_input": "2021-07-20T14:55:45.188791Z",
     "iopub.status.busy": "2021-07-20T14:55:45.188079Z",
     "iopub.status.idle": "2021-07-20T14:55:46.503226Z",
     "shell.execute_reply": "2021-07-20T14:55:46.502677Z",
     "shell.execute_reply.started": "2021-07-20T14:34:29.804654Z"
    },
    "papermill": {
     "duration": 1.349899,
     "end_time": "2021-07-20T14:55:46.503391",
     "exception": false,
     "start_time": "2021-07-20T14:55:45.153492",
     "status": "completed"
    },
    "tags": []
   },
   "outputs": [
    {
     "name": "stdout",
     "output_type": "stream",
     "text": [
      "Model: \"sequential\"\n",
      "_________________________________________________________________\n",
      " Layer (type)                Output Shape              Param #   \n",
      "=================================================================\n",
      " lstm (LSTM)                 (None, 100, 50)           10400     \n",
      "                                                                 \n",
      " lstm_1 (LSTM)               (None, 100, 50)           20200     \n",
      "                                                                 \n",
      " lstm_2 (LSTM)               (None, 50)                20200     \n",
      "                                                                 \n",
      " dense (Dense)               (None, 1)                 51        \n",
      "                                                                 \n",
      "=================================================================\n",
      "Total params: 50851 (198.64 KB)\n",
      "Trainable params: 50851 (198.64 KB)\n",
      "Non-trainable params: 0 (0.00 Byte)\n",
      "_________________________________________________________________\n"
     ]
    }
   ],
   "source": [
    "model = Sequential()\n",
    "model.add(LSTM(50, return_sequences= True, input_shape=(100,1)))\n",
    "model.add(LSTM(50, return_sequences= True))\n",
    "model.add(LSTM(50))\n",
    "model.add(Dense(1))\n",
    "model.compile(loss='mean_squared_error', optimizer='adam')\n",
    "\n",
    "model.summary()"
   ]
  },
  {
   "cell_type": "code",
   "execution_count": 18,
   "id": "1d3f23b2",
   "metadata": {
    "execution": {
     "iopub.execute_input": "2021-07-20T14:55:46.575197Z",
     "iopub.status.busy": "2021-07-20T14:55:46.574446Z",
     "iopub.status.idle": "2021-07-20T15:13:21.767795Z",
     "shell.execute_reply": "2021-07-20T15:13:21.767167Z",
     "shell.execute_reply.started": "2021-07-20T14:34:30.569911Z"
    },
    "papermill": {
     "duration": 1055.232092,
     "end_time": "2021-07-20T15:13:21.768045",
     "exception": false,
     "start_time": "2021-07-20T14:55:46.535953",
     "status": "completed"
    },
    "scrolled": false,
    "tags": []
   },
   "outputs": [
    {
     "name": "stdout",
     "output_type": "stream",
     "text": [
      "Epoch 1/100\n",
      "33/33 [==============================] - 4s 75ms/step - loss: 0.0078 - val_loss: 0.0010\n",
      "Epoch 2/100\n",
      "33/33 [==============================] - 2s 65ms/step - loss: 0.0022 - val_loss: 4.5850e-04\n",
      "Epoch 3/100\n",
      "33/33 [==============================] - 2s 67ms/step - loss: 0.0017 - val_loss: 4.6893e-04\n",
      "Epoch 4/100\n",
      "33/33 [==============================] - 2s 70ms/step - loss: 0.0014 - val_loss: 3.5153e-04\n",
      "Epoch 5/100\n",
      "33/33 [==============================] - 2s 68ms/step - loss: 0.0012 - val_loss: 3.4421e-04\n",
      "Epoch 6/100\n",
      "33/33 [==============================] - 2s 68ms/step - loss: 0.0012 - val_loss: 3.0841e-04\n",
      "Epoch 7/100\n",
      "33/33 [==============================] - 2s 69ms/step - loss: 0.0011 - val_loss: 2.8191e-04\n",
      "Epoch 8/100\n",
      "33/33 [==============================] - 2s 69ms/step - loss: 0.0011 - val_loss: 3.4277e-04\n",
      "Epoch 9/100\n",
      "33/33 [==============================] - 2s 72ms/step - loss: 0.0011 - val_loss: 3.1744e-04\n",
      "Epoch 10/100\n",
      "33/33 [==============================] - 3s 77ms/step - loss: 0.0011 - val_loss: 3.8321e-04\n",
      "Epoch 11/100\n",
      "33/33 [==============================] - 2s 75ms/step - loss: 9.4567e-04 - val_loss: 2.5136e-04\n",
      "Epoch 12/100\n",
      "33/33 [==============================] - 2s 74ms/step - loss: 8.7902e-04 - val_loss: 2.7102e-04\n",
      "Epoch 13/100\n",
      "33/33 [==============================] - 2s 70ms/step - loss: 9.0554e-04 - val_loss: 2.3552e-04\n",
      "Epoch 14/100\n",
      "33/33 [==============================] - 2s 71ms/step - loss: 7.8593e-04 - val_loss: 2.3243e-04\n",
      "Epoch 15/100\n",
      "33/33 [==============================] - 2s 70ms/step - loss: 7.4730e-04 - val_loss: 2.1857e-04\n",
      "Epoch 16/100\n",
      "33/33 [==============================] - 2s 75ms/step - loss: 7.0923e-04 - val_loss: 4.7010e-04\n",
      "Epoch 17/100\n",
      "33/33 [==============================] - 3s 76ms/step - loss: 8.6088e-04 - val_loss: 1.8180e-04\n",
      "Epoch 18/100\n",
      "33/33 [==============================] - 2s 72ms/step - loss: 6.3069e-04 - val_loss: 1.8000e-04\n",
      "Epoch 19/100\n",
      "33/33 [==============================] - 2s 72ms/step - loss: 6.5218e-04 - val_loss: 3.5429e-04\n",
      "Epoch 20/100\n",
      "33/33 [==============================] - 2s 73ms/step - loss: 6.1465e-04 - val_loss: 2.5985e-04\n",
      "Epoch 21/100\n",
      "33/33 [==============================] - 2s 72ms/step - loss: 5.4116e-04 - val_loss: 1.6346e-04\n",
      "Epoch 22/100\n",
      "33/33 [==============================] - 2s 73ms/step - loss: 5.0744e-04 - val_loss: 1.8254e-04\n",
      "Epoch 23/100\n",
      "33/33 [==============================] - 2s 74ms/step - loss: 4.6310e-04 - val_loss: 2.7290e-04\n",
      "Epoch 24/100\n",
      "33/33 [==============================] - 2s 75ms/step - loss: 5.1250e-04 - val_loss: 1.9303e-04\n",
      "Epoch 25/100\n",
      "33/33 [==============================] - 2s 75ms/step - loss: 4.5657e-04 - val_loss: 4.1381e-04\n",
      "Epoch 26/100\n",
      "33/33 [==============================] - 2s 75ms/step - loss: 5.8618e-04 - val_loss: 1.8612e-04\n",
      "Epoch 27/100\n",
      "33/33 [==============================] - 3s 77ms/step - loss: 4.1431e-04 - val_loss: 1.5355e-04\n",
      "Epoch 28/100\n",
      "33/33 [==============================] - 3s 76ms/step - loss: 4.0081e-04 - val_loss: 2.4158e-04\n",
      "Epoch 29/100\n",
      "33/33 [==============================] - 3s 77ms/step - loss: 4.0123e-04 - val_loss: 1.1817e-04\n",
      "Epoch 30/100\n",
      "33/33 [==============================] - 3s 78ms/step - loss: 3.7682e-04 - val_loss: 1.8162e-04\n",
      "Epoch 31/100\n",
      "33/33 [==============================] - 3s 78ms/step - loss: 3.7852e-04 - val_loss: 1.9346e-04\n",
      "Epoch 32/100\n",
      "33/33 [==============================] - 3s 78ms/step - loss: 3.7639e-04 - val_loss: 1.2166e-04\n",
      "Epoch 33/100\n",
      "33/33 [==============================] - 3s 79ms/step - loss: 3.7307e-04 - val_loss: 1.2035e-04\n",
      "Epoch 34/100\n",
      "33/33 [==============================] - 3s 79ms/step - loss: 3.4817e-04 - val_loss: 3.8669e-04\n",
      "Epoch 35/100\n",
      "33/33 [==============================] - 3s 78ms/step - loss: 4.3319e-04 - val_loss: 1.4604e-04\n",
      "Epoch 36/100\n",
      "33/33 [==============================] - 3s 78ms/step - loss: 3.2368e-04 - val_loss: 1.1868e-04\n",
      "Epoch 37/100\n",
      "33/33 [==============================] - 3s 80ms/step - loss: 3.3465e-04 - val_loss: 1.0899e-04\n",
      "Epoch 38/100\n",
      "33/33 [==============================] - 3s 81ms/step - loss: 2.9128e-04 - val_loss: 4.5766e-04\n",
      "Epoch 39/100\n",
      "33/33 [==============================] - 3s 81ms/step - loss: 3.5777e-04 - val_loss: 1.5457e-04\n",
      "Epoch 40/100\n",
      "33/33 [==============================] - 3s 83ms/step - loss: 3.2855e-04 - val_loss: 9.0419e-05\n",
      "Epoch 41/100\n",
      "33/33 [==============================] - 3s 83ms/step - loss: 3.5650e-04 - val_loss: 9.3319e-05\n",
      "Epoch 42/100\n",
      "33/33 [==============================] - 3s 85ms/step - loss: 3.9404e-04 - val_loss: 9.7687e-05\n",
      "Epoch 43/100\n",
      "33/33 [==============================] - 3s 84ms/step - loss: 3.0241e-04 - val_loss: 8.5473e-05\n",
      "Epoch 44/100\n",
      "33/33 [==============================] - 3s 86ms/step - loss: 2.7853e-04 - val_loss: 1.5036e-04\n",
      "Epoch 45/100\n",
      "33/33 [==============================] - 3s 87ms/step - loss: 2.8327e-04 - val_loss: 9.4530e-05\n",
      "Epoch 46/100\n",
      "33/33 [==============================] - 3s 88ms/step - loss: 2.8094e-04 - val_loss: 8.5181e-05\n",
      "Epoch 47/100\n",
      "33/33 [==============================] - 3s 88ms/step - loss: 2.9161e-04 - val_loss: 8.1598e-05\n",
      "Epoch 48/100\n",
      "33/33 [==============================] - 3s 87ms/step - loss: 2.8527e-04 - val_loss: 1.3427e-04\n",
      "Epoch 49/100\n",
      "33/33 [==============================] - 3s 88ms/step - loss: 2.9895e-04 - val_loss: 9.5986e-05\n",
      "Epoch 50/100\n",
      "33/33 [==============================] - 3s 82ms/step - loss: 2.7915e-04 - val_loss: 8.7110e-05\n",
      "Epoch 51/100\n",
      "33/33 [==============================] - 3s 83ms/step - loss: 2.7647e-04 - val_loss: 8.2567e-05\n",
      "Epoch 52/100\n",
      "33/33 [==============================] - 3s 83ms/step - loss: 2.6613e-04 - val_loss: 1.2079e-04\n",
      "Epoch 53/100\n",
      "33/33 [==============================] - 3s 85ms/step - loss: 2.7314e-04 - val_loss: 2.5170e-04\n",
      "Epoch 54/100\n",
      "33/33 [==============================] - 3s 82ms/step - loss: 3.1546e-04 - val_loss: 1.7051e-04\n",
      "Epoch 55/100\n",
      "33/33 [==============================] - 3s 89ms/step - loss: 2.6054e-04 - val_loss: 2.5055e-04\n",
      "Epoch 56/100\n",
      "33/33 [==============================] - 3s 91ms/step - loss: 3.0978e-04 - val_loss: 9.0439e-05\n",
      "Epoch 57/100\n",
      "33/33 [==============================] - 3s 85ms/step - loss: 2.5619e-04 - val_loss: 9.1562e-05\n",
      "Epoch 58/100\n",
      "33/33 [==============================] - 3s 83ms/step - loss: 2.5743e-04 - val_loss: 1.9235e-04\n",
      "Epoch 59/100\n",
      "33/33 [==============================] - 2s 74ms/step - loss: 2.7820e-04 - val_loss: 1.1130e-04\n",
      "Epoch 60/100\n",
      "33/33 [==============================] - 3s 78ms/step - loss: 2.5706e-04 - val_loss: 8.0167e-05\n",
      "Epoch 61/100\n",
      "33/33 [==============================] - 3s 79ms/step - loss: 2.6842e-04 - val_loss: 1.2211e-04\n",
      "Epoch 62/100\n",
      "33/33 [==============================] - 3s 78ms/step - loss: 2.6283e-04 - val_loss: 9.1445e-05\n",
      "Epoch 63/100\n",
      "33/33 [==============================] - 3s 79ms/step - loss: 2.6972e-04 - val_loss: 1.0508e-04\n",
      "Epoch 64/100\n",
      "33/33 [==============================] - 3s 78ms/step - loss: 2.4972e-04 - val_loss: 1.3891e-04\n",
      "Epoch 65/100\n",
      "33/33 [==============================] - 3s 77ms/step - loss: 2.7208e-04 - val_loss: 1.9693e-04\n",
      "Epoch 66/100\n",
      "33/33 [==============================] - 3s 80ms/step - loss: 2.5018e-04 - val_loss: 9.1688e-05\n",
      "Epoch 67/100\n",
      "33/33 [==============================] - 3s 79ms/step - loss: 2.8216e-04 - val_loss: 7.2703e-05\n",
      "Epoch 68/100\n",
      "33/33 [==============================] - 3s 79ms/step - loss: 2.4904e-04 - val_loss: 1.9543e-04\n",
      "Epoch 69/100\n",
      "33/33 [==============================] - 3s 79ms/step - loss: 2.8741e-04 - val_loss: 1.0370e-04\n",
      "Epoch 70/100\n",
      "33/33 [==============================] - 3s 79ms/step - loss: 2.6137e-04 - val_loss: 9.1196e-05\n",
      "Epoch 71/100\n",
      "33/33 [==============================] - 3s 78ms/step - loss: 2.6427e-04 - val_loss: 7.6541e-05\n",
      "Epoch 72/100\n",
      "33/33 [==============================] - 3s 77ms/step - loss: 2.8753e-04 - val_loss: 7.3189e-05\n",
      "Epoch 73/100\n",
      "33/33 [==============================] - 3s 78ms/step - loss: 2.4386e-04 - val_loss: 7.4463e-05\n",
      "Epoch 74/100\n",
      "33/33 [==============================] - 3s 77ms/step - loss: 2.6484e-04 - val_loss: 1.4639e-04\n",
      "Epoch 75/100\n",
      "33/33 [==============================] - 3s 78ms/step - loss: 2.6612e-04 - val_loss: 9.7879e-05\n",
      "Epoch 76/100\n"
     ]
    },
    {
     "name": "stdout",
     "output_type": "stream",
     "text": [
      "33/33 [==============================] - 3s 77ms/step - loss: 2.7249e-04 - val_loss: 1.0161e-04\n",
      "Epoch 77/100\n",
      "33/33 [==============================] - 3s 78ms/step - loss: 2.4609e-04 - val_loss: 1.0613e-04\n",
      "Epoch 78/100\n",
      "33/33 [==============================] - 3s 79ms/step - loss: 2.5090e-04 - val_loss: 7.4909e-05\n",
      "Epoch 79/100\n",
      "33/33 [==============================] - 3s 80ms/step - loss: 2.5449e-04 - val_loss: 7.1203e-05\n",
      "Epoch 80/100\n",
      "33/33 [==============================] - 3s 80ms/step - loss: 2.5465e-04 - val_loss: 1.3951e-04\n",
      "Epoch 81/100\n",
      "33/33 [==============================] - 3s 83ms/step - loss: 2.6971e-04 - val_loss: 7.1508e-05\n",
      "Epoch 82/100\n",
      "33/33 [==============================] - 3s 79ms/step - loss: 2.4319e-04 - val_loss: 1.0399e-04\n",
      "Epoch 83/100\n",
      "33/33 [==============================] - 3s 79ms/step - loss: 2.3788e-04 - val_loss: 7.2369e-05\n",
      "Epoch 84/100\n",
      "33/33 [==============================] - 3s 82ms/step - loss: 2.4915e-04 - val_loss: 7.6165e-05\n",
      "Epoch 85/100\n",
      "33/33 [==============================] - 3s 84ms/step - loss: 2.4817e-04 - val_loss: 9.3818e-05\n",
      "Epoch 86/100\n",
      "33/33 [==============================] - 3s 83ms/step - loss: 2.6946e-04 - val_loss: 1.1011e-04\n",
      "Epoch 87/100\n",
      "33/33 [==============================] - 3s 80ms/step - loss: 2.4819e-04 - val_loss: 9.8551e-05\n",
      "Epoch 88/100\n",
      "33/33 [==============================] - 3s 80ms/step - loss: 2.5899e-04 - val_loss: 7.0904e-05\n",
      "Epoch 89/100\n",
      "33/33 [==============================] - 3s 83ms/step - loss: 2.5348e-04 - val_loss: 1.1129e-04\n",
      "Epoch 90/100\n",
      "33/33 [==============================] - 3s 78ms/step - loss: 2.6834e-04 - val_loss: 9.8092e-05\n",
      "Epoch 91/100\n",
      "33/33 [==============================] - 3s 79ms/step - loss: 2.4498e-04 - val_loss: 7.2586e-05\n",
      "Epoch 92/100\n",
      "33/33 [==============================] - 3s 79ms/step - loss: 2.4579e-04 - val_loss: 2.7769e-04\n",
      "Epoch 93/100\n",
      "33/33 [==============================] - 3s 82ms/step - loss: 3.1961e-04 - val_loss: 2.8097e-04\n",
      "Epoch 94/100\n",
      "33/33 [==============================] - 3s 83ms/step - loss: 2.8248e-04 - val_loss: 1.3812e-04\n",
      "Epoch 95/100\n",
      "33/33 [==============================] - 3s 82ms/step - loss: 2.8209e-04 - val_loss: 1.5002e-04\n",
      "Epoch 96/100\n",
      "33/33 [==============================] - 3s 83ms/step - loss: 2.5698e-04 - val_loss: 1.0352e-04\n",
      "Epoch 97/100\n",
      "33/33 [==============================] - 3s 82ms/step - loss: 2.5277e-04 - val_loss: 1.1663e-04\n",
      "Epoch 98/100\n",
      "33/33 [==============================] - 3s 85ms/step - loss: 2.7575e-04 - val_loss: 9.3465e-05\n",
      "Epoch 99/100\n",
      "33/33 [==============================] - 3s 86ms/step - loss: 2.5118e-04 - val_loss: 2.6039e-04\n",
      "Epoch 100/100\n",
      "33/33 [==============================] - 3s 84ms/step - loss: 2.5793e-04 - val_loss: 2.5787e-04\n"
     ]
    },
    {
     "data": {
      "text/plain": [
       "<keras.src.callbacks.History at 0x16c16e390>"
      ]
     },
     "execution_count": 18,
     "metadata": {},
     "output_type": "execute_result"
    }
   ],
   "source": [
    "model.fit(X_train,y_train,validation_data=(X_test,y_test),epochs=100,batch_size=64,verbose=1)"
   ]
  },
  {
   "cell_type": "code",
   "execution_count": 19,
   "id": "380c5b13",
   "metadata": {
    "execution": {
     "iopub.execute_input": "2021-07-20T15:13:25.171896Z",
     "iopub.status.busy": "2021-07-20T15:13:25.170843Z",
     "iopub.status.idle": "2021-07-20T15:13:32.598086Z",
     "shell.execute_reply": "2021-07-20T15:13:32.596983Z",
     "shell.execute_reply.started": "2021-07-20T14:52:06.763384Z"
    },
    "papermill": {
     "duration": 9.12504,
     "end_time": "2021-07-20T15:13:32.598280",
     "exception": false,
     "start_time": "2021-07-20T15:13:23.473240",
     "status": "completed"
    },
    "tags": []
   },
   "outputs": [
    {
     "name": "stdout",
     "output_type": "stream",
     "text": [
      "65/65 [==============================] - 1s 10ms/step\n",
      "34/34 [==============================] - 0s 10ms/step\n"
     ]
    }
   ],
   "source": [
    "# prediction \n",
    "train_predict=model.predict(X_train)\n",
    "test_predict=model.predict(X_test)\n",
    "# Transformback to original form\n",
    "train_predict=scaler.inverse_transform(train_predict)\n",
    "test_predict=scaler.inverse_transform(test_predict)"
   ]
  },
  {
   "cell_type": "code",
   "execution_count": 20,
   "id": "80907b4a",
   "metadata": {
    "execution": {
     "iopub.execute_input": "2021-07-20T15:13:36.031188Z",
     "iopub.status.busy": "2021-07-20T15:13:36.030349Z",
     "iopub.status.idle": "2021-07-20T15:13:36.092153Z",
     "shell.execute_reply": "2021-07-20T15:13:36.091471Z",
     "shell.execute_reply.started": "2021-07-20T14:52:21.993763Z"
    },
    "papermill": {
     "duration": 1.79962,
     "end_time": "2021-07-20T15:13:36.092339",
     "exception": false,
     "start_time": "2021-07-20T15:13:34.292719",
     "status": "completed"
    },
    "tags": []
   },
   "outputs": [
    {
     "data": {
      "text/plain": [
       "371.74669608018695"
      ]
     },
     "execution_count": 20,
     "metadata": {},
     "output_type": "execute_result"
    }
   ],
   "source": [
    "# Calculate RMSE for Train Data\n",
    "import math\n",
    "from sklearn.metrics import mean_squared_error\n",
    "math.sqrt(mean_squared_error(y_train,train_predict))"
   ]
  },
  {
   "cell_type": "code",
   "execution_count": 21,
   "id": "5f98c5f1",
   "metadata": {
    "execution": {
     "iopub.execute_input": "2021-07-20T15:13:39.463184Z",
     "iopub.status.busy": "2021-07-20T15:13:39.462116Z",
     "iopub.status.idle": "2021-07-20T15:13:39.467925Z",
     "shell.execute_reply": "2021-07-20T15:13:39.466998Z",
     "shell.execute_reply.started": "2021-07-20T14:52:25.982656Z"
    },
    "papermill": {
     "duration": 1.686021,
     "end_time": "2021-07-20T15:13:39.468174",
     "exception": false,
     "start_time": "2021-07-20T15:13:37.782153",
     "status": "completed"
    },
    "tags": []
   },
   "outputs": [
    {
     "data": {
      "text/plain": [
       "414.07830957852696"
      ]
     },
     "execution_count": 21,
     "metadata": {},
     "output_type": "execute_result"
    }
   ],
   "source": [
    "# Test Data RMSE\n",
    "math.sqrt(mean_squared_error(y_test,test_predict))"
   ]
  },
  {
   "cell_type": "code",
   "execution_count": 22,
   "id": "ba2b6916",
   "metadata": {
    "execution": {
     "iopub.execute_input": "2021-07-20T15:13:42.893142Z",
     "iopub.status.busy": "2021-07-20T15:13:42.884133Z",
     "iopub.status.idle": "2021-07-20T15:13:43.080266Z",
     "shell.execute_reply": "2021-07-20T15:13:43.080856Z",
     "shell.execute_reply.started": "2021-07-20T14:52:40.353115Z"
    },
    "papermill": {
     "duration": 1.945081,
     "end_time": "2021-07-20T15:13:43.081091",
     "exception": false,
     "start_time": "2021-07-20T15:13:41.136010",
     "status": "completed"
    },
    "tags": []
   },
   "outputs": [
    {
     "data": {
      "image/png": "[encoded data removed]",
      "text/plain": [
       "<Figure size 640x480 with 1 Axes>"
      ]
     },
     "metadata": {},
     "output_type": "display_data"
    }
   ],
   "source": [
    "# Plotting \n",
    "# shift train predictions for plotting\n",
    "look_back=100\n",
    "trainPredictPlot = np.empty_like(df1)\n",
    "trainPredictPlot[:, :] = np.nan\n",
    "trainPredictPlot[look_back:len(train_predict)+look_back, :] = train_predict\n",
    "# shift test predictions for plotting\n",
    "testPredictPlot = np.empty_like(df1)\n",
    "testPredictPlot[:, :] = np.nan\n",
    "testPredictPlot[len(train_predict)+(look_back*2)+1:len(df1)-1, :] = test_predict\n",
    "# plot baseline and predictions\n",
    "plt.plot(scaler.inverse_transform(df1))\n",
    "plt.plot(trainPredictPlot)\n",
    "plt.plot(testPredictPlot)\n",
    "plt.show()"
   ]
  },
  {
   "cell_type": "code",
   "execution_count": 23,
   "id": "5851fedf",
   "metadata": {
    "execution": {
     "iopub.execute_input": "2021-07-20T15:13:46.452483Z",
     "iopub.status.busy": "2021-07-20T15:13:46.451879Z",
     "iopub.status.idle": "2021-07-20T15:13:46.456792Z",
     "shell.execute_reply": "2021-07-20T15:13:46.457267Z",
     "shell.execute_reply.started": "2021-07-20T14:53:23.093096Z"
    },
    "papermill": {
     "duration": 1.671643,
     "end_time": "2021-07-20T15:13:46.457454",
     "exception": false,
     "start_time": "2021-07-20T15:13:44.785811",
     "status": "completed"
    },
    "tags": []
   },
   "outputs": [
    {
     "data": {
      "text/plain": [
       "1163"
      ]
     },
     "execution_count": 23,
     "metadata": {},
     "output_type": "execute_result"
    }
   ],
   "source": [
    "len(test_data)"
   ]
  },
  {
   "cell_type": "code",
   "execution_count": 24,
   "id": "011a652c",
   "metadata": {
    "execution": {
     "iopub.execute_input": "2021-07-20T15:13:49.872229Z",
     "iopub.status.busy": "2021-07-20T15:13:49.871070Z",
     "iopub.status.idle": "2021-07-20T15:13:49.877997Z",
     "shell.execute_reply": "2021-07-20T15:13:49.877386Z",
     "shell.execute_reply.started": "2021-07-20T14:53:25.592345Z"
    },
    "papermill": {
     "duration": 1.759249,
     "end_time": "2021-07-20T15:13:49.878175",
     "exception": false,
     "start_time": "2021-07-20T15:13:48.118926",
     "status": "completed"
    },
    "tags": []
   },
   "outputs": [
    {
     "data": {
      "text/plain": [
       "(1, 0)"
      ]
     },
     "execution_count": 24,
     "metadata": {},
     "output_type": "execute_result"
    }
   ],
   "source": [
    "x_input=test_data[1758:].reshape(1,-1)\n",
    "x_input.shape"
   ]
  },
  {
   "cell_type": "code",
   "execution_count": 25,
   "id": "2bb953cd",
   "metadata": {
    "execution": {
     "iopub.execute_input": "2021-07-20T15:13:53.278720Z",
     "iopub.status.busy": "2021-07-20T15:13:53.278010Z",
     "iopub.status.idle": "2021-07-20T15:13:53.281354Z",
     "shell.execute_reply": "2021-07-20T15:13:53.280806Z",
     "shell.execute_reply.started": "2021-07-20T14:53:28.452694Z"
    },
    "papermill": {
     "duration": 1.738292,
     "end_time": "2021-07-20T15:13:53.281510",
     "exception": false,
     "start_time": "2021-07-20T15:13:51.543218",
     "status": "completed"
    },
    "tags": []
   },
   "outputs": [],
   "source": [
    "temp_input=list(x_input)\n",
    "temp_input=temp_input[0].tolist()"
   ]
  },
  {
   "cell_type": "code",
   "execution_count": 27,
   "id": "3016d1a7",
   "metadata": {
    "execution": {
     "iopub.execute_input": "2021-07-20T15:14:02.019428Z",
     "iopub.status.busy": "2021-07-20T15:14:02.018721Z",
     "iopub.status.idle": "2021-07-20T15:14:02.021970Z",
     "shell.execute_reply": "2021-07-20T15:14:02.022459Z",
     "shell.execute_reply.started": "2021-07-20T14:54:27.973411Z"
    },
    "papermill": {
     "duration": 1.672451,
     "end_time": "2021-07-20T15:14:02.022701",
     "exception": false,
     "start_time": "2021-07-20T15:14:00.350250",
     "status": "completed"
    },
    "tags": []
   },
   "outputs": [],
   "source": [
    "day_new=np.arange(1,101)\n",
    "day_pred=np.arange(101,131)"
   ]
  },
  {
   "cell_type": "code",
   "execution_count": 28,
   "id": "30ff838b",
   "metadata": {
    "execution": {
     "iopub.execute_input": "2021-07-20T15:14:05.382941Z",
     "iopub.status.busy": "2021-07-20T15:14:05.381636Z",
     "iopub.status.idle": "2021-07-20T15:14:05.385871Z",
     "shell.execute_reply": "2021-07-20T15:14:05.386371Z",
     "shell.execute_reply.started": "2021-07-20T14:54:30.202919Z"
    },
    "papermill": {
     "duration": 1.684773,
     "end_time": "2021-07-20T15:14:05.386572",
     "exception": false,
     "start_time": "2021-07-20T15:14:03.701799",
     "status": "completed"
    },
    "tags": []
   },
   "outputs": [
    {
     "data": {
      "text/plain": [
       "3322"
      ]
     },
     "execution_count": 28,
     "metadata": {},
     "output_type": "execute_result"
    }
   ],
   "source": [
    "len(df1)"
   ]
  },
  {
   "cell_type": "code",
   "execution_count": 31,
   "id": "eafc111b",
   "metadata": {
    "execution": {
     "iopub.execute_input": "2021-07-20T15:14:16.363820Z",
     "iopub.status.busy": "2021-07-20T15:14:16.363058Z",
     "iopub.status.idle": "2021-07-20T15:14:16.559929Z",
     "shell.execute_reply": "2021-07-20T15:14:16.559374Z",
     "shell.execute_reply.started": "2021-07-20T14:54:57.532912Z"
    },
    "papermill": {
     "duration": 1.917935,
     "end_time": "2021-07-20T15:14:16.560095",
     "exception": false,
     "start_time": "2021-07-20T15:14:14.642160",
     "status": "completed"
    },
    "tags": []
   },
   "outputs": [
    {
     "data": {
      "text/plain": [
       "[<matplotlib.lines.Line2D at 0x31041b850>]"
      ]
     },
     "execution_count": 31,
     "metadata": {},
     "output_type": "execute_result"
    },
    {
     "data": {
      "image/png": "[encoded data removed]",
      "text/plain": [
       "<Figure size 640x480 with 1 Axes>"
      ]
     },
     "metadata": {},
     "output_type": "display_data"
    }
   ],
   "source": [
    "df3=scaler.inverse_transform(df3).tolist()\n",
    "plt.plot(df3)"
   ]
  }
 ],
 "metadata": {
  "kernelspec": {
   "display_name": "Python 3 (ipykernel)",
   "language": "python",
   "name": "python3"
  },
  "language_info": {
   "codemirror_mode": {
    "name": "ipython",
    "version": 3
   },
   "file_extension": ".py",
   "mimetype": "text/x-python",
   "name": "python",
   "nbconvert_exporter": "python",
   "pygments_lexer": "ipython3",
   "version": "3.11.5"
  },
  "papermill": {
   "default_parameters": {},
   "duration": 1134.172307,
   "end_time": "2021-07-20T15:14:21.092557",
   "environment_variables": {},
   "exception": null,
   "input_path": "__notebook__.ipynb",
   "output_path": "__notebook__.ipynb",
   "parameters": {},
   "start_time": "2021-07-20T14:55:26.920250",
   "version": "2.3.3"
  }
 },
 "nbformat": 4,
 "nbformat_minor": 5
}
