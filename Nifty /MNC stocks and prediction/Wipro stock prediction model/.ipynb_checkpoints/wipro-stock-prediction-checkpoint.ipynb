{
 "cells": [
  {
   "cell_type": "code",
   "execution_count": 1,
   "id": "72b9a7f1",
   "metadata": {
    "execution": {
     "iopub.execute_input": "2021-07-20T14:55:36.048756Z",
     "iopub.status.busy": "2021-07-20T14:55:36.047934Z",
     "iopub.status.idle": "2021-07-20T14:55:37.204546Z",
     "shell.execute_reply": "2021-07-20T14:55:37.205150Z",
     "shell.execute_reply.started": "2021-07-20T14:34:29.305253Z"
    },
    "papermill": {
     "duration": 1.189704,
     "end_time": "2021-07-20T14:55:37.205393",
     "exception": false,
     "start_time": "2021-07-20T14:55:36.015689",
     "status": "completed"
    },
    "tags": []
   },
   "outputs": [],
   "source": [
    "import matplotlib.pyplot as plt\n",
    "import seaborn as sns\n",
    "import pandas as pd\n",
    "\n",
    "sns.set()"
   ]
  },
  {
   "cell_type": "code",
   "execution_count": 2,
   "id": "fa9c2ac1",
   "metadata": {
    "execution": {
     "iopub.execute_input": "2021-07-20T14:55:37.265665Z",
     "iopub.status.busy": "2021-07-20T14:55:37.264677Z",
     "iopub.status.idle": "2021-07-20T14:55:37.339625Z",
     "shell.execute_reply": "2021-07-20T14:55:37.339038Z",
     "shell.execute_reply.started": "2021-07-20T14:34:29.313128Z"
    },
    "papermill": {
     "duration": 0.107442,
     "end_time": "2021-07-20T14:55:37.339790",
     "exception": false,
     "start_time": "2021-07-20T14:55:37.232348",
     "status": "completed"
    },
    "tags": []
   },
   "outputs": [
    {
     "data": {
      "text/html": [
       "<div>\n",
       "<style scoped>\n",
       "    .dataframe tbody tr th:only-of-type {\n",
       "        vertical-align: middle;\n",
       "    }\n",
       "\n",
       "    .dataframe tbody tr th {\n",
       "        vertical-align: top;\n",
       "    }\n",
       "\n",
       "    .dataframe thead th {\n",
       "        text-align: right;\n",
       "    }\n",
       "</style>\n",
       "<table border=\"1\" class=\"dataframe\">\n",
       "  <thead>\n",
       "    <tr style=\"text-align: right;\">\n",
       "      <th></th>\n",
       "      <th>Date</th>\n",
       "      <th>Symbol</th>\n",
       "      <th>Series</th>\n",
       "      <th>Prev Close</th>\n",
       "      <th>Open</th>\n",
       "      <th>High</th>\n",
       "      <th>Low</th>\n",
       "      <th>Last</th>\n",
       "      <th>Close</th>\n",
       "      <th>VWAP</th>\n",
       "      <th>Volume</th>\n",
       "      <th>Turnover</th>\n",
       "      <th>Trades</th>\n",
       "      <th>Deliverable Volume</th>\n",
       "      <th>%Deliverble</th>\n",
       "    </tr>\n",
       "  </thead>\n",
       "  <tbody>\n",
       "    <tr>\n",
       "      <th>0</th>\n",
       "      <td>2007-11-27</td>\n",
       "      <td>MUNDRAPORT</td>\n",
       "      <td>EQ</td>\n",
       "      <td>440.00</td>\n",
       "      <td>770.00</td>\n",
       "      <td>1050.00</td>\n",
       "      <td>770.0</td>\n",
       "      <td>959.0</td>\n",
       "      <td>962.90</td>\n",
       "      <td>984.72</td>\n",
       "      <td>27294366</td>\n",
       "      <td>2.687719e+15</td>\n",
       "      <td>NaN</td>\n",
       "      <td>9859619</td>\n",
       "      <td>0.3612</td>\n",
       "    </tr>\n",
       "    <tr>\n",
       "      <th>1</th>\n",
       "      <td>2007-11-28</td>\n",
       "      <td>MUNDRAPORT</td>\n",
       "      <td>EQ</td>\n",
       "      <td>962.90</td>\n",
       "      <td>984.00</td>\n",
       "      <td>990.00</td>\n",
       "      <td>874.0</td>\n",
       "      <td>885.0</td>\n",
       "      <td>893.90</td>\n",
       "      <td>941.38</td>\n",
       "      <td>4581338</td>\n",
       "      <td>4.312765e+14</td>\n",
       "      <td>NaN</td>\n",
       "      <td>1453278</td>\n",
       "      <td>0.3172</td>\n",
       "    </tr>\n",
       "    <tr>\n",
       "      <th>2</th>\n",
       "      <td>2007-11-29</td>\n",
       "      <td>MUNDRAPORT</td>\n",
       "      <td>EQ</td>\n",
       "      <td>893.90</td>\n",
       "      <td>909.00</td>\n",
       "      <td>914.75</td>\n",
       "      <td>841.0</td>\n",
       "      <td>887.0</td>\n",
       "      <td>884.20</td>\n",
       "      <td>888.09</td>\n",
       "      <td>5124121</td>\n",
       "      <td>4.550658e+14</td>\n",
       "      <td>NaN</td>\n",
       "      <td>1069678</td>\n",
       "      <td>0.2088</td>\n",
       "    </tr>\n",
       "    <tr>\n",
       "      <th>3</th>\n",
       "      <td>2007-11-30</td>\n",
       "      <td>MUNDRAPORT</td>\n",
       "      <td>EQ</td>\n",
       "      <td>884.20</td>\n",
       "      <td>890.00</td>\n",
       "      <td>958.00</td>\n",
       "      <td>890.0</td>\n",
       "      <td>929.0</td>\n",
       "      <td>921.55</td>\n",
       "      <td>929.17</td>\n",
       "      <td>4609762</td>\n",
       "      <td>4.283257e+14</td>\n",
       "      <td>NaN</td>\n",
       "      <td>1260913</td>\n",
       "      <td>0.2735</td>\n",
       "    </tr>\n",
       "    <tr>\n",
       "      <th>4</th>\n",
       "      <td>2007-12-03</td>\n",
       "      <td>MUNDRAPORT</td>\n",
       "      <td>EQ</td>\n",
       "      <td>921.55</td>\n",
       "      <td>939.75</td>\n",
       "      <td>995.00</td>\n",
       "      <td>922.0</td>\n",
       "      <td>980.0</td>\n",
       "      <td>969.30</td>\n",
       "      <td>965.65</td>\n",
       "      <td>2977470</td>\n",
       "      <td>2.875200e+14</td>\n",
       "      <td>NaN</td>\n",
       "      <td>816123</td>\n",
       "      <td>0.2741</td>\n",
       "    </tr>\n",
       "  </tbody>\n",
       "</table>\n",
       "</div>"
      ],
      "text/plain": [
       "         Date      Symbol Series  Prev Close    Open     High    Low   Last  \\\n",
       "0  2007-11-27  MUNDRAPORT     EQ      440.00  770.00  1050.00  770.0  959.0   \n",
       "1  2007-11-28  MUNDRAPORT     EQ      962.90  984.00   990.00  874.0  885.0   \n",
       "2  2007-11-29  MUNDRAPORT     EQ      893.90  909.00   914.75  841.0  887.0   \n",
       "3  2007-11-30  MUNDRAPORT     EQ      884.20  890.00   958.00  890.0  929.0   \n",
       "4  2007-12-03  MUNDRAPORT     EQ      921.55  939.75   995.00  922.0  980.0   \n",
       "\n",
       "    Close    VWAP    Volume      Turnover  Trades  Deliverable Volume  \\\n",
       "0  962.90  984.72  27294366  2.687719e+15     NaN             9859619   \n",
       "1  893.90  941.38   4581338  4.312765e+14     NaN             1453278   \n",
       "2  884.20  888.09   5124121  4.550658e+14     NaN             1069678   \n",
       "3  921.55  929.17   4609762  4.283257e+14     NaN             1260913   \n",
       "4  969.30  965.65   2977470  2.875200e+14     NaN              816123   \n",
       "\n",
       "   %Deliverble  \n",
       "0       0.3612  \n",
       "1       0.3172  \n",
       "2       0.2088  \n",
       "3       0.2735  \n",
       "4       0.2741  "
      ]
     },
     "execution_count": 2,
     "metadata": {},
     "output_type": "execute_result"
    }
   ],
   "source": [
    "data=pd.read_csv('ADANIPORTS (1).csv')\n",
    "data.head()"
   ]
  },
  {
   "cell_type": "code",
   "execution_count": 3,
   "id": "d755d1b1",
   "metadata": {
    "execution": {
     "iopub.execute_input": "2021-07-20T14:55:37.418157Z",
     "iopub.status.busy": "2021-07-20T14:55:37.408846Z",
     "iopub.status.idle": "2021-07-20T14:55:37.426756Z",
     "shell.execute_reply": "2021-07-20T14:55:37.426198Z",
     "shell.execute_reply.started": "2021-07-20T14:34:29.368586Z"
    },
    "papermill": {
     "duration": 0.059662,
     "end_time": "2021-07-20T14:55:37.426932",
     "exception": false,
     "start_time": "2021-07-20T14:55:37.367270",
     "status": "completed"
    },
    "tags": []
   },
   "outputs": [
    {
     "data": {
      "text/html": [
       "<div>\n",
       "<style scoped>\n",
       "    .dataframe tbody tr th:only-of-type {\n",
       "        vertical-align: middle;\n",
       "    }\n",
       "\n",
       "    .dataframe tbody tr th {\n",
       "        vertical-align: top;\n",
       "    }\n",
       "\n",
       "    .dataframe thead th {\n",
       "        text-align: right;\n",
       "    }\n",
       "</style>\n",
       "<table border=\"1\" class=\"dataframe\">\n",
       "  <thead>\n",
       "    <tr style=\"text-align: right;\">\n",
       "      <th></th>\n",
       "      <th>Date</th>\n",
       "      <th>Symbol</th>\n",
       "      <th>Series</th>\n",
       "      <th>Prev Close</th>\n",
       "      <th>Open</th>\n",
       "      <th>High</th>\n",
       "      <th>Low</th>\n",
       "      <th>Last</th>\n",
       "      <th>Close</th>\n",
       "      <th>VWAP</th>\n",
       "      <th>Volume</th>\n",
       "      <th>Turnover</th>\n",
       "      <th>Trades</th>\n",
       "      <th>Deliverable Volume</th>\n",
       "      <th>%Deliverble</th>\n",
       "    </tr>\n",
       "  </thead>\n",
       "  <tbody>\n",
       "    <tr>\n",
       "      <th>3317</th>\n",
       "      <td>2021-04-26</td>\n",
       "      <td>ADANIPORTS</td>\n",
       "      <td>EQ</td>\n",
       "      <td>725.35</td>\n",
       "      <td>733.0</td>\n",
       "      <td>739.65</td>\n",
       "      <td>728.90</td>\n",
       "      <td>729.2</td>\n",
       "      <td>730.75</td>\n",
       "      <td>733.25</td>\n",
       "      <td>9390549</td>\n",
       "      <td>6.885658e+14</td>\n",
       "      <td>116457.0</td>\n",
       "      <td>838079</td>\n",
       "      <td>0.0892</td>\n",
       "    </tr>\n",
       "    <tr>\n",
       "      <th>3318</th>\n",
       "      <td>2021-04-27</td>\n",
       "      <td>ADANIPORTS</td>\n",
       "      <td>EQ</td>\n",
       "      <td>730.75</td>\n",
       "      <td>735.0</td>\n",
       "      <td>757.50</td>\n",
       "      <td>727.35</td>\n",
       "      <td>748.6</td>\n",
       "      <td>749.15</td>\n",
       "      <td>747.67</td>\n",
       "      <td>20573107</td>\n",
       "      <td>1.538191e+15</td>\n",
       "      <td>236896.0</td>\n",
       "      <td>1779639</td>\n",
       "      <td>0.0865</td>\n",
       "    </tr>\n",
       "    <tr>\n",
       "      <th>3319</th>\n",
       "      <td>2021-04-28</td>\n",
       "      <td>ADANIPORTS</td>\n",
       "      <td>EQ</td>\n",
       "      <td>749.15</td>\n",
       "      <td>755.0</td>\n",
       "      <td>760.00</td>\n",
       "      <td>741.10</td>\n",
       "      <td>743.4</td>\n",
       "      <td>746.25</td>\n",
       "      <td>751.02</td>\n",
       "      <td>11156977</td>\n",
       "      <td>8.379106e+14</td>\n",
       "      <td>130847.0</td>\n",
       "      <td>1342353</td>\n",
       "      <td>0.1203</td>\n",
       "    </tr>\n",
       "    <tr>\n",
       "      <th>3320</th>\n",
       "      <td>2021-04-29</td>\n",
       "      <td>ADANIPORTS</td>\n",
       "      <td>EQ</td>\n",
       "      <td>746.25</td>\n",
       "      <td>753.2</td>\n",
       "      <td>765.85</td>\n",
       "      <td>743.40</td>\n",
       "      <td>746.4</td>\n",
       "      <td>746.75</td>\n",
       "      <td>753.06</td>\n",
       "      <td>13851910</td>\n",
       "      <td>1.043139e+15</td>\n",
       "      <td>153293.0</td>\n",
       "      <td>1304895</td>\n",
       "      <td>0.0942</td>\n",
       "    </tr>\n",
       "    <tr>\n",
       "      <th>3321</th>\n",
       "      <td>2021-04-30</td>\n",
       "      <td>ADANIPORTS</td>\n",
       "      <td>EQ</td>\n",
       "      <td>746.75</td>\n",
       "      <td>739.0</td>\n",
       "      <td>759.45</td>\n",
       "      <td>724.50</td>\n",
       "      <td>726.4</td>\n",
       "      <td>730.05</td>\n",
       "      <td>743.35</td>\n",
       "      <td>12600934</td>\n",
       "      <td>9.366911e+14</td>\n",
       "      <td>132141.0</td>\n",
       "      <td>3514692</td>\n",
       "      <td>0.2789</td>\n",
       "    </tr>\n",
       "  </tbody>\n",
       "</table>\n",
       "</div>"
      ],
      "text/plain": [
       "            Date      Symbol Series  Prev Close   Open    High     Low   Last  \\\n",
       "3317  2021-04-26  ADANIPORTS     EQ      725.35  733.0  739.65  728.90  729.2   \n",
       "3318  2021-04-27  ADANIPORTS     EQ      730.75  735.0  757.50  727.35  748.6   \n",
       "3319  2021-04-28  ADANIPORTS     EQ      749.15  755.0  760.00  741.10  743.4   \n",
       "3320  2021-04-29  ADANIPORTS     EQ      746.25  753.2  765.85  743.40  746.4   \n",
       "3321  2021-04-30  ADANIPORTS     EQ      746.75  739.0  759.45  724.50  726.4   \n",
       "\n",
       "       Close    VWAP    Volume      Turnover    Trades  Deliverable Volume  \\\n",
       "3317  730.75  733.25   9390549  6.885658e+14  116457.0              838079   \n",
       "3318  749.15  747.67  20573107  1.538191e+15  236896.0             1779639   \n",
       "3319  746.25  751.02  11156977  8.379106e+14  130847.0             1342353   \n",
       "3320  746.75  753.06  13851910  1.043139e+15  153293.0             1304895   \n",
       "3321  730.05  743.35  12600934  9.366911e+14  132141.0             3514692   \n",
       "\n",
       "      %Deliverble  \n",
       "3317       0.0892  \n",
       "3318       0.0865  \n",
       "3319       0.1203  \n",
       "3320       0.0942  \n",
       "3321       0.2789  "
      ]
     },
     "execution_count": 3,
     "metadata": {},
     "output_type": "execute_result"
    }
   ],
   "source": [
    "data.tail()"
   ]
  },
  {
   "cell_type": "code",
   "execution_count": 4,
   "id": "e03f466f",
   "metadata": {
    "execution": {
     "iopub.execute_input": "2021-07-20T14:55:37.493325Z",
     "iopub.status.busy": "2021-07-20T14:55:37.490247Z",
     "iopub.status.idle": "2021-07-20T14:55:37.515521Z",
     "shell.execute_reply": "2021-07-20T14:55:37.516074Z",
     "shell.execute_reply.started": "2021-07-20T14:34:29.396302Z"
    },
    "papermill": {
     "duration": 0.061164,
     "end_time": "2021-07-20T14:55:37.516313",
     "exception": false,
     "start_time": "2021-07-20T14:55:37.455149",
     "status": "completed"
    },
    "tags": []
   },
   "outputs": [
    {
     "name": "stdout",
     "output_type": "stream",
     "text": [
      "<class 'pandas.core.frame.DataFrame'>\n",
      "RangeIndex: 3322 entries, 0 to 3321\n",
      "Data columns (total 15 columns):\n",
      " #   Column              Non-Null Count  Dtype  \n",
      "---  ------              --------------  -----  \n",
      " 0   Date                3322 non-null   object \n",
      " 1   Symbol              3322 non-null   object \n",
      " 2   Series              3322 non-null   object \n",
      " 3   Prev Close          3322 non-null   float64\n",
      " 4   Open                3322 non-null   float64\n",
      " 5   High                3322 non-null   float64\n",
      " 6   Low                 3322 non-null   float64\n",
      " 7   Last                3322 non-null   float64\n",
      " 8   Close               3322 non-null   float64\n",
      " 9   VWAP                3322 non-null   float64\n",
      " 10  Volume              3322 non-null   int64  \n",
      " 11  Turnover            3322 non-null   float64\n",
      " 12  Trades              2456 non-null   float64\n",
      " 13  Deliverable Volume  3322 non-null   int64  \n",
      " 14  %Deliverble         3322 non-null   float64\n",
      "dtypes: float64(10), int64(2), object(3)\n",
      "memory usage: 389.4+ KB\n"
     ]
    }
   ],
   "source": [
    "data.info()"
   ]
  },
  {
   "cell_type": "code",
   "execution_count": 5,
   "id": "19ae5cdd",
   "metadata": {
    "execution": {
     "iopub.execute_input": "2021-07-20T14:55:37.579941Z",
     "iopub.status.busy": "2021-07-20T14:55:37.578911Z",
     "iopub.status.idle": "2021-07-20T14:55:37.584263Z",
     "shell.execute_reply": "2021-07-20T14:55:37.583665Z",
     "shell.execute_reply.started": "2021-07-20T14:34:29.421228Z"
    },
    "papermill": {
     "duration": 0.039475,
     "end_time": "2021-07-20T14:55:37.584426",
     "exception": false,
     "start_time": "2021-07-20T14:55:37.544951",
     "status": "completed"
    },
    "tags": []
   },
   "outputs": [
    {
     "data": {
      "text/plain": [
       "(3322, 15)"
      ]
     },
     "execution_count": 5,
     "metadata": {},
     "output_type": "execute_result"
    }
   ],
   "source": [
    "data.shape"
   ]
  },
  {
   "cell_type": "code",
   "execution_count": 6,
   "id": "f3052b26",
   "metadata": {
    "execution": {
     "iopub.execute_input": "2021-07-20T14:55:37.650315Z",
     "iopub.status.busy": "2021-07-20T14:55:37.649517Z",
     "iopub.status.idle": "2021-07-20T14:55:37.660967Z",
     "shell.execute_reply": "2021-07-20T14:55:37.660352Z",
     "shell.execute_reply.started": "2021-07-20T14:34:29.430223Z"
    },
    "papermill": {
     "duration": 0.045453,
     "end_time": "2021-07-20T14:55:37.661120",
     "exception": false,
     "start_time": "2021-07-20T14:55:37.615667",
     "status": "completed"
    },
    "tags": []
   },
   "outputs": [
    {
     "data": {
      "text/plain": [
       "0       962.90\n",
       "1       893.90\n",
       "2       884.20\n",
       "3       921.55\n",
       "4       969.30\n",
       "         ...  \n",
       "3317    730.75\n",
       "3318    749.15\n",
       "3319    746.25\n",
       "3320    746.75\n",
       "3321    730.05\n",
       "Name: Close, Length: 3322, dtype: float64"
      ]
     },
     "execution_count": 6,
     "metadata": {},
     "output_type": "execute_result"
    }
   ],
   "source": [
    "df1=data.reset_index()['Close']\n",
    "df1"
   ]
  },
  {
   "cell_type": "code",
   "execution_count": 7,
   "id": "b519e4b7",
   "metadata": {
    "execution": {
     "iopub.execute_input": "2021-07-20T14:55:37.726902Z",
     "iopub.status.busy": "2021-07-20T14:55:37.726190Z",
     "iopub.status.idle": "2021-07-20T14:55:37.984372Z",
     "shell.execute_reply": "2021-07-20T14:55:37.984925Z",
     "shell.execute_reply.started": "2021-07-20T14:34:29.452133Z"
    },
    "papermill": {
     "duration": 0.295059,
     "end_time": "2021-07-20T14:55:37.985141",
     "exception": false,
     "start_time": "2021-07-20T14:55:37.690082",
     "status": "completed"
    },
    "tags": []
   },
   "outputs": [
    {
     "data": {
      "text/plain": [
       "[<matplotlib.lines.Line2D at 0x15e30ead0>]"
      ]
     },
     "execution_count": 7,
     "metadata": {},
     "output_type": "execute_result"
    },
    {
     "data": {
      "image/png": "[encoded data removed]",
      "text/plain": [
       "<Figure size 640x480 with 1 Axes>"
      ]
     },
     "metadata": {},
     "output_type": "display_data"
    }
   ],
   "source": [
    "plt.plot(df1)"
   ]
  },
  {
   "cell_type": "code",
   "execution_count": 8,
   "id": "c57bb31c",
   "metadata": {
    "execution": {
     "iopub.execute_input": "2021-07-20T14:55:38.054360Z",
     "iopub.status.busy": "2021-07-20T14:55:38.053582Z",
     "iopub.status.idle": "2021-07-20T14:55:38.202957Z",
     "shell.execute_reply": "2021-07-20T14:55:38.203452Z",
     "shell.execute_reply.started": "2021-07-20T14:34:29.674969Z"
    },
    "papermill": {
     "duration": 0.186884,
     "end_time": "2021-07-20T14:55:38.203720",
     "exception": false,
     "start_time": "2021-07-20T14:55:38.016836",
     "status": "completed"
    },
    "tags": []
   },
   "outputs": [],
   "source": [
    "from sklearn.preprocessing import MinMaxScaler\n",
    "import numpy as np\n",
    "scaler=MinMaxScaler(feature_range=(0,1))\n",
    "df1=scaler.fit_transform(np.array(df1).reshape(-1,1))"
   ]
  },
  {
   "cell_type": "code",
   "execution_count": 9,
   "id": "07be34a7",
   "metadata": {
    "execution": {
     "iopub.execute_input": "2021-07-20T14:55:38.268508Z",
     "iopub.status.busy": "2021-07-20T14:55:38.267519Z",
     "iopub.status.idle": "2021-07-20T14:55:38.274655Z",
     "shell.execute_reply": "2021-07-20T14:55:38.273988Z",
     "shell.execute_reply.started": "2021-07-20T14:34:29.682071Z"
    },
    "papermill": {
     "duration": 0.040687,
     "end_time": "2021-07-20T14:55:38.274816",
     "exception": false,
     "start_time": "2021-07-20T14:55:38.234129",
     "status": "completed"
    },
    "tags": []
   },
   "outputs": [
    {
     "data": {
      "text/plain": [
       "(3322, 1)"
      ]
     },
     "execution_count": 9,
     "metadata": {},
     "output_type": "execute_result"
    }
   ],
   "source": [
    "df1.shape"
   ]
  },
  {
   "cell_type": "code",
   "execution_count": 10,
   "id": "95299364",
   "metadata": {
    "execution": {
     "iopub.execute_input": "2021-07-20T14:55:38.342660Z",
     "iopub.status.busy": "2021-07-20T14:55:38.341858Z",
     "iopub.status.idle": "2021-07-20T14:55:38.344655Z",
     "shell.execute_reply": "2021-07-20T14:55:38.345154Z",
     "shell.execute_reply.started": "2021-07-20T14:34:29.697705Z"
    },
    "papermill": {
     "duration": 0.039862,
     "end_time": "2021-07-20T14:55:38.345347",
     "exception": false,
     "start_time": "2021-07-20T14:55:38.305485",
     "status": "completed"
    },
    "tags": []
   },
   "outputs": [],
   "source": [
    "train_size = int(len(df1)*0.65)\n",
    "test_size = len(df1) - train_size\n",
    "train_data,test_data = df1[0:train_size,:], df1[train_size:len(df1),:]"
   ]
  },
  {
   "cell_type": "code",
   "execution_count": 11,
   "id": "cdcd2321",
   "metadata": {
    "execution": {
     "iopub.execute_input": "2021-07-20T14:55:38.412507Z",
     "iopub.status.busy": "2021-07-20T14:55:38.411584Z",
     "iopub.status.idle": "2021-07-20T14:55:38.416300Z",
     "shell.execute_reply": "2021-07-20T14:55:38.415656Z",
     "shell.execute_reply.started": "2021-07-20T14:34:29.710891Z"
    },
    "papermill": {
     "duration": 0.040274,
     "end_time": "2021-07-20T14:55:38.416453",
     "exception": false,
     "start_time": "2021-07-20T14:55:38.376179",
     "status": "completed"
    },
    "tags": []
   },
   "outputs": [
    {
     "data": {
      "text/plain": [
       "2159"
      ]
     },
     "execution_count": 11,
     "metadata": {},
     "output_type": "execute_result"
    }
   ],
   "source": [
    "train_size"
   ]
  },
  {
   "cell_type": "code",
   "execution_count": 12,
   "id": "3764c1ed",
   "metadata": {
    "execution": {
     "iopub.execute_input": "2021-07-20T14:55:38.486779Z",
     "iopub.status.busy": "2021-07-20T14:55:38.486072Z",
     "iopub.status.idle": "2021-07-20T14:55:38.489383Z",
     "shell.execute_reply": "2021-07-20T14:55:38.488830Z",
     "shell.execute_reply.started": "2021-07-20T14:34:29.732359Z"
    },
    "papermill": {
     "duration": 0.040478,
     "end_time": "2021-07-20T14:55:38.489533",
     "exception": false,
     "start_time": "2021-07-20T14:55:38.449055",
     "status": "completed"
    },
    "tags": []
   },
   "outputs": [],
   "source": [
    "def create_dataset(dataset, time_step=1):\n",
    "\tdataX, dataY = [], []\n",
    "\tfor i in range(len(dataset)-time_step-1):\n",
    "\t\ta = dataset[i:(i+time_step), 0]   ###i=0, 0,1,2,3-----99   100 \n",
    "\t\tdataX.append(a)\n",
    "\t\tdataY.append(dataset[i + time_step, 0])\n",
    "\treturn np.array(dataX), np.array(dataY)"
   ]
  },
  {
   "cell_type": "code",
   "execution_count": 13,
   "id": "ac7ecc15",
   "metadata": {
    "execution": {
     "iopub.execute_input": "2021-07-20T14:55:38.560813Z",
     "iopub.status.busy": "2021-07-20T14:55:38.560092Z",
     "iopub.status.idle": "2021-07-20T14:55:38.574860Z",
     "shell.execute_reply": "2021-07-20T14:55:38.574260Z",
     "shell.execute_reply.started": "2021-07-20T14:34:29.743459Z"
    },
    "papermill": {
     "duration": 0.054683,
     "end_time": "2021-07-20T14:55:38.575035",
     "exception": false,
     "start_time": "2021-07-20T14:55:38.520352",
     "status": "completed"
    },
    "tags": []
   },
   "outputs": [],
   "source": [
    "time_step = 100\n",
    "X_train, y_train = create_dataset(train_data,time_step)\n",
    "X_test, y_test = create_dataset(test_data, time_step)"
   ]
  },
  {
   "cell_type": "code",
   "execution_count": 14,
   "id": "4972002f",
   "metadata": {
    "execution": {
     "iopub.execute_input": "2021-07-20T14:55:38.644182Z",
     "iopub.status.busy": "2021-07-20T14:55:38.643330Z",
     "iopub.status.idle": "2021-07-20T14:55:38.649583Z",
     "shell.execute_reply": "2021-07-20T14:55:38.648691Z",
     "shell.execute_reply.started": "2021-07-20T14:34:29.769024Z"
    },
    "papermill": {
     "duration": 0.043469,
     "end_time": "2021-07-20T14:55:38.649823",
     "exception": false,
     "start_time": "2021-07-20T14:55:38.606354",
     "status": "completed"
    },
    "tags": []
   },
   "outputs": [
    {
     "name": "stdout",
     "output_type": "stream",
     "text": [
      "(2058, 100) (2058,)\n"
     ]
    }
   ],
   "source": [
    "print(X_train.shape,y_train.shape)"
   ]
  },
  {
   "cell_type": "code",
   "execution_count": 15,
   "id": "b28eda01",
   "metadata": {
    "execution": {
     "iopub.execute_input": "2021-07-20T14:55:38.718419Z",
     "iopub.status.busy": "2021-07-20T14:55:38.717768Z",
     "iopub.status.idle": "2021-07-20T14:55:38.719505Z",
     "shell.execute_reply": "2021-07-20T14:55:38.720088Z",
     "shell.execute_reply.started": "2021-07-20T14:34:29.777631Z"
    },
    "papermill": {
     "duration": 0.038749,
     "end_time": "2021-07-20T14:55:38.720255",
     "exception": false,
     "start_time": "2021-07-20T14:55:38.681506",
     "status": "completed"
    },
    "tags": []
   },
   "outputs": [],
   "source": [
    "# reshape input to be [samples, time steps, features] which is required for LSTM\n",
    "X_train =X_train.reshape(X_train.shape[0],X_train.shape[1] , 1)\n",
    "X_test = X_test.reshape(X_test.shape[0],X_test.shape[1] , 1)"
   ]
  },
  {
   "cell_type": "code",
   "execution_count": 16,
   "id": "7406d263",
   "metadata": {
    "execution": {
     "iopub.execute_input": "2021-07-20T14:55:38.786570Z",
     "iopub.status.busy": "2021-07-20T14:55:38.785919Z",
     "iopub.status.idle": "2021-07-20T14:55:45.119881Z",
     "shell.execute_reply": "2021-07-20T14:55:45.120422Z",
     "shell.execute_reply.started": "2021-07-20T14:34:29.788681Z"
    },
    "papermill": {
     "duration": 6.368847,
     "end_time": "2021-07-20T14:55:45.120631",
     "exception": false,
     "start_time": "2021-07-20T14:55:38.751784",
     "status": "completed"
    },
    "tags": []
   },
   "outputs": [],
   "source": [
    "from tensorflow.keras.models import Sequential\n",
    "from tensorflow.keras.layers import LSTM,Dense\n",
    "import tensorflow as tf"
   ]
  },
  {
   "cell_type": "code",
   "execution_count": 17,
   "id": "7485870f",
   "metadata": {
    "execution": {
     "iopub.execute_input": "2021-07-20T14:55:45.188791Z",
     "iopub.status.busy": "2021-07-20T14:55:45.188079Z",
     "iopub.status.idle": "2021-07-20T14:55:46.503226Z",
     "shell.execute_reply": "2021-07-20T14:55:46.502677Z",
     "shell.execute_reply.started": "2021-07-20T14:34:29.804654Z"
    },
    "papermill": {
     "duration": 1.349899,
     "end_time": "2021-07-20T14:55:46.503391",
     "exception": false,
     "start_time": "2021-07-20T14:55:45.153492",
     "status": "completed"
    },
    "tags": []
   },
   "outputs": [
    {
     "name": "stdout",
     "output_type": "stream",
     "text": [
      "Model: \"sequential\"\n",
      "_________________________________________________________________\n",
      " Layer (type)                Output Shape              Param #   \n",
      "=================================================================\n",
      " lstm (LSTM)                 (None, 100, 50)           10400     \n",
      "                                                                 \n",
      " lstm_1 (LSTM)               (None, 100, 50)           20200     \n",
      "                                                                 \n",
      " lstm_2 (LSTM)               (None, 50)                20200     \n",
      "                                                                 \n",
      " dense (Dense)               (None, 1)                 51        \n",
      "                                                                 \n",
      "=================================================================\n",
      "Total params: 50851 (198.64 KB)\n",
      "Trainable params: 50851 (198.64 KB)\n",
      "Non-trainable params: 0 (0.00 Byte)\n",
      "_________________________________________________________________\n"
     ]
    }
   ],
   "source": [
    "model = Sequential()\n",
    "model.add(LSTM(50, return_sequences= True, input_shape=(100,1)))\n",
    "model.add(LSTM(50, return_sequences= True))\n",
    "model.add(LSTM(50))\n",
    "model.add(Dense(1))\n",
    "model.compile(loss='mean_squared_error', optimizer='adam')\n",
    "\n",
    "model.summary()"
   ]
  },
  {
   "cell_type": "code",
   "execution_count": null,
   "id": "1d3f23b2",
   "metadata": {
    "execution": {
     "iopub.execute_input": "2021-07-20T14:55:46.575197Z",
     "iopub.status.busy": "2021-07-20T14:55:46.574446Z",
     "iopub.status.idle": "2021-07-20T15:13:21.767795Z",
     "shell.execute_reply": "2021-07-20T15:13:21.767167Z",
     "shell.execute_reply.started": "2021-07-20T14:34:30.569911Z"
    },
    "papermill": {
     "duration": 1055.232092,
     "end_time": "2021-07-20T15:13:21.768045",
     "exception": false,
     "start_time": "2021-07-20T14:55:46.535953",
     "status": "completed"
    },
    "tags": []
   },
   "outputs": [
    {
     "name": "stdout",
     "output_type": "stream",
     "text": [
      "Epoch 1/100\n",
      "33/33 [==============================] - 4s 75ms/step - loss: 0.0078 - val_loss: 0.0010\n",
      "Epoch 2/100\n",
      "33/33 [==============================] - 2s 65ms/step - loss: 0.0022 - val_loss: 4.5850e-04\n",
      "Epoch 3/100\n",
      "33/33 [==============================] - 2s 67ms/step - loss: 0.0017 - val_loss: 4.6893e-04\n",
      "Epoch 4/100\n",
      "33/33 [==============================] - 2s 70ms/step - loss: 0.0014 - val_loss: 3.5153e-04\n",
      "Epoch 5/100\n",
      "33/33 [==============================] - 2s 68ms/step - loss: 0.0012 - val_loss: 3.4421e-04\n",
      "Epoch 6/100\n",
      "33/33 [==============================] - 2s 68ms/step - loss: 0.0012 - val_loss: 3.0841e-04\n",
      "Epoch 7/100\n",
      "33/33 [==============================] - 2s 69ms/step - loss: 0.0011 - val_loss: 2.8191e-04\n",
      "Epoch 8/100\n",
      "33/33 [==============================] - 2s 69ms/step - loss: 0.0011 - val_loss: 3.4277e-04\n",
      "Epoch 9/100\n",
      "14/33 [===========>..................] - ETA: 1s - loss: 0.0014"
     ]
    }
   ],
   "source": [
    "model.fit(X_train,y_train,validation_data=(X_test,y_test),epochs=100,batch_size=64,verbose=1)"
   ]
  },
  {
   "cell_type": "code",
   "execution_count": null,
   "id": "380c5b13",
   "metadata": {
    "execution": {
     "iopub.execute_input": "2021-07-20T15:13:25.171896Z",
     "iopub.status.busy": "2021-07-20T15:13:25.170843Z",
     "iopub.status.idle": "2021-07-20T15:13:32.598086Z",
     "shell.execute_reply": "2021-07-20T15:13:32.596983Z",
     "shell.execute_reply.started": "2021-07-20T14:52:06.763384Z"
    },
    "papermill": {
     "duration": 9.12504,
     "end_time": "2021-07-20T15:13:32.598280",
     "exception": false,
     "start_time": "2021-07-20T15:13:23.473240",
     "status": "completed"
    },
    "tags": []
   },
   "outputs": [],
   "source": [
    "# prediction \n",
    "train_predict=model.predict(X_train)\n",
    "test_predict=model.predict(X_test)\n",
    "# Transformback to original form\n",
    "train_predict=scaler.inverse_transform(train_predict)\n",
    "test_predict=scaler.inverse_transform(test_predict)"
   ]
  },
  {
   "cell_type": "code",
   "execution_count": null,
   "id": "80907b4a",
   "metadata": {
    "execution": {
     "iopub.execute_input": "2021-07-20T15:13:36.031188Z",
     "iopub.status.busy": "2021-07-20T15:13:36.030349Z",
     "iopub.status.idle": "2021-07-20T15:13:36.092153Z",
     "shell.execute_reply": "2021-07-20T15:13:36.091471Z",
     "shell.execute_reply.started": "2021-07-20T14:52:21.993763Z"
    },
    "papermill": {
     "duration": 1.79962,
     "end_time": "2021-07-20T15:13:36.092339",
     "exception": false,
     "start_time": "2021-07-20T15:13:34.292719",
     "status": "completed"
    },
    "tags": []
   },
   "outputs": [],
   "source": [
    "# Calculate RMSE for Train Data\n",
    "import math\n",
    "from sklearn.metrics import mean_squared_error\n",
    "math.sqrt(mean_squared_error(y_train,train_predict))"
   ]
  },
  {
   "cell_type": "code",
   "execution_count": null,
   "id": "5f98c5f1",
   "metadata": {
    "execution": {
     "iopub.execute_input": "2021-07-20T15:13:39.463184Z",
     "iopub.status.busy": "2021-07-20T15:13:39.462116Z",
     "iopub.status.idle": "2021-07-20T15:13:39.467925Z",
     "shell.execute_reply": "2021-07-20T15:13:39.466998Z",
     "shell.execute_reply.started": "2021-07-20T14:52:25.982656Z"
    },
    "papermill": {
     "duration": 1.686021,
     "end_time": "2021-07-20T15:13:39.468174",
     "exception": false,
     "start_time": "2021-07-20T15:13:37.782153",
     "status": "completed"
    },
    "tags": []
   },
   "outputs": [],
   "source": [
    "# Test Data RMSE\n",
    "math.sqrt(mean_squared_error(y_test,test_predict))"
   ]
  },
  {
   "cell_type": "code",
   "execution_count": null,
   "id": "ba2b6916",
   "metadata": {
    "execution": {
     "iopub.execute_input": "2021-07-20T15:13:42.893142Z",
     "iopub.status.busy": "2021-07-20T15:13:42.884133Z",
     "iopub.status.idle": "2021-07-20T15:13:43.080266Z",
     "shell.execute_reply": "2021-07-20T15:13:43.080856Z",
     "shell.execute_reply.started": "2021-07-20T14:52:40.353115Z"
    },
    "papermill": {
     "duration": 1.945081,
     "end_time": "2021-07-20T15:13:43.081091",
     "exception": false,
     "start_time": "2021-07-20T15:13:41.136010",
     "status": "completed"
    },
    "tags": []
   },
   "outputs": [],
   "source": [
    "# Plotting \n",
    "# shift train predictions for plotting\n",
    "look_back=100\n",
    "trainPredictPlot = np.empty_like(df1)\n",
    "trainPredictPlot[:, :] = np.nan\n",
    "trainPredictPlot[look_back:len(train_predict)+look_back, :] = train_predict\n",
    "# shift test predictions for plotting\n",
    "testPredictPlot = np.empty_like(df1)\n",
    "testPredictPlot[:, :] = np.nan\n",
    "testPredictPlot[len(train_predict)+(look_back*2)+1:len(df1)-1, :] = test_predict\n",
    "# plot baseline and predictions\n",
    "plt.plot(scaler.inverse_transform(df1))\n",
    "plt.plot(trainPredictPlot)\n",
    "plt.plot(testPredictPlot)\n",
    "plt.show()"
   ]
  },
  {
   "cell_type": "code",
   "execution_count": null,
   "id": "5851fedf",
   "metadata": {
    "execution": {
     "iopub.execute_input": "2021-07-20T15:13:46.452483Z",
     "iopub.status.busy": "2021-07-20T15:13:46.451879Z",
     "iopub.status.idle": "2021-07-20T15:13:46.456792Z",
     "shell.execute_reply": "2021-07-20T15:13:46.457267Z",
     "shell.execute_reply.started": "2021-07-20T14:53:23.093096Z"
    },
    "papermill": {
     "duration": 1.671643,
     "end_time": "2021-07-20T15:13:46.457454",
     "exception": false,
     "start_time": "2021-07-20T15:13:44.785811",
     "status": "completed"
    },
    "tags": []
   },
   "outputs": [],
   "source": [
    "len(test_data)"
   ]
  },
  {
   "cell_type": "code",
   "execution_count": null,
   "id": "011a652c",
   "metadata": {
    "execution": {
     "iopub.execute_input": "2021-07-20T15:13:49.872229Z",
     "iopub.status.busy": "2021-07-20T15:13:49.871070Z",
     "iopub.status.idle": "2021-07-20T15:13:49.877997Z",
     "shell.execute_reply": "2021-07-20T15:13:49.877386Z",
     "shell.execute_reply.started": "2021-07-20T14:53:25.592345Z"
    },
    "papermill": {
     "duration": 1.759249,
     "end_time": "2021-07-20T15:13:49.878175",
     "exception": false,
     "start_time": "2021-07-20T15:13:48.118926",
     "status": "completed"
    },
    "tags": []
   },
   "outputs": [],
   "source": [
    "x_input=test_data[1758:].reshape(1,-1)\n",
    "x_input.shape"
   ]
  },
  {
   "cell_type": "code",
   "execution_count": null,
   "id": "2bb953cd",
   "metadata": {
    "execution": {
     "iopub.execute_input": "2021-07-20T15:13:53.278720Z",
     "iopub.status.busy": "2021-07-20T15:13:53.278010Z",
     "iopub.status.idle": "2021-07-20T15:13:53.281354Z",
     "shell.execute_reply": "2021-07-20T15:13:53.280806Z",
     "shell.execute_reply.started": "2021-07-20T14:53:28.452694Z"
    },
    "papermill": {
     "duration": 1.738292,
     "end_time": "2021-07-20T15:13:53.281510",
     "exception": false,
     "start_time": "2021-07-20T15:13:51.543218",
     "status": "completed"
    },
    "tags": []
   },
   "outputs": [],
   "source": [
    "temp_input=list(x_input)\n",
    "temp_input=temp_input[0].tolist()"
   ]
  },
  {
   "cell_type": "code",
   "execution_count": null,
   "id": "ea3c4b12",
   "metadata": {
    "execution": {
     "iopub.execute_input": "2021-07-20T15:13:56.718070Z",
     "iopub.status.busy": "2021-07-20T15:13:56.717346Z",
     "iopub.status.idle": "2021-07-20T15:13:58.666880Z",
     "shell.execute_reply": "2021-07-20T15:13:58.666207Z",
     "shell.execute_reply.started": "2021-07-20T14:53:49.204560Z"
    },
    "papermill": {
     "duration": 3.721816,
     "end_time": "2021-07-20T15:13:58.667051",
     "exception": false,
     "start_time": "2021-07-20T15:13:54.945235",
     "status": "completed"
    },
    "tags": []
   },
   "outputs": [],
   "source": [
    "# demonstrate prediction for next 10 days\n",
    "from numpy import array\n",
    "\n",
    "lst_output=[]\n",
    "n_steps=100\n",
    "i=0\n",
    "while(i<30):\n",
    "    \n",
    "    if(len(temp_input)>100):\n",
    "        #print(temp_input)\n",
    "        x_input=np.array(temp_input[1:])\n",
    "        print(\"{} day input {}\".format(i,x_input))\n",
    "        x_input=x_input.reshape(1,-1)\n",
    "        x_input = x_input.reshape((1, n_steps, 1))\n",
    "        #print(x_input)\n",
    "        yhat = model.predict(x_input, verbose=0)\n",
    "        print(\"{} day output {}\".format(i,yhat))\n",
    "        temp_input.extend(yhat[0].tolist())\n",
    "        temp_input=temp_input[1:]\n",
    "        #print(temp_input)\n",
    "        lst_output.extend(yhat.tolist())\n",
    "        i=i+1\n",
    "    else:\n",
    "        x_input = x_input.reshape((1, n_steps,1))\n",
    "        yhat = model.predict(x_input, verbose=0)\n",
    "        print(yhat[0])\n",
    "        temp_input.extend(yhat[0].tolist())\n",
    "        print(len(temp_input))\n",
    "        lst_output.extend(yhat.tolist())\n",
    "        i=i+1\n",
    "    "
   ]
  },
  {
   "cell_type": "code",
   "execution_count": null,
   "id": "3016d1a7",
   "metadata": {
    "execution": {
     "iopub.execute_input": "2021-07-20T15:14:02.019428Z",
     "iopub.status.busy": "2021-07-20T15:14:02.018721Z",
     "iopub.status.idle": "2021-07-20T15:14:02.021970Z",
     "shell.execute_reply": "2021-07-20T15:14:02.022459Z",
     "shell.execute_reply.started": "2021-07-20T14:54:27.973411Z"
    },
    "papermill": {
     "duration": 1.672451,
     "end_time": "2021-07-20T15:14:02.022701",
     "exception": false,
     "start_time": "2021-07-20T15:14:00.350250",
     "status": "completed"
    },
    "tags": []
   },
   "outputs": [],
   "source": [
    "day_new=np.arange(1,101)\n",
    "day_pred=np.arange(101,131)"
   ]
  },
  {
   "cell_type": "code",
   "execution_count": null,
   "id": "30ff838b",
   "metadata": {
    "execution": {
     "iopub.execute_input": "2021-07-20T15:14:05.382941Z",
     "iopub.status.busy": "2021-07-20T15:14:05.381636Z",
     "iopub.status.idle": "2021-07-20T15:14:05.385871Z",
     "shell.execute_reply": "2021-07-20T15:14:05.386371Z",
     "shell.execute_reply.started": "2021-07-20T14:54:30.202919Z"
    },
    "papermill": {
     "duration": 1.684773,
     "end_time": "2021-07-20T15:14:05.386572",
     "exception": false,
     "start_time": "2021-07-20T15:14:03.701799",
     "status": "completed"
    },
    "tags": []
   },
   "outputs": [],
   "source": [
    "len(df1)"
   ]
  },
  {
   "cell_type": "code",
   "execution_count": null,
   "id": "a6f19e67",
   "metadata": {
    "execution": {
     "iopub.execute_input": "2021-07-20T15:14:08.883759Z",
     "iopub.status.busy": "2021-07-20T15:14:08.882884Z",
     "iopub.status.idle": "2021-07-20T15:14:09.124968Z",
     "shell.execute_reply": "2021-07-20T15:14:09.124228Z",
     "shell.execute_reply.started": "2021-07-20T14:54:32.653120Z"
    },
    "papermill": {
     "duration": 1.961559,
     "end_time": "2021-07-20T15:14:09.125138",
     "exception": false,
     "start_time": "2021-07-20T15:14:07.163579",
     "status": "completed"
    },
    "tags": []
   },
   "outputs": [],
   "source": [
    "plt.plot(day_new,scaler.inverse_transform(df1[5206:]))\n",
    "plt.plot(day_pred,scaler.inverse_transform(lst_output))"
   ]
  },
  {
   "cell_type": "code",
   "execution_count": null,
   "id": "75975674",
   "metadata": {
    "execution": {
     "iopub.execute_input": "2021-07-20T15:14:12.612290Z",
     "iopub.status.busy": "2021-07-20T15:14:12.611064Z",
     "iopub.status.idle": "2021-07-20T15:14:12.859754Z",
     "shell.execute_reply": "2021-07-20T15:14:12.860226Z",
     "shell.execute_reply.started": "2021-07-20T14:54:44.493758Z"
    },
    "papermill": {
     "duration": 1.980001,
     "end_time": "2021-07-20T15:14:12.860433",
     "exception": false,
     "start_time": "2021-07-20T15:14:10.880432",
     "status": "completed"
    },
    "tags": []
   },
   "outputs": [],
   "source": [
    "df3=df1.tolist()\n",
    "df3.extend(lst_output)\n",
    "plt.plot(df3[5150:])"
   ]
  },
  {
   "cell_type": "code",
   "execution_count": null,
   "id": "eafc111b",
   "metadata": {
    "execution": {
     "iopub.execute_input": "2021-07-20T15:14:16.363820Z",
     "iopub.status.busy": "2021-07-20T15:14:16.363058Z",
     "iopub.status.idle": "2021-07-20T15:14:16.559929Z",
     "shell.execute_reply": "2021-07-20T15:14:16.559374Z",
     "shell.execute_reply.started": "2021-07-20T14:54:57.532912Z"
    },
    "papermill": {
     "duration": 1.917935,
     "end_time": "2021-07-20T15:14:16.560095",
     "exception": false,
     "start_time": "2021-07-20T15:14:14.642160",
     "status": "completed"
    },
    "tags": []
   },
   "outputs": [],
   "source": [
    "df3=scaler.inverse_transform(df3).tolist()\n",
    "plt.plot(df3)"
   ]
  }
 ],
 "metadata": {
  "kernelspec": {
   "display_name": "Python 3 (ipykernel)",
   "language": "python",
   "name": "python3"
  },
  "language_info": {
   "codemirror_mode": {
    "name": "ipython",
    "version": 3
   },
   "file_extension": ".py",
   "mimetype": "text/x-python",
   "name": "python",
   "nbconvert_exporter": "python",
   "pygments_lexer": "ipython3",
   "version": "3.11.5"
  },
  "papermill": {
   "default_parameters": {},
   "duration": 1134.172307,
   "end_time": "2021-07-20T15:14:21.092557",
   "environment_variables": {},
   "exception": null,
   "input_path": "__notebook__.ipynb",
   "output_path": "__notebook__.ipynb",
   "parameters": {},
   "start_time": "2021-07-20T14:55:26.920250",
   "version": "2.3.3"
  }
 },
 "nbformat": 4,
 "nbformat_minor": 5
}
