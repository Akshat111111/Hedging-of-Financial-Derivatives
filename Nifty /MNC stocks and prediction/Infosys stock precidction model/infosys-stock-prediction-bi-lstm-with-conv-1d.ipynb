{
 "cells": [
  {
   "cell_type": "markdown",
   "metadata": {
    "papermill": {
     "duration": 0.015178,
     "end_time": "2021-02-26T11:25:39.750802",
     "exception": false,
     "start_time": "2021-02-26T11:25:39.735624",
     "status": "completed"
    },
    "tags": []
   },
   "source": [
    "**Reading Data**"
   ]
  },
  {
   "cell_type": "code",
   "execution_count": 1,
   "metadata": {
    "execution": {
     "iopub.execute_input": "2021-02-26T11:25:39.785282Z",
     "iopub.status.busy": "2021-02-26T11:25:39.784545Z",
     "iopub.status.idle": "2021-02-26T11:25:39.799411Z",
     "shell.execute_reply": "2021-02-26T11:25:39.798624Z"
    },
    "papermill": {
     "duration": 0.034956,
     "end_time": "2021-02-26T11:25:39.799661",
     "exception": false,
     "start_time": "2021-02-26T11:25:39.764705",
     "status": "completed"
    },
    "tags": []
   },
   "outputs": [
    {
     "name": "stdout",
     "output_type": "stream",
     "text": [
      "/kaggle/input/infosys-stock-price-nyse/INFY.csv\n"
     ]
    }
   ],
   "source": [
    "import numpy as np # linear algebra\n",
    "import pandas as pd # data processing, CSV file I/O (e.g. pd.read_csv)\n",
    "\n",
    "# Input data files are available in the read-only \"../input/\" directory\n",
    "# For example, running this (by clicking run or pressing Shift+Enter) will list all files under the input directory\n",
    "\n",
    "import os\n",
    "for dirname, _, filenames in os.walk('/kaggle/input'):\n",
    "    for filename in filenames:\n",
    "        print(os.path.join(dirname, filename))"
   ]
  },
  {
   "cell_type": "code",
   "execution_count": 2,
   "metadata": {
    "execution": {
     "iopub.execute_input": "2021-02-26T11:25:39.833449Z",
     "iopub.status.busy": "2021-02-26T11:25:39.832433Z",
     "iopub.status.idle": "2021-02-26T11:25:39.885132Z",
     "shell.execute_reply": "2021-02-26T11:25:39.884408Z"
    },
    "id": "l0xNDInOAQyX",
    "outputId": "1819b85e-2ba4-4f0d-fea8-da7659529f1d",
    "papermill": {
     "duration": 0.070703,
     "end_time": "2021-02-26T11:25:39.885292",
     "exception": false,
     "start_time": "2021-02-26T11:25:39.814589",
     "status": "completed"
    },
    "tags": []
   },
   "outputs": [
    {
     "data": {
      "text/html": [
       "<div>\n",
       "<style scoped>\n",
       "    .dataframe tbody tr th:only-of-type {\n",
       "        vertical-align: middle;\n",
       "    }\n",
       "\n",
       "    .dataframe tbody tr th {\n",
       "        vertical-align: top;\n",
       "    }\n",
       "\n",
       "    .dataframe thead th {\n",
       "        text-align: right;\n",
       "    }\n",
       "</style>\n",
       "<table border=\"1\" class=\"dataframe\">\n",
       "  <thead>\n",
       "    <tr style=\"text-align: right;\">\n",
       "      <th></th>\n",
       "      <th>Open</th>\n",
       "      <th>High</th>\n",
       "      <th>Low</th>\n",
       "      <th>Close</th>\n",
       "      <th>Adj Close</th>\n",
       "      <th>Volume</th>\n",
       "    </tr>\n",
       "    <tr>\n",
       "      <th>Date</th>\n",
       "      <th></th>\n",
       "      <th></th>\n",
       "      <th></th>\n",
       "      <th></th>\n",
       "      <th></th>\n",
       "      <th></th>\n",
       "    </tr>\n",
       "  </thead>\n",
       "  <tbody>\n",
       "    <tr>\n",
       "      <th>2015-11-30</th>\n",
       "      <td>8.320</td>\n",
       "      <td>8.500</td>\n",
       "      <td>8.225</td>\n",
       "      <td>8.340</td>\n",
       "      <td>7.163630</td>\n",
       "      <td>14280800</td>\n",
       "    </tr>\n",
       "    <tr>\n",
       "      <th>2015-12-01</th>\n",
       "      <td>8.350</td>\n",
       "      <td>8.385</td>\n",
       "      <td>8.205</td>\n",
       "      <td>8.280</td>\n",
       "      <td>7.112093</td>\n",
       "      <td>6067200</td>\n",
       "    </tr>\n",
       "    <tr>\n",
       "      <th>2015-12-02</th>\n",
       "      <td>8.210</td>\n",
       "      <td>8.225</td>\n",
       "      <td>8.110</td>\n",
       "      <td>8.130</td>\n",
       "      <td>6.983251</td>\n",
       "      <td>6377600</td>\n",
       "    </tr>\n",
       "    <tr>\n",
       "      <th>2015-12-03</th>\n",
       "      <td>8.140</td>\n",
       "      <td>8.150</td>\n",
       "      <td>8.035</td>\n",
       "      <td>8.065</td>\n",
       "      <td>6.927418</td>\n",
       "      <td>4031000</td>\n",
       "    </tr>\n",
       "    <tr>\n",
       "      <th>2015-12-04</th>\n",
       "      <td>8.065</td>\n",
       "      <td>8.215</td>\n",
       "      <td>8.060</td>\n",
       "      <td>8.185</td>\n",
       "      <td>7.030493</td>\n",
       "      <td>3501200</td>\n",
       "    </tr>\n",
       "  </tbody>\n",
       "</table>\n",
       "</div>"
      ],
      "text/plain": [
       "             Open   High    Low  Close  Adj Close    Volume\n",
       "Date                                                       \n",
       "2015-11-30  8.320  8.500  8.225  8.340   7.163630  14280800\n",
       "2015-12-01  8.350  8.385  8.205  8.280   7.112093   6067200\n",
       "2015-12-02  8.210  8.225  8.110  8.130   6.983251   6377600\n",
       "2015-12-03  8.140  8.150  8.035  8.065   6.927418   4031000\n",
       "2015-12-04  8.065  8.215  8.060  8.185   7.030493   3501200"
      ]
     },
     "execution_count": 2,
     "metadata": {},
     "output_type": "execute_result"
    }
   ],
   "source": [
    "data=pd.read_csv('/kaggle/input/infosys-stock-price-nyse/INFY.csv',parse_dates=['Date'],index_col='Date')\n",
    "data.head()"
   ]
  },
  {
   "cell_type": "markdown",
   "metadata": {
    "papermill": {
     "duration": 0.014896,
     "end_time": "2021-02-26T11:25:39.915146",
     "exception": false,
     "start_time": "2021-02-26T11:25:39.900250",
     "status": "completed"
    },
    "tags": []
   },
   "source": [
    "**Data Preprocessing**"
   ]
  },
  {
   "cell_type": "markdown",
   "metadata": {
    "papermill": {
     "duration": 0.014645,
     "end_time": "2021-02-26T11:25:39.945373",
     "exception": false,
     "start_time": "2021-02-26T11:25:39.930728",
     "status": "completed"
    },
    "tags": []
   },
   "source": [
    "Get the Day and Day of week as features to predict the Closing price of the stock"
   ]
  },
  {
   "cell_type": "code",
   "execution_count": 3,
   "metadata": {
    "execution": {
     "iopub.execute_input": "2021-02-26T11:25:39.980487Z",
     "iopub.status.busy": "2021-02-26T11:25:39.979800Z",
     "iopub.status.idle": "2021-02-26T11:25:40.001251Z",
     "shell.execute_reply": "2021-02-26T11:25:40.001891Z"
    },
    "id": "P-6eZcXDBRaa",
    "outputId": "a0238781-eaf3-48eb-f44e-ff325c356c3f",
    "papermill": {
     "duration": 0.041826,
     "end_time": "2021-02-26T11:25:40.002082",
     "exception": false,
     "start_time": "2021-02-26T11:25:39.960256",
     "status": "completed"
    },
    "tags": []
   },
   "outputs": [
    {
     "data": {
      "text/html": [
       "<div>\n",
       "<style scoped>\n",
       "    .dataframe tbody tr th:only-of-type {\n",
       "        vertical-align: middle;\n",
       "    }\n",
       "\n",
       "    .dataframe tbody tr th {\n",
       "        vertical-align: top;\n",
       "    }\n",
       "\n",
       "    .dataframe thead th {\n",
       "        text-align: right;\n",
       "    }\n",
       "</style>\n",
       "<table border=\"1\" class=\"dataframe\">\n",
       "  <thead>\n",
       "    <tr style=\"text-align: right;\">\n",
       "      <th></th>\n",
       "      <th>Open</th>\n",
       "      <th>High</th>\n",
       "      <th>Low</th>\n",
       "      <th>Close</th>\n",
       "      <th>Adj Close</th>\n",
       "      <th>Volume</th>\n",
       "      <th>Day</th>\n",
       "      <th>DayOfWeek</th>\n",
       "    </tr>\n",
       "    <tr>\n",
       "      <th>Date</th>\n",
       "      <th></th>\n",
       "      <th></th>\n",
       "      <th></th>\n",
       "      <th></th>\n",
       "      <th></th>\n",
       "      <th></th>\n",
       "      <th></th>\n",
       "      <th></th>\n",
       "    </tr>\n",
       "  </thead>\n",
       "  <tbody>\n",
       "    <tr>\n",
       "      <th>2015-11-30</th>\n",
       "      <td>8.320</td>\n",
       "      <td>8.500</td>\n",
       "      <td>8.225</td>\n",
       "      <td>8.340</td>\n",
       "      <td>7.163630</td>\n",
       "      <td>14280800</td>\n",
       "      <td>30</td>\n",
       "      <td>0</td>\n",
       "    </tr>\n",
       "    <tr>\n",
       "      <th>2015-12-01</th>\n",
       "      <td>8.350</td>\n",
       "      <td>8.385</td>\n",
       "      <td>8.205</td>\n",
       "      <td>8.280</td>\n",
       "      <td>7.112093</td>\n",
       "      <td>6067200</td>\n",
       "      <td>1</td>\n",
       "      <td>1</td>\n",
       "    </tr>\n",
       "    <tr>\n",
       "      <th>2015-12-02</th>\n",
       "      <td>8.210</td>\n",
       "      <td>8.225</td>\n",
       "      <td>8.110</td>\n",
       "      <td>8.130</td>\n",
       "      <td>6.983251</td>\n",
       "      <td>6377600</td>\n",
       "      <td>2</td>\n",
       "      <td>2</td>\n",
       "    </tr>\n",
       "    <tr>\n",
       "      <th>2015-12-03</th>\n",
       "      <td>8.140</td>\n",
       "      <td>8.150</td>\n",
       "      <td>8.035</td>\n",
       "      <td>8.065</td>\n",
       "      <td>6.927418</td>\n",
       "      <td>4031000</td>\n",
       "      <td>3</td>\n",
       "      <td>3</td>\n",
       "    </tr>\n",
       "    <tr>\n",
       "      <th>2015-12-04</th>\n",
       "      <td>8.065</td>\n",
       "      <td>8.215</td>\n",
       "      <td>8.060</td>\n",
       "      <td>8.185</td>\n",
       "      <td>7.030493</td>\n",
       "      <td>3501200</td>\n",
       "      <td>4</td>\n",
       "      <td>4</td>\n",
       "    </tr>\n",
       "  </tbody>\n",
       "</table>\n",
       "</div>"
      ],
      "text/plain": [
       "             Open   High    Low  Close  Adj Close    Volume  Day  DayOfWeek\n",
       "Date                                                                       \n",
       "2015-11-30  8.320  8.500  8.225  8.340   7.163630  14280800   30          0\n",
       "2015-12-01  8.350  8.385  8.205  8.280   7.112093   6067200    1          1\n",
       "2015-12-02  8.210  8.225  8.110  8.130   6.983251   6377600    2          2\n",
       "2015-12-03  8.140  8.150  8.035  8.065   6.927418   4031000    3          3\n",
       "2015-12-04  8.065  8.215  8.060  8.185   7.030493   3501200    4          4"
      ]
     },
     "execution_count": 3,
     "metadata": {},
     "output_type": "execute_result"
    }
   ],
   "source": [
    "data['Day']=data.index.day\n",
    "data['DayOfWeek']=data.index.dayofweek\n",
    "data.head()"
   ]
  },
  {
   "cell_type": "markdown",
   "metadata": {
    "papermill": {
     "duration": 0.015105,
     "end_time": "2021-02-26T11:25:40.033852",
     "exception": false,
     "start_time": "2021-02-26T11:25:40.018747",
     "status": "completed"
    },
    "tags": []
   },
   "source": [
    "Plot of the target variable , i.e Close Price"
   ]
  },
  {
   "cell_type": "code",
   "execution_count": 4,
   "metadata": {
    "execution": {
     "iopub.execute_input": "2021-02-26T11:25:40.068428Z",
     "iopub.status.busy": "2021-02-26T11:25:40.067726Z",
     "iopub.status.idle": "2021-02-26T11:25:40.296531Z",
     "shell.execute_reply": "2021-02-26T11:25:40.297033Z"
    },
    "id": "Q5nPEgGiBcFA",
    "outputId": "7b799267-05fe-4f8f-ddf5-80825d7ca3a9",
    "papermill": {
     "duration": 0.24789,
     "end_time": "2021-02-26T11:25:40.297215",
     "exception": false,
     "start_time": "2021-02-26T11:25:40.049325",
     "status": "completed"
    },
    "tags": []
   },
   "outputs": [
    {
     "data": {
      "image/png": "[encoded data removed]",
      "text/plain": [
       "<Figure size 2160x504 with 1 Axes>"
      ]
     },
     "metadata": {
      "needs_background": "light"
     },
     "output_type": "display_data"
    }
   ],
   "source": [
    "import matplotlib.pyplot as plt\n",
    "plt.figure(figsize=(30,7))\n",
    "plt.plot(data.index,data['Close'])\n",
    "plt.show()"
   ]
  },
  {
   "cell_type": "markdown",
   "metadata": {
    "papermill": {
     "duration": 0.017457,
     "end_time": "2021-02-26T11:25:40.334671",
     "exception": false,
     "start_time": "2021-02-26T11:25:40.317214",
     "status": "completed"
    },
    "tags": []
   },
   "source": [
    "We take a 90-10 split of the data, You can experiment with the split size."
   ]
  },
  {
   "cell_type": "code",
   "execution_count": 5,
   "metadata": {
    "execution": {
     "iopub.execute_input": "2021-02-26T11:25:40.377382Z",
     "iopub.status.busy": "2021-02-26T11:25:40.376722Z",
     "iopub.status.idle": "2021-02-26T11:25:40.380213Z",
     "shell.execute_reply": "2021-02-26T11:25:40.380740Z"
    },
    "id": "klVfjfK5Can6",
    "outputId": "afa24f89-b8fd-4d97-881f-e7e27d758f5a",
    "papermill": {
     "duration": 0.028473,
     "end_time": "2021-02-26T11:25:40.380918",
     "exception": false,
     "start_time": "2021-02-26T11:25:40.352445",
     "status": "completed"
    },
    "tags": []
   },
   "outputs": [
    {
     "data": {
      "text/plain": [
       "((1133, 8), (126, 8))"
      ]
     },
     "execution_count": 5,
     "metadata": {},
     "output_type": "execute_result"
    }
   ],
   "source": [
    "train_size=int(len(data)*0.9)\n",
    "train,test=data.iloc[:train_size],data.iloc[train_size:len(data)]\n",
    "train.shape,test.shape"
   ]
  },
  {
   "cell_type": "markdown",
   "metadata": {
    "papermill": {
     "duration": 0.017832,
     "end_time": "2021-02-26T11:25:40.416950",
     "exception": false,
     "start_time": "2021-02-26T11:25:40.399118",
     "status": "completed"
    },
    "tags": []
   },
   "source": [
    "Since the features are of various numeric ranges, So with MinMax Scaler we get th variables down to range [0,1]."
   ]
  },
  {
   "cell_type": "code",
   "execution_count": 6,
   "metadata": {
    "execution": {
     "iopub.execute_input": "2021-02-26T11:25:40.457124Z",
     "iopub.status.busy": "2021-02-26T11:25:40.456164Z",
     "iopub.status.idle": "2021-02-26T11:25:41.575483Z",
     "shell.execute_reply": "2021-02-26T11:25:41.576149Z"
    },
    "id": "uoIVKTppF-88",
    "outputId": "c1ab88a3-3e77-4c5b-efed-685999008740",
    "papermill": {
     "duration": 1.141359,
     "end_time": "2021-02-26T11:25:41.576326",
     "exception": false,
     "start_time": "2021-02-26T11:25:40.434967",
     "status": "completed"
    },
    "tags": []
   },
   "outputs": [
    {
     "name": "stderr",
     "output_type": "stream",
     "text": [
      "/opt/conda/lib/python3.7/site-packages/pandas/core/indexing.py:1737: SettingWithCopyWarning: \n",
      "A value is trying to be set on a copy of a slice from a DataFrame.\n",
      "Try using .loc[row_indexer,col_indexer] = value instead\n",
      "\n",
      "See the caveats in the documentation: https://pandas.pydata.org/pandas-docs/stable/user_guide/indexing.html#returning-a-view-versus-a-copy\n",
      "  self._setitem_single_column(loc, value[:, i].tolist(), pi)\n",
      "/opt/conda/lib/python3.7/site-packages/ipykernel_launcher.py:10: SettingWithCopyWarning: \n",
      "A value is trying to be set on a copy of a slice from a DataFrame.\n",
      "Try using .loc[row_indexer,col_indexer] = value instead\n",
      "\n",
      "See the caveats in the documentation: https://pandas.pydata.org/pandas-docs/stable/user_guide/indexing.html#returning-a-view-versus-a-copy\n",
      "  # Remove the CWD from sys.path while we load stuff.\n",
      "/opt/conda/lib/python3.7/site-packages/pandas/core/indexing.py:1737: SettingWithCopyWarning: \n",
      "A value is trying to be set on a copy of a slice from a DataFrame.\n",
      "Try using .loc[row_indexer,col_indexer] = value instead\n",
      "\n",
      "See the caveats in the documentation: https://pandas.pydata.org/pandas-docs/stable/user_guide/indexing.html#returning-a-view-versus-a-copy\n",
      "  self._setitem_single_column(loc, value[:, i].tolist(), pi)\n",
      "/opt/conda/lib/python3.7/site-packages/ipykernel_launcher.py:12: SettingWithCopyWarning: \n",
      "A value is trying to be set on a copy of a slice from a DataFrame.\n",
      "Try using .loc[row_indexer,col_indexer] = value instead\n",
      "\n",
      "See the caveats in the documentation: https://pandas.pydata.org/pandas-docs/stable/user_guide/indexing.html#returning-a-view-versus-a-copy\n",
      "  if sys.path[0] == '':\n"
     ]
    }
   ],
   "source": [
    "from sklearn.preprocessing import MinMaxScaler\n",
    "\n",
    "rs_data = MinMaxScaler()\n",
    "rs_target = MinMaxScaler()\n",
    "\n",
    "target=data['Close']\n",
    "data.drop(columns=['Close'],inplace=True)\n",
    "\n",
    "train.loc[:,data.columns]=rs_data.fit_transform(train.loc[:,data.columns].to_numpy())\n",
    "train['Close']=rs_target.fit_transform(train[['Close']].to_numpy())\n",
    "test.loc[:,data.columns]=rs_data.fit_transform(test.loc[:,data.columns].to_numpy())\n",
    "test['Close']=rs_target.fit_transform(test[['Close']].to_numpy())"
   ]
  },
  {
   "cell_type": "markdown",
   "metadata": {
    "papermill": {
     "duration": 0.018378,
     "end_time": "2021-02-26T11:25:41.614557",
     "exception": false,
     "start_time": "2021-02-26T11:25:41.596179",
     "status": "completed"
    },
    "tags": []
   },
   "source": [
    "This is by far the most important snipet of the projct. Here we create the main data., i.e Here we use the previous time stamp data values of the time series as the data and the current time value as target, In the next instance, the current value goes on with the data and the next value is considered as the target.Hope it makes sense ;p."
   ]
  },
  {
   "cell_type": "code",
   "execution_count": 7,
   "metadata": {
    "execution": {
     "iopub.execute_input": "2021-02-26T11:25:41.657396Z",
     "iopub.status.busy": "2021-02-26T11:25:41.656211Z",
     "iopub.status.idle": "2021-02-26T11:25:41.662880Z",
     "shell.execute_reply": "2021-02-26T11:25:41.663349Z"
    },
    "id": "2rEu9SeZGJhy",
    "papermill": {
     "duration": 0.030322,
     "end_time": "2021-02-26T11:25:41.663556",
     "exception": false,
     "start_time": "2021-02-26T11:25:41.633234",
     "status": "completed"
    },
    "tags": []
   },
   "outputs": [],
   "source": [
    "import numpy as np\n",
    "def create_dataset(X, y, time_steps=1):\n",
    "    Xs, ys = [], []\n",
    "    for i in range(len(X) - time_steps):\n",
    "        v = X.iloc[i:(i + time_steps)].values\n",
    "        Xs.append(v)\n",
    "        ys.append(y.iloc[i + time_steps])\n",
    "    return np.array(Xs), np.array(ys)"
   ]
  },
  {
   "cell_type": "markdown",
   "metadata": {
    "papermill": {
     "duration": 0.018843,
     "end_time": "2021-02-26T11:25:41.701660",
     "exception": false,
     "start_time": "2021-02-26T11:25:41.682817",
     "status": "completed"
    },
    "tags": []
   },
   "source": [
    "Here we take the past 5 days close price to predict the 6th day close price with all the other parameters of the data too."
   ]
  },
  {
   "cell_type": "code",
   "execution_count": 8,
   "metadata": {
    "execution": {
     "iopub.execute_input": "2021-02-26T11:25:41.743814Z",
     "iopub.status.busy": "2021-02-26T11:25:41.742769Z",
     "iopub.status.idle": "2021-02-26T11:25:41.870851Z",
     "shell.execute_reply": "2021-02-26T11:25:41.871330Z"
    },
    "id": "se_f5VKIGOql",
    "outputId": "a75e458b-9006-484b-d244-916bdc9719b7",
    "papermill": {
     "duration": 0.15085,
     "end_time": "2021-02-26T11:25:41.871538",
     "exception": false,
     "start_time": "2021-02-26T11:25:41.720688",
     "status": "completed"
    },
    "tags": []
   },
   "outputs": [
    {
     "data": {
      "text/plain": [
       "((1128, 5, 8), (121, 5, 8))"
      ]
     },
     "execution_count": 8,
     "metadata": {},
     "output_type": "execute_result"
    }
   ],
   "source": [
    "time_steps=5\n",
    "\n",
    "x_train, y_train = create_dataset(train, train['Close'], time_steps)\n",
    "x_test, y_test = create_dataset(test, test['Close'], time_steps)\n",
    "\n",
    "x_train.shape,x_test.shape"
   ]
  },
  {
   "cell_type": "markdown",
   "metadata": {
    "papermill": {
     "duration": 0.019157,
     "end_time": "2021-02-26T11:25:41.909861",
     "exception": false,
     "start_time": "2021-02-26T11:25:41.890704",
     "status": "completed"
    },
    "tags": []
   },
   "source": [
    "**Model Creation**"
   ]
  },
  {
   "cell_type": "markdown",
   "metadata": {
    "papermill": {
     "duration": 0.020053,
     "end_time": "2021-02-26T11:25:41.949245",
     "exception": false,
     "start_time": "2021-02-26T11:25:41.929192",
     "status": "completed"
    },
    "tags": []
   },
   "source": [
    "The Conv-1D layer is technically added to smooth out the input vector which is our data. This helps the LSTM underneath to preform really well on the smoothened data."
   ]
  },
  {
   "cell_type": "code",
   "execution_count": 9,
   "metadata": {
    "execution": {
     "iopub.execute_input": "2021-02-26T11:25:41.992561Z",
     "iopub.status.busy": "2021-02-26T11:25:41.991544Z",
     "iopub.status.idle": "2021-02-26T11:25:50.549439Z",
     "shell.execute_reply": "2021-02-26T11:25:50.548892Z"
    },
    "id": "4nomiRNjGRfu",
    "papermill": {
     "duration": 8.580808,
     "end_time": "2021-02-26T11:25:50.549624",
     "exception": false,
     "start_time": "2021-02-26T11:25:41.968816",
     "status": "completed"
    },
    "tags": []
   },
   "outputs": [],
   "source": [
    "import keras\n",
    "model = keras.Sequential()\n",
    "model.add(keras.layers.Conv1D(filters=32, kernel_size=5,\n",
    "                      strides=1, padding=\"causal\",\n",
    "                      activation=\"relu\",\n",
    "                      input_shape=(x_train.shape[1], x_train.shape[2])))\n",
    "model.add(\n",
    "  keras.layers.Bidirectional(\n",
    "    keras.layers.LSTM(\n",
    "      units=128,return_sequences=True\n",
    "    )\n",
    "  ))\n",
    "model.add(\n",
    "  keras.layers.Bidirectional(\n",
    "  keras.layers.LSTM(\n",
    "  units=500,return_sequences=True\n",
    "    )\n",
    "  ))\n",
    "model.add(\n",
    "  keras.layers.Bidirectional(\n",
    "  keras.layers.LSTM(units=500)\n",
    "  )\n",
    ")\n",
    "model.add(keras.layers.Dropout(rate=0.25))\n",
    "model.add(keras.layers.Dense(units=100,activation='relu'))\n",
    "model.add(keras.layers.Dense(10, activation=\"relu\"))\n",
    "model.add(keras.layers.Dense(units=1))\n",
    "model.compile(loss=keras.losses.Huber(),\n",
    "              optimizer='adam',\n",
    "              metrics=[\"mse\"])"
   ]
  },
  {
   "cell_type": "markdown",
   "metadata": {
    "papermill": {
     "duration": 0.019003,
     "end_time": "2021-02-26T11:25:50.587996",
     "exception": false,
     "start_time": "2021-02-26T11:25:50.568993",
     "status": "completed"
    },
    "tags": []
   },
   "source": [
    "**Model Training**"
   ]
  },
  {
   "cell_type": "code",
   "execution_count": 10,
   "metadata": {
    "execution": {
     "iopub.execute_input": "2021-02-26T11:25:50.634281Z",
     "iopub.status.busy": "2021-02-26T11:25:50.633517Z",
     "iopub.status.idle": "2021-02-26T11:30:50.696424Z",
     "shell.execute_reply": "2021-02-26T11:30:50.695189Z"
    },
    "id": "hj0HG9sgGZcN",
    "outputId": "d3936027-e356-4187-d6fc-6541baa26e14",
    "papermill": {
     "duration": 300.089185,
     "end_time": "2021-02-26T11:30:50.696677",
     "exception": false,
     "start_time": "2021-02-26T11:25:50.607492",
     "status": "completed"
    },
    "tags": []
   },
   "outputs": [
    {
     "name": "stdout",
     "output_type": "stream",
     "text": [
      "Epoch 1/50\n",
      "23/23 [==============================] - 17s 363ms/step - loss: 0.0162 - mse: 0.0324 - val_loss: 0.0160 - val_mse: 0.0319\n",
      "Epoch 2/50\n",
      "23/23 [==============================] - 6s 252ms/step - loss: 0.0109 - mse: 0.0218 - val_loss: 0.0089 - val_mse: 0.0179\n",
      "Epoch 3/50\n",
      "23/23 [==============================] - 6s 266ms/step - loss: 0.0101 - mse: 0.0201 - val_loss: 0.0170 - val_mse: 0.0340\n",
      "Epoch 4/50\n",
      "23/23 [==============================] - 6s 249ms/step - loss: 0.0075 - mse: 0.0151 - val_loss: 0.0247 - val_mse: 0.0494\n",
      "Epoch 5/50\n",
      "23/23 [==============================] - 6s 255ms/step - loss: 0.0087 - mse: 0.0175 - val_loss: 0.0060 - val_mse: 0.0121\n",
      "Epoch 6/50\n",
      "23/23 [==============================] - 6s 254ms/step - loss: 0.0094 - mse: 0.0187 - val_loss: 0.0119 - val_mse: 0.0238\n",
      "Epoch 7/50\n",
      "23/23 [==============================] - 6s 263ms/step - loss: 0.0120 - mse: 0.0240 - val_loss: 0.0061 - val_mse: 0.0123\n",
      "Epoch 8/50\n",
      "23/23 [==============================] - 6s 266ms/step - loss: 0.0086 - mse: 0.0172 - val_loss: 0.0213 - val_mse: 0.0427\n",
      "Epoch 9/50\n",
      "23/23 [==============================] - 6s 276ms/step - loss: 0.0225 - mse: 0.0450 - val_loss: 0.0060 - val_mse: 0.0119\n",
      "Epoch 10/50\n",
      "23/23 [==============================] - 6s 254ms/step - loss: 0.0043 - mse: 0.0085 - val_loss: 0.0086 - val_mse: 0.0173\n",
      "Epoch 11/50\n",
      "23/23 [==============================] - 6s 252ms/step - loss: 0.0083 - mse: 0.0167 - val_loss: 0.0053 - val_mse: 0.0105\n",
      "Epoch 12/50\n",
      "23/23 [==============================] - 6s 256ms/step - loss: 0.0067 - mse: 0.0133 - val_loss: 0.0277 - val_mse: 0.0553\n",
      "Epoch 13/50\n",
      "23/23 [==============================] - 6s 255ms/step - loss: 0.0046 - mse: 0.0092 - val_loss: 0.0051 - val_mse: 0.0103\n",
      "Epoch 14/50\n",
      "23/23 [==============================] - 6s 272ms/step - loss: 0.0056 - mse: 0.0112 - val_loss: 0.0148 - val_mse: 0.0297\n",
      "Epoch 15/50\n",
      "23/23 [==============================] - 6s 250ms/step - loss: 0.0153 - mse: 0.0305 - val_loss: 0.0099 - val_mse: 0.0198\n",
      "Epoch 16/50\n",
      "23/23 [==============================] - 6s 251ms/step - loss: 0.0123 - mse: 0.0247 - val_loss: 0.0288 - val_mse: 0.0576\n",
      "Epoch 17/50\n",
      "23/23 [==============================] - 6s 249ms/step - loss: 0.0109 - mse: 0.0219 - val_loss: 0.0101 - val_mse: 0.0202\n",
      "Epoch 18/50\n",
      "23/23 [==============================] - 6s 251ms/step - loss: 0.0040 - mse: 0.0080 - val_loss: 0.0053 - val_mse: 0.0105\n",
      "Epoch 19/50\n",
      "23/23 [==============================] - 6s 251ms/step - loss: 0.0057 - mse: 0.0113 - val_loss: 0.0120 - val_mse: 0.0240\n",
      "Epoch 20/50\n",
      "23/23 [==============================] - 6s 275ms/step - loss: 0.0056 - mse: 0.0112 - val_loss: 0.0083 - val_mse: 0.0165\n",
      "Epoch 21/50\n",
      "23/23 [==============================] - 6s 254ms/step - loss: 0.0045 - mse: 0.0089 - val_loss: 0.0122 - val_mse: 0.0243\n",
      "Epoch 22/50\n",
      "23/23 [==============================] - 6s 252ms/step - loss: 0.0041 - mse: 0.0082 - val_loss: 0.0053 - val_mse: 0.0107\n",
      "Epoch 23/50\n",
      "23/23 [==============================] - 6s 254ms/step - loss: 0.0026 - mse: 0.0052 - val_loss: 0.0027 - val_mse: 0.0054\n",
      "Epoch 24/50\n",
      "23/23 [==============================] - 6s 250ms/step - loss: 0.0019 - mse: 0.0038 - val_loss: 0.0032 - val_mse: 0.0065\n",
      "Epoch 25/50\n",
      "23/23 [==============================] - 6s 246ms/step - loss: 0.0018 - mse: 0.0035 - val_loss: 0.0052 - val_mse: 0.0104\n",
      "Epoch 26/50\n",
      "23/23 [==============================] - 6s 265ms/step - loss: 0.0026 - mse: 0.0051 - val_loss: 0.0085 - val_mse: 0.0170\n",
      "Epoch 27/50\n",
      "23/23 [==============================] - 6s 250ms/step - loss: 0.0039 - mse: 0.0079 - val_loss: 0.0071 - val_mse: 0.0142\n",
      "Epoch 28/50\n",
      "23/23 [==============================] - 6s 250ms/step - loss: 0.0035 - mse: 0.0071 - val_loss: 0.0040 - val_mse: 0.0081\n",
      "Epoch 29/50\n",
      "23/23 [==============================] - 6s 248ms/step - loss: 0.0019 - mse: 0.0037 - val_loss: 0.0035 - val_mse: 0.0071\n",
      "Epoch 30/50\n",
      "23/23 [==============================] - 6s 247ms/step - loss: 0.0010 - mse: 0.0021 - val_loss: 0.0027 - val_mse: 0.0054\n",
      "Epoch 31/50\n",
      "23/23 [==============================] - 6s 253ms/step - loss: 0.0010 - mse: 0.0021 - val_loss: 0.0024 - val_mse: 0.0049\n",
      "Epoch 32/50\n",
      "23/23 [==============================] - 6s 245ms/step - loss: 9.7881e-04 - mse: 0.0020 - val_loss: 0.0023 - val_mse: 0.0047\n",
      "Epoch 33/50\n",
      "23/23 [==============================] - 6s 247ms/step - loss: 9.7572e-04 - mse: 0.0020 - val_loss: 0.0022 - val_mse: 0.0044\n",
      "Epoch 34/50\n",
      "23/23 [==============================] - 6s 243ms/step - loss: 9.7298e-04 - mse: 0.0019 - val_loss: 0.0023 - val_mse: 0.0046\n",
      "Epoch 35/50\n",
      "23/23 [==============================] - 6s 252ms/step - loss: 0.0010 - mse: 0.0021 - val_loss: 0.0026 - val_mse: 0.0052\n",
      "Epoch 36/50\n",
      "23/23 [==============================] - 6s 244ms/step - loss: 0.0012 - mse: 0.0024 - val_loss: 0.0028 - val_mse: 0.0056\n",
      "Epoch 37/50\n",
      "23/23 [==============================] - 6s 259ms/step - loss: 0.0014 - mse: 0.0028 - val_loss: 0.0031 - val_mse: 0.0062\n",
      "Epoch 38/50\n",
      "23/23 [==============================] - 6s 249ms/step - loss: 0.0015 - mse: 0.0031 - val_loss: 0.0033 - val_mse: 0.0067\n",
      "Epoch 39/50\n",
      "23/23 [==============================] - 6s 245ms/step - loss: 0.0015 - mse: 0.0031 - val_loss: 0.0031 - val_mse: 0.0062\n",
      "Epoch 40/50\n",
      "23/23 [==============================] - 6s 243ms/step - loss: 0.0014 - mse: 0.0027 - val_loss: 0.0029 - val_mse: 0.0057\n",
      "Epoch 41/50\n",
      "23/23 [==============================] - 6s 249ms/step - loss: 0.0012 - mse: 0.0023 - val_loss: 0.0025 - val_mse: 0.0049\n",
      "Epoch 42/50\n",
      "23/23 [==============================] - 6s 242ms/step - loss: 0.0010 - mse: 0.0021 - val_loss: 0.0021 - val_mse: 0.0043\n",
      "Epoch 43/50\n",
      "23/23 [==============================] - 6s 255ms/step - loss: 8.7686e-04 - mse: 0.0018 - val_loss: 0.0020 - val_mse: 0.0039\n",
      "Epoch 44/50\n",
      "23/23 [==============================] - 6s 241ms/step - loss: 8.4099e-04 - mse: 0.0017 - val_loss: 0.0018 - val_mse: 0.0037\n",
      "Epoch 45/50\n",
      "23/23 [==============================] - 6s 242ms/step - loss: 7.6979e-04 - mse: 0.0015 - val_loss: 0.0018 - val_mse: 0.0036\n",
      "Epoch 46/50\n",
      "23/23 [==============================] - 6s 245ms/step - loss: 7.5957e-04 - mse: 0.0015 - val_loss: 0.0022 - val_mse: 0.0043\n",
      "Epoch 47/50\n",
      "23/23 [==============================] - 6s 247ms/step - loss: 8.8847e-04 - mse: 0.0018 - val_loss: 0.0040 - val_mse: 0.0079\n",
      "Epoch 48/50\n",
      "23/23 [==============================] - 6s 241ms/step - loss: 0.0022 - mse: 0.0043 - val_loss: 0.0050 - val_mse: 0.0101\n",
      "Epoch 49/50\n",
      "23/23 [==============================] - 6s 262ms/step - loss: 0.0038 - mse: 0.0077 - val_loss: 0.0030 - val_mse: 0.0060\n",
      "Epoch 50/50\n",
      "23/23 [==============================] - 6s 241ms/step - loss: 0.0034 - mse: 0.0068 - val_loss: 0.0026 - val_mse: 0.0052\n"
     ]
    }
   ],
   "source": [
    "history = model.fit(\n",
    "    x_train, y_train,\n",
    "    epochs=50,\n",
    "    batch_size=32,\n",
    "    validation_split=0.35,\n",
    "    shuffle=False,\n",
    "    verbose=1\n",
    ")"
   ]
  },
  {
   "cell_type": "markdown",
   "metadata": {
    "papermill": {
     "duration": 0.428325,
     "end_time": "2021-02-26T11:30:51.516458",
     "exception": false,
     "start_time": "2021-02-26T11:30:51.088133",
     "status": "completed"
    },
    "tags": []
   },
   "source": [
    "Since we had scaled the values previously, Now to compare with the actual values and also get correct predictions we have to scale them back to their original range."
   ]
  },
  {
   "cell_type": "code",
   "execution_count": 11,
   "metadata": {
    "execution": {
     "iopub.execute_input": "2021-02-26T11:30:52.307785Z",
     "iopub.status.busy": "2021-02-26T11:30:52.307152Z",
     "iopub.status.idle": "2021-02-26T11:30:54.491149Z",
     "shell.execute_reply": "2021-02-26T11:30:54.491719Z"
    },
    "id": "CLMzxrMeGj6d",
    "papermill": {
     "duration": 2.582638,
     "end_time": "2021-02-26T11:30:54.491959",
     "exception": false,
     "start_time": "2021-02-26T11:30:51.909321",
     "status": "completed"
    },
    "tags": []
   },
   "outputs": [],
   "source": [
    "pred=model.predict(x_test)\n",
    "y_train_inv=rs_target.inverse_transform(y_train.reshape(1,-1))\n",
    "y_test_inv=rs_target.inverse_transform(y_test.reshape(1,-1))\n",
    "pred=rs_target.inverse_transform(pred.reshape(1,-1))"
   ]
  },
  {
   "cell_type": "markdown",
   "metadata": {
    "papermill": {
     "duration": 0.392924,
     "end_time": "2021-02-26T11:30:55.277603",
     "exception": false,
     "start_time": "2021-02-26T11:30:54.884679",
     "status": "completed"
    },
    "tags": []
   },
   "source": [
    "**Visualizations**"
   ]
  },
  {
   "cell_type": "markdown",
   "metadata": {
    "papermill": {
     "duration": 0.393847,
     "end_time": "2021-02-26T11:30:56.062525",
     "exception": false,
     "start_time": "2021-02-26T11:30:55.668678",
     "status": "completed"
    },
    "tags": []
   },
   "source": [
    "Although the plot looks pretty satisfactory, I still feel there is room for plenty of improvement, Can try with tweaking the hyperparameters such as timesteps and also the train-test-split values. Try it out and also please upvote this notebook if this has been a good learning experience."
   ]
  },
  {
   "cell_type": "code",
   "execution_count": 12,
   "metadata": {
    "execution": {
     "iopub.execute_input": "2021-02-26T11:30:56.862250Z",
     "iopub.status.busy": "2021-02-26T11:30:56.861613Z",
     "iopub.status.idle": "2021-02-26T11:30:57.298962Z",
     "shell.execute_reply": "2021-02-26T11:30:57.298429Z"
    },
    "id": "9PucMTy4HCM3",
    "outputId": "e43d03a1-47ac-4c2f-b8a2-ada3685c6340",
    "papermill": {
     "duration": 0.842126,
     "end_time": "2021-02-26T11:30:57.299108",
     "exception": false,
     "start_time": "2021-02-26T11:30:56.456982",
     "status": "completed"
    },
    "tags": []
   },
   "outputs": [
    {
     "data": {
      "image/png": "[encoded data removed]",
      "text/plain": [
       "<Figure size 432x288 with 1 Axes>"
      ]
     },
     "metadata": {
      "needs_background": "light"
     },
     "output_type": "display_data"
    }
   ],
   "source": [
    "plt.plot(y_test_inv.flatten(),marker='.',label='True')\n",
    "plt.plot(pred.flatten(),'r',marker='.',label='Predicted')\n",
    "plt.legend()\n",
    "plt.show()"
   ]
  }
 ],
 "metadata": {
  "kernelspec": {
   "display_name": "Python 3",
   "language": "python",
   "name": "python3"
  },
  "language_info": {
   "codemirror_mode": {
    "name": "ipython",
    "version": 3
   },
   "file_extension": ".py",
   "mimetype": "text/x-python",
   "name": "python",
   "nbconvert_exporter": "python",
   "pygments_lexer": "ipython3",
   "version": "3.7.9"
  },
  "papermill": {
   "default_parameters": {},
   "duration": 325.911906,
   "end_time": "2021-02-26T11:30:59.508000",
   "environment_variables": {},
   "exception": null,
   "input_path": "__notebook__.ipynb",
   "output_path": "__notebook__.ipynb",
   "parameters": {},
   "start_time": "2021-02-26T11:25:33.596094",
   "version": "2.2.2"
  }
 },
 "nbformat": 4,
 "nbformat_minor": 4
}
