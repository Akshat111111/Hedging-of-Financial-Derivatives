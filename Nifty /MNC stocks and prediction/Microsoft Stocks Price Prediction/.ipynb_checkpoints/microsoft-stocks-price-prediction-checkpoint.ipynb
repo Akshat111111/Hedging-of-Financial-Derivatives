{
 "cells": [
  {
   "cell_type": "code",
   "execution_count": 1,
   "id": "micro-scout",
   "metadata": {
    "execution": {
     "iopub.execute_input": "2022-02-06T06:54:55.038571Z",
     "iopub.status.busy": "2022-02-06T06:54:55.037421Z",
     "iopub.status.idle": "2022-02-06T06:55:04.487893Z",
     "shell.execute_reply": "2022-02-06T06:55:04.486705Z",
     "shell.execute_reply.started": "2021-06-21T18:05:50.383155Z"
    },
    "papermill": {
     "duration": 9.475687,
     "end_time": "2022-02-06T06:55:04.488099",
     "exception": false,
     "start_time": "2022-02-06T06:54:55.012412",
     "status": "completed"
    },
    "tags": []
   },
   "outputs": [
    {
     "name": "stdout",
     "output_type": "stream",
     "text": [
      "Collecting pmdarima\n",
      "  Obtaining dependency information for pmdarima from https://files.pythonhosted.org/packages/40/e5/78afab229ccdaf6b947036440799dbdf88e2cd632e2f96b81f32de8aa05a/pmdarima-2.0.4-cp311-cp311-macosx_11_0_arm64.whl.metadata\n",
      "  Downloading pmdarima-2.0.4-cp311-cp311-macosx_11_0_arm64.whl.metadata (7.8 kB)\n",
      "Requirement already satisfied: joblib>=0.11 in /Users/shikarichacha/anaconda3/lib/python3.11/site-packages (from pmdarima) (1.2.0)\n",
      "Collecting Cython!=0.29.18,!=0.29.31,>=0.29 (from pmdarima)\n",
      "  Obtaining dependency information for Cython!=0.29.18,!=0.29.31,>=0.29 from https://files.pythonhosted.org/packages/b6/83/b0a63fc7b315edd46821a1a381d18765c1353d201246da44558175cddd56/Cython-3.0.10-py2.py3-none-any.whl.metadata\n",
      "  Using cached Cython-3.0.10-py2.py3-none-any.whl.metadata (3.2 kB)\n",
      "Requirement already satisfied: numpy>=1.21.2 in /Users/shikarichacha/anaconda3/lib/python3.11/site-packages (from pmdarima) (1.24.3)\n",
      "Requirement already satisfied: pandas>=0.19 in /Users/shikarichacha/anaconda3/lib/python3.11/site-packages (from pmdarima) (2.0.3)\n",
      "Requirement already satisfied: scikit-learn>=0.22 in /Users/shikarichacha/anaconda3/lib/python3.11/site-packages (from pmdarima) (1.5.0)\n",
      "Requirement already satisfied: scipy>=1.3.2 in /Users/shikarichacha/anaconda3/lib/python3.11/site-packages (from pmdarima) (1.11.1)\n",
      "Requirement already satisfied: statsmodels>=0.13.2 in /Users/shikarichacha/anaconda3/lib/python3.11/site-packages (from pmdarima) (0.14.0)\n",
      "Requirement already satisfied: urllib3 in /Users/shikarichacha/anaconda3/lib/python3.11/site-packages (from pmdarima) (2.2.1)\n",
      "Requirement already satisfied: setuptools!=50.0.0,>=38.6.0 in /Users/shikarichacha/anaconda3/lib/python3.11/site-packages (from pmdarima) (69.0.3)\n",
      "Requirement already satisfied: packaging>=17.1 in /Users/shikarichacha/anaconda3/lib/python3.11/site-packages (from pmdarima) (23.1)\n",
      "Requirement already satisfied: python-dateutil>=2.8.2 in /Users/shikarichacha/anaconda3/lib/python3.11/site-packages (from pandas>=0.19->pmdarima) (2.8.2)\n",
      "Requirement already satisfied: pytz>=2020.1 in /Users/shikarichacha/anaconda3/lib/python3.11/site-packages (from pandas>=0.19->pmdarima) (2023.3.post1)\n",
      "Requirement already satisfied: tzdata>=2022.1 in /Users/shikarichacha/anaconda3/lib/python3.11/site-packages (from pandas>=0.19->pmdarima) (2023.3)\n",
      "Requirement already satisfied: threadpoolctl>=3.1.0 in /Users/shikarichacha/anaconda3/lib/python3.11/site-packages (from scikit-learn>=0.22->pmdarima) (3.5.0)\n",
      "Requirement already satisfied: patsy>=0.5.2 in /Users/shikarichacha/anaconda3/lib/python3.11/site-packages (from statsmodels>=0.13.2->pmdarima) (0.5.3)\n",
      "Requirement already satisfied: six in /Users/shikarichacha/anaconda3/lib/python3.11/site-packages (from patsy>=0.5.2->statsmodels>=0.13.2->pmdarima) (1.16.0)\n",
      "Downloading pmdarima-2.0.4-cp311-cp311-macosx_11_0_arm64.whl (628 kB)\n",
      "\u001b[2K   \u001b[90m━━━━━━━━━━━━━━━━━━━━━━━━━━━━━━━━━━━━━━━━\u001b[0m \u001b[32m628.0/628.0 kB\u001b[0m \u001b[31m2.9 MB/s\u001b[0m eta \u001b[36m0:00:00\u001b[0ma \u001b[36m0:00:01\u001b[0mm\n",
      "\u001b[?25hUsing cached Cython-3.0.10-py2.py3-none-any.whl (1.2 MB)\n",
      "Installing collected packages: Cython, pmdarima\n",
      "\u001b[31mERROR: pip's dependency resolver does not currently take into account all the packages that are installed. This behaviour is the source of the following dependency conflicts.\n",
      "tables 3.8.0 requires blosc2~=2.0.0, which is not installed.\u001b[0m\u001b[31m\n",
      "\u001b[0mSuccessfully installed Cython-3.0.10 pmdarima-2.0.4\n"
     ]
    }
   ],
   "source": [
    "!pip install pmdarima"
   ]
  },
  {
   "cell_type": "code",
   "execution_count": 2,
   "id": "subjective-ecology",
   "metadata": {
    "execution": {
     "iopub.execute_input": "2022-02-06T06:55:04.560245Z",
     "iopub.status.busy": "2022-02-06T06:55:04.556107Z",
     "iopub.status.idle": "2022-02-06T06:55:12.112542Z",
     "shell.execute_reply": "2022-02-06T06:55:12.111764Z",
     "shell.execute_reply.started": "2021-06-21T18:05:59.885494Z"
    },
    "papermill": {
     "duration": 7.594334,
     "end_time": "2022-02-06T06:55:12.112733",
     "exception": false,
     "start_time": "2022-02-06T06:55:04.518399",
     "status": "completed"
    },
    "tags": []
   },
   "outputs": [
    {
     "ename": "ModuleNotFoundError",
     "evalue": "No module named 'fbprophet'",
     "output_type": "error",
     "traceback": [
      "\u001b[0;31m---------------------------------------------------------------------------\u001b[0m",
      "\u001b[0;31mModuleNotFoundError\u001b[0m                       Traceback (most recent call last)",
      "Cell \u001b[0;32mIn[2], line 28\u001b[0m\n\u001b[1;32m     26\u001b[0m \u001b[38;5;28;01mfrom\u001b[39;00m \u001b[38;5;21;01msklearn\u001b[39;00m\u001b[38;5;21;01m.\u001b[39;00m\u001b[38;5;21;01mmodel_selection\u001b[39;00m \u001b[38;5;28;01mimport\u001b[39;00m GridSearchCV\n\u001b[1;32m     27\u001b[0m \u001b[38;5;28;01mfrom\u001b[39;00m \u001b[38;5;21;01msklearn\u001b[39;00m\u001b[38;5;21;01m.\u001b[39;00m\u001b[38;5;21;01mpreprocessing\u001b[39;00m \u001b[38;5;28;01mimport\u001b[39;00m MinMaxScaler\n\u001b[0;32m---> 28\u001b[0m \u001b[38;5;28;01mfrom\u001b[39;00m \u001b[38;5;21;01mfbprophet\u001b[39;00m \u001b[38;5;28;01mimport\u001b[39;00m Prophet\n\u001b[1;32m     29\u001b[0m \u001b[38;5;28;01mfrom\u001b[39;00m \u001b[38;5;21;01mkeras\u001b[39;00m\u001b[38;5;21;01m.\u001b[39;00m\u001b[38;5;21;01mmodels\u001b[39;00m \u001b[38;5;28;01mimport\u001b[39;00m Sequential\n\u001b[1;32m     30\u001b[0m \u001b[38;5;28;01mfrom\u001b[39;00m \u001b[38;5;21;01mkeras\u001b[39;00m\u001b[38;5;21;01m.\u001b[39;00m\u001b[38;5;21;01mlayers\u001b[39;00m \u001b[38;5;28;01mimport\u001b[39;00m Dense, Dropout, LSTM\n",
      "\u001b[0;31mModuleNotFoundError\u001b[0m: No module named 'fbprophet'"
     ]
    }
   ],
   "source": [
    "# This Python 3 environment comes with many helpful analytics libraries installed\n",
    "# It is defined by the kaggle/python Docker image: https://github.com/kaggle/docker-python\n",
    "# For example, here's several helpful packages to load\n",
    "\n",
    "import numpy as np # linear algebra\n",
    "import pandas as pd # data processing, CSV file I/O (e.g. pd.read_csv)\n",
    "\n",
    "\n",
    "import matplotlib.pyplot as plt\n",
    "%matplotlib inline\n",
    "from matplotlib.pylab import rcParams\n",
    "rcParams['figure.figsize'] = 20,10\n",
    "from sklearn.preprocessing import MinMaxScaler\n",
    "scaler = MinMaxScaler(feature_range=(0, 1))\n",
    "\n",
    "from math import floor,ceil,sqrt\n",
    "import sys\n",
    "import warnings\n",
    "import datetime as dt\n",
    "\n",
    "if not sys.warnoptions:\n",
    "    warnings.simplefilter(\"ignore\")\n",
    "from sklearn.linear_model import LinearRegression\n",
    "from pmdarima.arima import auto_arima\n",
    "from sklearn import neighbors\n",
    "from sklearn.model_selection import GridSearchCV\n",
    "from sklearn.preprocessing import MinMaxScaler\n",
    "from fbprophet import Prophet\n",
    "from keras.models import Sequential\n",
    "from keras.layers import Dense, Dropout, LSTM\n",
    "\n"
   ]
  },
  {
   "cell_type": "code",
   "execution_count": null,
   "id": "impressive-statement",
   "metadata": {
    "execution": {
     "iopub.execute_input": "2022-02-06T06:55:12.173797Z",
     "iopub.status.busy": "2022-02-06T06:55:12.173037Z",
     "iopub.status.idle": "2022-02-06T06:55:12.220296Z",
     "shell.execute_reply": "2022-02-06T06:55:12.219589Z",
     "shell.execute_reply.started": "2021-06-21T18:06:08.005058Z"
    },
    "papermill": {
     "duration": 0.080139,
     "end_time": "2022-02-06T06:55:12.220446",
     "exception": false,
     "start_time": "2022-02-06T06:55:12.140307",
     "status": "completed"
    },
    "tags": []
   },
   "outputs": [],
   "source": [
    "df = pd.read_csv('Microsoft_Stock.csv.xls')\n",
    "df.head(8)"
   ]
  },
  {
   "cell_type": "code",
   "execution_count": null,
   "id": "portable-vegetarian",
   "metadata": {
    "execution": {
     "iopub.execute_input": "2022-02-06T06:55:12.334817Z",
     "iopub.status.busy": "2022-02-06T06:55:12.333900Z",
     "iopub.status.idle": "2022-02-06T06:55:12.581113Z",
     "shell.execute_reply": "2022-02-06T06:55:12.581604Z",
     "shell.execute_reply.started": "2021-06-21T18:06:08.062104Z"
    },
    "papermill": {
     "duration": 0.27831,
     "end_time": "2022-02-06T06:55:12.581792",
     "exception": false,
     "start_time": "2022-02-06T06:55:12.303482",
     "status": "completed"
    },
    "tags": []
   },
   "outputs": [],
   "source": [
    "df['Date'] = pd.to_datetime(df.Date,format='%m/%d/%Y %H:%M:%S')\n",
    "df.index = df['Date']\n",
    "plt.figure(figsize=(16,8))\n",
    "plt.plot(df['Close'], label='Close Price history',color='g')\n",
    "plt.xlabel('Date',size=20)\n",
    "plt.ylabel('Stock Price',size=20)\n",
    "plt.title('Stock Price of Microsoft over the Years',size=25)"
   ]
  },
  {
   "cell_type": "markdown",
   "id": "accomplished-found",
   "metadata": {
    "papermill": {
     "duration": 0.02994,
     "end_time": "2022-02-06T06:55:12.641740",
     "exception": false,
     "start_time": "2022-02-06T06:55:12.611800",
     "status": "completed"
    },
    "tags": []
   },
   "source": [
    "In the upcoming sections, we will explore these variables and use different techniques to predict the daily closing price of the stock."
   ]
  },
  {
   "cell_type": "markdown",
   "id": "genuine-jason",
   "metadata": {
    "papermill": {
     "duration": 0.029823,
     "end_time": "2022-02-06T06:55:12.701478",
     "exception": false,
     "start_time": "2022-02-06T06:55:12.671655",
     "status": "completed"
    },
    "tags": []
   },
   "source": [
    "## Moving Average\n",
    "\n",
    "#### Introduction\n",
    "\n",
    "‘Average’ is easily one of the most common things we use in our day-to-day lives. For instance, calculating the average marks to determine overall performance, or finding the average temperature of the past few days to get an idea about today’s temperature – these all are routine tasks we do on a regular basis. So this is a good starting point to use on our dataset for making predictions.\n",
    "\n",
    "The predicted closing price for each day will be the average of a set of previously observed values. Instead of using the simple average, we will be using the moving average technique which uses the latest set of values for each prediction. In other words, for each subsequent step, the predicted values are taken into consideration while removing the oldest observed value from the set. Here is a simple figure that will help you understand this with more clarity.\n",
    "\n",
    "![](https://cdn.analyticsvidhya.com/wp-content/uploads/2018/10/stock8.png)\n",
    "\n",
    "We will implement this technique on our dataset. The first step is to create a dataframe that contains only the Date and Close price columns, then split it into train and validation sets to verify our predictions.\n",
    "\n",
    " "
   ]
  },
  {
   "cell_type": "code",
   "execution_count": null,
   "id": "classified-canberra",
   "metadata": {
    "execution": {
     "iopub.execute_input": "2022-02-06T06:55:12.771576Z",
     "iopub.status.busy": "2022-02-06T06:55:12.770515Z",
     "iopub.status.idle": "2022-02-06T06:55:12.775766Z",
     "shell.execute_reply": "2022-02-06T06:55:12.776303Z",
     "shell.execute_reply.started": "2021-06-21T18:06:08.329589Z"
    },
    "papermill": {
     "duration": 0.044658,
     "end_time": "2022-02-06T06:55:12.776473",
     "exception": false,
     "start_time": "2022-02-06T06:55:12.731815",
     "status": "completed"
    },
    "tags": []
   },
   "outputs": [],
   "source": [
    "def moving_avg_prediction(df):\n",
    "    shape=df.shape[0]\n",
    "    df_new=df[['Close']]\n",
    "    df_new.head()\n",
    "    train_set=df_new.iloc[:ceil(shape*0.75)]\n",
    "    valid_set=df_new.iloc[ceil(shape*0.75):]\n",
    "    print('-----------------------------------------------------------')\n",
    "    print('-----------STOCK PRICE PREDICTION BY MOVING AVERAGE--------')\n",
    "    print('-----------------------------------------------------------')\n",
    "    print('Shape of Training Set',train_set.shape)\n",
    "    print('Shape of Validation Set',valid_set.shape)\n",
    "    preds = []\n",
    "    for i in range(0,valid_set.shape[0]):\n",
    "        a = train_set['Close'][len(train_set)-valid_set.shape[0]+i:].sum() + sum(preds)\n",
    "        b = a/(valid_set.shape[0])\n",
    "        preds.append(b)\n",
    "    rms=np.sqrt(np.mean(np.power((np.array(valid_set['Close'])-preds),2)))\n",
    "    print('RMSE value on validation set:',rms)\n",
    "    print('-----------------------------------------------------------')\n",
    "    print('-----------------------------------------------------------')\n",
    "    valid_set['Predictions'] = preds\n",
    "    plt.plot(train_set['Close'])\n",
    "    plt.plot(valid_set[['Close', 'Predictions']])\n",
    "    plt.xlabel('Date',size=20)\n",
    "    plt.ylabel('Stock Price',size=20)\n",
    "    plt.title('Stock Price Prediction by Moving Averages',size=20)\n",
    "    plt.legend(['Model Training Data','Actual Data','Predicted Data'])"
   ]
  },
  {
   "cell_type": "code",
   "execution_count": null,
   "id": "selective-commons",
   "metadata": {
    "execution": {
     "iopub.execute_input": "2022-02-06T06:55:12.841378Z",
     "iopub.status.busy": "2022-02-06T06:55:12.840446Z",
     "iopub.status.idle": "2022-02-06T06:55:13.194731Z",
     "shell.execute_reply": "2022-02-06T06:55:13.195223Z",
     "shell.execute_reply.started": "2021-06-21T18:06:08.342322Z"
    },
    "papermill": {
     "duration": 0.387975,
     "end_time": "2022-02-06T06:55:13.195390",
     "exception": false,
     "start_time": "2022-02-06T06:55:12.807415",
     "status": "completed"
    },
    "tags": []
   },
   "outputs": [],
   "source": [
    "moving_avg_prediction(df)"
   ]
  },
  {
   "cell_type": "code",
   "execution_count": null,
   "id": "functional-progress",
   "metadata": {
    "execution": {
     "iopub.execute_input": "2022-02-06T06:55:13.394187Z",
     "iopub.status.busy": "2022-02-06T06:55:13.393550Z",
     "iopub.status.idle": "2022-02-06T06:55:13.405645Z",
     "shell.execute_reply": "2022-02-06T06:55:13.406200Z",
     "shell.execute_reply.started": "2021-06-21T18:06:08.726587Z"
    },
    "papermill": {
     "duration": 0.047852,
     "end_time": "2022-02-06T06:55:13.406373",
     "exception": false,
     "start_time": "2022-02-06T06:55:13.358521",
     "status": "completed"
    },
    "tags": []
   },
   "outputs": [],
   "source": [
    "def linear_regression_prediction(df):\n",
    "    shape=df.shape[0]\n",
    "    df_new=df[['Close']]\n",
    "    df_new.head()\n",
    "    train_set=df_new.iloc[:ceil(shape*0.75)]\n",
    "    valid_set=df_new.iloc[ceil(shape*0.75):]\n",
    "    print('-----------------------------------------------------------------')\n",
    "    print('-----------STOCK PRICE PREDICTION BY LINEAR REGRESSION-----------')\n",
    "    print('-----------------------------------------------------------------')\n",
    "    print('Shape of Training Set',train_set.shape)\n",
    "    print('Shape of Validation Set',valid_set.shape)\n",
    "    train=train_set.reset_index()\n",
    "    valid=valid_set.reset_index()\n",
    "    x_train = train['Date'].map(dt.datetime.toordinal)\n",
    "    y_train = train[['Close']]\n",
    "    x_valid = valid['Date'].map(dt.datetime.toordinal)\n",
    "    y_valid = valid[['Close']]\n",
    "    #implement linear regression\n",
    "    model = LinearRegression()\n",
    "    model.fit(np.array(x_train).reshape(-1,1),y_train)\n",
    "    preds = model.predict(np.array(x_valid).reshape(-1,1))\n",
    "    rms=np.sqrt(np.mean(np.power((np.array(valid_set['Close'])-preds),2)))\n",
    "    print('RMSE value on validation set:',rms)\n",
    "    print('-----------------------------------------------------------')\n",
    "    print('-----------------------------------------------------------')\n",
    "    valid_set['Predictions'] = preds\n",
    "    plt.plot(train_set['Close'])\n",
    "    plt.plot(valid_set[['Close', 'Predictions']])\n",
    "    plt.xlabel('Date',size=20)\n",
    "    plt.ylabel('Stock Price',size=20)\n",
    "    plt.title('Stock Price Prediction by Linear Regression',size=20)\n",
    "    plt.legend(['Model Training Data','Actual Data','Predicted Data'])"
   ]
  },
  {
   "cell_type": "code",
   "execution_count": null,
   "id": "introductory-accessory",
   "metadata": {
    "execution": {
     "iopub.execute_input": "2022-02-06T06:55:13.475151Z",
     "iopub.status.busy": "2022-02-06T06:55:13.474463Z",
     "iopub.status.idle": "2022-02-06T06:55:13.762045Z",
     "shell.execute_reply": "2022-02-06T06:55:13.761527Z",
     "shell.execute_reply.started": "2021-06-21T18:06:08.743687Z"
    },
    "papermill": {
     "duration": 0.32309,
     "end_time": "2022-02-06T06:55:13.762186",
     "exception": false,
     "start_time": "2022-02-06T06:55:13.439096",
     "status": "completed"
    },
    "tags": []
   },
   "outputs": [],
   "source": [
    "linear_regression_prediction(df)"
   ]
  },
  {
   "cell_type": "code",
   "execution_count": null,
   "id": "blocked-shakespeare",
   "metadata": {
    "execution": {
     "iopub.execute_input": "2022-02-06T06:55:13.918107Z",
     "iopub.status.busy": "2022-02-06T06:55:13.917408Z",
     "iopub.status.idle": "2022-02-06T06:55:13.919607Z",
     "shell.execute_reply": "2022-02-06T06:55:13.920121Z",
     "shell.execute_reply.started": "2021-06-21T18:06:09.056693Z"
    },
    "papermill": {
     "duration": 0.05211,
     "end_time": "2022-02-06T06:55:13.920291",
     "exception": false,
     "start_time": "2022-02-06T06:55:13.868181",
     "status": "completed"
    },
    "tags": []
   },
   "outputs": [],
   "source": [
    "def k_nearest_neighbours_predict(df):\n",
    "    shape=df.shape[0]\n",
    "    df_new=df[['Close']]\n",
    "    df_new.head()\n",
    "    train_set=df_new.iloc[:ceil(shape*0.75)]\n",
    "    valid_set=df_new.iloc[ceil(shape*0.75):]\n",
    "    print('-------------------------------------------------------------------')\n",
    "    print('-----------STOCK PRICE PREDICTION BY K-NEAREST NEIGHBORS-----------')\n",
    "    print('-------------------------------------------------------------------')\n",
    "    print('Shape of Training Set',train_set.shape)\n",
    "    print('Shape of Validation Set',valid_set.shape)\n",
    "    train=train_set.reset_index()\n",
    "    valid=valid_set.reset_index()\n",
    "    x_train = train['Date'].map(dt.datetime.toordinal)\n",
    "    y_train = train[['Close']]\n",
    "    x_valid = valid['Date'].map(dt.datetime.toordinal)\n",
    "    y_valid = valid[['Close']]\n",
    "    x_train_scaled = scaler.fit_transform(np.array(x_train).reshape(-1, 1))\n",
    "    x_train = pd.DataFrame(x_train_scaled)\n",
    "    x_valid_scaled = scaler.fit_transform(np.array(x_valid).reshape(-1, 1))\n",
    "    x_valid = pd.DataFrame(x_valid_scaled)\n",
    "    params = {'n_neighbors':[2,3,4,5,6,7,8,9]}\n",
    "    knn = neighbors.KNeighborsRegressor()\n",
    "    model = GridSearchCV(knn, params, cv=5)\n",
    "    model.fit(x_train,y_train)\n",
    "    preds = model.predict(x_valid)\n",
    "    rms=np.sqrt(np.mean(np.power((np.array(y_valid)-np.array(preds)),2)))\n",
    "    print('RMSE value on validation set:',rms)\n",
    "    print('-----------------------------------------------------------')\n",
    "    print('-----------------------------------------------------------')\n",
    "    valid_set['Predictions'] = preds\n",
    "    plt.plot(train_set['Close'])\n",
    "    plt.plot(valid_set[['Close', 'Predictions']])\n",
    "    plt.xlabel('Date',size=20)\n",
    "    plt.ylabel('Stock Price',size=20)\n",
    "    plt.title('Stock Price Prediction by K-Nearest Neighbors',size=20)\n",
    "    plt.legend(['Model Training Data','Actual Data','Predicted Data'])"
   ]
  },
  {
   "cell_type": "code",
   "execution_count": null,
   "id": "hundred-aurora",
   "metadata": {
    "execution": {
     "iopub.execute_input": "2022-02-06T06:55:13.994169Z",
     "iopub.status.busy": "2022-02-06T06:55:13.993487Z",
     "iopub.status.idle": "2022-02-06T06:55:14.657747Z",
     "shell.execute_reply": "2022-02-06T06:55:14.658277Z",
     "shell.execute_reply.started": "2021-06-21T18:06:09.07264Z"
    },
    "papermill": {
     "duration": 0.702672,
     "end_time": "2022-02-06T06:55:14.658459",
     "exception": false,
     "start_time": "2022-02-06T06:55:13.955787",
     "status": "completed"
    },
    "tags": []
   },
   "outputs": [],
   "source": [
    "k_nearest_neighbours_predict(df)"
   ]
  },
  {
   "cell_type": "code",
   "execution_count": null,
   "id": "innocent-development",
   "metadata": {
    "execution": {
     "iopub.execute_input": "2022-02-06T06:55:14.899796Z",
     "iopub.status.busy": "2022-02-06T06:55:14.899115Z",
     "iopub.status.idle": "2022-02-06T06:55:14.910918Z",
     "shell.execute_reply": "2022-02-06T06:55:14.911428Z",
     "shell.execute_reply.started": "2021-06-21T18:06:09.786017Z"
    },
    "papermill": {
     "duration": 0.054023,
     "end_time": "2022-02-06T06:55:14.911597",
     "exception": false,
     "start_time": "2022-02-06T06:55:14.857574",
     "status": "completed"
    },
    "tags": []
   },
   "outputs": [],
   "source": [
    "def auto_arima_prediction(df):\n",
    "    shape=df.shape[0]\n",
    "    df_new=df\n",
    "    data = df_new.sort_index(ascending=True, axis=0)\n",
    "    train_set=data[:ceil(shape*0.75)]\n",
    "    valid_set=data[ceil(shape*0.75):]\n",
    "    print('----------------------------------------------------------')\n",
    "    print('-----------STOCK PRICE PREDICTION BY AUTO ARIMA-----------')\n",
    "    print('----------------------------------------------------------')\n",
    "    print('Shape of Training Set',train_set.shape)\n",
    "    print('Shape of Validation Set',valid_set.shape)\n",
    "    training = train_set['Close']\n",
    "    validation = valid_set['Close']\n",
    "    model = auto_arima(training, start_p=1, start_q=1,max_p=3, max_q=3, m=12,start_P=0, seasonal=True,d=1, D=1, trace=True,error_action='ignore',suppress_warnings=True)\n",
    "    model.fit(training)\n",
    "    forecast = model.predict(n_periods=ceil(floor(df.shape[0]*0.25)))\n",
    "    forecast = pd.DataFrame(forecast,index = valid_set.index,columns=['Prediction'])\n",
    "    rms=np.sqrt(np.mean(np.power((np.array(valid_set['Close'])-np.array(forecast['Prediction'])),2)))\n",
    "    print('RMSE value on validation set:',rms)\n",
    "    print('-----------------------------------------------------------')\n",
    "    print('-----------------------------------------------------------')\n",
    "    plt.plot(train_set['Close'])\n",
    "    plt.plot(valid_set['Close'])\n",
    "    plt.plot(forecast['Prediction'])\n",
    "    plt.xlabel('Date',size=20)\n",
    "    plt.ylabel('Stock Price',size=20)\n",
    "    plt.title('Stock Price Prediction by Auto ARIMA',size=20)\n",
    "    plt.legend(['Model Training Data','Actual Data','Predicted Data'])"
   ]
  },
  {
   "cell_type": "code",
   "execution_count": null,
   "id": "tough-preparation",
   "metadata": {
    "execution": {
     "iopub.execute_input": "2022-02-06T06:55:14.990874Z",
     "iopub.status.busy": "2022-02-06T06:55:14.990289Z",
     "iopub.status.idle": "2022-02-06T07:02:28.540671Z",
     "shell.execute_reply": "2022-02-06T07:02:28.541217Z",
     "shell.execute_reply.started": "2021-06-21T18:06:09.79995Z"
    },
    "papermill": {
     "duration": 433.591623,
     "end_time": "2022-02-06T07:02:28.541403",
     "exception": false,
     "start_time": "2022-02-06T06:55:14.949780",
     "status": "completed"
    },
    "tags": []
   },
   "outputs": [],
   "source": [
    "auto_arima_prediction(df)"
   ]
  },
  {
   "cell_type": "code",
   "execution_count": null,
   "id": "straight-bible",
   "metadata": {
    "execution": {
     "iopub.execute_input": "2022-02-06T07:02:28.870570Z",
     "iopub.status.busy": "2022-02-06T07:02:28.869573Z",
     "iopub.status.idle": "2022-02-06T07:02:28.872957Z",
     "shell.execute_reply": "2022-02-06T07:02:28.872393Z",
     "shell.execute_reply.started": "2021-06-21T18:14:58.445574Z"
    },
    "papermill": {
     "duration": 0.06772,
     "end_time": "2022-02-06T07:02:28.873103",
     "exception": false,
     "start_time": "2022-02-06T07:02:28.805383",
     "status": "completed"
    },
    "tags": []
   },
   "outputs": [],
   "source": [
    "def fb_prophet_prediction(df):\n",
    "    shape=df.shape[0]\n",
    "    df_new=df[['Close']]\n",
    "    df_new.reset_index(inplace=True)\n",
    "    df_new['Date'] = pd.to_datetime(df_new.Date,format='%Y-%m-%d')\n",
    "    df_new.index = df_new['Date']\n",
    "    df_new.rename(columns={'Close': 'y', 'Date': 'ds'}, inplace=True)\n",
    "    train_set=df_new.iloc[:ceil(shape*0.75)]\n",
    "    valid_set=df_new.iloc[ceil(shape*0.75):]\n",
    "    print('-------------------------------------------------------')\n",
    "    print('-----------STOCK PRICE PREDICTION BY FB PROPHET-----------')\n",
    "    print('-------------------------------------------------------')\n",
    "    print('Shape of Training Set',train_set.shape)\n",
    "    print('Shape of Validation Set',valid_set.shape)\n",
    "    model = Prophet()\n",
    "    model.fit(train_set)\n",
    "    close_prices = model.make_future_dataframe(periods=len(valid_set))\n",
    "    forecast = model.predict(close_prices)\n",
    "    forecast_valid = forecast['yhat'][ceil(shape*0.75):]\n",
    "    rms=np.sqrt(np.mean(np.power((np.array(valid_set['y'])-np.array(forecast_valid)),2)))\n",
    "    print('RMSE value on validation set:',rms)\n",
    "    print('-----------------------------------------------------------')\n",
    "    print('-----------------------------------------------------------')\n",
    "    valid_set['Predictions'] = forecast_valid.values\n",
    "    plt.plot(train_set['y'])\n",
    "    plt.plot(valid_set[['y', 'Predictions']])\n",
    "    plt.xlabel('Date',size=20)\n",
    "    plt.ylabel('Stock Price',size=20)\n",
    "    plt.title('Stock Price Prediction by FB Prophet',size=20)\n",
    "    plt.legend(['Model Training Data','Actual Data','Predicted Data'])"
   ]
  },
  {
   "cell_type": "code",
   "execution_count": null,
   "id": "intimate-capture",
   "metadata": {
    "execution": {
     "iopub.execute_input": "2022-02-06T07:02:28.993911Z",
     "iopub.status.busy": "2022-02-06T07:02:28.993169Z",
     "iopub.status.idle": "2022-02-06T07:02:38.381936Z",
     "shell.execute_reply": "2022-02-06T07:02:38.381358Z",
     "shell.execute_reply.started": "2021-06-21T18:15:01.313288Z"
    },
    "papermill": {
     "duration": 9.45456,
     "end_time": "2022-02-06T07:02:38.382100",
     "exception": false,
     "start_time": "2022-02-06T07:02:28.927540",
     "status": "completed"
    },
    "tags": []
   },
   "outputs": [],
   "source": [
    "fb_prophet_prediction(df)"
   ]
  },
  {
   "cell_type": "code",
   "execution_count": null,
   "id": "engaging-greensboro",
   "metadata": {
    "execution": {
     "iopub.execute_input": "2022-02-06T07:02:38.731161Z",
     "iopub.status.busy": "2022-02-06T07:02:38.730486Z",
     "iopub.status.idle": "2022-02-06T07:02:38.958024Z",
     "shell.execute_reply": "2022-02-06T07:02:38.958569Z",
     "shell.execute_reply.started": "2021-06-21T18:15:49.157342Z"
    },
    "papermill": {
     "duration": 0.293763,
     "end_time": "2022-02-06T07:02:38.958772",
     "exception": false,
     "start_time": "2022-02-06T07:02:38.665009",
     "status": "completed"
    },
    "tags": []
   },
   "outputs": [],
   "source": [
    "def lstm_prediction(df):\n",
    "    shape=df.shape[0]\n",
    "    df_new=df[['Close']]\n",
    "    df_new.head()\n",
    "    dataset = df_new.values\n",
    "    train=df_new[:ceil(shape*0.75)]\n",
    "    valid=df_new[ceil(shape*0.75):]\n",
    "    print('-----------------------------------------------------------------------------')\n",
    "    print('-----------STOCK PRICE PREDICTION BY LONG SHORT TERM MEMORY (LSTM)-----------')\n",
    "    print('-----------------------------------------------------------------------------')\n",
    "    print('Shape of Training Set',train.shape)\n",
    "    print('Shape of Validation Set',valid.shape)\n",
    "    scaler = MinMaxScaler(feature_range=(0, 1))\n",
    "    scaled_data = scaler.fit_transform(dataset)\n",
    "    x_train, y_train = [], []\n",
    "    for i in range(40,len(train)):\n",
    "        x_train.append(scaled_data[i-40:i,0])\n",
    "        y_train.append(scaled_data[i,0])\n",
    "    x_train, y_train = np.array(x_train), np.array(y_train)\n",
    "    x_train = np.reshape(x_train, (x_train.shape[0],x_train.shape[1],1))\n",
    "    model = Sequential()\n",
    "    model.add(LSTM(units=50, return_sequences=True, input_shape=(x_train.shape[1],1)))\n",
    "    model.add(LSTM(units=50))\n",
    "    model.add(Dense(1))\n",
    "    model.compile(loss='mean_squared_error', optimizer='adam')\n",
    "    model.fit(x_train, y_train, epochs=1, batch_size=1, verbose=2)\n",
    "    inputs = df_new[len(df_new) - len(valid) - 40:].values\n",
    "    inputs = inputs.reshape(-1,1)\n",
    "    inputs  = scaler.transform(inputs)\n",
    "    X_test = []\n",
    "    for i in range(40,inputs.shape[0]):\n",
    "        X_test.append(inputs[i-40:i,0])\n",
    "    X_test = np.array(X_test)\n",
    "    X_test = np.reshape(X_test, (X_test.shape[0],X_test.shape[1],1))\n",
    "    closing_price = model.predict(X_test)\n",
    "    closing_price = scaler.inverse_transform(closing_price)\n",
    "    rms=np.sqrt(np.mean(np.power((valid-closing_price),2)))\n",
    "    print('RMSE value on validation set:',rms)\n",
    "    print('-----------------------------------------------------------')\n",
    "    print('-----------------------------------------------------------')\n",
    "    valid['Predictions'] = closing_price\n",
    "    plt.plot(train['Close'])\n",
    "    plt.plot(valid[['Close','Predictions']])\n",
    "    plt.xlabel('Date',size=20)\n",
    "    plt.ylabel('Stock Price',size=20)\n",
    "    plt.title('Stock Price Prediction by Long Short Term Memory (LSTM)',size=20)\n",
    "    plt.legend(['Model Training Data','Actual Data','Predicted Data'])"
   ]
  },
  {
   "cell_type": "code",
   "execution_count": null,
   "id": "universal-attack",
   "metadata": {
    "execution": {
     "iopub.execute_input": "2022-02-06T07:02:39.075130Z",
     "iopub.status.busy": "2022-02-06T07:02:39.074522Z",
     "iopub.status.idle": "2022-02-06T07:02:59.939205Z",
     "shell.execute_reply": "2022-02-06T07:02:59.939728Z",
     "shell.execute_reply.started": "2021-06-21T18:17:07.200929Z"
    },
    "papermill": {
     "duration": 20.923486,
     "end_time": "2022-02-06T07:02:59.939915",
     "exception": false,
     "start_time": "2022-02-06T07:02:39.016429",
     "status": "completed"
    },
    "tags": []
   },
   "outputs": [],
   "source": [
    "lstm_prediction(df)"
   ]
  }
 ],
 "metadata": {
  "kernelspec": {
   "display_name": "Python 3 (ipykernel)",
   "language": "python",
   "name": "python3"
  },
  "language_info": {
   "codemirror_mode": {
    "name": "ipython",
    "version": 3
   },
   "file_extension": ".py",
   "mimetype": "text/x-python",
   "name": "python",
   "nbconvert_exporter": "python",
   "pygments_lexer": "ipython3",
   "version": "3.11.5"
  },
  "papermill": {
   "default_parameters": {},
   "duration": 495.042128,
   "end_time": "2022-02-06T07:03:01.999022",
   "environment_variables": {},
   "exception": null,
   "input_path": "__notebook__.ipynb",
   "output_path": "__notebook__.ipynb",
   "parameters": {},
   "start_time": "2022-02-06T06:54:46.956894",
   "version": "2.3.3"
  }
 },
 "nbformat": 4,
 "nbformat_minor": 5
}
