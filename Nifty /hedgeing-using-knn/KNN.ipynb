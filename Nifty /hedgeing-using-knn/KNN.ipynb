{
 "cells": [
  {
   "cell_type": "markdown",
   "id": "1810a887-df0c-4631-968a-dc51df911342",
   "metadata": {},
   "source": [
    "# K-Nearest Neighbors Model Performance with Feature Scaling"
   ]
  },
  {
   "cell_type": "markdown",
   "id": "c267fb8c-f595-4d0d-9dc8-de169db2536c",
   "metadata": {},
   "source": [
    "#### The Nifty 50 represents the top 50 companies in the Indian stock market. Its historical price movements can be a valuable dataset for KNN models predicting future trends due to KNN's strength in learning from similar data points."
   ]
  },
  {
   "cell_type": "code",
   "execution_count": 1,
   "id": "465ca475-e18b-4720-b339-4f1ea77d3bed",
   "metadata": {},
   "outputs": [],
   "source": [
    "import pandas as pd\n",
    "import numpy as np\n",
    "import matplotlib.pyplot as plt \n",
    "from sklearn.model_selection import GridSearchCV\n",
    "from sklearn.neighbors import KNeighborsRegressor\n",
    "from sklearn.impute import SimpleImputer\n",
    "from sklearn.model_selection import train_test_split\n",
    "from sklearn.preprocessing import StandardScaler, OneHotEncoder\n",
    "from sklearn.preprocessing import MinMaxScaler"
   ]
  },
  {
   "cell_type": "code",
   "execution_count": 2,
   "id": "1d485d39-7aa4-4324-ae97-1bc7af2133ee",
   "metadata": {},
   "outputs": [
    {
     "data": {
      "text/html": [
       "<div>\n",
       "<style scoped>\n",
       "    .dataframe tbody tr th:only-of-type {\n",
       "        vertical-align: middle;\n",
       "    }\n",
       "\n",
       "    .dataframe tbody tr th {\n",
       "        vertical-align: top;\n",
       "    }\n",
       "\n",
       "    .dataframe thead th {\n",
       "        text-align: right;\n",
       "    }\n",
       "</style>\n",
       "<table border=\"1\" class=\"dataframe\">\n",
       "  <thead>\n",
       "    <tr style=\"text-align: right;\">\n",
       "      <th></th>\n",
       "      <th>Date</th>\n",
       "      <th>Open</th>\n",
       "      <th>High</th>\n",
       "      <th>Low</th>\n",
       "      <th>Close</th>\n",
       "      <th>Adj Close</th>\n",
       "      <th>Volume</th>\n",
       "    </tr>\n",
       "  </thead>\n",
       "  <tbody>\n",
       "    <tr>\n",
       "      <th>0</th>\n",
       "      <td>10-05-2023</td>\n",
       "      <td>18313.59961</td>\n",
       "      <td>18326.75000</td>\n",
       "      <td>18211.94922</td>\n",
       "      <td>18315.09961</td>\n",
       "      <td>18315.09961</td>\n",
       "      <td>220500</td>\n",
       "    </tr>\n",
       "    <tr>\n",
       "      <th>1</th>\n",
       "      <td>11-05-2023</td>\n",
       "      <td>18357.80078</td>\n",
       "      <td>18389.69922</td>\n",
       "      <td>18270.40039</td>\n",
       "      <td>18297.00000</td>\n",
       "      <td>18297.00000</td>\n",
       "      <td>248900</td>\n",
       "    </tr>\n",
       "    <tr>\n",
       "      <th>2</th>\n",
       "      <td>12-05-2023</td>\n",
       "      <td>18273.75000</td>\n",
       "      <td>18342.75000</td>\n",
       "      <td>18194.55078</td>\n",
       "      <td>18314.80078</td>\n",
       "      <td>18314.80078</td>\n",
       "      <td>241700</td>\n",
       "    </tr>\n",
       "    <tr>\n",
       "      <th>3</th>\n",
       "      <td>15-05-2023</td>\n",
       "      <td>18339.30078</td>\n",
       "      <td>18458.90039</td>\n",
       "      <td>18287.90039</td>\n",
       "      <td>18398.84961</td>\n",
       "      <td>18398.84961</td>\n",
       "      <td>216100</td>\n",
       "    </tr>\n",
       "  </tbody>\n",
       "</table>\n",
       "</div>"
      ],
      "text/plain": [
       "         Date         Open         High          Low        Close  \\\n",
       "0  10-05-2023  18313.59961  18326.75000  18211.94922  18315.09961   \n",
       "1  11-05-2023  18357.80078  18389.69922  18270.40039  18297.00000   \n",
       "2  12-05-2023  18273.75000  18342.75000  18194.55078  18314.80078   \n",
       "3  15-05-2023  18339.30078  18458.90039  18287.90039  18398.84961   \n",
       "\n",
       "     Adj Close  Volume  \n",
       "0  18315.09961  220500  \n",
       "1  18297.00000  248900  \n",
       "2  18314.80078  241700  \n",
       "3  18398.84961  216100  "
      ]
     },
     "execution_count": 2,
     "metadata": {},
     "output_type": "execute_result"
    }
   ],
   "source": [
    "df = pd.read_csv('NSE.csv')\n",
    "df.head(4)"
   ]
  },
  {
   "cell_type": "markdown",
   "id": "d0160b40-4f1f-48d2-a032-48a76d5104a6",
   "metadata": {},
   "source": [
    "<div class=\"alert alert-success\">\n",
    "<b>Reanme</b> \n",
    "</div>"
   ]
  },
  {
   "cell_type": "code",
   "execution_count": 3,
   "id": "e3b875ed-490b-4a6b-a81b-b4141490eb59",
   "metadata": {},
   "outputs": [
    {
     "data": {
      "text/html": [
       "<div>\n",
       "<style scoped>\n",
       "    .dataframe tbody tr th:only-of-type {\n",
       "        vertical-align: middle;\n",
       "    }\n",
       "\n",
       "    .dataframe tbody tr th {\n",
       "        vertical-align: top;\n",
       "    }\n",
       "\n",
       "    .dataframe thead th {\n",
       "        text-align: right;\n",
       "    }\n",
       "</style>\n",
       "<table border=\"1\" class=\"dataframe\">\n",
       "  <thead>\n",
       "    <tr style=\"text-align: right;\">\n",
       "      <th></th>\n",
       "      <th>date</th>\n",
       "      <th>open</th>\n",
       "      <th>high</th>\n",
       "      <th>low</th>\n",
       "      <th>close</th>\n",
       "      <th>adj close</th>\n",
       "      <th>volume</th>\n",
       "    </tr>\n",
       "  </thead>\n",
       "  <tbody>\n",
       "    <tr>\n",
       "      <th>0</th>\n",
       "      <td>10-05-2023</td>\n",
       "      <td>18313.59961</td>\n",
       "      <td>18326.75000</td>\n",
       "      <td>18211.94922</td>\n",
       "      <td>18315.09961</td>\n",
       "      <td>18315.09961</td>\n",
       "      <td>220500</td>\n",
       "    </tr>\n",
       "    <tr>\n",
       "      <th>1</th>\n",
       "      <td>11-05-2023</td>\n",
       "      <td>18357.80078</td>\n",
       "      <td>18389.69922</td>\n",
       "      <td>18270.40039</td>\n",
       "      <td>18297.00000</td>\n",
       "      <td>18297.00000</td>\n",
       "      <td>248900</td>\n",
       "    </tr>\n",
       "    <tr>\n",
       "      <th>2</th>\n",
       "      <td>12-05-2023</td>\n",
       "      <td>18273.75000</td>\n",
       "      <td>18342.75000</td>\n",
       "      <td>18194.55078</td>\n",
       "      <td>18314.80078</td>\n",
       "      <td>18314.80078</td>\n",
       "      <td>241700</td>\n",
       "    </tr>\n",
       "    <tr>\n",
       "      <th>3</th>\n",
       "      <td>15-05-2023</td>\n",
       "      <td>18339.30078</td>\n",
       "      <td>18458.90039</td>\n",
       "      <td>18287.90039</td>\n",
       "      <td>18398.84961</td>\n",
       "      <td>18398.84961</td>\n",
       "      <td>216100</td>\n",
       "    </tr>\n",
       "    <tr>\n",
       "      <th>4</th>\n",
       "      <td>16-05-2023</td>\n",
       "      <td>18432.34961</td>\n",
       "      <td>18432.34961</td>\n",
       "      <td>18264.34961</td>\n",
       "      <td>18286.50000</td>\n",
       "      <td>18286.50000</td>\n",
       "      <td>219500</td>\n",
       "    </tr>\n",
       "  </tbody>\n",
       "</table>\n",
       "</div>"
      ],
      "text/plain": [
       "         date         open         high          low        close  \\\n",
       "0  10-05-2023  18313.59961  18326.75000  18211.94922  18315.09961   \n",
       "1  11-05-2023  18357.80078  18389.69922  18270.40039  18297.00000   \n",
       "2  12-05-2023  18273.75000  18342.75000  18194.55078  18314.80078   \n",
       "3  15-05-2023  18339.30078  18458.90039  18287.90039  18398.84961   \n",
       "4  16-05-2023  18432.34961  18432.34961  18264.34961  18286.50000   \n",
       "\n",
       "     adj close  volume  \n",
       "0  18315.09961  220500  \n",
       "1  18297.00000  248900  \n",
       "2  18314.80078  241700  \n",
       "3  18398.84961  216100  \n",
       "4  18286.50000  219500  "
      ]
     },
     "execution_count": 3,
     "metadata": {},
     "output_type": "execute_result"
    }
   ],
   "source": [
    "df.rename(columns={\"Date\":\"date\",\"Open\":\"open\",\"High\":\"high\",\"Low\":\"low\",\"Close\":\"close\",\"Adj Close\":\"adj close\",\"Volume\":\"volume\"}, inplace= True)\n",
    "df.head()"
   ]
  },
  {
   "cell_type": "code",
   "execution_count": 4,
   "id": "0ba5d80e-3ff0-4cd4-be6d-2c87d88f2aa2",
   "metadata": {},
   "outputs": [
    {
     "data": {
      "text/html": [
       "<div>\n",
       "<style scoped>\n",
       "    .dataframe tbody tr th:only-of-type {\n",
       "        vertical-align: middle;\n",
       "    }\n",
       "\n",
       "    .dataframe tbody tr th {\n",
       "        vertical-align: top;\n",
       "    }\n",
       "\n",
       "    .dataframe thead th {\n",
       "        text-align: right;\n",
       "    }\n",
       "</style>\n",
       "<table border=\"1\" class=\"dataframe\">\n",
       "  <thead>\n",
       "    <tr style=\"text-align: right;\">\n",
       "      <th></th>\n",
       "      <th>date</th>\n",
       "      <th>open</th>\n",
       "      <th>high</th>\n",
       "      <th>low</th>\n",
       "      <th>close</th>\n",
       "      <th>adj close</th>\n",
       "      <th>volume</th>\n",
       "    </tr>\n",
       "  </thead>\n",
       "  <tbody>\n",
       "    <tr>\n",
       "      <th>0</th>\n",
       "      <td>2023-05-10</td>\n",
       "      <td>18313.59961</td>\n",
       "      <td>18326.75000</td>\n",
       "      <td>18211.94922</td>\n",
       "      <td>18315.09961</td>\n",
       "      <td>18315.09961</td>\n",
       "      <td>220500</td>\n",
       "    </tr>\n",
       "    <tr>\n",
       "      <th>1</th>\n",
       "      <td>2023-05-11</td>\n",
       "      <td>18357.80078</td>\n",
       "      <td>18389.69922</td>\n",
       "      <td>18270.40039</td>\n",
       "      <td>18297.00000</td>\n",
       "      <td>18297.00000</td>\n",
       "      <td>248900</td>\n",
       "    </tr>\n",
       "    <tr>\n",
       "      <th>2</th>\n",
       "      <td>2023-05-12</td>\n",
       "      <td>18273.75000</td>\n",
       "      <td>18342.75000</td>\n",
       "      <td>18194.55078</td>\n",
       "      <td>18314.80078</td>\n",
       "      <td>18314.80078</td>\n",
       "      <td>241700</td>\n",
       "    </tr>\n",
       "    <tr>\n",
       "      <th>3</th>\n",
       "      <td>2023-05-15</td>\n",
       "      <td>18339.30078</td>\n",
       "      <td>18458.90039</td>\n",
       "      <td>18287.90039</td>\n",
       "      <td>18398.84961</td>\n",
       "      <td>18398.84961</td>\n",
       "      <td>216100</td>\n",
       "    </tr>\n",
       "    <tr>\n",
       "      <th>4</th>\n",
       "      <td>2023-05-16</td>\n",
       "      <td>18432.34961</td>\n",
       "      <td>18432.34961</td>\n",
       "      <td>18264.34961</td>\n",
       "      <td>18286.50000</td>\n",
       "      <td>18286.50000</td>\n",
       "      <td>219500</td>\n",
       "    </tr>\n",
       "  </tbody>\n",
       "</table>\n",
       "</div>"
      ],
      "text/plain": [
       "        date         open         high          low        close    adj close  \\\n",
       "0 2023-05-10  18313.59961  18326.75000  18211.94922  18315.09961  18315.09961   \n",
       "1 2023-05-11  18357.80078  18389.69922  18270.40039  18297.00000  18297.00000   \n",
       "2 2023-05-12  18273.75000  18342.75000  18194.55078  18314.80078  18314.80078   \n",
       "3 2023-05-15  18339.30078  18458.90039  18287.90039  18398.84961  18398.84961   \n",
       "4 2023-05-16  18432.34961  18432.34961  18264.34961  18286.50000  18286.50000   \n",
       "\n",
       "   volume  \n",
       "0  220500  \n",
       "1  248900  \n",
       "2  241700  \n",
       "3  216100  \n",
       "4  219500  "
      ]
     },
     "execution_count": 4,
     "metadata": {},
     "output_type": "execute_result"
    }
   ],
   "source": [
    "df['date'] = pd.to_datetime(df['date'], format=\"%d-%m-%Y\")\n",
    "df.head()"
   ]
  },
  {
   "cell_type": "code",
   "execution_count": 5,
   "id": "e85ca1de-e938-4681-afe4-a2140da41311",
   "metadata": {},
   "outputs": [
    {
     "data": {
      "text/html": [
       "<div>\n",
       "<style scoped>\n",
       "    .dataframe tbody tr th:only-of-type {\n",
       "        vertical-align: middle;\n",
       "    }\n",
       "\n",
       "    .dataframe tbody tr th {\n",
       "        vertical-align: top;\n",
       "    }\n",
       "\n",
       "    .dataframe thead th {\n",
       "        text-align: right;\n",
       "    }\n",
       "</style>\n",
       "<table border=\"1\" class=\"dataframe\">\n",
       "  <thead>\n",
       "    <tr style=\"text-align: right;\">\n",
       "      <th></th>\n",
       "      <th>date</th>\n",
       "      <th>open</th>\n",
       "      <th>high</th>\n",
       "      <th>low</th>\n",
       "      <th>close</th>\n",
       "      <th>adj close</th>\n",
       "      <th>volume</th>\n",
       "    </tr>\n",
       "  </thead>\n",
       "  <tbody>\n",
       "    <tr>\n",
       "      <th>0</th>\n",
       "      <td>2023-05-10</td>\n",
       "      <td>18313.59961</td>\n",
       "      <td>18326.75000</td>\n",
       "      <td>18211.94922</td>\n",
       "      <td>18315.09961</td>\n",
       "      <td>18315.09961</td>\n",
       "      <td>220500</td>\n",
       "    </tr>\n",
       "    <tr>\n",
       "      <th>1</th>\n",
       "      <td>2023-05-11</td>\n",
       "      <td>18357.80078</td>\n",
       "      <td>18389.69922</td>\n",
       "      <td>18270.40039</td>\n",
       "      <td>18297.00000</td>\n",
       "      <td>18297.00000</td>\n",
       "      <td>248900</td>\n",
       "    </tr>\n",
       "    <tr>\n",
       "      <th>2</th>\n",
       "      <td>2023-05-12</td>\n",
       "      <td>18273.75000</td>\n",
       "      <td>18342.75000</td>\n",
       "      <td>18194.55078</td>\n",
       "      <td>18314.80078</td>\n",
       "      <td>18314.80078</td>\n",
       "      <td>241700</td>\n",
       "    </tr>\n",
       "    <tr>\n",
       "      <th>3</th>\n",
       "      <td>2023-05-15</td>\n",
       "      <td>18339.30078</td>\n",
       "      <td>18458.90039</td>\n",
       "      <td>18287.90039</td>\n",
       "      <td>18398.84961</td>\n",
       "      <td>18398.84961</td>\n",
       "      <td>216100</td>\n",
       "    </tr>\n",
       "    <tr>\n",
       "      <th>4</th>\n",
       "      <td>2023-05-16</td>\n",
       "      <td>18432.34961</td>\n",
       "      <td>18432.34961</td>\n",
       "      <td>18264.34961</td>\n",
       "      <td>18286.50000</td>\n",
       "      <td>18286.50000</td>\n",
       "      <td>219500</td>\n",
       "    </tr>\n",
       "  </tbody>\n",
       "</table>\n",
       "</div>"
      ],
      "text/plain": [
       "        date         open         high          low        close    adj close  \\\n",
       "0 2023-05-10  18313.59961  18326.75000  18211.94922  18315.09961  18315.09961   \n",
       "1 2023-05-11  18357.80078  18389.69922  18270.40039  18297.00000  18297.00000   \n",
       "2 2023-05-12  18273.75000  18342.75000  18194.55078  18314.80078  18314.80078   \n",
       "3 2023-05-15  18339.30078  18458.90039  18287.90039  18398.84961  18398.84961   \n",
       "4 2023-05-16  18432.34961  18432.34961  18264.34961  18286.50000  18286.50000   \n",
       "\n",
       "   volume  \n",
       "0  220500  \n",
       "1  248900  \n",
       "2  241700  \n",
       "3  216100  \n",
       "4  219500  "
      ]
     },
     "execution_count": 5,
     "metadata": {},
     "output_type": "execute_result"
    }
   ],
   "source": [
    "df.sort_values(by='date', inplace=True)\n",
    "df.head()"
   ]
  },
  {
   "cell_type": "code",
   "execution_count": 6,
   "id": "f4fc9d96-8a6c-4a80-8d21-39deb6361922",
   "metadata": {},
   "outputs": [
    {
     "data": {
      "text/plain": [
       "(247, 7)"
      ]
     },
     "execution_count": 6,
     "metadata": {},
     "output_type": "execute_result"
    }
   ],
   "source": [
    "df.shape"
   ]
  },
  {
   "cell_type": "code",
   "execution_count": 7,
   "id": "47e8b4c2-9b1a-4735-9188-5e282d59b30a",
   "metadata": {
    "scrolled": true
   },
   "outputs": [
    {
     "name": "stdout",
     "output_type": "stream",
     "text": [
      "Starting date:  2023-05-10 00:00:00\n",
      "Ending date:  2024-05-10 00:00:00\n",
      "Duration:  366 days 00:00:00\n"
     ]
    },
    {
     "name": "stderr",
     "output_type": "stream",
     "text": [
      "C:\\Users\\divya\\AppData\\Local\\Temp\\ipykernel_20440\\2213194285.py:1: FutureWarning: Series.__getitem__ treating keys as positions is deprecated. In a future version, integer keys will always be treated as labels (consistent with DataFrame behavior). To access a value by position, use `ser.iloc[pos]`\n",
      "  print(\"Starting date: \",df.iloc[0][0])\n",
      "C:\\Users\\divya\\AppData\\Local\\Temp\\ipykernel_20440\\2213194285.py:2: FutureWarning: Series.__getitem__ treating keys as positions is deprecated. In a future version, integer keys will always be treated as labels (consistent with DataFrame behavior). To access a value by position, use `ser.iloc[pos]`\n",
      "  print(\"Ending date: \", df.iloc[-1][0])\n",
      "C:\\Users\\divya\\AppData\\Local\\Temp\\ipykernel_20440\\2213194285.py:3: FutureWarning: Series.__getitem__ treating keys as positions is deprecated. In a future version, integer keys will always be treated as labels (consistent with DataFrame behavior). To access a value by position, use `ser.iloc[pos]`\n",
      "  print(\"Duration: \", df.iloc[-1][0]-df.iloc[0][0])\n"
     ]
    }
   ],
   "source": [
    "print(\"Starting date: \",df.iloc[0][0])\n",
    "print(\"Ending date: \", df.iloc[-1][0])\n",
    "print(\"Duration: \", df.iloc[-1][0]-df.iloc[0][0])"
   ]
  },
  {
   "cell_type": "code",
   "execution_count": null,
   "id": "6a7b68c8-1097-4951-ad76-c71c5b791081",
   "metadata": {},
   "outputs": [],
   "source": []
  },
  {
   "cell_type": "code",
   "execution_count": 8,
   "id": "8c8ce6d6-6716-4264-8c6d-f76c32efe4c5",
   "metadata": {},
   "outputs": [
    {
     "name": "stdout",
     "output_type": "stream",
     "text": [
      "Shape of close dataframe: (247, 2)\n"
     ]
    }
   ],
   "source": [
    "closedf = df[['date','close']]\n",
    "print(\"Shape of close dataframe:\", closedf.shape)"
   ]
  },
  {
   "cell_type": "markdown",
   "id": "80719c30-93c2-4921-bf6a-987447c6510d",
   "metadata": {},
   "source": [
    "<div class=\"alert alert-success\">\n",
    "<b>Droping date column</b> \n",
    "</div>"
   ]
  },
  {
   "cell_type": "code",
   "execution_count": 9,
   "id": "86b95297-5a89-4d28-9b11-a669e050e93a",
   "metadata": {},
   "outputs": [
    {
     "name": "stdout",
     "output_type": "stream",
     "text": [
      "(247, 1)\n"
     ]
    }
   ],
   "source": [
    "\n",
    "close_stock = closedf.copy()\n",
    "del closedf['date']\n",
    "scaler=MinMaxScaler(feature_range=(0,1))\n",
    "closedf=scaler.fit_transform(np.array(closedf).reshape(-1,1))\n",
    "print(closedf.shape)"
   ]
  },
  {
   "cell_type": "markdown",
   "id": "1329b257-6339-4b5a-8367-284281fd3c73",
   "metadata": {},
   "source": [
    "<div class=\"alert alert-success\">\n",
    "<b>Splitting</b> \n",
    "</div>"
   ]
  },
  {
   "cell_type": "code",
   "execution_count": 10,
   "id": "c7749036-c0c1-4532-bcf3-d92c2f755684",
   "metadata": {},
   "outputs": [],
   "source": [
    "\n",
    "X = df[['open', 'high', 'low', 'volume', 'adj close']].values\n",
    "y = df['close'].values \n",
    "\n",
    "# Split into training and test set \n",
    "X_train, X_test, y_train, y_test = train_test_split( \n",
    "            X, y, test_size = 0.2, random_state=42) "
   ]
  },
  {
   "cell_type": "markdown",
   "id": "3c1f7a62-d835-45e5-8239-388bc5701c2e",
   "metadata": {},
   "source": [
    "<div class=\"alert alert-success\">\n",
    "<b>Scaling</b> \n",
    "</div>"
   ]
  },
  {
   "cell_type": "code",
   "execution_count": 11,
   "id": "d1a5b4cf-e53c-4ce3-b157-9858a90c7bbc",
   "metadata": {},
   "outputs": [],
   "source": [
    "# Define and fit the MinMaxScaler\n",
    "scaler = MinMaxScaler(feature_range=(0, 1))\n",
    "scaler.fit(X_train)\n",
    "\n",
    "# Transform training and testing data\n",
    "X_train_scaled = scaler.transform(X_train)\n",
    "X_test_scaled = scaler.transform(X_test)\n",
    "\n",
    "# Create and train the KNN model with scaled features\n",
    "knn = KNeighborsRegressor(n_neighbors=4)  \n",
    "knn.fit(X_train_scaled, y_train)\n",
    "\n",
    "# Make predictions on testing data\n",
    "y_pred = knn.predict(X_test_scaled)"
   ]
  },
  {
   "cell_type": "markdown",
   "id": "647e6ec6-96b1-467c-9049-1c87d22c0cf8",
   "metadata": {},
   "source": [
    "<div class=\"alert alert-success\">\n",
    "<b>Training KNN</b> \n",
    "</div>"
   ]
  },
  {
   "cell_type": "code",
   "execution_count": 12,
   "id": "50d239dd-0bf9-46ff-9e05-8cb068245dac",
   "metadata": {},
   "outputs": [
    {
     "data": {
      "image/png": "[encoded data removed]",
      "text/plain": [
       "<Figure size 640x480 with 1 Axes>"
      ]
     },
     "metadata": {},
     "output_type": "display_data"
    }
   ],
   "source": [
    "\n",
    "neighbors = np.arange(1, 9) \n",
    "train_accuracy = np.empty(len(neighbors)) \n",
    "test_accuracy = np.empty(len(neighbors)) \n",
    "\n",
    "# Loop over K values \n",
    "for i, k in enumerate(neighbors): \n",
    "    knn = KNeighborsRegressor(n_neighbors=k) \n",
    "    knn.fit(X_train, y_train) \n",
    "    \n",
    "    # Compute training and test data accuracy \n",
    "    train_accuracy[i] = knn.score(X_train, y_train) \n",
    "    test_accuracy[i] = knn.score(X_test, y_test) \n",
    "\n",
    "# Generate plot \n",
    "plt.plot(neighbors, test_accuracy, label = 'Testing dataset Accuracy') \n",
    "plt.plot(neighbors, train_accuracy, label = 'Training dataset Accuracy') \n",
    "\n",
    "plt.legend() \n",
    "plt.xlabel('n_neighbors') \n",
    "plt.ylabel('Accuracy') \n",
    "plt.show()\n"
   ]
  },
  {
   "cell_type": "markdown",
   "id": "43cc240b-4bb9-491f-ba39-741f146ce495",
   "metadata": {},
   "source": [
    "#### The ideal value of k for the model is in the range of 2-4 neighbors based on the graph. In this range, the test accuracy is high and isn't significantly increasing with more neighbors."
   ]
  },
  {
   "cell_type": "code",
   "execution_count": 13,
   "id": "258a31ee-3725-4ac2-988d-968eb556aded",
   "metadata": {},
   "outputs": [
    {
     "data": {
      "image/png": "[encoded data removed]",
      "text/plain": [
       "<Figure size 640x480 with 1 Axes>"
      ]
     },
     "metadata": {},
     "output_type": "display_data"
    }
   ],
   "source": [
    "# Define distance metrics to evaluate\n",
    "distance_metrics = ['euclidean', 'manhattan', 'minkowski']\n",
    "\n",
    "# Create empty arrays to store accuracy\n",
    "train_accuracy = np.empty(len(distance_metrics))\n",
    "test_accuracy = np.empty(len(distance_metrics))\n",
    "\n",
    "# Loop over distance metrics\n",
    "for i, metric in enumerate(distance_metrics):\n",
    "  knn = KNeighborsRegressor(n_neighbors=5, metric=metric)  # n_neighbors=5 based on previous analysis\n",
    "  knn.fit(X_train, y_train)\n",
    "\n",
    "  # Compute training and test data accuracy\n",
    "  train_accuracy[i] = knn.score(X_train, y_train)\n",
    "  test_accuracy[i] = knn.score(X_test, y_test)\n",
    "\n",
    "# Generate plot (similar to previous code)\n",
    "plt.plot(distance_metrics, test_accuracy, label='Testing dataset Accuracy')\n",
    "plt.plot(distance_metrics, train_accuracy, label='Training dataset Accuracy')\n",
    "plt.legend()\n",
    "plt.xlabel('Distance Metric')\n",
    "plt.ylabel('Accuracy')\n",
    "plt.show()\n"
   ]
  },
  {
   "cell_type": "markdown",
   "id": "3d9f2f56-9e1e-4801-bb2d-8d6d89ac8d16",
   "metadata": {},
   "source": [
    "#### Based on the graph, a good choice for the number of neighbors (k) in the range of 2-4. In this range, the test accuracy is high and isn't significantly increasing with more neighbors. This suggests the model is not overfitting the training data"
   ]
  },
  {
   "cell_type": "markdown",
   "id": "569d985e-504a-435c-8bcf-f4d25516ec41",
   "metadata": {},
   "source": [
    "<div class=\"alert alert-success\">\n",
    "<b>Evaluation</b> \n",
    "</div>"
   ]
  },
  {
   "cell_type": "code",
   "execution_count": 14,
   "id": "6f0b1847-6cf3-49b3-b50c-d52c9d025ef5",
   "metadata": {},
   "outputs": [
    {
     "name": "stdout",
     "output_type": "stream",
     "text": [
      "Mean Absolute Error (MAE): 56.57039040000032\n",
      "Mean Squared Error (MSE): 9807.328176071702\n",
      "R-squared: 0.9958339375137107\n"
     ]
    }
   ],
   "source": [
    "from sklearn.preprocessing import MinMaxScaler\n",
    "from sklearn.neighbors import KNeighborsRegressor\n",
    "from sklearn.metrics import mean_absolute_error, mean_squared_error, r2_score\n",
    "\n",
    "# Calculate multiple error metrics\n",
    "mae = mean_absolute_error(y_test, y_pred)\n",
    "mse = mean_squared_error(y_test, y_pred)\n",
    "r2 = r2_score(y_test, y_pred)\n",
    "\n",
    "# Print the metrics\n",
    "print(\"Mean Absolute Error (MAE):\", mae)\n",
    "print(\"Mean Squared Error (MSE):\", mse)\n",
    "print(\"R-squared:\", r2)\n"
   ]
  },
  {
   "cell_type": "code",
   "execution_count": 15,
   "id": "c8284363-3a73-4af0-b279-612dc097710e",
   "metadata": {},
   "outputs": [
    {
     "data": {
      "image/png": "[encoded data removed]",
      "text/plain": [
       "<Figure size 800x600 with 1 Axes>"
      ]
     },
     "metadata": {},
     "output_type": "display_data"
    }
   ],
   "source": [
    "from sklearn.model_selection import KFold\n",
    "from sklearn.neighbors import KNeighborsRegressor\n",
    "from sklearn.metrics import mean_absolute_error\n",
    "\n",
    "# Assuming you already have your data loaded into X_train and y_train\n",
    "\n",
    "# Define the number of folds for cross-validation (e.g., 5)\n",
    "kfold = KFold(n_splits=5, shuffle=True, random_state=42)\n",
    "\n",
    "# Define a range of n_neighbors values to explore\n",
    "n_neighbors_range = range(1, 21)  # Adjust the range as needed\n",
    "\n",
    "# Store results (average MAE for each n_neighbors value)\n",
    "mae_scores = []\n",
    "\n",
    "# Loop through different n_neighbors values\n",
    "for n_neighbors in n_neighbors_range:\n",
    "  # Create a KNeighborsRegressor object for each n_neighbors value\n",
    "  knn = KNeighborsRegressor(n_neighbors=n_neighbors)\n",
    "\n",
    "  # Initialize total MAE for this n_neighbors value\n",
    "  total_mae = 0\n",
    "\n",
    "  # Iterate through folds (using kfold.split directly)\n",
    "  for train_index, test_index in kfold.split(X_train):\n",
    "    # Split data into training and testing sets for this fold\n",
    "    X_train_fold, X_test_fold = X_train[train_index], X_train[test_index]\n",
    "    y_train_fold, y_test_fold = y_train[train_index], y_train[test_index]\n",
    "\n",
    "    # Train the model on the fold's training data\n",
    "    knn.fit(X_train_fold, y_train_fold)\n",
    "\n",
    "    # Make predictions on the fold's testing data\n",
    "    y_pred = knn.predict(X_test_fold)\n",
    "\n",
    "    # Calculate MAE for this fold\n",
    "    fold_mae = mean_absolute_error(y_test_fold, y_pred)\n",
    "\n",
    "    # Add fold's MAE to the total MAE for this n_neighbors value\n",
    "    total_mae += fold_mae\n",
    "\n",
    "  # **Calculate average MAE using the number of folds in kfold**\n",
    "  average_mae = total_mae / kfold.n_splits  # Use kfold.n_splits for number of folds\n",
    "\n",
    "  # Store the average MAE for this n_neighbors value\n",
    "  mae_scores.append(average_mae)\n",
    "plt.figure(figsize=(8, 6))  # Adjust figure size as needed\n",
    "plt.plot(n_neighbors_range, mae_scores, marker='o', linestyle='-')\n",
    "plt.xlabel('Number of Neighbors (k)')\n",
    "plt.ylabel('Average Mean Absolute Error (MAE)')\n",
    "plt.title('KNN Model Performance with Feature Scaling (Cross-Validation)')\n",
    "plt.grid(True)\n",
    "\n",
    "# Show the plot\n",
    "plt.show()"
   ]
  },
  {
   "cell_type": "code",
   "execution_count": null,
   "id": "9a61a926-b17e-4ff4-ad2d-b0935e0ddb25",
   "metadata": {},
   "outputs": [],
   "source": []
  }
 ],
 "metadata": {
  "kernelspec": {
   "display_name": "Python 3 (ipykernel)",
   "language": "python",
   "name": "python3"
  },
  "language_info": {
   "codemirror_mode": {
    "name": "ipython",
    "version": 3
   },
   "file_extension": ".py",
   "mimetype": "text/x-python",
   "name": "python",
   "nbconvert_exporter": "python",
   "pygments_lexer": "ipython3",
   "version": "3.11.5"
  }
 },
 "nbformat": 4,
 "nbformat_minor": 5
}
